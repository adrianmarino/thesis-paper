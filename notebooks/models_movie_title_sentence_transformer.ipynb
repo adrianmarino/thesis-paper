{
 "cells": [
  {
   "cell_type": "markdown",
   "id": "0417277b-47df-4113-a7b3-8f960db06f1d",
   "metadata": {
    "tags": []
   },
   "source": [
    "# Models: Movie Title Sentence Transformer"
   ]
  },
  {
   "cell_type": "code",
   "execution_count": 27,
   "id": "8dde5e70-5b86-460f-8791-20fcb554c378",
   "metadata": {},
   "outputs": [
    {
     "name": "stdout",
     "output_type": "stream",
     "text": [
      "The autoreload extension is already loaded. To reload it, use:\n",
      "  %reload_ext autoreload\n"
     ]
    }
   ],
   "source": [
    "%load_ext autoreload\n",
    "%autoreload 2"
   ]
  },
  {
   "cell_type": "code",
   "execution_count": 28,
   "id": "f98e7bf4-f41a-43f6-b7b7-a991d00f82de",
   "metadata": {},
   "outputs": [],
   "source": [
    "import sys\n",
    "sys.path.append('../lib')\n",
    "\n",
    "import numpy as np\n",
    "import pandas as pd\n",
    "import torch\n",
    "\n",
    "import pytorch_common.util as pu\n",
    "from pytorch_common.util import set_device_name, \\\n",
    "                                get_device, \\\n",
    "                                LoggerBuilder\n",
    "\n",
    "import model as ml\n",
    "import data as dt\n",
    "import data.dataset as ds\n",
    "\n",
    "import data.plot as pl\n",
    "import data as dt\n",
    "\n",
    "import random\n",
    "\n",
    "import recommender as rc"
   ]
  },
  {
   "cell_type": "markdown",
   "id": "40c1da33-a8da-47c9-b174-0b0885b05b50",
   "metadata": {},
   "source": [
    "## Setup"
   ]
  },
  {
   "cell_type": "code",
   "execution_count": 29,
   "id": "e60a3838-9787-411d-b9f1-8a942321cbb1",
   "metadata": {},
   "outputs": [
    {
     "data": {
      "text/html": [
       "<pre style=\"white-space:pre;overflow-x:auto;line-height:normal;font-family:Menlo,'DejaVu Sans Mono',consolas,'Courier New',monospace\"><span style=\"font-weight: bold\">&lt;</span><span style=\"color: #ff00ff; text-decoration-color: #ff00ff; font-weight: bold\">RootLogger</span><span style=\"color: #000000; text-decoration-color: #000000\"> root </span><span style=\"color: #000000; text-decoration-color: #000000; font-weight: bold\">(</span><span style=\"color: #000000; text-decoration-color: #000000\">INFO</span><span style=\"color: #000000; text-decoration-color: #000000; font-weight: bold\">)</span><span style=\"font-weight: bold\">&gt;</span>\n",
       "</pre>\n"
      ],
      "text/plain": [
       "\u001b[1m<\u001b[0m\u001b[1;95mRootLogger\u001b[0m\u001b[39m root \u001b[0m\u001b[1;39m(\u001b[0m\u001b[39mINFO\u001b[0m\u001b[1;39m)\u001b[0m\u001b[1m>\u001b[0m\n"
      ]
     },
     "metadata": {},
     "output_type": "display_data"
    }
   ],
   "source": [
    "pu.LoggerBuilder().on_console().build()"
   ]
  },
  {
   "cell_type": "code",
   "execution_count": 30,
   "id": "9fd7574f-043a-4fc3-8ab8-bfd55b6a92d8",
   "metadata": {},
   "outputs": [],
   "source": [
    "pu.set_device_name('gpu')"
   ]
  },
  {
   "cell_type": "code",
   "execution_count": 31,
   "id": "bad1a1e0-b35e-4b40-ab06-beae8fbb244a",
   "metadata": {},
   "outputs": [
    {
     "data": {
      "text/html": [
       "<pre style=\"white-space:pre;overflow-x:auto;line-height:normal;font-family:Menlo,'DejaVu Sans Mono',consolas,'Courier New',monospace\"><span style=\"color: #800080; text-decoration-color: #800080; font-weight: bold\">device</span><span style=\"font-weight: bold\">(</span><span style=\"color: #808000; text-decoration-color: #808000\">type</span>=<span style=\"color: #008000; text-decoration-color: #008000\">'cuda'</span>, <span style=\"color: #808000; text-decoration-color: #808000\">index</span>=<span style=\"color: #008080; text-decoration-color: #008080; font-weight: bold\">0</span><span style=\"font-weight: bold\">)</span>\n",
       "</pre>\n"
      ],
      "text/plain": [
       "\u001b[1;35mdevice\u001b[0m\u001b[1m(\u001b[0m\u001b[33mtype\u001b[0m=\u001b[32m'cuda'\u001b[0m, \u001b[33mindex\u001b[0m=\u001b[1;36m0\u001b[0m\u001b[1m)\u001b[0m\n"
      ]
     },
     "metadata": {},
     "output_type": "display_data"
    }
   ],
   "source": [
    "pu.get_device()"
   ]
  },
  {
   "cell_type": "code",
   "execution_count": 32,
   "id": "f956317d-0e48-4518-a219-51700d272b5b",
   "metadata": {},
   "outputs": [],
   "source": [
    "cpu = torch.device(\"cpu\")\n",
    "gpu = pu.get_device()"
   ]
  },
  {
   "cell_type": "code",
   "execution_count": 33,
   "id": "d1ba7b0b-b5d8-47ec-8995-642b7b21e6d2",
   "metadata": {},
   "outputs": [
    {
     "data": {
      "text/html": [
       "<pre style=\"white-space:pre;overflow-x:auto;line-height:normal;font-family:Menlo,'DejaVu Sans Mono',consolas,'Courier New',monospace\"><span style=\"color: #00ff00; text-decoration-color: #00ff00; font-style: italic\">True</span>\n",
       "</pre>\n"
      ],
      "text/plain": [
       "\u001b[3;92mTrue\u001b[0m\n"
      ]
     },
     "metadata": {},
     "output_type": "display_data"
    }
   ],
   "source": [
    "torch.cuda.is_available()"
   ]
  },
  {
   "cell_type": "code",
   "execution_count": 34,
   "id": "21fa4041-5682-4332-b139-6aca63d05ea0",
   "metadata": {},
   "outputs": [
    {
     "data": {
      "text/html": [
       "<pre style=\"white-space:pre;overflow-x:auto;line-height:normal;font-family:Menlo,'DejaVu Sans Mono',consolas,'Courier New',monospace\"><span style=\"color: #008000; text-decoration-color: #008000\">'1.11.0'</span>\n",
       "</pre>\n"
      ],
      "text/plain": [
       "\u001b[32m'1.11.0'\u001b[0m\n"
      ]
     },
     "metadata": {},
     "output_type": "display_data"
    }
   ],
   "source": [
    "torch.__version__"
   ]
  },
  {
   "cell_type": "code",
   "execution_count": 35,
   "id": "b5fb890c-e080-4efc-9fc1-08921ae2465f",
   "metadata": {},
   "outputs": [],
   "source": [
    "def set_seed(value):\n",
    "    random.seed(value)\n",
    "    np.random.seed(value)\n",
    "    torch.manual_seed(value)"
   ]
  },
  {
   "cell_type": "code",
   "execution_count": 36,
   "id": "72f9d948-5300-4141-8fbc-4423669b2c58",
   "metadata": {},
   "outputs": [],
   "source": [
    "set_seed(42)"
   ]
  },
  {
   "cell_type": "code",
   "execution_count": 37,
   "id": "dc8ad985-d735-403f-a255-32c3eac6568e",
   "metadata": {},
   "outputs": [],
   "source": [
    "FIELD = 'title'\n",
    "EMBEDDING_PATH = f'../datasets/movie_{FIELD}_embedding_bert.json'"
   ]
  },
  {
   "cell_type": "markdown",
   "id": "b8334d07-f306-42b4-8ea1-cc27b82eb343",
   "metadata": {},
   "source": [
    "## Carga de dataset"
   ]
  },
  {
   "cell_type": "code",
   "execution_count": 38,
   "id": "c34c660c-4802-498a-81b7-07bed14de07f",
   "metadata": {},
   "outputs": [
    {
     "name": "stdout",
     "output_type": "stream",
     "text": [
      "<class 'pandas.core.frame.DataFrame'>\n",
      "Int64Index: 191540 entries, 0 to 191539\n",
      "Data columns (total 15 columns):\n",
      " #   Column                       Non-Null Count   Dtype         \n",
      "---  ------                       --------------   -----         \n",
      " 0   user_id                      191540 non-null  int64         \n",
      " 1   user_seq                     191540 non-null  int64         \n",
      " 2   user_movie_tags              191540 non-null  object        \n",
      " 3   user_movie_rating            191540 non-null  int64         \n",
      " 4   user_movie_rating_timestamp  191540 non-null  datetime64[ns]\n",
      " 5   user_movie_rating_year       191540 non-null  int64         \n",
      " 6   movie_id                     191540 non-null  int64         \n",
      " 7   movie_seq                    191540 non-null  int64         \n",
      " 8   movie_title                  191540 non-null  string        \n",
      " 9   movie_genres                 191540 non-null  object        \n",
      " 10  movie_for_adults             191540 non-null  bool          \n",
      " 11  movie_original_language      191540 non-null  string        \n",
      " 12  movie_overview               191540 non-null  string        \n",
      " 13  movie_tags                   191540 non-null  object        \n",
      " 14  movie_release_year           191540 non-null  int64         \n",
      "dtypes: bool(1), datetime64[ns](1), int64(7), object(3), string(3)\n",
      "memory usage: 22.1+ MB\n"
     ]
    }
   ],
   "source": [
    "def to_tensor(obs, device, columns): \n",
    "    data = obs[columns]\n",
    "    if type(data) == pd.DataFrame:\n",
    "        data = data.values\n",
    "    return torch.tensor(data).to(device)\n",
    "\n",
    "transform_fn = lambda obs, device: to_tensor(obs, device, [f'movie_{FIELD}'])\n",
    "\n",
    "dataset = ds.MovieLensTMDBDatasetFactory.from_path(\n",
    "    transform        = transform_fn,\n",
    "    target_transform = transform_fn,\n",
    "    device           = cpu,\n",
    "    filter_fn        = lambda df: df[(df['user_movie_rating_year'] >= 2005) & (df['user_movie_rating_year'] <= 2019)]\n",
    ")\n",
    "dataset.info"
   ]
  },
  {
   "cell_type": "markdown",
   "id": "7feb7663-3aba-4e98-8421-bfb69efd5486",
   "metadata": {},
   "source": [
    "Select movies overview and add new curated tokens column:"
   ]
  },
  {
   "cell_type": "code",
   "execution_count": 40,
   "id": "1a181992-3b3a-47e0-8cc0-a4f80485e214",
   "metadata": {},
   "outputs": [
    {
     "name": "stdout",
     "output_type": "stream",
     "text": [
      "<class 'pandas.core.frame.DataFrame'>\n",
      "RangeIndex: 18515 entries, 0 to 18514\n",
      "Data columns (total 4 columns):\n",
      " #   Column              Non-Null Count  Dtype \n",
      "---  ------              --------------  ----- \n",
      " 0   id                  18515 non-null  int64 \n",
      " 1   movie_release_year  18515 non-null  int64 \n",
      " 2   title               18515 non-null  string\n",
      " 3   title_tokens        18515 non-null  object\n",
      "dtypes: int64(2), object(1), string(1)\n",
      "memory usage: 578.7+ KB\n"
     ]
    }
   ],
   "source": [
    "columns = ['movie_id', 'movie_release_year', f'movie_{FIELD}']\n",
    "\n",
    "movie_data = dataset \\\n",
    "    .data \\\n",
    "    .pipe(dt.select, columns) \\\n",
    "    .pipe(dt.distinct, ['movie_id']) \\\n",
    "    .pipe(dt.rename, {\n",
    "        'movie_id': 'id', \n",
    "        'movie_title': 'title', \n",
    "        f'movie_{FIELD}': FIELD\n",
    "    }) \\\n",
    "    .pipe(dt.tokenize, FIELD) \\\n",
    "    .pipe(dt.reset_index)\n",
    "\n",
    "movie_data.info()"
   ]
  },
  {
   "cell_type": "markdown",
   "id": "c81ebd42-69d1-4c70-86bd-21fdf655ea17",
   "metadata": {
    "tags": []
   },
   "source": [
    "## Definicion del modelo"
   ]
  },
  {
   "cell_type": "code",
   "execution_count": 41,
   "id": "1fd7ac7d-5405-4c31-b948-025d498aab74",
   "metadata": {},
   "outputs": [
    {
     "name": "stderr",
     "output_type": "stream",
     "text": [
      "2022-07-25 22:11:37,175 - INFO - Load pretrained SentenceTransformer: all-mpnet-base-v2\n",
      "2022-07-25 22:11:37,175 - INFO - Load pretrained SentenceTransformer: all-mpnet-base-v2\n",
      "2022-07-25 22:11:37,659 - INFO - Use pytorch device: cuda\n",
      "2022-07-25 22:11:37,659 - INFO - Use pytorch device: cuda\n"
     ]
    }
   ],
   "source": [
    "from sentence_transformers import SentenceTransformer\n",
    "\n",
    "# 'all-MiniLM-L6-v2'\n",
    "# 'bert-base-nli-mean-tokens'\n",
    "\n",
    "sbert_model = SentenceTransformer('all-mpnet-base-v2')"
   ]
  },
  {
   "cell_type": "markdown",
   "id": "5f73b173-49dd-4995-a80f-51c24d4a10f8",
   "metadata": {},
   "source": [
    "## Generacion de embeddings"
   ]
  },
  {
   "cell_type": "code",
   "execution_count": 42,
   "id": "38f65cff-be8b-42db-ae06-6ca24b017b98",
   "metadata": {},
   "outputs": [
    {
     "data": {
      "application/vnd.jupyter.widget-view+json": {
       "model_id": "5ba0cc9adece4d5f8ba533c25c4f34f4",
       "version_major": 2,
       "version_minor": 0
      },
      "text/plain": [
       "Batches:   0%|          | 0/579 [00:00<?, ?it/s]"
      ]
     },
     "metadata": {},
     "output_type": "display_data"
    },
    {
     "name": "stdout",
     "output_type": "stream",
     "text": [
      "<class 'pandas.core.frame.DataFrame'>\n",
      "RangeIndex: 18515 entries, 0 to 18514\n",
      "Data columns (total 5 columns):\n",
      " #   Column              Non-Null Count  Dtype \n",
      "---  ------              --------------  ----- \n",
      " 0   id                  18515 non-null  int64 \n",
      " 1   movie_release_year  18515 non-null  int64 \n",
      " 2   title               18515 non-null  string\n",
      " 3   title_tokens        18515 non-null  object\n",
      " 4   title_embedding     18515 non-null  object\n",
      "dtypes: int64(2), object(2), string(1)\n",
      "memory usage: 723.4+ KB\n"
     ]
    }
   ],
   "source": [
    "embeddings = sbert_model.encode(movie_data[[FIELD]].values.reshape(-1))\n",
    "\n",
    "movie_data = movie_data \\\n",
    "    .pipe(dt.append_emb_vectors, embeddings, FIELD)\n",
    "\n",
    "movie_data.to_json(EMBEDDING_PATH)\n",
    "movie_data.info()"
   ]
  },
  {
   "cell_type": "markdown",
   "id": "d43c9369-047c-45ea-863c-304319bc63f0",
   "metadata": {
    "tags": []
   },
   "source": [
    "## Evaluación"
   ]
  },
  {
   "cell_type": "code",
   "execution_count": 43,
   "id": "1e04ad95-6bb9-4949-a86b-27db881d26bf",
   "metadata": {},
   "outputs": [
    {
     "data": {
      "text/html": [
       "<pre style=\"white-space:pre;overflow-x:auto;line-height:normal;font-family:Menlo,'DejaVu Sans Mono',consolas,'Courier New',monospace\"><span style=\"color: #008000; text-decoration-color: #008000\">'title'</span>\n",
       "</pre>\n"
      ],
      "text/plain": [
       "\u001b[32m'title'\u001b[0m\n"
      ]
     },
     "metadata": {},
     "output_type": "display_data"
    }
   ],
   "source": [
    "FIELD"
   ]
  },
  {
   "cell_type": "code",
   "execution_count": 44,
   "id": "3d504a7a-a784-40ca-9f27-f640cbfcd45c",
   "metadata": {},
   "outputs": [
    {
     "data": {
      "text/html": [
       "<pre style=\"white-space:pre;overflow-x:auto;line-height:normal;font-family:Menlo,'DejaVu Sans Mono',consolas,'Courier New',monospace\"><span style=\"color: #008000; text-decoration-color: #008000\">'../datasets/movie_title_embedding_bert.json'</span>\n",
       "</pre>\n"
      ],
      "text/plain": [
       "\u001b[32m'../datasets/movie_title_embedding_bert.json'\u001b[0m\n"
      ]
     },
     "metadata": {},
     "output_type": "display_data"
    }
   ],
   "source": [
    "EMBEDDING_PATH"
   ]
  },
  {
   "cell_type": "code",
   "execution_count": 45,
   "id": "97c2fe32-8f7b-4e7b-b2f1-93aadb006737",
   "metadata": {},
   "outputs": [
    {
     "data": {
      "application/vnd.jupyter.widget-view+json": {
       "model_id": "50c3d66b6433434887119c7b306bd9ea",
       "version_major": 2,
       "version_minor": 0
      },
      "text/plain": [
       "Building Distances Matrix:   0%|          | 0/18515 [00:00<?, ?it/s]"
      ]
     },
     "metadata": {},
     "output_type": "display_data"
    }
   ],
   "source": [
    "recommender = rc.DistanceMatrixRecommender(\n",
    "    df      = pd.read_json(EMBEDDING_PATH),\n",
    "    column  = f'{FIELD}_embedding', \n",
    "    device  = get_device()\n",
    ")"
   ]
  },
  {
   "cell_type": "code",
   "execution_count": 46,
   "id": "a6612f71-c8f0-44ab-9a96-0b2f18deb16b",
   "metadata": {},
   "outputs": [
    {
     "name": "stdout",
     "output_type": "stream",
     "text": [
      "\n",
      "Recommender: title\n",
      "Item\n"
     ]
    },
    {
     "data": {
      "text/html": [
       "<div>\n",
       "<style scoped>\n",
       "    .dataframe tbody tr th:only-of-type {\n",
       "        vertical-align: middle;\n",
       "    }\n",
       "\n",
       "    .dataframe tbody tr th {\n",
       "        vertical-align: top;\n",
       "    }\n",
       "\n",
       "    .dataframe thead th {\n",
       "        text-align: right;\n",
       "    }\n",
       "</style>\n",
       "<table border=\"1\" class=\"dataframe\">\n",
       "  <thead>\n",
       "    <tr style=\"text-align: right;\">\n",
       "      <th></th>\n",
       "      <th>id</th>\n",
       "      <th>title</th>\n",
       "    </tr>\n",
       "  </thead>\n",
       "  <tbody>\n",
       "    <tr>\n",
       "      <th>0</th>\n",
       "      <td>1</td>\n",
       "      <td>Toy Story</td>\n",
       "    </tr>\n",
       "  </tbody>\n",
       "</table>\n",
       "</div>"
      ]
     },
     "metadata": {},
     "output_type": "display_data"
    },
    {
     "name": "stdout",
     "output_type": "stream",
     "text": [
      "Recommendations\n"
     ]
    },
    {
     "data": {
      "text/html": [
       "<div>\n",
       "<style scoped>\n",
       "    .dataframe tbody tr th:only-of-type {\n",
       "        vertical-align: middle;\n",
       "    }\n",
       "\n",
       "    .dataframe tbody tr th {\n",
       "        vertical-align: top;\n",
       "    }\n",
       "\n",
       "    .dataframe thead th {\n",
       "        text-align: right;\n",
       "    }\n",
       "</style>\n",
       "<table border=\"1\" class=\"dataframe\">\n",
       "  <thead>\n",
       "    <tr style=\"text-align: right;\">\n",
       "      <th></th>\n",
       "      <th>index</th>\n",
       "      <th>distance</th>\n",
       "      <th>id</th>\n",
       "      <th>title</th>\n",
       "      <th>title</th>\n",
       "    </tr>\n",
       "  </thead>\n",
       "  <tbody>\n",
       "    <tr>\n",
       "      <th>0</th>\n",
       "      <td>0</td>\n",
       "      <td>0.000000</td>\n",
       "      <td>1</td>\n",
       "      <td>Toy Story</td>\n",
       "      <td>Toy Story</td>\n",
       "    </tr>\n",
       "    <tr>\n",
       "      <th>1</th>\n",
       "      <td>2</td>\n",
       "      <td>0.066865</td>\n",
       "      <td>3114</td>\n",
       "      <td>Toy Story 2</td>\n",
       "      <td>Toy Story 2</td>\n",
       "    </tr>\n",
       "    <tr>\n",
       "      <th>2</th>\n",
       "      <td>19</td>\n",
       "      <td>0.080091</td>\n",
       "      <td>78499</td>\n",
       "      <td>Toy Story 3</td>\n",
       "      <td>Toy Story 3</td>\n",
       "    </tr>\n",
       "    <tr>\n",
       "      <th>3</th>\n",
       "      <td>9675</td>\n",
       "      <td>0.186109</td>\n",
       "      <td>120474</td>\n",
       "      <td>Toy Story That Time Forgot</td>\n",
       "      <td>Toy Story That Time Forgot</td>\n",
       "    </tr>\n",
       "    <tr>\n",
       "      <th>4</th>\n",
       "      <td>8306</td>\n",
       "      <td>0.207970</td>\n",
       "      <td>106022</td>\n",
       "      <td>Toy Story of Terror</td>\n",
       "      <td>Toy Story of Terror</td>\n",
       "    </tr>\n",
       "    <tr>\n",
       "      <th>5</th>\n",
       "      <td>1625</td>\n",
       "      <td>0.249158</td>\n",
       "      <td>5843</td>\n",
       "      <td>Toy Soldiers</td>\n",
       "      <td>Toy Soldiers</td>\n",
       "    </tr>\n",
       "    <tr>\n",
       "      <th>6</th>\n",
       "      <td>25</td>\n",
       "      <td>0.255685</td>\n",
       "      <td>108932</td>\n",
       "      <td>The Lego Movie</td>\n",
       "      <td>The Lego Movie</td>\n",
       "    </tr>\n",
       "    <tr>\n",
       "      <th>7</th>\n",
       "      <td>9001</td>\n",
       "      <td>0.305101</td>\n",
       "      <td>3086</td>\n",
       "      <td>Babes in Toyland</td>\n",
       "      <td>Babes in Toyland</td>\n",
       "    </tr>\n",
       "    <tr>\n",
       "      <th>8</th>\n",
       "      <td>5139</td>\n",
       "      <td>0.305126</td>\n",
       "      <td>2017</td>\n",
       "      <td>Babes in Toyland</td>\n",
       "      <td>Babes in Toyland</td>\n",
       "    </tr>\n",
       "    <tr>\n",
       "      <th>9</th>\n",
       "      <td>46</td>\n",
       "      <td>0.313763</td>\n",
       "      <td>356</td>\n",
       "      <td>Forrest Gump</td>\n",
       "      <td>Forrest Gump</td>\n",
       "    </tr>\n",
       "    <tr>\n",
       "      <th>10</th>\n",
       "      <td>2183</td>\n",
       "      <td>0.315276</td>\n",
       "      <td>97913</td>\n",
       "      <td>Wreck-It Ralph</td>\n",
       "      <td>Wreck-It Ralph</td>\n",
       "    </tr>\n",
       "    <tr>\n",
       "      <th>11</th>\n",
       "      <td>2372</td>\n",
       "      <td>0.322137</td>\n",
       "      <td>142997</td>\n",
       "      <td>Hotel Transylvania 2</td>\n",
       "      <td>Hotel Transylvania 2</td>\n",
       "    </tr>\n",
       "    <tr>\n",
       "      <th>12</th>\n",
       "      <td>3363</td>\n",
       "      <td>0.328591</td>\n",
       "      <td>43869</td>\n",
       "      <td>Curious George</td>\n",
       "      <td>Curious George</td>\n",
       "    </tr>\n",
       "    <tr>\n",
       "      <th>13</th>\n",
       "      <td>3397</td>\n",
       "      <td>0.338075</td>\n",
       "      <td>49274</td>\n",
       "      <td>Happy Feet</td>\n",
       "      <td>Happy Feet</td>\n",
       "    </tr>\n",
       "    <tr>\n",
       "      <th>14</th>\n",
       "      <td>6378</td>\n",
       "      <td>0.342054</td>\n",
       "      <td>91386</td>\n",
       "      <td>Happy Feet Two</td>\n",
       "      <td>Happy Feet Two</td>\n",
       "    </tr>\n",
       "    <tr>\n",
       "      <th>15</th>\n",
       "      <td>6342</td>\n",
       "      <td>0.345989</td>\n",
       "      <td>87876</td>\n",
       "      <td>Cars 2</td>\n",
       "      <td>Cars 2</td>\n",
       "    </tr>\n",
       "    <tr>\n",
       "      <th>16</th>\n",
       "      <td>1822</td>\n",
       "      <td>0.347948</td>\n",
       "      <td>30793</td>\n",
       "      <td>Charlie and the Chocolate Factory</td>\n",
       "      <td>Charlie and the Chocolate Factory</td>\n",
       "    </tr>\n",
       "    <tr>\n",
       "      <th>17</th>\n",
       "      <td>1509</td>\n",
       "      <td>0.352439</td>\n",
       "      <td>4388</td>\n",
       "      <td>Scary Movie 2</td>\n",
       "      <td>Scary Movie 2</td>\n",
       "    </tr>\n",
       "    <tr>\n",
       "      <th>18</th>\n",
       "      <td>5175</td>\n",
       "      <td>0.354305</td>\n",
       "      <td>2399</td>\n",
       "      <td>Santa Claus: The Movie</td>\n",
       "      <td>Santa Claus: The Movie</td>\n",
       "    </tr>\n",
       "    <tr>\n",
       "      <th>19</th>\n",
       "      <td>1071</td>\n",
       "      <td>0.356064</td>\n",
       "      <td>586</td>\n",
       "      <td>Home Alone</td>\n",
       "      <td>Home Alone</td>\n",
       "    </tr>\n",
       "    <tr>\n",
       "      <th>20</th>\n",
       "      <td>3267</td>\n",
       "      <td>0.358168</td>\n",
       "      <td>6888</td>\n",
       "      <td>Scary Movie 3</td>\n",
       "      <td>Scary Movie 3</td>\n",
       "    </tr>\n",
       "    <tr>\n",
       "      <th>21</th>\n",
       "      <td>2954</td>\n",
       "      <td>0.359182</td>\n",
       "      <td>78637</td>\n",
       "      <td>Shrek Forever After</td>\n",
       "      <td>Shrek Forever After</td>\n",
       "    </tr>\n",
       "    <tr>\n",
       "      <th>22</th>\n",
       "      <td>1851</td>\n",
       "      <td>0.363717</td>\n",
       "      <td>35347</td>\n",
       "      <td>Animal Farm</td>\n",
       "      <td>Animal Farm</td>\n",
       "    </tr>\n",
       "    <tr>\n",
       "      <th>23</th>\n",
       "      <td>10939</td>\n",
       "      <td>0.363782</td>\n",
       "      <td>140397</td>\n",
       "      <td>Animal Farm</td>\n",
       "      <td>Animal Farm</td>\n",
       "    </tr>\n",
       "    <tr>\n",
       "      <th>24</th>\n",
       "      <td>1550</td>\n",
       "      <td>0.364306</td>\n",
       "      <td>4718</td>\n",
       "      <td>American Pie 2</td>\n",
       "      <td>American Pie 2</td>\n",
       "    </tr>\n",
       "    <tr>\n",
       "      <th>25</th>\n",
       "      <td>4444</td>\n",
       "      <td>0.366514</td>\n",
       "      <td>83219</td>\n",
       "      <td>Pixar Story, The</td>\n",
       "      <td>Pixar Story, The</td>\n",
       "    </tr>\n",
       "    <tr>\n",
       "      <th>26</th>\n",
       "      <td>3590</td>\n",
       "      <td>0.366621</td>\n",
       "      <td>170957</td>\n",
       "      <td>Cars 3</td>\n",
       "      <td>Cars 3</td>\n",
       "    </tr>\n",
       "    <tr>\n",
       "      <th>27</th>\n",
       "      <td>3449</td>\n",
       "      <td>0.368813</td>\n",
       "      <td>1707</td>\n",
       "      <td>Home Alone 3</td>\n",
       "      <td>Home Alone 3</td>\n",
       "    </tr>\n",
       "    <tr>\n",
       "      <th>28</th>\n",
       "      <td>1287</td>\n",
       "      <td>0.370601</td>\n",
       "      <td>2423</td>\n",
       "      <td>Christmas Vacation</td>\n",
       "      <td>Christmas Vacation</td>\n",
       "    </tr>\n",
       "    <tr>\n",
       "      <th>29</th>\n",
       "      <td>30</td>\n",
       "      <td>0.370752</td>\n",
       "      <td>152081</td>\n",
       "      <td>Zootopia</td>\n",
       "      <td>Zootopia</td>\n",
       "    </tr>\n",
       "    <tr>\n",
       "      <th>30</th>\n",
       "      <td>2181</td>\n",
       "      <td>0.372946</td>\n",
       "      <td>97225</td>\n",
       "      <td>Hotel Transylvania</td>\n",
       "      <td>Hotel Transylvania</td>\n",
       "    </tr>\n",
       "    <tr>\n",
       "      <th>31</th>\n",
       "      <td>3495</td>\n",
       "      <td>0.373458</td>\n",
       "      <td>84312</td>\n",
       "      <td>Home Alone 4</td>\n",
       "      <td>Home Alone 4</td>\n",
       "    </tr>\n",
       "    <tr>\n",
       "      <th>32</th>\n",
       "      <td>7869</td>\n",
       "      <td>0.373594</td>\n",
       "      <td>167746</td>\n",
       "      <td>The Lego Batman Movie</td>\n",
       "      <td>The Lego Batman Movie</td>\n",
       "    </tr>\n",
       "    <tr>\n",
       "      <th>33</th>\n",
       "      <td>1125</td>\n",
       "      <td>0.374070</td>\n",
       "      <td>1271</td>\n",
       "      <td>Fried Green Tomatoes</td>\n",
       "      <td>Fried Green Tomatoes</td>\n",
       "    </tr>\n",
       "    <tr>\n",
       "      <th>34</th>\n",
       "      <td>2706</td>\n",
       "      <td>0.379157</td>\n",
       "      <td>6942</td>\n",
       "      <td>Love Actually</td>\n",
       "      <td>Love Actually</td>\n",
       "    </tr>\n",
       "    <tr>\n",
       "      <th>35</th>\n",
       "      <td>9665</td>\n",
       "      <td>0.384490</td>\n",
       "      <td>115875</td>\n",
       "      <td>Toy Story Toons: Hawaiian Vacation</td>\n",
       "      <td>Toy Story Toons: Hawaiian Vacation</td>\n",
       "    </tr>\n",
       "    <tr>\n",
       "      <th>36</th>\n",
       "      <td>210</td>\n",
       "      <td>0.385360</td>\n",
       "      <td>2959</td>\n",
       "      <td>Fight Club</td>\n",
       "      <td>Fight Club</td>\n",
       "    </tr>\n",
       "    <tr>\n",
       "      <th>37</th>\n",
       "      <td>2511</td>\n",
       "      <td>0.385447</td>\n",
       "      <td>166461</td>\n",
       "      <td>Moana</td>\n",
       "      <td>Moana</td>\n",
       "    </tr>\n",
       "    <tr>\n",
       "      <th>38</th>\n",
       "      <td>1455</td>\n",
       "      <td>0.387625</td>\n",
       "      <td>3785</td>\n",
       "      <td>Scary Movie</td>\n",
       "      <td>Scary Movie</td>\n",
       "    </tr>\n",
       "    <tr>\n",
       "      <th>39</th>\n",
       "      <td>3373</td>\n",
       "      <td>0.389404</td>\n",
       "      <td>44972</td>\n",
       "      <td>Scary Movie 4</td>\n",
       "      <td>Scary Movie 4</td>\n",
       "    </tr>\n",
       "    <tr>\n",
       "      <th>40</th>\n",
       "      <td>3213</td>\n",
       "      <td>0.390912</td>\n",
       "      <td>3608</td>\n",
       "      <td>Pee-wee's Big Adventure</td>\n",
       "      <td>Pee-wee's Big Adventure</td>\n",
       "    </tr>\n",
       "    <tr>\n",
       "      <th>41</th>\n",
       "      <td>235</td>\n",
       "      <td>0.391304</td>\n",
       "      <td>5445</td>\n",
       "      <td>Minority Report</td>\n",
       "      <td>Minority Report</td>\n",
       "    </tr>\n",
       "    <tr>\n",
       "      <th>42</th>\n",
       "      <td>1135</td>\n",
       "      <td>0.391547</td>\n",
       "      <td>1302</td>\n",
       "      <td>Field of Dreams</td>\n",
       "      <td>Field of Dreams</td>\n",
       "    </tr>\n",
       "    <tr>\n",
       "      <th>43</th>\n",
       "      <td>171</td>\n",
       "      <td>0.393076</td>\n",
       "      <td>1089</td>\n",
       "      <td>Reservoir Dogs</td>\n",
       "      <td>Reservoir Dogs</td>\n",
       "    </tr>\n",
       "    <tr>\n",
       "      <th>44</th>\n",
       "      <td>14677</td>\n",
       "      <td>0.393287</td>\n",
       "      <td>165645</td>\n",
       "      <td>Bad Santa 2</td>\n",
       "      <td>Bad Santa 2</td>\n",
       "    </tr>\n",
       "    <tr>\n",
       "      <th>45</th>\n",
       "      <td>10</td>\n",
       "      <td>0.395205</td>\n",
       "      <td>8360</td>\n",
       "      <td>Shrek 2</td>\n",
       "      <td>Shrek 2</td>\n",
       "    </tr>\n",
       "    <tr>\n",
       "      <th>46</th>\n",
       "      <td>1637</td>\n",
       "      <td>0.396464</td>\n",
       "      <td>6058</td>\n",
       "      <td>Final Destination 2</td>\n",
       "      <td>Final Destination 2</td>\n",
       "    </tr>\n",
       "    <tr>\n",
       "      <th>47</th>\n",
       "      <td>3070</td>\n",
       "      <td>0.397002</td>\n",
       "      <td>2366</td>\n",
       "      <td>King Kong</td>\n",
       "      <td>King Kong</td>\n",
       "    </tr>\n",
       "    <tr>\n",
       "      <th>48</th>\n",
       "      <td>1864</td>\n",
       "      <td>0.397002</td>\n",
       "      <td>41569</td>\n",
       "      <td>King Kong</td>\n",
       "      <td>King Kong</td>\n",
       "    </tr>\n",
       "    <tr>\n",
       "      <th>49</th>\n",
       "      <td>8997</td>\n",
       "      <td>0.397002</td>\n",
       "      <td>2367</td>\n",
       "      <td>King Kong</td>\n",
       "      <td>King Kong</td>\n",
       "    </tr>\n",
       "  </tbody>\n",
       "</table>\n",
       "</div>"
      ]
     },
     "metadata": {},
     "output_type": "display_data"
    }
   ],
   "source": [
    "result = recommender.recommend(item_index=0, k=50)\n",
    "result.show()"
   ]
  }
 ],
 "metadata": {
  "kernelspec": {
   "display_name": "Python 3 (ipykernel)",
   "language": "python",
   "name": "python3"
  },
  "language_info": {
   "codemirror_mode": {
    "name": "ipython",
    "version": 3
   },
   "file_extension": ".py",
   "mimetype": "text/x-python",
   "name": "python",
   "nbconvert_exporter": "python",
   "pygments_lexer": "ipython3",
   "version": "3.10.4"
  },
  "widgets": {
   "application/vnd.jupyter.widget-state+json": {
    "state": {
     "00008e050603478e8eccf0b212a43a4c": {
      "model_module": "@jupyter-widgets/controls",
      "model_module_version": "1.5.0",
      "model_name": "HTMLModel",
      "state": {
       "layout": "IPY_MODEL_f6505b4fc1bf4a49915c37297de35c3d",
       "style": "IPY_MODEL_48c15cce8df64b4898d37abb203963c8",
       "value": " 53.0/53.0 [00:00&lt;00:00, 4.16kB/s]"
      }
     },
     "034a96f758084aa5a5ee74ac1fdf0ee1": {
      "model_module": "@jupyter-widgets/base",
      "model_module_version": "1.2.0",
      "model_name": "LayoutModel",
      "state": {}
     },
     "03a4a53da1f04cfeab9f97e471d77e94": {
      "model_module": "@jupyter-widgets/controls",
      "model_module_version": "1.5.0",
      "model_name": "DescriptionStyleModel",
      "state": {
       "description_width": ""
      }
     },
     "040619dfe76549c398aaffd86c639f40": {
      "model_module": "@jupyter-widgets/controls",
      "model_module_version": "1.5.0",
      "model_name": "HTMLModel",
      "state": {
       "layout": "IPY_MODEL_1bfe024320a54db5bd2de976a9e9f370",
       "style": "IPY_MODEL_9a9d754c7f164a9f87d20a8f9d6206da",
       "value": " 13.1k/13.1k [00:00&lt;00:00, 1.12MB/s]"
      }
     },
     "04415f43b61d43ff9fb0560115955855": {
      "model_module": "@jupyter-widgets/controls",
      "model_module_version": "1.5.0",
      "model_name": "DescriptionStyleModel",
      "state": {
       "description_width": ""
      }
     },
     "052f739fceda4607b052fbfd8207d8e0": {
      "model_module": "@jupyter-widgets/base",
      "model_module_version": "1.2.0",
      "model_name": "LayoutModel",
      "state": {}
     },
     "05b6cc8ebdf44733880a1b0c16c9dbcb": {
      "model_module": "@jupyter-widgets/controls",
      "model_module_version": "1.5.0",
      "model_name": "HTMLModel",
      "state": {
       "layout": "IPY_MODEL_7bd636c58dd74c209168a6414523c9af",
       "style": "IPY_MODEL_aa051f663a5948ed8ef3ab14816d23d7",
       "value": " 466k/466k [00:01&lt;00:00, 437kB/s]"
      }
     },
     "05e475e11ca94525a757a0ace152e601": {
      "model_module": "@jupyter-widgets/controls",
      "model_module_version": "1.5.0",
      "model_name": "ProgressStyleModel",
      "state": {
       "description_width": ""
      }
     },
     "05e7e12b62674ce5bf9a26d720eac31d": {
      "model_module": "@jupyter-widgets/controls",
      "model_module_version": "1.5.0",
      "model_name": "HBoxModel",
      "state": {
       "children": [
        "IPY_MODEL_280d87a1aa2f43058d0077c4eac96046",
        "IPY_MODEL_20e600fc6219454fbfc51801ed07e3e5",
        "IPY_MODEL_932868d26d4e4167a7d972f6594454e6"
       ],
       "layout": "IPY_MODEL_d754ebf2b44446b8a3cd20f988ded475"
      }
     },
     "0651d5cdb0db46f6b79eede3209f672b": {
      "model_module": "@jupyter-widgets/controls",
      "model_module_version": "1.5.0",
      "model_name": "HTMLModel",
      "state": {
       "layout": "IPY_MODEL_d74f0a53cc46461e99244894d4023f9c",
       "style": "IPY_MODEL_dacb3f39ddb54bed9e9c652199f393a9",
       "value": " 90.9M/90.9M [00:09&lt;00:00, 10.7MB/s]"
      }
     },
     "06e78a524e2b4d06b37bf1f7c65ffd3d": {
      "model_module": "@jupyter-widgets/base",
      "model_module_version": "1.2.0",
      "model_name": "LayoutModel",
      "state": {}
     },
     "09497150d141447296c69bdad21795dd": {
      "model_module": "@jupyter-widgets/controls",
      "model_module_version": "1.5.0",
      "model_name": "HTMLModel",
      "state": {
       "layout": "IPY_MODEL_2f67896d43af40e9b250d21a67c578f0",
       "style": "IPY_MODEL_cc0474be71344368b7ca66afd6a749d5",
       "value": "Batches: 100%"
      }
     },
     "0969c2a2dd274cc6a55e47c7bc34ea03": {
      "model_module": "@jupyter-widgets/controls",
      "model_module_version": "1.5.0",
      "model_name": "FloatProgressModel",
      "state": {
       "bar_style": "success",
       "layout": "IPY_MODEL_d38adcc825e44a44bc35d6b466f8a858",
       "max": 190,
       "style": "IPY_MODEL_2771fb5aa6a844bd95c4626c1a3072c2",
       "value": 190
      }
     },
     "0a320cbde1ba48b3ae74b9fcd7a780f5": {
      "model_module": "@jupyter-widgets/controls",
      "model_module_version": "1.5.0",
      "model_name": "HBoxModel",
      "state": {
       "children": [
        "IPY_MODEL_bf001a738222484ea36388f16f4486ff",
        "IPY_MODEL_0969c2a2dd274cc6a55e47c7bc34ea03",
        "IPY_MODEL_d6fc8661aa2347b6addf86bbf532735a"
       ],
       "layout": "IPY_MODEL_8ba3062e61a6496ca935fd61c2b01422"
      }
     },
     "0a3a4e590ad8402cac6e997f16588f2f": {
      "model_module": "@jupyter-widgets/controls",
      "model_module_version": "1.5.0",
      "model_name": "ProgressStyleModel",
      "state": {
       "description_width": ""
      }
     },
     "0a455069a6f64afea3bb12298c48dccf": {
      "model_module": "@jupyter-widgets/controls",
      "model_module_version": "1.5.0",
      "model_name": "HTMLModel",
      "state": {
       "layout": "IPY_MODEL_f4c9ec0b3bed4da5981ce17ff2e7f2ae",
       "style": "IPY_MODEL_4b2a7f2d4be64fa9932b45c3785c0d69",
       "value": " 363/363 [00:00&lt;00:00, 25.7kB/s]"
      }
     },
     "0ab8e79dc7c34fef95ac51859dd0bdf0": {
      "model_module": "@jupyter-widgets/controls",
      "model_module_version": "1.5.0",
      "model_name": "HTMLModel",
      "state": {
       "layout": "IPY_MODEL_76d94453501248a895bda55f5573499f",
       "style": "IPY_MODEL_9c6f6d299d9f452f84337966a6a8e9fc",
       "value": " 466k/466k [00:01&lt;00:00, 423kB/s]"
      }
     },
     "0c586288fc8e484fa7db36d03e2bacef": {
      "model_module": "@jupyter-widgets/controls",
      "model_module_version": "1.5.0",
      "model_name": "HBoxModel",
      "state": {
       "children": [
        "IPY_MODEL_3bb6e038a1c640eb97feb3045e75a339",
        "IPY_MODEL_38808b762ebc4d23a09d0e2cd8aec54d",
        "IPY_MODEL_e63624f8db9f4186ad1b220d6cae2b7d"
       ],
       "layout": "IPY_MODEL_a1c3c1ea63c341a98d794c44b88694be"
      }
     },
     "0c8c76a922a94a128b47a0576eb2ec4d": {
      "model_module": "@jupyter-widgets/base",
      "model_module_version": "1.2.0",
      "model_name": "LayoutModel",
      "state": {}
     },
     "0cb303b33c904182906aee355d8148fb": {
      "model_module": "@jupyter-widgets/base",
      "model_module_version": "1.2.0",
      "model_name": "LayoutModel",
      "state": {}
     },
     "0cca8204970648cd9ccb66dc0792286b": {
      "model_module": "@jupyter-widgets/controls",
      "model_module_version": "1.5.0",
      "model_name": "FloatProgressModel",
      "state": {
       "bar_style": "success",
       "layout": "IPY_MODEL_7a15b88389d0414ca949358eeff3fb4a",
       "max": 349,
       "style": "IPY_MODEL_d964c6df21984fa0820c9fe7fbca4fe4",
       "value": 349
      }
     },
     "0cf65a492093439ea617a2d3596cbf2b": {
      "model_module": "@jupyter-widgets/base",
      "model_module_version": "1.2.0",
      "model_name": "LayoutModel",
      "state": {}
     },
     "0cf79471dd52419484c7c1a181e7ff95": {
      "model_module": "@jupyter-widgets/base",
      "model_module_version": "1.2.0",
      "model_name": "LayoutModel",
      "state": {}
     },
     "0d630d00d6ff4a7a8e1645c3565e3816": {
      "model_module": "@jupyter-widgets/controls",
      "model_module_version": "1.5.0",
      "model_name": "HTMLModel",
      "state": {
       "layout": "IPY_MODEL_c3be8775efb642aaa35a62a09544bdaa",
       "style": "IPY_MODEL_ea695dc6e7394e788830c672324c7c75",
       "value": "Downloading: 100%"
      }
     },
     "0e1f045738844f699e2aa462da04b5a6": {
      "model_module": "@jupyter-widgets/controls",
      "model_module_version": "1.5.0",
      "model_name": "HBoxModel",
      "state": {
       "children": [
        "IPY_MODEL_378a95f675ab4d2ab63810fa086df3cc",
        "IPY_MODEL_a9d94fd21a3d478ba25965b3a4061cde",
        "IPY_MODEL_272060bbf48a4e079de9e34edede5d22"
       ],
       "layout": "IPY_MODEL_4b20b3e7cf174d3089738eba0aae5471"
      }
     },
     "160cd7499aaa4c8d8d3d288bc9b9e54f": {
      "model_module": "@jupyter-widgets/base",
      "model_module_version": "1.2.0",
      "model_name": "LayoutModel",
      "state": {}
     },
     "167317f557b14d6198ec66a9862b6404": {
      "model_module": "@jupyter-widgets/base",
      "model_module_version": "1.2.0",
      "model_name": "LayoutModel",
      "state": {}
     },
     "1718c9960ae94bbab70cb85aaf0558a3": {
      "model_module": "@jupyter-widgets/base",
      "model_module_version": "1.2.0",
      "model_name": "LayoutModel",
      "state": {}
     },
     "18e369ca4d894cd380bc9ee5ef108688": {
      "model_module": "@jupyter-widgets/controls",
      "model_module_version": "1.5.0",
      "model_name": "ProgressStyleModel",
      "state": {
       "description_width": ""
      }
     },
     "19442edac6234755814a2a4884203438": {
      "model_module": "@jupyter-widgets/controls",
      "model_module_version": "1.5.0",
      "model_name": "ProgressStyleModel",
      "state": {
       "description_width": ""
      }
     },
     "1b4c54a59fc64bf0880996d46d3ed427": {
      "model_module": "@jupyter-widgets/base",
      "model_module_version": "1.2.0",
      "model_name": "LayoutModel",
      "state": {}
     },
     "1b7ad8a762044889a0a79a56c3878a1f": {
      "model_module": "@jupyter-widgets/controls",
      "model_module_version": "1.5.0",
      "model_name": "ProgressStyleModel",
      "state": {
       "description_width": ""
      }
     },
     "1bfe024320a54db5bd2de976a9e9f370": {
      "model_module": "@jupyter-widgets/base",
      "model_module_version": "1.2.0",
      "model_name": "LayoutModel",
      "state": {}
     },
     "1c5868f63d294b1daf7fe1ad92ce95e6": {
      "model_module": "@jupyter-widgets/base",
      "model_module_version": "1.2.0",
      "model_name": "LayoutModel",
      "state": {}
     },
     "1e3ea30fbab845939256113e7f3d46a0": {
      "model_module": "@jupyter-widgets/controls",
      "model_module_version": "1.5.0",
      "model_name": "HTMLModel",
      "state": {
       "layout": "IPY_MODEL_8ad7e8fd789247dead5b845951ce7dd7",
       "style": "IPY_MODEL_3b8570e2a9eb41a3bf0e5c03cc5eb7a9",
       "value": "Downloading: 100%"
      }
     },
     "1ee4fa7a4f0d432abecfd0a69bb5cba8": {
      "model_module": "@jupyter-widgets/controls",
      "model_module_version": "1.5.0",
      "model_name": "ProgressStyleModel",
      "state": {
       "description_width": ""
      }
     },
     "1f1798e4d4dd434f8a74428f0ce0a06c": {
      "model_module": "@jupyter-widgets/controls",
      "model_module_version": "1.5.0",
      "model_name": "HBoxModel",
      "state": {
       "children": [
        "IPY_MODEL_ea4742d2563440c2b3e05bcbce85b2c6",
        "IPY_MODEL_425aa33f6caa433199abdb0fb8a7b809",
        "IPY_MODEL_0651d5cdb0db46f6b79eede3209f672b"
       ],
       "layout": "IPY_MODEL_f9d2602b54a3483dac0b34d7eba94a87"
      }
     },
     "1ff5ab36ea954c99be90b804c8d4362c": {
      "model_module": "@jupyter-widgets/base",
      "model_module_version": "1.2.0",
      "model_name": "LayoutModel",
      "state": {}
     },
     "20e600fc6219454fbfc51801ed07e3e5": {
      "model_module": "@jupyter-widgets/controls",
      "model_module_version": "1.5.0",
      "model_name": "FloatProgressModel",
      "state": {
       "bar_style": "success",
       "layout": "IPY_MODEL_0c8c76a922a94a128b47a0576eb2ec4d",
       "max": 116,
       "style": "IPY_MODEL_3752dfc6ae684c85b1210151783796c9",
       "value": 116
      }
     },
     "218617c4d87d4615b26dbe0976a4131c": {
      "model_module": "@jupyter-widgets/controls",
      "model_module_version": "1.5.0",
      "model_name": "DescriptionStyleModel",
      "state": {
       "description_width": ""
      }
     },
     "22149186a2c04f40b5b3389720851129": {
      "model_module": "@jupyter-widgets/controls",
      "model_module_version": "1.5.0",
      "model_name": "FloatProgressModel",
      "state": {
       "bar_style": "success",
       "layout": "IPY_MODEL_27f46ee228ae4075a2df4d98c644dd72",
       "max": 612,
       "style": "IPY_MODEL_1b7ad8a762044889a0a79a56c3878a1f",
       "value": 612
      }
     },
     "223409aa0cee49aea0c36d9d3012e765": {
      "model_module": "@jupyter-widgets/base",
      "model_module_version": "1.2.0",
      "model_name": "LayoutModel",
      "state": {}
     },
     "22466cd853934d169a4cdbca0b707eee": {
      "model_module": "@jupyter-widgets/controls",
      "model_module_version": "1.5.0",
      "model_name": "DescriptionStyleModel",
      "state": {
       "description_width": ""
      }
     },
     "237acc9393d546d0bb2beba1757b6a0d": {
      "model_module": "@jupyter-widgets/controls",
      "model_module_version": "1.5.0",
      "model_name": "HBoxModel",
      "state": {
       "children": [
        "IPY_MODEL_392bc892d15f4528b229ad24b49612e0",
        "IPY_MODEL_60d76507a6224b38a6ed9def24056977",
        "IPY_MODEL_aaf0831c86a2472e8d47877deedfe660"
       ],
       "layout": "IPY_MODEL_bd235e21cb5843f2a4aaa19a075c2475"
      }
     },
     "23f2b8778606457ca44ed53e1e03ceed": {
      "model_module": "@jupyter-widgets/controls",
      "model_module_version": "1.5.0",
      "model_name": "FloatProgressModel",
      "state": {
       "bar_style": "success",
       "layout": "IPY_MODEL_e4a5e07d30fa4616876a67b76f764701",
       "max": 231536,
       "style": "IPY_MODEL_f5872489869545bcaf1131ee45cc9d29",
       "value": 231536
      }
     },
     "24722b2ff15941daaf814dfe771a3280": {
      "model_module": "@jupyter-widgets/controls",
      "model_module_version": "1.5.0",
      "model_name": "ProgressStyleModel",
      "state": {
       "description_width": ""
      }
     },
     "248a4ff7cf404deb9c3698f48912a2b4": {
      "model_module": "@jupyter-widgets/base",
      "model_module_version": "1.2.0",
      "model_name": "LayoutModel",
      "state": {}
     },
     "24ed11af9d6840ce9d45e22a9c59d272": {
      "model_module": "@jupyter-widgets/controls",
      "model_module_version": "1.5.0",
      "model_name": "ProgressStyleModel",
      "state": {
       "description_width": ""
      }
     },
     "2674f0e3cb284fe0aaa17d3dcf01e441": {
      "model_module": "@jupyter-widgets/controls",
      "model_module_version": "1.5.0",
      "model_name": "FloatProgressModel",
      "state": {
       "bar_style": "success",
       "layout": "IPY_MODEL_5c75a8eb8b364cdd9ba6e64abe79c68f",
       "max": 579,
       "style": "IPY_MODEL_05e475e11ca94525a757a0ace152e601",
       "value": 579
      }
     },
     "272060bbf48a4e079de9e34edede5d22": {
      "model_module": "@jupyter-widgets/controls",
      "model_module_version": "1.5.0",
      "model_name": "HTMLModel",
      "state": {
       "layout": "IPY_MODEL_4b1e764a257f4541a4ee32320fce3f1e",
       "style": "IPY_MODEL_f791149b534a455ebb6635d8b547f0b1",
       "value": " 239/239 [00:00&lt;00:00, 19.1kB/s]"
      }
     },
     "2771fb5aa6a844bd95c4626c1a3072c2": {
      "model_module": "@jupyter-widgets/controls",
      "model_module_version": "1.5.0",
      "model_name": "ProgressStyleModel",
      "state": {
       "description_width": ""
      }
     },
     "27f46ee228ae4075a2df4d98c644dd72": {
      "model_module": "@jupyter-widgets/base",
      "model_module_version": "1.2.0",
      "model_name": "LayoutModel",
      "state": {}
     },
     "280d87a1aa2f43058d0077c4eac96046": {
      "model_module": "@jupyter-widgets/controls",
      "model_module_version": "1.5.0",
      "model_name": "HTMLModel",
      "state": {
       "layout": "IPY_MODEL_248a4ff7cf404deb9c3698f48912a2b4",
       "style": "IPY_MODEL_4fa038d854fe49c392e92c5d908dc016",
       "value": "Downloading: 100%"
      }
     },
     "286de65fd19c42829ce84edd6a011f94": {
      "model_module": "@jupyter-widgets/base",
      "model_module_version": "1.2.0",
      "model_name": "LayoutModel",
      "state": {}
     },
     "2b2c71697fa04a5387d8c07cc61a0f0f": {
      "model_module": "@jupyter-widgets/controls",
      "model_module_version": "1.5.0",
      "model_name": "DescriptionStyleModel",
      "state": {
       "description_width": ""
      }
     },
     "2c79cd07a7c74b70891d66b6f4d45210": {
      "model_module": "@jupyter-widgets/controls",
      "model_module_version": "1.5.0",
      "model_name": "DescriptionStyleModel",
      "state": {
       "description_width": ""
      }
     },
     "2df99663a48046adb31657b89e9ad6a6": {
      "model_module": "@jupyter-widgets/controls",
      "model_module_version": "1.5.0",
      "model_name": "DescriptionStyleModel",
      "state": {
       "description_width": ""
      }
     },
     "2efa51c7b510429898ba6477bfc1ce8d": {
      "model_module": "@jupyter-widgets/base",
      "model_module_version": "1.2.0",
      "model_name": "LayoutModel",
      "state": {}
     },
     "2f67896d43af40e9b250d21a67c578f0": {
      "model_module": "@jupyter-widgets/base",
      "model_module_version": "1.2.0",
      "model_name": "LayoutModel",
      "state": {}
     },
     "2f7dd50d6769408cafcbcb5ba0be6f51": {
      "model_module": "@jupyter-widgets/base",
      "model_module_version": "1.2.0",
      "model_name": "LayoutModel",
      "state": {}
     },
     "3016fb32fc4f42359454ed156406143b": {
      "model_module": "@jupyter-widgets/controls",
      "model_module_version": "1.5.0",
      "model_name": "DescriptionStyleModel",
      "state": {
       "description_width": ""
      }
     },
     "30cb534c494749d29b281c6073ef6614": {
      "model_module": "@jupyter-widgets/controls",
      "model_module_version": "1.5.0",
      "model_name": "HBoxModel",
      "state": {
       "children": [
        "IPY_MODEL_e699feae99f34dee81e2f0b4b55da260",
        "IPY_MODEL_9b5baa26cbf54d94aa0f8a80585788cf",
        "IPY_MODEL_3d5cee55d95a4b2f98b0a0292ec1ae16"
       ],
       "layout": "IPY_MODEL_a4cf2ea9262e4cdeb2fee319163adc2e"
      }
     },
     "30e7af8885084758b4398f48392da1db": {
      "model_module": "@jupyter-widgets/controls",
      "model_module_version": "1.5.0",
      "model_name": "DescriptionStyleModel",
      "state": {
       "description_width": ""
      }
     },
     "3126d22ed4934c8492e2e5f3696dbf57": {
      "model_module": "@jupyter-widgets/controls",
      "model_module_version": "1.5.0",
      "model_name": "DescriptionStyleModel",
      "state": {
       "description_width": ""
      }
     },
     "3168f386a73644f0b9d12ca9324c1899": {
      "model_module": "@jupyter-widgets/base",
      "model_module_version": "1.2.0",
      "model_name": "LayoutModel",
      "state": {}
     },
     "31d8dce34bab4618a1ba111f82ff3902": {
      "model_module": "@jupyter-widgets/controls",
      "model_module_version": "1.5.0",
      "model_name": "ProgressStyleModel",
      "state": {
       "description_width": ""
      }
     },
     "326fb5616d6e4e43a19c4080b4bc4f86": {
      "model_module": "@jupyter-widgets/controls",
      "model_module_version": "1.5.0",
      "model_name": "HTMLModel",
      "state": {
       "layout": "IPY_MODEL_a35509cea13e47318628c51a5dcaa3c9",
       "style": "IPY_MODEL_686ac2651c6749e8933077a350ba75a1",
       "value": "Downloading: 100%"
      }
     },
     "328331d9080b49d1a6f2e33765dfc488": {
      "model_module": "@jupyter-widgets/base",
      "model_module_version": "1.2.0",
      "model_name": "LayoutModel",
      "state": {}
     },
     "329e894e1de34aa885f1d2800f4416b7": {
      "model_module": "@jupyter-widgets/base",
      "model_module_version": "1.2.0",
      "model_name": "LayoutModel",
      "state": {}
     },
     "32f8095e0ce44dd4b975a7a23a4361f7": {
      "model_module": "@jupyter-widgets/controls",
      "model_module_version": "1.5.0",
      "model_name": "ProgressStyleModel",
      "state": {
       "description_width": ""
      }
     },
     "3373df5779464bda92dbf9ceeee9f00b": {
      "model_module": "@jupyter-widgets/controls",
      "model_module_version": "1.5.0",
      "model_name": "HTMLModel",
      "state": {
       "layout": "IPY_MODEL_4a5b5e62d7a3470f8ad0f9a75f6dea6e",
       "style": "IPY_MODEL_03a4a53da1f04cfeab9f97e471d77e94",
       "value": " 1.18k/1.18k [00:00&lt;00:00, 82.5kB/s]"
      }
     },
     "35222774e3584bdbb0513139e5e2fbb0": {
      "model_module": "@jupyter-widgets/base",
      "model_module_version": "1.2.0",
      "model_name": "LayoutModel",
      "state": {}
     },
     "3529472fcfad4e4d9b9b8b94e087b40b": {
      "model_module": "@jupyter-widgets/controls",
      "model_module_version": "1.5.0",
      "model_name": "DescriptionStyleModel",
      "state": {
       "description_width": ""
      }
     },
     "358533cb09d94464a5774491d699c3bf": {
      "model_module": "@jupyter-widgets/controls",
      "model_module_version": "1.5.0",
      "model_name": "HBoxModel",
      "state": {
       "children": [
        "IPY_MODEL_6b57f427ed25479b9f697aba536ec71e",
        "IPY_MODEL_d1a7f955dbaf4929851266dbd500a20a",
        "IPY_MODEL_782096b9d6b1431bb4f089c243916cf5"
       ],
       "layout": "IPY_MODEL_7e6aaac7399f453dbf3fa00f27580b57"
      }
     },
     "3752dfc6ae684c85b1210151783796c9": {
      "model_module": "@jupyter-widgets/controls",
      "model_module_version": "1.5.0",
      "model_name": "ProgressStyleModel",
      "state": {
       "description_width": ""
      }
     },
     "37584bb2f40d4258bc099f69e3e7371c": {
      "model_module": "@jupyter-widgets/controls",
      "model_module_version": "1.5.0",
      "model_name": "HTMLModel",
      "state": {
       "layout": "IPY_MODEL_c41f0ac4207149dab8fc184256e92a82",
       "style": "IPY_MODEL_3529472fcfad4e4d9b9b8b94e087b40b",
       "value": " 18515/18515 [00:26&lt;00:00, 690.65it/s]"
      }
     },
     "37863ed72f3040d3841a0e78765df62e": {
      "model_module": "@jupyter-widgets/controls",
      "model_module_version": "1.5.0",
      "model_name": "DescriptionStyleModel",
      "state": {
       "description_width": ""
      }
     },
     "378a95f675ab4d2ab63810fa086df3cc": {
      "model_module": "@jupyter-widgets/controls",
      "model_module_version": "1.5.0",
      "model_name": "HTMLModel",
      "state": {
       "layout": "IPY_MODEL_50c603d39c9c413ea07f3216d034a4c6",
       "style": "IPY_MODEL_d729feb415a44d488e25bd0255bc6eb6",
       "value": "Downloading: 100%"
      }
     },
     "38808b762ebc4d23a09d0e2cd8aec54d": {
      "model_module": "@jupyter-widgets/controls",
      "model_module_version": "1.5.0",
      "model_name": "FloatProgressModel",
      "state": {
       "bar_style": "success",
       "layout": "IPY_MODEL_bd0cf1a8ebd44deab4fd24ab6f782067",
       "max": 190,
       "style": "IPY_MODEL_0a3a4e590ad8402cac6e997f16588f2f",
       "value": 190
      }
     },
     "38cfb223b30247ef8d3accbdce119d30": {
      "model_module": "@jupyter-widgets/base",
      "model_module_version": "1.2.0",
      "model_name": "LayoutModel",
      "state": {}
     },
     "392bc892d15f4528b229ad24b49612e0": {
      "model_module": "@jupyter-widgets/controls",
      "model_module_version": "1.5.0",
      "model_name": "HTMLModel",
      "state": {
       "layout": "IPY_MODEL_4ab26a63f00a48ba941c0b50d1cf2121",
       "style": "IPY_MODEL_c83f3c06fcf64f93a22803841e4cbe3c",
       "value": "Downloading: 100%"
      }
     },
     "3a48bdd0a2044383b29d8338b7029424": {
      "model_module": "@jupyter-widgets/base",
      "model_module_version": "1.2.0",
      "model_name": "LayoutModel",
      "state": {}
     },
     "3b8570e2a9eb41a3bf0e5c03cc5eb7a9": {
      "model_module": "@jupyter-widgets/controls",
      "model_module_version": "1.5.0",
      "model_name": "DescriptionStyleModel",
      "state": {
       "description_width": ""
      }
     },
     "3bb6e038a1c640eb97feb3045e75a339": {
      "model_module": "@jupyter-widgets/controls",
      "model_module_version": "1.5.0",
      "model_name": "HTMLModel",
      "state": {
       "layout": "IPY_MODEL_2efa51c7b510429898ba6477bfc1ce8d",
       "style": "IPY_MODEL_ecd072f7b4914dc6ad06110d57bf8304",
       "value": "Downloading: 100%"
      }
     },
     "3c48b09e00fd4fdeb6e8ab0227c0e82d": {
      "model_module": "@jupyter-widgets/controls",
      "model_module_version": "1.5.0",
      "model_name": "FloatProgressModel",
      "state": {
       "bar_style": "success",
       "layout": "IPY_MODEL_06e78a524e2b4d06b37bf1f7c65ffd3d",
       "max": 466021,
       "style": "IPY_MODEL_19442edac6234755814a2a4884203438",
       "value": 466021
      }
     },
     "3d5cee55d95a4b2f98b0a0292ec1ae16": {
      "model_module": "@jupyter-widgets/controls",
      "model_module_version": "1.5.0",
      "model_name": "HTMLModel",
      "state": {
       "layout": "IPY_MODEL_7b6200878cf34bbe8df147bb35c01765",
       "style": "IPY_MODEL_82c0ef6eb9a248068bda7c50f64f36d5",
       "value": " 232k/232k [00:01&lt;00:00, 174kB/s]"
      }
     },
     "3dc353ee396849edba4717a28b8a6f12": {
      "model_module": "@jupyter-widgets/controls",
      "model_module_version": "1.5.0",
      "model_name": "ProgressStyleModel",
      "state": {
       "description_width": ""
      }
     },
     "3dcda06e1e6d45d28455d60832cd6b0e": {
      "model_module": "@jupyter-widgets/controls",
      "model_module_version": "1.5.0",
      "model_name": "FloatProgressModel",
      "state": {
       "bar_style": "success",
       "layout": "IPY_MODEL_999c4c5b488d498d91d8a2642d5325a2",
       "max": 18515,
       "style": "IPY_MODEL_e3c55748a3dc4ed087ddbc52222f61a0",
       "value": 18515
      }
     },
     "3e46264960574eafb67e07225d2d6a77": {
      "model_module": "@jupyter-widgets/base",
      "model_module_version": "1.2.0",
      "model_name": "LayoutModel",
      "state": {}
     },
     "425aa33f6caa433199abdb0fb8a7b809": {
      "model_module": "@jupyter-widgets/controls",
      "model_module_version": "1.5.0",
      "model_name": "FloatProgressModel",
      "state": {
       "bar_style": "success",
       "layout": "IPY_MODEL_9c087f26325c4a32a7b6ca089b96b1b4",
       "max": 90888945,
       "style": "IPY_MODEL_c1c0d63f26b245abae2f77c034530309",
       "value": 90888945
      }
     },
     "428f65b2231844968eb150ae4970e231": {
      "model_module": "@jupyter-widgets/controls",
      "model_module_version": "1.5.0",
      "model_name": "DescriptionStyleModel",
      "state": {
       "description_width": ""
      }
     },
     "42b3dbea85cb4fa0b606050bcaee2188": {
      "model_module": "@jupyter-widgets/base",
      "model_module_version": "1.2.0",
      "model_name": "LayoutModel",
      "state": {}
     },
     "437492ef981046078724e7a2244fdf14": {
      "model_module": "@jupyter-widgets/base",
      "model_module_version": "1.2.0",
      "model_name": "LayoutModel",
      "state": {}
     },
     "43a0722af6354ef7abe571330bd86e01": {
      "model_module": "@jupyter-widgets/controls",
      "model_module_version": "1.5.0",
      "model_name": "HBoxModel",
      "state": {
       "children": [
        "IPY_MODEL_a8ef00ff8ce34c2799549952900e99e2",
        "IPY_MODEL_5543dea49d87450faae6e38c5083845d",
        "IPY_MODEL_ea2106cf2a99444db7327bf89387f157"
       ],
       "layout": "IPY_MODEL_3168f386a73644f0b9d12ca9324c1899"
      }
     },
     "444ed180e28c475d8ebddef83cf73b50": {
      "model_module": "@jupyter-widgets/controls",
      "model_module_version": "1.5.0",
      "model_name": "ProgressStyleModel",
      "state": {
       "description_width": ""
      }
     },
     "4465b991f38b43c190e2879a1c7b1eec": {
      "model_module": "@jupyter-widgets/controls",
      "model_module_version": "1.5.0",
      "model_name": "HTMLModel",
      "state": {
       "layout": "IPY_MODEL_1ff5ab36ea954c99be90b804c8d4362c",
       "style": "IPY_MODEL_4e84a247afae4afb8fcd83252bf7dff1",
       "value": "Downloading: 100%"
      }
     },
     "44c37509a5c54b6db649a6433a976add": {
      "model_module": "@jupyter-widgets/base",
      "model_module_version": "1.2.0",
      "model_name": "LayoutModel",
      "state": {}
     },
     "4594745398e84ce98b7636825a34149b": {
      "model_module": "@jupyter-widgets/base",
      "model_module_version": "1.2.0",
      "model_name": "LayoutModel",
      "state": {}
     },
     "470b2689a54b40a6971b7b7b36c2638a": {
      "model_module": "@jupyter-widgets/base",
      "model_module_version": "1.2.0",
      "model_name": "LayoutModel",
      "state": {}
     },
     "47ca07bec26b47599d32025a13df761a": {
      "model_module": "@jupyter-widgets/base",
      "model_module_version": "1.2.0",
      "model_name": "LayoutModel",
      "state": {}
     },
     "47f8c388376f4aeabfdef5f112071846": {
      "model_module": "@jupyter-widgets/base",
      "model_module_version": "1.2.0",
      "model_name": "LayoutModel",
      "state": {}
     },
     "482f2c68ea6f4c8db3130c750fca580b": {
      "model_module": "@jupyter-widgets/controls",
      "model_module_version": "1.5.0",
      "model_name": "FloatProgressModel",
      "state": {
       "bar_style": "success",
       "layout": "IPY_MODEL_ef445dce1f824b4ca5e9ce8abca7cd91",
       "max": 363,
       "style": "IPY_MODEL_f4fb05a54d8f4020bc57443bce020bf0",
       "value": 363
      }
     },
     "48c15cce8df64b4898d37abb203963c8": {
      "model_module": "@jupyter-widgets/controls",
      "model_module_version": "1.5.0",
      "model_name": "DescriptionStyleModel",
      "state": {
       "description_width": ""
      }
     },
     "49a2df6258714184b82a5e80599d6c04": {
      "model_module": "@jupyter-widgets/base",
      "model_module_version": "1.2.0",
      "model_name": "LayoutModel",
      "state": {}
     },
     "4a158e2aaf1d450785eae0cdc8f567e8": {
      "model_module": "@jupyter-widgets/controls",
      "model_module_version": "1.5.0",
      "model_name": "DescriptionStyleModel",
      "state": {
       "description_width": ""
      }
     },
     "4a5b5e62d7a3470f8ad0f9a75f6dea6e": {
      "model_module": "@jupyter-widgets/base",
      "model_module_version": "1.2.0",
      "model_name": "LayoutModel",
      "state": {}
     },
     "4ab26a63f00a48ba941c0b50d1cf2121": {
      "model_module": "@jupyter-widgets/base",
      "model_module_version": "1.2.0",
      "model_name": "LayoutModel",
      "state": {}
     },
     "4b1e764a257f4541a4ee32320fce3f1e": {
      "model_module": "@jupyter-widgets/base",
      "model_module_version": "1.2.0",
      "model_name": "LayoutModel",
      "state": {}
     },
     "4b20b3e7cf174d3089738eba0aae5471": {
      "model_module": "@jupyter-widgets/base",
      "model_module_version": "1.2.0",
      "model_name": "LayoutModel",
      "state": {}
     },
     "4b2a7f2d4be64fa9932b45c3785c0d69": {
      "model_module": "@jupyter-widgets/controls",
      "model_module_version": "1.5.0",
      "model_name": "DescriptionStyleModel",
      "state": {
       "description_width": ""
      }
     },
     "4cbd13e2c2a6484e8e96a985ca6a8833": {
      "model_module": "@jupyter-widgets/controls",
      "model_module_version": "1.5.0",
      "model_name": "DescriptionStyleModel",
      "state": {
       "description_width": ""
      }
     },
     "4d5e09128a5c44fc8d474b87ec8db72b": {
      "model_module": "@jupyter-widgets/controls",
      "model_module_version": "1.5.0",
      "model_name": "HTMLModel",
      "state": {
       "layout": "IPY_MODEL_9dfca0cb303b43fdb7e7b0b576ba4b6a",
       "style": "IPY_MODEL_d5c2a693fc1147dbb211d20b8ea11541",
       "value": "Building Distances Matrix: 100%"
      }
     },
     "4e84a247afae4afb8fcd83252bf7dff1": {
      "model_module": "@jupyter-widgets/controls",
      "model_module_version": "1.5.0",
      "model_name": "DescriptionStyleModel",
      "state": {
       "description_width": ""
      }
     },
     "4fa038d854fe49c392e92c5d908dc016": {
      "model_module": "@jupyter-widgets/controls",
      "model_module_version": "1.5.0",
      "model_name": "DescriptionStyleModel",
      "state": {
       "description_width": ""
      }
     },
     "4fd557dd3f79441f900131f616cd31a5": {
      "model_module": "@jupyter-widgets/controls",
      "model_module_version": "1.5.0",
      "model_name": "FloatProgressModel",
      "state": {
       "bar_style": "success",
       "layout": "IPY_MODEL_3a48bdd0a2044383b29d8338b7029424",
       "max": 349,
       "style": "IPY_MODEL_31d8dce34bab4618a1ba111f82ff3902",
       "value": 349
      }
     },
     "5030a1bedb2b4f71b00cd61474e5320d": {
      "model_module": "@jupyter-widgets/controls",
      "model_module_version": "1.5.0",
      "model_name": "FloatProgressModel",
      "state": {
       "bar_style": "success",
       "layout": "IPY_MODEL_0cf65a492093439ea617a2d3596cbf2b",
       "max": 1175,
       "style": "IPY_MODEL_444ed180e28c475d8ebddef83cf73b50",
       "value": 1175
      }
     },
     "50432c9d2fe44edfbc4c951b9e23614c": {
      "model_module": "@jupyter-widgets/base",
      "model_module_version": "1.2.0",
      "model_name": "LayoutModel",
      "state": {}
     },
     "50c3d66b6433434887119c7b306bd9ea": {
      "model_module": "@jupyter-widgets/controls",
      "model_module_version": "1.5.0",
      "model_name": "HBoxModel",
      "state": {
       "children": [
        "IPY_MODEL_4d5e09128a5c44fc8d474b87ec8db72b",
        "IPY_MODEL_ef7b1d0b1f654c06b09915db6d6bad8b",
        "IPY_MODEL_37584bb2f40d4258bc099f69e3e7371c"
       ],
       "layout": "IPY_MODEL_82e3ba3ad4a54788923b803a965b9394"
      }
     },
     "50c603d39c9c413ea07f3216d034a4c6": {
      "model_module": "@jupyter-widgets/base",
      "model_module_version": "1.2.0",
      "model_name": "LayoutModel",
      "state": {}
     },
     "536e09c884f44462b5d9ffb7ee900fba": {
      "model_module": "@jupyter-widgets/controls",
      "model_module_version": "1.5.0",
      "model_name": "DescriptionStyleModel",
      "state": {
       "description_width": ""
      }
     },
     "542dd25507bd45ebbe5fa98ece556e12": {
      "model_module": "@jupyter-widgets/controls",
      "model_module_version": "1.5.0",
      "model_name": "HTMLModel",
      "state": {
       "layout": "IPY_MODEL_54f2d642ba164c8780f31435111c692e",
       "style": "IPY_MODEL_d982b05d1ea545b085fbe84685ca40e0",
       "value": "Downloading: 100%"
      }
     },
     "543b25a8dc7c4d1d80bc3cf4b611ef91": {
      "model_module": "@jupyter-widgets/base",
      "model_module_version": "1.2.0",
      "model_name": "LayoutModel",
      "state": {}
     },
     "54f2d642ba164c8780f31435111c692e": {
      "model_module": "@jupyter-widgets/base",
      "model_module_version": "1.2.0",
      "model_name": "LayoutModel",
      "state": {}
     },
     "5543dea49d87450faae6e38c5083845d": {
      "model_module": "@jupyter-widgets/controls",
      "model_module_version": "1.5.0",
      "model_name": "FloatProgressModel",
      "state": {
       "bar_style": "success",
       "layout": "IPY_MODEL_543b25a8dc7c4d1d80bc3cf4b611ef91",
       "max": 116,
       "style": "IPY_MODEL_7bd7e30e589a4ce9b2ad2b360feac07d",
       "value": 116
      }
     },
     "55876ede50bc444aa9ea53be295f13b2": {
      "model_module": "@jupyter-widgets/base",
      "model_module_version": "1.2.0",
      "model_name": "LayoutModel",
      "state": {}
     },
     "55a86f0e84db4d77b9397ada2d09f57a": {
      "model_module": "@jupyter-widgets/base",
      "model_module_version": "1.2.0",
      "model_name": "LayoutModel",
      "state": {}
     },
     "5692b6b08a31418cb3e4951c8e043253": {
      "model_module": "@jupyter-widgets/controls",
      "model_module_version": "1.5.0",
      "model_name": "HTMLModel",
      "state": {
       "layout": "IPY_MODEL_f9935735288e47c3a6e14bb5c85f41d9",
       "style": "IPY_MODEL_b15be743e5ae4cffbb3dbc895d122c26",
       "value": "Downloading: 100%"
      }
     },
     "57e58e7b09ce42448d962eea2ad55e50": {
      "model_module": "@jupyter-widgets/controls",
      "model_module_version": "1.5.0",
      "model_name": "DescriptionStyleModel",
      "state": {
       "description_width": ""
      }
     },
     "5930f1b7b6b742518c3a15c105ce5495": {
      "model_module": "@jupyter-widgets/controls",
      "model_module_version": "1.5.0",
      "model_name": "FloatProgressModel",
      "state": {
       "bar_style": "success",
       "layout": "IPY_MODEL_8d39ec72b3e040b7948294ea3b191067",
       "max": 13123,
       "style": "IPY_MODEL_ab8ad3610f3b497f80590b121905494c",
       "value": 13123
      }
     },
     "5935d308724c48de9c65bdfc7be99985": {
      "model_module": "@jupyter-widgets/base",
      "model_module_version": "1.2.0",
      "model_name": "LayoutModel",
      "state": {}
     },
     "5a70af911d704a66bc9940aa8ef7e41e": {
      "model_module": "@jupyter-widgets/controls",
      "model_module_version": "1.5.0",
      "model_name": "HBoxModel",
      "state": {
       "children": [
        "IPY_MODEL_a7478872a3eb493ead34ebd4c7bb544f",
        "IPY_MODEL_901d4d84530c474a88cffa6807e023f5",
        "IPY_MODEL_61aaf47d3fbb4a23b6d8a2576e649bba"
       ],
       "layout": "IPY_MODEL_55a86f0e84db4d77b9397ada2d09f57a"
      }
     },
     "5ba0cc9adece4d5f8ba533c25c4f34f4": {
      "model_module": "@jupyter-widgets/controls",
      "model_module_version": "1.5.0",
      "model_name": "HBoxModel",
      "state": {
       "children": [
        "IPY_MODEL_7e7917f9906e482b87f86482299c46ae",
        "IPY_MODEL_75c37c38960e4dccb2fa4f42122135e9",
        "IPY_MODEL_9a88b0efa26d4fe48e6940234ae3ee52"
       ],
       "layout": "IPY_MODEL_49a2df6258714184b82a5e80599d6c04"
      }
     },
     "5c75a8eb8b364cdd9ba6e64abe79c68f": {
      "model_module": "@jupyter-widgets/base",
      "model_module_version": "1.2.0",
      "model_name": "LayoutModel",
      "state": {}
     },
     "5e5f6513a1bb4efca2fa3cc25dca9536": {
      "model_module": "@jupyter-widgets/base",
      "model_module_version": "1.2.0",
      "model_name": "LayoutModel",
      "state": {}
     },
     "60d76507a6224b38a6ed9def24056977": {
      "model_module": "@jupyter-widgets/controls",
      "model_module_version": "1.5.0",
      "model_name": "FloatProgressModel",
      "state": {
       "bar_style": "success",
       "layout": "IPY_MODEL_baa6e03b18c948e99c410886923ce597",
       "max": 571,
       "style": "IPY_MODEL_8a11f46a484a4beea5c63be95dae135d",
       "value": 571
      }
     },
     "60e16bb31e1543f38a0027cea2059878": {
      "model_module": "@jupyter-widgets/controls",
      "model_module_version": "1.5.0",
      "model_name": "DescriptionStyleModel",
      "state": {
       "description_width": ""
      }
     },
     "60ff4af8ec6c479196fca79ce9f18f1b": {
      "model_module": "@jupyter-widgets/controls",
      "model_module_version": "1.5.0",
      "model_name": "FloatProgressModel",
      "state": {
       "bar_style": "success",
       "layout": "IPY_MODEL_98592e07c0404633b051d5d58822a305",
       "max": 39265,
       "style": "IPY_MODEL_6966389467994f48a8134ee080ed7b01",
       "value": 39265
      }
     },
     "61aaf47d3fbb4a23b6d8a2576e649bba": {
      "model_module": "@jupyter-widgets/controls",
      "model_module_version": "1.5.0",
      "model_name": "HTMLModel",
      "state": {
       "layout": "IPY_MODEL_47ca07bec26b47599d32025a13df761a",
       "style": "IPY_MODEL_909a3d5b103947548120728595f02f98",
       "value": " 579/579 [00:16&lt;00:00, 88.07it/s]"
      }
     },
     "6316a8428d3f4025b6a1d0f1e2958880": {
      "model_module": "@jupyter-widgets/controls",
      "model_module_version": "1.5.0",
      "model_name": "HTMLModel",
      "state": {
       "layout": "IPY_MODEL_e70121ecc59e491fbca63560f23dd15c",
       "style": "IPY_MODEL_d9e5bb201d984800a9a103ceb226ead6",
       "value": "Downloading: 100%"
      }
     },
     "643acea6a56d4e78a0be261ba6fa9cd7": {
      "model_module": "@jupyter-widgets/base",
      "model_module_version": "1.2.0",
      "model_name": "LayoutModel",
      "state": {}
     },
     "6441e094900143cdb8b89732390da06b": {
      "model_module": "@jupyter-widgets/controls",
      "model_module_version": "1.5.0",
      "model_name": "HTMLModel",
      "state": {
       "layout": "IPY_MODEL_9b0df7e060844055b7a29d869b3aef29",
       "style": "IPY_MODEL_3016fb32fc4f42359454ed156406143b",
       "value": " 349/349 [00:00&lt;00:00, 21.7kB/s]"
      }
     },
     "6465a5f2a6524e0bae5c39bac9658da4": {
      "model_module": "@jupyter-widgets/controls",
      "model_module_version": "1.5.0",
      "model_name": "FloatProgressModel",
      "state": {
       "bar_style": "success",
       "layout": "IPY_MODEL_cead8914f0d648ff9eae10e7fe6b8696",
       "max": 350,
       "style": "IPY_MODEL_65c616dab7c34dde8280b5c87de74c3b",
       "value": 350
      }
     },
     "6504d2ce4e3a436489e539d89ce0557a": {
      "model_module": "@jupyter-widgets/controls",
      "model_module_version": "1.5.0",
      "model_name": "DescriptionStyleModel",
      "state": {
       "description_width": ""
      }
     },
     "65487520e57743a0b24e2630dc878d8d": {
      "model_module": "@jupyter-widgets/controls",
      "model_module_version": "1.5.0",
      "model_name": "ProgressStyleModel",
      "state": {
       "description_width": ""
      }
     },
     "65c616dab7c34dde8280b5c87de74c3b": {
      "model_module": "@jupyter-widgets/controls",
      "model_module_version": "1.5.0",
      "model_name": "ProgressStyleModel",
      "state": {
       "description_width": ""
      }
     },
     "65ecb3db701d4b6ea4c939ee50488c11": {
      "model_module": "@jupyter-widgets/controls",
      "model_module_version": "1.5.0",
      "model_name": "DescriptionStyleModel",
      "state": {
       "description_width": ""
      }
     },
     "662ae8d2570b4fcda348739328965cb8": {
      "model_module": "@jupyter-widgets/controls",
      "model_module_version": "1.5.0",
      "model_name": "DescriptionStyleModel",
      "state": {
       "description_width": ""
      }
     },
     "663da2a71f8746009ab81b66fa9ca0e5": {
      "model_module": "@jupyter-widgets/base",
      "model_module_version": "1.2.0",
      "model_name": "LayoutModel",
      "state": {}
     },
     "685c70d9a91c4273be06f3743b1eb4f7": {
      "model_module": "@jupyter-widgets/base",
      "model_module_version": "1.2.0",
      "model_name": "LayoutModel",
      "state": {}
     },
     "686ac2651c6749e8933077a350ba75a1": {
      "model_module": "@jupyter-widgets/controls",
      "model_module_version": "1.5.0",
      "model_name": "DescriptionStyleModel",
      "state": {
       "description_width": ""
      }
     },
     "68c7e4b112b443c4b077d0eadab0b53f": {
      "model_module": "@jupyter-widgets/controls",
      "model_module_version": "1.5.0",
      "model_name": "DescriptionStyleModel",
      "state": {
       "description_width": ""
      }
     },
     "6966389467994f48a8134ee080ed7b01": {
      "model_module": "@jupyter-widgets/controls",
      "model_module_version": "1.5.0",
      "model_name": "ProgressStyleModel",
      "state": {
       "description_width": ""
      }
     },
     "69c23c1f290342ac9970f56be09b3ef2": {
      "model_module": "@jupyter-widgets/base",
      "model_module_version": "1.2.0",
      "model_name": "LayoutModel",
      "state": {}
     },
     "69f0ac910d314cac9dbd4665dabe77a2": {
      "model_module": "@jupyter-widgets/controls",
      "model_module_version": "1.5.0",
      "model_name": "DescriptionStyleModel",
      "state": {
       "description_width": ""
      }
     },
     "6b57f427ed25479b9f697aba536ec71e": {
      "model_module": "@jupyter-widgets/controls",
      "model_module_version": "1.5.0",
      "model_name": "HTMLModel",
      "state": {
       "layout": "IPY_MODEL_d527dadec6d64bc1a25ec2299bf4d114",
       "style": "IPY_MODEL_d1e55a74ee0f4046b737a0b3ce94c2cf",
       "value": "Downloading: 100%"
      }
     },
     "6c88dede4f1c484ca5e0bafbceac4e23": {
      "model_module": "@jupyter-widgets/controls",
      "model_module_version": "1.5.0",
      "model_name": "HTMLModel",
      "state": {
       "layout": "IPY_MODEL_663da2a71f8746009ab81b66fa9ca0e5",
       "style": "IPY_MODEL_2c79cd07a7c74b70891d66b6f4d45210",
       "value": " 232k/232k [00:00&lt;00:00, 289kB/s]"
      }
     },
     "6d454ba08d9044c0a76a413999c0b406": {
      "model_module": "@jupyter-widgets/controls",
      "model_module_version": "1.5.0",
      "model_name": "FloatProgressModel",
      "state": {
       "bar_style": "success",
       "layout": "IPY_MODEL_f32572a59e4d43ca9e706f58e84d6808",
       "max": 18515,
       "style": "IPY_MODEL_95f95137c244479c8ec23046136e80a7",
       "value": 18515
      }
     },
     "6ddebb8fafba4353ac39661b05bf24be": {
      "model_module": "@jupyter-widgets/controls",
      "model_module_version": "1.5.0",
      "model_name": "HTMLModel",
      "state": {
       "layout": "IPY_MODEL_7c895e3af7694ef19de1beb17c2272ae",
       "style": "IPY_MODEL_de3af9e916924e92b416d5d035a8e932",
       "value": " 39.3k/39.3k [00:00&lt;00:00, 39.2kB/s]"
      }
     },
     "6e456eb559c04a3593387829efb5f7ac": {
      "model_module": "@jupyter-widgets/base",
      "model_module_version": "1.2.0",
      "model_name": "LayoutModel",
      "state": {}
     },
     "6eeba6baeedc4919bba15d3091958c89": {
      "model_module": "@jupyter-widgets/base",
      "model_module_version": "1.2.0",
      "model_name": "LayoutModel",
      "state": {}
     },
     "7101d4613b1b4c7aa7f698efb6c840d6": {
      "model_module": "@jupyter-widgets/base",
      "model_module_version": "1.2.0",
      "model_name": "LayoutModel",
      "state": {}
     },
     "72bad12076464f02a78cf8ae5612d895": {
      "model_module": "@jupyter-widgets/controls",
      "model_module_version": "1.5.0",
      "model_name": "HBoxModel",
      "state": {
       "children": [
        "IPY_MODEL_326fb5616d6e4e43a19c4080b4bc4f86",
        "IPY_MODEL_8c2bdfedde6c4e0ab9f598557657bf7d",
        "IPY_MODEL_838d8652fecf4344a7ecb614b655f18e"
       ],
       "layout": "IPY_MODEL_d32b4e6e92e846e7a53b1bd7238de4ee"
      }
     },
     "750bbcebd7d8411888d67f1cf9fbe08c": {
      "model_module": "@jupyter-widgets/controls",
      "model_module_version": "1.5.0",
      "model_name": "DescriptionStyleModel",
      "state": {
       "description_width": ""
      }
     },
     "75c37c38960e4dccb2fa4f42122135e9": {
      "model_module": "@jupyter-widgets/controls",
      "model_module_version": "1.5.0",
      "model_name": "FloatProgressModel",
      "state": {
       "bar_style": "success",
       "layout": "IPY_MODEL_4594745398e84ce98b7636825a34149b",
       "max": 579,
       "style": "IPY_MODEL_cd16c7ba85ed430ea386bf37783d1500",
       "value": 579
      }
     },
     "76d94453501248a895bda55f5573499f": {
      "model_module": "@jupyter-widgets/base",
      "model_module_version": "1.2.0",
      "model_name": "LayoutModel",
      "state": {}
     },
     "76ec2e2e949248eaaece172f1eeea487": {
      "model_module": "@jupyter-widgets/controls",
      "model_module_version": "1.5.0",
      "model_name": "ProgressStyleModel",
      "state": {
       "description_width": ""
      }
     },
     "7766539213184cbf9607ebe185e14682": {
      "model_module": "@jupyter-widgets/controls",
      "model_module_version": "1.5.0",
      "model_name": "DescriptionStyleModel",
      "state": {
       "description_width": ""
      }
     },
     "779da0597fb14e02b8269cde50ab4bc4": {
      "model_module": "@jupyter-widgets/base",
      "model_module_version": "1.2.0",
      "model_name": "LayoutModel",
      "state": {}
     },
     "77be598ab5db457a924a47ddf123623a": {
      "model_module": "@jupyter-widgets/base",
      "model_module_version": "1.2.0",
      "model_name": "LayoutModel",
      "state": {}
     },
     "782096b9d6b1431bb4f089c243916cf5": {
      "model_module": "@jupyter-widgets/controls",
      "model_module_version": "1.5.0",
      "model_name": "HTMLModel",
      "state": {
       "layout": "IPY_MODEL_5935d308724c48de9c65bdfc7be99985",
       "style": "IPY_MODEL_7ef75e0727864202a9ae2d474636d493",
       "value": " 53.0/53.0 [00:00&lt;00:00, 4.12kB/s]"
      }
     },
     "78804243b5f64ce2ad6d324e300a3653": {
      "model_module": "@jupyter-widgets/controls",
      "model_module_version": "1.5.0",
      "model_name": "HTMLModel",
      "state": {
       "layout": "IPY_MODEL_7bb8743f8f3a4a66a878e1b4827cfc79",
       "style": "IPY_MODEL_65ecb3db701d4b6ea4c939ee50488c11",
       "value": " 18515/18515 [00:26&lt;00:00, 688.21it/s]"
      }
     },
     "7a15b88389d0414ca949358eeff3fb4a": {
      "model_module": "@jupyter-widgets/base",
      "model_module_version": "1.2.0",
      "model_name": "LayoutModel",
      "state": {}
     },
     "7b6200878cf34bbe8df147bb35c01765": {
      "model_module": "@jupyter-widgets/base",
      "model_module_version": "1.2.0",
      "model_name": "LayoutModel",
      "state": {}
     },
     "7ba2241fb3f84d51a2d9e96187c7fda1": {
      "model_module": "@jupyter-widgets/controls",
      "model_module_version": "1.5.0",
      "model_name": "DescriptionStyleModel",
      "state": {
       "description_width": ""
      }
     },
     "7bb8743f8f3a4a66a878e1b4827cfc79": {
      "model_module": "@jupyter-widgets/base",
      "model_module_version": "1.2.0",
      "model_name": "LayoutModel",
      "state": {}
     },
     "7bd636c58dd74c209168a6414523c9af": {
      "model_module": "@jupyter-widgets/base",
      "model_module_version": "1.2.0",
      "model_name": "LayoutModel",
      "state": {}
     },
     "7bd7e30e589a4ce9b2ad2b360feac07d": {
      "model_module": "@jupyter-widgets/controls",
      "model_module_version": "1.5.0",
      "model_name": "ProgressStyleModel",
      "state": {
       "description_width": ""
      }
     },
     "7c41560dece7421f87fe0685b559da97": {
      "model_module": "@jupyter-widgets/base",
      "model_module_version": "1.2.0",
      "model_name": "LayoutModel",
      "state": {}
     },
     "7c895e3af7694ef19de1beb17c2272ae": {
      "model_module": "@jupyter-widgets/base",
      "model_module_version": "1.2.0",
      "model_name": "LayoutModel",
      "state": {}
     },
     "7e6aaac7399f453dbf3fa00f27580b57": {
      "model_module": "@jupyter-widgets/base",
      "model_module_version": "1.2.0",
      "model_name": "LayoutModel",
      "state": {}
     },
     "7e7917f9906e482b87f86482299c46ae": {
      "model_module": "@jupyter-widgets/controls",
      "model_module_version": "1.5.0",
      "model_name": "HTMLModel",
      "state": {
       "layout": "IPY_MODEL_f675948e43984329baed25782362b2a3",
       "style": "IPY_MODEL_4cbd13e2c2a6484e8e96a985ca6a8833",
       "value": "Batches: 100%"
      }
     },
     "7ef75e0727864202a9ae2d474636d493": {
      "model_module": "@jupyter-widgets/controls",
      "model_module_version": "1.5.0",
      "model_name": "DescriptionStyleModel",
      "state": {
       "description_width": ""
      }
     },
     "81b917126fbe4a9aadeaf6a99e3d0dc8": {
      "model_module": "@jupyter-widgets/base",
      "model_module_version": "1.2.0",
      "model_name": "LayoutModel",
      "state": {}
     },
     "82ab1f69041b4445ad464de659c7d475": {
      "model_module": "@jupyter-widgets/base",
      "model_module_version": "1.2.0",
      "model_name": "LayoutModel",
      "state": {}
     },
     "82c0ef6eb9a248068bda7c50f64f36d5": {
      "model_module": "@jupyter-widgets/controls",
      "model_module_version": "1.5.0",
      "model_name": "DescriptionStyleModel",
      "state": {
       "description_width": ""
      }
     },
     "82e3ba3ad4a54788923b803a965b9394": {
      "model_module": "@jupyter-widgets/base",
      "model_module_version": "1.2.0",
      "model_name": "LayoutModel",
      "state": {}
     },
     "82e7eb72c1c642d28316a462a3ccf9fb": {
      "model_module": "@jupyter-widgets/controls",
      "model_module_version": "1.5.0",
      "model_name": "FloatProgressModel",
      "state": {
       "bar_style": "success",
       "layout": "IPY_MODEL_ec9d7102f4a24ce98350db5f51810c8d",
       "max": 112,
       "style": "IPY_MODEL_902343764efb44ddb7a0cab8555c3b2c",
       "value": 112
      }
     },
     "835ab8447a1745349742c3511fa8c3a0": {
      "model_module": "@jupyter-widgets/base",
      "model_module_version": "1.2.0",
      "model_name": "LayoutModel",
      "state": {}
     },
     "8361636588cd41aba9e50853e23f650c": {
      "model_module": "@jupyter-widgets/controls",
      "model_module_version": "1.5.0",
      "model_name": "DescriptionStyleModel",
      "state": {
       "description_width": ""
      }
     },
     "838d8652fecf4344a7ecb614b655f18e": {
      "model_module": "@jupyter-widgets/controls",
      "model_module_version": "1.5.0",
      "model_name": "HTMLModel",
      "state": {
       "layout": "IPY_MODEL_685c70d9a91c4273be06f3743b1eb4f7",
       "style": "IPY_MODEL_a0ce45b608324bf1b3e88665f6fb5348",
       "value": " 13.2k/13.2k [00:00&lt;00:00, 1.05MB/s]"
      }
     },
     "83f7485532c143b6b50918d64ecc7e00": {
      "model_module": "@jupyter-widgets/controls",
      "model_module_version": "1.5.0",
      "model_name": "HTMLModel",
      "state": {
       "layout": "IPY_MODEL_643acea6a56d4e78a0be261ba6fa9cd7",
       "style": "IPY_MODEL_37863ed72f3040d3841a0e78765df62e",
       "value": " 10.6k/10.6k [00:00&lt;00:00, 752kB/s]"
      }
     },
     "86730f8c6647434c9b7eba27d8531154": {
      "model_module": "@jupyter-widgets/base",
      "model_module_version": "1.2.0",
      "model_name": "LayoutModel",
      "state": {}
     },
     "8920d0a7eadd452088c9c6f19073a4a9": {
      "model_module": "@jupyter-widgets/base",
      "model_module_version": "1.2.0",
      "model_name": "LayoutModel",
      "state": {}
     },
     "8a11f46a484a4beea5c63be95dae135d": {
      "model_module": "@jupyter-widgets/controls",
      "model_module_version": "1.5.0",
      "model_name": "ProgressStyleModel",
      "state": {
       "description_width": ""
      }
     },
     "8a1cb326c0bf494cb5ea64de1ec383ac": {
      "model_module": "@jupyter-widgets/base",
      "model_module_version": "1.2.0",
      "model_name": "LayoutModel",
      "state": {}
     },
     "8a2de424c8e0419591a0168668e9f118": {
      "model_module": "@jupyter-widgets/controls",
      "model_module_version": "1.5.0",
      "model_name": "FloatProgressModel",
      "state": {
       "bar_style": "success",
       "layout": "IPY_MODEL_a09fa3e3cd1645c5a76bc2c53fc1243d",
       "max": 438011953,
       "style": "IPY_MODEL_32f8095e0ce44dd4b975a7a23a4361f7",
       "value": 438011953
      }
     },
     "8ad7e8fd789247dead5b845951ce7dd7": {
      "model_module": "@jupyter-widgets/base",
      "model_module_version": "1.2.0",
      "model_name": "LayoutModel",
      "state": {}
     },
     "8ba0c6f695c341e5be550f1b87311276": {
      "model_module": "@jupyter-widgets/controls",
      "model_module_version": "1.5.0",
      "model_name": "HBoxModel",
      "state": {
       "children": [
        "IPY_MODEL_5692b6b08a31418cb3e4951c8e043253",
        "IPY_MODEL_a093d8701ca04788a54cec1dbd193e20",
        "IPY_MODEL_00008e050603478e8eccf0b212a43a4c"
       ],
       "layout": "IPY_MODEL_50432c9d2fe44edfbc4c951b9e23614c"
      }
     },
     "8ba3062e61a6496ca935fd61c2b01422": {
      "model_module": "@jupyter-widgets/base",
      "model_module_version": "1.2.0",
      "model_name": "LayoutModel",
      "state": {}
     },
     "8bb2f9b031e74daa9ff9f455232fab96": {
      "model_module": "@jupyter-widgets/controls",
      "model_module_version": "1.5.0",
      "model_name": "HBoxModel",
      "state": {
       "children": [
        "IPY_MODEL_e989eec976be4452b2339b372c175939",
        "IPY_MODEL_e4fd19ed7f9a4c1783edb172b992235a",
        "IPY_MODEL_fda7b5bc514a4dfb89b29b8687864598"
       ],
       "layout": "IPY_MODEL_7c41560dece7421f87fe0685b559da97"
      }
     },
     "8bd8c77699754e478899d7a715ef4668": {
      "model_module": "@jupyter-widgets/controls",
      "model_module_version": "1.5.0",
      "model_name": "HTMLModel",
      "state": {
       "layout": "IPY_MODEL_052f739fceda4607b052fbfd8207d8e0",
       "style": "IPY_MODEL_750bbcebd7d8411888d67f1cf9fbe08c",
       "value": "Downloading: 100%"
      }
     },
     "8c2bdfedde6c4e0ab9f598557657bf7d": {
      "model_module": "@jupyter-widgets/controls",
      "model_module_version": "1.5.0",
      "model_name": "FloatProgressModel",
      "state": {
       "bar_style": "success",
       "layout": "IPY_MODEL_44c37509a5c54b6db649a6433a976add",
       "max": 13156,
       "style": "IPY_MODEL_c6cf01b8aea14bdb8c7b0bb3d63603a0",
       "value": 13156
      }
     },
     "8d39ec72b3e040b7948294ea3b191067": {
      "model_module": "@jupyter-widgets/base",
      "model_module_version": "1.2.0",
      "model_name": "LayoutModel",
      "state": {}
     },
     "8d8bc8c2d31c422da62626e6a63c529d": {
      "model_module": "@jupyter-widgets/controls",
      "model_module_version": "1.5.0",
      "model_name": "HTMLModel",
      "state": {
       "layout": "IPY_MODEL_b238a25724ed4fea9ffd6030320736ef",
       "style": "IPY_MODEL_662ae8d2570b4fcda348739328965cb8",
       "value": " 612/612 [00:00&lt;00:00, 43.8kB/s]"
      }
     },
     "8e5b5902dd974d3b823a10ecb534a619": {
      "model_module": "@jupyter-widgets/controls",
      "model_module_version": "1.5.0",
      "model_name": "HBoxModel",
      "state": {
       "children": [
        "IPY_MODEL_8fac189fa89247f7b2d8af250e9bbb94",
        "IPY_MODEL_5930f1b7b6b742518c3a15c105ce5495",
        "IPY_MODEL_040619dfe76549c398aaffd86c639f40"
       ],
       "layout": "IPY_MODEL_906854a50911410587363f81cd66eaaa"
      }
     },
     "8fac189fa89247f7b2d8af250e9bbb94": {
      "model_module": "@jupyter-widgets/controls",
      "model_module_version": "1.5.0",
      "model_name": "HTMLModel",
      "state": {
       "layout": "IPY_MODEL_42b3dbea85cb4fa0b606050bcaee2188",
       "style": "IPY_MODEL_d5e18010150b4de9ae4b55d0f7509bf4",
       "value": "Downloading: 100%"
      }
     },
     "90067313e7fd430a81d749e75788ec12": {
      "model_module": "@jupyter-widgets/controls",
      "model_module_version": "1.5.0",
      "model_name": "HBoxModel",
      "state": {
       "children": [
        "IPY_MODEL_eabc4cd93e2148f78396c3be0b566bfb",
        "IPY_MODEL_3dcda06e1e6d45d28455d60832cd6b0e",
        "IPY_MODEL_78804243b5f64ce2ad6d324e300a3653"
       ],
       "layout": "IPY_MODEL_470b2689a54b40a6971b7b7b36c2638a"
      }
     },
     "901d4d84530c474a88cffa6807e023f5": {
      "model_module": "@jupyter-widgets/controls",
      "model_module_version": "1.5.0",
      "model_name": "FloatProgressModel",
      "state": {
       "bar_style": "success",
       "layout": "IPY_MODEL_9ef07321eb3b48f389086484f09e3b2d",
       "max": 579,
       "style": "IPY_MODEL_18e369ca4d894cd380bc9ee5ef108688",
       "value": 579
      }
     },
     "902343764efb44ddb7a0cab8555c3b2c": {
      "model_module": "@jupyter-widgets/controls",
      "model_module_version": "1.5.0",
      "model_name": "ProgressStyleModel",
      "state": {
       "description_width": ""
      }
     },
     "906854a50911410587363f81cd66eaaa": {
      "model_module": "@jupyter-widgets/base",
      "model_module_version": "1.2.0",
      "model_name": "LayoutModel",
      "state": {}
     },
     "909a3d5b103947548120728595f02f98": {
      "model_module": "@jupyter-widgets/controls",
      "model_module_version": "1.5.0",
      "model_name": "DescriptionStyleModel",
      "state": {
       "description_width": ""
      }
     },
     "932868d26d4e4167a7d972f6594454e6": {
      "model_module": "@jupyter-widgets/controls",
      "model_module_version": "1.5.0",
      "model_name": "HTMLModel",
      "state": {
       "layout": "IPY_MODEL_38cfb223b30247ef8d3accbdce119d30",
       "style": "IPY_MODEL_936bfaa8f81c4cc08b7dce5fe9d0b226",
       "value": " 116/116 [00:00&lt;00:00, 10.2kB/s]"
      }
     },
     "936bfaa8f81c4cc08b7dce5fe9d0b226": {
      "model_module": "@jupyter-widgets/controls",
      "model_module_version": "1.5.0",
      "model_name": "DescriptionStyleModel",
      "state": {
       "description_width": ""
      }
     },
     "93a472da344f43c9b07dc5500505f347": {
      "model_module": "@jupyter-widgets/base",
      "model_module_version": "1.2.0",
      "model_name": "LayoutModel",
      "state": {}
     },
     "94320da5bf374fa89074e9391780ec94": {
      "model_module": "@jupyter-widgets/base",
      "model_module_version": "1.2.0",
      "model_name": "LayoutModel",
      "state": {}
     },
     "944daf73d1b545ed9fe8c753910ed3c2": {
      "model_module": "@jupyter-widgets/base",
      "model_module_version": "1.2.0",
      "model_name": "LayoutModel",
      "state": {}
     },
     "95f95137c244479c8ec23046136e80a7": {
      "model_module": "@jupyter-widgets/controls",
      "model_module_version": "1.5.0",
      "model_name": "ProgressStyleModel",
      "state": {
       "description_width": ""
      }
     },
     "9602d2db6f9d454da410107ae7ce8c3b": {
      "model_module": "@jupyter-widgets/controls",
      "model_module_version": "1.5.0",
      "model_name": "DescriptionStyleModel",
      "state": {
       "description_width": ""
      }
     },
     "98592e07c0404633b051d5d58822a305": {
      "model_module": "@jupyter-widgets/base",
      "model_module_version": "1.2.0",
      "model_name": "LayoutModel",
      "state": {}
     },
     "988d19d35c694577b657e94b2a90ec60": {
      "model_module": "@jupyter-widgets/controls",
      "model_module_version": "1.5.0",
      "model_name": "HTMLModel",
      "state": {
       "layout": "IPY_MODEL_77be598ab5db457a924a47ddf123623a",
       "style": "IPY_MODEL_7766539213184cbf9607ebe185e14682",
       "value": "Downloading: 100%"
      }
     },
     "9972f88b9ed646a2834889f7d96394e3": {
      "model_module": "@jupyter-widgets/controls",
      "model_module_version": "1.5.0",
      "model_name": "HBoxModel",
      "state": {
       "children": [
        "IPY_MODEL_6316a8428d3f4025b6a1d0f1e2958880",
        "IPY_MODEL_23f2b8778606457ca44ed53e1e03ceed",
        "IPY_MODEL_6c88dede4f1c484ca5e0bafbceac4e23"
       ],
       "layout": "IPY_MODEL_0cf79471dd52419484c7c1a181e7ff95"
      }
     },
     "999c4c5b488d498d91d8a2642d5325a2": {
      "model_module": "@jupyter-widgets/base",
      "model_module_version": "1.2.0",
      "model_name": "LayoutModel",
      "state": {}
     },
     "99b59337558e41dd87df2629feece707": {
      "model_module": "@jupyter-widgets/base",
      "model_module_version": "1.2.0",
      "model_name": "LayoutModel",
      "state": {}
     },
     "9a88b0efa26d4fe48e6940234ae3ee52": {
      "model_module": "@jupyter-widgets/controls",
      "model_module_version": "1.5.0",
      "model_name": "HTMLModel",
      "state": {
       "layout": "IPY_MODEL_328331d9080b49d1a6f2e33765dfc488",
       "style": "IPY_MODEL_04415f43b61d43ff9fb0560115955855",
       "value": " 579/579 [00:03&lt;00:00, 170.27it/s]"
      }
     },
     "9a9d754c7f164a9f87d20a8f9d6206da": {
      "model_module": "@jupyter-widgets/controls",
      "model_module_version": "1.5.0",
      "model_name": "DescriptionStyleModel",
      "state": {
       "description_width": ""
      }
     },
     "9b0df7e060844055b7a29d869b3aef29": {
      "model_module": "@jupyter-widgets/base",
      "model_module_version": "1.2.0",
      "model_name": "LayoutModel",
      "state": {}
     },
     "9b5baa26cbf54d94aa0f8a80585788cf": {
      "model_module": "@jupyter-widgets/controls",
      "model_module_version": "1.5.0",
      "model_name": "FloatProgressModel",
      "state": {
       "bar_style": "success",
       "layout": "IPY_MODEL_99b59337558e41dd87df2629feece707",
       "max": 231508,
       "style": "IPY_MODEL_65487520e57743a0b24e2630dc878d8d",
       "value": 231508
      }
     },
     "9bed07989c1a41c49ca3431521f0239f": {
      "model_module": "@jupyter-widgets/base",
      "model_module_version": "1.2.0",
      "model_name": "LayoutModel",
      "state": {}
     },
     "9c087f26325c4a32a7b6ca089b96b1b4": {
      "model_module": "@jupyter-widgets/base",
      "model_module_version": "1.2.0",
      "model_name": "LayoutModel",
      "state": {}
     },
     "9c6f6d299d9f452f84337966a6a8e9fc": {
      "model_module": "@jupyter-widgets/controls",
      "model_module_version": "1.5.0",
      "model_name": "DescriptionStyleModel",
      "state": {
       "description_width": ""
      }
     },
     "9d01bc6c46844d47bd52c8876971b68a": {
      "model_module": "@jupyter-widgets/base",
      "model_module_version": "1.2.0",
      "model_name": "LayoutModel",
      "state": {}
     },
     "9dfca0cb303b43fdb7e7b0b576ba4b6a": {
      "model_module": "@jupyter-widgets/base",
      "model_module_version": "1.2.0",
      "model_name": "LayoutModel",
      "state": {}
     },
     "9ef07321eb3b48f389086484f09e3b2d": {
      "model_module": "@jupyter-widgets/base",
      "model_module_version": "1.2.0",
      "model_name": "LayoutModel",
      "state": {}
     },
     "9f0d0bb0250b46b6a04b9dfacded72e2": {
      "model_module": "@jupyter-widgets/controls",
      "model_module_version": "1.5.0",
      "model_name": "DescriptionStyleModel",
      "state": {
       "description_width": ""
      }
     },
     "a093d8701ca04788a54cec1dbd193e20": {
      "model_module": "@jupyter-widgets/controls",
      "model_module_version": "1.5.0",
      "model_name": "FloatProgressModel",
      "state": {
       "bar_style": "success",
       "layout": "IPY_MODEL_55876ede50bc444aa9ea53be295f13b2",
       "max": 53,
       "style": "IPY_MODEL_cab7ca00f70b40cea03d8499a2b84a74",
       "value": 53
      }
     },
     "a09fa3e3cd1645c5a76bc2c53fc1243d": {
      "model_module": "@jupyter-widgets/base",
      "model_module_version": "1.2.0",
      "model_name": "LayoutModel",
      "state": {}
     },
     "a0ce45b608324bf1b3e88665f6fb5348": {
      "model_module": "@jupyter-widgets/controls",
      "model_module_version": "1.5.0",
      "model_name": "DescriptionStyleModel",
      "state": {
       "description_width": ""
      }
     },
     "a1c3c1ea63c341a98d794c44b88694be": {
      "model_module": "@jupyter-widgets/base",
      "model_module_version": "1.2.0",
      "model_name": "LayoutModel",
      "state": {}
     },
     "a35509cea13e47318628c51a5dcaa3c9": {
      "model_module": "@jupyter-widgets/base",
      "model_module_version": "1.2.0",
      "model_name": "LayoutModel",
      "state": {}
     },
     "a38b771831854a16b6a5c2ec44b21f72": {
      "model_module": "@jupyter-widgets/controls",
      "model_module_version": "1.5.0",
      "model_name": "HBoxModel",
      "state": {
       "children": [
        "IPY_MODEL_b08a1b755d984c30a6d9fad73428a52a",
        "IPY_MODEL_60ff4af8ec6c479196fca79ce9f18f1b",
        "IPY_MODEL_d4ebb7d5cc6a46a68309df43d434b823"
       ],
       "layout": "IPY_MODEL_223409aa0cee49aea0c36d9d3012e765"
      }
     },
     "a4cf2ea9262e4cdeb2fee319163adc2e": {
      "model_module": "@jupyter-widgets/base",
      "model_module_version": "1.2.0",
      "model_name": "LayoutModel",
      "state": {}
     },
     "a5a992ec638149c2946d9c8bb42b16ee": {
      "model_module": "@jupyter-widgets/base",
      "model_module_version": "1.2.0",
      "model_name": "LayoutModel",
      "state": {}
     },
     "a5bb8b42f6d74501955769cbe94cd2d9": {
      "model_module": "@jupyter-widgets/base",
      "model_module_version": "1.2.0",
      "model_name": "LayoutModel",
      "state": {}
     },
     "a7478872a3eb493ead34ebd4c7bb544f": {
      "model_module": "@jupyter-widgets/controls",
      "model_module_version": "1.5.0",
      "model_name": "HTMLModel",
      "state": {
       "layout": "IPY_MODEL_1b4c54a59fc64bf0880996d46d3ed427",
       "style": "IPY_MODEL_536e09c884f44462b5d9ffb7ee900fba",
       "value": "Batches: 100%"
      }
     },
     "a7ade37221174661881433cd6b5dfc63": {
      "model_module": "@jupyter-widgets/controls",
      "model_module_version": "1.5.0",
      "model_name": "ProgressStyleModel",
      "state": {
       "description_width": ""
      }
     },
     "a8e68cdcec7e4292a1c1424e4fb621db": {
      "model_module": "@jupyter-widgets/base",
      "model_module_version": "1.2.0",
      "model_name": "LayoutModel",
      "state": {}
     },
     "a8ef00ff8ce34c2799549952900e99e2": {
      "model_module": "@jupyter-widgets/controls",
      "model_module_version": "1.5.0",
      "model_name": "HTMLModel",
      "state": {
       "layout": "IPY_MODEL_f374018be0514dd898743c6cf9ca19d6",
       "style": "IPY_MODEL_cf3d20090e2f413b9cd4404ba56f932c",
       "value": "Downloading: 100%"
      }
     },
     "a9d94fd21a3d478ba25965b3a4061cde": {
      "model_module": "@jupyter-widgets/controls",
      "model_module_version": "1.5.0",
      "model_name": "FloatProgressModel",
      "state": {
       "bar_style": "success",
       "layout": "IPY_MODEL_81b917126fbe4a9aadeaf6a99e3d0dc8",
       "max": 239,
       "style": "IPY_MODEL_24722b2ff15941daaf814dfe771a3280",
       "value": 239
      }
     },
     "aa051f663a5948ed8ef3ab14816d23d7": {
      "model_module": "@jupyter-widgets/controls",
      "model_module_version": "1.5.0",
      "model_name": "DescriptionStyleModel",
      "state": {
       "description_width": ""
      }
     },
     "aac001502afb4beaa4a50a74c5b410e5": {
      "model_module": "@jupyter-widgets/base",
      "model_module_version": "1.2.0",
      "model_name": "LayoutModel",
      "state": {}
     },
     "aaf0831c86a2472e8d47877deedfe660": {
      "model_module": "@jupyter-widgets/controls",
      "model_module_version": "1.5.0",
      "model_name": "HTMLModel",
      "state": {
       "layout": "IPY_MODEL_944daf73d1b545ed9fe8c753910ed3c2",
       "style": "IPY_MODEL_ce11f82baab44cadbbc16ee2ae5cd502",
       "value": " 571/571 [00:00&lt;00:00, 47.0kB/s]"
      }
     },
     "ab5d03932dae42d89a67d6123e6f00f8": {
      "model_module": "@jupyter-widgets/controls",
      "model_module_version": "1.5.0",
      "model_name": "HBoxModel",
      "state": {
       "children": [
        "IPY_MODEL_542dd25507bd45ebbe5fa98ece556e12",
        "IPY_MODEL_482f2c68ea6f4c8db3130c750fca580b",
        "IPY_MODEL_0a455069a6f64afea3bb12298c48dccf"
       ],
       "layout": "IPY_MODEL_7101d4613b1b4c7aa7f698efb6c840d6"
      }
     },
     "ab8ad3610f3b497f80590b121905494c": {
      "model_module": "@jupyter-widgets/controls",
      "model_module_version": "1.5.0",
      "model_name": "ProgressStyleModel",
      "state": {
       "description_width": ""
      }
     },
     "ac74edb6c4594732a667d116a8359b4c": {
      "model_module": "@jupyter-widgets/controls",
      "model_module_version": "1.5.0",
      "model_name": "HTMLModel",
      "state": {
       "layout": "IPY_MODEL_b9ac27be577443d5b3e7d81f76969711",
       "style": "IPY_MODEL_4a158e2aaf1d450785eae0cdc8f567e8",
       "value": "Downloading: 100%"
      }
     },
     "ac82826d724d42228000aeb4be62f875": {
      "model_module": "@jupyter-widgets/controls",
      "model_module_version": "1.5.0",
      "model_name": "HTMLModel",
      "state": {
       "layout": "IPY_MODEL_b8dce7a2f6dc48e4b52acbac13e2243b",
       "style": "IPY_MODEL_2b2c71697fa04a5387d8c07cc61a0f0f",
       "value": " 18515/18515 [00:26&lt;00:00, 687.16it/s]"
      }
     },
     "b08a1b755d984c30a6d9fad73428a52a": {
      "model_module": "@jupyter-widgets/controls",
      "model_module_version": "1.5.0",
      "model_name": "HTMLModel",
      "state": {
       "layout": "IPY_MODEL_f1a8360fcbdd40d89c9af6de04a3542c",
       "style": "IPY_MODEL_fec2bf461c7048e2aab56e5f05b24cf3",
       "value": "Downloading: 100%"
      }
     },
     "b0d32608d8c045168419eec249630541": {
      "model_module": "@jupyter-widgets/controls",
      "model_module_version": "1.5.0",
      "model_name": "HTMLModel",
      "state": {
       "layout": "IPY_MODEL_160cd7499aaa4c8d8d3d288bc9b9e54f",
       "style": "IPY_MODEL_d7f95179e60e4bef89a47eeb2adcddd5",
       "value": " 579/579 [00:18&lt;00:00, 79.88it/s]"
      }
     },
     "b10f01edaf594aa685aa58ae63040e15": {
      "model_module": "@jupyter-widgets/controls",
      "model_module_version": "1.5.0",
      "model_name": "HTMLModel",
      "state": {
       "layout": "IPY_MODEL_c9691d64b4014e8ab80eabd596293fee",
       "style": "IPY_MODEL_b6423b1e638e417f80cdea548d860e5b",
       "value": "Downloading: 100%"
      }
     },
     "b15be743e5ae4cffbb3dbc895d122c26": {
      "model_module": "@jupyter-widgets/controls",
      "model_module_version": "1.5.0",
      "model_name": "DescriptionStyleModel",
      "state": {
       "description_width": ""
      }
     },
     "b238a25724ed4fea9ffd6030320736ef": {
      "model_module": "@jupyter-widgets/base",
      "model_module_version": "1.2.0",
      "model_name": "LayoutModel",
      "state": {}
     },
     "b5a4da7174994402aac6176c40e3fc7f": {
      "model_module": "@jupyter-widgets/controls",
      "model_module_version": "1.5.0",
      "model_name": "HTMLModel",
      "state": {
       "layout": "IPY_MODEL_9d01bc6c46844d47bd52c8876971b68a",
       "style": "IPY_MODEL_6504d2ce4e3a436489e539d89ce0557a",
       "value": "Downloading: 100%"
      }
     },
     "b6423b1e638e417f80cdea548d860e5b": {
      "model_module": "@jupyter-widgets/controls",
      "model_module_version": "1.5.0",
      "model_name": "DescriptionStyleModel",
      "state": {
       "description_width": ""
      }
     },
     "b6f6b8e2b623439aa9f8f32d9d398cb1": {
      "model_module": "@jupyter-widgets/base",
      "model_module_version": "1.2.0",
      "model_name": "LayoutModel",
      "state": {}
     },
     "b7ed700ab25b4d1db764dafdee1d6f58": {
      "model_module": "@jupyter-widgets/controls",
      "model_module_version": "1.5.0",
      "model_name": "HTMLModel",
      "state": {
       "layout": "IPY_MODEL_fc94e10ba0e244efa1618dd2386b5b37",
       "style": "IPY_MODEL_9f0d0bb0250b46b6a04b9dfacded72e2",
       "value": " 349/349 [00:00&lt;00:00, 38.7kB/s]"
      }
     },
     "b8dce7a2f6dc48e4b52acbac13e2243b": {
      "model_module": "@jupyter-widgets/base",
      "model_module_version": "1.2.0",
      "model_name": "LayoutModel",
      "state": {}
     },
     "b9ac27be577443d5b3e7d81f76969711": {
      "model_module": "@jupyter-widgets/base",
      "model_module_version": "1.2.0",
      "model_name": "LayoutModel",
      "state": {}
     },
     "baa6e03b18c948e99c410886923ce597": {
      "model_module": "@jupyter-widgets/base",
      "model_module_version": "1.2.0",
      "model_name": "LayoutModel",
      "state": {}
     },
     "bd0cf1a8ebd44deab4fd24ab6f782067": {
      "model_module": "@jupyter-widgets/base",
      "model_module_version": "1.2.0",
      "model_name": "LayoutModel",
      "state": {}
     },
     "bd235e21cb5843f2a4aaa19a075c2475": {
      "model_module": "@jupyter-widgets/base",
      "model_module_version": "1.2.0",
      "model_name": "LayoutModel",
      "state": {}
     },
     "bd80eb66727844579018b97bbaf7d405": {
      "model_module": "@jupyter-widgets/controls",
      "model_module_version": "1.5.0",
      "model_name": "HBoxModel",
      "state": {
       "children": [
        "IPY_MODEL_b5a4da7174994402aac6176c40e3fc7f",
        "IPY_MODEL_dc1378cd966c4ff5b60de4d2d8c3d6de",
        "IPY_MODEL_83f7485532c143b6b50918d64ecc7e00"
       ],
       "layout": "IPY_MODEL_6e456eb559c04a3593387829efb5f7ac"
      }
     },
     "bf001a738222484ea36388f16f4486ff": {
      "model_module": "@jupyter-widgets/controls",
      "model_module_version": "1.5.0",
      "model_name": "HTMLModel",
      "state": {
       "layout": "IPY_MODEL_f33befe86f1047668c458bed4afc9db9",
       "style": "IPY_MODEL_22466cd853934d169a4cdbca0b707eee",
       "value": "Downloading: 100%"
      }
     },
     "c088282cb1c8498ba4c785c2a6060078": {
      "model_module": "@jupyter-widgets/base",
      "model_module_version": "1.2.0",
      "model_name": "LayoutModel",
      "state": {}
     },
     "c1c0d63f26b245abae2f77c034530309": {
      "model_module": "@jupyter-widgets/controls",
      "model_module_version": "1.5.0",
      "model_name": "ProgressStyleModel",
      "state": {
       "description_width": ""
      }
     },
     "c29bc78c9be94fa9b64157a5f9e52a05": {
      "model_module": "@jupyter-widgets/controls",
      "model_module_version": "1.5.0",
      "model_name": "HTMLModel",
      "state": {
       "layout": "IPY_MODEL_b6f6b8e2b623439aa9f8f32d9d398cb1",
       "style": "IPY_MODEL_2df99663a48046adb31657b89e9ad6a6",
       "value": " 438M/438M [00:39&lt;00:00, 11.2MB/s]"
      }
     },
     "c3048245c41e4787bfa905ebdb60bbe9": {
      "model_module": "@jupyter-widgets/controls",
      "model_module_version": "1.5.0",
      "model_name": "FloatProgressModel",
      "state": {
       "bar_style": "success",
       "layout": "IPY_MODEL_2f7dd50d6769408cafcbcb5ba0be6f51",
       "max": 1175,
       "style": "IPY_MODEL_3dc353ee396849edba4717a28b8a6f12",
       "value": 1175
      }
     },
     "c3be8775efb642aaa35a62a09544bdaa": {
      "model_module": "@jupyter-widgets/base",
      "model_module_version": "1.2.0",
      "model_name": "LayoutModel",
      "state": {}
     },
     "c3da5ccf47e04e90a4153c8b7bda421c": {
      "model_module": "@jupyter-widgets/base",
      "model_module_version": "1.2.0",
      "model_name": "LayoutModel",
      "state": {}
     },
     "c41f0ac4207149dab8fc184256e92a82": {
      "model_module": "@jupyter-widgets/base",
      "model_module_version": "1.2.0",
      "model_name": "LayoutModel",
      "state": {}
     },
     "c4353f484fb64950b6b589c68ed9c720": {
      "model_module": "@jupyter-widgets/controls",
      "model_module_version": "1.5.0",
      "model_name": "DescriptionStyleModel",
      "state": {
       "description_width": ""
      }
     },
     "c453352c4987442c8b26b7b2a5486c0a": {
      "model_module": "@jupyter-widgets/controls",
      "model_module_version": "1.5.0",
      "model_name": "ProgressStyleModel",
      "state": {
       "description_width": ""
      }
     },
     "c4c7e9dac6a143629aa3dc7ce1081b81": {
      "model_module": "@jupyter-widgets/controls",
      "model_module_version": "1.5.0",
      "model_name": "DescriptionStyleModel",
      "state": {
       "description_width": ""
      }
     },
     "c4f0b16ea88c40d09634426057c90a71": {
      "model_module": "@jupyter-widgets/controls",
      "model_module_version": "1.5.0",
      "model_name": "FloatProgressModel",
      "state": {
       "bar_style": "success",
       "layout": "IPY_MODEL_1718c9960ae94bbab70cb85aaf0558a3",
       "max": 466247,
       "style": "IPY_MODEL_1ee4fa7a4f0d432abecfd0a69bb5cba8",
       "value": 466247
      }
     },
     "c52564189d9143cf8f423cc3095ed0ec": {
      "model_module": "@jupyter-widgets/controls",
      "model_module_version": "1.5.0",
      "model_name": "DescriptionStyleModel",
      "state": {
       "description_width": ""
      }
     },
     "c5370df35e2843c0b79c21c08d89398c": {
      "model_module": "@jupyter-widgets/controls",
      "model_module_version": "1.5.0",
      "model_name": "HTMLModel",
      "state": {
       "layout": "IPY_MODEL_329e894e1de34aa885f1d2800f4416b7",
       "style": "IPY_MODEL_69f0ac910d314cac9dbd4665dabe77a2",
       "value": "Downloading: 100%"
      }
     },
     "c5398e49607e48058a3ca3709fde8a7b": {
      "model_module": "@jupyter-widgets/controls",
      "model_module_version": "1.5.0",
      "model_name": "HTMLModel",
      "state": {
       "layout": "IPY_MODEL_c088282cb1c8498ba4c785c2a6060078",
       "style": "IPY_MODEL_f4222a0f00cf494ab996b207a156ae0e",
       "value": "Downloading: 100%"
      }
     },
     "c6cf01b8aea14bdb8c7b0bb3d63603a0": {
      "model_module": "@jupyter-widgets/controls",
      "model_module_version": "1.5.0",
      "model_name": "ProgressStyleModel",
      "state": {
       "description_width": ""
      }
     },
     "c816c14c5eb34e94b1ab82a8e0c911dd": {
      "model_module": "@jupyter-widgets/controls",
      "model_module_version": "1.5.0",
      "model_name": "HBoxModel",
      "state": {
       "children": [
        "IPY_MODEL_09497150d141447296c69bdad21795dd",
        "IPY_MODEL_2674f0e3cb284fe0aaa17d3dcf01e441",
        "IPY_MODEL_b0d32608d8c045168419eec249630541"
       ],
       "layout": "IPY_MODEL_93a472da344f43c9b07dc5500505f347"
      }
     },
     "c83f3c06fcf64f93a22803841e4cbe3c": {
      "model_module": "@jupyter-widgets/controls",
      "model_module_version": "1.5.0",
      "model_name": "DescriptionStyleModel",
      "state": {
       "description_width": ""
      }
     },
     "c9691d64b4014e8ab80eabd596293fee": {
      "model_module": "@jupyter-widgets/base",
      "model_module_version": "1.2.0",
      "model_name": "LayoutModel",
      "state": {}
     },
     "ca8cf896e6474ec7bfb1ae0e31864345": {
      "model_module": "@jupyter-widgets/base",
      "model_module_version": "1.2.0",
      "model_name": "LayoutModel",
      "state": {}
     },
     "cab7ca00f70b40cea03d8499a2b84a74": {
      "model_module": "@jupyter-widgets/controls",
      "model_module_version": "1.5.0",
      "model_name": "ProgressStyleModel",
      "state": {
       "description_width": ""
      }
     },
     "cb5795df09f7458882e9801d6cd887dc": {
      "model_module": "@jupyter-widgets/base",
      "model_module_version": "1.2.0",
      "model_name": "LayoutModel",
      "state": {}
     },
     "cc0474be71344368b7ca66afd6a749d5": {
      "model_module": "@jupyter-widgets/controls",
      "model_module_version": "1.5.0",
      "model_name": "DescriptionStyleModel",
      "state": {
       "description_width": ""
      }
     },
     "cd02e395a5ca4dc2ade6948ddace9387": {
      "model_module": "@jupyter-widgets/controls",
      "model_module_version": "1.5.0",
      "model_name": "HTMLModel",
      "state": {
       "layout": "IPY_MODEL_82ab1f69041b4445ad464de659c7d475",
       "style": "IPY_MODEL_f80e217b0bee4cb1926bc0acbf837388",
       "value": "Downloading: 100%"
      }
     },
     "cd16c7ba85ed430ea386bf37783d1500": {
      "model_module": "@jupyter-widgets/controls",
      "model_module_version": "1.5.0",
      "model_name": "ProgressStyleModel",
      "state": {
       "description_width": ""
      }
     },
     "ce11f82baab44cadbbc16ee2ae5cd502": {
      "model_module": "@jupyter-widgets/controls",
      "model_module_version": "1.5.0",
      "model_name": "DescriptionStyleModel",
      "state": {
       "description_width": ""
      }
     },
     "cead8914f0d648ff9eae10e7fe6b8696": {
      "model_module": "@jupyter-widgets/base",
      "model_module_version": "1.2.0",
      "model_name": "LayoutModel",
      "state": {}
     },
     "cf3d20090e2f413b9cd4404ba56f932c": {
      "model_module": "@jupyter-widgets/controls",
      "model_module_version": "1.5.0",
      "model_name": "DescriptionStyleModel",
      "state": {
       "description_width": ""
      }
     },
     "cfa92c6ee46747dc97e5cd1827d1109b": {
      "model_module": "@jupyter-widgets/controls",
      "model_module_version": "1.5.0",
      "model_name": "FloatProgressModel",
      "state": {
       "bar_style": "success",
       "layout": "IPY_MODEL_5e5f6513a1bb4efca2fa3cc25dca9536",
       "max": 39265,
       "style": "IPY_MODEL_76ec2e2e949248eaaece172f1eeea487",
       "value": 39265
      }
     },
     "d1976883b19d4c878a6317d3ab5f6939": {
      "model_module": "@jupyter-widgets/base",
      "model_module_version": "1.2.0",
      "model_name": "LayoutModel",
      "state": {}
     },
     "d1a7f955dbaf4929851266dbd500a20a": {
      "model_module": "@jupyter-widgets/controls",
      "model_module_version": "1.5.0",
      "model_name": "FloatProgressModel",
      "state": {
       "bar_style": "success",
       "layout": "IPY_MODEL_feb5f871af804306941405c9cacb7683",
       "max": 53,
       "style": "IPY_MODEL_24ed11af9d6840ce9d45e22a9c59d272",
       "value": 53
      }
     },
     "d1e55a74ee0f4046b737a0b3ce94c2cf": {
      "model_module": "@jupyter-widgets/controls",
      "model_module_version": "1.5.0",
      "model_name": "DescriptionStyleModel",
      "state": {
       "description_width": ""
      }
     },
     "d28dd9cb22454c1e960f48b0f6ee4f7f": {
      "model_module": "@jupyter-widgets/controls",
      "model_module_version": "1.5.0",
      "model_name": "HBoxModel",
      "state": {
       "children": [
        "IPY_MODEL_0d630d00d6ff4a7a8e1645c3565e3816",
        "IPY_MODEL_0cca8204970648cd9ccb66dc0792286b",
        "IPY_MODEL_b7ed700ab25b4d1db764dafdee1d6f58"
       ],
       "layout": "IPY_MODEL_3e46264960574eafb67e07225d2d6a77"
      }
     },
     "d32b4e6e92e846e7a53b1bd7238de4ee": {
      "model_module": "@jupyter-widgets/base",
      "model_module_version": "1.2.0",
      "model_name": "LayoutModel",
      "state": {}
     },
     "d38adcc825e44a44bc35d6b466f8a858": {
      "model_module": "@jupyter-widgets/base",
      "model_module_version": "1.2.0",
      "model_name": "LayoutModel",
      "state": {}
     },
     "d3e2002918e54abb90625544174afb8a": {
      "model_module": "@jupyter-widgets/controls",
      "model_module_version": "1.5.0",
      "model_name": "HBoxModel",
      "state": {
       "children": [
        "IPY_MODEL_4465b991f38b43c190e2879a1c7b1eec",
        "IPY_MODEL_8a2de424c8e0419591a0168668e9f118",
        "IPY_MODEL_c29bc78c9be94fa9b64157a5f9e52a05"
       ],
       "layout": "IPY_MODEL_286de65fd19c42829ce84edd6a011f94"
      }
     },
     "d4ebb7d5cc6a46a68309df43d434b823": {
      "model_module": "@jupyter-widgets/controls",
      "model_module_version": "1.5.0",
      "model_name": "HTMLModel",
      "state": {
       "layout": "IPY_MODEL_94320da5bf374fa89074e9391780ec94",
       "style": "IPY_MODEL_8361636588cd41aba9e50853e23f650c",
       "value": " 39.3k/39.3k [00:00&lt;00:00, 24.0kB/s]"
      }
     },
     "d527dadec6d64bc1a25ec2299bf4d114": {
      "model_module": "@jupyter-widgets/base",
      "model_module_version": "1.2.0",
      "model_name": "LayoutModel",
      "state": {}
     },
     "d5c2a693fc1147dbb211d20b8ea11541": {
      "model_module": "@jupyter-widgets/controls",
      "model_module_version": "1.5.0",
      "model_name": "DescriptionStyleModel",
      "state": {
       "description_width": ""
      }
     },
     "d5e18010150b4de9ae4b55d0f7509bf4": {
      "model_module": "@jupyter-widgets/controls",
      "model_module_version": "1.5.0",
      "model_name": "DescriptionStyleModel",
      "state": {
       "description_width": ""
      }
     },
     "d5edc45de3f54409a17c64008f815904": {
      "model_module": "@jupyter-widgets/controls",
      "model_module_version": "1.5.0",
      "model_name": "DescriptionStyleModel",
      "state": {
       "description_width": ""
      }
     },
     "d6b2e82e5fcc43119d5aa50fcae0760c": {
      "model_module": "@jupyter-widgets/controls",
      "model_module_version": "1.5.0",
      "model_name": "HTMLModel",
      "state": {
       "layout": "IPY_MODEL_a5a992ec638149c2946d9c8bb42b16ee",
       "style": "IPY_MODEL_9602d2db6f9d454da410107ae7ce8c3b",
       "value": " 350/350 [00:00&lt;00:00, 28.3kB/s]"
      }
     },
     "d6fc8661aa2347b6addf86bbf532735a": {
      "model_module": "@jupyter-widgets/controls",
      "model_module_version": "1.5.0",
      "model_name": "HTMLModel",
      "state": {
       "layout": "IPY_MODEL_cb5795df09f7458882e9801d6cd887dc",
       "style": "IPY_MODEL_57e58e7b09ce42448d962eea2ad55e50",
       "value": " 190/190 [00:00&lt;00:00, 14.2kB/s]"
      }
     },
     "d729feb415a44d488e25bd0255bc6eb6": {
      "model_module": "@jupyter-widgets/controls",
      "model_module_version": "1.5.0",
      "model_name": "DescriptionStyleModel",
      "state": {
       "description_width": ""
      }
     },
     "d7412996ef08416ab4480e8bfcec4d52": {
      "model_module": "@jupyter-widgets/controls",
      "model_module_version": "1.5.0",
      "model_name": "HTMLModel",
      "state": {
       "layout": "IPY_MODEL_aac001502afb4beaa4a50a74c5b410e5",
       "style": "IPY_MODEL_7ba2241fb3f84d51a2d9e96187c7fda1",
       "value": " 1.18k/1.18k [00:00&lt;00:00, 82.4kB/s]"
      }
     },
     "d74f0a53cc46461e99244894d4023f9c": {
      "model_module": "@jupyter-widgets/base",
      "model_module_version": "1.2.0",
      "model_name": "LayoutModel",
      "state": {}
     },
     "d754ebf2b44446b8a3cd20f988ded475": {
      "model_module": "@jupyter-widgets/base",
      "model_module_version": "1.2.0",
      "model_name": "LayoutModel",
      "state": {}
     },
     "d76f6279a0ff41f49ba4b6eebd55a891": {
      "model_module": "@jupyter-widgets/controls",
      "model_module_version": "1.5.0",
      "model_name": "HBoxModel",
      "state": {
       "children": [
        "IPY_MODEL_ac74edb6c4594732a667d116a8359b4c",
        "IPY_MODEL_c3048245c41e4787bfa905ebdb60bbe9",
        "IPY_MODEL_d7412996ef08416ab4480e8bfcec4d52"
       ],
       "layout": "IPY_MODEL_167317f557b14d6198ec66a9862b6404"
      }
     },
     "d7f95179e60e4bef89a47eeb2adcddd5": {
      "model_module": "@jupyter-widgets/controls",
      "model_module_version": "1.5.0",
      "model_name": "DescriptionStyleModel",
      "state": {
       "description_width": ""
      }
     },
     "d964c6df21984fa0820c9fe7fbca4fe4": {
      "model_module": "@jupyter-widgets/controls",
      "model_module_version": "1.5.0",
      "model_name": "ProgressStyleModel",
      "state": {
       "description_width": ""
      }
     },
     "d982b05d1ea545b085fbe84685ca40e0": {
      "model_module": "@jupyter-widgets/controls",
      "model_module_version": "1.5.0",
      "model_name": "DescriptionStyleModel",
      "state": {
       "description_width": ""
      }
     },
     "d9e5bb201d984800a9a103ceb226ead6": {
      "model_module": "@jupyter-widgets/controls",
      "model_module_version": "1.5.0",
      "model_name": "DescriptionStyleModel",
      "state": {
       "description_width": ""
      }
     },
     "da9f9dfeb55240328b66b65aa508441f": {
      "model_module": "@jupyter-widgets/controls",
      "model_module_version": "1.5.0",
      "model_name": "HBoxModel",
      "state": {
       "children": [
        "IPY_MODEL_b10f01edaf594aa685aa58ae63040e15",
        "IPY_MODEL_cfa92c6ee46747dc97e5cd1827d1109b",
        "IPY_MODEL_6ddebb8fafba4353ac39661b05bf24be"
       ],
       "layout": "IPY_MODEL_1c5868f63d294b1daf7fe1ad92ce95e6"
      }
     },
     "dacb3f39ddb54bed9e9c652199f393a9": {
      "model_module": "@jupyter-widgets/controls",
      "model_module_version": "1.5.0",
      "model_name": "DescriptionStyleModel",
      "state": {
       "description_width": ""
      }
     },
     "dc1378cd966c4ff5b60de4d2d8c3d6de": {
      "model_module": "@jupyter-widgets/controls",
      "model_module_version": "1.5.0",
      "model_name": "FloatProgressModel",
      "state": {
       "bar_style": "success",
       "layout": "IPY_MODEL_437492ef981046078724e7a2244fdf14",
       "max": 10571,
       "style": "IPY_MODEL_a7ade37221174661881433cd6b5dfc63",
       "value": 10571
      }
     },
     "de3af9e916924e92b416d5d035a8e932": {
      "model_module": "@jupyter-widgets/controls",
      "model_module_version": "1.5.0",
      "model_name": "DescriptionStyleModel",
      "state": {
       "description_width": ""
      }
     },
     "de4676014912424db8549e5b4bdee0f3": {
      "model_module": "@jupyter-widgets/controls",
      "model_module_version": "1.5.0",
      "model_name": "HTMLModel",
      "state": {
       "layout": "IPY_MODEL_f732761939474b5fbce8239ef2e01654",
       "style": "IPY_MODEL_c52564189d9143cf8f423cc3095ed0ec",
       "value": " 112/112 [00:00&lt;00:00, 3.50kB/s]"
      }
     },
     "df45ed97c2e1418090e5ffe1d2013a69": {
      "model_module": "@jupyter-widgets/controls",
      "model_module_version": "1.5.0",
      "model_name": "HBoxModel",
      "state": {
       "children": [
        "IPY_MODEL_988d19d35c694577b657e94b2a90ec60",
        "IPY_MODEL_4fd557dd3f79441f900131f616cd31a5",
        "IPY_MODEL_6441e094900143cdb8b89732390da06b"
       ],
       "layout": "IPY_MODEL_35222774e3584bdbb0513139e5e2fbb0"
      }
     },
     "df93df1a22e04122808808976c20608c": {
      "model_module": "@jupyter-widgets/base",
      "model_module_version": "1.2.0",
      "model_name": "LayoutModel",
      "state": {}
     },
     "dfcd8763242f4f08a7f0af2082df6099": {
      "model_module": "@jupyter-widgets/base",
      "model_module_version": "1.2.0",
      "model_name": "LayoutModel",
      "state": {}
     },
     "e0bc4ccf5d8243b89242252c7bb18ba3": {
      "model_module": "@jupyter-widgets/controls",
      "model_module_version": "1.5.0",
      "model_name": "HBoxModel",
      "state": {
       "children": [
        "IPY_MODEL_cd02e395a5ca4dc2ade6948ddace9387",
        "IPY_MODEL_5030a1bedb2b4f71b00cd61474e5320d",
        "IPY_MODEL_3373df5779464bda92dbf9ceeee9f00b"
       ],
       "layout": "IPY_MODEL_0cb303b33c904182906aee355d8148fb"
      }
     },
     "e1af7941f4654669ad9aa4160581e23c": {
      "model_module": "@jupyter-widgets/controls",
      "model_module_version": "1.5.0",
      "model_name": "HBoxModel",
      "state": {
       "children": [
        "IPY_MODEL_1e3ea30fbab845939256113e7f3d46a0",
        "IPY_MODEL_6465a5f2a6524e0bae5c39bac9658da4",
        "IPY_MODEL_d6b2e82e5fcc43119d5aa50fcae0760c"
       ],
       "layout": "IPY_MODEL_a8e68cdcec7e4292a1c1424e4fb621db"
      }
     },
     "e1d820fa65784b2098ea63a7cfb8c2f0": {
      "model_module": "@jupyter-widgets/controls",
      "model_module_version": "1.5.0",
      "model_name": "HBoxModel",
      "state": {
       "children": [
        "IPY_MODEL_8bd8c77699754e478899d7a715ef4668",
        "IPY_MODEL_c4f0b16ea88c40d09634426057c90a71",
        "IPY_MODEL_05b6cc8ebdf44733880a1b0c16c9dbcb"
       ],
       "layout": "IPY_MODEL_779da0597fb14e02b8269cde50ab4bc4"
      }
     },
     "e2105ffe902747d9af219fddabfc1185": {
      "model_module": "@jupyter-widgets/controls",
      "model_module_version": "1.5.0",
      "model_name": "HBoxModel",
      "state": {
       "children": [
        "IPY_MODEL_f023306e246045aba0c9301b9e0deed4",
        "IPY_MODEL_82e7eb72c1c642d28316a462a3ccf9fb",
        "IPY_MODEL_de4676014912424db8549e5b4bdee0f3"
       ],
       "layout": "IPY_MODEL_8a1cb326c0bf494cb5ea64de1ec383ac"
      }
     },
     "e39de0334c0d4b46a3d483a20ac13614": {
      "model_module": "@jupyter-widgets/controls",
      "model_module_version": "1.5.0",
      "model_name": "HBoxModel",
      "state": {
       "children": [
        "IPY_MODEL_c5370df35e2843c0b79c21c08d89398c",
        "IPY_MODEL_22149186a2c04f40b5b3389720851129",
        "IPY_MODEL_8d8bc8c2d31c422da62626e6a63c529d"
       ],
       "layout": "IPY_MODEL_034a96f758084aa5a5ee74ac1fdf0ee1"
      }
     },
     "e3c55748a3dc4ed087ddbc52222f61a0": {
      "model_module": "@jupyter-widgets/controls",
      "model_module_version": "1.5.0",
      "model_name": "ProgressStyleModel",
      "state": {
       "description_width": ""
      }
     },
     "e4a5e07d30fa4616876a67b76f764701": {
      "model_module": "@jupyter-widgets/base",
      "model_module_version": "1.2.0",
      "model_name": "LayoutModel",
      "state": {}
     },
     "e4fd19ed7f9a4c1783edb172b992235a": {
      "model_module": "@jupyter-widgets/controls",
      "model_module_version": "1.5.0",
      "model_name": "FloatProgressModel",
      "state": {
       "bar_style": "success",
       "layout": "IPY_MODEL_47f8c388376f4aeabfdef5f112071846",
       "max": 10610,
       "style": "IPY_MODEL_c453352c4987442c8b26b7b2a5486c0a",
       "value": 10610
      }
     },
     "e63624f8db9f4186ad1b220d6cae2b7d": {
      "model_module": "@jupyter-widgets/controls",
      "model_module_version": "1.5.0",
      "model_name": "HTMLModel",
      "state": {
       "layout": "IPY_MODEL_c3da5ccf47e04e90a4153c8b7bda421c",
       "style": "IPY_MODEL_3126d22ed4934c8492e2e5f3696dbf57",
       "value": " 190/190 [00:00&lt;00:00, 13.5kB/s]"
      }
     },
     "e63dbb1cf6b54cf7a5a16c384d3bb59f": {
      "model_module": "@jupyter-widgets/controls",
      "model_module_version": "1.5.0",
      "model_name": "HTMLModel",
      "state": {
       "layout": "IPY_MODEL_9bed07989c1a41c49ca3431521f0239f",
       "style": "IPY_MODEL_30e7af8885084758b4398f48392da1db",
       "value": "Building Distances Matrix: 100%"
      }
     },
     "e699feae99f34dee81e2f0b4b55da260": {
      "model_module": "@jupyter-widgets/controls",
      "model_module_version": "1.5.0",
      "model_name": "HTMLModel",
      "state": {
       "layout": "IPY_MODEL_86730f8c6647434c9b7eba27d8531154",
       "style": "IPY_MODEL_d5edc45de3f54409a17c64008f815904",
       "value": "Downloading: 100%"
      }
     },
     "e70121ecc59e491fbca63560f23dd15c": {
      "model_module": "@jupyter-widgets/base",
      "model_module_version": "1.2.0",
      "model_name": "LayoutModel",
      "state": {}
     },
     "e989eec976be4452b2339b372c175939": {
      "model_module": "@jupyter-widgets/controls",
      "model_module_version": "1.5.0",
      "model_name": "HTMLModel",
      "state": {
       "layout": "IPY_MODEL_6eeba6baeedc4919bba15d3091958c89",
       "style": "IPY_MODEL_c4c7e9dac6a143629aa3dc7ce1081b81",
       "value": "Downloading: 100%"
      }
     },
     "ea2106cf2a99444db7327bf89387f157": {
      "model_module": "@jupyter-widgets/controls",
      "model_module_version": "1.5.0",
      "model_name": "HTMLModel",
      "state": {
       "layout": "IPY_MODEL_dfcd8763242f4f08a7f0af2082df6099",
       "style": "IPY_MODEL_60e16bb31e1543f38a0027cea2059878",
       "value": " 116/116 [00:00&lt;00:00, 7.09kB/s]"
      }
     },
     "ea4742d2563440c2b3e05bcbce85b2c6": {
      "model_module": "@jupyter-widgets/controls",
      "model_module_version": "1.5.0",
      "model_name": "HTMLModel",
      "state": {
       "layout": "IPY_MODEL_8920d0a7eadd452088c9c6f19073a4a9",
       "style": "IPY_MODEL_218617c4d87d4615b26dbe0976a4131c",
       "value": "Downloading: 100%"
      }
     },
     "ea695dc6e7394e788830c672324c7c75": {
      "model_module": "@jupyter-widgets/controls",
      "model_module_version": "1.5.0",
      "model_name": "DescriptionStyleModel",
      "state": {
       "description_width": ""
      }
     },
     "eabc4cd93e2148f78396c3be0b566bfb": {
      "model_module": "@jupyter-widgets/controls",
      "model_module_version": "1.5.0",
      "model_name": "HTMLModel",
      "state": {
       "layout": "IPY_MODEL_69c23c1f290342ac9970f56be09b3ef2",
       "style": "IPY_MODEL_68c7e4b112b443c4b077d0eadab0b53f",
       "value": "Building Distances Matrix: 100%"
      }
     },
     "ec9d7102f4a24ce98350db5f51810c8d": {
      "model_module": "@jupyter-widgets/base",
      "model_module_version": "1.2.0",
      "model_name": "LayoutModel",
      "state": {}
     },
     "ecd072f7b4914dc6ad06110d57bf8304": {
      "model_module": "@jupyter-widgets/controls",
      "model_module_version": "1.5.0",
      "model_name": "DescriptionStyleModel",
      "state": {
       "description_width": ""
      }
     },
     "ef445dce1f824b4ca5e9ce8abca7cd91": {
      "model_module": "@jupyter-widgets/base",
      "model_module_version": "1.2.0",
      "model_name": "LayoutModel",
      "state": {}
     },
     "ef7b1d0b1f654c06b09915db6d6bad8b": {
      "model_module": "@jupyter-widgets/controls",
      "model_module_version": "1.5.0",
      "model_name": "FloatProgressModel",
      "state": {
       "bar_style": "success",
       "layout": "IPY_MODEL_ca8cf896e6474ec7bfb1ae0e31864345",
       "max": 18515,
       "style": "IPY_MODEL_f8e5e853db874017940654f6408e8016",
       "value": 18515
      }
     },
     "f023306e246045aba0c9301b9e0deed4": {
      "model_module": "@jupyter-widgets/controls",
      "model_module_version": "1.5.0",
      "model_name": "HTMLModel",
      "state": {
       "layout": "IPY_MODEL_df93df1a22e04122808808976c20608c",
       "style": "IPY_MODEL_c4353f484fb64950b6b589c68ed9c720",
       "value": "Downloading: 100%"
      }
     },
     "f1a8360fcbdd40d89c9af6de04a3542c": {
      "model_module": "@jupyter-widgets/base",
      "model_module_version": "1.2.0",
      "model_name": "LayoutModel",
      "state": {}
     },
     "f32572a59e4d43ca9e706f58e84d6808": {
      "model_module": "@jupyter-widgets/base",
      "model_module_version": "1.2.0",
      "model_name": "LayoutModel",
      "state": {}
     },
     "f33befe86f1047668c458bed4afc9db9": {
      "model_module": "@jupyter-widgets/base",
      "model_module_version": "1.2.0",
      "model_name": "LayoutModel",
      "state": {}
     },
     "f374018be0514dd898743c6cf9ca19d6": {
      "model_module": "@jupyter-widgets/base",
      "model_module_version": "1.2.0",
      "model_name": "LayoutModel",
      "state": {}
     },
     "f4222a0f00cf494ab996b207a156ae0e": {
      "model_module": "@jupyter-widgets/controls",
      "model_module_version": "1.5.0",
      "model_name": "DescriptionStyleModel",
      "state": {
       "description_width": ""
      }
     },
     "f4c9ec0b3bed4da5981ce17ff2e7f2ae": {
      "model_module": "@jupyter-widgets/base",
      "model_module_version": "1.2.0",
      "model_name": "LayoutModel",
      "state": {}
     },
     "f4fb05a54d8f4020bc57443bce020bf0": {
      "model_module": "@jupyter-widgets/controls",
      "model_module_version": "1.5.0",
      "model_name": "ProgressStyleModel",
      "state": {
       "description_width": ""
      }
     },
     "f5872489869545bcaf1131ee45cc9d29": {
      "model_module": "@jupyter-widgets/controls",
      "model_module_version": "1.5.0",
      "model_name": "ProgressStyleModel",
      "state": {
       "description_width": ""
      }
     },
     "f6505b4fc1bf4a49915c37297de35c3d": {
      "model_module": "@jupyter-widgets/base",
      "model_module_version": "1.2.0",
      "model_name": "LayoutModel",
      "state": {}
     },
     "f675948e43984329baed25782362b2a3": {
      "model_module": "@jupyter-widgets/base",
      "model_module_version": "1.2.0",
      "model_name": "LayoutModel",
      "state": {}
     },
     "f732761939474b5fbce8239ef2e01654": {
      "model_module": "@jupyter-widgets/base",
      "model_module_version": "1.2.0",
      "model_name": "LayoutModel",
      "state": {}
     },
     "f791149b534a455ebb6635d8b547f0b1": {
      "model_module": "@jupyter-widgets/controls",
      "model_module_version": "1.5.0",
      "model_name": "DescriptionStyleModel",
      "state": {
       "description_width": ""
      }
     },
     "f80e217b0bee4cb1926bc0acbf837388": {
      "model_module": "@jupyter-widgets/controls",
      "model_module_version": "1.5.0",
      "model_name": "DescriptionStyleModel",
      "state": {
       "description_width": ""
      }
     },
     "f8e5e853db874017940654f6408e8016": {
      "model_module": "@jupyter-widgets/controls",
      "model_module_version": "1.5.0",
      "model_name": "ProgressStyleModel",
      "state": {
       "description_width": ""
      }
     },
     "f968154b7cae415f8434d9156b737efd": {
      "model_module": "@jupyter-widgets/controls",
      "model_module_version": "1.5.0",
      "model_name": "HBoxModel",
      "state": {
       "children": [
        "IPY_MODEL_e63dbb1cf6b54cf7a5a16c384d3bb59f",
        "IPY_MODEL_6d454ba08d9044c0a76a413999c0b406",
        "IPY_MODEL_ac82826d724d42228000aeb4be62f875"
       ],
       "layout": "IPY_MODEL_a5bb8b42f6d74501955769cbe94cd2d9"
      }
     },
     "f9935735288e47c3a6e14bb5c85f41d9": {
      "model_module": "@jupyter-widgets/base",
      "model_module_version": "1.2.0",
      "model_name": "LayoutModel",
      "state": {}
     },
     "f9d2602b54a3483dac0b34d7eba94a87": {
      "model_module": "@jupyter-widgets/base",
      "model_module_version": "1.2.0",
      "model_name": "LayoutModel",
      "state": {}
     },
     "fc94e10ba0e244efa1618dd2386b5b37": {
      "model_module": "@jupyter-widgets/base",
      "model_module_version": "1.2.0",
      "model_name": "LayoutModel",
      "state": {}
     },
     "fda7b5bc514a4dfb89b29b8687864598": {
      "model_module": "@jupyter-widgets/controls",
      "model_module_version": "1.5.0",
      "model_name": "HTMLModel",
      "state": {
       "layout": "IPY_MODEL_d1976883b19d4c878a6317d3ab5f6939",
       "style": "IPY_MODEL_428f65b2231844968eb150ae4970e231",
       "value": " 10.6k/10.6k [00:00&lt;00:00, 731kB/s]"
      }
     },
     "feb5f871af804306941405c9cacb7683": {
      "model_module": "@jupyter-widgets/base",
      "model_module_version": "1.2.0",
      "model_name": "LayoutModel",
      "state": {}
     },
     "fec2bf461c7048e2aab56e5f05b24cf3": {
      "model_module": "@jupyter-widgets/controls",
      "model_module_version": "1.5.0",
      "model_name": "DescriptionStyleModel",
      "state": {
       "description_width": ""
      }
     },
     "fef37ce5ca9f41d9970852a0f9095d5d": {
      "model_module": "@jupyter-widgets/controls",
      "model_module_version": "1.5.0",
      "model_name": "HBoxModel",
      "state": {
       "children": [
        "IPY_MODEL_c5398e49607e48058a3ca3709fde8a7b",
        "IPY_MODEL_3c48b09e00fd4fdeb6e8ab0227c0e82d",
        "IPY_MODEL_0ab8e79dc7c34fef95ac51859dd0bdf0"
       ],
       "layout": "IPY_MODEL_835ab8447a1745349742c3511fa8c3a0"
      }
     }
    },
    "version_major": 2,
    "version_minor": 0
   }
  }
 },
 "nbformat": 4,
 "nbformat_minor": 5
}
