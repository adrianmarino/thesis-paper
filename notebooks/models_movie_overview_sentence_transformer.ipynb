{
 "cells": [
  {
   "cell_type": "markdown",
   "id": "0417277b-47df-4113-a7b3-8f960db06f1d",
   "metadata": {
    "tags": []
   },
   "source": [
    "# Models: Movie Title Sparce Ao"
   ]
  },
  {
   "cell_type": "code",
   "execution_count": 1,
   "id": "8dde5e70-5b86-460f-8791-20fcb554c378",
   "metadata": {},
   "outputs": [],
   "source": [
    "%load_ext autoreload\n",
    "%autoreload 2"
   ]
  },
  {
   "cell_type": "code",
   "execution_count": 2,
   "id": "f98e7bf4-f41a-43f6-b7b7-a991d00f82de",
   "metadata": {},
   "outputs": [
    {
     "data": {
      "text/html": [
       "<pre style=\"white-space:pre;overflow-x:auto;line-height:normal;font-family:Menlo,'DejaVu Sans Mono',consolas,'Courier New',monospace\"><span style=\"font-weight: bold\">&lt;</span><span style=\"color: #ff00ff; text-decoration-color: #ff00ff; font-weight: bold\">Figure</span><span style=\"color: #000000; text-decoration-color: #000000\"> size 432x288 with </span><span style=\"color: #008080; text-decoration-color: #008080; font-weight: bold\">0</span><span style=\"color: #000000; text-decoration-color: #000000\"> Axes</span><span style=\"font-weight: bold\">&gt;</span>\n",
       "</pre>\n"
      ],
      "text/plain": [
       "\u001b[1m<\u001b[0m\u001b[1;95mFigure\u001b[0m\u001b[39m size 432x288 with \u001b[0m\u001b[1;36m0\u001b[0m\u001b[39m Axes\u001b[0m\u001b[1m>\u001b[0m\n"
      ]
     },
     "metadata": {},
     "output_type": "display_data"
    }
   ],
   "source": [
    "import sys\n",
    "sys.path.append('../lib')\n",
    "\n",
    "import numpy as np\n",
    "import pandas as pd\n",
    "import torch\n",
    "\n",
    "import pytorch_common.util as pu\n",
    "from pytorch_common.util import set_device_name, \\\n",
    "                                get_device, \\\n",
    "                                LoggerBuilder\n",
    "\n",
    "import model as ml\n",
    "import data as dt\n",
    "import data.dataset as ds\n",
    "\n",
    "import data.plot as pl\n",
    "import data as dt\n",
    "\n",
    "import random\n",
    "\n",
    "import recommender as rc"
   ]
  },
  {
   "cell_type": "markdown",
   "id": "40c1da33-a8da-47c9-b174-0b0885b05b50",
   "metadata": {},
   "source": [
    "## Setup"
   ]
  },
  {
   "cell_type": "code",
   "execution_count": 3,
   "id": "e60a3838-9787-411d-b9f1-8a942321cbb1",
   "metadata": {},
   "outputs": [
    {
     "data": {
      "text/html": [
       "<pre style=\"white-space:pre;overflow-x:auto;line-height:normal;font-family:Menlo,'DejaVu Sans Mono',consolas,'Courier New',monospace\"><span style=\"font-weight: bold\">&lt;</span><span style=\"color: #ff00ff; text-decoration-color: #ff00ff; font-weight: bold\">RootLogger</span><span style=\"color: #000000; text-decoration-color: #000000\"> root </span><span style=\"color: #000000; text-decoration-color: #000000; font-weight: bold\">(</span><span style=\"color: #000000; text-decoration-color: #000000\">INFO</span><span style=\"color: #000000; text-decoration-color: #000000; font-weight: bold\">)</span><span style=\"font-weight: bold\">&gt;</span>\n",
       "</pre>\n"
      ],
      "text/plain": [
       "\u001b[1m<\u001b[0m\u001b[1;95mRootLogger\u001b[0m\u001b[39m root \u001b[0m\u001b[1;39m(\u001b[0m\u001b[39mINFO\u001b[0m\u001b[1;39m)\u001b[0m\u001b[1m>\u001b[0m\n"
      ]
     },
     "metadata": {},
     "output_type": "display_data"
    }
   ],
   "source": [
    "pu.LoggerBuilder().on_console().build()"
   ]
  },
  {
   "cell_type": "code",
   "execution_count": 4,
   "id": "9fd7574f-043a-4fc3-8ab8-bfd55b6a92d8",
   "metadata": {},
   "outputs": [],
   "source": [
    "pu.set_device_name('gpu')"
   ]
  },
  {
   "cell_type": "code",
   "execution_count": 5,
   "id": "bad1a1e0-b35e-4b40-ab06-beae8fbb244a",
   "metadata": {},
   "outputs": [
    {
     "data": {
      "text/html": [
       "<pre style=\"white-space:pre;overflow-x:auto;line-height:normal;font-family:Menlo,'DejaVu Sans Mono',consolas,'Courier New',monospace\"><span style=\"color: #800080; text-decoration-color: #800080; font-weight: bold\">device</span><span style=\"font-weight: bold\">(</span><span style=\"color: #808000; text-decoration-color: #808000\">type</span>=<span style=\"color: #008000; text-decoration-color: #008000\">'cuda'</span>, <span style=\"color: #808000; text-decoration-color: #808000\">index</span>=<span style=\"color: #008080; text-decoration-color: #008080; font-weight: bold\">0</span><span style=\"font-weight: bold\">)</span>\n",
       "</pre>\n"
      ],
      "text/plain": [
       "\u001b[1;35mdevice\u001b[0m\u001b[1m(\u001b[0m\u001b[33mtype\u001b[0m=\u001b[32m'cuda'\u001b[0m, \u001b[33mindex\u001b[0m=\u001b[1;36m0\u001b[0m\u001b[1m)\u001b[0m\n"
      ]
     },
     "metadata": {},
     "output_type": "display_data"
    }
   ],
   "source": [
    "pu.get_device()"
   ]
  },
  {
   "cell_type": "code",
   "execution_count": 6,
   "id": "f956317d-0e48-4518-a219-51700d272b5b",
   "metadata": {},
   "outputs": [],
   "source": [
    "cpu = torch.device(\"cpu\")\n",
    "gpu = pu.get_device()"
   ]
  },
  {
   "cell_type": "code",
   "execution_count": 7,
   "id": "d1ba7b0b-b5d8-47ec-8995-642b7b21e6d2",
   "metadata": {},
   "outputs": [
    {
     "data": {
      "text/html": [
       "<pre style=\"white-space:pre;overflow-x:auto;line-height:normal;font-family:Menlo,'DejaVu Sans Mono',consolas,'Courier New',monospace\"><span style=\"color: #00ff00; text-decoration-color: #00ff00; font-style: italic\">True</span>\n",
       "</pre>\n"
      ],
      "text/plain": [
       "\u001b[3;92mTrue\u001b[0m\n"
      ]
     },
     "metadata": {},
     "output_type": "display_data"
    }
   ],
   "source": [
    "torch.cuda.is_available()"
   ]
  },
  {
   "cell_type": "code",
   "execution_count": 8,
   "id": "21fa4041-5682-4332-b139-6aca63d05ea0",
   "metadata": {},
   "outputs": [
    {
     "data": {
      "text/html": [
       "<pre style=\"white-space:pre;overflow-x:auto;line-height:normal;font-family:Menlo,'DejaVu Sans Mono',consolas,'Courier New',monospace\"><span style=\"color: #008000; text-decoration-color: #008000\">'1.11.0'</span>\n",
       "</pre>\n"
      ],
      "text/plain": [
       "\u001b[32m'1.11.0'\u001b[0m\n"
      ]
     },
     "metadata": {},
     "output_type": "display_data"
    }
   ],
   "source": [
    "torch.__version__"
   ]
  },
  {
   "cell_type": "code",
   "execution_count": 9,
   "id": "b5fb890c-e080-4efc-9fc1-08921ae2465f",
   "metadata": {},
   "outputs": [],
   "source": [
    "def set_seed(value):\n",
    "    random.seed(value)\n",
    "    np.random.seed(value)\n",
    "    torch.manual_seed(value)"
   ]
  },
  {
   "cell_type": "code",
   "execution_count": 10,
   "id": "72f9d948-5300-4141-8fbc-4423669b2c58",
   "metadata": {},
   "outputs": [],
   "source": [
    "set_seed(42)"
   ]
  },
  {
   "cell_type": "code",
   "execution_count": 11,
   "id": "dc8ad985-d735-403f-a255-32c3eac6568e",
   "metadata": {},
   "outputs": [],
   "source": [
    "FIELD = 'overview'\n",
    "EMBEDDING_PATH = f'../datasets/movie_{FIELD}_embedding_bert.json'"
   ]
  },
  {
   "cell_type": "markdown",
   "id": "b8334d07-f306-42b4-8ea1-cc27b82eb343",
   "metadata": {},
   "source": [
    "## Carga de dataset"
   ]
  },
  {
   "cell_type": "code",
   "execution_count": 12,
   "id": "c34c660c-4802-498a-81b7-07bed14de07f",
   "metadata": {},
   "outputs": [
    {
     "name": "stdout",
     "output_type": "stream",
     "text": [
      "<class 'pandas.core.frame.DataFrame'>\n",
      "Int64Index: 191540 entries, 0 to 191539\n",
      "Data columns (total 15 columns):\n",
      " #   Column                       Non-Null Count   Dtype         \n",
      "---  ------                       --------------   -----         \n",
      " 0   user_id                      191540 non-null  int64         \n",
      " 1   user_seq                     191540 non-null  int64         \n",
      " 2   user_movie_tags              191540 non-null  object        \n",
      " 3   user_movie_rating            191540 non-null  int64         \n",
      " 4   user_movie_rating_timestamp  191540 non-null  datetime64[ns]\n",
      " 5   user_movie_rating_year       191540 non-null  int64         \n",
      " 6   movie_id                     191540 non-null  int64         \n",
      " 7   movie_seq                    191540 non-null  int64         \n",
      " 8   movie_title                  191540 non-null  string        \n",
      " 9   movie_genres                 191540 non-null  object        \n",
      " 10  movie_for_adults             191540 non-null  bool          \n",
      " 11  movie_original_language      191540 non-null  string        \n",
      " 12  movie_overview               191540 non-null  string        \n",
      " 13  movie_tags                   191540 non-null  object        \n",
      " 14  movie_release_year           191540 non-null  int64         \n",
      "dtypes: bool(1), datetime64[ns](1), int64(7), object(3), string(3)\n",
      "memory usage: 22.1+ MB\n"
     ]
    }
   ],
   "source": [
    "def to_tensor(obs, device, columns): \n",
    "    data = obs[columns]\n",
    "    if type(data) == pd.DataFrame:\n",
    "        data = data.values\n",
    "    return torch.tensor(data).to(device)\n",
    "\n",
    "transform_fn = lambda obs, device: to_tensor(obs, device, [f'movie_{FIELD}'])\n",
    "\n",
    "dataset = ds.MovieLensTMDBDatasetFactory.from_path(\n",
    "    transform        = transform_fn,\n",
    "    target_transform = transform_fn,\n",
    "    device           = cpu,\n",
    "    filter_fn        = lambda df: df[(df['user_movie_rating_year'] >= 2005) & (df['user_movie_rating_year'] <= 2019)]\n",
    ")\n",
    "dataset.info"
   ]
  },
  {
   "cell_type": "markdown",
   "id": "7feb7663-3aba-4e98-8421-bfb69efd5486",
   "metadata": {},
   "source": [
    "Select movies overview and add new curated tokens column:"
   ]
  },
  {
   "cell_type": "code",
   "execution_count": 13,
   "id": "1a181992-3b3a-47e0-8cc0-a4f80485e214",
   "metadata": {},
   "outputs": [
    {
     "name": "stdout",
     "output_type": "stream",
     "text": [
      "<class 'pandas.core.frame.DataFrame'>\n",
      "RangeIndex: 18515 entries, 0 to 18514\n",
      "Data columns (total 5 columns):\n",
      " #   Column              Non-Null Count  Dtype \n",
      "---  ------              --------------  ----- \n",
      " 0   id                  18515 non-null  int64 \n",
      " 1   movie_release_year  18515 non-null  int64 \n",
      " 2   title               18515 non-null  string\n",
      " 3   overview            18515 non-null  string\n",
      " 4   overview_tokens     18515 non-null  object\n",
      "dtypes: int64(2), object(1), string(2)\n",
      "memory usage: 723.4+ KB\n"
     ]
    }
   ],
   "source": [
    "columns = ['movie_id', 'movie_release_year', 'movie_title', f'movie_{FIELD}']\n",
    "\n",
    "movie_data = dataset \\\n",
    "    .data \\\n",
    "    .pipe(dt.select, columns) \\\n",
    "    .pipe(dt.distinct, ['movie_id']) \\\n",
    "    .pipe(dt.rename, {\n",
    "        'movie_id': 'id', \n",
    "        'movie_title': 'title', \n",
    "        f'movie_{FIELD}': FIELD\n",
    "    }) \\\n",
    "    .pipe(dt.tokenize, FIELD) \\\n",
    "    .pipe(dt.reset_index)\n",
    "\n",
    "movie_data.info()"
   ]
  },
  {
   "cell_type": "markdown",
   "id": "c81ebd42-69d1-4c70-86bd-21fdf655ea17",
   "metadata": {
    "tags": []
   },
   "source": [
    "## Definicion del modelo"
   ]
  },
  {
   "cell_type": "code",
   "execution_count": 20,
   "id": "1fd7ac7d-5405-4c31-b948-025d498aab74",
   "metadata": {},
   "outputs": [
    {
     "name": "stderr",
     "output_type": "stream",
     "text": [
      "2022-07-25 22:04:48,502 - INFO - Load pretrained SentenceTransformer: all-mpnet-base-v2\n"
     ]
    },
    {
     "data": {
      "application/vnd.jupyter.widget-view+json": {
       "model_id": "e0bc4ccf5d8243b89242252c7bb18ba3",
       "version_major": 2,
       "version_minor": 0
      },
      "text/plain": [
       "Downloading:   0%|          | 0.00/1.18k [00:00<?, ?B/s]"
      ]
     },
     "metadata": {},
     "output_type": "display_data"
    },
    {
     "data": {
      "application/vnd.jupyter.widget-view+json": {
       "model_id": "0a320cbde1ba48b3ae74b9fcd7a780f5",
       "version_major": 2,
       "version_minor": 0
      },
      "text/plain": [
       "Downloading:   0%|          | 0.00/190 [00:00<?, ?B/s]"
      ]
     },
     "metadata": {},
     "output_type": "display_data"
    },
    {
     "data": {
      "application/vnd.jupyter.widget-view+json": {
       "model_id": "bd80eb66727844579018b97bbaf7d405",
       "version_major": 2,
       "version_minor": 0
      },
      "text/plain": [
       "Downloading:   0%|          | 0.00/10.6k [00:00<?, ?B/s]"
      ]
     },
     "metadata": {},
     "output_type": "display_data"
    },
    {
     "data": {
      "application/vnd.jupyter.widget-view+json": {
       "model_id": "237acc9393d546d0bb2beba1757b6a0d",
       "version_major": 2,
       "version_minor": 0
      },
      "text/plain": [
       "Downloading:   0%|          | 0.00/571 [00:00<?, ?B/s]"
      ]
     },
     "metadata": {},
     "output_type": "display_data"
    },
    {
     "data": {
      "application/vnd.jupyter.widget-view+json": {
       "model_id": "43a0722af6354ef7abe571330bd86e01",
       "version_major": 2,
       "version_minor": 0
      },
      "text/plain": [
       "Downloading:   0%|          | 0.00/116 [00:00<?, ?B/s]"
      ]
     },
     "metadata": {},
     "output_type": "display_data"
    },
    {
     "data": {
      "application/vnd.jupyter.widget-view+json": {
       "model_id": "da9f9dfeb55240328b66b65aa508441f",
       "version_major": 2,
       "version_minor": 0
      },
      "text/plain": [
       "Downloading:   0%|          | 0.00/39.3k [00:00<?, ?B/s]"
      ]
     },
     "metadata": {},
     "output_type": "display_data"
    },
    {
     "data": {
      "application/vnd.jupyter.widget-view+json": {
       "model_id": "d3e2002918e54abb90625544174afb8a",
       "version_major": 2,
       "version_minor": 0
      },
      "text/plain": [
       "Downloading:   0%|          | 0.00/438M [00:00<?, ?B/s]"
      ]
     },
     "metadata": {},
     "output_type": "display_data"
    },
    {
     "data": {
      "application/vnd.jupyter.widget-view+json": {
       "model_id": "8ba0c6f695c341e5be550f1b87311276",
       "version_major": 2,
       "version_minor": 0
      },
      "text/plain": [
       "Downloading:   0%|          | 0.00/53.0 [00:00<?, ?B/s]"
      ]
     },
     "metadata": {},
     "output_type": "display_data"
    },
    {
     "data": {
      "application/vnd.jupyter.widget-view+json": {
       "model_id": "0e1f045738844f699e2aa462da04b5a6",
       "version_major": 2,
       "version_minor": 0
      },
      "text/plain": [
       "Downloading:   0%|          | 0.00/239 [00:00<?, ?B/s]"
      ]
     },
     "metadata": {},
     "output_type": "display_data"
    },
    {
     "data": {
      "application/vnd.jupyter.widget-view+json": {
       "model_id": "fef37ce5ca9f41d9970852a0f9095d5d",
       "version_major": 2,
       "version_minor": 0
      },
      "text/plain": [
       "Downloading:   0%|          | 0.00/466k [00:00<?, ?B/s]"
      ]
     },
     "metadata": {},
     "output_type": "display_data"
    },
    {
     "data": {
      "application/vnd.jupyter.widget-view+json": {
       "model_id": "ab5d03932dae42d89a67d6123e6f00f8",
       "version_major": 2,
       "version_minor": 0
      },
      "text/plain": [
       "Downloading:   0%|          | 0.00/363 [00:00<?, ?B/s]"
      ]
     },
     "metadata": {},
     "output_type": "display_data"
    },
    {
     "data": {
      "application/vnd.jupyter.widget-view+json": {
       "model_id": "8e5b5902dd974d3b823a10ecb534a619",
       "version_major": 2,
       "version_minor": 0
      },
      "text/plain": [
       "Downloading:   0%|          | 0.00/13.1k [00:00<?, ?B/s]"
      ]
     },
     "metadata": {},
     "output_type": "display_data"
    },
    {
     "data": {
      "application/vnd.jupyter.widget-view+json": {
       "model_id": "9972f88b9ed646a2834889f7d96394e3",
       "version_major": 2,
       "version_minor": 0
      },
      "text/plain": [
       "Downloading:   0%|          | 0.00/232k [00:00<?, ?B/s]"
      ]
     },
     "metadata": {},
     "output_type": "display_data"
    },
    {
     "data": {
      "application/vnd.jupyter.widget-view+json": {
       "model_id": "d28dd9cb22454c1e960f48b0f6ee4f7f",
       "version_major": 2,
       "version_minor": 0
      },
      "text/plain": [
       "Downloading:   0%|          | 0.00/349 [00:00<?, ?B/s]"
      ]
     },
     "metadata": {},
     "output_type": "display_data"
    },
    {
     "name": "stderr",
     "output_type": "stream",
     "text": [
      "2022-07-25 22:06:06,968 - INFO - Use pytorch device: cuda\n"
     ]
    }
   ],
   "source": [
    "from sentence_transformers import SentenceTransformer\n",
    "\n",
    "# 'all-MiniLM-L6-v2'\n",
    "# 'bert-base-nli-mean-tokens'\n",
    "\n",
    "sbert_model = SentenceTransformer('all-mpnet-base-v2')"
   ]
  },
  {
   "cell_type": "markdown",
   "id": "5f73b173-49dd-4995-a80f-51c24d4a10f8",
   "metadata": {},
   "source": [
    "## Generacion de embeddings"
   ]
  },
  {
   "cell_type": "code",
   "execution_count": 21,
   "id": "38f65cff-be8b-42db-ae06-6ca24b017b98",
   "metadata": {},
   "outputs": [
    {
     "data": {
      "application/vnd.jupyter.widget-view+json": {
       "model_id": "c816c14c5eb34e94b1ab82a8e0c911dd",
       "version_major": 2,
       "version_minor": 0
      },
      "text/plain": [
       "Batches:   0%|          | 0/579 [00:00<?, ?it/s]"
      ]
     },
     "metadata": {},
     "output_type": "display_data"
    },
    {
     "name": "stdout",
     "output_type": "stream",
     "text": [
      "<class 'pandas.core.frame.DataFrame'>\n",
      "RangeIndex: 18515 entries, 0 to 18514\n",
      "Data columns (total 6 columns):\n",
      " #   Column              Non-Null Count  Dtype \n",
      "---  ------              --------------  ----- \n",
      " 0   id                  18515 non-null  int64 \n",
      " 1   movie_release_year  18515 non-null  int64 \n",
      " 2   title               18515 non-null  string\n",
      " 3   overview            18515 non-null  string\n",
      " 4   overview_tokens     18515 non-null  object\n",
      " 5   overview_embedding  18515 non-null  object\n",
      "dtypes: int64(2), object(2), string(2)\n",
      "memory usage: 868.0+ KB\n"
     ]
    }
   ],
   "source": [
    "embeddings = sbert_model.encode(movie_data[[FIELD]].values.reshape(-1))\n",
    "\n",
    "movie_data = movie_data \\\n",
    "    .pipe(dt.append_emb_vectors, embeddings, FIELD)\n",
    "\n",
    "movie_data.to_json(EMBEDDING_PATH)\n",
    "movie_data.info()"
   ]
  },
  {
   "cell_type": "markdown",
   "id": "d43c9369-047c-45ea-863c-304319bc63f0",
   "metadata": {
    "tags": []
   },
   "source": [
    "## Evaluación"
   ]
  },
  {
   "cell_type": "code",
   "execution_count": 26,
   "id": "1e04ad95-6bb9-4949-a86b-27db881d26bf",
   "metadata": {},
   "outputs": [
    {
     "data": {
      "text/html": [
       "<pre style=\"white-space:pre;overflow-x:auto;line-height:normal;font-family:Menlo,'DejaVu Sans Mono',consolas,'Courier New',monospace\"><span style=\"color: #008000; text-decoration-color: #008000\">'overview'</span>\n",
       "</pre>\n"
      ],
      "text/plain": [
       "\u001b[32m'overview'\u001b[0m\n"
      ]
     },
     "metadata": {},
     "output_type": "display_data"
    }
   ],
   "source": [
    "FIELD"
   ]
  },
  {
   "cell_type": "code",
   "execution_count": 25,
   "id": "3d504a7a-a784-40ca-9f27-f640cbfcd45c",
   "metadata": {},
   "outputs": [
    {
     "data": {
      "text/html": [
       "<pre style=\"white-space:pre;overflow-x:auto;line-height:normal;font-family:Menlo,'DejaVu Sans Mono',consolas,'Courier New',monospace\"><span style=\"color: #008000; text-decoration-color: #008000\">'../datasets/movie_overview_embedding_bert.json'</span>\n",
       "</pre>\n"
      ],
      "text/plain": [
       "\u001b[32m'../datasets/movie_overview_embedding_bert.json'\u001b[0m\n"
      ]
     },
     "metadata": {},
     "output_type": "display_data"
    }
   ],
   "source": [
    "EMBEDDING_PATH"
   ]
  },
  {
   "cell_type": "code",
   "execution_count": 23,
   "id": "97c2fe32-8f7b-4e7b-b2f1-93aadb006737",
   "metadata": {},
   "outputs": [
    {
     "data": {
      "application/vnd.jupyter.widget-view+json": {
       "model_id": "f968154b7cae415f8434d9156b737efd",
       "version_major": 2,
       "version_minor": 0
      },
      "text/plain": [
       "Building Distances Matrix:   0%|          | 0/18515 [00:00<?, ?it/s]"
      ]
     },
     "metadata": {},
     "output_type": "display_data"
    }
   ],
   "source": [
    "recommender = rc.DistanceMatrixRecommender(\n",
    "    df      = pd.read_json(EMBEDDING_PATH),\n",
    "    column  = f'{FIELD}_embedding', \n",
    "    device  = get_device()\n",
    ")"
   ]
  },
  {
   "cell_type": "code",
   "execution_count": 24,
   "id": "a6612f71-c8f0-44ab-9a96-0b2f18deb16b",
   "metadata": {},
   "outputs": [
    {
     "name": "stdout",
     "output_type": "stream",
     "text": [
      "\n",
      "Recommender: overview\n",
      "Item\n"
     ]
    },
    {
     "data": {
      "text/html": [
       "<div>\n",
       "<style scoped>\n",
       "    .dataframe tbody tr th:only-of-type {\n",
       "        vertical-align: middle;\n",
       "    }\n",
       "\n",
       "    .dataframe tbody tr th {\n",
       "        vertical-align: top;\n",
       "    }\n",
       "\n",
       "    .dataframe thead th {\n",
       "        text-align: right;\n",
       "    }\n",
       "</style>\n",
       "<table border=\"1\" class=\"dataframe\">\n",
       "  <thead>\n",
       "    <tr style=\"text-align: right;\">\n",
       "      <th></th>\n",
       "      <th>id</th>\n",
       "      <th>title</th>\n",
       "    </tr>\n",
       "  </thead>\n",
       "  <tbody>\n",
       "    <tr>\n",
       "      <th>0</th>\n",
       "      <td>1</td>\n",
       "      <td>Toy Story</td>\n",
       "    </tr>\n",
       "  </tbody>\n",
       "</table>\n",
       "</div>"
      ]
     },
     "metadata": {},
     "output_type": "display_data"
    },
    {
     "name": "stdout",
     "output_type": "stream",
     "text": [
      "Recommendations\n"
     ]
    },
    {
     "data": {
      "text/html": [
       "<div>\n",
       "<style scoped>\n",
       "    .dataframe tbody tr th:only-of-type {\n",
       "        vertical-align: middle;\n",
       "    }\n",
       "\n",
       "    .dataframe tbody tr th {\n",
       "        vertical-align: top;\n",
       "    }\n",
       "\n",
       "    .dataframe thead th {\n",
       "        text-align: right;\n",
       "    }\n",
       "</style>\n",
       "<table border=\"1\" class=\"dataframe\">\n",
       "  <thead>\n",
       "    <tr style=\"text-align: right;\">\n",
       "      <th></th>\n",
       "      <th>index</th>\n",
       "      <th>distance</th>\n",
       "      <th>id</th>\n",
       "      <th>title</th>\n",
       "      <th>overview</th>\n",
       "    </tr>\n",
       "  </thead>\n",
       "  <tbody>\n",
       "    <tr>\n",
       "      <th>0</th>\n",
       "      <td>0</td>\n",
       "      <td>0.000000</td>\n",
       "      <td>1</td>\n",
       "      <td>Toy Story</td>\n",
       "      <td>Led by Woody, Andy's toys live happily in his ...</td>\n",
       "    </tr>\n",
       "    <tr>\n",
       "      <th>1</th>\n",
       "      <td>19</td>\n",
       "      <td>0.166989</td>\n",
       "      <td>78499</td>\n",
       "      <td>Toy Story 3</td>\n",
       "      <td>Woody, Buzz, and the rest of Andy's toys haven...</td>\n",
       "    </tr>\n",
       "    <tr>\n",
       "      <th>2</th>\n",
       "      <td>2</td>\n",
       "      <td>0.182994</td>\n",
       "      <td>3114</td>\n",
       "      <td>Toy Story 2</td>\n",
       "      <td>Andy heads off to Cowboy Camp, leaving his toy...</td>\n",
       "    </tr>\n",
       "    <tr>\n",
       "      <th>3</th>\n",
       "      <td>1213</td>\n",
       "      <td>0.517923</td>\n",
       "      <td>1993</td>\n",
       "      <td>Child's Play 3</td>\n",
       "      <td>It's been eight years since the events in the ...</td>\n",
       "    </tr>\n",
       "    <tr>\n",
       "      <th>4</th>\n",
       "      <td>117</td>\n",
       "      <td>0.518093</td>\n",
       "      <td>6936</td>\n",
       "      <td>Elf</td>\n",
       "      <td>When young Buddy falls into Santa's gift sack ...</td>\n",
       "    </tr>\n",
       "    <tr>\n",
       "      <th>5</th>\n",
       "      <td>2854</td>\n",
       "      <td>0.525664</td>\n",
       "      <td>596</td>\n",
       "      <td>Pinocchio</td>\n",
       "      <td>Lonely toymaker Geppetto has his wishes answer...</td>\n",
       "    </tr>\n",
       "    <tr>\n",
       "      <th>6</th>\n",
       "      <td>9665</td>\n",
       "      <td>0.529668</td>\n",
       "      <td>115875</td>\n",
       "      <td>Toy Story Toons: Hawaiian Vacation</td>\n",
       "      <td>The toys throw Ken and Barbie a Hawaiian vacat...</td>\n",
       "    </tr>\n",
       "    <tr>\n",
       "      <th>7</th>\n",
       "      <td>2499</td>\n",
       "      <td>0.533991</td>\n",
       "      <td>103048</td>\n",
       "      <td>Kings of Summer, The</td>\n",
       "      <td>Joe Toy, on the verge of adolescence, finds hi...</td>\n",
       "    </tr>\n",
       "    <tr>\n",
       "      <th>8</th>\n",
       "      <td>8306</td>\n",
       "      <td>0.549968</td>\n",
       "      <td>106022</td>\n",
       "      <td>Toy Story of Terror</td>\n",
       "      <td>What starts out as a fun road trip for the Toy...</td>\n",
       "    </tr>\n",
       "    <tr>\n",
       "      <th>9</th>\n",
       "      <td>12618</td>\n",
       "      <td>0.551404</td>\n",
       "      <td>73042</td>\n",
       "      <td>Alvin and the Chipmunks: The Squeakquel</td>\n",
       "      <td>Pop sensations Alvin, Simon and Theodore end u...</td>\n",
       "    </tr>\n",
       "    <tr>\n",
       "      <th>10</th>\n",
       "      <td>15288</td>\n",
       "      <td>0.551817</td>\n",
       "      <td>170851</td>\n",
       "      <td>The Mouse and His Child</td>\n",
       "      <td>The Mouse and his son are the two parts of a s...</td>\n",
       "    </tr>\n",
       "    <tr>\n",
       "      <th>11</th>\n",
       "      <td>5175</td>\n",
       "      <td>0.552415</td>\n",
       "      <td>2399</td>\n",
       "      <td>Santa Claus: The Movie</td>\n",
       "      <td>The first half of this film, set hundreds of y...</td>\n",
       "    </tr>\n",
       "    <tr>\n",
       "      <th>12</th>\n",
       "      <td>14791</td>\n",
       "      <td>0.562143</td>\n",
       "      <td>116461</td>\n",
       "      <td>How the Toys Saved Christmas</td>\n",
       "      <td>When Santa's helper La Befana falls ill and mu...</td>\n",
       "    </tr>\n",
       "    <tr>\n",
       "      <th>13</th>\n",
       "      <td>7067</td>\n",
       "      <td>0.566942</td>\n",
       "      <td>119305</td>\n",
       "      <td>The Nutcracker Prince</td>\n",
       "      <td>After young Clara receives a wooden nutcracker...</td>\n",
       "    </tr>\n",
       "    <tr>\n",
       "      <th>14</th>\n",
       "      <td>2183</td>\n",
       "      <td>0.570877</td>\n",
       "      <td>97913</td>\n",
       "      <td>Wreck-It Ralph</td>\n",
       "      <td>Wreck-It Ralph is the 9-foot-tall, 643-pound v...</td>\n",
       "    </tr>\n",
       "    <tr>\n",
       "      <th>15</th>\n",
       "      <td>7167</td>\n",
       "      <td>0.575112</td>\n",
       "      <td>148240</td>\n",
       "      <td>Elf: Buddy's Musical Christmas</td>\n",
       "      <td>Santa narrates the story of Buddy's travels to...</td>\n",
       "    </tr>\n",
       "    <tr>\n",
       "      <th>16</th>\n",
       "      <td>14344</td>\n",
       "      <td>0.578209</td>\n",
       "      <td>64249</td>\n",
       "      <td>Shrek the Halls</td>\n",
       "      <td>The Christmas tree isn't the only thing green ...</td>\n",
       "    </tr>\n",
       "    <tr>\n",
       "      <th>17</th>\n",
       "      <td>9675</td>\n",
       "      <td>0.578276</td>\n",
       "      <td>120474</td>\n",
       "      <td>Toy Story That Time Forgot</td>\n",
       "      <td>During a post-Christmas play date, the gang fi...</td>\n",
       "    </tr>\n",
       "    <tr>\n",
       "      <th>18</th>\n",
       "      <td>12112</td>\n",
       "      <td>0.580088</td>\n",
       "      <td>176235</td>\n",
       "      <td>Pooh's Heffalump Halloween Movie</td>\n",
       "      <td>It's Halloween in the 100 Acre Wood, and Roo's...</td>\n",
       "    </tr>\n",
       "    <tr>\n",
       "      <th>19</th>\n",
       "      <td>3811</td>\n",
       "      <td>0.584499</td>\n",
       "      <td>2253</td>\n",
       "      <td>Toys</td>\n",
       "      <td>Leslie Zevo is a fun-loving inventor who must ...</td>\n",
       "    </tr>\n",
       "    <tr>\n",
       "      <th>20</th>\n",
       "      <td>7346</td>\n",
       "      <td>0.584681</td>\n",
       "      <td>86091</td>\n",
       "      <td>Nutcracker, The</td>\n",
       "      <td>On Christmas Eve, a little girl named Marie (C...</td>\n",
       "    </tr>\n",
       "    <tr>\n",
       "      <th>21</th>\n",
       "      <td>15854</td>\n",
       "      <td>0.589336</td>\n",
       "      <td>170837</td>\n",
       "      <td>Life-Size</td>\n",
       "      <td>After her mom's death, Casey pulls away from e...</td>\n",
       "    </tr>\n",
       "    <tr>\n",
       "      <th>22</th>\n",
       "      <td>3062</td>\n",
       "      <td>0.590162</td>\n",
       "      <td>455</td>\n",
       "      <td>Free Willy</td>\n",
       "      <td>When maladjusted orphan Jesse vandalizes a the...</td>\n",
       "    </tr>\n",
       "    <tr>\n",
       "      <th>23</th>\n",
       "      <td>15836</td>\n",
       "      <td>0.590334</td>\n",
       "      <td>128679</td>\n",
       "      <td>The Year Without a Santa Claus</td>\n",
       "      <td>Feeling forgotten by the children of the world...</td>\n",
       "    </tr>\n",
       "    <tr>\n",
       "      <th>24</th>\n",
       "      <td>2070</td>\n",
       "      <td>0.593290</td>\n",
       "      <td>79428</td>\n",
       "      <td>Dinner for Schmucks</td>\n",
       "      <td>Rising executive Tim Wagner works for a boss w...</td>\n",
       "    </tr>\n",
       "    <tr>\n",
       "      <th>25</th>\n",
       "      <td>3213</td>\n",
       "      <td>0.593830</td>\n",
       "      <td>3608</td>\n",
       "      <td>Pee-wee's Big Adventure</td>\n",
       "      <td>The eccentric and childish Pee-wee Herman emba...</td>\n",
       "    </tr>\n",
       "    <tr>\n",
       "      <th>26</th>\n",
       "      <td>9001</td>\n",
       "      <td>0.594017</td>\n",
       "      <td>3086</td>\n",
       "      <td>Babes in Toyland</td>\n",
       "      <td>Ollie Dee and Stanley Dum try to borrow money ...</td>\n",
       "    </tr>\n",
       "    <tr>\n",
       "      <th>27</th>\n",
       "      <td>4261</td>\n",
       "      <td>0.594289</td>\n",
       "      <td>6251</td>\n",
       "      <td>Piglet's Big Movie</td>\n",
       "      <td>When the gang from the Hundred Acre Wood begin...</td>\n",
       "    </tr>\n",
       "    <tr>\n",
       "      <th>28</th>\n",
       "      <td>355</td>\n",
       "      <td>0.595891</td>\n",
       "      <td>95441</td>\n",
       "      <td>Ted</td>\n",
       "      <td>John Bennett, a man whose childhood wish of br...</td>\n",
       "    </tr>\n",
       "    <tr>\n",
       "      <th>29</th>\n",
       "      <td>13909</td>\n",
       "      <td>0.596880</td>\n",
       "      <td>80141</td>\n",
       "      <td>Christmas Toy, The</td>\n",
       "      <td>The Christmas Toy is a 1986 Emmy Award nominat...</td>\n",
       "    </tr>\n",
       "    <tr>\n",
       "      <th>30</th>\n",
       "      <td>3170</td>\n",
       "      <td>0.598039</td>\n",
       "      <td>1024</td>\n",
       "      <td>Three Caballeros, The</td>\n",
       "      <td>For Donald's birthday he receives a box with t...</td>\n",
       "    </tr>\n",
       "    <tr>\n",
       "      <th>31</th>\n",
       "      <td>3659</td>\n",
       "      <td>0.599712</td>\n",
       "      <td>26133</td>\n",
       "      <td>Charlie Brown Christmas, A</td>\n",
       "      <td>When Charlie Brown complains about the overwhe...</td>\n",
       "    </tr>\n",
       "    <tr>\n",
       "      <th>32</th>\n",
       "      <td>6852</td>\n",
       "      <td>0.600067</td>\n",
       "      <td>56176</td>\n",
       "      <td>Alvin and the Chipmunks</td>\n",
       "      <td>A struggling songwriter named Dave Seville fin...</td>\n",
       "    </tr>\n",
       "    <tr>\n",
       "      <th>33</th>\n",
       "      <td>1132</td>\n",
       "      <td>0.602373</td>\n",
       "      <td>1297</td>\n",
       "      <td>Real Genius</td>\n",
       "      <td>Chris is the top brain who just wants to party...</td>\n",
       "    </tr>\n",
       "    <tr>\n",
       "      <th>34</th>\n",
       "      <td>7229</td>\n",
       "      <td>0.603402</td>\n",
       "      <td>5538</td>\n",
       "      <td>Care Bears Movie, The</td>\n",
       "      <td>The Care Bears have their work cut out for the...</td>\n",
       "    </tr>\n",
       "    <tr>\n",
       "      <th>35</th>\n",
       "      <td>9671</td>\n",
       "      <td>0.606539</td>\n",
       "      <td>117922</td>\n",
       "      <td>Ice Age: A Mammoth Christmas</td>\n",
       "      <td>When Sid accidentally destroys Manny's heirloo...</td>\n",
       "    </tr>\n",
       "    <tr>\n",
       "      <th>36</th>\n",
       "      <td>4609</td>\n",
       "      <td>0.607646</td>\n",
       "      <td>48061</td>\n",
       "      <td>Snoopy Come Home</td>\n",
       "      <td>When Snoopy receives a letter from his origina...</td>\n",
       "    </tr>\n",
       "    <tr>\n",
       "      <th>37</th>\n",
       "      <td>3363</td>\n",
       "      <td>0.608273</td>\n",
       "      <td>43869</td>\n",
       "      <td>Curious George</td>\n",
       "      <td>When The Man in the Yellow Hat befriends Curio...</td>\n",
       "    </tr>\n",
       "    <tr>\n",
       "      <th>38</th>\n",
       "      <td>8926</td>\n",
       "      <td>0.609387</td>\n",
       "      <td>4502</td>\n",
       "      <td>Ernest Saves Christmas</td>\n",
       "      <td>When Santa Claus decides to retire and pass on...</td>\n",
       "    </tr>\n",
       "    <tr>\n",
       "      <th>39</th>\n",
       "      <td>3451</td>\n",
       "      <td>0.612096</td>\n",
       "      <td>1826</td>\n",
       "      <td>Barney's Great Adventure</td>\n",
       "      <td>Mom and dad dump son Cody, daughter Abby, her ...</td>\n",
       "    </tr>\n",
       "    <tr>\n",
       "      <th>40</th>\n",
       "      <td>16751</td>\n",
       "      <td>0.613553</td>\n",
       "      <td>33463</td>\n",
       "      <td>DuckTales: The Movie - Treasure of the Lost Lamp</td>\n",
       "      <td>Scrooge McDuck, his dimwitted pilot Launch Pad...</td>\n",
       "    </tr>\n",
       "    <tr>\n",
       "      <th>41</th>\n",
       "      <td>62</td>\n",
       "      <td>0.613793</td>\n",
       "      <td>1103</td>\n",
       "      <td>Rebel Without a Cause</td>\n",
       "      <td>After moving to a new town, troublemaking teen...</td>\n",
       "    </tr>\n",
       "    <tr>\n",
       "      <th>42</th>\n",
       "      <td>7201</td>\n",
       "      <td>0.614123</td>\n",
       "      <td>145935</td>\n",
       "      <td>Peanuts Movie, The</td>\n",
       "      <td>Snoopy embarks upon his greatest mission as he...</td>\n",
       "    </tr>\n",
       "    <tr>\n",
       "      <th>43</th>\n",
       "      <td>13741</td>\n",
       "      <td>0.616432</td>\n",
       "      <td>160333</td>\n",
       "      <td>Clock Cleaners</td>\n",
       "      <td>Mickey, Donald, and Goofy are cleaning a large...</td>\n",
       "    </tr>\n",
       "    <tr>\n",
       "      <th>44</th>\n",
       "      <td>3667</td>\n",
       "      <td>0.616887</td>\n",
       "      <td>60487</td>\n",
       "      <td>It's the Great Pumpkin, Charlie Brown</td>\n",
       "      <td>This classic \"Peanuts\" tale focuses on the thu...</td>\n",
       "    </tr>\n",
       "    <tr>\n",
       "      <th>45</th>\n",
       "      <td>7610</td>\n",
       "      <td>0.617368</td>\n",
       "      <td>83177</td>\n",
       "      <td>Yogi Bear</td>\n",
       "      <td>Jellystone Park has been losing business, so g...</td>\n",
       "    </tr>\n",
       "    <tr>\n",
       "      <th>46</th>\n",
       "      <td>12420</td>\n",
       "      <td>0.621690</td>\n",
       "      <td>83765</td>\n",
       "      <td>Blacksmith, The</td>\n",
       "      <td>Buster clowns around in a blacksmith's shop un...</td>\n",
       "    </tr>\n",
       "    <tr>\n",
       "      <th>47</th>\n",
       "      <td>3102</td>\n",
       "      <td>0.622037</td>\n",
       "      <td>239</td>\n",
       "      <td>Goofy Movie, A</td>\n",
       "      <td>Though Goofy always means well, his amiable cl...</td>\n",
       "    </tr>\n",
       "    <tr>\n",
       "      <th>48</th>\n",
       "      <td>18423</td>\n",
       "      <td>0.624160</td>\n",
       "      <td>133155</td>\n",
       "      <td>Barbie in 'A Christmas Carol'</td>\n",
       "      <td>On Christmas Eve, Kelly is reluctant to go to ...</td>\n",
       "    </tr>\n",
       "    <tr>\n",
       "      <th>49</th>\n",
       "      <td>16766</td>\n",
       "      <td>0.626902</td>\n",
       "      <td>137389</td>\n",
       "      <td>Tom and Jerry: The Fast and the Furry</td>\n",
       "      <td>After being evicted from their old house by To...</td>\n",
       "    </tr>\n",
       "  </tbody>\n",
       "</table>\n",
       "</div>"
      ]
     },
     "metadata": {},
     "output_type": "display_data"
    }
   ],
   "source": [
    "result = recommender.recommend(item_index=0, k=50)\n",
    "result.show()"
   ]
  },
  {
   "cell_type": "code",
   "execution_count": null,
   "id": "dc58bee8-7a9b-4adf-8ef3-5f5c33f05f24",
   "metadata": {},
   "outputs": [],
   "source": []
  }
 ],
 "metadata": {
  "kernelspec": {
   "display_name": "Python 3 (ipykernel)",
   "language": "python",
   "name": "python3"
  },
  "language_info": {
   "codemirror_mode": {
    "name": "ipython",
    "version": 3
   },
   "file_extension": ".py",
   "mimetype": "text/x-python",
   "name": "python",
   "nbconvert_exporter": "python",
   "pygments_lexer": "ipython3",
   "version": "3.10.4"
  },
  "widgets": {
   "application/vnd.jupyter.widget-state+json": {
    "state": {},
    "version_major": 2,
    "version_minor": 0
   }
  }
 },
 "nbformat": 4,
 "nbformat_minor": 5
}
