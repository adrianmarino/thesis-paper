{
 "cells": [
  {
   "cell_type": "code",
   "execution_count": 1,
   "id": "94f881df-4e34-4baa-bb19-bd38a2542192",
   "metadata": {
    "tags": []
   },
   "outputs": [],
   "source": [
    "%load_ext autoreload\n",
    "%autoreload 2"
   ]
  },
  {
   "cell_type": "code",
   "execution_count": 6,
   "id": "f8259342-bd48-49ce-a235-d7febaeabe33",
   "metadata": {
    "tags": []
   },
   "outputs": [],
   "source": [
    "import sys\n",
    "sys.path.append('../rec-sys-client-lib/src')\n",
    "\n",
    "import numpy as np\n",
    "import pandas as pd\n",
    "\n",
    "from recsys.api import RecSysApi"
   ]
  },
  {
   "cell_type": "code",
   "execution_count": 7,
   "id": "79655577-629a-4f96-83ae-dd88a019cad5",
   "metadata": {
    "tags": []
   },
   "outputs": [],
   "source": [
    "api = RecSysApi(\n",
    "    host='http://nonosoft.ddns.net:8000',\n",
    "    token='e3ff025094fe0ee474501bbeda0a2a44e80230c1'\n",
    ")"
   ]
  },
  {
   "cell_type": "code",
   "execution_count": 27,
   "id": "6a0c3720-5e6d-4e33-81c7-e22f79077d57",
   "metadata": {
    "tags": []
   },
   "outputs": [
    {
     "data": {
      "text/plain": [
       "[{\n",
       "     \"status\": 200,\n",
       "     \"body\": {\n",
       "         \"count\": 1,\n",
       "         \"next\": null,\n",
       "         \"previous\": null,\n",
       "         \"results\": [\n",
       "             {\n",
       "                 \"id\": 61,\n",
       "                 \"name\": \"knn_user_based-user-to-user\",\n",
       "                 \"type\": 1,\n",
       "                 \"description\": \"knn_user_based-user-to-user\",\n",
       "                 \"version\": 2\n",
       "             }\n",
       "         ]\n",
       "     }\n",
       " },\n",
       " {\n",
       "     \"status\": 200,\n",
       "     \"body\": {\n",
       "         \"count\": 1,\n",
       "         \"next\": null,\n",
       "         \"previous\": null,\n",
       "         \"results\": [\n",
       "             {\n",
       "                 \"id\": 62,\n",
       "                 \"name\": \"knn_user_based-item-to-item\",\n",
       "                 \"type\": 2,\n",
       "                 \"description\": \"knn_user_based-item-to-item\",\n",
       "                 \"version\": 2\n",
       "             }\n",
       "         ]\n",
       "     }\n",
       " },\n",
       " {\n",
       "     \"status\": 200,\n",
       "     \"body\": {\n",
       "         \"count\": 1,\n",
       "         \"next\": null,\n",
       "         \"previous\": null,\n",
       "         \"results\": [\n",
       "             {\n",
       "                 \"id\": 59,\n",
       "                 \"name\": \"knn_item_based-user-to-user\",\n",
       "                 \"type\": 1,\n",
       "                 \"description\": \"knn_item_based-user-to-user\",\n",
       "                 \"version\": 2\n",
       "             }\n",
       "         ]\n",
       "     }\n",
       " },\n",
       " {\n",
       "     \"status\": 200,\n",
       "     \"body\": {\n",
       "         \"count\": 1,\n",
       "         \"next\": null,\n",
       "         \"previous\": null,\n",
       "         \"results\": [\n",
       "             {\n",
       "                 \"id\": 60,\n",
       "                 \"name\": \"knn_item_based-item-to-item\",\n",
       "                 \"type\": 2,\n",
       "                 \"description\": \"knn_item_based-item-to-item\",\n",
       "                 \"version\": 2\n",
       "             }\n",
       "         ]\n",
       "     }\n",
       " }]"
      ]
     },
     "execution_count": 27,
     "metadata": {},
     "output_type": "execute_result"
    }
   ],
   "source": [
    "\n",
    "ids = [\n",
    "    'knn_user_based-user-to-user',\n",
    "    'knn_user_based-item-to-item',\n",
    "    'knn_item_based-user-to-user',\n",
    "    'knn_item_based-item-to-item'\n",
    "]\n",
    "    \n",
    "[api.similarity_matrix(name=id) for id in ids]"
   ]
  },
  {
   "cell_type": "code",
   "execution_count": 38,
   "id": "73d10237-1054-4967-8086-81979760c411",
   "metadata": {
    "tags": []
   },
   "outputs": [],
   "source": [
    "getCellsFrom = lambda matrix_id: "
   ]
  },
  {
   "cell_type": "code",
   "execution_count": null,
   "id": "71ab9d04-1084-40f8-96aa-d6fdebdde86b",
   "metadata": {
    "tags": []
   },
   "outputs": [],
   "source": [
    "\n",
    "\n",
    "api.similarity_cells(matrix='61', limit=1_000_000_000)"
   ]
  },
  {
   "cell_type": "code",
   "execution_count": null,
   "id": "48bb8a96-3495-4cf7-b399-943f984e39e4",
   "metadata": {},
   "outputs": [],
   "source": []
  }
 ],
 "metadata": {
  "kernelspec": {
   "display_name": "Python 3 (ipykernel)",
   "language": "python",
   "name": "python3"
  },
  "language_info": {
   "codemirror_mode": {
    "name": "ipython",
    "version": 3
   },
   "file_extension": ".py",
   "mimetype": "text/x-python",
   "name": "python",
   "nbconvert_exporter": "python",
   "pygments_lexer": "ipython3",
   "version": "3.10.11"
  },
  "widgets": {
   "application/vnd.jupyter.widget-state+json": {
    "state": {},
    "version_major": 2,
    "version_minor": 0
   }
  }
 },
 "nbformat": 4,
 "nbformat_minor": 5
}
