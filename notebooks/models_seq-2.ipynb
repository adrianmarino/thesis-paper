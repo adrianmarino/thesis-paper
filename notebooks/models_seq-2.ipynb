{
 "cells": [
  {
   "cell_type": "markdown",
   "id": "0417277b-47df-4113-a7b3-8f960db06f1d",
   "metadata": {
    "tags": []
   },
   "source": [
    "# Modelos: Seq"
   ]
  },
  {
   "cell_type": "code",
   "execution_count": 32,
   "id": "8dde5e70-5b86-460f-8791-20fcb554c378",
   "metadata": {},
   "outputs": [
    {
     "name": "stdout",
     "output_type": "stream",
     "text": [
      "The autoreload extension is already loaded. To reload it, use:\n",
      "  %reload_ext autoreload\n"
     ]
    }
   ],
   "source": [
    "%load_ext autoreload\n",
    "%autoreload 2"
   ]
  },
  {
   "cell_type": "code",
   "execution_count": 33,
   "id": "f98e7bf4-f41a-43f6-b7b7-a991d00f82de",
   "metadata": {},
   "outputs": [],
   "source": [
    "import sys\n",
    "sys.path.append('../lib')\n",
    "import os\n",
    "\n",
    "import math\n",
    "import random\n",
    "from bunch import Bunch\n",
    "import seaborn as sns\n",
    "import numpy   as np\n",
    "import pandas  as pd\n",
    "\n",
    "import torch\n",
    "from   torch               import nn, Tensor\n",
    "import torch.nn.functional as F\n",
    "from   torch.utils.data    import DataLoader, Subset\n",
    "from   torch.optim         import SparseAdam, Adam\n",
    "\n",
    "import pytorch_common.util as pu\n",
    "from   pytorch_common.modules.fn import Fn\n",
    "from   pytorch_common.callbacks  import (\n",
    "    EarlyStop,\n",
    "    ReduceLROnPlateau,\n",
    "    Validation,\n",
    "    SaveBestModel\n",
    ")\n",
    "from pytorch_common.callbacks.output import Logger, MetricsPlotter\n",
    "from pytorch_common.util import (\n",
    "    set_device_name,\n",
    "    get_device,\n",
    "    LoggerBuilder\n",
    ")\n",
    "\n",
    "import model as ml\n",
    "import util  as ut\n",
    "\n",
    "import data.dataset as ds\n",
    "import data.plot    as pl\n",
    "import data         as dt\n",
    "from data.plot import describe_num_var\n",
    "\n",
    "import metric             as mt\n",
    "import metric.discretizer as dr\n",
    "\n",
    "import torch.multiprocessing"
   ]
  },
  {
   "cell_type": "markdown",
   "id": "d757391b-ad9f-4047-9b23-e3bd23fbe37b",
   "metadata": {},
   "source": [
    "## Setup"
   ]
  },
  {
   "cell_type": "code",
   "execution_count": 34,
   "id": "5fa4397f-d59f-4214-9bca-4ff70bb42d4a",
   "metadata": {},
   "outputs": [],
   "source": [
    "# os.environ['PYTORCH_CUDA_ALLOC_CONF'] = 'max_split_size_mb:512'"
   ]
  },
  {
   "cell_type": "code",
   "execution_count": 35,
   "id": "e60a3838-9787-411d-b9f1-8a942321cbb1",
   "metadata": {},
   "outputs": [
    {
     "data": {
      "text/html": [
       "<pre style=\"white-space:pre;overflow-x:auto;line-height:normal;font-family:Menlo,'DejaVu Sans Mono',consolas,'Courier New',monospace\"><span style=\"font-weight: bold\">&lt;</span><span style=\"color: #ff00ff; text-decoration-color: #ff00ff; font-weight: bold\">RootLogger</span><span style=\"color: #000000; text-decoration-color: #000000\"> root </span><span style=\"color: #000000; text-decoration-color: #000000; font-weight: bold\">(</span><span style=\"color: #000000; text-decoration-color: #000000\">INFO</span><span style=\"color: #000000; text-decoration-color: #000000; font-weight: bold\">)</span><span style=\"font-weight: bold\">&gt;</span>\n",
       "</pre>\n"
      ],
      "text/plain": [
       "\u001b[1m<\u001b[0m\u001b[1;95mRootLogger\u001b[0m\u001b[39m root \u001b[0m\u001b[1;39m(\u001b[0m\u001b[39mINFO\u001b[0m\u001b[1;39m)\u001b[0m\u001b[1m>\u001b[0m\n"
      ]
     },
     "metadata": {},
     "output_type": "display_data"
    }
   ],
   "source": [
    "pu.LoggerBuilder().on_console().build()"
   ]
  },
  {
   "cell_type": "code",
   "execution_count": 36,
   "id": "9fd7574f-043a-4fc3-8ab8-bfd55b6a92d8",
   "metadata": {},
   "outputs": [],
   "source": [
    "pu.set_device_name('gpu')"
   ]
  },
  {
   "cell_type": "code",
   "execution_count": 37,
   "id": "bad1a1e0-b35e-4b40-ab06-beae8fbb244a",
   "metadata": {},
   "outputs": [
    {
     "data": {
      "text/html": [
       "<pre style=\"white-space:pre;overflow-x:auto;line-height:normal;font-family:Menlo,'DejaVu Sans Mono',consolas,'Courier New',monospace\"><span style=\"color: #800080; text-decoration-color: #800080; font-weight: bold\">device</span><span style=\"font-weight: bold\">(</span><span style=\"color: #808000; text-decoration-color: #808000\">type</span>=<span style=\"color: #008000; text-decoration-color: #008000\">'cuda'</span>, <span style=\"color: #808000; text-decoration-color: #808000\">index</span>=<span style=\"color: #008080; text-decoration-color: #008080; font-weight: bold\">0</span><span style=\"font-weight: bold\">)</span>\n",
       "</pre>\n"
      ],
      "text/plain": [
       "\u001b[1;35mdevice\u001b[0m\u001b[1m(\u001b[0m\u001b[33mtype\u001b[0m=\u001b[32m'cuda'\u001b[0m, \u001b[33mindex\u001b[0m=\u001b[1;36m0\u001b[0m\u001b[1m)\u001b[0m\n"
      ]
     },
     "metadata": {},
     "output_type": "display_data"
    }
   ],
   "source": [
    "pu.get_device()"
   ]
  },
  {
   "cell_type": "code",
   "execution_count": 38,
   "id": "f956317d-0e48-4518-a219-51700d272b5b",
   "metadata": {},
   "outputs": [],
   "source": [
    "CPU = torch.device('cpu')"
   ]
  },
  {
   "cell_type": "code",
   "execution_count": 39,
   "id": "d1ba7b0b-b5d8-47ec-8995-642b7b21e6d2",
   "metadata": {},
   "outputs": [
    {
     "data": {
      "text/html": [
       "<pre style=\"white-space:pre;overflow-x:auto;line-height:normal;font-family:Menlo,'DejaVu Sans Mono',consolas,'Courier New',monospace\"><span style=\"color: #00ff00; text-decoration-color: #00ff00; font-style: italic\">True</span>\n",
       "</pre>\n"
      ],
      "text/plain": [
       "\u001b[3;92mTrue\u001b[0m\n"
      ]
     },
     "metadata": {},
     "output_type": "display_data"
    }
   ],
   "source": [
    "torch.cuda.is_available()"
   ]
  },
  {
   "cell_type": "code",
   "execution_count": 40,
   "id": "21fa4041-5682-4332-b139-6aca63d05ea0",
   "metadata": {},
   "outputs": [
    {
     "data": {
      "text/html": [
       "<pre style=\"white-space:pre;overflow-x:auto;line-height:normal;font-family:Menlo,'DejaVu Sans Mono',consolas,'Courier New',monospace\"><span style=\"color: #008000; text-decoration-color: #008000\">'1.13.1+cu117'</span>\n",
       "</pre>\n"
      ],
      "text/plain": [
       "\u001b[32m'1.13.1+cu117'\u001b[0m\n"
      ]
     },
     "metadata": {},
     "output_type": "display_data"
    }
   ],
   "source": [
    "torch.__version__"
   ]
  },
  {
   "cell_type": "code",
   "execution_count": 41,
   "id": "be27f1ec-a10e-489f-ae71-41872f793dcf",
   "metadata": {},
   "outputs": [],
   "source": [
    "torch.multiprocessing.set_sharing_strategy('file_system')"
   ]
  },
  {
   "cell_type": "code",
   "execution_count": 42,
   "id": "b5fb890c-e080-4efc-9fc1-08921ae2465f",
   "metadata": {},
   "outputs": [],
   "source": [
    "def set_seed(value):\n",
    "    random.seed(value)\n",
    "    np.random.seed(value)\n",
    "    torch.manual_seed(value)"
   ]
  },
  {
   "cell_type": "code",
   "execution_count": 43,
   "id": "72f9d948-5300-4141-8fbc-4423669b2c58",
   "metadata": {},
   "outputs": [],
   "source": [
    "set_seed(42)"
   ]
  },
  {
   "cell_type": "code",
   "execution_count": 44,
   "id": "e6431bb5-c5d5-4971-99f6-cc9aa519c24b",
   "metadata": {},
   "outputs": [],
   "source": [
    "DATASETS_PATH = '../datasets'"
   ]
  },
  {
   "cell_type": "code",
   "execution_count": 45,
   "id": "28183b50-45e4-4049-8595-5d595be2c1ba",
   "metadata": {},
   "outputs": [],
   "source": [
    "class AccFn(torch.nn.Module):\n",
    "    def __init__(self, device = CPU):\n",
    "        super().__init__()\n",
    "        self.model_type = 'AccFn'\n",
    "        self.device     = device\n",
    "\n",
    "    def forward(self, y_pred, y_true):\n",
    "        y_pred_probs  = F.softmax(y_pred, dim=1)\n",
    "        y_pred_values = torch.argmax(y_pred, axis=1).abs().to(self.device)\n",
    "        y_true_values = y_true.to(self.device)\n",
    "\n",
    "        tp = (y_pred_values == y_true_values).sum().item()\n",
    "\n",
    "        return tp / y_true_values.size(0)"
   ]
  },
  {
   "cell_type": "code",
   "execution_count": 46,
   "id": "32cf85ce-007c-4741-b218-cb4ccd6ea9db",
   "metadata": {},
   "outputs": [
    {
     "data": {
      "text/html": [
       "<pre style=\"white-space:pre;overflow-x:auto;line-height:normal;font-family:Menlo,'DejaVu Sans Mono',consolas,'Courier New',monospace\"><span style=\"color: #008080; text-decoration-color: #008080; font-weight: bold\">0.6666666666666666</span>\n",
       "</pre>\n"
      ],
      "text/plain": [
       "\u001b[1;36m0.6666666666666666\u001b[0m\n"
      ]
     },
     "metadata": {},
     "output_type": "display_data"
    }
   ],
   "source": [
    "y_pred = torch.tensor([\n",
    "    [1.0, 0.0, 0.0],\n",
    "    [0.0, 1.0, 0.0],\n",
    "    [0.1, 0.0, 1.0],\n",
    "])\n",
    "y_true = torch.tensor([0, 1, 0])\n",
    "\n",
    "AccFn()(y_pred, y_true)"
   ]
  },
  {
   "cell_type": "code",
   "execution_count": 47,
   "id": "05426c56-6b24-4ebb-be6d-e998b5c62f7a",
   "metadata": {},
   "outputs": [],
   "source": [
    "import torch\n",
    "import torch.nn.functional as F\n",
    "import pytorch_common.util as ut\n",
    "\n",
    "class CrossEntropyLossFn(torch.nn.Module):\n",
    "    def __init__(self, device = CPU):\n",
    "        super().__init__()\n",
    "        self.model_type = 'CrossEntropyLossFn'\n",
    "        self.loss       = torch.nn.CrossEntropyLoss().to(device)\n",
    "        self.device     = device\n",
    "\n",
    "    def forward(self, y_pred, y_true):\n",
    "        return self.loss(\n",
    "            y_pred.to(self.device),\n",
    "            y_true.type(torch.LongTensor).to(self.device)\n",
    "        )"
   ]
  },
  {
   "cell_type": "code",
   "execution_count": 48,
   "id": "bc1bf71e-6f1e-4070-a272-4443ba13bba8",
   "metadata": {},
   "outputs": [
    {
     "data": {
      "text/html": [
       "<pre style=\"white-space:pre;overflow-x:auto;line-height:normal;font-family:Menlo,'DejaVu Sans Mono',consolas,'Courier New',monospace\"><span style=\"color: #800080; text-decoration-color: #800080; font-weight: bold\">tensor</span><span style=\"font-weight: bold\">(</span><span style=\"color: #008080; text-decoration-color: #008080; font-weight: bold\">7.3598</span><span style=\"font-weight: bold\">)</span>\n",
       "</pre>\n"
      ],
      "text/plain": [
       "\u001b[1;35mtensor\u001b[0m\u001b[1m(\u001b[0m\u001b[1;36m7.3598\u001b[0m\u001b[1m)\u001b[0m\n"
      ]
     },
     "metadata": {},
     "output_type": "display_data"
    }
   ],
   "source": [
    "y_pred = torch.tensor([\n",
    "    [20.0, 0.0, 20.0], \n",
    "    [20.0, 0.0, 20.0], \n",
    "    [20.0, 0.0, 20.0]\n",
    "])\n",
    "y_true = torch.tensor([0, 1, 2])\n",
    "\n",
    "CrossEntropyLossFn()(y_pred, y_true)"
   ]
  },
  {
   "cell_type": "markdown",
   "id": "b8334d07-f306-42b4-8ea1-cc27b82eb343",
   "metadata": {},
   "source": [
    "## Carga de dataset"
   ]
  },
  {
   "cell_type": "code",
   "execution_count": 49,
   "id": "c34c660c-4802-498a-81b7-07bed14de07f",
   "metadata": {},
   "outputs": [],
   "source": [
    "interactions = pd.read_csv(f'{DATASETS_PATH}/ml-25m/ratings.csv')"
   ]
  },
  {
   "cell_type": "code",
   "execution_count": 50,
   "id": "9b7a000c-0e80-42e7-8ff0-75cabbb08b81",
   "metadata": {},
   "outputs": [],
   "source": [
    "interactions = interactions.sort_values(['timestamp'], ascending=True)\n",
    "\n",
    "interactions = interactions.rename(columns={\n",
    "    'userId' : 'user_id',\n",
    "    'movieId' : 'movie_id'\n",
    "})\n",
    "\n",
    "interactions = interactions[interactions['rating'] >=4]"
   ]
  },
  {
   "cell_type": "code",
   "execution_count": 51,
   "id": "b033e8ae-2d84-4794-881f-a51d3e7e6884",
   "metadata": {},
   "outputs": [
    {
     "data": {
      "text/html": [
       "<pre style=\"white-space:pre;overflow-x:auto;line-height:normal;font-family:Menlo,'DejaVu Sans Mono',consolas,'Courier New',monospace\"><span style=\"font-weight: bold\">((</span><span style=\"color: #008080; text-decoration-color: #008080; font-weight: bold\">498112</span>, <span style=\"color: #008080; text-decoration-color: #008080; font-weight: bold\">4</span><span style=\"font-weight: bold\">)</span>, <span style=\"font-weight: bold\">(</span><span style=\"color: #008080; text-decoration-color: #008080; font-weight: bold\">124529</span>, <span style=\"color: #008080; text-decoration-color: #008080; font-weight: bold\">4</span><span style=\"font-weight: bold\">))</span>\n",
       "</pre>\n"
      ],
      "text/plain": [
       "\u001b[1m(\u001b[0m\u001b[1m(\u001b[0m\u001b[1;36m498112\u001b[0m, \u001b[1;36m4\u001b[0m\u001b[1m)\u001b[0m, \u001b[1m(\u001b[0m\u001b[1;36m124529\u001b[0m, \u001b[1;36m4\u001b[0m\u001b[1m)\u001b[0m\u001b[1m)\u001b[0m\n"
      ]
     },
     "metadata": {},
     "output_type": "display_data"
    }
   ],
   "source": [
    "dev_size = int(interactions.shape[0] * 0.95)\n",
    "dev_set  = interactions[dev_size:]\n",
    "\n",
    "\n",
    "train_size  = int(dev_set.shape[0] * 0.8)\n",
    "train_set   = dev_set[:train_size]\n",
    "eval_set    = dev_set[train_size:]\n",
    "\n",
    "train_set.shape, eval_set.shape"
   ]
  },
  {
   "cell_type": "code",
   "execution_count": 52,
   "id": "0ae0ecbe-748f-4a50-8ed0-d62de53b5a78",
   "metadata": {},
   "outputs": [
    {
     "data": {
      "text/html": [
       "<pre style=\"white-space:pre;overflow-x:auto;line-height:normal;font-family:Menlo,'DejaVu Sans Mono',consolas,'Courier New',monospace\"><span style=\"font-weight: bold\">(</span><span style=\"color: #008080; text-decoration-color: #008080; font-weight: bold\">19833</span>, <span style=\"color: #008080; text-decoration-color: #008080; font-weight: bold\">4</span><span style=\"font-weight: bold\">)</span>\n",
       "</pre>\n"
      ],
      "text/plain": [
       "\u001b[1m(\u001b[0m\u001b[1;36m19833\u001b[0m, \u001b[1;36m4\u001b[0m\u001b[1m)\u001b[0m\n"
      ]
     },
     "metadata": {},
     "output_type": "display_data"
    }
   ],
   "source": [
    "eval_set = eval_set[eval_set['user_id'].isin(train_set['user_id'].unique())]\n",
    "\n",
    "eval_set.shape"
   ]
  },
  {
   "cell_type": "code",
   "execution_count": 53,
   "id": "9015533c-1fd9-4172-8361-4fef5d6cb5f7",
   "metadata": {},
   "outputs": [],
   "source": [
    "def find_movies_count_by_user(df):\n",
    "    return pd.DataFrame({\n",
    "       'n_movies': [movie_ids.shape[0] for movie_ids in df.groupby(['user_id']).groups.values()]\n",
    "    })\n",
    "\n",
    "df = find_movies_count_by_user(train_set)"
   ]
  },
  {
   "cell_type": "code",
   "execution_count": 54,
   "id": "2fc8721d-7393-4375-b9c1-115ff0fc9415",
   "metadata": {},
   "outputs": [
    {
     "data": {
      "text/html": [
       "<pre style=\"white-space:pre;overflow-x:auto;line-height:normal;font-family:Menlo,'DejaVu Sans Mono',consolas,'Courier New',monospace\"><span style=\"font-weight: bold\">(</span><span style=\"color: #008080; text-decoration-color: #008080; font-weight: bold\">0</span>, <span style=\"color: #008080; text-decoration-color: #008080; font-weight: bold\">141.5</span><span style=\"font-weight: bold\">)</span>\n",
       "</pre>\n"
      ],
      "text/plain": [
       "\u001b[1m(\u001b[0m\u001b[1;36m0\u001b[0m, \u001b[1;36m141.5\u001b[0m\u001b[1m)\u001b[0m\n"
      ]
     },
     "metadata": {},
     "output_type": "display_data"
    }
   ],
   "source": [
    "min_bound, max_bound = dt.n_iqr_range(df, 'n_movies')\n",
    "min_bound, max_bound"
   ]
  },
  {
   "cell_type": "code",
   "execution_count": 55,
   "id": "ac3d2285-3483-436c-988f-5b5317315955",
   "metadata": {},
   "outputs": [
    {
     "data": {
      "image/png": "[encoded data removed]"
     },
     "metadata": {},
     "output_type": "display_data"
    }
   ],
   "source": [
    "describe_num_var(df, 'n_movies')"
   ]
  },
  {
   "cell_type": "code",
   "execution_count": 56,
   "id": "ba9af249-f9d0-4a7d-bc6d-0abe1a60b096",
   "metadata": {},
   "outputs": [
    {
     "data": {
      "image/png": "[encoded data removed]"
     },
     "metadata": {},
     "output_type": "display_data"
    }
   ],
   "source": [
    "min_input_sequence_dim = 50\n",
    "max_input_sequence_dim = 100\n",
    "\n",
    "df = df[(df['n_movies'] >= min_input_sequence_dim) & (df['n_movies'] < max_input_sequence_dim)]\n",
    "\n",
    "describe_num_var(df, 'n_movies')"
   ]
  },
  {
   "cell_type": "code",
   "execution_count": 57,
   "id": "1c2b7e09-505b-4388-8393-5c68d0a833ab",
   "metadata": {},
   "outputs": [
    {
     "data": {
      "text/html": [
       "<pre style=\"white-space:pre;overflow-x:auto;line-height:normal;font-family:Menlo,'DejaVu Sans Mono',consolas,'Courier New',monospace\"><span style=\"color: #008080; text-decoration-color: #008080; font-weight: bold\">23050</span>\n",
       "</pre>\n"
      ],
      "text/plain": [
       "\u001b[1;36m23050\u001b[0m\n"
      ]
     },
     "metadata": {},
     "output_type": "display_data"
    }
   ],
   "source": [
    "n_movies = train_set['movie_id'].unique().shape[0]\n",
    "print(n_movies)"
   ]
  },
  {
   "cell_type": "code",
   "execution_count": 59,
   "id": "b5e40093-db52-4819-a255-c957f2b9f978",
   "metadata": {},
   "outputs": [],
   "source": [
    "params = Bunch(\n",
    "    epochs               = 60,\n",
    "    feat_seq_len         = min_input_sequence_dim,\n",
    "    max_input_seq_len    = max_input_sequence_dim,\n",
    "    id_seq_init          = 0,\n",
    "    train_batch_size     = 512,\n",
    "    eval_batch_size      = 32,\n",
    "    n_workers            = 8,\n",
    "    n_heads              = 4,\n",
    "    hidden_state_size    = 256,\n",
    "    n_transformer_layers = 2,\n",
    "    dropout              = 0.2,\n",
    "    lr                   = 0.01,\n",
    "    embedding_dim        = 60,\n",
    "    vocab_size           = n_movies + 1,\n",
    "    n_classes            = n_movies,\n",
    "    mask                 = n_movies\n",
    ")"
   ]
  },
  {
   "cell_type": "code",
   "execution_count": 60,
   "id": "41e39537-6cb4-42c9-8a63-d0fd26a85e73",
   "metadata": {},
   "outputs": [
    {
     "name": "stderr",
     "output_type": "stream",
     "text": [
      "2023-02-17 15:55:33,325 - INFO - group movies by user id\n",
      "2023-02-17 15:55:33,325 - INFO - group movies by user id\n",
      "2023-02-17 15:55:33,327 - INFO - get ordered user movie sequences <= 100\n",
      "2023-02-17 15:55:33,327 - INFO - get ordered user movie sequences <= 100\n"
     ]
    },
    {
     "data": {
      "application/vnd.jupyter.widget-view+json": {
       "model_id": "24d363be778942d28a7d725b3e2b744b",
       "version_major": 2,
       "version_minor": 0
      },
      "text/plain": [
       "Get user movie sequences:   0%|          | 0/498112 [00:00<?, ?it/s]"
      ]
     },
     "metadata": {},
     "output_type": "display_data"
    },
    {
     "name": "stderr",
     "output_type": "stream",
     "text": [
      "2023-02-17 15:57:24,759 - INFO - chunk movie sequences with size=50\n",
      "2023-02-17 15:57:24,759 - INFO - chunk movie sequences with size=50\n"
     ]
    },
    {
     "data": {
      "application/vnd.jupyter.widget-view+json": {
       "model_id": "1720d2399e264b389794f56997c7c03b",
       "version_major": 2,
       "version_minor": 0
      },
      "text/plain": [
       "Filter complete padded:   0%|          | 0/32988 [00:00<?, ?it/s]"
      ]
     },
     "metadata": {},
     "output_type": "display_data"
    },
    {
     "name": "stderr",
     "output_type": "stream",
     "text": [
      "2023-02-17 15:57:25,836 - INFO - group movies by user id\n",
      "2023-02-17 15:57:25,836 - INFO - group movies by user id\n",
      "2023-02-17 15:57:25,837 - INFO - get ordered user movie sequences <= 100\n",
      "2023-02-17 15:57:25,837 - INFO - get ordered user movie sequences <= 100\n"
     ]
    },
    {
     "data": {
      "application/vnd.jupyter.widget-view+json": {
       "model_id": "23000983fcde4093b872a23dd17b12d8",
       "version_major": 2,
       "version_minor": 0
      },
      "text/plain": [
       "Get user movie sequences:   0%|          | 0/18035 [00:00<?, ?it/s]"
      ]
     },
     "metadata": {},
     "output_type": "display_data"
    },
    {
     "name": "stderr",
     "output_type": "stream",
     "text": [
      "2023-02-17 15:57:32,077 - INFO - chunk movie sequences with size=50\n",
      "2023-02-17 15:57:32,077 - INFO - chunk movie sequences with size=50\n"
     ]
    },
    {
     "data": {
      "application/vnd.jupyter.widget-view+json": {
       "model_id": "03afc0b3ff634a5dbf86a0783994913a",
       "version_major": 2,
       "version_minor": 0
      },
      "text/plain": [
       "Filter complete padded:   0%|          | 0/707 [00:00<?, ?it/s]"
      ]
     },
     "metadata": {},
     "output_type": "display_data"
    },
    {
     "data": {
      "application/vnd.jupyter.widget-view+json": {
       "model_id": "fe5ef8985f934a108810380a6cc8a6f5",
       "version_major": 2,
       "version_minor": 0
      },
      "text/plain": [
       "Filter target that not in train:   0%|          | 0/707 [00:00<?, ?it/s]"
      ]
     },
     "metadata": {},
     "output_type": "display_data"
    },
    {
     "name": "stderr",
     "output_type": "stream",
     "text": [
      "2023-02-17 15:57:32,188 - INFO - targets not in train set: 113\n",
      "2023-02-17 15:57:32,188 - INFO - targets not in train set: 113\n"
     ]
    }
   ],
   "source": [
    "try:\n",
    "    train_ds = ds.SequenceDataset.load(f'{DATASETS_PATH}/train')\n",
    "except:\n",
    "    train_ds = ds.MovieSequenceDatasetFactory.create(\n",
    "        train_set,\n",
    "        feat_seq_len      = params.feat_seq_len,\n",
    "        id_seq_init       = params.id_seq_init,\n",
    "        max_movie_seq_len = params.max_input_seq_len,\n",
    "        mask              = params.mask\n",
    "    )\n",
    "    train_ds.save(f'{DATASETS_PATH}/train')\n",
    "    \n",
    "try:\n",
    "    eval_ds = ds.SequenceDataset.load(f'{DATASETS_PATH}/eval')\n",
    "except:\n",
    "    eval_ds = ds.MovieSequenceDatasetFactory.create(\n",
    "        eval_set,\n",
    "        feat_seq_len      = params.feat_seq_len,\n",
    "        id_seq_init       = params.id_seq_init,\n",
    "        max_movie_seq_len = params.max_input_seq_len,\n",
    "        train_ds          = train_ds,\n",
    "        mask              = params.mask\n",
    "    )\n",
    "    eval_ds.save(f'{DATASETS_PATH}/eval')\n",
    "\n",
    "\n",
    "train_dl = DataLoader(\n",
    "    train_ds,\n",
    "    params.train_batch_size,\n",
    "    num_workers     = params.n_workers,\n",
    "    pin_memory      = True,\n",
    "    shuffle         = True\n",
    ")\n",
    "eval_dl  = DataLoader(\n",
    "    eval_ds,\n",
    "    params.eval_batch_size,\n",
    "    num_workers     = params.n_workers,\n",
    "    pin_memory      = True,\n",
    "    shuffle         = True\n",
    ")"
   ]
  },
  {
   "cell_type": "markdown",
   "id": "2c2455c3-91ff-4b28-934a-623193c38674",
   "metadata": {
    "tags": []
   },
   "source": [
    "## Model Definition"
   ]
  },
  {
   "cell_type": "code",
   "execution_count": 61,
   "id": "8666f8fa-10a8-47a4-b8bd-391abd82a4f2",
   "metadata": {},
   "outputs": [],
   "source": [
    "model = ml.TransformerClasifier(\n",
    "    embedding_dim        = params.embedding_dim,\n",
    "    vocab_size           = params.vocab_size,\n",
    "    sequence_size        = params.feat_seq_len,\n",
    "    mask_position        = params.mask,\n",
    "    nhead                = params.n_heads,\n",
    "    hidden_state_size    = params.hidden_state_size,\n",
    "    n_transformer_layers = params.n_transformer_layers,\n",
    "    dropout              = params.dropout,\n",
    "    n_classes            = params.n_classes\n",
    ").to(pu.get_device())"
   ]
  },
  {
   "cell_type": "code",
   "execution_count": 62,
   "id": "9f955777-bb2a-4157-a931-7d6ab12c9938",
   "metadata": {},
   "outputs": [
    {
     "name": "stderr",
     "output_type": "stream",
     "text": [
      "2023-02-17 15:57:37,048 - INFO - src: torch.Size([512, 50])\n",
      "2023-02-17 15:57:37,048 - INFO - src: torch.Size([512, 50])\n",
      "2023-02-17 15:57:37,051 - INFO - embed: torch.Size([512, 50, 60])\n",
      "2023-02-17 15:57:37,051 - INFO - embed: torch.Size([512, 50, 60])\n",
      "2023-02-17 15:57:37,053 - INFO - pos_embed: torch.Size([512, 50, 60])\n",
      "2023-02-17 15:57:37,053 - INFO - pos_embed: torch.Size([512, 50, 60])\n",
      "2023-02-17 15:57:37,056 - INFO - src_mask: torch.Size([50, 50])\n",
      "2023-02-17 15:57:37,056 - INFO - src_mask: torch.Size([50, 50])\n",
      "2023-02-17 15:57:37,058 - INFO - src_key_padding_mask: torch.Size([512, 50])\n",
      "2023-02-17 15:57:37,058 - INFO - src_key_padding_mask: torch.Size([512, 50])\n",
      "2023-02-17 15:57:37,059 - INFO - trans_input: torch.Size([50, 512, 60])\n",
      "2023-02-17 15:57:37,059 - INFO - trans_input: torch.Size([50, 512, 60])\n",
      "2023-02-17 15:57:37,071 - INFO - trans_output: torch.Size([512, 50, 60])\n",
      "2023-02-17 15:57:37,071 - INFO - trans_output: torch.Size([512, 50, 60])\n",
      "2023-02-17 15:57:37,073 - INFO - mlp_input: torch.Size([512, 60])\n",
      "2023-02-17 15:57:37,073 - INFO - mlp_input: torch.Size([512, 60])\n",
      "2023-02-17 15:57:37,074 - INFO - mlp_output: torch.Size([512, 23050])\n",
      "2023-02-17 15:57:37,074 - INFO - mlp_output: torch.Size([512, 23050])\n"
     ]
    },
    {
     "data": {
      "text/html": [
       "<pre style=\"white-space:pre;overflow-x:auto;line-height:normal;font-family:Menlo,'DejaVu Sans Mono',consolas,'Courier New',monospace\">\n",
       "<span style=\"color: #800080; text-decoration-color: #800080; font-weight: bold\">tensor</span><span style=\"font-weight: bold\">([[</span><span style=\"color: #008080; text-decoration-color: #008080; font-weight: bold\">-0.4917</span>,  <span style=\"color: #008080; text-decoration-color: #008080; font-weight: bold\">0.1143</span>,  <span style=\"color: #008080; text-decoration-color: #008080; font-weight: bold\">0.3736</span>,  <span style=\"color: #808000; text-decoration-color: #808000\">...</span>, <span style=\"color: #008080; text-decoration-color: #008080; font-weight: bold\">-0.5749</span>, <span style=\"color: #008080; text-decoration-color: #008080; font-weight: bold\">-0.4457</span>,  <span style=\"color: #008080; text-decoration-color: #008080; font-weight: bold\">1.3918</span><span style=\"font-weight: bold\">]</span>,\n",
       "        <span style=\"font-weight: bold\">[</span><span style=\"color: #008080; text-decoration-color: #008080; font-weight: bold\">-0.2606</span>,  <span style=\"color: #008080; text-decoration-color: #008080; font-weight: bold\">0.5036</span>,  <span style=\"color: #008080; text-decoration-color: #008080; font-weight: bold\">0.2309</span>,  <span style=\"color: #808000; text-decoration-color: #808000\">...</span>, <span style=\"color: #008080; text-decoration-color: #008080; font-weight: bold\">-0.4457</span>, <span style=\"color: #008080; text-decoration-color: #008080; font-weight: bold\">-0.0341</span>,  <span style=\"color: #008080; text-decoration-color: #008080; font-weight: bold\">1.2990</span><span style=\"font-weight: bold\">]</span>,\n",
       "        <span style=\"font-weight: bold\">[</span><span style=\"color: #008080; text-decoration-color: #008080; font-weight: bold\">-0.2716</span>,  <span style=\"color: #008080; text-decoration-color: #008080; font-weight: bold\">0.3698</span>,  <span style=\"color: #008080; text-decoration-color: #008080; font-weight: bold\">0.6496</span>,  <span style=\"color: #808000; text-decoration-color: #808000\">...</span>, <span style=\"color: #008080; text-decoration-color: #008080; font-weight: bold\">-0.5152</span>, <span style=\"color: #008080; text-decoration-color: #008080; font-weight: bold\">-0.0176</span>,  <span style=\"color: #008080; text-decoration-color: #008080; font-weight: bold\">1.1138</span><span style=\"font-weight: bold\">]</span>,\n",
       "        <span style=\"color: #808000; text-decoration-color: #808000\">...</span>,\n",
       "        <span style=\"font-weight: bold\">[</span> <span style=\"color: #008080; text-decoration-color: #008080; font-weight: bold\">0.0180</span>,  <span style=\"color: #008080; text-decoration-color: #008080; font-weight: bold\">0.7643</span>,  <span style=\"color: #008080; text-decoration-color: #008080; font-weight: bold\">0.3344</span>,  <span style=\"color: #808000; text-decoration-color: #808000\">...</span>, <span style=\"color: #008080; text-decoration-color: #008080; font-weight: bold\">-0.6748</span>, <span style=\"color: #008080; text-decoration-color: #008080; font-weight: bold\">-0.1497</span>,  <span style=\"color: #008080; text-decoration-color: #008080; font-weight: bold\">0.8356</span><span style=\"font-weight: bold\">]</span>,\n",
       "        <span style=\"font-weight: bold\">[</span><span style=\"color: #008080; text-decoration-color: #008080; font-weight: bold\">-0.0580</span>,  <span style=\"color: #008080; text-decoration-color: #008080; font-weight: bold\">0.3421</span>,  <span style=\"color: #008080; text-decoration-color: #008080; font-weight: bold\">0.0076</span>,  <span style=\"color: #808000; text-decoration-color: #808000\">...</span>, <span style=\"color: #008080; text-decoration-color: #008080; font-weight: bold\">-0.8248</span>,  <span style=\"color: #008080; text-decoration-color: #008080; font-weight: bold\">0.1231</span>,  <span style=\"color: #008080; text-decoration-color: #008080; font-weight: bold\">1.2424</span><span style=\"font-weight: bold\">]</span>,\n",
       "        <span style=\"font-weight: bold\">[</span><span style=\"color: #008080; text-decoration-color: #008080; font-weight: bold\">-0.2988</span>,  <span style=\"color: #008080; text-decoration-color: #008080; font-weight: bold\">0.2626</span>,  <span style=\"color: #008080; text-decoration-color: #008080; font-weight: bold\">0.8153</span>,  <span style=\"color: #808000; text-decoration-color: #808000\">...</span>, <span style=\"color: #008080; text-decoration-color: #008080; font-weight: bold\">-0.4584</span>, <span style=\"color: #008080; text-decoration-color: #008080; font-weight: bold\">-0.0931</span>,  <span style=\"color: #008080; text-decoration-color: #008080; font-weight: bold\">1.2425</span><span style=\"font-weight: bold\">]]</span>,\n",
       "       <span style=\"color: #808000; text-decoration-color: #808000\">device</span>=<span style=\"color: #008000; text-decoration-color: #008000\">'cuda:0'</span>, <span style=\"color: #808000; text-decoration-color: #808000\">grad_fn</span>=<span style=\"font-weight: bold\">&lt;</span><span style=\"color: #ff00ff; text-decoration-color: #ff00ff; font-weight: bold\">AddmmBackward0</span><span style=\"font-weight: bold\">&gt;)</span>\n",
       "</pre>\n"
      ],
      "text/plain": [
       "\n",
       "\u001b[1;35mtensor\u001b[0m\u001b[1m(\u001b[0m\u001b[1m[\u001b[0m\u001b[1m[\u001b[0m\u001b[1;36m-0.4917\u001b[0m,  \u001b[1;36m0.1143\u001b[0m,  \u001b[1;36m0.3736\u001b[0m,  \u001b[33m...\u001b[0m, \u001b[1;36m-0.5749\u001b[0m, \u001b[1;36m-0.4457\u001b[0m,  \u001b[1;36m1.3918\u001b[0m\u001b[1m]\u001b[0m,\n",
       "        \u001b[1m[\u001b[0m\u001b[1;36m-0.2606\u001b[0m,  \u001b[1;36m0.5036\u001b[0m,  \u001b[1;36m0.2309\u001b[0m,  \u001b[33m...\u001b[0m, \u001b[1;36m-0.4457\u001b[0m, \u001b[1;36m-0.0341\u001b[0m,  \u001b[1;36m1.2990\u001b[0m\u001b[1m]\u001b[0m,\n",
       "        \u001b[1m[\u001b[0m\u001b[1;36m-0.2716\u001b[0m,  \u001b[1;36m0.3698\u001b[0m,  \u001b[1;36m0.6496\u001b[0m,  \u001b[33m...\u001b[0m, \u001b[1;36m-0.5152\u001b[0m, \u001b[1;36m-0.0176\u001b[0m,  \u001b[1;36m1.1138\u001b[0m\u001b[1m]\u001b[0m,\n",
       "        \u001b[33m...\u001b[0m,\n",
       "        \u001b[1m[\u001b[0m \u001b[1;36m0.0180\u001b[0m,  \u001b[1;36m0.7643\u001b[0m,  \u001b[1;36m0.3344\u001b[0m,  \u001b[33m...\u001b[0m, \u001b[1;36m-0.6748\u001b[0m, \u001b[1;36m-0.1497\u001b[0m,  \u001b[1;36m0.8356\u001b[0m\u001b[1m]\u001b[0m,\n",
       "        \u001b[1m[\u001b[0m\u001b[1;36m-0.0580\u001b[0m,  \u001b[1;36m0.3421\u001b[0m,  \u001b[1;36m0.0076\u001b[0m,  \u001b[33m...\u001b[0m, \u001b[1;36m-0.8248\u001b[0m,  \u001b[1;36m0.1231\u001b[0m,  \u001b[1;36m1.2424\u001b[0m\u001b[1m]\u001b[0m,\n",
       "        \u001b[1m[\u001b[0m\u001b[1;36m-0.2988\u001b[0m,  \u001b[1;36m0.2626\u001b[0m,  \u001b[1;36m0.8153\u001b[0m,  \u001b[33m...\u001b[0m, \u001b[1;36m-0.4584\u001b[0m, \u001b[1;36m-0.0931\u001b[0m,  \u001b[1;36m1.2425\u001b[0m\u001b[1m]\u001b[0m\u001b[1m]\u001b[0m,\n",
       "       \u001b[33mdevice\u001b[0m=\u001b[32m'cuda:0'\u001b[0m, \u001b[33mgrad_fn\u001b[0m=\u001b[1m<\u001b[0m\u001b[1;95mAddmmBackward0\u001b[0m\u001b[1m>\u001b[0m\u001b[1m)\u001b[0m\n"
      ]
     },
     "metadata": {},
     "output_type": "display_data"
    }
   ],
   "source": [
    "batch = next(iter(train_dl))\n",
    "model(batch[0], verbose=True)"
   ]
  },
  {
   "cell_type": "markdown",
   "id": "d274b064-38f1-4329-9d22-0678c89f07e2",
   "metadata": {},
   "source": [
    "### Model Training"
   ]
  },
  {
   "cell_type": "code",
   "execution_count": 63,
   "id": "9d7fb3ea-dbd7-4065-aca2-7b66717483a2",
   "metadata": {},
   "outputs": [
    {
     "name": "stderr",
     "output_type": "stream",
     "text": [
      "2023-02-17 15:57:47,001 - INFO - {'time': '0:00:06.33', 'epoch': 1, 'train_loss': 8.241074547400842, 'val_loss': tensor(8.2989), 'val_acc': 0.0}\n",
      "2023-02-17 15:57:47,001 - INFO - {'time': '0:00:06.33', 'epoch': 1, 'train_loss': 8.241074547400842, 'val_loss': tensor(8.2989), 'val_acc': 0.0}\n",
      "2023-02-17 15:57:53,165 - INFO - {'time': '0:00:06.12', 'epoch': 2, 'train_loss': 7.695575303297776, 'val_loss': tensor(8.0939), 'val_acc': 0.0}\n",
      "2023-02-17 15:57:53,165 - INFO - {'time': '0:00:06.12', 'epoch': 2, 'train_loss': 7.695575303297776, 'val_loss': tensor(8.0939), 'val_acc': 0.0}\n",
      "2023-02-17 15:57:59,308 - INFO - {'time': '0:00:06.10', 'epoch': 3, 'train_loss': 7.568126025566688, 'val_loss': tensor(8.0561), 'val_acc': 0.0}\n",
      "2023-02-17 15:57:59,308 - INFO - {'time': '0:00:06.10', 'epoch': 3, 'train_loss': 7.568126025566688, 'val_loss': tensor(8.0561), 'val_acc': 0.0}\n",
      "2023-02-17 15:58:05,436 - INFO - {'time': '0:00:06.08', 'epoch': 4, 'train_loss': 7.4973979363074665, 'val_loss': tensor(8.0537), 'val_acc': 0.0}\n",
      "2023-02-17 15:58:05,436 - INFO - {'time': '0:00:06.08', 'epoch': 4, 'train_loss': 7.4973979363074665, 'val_loss': tensor(8.0537), 'val_acc': 0.0}\n",
      "2023-02-17 15:58:11,574 - INFO - {'time': '0:00:06.10', 'epoch': 5, 'train_loss': 7.460604110130897, 'val_loss': tensor(8.1266), 'val_acc': 0.0}\n",
      "2023-02-17 15:58:11,574 - INFO - {'time': '0:00:06.10', 'epoch': 5, 'train_loss': 7.460604110130897, 'val_loss': tensor(8.1266), 'val_acc': 0.0}\n",
      "2023-02-17 15:58:17,836 - INFO - {'time': '0:00:06.23', 'epoch': 6, 'train_loss': 7.429201470888578, 'val_loss': tensor(8.1288), 'val_acc': 0.0}\n",
      "2023-02-17 15:58:17,836 - INFO - {'time': '0:00:06.23', 'epoch': 6, 'train_loss': 7.429201470888578, 'val_loss': tensor(8.1288), 'val_acc': 0.0}\n",
      "2023-02-17 15:58:23,929 - INFO - {'time': '0:00:06.05', 'epoch': 7, 'train_loss': 7.404370674720178, 'val_loss': tensor(8.0701), 'val_acc': 0.0016835016835016834}\n",
      "2023-02-17 15:58:23,929 - INFO - {'time': '0:00:06.05', 'epoch': 7, 'train_loss': 7.404370674720178, 'val_loss': tensor(8.0701), 'val_acc': 0.0016835016835016834}\n",
      "2023-02-17 15:58:30,062 - INFO - {'time': '0:00:06.09', 'epoch': 8, 'train_loss': 7.380072454305796, 'val_loss': tensor(8.1794), 'val_acc': 0.0016835016835016834}\n",
      "2023-02-17 15:58:30,062 - INFO - {'time': '0:00:06.09', 'epoch': 8, 'train_loss': 7.380072454305796, 'val_loss': tensor(8.1794), 'val_acc': 0.0016835016835016834}\n",
      "2023-02-17 15:58:36,237 - INFO - {'time': '0:00:06.13', 'epoch': 9, 'train_loss': 7.35347395676833, 'val_loss': tensor(8.1843), 'val_acc': 0.0}\n",
      "2023-02-17 15:58:36,237 - INFO - {'time': '0:00:06.13', 'epoch': 9, 'train_loss': 7.35347395676833, 'val_loss': tensor(8.1843), 'val_acc': 0.0}\n",
      "2023-02-17 15:58:42,421 - INFO - {'time': '0:00:06.15', 'epoch': 10, 'train_loss': 7.34043025970459, 'val_loss': tensor(8.2523), 'val_acc': 0.0016835016835016834}\n",
      "2023-02-17 15:58:42,421 - INFO - {'time': '0:00:06.15', 'epoch': 10, 'train_loss': 7.34043025970459, 'val_loss': tensor(8.2523), 'val_acc': 0.0016835016835016834}\n",
      "2023-02-17 15:58:48,583 - INFO - {'time': '0:00:06.12', 'epoch': 11, 'train_loss': 7.3150009228633, 'val_loss': tensor(8.1888), 'val_acc': 0.003367003367003367}\n",
      "2023-02-17 15:58:48,583 - INFO - {'time': '0:00:06.12', 'epoch': 11, 'train_loss': 7.3150009228633, 'val_loss': tensor(8.1888), 'val_acc': 0.003367003367003367}\n",
      "2023-02-17 15:58:54,705 - INFO - {'time': '0:00:06.09', 'epoch': 12, 'train_loss': 7.306664943695068, 'val_loss': tensor(8.2811), 'val_acc': 0.0016835016835016834}\n",
      "2023-02-17 15:58:54,705 - INFO - {'time': '0:00:06.09', 'epoch': 12, 'train_loss': 7.306664943695068, 'val_loss': tensor(8.2811), 'val_acc': 0.0016835016835016834}\n",
      "2023-02-17 15:59:00,844 - INFO - {'time': '0:00:06.11', 'epoch': 13, 'train_loss': 7.29214030779325, 'val_loss': tensor(8.2903), 'val_acc': 0.0}\n",
      "2023-02-17 15:59:00,844 - INFO - {'time': '0:00:06.11', 'epoch': 13, 'train_loss': 7.29214030779325, 'val_loss': tensor(8.2903), 'val_acc': 0.0}\n",
      "2023-02-17 15:59:07,054 - INFO - {'time': '0:00:06.15', 'epoch': 14, 'train_loss': 7.275416726332445, 'val_loss': tensor(8.3195), 'val_acc': 0.003367003367003367}\n",
      "2023-02-17 15:59:07,054 - INFO - {'time': '0:00:06.15', 'epoch': 14, 'train_loss': 7.275416726332445, 'val_loss': tensor(8.3195), 'val_acc': 0.003367003367003367}\n",
      "2023-02-17 15:59:13,237 - INFO - {'time': '0:00:06.14', 'epoch': 15, 'train_loss': 7.2592980971703165, 'val_loss': tensor(8.3136), 'val_acc': 0.0016835016835016834}\n",
      "2023-02-17 15:59:13,237 - INFO - {'time': '0:00:06.14', 'epoch': 15, 'train_loss': 7.2592980971703165, 'val_loss': tensor(8.3136), 'val_acc': 0.0016835016835016834}\n",
      "2023-02-17 15:59:19,556 - INFO - {'time': '0:00:06.27', 'epoch': 16, 'train_loss': 7.248657512664795, 'val_loss': tensor(8.2656), 'val_acc': 0.0}\n",
      "2023-02-17 15:59:19,556 - INFO - {'time': '0:00:06.27', 'epoch': 16, 'train_loss': 7.248657512664795, 'val_loss': tensor(8.2656), 'val_acc': 0.0}\n",
      "2023-02-17 15:59:25,846 - INFO - {'time': '0:00:06.25', 'epoch': 17, 'train_loss': 7.234458747276893, 'val_loss': tensor(8.3184), 'val_acc': 0.0016835016835016834}\n",
      "2023-02-17 15:59:25,846 - INFO - {'time': '0:00:06.25', 'epoch': 17, 'train_loss': 7.234458747276893, 'val_loss': tensor(8.3184), 'val_acc': 0.0016835016835016834}\n",
      "2023-02-17 15:59:32,419 - INFO - {'time': '0:00:06.53', 'epoch': 18, 'train_loss': 7.2126060339120714, 'val_loss': tensor(8.2646), 'val_acc': 0.0016835016835016834}\n",
      "2023-02-17 15:59:32,419 - INFO - {'time': '0:00:06.53', 'epoch': 18, 'train_loss': 7.2126060339120714, 'val_loss': tensor(8.2646), 'val_acc': 0.0016835016835016834}\n",
      "2023-02-17 15:59:38,962 - INFO - {'time': '0:00:06.49', 'epoch': 19, 'train_loss': 7.186428429530217, 'val_loss': tensor(8.3083), 'val_acc': 0.003367003367003367}\n",
      "2023-02-17 15:59:38,962 - INFO - {'time': '0:00:06.49', 'epoch': 19, 'train_loss': 7.186428429530217, 'val_loss': tensor(8.3083), 'val_acc': 0.003367003367003367}\n",
      "2023-02-17 15:59:45,349 - INFO - {'time': '0:00:06.34', 'epoch': 20, 'train_loss': 7.150622646625226, 'val_loss': tensor(8.3305), 'val_acc': 0.0016835016835016834}\n",
      "2023-02-17 15:59:45,349 - INFO - {'time': '0:00:06.34', 'epoch': 20, 'train_loss': 7.150622646625226, 'val_loss': tensor(8.3305), 'val_acc': 0.0016835016835016834}\n",
      "2023-02-17 15:59:51,597 - INFO - {'time': '0:00:06.21', 'epoch': 21, 'train_loss': 7.133747893113356, 'val_loss': tensor(8.3300), 'val_acc': 0.003367003367003367}\n",
      "2023-02-17 15:59:51,597 - INFO - {'time': '0:00:06.21', 'epoch': 21, 'train_loss': 7.133747893113356, 'val_loss': tensor(8.3300), 'val_acc': 0.003367003367003367}\n",
      "2023-02-17 15:59:57,964 - INFO - {'time': '0:00:06.32', 'epoch': 22, 'train_loss': 7.108655636127178, 'val_loss': tensor(8.2749), 'val_acc': 0.0016835016835016834}\n",
      "2023-02-17 15:59:57,964 - INFO - {'time': '0:00:06.32', 'epoch': 22, 'train_loss': 7.108655636127178, 'val_loss': tensor(8.2749), 'val_acc': 0.0016835016835016834}\n",
      "2023-02-17 16:00:04,531 - INFO - {'time': '0:00:06.52', 'epoch': 23, 'train_loss': 7.093449211120605, 'val_loss': tensor(8.3394), 'val_acc': 0.0}\n",
      "2023-02-17 16:00:04,531 - INFO - {'time': '0:00:06.52', 'epoch': 23, 'train_loss': 7.093449211120605, 'val_loss': tensor(8.3394), 'val_acc': 0.0}\n",
      "2023-02-17 16:00:10,998 - INFO - {'time': '0:00:06.42', 'epoch': 24, 'train_loss': 7.08679236632127, 'val_loss': tensor(8.3496), 'val_acc': 0.0016835016835016834}\n",
      "2023-02-17 16:00:10,998 - INFO - {'time': '0:00:06.42', 'epoch': 24, 'train_loss': 7.08679236632127, 'val_loss': tensor(8.3496), 'val_acc': 0.0016835016835016834}\n",
      "2023-02-17 16:00:17,330 - INFO - {'time': '0:00:06.29', 'epoch': 25, 'train_loss': 7.067000741225023, 'val_loss': tensor(8.3587), 'val_acc': 0.003367003367003367}\n",
      "2023-02-17 16:00:17,330 - INFO - {'time': '0:00:06.29', 'epoch': 25, 'train_loss': 7.067000741225023, 'val_loss': tensor(8.3587), 'val_acc': 0.003367003367003367}\n",
      "2023-02-17 16:00:23,643 - INFO - {'time': '0:00:06.27', 'epoch': 26, 'train_loss': 7.053590840559739, 'val_loss': tensor(8.3987), 'val_acc': 0.003367003367003367}\n",
      "2023-02-17 16:00:23,643 - INFO - {'time': '0:00:06.27', 'epoch': 26, 'train_loss': 7.053590840559739, 'val_loss': tensor(8.3987), 'val_acc': 0.003367003367003367}\n",
      "2023-02-17 16:00:29,887 - INFO - {'time': '0:00:06.21', 'epoch': 27, 'train_loss': 7.0492662063011755, 'val_loss': tensor(8.3967), 'val_acc': 0.0}\n",
      "2023-02-17 16:00:29,887 - INFO - {'time': '0:00:06.21', 'epoch': 27, 'train_loss': 7.0492662063011755, 'val_loss': tensor(8.3967), 'val_acc': 0.0}\n",
      "2023-02-17 16:00:36,052 - INFO - {'time': '0:00:06.11', 'epoch': 28, 'train_loss': 7.033650376246526, 'val_loss': tensor(8.4626), 'val_acc': 0.0}\n",
      "2023-02-17 16:00:36,052 - INFO - {'time': '0:00:06.11', 'epoch': 28, 'train_loss': 7.033650376246526, 'val_loss': tensor(8.4626), 'val_acc': 0.0}\n",
      "2023-02-17 16:00:42,362 - INFO - {'time': '0:00:06.27', 'epoch': 29, 'train_loss': 7.010958224076491, 'val_loss': tensor(8.4208), 'val_acc': 0.0016835016835016834}\n",
      "2023-02-17 16:00:42,362 - INFO - {'time': '0:00:06.27', 'epoch': 29, 'train_loss': 7.010958224076491, 'val_loss': tensor(8.4208), 'val_acc': 0.0016835016835016834}\n",
      "2023-02-17 16:00:48,779 - INFO - {'time': '0:00:06.38', 'epoch': 30, 'train_loss': 7.012028525425838, 'val_loss': tensor(8.5319), 'val_acc': 0.0016835016835016834}\n",
      "2023-02-17 16:00:48,779 - INFO - {'time': '0:00:06.38', 'epoch': 30, 'train_loss': 7.012028525425838, 'val_loss': tensor(8.5319), 'val_acc': 0.0016835016835016834}\n"
     ]
    },
    {
     "ename": "KeyboardInterrupt",
     "evalue": "",
     "output_type": "error",
     "traceback": [
      "\u001b[0;31m---------------------------------------------------------------------------\u001b[0m",
      "\u001b[0;31mKeyboardInterrupt\u001b[0m                         Traceback (most recent call last)",
      "File \u001b[0;32m<timed eval>:1\u001b[0m\n",
      "File \u001b[0;32m~/.conda/envs/thesis/lib/python3.10/site-packages/pytorch_common/modules/fit_mixin.py:32\u001b[0m, in \u001b[0;36mFitMixin.fit\u001b[0;34m(self, data_loader, loss_fn, epochs, optimizer, callbacks, verbose, extra_ctx)\u001b[0m\n\u001b[1;32m     29\u001b[0m \u001b[38;5;28;01mfor\u001b[39;00m epoch \u001b[38;5;129;01min\u001b[39;00m \u001b[38;5;28mrange\u001b[39m(epochs):\n\u001b[1;32m     30\u001b[0m     callback_manager\u001b[38;5;241m.\u001b[39mon_epoch_start(epoch)\n\u001b[0;32m---> 32\u001b[0m     train_loss \u001b[38;5;241m=\u001b[39m \u001b[43mFn\u001b[49m\u001b[38;5;241;43m.\u001b[39;49m\u001b[43mtrain\u001b[49m\u001b[43m(\u001b[49m\n\u001b[1;32m     33\u001b[0m \u001b[43m        \u001b[49m\u001b[38;5;28;43mself\u001b[39;49m\u001b[43m,\u001b[49m\n\u001b[1;32m     34\u001b[0m \u001b[43m        \u001b[49m\u001b[43mdata_loader\u001b[49m\u001b[43m,\u001b[49m\n\u001b[1;32m     35\u001b[0m \u001b[43m        \u001b[49m\u001b[43mloss_fn\u001b[49m\u001b[43m,\u001b[49m\n\u001b[1;32m     36\u001b[0m \u001b[43m        \u001b[49m\u001b[43moptimizer\u001b[49m\u001b[43m,\u001b[49m\n\u001b[1;32m     37\u001b[0m \u001b[43m        \u001b[49m\u001b[43mcallback_manager\u001b[49m\u001b[38;5;241;43m.\u001b[39;49m\u001b[43mctx\u001b[49m\u001b[38;5;241;43m.\u001b[39;49m\u001b[43mdevice\u001b[49m\n\u001b[1;32m     38\u001b[0m \u001b[43m    \u001b[49m\u001b[43m)\u001b[49m\n\u001b[1;32m     40\u001b[0m     callback_manager\u001b[38;5;241m.\u001b[39mon_epoch_end(train_loss)\n\u001b[1;32m     42\u001b[0m     \u001b[38;5;28;01mif\u001b[39;00m callback_manager\u001b[38;5;241m.\u001b[39mbreak_training():\n",
      "File \u001b[0;32m~/.conda/envs/thesis/lib/python3.10/site-packages/pytorch_common/modules/fn.py:18\u001b[0m, in \u001b[0;36mFn.train\u001b[0;34m(model, data_loader, loss_fn, optimizer, device)\u001b[0m\n\u001b[1;32m     15\u001b[0m model\u001b[38;5;241m.\u001b[39mzero_grad()\n\u001b[1;32m     16\u001b[0m loss \u001b[38;5;241m=\u001b[39m loss_fn(y, target)\n\u001b[0;32m---> 18\u001b[0m \u001b[43mloss\u001b[49m\u001b[38;5;241;43m.\u001b[39;49m\u001b[43mbackward\u001b[49m\u001b[43m(\u001b[49m\u001b[43m)\u001b[49m\n\u001b[1;32m     19\u001b[0m torch\u001b[38;5;241m.\u001b[39mnn\u001b[38;5;241m.\u001b[39mutils\u001b[38;5;241m.\u001b[39mclip_grad_norm_(model\u001b[38;5;241m.\u001b[39mparameters(), \u001b[38;5;241m0.5\u001b[39m)\n\u001b[1;32m     20\u001b[0m optimizer\u001b[38;5;241m.\u001b[39mstep()\n",
      "File \u001b[0;32m~/.local/lib/python3.10/site-packages/torch/_tensor.py:488\u001b[0m, in \u001b[0;36mTensor.backward\u001b[0;34m(self, gradient, retain_graph, create_graph, inputs)\u001b[0m\n\u001b[1;32m    478\u001b[0m \u001b[38;5;28;01mif\u001b[39;00m has_torch_function_unary(\u001b[38;5;28mself\u001b[39m):\n\u001b[1;32m    479\u001b[0m     \u001b[38;5;28;01mreturn\u001b[39;00m handle_torch_function(\n\u001b[1;32m    480\u001b[0m         Tensor\u001b[38;5;241m.\u001b[39mbackward,\n\u001b[1;32m    481\u001b[0m         (\u001b[38;5;28mself\u001b[39m,),\n\u001b[0;32m   (...)\u001b[0m\n\u001b[1;32m    486\u001b[0m         inputs\u001b[38;5;241m=\u001b[39minputs,\n\u001b[1;32m    487\u001b[0m     )\n\u001b[0;32m--> 488\u001b[0m \u001b[43mtorch\u001b[49m\u001b[38;5;241;43m.\u001b[39;49m\u001b[43mautograd\u001b[49m\u001b[38;5;241;43m.\u001b[39;49m\u001b[43mbackward\u001b[49m\u001b[43m(\u001b[49m\n\u001b[1;32m    489\u001b[0m \u001b[43m    \u001b[49m\u001b[38;5;28;43mself\u001b[39;49m\u001b[43m,\u001b[49m\u001b[43m \u001b[49m\u001b[43mgradient\u001b[49m\u001b[43m,\u001b[49m\u001b[43m \u001b[49m\u001b[43mretain_graph\u001b[49m\u001b[43m,\u001b[49m\u001b[43m \u001b[49m\u001b[43mcreate_graph\u001b[49m\u001b[43m,\u001b[49m\u001b[43m \u001b[49m\u001b[43minputs\u001b[49m\u001b[38;5;241;43m=\u001b[39;49m\u001b[43minputs\u001b[49m\n\u001b[1;32m    490\u001b[0m \u001b[43m\u001b[49m\u001b[43m)\u001b[49m\n",
      "File \u001b[0;32m~/.local/lib/python3.10/site-packages/torch/autograd/__init__.py:197\u001b[0m, in \u001b[0;36mbackward\u001b[0;34m(tensors, grad_tensors, retain_graph, create_graph, grad_variables, inputs)\u001b[0m\n\u001b[1;32m    192\u001b[0m     retain_graph \u001b[38;5;241m=\u001b[39m create_graph\n\u001b[1;32m    194\u001b[0m \u001b[38;5;66;03m# The reason we repeat same the comment below is that\u001b[39;00m\n\u001b[1;32m    195\u001b[0m \u001b[38;5;66;03m# some Python versions print out the first line of a multi-line function\u001b[39;00m\n\u001b[1;32m    196\u001b[0m \u001b[38;5;66;03m# calls in the traceback and some print out the last line\u001b[39;00m\n\u001b[0;32m--> 197\u001b[0m \u001b[43mVariable\u001b[49m\u001b[38;5;241;43m.\u001b[39;49m\u001b[43m_execution_engine\u001b[49m\u001b[38;5;241;43m.\u001b[39;49m\u001b[43mrun_backward\u001b[49m\u001b[43m(\u001b[49m\u001b[43m  \u001b[49m\u001b[38;5;66;43;03m# Calls into the C++ engine to run the backward pass\u001b[39;49;00m\n\u001b[1;32m    198\u001b[0m \u001b[43m    \u001b[49m\u001b[43mtensors\u001b[49m\u001b[43m,\u001b[49m\u001b[43m \u001b[49m\u001b[43mgrad_tensors_\u001b[49m\u001b[43m,\u001b[49m\u001b[43m \u001b[49m\u001b[43mretain_graph\u001b[49m\u001b[43m,\u001b[49m\u001b[43m \u001b[49m\u001b[43mcreate_graph\u001b[49m\u001b[43m,\u001b[49m\u001b[43m \u001b[49m\u001b[43minputs\u001b[49m\u001b[43m,\u001b[49m\n\u001b[1;32m    199\u001b[0m \u001b[43m    \u001b[49m\u001b[43mallow_unreachable\u001b[49m\u001b[38;5;241;43m=\u001b[39;49m\u001b[38;5;28;43;01mTrue\u001b[39;49;00m\u001b[43m,\u001b[49m\u001b[43m \u001b[49m\u001b[43maccumulate_grad\u001b[49m\u001b[38;5;241;43m=\u001b[39;49m\u001b[38;5;28;43;01mTrue\u001b[39;49;00m\u001b[43m)\u001b[49m\n",
      "\u001b[0;31mKeyboardInterrupt\u001b[0m: "
     ]
    }
   ],
   "source": [
    "%%time\n",
    "model.fit(\n",
    "    train_dl,\n",
    "    epochs    = params.epochs,\n",
    "    loss_fn   = CrossEntropyLossFn(),\n",
    "    optimizer = Adam(\n",
    "        params  = model.parameters(),\n",
    "        lr      = params.lr\n",
    "    ),\n",
    "    callbacks = [\n",
    "        Validation(\n",
    "            eval_dl,\n",
    "            metrics       = { 'val_acc' : AccFn(), 'val_loss': CrossEntropyLossFn() },\n",
    "            each_n_epochs = 1\n",
    "        ),\n",
    "        Logger(['time', 'epoch', 'train_loss', 'val_loss', 'val_acc'])\n",
    "    ]\n",
    ")"
   ]
  },
  {
   "cell_type": "code",
   "execution_count": null,
   "id": "92454493-7131-42e6-ab84-4ab1a0ba6820",
   "metadata": {},
   "outputs": [],
   "source": []
  }
 ],
 "metadata": {
  "kernelspec": {
   "display_name": "Python 3 (ipykernel)",
   "language": "python",
   "name": "python3"
  },
  "language_info": {
   "codemirror_mode": {
    "name": "ipython",
    "version": 3
   },
   "file_extension": ".py",
   "mimetype": "text/x-python",
   "name": "python",
   "nbconvert_exporter": "python",
   "pygments_lexer": "ipython3",
   "version": "3.10.9"
  },
  "widgets": {
   "application/vnd.jupyter.widget-state+json": {
    "state": {},
    "version_major": 2,
    "version_minor": 0
   }
  }
 },
 "nbformat": 4,
 "nbformat_minor": 5
}
