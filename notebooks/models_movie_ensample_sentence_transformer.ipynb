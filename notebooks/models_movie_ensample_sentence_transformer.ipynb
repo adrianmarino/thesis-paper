{
 "cells": [
  {
   "cell_type": "markdown",
   "id": "0417277b-47df-4113-a7b3-8f960db06f1d",
   "metadata": {
    "tags": []
   },
   "source": [
    "# Ensemple CB recommender based on Sentence Transformers"
   ]
  },
  {
   "cell_type": "code",
   "execution_count": 1,
   "id": "8dde5e70-5b86-460f-8791-20fcb554c378",
   "metadata": {},
   "outputs": [],
   "source": [
    " %load_ext autoreload\n",
    "%autoreload 2"
   ]
  },
  {
   "cell_type": "code",
   "execution_count": 2,
   "id": "f98e7bf4-f41a-43f6-b7b7-a991d00f82de",
   "metadata": {},
   "outputs": [
    {
     "data": {
      "text/html": [
       "<pre style=\"white-space:pre;overflow-x:auto;line-height:normal;font-family:Menlo,'DejaVu Sans Mono',consolas,'Courier New',monospace\"><span style=\"font-weight: bold\">&lt;</span><span style=\"color: #ff00ff; text-decoration-color: #ff00ff; font-weight: bold\">Figure</span><span style=\"color: #000000; text-decoration-color: #000000\"> size 432x288 with </span><span style=\"color: #008080; text-decoration-color: #008080; font-weight: bold\">0</span><span style=\"color: #000000; text-decoration-color: #000000\"> Axes</span><span style=\"font-weight: bold\">&gt;</span>\n",
       "</pre>\n"
      ],
      "text/plain": [
       "\u001b[1m<\u001b[0m\u001b[1;95mFigure\u001b[0m\u001b[39m size 432x288 with \u001b[0m\u001b[1;36m0\u001b[0m\u001b[39m Axes\u001b[0m\u001b[1m>\u001b[0m\n"
      ]
     },
     "metadata": {},
     "output_type": "display_data"
    }
   ],
   "source": [
    "import sys\n",
    "sys.path.append('../lib')\n",
    "\n",
    "import torch\n",
    "import numpy as np\n",
    "import pandas as pd\n",
    "\n",
    "import pytorch_common.util as pu\n",
    "\n",
    "import logging\n",
    "import data as dt\n",
    "\n",
    "import recommender as rc"
   ]
  },
  {
   "cell_type": "markdown",
   "id": "40c1da33-a8da-47c9-b174-0b0885b05b50",
   "metadata": {},
   "source": [
    "## Setup"
   ]
  },
  {
   "cell_type": "code",
   "execution_count": 3,
   "id": "e60a3838-9787-411d-b9f1-8a942321cbb1",
   "metadata": {},
   "outputs": [
    {
     "data": {
      "text/html": [
       "<pre style=\"white-space:pre;overflow-x:auto;line-height:normal;font-family:Menlo,'DejaVu Sans Mono',consolas,'Courier New',monospace\"><span style=\"font-weight: bold\">&lt;</span><span style=\"color: #ff00ff; text-decoration-color: #ff00ff; font-weight: bold\">RootLogger</span><span style=\"color: #000000; text-decoration-color: #000000\"> root </span><span style=\"color: #000000; text-decoration-color: #000000; font-weight: bold\">(</span><span style=\"color: #000000; text-decoration-color: #000000\">INFO</span><span style=\"color: #000000; text-decoration-color: #000000; font-weight: bold\">)</span><span style=\"font-weight: bold\">&gt;</span>\n",
       "</pre>\n"
      ],
      "text/plain": [
       "\u001b[1m<\u001b[0m\u001b[1;95mRootLogger\u001b[0m\u001b[39m root \u001b[0m\u001b[1;39m(\u001b[0m\u001b[39mINFO\u001b[0m\u001b[1;39m)\u001b[0m\u001b[1m>\u001b[0m\n"
      ]
     },
     "metadata": {},
     "output_type": "display_data"
    }
   ],
   "source": [
    "pu.LoggerBuilder().on_console().build()"
   ]
  },
  {
   "cell_type": "code",
   "execution_count": 4,
   "id": "9fd7574f-043a-4fc3-8ab8-bfd55b6a92d8",
   "metadata": {},
   "outputs": [],
   "source": [
    "pu.set_device_name('gpu')"
   ]
  },
  {
   "cell_type": "code",
   "execution_count": 5,
   "id": "bad1a1e0-b35e-4b40-ab06-beae8fbb244a",
   "metadata": {},
   "outputs": [
    {
     "data": {
      "text/html": [
       "<pre style=\"white-space:pre;overflow-x:auto;line-height:normal;font-family:Menlo,'DejaVu Sans Mono',consolas,'Courier New',monospace\"><span style=\"color: #800080; text-decoration-color: #800080; font-weight: bold\">device</span><span style=\"font-weight: bold\">(</span><span style=\"color: #808000; text-decoration-color: #808000\">type</span>=<span style=\"color: #008000; text-decoration-color: #008000\">'cuda'</span>, <span style=\"color: #808000; text-decoration-color: #808000\">index</span>=<span style=\"color: #008080; text-decoration-color: #008080; font-weight: bold\">0</span><span style=\"font-weight: bold\">)</span>\n",
       "</pre>\n"
      ],
      "text/plain": [
       "\u001b[1;35mdevice\u001b[0m\u001b[1m(\u001b[0m\u001b[33mtype\u001b[0m=\u001b[32m'cuda'\u001b[0m, \u001b[33mindex\u001b[0m=\u001b[1;36m0\u001b[0m\u001b[1m)\u001b[0m\n"
      ]
     },
     "metadata": {},
     "output_type": "display_data"
    }
   ],
   "source": [
    "pu.get_device()"
   ]
  },
  {
   "cell_type": "code",
   "execution_count": 6,
   "id": "d1ba7b0b-b5d8-47ec-8995-642b7b21e6d2",
   "metadata": {},
   "outputs": [
    {
     "data": {
      "text/html": [
       "<pre style=\"white-space:pre;overflow-x:auto;line-height:normal;font-family:Menlo,'DejaVu Sans Mono',consolas,'Courier New',monospace\"><span style=\"color: #00ff00; text-decoration-color: #00ff00; font-style: italic\">True</span>\n",
       "</pre>\n"
      ],
      "text/plain": [
       "\u001b[3;92mTrue\u001b[0m\n"
      ]
     },
     "metadata": {},
     "output_type": "display_data"
    }
   ],
   "source": [
    "torch.cuda.is_available()"
   ]
  },
  {
   "cell_type": "code",
   "execution_count": 7,
   "id": "21fa4041-5682-4332-b139-6aca63d05ea0",
   "metadata": {},
   "outputs": [
    {
     "data": {
      "text/html": [
       "<pre style=\"white-space:pre;overflow-x:auto;line-height:normal;font-family:Menlo,'DejaVu Sans Mono',consolas,'Courier New',monospace\"><span style=\"color: #008000; text-decoration-color: #008000\">'1.11.0'</span>\n",
       "</pre>\n"
      ],
      "text/plain": [
       "\u001b[32m'1.11.0'\u001b[0m\n"
      ]
     },
     "metadata": {},
     "output_type": "display_data"
    }
   ],
   "source": [
    "torch.__version__"
   ]
  },
  {
   "cell_type": "markdown",
   "id": "d43c9369-047c-45ea-863c-304319bc63f0",
   "metadata": {},
   "source": [
    "## Evaluación"
   ]
  },
  {
   "cell_type": "code",
   "execution_count": 8,
   "id": "fbcd44ff-b654-4565-b215-31589e10d4c5",
   "metadata": {},
   "outputs": [],
   "source": [
    "def load(name): return pd.read_json(f'../datasets/movie_{name}_embedding_bert.json')\n",
    "def emb_rec(emb, name): return rc.DistanceMatrixRecommender(emb, f'{name}_embedding')"
   ]
  },
  {
   "cell_type": "code",
   "execution_count": 9,
   "id": "9a882d10-9c11-4470-adf7-f3e0dcd79081",
   "metadata": {},
   "outputs": [
    {
     "data": {
      "application/vnd.jupyter.widget-view+json": {
       "model_id": "37385d49ef514dbca0894d645860a129",
       "version_major": 2,
       "version_minor": 0
      },
      "text/plain": [
       "Building Distances Matrix:   0%|          | 0/18515 [00:00<?, ?it/s]"
      ]
     },
     "metadata": {},
     "output_type": "display_data"
    },
    {
     "data": {
      "application/vnd.jupyter.widget-view+json": {
       "model_id": "d587ba6294a44823acd7e5f852d0eb48",
       "version_major": 2,
       "version_minor": 0
      },
      "text/plain": [
       "Building Distances Matrix:   0%|          | 0/18515 [00:00<?, ?it/s]"
      ]
     },
     "metadata": {},
     "output_type": "display_data"
    },
    {
     "data": {
      "application/vnd.jupyter.widget-view+json": {
       "model_id": "fe53c0824b784991bc859f0cbfc270f1",
       "version_major": 2,
       "version_minor": 0
      },
      "text/plain": [
       "Building Distances Matrix:   0%|          | 0/18515 [00:00<?, ?it/s]"
      ]
     },
     "metadata": {},
     "output_type": "display_data"
    }
   ],
   "source": [
    "embeddings_by_name   = {name: load(name) for name in ['genres', 'overview', 'tags']}\n",
    "recommenders_by_name = {name: emb_rec(emb, name) for name, emb in embeddings_by_name.items()}\n",
    "emb_recommenders     = list(recommenders_by_name.values())"
   ]
  },
  {
   "cell_type": "code",
   "execution_count": 10,
   "id": "a159d68f-fe88-4b84-a0f3-b3e9ab679382",
   "metadata": {},
   "outputs": [],
   "source": [
    "item_index = 10"
   ]
  },
  {
   "cell_type": "code",
   "execution_count": 11,
   "id": "ccf98905-1f3f-4d4e-b123-fac0040c6fad",
   "metadata": {},
   "outputs": [],
   "source": [
    "recommender_group = rc.RecommenderGroup(emb_recommenders)"
   ]
  },
  {
   "cell_type": "code",
   "execution_count": 12,
   "id": "28edec6f-2bd3-4bae-adf4-fe3256eaa87a",
   "metadata": {},
   "outputs": [
    {
     "name": "stdout",
     "output_type": "stream",
     "text": [
      "\n",
      "Recommender: genres\n",
      "Item\n"
     ]
    },
    {
     "data": {
      "text/html": [
       "<div>\n",
       "<style scoped>\n",
       "    .dataframe tbody tr th:only-of-type {\n",
       "        vertical-align: middle;\n",
       "    }\n",
       "\n",
       "    .dataframe tbody tr th {\n",
       "        vertical-align: top;\n",
       "    }\n",
       "\n",
       "    .dataframe thead th {\n",
       "        text-align: right;\n",
       "    }\n",
       "</style>\n",
       "<table border=\"1\" class=\"dataframe\">\n",
       "  <thead>\n",
       "    <tr style=\"text-align: right;\">\n",
       "      <th></th>\n",
       "      <th>id</th>\n",
       "      <th>title</th>\n",
       "    </tr>\n",
       "  </thead>\n",
       "  <tbody>\n",
       "    <tr>\n",
       "      <th>10</th>\n",
       "      <td>8360</td>\n",
       "      <td>Shrek 2</td>\n",
       "    </tr>\n",
       "  </tbody>\n",
       "</table>\n",
       "</div>"
      ]
     },
     "metadata": {},
     "output_type": "display_data"
    },
    {
     "name": "stdout",
     "output_type": "stream",
     "text": [
      "Recommendations\n"
     ]
    },
    {
     "data": {
      "text/html": [
       "<div>\n",
       "<style scoped>\n",
       "    .dataframe tbody tr th:only-of-type {\n",
       "        vertical-align: middle;\n",
       "    }\n",
       "\n",
       "    .dataframe tbody tr th {\n",
       "        vertical-align: top;\n",
       "    }\n",
       "\n",
       "    .dataframe thead th {\n",
       "        text-align: right;\n",
       "    }\n",
       "</style>\n",
       "<table border=\"1\" class=\"dataframe\">\n",
       "  <thead>\n",
       "    <tr style=\"text-align: right;\">\n",
       "      <th></th>\n",
       "      <th>index</th>\n",
       "      <th>distance</th>\n",
       "      <th>id</th>\n",
       "      <th>title</th>\n",
       "      <th>genres</th>\n",
       "    </tr>\n",
       "  </thead>\n",
       "  <tbody>\n",
       "    <tr>\n",
       "      <th>0</th>\n",
       "      <td>10</td>\n",
       "      <td>0.000000</td>\n",
       "      <td>8360</td>\n",
       "      <td>Shrek 2</td>\n",
       "      <td>Adventure Animation Children Comedy Musical Ro...</td>\n",
       "    </tr>\n",
       "    <tr>\n",
       "      <th>1</th>\n",
       "      <td>2860</td>\n",
       "      <td>0.017834</td>\n",
       "      <td>2081</td>\n",
       "      <td>Little Mermaid, The</td>\n",
       "      <td>Animation Children Comedy Musical Romance</td>\n",
       "    </tr>\n",
       "    <tr>\n",
       "      <th>2</th>\n",
       "      <td>2739</td>\n",
       "      <td>0.019455</td>\n",
       "      <td>56152</td>\n",
       "      <td>Enchanted</td>\n",
       "      <td>Adventure Animation Children Comedy Fantasy Mu...</td>\n",
       "    </tr>\n",
       "    <tr>\n",
       "      <th>3</th>\n",
       "      <td>2858</td>\n",
       "      <td>0.027384</td>\n",
       "      <td>1907</td>\n",
       "      <td>Mulan</td>\n",
       "      <td>Adventure Animation Children Comedy Drama Musi...</td>\n",
       "    </tr>\n",
       "    <tr>\n",
       "      <th>4</th>\n",
       "      <td>7187</td>\n",
       "      <td>0.041949</td>\n",
       "      <td>88468</td>\n",
       "      <td>Alpha and Omega</td>\n",
       "      <td>Adventure Animation Children Comedy Romance</td>\n",
       "    </tr>\n",
       "  </tbody>\n",
       "</table>\n",
       "</div>"
      ]
     },
     "metadata": {},
     "output_type": "display_data"
    },
    {
     "name": "stdout",
     "output_type": "stream",
     "text": [
      "\n",
      "Recommender: overview\n",
      "Item\n"
     ]
    },
    {
     "data": {
      "text/html": [
       "<div>\n",
       "<style scoped>\n",
       "    .dataframe tbody tr th:only-of-type {\n",
       "        vertical-align: middle;\n",
       "    }\n",
       "\n",
       "    .dataframe tbody tr th {\n",
       "        vertical-align: top;\n",
       "    }\n",
       "\n",
       "    .dataframe thead th {\n",
       "        text-align: right;\n",
       "    }\n",
       "</style>\n",
       "<table border=\"1\" class=\"dataframe\">\n",
       "  <thead>\n",
       "    <tr style=\"text-align: right;\">\n",
       "      <th></th>\n",
       "      <th>id</th>\n",
       "      <th>title</th>\n",
       "    </tr>\n",
       "  </thead>\n",
       "  <tbody>\n",
       "    <tr>\n",
       "      <th>10</th>\n",
       "      <td>8360</td>\n",
       "      <td>Shrek 2</td>\n",
       "    </tr>\n",
       "  </tbody>\n",
       "</table>\n",
       "</div>"
      ]
     },
     "metadata": {},
     "output_type": "display_data"
    },
    {
     "name": "stdout",
     "output_type": "stream",
     "text": [
      "Recommendations\n"
     ]
    },
    {
     "data": {
      "text/html": [
       "<div>\n",
       "<style scoped>\n",
       "    .dataframe tbody tr th:only-of-type {\n",
       "        vertical-align: middle;\n",
       "    }\n",
       "\n",
       "    .dataframe tbody tr th {\n",
       "        vertical-align: top;\n",
       "    }\n",
       "\n",
       "    .dataframe thead th {\n",
       "        text-align: right;\n",
       "    }\n",
       "</style>\n",
       "<table border=\"1\" class=\"dataframe\">\n",
       "  <thead>\n",
       "    <tr style=\"text-align: right;\">\n",
       "      <th></th>\n",
       "      <th>index</th>\n",
       "      <th>distance</th>\n",
       "      <th>id</th>\n",
       "      <th>title</th>\n",
       "      <th>overview</th>\n",
       "    </tr>\n",
       "  </thead>\n",
       "  <tbody>\n",
       "    <tr>\n",
       "      <th>0</th>\n",
       "      <td>10</td>\n",
       "      <td>0.000000</td>\n",
       "      <td>8360</td>\n",
       "      <td>Shrek 2</td>\n",
       "      <td>Shrek, Fiona and Donkey set off to Far, Far Aw...</td>\n",
       "    </tr>\n",
       "    <tr>\n",
       "      <th>1</th>\n",
       "      <td>1916</td>\n",
       "      <td>0.259786</td>\n",
       "      <td>53121</td>\n",
       "      <td>Shrek the Third</td>\n",
       "      <td>The King of Far Far Away has died and Shrek an...</td>\n",
       "    </tr>\n",
       "    <tr>\n",
       "      <th>2</th>\n",
       "      <td>2954</td>\n",
       "      <td>0.333089</td>\n",
       "      <td>78637</td>\n",
       "      <td>Shrek Forever After</td>\n",
       "      <td>A bored and domesticated Shrek pacts with deal...</td>\n",
       "    </tr>\n",
       "    <tr>\n",
       "      <th>3</th>\n",
       "      <td>14344</td>\n",
       "      <td>0.439909</td>\n",
       "      <td>64249</td>\n",
       "      <td>Shrek the Halls</td>\n",
       "      <td>The Christmas tree isn't the only thing green ...</td>\n",
       "    </tr>\n",
       "    <tr>\n",
       "      <th>4</th>\n",
       "      <td>3</td>\n",
       "      <td>0.447712</td>\n",
       "      <td>4306</td>\n",
       "      <td>Shrek</td>\n",
       "      <td>It ain't easy bein' green -- especially if you...</td>\n",
       "    </tr>\n",
       "  </tbody>\n",
       "</table>\n",
       "</div>"
      ]
     },
     "metadata": {},
     "output_type": "display_data"
    },
    {
     "name": "stdout",
     "output_type": "stream",
     "text": [
      "\n",
      "Recommender: tags\n",
      "Item\n"
     ]
    },
    {
     "data": {
      "text/html": [
       "<div>\n",
       "<style scoped>\n",
       "    .dataframe tbody tr th:only-of-type {\n",
       "        vertical-align: middle;\n",
       "    }\n",
       "\n",
       "    .dataframe tbody tr th {\n",
       "        vertical-align: top;\n",
       "    }\n",
       "\n",
       "    .dataframe thead th {\n",
       "        text-align: right;\n",
       "    }\n",
       "</style>\n",
       "<table border=\"1\" class=\"dataframe\">\n",
       "  <thead>\n",
       "    <tr style=\"text-align: right;\">\n",
       "      <th></th>\n",
       "      <th>id</th>\n",
       "      <th>title</th>\n",
       "    </tr>\n",
       "  </thead>\n",
       "  <tbody>\n",
       "    <tr>\n",
       "      <th>10</th>\n",
       "      <td>8360</td>\n",
       "      <td>Shrek 2</td>\n",
       "    </tr>\n",
       "  </tbody>\n",
       "</table>\n",
       "</div>"
      ]
     },
     "metadata": {},
     "output_type": "display_data"
    },
    {
     "name": "stdout",
     "output_type": "stream",
     "text": [
      "Recommendations\n"
     ]
    },
    {
     "data": {
      "text/html": [
       "<div>\n",
       "<style scoped>\n",
       "    .dataframe tbody tr th:only-of-type {\n",
       "        vertical-align: middle;\n",
       "    }\n",
       "\n",
       "    .dataframe tbody tr th {\n",
       "        vertical-align: top;\n",
       "    }\n",
       "\n",
       "    .dataframe thead th {\n",
       "        text-align: right;\n",
       "    }\n",
       "</style>\n",
       "<table border=\"1\" class=\"dataframe\">\n",
       "  <thead>\n",
       "    <tr style=\"text-align: right;\">\n",
       "      <th></th>\n",
       "      <th>index</th>\n",
       "      <th>distance</th>\n",
       "      <th>id</th>\n",
       "      <th>title</th>\n",
       "      <th>tags</th>\n",
       "    </tr>\n",
       "  </thead>\n",
       "  <tbody>\n",
       "    <tr>\n",
       "      <th>0</th>\n",
       "      <td>10</td>\n",
       "      <td>0.000000</td>\n",
       "      <td>8360</td>\n",
       "      <td>Shrek 2</td>\n",
       "      <td>(s)vcd 2020-2 relook 4 andrew adamson animatio...</td>\n",
       "    </tr>\n",
       "    <tr>\n",
       "      <th>1</th>\n",
       "      <td>2733</td>\n",
       "      <td>0.193913</td>\n",
       "      <td>45517</td>\n",
       "      <td>Cars</td>\n",
       "      <td>actually funny aftercreditsstinger animation a...</td>\n",
       "    </tr>\n",
       "    <tr>\n",
       "      <th>2</th>\n",
       "      <td>1916</td>\n",
       "      <td>0.223048</td>\n",
       "      <td>53121</td>\n",
       "      <td>Shrek the Third</td>\n",
       "      <td>adventure ambush animation assault bad sequel ...</td>\n",
       "    </tr>\n",
       "    <tr>\n",
       "      <th>3</th>\n",
       "      <td>3</td>\n",
       "      <td>0.226049</td>\n",
       "      <td>4306</td>\n",
       "      <td>Shrek</td>\n",
       "      <td>3 adventure almost favorite andrew adamson ani...</td>\n",
       "    </tr>\n",
       "    <tr>\n",
       "      <th>4</th>\n",
       "      <td>19</td>\n",
       "      <td>0.233767</td>\n",
       "      <td>78499</td>\n",
       "      <td>Toy Story 3</td>\n",
       "      <td>action adventure alive toys animation animação...</td>\n",
       "    </tr>\n",
       "  </tbody>\n",
       "</table>\n",
       "</div>"
      ]
     },
     "metadata": {},
     "output_type": "display_data"
    }
   ],
   "source": [
    "recommender_group.recommend(item_index).show()"
   ]
  },
  {
   "cell_type": "code",
   "execution_count": 17,
   "id": "8c021cde-d216-4750-ac1c-9d6c744165d5",
   "metadata": {},
   "outputs": [],
   "source": [
    "recommender = rc.EnsembleWeightedDistanceMatrixRecommender(\n",
    "    emb_recommenders,\n",
    "    weights = { 'tags': 0.4, 'overview': 0.3, 'genres': 0.3}\n",
    ")"
   ]
  },
  {
   "cell_type": "code",
   "execution_count": 20,
   "id": "9887261e-36d4-499d-b303-97c236df3d31",
   "metadata": {
    "tags": []
   },
   "outputs": [
    {
     "name": "stdout",
     "output_type": "stream",
     "text": [
      "\n",
      "Recommender: ['genres', 'overview', 'tags']\n",
      "Item\n"
     ]
    },
    {
     "data": {
      "text/html": [
       "<div>\n",
       "<style scoped>\n",
       "    .dataframe tbody tr th:only-of-type {\n",
       "        vertical-align: middle;\n",
       "    }\n",
       "\n",
       "    .dataframe tbody tr th {\n",
       "        vertical-align: top;\n",
       "    }\n",
       "\n",
       "    .dataframe thead th {\n",
       "        text-align: right;\n",
       "    }\n",
       "</style>\n",
       "<table border=\"1\" class=\"dataframe\">\n",
       "  <thead>\n",
       "    <tr style=\"text-align: right;\">\n",
       "      <th></th>\n",
       "      <th>id</th>\n",
       "      <th>title</th>\n",
       "    </tr>\n",
       "  </thead>\n",
       "  <tbody>\n",
       "    <tr>\n",
       "      <th>10</th>\n",
       "      <td>8360</td>\n",
       "      <td>Shrek 2</td>\n",
       "    </tr>\n",
       "  </tbody>\n",
       "</table>\n",
       "</div>"
      ]
     },
     "metadata": {},
     "output_type": "display_data"
    },
    {
     "name": "stdout",
     "output_type": "stream",
     "text": [
      "Recommendations\n"
     ]
    },
    {
     "data": {
      "text/html": [
       "<div>\n",
       "<style scoped>\n",
       "    .dataframe tbody tr th:only-of-type {\n",
       "        vertical-align: middle;\n",
       "    }\n",
       "\n",
       "    .dataframe tbody tr th {\n",
       "        vertical-align: top;\n",
       "    }\n",
       "\n",
       "    .dataframe thead th {\n",
       "        text-align: right;\n",
       "    }\n",
       "</style>\n",
       "<table border=\"1\" class=\"dataframe\">\n",
       "  <thead>\n",
       "    <tr style=\"text-align: right;\">\n",
       "      <th></th>\n",
       "      <th>distance</th>\n",
       "      <th>title</th>\n",
       "      <th>genres</th>\n",
       "      <th>overview</th>\n",
       "      <th>tags</th>\n",
       "    </tr>\n",
       "  </thead>\n",
       "  <tbody>\n",
       "    <tr>\n",
       "      <th>0</th>\n",
       "      <td>0.000000</td>\n",
       "      <td>Shrek 2</td>\n",
       "      <td>Adventure Animation Children Comedy Musical Ro...</td>\n",
       "      <td>Shrek, Fiona and Donkey set off to Far, Far Aw...</td>\n",
       "      <td>(s)vcd 2020-2 relook 4 andrew adamson animatio...</td>\n",
       "    </tr>\n",
       "    <tr>\n",
       "      <th>1</th>\n",
       "      <td>0.064930</td>\n",
       "      <td>Shrek the Third</td>\n",
       "      <td>Adventure Animation Children Comedy Fantasy</td>\n",
       "      <td>The King of Far Far Away has died and Shrek an...</td>\n",
       "      <td>adventure ambush animation assault bad sequel ...</td>\n",
       "    </tr>\n",
       "    <tr>\n",
       "      <th>2</th>\n",
       "      <td>0.079398</td>\n",
       "      <td>Shrek</td>\n",
       "      <td>Adventure Animation Children Comedy Fantasy Ro...</td>\n",
       "      <td>It ain't easy bein' green -- especially if you...</td>\n",
       "      <td>3 adventure almost favorite andrew adamson ani...</td>\n",
       "    </tr>\n",
       "    <tr>\n",
       "      <th>3</th>\n",
       "      <td>0.093923</td>\n",
       "      <td>Shrek Forever After</td>\n",
       "      <td>Adventure Animation Children Comedy Fantasy IMAX</td>\n",
       "      <td>A bored and domesticated Shrek pacts with deal...</td>\n",
       "      <td>3d action animation bad sequel computer animat...</td>\n",
       "    </tr>\n",
       "    <tr>\n",
       "      <th>4</th>\n",
       "      <td>0.103539</td>\n",
       "      <td>Aladdin</td>\n",
       "      <td>Adventure Animation Children Comedy Musical</td>\n",
       "      <td>Princess Jasmine grows tired of being forced t...</td>\n",
       "      <td>(s)vcd 2d animation action adventure aftercred...</td>\n",
       "    </tr>\n",
       "    <tr>\n",
       "      <th>5</th>\n",
       "      <td>0.106216</td>\n",
       "      <td>Enchanted</td>\n",
       "      <td>Adventure Animation Children Comedy Fantasy Mu...</td>\n",
       "      <td>The beautiful princess Giselle is banished by ...</td>\n",
       "      <td>========================= alan menken amy adam...</td>\n",
       "    </tr>\n",
       "    <tr>\n",
       "      <th>6</th>\n",
       "      <td>0.106811</td>\n",
       "      <td>Frozen</td>\n",
       "      <td>Adventure Animation Comedy Fantasy Musical Rom...</td>\n",
       "      <td>Young princess Anna of Arendelle dreams about ...</td>\n",
       "      <td>2014 angry feminism animation awful story bad ...</td>\n",
       "    </tr>\n",
       "    <tr>\n",
       "      <th>7</th>\n",
       "      <td>0.112855</td>\n",
       "      <td>Tangled</td>\n",
       "      <td>Animation Children Comedy Fantasy Musical Roma...</td>\n",
       "      <td>When the kingdom's most wanted-and most charmi...</td>\n",
       "      <td>3d adapted from:book alan menken animal sideki...</td>\n",
       "    </tr>\n",
       "    <tr>\n",
       "      <th>8</th>\n",
       "      <td>0.113448</td>\n",
       "      <td>Toy Story 2</td>\n",
       "      <td>Adventure Animation Children Comedy Fantasy</td>\n",
       "      <td>Andy heads off to Cowboy Camp, leaving his toy...</td>\n",
       "      <td>2009 reissue in stereoscopic 3-d 3d abandonmen...</td>\n",
       "    </tr>\n",
       "    <tr>\n",
       "      <th>9</th>\n",
       "      <td>0.115478</td>\n",
       "      <td>Toy Story</td>\n",
       "      <td>Adventure Animation Children Comedy Fantasy</td>\n",
       "      <td>Led by Woody, Andy's toys live happily in his ...</td>\n",
       "      <td>2009 reissue in stereoscopic 3-d 3d 55 movies ...</td>\n",
       "    </tr>\n",
       "    <tr>\n",
       "      <th>10</th>\n",
       "      <td>0.115904</td>\n",
       "      <td>Toy Story 3</td>\n",
       "      <td>Adventure Animation Children Comedy Fantasy IMAX</td>\n",
       "      <td>Woody, Buzz, and the rest of Andy's toys haven...</td>\n",
       "      <td>action adventure alive toys animation animação...</td>\n",
       "    </tr>\n",
       "    <tr>\n",
       "      <th>11</th>\n",
       "      <td>0.116863</td>\n",
       "      <td>Little Mermaid, The</td>\n",
       "      <td>Animation Children Comedy Musical Romance</td>\n",
       "      <td>This colorful adventure tells the story of an ...</td>\n",
       "      <td>2d animation 55 movies every kid should see--e...</td>\n",
       "    </tr>\n",
       "    <tr>\n",
       "      <th>12</th>\n",
       "      <td>0.119505</td>\n",
       "      <td>Mulan</td>\n",
       "      <td>Adventure Animation Children Comedy Drama Musi...</td>\n",
       "      <td>A tomboyish girl disguises herself as a young ...</td>\n",
       "      <td>70mm amazing! animated animation army asian cu...</td>\n",
       "    </tr>\n",
       "    <tr>\n",
       "      <th>13</th>\n",
       "      <td>0.121125</td>\n",
       "      <td>Ice Age: Dawn of the Dinosaurs</td>\n",
       "      <td>Action Adventure Animation Children Comedy Rom...</td>\n",
       "      <td>Times are changing for Manny the moody mammoth...</td>\n",
       "      <td>2d characters 3d animation bill hader birth br...</td>\n",
       "    </tr>\n",
       "    <tr>\n",
       "      <th>14</th>\n",
       "      <td>0.122698</td>\n",
       "      <td>Into the Woods</td>\n",
       "      <td>Children Comedy Fantasy Musical</td>\n",
       "      <td>In a woods filled with magic and fairy tale ch...</td>\n",
       "      <td>2015 academy award nomination best actress sup...</td>\n",
       "    </tr>\n",
       "    <tr>\n",
       "      <th>15</th>\n",
       "      <td>0.122872</td>\n",
       "      <td>Lady and the Tramp</td>\n",
       "      <td>Animation Children Comedy Romance</td>\n",
       "      <td>Lady, a golden cocker spaniel, meets up with a...</td>\n",
       "      <td>(s)vcd 2d animation 50s animals animated class...</td>\n",
       "    </tr>\n",
       "    <tr>\n",
       "      <th>16</th>\n",
       "      <td>0.124554</td>\n",
       "      <td>Hoodwinked!</td>\n",
       "      <td>Animation Children Comedy</td>\n",
       "      <td>The recipes of candies of the goody shops have...</td>\n",
       "      <td>animation anne hathaway bad animation ben fold...</td>\n",
       "    </tr>\n",
       "    <tr>\n",
       "      <th>17</th>\n",
       "      <td>0.124980</td>\n",
       "      <td>Ice Age</td>\n",
       "      <td>Adventure Animation Children Comedy</td>\n",
       "      <td>With the impending ice age almost upon them, a...</td>\n",
       "      <td>a very good moive animals animated animation a...</td>\n",
       "    </tr>\n",
       "    <tr>\n",
       "      <th>18</th>\n",
       "      <td>0.125878</td>\n",
       "      <td>Cars</td>\n",
       "      <td>Animation Children Comedy</td>\n",
       "      <td>Lightning McQueen, a hotshot rookie race car d...</td>\n",
       "      <td>actually funny aftercreditsstinger animation a...</td>\n",
       "    </tr>\n",
       "    <tr>\n",
       "      <th>19</th>\n",
       "      <td>0.126754</td>\n",
       "      <td>Monsters, Inc.</td>\n",
       "      <td>Adventure Animation Children Comedy Fantasy</td>\n",
       "      <td>James Sullivan and Mike Wazowski are monsters,...</td>\n",
       "      <td>3 andrew stanton animated animation bechdel te...</td>\n",
       "    </tr>\n",
       "    <tr>\n",
       "      <th>20</th>\n",
       "      <td>0.127236</td>\n",
       "      <td>Goofy Movie, A</td>\n",
       "      <td>Animation Children Comedy Romance</td>\n",
       "      <td>Though Goofy always means well, his amiable cl...</td>\n",
       "      <td>90s 90s kid adventure animation cartoon celebr...</td>\n",
       "    </tr>\n",
       "    <tr>\n",
       "      <th>21</th>\n",
       "      <td>0.127810</td>\n",
       "      <td>Snow White and the Seven Dwarfs</td>\n",
       "      <td>Animation Children Drama Fantasy Musical</td>\n",
       "      <td>A beautiful girl, Snow White, takes refuge in ...</td>\n",
       "      <td>(s)vcd 2d animation adapted from:book adriana ...</td>\n",
       "    </tr>\n",
       "    <tr>\n",
       "      <th>22</th>\n",
       "      <td>0.130684</td>\n",
       "      <td>Nightmare Before Christmas, The</td>\n",
       "      <td>Animation Children Fantasy Musical</td>\n",
       "      <td>Tired of scaring humans every October 31 with ...</td>\n",
       "      <td>*good* musicals 2006 reissue in stereoscopic 3...</td>\n",
       "    </tr>\n",
       "    <tr>\n",
       "      <th>23</th>\n",
       "      <td>0.131716</td>\n",
       "      <td>Princess Diaries, The</td>\n",
       "      <td>Children Comedy Romance</td>\n",
       "      <td>A socially awkward but very bright 15-year-old...</td>\n",
       "      <td>2020 relook anne hathaway based on a book base...</td>\n",
       "    </tr>\n",
       "    <tr>\n",
       "      <th>24</th>\n",
       "      <td>0.131729</td>\n",
       "      <td>Jungle Book, The</td>\n",
       "      <td>Animation Children Comedy Musical</td>\n",
       "      <td>The boy Mowgli makes his way to the man-villag...</td>\n",
       "      <td>(s)vcd 60s adapted from:book animal lead anima...</td>\n",
       "    </tr>\n",
       "    <tr>\n",
       "      <th>25</th>\n",
       "      <td>0.132222</td>\n",
       "      <td>Happily N'Ever After</td>\n",
       "      <td>Animation Children Comedy</td>\n",
       "      <td>An alliance of evil-doers, led by Frieda, look...</td>\n",
       "      <td>animated animation bad mother-in-law cinderell...</td>\n",
       "    </tr>\n",
       "    <tr>\n",
       "      <th>26</th>\n",
       "      <td>0.133229</td>\n",
       "      <td>Pinocchio</td>\n",
       "      <td>Animation Children Fantasy Musical</td>\n",
       "      <td>Lonely toymaker Geppetto has his wishes answer...</td>\n",
       "      <td>(s)vcd 2d animation 55 movies every kid should...</td>\n",
       "    </tr>\n",
       "    <tr>\n",
       "      <th>27</th>\n",
       "      <td>0.133321</td>\n",
       "      <td>Chronicles of Narnia: The Lion, the Witch and ...</td>\n",
       "      <td>Adventure Children Fantasy</td>\n",
       "      <td>Siblings Lucy, Edmund, Susan and Peter step th...</td>\n",
       "      <td>acting action adapted from:book adventure alte...</td>\n",
       "    </tr>\n",
       "    <tr>\n",
       "      <th>28</th>\n",
       "      <td>0.134206</td>\n",
       "      <td>Lion King, The</td>\n",
       "      <td>Adventure Animation Children Drama Musical IMAX</td>\n",
       "      <td>A young lion cub named Simba can't wait to be ...</td>\n",
       "      <td>2d animation 55 movies every kid should see--e...</td>\n",
       "    </tr>\n",
       "    <tr>\n",
       "      <th>29</th>\n",
       "      <td>0.134836</td>\n",
       "      <td>Hercules</td>\n",
       "      <td>Adventure Animation Children Comedy Musical</td>\n",
       "      <td>Bestowed with superhuman strength, a young mor...</td>\n",
       "      <td>aftercreditsstinger alan menken animation anim...</td>\n",
       "    </tr>\n",
       "    <tr>\n",
       "      <th>30</th>\n",
       "      <td>0.135039</td>\n",
       "      <td>Minions</td>\n",
       "      <td>Adventure Animation Children Comedy</td>\n",
       "      <td>Minions Stuart, Kevin and Bob are recruited by...</td>\n",
       "      <td>2015 3d adventure aftercreditsstinger animated...</td>\n",
       "    </tr>\n",
       "    <tr>\n",
       "      <th>31</th>\n",
       "      <td>0.136215</td>\n",
       "      <td>Shrek the Halls</td>\n",
       "      <td>Adventure Animation Comedy Fantasy</td>\n",
       "      <td>The Christmas tree isn't the only thing green ...</td>\n",
       "      <td>based on novel or book cartoon cat christmas c...</td>\n",
       "    </tr>\n",
       "    <tr>\n",
       "      <th>32</th>\n",
       "      <td>0.136770</td>\n",
       "      <td>Chronicles of Narnia: Prince Caspian, The</td>\n",
       "      <td>Adventure Children Fantasy</td>\n",
       "      <td>One year after their incredible adventures in ...</td>\n",
       "      <td>acting action adapted from:book adventure akwa...</td>\n",
       "    </tr>\n",
       "    <tr>\n",
       "      <th>33</th>\n",
       "      <td>0.136929</td>\n",
       "      <td>Hotel Transylvania</td>\n",
       "      <td>Animation Children Comedy</td>\n",
       "      <td>Dracula, who operates a high-end resort away f...</td>\n",
       "      <td>adam sandler animated animation avorrida backp...</td>\n",
       "    </tr>\n",
       "    <tr>\n",
       "      <th>34</th>\n",
       "      <td>0.136950</td>\n",
       "      <td>The Good Dinosaur</td>\n",
       "      <td>Adventure Animation Children Comedy Fantasy</td>\n",
       "      <td>An epic journey into the world of dinosaurs wh...</td>\n",
       "      <td>adventure alternate history animation bd-video...</td>\n",
       "    </tr>\n",
       "    <tr>\n",
       "      <th>35</th>\n",
       "      <td>0.137558</td>\n",
       "      <td>Triplets of Belleville, The</td>\n",
       "      <td>Animation Comedy Fantasy</td>\n",
       "      <td>When her grandson is kidnapped during the Tour...</td>\n",
       "      <td>2cv 2d animation animation awesome music band ...</td>\n",
       "    </tr>\n",
       "    <tr>\n",
       "      <th>36</th>\n",
       "      <td>0.137850</td>\n",
       "      <td>Kiki's Delivery Service</td>\n",
       "      <td>Adventure Animation Children Drama Fantasy</td>\n",
       "      <td>A young witch, on her mandatory year of indepe...</td>\n",
       "      <td>13-year-old adventure airplane airships animat...</td>\n",
       "    </tr>\n",
       "    <tr>\n",
       "      <th>37</th>\n",
       "      <td>0.138241</td>\n",
       "      <td>Who Framed Roger Rabbit?</td>\n",
       "      <td>Adventure Animation Children Comedy Crime Fant...</td>\n",
       "      <td>'Toon star Roger is worried that his wife Jess...</td>\n",
       "      <td>*reps* 2d animation 55 movies every kid should...</td>\n",
       "    </tr>\n",
       "    <tr>\n",
       "      <th>38</th>\n",
       "      <td>0.138405</td>\n",
       "      <td>Moana</td>\n",
       "      <td>Adventure Animation Children Comedy Fantasy</td>\n",
       "      <td>In Ancient Polynesia, when a terrible curse in...</td>\n",
       "      <td>adventure aftercreditsstinger animal sidekick ...</td>\n",
       "    </tr>\n",
       "    <tr>\n",
       "      <th>39</th>\n",
       "      <td>0.138522</td>\n",
       "      <td>Santa Clause 2, The</td>\n",
       "      <td>Children Comedy Fantasy Romance</td>\n",
       "      <td>Better watch out! The big guy in red is coming...</td>\n",
       "      <td>christmas christmas party disney elves fantasy...</td>\n",
       "    </tr>\n",
       "    <tr>\n",
       "      <th>40</th>\n",
       "      <td>0.138609</td>\n",
       "      <td>Inside Out</td>\n",
       "      <td>Adventure Animation Children Comedy Drama Fantasy</td>\n",
       "      <td>Growing up can be a bumpy road, and it's no ex...</td>\n",
       "      <td>2016 3d amy poehler animation annoying bd-vide...</td>\n",
       "    </tr>\n",
       "    <tr>\n",
       "      <th>41</th>\n",
       "      <td>0.138635</td>\n",
       "      <td>Your Highness</td>\n",
       "      <td>Action Adventure Comedy Fantasy</td>\n",
       "      <td>A fantasy movie about an arrogant, lazy prince...</td>\n",
       "      <td>aventure bob*ola boring cast chivalry comedy d...</td>\n",
       "    </tr>\n",
       "    <tr>\n",
       "      <th>42</th>\n",
       "      <td>0.138772</td>\n",
       "      <td>Princess and the Frog, The</td>\n",
       "      <td>Animation Children Fantasy Musical Romance</td>\n",
       "      <td>A waitress, desperate to fulfill her dreams as...</td>\n",
       "      <td>01/10 1920s 2d animation african american afri...</td>\n",
       "    </tr>\n",
       "    <tr>\n",
       "      <th>43</th>\n",
       "      <td>0.138834</td>\n",
       "      <td>Song of the Sea</td>\n",
       "      <td>Animation Children Fantasy</td>\n",
       "      <td>The story of the last Seal Child’s journey hom...</td>\n",
       "      <td>2015 academy award nomination animated feature...</td>\n",
       "    </tr>\n",
       "    <tr>\n",
       "      <th>44</th>\n",
       "      <td>0.138934</td>\n",
       "      <td>Black Cauldron, The</td>\n",
       "      <td>Adventure Animation Children Fantasy</td>\n",
       "      <td>Taran is an assistant pigkeeper with boyish dr...</td>\n",
       "      <td>70mm based on a book boring plot classic cleav...</td>\n",
       "    </tr>\n",
       "    <tr>\n",
       "      <th>45</th>\n",
       "      <td>0.138981</td>\n",
       "      <td>Alvin and the Chipmunks: The Squeakquel</td>\n",
       "      <td>Animation Children Comedy Musical</td>\n",
       "      <td>Pop sensations Alvin, Simon and Theodore end u...</td>\n",
       "      <td>adapted from:tv series aftercreditsstinger bas...</td>\n",
       "    </tr>\n",
       "    <tr>\n",
       "      <th>46</th>\n",
       "      <td>0.139057</td>\n",
       "      <td>Finding Nemo</td>\n",
       "      <td>Adventure Animation Children Comedy</td>\n",
       "      <td>Nemo, an adventurous young clownfish, is unexp...</td>\n",
       "      <td>55 movies every kid should see--entertainment ...</td>\n",
       "    </tr>\n",
       "    <tr>\n",
       "      <th>47</th>\n",
       "      <td>0.139155</td>\n",
       "      <td>The Boss Baby</td>\n",
       "      <td>Animation Children Comedy</td>\n",
       "      <td>A story about how a new baby's arrival impacts...</td>\n",
       "      <td>3d adventure alec baldwin animated animation b...</td>\n",
       "    </tr>\n",
       "    <tr>\n",
       "      <th>48</th>\n",
       "      <td>0.139625</td>\n",
       "      <td>Rango</td>\n",
       "      <td>Action Adventure Animation Children Comedy Wes...</td>\n",
       "      <td>When Rango, a lost family pet, accidentally wi...</td>\n",
       "      <td>adult humor animals animation annemari armadil...</td>\n",
       "    </tr>\n",
       "    <tr>\n",
       "      <th>49</th>\n",
       "      <td>0.139752</td>\n",
       "      <td>Muppet Movie, The</td>\n",
       "      <td>Adventure Children Comedy Musical</td>\n",
       "      <td>Kermit the Frog is persuaded by agent Dom DeLu...</td>\n",
       "      <td>55 movies every kid should see--entertainment ...</td>\n",
       "    </tr>\n",
       "  </tbody>\n",
       "</table>\n",
       "</div>"
      ]
     },
     "metadata": {},
     "output_type": "display_data"
    }
   ],
   "source": [
    "recommender.recommend(item_index, k=50).show()"
   ]
  },
  {
   "cell_type": "code",
   "execution_count": null,
   "id": "2563311f-e3fe-4dc5-9537-4226f629d5de",
   "metadata": {},
   "outputs": [],
   "source": []
  }
 ],
 "metadata": {
  "kernelspec": {
   "display_name": "Python 3 (ipykernel)",
   "language": "python",
   "name": "python3"
  },
  "language_info": {
   "codemirror_mode": {
    "name": "ipython",
    "version": 3
   },
   "file_extension": ".py",
   "mimetype": "text/x-python",
   "name": "python",
   "nbconvert_exporter": "python",
   "pygments_lexer": "ipython3",
   "version": "3.10.4"
  },
  "widgets": {
   "application/vnd.jupyter.widget-state+json": {
    "state": {
     "013f83342b334bddae51ece63cb59c17": {
      "model_module": "@jupyter-widgets/controls",
      "model_module_version": "1.5.0",
      "model_name": "HTMLModel",
      "state": {
       "layout": "IPY_MODEL_d57c350f1773418d842ae9378454978b",
       "style": "IPY_MODEL_98190a66ec5548729bcf49591eebfd41",
       "value": " 18515/18515 [00:26&lt;00:00, 690.81it/s]"
      }
     },
     "01a6770f949f43dfbdc1c9dc6732e53b": {
      "model_module": "@jupyter-widgets/base",
      "model_module_version": "1.2.0",
      "model_name": "LayoutModel",
      "state": {}
     },
     "03d914bdc3a040898e7fe8a56a64ff06": {
      "model_module": "@jupyter-widgets/base",
      "model_module_version": "1.2.0",
      "model_name": "LayoutModel",
      "state": {}
     },
     "0b0ca1e528a9402fbf950e8138616be5": {
      "model_module": "@jupyter-widgets/controls",
      "model_module_version": "1.5.0",
      "model_name": "ProgressStyleModel",
      "state": {
       "description_width": ""
      }
     },
     "12852c26a0c744c396797c4e52f16554": {
      "model_module": "@jupyter-widgets/controls",
      "model_module_version": "1.5.0",
      "model_name": "ProgressStyleModel",
      "state": {
       "description_width": ""
      }
     },
     "34faa3b759964bda9e9fa734bf1db067": {
      "model_module": "@jupyter-widgets/base",
      "model_module_version": "1.2.0",
      "model_name": "LayoutModel",
      "state": {}
     },
     "37385d49ef514dbca0894d645860a129": {
      "model_module": "@jupyter-widgets/controls",
      "model_module_version": "1.5.0",
      "model_name": "HBoxModel",
      "state": {
       "children": [
        "IPY_MODEL_f6965ef19c62411ca759964d603b6239",
        "IPY_MODEL_770f307eaae147f783f7bac17911c44a",
        "IPY_MODEL_ff20b72f88b642299ed77962b10dcfaf"
       ],
       "layout": "IPY_MODEL_e6dc1cbf6b154ac7bfec9469444d7efb"
      }
     },
     "389c813b9c8f440fab636e8554eead3a": {
      "model_module": "@jupyter-widgets/controls",
      "model_module_version": "1.5.0",
      "model_name": "HTMLModel",
      "state": {
       "layout": "IPY_MODEL_ba54e96896d84fa09d670f080be4eb50",
       "style": "IPY_MODEL_89cc2cdf7d1d4a2c8e9487bc2bf8f07b",
       "value": "Building Distances Matrix: 100%"
      }
     },
     "3affa862d57a4b2d84437ddabf3b8fac": {
      "model_module": "@jupyter-widgets/controls",
      "model_module_version": "1.5.0",
      "model_name": "ProgressStyleModel",
      "state": {
       "description_width": ""
      }
     },
     "413af76ba0be449a844be59f9f6c44cb": {
      "model_module": "@jupyter-widgets/base",
      "model_module_version": "1.2.0",
      "model_name": "LayoutModel",
      "state": {}
     },
     "4897d92bc5c447d3b8b3c8e54757878c": {
      "model_module": "@jupyter-widgets/controls",
      "model_module_version": "1.5.0",
      "model_name": "FloatProgressModel",
      "state": {
       "bar_style": "success",
       "layout": "IPY_MODEL_34faa3b759964bda9e9fa734bf1db067",
       "max": 18515,
       "style": "IPY_MODEL_12852c26a0c744c396797c4e52f16554",
       "value": 18515
      }
     },
     "49d039d8935c4c8ca875fcf382d38592": {
      "model_module": "@jupyter-widgets/controls",
      "model_module_version": "1.5.0",
      "model_name": "DescriptionStyleModel",
      "state": {
       "description_width": ""
      }
     },
     "4a379834a32b4e6981f5ad4b00e52e94": {
      "model_module": "@jupyter-widgets/base",
      "model_module_version": "1.2.0",
      "model_name": "LayoutModel",
      "state": {}
     },
     "582e54b2bb274e7cb76c220758978f4d": {
      "model_module": "@jupyter-widgets/controls",
      "model_module_version": "1.5.0",
      "model_name": "DescriptionStyleModel",
      "state": {
       "description_width": ""
      }
     },
     "58b5fa2aa2b847dab0046ae1a88947a2": {
      "model_module": "@jupyter-widgets/controls",
      "model_module_version": "1.5.0",
      "model_name": "DescriptionStyleModel",
      "state": {
       "description_width": ""
      }
     },
     "770f307eaae147f783f7bac17911c44a": {
      "model_module": "@jupyter-widgets/controls",
      "model_module_version": "1.5.0",
      "model_name": "FloatProgressModel",
      "state": {
       "bar_style": "success",
       "layout": "IPY_MODEL_ffb20589006a4a7baea4563d21032fb2",
       "max": 18515,
       "style": "IPY_MODEL_0b0ca1e528a9402fbf950e8138616be5",
       "value": 18515
      }
     },
     "89cc2cdf7d1d4a2c8e9487bc2bf8f07b": {
      "model_module": "@jupyter-widgets/controls",
      "model_module_version": "1.5.0",
      "model_name": "DescriptionStyleModel",
      "state": {
       "description_width": ""
      }
     },
     "8b4337f8ed034e9bb1fbe5af116b31d0": {
      "model_module": "@jupyter-widgets/controls",
      "model_module_version": "1.5.0",
      "model_name": "DescriptionStyleModel",
      "state": {
       "description_width": ""
      }
     },
     "98190a66ec5548729bcf49591eebfd41": {
      "model_module": "@jupyter-widgets/controls",
      "model_module_version": "1.5.0",
      "model_name": "DescriptionStyleModel",
      "state": {
       "description_width": ""
      }
     },
     "a5bcfaa475614cf18b68a4c69bcdbac6": {
      "model_module": "@jupyter-widgets/controls",
      "model_module_version": "1.5.0",
      "model_name": "HTMLModel",
      "state": {
       "layout": "IPY_MODEL_4a379834a32b4e6981f5ad4b00e52e94",
       "style": "IPY_MODEL_49d039d8935c4c8ca875fcf382d38592",
       "value": " 18515/18515 [00:26&lt;00:00, 689.29it/s]"
      }
     },
     "b8be1c1c12734ab58a5c91e04c1e621f": {
      "model_module": "@jupyter-widgets/base",
      "model_module_version": "1.2.0",
      "model_name": "LayoutModel",
      "state": {}
     },
     "ba54e96896d84fa09d670f080be4eb50": {
      "model_module": "@jupyter-widgets/base",
      "model_module_version": "1.2.0",
      "model_name": "LayoutModel",
      "state": {}
     },
     "d57c350f1773418d842ae9378454978b": {
      "model_module": "@jupyter-widgets/base",
      "model_module_version": "1.2.0",
      "model_name": "LayoutModel",
      "state": {}
     },
     "d587ba6294a44823acd7e5f852d0eb48": {
      "model_module": "@jupyter-widgets/controls",
      "model_module_version": "1.5.0",
      "model_name": "HBoxModel",
      "state": {
       "children": [
        "IPY_MODEL_389c813b9c8f440fab636e8554eead3a",
        "IPY_MODEL_fa13f5c53d244d868d5de93438c90c11",
        "IPY_MODEL_a5bcfaa475614cf18b68a4c69bcdbac6"
       ],
       "layout": "IPY_MODEL_01a6770f949f43dfbdc1c9dc6732e53b"
      }
     },
     "d953a0b366894bc984fda5dea9d3c30a": {
      "model_module": "@jupyter-widgets/base",
      "model_module_version": "1.2.0",
      "model_name": "LayoutModel",
      "state": {}
     },
     "e4f0fcb7e4cc4249bab2c4cb7c5d5a08": {
      "model_module": "@jupyter-widgets/controls",
      "model_module_version": "1.5.0",
      "model_name": "HTMLModel",
      "state": {
       "layout": "IPY_MODEL_f95cafc64d7142e8bf126bb9631d86fc",
       "style": "IPY_MODEL_8b4337f8ed034e9bb1fbe5af116b31d0",
       "value": "Building Distances Matrix: 100%"
      }
     },
     "e6dc1cbf6b154ac7bfec9469444d7efb": {
      "model_module": "@jupyter-widgets/base",
      "model_module_version": "1.2.0",
      "model_name": "LayoutModel",
      "state": {}
     },
     "f6965ef19c62411ca759964d603b6239": {
      "model_module": "@jupyter-widgets/controls",
      "model_module_version": "1.5.0",
      "model_name": "HTMLModel",
      "state": {
       "layout": "IPY_MODEL_b8be1c1c12734ab58a5c91e04c1e621f",
       "style": "IPY_MODEL_582e54b2bb274e7cb76c220758978f4d",
       "value": "Building Distances Matrix: 100%"
      }
     },
     "f95cafc64d7142e8bf126bb9631d86fc": {
      "model_module": "@jupyter-widgets/base",
      "model_module_version": "1.2.0",
      "model_name": "LayoutModel",
      "state": {}
     },
     "fa13f5c53d244d868d5de93438c90c11": {
      "model_module": "@jupyter-widgets/controls",
      "model_module_version": "1.5.0",
      "model_name": "FloatProgressModel",
      "state": {
       "bar_style": "success",
       "layout": "IPY_MODEL_413af76ba0be449a844be59f9f6c44cb",
       "max": 18515,
       "style": "IPY_MODEL_3affa862d57a4b2d84437ddabf3b8fac",
       "value": 18515
      }
     },
     "fe53c0824b784991bc859f0cbfc270f1": {
      "model_module": "@jupyter-widgets/controls",
      "model_module_version": "1.5.0",
      "model_name": "HBoxModel",
      "state": {
       "children": [
        "IPY_MODEL_e4f0fcb7e4cc4249bab2c4cb7c5d5a08",
        "IPY_MODEL_4897d92bc5c447d3b8b3c8e54757878c",
        "IPY_MODEL_013f83342b334bddae51ece63cb59c17"
       ],
       "layout": "IPY_MODEL_03d914bdc3a040898e7fe8a56a64ff06"
      }
     },
     "ff20b72f88b642299ed77962b10dcfaf": {
      "model_module": "@jupyter-widgets/controls",
      "model_module_version": "1.5.0",
      "model_name": "HTMLModel",
      "state": {
       "layout": "IPY_MODEL_d953a0b366894bc984fda5dea9d3c30a",
       "style": "IPY_MODEL_58b5fa2aa2b847dab0046ae1a88947a2",
       "value": " 18515/18515 [00:26&lt;00:00, 691.17it/s]"
      }
     },
     "ffb20589006a4a7baea4563d21032fb2": {
      "model_module": "@jupyter-widgets/base",
      "model_module_version": "1.2.0",
      "model_name": "LayoutModel",
      "state": {}
     }
    },
    "version_major": 2,
    "version_minor": 0
   }
  }
 },
 "nbformat": 4,
 "nbformat_minor": 5
}
