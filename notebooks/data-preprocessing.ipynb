{
 "cells": [
  {
   "cell_type": "markdown",
   "id": "81c8f71c-7e73-468c-a05d-8997004f5186",
   "metadata": {},
   "source": [
    "# Data pre-processing\n",
    "\n",
    "Para tener los datos necesario para probar los enfoques de filtros colaborativos(CF) y basados en contenido(CB) necesito:\n",
    "\n",
    "* Calificaciones de los ítems(movies) de los usuarios (CF)\n",
    "* Features propies de los ítems (CB)\n",
    "\n",
    "Dado esto, a continuacion se combinaran los siguientes datasets:\n",
    "\n",
    "* MovieLens 25M Dataset: Prácticamente no tiene información de las películas pero si tiene las calificaciones de los usuarios.\n",
    "* TMDB Movie Dataset: No tiene calificaciones personalizadas como el dataset anterior pero tiene varios features para las películas que es lo que necesito."
   ]
  },
  {
   "cell_type": "markdown",
   "id": "71bda2c0-ec9a-4f4d-acad-3d2035dd3119",
   "metadata": {},
   "source": [
    "## Setup"
   ]
  },
  {
   "cell_type": "code",
   "execution_count": 35,
   "id": "ac8cd4ad-1634-4880-8dc3-ea2b6e0f3225",
   "metadata": {},
   "outputs": [
    {
     "name": "stdout",
     "output_type": "stream",
     "text": [
      "The autoreload extension is already loaded. To reload it, use:\n",
      "  %reload_ext autoreload\n"
     ]
    }
   ],
   "source": [
    "%load_ext autoreload\n",
    "%autoreload 2"
   ]
  },
  {
   "cell_type": "code",
   "execution_count": 36,
   "id": "f98e7bf4-f41a-43f6-b7b7-a991d00f82de",
   "metadata": {},
   "outputs": [],
   "source": [
    "import sys\n",
    "sys.path.append('../lib')\n",
    "\n",
    "from database.mongo import Mongo\n",
    "from pytorch_common.util import LoggerBuilder"
   ]
  },
  {
   "cell_type": "code",
   "execution_count": 37,
   "id": "e60a3838-9787-411d-b9f1-8a942321cbb1",
   "metadata": {},
   "outputs": [
    {
     "data": {
      "text/html": [
       "<pre style=\"white-space:pre;overflow-x:auto;line-height:normal;font-family:Menlo,'DejaVu Sans Mono',consolas,'Courier New',monospace\"><span style=\"font-weight: bold\">&lt;</span><span style=\"color: #ff00ff; text-decoration-color: #ff00ff; font-weight: bold\">RootLogger</span><span style=\"color: #000000; text-decoration-color: #000000\"> root </span><span style=\"color: #000000; text-decoration-color: #000000; font-weight: bold\">(</span><span style=\"color: #000000; text-decoration-color: #000000\">INFO</span><span style=\"color: #000000; text-decoration-color: #000000; font-weight: bold\">)</span><span style=\"font-weight: bold\">&gt;</span>\n",
       "</pre>\n"
      ],
      "text/plain": [
       "\u001b[1m<\u001b[0m\u001b[1;95mRootLogger\u001b[0m\u001b[39m root \u001b[0m\u001b[1;39m(\u001b[0m\u001b[39mINFO\u001b[0m\u001b[1;39m)\u001b[0m\u001b[1m>\u001b[0m\n"
      ]
     },
     "metadata": {},
     "output_type": "display_data"
    }
   ],
   "source": [
    "LoggerBuilder().on_console().build()"
   ]
  },
  {
   "cell_type": "markdown",
   "id": "4da40dcd-d4a6-404e-969f-c466d9ca8c1d",
   "metadata": {},
   "source": [
    "# Pre-processing steps"
   ]
  },
  {
   "cell_type": "markdown",
   "id": "e83eec29-6968-40ce-9298-c68c873f8142",
   "metadata": {},
   "source": [
    "#### 1. Import five collecitons to **movies** mongodb database:\n",
    "\n",
    "    * From movie lens dataset:\n",
    "        * rattings\n",
    "        * movies\n",
    "        * links\n",
    "        * tags\n",
    "    * From the movie database dataset:\n",
    "        * movies_metadata"
   ]
  },
  {
   "cell_type": "code",
   "execution_count": 38,
   "id": "24a63539-92bb-483f-b8ad-0461e1f9d32e",
   "metadata": {},
   "outputs": [],
   "source": [
    "DATASETS_PATH   = '../datasets'\n",
    "MOVIE_LENS_PATH = f'{DATASETS_PATH}/ml-25m'\n",
    "TMDB_PATH       = f'{DATASETS_PATH}/tmdb'"
   ]
  },
  {
   "cell_type": "code",
   "execution_count": 39,
   "id": "f9bb9a62-db9e-47e3-9169-a46da4c385d7",
   "metadata": {},
   "outputs": [],
   "source": [
    "!mkdir -p {DATASETS_PATH}"
   ]
  },
  {
   "cell_type": "code",
   "execution_count": 17,
   "id": "a21d96d0-5429-4fd3-a1d0-f1949ad9d185",
   "metadata": {},
   "outputs": [
    {
     "name": "stdout",
     "output_type": "stream",
     "text": [
      "--2023-02-04 21:07:50--  https://files.grouplens.org/datasets/movielens/ml-25m.zip\n",
      "Loaded CA certificate '/etc/ssl/certs/ca-certificates.crt'\n",
      "Resolving files.grouplens.org (files.grouplens.org)... 128.101.65.152\n",
      "Connecting to files.grouplens.org (files.grouplens.org)|128.101.65.152|:443... connected.\n",
      "HTTP request sent, awaiting response... 200 OK\n",
      "Length: 261978986 (250M) [application/zip]\n",
      "Saving to: ‘ml-25m.zip’\n",
      "\n",
      "ml-25m.zip           41%[=======>            ] 102.88M   250KB/s    in 9m 2s   \n",
      "\n",
      "2023-02-04 21:16:53 (194 KB/s) - Read error at byte 107872256/261978986 (Error decoding the received TLS packet.). Retrying.\n",
      "\n",
      "--2023-02-04 21:16:54--  (try: 2)  https://files.grouplens.org/datasets/movielens/ml-25m.zip\n",
      "Connecting to files.grouplens.org (files.grouplens.org)|128.101.65.152|:443... connected.\n",
      "HTTP request sent, awaiting response... 206 Partial Content\n",
      "Length: 261978986 (250M), 154106730 (147M) remaining [application/zip]\n",
      "Saving to: ‘ml-25m.zip’\n",
      "\n",
      "ml-25m.zip           97%[++++++++==========> ] 242.45M  69.1KB/s    in 9m 3s   \n",
      "\n",
      "2023-02-04 21:25:58 (263 KB/s) - Read error at byte 254230528/261978986 (Error decoding the received TLS packet.). Retrying.\n",
      "\n",
      "--2023-02-04 21:26:00--  (try: 3)  https://files.grouplens.org/datasets/movielens/ml-25m.zip\n",
      "Connecting to files.grouplens.org (files.grouplens.org)|128.101.65.152|:443... connected.\n",
      "HTTP request sent, awaiting response... 206 Partial Content\n",
      "Length: 261978986 (250M), 7748458 (7.4M) remaining [application/zip]\n",
      "Saving to: ‘ml-25m.zip’\n",
      "\n",
      "ml-25m.zip          100%[+++++++++++++++++++>] 249.84M   140KB/s    in 3m 6s   \n",
      "\n",
      "2023-02-04 21:29:08 (40.6 KB/s) - ‘ml-25m.zip’ saved [261978986/261978986]\n",
      "\n"
     ]
    }
   ],
   "source": [
    "!cd {DATASETS_PATH}; wget https://files.grouplens.org/datasets/movielens/ml-25m.zip"
   ]
  },
  {
   "cell_type": "code",
   "execution_count": 18,
   "id": "0d260761-291f-40d0-a7c1-59ca9eef7e15",
   "metadata": {},
   "outputs": [
    {
     "name": "stdout",
     "output_type": "stream",
     "text": [
      "Archive:  ml-25m.zip\n",
      "   creating: ml-25m/\n",
      "  inflating: ml-25m/tags.csv         \n",
      "  inflating: ml-25m/links.csv        \n",
      "  inflating: ml-25m/README.txt       \n",
      "  inflating: ml-25m/ratings.csv      \n",
      "  inflating: ml-25m/genome-tags.csv  \n",
      "  inflating: ml-25m/genome-scores.csv  \n",
      "  inflating: ml-25m/movies.csv       \n"
     ]
    }
   ],
   "source": [
    "!cd {DATASETS_PATH}; unzip ml-25m.zip"
   ]
  },
  {
   "cell_type": "code",
   "execution_count": 8,
   "id": "d9e08c0e-ac57-494c-a74b-8646f50d32af",
   "metadata": {},
   "outputs": [],
   "source": [
    "!mkdir -p {TMDB_PATH}"
   ]
  },
  {
   "cell_type": "code",
   "execution_count": 9,
   "id": "92a2c119-5e7f-4a5b-8328-7f249101e533",
   "metadata": {},
   "outputs": [
    {
     "name": "stdout",
     "output_type": "stream",
     "text": [
      "--2023-02-06 11:35:07--  https://huggingface.co/spaces/Kamand/Movie_Recommendation/resolve/main/movies_metadata.csv\n",
      "Loaded CA certificate '/etc/ssl/certs/ca-certificates.crt'\n",
      "Resolving huggingface.co (huggingface.co)... 3.231.67.228, 54.235.118.239, 2600:1f18:147f:e850:e203:c458:10cd:fc3c, ...\n",
      "Connecting to huggingface.co (huggingface.co)|3.231.67.228|:443... connected.\n",
      "HTTP request sent, awaiting response... 302 Found\n",
      "Location: https://cdn-lfs.huggingface.co/repos/17/34/17349aa1da154cac90daa82631575d4a0cbcb43ebae58110821f28039b74bd09/37ec322786b136a24604564e55160be75f8937546f11cb1a990076971fa895fd?response-content-disposition=attachment%3B+filename*%3DUTF-8%27%27movies_metadata.csv%3B+filename%3D%22movies_metadata.csv%22%3B&Expires=1675953309&Policy=eyJTdGF0ZW1lbnQiOlt7IlJlc291cmNlIjoiaHR0cHM6Ly9jZG4tbGZzLmh1Z2dpbmdmYWNlLmNvL3JlcG9zLzE3LzM0LzE3MzQ5YWExZGExNTRjYWM5MGRhYTgyNjMxNTc1ZDRhMGNiY2I0M2ViYWU1ODExMDgyMWYyODAzOWI3NGJkMDkvMzdlYzMyMjc4NmIxMzZhMjQ2MDQ1NjRlNTUxNjBiZTc1Zjg5Mzc1NDZmMTFjYjFhOTkwMDc2OTcxZmE4OTVmZD9yZXNwb25zZS1jb250ZW50LWRpc3Bvc2l0aW9uPSoiLCJDb25kaXRpb24iOnsiRGF0ZUxlc3NUaGFuIjp7IkFXUzpFcG9jaFRpbWUiOjE2NzU5NTMzMDl9fX1dfQ__&Signature=cY5gmGFAIpAsoPHMAMCcUo-p8ei1X6dXrwwql1MZ0g%7E8AltI0Lkn2dTJuaJn7TvmTwJWYI2832xMZqOsSd6ynkvZj-SrTR0fiulshgzLJgpLt5lr2mXg6HCaC-5eNOUQWIbMLn4JhFnZbK%7E4qbzX3%7EHfpIsOXYjV38ytuBFG2HRTF5LDn53dEQvXJbsmD2f4HJmxFgG0bz581agC0V8UkymWkGGD4VUSriu8oRp%7Eo0d9vqUZKfvRBBpPID1WaXCDwninFS7qFl9AV2Wutnt%7EoQP3MUQHgF3UtuFxiEQEDaE2jaPbjaRTZAm9kjNBUIWQg72EPYqry%7EtfVG-WTQ5JJA__&Key-Pair-Id=KVTP0A1DKRTAX [following]\n",
      "--2023-02-06 11:35:08--  https://cdn-lfs.huggingface.co/repos/17/34/17349aa1da154cac90daa82631575d4a0cbcb43ebae58110821f28039b74bd09/37ec322786b136a24604564e55160be75f8937546f11cb1a990076971fa895fd?response-content-disposition=attachment%3B+filename*%3DUTF-8%27%27movies_metadata.csv%3B+filename%3D%22movies_metadata.csv%22%3B&Expires=1675953309&Policy=eyJTdGF0ZW1lbnQiOlt7IlJlc291cmNlIjoiaHR0cHM6Ly9jZG4tbGZzLmh1Z2dpbmdmYWNlLmNvL3JlcG9zLzE3LzM0LzE3MzQ5YWExZGExNTRjYWM5MGRhYTgyNjMxNTc1ZDRhMGNiY2I0M2ViYWU1ODExMDgyMWYyODAzOWI3NGJkMDkvMzdlYzMyMjc4NmIxMzZhMjQ2MDQ1NjRlNTUxNjBiZTc1Zjg5Mzc1NDZmMTFjYjFhOTkwMDc2OTcxZmE4OTVmZD9yZXNwb25zZS1jb250ZW50LWRpc3Bvc2l0aW9uPSoiLCJDb25kaXRpb24iOnsiRGF0ZUxlc3NUaGFuIjp7IkFXUzpFcG9jaFRpbWUiOjE2NzU5NTMzMDl9fX1dfQ__&Signature=cY5gmGFAIpAsoPHMAMCcUo-p8ei1X6dXrwwql1MZ0g%7E8AltI0Lkn2dTJuaJn7TvmTwJWYI2832xMZqOsSd6ynkvZj-SrTR0fiulshgzLJgpLt5lr2mXg6HCaC-5eNOUQWIbMLn4JhFnZbK%7E4qbzX3%7EHfpIsOXYjV38ytuBFG2HRTF5LDn53dEQvXJbsmD2f4HJmxFgG0bz581agC0V8UkymWkGGD4VUSriu8oRp%7Eo0d9vqUZKfvRBBpPID1WaXCDwninFS7qFl9AV2Wutnt%7EoQP3MUQHgF3UtuFxiEQEDaE2jaPbjaRTZAm9kjNBUIWQg72EPYqry%7EtfVG-WTQ5JJA__&Key-Pair-Id=KVTP0A1DKRTAX\n",
      "Resolving cdn-lfs.huggingface.co (cdn-lfs.huggingface.co)... 108.157.162.95, 108.157.162.99, 108.157.162.27, ...\n",
      "Connecting to cdn-lfs.huggingface.co (cdn-lfs.huggingface.co)|108.157.162.95|:443... connected.\n",
      "HTTP request sent, awaiting response... 200 OK\n",
      "Length: 34445126 (33M) [application/octet-stream]\n",
      "Saving to: ‘movies_metadata.csv’\n",
      "\n",
      "movies_metadata.csv 100%[===================>]  32.85M  2.61MB/s    in 16s     \n",
      "\n",
      "2023-02-06 11:35:26 (2.11 MB/s) - ‘movies_metadata.csv’ saved [34445126/34445126]\n",
      "\n"
     ]
    }
   ],
   "source": [
    "!cd {TMDB_PATH}; wget https://huggingface.co/spaces/Kamand/Movie_Recommendation/resolve/main/movies_metadata.csv"
   ]
  },
  {
   "cell_type": "code",
   "execution_count": 13,
   "id": "2be7c711-09b2-4d2f-a632-3aeffc5fbbb8",
   "metadata": {},
   "outputs": [],
   "source": [
    "MOVIE_LENS_FILES = [ f'{MOVIE_LENS_PATH}/{f}' for f in [ \n",
    "    'ratings.csv',\n",
    "    'movies.csv',\n",
    "    'links.csv',\n",
    "    'tags.csv'\n",
    "]]\n",
    "TMDB_FILES = [ f'{TMDB_PATH}/movies_metadata.csv']"
   ]
  },
  {
   "cell_type": "code",
   "execution_count": 19,
   "id": "9b0f8794-d2a2-4b71-bb70-d138f54f849d",
   "metadata": {},
   "outputs": [],
   "source": [
    "Mongo.import_csv(database = 'movies', file_paths = TMDB_FILES)"
   ]
  },
  {
   "cell_type": "code",
   "execution_count": 17,
   "id": "eb66db9b-3ea0-4ee8-9880-593c9957d4e0",
   "metadata": {},
   "outputs": [
    {
     "name": "stderr",
     "output_type": "stream",
     "text": [
      "2023-02-06 11:49:45,179 - ERROR - b'2023-02-06T11:42:11.746-0300\\tconnected to: mongodb://localhost/\\n2023-02-06T11:42:14.747-0300\\t[........................] movies.ratings\\t2.60MB/647MB (0.4%)\\n2023-02-06T11:42:17.747-0300\\t[........................] movies.ratings\\t5.60MB/647MB (0.9%)\\n2023-02-06T11:42:20.747-0300\\t[........................] movies.ratings\\t8.82MB/647MB (1.4%)\\n2023-02-06T11:42:23.747-0300\\t[........................] movies.ratings\\t12.0MB/647MB (1.9%)\\n2023-02-06T11:42:26.747-0300\\t[........................] movies.ratings\\t14.7MB/647MB (2.3%)\\n2023-02-06T11:42:29.747-0300\\t[........................] movies.ratings\\t17.6MB/647MB (2.7%)\\n2023-02-06T11:42:32.747-0300\\t[........................] movies.ratings\\t20.8MB/647MB (3.2%)\\n2023-02-06T11:42:35.747-0300\\t[........................] movies.ratings\\t23.9MB/647MB (3.7%)\\n2023-02-06T11:42:38.747-0300\\t[........................] movies.ratings\\t26.5MB/647MB (4.1%)\\n2023-02-06T11:42:41.748-0300\\t[#.......................] movies.ratings\\t29.9MB/647MB (4.6%)\\n2023-02-06T11:42:44.747-0300\\t[#.......................] movies.ratings\\t33.2MB/647MB (5.1%)\\n2023-02-06T11:42:47.747-0300\\t[#.......................] movies.ratings\\t36.0MB/647MB (5.6%)\\n2023-02-06T11:42:50.747-0300\\t[#.......................] movies.ratings\\t39.3MB/647MB (6.1%)\\n2023-02-06T11:42:53.747-0300\\t[#.......................] movies.ratings\\t42.5MB/647MB (6.6%)\\n2023-02-06T11:42:56.747-0300\\t[#.......................] movies.ratings\\t46.0MB/647MB (7.1%)\\n2023-02-06T11:42:59.747-0300\\t[#.......................] movies.ratings\\t49.4MB/647MB (7.6%)\\n2023-02-06T11:43:02.747-0300\\t[#.......................] movies.ratings\\t52.6MB/647MB (8.1%)\\n2023-02-06T11:43:05.748-0300\\t[##......................] movies.ratings\\t56.0MB/647MB (8.7%)\\n2023-02-06T11:43:08.747-0300\\t[##......................] movies.ratings\\t59.2MB/647MB (9.2%)\\n2023-02-06T11:43:11.747-0300\\t[##......................] movies.ratings\\t62.5MB/647MB (9.7%)\\n2023-02-06T11:43:14.747-0300\\t[##......................] movies.ratings\\t65.7MB/647MB (10.2%)\\n2023-02-06T11:43:17.747-0300\\t[##......................] movies.ratings\\t68.7MB/647MB (10.6%)\\n2023-02-06T11:43:20.748-0300\\t[##......................] movies.ratings\\t72.1MB/647MB (11.1%)\\n2023-02-06T11:43:23.747-0300\\t[##......................] movies.ratings\\t76.6MB/647MB (11.8%)\\n2023-02-06T11:43:26.747-0300\\t[###.....................] movies.ratings\\t81.1MB/647MB (12.5%)\\n2023-02-06T11:43:29.747-0300\\t[###.....................] movies.ratings\\t85.5MB/647MB (13.2%)\\n2023-02-06T11:43:32.747-0300\\t[###.....................] movies.ratings\\t90.0MB/647MB (13.9%)\\n2023-02-06T11:43:35.747-0300\\t[###.....................] movies.ratings\\t94.5MB/647MB (14.6%)\\n2023-02-06T11:43:38.747-0300\\t[###.....................] movies.ratings\\t98.9MB/647MB (15.3%)\\n2023-02-06T11:43:41.748-0300\\t[###.....................] movies.ratings\\t103MB/647MB (16.0%)\\n2023-02-06T11:43:44.748-0300\\t[###.....................] movies.ratings\\t108MB/647MB (16.7%)\\n2023-02-06T11:43:47.747-0300\\t[####....................] movies.ratings\\t112MB/647MB (17.3%)\\n2023-02-06T11:43:50.748-0300\\t[####....................] movies.ratings\\t117MB/647MB (18.0%)\\n2023-02-06T11:43:53.748-0300\\t[####....................] movies.ratings\\t121MB/647MB (18.7%)\\n2023-02-06T11:43:56.747-0300\\t[####....................] movies.ratings\\t126MB/647MB (19.4%)\\n2023-02-06T11:43:59.747-0300\\t[####....................] movies.ratings\\t130MB/647MB (20.1%)\\n2023-02-06T11:44:02.748-0300\\t[####....................] movies.ratings\\t134MB/647MB (20.8%)\\n2023-02-06T11:44:05.747-0300\\t[#####...................] movies.ratings\\t139MB/647MB (21.5%)\\n2023-02-06T11:44:08.747-0300\\t[#####...................] movies.ratings\\t143MB/647MB (22.2%)\\n2023-02-06T11:44:11.747-0300\\t[#####...................] movies.ratings\\t148MB/647MB (22.9%)\\n2023-02-06T11:44:14.747-0300\\t[#####...................] movies.ratings\\t152MB/647MB (23.6%)\\n2023-02-06T11:44:17.747-0300\\t[#####...................] movies.ratings\\t157MB/647MB (24.2%)\\n2023-02-06T11:44:20.747-0300\\t[#####...................] movies.ratings\\t161MB/647MB (24.9%)\\n2023-02-06T11:44:23.747-0300\\t[######..................] movies.ratings\\t166MB/647MB (25.6%)\\n2023-02-06T11:44:26.748-0300\\t[######..................] movies.ratings\\t170MB/647MB (26.3%)\\n2023-02-06T11:44:29.747-0300\\t[######..................] movies.ratings\\t175MB/647MB (27.0%)\\n2023-02-06T11:44:32.748-0300\\t[######..................] movies.ratings\\t179MB/647MB (27.7%)\\n2023-02-06T11:44:35.747-0300\\t[######..................] movies.ratings\\t183MB/647MB (28.4%)\\n2023-02-06T11:44:38.747-0300\\t[######..................] movies.ratings\\t188MB/647MB (29.0%)\\n2023-02-06T11:44:41.747-0300\\t[#######.................] movies.ratings\\t192MB/647MB (29.7%)\\n2023-02-06T11:44:44.747-0300\\t[#######.................] movies.ratings\\t197MB/647MB (30.4%)\\n2023-02-06T11:44:47.747-0300\\t[#######.................] movies.ratings\\t201MB/647MB (31.1%)\\n2023-02-06T11:44:50.747-0300\\t[#######.................] movies.ratings\\t205MB/647MB (31.8%)\\n2023-02-06T11:44:53.747-0300\\t[#######.................] movies.ratings\\t210MB/647MB (32.4%)\\n2023-02-06T11:44:56.747-0300\\t[#######.................] movies.ratings\\t214MB/647MB (33.1%)\\n2023-02-06T11:44:59.747-0300\\t[########................] movies.ratings\\t219MB/647MB (33.8%)\\n2023-02-06T11:45:02.747-0300\\t[########................] movies.ratings\\t223MB/647MB (34.5%)\\n2023-02-06T11:45:05.747-0300\\t[########................] movies.ratings\\t228MB/647MB (35.2%)\\n2023-02-06T11:45:08.747-0300\\t[########................] movies.ratings\\t232MB/647MB (35.9%)\\n2023-02-06T11:45:11.748-0300\\t[########................] movies.ratings\\t237MB/647MB (36.6%)\\n2023-02-06T11:45:14.747-0300\\t[########................] movies.ratings\\t241MB/647MB (37.3%)\\n2023-02-06T11:45:17.747-0300\\t[#########...............] movies.ratings\\t245MB/647MB (37.9%)\\n2023-02-06T11:45:20.747-0300\\t[#########...............] movies.ratings\\t250MB/647MB (38.6%)\\n2023-02-06T11:45:23.747-0300\\t[#########...............] movies.ratings\\t254MB/647MB (39.3%)\\n2023-02-06T11:45:26.747-0300\\t[#########...............] movies.ratings\\t259MB/647MB (40.0%)\\n2023-02-06T11:45:29.747-0300\\t[#########...............] movies.ratings\\t263MB/647MB (40.7%)\\n2023-02-06T11:45:32.747-0300\\t[#########...............] movies.ratings\\t268MB/647MB (41.4%)\\n2023-02-06T11:45:35.747-0300\\t[##########..............] movies.ratings\\t272MB/647MB (42.1%)\\n2023-02-06T11:45:38.747-0300\\t[##########..............] movies.ratings\\t276MB/647MB (42.7%)\\n2023-02-06T11:45:41.747-0300\\t[##########..............] movies.ratings\\t281MB/647MB (43.4%)\\n2023-02-06T11:45:44.747-0300\\t[##########..............] movies.ratings\\t285MB/647MB (44.1%)\\n2023-02-06T11:45:47.747-0300\\t[##########..............] movies.ratings\\t290MB/647MB (44.8%)\\n2023-02-06T11:45:50.747-0300\\t[##########..............] movies.ratings\\t294MB/647MB (45.5%)\\n2023-02-06T11:45:53.747-0300\\t[###########.............] movies.ratings\\t299MB/647MB (46.2%)\\n2023-02-06T11:45:56.747-0300\\t[###########.............] movies.ratings\\t303MB/647MB (46.8%)\\n2023-02-06T11:45:59.747-0300\\t[###########.............] movies.ratings\\t308MB/647MB (47.5%)\\n2023-02-06T11:46:02.747-0300\\t[###########.............] movies.ratings\\t312MB/647MB (48.2%)\\n2023-02-06T11:46:05.747-0300\\t[###########.............] movies.ratings\\t316MB/647MB (48.9%)\\n2023-02-06T11:46:08.747-0300\\t[###########.............] movies.ratings\\t321MB/647MB (49.6%)\\n2023-02-06T11:46:11.747-0300\\t[############............] movies.ratings\\t325MB/647MB (50.3%)\\n2023-02-06T11:46:14.747-0300\\t[############............] movies.ratings\\t330MB/647MB (51.0%)\\n2023-02-06T11:46:17.748-0300\\t[############............] movies.ratings\\t334MB/647MB (51.7%)\\n2023-02-06T11:46:20.747-0300\\t[############............] movies.ratings\\t339MB/647MB (52.4%)\\n2023-02-06T11:46:23.747-0300\\t[############............] movies.ratings\\t343MB/647MB (53.1%)\\n2023-02-06T11:46:26.747-0300\\t[############............] movies.ratings\\t348MB/647MB (53.7%)\\n2023-02-06T11:46:29.747-0300\\t[#############...........] movies.ratings\\t352MB/647MB (54.4%)\\n2023-02-06T11:46:32.747-0300\\t[#############...........] movies.ratings\\t356MB/647MB (55.1%)\\n2023-02-06T11:46:35.747-0300\\t[#############...........] movies.ratings\\t361MB/647MB (55.8%)\\n2023-02-06T11:46:38.747-0300\\t[#############...........] movies.ratings\\t365MB/647MB (56.5%)\\n2023-02-06T11:46:41.747-0300\\t[#############...........] movies.ratings\\t370MB/647MB (57.2%)\\n2023-02-06T11:46:44.747-0300\\t[#############...........] movies.ratings\\t374MB/647MB (57.8%)\\n2023-02-06T11:46:47.747-0300\\t[##############..........] movies.ratings\\t378MB/647MB (58.5%)\\n2023-02-06T11:46:50.747-0300\\t[##############..........] movies.ratings\\t383MB/647MB (59.2%)\\n2023-02-06T11:46:53.747-0300\\t[##############..........] movies.ratings\\t387MB/647MB (59.9%)\\n2023-02-06T11:46:56.747-0300\\t[##############..........] movies.ratings\\t392MB/647MB (60.6%)\\n2023-02-06T11:46:59.748-0300\\t[##############..........] movies.ratings\\t396MB/647MB (61.3%)\\n2023-02-06T11:47:02.747-0300\\t[##############..........] movies.ratings\\t401MB/647MB (62.0%)\\n2023-02-06T11:47:05.747-0300\\t[###############.........] movies.ratings\\t406MB/647MB (62.7%)\\n2023-02-06T11:47:08.747-0300\\t[###############.........] movies.ratings\\t410MB/647MB (63.4%)\\n2023-02-06T11:47:11.747-0300\\t[###############.........] movies.ratings\\t415MB/647MB (64.1%)\\n2023-02-06T11:47:14.747-0300\\t[###############.........] movies.ratings\\t419MB/647MB (64.8%)\\n2023-02-06T11:47:17.747-0300\\t[###############.........] movies.ratings\\t424MB/647MB (65.5%)\\n2023-02-06T11:47:20.747-0300\\t[###############.........] movies.ratings\\t428MB/647MB (66.2%)\\n2023-02-06T11:47:23.747-0300\\t[################........] movies.ratings\\t433MB/647MB (66.9%)\\n2023-02-06T11:47:26.747-0300\\t[################........] movies.ratings\\t438MB/647MB (67.6%)\\n2023-02-06T11:47:29.747-0300\\t[################........] movies.ratings\\t442MB/647MB (68.4%)\\n2023-02-06T11:47:32.747-0300\\t[################........] movies.ratings\\t447MB/647MB (69.1%)\\n2023-02-06T11:47:35.747-0300\\t[################........] movies.ratings\\t451MB/647MB (69.7%)\\n2023-02-06T11:47:38.748-0300\\t[################........] movies.ratings\\t456MB/647MB (70.4%)\\n2023-02-06T11:47:41.747-0300\\t[#################.......] movies.ratings\\t460MB/647MB (71.2%)\\n2023-02-06T11:47:44.747-0300\\t[#################.......] movies.ratings\\t465MB/647MB (71.8%)\\n2023-02-06T11:47:47.747-0300\\t[#################.......] movies.ratings\\t469MB/647MB (72.6%)\\n2023-02-06T11:47:50.747-0300\\t[#################.......] movies.ratings\\t474MB/647MB (73.2%)\\n2023-02-06T11:47:53.747-0300\\t[#################.......] movies.ratings\\t478MB/647MB (74.0%)\\n2023-02-06T11:47:56.747-0300\\t[#################.......] movies.ratings\\t483MB/647MB (74.7%)\\n2023-02-06T11:47:59.747-0300\\t[##################......] movies.ratings\\t488MB/647MB (75.4%)\\n2023-02-06T11:48:02.747-0300\\t[##################......] movies.ratings\\t492MB/647MB (76.1%)\\n2023-02-06T11:48:05.747-0300\\t[##################......] movies.ratings\\t497MB/647MB (76.8%)\\n2023-02-06T11:48:08.747-0300\\t[##################......] movies.ratings\\t501MB/647MB (77.5%)\\n2023-02-06T11:48:11.747-0300\\t[##################......] movies.ratings\\t506MB/647MB (78.2%)\\n2023-02-06T11:48:14.747-0300\\t[##################......] movies.ratings\\t510MB/647MB (78.9%)\\n2023-02-06T11:48:17.747-0300\\t[###################.....] movies.ratings\\t515MB/647MB (79.6%)\\n2023-02-06T11:48:20.747-0300\\t[###################.....] movies.ratings\\t519MB/647MB (80.3%)\\n2023-02-06T11:48:23.747-0300\\t[###################.....] movies.ratings\\t524MB/647MB (81.0%)\\n2023-02-06T11:48:26.747-0300\\t[###################.....] movies.ratings\\t529MB/647MB (81.7%)\\n2023-02-06T11:48:29.747-0300\\t[###################.....] movies.ratings\\t533MB/647MB (82.4%)\\n2023-02-06T11:48:32.747-0300\\t[###################.....] movies.ratings\\t538MB/647MB (83.1%)\\n2023-02-06T11:48:35.747-0300\\t[####################....] movies.ratings\\t542MB/647MB (83.8%)\\n2023-02-06T11:48:38.747-0300\\t[####################....] movies.ratings\\t547MB/647MB (84.5%)\\n2023-02-06T11:48:41.747-0300\\t[####################....] movies.ratings\\t551MB/647MB (85.2%)\\n2023-02-06T11:48:44.747-0300\\t[####################....] movies.ratings\\t556MB/647MB (85.9%)\\n2023-02-06T11:48:47.748-0300\\t[####################....] movies.ratings\\t560MB/647MB (86.6%)\\n2023-02-06T11:48:50.747-0300\\t[####################....] movies.ratings\\t565MB/647MB (87.3%)\\n2023-02-06T11:48:53.747-0300\\t[#####################...] movies.ratings\\t569MB/647MB (88.0%)\\n2023-02-06T11:48:56.747-0300\\t[#####################...] movies.ratings\\t574MB/647MB (88.7%)\\n2023-02-06T11:48:59.747-0300\\t[#####################...] movies.ratings\\t578MB/647MB (89.4%)\\n2023-02-06T11:49:02.747-0300\\t[#####################...] movies.ratings\\t583MB/647MB (90.1%)\\n2023-02-06T11:49:05.747-0300\\t[#####################...] movies.ratings\\t588MB/647MB (90.8%)\\n2023-02-06T11:49:08.747-0300\\t[#####################...] movies.ratings\\t592MB/647MB (91.5%)\\n2023-02-06T11:49:11.747-0300\\t[######################..] movies.ratings\\t597MB/647MB (92.2%)\\n2023-02-06T11:49:14.747-0300\\t[######################..] movies.ratings\\t601MB/647MB (92.9%)\\n2023-02-06T11:49:17.747-0300\\t[######################..] movies.ratings\\t606MB/647MB (93.6%)\\n2023-02-06T11:49:20.747-0300\\t[######################..] movies.ratings\\t610MB/647MB (94.3%)\\n2023-02-06T11:49:23.747-0300\\t[######################..] movies.ratings\\t615MB/647MB (95.0%)\\n2023-02-06T11:49:26.747-0300\\t[######################..] movies.ratings\\t619MB/647MB (95.8%)\\n2023-02-06T11:49:29.747-0300\\t[#######################.] movies.ratings\\t624MB/647MB (96.4%)\\n2023-02-06T11:49:32.748-0300\\t[#######################.] movies.ratings\\t628MB/647MB (97.1%)\\n2023-02-06T11:49:35.747-0300\\t[#######################.] movies.ratings\\t633MB/647MB (97.8%)\\n2023-02-06T11:49:38.747-0300\\t[#######################.] movies.ratings\\t637MB/647MB (98.5%)\\n2023-02-06T11:49:41.747-0300\\t[#######################.] movies.ratings\\t642MB/647MB (99.2%)\\n2023-02-06T11:49:44.748-0300\\t[#######################.] movies.ratings\\t646MB/647MB (99.9%)\\n2023-02-06T11:49:45.177-0300\\t[########################] movies.ratings\\t647MB/647MB (100.0%)\\n2023-02-06T11:49:45.177-0300\\t25000095 document(s) imported successfully. 0 document(s) failed to import.\\n'\n",
      "2023-02-06 11:49:45,180 - ERROR - b'2023-02-06T11:42:11.750-0300\\tconnected to: mongodb://localhost/\\n2023-02-06T11:42:13.610-0300\\t62423 document(s) imported successfully. 0 document(s) failed to import.\\n'\n",
      "2023-02-06 11:49:45,181 - ERROR - b'2023-02-06T11:42:11.749-0300\\tconnected to: mongodb://localhost/\\n2023-02-06T11:42:13.192-0300\\t62423 document(s) imported successfully. 0 document(s) failed to import.\\n'\n",
      "2023-02-06 11:49:45,181 - ERROR - b'2023-02-06T11:42:11.781-0300\\tconnected to: mongodb://localhost/\\n2023-02-06T11:42:14.782-0300\\t[##......................] movies.tags\\t3.20MB/37.0MB (8.7%)\\n2023-02-06T11:42:17.783-0300\\t[####....................] movies.tags\\t7.27MB/37.0MB (19.6%)\\n2023-02-06T11:42:20.782-0300\\t[#######.................] movies.tags\\t11.7MB/37.0MB (31.5%)\\n2023-02-06T11:42:23.782-0300\\t[##########..............] movies.tags\\t16.0MB/37.0MB (43.2%)\\n2023-02-06T11:42:26.782-0300\\t[############............] movies.tags\\t19.8MB/37.0MB (53.4%)\\n2023-02-06T11:42:29.783-0300\\t[###############.........] movies.tags\\t23.6MB/37.0MB (63.7%)\\n2023-02-06T11:42:32.782-0300\\t[##################......] movies.tags\\t28.0MB/37.0MB (75.7%)\\n2023-02-06T11:42:35.782-0300\\t[####################....] movies.tags\\t32.3MB/37.0MB (87.4%)\\n2023-02-06T11:42:38.782-0300\\t[#######################.] movies.tags\\t35.9MB/37.0MB (96.9%)\\n2023-02-06T11:42:39.388-0300\\t[########################] movies.tags\\t37.0MB/37.0MB (100.0%)\\n2023-02-06T11:42:39.388-0300\\t1093360 document(s) imported successfully. 0 document(s) failed to import.\\n'\n"
     ]
    }
   ],
   "source": [
    "Mongo.import_csv(database = 'movies', file_paths = MOVIE_LENS_FILES)"
   ]
  },
  {
   "cell_type": "markdown",
   "id": "66d02f54-4617-42fe-9e02-526b152b38b9",
   "metadata": {},
   "source": [
    "#### 2. Transform imdb id to number.\n",
    "\n",
    "```js\n",
    "// Mongodb query\n",
    "db.getCollection('movies_metadata').aggregate([\n",
    "    {\n",
    "        $match: { \n",
    "            $and: [\n",
    "                { imdb_id: { $ne: \"\" } },\n",
    "                { imdb_id: { $ne: 0 } }\n",
    "            ]\n",
    "        }\n",
    "    },\n",
    "    {\n",
    "        $addFields: {\n",
    "            imdb_id: {$toLong: [ { $arrayElemAt: [ { $split: [\"$imdb_id\", \"tt\"]}, 1 ] }] }\n",
    "        }\n",
    "    },\n",
    "    { $out: \"movies_metadata_v2\" }\n",
    "]);\n",
    "```"
   ]
  },
  {
   "cell_type": "markdown",
   "id": "1346997d-e5df-4359-a6ce-d98ce0a5ec01",
   "metadata": {
    "tags": []
   },
   "source": [
    "#### 3.  Add indexes to both links and movies_metadata_v2 collections.\n",
    "\n",
    "```js\n",
    "// Mongodb queries\n",
    "db.getCollection('links').createIndex(\n",
    "    { 'movieId': 1 }, \n",
    "    { unique: true, name: 'movieId_unique_index' }\n",
    ")\n",
    "db.getCollection('movies_metadata_v2').createIndex(\n",
    "    { 'imdb_id': 1 }, \n",
    "    { unique: false, name: 'imdb_id_multiple_index' }\n",
    ")\n",
    "```"
   ]
  },
  {
   "cell_type": "markdown",
   "id": "7d7553f3-e62e-47de-9f94-6bb9f465e547",
   "metadata": {},
   "source": [
    "#### 4. Add imdb features to movies collection.\n",
    "\n",
    "```js\n",
    "// Mongodb queries\n",
    "db.getCollection('movies').aggregate([\n",
    "    {\n",
    "        $lookup:\n",
    "          {\n",
    "            from: \"links\",\n",
    "            foreignField: \"movieId\",\n",
    "            localField: \"movieId\", \n",
    "            as: \"links\"\n",
    "          }\n",
    "     },\n",
    "     { $match: { links: { $exists: true, $not: {$size: 0} } } },\n",
    "     { \n",
    "        $project: { \n",
    "            id: \"$movieId\",\n",
    "            tmdb_id:      { \"$arrayElemAt\": [\"$links.tmdbId\", 0] },\n",
    "            imdb_id:      { \"$arrayElemAt\": [\"$links.imdbId\", 0] },\n",
    "            title:        { $arrayElemAt:   [ {$split:[\"$title\",\"(\"]} ,  0 ] },\n",
    "            release_year: { $arrayElemAt:   [ {$split:[\"$title\",\"(\"]} ,  1 ] },\n",
    "            genres:       { $split:         [ \"$genres\", \"|\" ] }\n",
    "        } \n",
    "    }, \n",
    "    {\n",
    "        $lookup:\n",
    "          {\n",
    "            from: \"movies_metadata_v2\",\n",
    "            foreignField: \"imdb_id\",\n",
    "            localField: \"imdb_id\", \n",
    "            as: \"movies_metadata\"\n",
    "          }\n",
    "     },\n",
    "     { $match: {  movies_metadata: { $exists: true, $not: {$size: 0} } } },\n",
    "     { \n",
    "        $project: { \n",
    "            id: 1,\n",
    "            tmdb_id: 1,\n",
    "            imdb_id: 1,\n",
    "            title: 1,\n",
    "            genres: 1,\n",
    "            for_adults:        { \"$arrayElemAt\": [\"$movies_metadata.adult\", 0] },\n",
    "            budget:            { \"$arrayElemAt\": [\"$movies_metadata.budget\", 0] },\n",
    "            original_language: { \"$arrayElemAt\": [\"$movies_metadata.original_language\", 0] },\n",
    "            overview:          { \"$arrayElemAt\": [\"$movies_metadata.overview\", 0] },\n",
    "            poster:            { \"$arrayElemAt\": [\"$movies_metadata.poster_path\", 0] },\n",
    "            release:           { \"$arrayElemAt\": [\"$movies_metadata.release_date\", 0] },\n",
    "            popularity:        { \"$arrayElemAt\": [\"$movies_metadata.popularity\", 0] },\n",
    "            vote_mean:         { \"$arrayElemAt\": [\"$movies_metadata.vote_average\", 0] },\n",
    "            vote_count:        { \"$arrayElemAt\": [\"$movies_metadata.vote_count\", 0] }\n",
    "        }\n",
    "    },\n",
    "    { $out: \"movies_v2\" }\n",
    "]);\n",
    "```"
   ]
  },
  {
   "cell_type": "markdown",
   "id": "9fa5fecd-279c-421d-8b99-11404bc29050",
   "metadata": {},
   "source": [
    "#### 5. Group tags per used, movie pair.\n",
    "\n",
    "```js\n",
    "// Mongodb queries\n",
    "db.getCollection('tags').aggregate(\n",
    "    [\n",
    "        { \n",
    "            $group: {\n",
    "                _id: {\n",
    "                    user_id: \"$userId\",\n",
    "                    movie_id: \"$movieId\"\n",
    "                },\n",
    "                tags: { $push: { $toLower: \"$tag\" } }\n",
    "            }\n",
    "        },\n",
    "        {\n",
    "          $project: {\n",
    "            _id: 0,\n",
    "            user_id: \"$_id.user_id\",\n",
    "            movie_id: \"$_id.movie_id\",\n",
    "            user_movie_id: { $concat: [ { $toString: \"$_id.user_id\" } , \"_\", { $toString:\"$_id.movie_id\"} ] },\n",
    "            tags: 1\n",
    "          }  \n",
    "        },\n",
    "        { $out: \"tags_v2\" }\n",
    "    ]\n",
    ");\n",
    "```"
   ]
  },
  {
   "cell_type": "markdown",
   "id": "89093d87-5a31-4714-b6c2-61bf849c46cd",
   "metadata": {},
   "source": [
    "#### 6. Create used_movie_id into new tags_v2 collection.\n",
    "\n",
    "```js\n",
    "// Mongodb queries\n",
    "db.getCollection('tags_v2').createIndex(\n",
    "    { 'user_movie_id': 1 }, \n",
    "    { unique: true, name: 'id_unique_index' }\n",
    ")\n",
    "```"
   ]
  },
  {
   "cell_type": "markdown",
   "id": "c3955bf2-721a-4adc-9451-a94921fbb9e3",
   "metadata": {},
   "source": [
    "#### 7. Add used_movie_id fields into new ratings_v2 collection and also create a unique index.\n",
    "\n",
    "```js\n",
    "// Mongodb queries\n",
    "db.getCollection('ratings').aggregate([\n",
    "        {\n",
    "          $project: {\n",
    "            user_id: \"$userId\",\n",
    "            movie_id: \"$movieId\",\n",
    "            user_movie_id: { $concat: [ { $toString: \"$userId\" } , \"_\", { $toString:\"$movieId\"} ] },\n",
    "            rating: 1,\n",
    "            timestamp: 1\n",
    "          }  \n",
    "        },\n",
    "        { $out: \"ratings_v2\" }\n",
    "    ]\n",
    ");\n",
    "db.getCollection('ratings_v2').createIndex(\n",
    "    { 'user_movie_id': 1 }, \n",
    "    { unique: true, name: 'id_unique_index' }\n",
    ");\n",
    "```"
   ]
  },
  {
   "cell_type": "markdown",
   "id": "b598294d-94a9-4c6f-beb4-cef5f0537221",
   "metadata": {},
   "source": [
    "#### 8. Join ratting_v2 and tags_v2 collections by user_movie_id into a new ratings_tags_v1 collection.\n",
    "\n",
    "```js\n",
    "// Mongodb queries\n",
    "db.getCollection('ratings_v2').aggregate([\n",
    "    {\n",
    "        $lookup:\n",
    "          {\n",
    "            from: \"tags_v2\",\n",
    "            foreignField: \"user_movie_id\",\n",
    "            localField: \"user_movie_id\", \n",
    "            as: \"tags_v2\"\n",
    "          }\n",
    "     },\n",
    "     { $match: { tags_v2: { $exists: true, $not: {$size: 0} } } },\n",
    "     { \n",
    "        $project: { \n",
    "            user_id: 1,\n",
    "            movie_id: 1,\n",
    "            rating: 1,\n",
    "            timestamp: 1,\n",
    "            tags: \"$tags_v2.tags\"\n",
    "        }\n",
    "    },\n",
    "    {\n",
    "        $addFields: {  \n",
    "            _id: { $concat: [ { $toString: \"$user_id\" } , \"_\", { $toString:\"$movie_id\"} ] },            \n",
    "            tags: {\n",
    "                \"$reduce\": {\n",
    "                    \"input\": \"$tags\",\n",
    "                    \"initialValue\": [],\n",
    "                    \"in\": { \"$setUnion\": [ \"$$value\", \"$$this\" ] }\n",
    "                }\n",
    "            }\n",
    "        }\n",
    "    },\n",
    "    { $out: \"ratings_tags_v1\" }\n",
    "]);\n",
    "```"
   ]
  },
  {
   "cell_type": "markdown",
   "id": "d19b6091-b81e-4da8-98b9-86a9c1459f4b",
   "metadata": {},
   "source": [
    "#### 9. Add tags field into movie_v2 collections:\n",
    "\n",
    "```js\n",
    "// Mongodb queries\n",
    "db.getCollection('movies_v2').createIndex(\n",
    "    { 'id': 1 }, \n",
    "    { unique: true, name: 'id_unique_index' }\n",
    ")\n",
    "db.getCollection('tags_v2').createIndex(\n",
    "    { 'movie_id': 1 }, \n",
    "    { unique: true, name: 'id_unique_index' }\n",
    ")\n",
    "db.getCollection('movies_v2').aggregate([\n",
    "    {\n",
    "        $lookup:\n",
    "          {\n",
    "            from: \"tags_v2\",\n",
    "            foreignField: \"movie_id\",\n",
    "            localField: \"id\",\n",
    "            as: \"tags_v2\"\n",
    "          }\n",
    "    },\n",
    "    { $match: { tags_v2: { $exists: true, $not: {$size: 0} } } },\n",
    "    { \n",
    "        $addFields: { \n",
    "            tags: {\n",
    "                \"$reduce\": {\n",
    "                    \"input\": \"$tags_v2.tags\",\n",
    "                    \"initialValue\": [],\n",
    "                    \"in\": { \"$setUnion\": [ \"$$value\", \"$$this\" ] }\n",
    "                }\n",
    "            }\n",
    "        }\n",
    "    },\n",
    "    { $unset: [\"tags_v2\"] },\n",
    "    { $addFields: {  _id: \"$id\" } },\n",
    "    { $unset: [\"id\"] },\n",
    "    { $out: \"movies_v3\" }\n",
    "]);\n",
    "```"
   ]
  },
  {
   "cell_type": "markdown",
   "id": "c37343ba-a719-4992-b145-febda7616dd4",
   "metadata": {},
   "source": [
    "#### 10. Export final ccollections to json files:\n",
    "\n",
    "* movies_v3 to movies_v3.json\n",
    "* ratings_tags_v1 to ratings_tags_v1.json"
   ]
  },
  {
   "cell_type": "code",
   "execution_count": 40,
   "id": "d56c0ce2-3ed4-4e63-9019-76f2ed54bca9",
   "metadata": {},
   "outputs": [
    {
     "name": "stderr",
     "output_type": "stream",
     "text": [
      "2023-02-06 17:56:37,777 - ERROR - b'2023-02-06T17:56:35.580-0300\\tconnected to: mongodb://localhost/\\n2023-02-06T17:56:36.581-0300\\t[#####...................]  movies.movies_v3  8000/35149  (22.8%)\\n2023-02-06T17:56:37.580-0300\\t[################........]  movies.movies_v3  24000/35149  (68.3%)\\n2023-02-06T17:56:37.769-0300\\t[########################]  movies.movies_v3  35149/35149  (100.0%)\\n2023-02-06T17:56:37.769-0300\\texported 35149 records\\n'\n",
      "2023-02-06 17:56:37,777 - ERROR - b'2023-02-06T17:56:35.580-0300\\tconnected to: mongodb://localhost/\\n2023-02-06T17:56:36.581-0300\\t[#####...................]  movies.movies_v3  8000/35149  (22.8%)\\n2023-02-06T17:56:37.580-0300\\t[################........]  movies.movies_v3  24000/35149  (68.3%)\\n2023-02-06T17:56:37.769-0300\\t[########################]  movies.movies_v3  35149/35149  (100.0%)\\n2023-02-06T17:56:37.769-0300\\texported 35149 records\\n'\n",
      "2023-02-06 17:56:37,777 - ERROR - b'2023-02-06T17:56:35.580-0300\\tconnected to: mongodb://localhost/\\n2023-02-06T17:56:36.581-0300\\t[#####...................]  movies.movies_v3  8000/35149  (22.8%)\\n2023-02-06T17:56:37.580-0300\\t[################........]  movies.movies_v3  24000/35149  (68.3%)\\n2023-02-06T17:56:37.769-0300\\t[########################]  movies.movies_v3  35149/35149  (100.0%)\\n2023-02-06T17:56:37.769-0300\\texported 35149 records\\n'\n"
     ]
    }
   ],
   "source": [
    "Mongo.export_to_json(database='movies', path=DATASETS_PATH, collections=['movies_v3'])"
   ]
  },
  {
   "cell_type": "code",
   "execution_count": 41,
   "id": "9ee87762-4b54-455a-a3cb-f6d689107593",
   "metadata": {},
   "outputs": [
    {
     "name": "stderr",
     "output_type": "stream",
     "text": [
      "2023-02-06 17:56:43,175 - ERROR - b'2023-02-06T17:56:37.816-0300\\tconnected to: mongodb://localhost/\\n2023-02-06T17:56:38.818-0300\\t[###.....................]  movies.ratings_tags_v1  32000/210725  (15.2%)\\n2023-02-06T17:56:39.817-0300\\t[########................]  movies.ratings_tags_v1  72000/210725  (34.2%)\\n2023-02-06T17:56:40.817-0300\\t[############............]  movies.ratings_tags_v1  112000/210725  (53.1%)\\n2023-02-06T17:56:41.818-0300\\t[#################.......]  movies.ratings_tags_v1  152000/210725  (72.1%)\\n2023-02-06T17:56:42.818-0300\\t[#####################...]  movies.ratings_tags_v1  192000/210725  (91.1%)\\n2023-02-06T17:56:43.172-0300\\t[########################]  movies.ratings_tags_v1  210725/210725  (100.0%)\\n2023-02-06T17:56:43.172-0300\\texported 210725 records\\n'\n",
      "2023-02-06 17:56:43,175 - ERROR - b'2023-02-06T17:56:37.816-0300\\tconnected to: mongodb://localhost/\\n2023-02-06T17:56:38.818-0300\\t[###.....................]  movies.ratings_tags_v1  32000/210725  (15.2%)\\n2023-02-06T17:56:39.817-0300\\t[########................]  movies.ratings_tags_v1  72000/210725  (34.2%)\\n2023-02-06T17:56:40.817-0300\\t[############............]  movies.ratings_tags_v1  112000/210725  (53.1%)\\n2023-02-06T17:56:41.818-0300\\t[#################.......]  movies.ratings_tags_v1  152000/210725  (72.1%)\\n2023-02-06T17:56:42.818-0300\\t[#####################...]  movies.ratings_tags_v1  192000/210725  (91.1%)\\n2023-02-06T17:56:43.172-0300\\t[########################]  movies.ratings_tags_v1  210725/210725  (100.0%)\\n2023-02-06T17:56:43.172-0300\\texported 210725 records\\n'\n",
      "2023-02-06 17:56:43,175 - ERROR - b'2023-02-06T17:56:37.816-0300\\tconnected to: mongodb://localhost/\\n2023-02-06T17:56:38.818-0300\\t[###.....................]  movies.ratings_tags_v1  32000/210725  (15.2%)\\n2023-02-06T17:56:39.817-0300\\t[########................]  movies.ratings_tags_v1  72000/210725  (34.2%)\\n2023-02-06T17:56:40.817-0300\\t[############............]  movies.ratings_tags_v1  112000/210725  (53.1%)\\n2023-02-06T17:56:41.818-0300\\t[#################.......]  movies.ratings_tags_v1  152000/210725  (72.1%)\\n2023-02-06T17:56:42.818-0300\\t[#####################...]  movies.ratings_tags_v1  192000/210725  (91.1%)\\n2023-02-06T17:56:43.172-0300\\t[########################]  movies.ratings_tags_v1  210725/210725  (100.0%)\\n2023-02-06T17:56:43.172-0300\\texported 210725 records\\n'\n"
     ]
    }
   ],
   "source": [
    "Mongo.export_to_json(database='movies', path=DATASETS_PATH, collections=['ratings_tags_v1'])"
   ]
  }
 ],
 "metadata": {
  "kernelspec": {
   "display_name": "Python 3 (ipykernel)",
   "language": "python",
   "name": "python3"
  },
  "language_info": {
   "codemirror_mode": {
    "name": "ipython",
    "version": 3
   },
   "file_extension": ".py",
   "mimetype": "text/x-python",
   "name": "python",
   "nbconvert_exporter": "python",
   "pygments_lexer": "ipython3",
   "version": "3.10.9"
  },
  "widgets": {
   "application/vnd.jupyter.widget-state+json": {
    "state": {},
    "version_major": 2,
    "version_minor": 0
   }
  }
 },
 "nbformat": 4,
 "nbformat_minor": 5
}
