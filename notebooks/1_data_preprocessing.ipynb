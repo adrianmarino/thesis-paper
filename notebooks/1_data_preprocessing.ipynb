{
 "cells": [
  {
   "cell_type": "markdown",
   "id": "81c8f71c-7e73-468c-a05d-8997004f5186",
   "metadata": {},
   "source": [
    "# Data pre-processing\n",
    "\n",
    "Para tener los datos necesario para probar los enfoques de filtros colaborativos(CF) y basados en contenido(CB) necesito:\n",
    "\n",
    "* Calificaciones de los ítems(movies) de los usuarios (CF)\n",
    "* Features propies de los ítems (CB)\n",
    "\n",
    "Dado esto, a continuacion se combinaran los siguientes datasets:\n",
    "\n",
    "* MovieLens 25M Dataset: Prácticamente no tiene información de las películas pero si tiene las calificaciones de los usuarios.\n",
    "* TMDB Movie Dataset: No tiene calificaciones personalizadas como el dataset anterior pero tiene varios features para las películas que es lo que necesito."
   ]
  },
  {
   "cell_type": "markdown",
   "id": "71bda2c0-ec9a-4f4d-acad-3d2035dd3119",
   "metadata": {},
   "source": [
    "## Setup"
   ]
  },
  {
   "cell_type": "code",
   "execution_count": 1,
   "id": "ac8cd4ad-1634-4880-8dc3-ea2b6e0f3225",
   "metadata": {
    "tags": []
   },
   "outputs": [],
   "source": [
    "%load_ext autoreload\n",
    "%autoreload 2\n",
    "\n",
    "BASE_PATH       = '..'\n",
    "DATASETS_PATH   = f'{BASE_PATH}/datasets'\n",
    "MOVIE_LENS_PATH = f'{DATASETS_PATH}/ml-25m'\n",
    "TMDB_PATH       = f'{DATASETS_PATH}/tmdb'\n",
    "DATABASE        = 'movies'"
   ]
  },
  {
   "cell_type": "code",
   "execution_count": 2,
   "id": "f98e7bf4-f41a-43f6-b7b7-a991d00f82de",
   "metadata": {
    "tags": []
   },
   "outputs": [],
   "source": [
    "import sys\n",
    "sys.path.append(f'{BASE_PATH}/lib')\n",
    "\n",
    "from database.mongo import Mongo\n",
    "from pytorch_common.util import LoggerBuilder"
   ]
  },
  {
   "cell_type": "code",
   "execution_count": 3,
   "id": "e60a3838-9787-411d-b9f1-8a942321cbb1",
   "metadata": {
    "tags": []
   },
   "outputs": [
    {
     "data": {
      "text/plain": [
       "<RootLogger root (INFO)>"
      ]
     },
     "execution_count": 3,
     "metadata": {},
     "output_type": "execute_result"
    }
   ],
   "source": [
    "LoggerBuilder().on_console().build()"
   ]
  },
  {
   "cell_type": "markdown",
   "id": "4da40dcd-d4a6-404e-969f-c466d9ca8c1d",
   "metadata": {},
   "source": [
    "# Pre-processing steps"
   ]
  },
  {
   "cell_type": "markdown",
   "id": "e83eec29-6968-40ce-9298-c68c873f8142",
   "metadata": {},
   "source": [
    "#### 1. Import five collecitons to **movies** mongodb database:\n",
    "\n",
    "    * From movie lens dataset:\n",
    "        * rattings\n",
    "        * movies\n",
    "        * links\n",
    "        * tags\n",
    "    * From the movie database dataset:\n",
    "        * movies_metadata"
   ]
  },
  {
   "cell_type": "code",
   "execution_count": 4,
   "id": "ea045617-9cc9-45ae-ad43-9939ab780d51",
   "metadata": {
    "tags": []
   },
   "outputs": [
    {
     "name": "stdout",
     "output_type": "stream",
     "text": [
      "  % Total    % Received % Xferd  Average Speed   Time    Time     Time  Current\n",
      "                                 Dload  Upload   Total   Spent    Left  Speed\n",
      "100  249M  100  249M    0     0  6394k      0  0:00:40  0:00:40 --:--:-- 4789k\n",
      "Archive:  ml-25m.zip\n",
      "  inflating: ml-25m/tags.csv         \n",
      "  inflating: ml-25m/links.csv        \n",
      "  inflating: ml-25m/README.txt       \n",
      "  inflating: ml-25m/ratings.csv      \n",
      "  inflating: ml-25m/genome-tags.csv  \n",
      "  inflating: ml-25m/genome-scores.csv  \n",
      "  inflating: ml-25m/movies.csv       \n"
     ]
    }
   ],
   "source": [
    "!mkdir -p {DATASETS_PATH}\n",
    "\n",
    "!cd {DATASETS_PATH}; curl -LO http://files.grouplens.org/datasets/movielens/ml-25m.zip\n",
    "\n",
    "!cd {DATASETS_PATH}; unzip -o ml-25m.zip"
   ]
  },
  {
   "cell_type": "code",
   "execution_count": 5,
   "id": "2755acc3-4963-4ddd-9071-3b16508685a5",
   "metadata": {
    "tags": []
   },
   "outputs": [],
   "source": [
    "!mkdir -p {TMDB_PATH}"
   ]
  },
  {
   "cell_type": "markdown",
   "id": "86a76190-7993-4d56-9daf-9f1900e7cdd5",
   "metadata": {},
   "source": [
    "Download TMDB dataset from [Here](https://www.kaggle.com/datasets/tmdb/tmdb-movie-metadata) (archive.zip file) into next directory:"
   ]
  },
  {
   "cell_type": "code",
   "execution_count": 8,
   "id": "7a9f6653-2d6a-49cc-a810-2ee64428efca",
   "metadata": {
    "tags": []
   },
   "outputs": [
    {
     "data": {
      "text/plain": [
       "'../datasets/tmdb'"
      ]
     },
     "execution_count": 8,
     "metadata": {},
     "output_type": "execute_result"
    }
   ],
   "source": [
    "TMDB_PATH"
   ]
  },
  {
   "cell_type": "code",
   "execution_count": 7,
   "id": "455c879a-fbbf-4e6e-93de-fcd4ee2255d8",
   "metadata": {
    "tags": []
   },
   "outputs": [
    {
     "name": "stdout",
     "output_type": "stream",
     "text": [
      "unzip:  cannot find or open archive.zip, archive.zip.zip or archive.zip.ZIP.\n",
      "mv: cannot stat 'tmdb_5000_movies.csv': No such file or directory\n"
     ]
    }
   ],
   "source": [
    "!cd {TMDB_PATH}; unzip -o archive.zip\n",
    "!cd {TMDB_PATH}; mv tmdb_5000_movies.csv movies_metadata.csv"
   ]
  },
  {
   "cell_type": "code",
   "execution_count": 9,
   "id": "2be7c711-09b2-4d2f-a632-3aeffc5fbbb8",
   "metadata": {
    "tags": []
   },
   "outputs": [],
   "source": [
    "MOVIE_LENS_FILES = [ f'{MOVIE_LENS_PATH}/{f}' for f in [ \n",
    "    'ratings.csv',\n",
    "    'movies.csv',\n",
    "    'links.csv',\n",
    "    'tags.csv'\n",
    "]]\n",
    "TMDB_FILES = [ f'{TMDB_PATH}/movies_metadata.csv']"
   ]
  },
  {
   "cell_type": "code",
   "execution_count": 10,
   "id": "814eee97-4de9-4a59-9862-995cdfe2af7a",
   "metadata": {
    "tags": []
   },
   "outputs": [
    {
     "data": {
      "text/plain": [
       "['../datasets/ml-25m/ratings.csv',\n",
       " '../datasets/ml-25m/movies.csv',\n",
       " '../datasets/ml-25m/links.csv',\n",
       " '../datasets/ml-25m/tags.csv']"
      ]
     },
     "execution_count": 10,
     "metadata": {},
     "output_type": "execute_result"
    }
   ],
   "source": [
    "MOVIE_LENS_FILES"
   ]
  },
  {
   "cell_type": "code",
   "execution_count": 11,
   "id": "74db4ebe-ab06-4a59-bc3f-867d26bc3248",
   "metadata": {
    "tags": []
   },
   "outputs": [
    {
     "data": {
      "text/plain": [
       "['../datasets/tmdb/movies_metadata.csv']"
      ]
     },
     "execution_count": 11,
     "metadata": {},
     "output_type": "execute_result"
    }
   ],
   "source": [
    "TMDB_FILES"
   ]
  },
  {
   "cell_type": "code",
   "execution_count": 14,
   "id": "9b4d155d-71af-40f2-84b9-7e5b6c3bcb61",
   "metadata": {
    "tags": []
   },
   "outputs": [
    {
     "name": "stderr",
     "output_type": "stream",
     "text": [
      "2023-11-06 21:44:01,638 - INFO - Success: b\"Current Mongosh Log ID:  65498851884f039269a2cc8fConnecting to:    mongodb://127.0.0.1:27017/?directConnection=true&serverSelectionTimeoutMS=2000&appName=mongosh+2.0.2Using MongoDB:    7.0.2Using Mongosh:    2.0.2For mongosh info see: https://docs.mongodb.com/mongodb-shell/------   The server generated these startup warnings when booting   2023-11-05T21:47:06.079-03:00: Using the XFS filesystem is strongly recommended with the WiredTiger storage engine. See http://dochub.mongodb.org/core/prodnotes-filesystem   2023-11-05T21:47:06.325-03:00: Access control is not enabled for the database. Read and write access to data and configuration is unrestricted   2023-11-05T21:47:06.325-03:00: /sys/kernel/mm/transparent_hugepage/enabled is 'always'. We suggest setting it to 'never'   2023-11-05T21:47:06.325-03:00: vm.max_map_count is too low------Loading file: /tmp/query.jsMongoInvalidArgumentError: Collection names cannot be empty\"\n",
      "2023-11-06 21:44:02,029 - INFO - Success: b\"Current Mongosh Log ID:  654988510901bf89fde57d25Connecting to:    mongodb://127.0.0.1:27017/?directConnection=true&serverSelectionTimeoutMS=2000&appName=mongosh+2.0.2Using MongoDB:    7.0.2Using Mongosh:    2.0.2For mongosh info see: https://docs.mongodb.com/mongodb-shell/------   The server generated these startup warnings when booting   2023-11-05T21:47:06.079-03:00: Using the XFS filesystem is strongly recommended with the WiredTiger storage engine. See http://dochub.mongodb.org/core/prodnotes-filesystem   2023-11-05T21:47:06.325-03:00: Access control is not enabled for the database. Read and write access to data and configuration is unrestricted   2023-11-05T21:47:06.325-03:00: /sys/kernel/mm/transparent_hugepage/enabled is 'always'. We suggest setting it to 'never'   2023-11-05T21:47:06.325-03:00: vm.max_map_count is too low------Loading file: /tmp/query.jsMongoInvalidArgumentError: Collection names cannot be empty\"\n",
      "2023-11-06 21:44:02,440 - INFO - Success: b\"Current Mongosh Log ID:  65498852deb14f0d6776e857Connecting to:    mongodb://127.0.0.1:27017/?directConnection=true&serverSelectionTimeoutMS=2000&appName=mongosh+2.0.2Using MongoDB:    7.0.2Using Mongosh:    2.0.2For mongosh info see: https://docs.mongodb.com/mongodb-shell/------   The server generated these startup warnings when booting   2023-11-05T21:47:06.079-03:00: Using the XFS filesystem is strongly recommended with the WiredTiger storage engine. See http://dochub.mongodb.org/core/prodnotes-filesystem   2023-11-05T21:47:06.325-03:00: Access control is not enabled for the database. Read and write access to data and configuration is unrestricted   2023-11-05T21:47:06.325-03:00: /sys/kernel/mm/transparent_hugepage/enabled is 'always'. We suggest setting it to 'never'   2023-11-05T21:47:06.325-03:00: vm.max_map_count is too low------Loading file: /tmp/query.jsMongoInvalidArgumentError: Collection names cannot be empty\"\n",
      "2023-11-06 21:44:02,842 - INFO - Success: b\"Current Mongosh Log ID:  65498852c1c12ebc44dc49fdConnecting to:    mongodb://127.0.0.1:27017/?directConnection=true&serverSelectionTimeoutMS=2000&appName=mongosh+2.0.2Using MongoDB:    7.0.2Using Mongosh:    2.0.2For mongosh info see: https://docs.mongodb.com/mongodb-shell/------   The server generated these startup warnings when booting   2023-11-05T21:47:06.079-03:00: Using the XFS filesystem is strongly recommended with the WiredTiger storage engine. See http://dochub.mongodb.org/core/prodnotes-filesystem   2023-11-05T21:47:06.325-03:00: Access control is not enabled for the database. Read and write access to data and configuration is unrestricted   2023-11-05T21:47:06.325-03:00: /sys/kernel/mm/transparent_hugepage/enabled is 'always'. We suggest setting it to 'never'   2023-11-05T21:47:06.325-03:00: vm.max_map_count is too low------Loading file: /tmp/query.jsMongoInvalidArgumentError: Collection names cannot be empty\"\n"
     ]
    }
   ],
   "source": [
    "Mongo.drop(DATABASE, MOVIE_LENS_FILES)"
   ]
  },
  {
   "cell_type": "code",
   "execution_count": 15,
   "id": "1b6470b3-e9d0-462f-964b-4933c68f6ad4",
   "metadata": {
    "tags": []
   },
   "outputs": [
    {
     "name": "stderr",
     "output_type": "stream",
     "text": [
      "2023-11-06 21:46:32,251 - INFO - Success: b'2023-11-06T21:44:05.786-0300  connected to: mongodb://localhost/2023-11-06T21:44:08.787-0300  [........................] movies.ratings  12.4MB/647MB (1.9%)2023-11-06T21:44:11.787-0300  [........................] movies.ratings  24.9MB/647MB (3.9%)2023-11-06T21:44:14.787-0300  [#.......................] movies.ratings  37.5MB/647MB (5.8%)2023-11-06T21:44:17.787-0300  [#.......................] movies.ratings  50.4MB/647MB (7.8%)2023-11-06T21:44:20.787-0300  [##......................] movies.ratings  63.6MB/647MB (9.8%)2023-11-06T21:44:23.787-0300  [##......................] movies.ratings  77.0MB/647MB (11.9%)2023-11-06T21:44:26.787-0300  [###.....................] movies.ratings  90.4MB/647MB (14.0%)2023-11-06T21:44:29.787-0300  [###.....................] movies.ratings  104MB/647MB (16.1%)2023-11-06T21:44:32.787-0300  [####....................] movies.ratings  117MB/647MB (18.1%)2023-11-06T21:44:35.787-0300  [####....................] movies.ratings  131MB/647MB (20.2%)2023-11-06T21:44:38.787-0300  [#####...................] movies.ratings  144MB/647MB (22.2%)2023-11-06T21:44:41.787-0300  [#####...................] movies.ratings  157MB/647MB (24.3%)2023-11-06T21:44:44.787-0300  [######..................] movies.ratings  170MB/647MB (26.3%)2023-11-06T21:44:47.787-0300  [######..................] movies.ratings  183MB/647MB (28.3%)2023-11-06T21:44:50.787-0300  [#######.................] movies.ratings  196MB/647MB (30.4%)2023-11-06T21:44:53.787-0300  [#######.................] movies.ratings  210MB/647MB (32.4%)2023-11-06T21:44:56.787-0300  [########................] movies.ratings  223MB/647MB (34.4%)2023-11-06T21:44:59.787-0300  [########................] movies.ratings  236MB/647MB (36.5%)2023-11-06T21:45:02.787-0300  [#########...............] movies.ratings  249MB/647MB (38.5%)2023-11-06T21:45:05.787-0300  [#########...............] movies.ratings  262MB/647MB (40.5%)2023-11-06T21:45:08.787-0300  [##########..............] movies.ratings  275MB/647MB (42.6%)2023-11-06T21:45:11.787-0300  [##########..............] movies.ratings  289MB/647MB (44.7%)2023-11-06T21:45:14.787-0300  [###########.............] movies.ratings  302MB/647MB (46.7%)2023-11-06T21:45:17.787-0300  [###########.............] movies.ratings  314MB/647MB (48.6%)2023-11-06T21:45:20.787-0300  [############............] movies.ratings  327MB/647MB (50.5%)2023-11-06T21:45:23.787-0300  [############............] movies.ratings  340MB/647MB (52.6%)2023-11-06T21:45:26.787-0300  [#############...........] movies.ratings  353MB/647MB (54.6%)2023-11-06T21:45:29.787-0300  [#############...........] movies.ratings  366MB/647MB (56.6%)2023-11-06T21:45:32.787-0300  [##############..........] movies.ratings  380MB/647MB (58.7%)2023-11-06T21:45:35.787-0300  [##############..........] movies.ratings  393MB/647MB (60.7%)2023-11-06T21:45:38.787-0300  [###############.........] movies.ratings  406MB/647MB (62.8%)2023-11-06T21:45:41.787-0300  [###############.........] movies.ratings  420MB/647MB (64.9%)2023-11-06T21:45:44.787-0300  [################........] movies.ratings  433MB/647MB (67.0%)2023-11-06T21:45:47.787-0300  [################........] movies.ratings  447MB/647MB (69.1%)2023-11-06T21:45:50.787-0300  [#################.......] movies.ratings  460MB/647MB (71.1%)2023-11-06T21:45:53.787-0300  [#################.......] movies.ratings  474MB/647MB (73.2%)2023-11-06T21:45:56.787-0300  [##################......] movies.ratings  487MB/647MB (75.3%)2023-11-06T21:45:59.787-0300  [##################......] movies.ratings  501MB/647MB (77.4%)2023-11-06T21:46:02.787-0300  [###################.....] movies.ratings  514MB/647MB (79.5%)2023-11-06T21:46:05.787-0300  [###################.....] movies.ratings  528MB/647MB (81.6%)2023-11-06T21:46:08.787-0300  [####################....] movies.ratings  542MB/647MB (83.7%)2023-11-06T21:46:11.788-0300  [####################....] movies.ratings  555MB/647MB (85.8%)2023-11-06T21:46:14.787-0300  [#####################...] movies.ratings  569MB/647MB (87.9%)2023-11-06T21:46:17.788-0300  [#####################...] movies.ratings  582MB/647MB (90.0%)2023-11-06T21:46:20.787-0300  [######################..] movies.ratings  595MB/647MB (92.0%)2023-11-06T21:46:23.787-0300  [######################..] movies.ratings  609MB/647MB (94.1%)2023-11-06T21:46:26.787-0300  [#######################.] movies.ratings  622MB/647MB (96.2%)2023-11-06T21:46:29.787-0300  [#######################.] movies.ratings  636MB/647MB (98.3%)2023-11-06T21:46:32.249-0300  [########################] movies.ratings  647MB/647MB (100.0%)2023-11-06T21:46:32.249-0300  25000095 document(s) imported successfully. 0 document(s) failed to import.'\n",
      "2023-11-06 21:46:32,252 - INFO - Success: b'2023-11-06T21:44:05.787-0300  connected to: mongodb://localhost/2023-11-06T21:44:06.227-0300  62423 document(s) imported successfully. 0 document(s) failed to import.'\n",
      "2023-11-06 21:46:32,252 - INFO - Success: b'2023-11-06T21:44:05.787-0300  connected to: mongodb://localhost/2023-11-06T21:44:06.171-0300  62423 document(s) imported successfully. 0 document(s) failed to import.'\n",
      "2023-11-06 21:46:32,252 - INFO - Success: b'2023-11-06T21:44:05.789-0300  connected to: mongodb://localhost/2023-11-06T21:44:08.790-0300  [##########..............] movies.tags  16.2MB/37.0MB (43.9%)2023-11-06T21:44:11.789-0300  [#####################...] movies.tags  32.8MB/37.0MB (88.7%)2023-11-06T21:44:12.573-0300  [########################] movies.tags  37.0MB/37.0MB (100.0%)2023-11-06T21:44:12.573-0300  1093360 document(s) imported successfully. 0 document(s) failed to import.'\n"
     ]
    }
   ],
   "source": [
    "Mongo.import_csv(DATABASE, MOVIE_LENS_FILES)"
   ]
  },
  {
   "cell_type": "code",
   "execution_count": 16,
   "id": "f100b88f-2ea9-4d3d-bc6c-28ccb816c52b",
   "metadata": {
    "tags": []
   },
   "outputs": [
    {
     "name": "stderr",
     "output_type": "stream",
     "text": [
      "2023-11-06 21:46:32,676 - INFO - Success: b\"Current Mongosh Log ID:  654988e8948b47a7efdaa982Connecting to:    mongodb://127.0.0.1:27017/?directConnection=true&serverSelectionTimeoutMS=2000&appName=mongosh+2.0.2Using MongoDB:    7.0.2Using Mongosh:    2.0.2For mongosh info see: https://docs.mongodb.com/mongodb-shell/------   The server generated these startup warnings when booting   2023-11-05T21:47:06.079-03:00: Using the XFS filesystem is strongly recommended with the WiredTiger storage engine. See http://dochub.mongodb.org/core/prodnotes-filesystem   2023-11-05T21:47:06.325-03:00: Access control is not enabled for the database. Read and write access to data and configuration is unrestricted   2023-11-05T21:47:06.325-03:00: /sys/kernel/mm/transparent_hugepage/enabled is 'always'. We suggest setting it to 'never'   2023-11-05T21:47:06.325-03:00: vm.max_map_count is too low------Loading file: /tmp/query.jsMongoInvalidArgumentError: Collection names cannot be empty\"\n"
     ]
    }
   ],
   "source": [
    "Mongo.drop(DATABASE, TMDB_FILES)"
   ]
  },
  {
   "cell_type": "code",
   "execution_count": 17,
   "id": "9b0f8794-d2a2-4b71-bb70-d138f54f849d",
   "metadata": {
    "tags": []
   },
   "outputs": [
    {
     "name": "stderr",
     "output_type": "stream",
     "text": [
      "2023-11-06 21:46:33,882 - INFO - Success: b'2023-11-06T21:46:32.699-0300  connected to: mongodb://localhost/2023-11-06T21:46:33.880-0300  45466 document(s) imported successfully. 0 document(s) failed to import.'\n"
     ]
    }
   ],
   "source": [
    "Mongo.import_csv(DATABASE, TMDB_FILES)"
   ]
  },
  {
   "cell_type": "markdown",
   "id": "66d02f54-4617-42fe-9e02-526b152b38b9",
   "metadata": {},
   "source": [
    "#### 2. Transform imdb id to number"
   ]
  },
  {
   "cell_type": "code",
   "execution_count": 18,
   "id": "eeeb8a6f-ceb0-41f1-a202-1fc8a5015f78",
   "metadata": {
    "tags": []
   },
   "outputs": [
    {
     "name": "stderr",
     "output_type": "stream",
     "text": [
      "2023-11-06 21:47:28,884 - INFO - Success: b\"Current Mongosh Log ID:  6549891fd370cbdb521979e2Connecting to:    mongodb://127.0.0.1:27017/?directConnection=true&serverSelectionTimeoutMS=2000&appName=mongosh+2.0.2Using MongoDB:    7.0.2Using Mongosh:    2.0.2For mongosh info see: https://docs.mongodb.com/mongodb-shell/------   The server generated these startup warnings when booting   2023-11-05T21:47:06.079-03:00: Using the XFS filesystem is strongly recommended with the WiredTiger storage engine. See http://dochub.mongodb.org/core/prodnotes-filesystem   2023-11-05T21:47:06.325-03:00: Access control is not enabled for the database. Read and write access to data and configuration is unrestricted   2023-11-05T21:47:06.325-03:00: /sys/kernel/mm/transparent_hugepage/enabled is 'always'. We suggest setting it to 'never'   2023-11-05T21:47:06.325-03:00: vm.max_map_count is too low------Loading file: /tmp/query.js\"\n"
     ]
    }
   ],
   "source": [
    "Mongo.command(DATABASE,  \"\"\"\n",
    "db.getCollection('movies_metadata').aggregate([\n",
    "    {\n",
    "        $match: { \n",
    "            $and: [\n",
    "                { imdb_id: { $ne: \"\" } },\n",
    "                { imdb_id: { $ne: 0 } }\n",
    "            ]\n",
    "        }\n",
    "    },\n",
    "    {\n",
    "        $addFields: {\n",
    "            imdb_id: {$toLong: [ { $arrayElemAt: [ { $split: [\"$imdb_id\", \"tt\"]}, 1 ] }] }\n",
    "        }\n",
    "    },\n",
    "    { $out: \"movies_metadata_v2\" }\n",
    "]);\n",
    "\"\"\")"
   ]
  },
  {
   "cell_type": "markdown",
   "id": "1346997d-e5df-4359-a6ce-d98ce0a5ec01",
   "metadata": {
    "tags": []
   },
   "source": [
    "#### 3.  Add indexes to both links and movies_metadata_v2 collections."
   ]
  },
  {
   "cell_type": "code",
   "execution_count": 19,
   "id": "d9a88162-507b-41dc-bda8-3eb06d699394",
   "metadata": {
    "tags": []
   },
   "outputs": [
    {
     "name": "stderr",
     "output_type": "stream",
     "text": [
      "2023-11-06 21:47:54,258 - INFO - Success: b\"Current Mongosh Log ID:  65498939c1501d2fdc2832d0Connecting to:    mongodb://127.0.0.1:27017/?directConnection=true&serverSelectionTimeoutMS=2000&appName=mongosh+2.0.2Using MongoDB:    7.0.2Using Mongosh:    2.0.2For mongosh info see: https://docs.mongodb.com/mongodb-shell/------   The server generated these startup warnings when booting   2023-11-05T21:47:06.079-03:00: Using the XFS filesystem is strongly recommended with the WiredTiger storage engine. See http://dochub.mongodb.org/core/prodnotes-filesystem   2023-11-05T21:47:06.325-03:00: Access control is not enabled for the database. Read and write access to data and configuration is unrestricted   2023-11-05T21:47:06.325-03:00: /sys/kernel/mm/transparent_hugepage/enabled is 'always'. We suggest setting it to 'never'   2023-11-05T21:47:06.325-03:00: vm.max_map_count is too low------Loading file: /tmp/query.js\"\n"
     ]
    }
   ],
   "source": [
    "Mongo.command(DATABASE, \"\"\"\n",
    "db.getCollection('links').createIndex(\n",
    "    { \"movieId\": 1 }, \n",
    "    { \n",
    "        unique: true, \n",
    "        name: \"movieId_unique_index\"\n",
    "    }\n",
    ");\n",
    "\"\"\")"
   ]
  },
  {
   "cell_type": "code",
   "execution_count": 23,
   "id": "b905d9bd-ceb7-4b07-b562-a4969e68c226",
   "metadata": {
    "tags": []
   },
   "outputs": [
    {
     "name": "stderr",
     "output_type": "stream",
     "text": [
      "2023-11-06 22:03:44,166 - INFO - Success: b\"Current Mongosh Log ID:  65498cef422274b5b8fef5deConnecting to:    mongodb://127.0.0.1:27017/?directConnection=true&serverSelectionTimeoutMS=2000&appName=mongosh+2.0.2Using MongoDB:    7.0.2Using Mongosh:    2.0.2For mongosh info see: https://docs.mongodb.com/mongodb-shell/------   The server generated these startup warnings when booting   2023-11-05T21:47:06.079-03:00: Using the XFS filesystem is strongly recommended with the WiredTiger storage engine. See http://dochub.mongodb.org/core/prodnotes-filesystem   2023-11-05T21:47:06.325-03:00: Access control is not enabled for the database. Read and write access to data and configuration is unrestricted   2023-11-05T21:47:06.325-03:00: /sys/kernel/mm/transparent_hugepage/enabled is 'always'. We suggest setting it to 'never'   2023-11-05T21:47:06.325-03:00: vm.max_map_count is too low------Loading file: /tmp/query.js\"\n"
     ]
    }
   ],
   "source": [
    "Mongo.command(DATABASE, \"\"\"\n",
    "db.getCollection('movies_metadata_v2').createIndex(\n",
    "    { \"imdb_id\": 1 }, \n",
    "    { unique: false, name: \"imdb_id_multiple_index\" }\n",
    ");\n",
    "\"\"\")"
   ]
  },
  {
   "cell_type": "markdown",
   "id": "7d7553f3-e62e-47de-9f94-6bb9f465e547",
   "metadata": {},
   "source": [
    "#### 4. Add imdb features to movies collection"
   ]
  },
  {
   "cell_type": "code",
   "execution_count": 24,
   "id": "6480cdb0-15e2-411b-bb0e-33a1fe0e3042",
   "metadata": {
    "tags": []
   },
   "outputs": [
    {
     "name": "stderr",
     "output_type": "stream",
     "text": [
      "2023-11-06 22:04:23,758 - INFO - Success: b\"Current Mongosh Log ID:  65498d130113f1729dba33ceConnecting to:    mongodb://127.0.0.1:27017/?directConnection=true&serverSelectionTimeoutMS=2000&appName=mongosh+2.0.2Using MongoDB:    7.0.2Using Mongosh:    2.0.2For mongosh info see: https://docs.mongodb.com/mongodb-shell/------   The server generated these startup warnings when booting   2023-11-05T21:47:06.079-03:00: Using the XFS filesystem is strongly recommended with the WiredTiger storage engine. See http://dochub.mongodb.org/core/prodnotes-filesystem   2023-11-05T21:47:06.325-03:00: Access control is not enabled for the database. Read and write access to data and configuration is unrestricted   2023-11-05T21:47:06.325-03:00: /sys/kernel/mm/transparent_hugepage/enabled is 'always'. We suggest setting it to 'never'   2023-11-05T21:47:06.325-03:00: vm.max_map_count is too low------Loading file: /tmp/query.js\"\n"
     ]
    }
   ],
   "source": [
    "Mongo.command(DATABASE, \"\"\"\n",
    "db.getCollection('movies').aggregate([\n",
    "    {\n",
    "        $lookup:\n",
    "          {\n",
    "            from: \"links\",\n",
    "            foreignField: \"movieId\",\n",
    "            localField: \"movieId\", \n",
    "            as: \"links\"\n",
    "          }\n",
    "     },\n",
    "     { $match: { links: { $exists: true, $not: {$size: 0} } } },\n",
    "     { \n",
    "        $project: { \n",
    "            id: \"$movieId\",\n",
    "            tmdb_id:      { \"$arrayElemAt\": [\"$links.tmdbId\", 0] },\n",
    "            imdb_id:      { \"$arrayElemAt\": [\"$links.imdbId\", 0] },\n",
    "            title:        { $arrayElemAt:   [ {$split:[\"$title\",\"(\"]} ,  0 ] },\n",
    "            release_year: { $arrayElemAt:   [ {$split:[\"$title\",\"(\"]} ,  1 ] },\n",
    "            genres:       { $split:         [ \"$genres\", \"|\" ] }\n",
    "        } \n",
    "    }, \n",
    "    {\n",
    "        $lookup:\n",
    "          {\n",
    "            from: \"movies_metadata_v2\",\n",
    "            foreignField: \"imdb_id\",\n",
    "            localField: \"imdb_id\", \n",
    "            as: \"movies_metadata\"\n",
    "          }\n",
    "     },\n",
    "     { $match: {  movies_metadata: { $exists: true, $not: {$size: 0} } } },\n",
    "     { \n",
    "        $project: { \n",
    "            id: 1,\n",
    "            tmdb_id: 1,\n",
    "            imdb_id: 1,\n",
    "            title: 1,\n",
    "            genres: 1,\n",
    "            for_adults:        { \"$arrayElemAt\": [\"$movies_metadata.adult\", 0] },\n",
    "            budget:            { \"$arrayElemAt\": [\"$movies_metadata.budget\", 0] },\n",
    "            original_language: { \"$arrayElemAt\": [\"$movies_metadata.original_language\", 0] },\n",
    "            overview:          { \"$arrayElemAt\": [\"$movies_metadata.overview\", 0] },\n",
    "            poster:            { \"$arrayElemAt\": [\"$movies_metadata.poster_path\", 0] },\n",
    "            release:           { \"$arrayElemAt\": [\"$movies_metadata.release_date\", 0] },\n",
    "            popularity:        { \"$arrayElemAt\": [\"$movies_metadata.popularity\", 0] },\n",
    "            vote_mean:         { \"$arrayElemAt\": [\"$movies_metadata.vote_average\", 0] },\n",
    "            vote_count:        { \"$arrayElemAt\": [\"$movies_metadata.vote_count\", 0] }\n",
    "        }\n",
    "    },\n",
    "    { $out: \"movies_v2\" }\n",
    "]);\n",
    "\"\"\")"
   ]
  },
  {
   "cell_type": "markdown",
   "id": "9fa5fecd-279c-421d-8b99-11404bc29050",
   "metadata": {},
   "source": [
    "#### 5. Group tags per used, movie pair."
   ]
  },
  {
   "cell_type": "code",
   "execution_count": 25,
   "id": "fe1ce525-1300-485a-8310-f372577c7eb6",
   "metadata": {
    "tags": []
   },
   "outputs": [
    {
     "name": "stderr",
     "output_type": "stream",
     "text": [
      "2023-11-06 22:04:55,793 - INFO - Success: b\"Current Mongosh Log ID:  65498d337fa0df8ae99f338fConnecting to:    mongodb://127.0.0.1:27017/?directConnection=true&serverSelectionTimeoutMS=2000&appName=mongosh+2.0.2Using MongoDB:    7.0.2Using Mongosh:    2.0.2For mongosh info see: https://docs.mongodb.com/mongodb-shell/------   The server generated these startup warnings when booting   2023-11-05T21:47:06.079-03:00: Using the XFS filesystem is strongly recommended with the WiredTiger storage engine. See http://dochub.mongodb.org/core/prodnotes-filesystem   2023-11-05T21:47:06.325-03:00: Access control is not enabled for the database. Read and write access to data and configuration is unrestricted   2023-11-05T21:47:06.325-03:00: /sys/kernel/mm/transparent_hugepage/enabled is 'always'. We suggest setting it to 'never'   2023-11-05T21:47:06.325-03:00: vm.max_map_count is too low------Loading file: /tmp/query.js\"\n"
     ]
    }
   ],
   "source": [
    "Mongo.command(DATABASE, \"\"\"\n",
    "db.getCollection('tags').aggregate(\n",
    "    [\n",
    "        { \n",
    "            $group: {\n",
    "                _id: {\n",
    "                    user_id: \"$userId\",\n",
    "                    movie_id: \"$movieId\"\n",
    "                },\n",
    "                tags: { $push: { $toLower: \"$tag\" } }\n",
    "            }\n",
    "        },\n",
    "        {\n",
    "          $project: {\n",
    "            _id: 0,\n",
    "            user_id: \"$_id.user_id\",\n",
    "            movie_id: \"$_id.movie_id\",\n",
    "            user_movie_id: { $concat: [ { $toString: \"$_id.user_id\" } , \"_\", { $toString:\"$_id.movie_id\"} ] },\n",
    "            tags: 1\n",
    "          }  \n",
    "        },\n",
    "        { $out: \"tags_v2\" }\n",
    "    ]\n",
    ");\n",
    "\"\"\")"
   ]
  },
  {
   "cell_type": "markdown",
   "id": "89093d87-5a31-4714-b6c2-61bf849c46cd",
   "metadata": {},
   "source": [
    "#### 6. Create used_movie_id into new tags_v2 collection."
   ]
  },
  {
   "cell_type": "code",
   "execution_count": 26,
   "id": "93abf162-3cf6-42b7-9dbc-ae121d016330",
   "metadata": {
    "tags": []
   },
   "outputs": [
    {
     "name": "stderr",
     "output_type": "stream",
     "text": [
      "2023-11-06 22:05:22,007 - INFO - Success: b\"Current Mongosh Log ID:  65498d5065e51004a57045adConnecting to:    mongodb://127.0.0.1:27017/?directConnection=true&serverSelectionTimeoutMS=2000&appName=mongosh+2.0.2Using MongoDB:    7.0.2Using Mongosh:    2.0.2For mongosh info see: https://docs.mongodb.com/mongodb-shell/------   The server generated these startup warnings when booting   2023-11-05T21:47:06.079-03:00: Using the XFS filesystem is strongly recommended with the WiredTiger storage engine. See http://dochub.mongodb.org/core/prodnotes-filesystem   2023-11-05T21:47:06.325-03:00: Access control is not enabled for the database. Read and write access to data and configuration is unrestricted   2023-11-05T21:47:06.325-03:00: /sys/kernel/mm/transparent_hugepage/enabled is 'always'. We suggest setting it to 'never'   2023-11-05T21:47:06.325-03:00: vm.max_map_count is too low------Loading file: /tmp/query.js\"\n"
     ]
    }
   ],
   "source": [
    "Mongo.command(DATABASE, \"\"\"\n",
    "db.getCollection('tags_v2').createIndex(\n",
    "    { 'user_movie_id': 1 }, \n",
    "    { unique: true, name: 'id_unique_index' }\n",
    ")\n",
    "\"\"\")"
   ]
  },
  {
   "cell_type": "markdown",
   "id": "c3955bf2-721a-4adc-9451-a94921fbb9e3",
   "metadata": {},
   "source": [
    "#### 7. Add used_movie_id fields into new ratings_v2 collection and also create a unique index."
   ]
  },
  {
   "cell_type": "code",
   "execution_count": 27,
   "id": "284578e5-db33-494f-9636-0c0520c501e9",
   "metadata": {
    "tags": []
   },
   "outputs": [
    {
     "name": "stderr",
     "output_type": "stream",
     "text": [
      "2023-11-06 22:07:07,014 - INFO - Success: b\"Current Mongosh Log ID:  65498d62077688d1cdafbe43Connecting to:    mongodb://127.0.0.1:27017/?directConnection=true&serverSelectionTimeoutMS=2000&appName=mongosh+2.0.2Using MongoDB:    7.0.2Using Mongosh:    2.0.2For mongosh info see: https://docs.mongodb.com/mongodb-shell/------   The server generated these startup warnings when booting   2023-11-05T21:47:06.079-03:00: Using the XFS filesystem is strongly recommended with the WiredTiger storage engine. See http://dochub.mongodb.org/core/prodnotes-filesystem   2023-11-05T21:47:06.325-03:00: Access control is not enabled for the database. Read and write access to data and configuration is unrestricted   2023-11-05T21:47:06.325-03:00: /sys/kernel/mm/transparent_hugepage/enabled is 'always'. We suggest setting it to 'never'   2023-11-05T21:47:06.325-03:00: vm.max_map_count is too low------Loading file: /tmp/query.js\"\n"
     ]
    }
   ],
   "source": [
    "Mongo.command(DATABASE, \"\"\"\n",
    "db.getCollection('ratings').aggregate([\n",
    "        {\n",
    "          $project: {\n",
    "            user_id: \"$userId\",\n",
    "            movie_id: \"$movieId\",\n",
    "            user_movie_id: { $concat: [ { $toString: \"$userId\" } , \"_\", { $toString:\"$movieId\"} ] },\n",
    "            rating: 1,\n",
    "            timestamp: 1\n",
    "          }  \n",
    "        },\n",
    "        { $out: \"ratings_v2\" }\n",
    "    ]\n",
    ");\n",
    "\"\"\")"
   ]
  },
  {
   "cell_type": "markdown",
   "id": "ac78f8b2-b4f4-4fa8-ba15-9a0549f58c3f",
   "metadata": {},
   "source": [
    "Remove duplicates documents by ratings_v3."
   ]
  },
  {
   "cell_type": "code",
   "execution_count": 31,
   "id": "dec42930-9932-4964-8bc5-3656a1ff4196",
   "metadata": {
    "tags": []
   },
   "outputs": [
    {
     "name": "stderr",
     "output_type": "stream",
     "text": [
      "2023-11-06 23:46:50,940 - INFO - Success: b\"Current Mongosh Log ID:  6549a45b8ea27b7f75320d8fConnecting to:    mongodb://127.0.0.1:27017/?directConnection=true&serverSelectionTimeoutMS=2000&appName=mongosh+2.0.2Using MongoDB:    7.0.2Using Mongosh:    2.0.2For mongosh info see: https://docs.mongodb.com/mongodb-shell/------   The server generated these startup warnings when booting   2023-11-06T23:33:42.422-03:00: Using the XFS filesystem is strongly recommended with the WiredTiger storage engine. See http://dochub.mongodb.org/core/prodnotes-filesystem   2023-11-06T23:33:42.706-03:00: Access control is not enabled for the database. Read and write access to data and configuration is unrestricted   2023-11-06T23:33:42.706-03:00: /sys/kernel/mm/transparent_hugepage/enabled is 'always'. We suggest setting it to 'never'   2023-11-06T23:33:42.706-03:00: vm.max_map_count is too low------Loading file: /tmp/query.js\"\n"
     ]
    }
   ],
   "source": [
    "Mongo.command(DATABASE, \"\"\"\n",
    "db.ratings_v2.aggregate([\n",
    "    { \n",
    "        $group: { _id: \"$user_movie_id\", doc: { $first: \"$$ROOT\" } }\n",
    "    },\n",
    "    { \n",
    "        $replaceRoot: { newRoot: \"$doc\" }\n",
    "    },\n",
    "    { $out: \"ratings_v3\" }\n",
    "]);\n",
    "\"\"\")"
   ]
  },
  {
   "cell_type": "code",
   "execution_count": 32,
   "id": "66765fab-0024-48e1-9005-41a2c49baaad",
   "metadata": {
    "tags": []
   },
   "outputs": [
    {
     "name": "stderr",
     "output_type": "stream",
     "text": [
      "2023-11-06 23:47:29,159 - INFO - Success: b\"Current Mongosh Log ID:  6549a5232f6208bc7c0534fcConnecting to:    mongodb://127.0.0.1:27017/?directConnection=true&serverSelectionTimeoutMS=2000&appName=mongosh+2.0.2Using MongoDB:    7.0.2Using Mongosh:    2.0.2For mongosh info see: https://docs.mongodb.com/mongodb-shell/------   The server generated these startup warnings when booting   2023-11-06T23:33:42.422-03:00: Using the XFS filesystem is strongly recommended with the WiredTiger storage engine. See http://dochub.mongodb.org/core/prodnotes-filesystem   2023-11-06T23:33:42.706-03:00: Access control is not enabled for the database. Read and write access to data and configuration is unrestricted   2023-11-06T23:33:42.706-03:00: /sys/kernel/mm/transparent_hugepage/enabled is 'always'. We suggest setting it to 'never'   2023-11-06T23:33:42.706-03:00: vm.max_map_count is too low------Loading file: /tmp/query.js\"\n"
     ]
    }
   ],
   "source": [
    "Mongo.command(DATABASE, \"\"\"\n",
    "db.getCollection('ratings_v3').createIndex(\n",
    "    { 'user_movie_id': 1 }, \n",
    "    { unique: true, name: 'id_unique_index' }\n",
    ");\n",
    "\"\"\")"
   ]
  },
  {
   "cell_type": "markdown",
   "id": "b598294d-94a9-4c6f-beb4-cef5f0537221",
   "metadata": {},
   "source": [
    "#### 8. Join ratting_v2 and tags_v2 collections by user_movie_id into a new ratings_tags_v1 collection."
   ]
  },
  {
   "cell_type": "code",
   "execution_count": 33,
   "id": "def09aec-1ef3-4119-b37e-65f793ae5c4c",
   "metadata": {
    "tags": []
   },
   "outputs": [
    {
     "name": "stderr",
     "output_type": "stream",
     "text": [
      "2023-11-06 23:49:52,345 - INFO - Success: b\"Current Mongosh Log ID:  6549a57666e6ce4df523da2bConnecting to:    mongodb://127.0.0.1:27017/?directConnection=true&serverSelectionTimeoutMS=2000&appName=mongosh+2.0.2Using MongoDB:    7.0.2Using Mongosh:    2.0.2For mongosh info see: https://docs.mongodb.com/mongodb-shell/------   The server generated these startup warnings when booting   2023-11-06T23:33:42.422-03:00: Using the XFS filesystem is strongly recommended with the WiredTiger storage engine. See http://dochub.mongodb.org/core/prodnotes-filesystem   2023-11-06T23:33:42.706-03:00: Access control is not enabled for the database. Read and write access to data and configuration is unrestricted   2023-11-06T23:33:42.706-03:00: /sys/kernel/mm/transparent_hugepage/enabled is 'always'. We suggest setting it to 'never'   2023-11-06T23:33:42.706-03:00: vm.max_map_count is too low------Loading file: /tmp/query.js\"\n"
     ]
    }
   ],
   "source": [
    "Mongo.command(DATABASE, \"\"\"\n",
    "db.getCollection('ratings_v3').aggregate([\n",
    "    {\n",
    "        $lookup:\n",
    "          {\n",
    "            from: \"tags_v2\",\n",
    "            foreignField: \"user_movie_id\",\n",
    "            localField: \"user_movie_id\", \n",
    "            as: \"tags_v2\"\n",
    "          }\n",
    "     },\n",
    "     { $match: { tags_v2: { $exists: true, $not: {$size: 0} } } },\n",
    "     { \n",
    "        $project: { \n",
    "            user_id: 1,\n",
    "            movie_id: 1,\n",
    "            rating: 1,\n",
    "            timestamp: 1,\n",
    "            tags: \"$tags_v2.tags\"\n",
    "        }\n",
    "    },\n",
    "    {\n",
    "        $addFields: {  \n",
    "            _id: { $concat: [ { $toString: \"$user_id\" } , \"_\", { $toString:\"$movie_id\"} ] },            \n",
    "            tags: {\n",
    "                \"$reduce\": {\n",
    "                    \"input\": \"$tags\",\n",
    "                    \"initialValue\": [],\n",
    "                    \"in\": { \"$setUnion\": [ \"$$value\", \"$$this\" ] }\n",
    "                }\n",
    "            }\n",
    "        }\n",
    "    },\n",
    "    { $out: \"ratings_tags_v1\" }\n",
    "]);\n",
    "\"\"\")"
   ]
  },
  {
   "cell_type": "markdown",
   "id": "d19b6091-b81e-4da8-98b9-86a9c1459f4b",
   "metadata": {},
   "source": [
    "#### 9. Add tags field into movie_v2 collections:"
   ]
  },
  {
   "cell_type": "code",
   "execution_count": 34,
   "id": "b0c645dd-8960-4017-a593-6388e7dca927",
   "metadata": {
    "tags": []
   },
   "outputs": [
    {
     "name": "stderr",
     "output_type": "stream",
     "text": [
      "2023-11-06 23:51:00,991 - INFO - Success: b\"Current Mongosh Log ID:  6549a613d2d9e4fb8d47ec96Connecting to:    mongodb://127.0.0.1:27017/?directConnection=true&serverSelectionTimeoutMS=2000&appName=mongosh+2.0.2Using MongoDB:    7.0.2Using Mongosh:    2.0.2For mongosh info see: https://docs.mongodb.com/mongodb-shell/------   The server generated these startup warnings when booting   2023-11-06T23:33:42.422-03:00: Using the XFS filesystem is strongly recommended with the WiredTiger storage engine. See http://dochub.mongodb.org/core/prodnotes-filesystem   2023-11-06T23:33:42.706-03:00: Access control is not enabled for the database. Read and write access to data and configuration is unrestricted   2023-11-06T23:33:42.706-03:00: /sys/kernel/mm/transparent_hugepage/enabled is 'always'. We suggest setting it to 'never'   2023-11-06T23:33:42.706-03:00: vm.max_map_count is too low------Loading file: /tmp/query.js\"\n"
     ]
    }
   ],
   "source": [
    "Mongo.command(DATABASE, \"\"\"\n",
    "db.getCollection('movies_v2').createIndex(\n",
    "    { 'id': 1 }, \n",
    "    { unique: true, name: 'id_unique_index' }\n",
    ")\n",
    "\"\"\")"
   ]
  },
  {
   "cell_type": "code",
   "execution_count": 36,
   "id": "8dd00126-e0d6-4bc2-abd8-c5ddf9ecc0e9",
   "metadata": {
    "tags": []
   },
   "outputs": [
    {
     "name": "stderr",
     "output_type": "stream",
     "text": [
      "2023-11-06 23:54:36,757 - INFO - Success: b\"Current Mongosh Log ID:  6549a6eb83624fe2ca200310Connecting to:    mongodb://127.0.0.1:27017/?directConnection=true&serverSelectionTimeoutMS=2000&appName=mongosh+2.0.2Using MongoDB:    7.0.2Using Mongosh:    2.0.2For mongosh info see: https://docs.mongodb.com/mongodb-shell/------   The server generated these startup warnings when booting   2023-11-06T23:33:42.422-03:00: Using the XFS filesystem is strongly recommended with the WiredTiger storage engine. See http://dochub.mongodb.org/core/prodnotes-filesystem   2023-11-06T23:33:42.706-03:00: Access control is not enabled for the database. Read and write access to data and configuration is unrestricted   2023-11-06T23:33:42.706-03:00: /sys/kernel/mm/transparent_hugepage/enabled is 'always'. We suggest setting it to 'never'   2023-11-06T23:33:42.706-03:00: vm.max_map_count is too low------Loading file: /tmp/query.js\"\n"
     ]
    }
   ],
   "source": [
    "Mongo.command(DATABASE, \"\"\"\n",
    "db.tags_v2.aggregate([\n",
    "    { \n",
    "        $group: { _id: \"$movie_id\", doc: { $first: \"$$ROOT\" } }\n",
    "    },\n",
    "    { \n",
    "        $replaceRoot: { newRoot: \"$doc\" }\n",
    "    },\n",
    "    { $out: \"tags_v3\" }\n",
    "]);\n",
    "\"\"\")"
   ]
  },
  {
   "cell_type": "code",
   "execution_count": 37,
   "id": "91cfae63-b30c-4f62-9f43-713283970df6",
   "metadata": {
    "tags": []
   },
   "outputs": [
    {
     "name": "stderr",
     "output_type": "stream",
     "text": [
      "2023-11-06 23:54:57,804 - INFO - Success: b\"Current Mongosh Log ID:  6549a700a5a4401f25f4fab9Connecting to:    mongodb://127.0.0.1:27017/?directConnection=true&serverSelectionTimeoutMS=2000&appName=mongosh+2.0.2Using MongoDB:    7.0.2Using Mongosh:    2.0.2For mongosh info see: https://docs.mongodb.com/mongodb-shell/------   The server generated these startup warnings when booting   2023-11-06T23:33:42.422-03:00: Using the XFS filesystem is strongly recommended with the WiredTiger storage engine. See http://dochub.mongodb.org/core/prodnotes-filesystem   2023-11-06T23:33:42.706-03:00: Access control is not enabled for the database. Read and write access to data and configuration is unrestricted   2023-11-06T23:33:42.706-03:00: /sys/kernel/mm/transparent_hugepage/enabled is 'always'. We suggest setting it to 'never'   2023-11-06T23:33:42.706-03:00: vm.max_map_count is too low------Loading file: /tmp/query.js\"\n"
     ]
    }
   ],
   "source": [
    "Mongo.command(DATABASE, \"\"\"\n",
    "db.getCollection('tags_v3').createIndex(\n",
    "    { 'movie_id': 1 }, \n",
    "    { unique: true, name: 'id_unique_index' }\n",
    ")\n",
    "\"\"\")"
   ]
  },
  {
   "cell_type": "code",
   "execution_count": 38,
   "id": "79fde1d7-f21d-4df4-86a5-1e54f0b58593",
   "metadata": {
    "tags": []
   },
   "outputs": [
    {
     "name": "stderr",
     "output_type": "stream",
     "text": [
      "2023-11-06 23:56:04,891 - INFO - Success: b\"Current Mongosh Log ID:  6549a74347aba369977073ddConnecting to:    mongodb://127.0.0.1:27017/?directConnection=true&serverSelectionTimeoutMS=2000&appName=mongosh+2.0.2Using MongoDB:    7.0.2Using Mongosh:    2.0.2For mongosh info see: https://docs.mongodb.com/mongodb-shell/------   The server generated these startup warnings when booting   2023-11-06T23:33:42.422-03:00: Using the XFS filesystem is strongly recommended with the WiredTiger storage engine. See http://dochub.mongodb.org/core/prodnotes-filesystem   2023-11-06T23:33:42.706-03:00: Access control is not enabled for the database. Read and write access to data and configuration is unrestricted   2023-11-06T23:33:42.706-03:00: /sys/kernel/mm/transparent_hugepage/enabled is 'always'. We suggest setting it to 'never'   2023-11-06T23:33:42.706-03:00: vm.max_map_count is too low------Loading file: /tmp/query.js\"\n"
     ]
    }
   ],
   "source": [
    "Mongo.command(DATABASE, \"\"\"\n",
    "db.getCollection('movies_v2').aggregate([\n",
    "    {\n",
    "        $lookup:\n",
    "          {\n",
    "            from: \"tags_v3\",\n",
    "            foreignField: \"movie_id\",\n",
    "            localField: \"id\",\n",
    "            as: \"tags_v3\"\n",
    "          }\n",
    "    },\n",
    "    { $match: { tags_v3: { $exists: true, $not: {$size: 0} } } },\n",
    "    { \n",
    "        $addFields: { \n",
    "            tags: {\n",
    "                \"$reduce\": {\n",
    "                    \"input\": \"$tags_v3.tags\",\n",
    "                    \"initialValue\": [],\n",
    "                    \"in\": { \"$setUnion\": [ \"$$value\", \"$$this\" ] }\n",
    "                }\n",
    "            }\n",
    "        }\n",
    "    },\n",
    "    { $unset: [\"tags_v3\"] },\n",
    "    { $addFields: {  _id: \"$id\" } },\n",
    "    { $unset: [\"id\"] },\n",
    "    { $out: \"movies_v3\" }\n",
    "]);\n",
    "\"\"\")"
   ]
  },
  {
   "cell_type": "markdown",
   "id": "c37343ba-a719-4992-b145-febda7616dd4",
   "metadata": {},
   "source": [
    "#### 10. Export final ccollections to json files:\n",
    "\n",
    "* movies_v3 to movies_v3.json\n",
    "* ratings_tags_v1 to ratings_tags_v1.json"
   ]
  },
  {
   "cell_type": "code",
   "execution_count": 39,
   "id": "d56c0ce2-3ed4-4e63-9019-76f2ed54bca9",
   "metadata": {},
   "outputs": [
    {
     "name": "stderr",
     "output_type": "stream",
     "text": [
      "2023-11-06 23:59:03,293 - INFO - Success: b'2023-11-06T23:59:02.504-0300  connected to: mongodb://localhost/2023-11-06T23:59:03.291-0300  exported 35149 records'\n"
     ]
    }
   ],
   "source": [
    "Mongo.export_to_json(database='movies', path=DATASETS_PATH, collections=['movies_v3'])"
   ]
  },
  {
   "cell_type": "code",
   "execution_count": 40,
   "id": "9ee87762-4b54-455a-a3cb-f6d689107593",
   "metadata": {},
   "outputs": [
    {
     "name": "stderr",
     "output_type": "stream",
     "text": [
      "2023-11-06 23:59:06,007 - INFO - Success: b'2023-11-06T23:59:03.974-0300  connected to: mongodb://localhost/2023-11-06T23:59:04.975-0300  [##########..............]  movies.ratings_tags_v1  96000/210725  (45.6%)2023-11-06T23:59:05.975-0300  [######################..]  movies.ratings_tags_v1  200000/210725  (94.9%)2023-11-06T23:59:06.002-0300  [########################]  movies.ratings_tags_v1  210725/210725  (100.0%)2023-11-06T23:59:06.002-0300  exported 210725 records'\n"
     ]
    }
   ],
   "source": [
    "Mongo.export_to_json(database='movies', path=DATASETS_PATH, collections=['ratings_tags_v1'])"
   ]
  }
 ],
 "metadata": {
  "kernelspec": {
   "display_name": "Python 3 (ipykernel)",
   "language": "python",
   "name": "python3"
  },
  "language_info": {
   "codemirror_mode": {
    "name": "ipython",
    "version": 3
   },
   "file_extension": ".py",
   "mimetype": "text/x-python",
   "name": "python",
   "nbconvert_exporter": "python",
   "pygments_lexer": "ipython3",
   "version": "3.10.12"
  },
  "widgets": {
   "application/vnd.jupyter.widget-state+json": {
    "state": {},
    "version_major": 2,
    "version_minor": 0
   }
  }
 },
 "nbformat": 4,
 "nbformat_minor": 5
}
