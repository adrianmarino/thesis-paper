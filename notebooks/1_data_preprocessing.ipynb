{
 "cells": [
  {
   "cell_type": "markdown",
   "id": "81c8f71c-7e73-468c-a05d-8997004f5186",
   "metadata": {},
   "source": [
    "# Data pre-processing\n",
    "\n",
    "Para tener los datos necesario para probar los enfoques de filtros colaborativos(CF) y basados en contenido(CB) necesito:\n",
    "\n",
    "* Calificaciones de los ítems(movies) de los usuarios (CF)\n",
    "* Features propies de los ítems (CB)\n",
    "\n",
    "Dado esto, a continuacion se combinaran los siguientes datasets:\n",
    "\n",
    "* MovieLens 25M Dataset: Prácticamente no tiene información de las películas pero si tiene las calificaciones de los usuarios.\n",
    "* TMDB Movie Dataset: No tiene calificaciones personalizadas como el dataset anterior pero tiene varios features para las películas que es lo que necesito."
   ]
  },
  {
   "cell_type": "markdown",
   "id": "71bda2c0-ec9a-4f4d-acad-3d2035dd3119",
   "metadata": {},
   "source": [
    "## Setup"
   ]
  },
  {
   "cell_type": "code",
   "execution_count": 1,
   "id": "ac8cd4ad-1634-4880-8dc3-ea2b6e0f3225",
   "metadata": {
    "tags": []
   },
   "outputs": [],
   "source": [
    "%load_ext autoreload\n",
    "%autoreload 2\n",
    "\n",
    "BASE_PATH       = '..'\n",
    "DATASETS_PATH   = f'{BASE_PATH}/datasets'\n",
    "MOVIE_LENS_PATH = f'{DATASETS_PATH}/ml-25m'\n",
    "TMDB_PATH       = f'{DATASETS_PATH}/tmdb'"
   ]
  },
  {
   "cell_type": "code",
   "execution_count": 2,
   "id": "f98e7bf4-f41a-43f6-b7b7-a991d00f82de",
   "metadata": {
    "tags": []
   },
   "outputs": [],
   "source": [
    "import sys\n",
    "sys.path.append(f'{BASE_PATH}/lib')\n",
    "\n",
    "from database.mongo import Mongo\n",
    "from pytorch_common.util import LoggerBuilder"
   ]
  },
  {
   "cell_type": "code",
   "execution_count": 3,
   "id": "e60a3838-9787-411d-b9f1-8a942321cbb1",
   "metadata": {
    "tags": []
   },
   "outputs": [
    {
     "data": {
      "text/plain": [
       "<RootLogger root (INFO)>"
      ]
     },
     "execution_count": 3,
     "metadata": {},
     "output_type": "execute_result"
    }
   ],
   "source": [
    "LoggerBuilder().on_console().build()"
   ]
  },
  {
   "cell_type": "markdown",
   "id": "4da40dcd-d4a6-404e-969f-c466d9ca8c1d",
   "metadata": {},
   "source": [
    "# Pre-processing steps"
   ]
  },
  {
   "cell_type": "markdown",
   "id": "e83eec29-6968-40ce-9298-c68c873f8142",
   "metadata": {},
   "source": [
    "#### 1. Import five collecitons to **movies** mongodb database:\n",
    "\n",
    "    * From movie lens dataset:\n",
    "        * rattings\n",
    "        * movies\n",
    "        * links\n",
    "        * tags\n",
    "    * From the movie database dataset:\n",
    "        * movies_metadata"
   ]
  },
  {
   "cell_type": "code",
   "execution_count": null,
   "id": "ea045617-9cc9-45ae-ad43-9939ab780d51",
   "metadata": {
    "tags": []
   },
   "outputs": [],
   "source": [
    "!mkdir -p {DATASETS_PATH}\n",
    "\n",
    "!cd {DATASETS_PATH}; curl -LO http://files.grouplens.org/datasets/movielens/ml-25m.zip\n",
    "\n",
    "!cd {DATASETS_PATH}; unzip -o ml-25m.zip"
   ]
  },
  {
   "cell_type": "code",
   "execution_count": null,
   "id": "2755acc3-4963-4ddd-9071-3b16508685a5",
   "metadata": {
    "tags": []
   },
   "outputs": [],
   "source": [
    "!mkdir -p {TMDB_PATH}"
   ]
  },
  {
   "cell_type": "markdown",
   "id": "86a76190-7993-4d56-9daf-9f1900e7cdd5",
   "metadata": {},
   "source": [
    "Download TMDB dataset from [Here](https://www.kaggle.com/datasets/tmdb/tmdb-movie-metadata) (archive.zip file) into next directory:"
   ]
  },
  {
   "cell_type": "code",
   "execution_count": null,
   "id": "7a9f6653-2d6a-49cc-a810-2ee64428efca",
   "metadata": {
    "tags": []
   },
   "outputs": [],
   "source": [
    "TMDB_PATH"
   ]
  },
  {
   "cell_type": "code",
   "execution_count": null,
   "id": "455c879a-fbbf-4e6e-93de-fcd4ee2255d8",
   "metadata": {
    "tags": []
   },
   "outputs": [],
   "source": [
    "!cd {TMDB_PATH}; unzip -o archive.zip\n",
    "!cd {TMDB_PATH}; mv tmdb_5000_movies.csv movies_metadata.csv"
   ]
  },
  {
   "cell_type": "code",
   "execution_count": 4,
   "id": "2be7c711-09b2-4d2f-a632-3aeffc5fbbb8",
   "metadata": {
    "tags": []
   },
   "outputs": [],
   "source": [
    "MOVIE_LENS_FILES = [ f'{MOVIE_LENS_PATH}/{f}' for f in [ \n",
    "    'ratings.csv',\n",
    "    'movies.csv',\n",
    "    'links.csv',\n",
    "    'tags.csv'\n",
    "]]\n",
    "TMDB_FILES = [ f'{TMDB_PATH}/movies_metadata.csv']"
   ]
  },
  {
   "cell_type": "code",
   "execution_count": 5,
   "id": "814eee97-4de9-4a59-9862-995cdfe2af7a",
   "metadata": {
    "tags": []
   },
   "outputs": [
    {
     "data": {
      "text/plain": [
       "['../datasets/ml-25m/ratings.csv',\n",
       " '../datasets/ml-25m/movies.csv',\n",
       " '../datasets/ml-25m/links.csv',\n",
       " '../datasets/ml-25m/tags.csv']"
      ]
     },
     "execution_count": 5,
     "metadata": {},
     "output_type": "execute_result"
    }
   ],
   "source": [
    "MOVIE_LENS_FILES"
   ]
  },
  {
   "cell_type": "code",
   "execution_count": 6,
   "id": "74db4ebe-ab06-4a59-bc3f-867d26bc3248",
   "metadata": {
    "tags": []
   },
   "outputs": [
    {
     "data": {
      "text/plain": [
       "['../datasets/tmdb/movies_metadata.csv']"
      ]
     },
     "execution_count": 6,
     "metadata": {},
     "output_type": "execute_result"
    }
   ],
   "source": [
    "TMDB_FILES"
   ]
  },
  {
   "cell_type": "code",
   "execution_count": 25,
   "id": "5578fd68-faca-43fc-becb-81e48b09949e",
   "metadata": {
    "tags": []
   },
   "outputs": [
    {
     "name": "stderr",
     "output_type": "stream",
     "text": [
      "2023-11-05 14:25:48,068 - INFO - Success: b'2023-11-05T14:25:46.886-0300  connected to: mongodb://localhost/2023-11-05T14:25:48.062-0300  62423 document(s) imported successfully. 0 document(s) failed to import.'\n"
     ]
    }
   ],
   "source": [
    "Mongo.import_csv(database = 'movies', file_paths = ['../datasets/ml-25m/links.csv'])"
   ]
  },
  {
   "cell_type": "code",
   "execution_count": 7,
   "id": "9b0f8794-d2a2-4b71-bb70-d138f54f849d",
   "metadata": {
    "tags": []
   },
   "outputs": [
    {
     "name": "stderr",
     "output_type": "stream",
     "text": [
      "2023-11-05 14:00:50,844 - INFO - Success: b'2023-11-05T14:00:50.590-0300  connected to: mongodb://localhost/2023-11-05T14:00:50.843-0300  4803 document(s) imported successfully. 0 document(s) failed to import.'\n"
     ]
    }
   ],
   "source": [
    "Mongo.import_csv(database = 'movies', file_paths = TMDB_FILES)"
   ]
  },
  {
   "cell_type": "code",
   "execution_count": 31,
   "id": "be14dfe7-52b4-4e69-bfc9-0469f0f1df7e",
   "metadata": {
    "tags": []
   },
   "outputs": [
    {
     "name": "stderr",
     "output_type": "stream",
     "text": [
      "2023-11-05 12:02:59,602 - INFO - import ratings collection...\n",
      "2023-11-05 12:02:59,607 - INFO - import movies collection...\n",
      "2023-11-05 12:02:59,613 - INFO - import links collection...\n",
      "2023-11-05 12:02:59,619 - INFO - import tags collection...\n",
      "2023-11-05 12:10:10,289 - INFO - b'2023-11-05T12:02:59.623-0300  connected to: mongodb://localhost/2023-11-05T12:03:02.624-0300  [........................] movies.ratings  8.36MB/647MB (1.3%)2023-11-05T12:03:05.624-0300  [........................] movies.ratings  16.9MB/647MB (2.6%)2023-11-05T12:03:08.624-0300  [........................] movies.ratings  25.1MB/647MB (3.9%)2023-11-05T12:03:11.624-0300  [#.......................] movies.ratings  30.4MB/647MB (4.7%)2023-11-05T12:03:14.624-0300  [#.......................] movies.ratings  34.7MB/647MB (5.4%)2023-11-05T12:03:17.624-0300  [#.......................] movies.ratings  39.1MB/647MB (6.0%)2023-11-05T12:03:20.625-0300  [#.......................] movies.ratings  43.2MB/647MB (6.7%)2023-11-05T12:03:23.624-0300  [#.......................] movies.ratings  47.8MB/647MB (7.4%)2023-11-05T12:03:26.625-0300  [#.......................] movies.ratings  52.3MB/647MB (8.1%)2023-11-05T12:03:29.624-0300  [##......................] movies.ratings  56.7MB/647MB (8.8%)2023-11-05T12:03:32.624-0300  [##......................] movies.ratings  61.1MB/647MB (9.5%)2023-11-05T12:03:35.624-0300  [##......................] movies.ratings  65.2MB/647MB (10.1%)2023-11-05T12:03:38.624-0300  [##......................] movies.ratings  70.2MB/647MB (10.9%)2023-11-05T12:03:41.625-0300  [##......................] movies.ratings  74.5MB/647MB (11.5%)2023-11-05T12:03:44.624-0300  [##......................] movies.ratings  78.7MB/647MB (12.2%)2023-11-05T12:03:47.624-0300  [###.....................] movies.ratings  83.1MB/647MB (12.8%)2023-11-05T12:03:50.624-0300  [###.....................] movies.ratings  87.4MB/647MB (13.5%)2023-11-05T12:03:53.624-0300  [###.....................] movies.ratings  92.0MB/647MB (14.2%)2023-11-05T12:03:56.624-0300  [###.....................] movies.ratings  96.2MB/647MB (14.9%)2023-11-05T12:03:59.624-0300  [###.....................] movies.ratings  101MB/647MB (15.6%)2023-11-05T12:04:02.624-0300  [###.....................] movies.ratings  105MB/647MB (16.2%)2023-11-05T12:04:05.625-0300  [####....................] movies.ratings  110MB/647MB (16.9%)2023-11-05T12:04:08.625-0300  [####....................] movies.ratings  114MB/647MB (17.6%)2023-11-05T12:04:11.624-0300  [####....................] movies.ratings  119MB/647MB (18.4%)2023-11-05T12:04:14.624-0300  [####....................] movies.ratings  123MB/647MB (19.1%)2023-11-05T12:04:17.624-0300  [####....................] movies.ratings  128MB/647MB (19.7%)2023-11-05T12:04:20.624-0300  [####....................] movies.ratings  132MB/647MB (20.4%)2023-11-05T12:04:23.624-0300  [#####...................] movies.ratings  136MB/647MB (21.1%)2023-11-05T12:04:26.624-0300  [#####...................] movies.ratings  140MB/647MB (21.7%)2023-11-05T12:04:29.624-0300  [#####...................] movies.ratings  145MB/647MB (22.4%)2023-11-05T12:04:32.624-0300  [#####...................] movies.ratings  149MB/647MB (23.1%)2023-11-05T12:04:35.624-0300  [#####...................] movies.ratings  154MB/647MB (23.7%)2023-11-05T12:04:38.624-0300  [#####...................] movies.ratings  159MB/647MB (24.5%)2023-11-05T12:04:41.625-0300  [######..................] movies.ratings  163MB/647MB (25.2%)2023-11-05T12:04:44.625-0300  [######..................] movies.ratings  167MB/647MB (25.8%)2023-11-05T12:04:47.624-0300  [######..................] movies.ratings  171MB/647MB (26.5%)2023-11-05T12:04:50.624-0300  [######..................] movies.ratings  176MB/647MB (27.2%)2023-11-05T12:04:53.624-0300  [######..................] movies.ratings  180MB/647MB (27.8%)2023-11-05T12:04:56.624-0300  [######..................] movies.ratings  184MB/647MB (28.5%)2023-11-05T12:04:59.624-0300  [#######.................] movies.ratings  189MB/647MB (29.2%)2023-11-05T12:05:02.624-0300  [#######.................] movies.ratings  193MB/647MB (29.9%)2023-11-05T12:05:05.624-0300  [#######.................] movies.ratings  198MB/647MB (30.5%)2023-11-05T12:05:08.624-0300  [#######.................] movies.ratings  202MB/647MB (31.2%)2023-11-05T12:05:11.624-0300  [#######.................] movies.ratings  206MB/647MB (31.9%)2023-11-05T12:05:14.624-0300  [#######.................] movies.ratings  211MB/647MB (32.6%)2023-11-05T12:05:17.624-0300  [#######.................] movies.ratings  215MB/647MB (33.2%)2023-11-05T12:05:20.624-0300  [########................] movies.ratings  219MB/647MB (33.9%)2023-11-05T12:05:23.624-0300  [########................] movies.ratings  224MB/647MB (34.6%)2023-11-05T12:05:26.624-0300  [########................] movies.ratings  228MB/647MB (35.3%)2023-11-05T12:05:29.624-0300  [########................] movies.ratings  232MB/647MB (35.9%)2023-11-05T12:05:32.624-0300  [########................] movies.ratings  237MB/647MB (36.7%)2023-11-05T12:05:35.624-0300  [########................] movies.ratings  241MB/647MB (37.3%)2023-11-05T12:05:38.624-0300  [#########...............] movies.ratings  246MB/647MB (38.1%)2023-11-05T12:05:41.624-0300  [#########...............] movies.ratings  251MB/647MB (38.8%)2023-11-05T12:05:44.624-0300  [#########...............] movies.ratings  255MB/647MB (39.4%)2023-11-05T12:05:47.624-0300  [#########...............] movies.ratings  259MB/647MB (40.0%)2023-11-05T12:05:50.624-0300  [#########...............] movies.ratings  263MB/647MB (40.7%)2023-11-05T12:05:53.624-0300  [#########...............] movies.ratings  268MB/647MB (41.4%)2023-11-05T12:05:56.624-0300  [##########..............] movies.ratings  272MB/647MB (42.0%)2023-11-05T12:05:59.624-0300  [##########..............] movies.ratings  277MB/647MB (42.8%)2023-11-05T12:06:02.624-0300  [##########..............] movies.ratings  281MB/647MB (43.4%)2023-11-05T12:06:05.624-0300  [##########..............] movies.ratings  285MB/647MB (44.1%)2023-11-05T12:06:08.624-0300  [##########..............] movies.ratings  290MB/647MB (44.8%)2023-11-05T12:06:11.624-0300  [##########..............] movies.ratings  294MB/647MB (45.5%)2023-11-05T12:06:14.624-0300  [###########.............] movies.ratings  299MB/647MB (46.2%)2023-11-05T12:06:17.624-0300  [###########.............] movies.ratings  303MB/647MB (46.8%)2023-11-05T12:06:20.624-0300  [###########.............] movies.ratings  307MB/647MB (47.4%)2023-11-05T12:06:23.624-0300  [###########.............] movies.ratings  311MB/647MB (48.1%)2023-11-05T12:06:26.624-0300  [###########.............] movies.ratings  315MB/647MB (48.8%)2023-11-05T12:06:29.624-0300  [###########.............] movies.ratings  320MB/647MB (49.4%)2023-11-05T12:06:32.624-0300  [############............] movies.ratings  324MB/647MB (50.1%)2023-11-05T12:06:35.625-0300  [############............] movies.ratings  328MB/647MB (50.7%)2023-11-05T12:06:38.624-0300  [############............] movies.ratings  333MB/647MB (51.5%)2023-11-05T12:06:41.624-0300  [############............] movies.ratings  337MB/647MB (52.1%)2023-11-05T12:06:44.624-0300  [############............] movies.ratings  341MB/647MB (52.8%)2023-11-05T12:06:47.624-0300  [############............] movies.ratings  346MB/647MB (53.4%)2023-11-05T12:06:50.625-0300  [############............] movies.ratings  350MB/647MB (54.0%)2023-11-05T12:06:53.624-0300  [#############...........] movies.ratings  354MB/647MB (54.7%)2023-11-05T12:06:56.624-0300  [#############...........] movies.ratings  358MB/647MB (55.3%)2023-11-05T12:06:59.624-0300  [#############...........] movies.ratings  362MB/647MB (56.0%)2023-11-05T12:07:02.624-0300  [#############...........] movies.ratings  367MB/647MB (56.7%)2023-11-05T12:07:05.624-0300  [#############...........] movies.ratings  371MB/647MB (57.4%)2023-11-05T12:07:08.624-0300  [#############...........] movies.ratings  376MB/647MB (58.1%)2023-11-05T12:07:11.624-0300  [##############..........] movies.ratings  380MB/647MB (58.7%)2023-11-05T12:07:14.624-0300  [##############..........] movies.ratings  384MB/647MB (59.4%)2023-11-05T12:07:17.625-0300  [##############..........] movies.ratings  388MB/647MB (60.0%)2023-11-05T12:07:20.625-0300  [##############..........] movies.ratings  393MB/647MB (60.7%)2023-11-05T12:07:23.624-0300  [##############..........] movies.ratings  397MB/647MB (61.4%)2023-11-05T12:07:26.625-0300  [##############..........] movies.ratings  402MB/647MB (62.1%)2023-11-05T12:07:29.624-0300  [###############.........] movies.ratings  406MB/647MB (62.8%)2023-11-05T12:07:32.624-0300  [###############.........] movies.ratings  411MB/647MB (63.5%)2023-11-05T12:07:35.624-0300  [###############.........] movies.ratings  415MB/647MB (64.2%)2023-11-05T12:07:38.624-0300  [###############.........] movies.ratings  421MB/647MB (65.0%)2023-11-05T12:07:41.624-0300  [###############.........] movies.ratings  425MB/647MB (65.7%)2023-11-05T12:07:44.624-0300  [###############.........] movies.ratings  429MB/647MB (66.4%)2023-11-05T12:07:47.624-0300  [################........] movies.ratings  434MB/647MB (67.1%)2023-11-05T12:07:50.625-0300  [################........] movies.ratings  438MB/647MB (67.7%)2023-11-05T12:07:53.624-0300  [################........] movies.ratings  443MB/647MB (68.4%)2023-11-05T12:07:56.624-0300  [################........] movies.ratings  447MB/647MB (69.1%)2023-11-05T12:07:59.624-0300  [################........] movies.ratings  452MB/647MB (69.9%)2023-11-05T12:08:02.624-0300  [################........] movies.ratings  456MB/647MB (70.5%)2023-11-05T12:08:05.624-0300  [#################.......] movies.ratings  461MB/647MB (71.2%)2023-11-05T12:08:08.622-0300  [#################.......] movies.ratings  465MB/647MB (71.9%)2023-11-05T12:08:11.622-0300  [#################.......] movies.ratings  470MB/647MB (72.6%)2023-11-05T12:08:14.621-0300  [#################.......] movies.ratings  474MB/647MB (73.3%)2023-11-05T12:08:17.620-0300  [#################.......] movies.ratings  479MB/647MB (74.0%)2023-11-05T12:08:20.620-0300  [#################.......] movies.ratings  483MB/647MB (74.7%)2023-11-05T12:08:23.621-0300  [##################......] movies.ratings  487MB/647MB (75.3%)2023-11-05T12:08:26.620-0300  [##################......] movies.ratings  492MB/647MB (76.1%)2023-11-05T12:08:29.619-0300  [##################......] movies.ratings  497MB/647MB (76.8%)2023-11-05T12:08:32.618-0300  [##################......] movies.ratings  501MB/647MB (77.5%)2023-11-05T12:08:35.619-0300  [##################......] movies.ratings  506MB/647MB (78.2%)2023-11-05T12:08:38.620-0300  [##################......] movies.ratings  511MB/647MB (79.0%)2023-11-05T12:08:41.618-0300  [###################.....] movies.ratings  515MB/647MB (79.7%)2023-11-05T12:08:44.618-0300  [###################.....] movies.ratings  520MB/647MB (80.3%)2023-11-05T12:08:47.618-0300  [###################.....] movies.ratings  524MB/647MB (81.0%)2023-11-05T12:08:50.618-0300  [###################.....] movies.ratings  528MB/647MB (81.7%)2023-11-05T12:08:53.618-0300  [###################.....] movies.ratings  533MB/647MB (82.4%)2023-11-05T12:08:56.618-0300  [###################.....] movies.ratings  538MB/647MB (83.1%)2023-11-05T12:08:59.619-0300  [####################....] movies.ratings  542MB/647MB (83.8%)2023-11-05T12:09:02.618-0300  [####################....] movies.ratings  547MB/647MB (84.5%)2023-11-05T12:09:05.618-0300  [####################....] movies.ratings  551MB/647MB (85.2%)2023-11-05T12:09:08.617-0300  [####################....] movies.ratings  556MB/647MB (86.0%)2023-11-05T12:09:11.618-0300  [####################....] movies.ratings  560MB/647MB (86.6%)2023-11-05T12:09:14.619-0300  [####################....] movies.ratings  565MB/647MB (87.3%)2023-11-05T12:09:17.619-0300  [#####################...] movies.ratings  570MB/647MB (88.1%)2023-11-05T12:09:20.618-0300  [#####################...] movies.ratings  574MB/647MB (88.7%)2023-11-05T12:09:23.619-0300  [#####################...] movies.ratings  578MB/647MB (89.4%)2023-11-05T12:09:26.618-0300  [#####################...] movies.ratings  583MB/647MB (90.1%)2023-11-05T12:09:29.617-0300  [#####################...] movies.ratings  587MB/647MB (90.8%)2023-11-05T12:09:32.617-0300  [#####################...] movies.ratings  592MB/647MB (91.4%)2023-11-05T12:09:35.619-0300  [######################..] movies.ratings  596MB/647MB (92.1%)2023-11-05T12:09:38.617-0300  [######################..] movies.ratings  601MB/647MB (92.9%)2023-11-05T12:09:41.618-0300  [######################..] movies.ratings  606MB/647MB (93.6%)2023-11-05T12:09:44.618-0300  [######################..] movies.ratings  610MB/647MB (94.3%)2023-11-05T12:09:47.617-0300  [######################..] movies.ratings  615MB/647MB (95.0%)2023-11-05T12:09:50.618-0300  [######################..] movies.ratings  619MB/647MB (95.7%)2023-11-05T12:09:53.617-0300  [#######################.] movies.ratings  623MB/647MB (96.4%)2023-11-05T12:09:56.618-0300  [#######################.] movies.ratings  628MB/647MB (97.1%)2023-11-05T12:09:59.617-0300  [#######################.] movies.ratings  633MB/647MB (97.8%)2023-11-05T12:10:02.617-0300  [#######################.] movies.ratings  637MB/647MB (98.5%)2023-11-05T12:10:05.618-0300  [#######################.] movies.ratings  641MB/647MB (99.2%)2023-11-05T12:10:08.619-0300  [#######################.] movies.ratings  645MB/647MB (99.7%)2023-11-05T12:10:10.283-0300  [########################] movies.ratings  647MB/647MB (100.0%)2023-11-05T12:10:10.284-0300  95 document(s) imported successfully. 0 document(s) failed to import.'\n",
      "2023-11-05 12:10:10,295 - INFO - b'2023-11-05T12:02:59.628-0300  connected to: mongodb://localhost/2023-11-05T12:03:00.224-0300  423 document(s) imported successfully. 0 document(s) failed to import.'\n",
      "2023-11-05 12:10:10,296 - INFO - b'2023-11-05T12:02:59.629-0300  connected to: mongodb://localhost/2023-11-05T12:03:00.205-0300  423 document(s) imported successfully. 0 document(s) failed to import.'\n",
      "2023-11-05 12:10:10,297 - INFO - b'2023-11-05T12:02:59.635-0300  connected to: mongodb://localhost/2023-11-05T12:03:02.635-0300  [#######.................] movies.tags  11.5MB/37.0MB (31.0%)2023-11-05T12:03:05.635-0300  [###############.........] movies.tags  23.3MB/37.0MB (62.9%)2023-11-05T12:03:08.635-0300  [######################..] movies.tags  34.7MB/37.0MB (93.7%)2023-11-05T12:03:09.228-0300  [########################] movies.tags  37.0MB/37.0MB (100.0%)2023-11-05T12:03:09.228-0300  360 document(s) imported successfully. 0 document(s) failed to import.'\n"
     ]
    }
   ],
   "source": [
    "Mongo.import_csv(database = 'movies', file_paths = MOVIE_LENS_FILES)"
   ]
  },
  {
   "cell_type": "markdown",
   "id": "66d02f54-4617-42fe-9e02-526b152b38b9",
   "metadata": {},
   "source": [
    "#### 2. Transform imdb id to number"
   ]
  },
  {
   "cell_type": "code",
   "execution_count": 27,
   "id": "eeeb8a6f-ceb0-41f1-a202-1fc8a5015f78",
   "metadata": {
    "tags": []
   },
   "outputs": [
    {
     "name": "stderr",
     "output_type": "stream",
     "text": [
      "2023-11-05 14:26:34,241 - INFO - Success: b'(node:75135) [DEP0040] DeprecationWarning: The `punycode` module is deprecated. Please use a userland alternative instead.(Use `node --trace-deprecation ...` to show where the warning was created)Current Mongosh Log ID:  6547d0499c3586292fb00427Connecting to:    mongodb://127.0.0.1:27017/?directConnection=true&serverSelectionTimeoutMS=2000&appName=mongosh+2.0.2Using MongoDB:    7.0.2Using Mongosh:    2.0.2For mongosh info see: https://docs.mongodb.com/mongodb-shell/------   The server generated these startup warnings when booting   2023-11-05T11:01:27.653-03:00: Access control is not enabled for the database. Read and write access to data and configuration is unrestricted------Loading file: /tmp/query.js(node:75135) [DEP0174] DeprecationWarning: Calling promisify on a function that returns a Promise is likely a mistake.'\n"
     ]
    }
   ],
   "source": [
    "Mongo.command('movies',  \"\"\"\n",
    "db.getCollection('movies_metadata').aggregate([\n",
    "    {\n",
    "        $match: { \n",
    "            $and: [\n",
    "                { imdb_id: { $ne: \"\" } },\n",
    "                { imdb_id: { $ne: 0 } }\n",
    "            ]\n",
    "        }\n",
    "    },\n",
    "    {\n",
    "        $addFields: {\n",
    "            imdb_id: {$toLong: [ { $arrayElemAt: [ { $split: [\"$imdb_id\", \"tt\"]}, 1 ] }] }\n",
    "        }\n",
    "    },\n",
    "    { $out: \"movies_metadata_v2\" }\n",
    "]);\n",
    "\"\"\")"
   ]
  },
  {
   "cell_type": "markdown",
   "id": "1346997d-e5df-4359-a6ce-d98ce0a5ec01",
   "metadata": {
    "tags": []
   },
   "source": [
    "#### 3.  Add indexes to both links and movies_metadata_v2 collections."
   ]
  },
  {
   "cell_type": "code",
   "execution_count": 26,
   "id": "d9a88162-507b-41dc-bda8-3eb06d699394",
   "metadata": {
    "tags": []
   },
   "outputs": [
    {
     "name": "stderr",
     "output_type": "stream",
     "text": [
      "2023-11-05 14:26:01,291 - INFO - Success: b'(node:75021) [DEP0040] DeprecationWarning: The `punycode` module is deprecated. Please use a userland alternative instead.(Use `node --trace-deprecation ...` to show where the warning was created)Current Mongosh Log ID:  6547d028b3d368b37ca4522fConnecting to:    mongodb://127.0.0.1:27017/?directConnection=true&serverSelectionTimeoutMS=2000&appName=mongosh+2.0.2Using MongoDB:    7.0.2Using Mongosh:    2.0.2For mongosh info see: https://docs.mongodb.com/mongodb-shell/------   The server generated these startup warnings when booting   2023-11-05T11:01:27.653-03:00: Access control is not enabled for the database. Read and write access to data and configuration is unrestricted------Loading file: /tmp/query.js(node:75021) [DEP0174] DeprecationWarning: Calling promisify on a function that returns a Promise is likely a mistake.'\n"
     ]
    }
   ],
   "source": [
    "Mongo.command('movies', \"\"\"\n",
    "db.getCollection('links').createIndex(\n",
    "    { \"movieId\": 1 }, \n",
    "    { \n",
    "        unique: true, \n",
    "        name: \"movieId_unique_index\"\n",
    "    }\n",
    ");\n",
    "\"\"\")"
   ]
  },
  {
   "cell_type": "code",
   "execution_count": 60,
   "id": "8e3d97bb-1e56-4fed-a0ea-a5c4b02647d5",
   "metadata": {
    "tags": []
   },
   "outputs": [
    {
     "name": "stderr",
     "output_type": "stream",
     "text": [
      "2023-11-05 21:31:19,994 - INFO - Success: b'(node:58489) [DEP0040] DeprecationWarning: The `punycode` module is deprecated. Please use a userland alternative instead.(Use `node --trace-deprecation ...` to show where the warning was created)Current Mongosh Log ID:  654833d710560de987cbba4cConnecting to:    mongodb://127.0.0.1:27017/?directConnection=true&serverSelectionTimeoutMS=2000&appName=mongosh+2.0.2Using MongoDB:    7.0.2Using Mongosh:    2.0.2For mongosh info see: https://docs.mongodb.com/mongodb-shell/------   The server generated these startup warnings when booting   2023-11-05T11:01:27.653-03:00: Access control is not enabled for the database. Read and write access to data and configuration is unrestricted------Loading file: /tmp/query.js(node:58489) [DEP0174] DeprecationWarning: Calling promisify on a function that returns a Promise is likely a mistake.'\n"
     ]
    }
   ],
   "source": [
    "Mongo.command('movies', \"\"\"\n",
    "// Group doc ids with same user_movie_id.\n",
    "duplicates = db.getCollection('movies_metadata_v2').aggregate([\n",
    "  {\n",
    "    $group: {\n",
    "      _id:   { field: \"$user_movie_id\" },\n",
    "      count: { $sum: 1 },\n",
    "      docs:  { $push: \"$_id\" }\n",
    "    }\n",
    "  },\n",
    "  {\n",
    "    $match: {\n",
    "      count: { $gt: 1 }\n",
    "    }\n",
    "  }\n",
    "]);\n",
    "\n",
    "\n",
    "// Paso 2: Crea una instancia de Bulk y agrega las operaciones de eliminación\n",
    "var bulk = db.getCollection('movies_metadata_v2').initializeUnorderedBulkOp();\n",
    "\n",
    "duplicates.forEach(function(duplicate) {\n",
    "  var idsToDelete = duplicate.docs.slice(1); // conserva el primer documento y elimina los demás\n",
    "  bulk.find({ _id: { $in: idsToDelete } }).remove();\n",
    "});\n",
    "\n",
    "// Paso 3: Ejecuta las operaciones de eliminación en lote\n",
    "bulk.execute();\n",
    "\"\"\")"
   ]
  },
  {
   "cell_type": "code",
   "execution_count": 61,
   "id": "b905d9bd-ceb7-4b07-b562-a4969e68c226",
   "metadata": {
    "tags": []
   },
   "outputs": [
    {
     "name": "stderr",
     "output_type": "stream",
     "text": [
      "2023-11-05 21:31:25,231 - INFO - Success: b'(node:58507) [DEP0040] DeprecationWarning: The `punycode` module is deprecated. Please use a userland alternative instead.(Use `node --trace-deprecation ...` to show where the warning was created)Current Mongosh Log ID:  654833dcc845c9644fad3bf0Connecting to:    mongodb://127.0.0.1:27017/?directConnection=true&serverSelectionTimeoutMS=2000&appName=mongosh+2.0.2Using MongoDB:    7.0.2Using Mongosh:    2.0.2For mongosh info see: https://docs.mongodb.com/mongodb-shell/------   The server generated these startup warnings when booting   2023-11-05T11:01:27.653-03:00: Access control is not enabled for the database. Read and write access to data and configuration is unrestricted------Loading file: /tmp/query.js(node:58507) [DEP0174] DeprecationWarning: Calling promisify on a function that returns a Promise is likely a mistake.'\n"
     ]
    }
   ],
   "source": [
    "Mongo.command('movies', \"\"\"\n",
    "db.getCollection('movies_metadata_v2').createIndex(\n",
    "    { \n",
    "        \"imdb_id\": 1\n",
    "    }, \n",
    "    {\n",
    "        unique: true,\n",
    "        name: \"imdb_id_multiple_index\"\n",
    "    }\n",
    ");\n",
    "\"\"\")"
   ]
  },
  {
   "cell_type": "markdown",
   "id": "7d7553f3-e62e-47de-9f94-6bb9f465e547",
   "metadata": {},
   "source": [
    "#### 4. Add imdb features to movies collection"
   ]
  },
  {
   "cell_type": "code",
   "execution_count": 62,
   "id": "6480cdb0-15e2-411b-bb0e-33a1fe0e3042",
   "metadata": {
    "tags": []
   },
   "outputs": [
    {
     "name": "stderr",
     "output_type": "stream",
     "text": [
      "2023-11-05 21:31:43,615 - INFO - Success: b'(node:58547) [DEP0040] DeprecationWarning: The `punycode` module is deprecated. Please use a userland alternative instead.(Use `node --trace-deprecation ...` to show where the warning was created)Current Mongosh Log ID:  654833e62dfd22febd33027eConnecting to:    mongodb://127.0.0.1:27017/?directConnection=true&serverSelectionTimeoutMS=2000&appName=mongosh+2.0.2Using MongoDB:    7.0.2Using Mongosh:    2.0.2For mongosh info see: https://docs.mongodb.com/mongodb-shell/------   The server generated these startup warnings when booting   2023-11-05T11:01:27.653-03:00: Access control is not enabled for the database. Read and write access to data and configuration is unrestricted------Loading file: /tmp/query.js(node:58547) [DEP0174] DeprecationWarning: Calling promisify on a function that returns a Promise is likely a mistake.'\n"
     ]
    }
   ],
   "source": [
    "Mongo.command('movies', \"\"\"\n",
    "db.getCollection('movies').aggregate([\n",
    "    {\n",
    "        $lookup:\n",
    "          {\n",
    "            from: \"links\",\n",
    "            foreignField: \"movieId\",\n",
    "            localField: \"movieId\", \n",
    "            as: \"links\"\n",
    "          }\n",
    "     },\n",
    "     { $match: { links: { $exists: true, $not: {$size: 0} } } },\n",
    "     { \n",
    "        $project: { \n",
    "            id: \"$movieId\",\n",
    "            tmdb_id:      { \"$arrayElemAt\": [\"$links.tmdbId\", 0] },\n",
    "            imdb_id:      { \"$arrayElemAt\": [\"$links.imdbId\", 0] },\n",
    "            title:        { $arrayElemAt:   [ {$split:[\"$title\",\"(\"]} ,  0 ] },\n",
    "            release_year: { $arrayElemAt:   [ {$split:[\"$title\",\"(\"]} ,  1 ] },\n",
    "            genres:       { $split:         [ \"$genres\", \"|\" ] }\n",
    "        } \n",
    "    }, \n",
    "    {\n",
    "        $lookup:\n",
    "          {\n",
    "            from: \"movies_metadata_v2\",\n",
    "            foreignField: \"imdb_id\",\n",
    "            localField: \"imdb_id\", \n",
    "            as: \"movies_metadata\"\n",
    "          }\n",
    "     },\n",
    "     { $match: {  movies_metadata: { $exists: true, $not: {$size: 0} } } },\n",
    "     { \n",
    "        $project: { \n",
    "            id: 1,\n",
    "            tmdb_id: 1,\n",
    "            imdb_id: 1,\n",
    "            title: 1,\n",
    "            genres: 1,\n",
    "            for_adults:        { \"$arrayElemAt\": [\"$movies_metadata.adult\", 0] },\n",
    "            budget:            { \"$arrayElemAt\": [\"$movies_metadata.budget\", 0] },\n",
    "            original_language: { \"$arrayElemAt\": [\"$movies_metadata.original_language\", 0] },\n",
    "            overview:          { \"$arrayElemAt\": [\"$movies_metadata.overview\", 0] },\n",
    "            poster:            { \"$arrayElemAt\": [\"$movies_metadata.poster_path\", 0] },\n",
    "            release:           { \"$arrayElemAt\": [\"$movies_metadata.release_date\", 0] },\n",
    "            popularity:        { \"$arrayElemAt\": [\"$movies_metadata.popularity\", 0] },\n",
    "            vote_mean:         { \"$arrayElemAt\": [\"$movies_metadata.vote_average\", 0] },\n",
    "            vote_count:        { \"$arrayElemAt\": [\"$movies_metadata.vote_count\", 0] }\n",
    "        }\n",
    "    },\n",
    "    { $out: \"movies_v2\" }\n",
    "]);\n",
    "\"\"\")"
   ]
  },
  {
   "cell_type": "markdown",
   "id": "9fa5fecd-279c-421d-8b99-11404bc29050",
   "metadata": {},
   "source": [
    "#### 5. Group tags per used, movie pair."
   ]
  },
  {
   "cell_type": "code",
   "execution_count": 30,
   "id": "fe1ce525-1300-485a-8310-f372577c7eb6",
   "metadata": {
    "tags": []
   },
   "outputs": [
    {
     "name": "stderr",
     "output_type": "stream",
     "text": [
      "2023-11-05 14:28:16,786 - INFO - Success: b'(node:75471) [DEP0040] DeprecationWarning: The `punycode` module is deprecated. Please use a userland alternative instead.(Use `node --trace-deprecation ...` to show where the warning was created)Current Mongosh Log ID:  6547d0a7f8b59757cdc3e84cConnecting to:    mongodb://127.0.0.1:27017/?directConnection=true&serverSelectionTimeoutMS=2000&appName=mongosh+2.0.2Using MongoDB:    7.0.2Using Mongosh:    2.0.2For mongosh info see: https://docs.mongodb.com/mongodb-shell/------   The server generated these startup warnings when booting   2023-11-05T11:01:27.653-03:00: Access control is not enabled for the database. Read and write access to data and configuration is unrestricted------Loading file: /tmp/query.js(node:75471) [DEP0174] DeprecationWarning: Calling promisify on a function that returns a Promise is likely a mistake.'\n"
     ]
    }
   ],
   "source": [
    "Mongo.command('movies', \"\"\"\n",
    "db.getCollection('tags').aggregate(\n",
    "    [\n",
    "        { \n",
    "            $group: {\n",
    "                _id: {\n",
    "                    user_id: \"$userId\",\n",
    "                    movie_id: \"$movieId\"\n",
    "                },\n",
    "                tags: { $push: { $toLower: \"$tag\" } }\n",
    "            }\n",
    "        },\n",
    "        {\n",
    "          $project: {\n",
    "            _id: 0,\n",
    "            user_id: \"$_id.user_id\",\n",
    "            movie_id: \"$_id.movie_id\",\n",
    "            user_movie_id: { $concat: [ { $toString: \"$_id.user_id\" } , \"_\", { $toString:\"$_id.movie_id\"} ] },\n",
    "            tags: 1\n",
    "          }  \n",
    "        },\n",
    "        { $out: \"tags_v2\" }\n",
    "    ]\n",
    ");\n",
    "\"\"\")"
   ]
  },
  {
   "cell_type": "markdown",
   "id": "89093d87-5a31-4714-b6c2-61bf849c46cd",
   "metadata": {},
   "source": [
    "#### 6. Create used_movie_id into new tags_v2 collection."
   ]
  },
  {
   "cell_type": "code",
   "execution_count": 31,
   "id": "93abf162-3cf6-42b7-9dbc-ae121d016330",
   "metadata": {
    "tags": []
   },
   "outputs": [
    {
     "name": "stderr",
     "output_type": "stream",
     "text": [
      "2023-11-05 14:28:35,086 - INFO - Success: b'(node:75570) [DEP0040] DeprecationWarning: The `punycode` module is deprecated. Please use a userland alternative instead.(Use `node --trace-deprecation ...` to show where the warning was created)Current Mongosh Log ID:  6547d0c2348199d331a0436aConnecting to:    mongodb://127.0.0.1:27017/?directConnection=true&serverSelectionTimeoutMS=2000&appName=mongosh+2.0.2Using MongoDB:    7.0.2Using Mongosh:    2.0.2For mongosh info see: https://docs.mongodb.com/mongodb-shell/------   The server generated these startup warnings when booting   2023-11-05T11:01:27.653-03:00: Access control is not enabled for the database. Read and write access to data and configuration is unrestricted------Loading file: /tmp/query.js(node:75570) [DEP0174] DeprecationWarning: Calling promisify on a function that returns a Promise is likely a mistake.'\n"
     ]
    }
   ],
   "source": [
    "Mongo.command('movies', \"\"\"\n",
    "db.getCollection('tags_v2').createIndex(\n",
    "    { 'user_movie_id': 1 }, \n",
    "    { unique: true, name: 'id_unique_index' }\n",
    ")\n",
    "\"\"\")"
   ]
  },
  {
   "cell_type": "markdown",
   "id": "c3955bf2-721a-4adc-9451-a94921fbb9e3",
   "metadata": {},
   "source": [
    "#### 7. Add used_movie_id fields into new ratings_v2 collection and also create a unique index."
   ]
  },
  {
   "cell_type": "code",
   "execution_count": 32,
   "id": "284578e5-db33-494f-9636-0c0520c501e9",
   "metadata": {
    "tags": []
   },
   "outputs": [
    {
     "name": "stderr",
     "output_type": "stream",
     "text": [
      "2023-11-05 14:30:41,930 - INFO - Success: b'(node:75704) [DEP0040] DeprecationWarning: The `punycode` module is deprecated. Please use a userland alternative instead.(Use `node --trace-deprecation ...` to show where the warning was created)Current Mongosh Log ID:  6547d0e558a107a67f388f6fConnecting to:    mongodb://127.0.0.1:27017/?directConnection=true&serverSelectionTimeoutMS=2000&appName=mongosh+2.0.2Using MongoDB:    7.0.2Using Mongosh:    2.0.2For mongosh info see: https://docs.mongodb.com/mongodb-shell/------   The server generated these startup warnings when booting   2023-11-05T11:01:27.653-03:00: Access control is not enabled for the database. Read and write access to data and configuration is unrestricted------Loading file: /tmp/query.js(node:75704) [DEP0174] DeprecationWarning: Calling promisify on a function that returns a Promise is likely a mistake.'\n"
     ]
    }
   ],
   "source": [
    "Mongo.command('movies', \"\"\"\n",
    "db.getCollection('ratings').aggregate([\n",
    "        {\n",
    "          $project: {\n",
    "            user_id: \"$userId\",\n",
    "            movie_id: \"$movieId\",\n",
    "            user_movie_id: { $concat: [ { $toString: \"$userId\" } , \"_\", { $toString:\"$movieId\"} ] },\n",
    "            rating: 1,\n",
    "            timestamp: 1\n",
    "          }  \n",
    "        },\n",
    "        { $out: \"ratings_v2\" }\n",
    "    ]\n",
    ");\n",
    "\"\"\")"
   ]
  },
  {
   "cell_type": "code",
   "execution_count": 46,
   "id": "03aa6460-0fb8-42ff-811c-9380fad6acc0",
   "metadata": {
    "tags": []
   },
   "outputs": [
    {
     "name": "stderr",
     "output_type": "stream",
     "text": [
      "2023-11-05 21:07:19,775 - INFO - Success: b'(node:49990) [DEP0040] DeprecationWarning: The `punycode` module is deprecated. Please use a userland alternative instead.(Use `node --trace-deprecation ...` to show where the warning was created)Current Mongosh Log ID:  65482b5f41030d440b64aca6Connecting to:    mongodb://127.0.0.1:27017/?directConnection=true&serverSelectionTimeoutMS=2000&appName=mongosh+2.0.2Using MongoDB:    7.0.2Using Mongosh:    2.0.2For mongosh info see: https://docs.mongodb.com/mongodb-shell/------   The server generated these startup warnings when booting   2023-11-05T11:01:27.653-03:00: Access control is not enabled for the database. Read and write access to data and configuration is unrestricted------Loading file: /tmp/query.js(node:49990) [DEP0174] DeprecationWarning: Calling promisify on a function that returns a Promise is likely a mistake.'\n"
     ]
    }
   ],
   "source": [
    "Mongo.command('movies', \"\"\"\n",
    "// Group doc ids with same user_movie_id.\n",
    "duplicates = db.getCollection('ratings_v2').aggregate([\n",
    "  {\n",
    "    $group: {\n",
    "      _id:   { field: \"$user_movie_id\" },\n",
    "      count: { $sum: 1 },\n",
    "      docs:  { $push: \"$_id\" }\n",
    "    }\n",
    "  },\n",
    "  {\n",
    "    $match: {\n",
    "      count: { $gt: 1 }\n",
    "    }\n",
    "  }\n",
    "]);\n",
    "\n",
    "\n",
    "// Paso 2: Crea una instancia de Bulk y agrega las operaciones de eliminación\n",
    "var bulk = db.getCollection('ratings_v2').initializeUnorderedBulkOp();\n",
    "\n",
    "duplicates.forEach(function(duplicate) {\n",
    "  var idsToDelete = duplicate.docs.slice(1); // conserva el primer documento y elimina los demás\n",
    "  bulk.find({ _id: { $in: idsToDelete } }).remove();\n",
    "});\n",
    "\n",
    "// Paso 3: Ejecuta las operaciones de eliminación en lote\n",
    "bulk.execute();\n",
    "\"\"\")"
   ]
  },
  {
   "cell_type": "code",
   "execution_count": 48,
   "id": "66765fab-0024-48e1-9005-41a2c49baaad",
   "metadata": {
    "tags": []
   },
   "outputs": [
    {
     "name": "stderr",
     "output_type": "stream",
     "text": [
      "2023-11-05 21:15:29,648 - INFO - Success: b'(node:54767) [DEP0040] DeprecationWarning: The `punycode` module is deprecated. Please use a userland alternative instead.(Use `node --trace-deprecation ...` to show where the warning was created)Current Mongosh Log ID:  6548300ba1daa7a3dfd145cbConnecting to:    mongodb://127.0.0.1:27017/?directConnection=true&serverSelectionTimeoutMS=2000&appName=mongosh+2.0.2Using MongoDB:    7.0.2Using Mongosh:    2.0.2For mongosh info see: https://docs.mongodb.com/mongodb-shell/------   The server generated these startup warnings when booting   2023-11-05T11:01:27.653-03:00: Access control is not enabled for the database. Read and write access to data and configuration is unrestricted------Loading file: /tmp/query.js(node:54767) [DEP0174] DeprecationWarning: Calling promisify on a function that returns a Promise is likely a mistake.'\n"
     ]
    }
   ],
   "source": [
    "Mongo.command('movies', \"\"\"\n",
    "db.getCollection('ratings_v2').createIndex(\n",
    "    { 'user_movie_id': 1 }, \n",
    "    { unique: true, name: 'id_unique_index' }\n",
    ");\n",
    "\"\"\")"
   ]
  },
  {
   "cell_type": "markdown",
   "id": "b598294d-94a9-4c6f-beb4-cef5f0537221",
   "metadata": {},
   "source": [
    "#### 8. Join ratting_v2 and tags_v2 collections by user_movie_id into a new ratings_tags_v1 collection."
   ]
  },
  {
   "cell_type": "code",
   "execution_count": 49,
   "id": "def09aec-1ef3-4119-b37e-65f793ae5c4c",
   "metadata": {
    "tags": []
   },
   "outputs": [
    {
     "name": "stderr",
     "output_type": "stream",
     "text": [
      "2023-11-05 21:17:38,319 - INFO - Success: b'(node:55035) [DEP0040] DeprecationWarning: The `punycode` module is deprecated. Please use a userland alternative instead.(Use `node --trace-deprecation ...` to show where the warning was created)Current Mongosh Log ID:  65483056fd265e06abb697f6Connecting to:    mongodb://127.0.0.1:27017/?directConnection=true&serverSelectionTimeoutMS=2000&appName=mongosh+2.0.2Using MongoDB:    7.0.2Using Mongosh:    2.0.2For mongosh info see: https://docs.mongodb.com/mongodb-shell/------   The server generated these startup warnings when booting   2023-11-05T11:01:27.653-03:00: Access control is not enabled for the database. Read and write access to data and configuration is unrestricted------Loading file: /tmp/query.js(node:55035) [DEP0174] DeprecationWarning: Calling promisify on a function that returns a Promise is likely a mistake.'\n"
     ]
    }
   ],
   "source": [
    "Mongo.command('movies', \"\"\"\n",
    "db.getCollection('ratings_v2').aggregate([\n",
    "    {\n",
    "        $lookup:\n",
    "          {\n",
    "            from: \"tags_v2\",\n",
    "            foreignField: \"user_movie_id\",\n",
    "            localField: \"user_movie_id\", \n",
    "            as: \"tags_v2\"\n",
    "          }\n",
    "     },\n",
    "     { $match: { tags_v2: { $exists: true, $not: {$size: 0} } } },\n",
    "     { \n",
    "        $project: { \n",
    "            user_id: 1,\n",
    "            movie_id: 1,\n",
    "            rating: 1,\n",
    "            timestamp: 1,\n",
    "            tags: \"$tags_v2.tags\"\n",
    "        }\n",
    "    },\n",
    "    {\n",
    "        $addFields: {  \n",
    "            _id: { $concat: [ { $toString: \"$user_id\" } , \"_\", { $toString:\"$movie_id\"} ] },            \n",
    "            tags: {\n",
    "                \"$reduce\": {\n",
    "                    \"input\": \"$tags\",\n",
    "                    \"initialValue\": [],\n",
    "                    \"in\": { \"$setUnion\": [ \"$$value\", \"$$this\" ] }\n",
    "                }\n",
    "            }\n",
    "        }\n",
    "    },\n",
    "    { $out: \"ratings_tags_v1\" }\n",
    "]);\n",
    "\"\"\")"
   ]
  },
  {
   "cell_type": "markdown",
   "id": "d19b6091-b81e-4da8-98b9-86a9c1459f4b",
   "metadata": {},
   "source": [
    "#### 9. Add tags field into movie_v2 collections:"
   ]
  },
  {
   "cell_type": "code",
   "execution_count": 51,
   "id": "b0c645dd-8960-4017-a593-6388e7dca927",
   "metadata": {
    "tags": []
   },
   "outputs": [
    {
     "name": "stderr",
     "output_type": "stream",
     "text": [
      "2023-11-05 21:23:18,985 - INFO - Success: b'(node:56675) [DEP0040] DeprecationWarning: The `punycode` module is deprecated. Please use a userland alternative instead.(Use `node --trace-deprecation ...` to show where the warning was created)Current Mongosh Log ID:  654831f6ba31b73c73aa0f02Connecting to:    mongodb://127.0.0.1:27017/?directConnection=true&serverSelectionTimeoutMS=2000&appName=mongosh+2.0.2Using MongoDB:    7.0.2Using Mongosh:    2.0.2For mongosh info see: https://docs.mongodb.com/mongodb-shell/------   The server generated these startup warnings when booting   2023-11-05T11:01:27.653-03:00: Access control is not enabled for the database. Read and write access to data and configuration is unrestricted------Loading file: /tmp/query.js(node:56675) [DEP0174] DeprecationWarning: Calling promisify on a function that returns a Promise is likely a mistake.'\n"
     ]
    }
   ],
   "source": [
    "Mongo.command('movies', \"\"\"\n",
    "db.getCollection('movies_v2').createIndex(\n",
    "    { 'id': 1 }, \n",
    "    { unique: true, name: 'id_unique_index' }\n",
    ")\n",
    "\"\"\")"
   ]
  },
  {
   "cell_type": "code",
   "execution_count": 54,
   "id": "de726606-2611-4df1-ae08-205b9950efcf",
   "metadata": {
    "tags": []
   },
   "outputs": [
    {
     "name": "stderr",
     "output_type": "stream",
     "text": [
      "2023-11-05 21:26:30,617 - INFO - Success: b'(node:57336) [DEP0040] DeprecationWarning: The `punycode` module is deprecated. Please use a userland alternative instead.(Use `node --trace-deprecation ...` to show where the warning was created)Current Mongosh Log ID:  654832b28d623889557fcaceConnecting to:    mongodb://127.0.0.1:27017/?directConnection=true&serverSelectionTimeoutMS=2000&appName=mongosh+2.0.2Using MongoDB:    7.0.2Using Mongosh:    2.0.2For mongosh info see: https://docs.mongodb.com/mongodb-shell/------   The server generated these startup warnings when booting   2023-11-05T11:01:27.653-03:00: Access control is not enabled for the database. Read and write access to data and configuration is unrestricted------Loading file: /tmp/query.js(node:57336) [DEP0174] DeprecationWarning: Calling promisify on a function that returns a Promise is likely a mistake.'\n"
     ]
    }
   ],
   "source": [
    "Mongo.command('movies', \"\"\"\n",
    "\n",
    "// Group doc ids with same user_movie_id.\n",
    "duplicates = db.getCollection('tags_v2').aggregate([\n",
    "  {\n",
    "    $group: {\n",
    "      _id:   { field: \"$movie_id\" },\n",
    "      count: { $sum: 1 },\n",
    "      docs:  { $push: \"$_id\" }\n",
    "    }\n",
    "  },\n",
    "  {\n",
    "    $match: {\n",
    "      count: { $gt: 1 }\n",
    "    }\n",
    "  }\n",
    "]);\n",
    "\n",
    "\n",
    "// Paso 2: Crea una instancia de Bulk y agrega las operaciones de eliminación\n",
    "var bulk = db.getCollection('tags_v2').initializeUnorderedBulkOp();\n",
    "\n",
    "duplicates.forEach(function(duplicate) {\n",
    "  var idsToDelete = duplicate.docs.slice(1); // conserva el primer documento y elimina los demás\n",
    "  bulk.find({ _id: { $in: idsToDelete } }).remove();\n",
    "});\n",
    "\n",
    "// Paso 3: Ejecuta las operaciones de eliminación en lote\n",
    "bulk.execute();\n",
    "\"\"\")"
   ]
  },
  {
   "cell_type": "code",
   "execution_count": 55,
   "id": "91cfae63-b30c-4f62-9f43-713283970df6",
   "metadata": {
    "tags": []
   },
   "outputs": [
    {
     "name": "stderr",
     "output_type": "stream",
     "text": [
      "2023-11-05 21:26:43,545 - INFO - Success: b'(node:57400) [DEP0040] DeprecationWarning: The `punycode` module is deprecated. Please use a userland alternative instead.(Use `node --trace-deprecation ...` to show where the warning was created)Current Mongosh Log ID:  654832c35f7a69d6718b0907Connecting to:    mongodb://127.0.0.1:27017/?directConnection=true&serverSelectionTimeoutMS=2000&appName=mongosh+2.0.2Using MongoDB:    7.0.2Using Mongosh:    2.0.2For mongosh info see: https://docs.mongodb.com/mongodb-shell/------   The server generated these startup warnings when booting   2023-11-05T11:01:27.653-03:00: Access control is not enabled for the database. Read and write access to data and configuration is unrestricted------Loading file: /tmp/query.js(node:57400) [DEP0174] DeprecationWarning: Calling promisify on a function that returns a Promise is likely a mistake.'\n"
     ]
    }
   ],
   "source": [
    "Mongo.command('movies', \"\"\"\n",
    "db.getCollection('tags_v2').createIndex(\n",
    "    { 'movie_id': 1 }, \n",
    "    { unique: true, name: 'id_unique_index' }\n",
    ")\n",
    "\"\"\")"
   ]
  },
  {
   "cell_type": "code",
   "execution_count": 56,
   "id": "79fde1d7-f21d-4df4-86a5-1e54f0b58593",
   "metadata": {
    "tags": []
   },
   "outputs": [
    {
     "name": "stderr",
     "output_type": "stream",
     "text": [
      "2023-11-05 21:27:06,336 - INFO - Success: b'(node:57480) [DEP0040] DeprecationWarning: The `punycode` module is deprecated. Please use a userland alternative instead.(Use `node --trace-deprecation ...` to show where the warning was created)Current Mongosh Log ID:  654832da3c35bced08000894Connecting to:    mongodb://127.0.0.1:27017/?directConnection=true&serverSelectionTimeoutMS=2000&appName=mongosh+2.0.2Using MongoDB:    7.0.2Using Mongosh:    2.0.2For mongosh info see: https://docs.mongodb.com/mongodb-shell/------   The server generated these startup warnings when booting   2023-11-05T11:01:27.653-03:00: Access control is not enabled for the database. Read and write access to data and configuration is unrestricted------Loading file: /tmp/query.js(node:57480) [DEP0174] DeprecationWarning: Calling promisify on a function that returns a Promise is likely a mistake.'\n"
     ]
    }
   ],
   "source": [
    "Mongo.command('movies', \"\"\"\n",
    "db.getCollection('movies_v2').aggregate([\n",
    "    {\n",
    "        $lookup:\n",
    "          {\n",
    "            from: \"tags_v2\",\n",
    "            foreignField: \"movie_id\",\n",
    "            localField: \"id\",\n",
    "            as: \"tags_v2\"\n",
    "          }\n",
    "    },\n",
    "    { $match: { tags_v2: { $exists: true, $not: {$size: 0} } } },\n",
    "    { \n",
    "        $addFields: { \n",
    "            tags: {\n",
    "                \"$reduce\": {\n",
    "                    \"input\": \"$tags_v2.tags\",\n",
    "                    \"initialValue\": [],\n",
    "                    \"in\": { \"$setUnion\": [ \"$$value\", \"$$this\" ] }\n",
    "                }\n",
    "            }\n",
    "        }\n",
    "    },\n",
    "    { $unset: [\"tags_v2\"] },\n",
    "    { $addFields: {  _id: \"$id\" } },\n",
    "    { $unset: [\"id\"] },\n",
    "    { $out: \"movies_v3\" }\n",
    "]);\n",
    "\"\"\")"
   ]
  },
  {
   "cell_type": "markdown",
   "id": "c37343ba-a719-4992-b145-febda7616dd4",
   "metadata": {},
   "source": [
    "#### 10. Export final ccollections to json files:\n",
    "\n",
    "* movies_v3 to movies_v3.json\n",
    "* ratings_tags_v1 to ratings_tags_v1.json"
   ]
  },
  {
   "cell_type": "code",
   "execution_count": null,
   "id": "d56c0ce2-3ed4-4e63-9019-76f2ed54bca9",
   "metadata": {},
   "outputs": [],
   "source": [
    "Mongo.export_to_json(database='movies', path=DATASETS_PATH, collections=['movies_v3'])"
   ]
  },
  {
   "cell_type": "code",
   "execution_count": 10,
   "id": "9ee87762-4b54-455a-a3cb-f6d689107593",
   "metadata": {},
   "outputs": [
    {
     "name": "stderr",
     "output_type": "stream",
     "text": [
      "2022-04-16 11:21:33,739 - ERROR - b'2022-04-16T11:21:31.332-0300\\tconnected to: mongodb://localhost/\\n2022-04-16T11:21:32.333-0300\\t[##########..............]  movies.ratings_tags_v1  88000/210725  (41.8%)\\n2022-04-16T11:21:33.333-0300\\t[####################....]  movies.ratings_tags_v1  176000/210725  (83.5%)\\n2022-04-16T11:21:33.737-0300\\t[########################]  movies.ratings_tags_v1  210725/210725  (100.0%)\\n2022-04-16T11:21:33.737-0300\\texported 210725 records\\n'\n"
     ]
    }
   ],
   "source": [
    "Mongo.export_to_json(database='movies', path=DATASETS_PATH, collections=['ratings_tags_v1'])"
   ]
  }
 ],
 "metadata": {
  "kernelspec": {
   "display_name": "Python 3 (ipykernel)",
   "language": "python",
   "name": "python3"
  },
  "language_info": {
   "codemirror_mode": {
    "name": "ipython",
    "version": 3
   },
   "file_extension": ".py",
   "mimetype": "text/x-python",
   "name": "python",
   "nbconvert_exporter": "python",
   "pygments_lexer": "ipython3",
   "version": "3.11.5"
  },
  "widgets": {
   "application/vnd.jupyter.widget-state+json": {
    "state": {},
    "version_major": 2,
    "version_minor": 0
   }
  }
 },
 "nbformat": 4,
 "nbformat_minor": 5
}
