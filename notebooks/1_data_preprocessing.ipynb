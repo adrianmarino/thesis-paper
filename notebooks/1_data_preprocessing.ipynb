{
 "cells": [
  {
   "cell_type": "markdown",
   "id": "81c8f71c-7e73-468c-a05d-8997004f5186",
   "metadata": {},
   "source": [
    "# Data pre-processing\n",
    "\n",
    "Para tener los datos necesario para probar los enfoques de filtros colaborativos(CF) y basados en contenido(CB) necesito:\n",
    "\n",
    "* Calificaciones de los ítems(movies) de los usuarios (CF)\n",
    "* Features propies de los ítems (CB)\n",
    "\n",
    "Dado esto, a continuacion se combinaran los siguientes datasets:\n",
    "\n",
    "* MovieLens 25M Dataset: Prácticamente no tiene información de las películas pero si tiene las calificaciones de los usuarios.\n",
    "* TMDB Movie Dataset: No tiene calificaciones personalizadas como el dataset anterior pero tiene varios features para las películas que es lo que necesito."
   ]
  },
  {
   "cell_type": "markdown",
   "id": "71bda2c0-ec9a-4f4d-acad-3d2035dd3119",
   "metadata": {},
   "source": [
    "## Setup"
   ]
  },
  {
   "cell_type": "code",
   "execution_count": 61,
   "id": "ac8cd4ad-1634-4880-8dc3-ea2b6e0f3225",
   "metadata": {
    "tags": []
   },
   "outputs": [
    {
     "name": "stdout",
     "output_type": "stream",
     "text": [
      "The autoreload extension is already loaded. To reload it, use:\n",
      "  %reload_ext autoreload\n"
     ]
    }
   ],
   "source": [
    "%load_ext autoreload\n",
    "%autoreload 2\n",
    "\n",
    "BASE_PATH       = '..'\n",
    "DATASETS_PATH   = f'{BASE_PATH}/datasets'\n",
    "MOVIE_LENS_PATH = f'{DATASETS_PATH}/ml-25m'\n",
    "TMDB_PATH       = f'{DATASETS_PATH}/tmdb'\n",
    "DATABASE        = 'movies'"
   ]
  },
  {
   "cell_type": "code",
   "execution_count": 62,
   "id": "f98e7bf4-f41a-43f6-b7b7-a991d00f82de",
   "metadata": {
    "tags": []
   },
   "outputs": [],
   "source": [
    "import sys\n",
    "sys.path.append(f'{BASE_PATH}/lib')\n",
    "\n",
    "from database.mongo import Mongo\n",
    "from pytorch_common.util import LoggerBuilder"
   ]
  },
  {
   "cell_type": "code",
   "execution_count": 63,
   "id": "e60a3838-9787-411d-b9f1-8a942321cbb1",
   "metadata": {
    "tags": []
   },
   "outputs": [
    {
     "data": {
      "text/plain": [
       "<RootLogger root (INFO)>"
      ]
     },
     "execution_count": 63,
     "metadata": {},
     "output_type": "execute_result"
    }
   ],
   "source": [
    "LoggerBuilder().on_console().build()"
   ]
  },
  {
   "cell_type": "markdown",
   "id": "4da40dcd-d4a6-404e-969f-c466d9ca8c1d",
   "metadata": {},
   "source": [
    "# Pre-processing steps"
   ]
  },
  {
   "cell_type": "markdown",
   "id": "e83eec29-6968-40ce-9298-c68c873f8142",
   "metadata": {},
   "source": [
    "#### 1. Import five collecitons to **movies** mongodb database:\n",
    "\n",
    "    * From movie lens dataset:\n",
    "        * rattings\n",
    "        * movies\n",
    "        * links\n",
    "        * tags\n",
    "    * From the movie database dataset:\n",
    "        * movies_metadata"
   ]
  },
  {
   "cell_type": "code",
   "execution_count": 64,
   "id": "ea045617-9cc9-45ae-ad43-9939ab780d51",
   "metadata": {
    "tags": []
   },
   "outputs": [
    {
     "name": "stdout",
     "output_type": "stream",
     "text": [
      "  % Total    % Received % Xferd  Average Speed   Time    Time     Time  Current\n",
      "                                 Dload  Upload   Total   Spent    Left  Speed\n",
      "100  249M  100  249M    0     0  9474k      0  0:00:27  0:00:27 --:--:-- 12.1M325k      0  0:13:06  0:00:01  0:13:05  325k.7M    0     0  4806k      0  0:00:53  0:00:04  0:00:49 4808k    0  8070k      0  0:00:31  0:00:15  0:00:16 9947k\n",
      "Archive:  ml-25m.zip\n",
      "  inflating: ml-25m/tags.csv         \n",
      "  inflating: ml-25m/links.csv        \n",
      "  inflating: ml-25m/README.txt       \n",
      "  inflating: ml-25m/ratings.csv      \n",
      "  inflating: ml-25m/genome-tags.csv  \n",
      "  inflating: ml-25m/genome-scores.csv  \n",
      "  inflating: ml-25m/movies.csv       \n"
     ]
    }
   ],
   "source": [
    "!mkdir -p {DATASETS_PATH}\n",
    "\n",
    "!cd {DATASETS_PATH}; curl -LO http://files.grouplens.org/datasets/movielens/ml-25m.zip\n",
    "\n",
    "!cd {DATASETS_PATH}; unzip -o ml-25m.zip"
   ]
  },
  {
   "cell_type": "code",
   "execution_count": 65,
   "id": "2755acc3-4963-4ddd-9071-3b16508685a5",
   "metadata": {
    "tags": []
   },
   "outputs": [],
   "source": [
    "!mkdir -p {TMDB_PATH}"
   ]
  },
  {
   "cell_type": "markdown",
   "id": "86a76190-7993-4d56-9daf-9f1900e7cdd5",
   "metadata": {},
   "source": [
    "Download TMDB dataset from [Here](https://www.kaggle.com/datasets/hudsonmendes/tmdb-movies-20002020-with-imdb-id) (archive.zip file) into next directory:"
   ]
  },
  {
   "cell_type": "code",
   "execution_count": 8,
   "id": "7a9f6653-2d6a-49cc-a810-2ee64428efca",
   "metadata": {
    "tags": []
   },
   "outputs": [
    {
     "data": {
      "text/plain": [
       "'../datasets/tmdb'"
      ]
     },
     "execution_count": 8,
     "metadata": {},
     "output_type": "execute_result"
    }
   ],
   "source": [
    "TMDB_PATH"
   ]
  },
  {
   "cell_type": "code",
   "execution_count": 70,
   "id": "455c879a-fbbf-4e6e-93de-fcd4ee2255d8",
   "metadata": {
    "tags": []
   },
   "outputs": [
    {
     "name": "stdout",
     "output_type": "stream",
     "text": [
      "Archive:  archive.zip\n",
      "  inflating: tmdb-movies-2000.json   \n",
      "  inflating: tmdb-movies-2001.json   \n",
      "  inflating: tmdb-movies-2002.json   \n",
      "  inflating: tmdb-movies-2003.json   \n",
      "  inflating: tmdb-movies-2004.json   \n",
      "  inflating: tmdb-movies-2005.json   \n",
      "  inflating: tmdb-movies-2006.json   \n",
      "  inflating: tmdb-movies-2007.json   \n",
      "  inflating: tmdb-movies-2008.json   \n",
      "  inflating: tmdb-movies-2009.json   \n",
      "  inflating: tmdb-movies-2010.json   \n",
      "  inflating: tmdb-movies-2011.json   \n",
      "  inflating: tmdb-movies-2012.json   \n",
      "  inflating: tmdb-movies-2013.json   \n",
      "  inflating: tmdb-movies-2014.json   \n",
      "  inflating: tmdb-movies-2015.json   \n",
      "  inflating: tmdb-movies-2016.json   \n",
      "  inflating: tmdb-movies-2017.json   \n",
      "  inflating: tmdb-movies-2018.json   \n",
      "  inflating: tmdb-movies-2019.json   \n",
      "  inflating: tmdb-movies-2020.json   \n"
     ]
    }
   ],
   "source": [
    "!cd {TMDB_PATH}; unzip -o archive.zip\n",
    "!cd {TMDB_PATH}; cat *.json > movies_metadata.json"
   ]
  },
  {
   "cell_type": "code",
   "execution_count": 73,
   "id": "2be7c711-09b2-4d2f-a632-3aeffc5fbbb8",
   "metadata": {
    "tags": []
   },
   "outputs": [],
   "source": [
    "MOVIE_LENS_FILES = [ f'{MOVIE_LENS_PATH}/{f}' for f in [ \n",
    "    'ratings.csv',\n",
    "    'movies.csv',\n",
    "    'links.csv',\n",
    "    'tags.csv'\n",
    "]]\n",
    "TMDB_FILES = [ f'{TMDB_PATH}/movies_metadata.json']"
   ]
  },
  {
   "cell_type": "code",
   "execution_count": 74,
   "id": "814eee97-4de9-4a59-9862-995cdfe2af7a",
   "metadata": {
    "tags": []
   },
   "outputs": [
    {
     "data": {
      "text/plain": [
       "['../datasets/ml-25m/ratings.csv',\n",
       " '../datasets/ml-25m/movies.csv',\n",
       " '../datasets/ml-25m/links.csv',\n",
       " '../datasets/ml-25m/tags.csv']"
      ]
     },
     "execution_count": 74,
     "metadata": {},
     "output_type": "execute_result"
    }
   ],
   "source": [
    "MOVIE_LENS_FILES"
   ]
  },
  {
   "cell_type": "code",
   "execution_count": 75,
   "id": "74db4ebe-ab06-4a59-bc3f-867d26bc3248",
   "metadata": {
    "tags": []
   },
   "outputs": [
    {
     "data": {
      "text/plain": [
       "['../datasets/tmdb/movies_metadata.json']"
      ]
     },
     "execution_count": 75,
     "metadata": {},
     "output_type": "execute_result"
    }
   ],
   "source": [
    "TMDB_FILES"
   ]
  },
  {
   "cell_type": "code",
   "execution_count": 76,
   "id": "9b4d155d-71af-40f2-84b9-7e5b6c3bcb61",
   "metadata": {
    "tags": []
   },
   "outputs": [
    {
     "name": "stderr",
     "output_type": "stream",
     "text": [
      "2023-12-10 17:08:51,100 - INFO - Success: b'(node:87638) [DEP0040] DeprecationWarning: The `punycode` module is deprecated. Please use a userland alternative instead.(Use `node --trace-deprecation ...` to show where the warning was created)Current Mongosh Log ID:  65761ad27ce3b1499250ee50Connecting to:    mongodb://127.0.0.1:27017/?directConnection=true&serverSelectionTimeoutMS=2000&appName=mongosh+2.0.2Using MongoDB:    7.0.2Using Mongosh:    2.0.2mongosh 2.1.1 is available for download: https://www.mongodb.com/try/download/shellFor mongosh info see: https://docs.mongodb.com/mongodb-shell/------   The server generated these startup warnings when booting   2023-12-04T09:13:10.991-03:00: Access control is not enabled for the database. Read and write access to data and configuration is unrestricted------Loading file: /tmp/query.js(node:87638) [DEP0174] DeprecationWarning: Calling promisify on a function that returns a Promise is likely a mistake.MongoInvalidArgumentError: Collection names cannot be empty'\n",
      "2023-12-10 17:08:51,100 - INFO - Success: b'(node:87638) [DEP0040] DeprecationWarning: The `punycode` module is deprecated. Please use a userland alternative instead.(Use `node --trace-deprecation ...` to show where the warning was created)Current Mongosh Log ID:  65761ad27ce3b1499250ee50Connecting to:    mongodb://127.0.0.1:27017/?directConnection=true&serverSelectionTimeoutMS=2000&appName=mongosh+2.0.2Using MongoDB:    7.0.2Using Mongosh:    2.0.2mongosh 2.1.1 is available for download: https://www.mongodb.com/try/download/shellFor mongosh info see: https://docs.mongodb.com/mongodb-shell/------   The server generated these startup warnings when booting   2023-12-04T09:13:10.991-03:00: Access control is not enabled for the database. Read and write access to data and configuration is unrestricted------Loading file: /tmp/query.js(node:87638) [DEP0174] DeprecationWarning: Calling promisify on a function that returns a Promise is likely a mistake.MongoInvalidArgumentError: Collection names cannot be empty'\n",
      "2023-12-10 17:08:51,100 - INFO - Success: b'(node:87638) [DEP0040] DeprecationWarning: The `punycode` module is deprecated. Please use a userland alternative instead.(Use `node --trace-deprecation ...` to show where the warning was created)Current Mongosh Log ID:  65761ad27ce3b1499250ee50Connecting to:    mongodb://127.0.0.1:27017/?directConnection=true&serverSelectionTimeoutMS=2000&appName=mongosh+2.0.2Using MongoDB:    7.0.2Using Mongosh:    2.0.2mongosh 2.1.1 is available for download: https://www.mongodb.com/try/download/shellFor mongosh info see: https://docs.mongodb.com/mongodb-shell/------   The server generated these startup warnings when booting   2023-12-04T09:13:10.991-03:00: Access control is not enabled for the database. Read and write access to data and configuration is unrestricted------Loading file: /tmp/query.js(node:87638) [DEP0174] DeprecationWarning: Calling promisify on a function that returns a Promise is likely a mistake.MongoInvalidArgumentError: Collection names cannot be empty'\n",
      "2023-12-10 17:08:51,535 - INFO - Success: b'(node:87643) [DEP0040] DeprecationWarning: The `punycode` module is deprecated. Please use a userland alternative instead.(Use `node --trace-deprecation ...` to show where the warning was created)Current Mongosh Log ID:  65761ad37ad6ab32c9fc143dConnecting to:    mongodb://127.0.0.1:27017/?directConnection=true&serverSelectionTimeoutMS=2000&appName=mongosh+2.0.2Using MongoDB:    7.0.2Using Mongosh:    2.0.2mongosh 2.1.1 is available for download: https://www.mongodb.com/try/download/shellFor mongosh info see: https://docs.mongodb.com/mongodb-shell/------   The server generated these startup warnings when booting   2023-12-04T09:13:10.991-03:00: Access control is not enabled for the database. Read and write access to data and configuration is unrestricted------Loading file: /tmp/query.js(node:87643) [DEP0174] DeprecationWarning: Calling promisify on a function that returns a Promise is likely a mistake.MongoInvalidArgumentError: Collection names cannot be empty'\n",
      "2023-12-10 17:08:51,535 - INFO - Success: b'(node:87643) [DEP0040] DeprecationWarning: The `punycode` module is deprecated. Please use a userland alternative instead.(Use `node --trace-deprecation ...` to show where the warning was created)Current Mongosh Log ID:  65761ad37ad6ab32c9fc143dConnecting to:    mongodb://127.0.0.1:27017/?directConnection=true&serverSelectionTimeoutMS=2000&appName=mongosh+2.0.2Using MongoDB:    7.0.2Using Mongosh:    2.0.2mongosh 2.1.1 is available for download: https://www.mongodb.com/try/download/shellFor mongosh info see: https://docs.mongodb.com/mongodb-shell/------   The server generated these startup warnings when booting   2023-12-04T09:13:10.991-03:00: Access control is not enabled for the database. Read and write access to data and configuration is unrestricted------Loading file: /tmp/query.js(node:87643) [DEP0174] DeprecationWarning: Calling promisify on a function that returns a Promise is likely a mistake.MongoInvalidArgumentError: Collection names cannot be empty'\n",
      "2023-12-10 17:08:51,535 - INFO - Success: b'(node:87643) [DEP0040] DeprecationWarning: The `punycode` module is deprecated. Please use a userland alternative instead.(Use `node --trace-deprecation ...` to show where the warning was created)Current Mongosh Log ID:  65761ad37ad6ab32c9fc143dConnecting to:    mongodb://127.0.0.1:27017/?directConnection=true&serverSelectionTimeoutMS=2000&appName=mongosh+2.0.2Using MongoDB:    7.0.2Using Mongosh:    2.0.2mongosh 2.1.1 is available for download: https://www.mongodb.com/try/download/shellFor mongosh info see: https://docs.mongodb.com/mongodb-shell/------   The server generated these startup warnings when booting   2023-12-04T09:13:10.991-03:00: Access control is not enabled for the database. Read and write access to data and configuration is unrestricted------Loading file: /tmp/query.js(node:87643) [DEP0174] DeprecationWarning: Calling promisify on a function that returns a Promise is likely a mistake.MongoInvalidArgumentError: Collection names cannot be empty'\n",
      "2023-12-10 17:08:52,017 - INFO - Success: b'(node:87647) [DEP0040] DeprecationWarning: The `punycode` module is deprecated. Please use a userland alternative instead.(Use `node --trace-deprecation ...` to show where the warning was created)Current Mongosh Log ID:  65761ad32a5bae96326948e9Connecting to:    mongodb://127.0.0.1:27017/?directConnection=true&serverSelectionTimeoutMS=2000&appName=mongosh+2.0.2Using MongoDB:    7.0.2Using Mongosh:    2.0.2mongosh 2.1.1 is available for download: https://www.mongodb.com/try/download/shellFor mongosh info see: https://docs.mongodb.com/mongodb-shell/------   The server generated these startup warnings when booting   2023-12-04T09:13:10.991-03:00: Access control is not enabled for the database. Read and write access to data and configuration is unrestricted------Loading file: /tmp/query.js(node:87647) [DEP0174] DeprecationWarning: Calling promisify on a function that returns a Promise is likely a mistake.MongoInvalidArgumentError: Collection names cannot be empty'\n",
      "2023-12-10 17:08:52,017 - INFO - Success: b'(node:87647) [DEP0040] DeprecationWarning: The `punycode` module is deprecated. Please use a userland alternative instead.(Use `node --trace-deprecation ...` to show where the warning was created)Current Mongosh Log ID:  65761ad32a5bae96326948e9Connecting to:    mongodb://127.0.0.1:27017/?directConnection=true&serverSelectionTimeoutMS=2000&appName=mongosh+2.0.2Using MongoDB:    7.0.2Using Mongosh:    2.0.2mongosh 2.1.1 is available for download: https://www.mongodb.com/try/download/shellFor mongosh info see: https://docs.mongodb.com/mongodb-shell/------   The server generated these startup warnings when booting   2023-12-04T09:13:10.991-03:00: Access control is not enabled for the database. Read and write access to data and configuration is unrestricted------Loading file: /tmp/query.js(node:87647) [DEP0174] DeprecationWarning: Calling promisify on a function that returns a Promise is likely a mistake.MongoInvalidArgumentError: Collection names cannot be empty'\n",
      "2023-12-10 17:08:52,017 - INFO - Success: b'(node:87647) [DEP0040] DeprecationWarning: The `punycode` module is deprecated. Please use a userland alternative instead.(Use `node --trace-deprecation ...` to show where the warning was created)Current Mongosh Log ID:  65761ad32a5bae96326948e9Connecting to:    mongodb://127.0.0.1:27017/?directConnection=true&serverSelectionTimeoutMS=2000&appName=mongosh+2.0.2Using MongoDB:    7.0.2Using Mongosh:    2.0.2mongosh 2.1.1 is available for download: https://www.mongodb.com/try/download/shellFor mongosh info see: https://docs.mongodb.com/mongodb-shell/------   The server generated these startup warnings when booting   2023-12-04T09:13:10.991-03:00: Access control is not enabled for the database. Read and write access to data and configuration is unrestricted------Loading file: /tmp/query.js(node:87647) [DEP0174] DeprecationWarning: Calling promisify on a function that returns a Promise is likely a mistake.MongoInvalidArgumentError: Collection names cannot be empty'\n",
      "2023-12-10 17:08:52,461 - INFO - Success: b'(node:87655) [DEP0040] DeprecationWarning: The `punycode` module is deprecated. Please use a userland alternative instead.(Use `node --trace-deprecation ...` to show where the warning was created)Current Mongosh Log ID:  65761ad4891a415534a043bbConnecting to:    mongodb://127.0.0.1:27017/?directConnection=true&serverSelectionTimeoutMS=2000&appName=mongosh+2.0.2Using MongoDB:    7.0.2Using Mongosh:    2.0.2mongosh 2.1.1 is available for download: https://www.mongodb.com/try/download/shellFor mongosh info see: https://docs.mongodb.com/mongodb-shell/------   The server generated these startup warnings when booting   2023-12-04T09:13:10.991-03:00: Access control is not enabled for the database. Read and write access to data and configuration is unrestricted------Loading file: /tmp/query.js(node:87655) [DEP0174] DeprecationWarning: Calling promisify on a function that returns a Promise is likely a mistake.MongoInvalidArgumentError: Collection names cannot be empty'\n",
      "2023-12-10 17:08:52,461 - INFO - Success: b'(node:87655) [DEP0040] DeprecationWarning: The `punycode` module is deprecated. Please use a userland alternative instead.(Use `node --trace-deprecation ...` to show where the warning was created)Current Mongosh Log ID:  65761ad4891a415534a043bbConnecting to:    mongodb://127.0.0.1:27017/?directConnection=true&serverSelectionTimeoutMS=2000&appName=mongosh+2.0.2Using MongoDB:    7.0.2Using Mongosh:    2.0.2mongosh 2.1.1 is available for download: https://www.mongodb.com/try/download/shellFor mongosh info see: https://docs.mongodb.com/mongodb-shell/------   The server generated these startup warnings when booting   2023-12-04T09:13:10.991-03:00: Access control is not enabled for the database. Read and write access to data and configuration is unrestricted------Loading file: /tmp/query.js(node:87655) [DEP0174] DeprecationWarning: Calling promisify on a function that returns a Promise is likely a mistake.MongoInvalidArgumentError: Collection names cannot be empty'\n",
      "2023-12-10 17:08:52,461 - INFO - Success: b'(node:87655) [DEP0040] DeprecationWarning: The `punycode` module is deprecated. Please use a userland alternative instead.(Use `node --trace-deprecation ...` to show where the warning was created)Current Mongosh Log ID:  65761ad4891a415534a043bbConnecting to:    mongodb://127.0.0.1:27017/?directConnection=true&serverSelectionTimeoutMS=2000&appName=mongosh+2.0.2Using MongoDB:    7.0.2Using Mongosh:    2.0.2mongosh 2.1.1 is available for download: https://www.mongodb.com/try/download/shellFor mongosh info see: https://docs.mongodb.com/mongodb-shell/------   The server generated these startup warnings when booting   2023-12-04T09:13:10.991-03:00: Access control is not enabled for the database. Read and write access to data and configuration is unrestricted------Loading file: /tmp/query.js(node:87655) [DEP0174] DeprecationWarning: Calling promisify on a function that returns a Promise is likely a mistake.MongoInvalidArgumentError: Collection names cannot be empty'\n"
     ]
    }
   ],
   "source": [
    "Mongo.drop(DATABASE, MOVIE_LENS_FILES)"
   ]
  },
  {
   "cell_type": "code",
   "execution_count": 77,
   "id": "1b6470b3-e9d0-462f-964b-4933c68f6ad4",
   "metadata": {
    "tags": []
   },
   "outputs": [
    {
     "name": "stderr",
     "output_type": "stream",
     "text": [
      "2023-12-10 17:16:09,269 - INFO - Success: b'2023-12-10T17:08:58.281-0300  connected to: mongodb://localhost/2023-12-10T17:09:01.281-0300  [........................] movies.ratings  7.27MB/647MB (1.1%)2023-12-10T17:09:04.281-0300  [........................] movies.ratings  15.6MB/647MB (2.4%)2023-12-10T17:09:07.281-0300  [........................] movies.ratings  23.6MB/647MB (3.6%)2023-12-10T17:09:10.281-0300  [#.......................] movies.ratings  29.6MB/647MB (4.6%)2023-12-10T17:09:13.282-0300  [#.......................] movies.ratings  34.0MB/647MB (5.3%)2023-12-10T17:09:16.281-0300  [#.......................] movies.ratings  38.2MB/647MB (5.9%)2023-12-10T17:09:19.281-0300  [#.......................] movies.ratings  42.7MB/647MB (6.6%)2023-12-10T17:09:22.281-0300  [#.......................] movies.ratings  47.0MB/647MB (7.3%)2023-12-10T17:09:25.282-0300  [#.......................] movies.ratings  51.1MB/647MB (7.9%)2023-12-10T17:09:28.282-0300  [##......................] movies.ratings  56.0MB/647MB (8.6%)2023-12-10T17:09:31.282-0300  [##......................] movies.ratings  60.8MB/647MB (9.4%)2023-12-10T17:09:34.282-0300  [##......................] movies.ratings  65.4MB/647MB (10.1%)2023-12-10T17:09:37.282-0300  [##......................] movies.ratings  69.5MB/647MB (10.8%)2023-12-10T17:09:40.282-0300  [##......................] movies.ratings  73.8MB/647MB (11.4%)2023-12-10T17:09:43.282-0300  [##......................] movies.ratings  78.6MB/647MB (12.1%)2023-12-10T17:09:46.283-0300  [###.....................] movies.ratings  83.2MB/647MB (12.9%)2023-12-10T17:09:49.282-0300  [###.....................] movies.ratings  87.4MB/647MB (13.5%)2023-12-10T17:09:52.282-0300  [###.....................] movies.ratings  91.9MB/647MB (14.2%)2023-12-10T17:09:55.282-0300  [###.....................] movies.ratings  96.3MB/647MB (14.9%)2023-12-10T17:09:58.225-0300  [###.....................] movies.ratings  101MB/647MB (15.6%)2023-12-10T17:10:01.225-0300  [###.....................] movies.ratings  105MB/647MB (16.2%)2023-12-10T17:10:04.226-0300  [####....................] movies.ratings  110MB/647MB (17.0%)2023-12-10T17:10:07.225-0300  [####....................] movies.ratings  114MB/647MB (17.7%)2023-12-10T17:10:10.225-0300  [####....................] movies.ratings  119MB/647MB (18.4%)2023-12-10T17:10:13.226-0300  [####....................] movies.ratings  123MB/647MB (19.0%)2023-12-10T17:10:16.226-0300  [####....................] movies.ratings  128MB/647MB (19.7%)2023-12-10T17:10:19.226-0300  [####....................] movies.ratings  132MB/647MB (20.4%)2023-12-10T17:10:22.225-0300  [#####...................] movies.ratings  136MB/647MB (21.0%)2023-12-10T17:10:25.226-0300  [#####...................] movies.ratings  140MB/647MB (21.7%)2023-12-10T17:10:28.225-0300  [#####...................] movies.ratings  145MB/647MB (22.4%)2023-12-10T17:10:31.225-0300  [#####...................] movies.ratings  149MB/647MB (23.1%)2023-12-10T17:10:34.225-0300  [#####...................] movies.ratings  154MB/647MB (23.7%)2023-12-10T17:10:37.225-0300  [#####...................] movies.ratings  158MB/647MB (24.4%)2023-12-10T17:10:40.225-0300  [######..................] movies.ratings  162MB/647MB (25.0%)2023-12-10T17:10:43.226-0300  [######..................] movies.ratings  166MB/647MB (25.7%)2023-12-10T17:10:46.226-0300  [######..................] movies.ratings  171MB/647MB (26.4%)2023-12-10T17:10:49.225-0300  [######..................] movies.ratings  175MB/647MB (27.0%)2023-12-10T17:10:52.226-0300  [######..................] movies.ratings  179MB/647MB (27.7%)2023-12-10T17:10:55.226-0300  [######..................] movies.ratings  184MB/647MB (28.4%)2023-12-10T17:10:58.225-0300  [######..................] movies.ratings  188MB/647MB (29.0%)2023-12-10T17:11:01.225-0300  [#######.................] movies.ratings  192MB/647MB (29.7%)2023-12-10T17:11:04.230-0300  [#######.................] movies.ratings  196MB/647MB (30.3%)2023-12-10T17:11:07.225-0300  [#######.................] movies.ratings  201MB/647MB (31.0%)2023-12-10T17:11:10.225-0300  [#######.................] movies.ratings  205MB/647MB (31.7%)2023-12-10T17:11:13.225-0300  [#######.................] movies.ratings  209MB/647MB (32.4%)2023-12-10T17:11:16.226-0300  [#######.................] movies.ratings  214MB/647MB (33.0%)2023-12-10T17:11:19.226-0300  [########................] movies.ratings  218MB/647MB (33.7%)2023-12-10T17:11:22.225-0300  [########................] movies.ratings  222MB/647MB (34.4%)2023-12-10T17:11:25.226-0300  [########................] movies.ratings  227MB/647MB (35.1%)2023-12-10T17:11:28.225-0300  [########................] movies.ratings  231MB/647MB (35.7%)2023-12-10T17:11:31.225-0300  [########................] movies.ratings  235MB/647MB (36.4%)2023-12-10T17:11:34.225-0300  [########................] movies.ratings  240MB/647MB (37.0%)2023-12-10T17:11:37.226-0300  [#########...............] movies.ratings  244MB/647MB (37.7%)2023-12-10T17:11:40.225-0300  [#########...............] movies.ratings  248MB/647MB (38.4%)2023-12-10T17:11:43.225-0300  [#########...............] movies.ratings  253MB/647MB (39.1%)2023-12-10T17:11:46.226-0300  [#########...............] movies.ratings  257MB/647MB (39.7%)2023-12-10T17:11:49.227-0300  [#########...............] movies.ratings  261MB/647MB (40.4%)2023-12-10T17:11:52.226-0300  [#########...............] movies.ratings  266MB/647MB (41.1%)2023-12-10T17:11:55.226-0300  [##########..............] movies.ratings  270MB/647MB (41.8%)2023-12-10T17:11:58.225-0300  [##########..............] movies.ratings  275MB/647MB (42.5%)2023-12-10T17:12:01.225-0300  [##########..............] movies.ratings  279MB/647MB (43.1%)2023-12-10T17:12:04.225-0300  [##########..............] movies.ratings  284MB/647MB (43.8%)2023-12-10T17:12:07.226-0300  [##########..............] movies.ratings  288MB/647MB (44.6%)2023-12-10T17:12:10.225-0300  [##########..............] movies.ratings  293MB/647MB (45.3%)2023-12-10T17:12:13.225-0300  [###########.............] movies.ratings  298MB/647MB (46.0%)2023-12-10T17:12:16.225-0300  [###########.............] movies.ratings  302MB/647MB (46.7%)2023-12-10T17:12:19.226-0300  [###########.............] movies.ratings  306MB/647MB (47.4%)2023-12-10T17:12:22.226-0300  [###########.............] movies.ratings  311MB/647MB (48.0%)2023-12-10T17:12:25.226-0300  [###########.............] movies.ratings  315MB/647MB (48.7%)2023-12-10T17:12:28.225-0300  [###########.............] movies.ratings  319MB/647MB (49.4%)2023-12-10T17:12:31.225-0300  [############............] movies.ratings  324MB/647MB (50.1%)2023-12-10T17:12:34.226-0300  [############............] movies.ratings  328MB/647MB (50.7%)2023-12-10T17:12:37.225-0300  [############............] movies.ratings  332MB/647MB (51.4%)2023-12-10T17:12:40.225-0300  [############............] movies.ratings  337MB/647MB (52.0%)2023-12-10T17:12:43.225-0300  [############............] movies.ratings  341MB/647MB (52.8%)2023-12-10T17:12:46.225-0300  [############............] movies.ratings  346MB/647MB (53.4%)2023-12-10T17:12:49.225-0300  [############............] movies.ratings  350MB/647MB (54.1%)2023-12-10T17:12:52.225-0300  [#############...........] movies.ratings  355MB/647MB (54.8%)2023-12-10T17:12:55.226-0300  [#############...........] movies.ratings  359MB/647MB (55.5%)2023-12-10T17:12:58.225-0300  [#############...........] movies.ratings  363MB/647MB (56.1%)2023-12-10T17:13:01.225-0300  [#############...........] movies.ratings  368MB/647MB (56.8%)2023-12-10T17:13:04.226-0300  [#############...........] movies.ratings  372MB/647MB (57.4%)2023-12-10T17:13:07.225-0300  [#############...........] movies.ratings  376MB/647MB (58.1%)2023-12-10T17:13:10.226-0300  [##############..........] movies.ratings  381MB/647MB (58.9%)2023-12-10T17:13:13.225-0300  [##############..........] movies.ratings  385MB/647MB (59.6%)2023-12-10T17:13:16.225-0300  [##############..........] movies.ratings  390MB/647MB (60.2%)2023-12-10T17:13:19.226-0300  [##############..........] movies.ratings  394MB/647MB (60.9%)2023-12-10T17:13:22.225-0300  [##############..........] movies.ratings  398MB/647MB (61.6%)2023-12-10T17:13:25.228-0300  [##############..........] movies.ratings  403MB/647MB (62.3%)2023-12-10T17:13:28.226-0300  [###############.........] movies.ratings  407MB/647MB (62.9%)2023-12-10T17:13:31.225-0300  [###############.........] movies.ratings  412MB/647MB (63.7%)2023-12-10T17:13:34.225-0300  [###############.........] movies.ratings  416MB/647MB (64.4%)2023-12-10T17:13:37.227-0300  [###############.........] movies.ratings  421MB/647MB (65.0%)2023-12-10T17:13:40.225-0300  [###############.........] movies.ratings  425MB/647MB (65.7%)2023-12-10T17:13:43.227-0300  [###############.........] movies.ratings  430MB/647MB (66.4%)2023-12-10T17:13:46.225-0300  [################........] movies.ratings  434MB/647MB (67.1%)2023-12-10T17:13:49.225-0300  [################........] movies.ratings  438MB/647MB (67.8%)2023-12-10T17:13:52.228-0300  [################........] movies.ratings  443MB/647MB (68.4%)2023-12-10T17:13:55.228-0300  [################........] movies.ratings  447MB/647MB (69.1%)2023-12-10T17:13:58.227-0300  [################........] movies.ratings  451MB/647MB (69.8%)2023-12-10T17:14:01.227-0300  [################........] movies.ratings  456MB/647MB (70.5%)2023-12-10T17:14:04.225-0300  [#################.......] movies.ratings  460MB/647MB (71.1%)2023-12-10T17:14:07.225-0300  [#################.......] movies.ratings  465MB/647MB (71.9%)2023-12-10T17:14:10.226-0300  [#################.......] movies.ratings  470MB/647MB (72.6%)2023-12-10T17:14:13.226-0300  [#################.......] movies.ratings  474MB/647MB (73.3%)2023-12-10T17:14:16.225-0300  [#################.......] movies.ratings  479MB/647MB (74.0%)2023-12-10T17:14:19.225-0300  [#################.......] movies.ratings  483MB/647MB (74.7%)2023-12-10T17:14:22.225-0300  [##################......] movies.ratings  488MB/647MB (75.4%)2023-12-10T17:14:25.226-0300  [##################......] movies.ratings  492MB/647MB (76.1%)2023-12-10T17:14:28.227-0300  [##################......] movies.ratings  496MB/647MB (76.7%)2023-12-10T17:14:31.227-0300  [##################......] movies.ratings  501MB/647MB (77.4%)2023-12-10T17:14:34.227-0300  [##################......] movies.ratings  505MB/647MB (78.1%)2023-12-10T17:14:37.225-0300  [##################......] movies.ratings  510MB/647MB (78.8%)2023-12-10T17:14:40.225-0300  [###################.....] movies.ratings  514MB/647MB (79.4%)2023-12-10T17:14:43.225-0300  [###################.....] movies.ratings  518MB/647MB (80.1%)2023-12-10T17:14:46.225-0300  [###################.....] movies.ratings  523MB/647MB (80.8%)2023-12-10T17:14:49.225-0300  [###################.....] movies.ratings  528MB/647MB (81.6%)2023-12-10T17:14:52.225-0300  [###################.....] movies.ratings  532MB/647MB (82.2%)2023-12-10T17:14:55.226-0300  [###################.....] movies.ratings  536MB/647MB (82.9%)2023-12-10T17:14:58.225-0300  [####################....] movies.ratings  541MB/647MB (83.6%)2023-12-10T17:15:01.227-0300  [####################....] movies.ratings  545MB/647MB (84.3%)2023-12-10T17:15:04.225-0300  [####################....] movies.ratings  550MB/647MB (85.0%)2023-12-10T17:15:07.225-0300  [####################....] movies.ratings  554MB/647MB (85.6%)2023-12-10T17:15:10.225-0300  [####################....] movies.ratings  559MB/647MB (86.4%)2023-12-10T17:15:13.229-0300  [####################....] movies.ratings  564MB/647MB (87.1%)2023-12-10T17:15:16.228-0300  [#####################...] movies.ratings  568MB/647MB (87.8%)2023-12-10T17:15:19.225-0300  [#####################...] movies.ratings  572MB/647MB (88.5%)2023-12-10T17:15:22.227-0300  [#####################...] movies.ratings  577MB/647MB (89.2%)2023-12-10T17:15:25.225-0300  [#####################...] movies.ratings  581MB/647MB (89.9%)2023-12-10T17:15:28.225-0300  [#####################...] movies.ratings  586MB/647MB (90.6%)2023-12-10T17:15:31.225-0300  [#####################...] movies.ratings  591MB/647MB (91.3%)2023-12-10T17:15:34.226-0300  [######################..] movies.ratings  595MB/647MB (92.0%)2023-12-10T17:15:37.228-0300  [######################..] movies.ratings  599MB/647MB (92.7%)2023-12-10T17:15:40.225-0300  [######################..] movies.ratings  604MB/647MB (93.4%)2023-12-10T17:15:43.226-0300  [######################..] movies.ratings  608MB/647MB (94.0%)2023-12-10T17:15:46.225-0300  [######################..] movies.ratings  613MB/647MB (94.7%)2023-12-10T17:15:49.226-0300  [######################..] movies.ratings  617MB/647MB (95.4%)2023-12-10T17:15:52.226-0300  [#######################.] movies.ratings  622MB/647MB (96.1%)2023-12-10T17:15:55.228-0300  [#######################.] movies.ratings  626MB/647MB (96.8%)2023-12-10T17:15:58.225-0300  [#######################.] movies.ratings  630MB/647MB (97.4%)2023-12-10T17:16:01.225-0300  [#######################.] movies.ratings  634MB/647MB (98.1%)2023-12-10T17:16:04.225-0300  [#######################.] movies.ratings  639MB/647MB (98.8%)2023-12-10T17:16:07.226-0300  [#######################.] movies.ratings  644MB/647MB (99.5%)2023-12-10T17:16:09.267-0300  [########################] movies.ratings  647MB/647MB (100.0%)2023-12-10T17:16:09.267-0300  25000095 document(s) imported successfully. 0 document(s) failed to import.'\n",
      "2023-12-10 17:16:09,269 - INFO - Success: b'2023-12-10T17:08:58.281-0300  connected to: mongodb://localhost/2023-12-10T17:09:01.281-0300  [........................] movies.ratings  7.27MB/647MB (1.1%)2023-12-10T17:09:04.281-0300  [........................] movies.ratings  15.6MB/647MB (2.4%)2023-12-10T17:09:07.281-0300  [........................] movies.ratings  23.6MB/647MB (3.6%)2023-12-10T17:09:10.281-0300  [#.......................] movies.ratings  29.6MB/647MB (4.6%)2023-12-10T17:09:13.282-0300  [#.......................] movies.ratings  34.0MB/647MB (5.3%)2023-12-10T17:09:16.281-0300  [#.......................] movies.ratings  38.2MB/647MB (5.9%)2023-12-10T17:09:19.281-0300  [#.......................] movies.ratings  42.7MB/647MB (6.6%)2023-12-10T17:09:22.281-0300  [#.......................] movies.ratings  47.0MB/647MB (7.3%)2023-12-10T17:09:25.282-0300  [#.......................] movies.ratings  51.1MB/647MB (7.9%)2023-12-10T17:09:28.282-0300  [##......................] movies.ratings  56.0MB/647MB (8.6%)2023-12-10T17:09:31.282-0300  [##......................] movies.ratings  60.8MB/647MB (9.4%)2023-12-10T17:09:34.282-0300  [##......................] movies.ratings  65.4MB/647MB (10.1%)2023-12-10T17:09:37.282-0300  [##......................] movies.ratings  69.5MB/647MB (10.8%)2023-12-10T17:09:40.282-0300  [##......................] movies.ratings  73.8MB/647MB (11.4%)2023-12-10T17:09:43.282-0300  [##......................] movies.ratings  78.6MB/647MB (12.1%)2023-12-10T17:09:46.283-0300  [###.....................] movies.ratings  83.2MB/647MB (12.9%)2023-12-10T17:09:49.282-0300  [###.....................] movies.ratings  87.4MB/647MB (13.5%)2023-12-10T17:09:52.282-0300  [###.....................] movies.ratings  91.9MB/647MB (14.2%)2023-12-10T17:09:55.282-0300  [###.....................] movies.ratings  96.3MB/647MB (14.9%)2023-12-10T17:09:58.225-0300  [###.....................] movies.ratings  101MB/647MB (15.6%)2023-12-10T17:10:01.225-0300  [###.....................] movies.ratings  105MB/647MB (16.2%)2023-12-10T17:10:04.226-0300  [####....................] movies.ratings  110MB/647MB (17.0%)2023-12-10T17:10:07.225-0300  [####....................] movies.ratings  114MB/647MB (17.7%)2023-12-10T17:10:10.225-0300  [####....................] movies.ratings  119MB/647MB (18.4%)2023-12-10T17:10:13.226-0300  [####....................] movies.ratings  123MB/647MB (19.0%)2023-12-10T17:10:16.226-0300  [####....................] movies.ratings  128MB/647MB (19.7%)2023-12-10T17:10:19.226-0300  [####....................] movies.ratings  132MB/647MB (20.4%)2023-12-10T17:10:22.225-0300  [#####...................] movies.ratings  136MB/647MB (21.0%)2023-12-10T17:10:25.226-0300  [#####...................] movies.ratings  140MB/647MB (21.7%)2023-12-10T17:10:28.225-0300  [#####...................] movies.ratings  145MB/647MB (22.4%)2023-12-10T17:10:31.225-0300  [#####...................] movies.ratings  149MB/647MB (23.1%)2023-12-10T17:10:34.225-0300  [#####...................] movies.ratings  154MB/647MB (23.7%)2023-12-10T17:10:37.225-0300  [#####...................] movies.ratings  158MB/647MB (24.4%)2023-12-10T17:10:40.225-0300  [######..................] movies.ratings  162MB/647MB (25.0%)2023-12-10T17:10:43.226-0300  [######..................] movies.ratings  166MB/647MB (25.7%)2023-12-10T17:10:46.226-0300  [######..................] movies.ratings  171MB/647MB (26.4%)2023-12-10T17:10:49.225-0300  [######..................] movies.ratings  175MB/647MB (27.0%)2023-12-10T17:10:52.226-0300  [######..................] movies.ratings  179MB/647MB (27.7%)2023-12-10T17:10:55.226-0300  [######..................] movies.ratings  184MB/647MB (28.4%)2023-12-10T17:10:58.225-0300  [######..................] movies.ratings  188MB/647MB (29.0%)2023-12-10T17:11:01.225-0300  [#######.................] movies.ratings  192MB/647MB (29.7%)2023-12-10T17:11:04.230-0300  [#######.................] movies.ratings  196MB/647MB (30.3%)2023-12-10T17:11:07.225-0300  [#######.................] movies.ratings  201MB/647MB (31.0%)2023-12-10T17:11:10.225-0300  [#######.................] movies.ratings  205MB/647MB (31.7%)2023-12-10T17:11:13.225-0300  [#######.................] movies.ratings  209MB/647MB (32.4%)2023-12-10T17:11:16.226-0300  [#######.................] movies.ratings  214MB/647MB (33.0%)2023-12-10T17:11:19.226-0300  [########................] movies.ratings  218MB/647MB (33.7%)2023-12-10T17:11:22.225-0300  [########................] movies.ratings  222MB/647MB (34.4%)2023-12-10T17:11:25.226-0300  [########................] movies.ratings  227MB/647MB (35.1%)2023-12-10T17:11:28.225-0300  [########................] movies.ratings  231MB/647MB (35.7%)2023-12-10T17:11:31.225-0300  [########................] movies.ratings  235MB/647MB (36.4%)2023-12-10T17:11:34.225-0300  [########................] movies.ratings  240MB/647MB (37.0%)2023-12-10T17:11:37.226-0300  [#########...............] movies.ratings  244MB/647MB (37.7%)2023-12-10T17:11:40.225-0300  [#########...............] movies.ratings  248MB/647MB (38.4%)2023-12-10T17:11:43.225-0300  [#########...............] movies.ratings  253MB/647MB (39.1%)2023-12-10T17:11:46.226-0300  [#########...............] movies.ratings  257MB/647MB (39.7%)2023-12-10T17:11:49.227-0300  [#########...............] movies.ratings  261MB/647MB (40.4%)2023-12-10T17:11:52.226-0300  [#########...............] movies.ratings  266MB/647MB (41.1%)2023-12-10T17:11:55.226-0300  [##########..............] movies.ratings  270MB/647MB (41.8%)2023-12-10T17:11:58.225-0300  [##########..............] movies.ratings  275MB/647MB (42.5%)2023-12-10T17:12:01.225-0300  [##########..............] movies.ratings  279MB/647MB (43.1%)2023-12-10T17:12:04.225-0300  [##########..............] movies.ratings  284MB/647MB (43.8%)2023-12-10T17:12:07.226-0300  [##########..............] movies.ratings  288MB/647MB (44.6%)2023-12-10T17:12:10.225-0300  [##########..............] movies.ratings  293MB/647MB (45.3%)2023-12-10T17:12:13.225-0300  [###########.............] movies.ratings  298MB/647MB (46.0%)2023-12-10T17:12:16.225-0300  [###########.............] movies.ratings  302MB/647MB (46.7%)2023-12-10T17:12:19.226-0300  [###########.............] movies.ratings  306MB/647MB (47.4%)2023-12-10T17:12:22.226-0300  [###########.............] movies.ratings  311MB/647MB (48.0%)2023-12-10T17:12:25.226-0300  [###########.............] movies.ratings  315MB/647MB (48.7%)2023-12-10T17:12:28.225-0300  [###########.............] movies.ratings  319MB/647MB (49.4%)2023-12-10T17:12:31.225-0300  [############............] movies.ratings  324MB/647MB (50.1%)2023-12-10T17:12:34.226-0300  [############............] movies.ratings  328MB/647MB (50.7%)2023-12-10T17:12:37.225-0300  [############............] movies.ratings  332MB/647MB (51.4%)2023-12-10T17:12:40.225-0300  [############............] movies.ratings  337MB/647MB (52.0%)2023-12-10T17:12:43.225-0300  [############............] movies.ratings  341MB/647MB (52.8%)2023-12-10T17:12:46.225-0300  [############............] movies.ratings  346MB/647MB (53.4%)2023-12-10T17:12:49.225-0300  [############............] movies.ratings  350MB/647MB (54.1%)2023-12-10T17:12:52.225-0300  [#############...........] movies.ratings  355MB/647MB (54.8%)2023-12-10T17:12:55.226-0300  [#############...........] movies.ratings  359MB/647MB (55.5%)2023-12-10T17:12:58.225-0300  [#############...........] movies.ratings  363MB/647MB (56.1%)2023-12-10T17:13:01.225-0300  [#############...........] movies.ratings  368MB/647MB (56.8%)2023-12-10T17:13:04.226-0300  [#############...........] movies.ratings  372MB/647MB (57.4%)2023-12-10T17:13:07.225-0300  [#############...........] movies.ratings  376MB/647MB (58.1%)2023-12-10T17:13:10.226-0300  [##############..........] movies.ratings  381MB/647MB (58.9%)2023-12-10T17:13:13.225-0300  [##############..........] movies.ratings  385MB/647MB (59.6%)2023-12-10T17:13:16.225-0300  [##############..........] movies.ratings  390MB/647MB (60.2%)2023-12-10T17:13:19.226-0300  [##############..........] movies.ratings  394MB/647MB (60.9%)2023-12-10T17:13:22.225-0300  [##############..........] movies.ratings  398MB/647MB (61.6%)2023-12-10T17:13:25.228-0300  [##############..........] movies.ratings  403MB/647MB (62.3%)2023-12-10T17:13:28.226-0300  [###############.........] movies.ratings  407MB/647MB (62.9%)2023-12-10T17:13:31.225-0300  [###############.........] movies.ratings  412MB/647MB (63.7%)2023-12-10T17:13:34.225-0300  [###############.........] movies.ratings  416MB/647MB (64.4%)2023-12-10T17:13:37.227-0300  [###############.........] movies.ratings  421MB/647MB (65.0%)2023-12-10T17:13:40.225-0300  [###############.........] movies.ratings  425MB/647MB (65.7%)2023-12-10T17:13:43.227-0300  [###############.........] movies.ratings  430MB/647MB (66.4%)2023-12-10T17:13:46.225-0300  [################........] movies.ratings  434MB/647MB (67.1%)2023-12-10T17:13:49.225-0300  [################........] movies.ratings  438MB/647MB (67.8%)2023-12-10T17:13:52.228-0300  [################........] movies.ratings  443MB/647MB (68.4%)2023-12-10T17:13:55.228-0300  [################........] movies.ratings  447MB/647MB (69.1%)2023-12-10T17:13:58.227-0300  [################........] movies.ratings  451MB/647MB (69.8%)2023-12-10T17:14:01.227-0300  [################........] movies.ratings  456MB/647MB (70.5%)2023-12-10T17:14:04.225-0300  [#################.......] movies.ratings  460MB/647MB (71.1%)2023-12-10T17:14:07.225-0300  [#################.......] movies.ratings  465MB/647MB (71.9%)2023-12-10T17:14:10.226-0300  [#################.......] movies.ratings  470MB/647MB (72.6%)2023-12-10T17:14:13.226-0300  [#################.......] movies.ratings  474MB/647MB (73.3%)2023-12-10T17:14:16.225-0300  [#################.......] movies.ratings  479MB/647MB (74.0%)2023-12-10T17:14:19.225-0300  [#################.......] movies.ratings  483MB/647MB (74.7%)2023-12-10T17:14:22.225-0300  [##################......] movies.ratings  488MB/647MB (75.4%)2023-12-10T17:14:25.226-0300  [##################......] movies.ratings  492MB/647MB (76.1%)2023-12-10T17:14:28.227-0300  [##################......] movies.ratings  496MB/647MB (76.7%)2023-12-10T17:14:31.227-0300  [##################......] movies.ratings  501MB/647MB (77.4%)2023-12-10T17:14:34.227-0300  [##################......] movies.ratings  505MB/647MB (78.1%)2023-12-10T17:14:37.225-0300  [##################......] movies.ratings  510MB/647MB (78.8%)2023-12-10T17:14:40.225-0300  [###################.....] movies.ratings  514MB/647MB (79.4%)2023-12-10T17:14:43.225-0300  [###################.....] movies.ratings  518MB/647MB (80.1%)2023-12-10T17:14:46.225-0300  [###################.....] movies.ratings  523MB/647MB (80.8%)2023-12-10T17:14:49.225-0300  [###################.....] movies.ratings  528MB/647MB (81.6%)2023-12-10T17:14:52.225-0300  [###################.....] movies.ratings  532MB/647MB (82.2%)2023-12-10T17:14:55.226-0300  [###################.....] movies.ratings  536MB/647MB (82.9%)2023-12-10T17:14:58.225-0300  [####################....] movies.ratings  541MB/647MB (83.6%)2023-12-10T17:15:01.227-0300  [####################....] movies.ratings  545MB/647MB (84.3%)2023-12-10T17:15:04.225-0300  [####################....] movies.ratings  550MB/647MB (85.0%)2023-12-10T17:15:07.225-0300  [####################....] movies.ratings  554MB/647MB (85.6%)2023-12-10T17:15:10.225-0300  [####################....] movies.ratings  559MB/647MB (86.4%)2023-12-10T17:15:13.229-0300  [####################....] movies.ratings  564MB/647MB (87.1%)2023-12-10T17:15:16.228-0300  [#####################...] movies.ratings  568MB/647MB (87.8%)2023-12-10T17:15:19.225-0300  [#####################...] movies.ratings  572MB/647MB (88.5%)2023-12-10T17:15:22.227-0300  [#####################...] movies.ratings  577MB/647MB (89.2%)2023-12-10T17:15:25.225-0300  [#####################...] movies.ratings  581MB/647MB (89.9%)2023-12-10T17:15:28.225-0300  [#####################...] movies.ratings  586MB/647MB (90.6%)2023-12-10T17:15:31.225-0300  [#####################...] movies.ratings  591MB/647MB (91.3%)2023-12-10T17:15:34.226-0300  [######################..] movies.ratings  595MB/647MB (92.0%)2023-12-10T17:15:37.228-0300  [######################..] movies.ratings  599MB/647MB (92.7%)2023-12-10T17:15:40.225-0300  [######################..] movies.ratings  604MB/647MB (93.4%)2023-12-10T17:15:43.226-0300  [######################..] movies.ratings  608MB/647MB (94.0%)2023-12-10T17:15:46.225-0300  [######################..] movies.ratings  613MB/647MB (94.7%)2023-12-10T17:15:49.226-0300  [######################..] movies.ratings  617MB/647MB (95.4%)2023-12-10T17:15:52.226-0300  [#######################.] movies.ratings  622MB/647MB (96.1%)2023-12-10T17:15:55.228-0300  [#######################.] movies.ratings  626MB/647MB (96.8%)2023-12-10T17:15:58.225-0300  [#######################.] movies.ratings  630MB/647MB (97.4%)2023-12-10T17:16:01.225-0300  [#######################.] movies.ratings  634MB/647MB (98.1%)2023-12-10T17:16:04.225-0300  [#######################.] movies.ratings  639MB/647MB (98.8%)2023-12-10T17:16:07.226-0300  [#######################.] movies.ratings  644MB/647MB (99.5%)2023-12-10T17:16:09.267-0300  [########################] movies.ratings  647MB/647MB (100.0%)2023-12-10T17:16:09.267-0300  25000095 document(s) imported successfully. 0 document(s) failed to import.'\n",
      "2023-12-10 17:16:09,269 - INFO - Success: b'2023-12-10T17:08:58.281-0300  connected to: mongodb://localhost/2023-12-10T17:09:01.281-0300  [........................] movies.ratings  7.27MB/647MB (1.1%)2023-12-10T17:09:04.281-0300  [........................] movies.ratings  15.6MB/647MB (2.4%)2023-12-10T17:09:07.281-0300  [........................] movies.ratings  23.6MB/647MB (3.6%)2023-12-10T17:09:10.281-0300  [#.......................] movies.ratings  29.6MB/647MB (4.6%)2023-12-10T17:09:13.282-0300  [#.......................] movies.ratings  34.0MB/647MB (5.3%)2023-12-10T17:09:16.281-0300  [#.......................] movies.ratings  38.2MB/647MB (5.9%)2023-12-10T17:09:19.281-0300  [#.......................] movies.ratings  42.7MB/647MB (6.6%)2023-12-10T17:09:22.281-0300  [#.......................] movies.ratings  47.0MB/647MB (7.3%)2023-12-10T17:09:25.282-0300  [#.......................] movies.ratings  51.1MB/647MB (7.9%)2023-12-10T17:09:28.282-0300  [##......................] movies.ratings  56.0MB/647MB (8.6%)2023-12-10T17:09:31.282-0300  [##......................] movies.ratings  60.8MB/647MB (9.4%)2023-12-10T17:09:34.282-0300  [##......................] movies.ratings  65.4MB/647MB (10.1%)2023-12-10T17:09:37.282-0300  [##......................] movies.ratings  69.5MB/647MB (10.8%)2023-12-10T17:09:40.282-0300  [##......................] movies.ratings  73.8MB/647MB (11.4%)2023-12-10T17:09:43.282-0300  [##......................] movies.ratings  78.6MB/647MB (12.1%)2023-12-10T17:09:46.283-0300  [###.....................] movies.ratings  83.2MB/647MB (12.9%)2023-12-10T17:09:49.282-0300  [###.....................] movies.ratings  87.4MB/647MB (13.5%)2023-12-10T17:09:52.282-0300  [###.....................] movies.ratings  91.9MB/647MB (14.2%)2023-12-10T17:09:55.282-0300  [###.....................] movies.ratings  96.3MB/647MB (14.9%)2023-12-10T17:09:58.225-0300  [###.....................] movies.ratings  101MB/647MB (15.6%)2023-12-10T17:10:01.225-0300  [###.....................] movies.ratings  105MB/647MB (16.2%)2023-12-10T17:10:04.226-0300  [####....................] movies.ratings  110MB/647MB (17.0%)2023-12-10T17:10:07.225-0300  [####....................] movies.ratings  114MB/647MB (17.7%)2023-12-10T17:10:10.225-0300  [####....................] movies.ratings  119MB/647MB (18.4%)2023-12-10T17:10:13.226-0300  [####....................] movies.ratings  123MB/647MB (19.0%)2023-12-10T17:10:16.226-0300  [####....................] movies.ratings  128MB/647MB (19.7%)2023-12-10T17:10:19.226-0300  [####....................] movies.ratings  132MB/647MB (20.4%)2023-12-10T17:10:22.225-0300  [#####...................] movies.ratings  136MB/647MB (21.0%)2023-12-10T17:10:25.226-0300  [#####...................] movies.ratings  140MB/647MB (21.7%)2023-12-10T17:10:28.225-0300  [#####...................] movies.ratings  145MB/647MB (22.4%)2023-12-10T17:10:31.225-0300  [#####...................] movies.ratings  149MB/647MB (23.1%)2023-12-10T17:10:34.225-0300  [#####...................] movies.ratings  154MB/647MB (23.7%)2023-12-10T17:10:37.225-0300  [#####...................] movies.ratings  158MB/647MB (24.4%)2023-12-10T17:10:40.225-0300  [######..................] movies.ratings  162MB/647MB (25.0%)2023-12-10T17:10:43.226-0300  [######..................] movies.ratings  166MB/647MB (25.7%)2023-12-10T17:10:46.226-0300  [######..................] movies.ratings  171MB/647MB (26.4%)2023-12-10T17:10:49.225-0300  [######..................] movies.ratings  175MB/647MB (27.0%)2023-12-10T17:10:52.226-0300  [######..................] movies.ratings  179MB/647MB (27.7%)2023-12-10T17:10:55.226-0300  [######..................] movies.ratings  184MB/647MB (28.4%)2023-12-10T17:10:58.225-0300  [######..................] movies.ratings  188MB/647MB (29.0%)2023-12-10T17:11:01.225-0300  [#######.................] movies.ratings  192MB/647MB (29.7%)2023-12-10T17:11:04.230-0300  [#######.................] movies.ratings  196MB/647MB (30.3%)2023-12-10T17:11:07.225-0300  [#######.................] movies.ratings  201MB/647MB (31.0%)2023-12-10T17:11:10.225-0300  [#######.................] movies.ratings  205MB/647MB (31.7%)2023-12-10T17:11:13.225-0300  [#######.................] movies.ratings  209MB/647MB (32.4%)2023-12-10T17:11:16.226-0300  [#######.................] movies.ratings  214MB/647MB (33.0%)2023-12-10T17:11:19.226-0300  [########................] movies.ratings  218MB/647MB (33.7%)2023-12-10T17:11:22.225-0300  [########................] movies.ratings  222MB/647MB (34.4%)2023-12-10T17:11:25.226-0300  [########................] movies.ratings  227MB/647MB (35.1%)2023-12-10T17:11:28.225-0300  [########................] movies.ratings  231MB/647MB (35.7%)2023-12-10T17:11:31.225-0300  [########................] movies.ratings  235MB/647MB (36.4%)2023-12-10T17:11:34.225-0300  [########................] movies.ratings  240MB/647MB (37.0%)2023-12-10T17:11:37.226-0300  [#########...............] movies.ratings  244MB/647MB (37.7%)2023-12-10T17:11:40.225-0300  [#########...............] movies.ratings  248MB/647MB (38.4%)2023-12-10T17:11:43.225-0300  [#########...............] movies.ratings  253MB/647MB (39.1%)2023-12-10T17:11:46.226-0300  [#########...............] movies.ratings  257MB/647MB (39.7%)2023-12-10T17:11:49.227-0300  [#########...............] movies.ratings  261MB/647MB (40.4%)2023-12-10T17:11:52.226-0300  [#########...............] movies.ratings  266MB/647MB (41.1%)2023-12-10T17:11:55.226-0300  [##########..............] movies.ratings  270MB/647MB (41.8%)2023-12-10T17:11:58.225-0300  [##########..............] movies.ratings  275MB/647MB (42.5%)2023-12-10T17:12:01.225-0300  [##########..............] movies.ratings  279MB/647MB (43.1%)2023-12-10T17:12:04.225-0300  [##########..............] movies.ratings  284MB/647MB (43.8%)2023-12-10T17:12:07.226-0300  [##########..............] movies.ratings  288MB/647MB (44.6%)2023-12-10T17:12:10.225-0300  [##########..............] movies.ratings  293MB/647MB (45.3%)2023-12-10T17:12:13.225-0300  [###########.............] movies.ratings  298MB/647MB (46.0%)2023-12-10T17:12:16.225-0300  [###########.............] movies.ratings  302MB/647MB (46.7%)2023-12-10T17:12:19.226-0300  [###########.............] movies.ratings  306MB/647MB (47.4%)2023-12-10T17:12:22.226-0300  [###########.............] movies.ratings  311MB/647MB (48.0%)2023-12-10T17:12:25.226-0300  [###########.............] movies.ratings  315MB/647MB (48.7%)2023-12-10T17:12:28.225-0300  [###########.............] movies.ratings  319MB/647MB (49.4%)2023-12-10T17:12:31.225-0300  [############............] movies.ratings  324MB/647MB (50.1%)2023-12-10T17:12:34.226-0300  [############............] movies.ratings  328MB/647MB (50.7%)2023-12-10T17:12:37.225-0300  [############............] movies.ratings  332MB/647MB (51.4%)2023-12-10T17:12:40.225-0300  [############............] movies.ratings  337MB/647MB (52.0%)2023-12-10T17:12:43.225-0300  [############............] movies.ratings  341MB/647MB (52.8%)2023-12-10T17:12:46.225-0300  [############............] movies.ratings  346MB/647MB (53.4%)2023-12-10T17:12:49.225-0300  [############............] movies.ratings  350MB/647MB (54.1%)2023-12-10T17:12:52.225-0300  [#############...........] movies.ratings  355MB/647MB (54.8%)2023-12-10T17:12:55.226-0300  [#############...........] movies.ratings  359MB/647MB (55.5%)2023-12-10T17:12:58.225-0300  [#############...........] movies.ratings  363MB/647MB (56.1%)2023-12-10T17:13:01.225-0300  [#############...........] movies.ratings  368MB/647MB (56.8%)2023-12-10T17:13:04.226-0300  [#############...........] movies.ratings  372MB/647MB (57.4%)2023-12-10T17:13:07.225-0300  [#############...........] movies.ratings  376MB/647MB (58.1%)2023-12-10T17:13:10.226-0300  [##############..........] movies.ratings  381MB/647MB (58.9%)2023-12-10T17:13:13.225-0300  [##############..........] movies.ratings  385MB/647MB (59.6%)2023-12-10T17:13:16.225-0300  [##############..........] movies.ratings  390MB/647MB (60.2%)2023-12-10T17:13:19.226-0300  [##############..........] movies.ratings  394MB/647MB (60.9%)2023-12-10T17:13:22.225-0300  [##############..........] movies.ratings  398MB/647MB (61.6%)2023-12-10T17:13:25.228-0300  [##############..........] movies.ratings  403MB/647MB (62.3%)2023-12-10T17:13:28.226-0300  [###############.........] movies.ratings  407MB/647MB (62.9%)2023-12-10T17:13:31.225-0300  [###############.........] movies.ratings  412MB/647MB (63.7%)2023-12-10T17:13:34.225-0300  [###############.........] movies.ratings  416MB/647MB (64.4%)2023-12-10T17:13:37.227-0300  [###############.........] movies.ratings  421MB/647MB (65.0%)2023-12-10T17:13:40.225-0300  [###############.........] movies.ratings  425MB/647MB (65.7%)2023-12-10T17:13:43.227-0300  [###############.........] movies.ratings  430MB/647MB (66.4%)2023-12-10T17:13:46.225-0300  [################........] movies.ratings  434MB/647MB (67.1%)2023-12-10T17:13:49.225-0300  [################........] movies.ratings  438MB/647MB (67.8%)2023-12-10T17:13:52.228-0300  [################........] movies.ratings  443MB/647MB (68.4%)2023-12-10T17:13:55.228-0300  [################........] movies.ratings  447MB/647MB (69.1%)2023-12-10T17:13:58.227-0300  [################........] movies.ratings  451MB/647MB (69.8%)2023-12-10T17:14:01.227-0300  [################........] movies.ratings  456MB/647MB (70.5%)2023-12-10T17:14:04.225-0300  [#################.......] movies.ratings  460MB/647MB (71.1%)2023-12-10T17:14:07.225-0300  [#################.......] movies.ratings  465MB/647MB (71.9%)2023-12-10T17:14:10.226-0300  [#################.......] movies.ratings  470MB/647MB (72.6%)2023-12-10T17:14:13.226-0300  [#################.......] movies.ratings  474MB/647MB (73.3%)2023-12-10T17:14:16.225-0300  [#################.......] movies.ratings  479MB/647MB (74.0%)2023-12-10T17:14:19.225-0300  [#################.......] movies.ratings  483MB/647MB (74.7%)2023-12-10T17:14:22.225-0300  [##################......] movies.ratings  488MB/647MB (75.4%)2023-12-10T17:14:25.226-0300  [##################......] movies.ratings  492MB/647MB (76.1%)2023-12-10T17:14:28.227-0300  [##################......] movies.ratings  496MB/647MB (76.7%)2023-12-10T17:14:31.227-0300  [##################......] movies.ratings  501MB/647MB (77.4%)2023-12-10T17:14:34.227-0300  [##################......] movies.ratings  505MB/647MB (78.1%)2023-12-10T17:14:37.225-0300  [##################......] movies.ratings  510MB/647MB (78.8%)2023-12-10T17:14:40.225-0300  [###################.....] movies.ratings  514MB/647MB (79.4%)2023-12-10T17:14:43.225-0300  [###################.....] movies.ratings  518MB/647MB (80.1%)2023-12-10T17:14:46.225-0300  [###################.....] movies.ratings  523MB/647MB (80.8%)2023-12-10T17:14:49.225-0300  [###################.....] movies.ratings  528MB/647MB (81.6%)2023-12-10T17:14:52.225-0300  [###################.....] movies.ratings  532MB/647MB (82.2%)2023-12-10T17:14:55.226-0300  [###################.....] movies.ratings  536MB/647MB (82.9%)2023-12-10T17:14:58.225-0300  [####################....] movies.ratings  541MB/647MB (83.6%)2023-12-10T17:15:01.227-0300  [####################....] movies.ratings  545MB/647MB (84.3%)2023-12-10T17:15:04.225-0300  [####################....] movies.ratings  550MB/647MB (85.0%)2023-12-10T17:15:07.225-0300  [####################....] movies.ratings  554MB/647MB (85.6%)2023-12-10T17:15:10.225-0300  [####################....] movies.ratings  559MB/647MB (86.4%)2023-12-10T17:15:13.229-0300  [####################....] movies.ratings  564MB/647MB (87.1%)2023-12-10T17:15:16.228-0300  [#####################...] movies.ratings  568MB/647MB (87.8%)2023-12-10T17:15:19.225-0300  [#####################...] movies.ratings  572MB/647MB (88.5%)2023-12-10T17:15:22.227-0300  [#####################...] movies.ratings  577MB/647MB (89.2%)2023-12-10T17:15:25.225-0300  [#####################...] movies.ratings  581MB/647MB (89.9%)2023-12-10T17:15:28.225-0300  [#####################...] movies.ratings  586MB/647MB (90.6%)2023-12-10T17:15:31.225-0300  [#####################...] movies.ratings  591MB/647MB (91.3%)2023-12-10T17:15:34.226-0300  [######################..] movies.ratings  595MB/647MB (92.0%)2023-12-10T17:15:37.228-0300  [######################..] movies.ratings  599MB/647MB (92.7%)2023-12-10T17:15:40.225-0300  [######################..] movies.ratings  604MB/647MB (93.4%)2023-12-10T17:15:43.226-0300  [######################..] movies.ratings  608MB/647MB (94.0%)2023-12-10T17:15:46.225-0300  [######################..] movies.ratings  613MB/647MB (94.7%)2023-12-10T17:15:49.226-0300  [######################..] movies.ratings  617MB/647MB (95.4%)2023-12-10T17:15:52.226-0300  [#######################.] movies.ratings  622MB/647MB (96.1%)2023-12-10T17:15:55.228-0300  [#######################.] movies.ratings  626MB/647MB (96.8%)2023-12-10T17:15:58.225-0300  [#######################.] movies.ratings  630MB/647MB (97.4%)2023-12-10T17:16:01.225-0300  [#######################.] movies.ratings  634MB/647MB (98.1%)2023-12-10T17:16:04.225-0300  [#######################.] movies.ratings  639MB/647MB (98.8%)2023-12-10T17:16:07.226-0300  [#######################.] movies.ratings  644MB/647MB (99.5%)2023-12-10T17:16:09.267-0300  [########################] movies.ratings  647MB/647MB (100.0%)2023-12-10T17:16:09.267-0300  25000095 document(s) imported successfully. 0 document(s) failed to import.'\n",
      "2023-12-10 17:16:09,272 - INFO - Success: b'2023-12-10T17:08:58.281-0300  connected to: mongodb://localhost/2023-12-10T17:08:59.078-0300  62423 document(s) imported successfully. 0 document(s) failed to import.'\n",
      "2023-12-10 17:16:09,272 - INFO - Success: b'2023-12-10T17:08:58.281-0300  connected to: mongodb://localhost/2023-12-10T17:08:59.078-0300  62423 document(s) imported successfully. 0 document(s) failed to import.'\n",
      "2023-12-10 17:16:09,272 - INFO - Success: b'2023-12-10T17:08:58.281-0300  connected to: mongodb://localhost/2023-12-10T17:08:59.078-0300  62423 document(s) imported successfully. 0 document(s) failed to import.'\n",
      "2023-12-10 17:16:09,275 - INFO - Success: b'2023-12-10T17:08:58.282-0300  connected to: mongodb://localhost/2023-12-10T17:08:59.048-0300  62423 document(s) imported successfully. 0 document(s) failed to import.'\n",
      "2023-12-10 17:16:09,275 - INFO - Success: b'2023-12-10T17:08:58.282-0300  connected to: mongodb://localhost/2023-12-10T17:08:59.048-0300  62423 document(s) imported successfully. 0 document(s) failed to import.'\n",
      "2023-12-10 17:16:09,275 - INFO - Success: b'2023-12-10T17:08:58.282-0300  connected to: mongodb://localhost/2023-12-10T17:08:59.048-0300  62423 document(s) imported successfully. 0 document(s) failed to import.'\n",
      "2023-12-10 17:16:09,281 - INFO - Success: b'2023-12-10T17:08:58.281-0300  connected to: mongodb://localhost/2023-12-10T17:09:01.281-0300  [######..................] movies.tags  9.80MB/37.0MB (26.5%)2023-12-10T17:09:04.281-0300  [#############...........] movies.tags  21.2MB/37.0MB (57.4%)2023-12-10T17:09:07.281-0300  [#####################...] movies.tags  32.4MB/37.0MB (87.5%)2023-12-10T17:09:08.478-0300  [########################] movies.tags  37.0MB/37.0MB (100.0%)2023-12-10T17:09:08.478-0300  1093360 document(s) imported successfully. 0 document(s) failed to import.'\n",
      "2023-12-10 17:16:09,281 - INFO - Success: b'2023-12-10T17:08:58.281-0300  connected to: mongodb://localhost/2023-12-10T17:09:01.281-0300  [######..................] movies.tags  9.80MB/37.0MB (26.5%)2023-12-10T17:09:04.281-0300  [#############...........] movies.tags  21.2MB/37.0MB (57.4%)2023-12-10T17:09:07.281-0300  [#####################...] movies.tags  32.4MB/37.0MB (87.5%)2023-12-10T17:09:08.478-0300  [########################] movies.tags  37.0MB/37.0MB (100.0%)2023-12-10T17:09:08.478-0300  1093360 document(s) imported successfully. 0 document(s) failed to import.'\n",
      "2023-12-10 17:16:09,281 - INFO - Success: b'2023-12-10T17:08:58.281-0300  connected to: mongodb://localhost/2023-12-10T17:09:01.281-0300  [######..................] movies.tags  9.80MB/37.0MB (26.5%)2023-12-10T17:09:04.281-0300  [#############...........] movies.tags  21.2MB/37.0MB (57.4%)2023-12-10T17:09:07.281-0300  [#####################...] movies.tags  32.4MB/37.0MB (87.5%)2023-12-10T17:09:08.478-0300  [########################] movies.tags  37.0MB/37.0MB (100.0%)2023-12-10T17:09:08.478-0300  1093360 document(s) imported successfully. 0 document(s) failed to import.'\n"
     ]
    }
   ],
   "source": [
    "Mongo.import_csv(DATABASE, MOVIE_LENS_FILES)"
   ]
  },
  {
   "cell_type": "code",
   "execution_count": 81,
   "id": "f100b88f-2ea9-4d3d-bc6c-28ccb816c52b",
   "metadata": {
    "tags": []
   },
   "outputs": [
    {
     "name": "stderr",
     "output_type": "stream",
     "text": [
      "2023-12-10 17:18:19,442 - INFO - Success: b'(node:90031) [DEP0040] DeprecationWarning: The `punycode` module is deprecated. Please use a userland alternative instead.(Use `node --trace-deprecation ...` to show where the warning was created)Current Mongosh Log ID:  65761d0bac961d25e88b825dConnecting to:    mongodb://127.0.0.1:27017/?directConnection=true&serverSelectionTimeoutMS=2000&appName=mongosh+2.0.2Using MongoDB:    7.0.2Using Mongosh:    2.0.2mongosh 2.1.1 is available for download: https://www.mongodb.com/try/download/shellFor mongosh info see: https://docs.mongodb.com/mongodb-shell/------   The server generated these startup warnings when booting   2023-12-04T09:13:10.991-03:00: Access control is not enabled for the database. Read and write access to data and configuration is unrestricted------Loading file: /tmp/query.js(node:90031) [DEP0174] DeprecationWarning: Calling promisify on a function that returns a Promise is likely a mistake.MongoInvalidArgumentError: Collection names cannot be empty'\n",
      "2023-12-10 17:18:19,442 - INFO - Success: b'(node:90031) [DEP0040] DeprecationWarning: The `punycode` module is deprecated. Please use a userland alternative instead.(Use `node --trace-deprecation ...` to show where the warning was created)Current Mongosh Log ID:  65761d0bac961d25e88b825dConnecting to:    mongodb://127.0.0.1:27017/?directConnection=true&serverSelectionTimeoutMS=2000&appName=mongosh+2.0.2Using MongoDB:    7.0.2Using Mongosh:    2.0.2mongosh 2.1.1 is available for download: https://www.mongodb.com/try/download/shellFor mongosh info see: https://docs.mongodb.com/mongodb-shell/------   The server generated these startup warnings when booting   2023-12-04T09:13:10.991-03:00: Access control is not enabled for the database. Read and write access to data and configuration is unrestricted------Loading file: /tmp/query.js(node:90031) [DEP0174] DeprecationWarning: Calling promisify on a function that returns a Promise is likely a mistake.MongoInvalidArgumentError: Collection names cannot be empty'\n",
      "2023-12-10 17:18:19,442 - INFO - Success: b'(node:90031) [DEP0040] DeprecationWarning: The `punycode` module is deprecated. Please use a userland alternative instead.(Use `node --trace-deprecation ...` to show where the warning was created)Current Mongosh Log ID:  65761d0bac961d25e88b825dConnecting to:    mongodb://127.0.0.1:27017/?directConnection=true&serverSelectionTimeoutMS=2000&appName=mongosh+2.0.2Using MongoDB:    7.0.2Using Mongosh:    2.0.2mongosh 2.1.1 is available for download: https://www.mongodb.com/try/download/shellFor mongosh info see: https://docs.mongodb.com/mongodb-shell/------   The server generated these startup warnings when booting   2023-12-04T09:13:10.991-03:00: Access control is not enabled for the database. Read and write access to data and configuration is unrestricted------Loading file: /tmp/query.js(node:90031) [DEP0174] DeprecationWarning: Calling promisify on a function that returns a Promise is likely a mistake.MongoInvalidArgumentError: Collection names cannot be empty'\n"
     ]
    }
   ],
   "source": [
    "Mongo.drop(DATABASE, TMDB_FILES)"
   ]
  },
  {
   "cell_type": "code",
   "execution_count": 82,
   "id": "9b0f8794-d2a2-4b71-bb70-d138f54f849d",
   "metadata": {
    "tags": []
   },
   "outputs": [
    {
     "name": "stderr",
     "output_type": "stream",
     "text": [
      "2023-12-10 17:18:24,708 - INFO - Success: b'2023-12-10T17:18:19.679-0300  connected to: mongodb://localhost/2023-12-10T17:18:22.680-0300  [##############..........] movies.movies_metadata  79.8MB/135MB (59.1%)2023-12-10T17:18:24.707-0300  [########################] movies.movies_metadata  135MB/135MB (100.0%)2023-12-10T17:18:24.707-0300  218444 document(s) imported successfully. 0 document(s) failed to import.'\n",
      "2023-12-10 17:18:24,708 - INFO - Success: b'2023-12-10T17:18:19.679-0300  connected to: mongodb://localhost/2023-12-10T17:18:22.680-0300  [##############..........] movies.movies_metadata  79.8MB/135MB (59.1%)2023-12-10T17:18:24.707-0300  [########################] movies.movies_metadata  135MB/135MB (100.0%)2023-12-10T17:18:24.707-0300  218444 document(s) imported successfully. 0 document(s) failed to import.'\n",
      "2023-12-10 17:18:24,708 - INFO - Success: b'2023-12-10T17:18:19.679-0300  connected to: mongodb://localhost/2023-12-10T17:18:22.680-0300  [##############..........] movies.movies_metadata  79.8MB/135MB (59.1%)2023-12-10T17:18:24.707-0300  [########################] movies.movies_metadata  135MB/135MB (100.0%)2023-12-10T17:18:24.707-0300  218444 document(s) imported successfully. 0 document(s) failed to import.'\n"
     ]
    }
   ],
   "source": [
    "Mongo.import_json(DATABASE, TMDB_FILES)"
   ]
  },
  {
   "cell_type": "markdown",
   "id": "66d02f54-4617-42fe-9e02-526b152b38b9",
   "metadata": {},
   "source": [
    "#### 2. Transform imdb id to number"
   ]
  },
  {
   "cell_type": "code",
   "execution_count": 83,
   "id": "eeeb8a6f-ceb0-41f1-a202-1fc8a5015f78",
   "metadata": {
    "tags": []
   },
   "outputs": [
    {
     "name": "stderr",
     "output_type": "stream",
     "text": [
      "2023-12-10 17:18:29,685 - INFO - Success: b'(node:90066) [DEP0040] DeprecationWarning: The `punycode` module is deprecated. Please use a userland alternative instead.(Use `node --trace-deprecation ...` to show where the warning was created)Current Mongosh Log ID:  65761d132fed78638d606608Connecting to:    mongodb://127.0.0.1:27017/?directConnection=true&serverSelectionTimeoutMS=2000&appName=mongosh+2.0.2Using MongoDB:    7.0.2Using Mongosh:    2.0.2mongosh 2.1.1 is available for download: https://www.mongodb.com/try/download/shellFor mongosh info see: https://docs.mongodb.com/mongodb-shell/------   The server generated these startup warnings when booting   2023-12-04T09:13:10.991-03:00: Access control is not enabled for the database. Read and write access to data and configuration is unrestricted------Loading file: /tmp/query.js(node:90066) [DEP0174] DeprecationWarning: Calling promisify on a function that returns a Promise is likely a mistake.'\n",
      "2023-12-10 17:18:29,685 - INFO - Success: b'(node:90066) [DEP0040] DeprecationWarning: The `punycode` module is deprecated. Please use a userland alternative instead.(Use `node --trace-deprecation ...` to show where the warning was created)Current Mongosh Log ID:  65761d132fed78638d606608Connecting to:    mongodb://127.0.0.1:27017/?directConnection=true&serverSelectionTimeoutMS=2000&appName=mongosh+2.0.2Using MongoDB:    7.0.2Using Mongosh:    2.0.2mongosh 2.1.1 is available for download: https://www.mongodb.com/try/download/shellFor mongosh info see: https://docs.mongodb.com/mongodb-shell/------   The server generated these startup warnings when booting   2023-12-04T09:13:10.991-03:00: Access control is not enabled for the database. Read and write access to data and configuration is unrestricted------Loading file: /tmp/query.js(node:90066) [DEP0174] DeprecationWarning: Calling promisify on a function that returns a Promise is likely a mistake.'\n",
      "2023-12-10 17:18:29,685 - INFO - Success: b'(node:90066) [DEP0040] DeprecationWarning: The `punycode` module is deprecated. Please use a userland alternative instead.(Use `node --trace-deprecation ...` to show where the warning was created)Current Mongosh Log ID:  65761d132fed78638d606608Connecting to:    mongodb://127.0.0.1:27017/?directConnection=true&serverSelectionTimeoutMS=2000&appName=mongosh+2.0.2Using MongoDB:    7.0.2Using Mongosh:    2.0.2mongosh 2.1.1 is available for download: https://www.mongodb.com/try/download/shellFor mongosh info see: https://docs.mongodb.com/mongodb-shell/------   The server generated these startup warnings when booting   2023-12-04T09:13:10.991-03:00: Access control is not enabled for the database. Read and write access to data and configuration is unrestricted------Loading file: /tmp/query.js(node:90066) [DEP0174] DeprecationWarning: Calling promisify on a function that returns a Promise is likely a mistake.'\n"
     ]
    }
   ],
   "source": [
    "Mongo.command(DATABASE,  \"\"\"\n",
    "db.getCollection('movies_metadata').aggregate([\n",
    "    {\n",
    "        $match: { \n",
    "            $and: [\n",
    "                { id_imdb: { $ne: \"\" } },\n",
    "                { id_imdb: { $ne: 0 } }\n",
    "            ]\n",
    "        }\n",
    "    },\n",
    "    {\n",
    "        $addFields: {\n",
    "            imdb_id: {$toLong: [ { $arrayElemAt: [ { $split: [\"$id_imdb\", \"tt\"]}, 1 ] }] }\n",
    "        }\n",
    "    },\n",
    "    { $out: \"movies_metadata_v2\" }\n",
    "]);\n",
    "\"\"\")"
   ]
  },
  {
   "cell_type": "markdown",
   "id": "1346997d-e5df-4359-a6ce-d98ce0a5ec01",
   "metadata": {
    "tags": []
   },
   "source": [
    "#### 3.  Add indexes to both links and movies_metadata_v2 collections."
   ]
  },
  {
   "cell_type": "code",
   "execution_count": 84,
   "id": "d9a88162-507b-41dc-bda8-3eb06d699394",
   "metadata": {
    "tags": []
   },
   "outputs": [
    {
     "name": "stderr",
     "output_type": "stream",
     "text": [
      "2023-12-10 17:18:33,760 - INFO - Success: b'(node:90089) [DEP0040] DeprecationWarning: The `punycode` module is deprecated. Please use a userland alternative instead.(Use `node --trace-deprecation ...` to show where the warning was created)Current Mongosh Log ID:  65761d1970fa10c4487d88e8Connecting to:    mongodb://127.0.0.1:27017/?directConnection=true&serverSelectionTimeoutMS=2000&appName=mongosh+2.0.2Using MongoDB:    7.0.2Using Mongosh:    2.0.2mongosh 2.1.1 is available for download: https://www.mongodb.com/try/download/shellFor mongosh info see: https://docs.mongodb.com/mongodb-shell/------   The server generated these startup warnings when booting   2023-12-04T09:13:10.991-03:00: Access control is not enabled for the database. Read and write access to data and configuration is unrestricted------Loading file: /tmp/query.js(node:90089) [DEP0174] DeprecationWarning: Calling promisify on a function that returns a Promise is likely a mistake.'\n",
      "2023-12-10 17:18:33,760 - INFO - Success: b'(node:90089) [DEP0040] DeprecationWarning: The `punycode` module is deprecated. Please use a userland alternative instead.(Use `node --trace-deprecation ...` to show where the warning was created)Current Mongosh Log ID:  65761d1970fa10c4487d88e8Connecting to:    mongodb://127.0.0.1:27017/?directConnection=true&serverSelectionTimeoutMS=2000&appName=mongosh+2.0.2Using MongoDB:    7.0.2Using Mongosh:    2.0.2mongosh 2.1.1 is available for download: https://www.mongodb.com/try/download/shellFor mongosh info see: https://docs.mongodb.com/mongodb-shell/------   The server generated these startup warnings when booting   2023-12-04T09:13:10.991-03:00: Access control is not enabled for the database. Read and write access to data and configuration is unrestricted------Loading file: /tmp/query.js(node:90089) [DEP0174] DeprecationWarning: Calling promisify on a function that returns a Promise is likely a mistake.'\n",
      "2023-12-10 17:18:33,760 - INFO - Success: b'(node:90089) [DEP0040] DeprecationWarning: The `punycode` module is deprecated. Please use a userland alternative instead.(Use `node --trace-deprecation ...` to show where the warning was created)Current Mongosh Log ID:  65761d1970fa10c4487d88e8Connecting to:    mongodb://127.0.0.1:27017/?directConnection=true&serverSelectionTimeoutMS=2000&appName=mongosh+2.0.2Using MongoDB:    7.0.2Using Mongosh:    2.0.2mongosh 2.1.1 is available for download: https://www.mongodb.com/try/download/shellFor mongosh info see: https://docs.mongodb.com/mongodb-shell/------   The server generated these startup warnings when booting   2023-12-04T09:13:10.991-03:00: Access control is not enabled for the database. Read and write access to data and configuration is unrestricted------Loading file: /tmp/query.js(node:90089) [DEP0174] DeprecationWarning: Calling promisify on a function that returns a Promise is likely a mistake.'\n"
     ]
    }
   ],
   "source": [
    "Mongo.command(DATABASE, \"\"\"\n",
    "db.getCollection('links').createIndex(\n",
    "    { \"movieId\": 1 }, \n",
    "    { \n",
    "        unique: true, \n",
    "        name: \"movieId_unique_index\"\n",
    "    }\n",
    ");\n",
    "\"\"\")"
   ]
  },
  {
   "cell_type": "code",
   "execution_count": 85,
   "id": "b905d9bd-ceb7-4b07-b562-a4969e68c226",
   "metadata": {
    "tags": []
   },
   "outputs": [
    {
     "name": "stderr",
     "output_type": "stream",
     "text": [
      "2023-12-10 17:18:34,878 - INFO - Success: b'(node:90092) [DEP0040] DeprecationWarning: The `punycode` module is deprecated. Please use a userland alternative instead.(Use `node --trace-deprecation ...` to show where the warning was created)Current Mongosh Log ID:  65761d1a98c46d7e3b9011bdConnecting to:    mongodb://127.0.0.1:27017/?directConnection=true&serverSelectionTimeoutMS=2000&appName=mongosh+2.0.2Using MongoDB:    7.0.2Using Mongosh:    2.0.2mongosh 2.1.1 is available for download: https://www.mongodb.com/try/download/shellFor mongosh info see: https://docs.mongodb.com/mongodb-shell/------   The server generated these startup warnings when booting   2023-12-04T09:13:10.991-03:00: Access control is not enabled for the database. Read and write access to data and configuration is unrestricted------Loading file: /tmp/query.js(node:90092) [DEP0174] DeprecationWarning: Calling promisify on a function that returns a Promise is likely a mistake.'\n",
      "2023-12-10 17:18:34,878 - INFO - Success: b'(node:90092) [DEP0040] DeprecationWarning: The `punycode` module is deprecated. Please use a userland alternative instead.(Use `node --trace-deprecation ...` to show where the warning was created)Current Mongosh Log ID:  65761d1a98c46d7e3b9011bdConnecting to:    mongodb://127.0.0.1:27017/?directConnection=true&serverSelectionTimeoutMS=2000&appName=mongosh+2.0.2Using MongoDB:    7.0.2Using Mongosh:    2.0.2mongosh 2.1.1 is available for download: https://www.mongodb.com/try/download/shellFor mongosh info see: https://docs.mongodb.com/mongodb-shell/------   The server generated these startup warnings when booting   2023-12-04T09:13:10.991-03:00: Access control is not enabled for the database. Read and write access to data and configuration is unrestricted------Loading file: /tmp/query.js(node:90092) [DEP0174] DeprecationWarning: Calling promisify on a function that returns a Promise is likely a mistake.'\n",
      "2023-12-10 17:18:34,878 - INFO - Success: b'(node:90092) [DEP0040] DeprecationWarning: The `punycode` module is deprecated. Please use a userland alternative instead.(Use `node --trace-deprecation ...` to show where the warning was created)Current Mongosh Log ID:  65761d1a98c46d7e3b9011bdConnecting to:    mongodb://127.0.0.1:27017/?directConnection=true&serverSelectionTimeoutMS=2000&appName=mongosh+2.0.2Using MongoDB:    7.0.2Using Mongosh:    2.0.2mongosh 2.1.1 is available for download: https://www.mongodb.com/try/download/shellFor mongosh info see: https://docs.mongodb.com/mongodb-shell/------   The server generated these startup warnings when booting   2023-12-04T09:13:10.991-03:00: Access control is not enabled for the database. Read and write access to data and configuration is unrestricted------Loading file: /tmp/query.js(node:90092) [DEP0174] DeprecationWarning: Calling promisify on a function that returns a Promise is likely a mistake.'\n"
     ]
    }
   ],
   "source": [
    "Mongo.command(DATABASE, \"\"\"\n",
    "db.getCollection('movies_metadata_v2').createIndex(\n",
    "    { \"imdb_id\": 1 }, \n",
    "    { unique: false, name: \"imdb_id_multiple_index\" }\n",
    ");\n",
    "\"\"\")"
   ]
  },
  {
   "cell_type": "markdown",
   "id": "7d7553f3-e62e-47de-9f94-6bb9f465e547",
   "metadata": {},
   "source": [
    "#### 4. Add imdb features to movies collection"
   ]
  },
  {
   "cell_type": "code",
   "execution_count": 86,
   "id": "6480cdb0-15e2-411b-bb0e-33a1fe0e3042",
   "metadata": {
    "tags": []
   },
   "outputs": [
    {
     "name": "stderr",
     "output_type": "stream",
     "text": [
      "2023-12-10 17:18:38,954 - INFO - Success: b'(node:90105) [DEP0040] DeprecationWarning: The `punycode` module is deprecated. Please use a userland alternative instead.(Use `node --trace-deprecation ...` to show where the warning was created)Current Mongosh Log ID:  65761d1c00e52441fc286cfdConnecting to:    mongodb://127.0.0.1:27017/?directConnection=true&serverSelectionTimeoutMS=2000&appName=mongosh+2.0.2Using MongoDB:    7.0.2Using Mongosh:    2.0.2mongosh 2.1.1 is available for download: https://www.mongodb.com/try/download/shellFor mongosh info see: https://docs.mongodb.com/mongodb-shell/------   The server generated these startup warnings when booting   2023-12-04T09:13:10.991-03:00: Access control is not enabled for the database. Read and write access to data and configuration is unrestricted------Loading file: /tmp/query.js(node:90105) [DEP0174] DeprecationWarning: Calling promisify on a function that returns a Promise is likely a mistake.'\n",
      "2023-12-10 17:18:38,954 - INFO - Success: b'(node:90105) [DEP0040] DeprecationWarning: The `punycode` module is deprecated. Please use a userland alternative instead.(Use `node --trace-deprecation ...` to show where the warning was created)Current Mongosh Log ID:  65761d1c00e52441fc286cfdConnecting to:    mongodb://127.0.0.1:27017/?directConnection=true&serverSelectionTimeoutMS=2000&appName=mongosh+2.0.2Using MongoDB:    7.0.2Using Mongosh:    2.0.2mongosh 2.1.1 is available for download: https://www.mongodb.com/try/download/shellFor mongosh info see: https://docs.mongodb.com/mongodb-shell/------   The server generated these startup warnings when booting   2023-12-04T09:13:10.991-03:00: Access control is not enabled for the database. Read and write access to data and configuration is unrestricted------Loading file: /tmp/query.js(node:90105) [DEP0174] DeprecationWarning: Calling promisify on a function that returns a Promise is likely a mistake.'\n",
      "2023-12-10 17:18:38,954 - INFO - Success: b'(node:90105) [DEP0040] DeprecationWarning: The `punycode` module is deprecated. Please use a userland alternative instead.(Use `node --trace-deprecation ...` to show where the warning was created)Current Mongosh Log ID:  65761d1c00e52441fc286cfdConnecting to:    mongodb://127.0.0.1:27017/?directConnection=true&serverSelectionTimeoutMS=2000&appName=mongosh+2.0.2Using MongoDB:    7.0.2Using Mongosh:    2.0.2mongosh 2.1.1 is available for download: https://www.mongodb.com/try/download/shellFor mongosh info see: https://docs.mongodb.com/mongodb-shell/------   The server generated these startup warnings when booting   2023-12-04T09:13:10.991-03:00: Access control is not enabled for the database. Read and write access to data and configuration is unrestricted------Loading file: /tmp/query.js(node:90105) [DEP0174] DeprecationWarning: Calling promisify on a function that returns a Promise is likely a mistake.'\n"
     ]
    }
   ],
   "source": [
    "Mongo.command(DATABASE, \"\"\"\n",
    "db.getCollection('movies').aggregate([\n",
    "    {\n",
    "        $lookup:\n",
    "          {\n",
    "            from: \"links\",\n",
    "            foreignField: \"movieId\",\n",
    "            localField: \"movieId\", \n",
    "            as: \"links\"\n",
    "          }\n",
    "     },\n",
    "     { $match: { links: { $exists: true, $not: {$size: 0} } } },\n",
    "     { \n",
    "        $project: { \n",
    "            id: \"$movieId\",\n",
    "            tmdb_id:      { \"$arrayElemAt\": [\"$links.tmdbId\", 0] },\n",
    "            imdb_id:      { \"$arrayElemAt\": [\"$links.imdbId\", 0] },\n",
    "            title:        { $arrayElemAt:   [ {$split:[\"$title\",\"(\"]} ,  0 ] },\n",
    "            release_year: { $arrayElemAt:   [ {$split:[\"$title\",\"(\"]} ,  1 ] },\n",
    "            genres:       { $split:         [ \"$genres\", \"|\" ] }\n",
    "        } \n",
    "    }, \n",
    "    {\n",
    "        $lookup:\n",
    "          {\n",
    "            from: \"movies_metadata_v2\",\n",
    "            foreignField: \"imdb_id\",\n",
    "            localField: \"imdb_id\", \n",
    "            as: \"movies_metadata\"\n",
    "          }\n",
    "     },\n",
    "     { $match: {  movies_metadata: { $exists: true, $not: {$size: 0} } } },\n",
    "     { \n",
    "        $project: { \n",
    "            id: 1,\n",
    "            tmdb_id: 1,\n",
    "            imdb_id: 1,\n",
    "            title: 1,\n",
    "            genres: 1,\n",
    "            for_adults:        { \"$arrayElemAt\": [\"$movies_metadata.adult\", 0] },\n",
    "            budget:            { \"$arrayElemAt\": [\"$movies_metadata.budget\", 0] },\n",
    "            original_language: { \"$arrayElemAt\": [\"$movies_metadata.original_language\", 0] },\n",
    "            overview:          { \"$arrayElemAt\": [\"$movies_metadata.overview\", 0] },\n",
    "            poster:            { \"$arrayElemAt\": [\"$movies_metadata.poster_path\", 0] },\n",
    "            release:           { \"$arrayElemAt\": [\"$movies_metadata.release_date\", 0] },\n",
    "            popularity:        { \"$arrayElemAt\": [\"$movies_metadata.popularity\", 0] },\n",
    "            vote_mean:         { \"$arrayElemAt\": [\"$movies_metadata.vote_average\", 0] },\n",
    "            vote_count:        { \"$arrayElemAt\": [\"$movies_metadata.vote_count\", 0] }\n",
    "        }\n",
    "    },\n",
    "    { $out: \"movies_v2\" }\n",
    "]);\n",
    "\"\"\")"
   ]
  },
  {
   "cell_type": "markdown",
   "id": "9fa5fecd-279c-421d-8b99-11404bc29050",
   "metadata": {},
   "source": [
    "#### 5. Group tags per used, movie pair."
   ]
  },
  {
   "cell_type": "code",
   "execution_count": 87,
   "id": "fe1ce525-1300-485a-8310-f372577c7eb6",
   "metadata": {
    "tags": []
   },
   "outputs": [
    {
     "name": "stderr",
     "output_type": "stream",
     "text": [
      "2023-12-10 17:18:42,064 - INFO - Success: b'(node:90116) [DEP0040] DeprecationWarning: The `punycode` module is deprecated. Please use a userland alternative instead.(Use `node --trace-deprecation ...` to show where the warning was created)Current Mongosh Log ID:  65761d1f7ec638c7aa165634Connecting to:    mongodb://127.0.0.1:27017/?directConnection=true&serverSelectionTimeoutMS=2000&appName=mongosh+2.0.2Using MongoDB:    7.0.2Using Mongosh:    2.0.2mongosh 2.1.1 is available for download: https://www.mongodb.com/try/download/shellFor mongosh info see: https://docs.mongodb.com/mongodb-shell/------   The server generated these startup warnings when booting   2023-12-04T09:13:10.991-03:00: Access control is not enabled for the database. Read and write access to data and configuration is unrestricted------Loading file: /tmp/query.js(node:90116) [DEP0174] DeprecationWarning: Calling promisify on a function that returns a Promise is likely a mistake.'\n",
      "2023-12-10 17:18:42,064 - INFO - Success: b'(node:90116) [DEP0040] DeprecationWarning: The `punycode` module is deprecated. Please use a userland alternative instead.(Use `node --trace-deprecation ...` to show where the warning was created)Current Mongosh Log ID:  65761d1f7ec638c7aa165634Connecting to:    mongodb://127.0.0.1:27017/?directConnection=true&serverSelectionTimeoutMS=2000&appName=mongosh+2.0.2Using MongoDB:    7.0.2Using Mongosh:    2.0.2mongosh 2.1.1 is available for download: https://www.mongodb.com/try/download/shellFor mongosh info see: https://docs.mongodb.com/mongodb-shell/------   The server generated these startup warnings when booting   2023-12-04T09:13:10.991-03:00: Access control is not enabled for the database. Read and write access to data and configuration is unrestricted------Loading file: /tmp/query.js(node:90116) [DEP0174] DeprecationWarning: Calling promisify on a function that returns a Promise is likely a mistake.'\n",
      "2023-12-10 17:18:42,064 - INFO - Success: b'(node:90116) [DEP0040] DeprecationWarning: The `punycode` module is deprecated. Please use a userland alternative instead.(Use `node --trace-deprecation ...` to show where the warning was created)Current Mongosh Log ID:  65761d1f7ec638c7aa165634Connecting to:    mongodb://127.0.0.1:27017/?directConnection=true&serverSelectionTimeoutMS=2000&appName=mongosh+2.0.2Using MongoDB:    7.0.2Using Mongosh:    2.0.2mongosh 2.1.1 is available for download: https://www.mongodb.com/try/download/shellFor mongosh info see: https://docs.mongodb.com/mongodb-shell/------   The server generated these startup warnings when booting   2023-12-04T09:13:10.991-03:00: Access control is not enabled for the database. Read and write access to data and configuration is unrestricted------Loading file: /tmp/query.js(node:90116) [DEP0174] DeprecationWarning: Calling promisify on a function that returns a Promise is likely a mistake.'\n"
     ]
    }
   ],
   "source": [
    "Mongo.command(DATABASE, \"\"\"\n",
    "db.getCollection('tags').aggregate(\n",
    "    [\n",
    "        { \n",
    "            $group: {\n",
    "                _id: {\n",
    "                    user_id: \"$userId\",\n",
    "                    movie_id: \"$movieId\"\n",
    "                },\n",
    "                tags: { $push: { $toLower: \"$tag\" } }\n",
    "            }\n",
    "        },\n",
    "        {\n",
    "          $project: {\n",
    "            _id: 0,\n",
    "            user_id: \"$_id.user_id\",\n",
    "            movie_id: \"$_id.movie_id\",\n",
    "            user_movie_id: { $concat: [ { $toString: \"$_id.user_id\" } , \"_\", { $toString:\"$_id.movie_id\"} ] },\n",
    "            tags: 1\n",
    "          }  \n",
    "        },\n",
    "        { $out: \"tags_v2\" }\n",
    "    ]\n",
    ");\n",
    "\"\"\")"
   ]
  },
  {
   "cell_type": "markdown",
   "id": "89093d87-5a31-4714-b6c2-61bf849c46cd",
   "metadata": {},
   "source": [
    "#### 6. Create used_movie_id into new tags_v2 collection."
   ]
  },
  {
   "cell_type": "code",
   "execution_count": 88,
   "id": "93abf162-3cf6-42b7-9dbc-ae121d016330",
   "metadata": {
    "tags": []
   },
   "outputs": [
    {
     "name": "stderr",
     "output_type": "stream",
     "text": [
      "2023-12-10 17:18:44,883 - INFO - Success: b'(node:90132) [DEP0040] DeprecationWarning: The `punycode` module is deprecated. Please use a userland alternative instead.(Use `node --trace-deprecation ...` to show where the warning was created)Current Mongosh Log ID:  65761d248efcb3526021c80fConnecting to:    mongodb://127.0.0.1:27017/?directConnection=true&serverSelectionTimeoutMS=2000&appName=mongosh+2.0.2Using MongoDB:    7.0.2Using Mongosh:    2.0.2mongosh 2.1.1 is available for download: https://www.mongodb.com/try/download/shellFor mongosh info see: https://docs.mongodb.com/mongodb-shell/------   The server generated these startup warnings when booting   2023-12-04T09:13:10.991-03:00: Access control is not enabled for the database. Read and write access to data and configuration is unrestricted------Loading file: /tmp/query.js(node:90132) [DEP0174] DeprecationWarning: Calling promisify on a function that returns a Promise is likely a mistake.'\n",
      "2023-12-10 17:18:44,883 - INFO - Success: b'(node:90132) [DEP0040] DeprecationWarning: The `punycode` module is deprecated. Please use a userland alternative instead.(Use `node --trace-deprecation ...` to show where the warning was created)Current Mongosh Log ID:  65761d248efcb3526021c80fConnecting to:    mongodb://127.0.0.1:27017/?directConnection=true&serverSelectionTimeoutMS=2000&appName=mongosh+2.0.2Using MongoDB:    7.0.2Using Mongosh:    2.0.2mongosh 2.1.1 is available for download: https://www.mongodb.com/try/download/shellFor mongosh info see: https://docs.mongodb.com/mongodb-shell/------   The server generated these startup warnings when booting   2023-12-04T09:13:10.991-03:00: Access control is not enabled for the database. Read and write access to data and configuration is unrestricted------Loading file: /tmp/query.js(node:90132) [DEP0174] DeprecationWarning: Calling promisify on a function that returns a Promise is likely a mistake.'\n",
      "2023-12-10 17:18:44,883 - INFO - Success: b'(node:90132) [DEP0040] DeprecationWarning: The `punycode` module is deprecated. Please use a userland alternative instead.(Use `node --trace-deprecation ...` to show where the warning was created)Current Mongosh Log ID:  65761d248efcb3526021c80fConnecting to:    mongodb://127.0.0.1:27017/?directConnection=true&serverSelectionTimeoutMS=2000&appName=mongosh+2.0.2Using MongoDB:    7.0.2Using Mongosh:    2.0.2mongosh 2.1.1 is available for download: https://www.mongodb.com/try/download/shellFor mongosh info see: https://docs.mongodb.com/mongodb-shell/------   The server generated these startup warnings when booting   2023-12-04T09:13:10.991-03:00: Access control is not enabled for the database. Read and write access to data and configuration is unrestricted------Loading file: /tmp/query.js(node:90132) [DEP0174] DeprecationWarning: Calling promisify on a function that returns a Promise is likely a mistake.'\n"
     ]
    }
   ],
   "source": [
    "Mongo.command(DATABASE, \"\"\"\n",
    "db.getCollection('tags_v2').createIndex(\n",
    "    { 'user_movie_id': 1 }, \n",
    "    { unique: true, name: 'id_unique_index' }\n",
    ")\n",
    "\"\"\")"
   ]
  },
  {
   "cell_type": "markdown",
   "id": "c3955bf2-721a-4adc-9451-a94921fbb9e3",
   "metadata": {},
   "source": [
    "#### 7. Add used_movie_id fields into new ratings_v2 collection and also create a unique index."
   ]
  },
  {
   "cell_type": "code",
   "execution_count": 89,
   "id": "284578e5-db33-494f-9636-0c0520c501e9",
   "metadata": {
    "tags": []
   },
   "outputs": [
    {
     "name": "stderr",
     "output_type": "stream",
     "text": [
      "2023-12-10 17:19:52,131 - INFO - Success: b'(node:90139) [DEP0040] DeprecationWarning: The `punycode` module is deprecated. Please use a userland alternative instead.(Use `node --trace-deprecation ...` to show where the warning was created)Current Mongosh Log ID:  65761d2517e7c0e4154a3c7fConnecting to:    mongodb://127.0.0.1:27017/?directConnection=true&serverSelectionTimeoutMS=2000&appName=mongosh+2.0.2Using MongoDB:    7.0.2Using Mongosh:    2.0.2mongosh 2.1.1 is available for download: https://www.mongodb.com/try/download/shellFor mongosh info see: https://docs.mongodb.com/mongodb-shell/------   The server generated these startup warnings when booting   2023-12-04T09:13:10.991-03:00: Access control is not enabled for the database. Read and write access to data and configuration is unrestricted------Loading file: /tmp/query.js(node:90139) [DEP0174] DeprecationWarning: Calling promisify on a function that returns a Promise is likely a mistake.'\n",
      "2023-12-10 17:19:52,131 - INFO - Success: b'(node:90139) [DEP0040] DeprecationWarning: The `punycode` module is deprecated. Please use a userland alternative instead.(Use `node --trace-deprecation ...` to show where the warning was created)Current Mongosh Log ID:  65761d2517e7c0e4154a3c7fConnecting to:    mongodb://127.0.0.1:27017/?directConnection=true&serverSelectionTimeoutMS=2000&appName=mongosh+2.0.2Using MongoDB:    7.0.2Using Mongosh:    2.0.2mongosh 2.1.1 is available for download: https://www.mongodb.com/try/download/shellFor mongosh info see: https://docs.mongodb.com/mongodb-shell/------   The server generated these startup warnings when booting   2023-12-04T09:13:10.991-03:00: Access control is not enabled for the database. Read and write access to data and configuration is unrestricted------Loading file: /tmp/query.js(node:90139) [DEP0174] DeprecationWarning: Calling promisify on a function that returns a Promise is likely a mistake.'\n",
      "2023-12-10 17:19:52,131 - INFO - Success: b'(node:90139) [DEP0040] DeprecationWarning: The `punycode` module is deprecated. Please use a userland alternative instead.(Use `node --trace-deprecation ...` to show where the warning was created)Current Mongosh Log ID:  65761d2517e7c0e4154a3c7fConnecting to:    mongodb://127.0.0.1:27017/?directConnection=true&serverSelectionTimeoutMS=2000&appName=mongosh+2.0.2Using MongoDB:    7.0.2Using Mongosh:    2.0.2mongosh 2.1.1 is available for download: https://www.mongodb.com/try/download/shellFor mongosh info see: https://docs.mongodb.com/mongodb-shell/------   The server generated these startup warnings when booting   2023-12-04T09:13:10.991-03:00: Access control is not enabled for the database. Read and write access to data and configuration is unrestricted------Loading file: /tmp/query.js(node:90139) [DEP0174] DeprecationWarning: Calling promisify on a function that returns a Promise is likely a mistake.'\n"
     ]
    }
   ],
   "source": [
    "Mongo.command(DATABASE, \"\"\"\n",
    "db.getCollection('ratings').aggregate([\n",
    "        {\n",
    "          $project: {\n",
    "            user_id: \"$userId\",\n",
    "            movie_id: \"$movieId\",\n",
    "            user_movie_id: { $concat: [ { $toString: \"$userId\" } , \"_\", { $toString:\"$movieId\"} ] },\n",
    "            rating: 1,\n",
    "            timestamp: 1\n",
    "          }  \n",
    "        },\n",
    "        { $out: \"ratings_v2\" }\n",
    "    ]\n",
    ");\n",
    "\"\"\")"
   ]
  },
  {
   "cell_type": "markdown",
   "id": "ac78f8b2-b4f4-4fa8-ba15-9a0549f58c3f",
   "metadata": {},
   "source": [
    "Remove duplicates documents by ratings_v3."
   ]
  },
  {
   "cell_type": "code",
   "execution_count": 90,
   "id": "dec42930-9932-4964-8bc5-3656a1ff4196",
   "metadata": {
    "tags": []
   },
   "outputs": [
    {
     "name": "stderr",
     "output_type": "stream",
     "text": [
      "2023-12-10 17:22:26,251 - INFO - Success: b'(node:90468) [DEP0040] DeprecationWarning: The `punycode` module is deprecated. Please use a userland alternative instead.(Use `node --trace-deprecation ...` to show where the warning was created)Current Mongosh Log ID:  65761d68d7388d3ec77bd602Connecting to:    mongodb://127.0.0.1:27017/?directConnection=true&serverSelectionTimeoutMS=2000&appName=mongosh+2.0.2Using MongoDB:    7.0.2Using Mongosh:    2.0.2mongosh 2.1.1 is available for download: https://www.mongodb.com/try/download/shellFor mongosh info see: https://docs.mongodb.com/mongodb-shell/------   The server generated these startup warnings when booting   2023-12-04T09:13:10.991-03:00: Access control is not enabled for the database. Read and write access to data and configuration is unrestricted------Loading file: /tmp/query.js(node:90468) [DEP0174] DeprecationWarning: Calling promisify on a function that returns a Promise is likely a mistake.'\n",
      "2023-12-10 17:22:26,251 - INFO - Success: b'(node:90468) [DEP0040] DeprecationWarning: The `punycode` module is deprecated. Please use a userland alternative instead.(Use `node --trace-deprecation ...` to show where the warning was created)Current Mongosh Log ID:  65761d68d7388d3ec77bd602Connecting to:    mongodb://127.0.0.1:27017/?directConnection=true&serverSelectionTimeoutMS=2000&appName=mongosh+2.0.2Using MongoDB:    7.0.2Using Mongosh:    2.0.2mongosh 2.1.1 is available for download: https://www.mongodb.com/try/download/shellFor mongosh info see: https://docs.mongodb.com/mongodb-shell/------   The server generated these startup warnings when booting   2023-12-04T09:13:10.991-03:00: Access control is not enabled for the database. Read and write access to data and configuration is unrestricted------Loading file: /tmp/query.js(node:90468) [DEP0174] DeprecationWarning: Calling promisify on a function that returns a Promise is likely a mistake.'\n",
      "2023-12-10 17:22:26,251 - INFO - Success: b'(node:90468) [DEP0040] DeprecationWarning: The `punycode` module is deprecated. Please use a userland alternative instead.(Use `node --trace-deprecation ...` to show where the warning was created)Current Mongosh Log ID:  65761d68d7388d3ec77bd602Connecting to:    mongodb://127.0.0.1:27017/?directConnection=true&serverSelectionTimeoutMS=2000&appName=mongosh+2.0.2Using MongoDB:    7.0.2Using Mongosh:    2.0.2mongosh 2.1.1 is available for download: https://www.mongodb.com/try/download/shellFor mongosh info see: https://docs.mongodb.com/mongodb-shell/------   The server generated these startup warnings when booting   2023-12-04T09:13:10.991-03:00: Access control is not enabled for the database. Read and write access to data and configuration is unrestricted------Loading file: /tmp/query.js(node:90468) [DEP0174] DeprecationWarning: Calling promisify on a function that returns a Promise is likely a mistake.'\n"
     ]
    }
   ],
   "source": [
    "Mongo.command(DATABASE, \"\"\"\n",
    "db.ratings_v2.aggregate([\n",
    "    { \n",
    "        $group: { _id: \"$user_movie_id\", doc: { $first: \"$$ROOT\" } }\n",
    "    },\n",
    "    { \n",
    "        $replaceRoot: { newRoot: \"$doc\" }\n",
    "    },\n",
    "    { $out: \"ratings_v3\" }\n",
    "]);\n",
    "\"\"\")"
   ]
  },
  {
   "cell_type": "code",
   "execution_count": 91,
   "id": "66765fab-0024-48e1-9005-41a2c49baaad",
   "metadata": {
    "tags": []
   },
   "outputs": [
    {
     "name": "stderr",
     "output_type": "stream",
     "text": [
      "2023-12-10 17:22:55,712 - INFO - Success: b'(node:91072) [DEP0040] DeprecationWarning: The `punycode` module is deprecated. Please use a userland alternative instead.(Use `node --trace-deprecation ...` to show where the warning was created)Current Mongosh Log ID:  65761e02c30fe46809a29c78Connecting to:    mongodb://127.0.0.1:27017/?directConnection=true&serverSelectionTimeoutMS=2000&appName=mongosh+2.0.2Using MongoDB:    7.0.2Using Mongosh:    2.0.2mongosh 2.1.1 is available for download: https://www.mongodb.com/try/download/shellFor mongosh info see: https://docs.mongodb.com/mongodb-shell/------   The server generated these startup warnings when booting   2023-12-04T09:13:10.991-03:00: Access control is not enabled for the database. Read and write access to data and configuration is unrestricted------Loading file: /tmp/query.js(node:91072) [DEP0174] DeprecationWarning: Calling promisify on a function that returns a Promise is likely a mistake.'\n",
      "2023-12-10 17:22:55,712 - INFO - Success: b'(node:91072) [DEP0040] DeprecationWarning: The `punycode` module is deprecated. Please use a userland alternative instead.(Use `node --trace-deprecation ...` to show where the warning was created)Current Mongosh Log ID:  65761e02c30fe46809a29c78Connecting to:    mongodb://127.0.0.1:27017/?directConnection=true&serverSelectionTimeoutMS=2000&appName=mongosh+2.0.2Using MongoDB:    7.0.2Using Mongosh:    2.0.2mongosh 2.1.1 is available for download: https://www.mongodb.com/try/download/shellFor mongosh info see: https://docs.mongodb.com/mongodb-shell/------   The server generated these startup warnings when booting   2023-12-04T09:13:10.991-03:00: Access control is not enabled for the database. Read and write access to data and configuration is unrestricted------Loading file: /tmp/query.js(node:91072) [DEP0174] DeprecationWarning: Calling promisify on a function that returns a Promise is likely a mistake.'\n",
      "2023-12-10 17:22:55,712 - INFO - Success: b'(node:91072) [DEP0040] DeprecationWarning: The `punycode` module is deprecated. Please use a userland alternative instead.(Use `node --trace-deprecation ...` to show where the warning was created)Current Mongosh Log ID:  65761e02c30fe46809a29c78Connecting to:    mongodb://127.0.0.1:27017/?directConnection=true&serverSelectionTimeoutMS=2000&appName=mongosh+2.0.2Using MongoDB:    7.0.2Using Mongosh:    2.0.2mongosh 2.1.1 is available for download: https://www.mongodb.com/try/download/shellFor mongosh info see: https://docs.mongodb.com/mongodb-shell/------   The server generated these startup warnings when booting   2023-12-04T09:13:10.991-03:00: Access control is not enabled for the database. Read and write access to data and configuration is unrestricted------Loading file: /tmp/query.js(node:91072) [DEP0174] DeprecationWarning: Calling promisify on a function that returns a Promise is likely a mistake.'\n"
     ]
    }
   ],
   "source": [
    "Mongo.command(DATABASE, \"\"\"\n",
    "db.getCollection('ratings_v3').createIndex(\n",
    "    { 'user_movie_id': 1 }, \n",
    "    { unique: true, name: 'id_unique_index' }\n",
    ");\n",
    "\"\"\")"
   ]
  },
  {
   "cell_type": "markdown",
   "id": "b598294d-94a9-4c6f-beb4-cef5f0537221",
   "metadata": {},
   "source": [
    "#### 8. Join ratting_v2 and tags_v2 collections by user_movie_id into a new ratings_tags_v1 collection."
   ]
  },
  {
   "cell_type": "code",
   "execution_count": 92,
   "id": "def09aec-1ef3-4119-b37e-65f793ae5c4c",
   "metadata": {
    "tags": []
   },
   "outputs": [
    {
     "name": "stderr",
     "output_type": "stream",
     "text": [
      "2023-12-10 17:24:24,791 - INFO - Success: b'(node:91186) [DEP0040] DeprecationWarning: The `punycode` module is deprecated. Please use a userland alternative instead.(Use `node --trace-deprecation ...` to show where the warning was created)Current Mongosh Log ID:  65761e20b3d5056ce042e6daConnecting to:    mongodb://127.0.0.1:27017/?directConnection=true&serverSelectionTimeoutMS=2000&appName=mongosh+2.0.2Using MongoDB:    7.0.2Using Mongosh:    2.0.2mongosh 2.1.1 is available for download: https://www.mongodb.com/try/download/shellFor mongosh info see: https://docs.mongodb.com/mongodb-shell/------   The server generated these startup warnings when booting   2023-12-04T09:13:10.991-03:00: Access control is not enabled for the database. Read and write access to data and configuration is unrestricted------Loading file: /tmp/query.js(node:91186) [DEP0174] DeprecationWarning: Calling promisify on a function that returns a Promise is likely a mistake.'\n",
      "2023-12-10 17:24:24,791 - INFO - Success: b'(node:91186) [DEP0040] DeprecationWarning: The `punycode` module is deprecated. Please use a userland alternative instead.(Use `node --trace-deprecation ...` to show where the warning was created)Current Mongosh Log ID:  65761e20b3d5056ce042e6daConnecting to:    mongodb://127.0.0.1:27017/?directConnection=true&serverSelectionTimeoutMS=2000&appName=mongosh+2.0.2Using MongoDB:    7.0.2Using Mongosh:    2.0.2mongosh 2.1.1 is available for download: https://www.mongodb.com/try/download/shellFor mongosh info see: https://docs.mongodb.com/mongodb-shell/------   The server generated these startup warnings when booting   2023-12-04T09:13:10.991-03:00: Access control is not enabled for the database. Read and write access to data and configuration is unrestricted------Loading file: /tmp/query.js(node:91186) [DEP0174] DeprecationWarning: Calling promisify on a function that returns a Promise is likely a mistake.'\n",
      "2023-12-10 17:24:24,791 - INFO - Success: b'(node:91186) [DEP0040] DeprecationWarning: The `punycode` module is deprecated. Please use a userland alternative instead.(Use `node --trace-deprecation ...` to show where the warning was created)Current Mongosh Log ID:  65761e20b3d5056ce042e6daConnecting to:    mongodb://127.0.0.1:27017/?directConnection=true&serverSelectionTimeoutMS=2000&appName=mongosh+2.0.2Using MongoDB:    7.0.2Using Mongosh:    2.0.2mongosh 2.1.1 is available for download: https://www.mongodb.com/try/download/shellFor mongosh info see: https://docs.mongodb.com/mongodb-shell/------   The server generated these startup warnings when booting   2023-12-04T09:13:10.991-03:00: Access control is not enabled for the database. Read and write access to data and configuration is unrestricted------Loading file: /tmp/query.js(node:91186) [DEP0174] DeprecationWarning: Calling promisify on a function that returns a Promise is likely a mistake.'\n"
     ]
    }
   ],
   "source": [
    "Mongo.command(DATABASE, \"\"\"\n",
    "db.getCollection('ratings_v3').aggregate([\n",
    "    {\n",
    "        $lookup:\n",
    "          {\n",
    "            from: \"tags_v2\",\n",
    "            foreignField: \"user_movie_id\",\n",
    "            localField: \"user_movie_id\", \n",
    "            as: \"tags_v2\"\n",
    "          }\n",
    "     },\n",
    "     { $match: { tags_v2: { $exists: true, $not: {$size: 0} } } },\n",
    "     { \n",
    "        $project: { \n",
    "            user_id: 1,\n",
    "            movie_id: 1,\n",
    "            rating: 1,\n",
    "            timestamp: 1,\n",
    "            tags: \"$tags_v2.tags\"\n",
    "        }\n",
    "    },\n",
    "    {\n",
    "        $addFields: {  \n",
    "            _id: { $concat: [ { $toString: \"$user_id\" } , \"_\", { $toString:\"$movie_id\"} ] },            \n",
    "            tags: {\n",
    "                \"$reduce\": {\n",
    "                    \"input\": \"$tags\",\n",
    "                    \"initialValue\": [],\n",
    "                    \"in\": { \"$setUnion\": [ \"$$value\", \"$$this\" ] }\n",
    "                }\n",
    "            }\n",
    "        }\n",
    "    },\n",
    "    { $out: \"ratings_tags_v1\" }\n",
    "]);\n",
    "\"\"\")"
   ]
  },
  {
   "cell_type": "markdown",
   "id": "d19b6091-b81e-4da8-98b9-86a9c1459f4b",
   "metadata": {},
   "source": [
    "#### 9. Add tags field into movie_v2 collections:"
   ]
  },
  {
   "cell_type": "code",
   "execution_count": 93,
   "id": "b0c645dd-8960-4017-a593-6388e7dca927",
   "metadata": {
    "tags": []
   },
   "outputs": [
    {
     "name": "stderr",
     "output_type": "stream",
     "text": [
      "2023-12-10 17:24:25,447 - INFO - Success: b'(node:91520) [DEP0040] DeprecationWarning: The `punycode` module is deprecated. Please use a userland alternative instead.(Use `node --trace-deprecation ...` to show where the warning was created)Current Mongosh Log ID:  65761e7965fd40716e9796f9Connecting to:    mongodb://127.0.0.1:27017/?directConnection=true&serverSelectionTimeoutMS=2000&appName=mongosh+2.0.2Using MongoDB:    7.0.2Using Mongosh:    2.0.2mongosh 2.1.1 is available for download: https://www.mongodb.com/try/download/shellFor mongosh info see: https://docs.mongodb.com/mongodb-shell/------   The server generated these startup warnings when booting   2023-12-04T09:13:10.991-03:00: Access control is not enabled for the database. Read and write access to data and configuration is unrestricted------Loading file: /tmp/query.js(node:91520) [DEP0174] DeprecationWarning: Calling promisify on a function that returns a Promise is likely a mistake.'\n",
      "2023-12-10 17:24:25,447 - INFO - Success: b'(node:91520) [DEP0040] DeprecationWarning: The `punycode` module is deprecated. Please use a userland alternative instead.(Use `node --trace-deprecation ...` to show where the warning was created)Current Mongosh Log ID:  65761e7965fd40716e9796f9Connecting to:    mongodb://127.0.0.1:27017/?directConnection=true&serverSelectionTimeoutMS=2000&appName=mongosh+2.0.2Using MongoDB:    7.0.2Using Mongosh:    2.0.2mongosh 2.1.1 is available for download: https://www.mongodb.com/try/download/shellFor mongosh info see: https://docs.mongodb.com/mongodb-shell/------   The server generated these startup warnings when booting   2023-12-04T09:13:10.991-03:00: Access control is not enabled for the database. Read and write access to data and configuration is unrestricted------Loading file: /tmp/query.js(node:91520) [DEP0174] DeprecationWarning: Calling promisify on a function that returns a Promise is likely a mistake.'\n",
      "2023-12-10 17:24:25,447 - INFO - Success: b'(node:91520) [DEP0040] DeprecationWarning: The `punycode` module is deprecated. Please use a userland alternative instead.(Use `node --trace-deprecation ...` to show where the warning was created)Current Mongosh Log ID:  65761e7965fd40716e9796f9Connecting to:    mongodb://127.0.0.1:27017/?directConnection=true&serverSelectionTimeoutMS=2000&appName=mongosh+2.0.2Using MongoDB:    7.0.2Using Mongosh:    2.0.2mongosh 2.1.1 is available for download: https://www.mongodb.com/try/download/shellFor mongosh info see: https://docs.mongodb.com/mongodb-shell/------   The server generated these startup warnings when booting   2023-12-04T09:13:10.991-03:00: Access control is not enabled for the database. Read and write access to data and configuration is unrestricted------Loading file: /tmp/query.js(node:91520) [DEP0174] DeprecationWarning: Calling promisify on a function that returns a Promise is likely a mistake.'\n"
     ]
    }
   ],
   "source": [
    "Mongo.command(DATABASE, \"\"\"\n",
    "db.getCollection('movies_v2').createIndex(\n",
    "    { 'id': 1 }, \n",
    "    { unique: true, name: 'id_unique_index' }\n",
    ")\n",
    "\"\"\")"
   ]
  },
  {
   "cell_type": "code",
   "execution_count": 94,
   "id": "8dd00126-e0d6-4bc2-abd8-c5ddf9ecc0e9",
   "metadata": {
    "tags": []
   },
   "outputs": [
    {
     "name": "stderr",
     "output_type": "stream",
     "text": [
      "2023-12-10 17:24:26,232 - INFO - Success: b'(node:91525) [DEP0040] DeprecationWarning: The `punycode` module is deprecated. Please use a userland alternative instead.(Use `node --trace-deprecation ...` to show where the warning was created)Current Mongosh Log ID:  65761e79dcd3bf74639eb446Connecting to:    mongodb://127.0.0.1:27017/?directConnection=true&serverSelectionTimeoutMS=2000&appName=mongosh+2.0.2Using MongoDB:    7.0.2Using Mongosh:    2.0.2mongosh 2.1.1 is available for download: https://www.mongodb.com/try/download/shellFor mongosh info see: https://docs.mongodb.com/mongodb-shell/------   The server generated these startup warnings when booting   2023-12-04T09:13:10.991-03:00: Access control is not enabled for the database. Read and write access to data and configuration is unrestricted------Loading file: /tmp/query.js(node:91525) [DEP0174] DeprecationWarning: Calling promisify on a function that returns a Promise is likely a mistake.'\n",
      "2023-12-10 17:24:26,232 - INFO - Success: b'(node:91525) [DEP0040] DeprecationWarning: The `punycode` module is deprecated. Please use a userland alternative instead.(Use `node --trace-deprecation ...` to show where the warning was created)Current Mongosh Log ID:  65761e79dcd3bf74639eb446Connecting to:    mongodb://127.0.0.1:27017/?directConnection=true&serverSelectionTimeoutMS=2000&appName=mongosh+2.0.2Using MongoDB:    7.0.2Using Mongosh:    2.0.2mongosh 2.1.1 is available for download: https://www.mongodb.com/try/download/shellFor mongosh info see: https://docs.mongodb.com/mongodb-shell/------   The server generated these startup warnings when booting   2023-12-04T09:13:10.991-03:00: Access control is not enabled for the database. Read and write access to data and configuration is unrestricted------Loading file: /tmp/query.js(node:91525) [DEP0174] DeprecationWarning: Calling promisify on a function that returns a Promise is likely a mistake.'\n",
      "2023-12-10 17:24:26,232 - INFO - Success: b'(node:91525) [DEP0040] DeprecationWarning: The `punycode` module is deprecated. Please use a userland alternative instead.(Use `node --trace-deprecation ...` to show where the warning was created)Current Mongosh Log ID:  65761e79dcd3bf74639eb446Connecting to:    mongodb://127.0.0.1:27017/?directConnection=true&serverSelectionTimeoutMS=2000&appName=mongosh+2.0.2Using MongoDB:    7.0.2Using Mongosh:    2.0.2mongosh 2.1.1 is available for download: https://www.mongodb.com/try/download/shellFor mongosh info see: https://docs.mongodb.com/mongodb-shell/------   The server generated these startup warnings when booting   2023-12-04T09:13:10.991-03:00: Access control is not enabled for the database. Read and write access to data and configuration is unrestricted------Loading file: /tmp/query.js(node:91525) [DEP0174] DeprecationWarning: Calling promisify on a function that returns a Promise is likely a mistake.'\n"
     ]
    }
   ],
   "source": [
    "Mongo.command(DATABASE, \"\"\"\n",
    "db.tags_v2.aggregate([\n",
    "    { \n",
    "        $group: { _id: \"$movie_id\", doc: { $first: \"$$ROOT\" } }\n",
    "    },\n",
    "    { \n",
    "        $replaceRoot: { newRoot: \"$doc\" }\n",
    "    },\n",
    "    { $out: \"tags_v3\" }\n",
    "]);\n",
    "\"\"\")"
   ]
  },
  {
   "cell_type": "code",
   "execution_count": 95,
   "id": "91cfae63-b30c-4f62-9f43-713283970df6",
   "metadata": {
    "tags": []
   },
   "outputs": [
    {
     "name": "stderr",
     "output_type": "stream",
     "text": [
      "2023-12-10 17:24:26,844 - INFO - Success: b'(node:91529) [DEP0040] DeprecationWarning: The `punycode` module is deprecated. Please use a userland alternative instead.(Use `node --trace-deprecation ...` to show where the warning was created)Current Mongosh Log ID:  65761e7a5015193616d3a6d4Connecting to:    mongodb://127.0.0.1:27017/?directConnection=true&serverSelectionTimeoutMS=2000&appName=mongosh+2.0.2Using MongoDB:    7.0.2Using Mongosh:    2.0.2mongosh 2.1.1 is available for download: https://www.mongodb.com/try/download/shellFor mongosh info see: https://docs.mongodb.com/mongodb-shell/------   The server generated these startup warnings when booting   2023-12-04T09:13:10.991-03:00: Access control is not enabled for the database. Read and write access to data and configuration is unrestricted------Loading file: /tmp/query.js(node:91529) [DEP0174] DeprecationWarning: Calling promisify on a function that returns a Promise is likely a mistake.'\n",
      "2023-12-10 17:24:26,844 - INFO - Success: b'(node:91529) [DEP0040] DeprecationWarning: The `punycode` module is deprecated. Please use a userland alternative instead.(Use `node --trace-deprecation ...` to show where the warning was created)Current Mongosh Log ID:  65761e7a5015193616d3a6d4Connecting to:    mongodb://127.0.0.1:27017/?directConnection=true&serverSelectionTimeoutMS=2000&appName=mongosh+2.0.2Using MongoDB:    7.0.2Using Mongosh:    2.0.2mongosh 2.1.1 is available for download: https://www.mongodb.com/try/download/shellFor mongosh info see: https://docs.mongodb.com/mongodb-shell/------   The server generated these startup warnings when booting   2023-12-04T09:13:10.991-03:00: Access control is not enabled for the database. Read and write access to data and configuration is unrestricted------Loading file: /tmp/query.js(node:91529) [DEP0174] DeprecationWarning: Calling promisify on a function that returns a Promise is likely a mistake.'\n",
      "2023-12-10 17:24:26,844 - INFO - Success: b'(node:91529) [DEP0040] DeprecationWarning: The `punycode` module is deprecated. Please use a userland alternative instead.(Use `node --trace-deprecation ...` to show where the warning was created)Current Mongosh Log ID:  65761e7a5015193616d3a6d4Connecting to:    mongodb://127.0.0.1:27017/?directConnection=true&serverSelectionTimeoutMS=2000&appName=mongosh+2.0.2Using MongoDB:    7.0.2Using Mongosh:    2.0.2mongosh 2.1.1 is available for download: https://www.mongodb.com/try/download/shellFor mongosh info see: https://docs.mongodb.com/mongodb-shell/------   The server generated these startup warnings when booting   2023-12-04T09:13:10.991-03:00: Access control is not enabled for the database. Read and write access to data and configuration is unrestricted------Loading file: /tmp/query.js(node:91529) [DEP0174] DeprecationWarning: Calling promisify on a function that returns a Promise is likely a mistake.'\n"
     ]
    }
   ],
   "source": [
    "Mongo.command(DATABASE, \"\"\"\n",
    "db.getCollection('tags_v3').createIndex(\n",
    "    { 'movie_id': 1 }, \n",
    "    { unique: true, name: 'id_unique_index' }\n",
    ")\n",
    "\"\"\")"
   ]
  },
  {
   "cell_type": "code",
   "execution_count": 96,
   "id": "79fde1d7-f21d-4df4-86a5-1e54f0b58593",
   "metadata": {
    "tags": []
   },
   "outputs": [
    {
     "name": "stderr",
     "output_type": "stream",
     "text": [
      "2023-12-10 17:24:27,679 - INFO - Success: b'(node:91531) [DEP0040] DeprecationWarning: The `punycode` module is deprecated. Please use a userland alternative instead.(Use `node --trace-deprecation ...` to show where the warning was created)Current Mongosh Log ID:  65761e7b66a0fb69b656fef4Connecting to:    mongodb://127.0.0.1:27017/?directConnection=true&serverSelectionTimeoutMS=2000&appName=mongosh+2.0.2Using MongoDB:    7.0.2Using Mongosh:    2.0.2mongosh 2.1.1 is available for download: https://www.mongodb.com/try/download/shellFor mongosh info see: https://docs.mongodb.com/mongodb-shell/------   The server generated these startup warnings when booting   2023-12-04T09:13:10.991-03:00: Access control is not enabled for the database. Read and write access to data and configuration is unrestricted------Loading file: /tmp/query.js(node:91531) [DEP0174] DeprecationWarning: Calling promisify on a function that returns a Promise is likely a mistake.'\n",
      "2023-12-10 17:24:27,679 - INFO - Success: b'(node:91531) [DEP0040] DeprecationWarning: The `punycode` module is deprecated. Please use a userland alternative instead.(Use `node --trace-deprecation ...` to show where the warning was created)Current Mongosh Log ID:  65761e7b66a0fb69b656fef4Connecting to:    mongodb://127.0.0.1:27017/?directConnection=true&serverSelectionTimeoutMS=2000&appName=mongosh+2.0.2Using MongoDB:    7.0.2Using Mongosh:    2.0.2mongosh 2.1.1 is available for download: https://www.mongodb.com/try/download/shellFor mongosh info see: https://docs.mongodb.com/mongodb-shell/------   The server generated these startup warnings when booting   2023-12-04T09:13:10.991-03:00: Access control is not enabled for the database. Read and write access to data and configuration is unrestricted------Loading file: /tmp/query.js(node:91531) [DEP0174] DeprecationWarning: Calling promisify on a function that returns a Promise is likely a mistake.'\n",
      "2023-12-10 17:24:27,679 - INFO - Success: b'(node:91531) [DEP0040] DeprecationWarning: The `punycode` module is deprecated. Please use a userland alternative instead.(Use `node --trace-deprecation ...` to show where the warning was created)Current Mongosh Log ID:  65761e7b66a0fb69b656fef4Connecting to:    mongodb://127.0.0.1:27017/?directConnection=true&serverSelectionTimeoutMS=2000&appName=mongosh+2.0.2Using MongoDB:    7.0.2Using Mongosh:    2.0.2mongosh 2.1.1 is available for download: https://www.mongodb.com/try/download/shellFor mongosh info see: https://docs.mongodb.com/mongodb-shell/------   The server generated these startup warnings when booting   2023-12-04T09:13:10.991-03:00: Access control is not enabled for the database. Read and write access to data and configuration is unrestricted------Loading file: /tmp/query.js(node:91531) [DEP0174] DeprecationWarning: Calling promisify on a function that returns a Promise is likely a mistake.'\n"
     ]
    }
   ],
   "source": [
    "Mongo.command(DATABASE, \"\"\"\n",
    "db.getCollection('movies_v2').aggregate([\n",
    "    {\n",
    "        $lookup:\n",
    "          {\n",
    "            from: \"tags_v3\",\n",
    "            foreignField: \"movie_id\",\n",
    "            localField: \"id\",\n",
    "            as: \"tags_v3\"\n",
    "          }\n",
    "    },\n",
    "    { $match: { tags_v3: { $exists: true, $not: {$size: 0} } } },\n",
    "    { \n",
    "        $addFields: { \n",
    "            tags: {\n",
    "                \"$reduce\": {\n",
    "                    \"input\": \"$tags_v3.tags\",\n",
    "                    \"initialValue\": [],\n",
    "                    \"in\": { \"$setUnion\": [ \"$$value\", \"$$this\" ] }\n",
    "                }\n",
    "            }\n",
    "        }\n",
    "    },\n",
    "    { $unset: [\"tags_v3\"] },\n",
    "    { $addFields: {  _id: \"$id\" } },\n",
    "    { $unset: [\"id\"] },\n",
    "    { $out: \"movies_v3\" }\n",
    "]);\n",
    "\"\"\")"
   ]
  },
  {
   "cell_type": "markdown",
   "id": "c37343ba-a719-4992-b145-febda7616dd4",
   "metadata": {},
   "source": [
    "#### 10. Export final ccollections to json files:\n",
    "\n",
    "* movies_v3 to movies_v3.json\n",
    "* ratings_tags_v1 to ratings_tags_v1.json"
   ]
  },
  {
   "cell_type": "code",
   "execution_count": 97,
   "id": "d56c0ce2-3ed4-4e63-9019-76f2ed54bca9",
   "metadata": {},
   "outputs": [
    {
     "name": "stderr",
     "output_type": "stream",
     "text": [
      "2023-12-10 17:24:28,351 - INFO - Success: b'2023-12-10T17:24:27.994-0300  connected to: mongodb://localhost/2023-12-10T17:24:28.349-0300  exported 18679 records'\n",
      "2023-12-10 17:24:28,351 - INFO - Success: b'2023-12-10T17:24:27.994-0300  connected to: mongodb://localhost/2023-12-10T17:24:28.349-0300  exported 18679 records'\n",
      "2023-12-10 17:24:28,351 - INFO - Success: b'2023-12-10T17:24:27.994-0300  connected to: mongodb://localhost/2023-12-10T17:24:28.349-0300  exported 18679 records'\n"
     ]
    }
   ],
   "source": [
    "Mongo.export_to_json(database='movies', path=DATASETS_PATH, collections=['movies_v3'])"
   ]
  },
  {
   "cell_type": "code",
   "execution_count": 98,
   "id": "9ee87762-4b54-455a-a3cb-f6d689107593",
   "metadata": {},
   "outputs": [
    {
     "name": "stderr",
     "output_type": "stream",
     "text": [
      "2023-12-10 17:24:30,596 - INFO - Success: b'2023-12-10T17:24:28.396-0300  connected to: mongodb://localhost/2023-12-10T17:24:29.397-0300  [##########..............]  movies.ratings_tags_v1  88000/210725  (41.8%)2023-12-10T17:24:30.396-0300  [####################....]  movies.ratings_tags_v1  184000/210725  (87.3%)2023-12-10T17:24:30.594-0300  [########################]  movies.ratings_tags_v1  210725/210725  (100.0%)2023-12-10T17:24:30.594-0300  exported 210725 records'\n",
      "2023-12-10 17:24:30,596 - INFO - Success: b'2023-12-10T17:24:28.396-0300  connected to: mongodb://localhost/2023-12-10T17:24:29.397-0300  [##########..............]  movies.ratings_tags_v1  88000/210725  (41.8%)2023-12-10T17:24:30.396-0300  [####################....]  movies.ratings_tags_v1  184000/210725  (87.3%)2023-12-10T17:24:30.594-0300  [########################]  movies.ratings_tags_v1  210725/210725  (100.0%)2023-12-10T17:24:30.594-0300  exported 210725 records'\n",
      "2023-12-10 17:24:30,596 - INFO - Success: b'2023-12-10T17:24:28.396-0300  connected to: mongodb://localhost/2023-12-10T17:24:29.397-0300  [##########..............]  movies.ratings_tags_v1  88000/210725  (41.8%)2023-12-10T17:24:30.396-0300  [####################....]  movies.ratings_tags_v1  184000/210725  (87.3%)2023-12-10T17:24:30.594-0300  [########################]  movies.ratings_tags_v1  210725/210725  (100.0%)2023-12-10T17:24:30.594-0300  exported 210725 records'\n"
     ]
    }
   ],
   "source": [
    "Mongo.export_to_json(database='movies', path=DATASETS_PATH, collections=['ratings_tags_v1'])"
   ]
  }
 ],
 "metadata": {
  "kernelspec": {
   "display_name": "Python 3 (ipykernel)",
   "language": "python",
   "name": "python3"
  },
  "language_info": {
   "codemirror_mode": {
    "name": "ipython",
    "version": 3
   },
   "file_extension": ".py",
   "mimetype": "text/x-python",
   "name": "python",
   "nbconvert_exporter": "python",
   "pygments_lexer": "ipython3",
   "version": "3.11.5"
  },
  "widgets": {
   "application/vnd.jupyter.widget-state+json": {
    "state": {},
    "version_major": 2,
    "version_minor": 0
   }
  }
 },
 "nbformat": 4,
 "nbformat_minor": 5
}
