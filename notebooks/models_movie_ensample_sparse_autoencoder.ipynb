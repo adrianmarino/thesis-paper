{
 "cells": [
  {
   "cell_type": "markdown",
   "id": "0417277b-47df-4113-a7b3-8f960db06f1d",
   "metadata": {
    "tags": []
   },
   "source": [
    "# Ensemple CB recommender based on Sparse Autoencoder"
   ]
  },
  {
   "cell_type": "code",
   "execution_count": 1,
   "id": "8dde5e70-5b86-460f-8791-20fcb554c378",
   "metadata": {},
   "outputs": [],
   "source": [
    "%load_ext autoreload\n",
    "%autoreload 2"
   ]
  },
  {
   "cell_type": "code",
   "execution_count": 2,
   "id": "f98e7bf4-f41a-43f6-b7b7-a991d00f82de",
   "metadata": {},
   "outputs": [
    {
     "data": {
      "text/html": [
       "<pre style=\"white-space:pre;overflow-x:auto;line-height:normal;font-family:Menlo,'DejaVu Sans Mono',consolas,'Courier New',monospace\"><span style=\"font-weight: bold\">&lt;</span><span style=\"color: #ff00ff; text-decoration-color: #ff00ff; font-weight: bold\">Figure</span><span style=\"color: #000000; text-decoration-color: #000000\"> size 432x288 with </span><span style=\"color: #008080; text-decoration-color: #008080; font-weight: bold\">0</span><span style=\"color: #000000; text-decoration-color: #000000\"> Axes</span><span style=\"font-weight: bold\">&gt;</span>\n",
       "</pre>\n"
      ],
      "text/plain": [
       "\u001b[1m<\u001b[0m\u001b[1;95mFigure\u001b[0m\u001b[39m size 432x288 with \u001b[0m\u001b[1;36m0\u001b[0m\u001b[39m Axes\u001b[0m\u001b[1m>\u001b[0m\n"
      ]
     },
     "metadata": {},
     "output_type": "display_data"
    }
   ],
   "source": [
    "import sys\n",
    "sys.path.append('../lib')\n",
    "\n",
    "import torch\n",
    "import numpy as np\n",
    "import pandas as pd\n",
    "\n",
    "import pytorch_common.util as pu\n",
    "\n",
    "import logging\n",
    "import data as dt\n",
    "\n",
    "import recommender as rc"
   ]
  },
  {
   "cell_type": "markdown",
   "id": "40c1da33-a8da-47c9-b174-0b0885b05b50",
   "metadata": {},
   "source": [
    "## Setup"
   ]
  },
  {
   "cell_type": "code",
   "execution_count": 3,
   "id": "e60a3838-9787-411d-b9f1-8a942321cbb1",
   "metadata": {},
   "outputs": [
    {
     "data": {
      "text/html": [
       "<pre style=\"white-space:pre;overflow-x:auto;line-height:normal;font-family:Menlo,'DejaVu Sans Mono',consolas,'Courier New',monospace\"><span style=\"font-weight: bold\">&lt;</span><span style=\"color: #ff00ff; text-decoration-color: #ff00ff; font-weight: bold\">RootLogger</span><span style=\"color: #000000; text-decoration-color: #000000\"> root </span><span style=\"color: #000000; text-decoration-color: #000000; font-weight: bold\">(</span><span style=\"color: #000000; text-decoration-color: #000000\">INFO</span><span style=\"color: #000000; text-decoration-color: #000000; font-weight: bold\">)</span><span style=\"font-weight: bold\">&gt;</span>\n",
       "</pre>\n"
      ],
      "text/plain": [
       "\u001b[1m<\u001b[0m\u001b[1;95mRootLogger\u001b[0m\u001b[39m root \u001b[0m\u001b[1;39m(\u001b[0m\u001b[39mINFO\u001b[0m\u001b[1;39m)\u001b[0m\u001b[1m>\u001b[0m\n"
      ]
     },
     "metadata": {},
     "output_type": "display_data"
    }
   ],
   "source": [
    "pu.LoggerBuilder().on_console().build()"
   ]
  },
  {
   "cell_type": "code",
   "execution_count": 4,
   "id": "9fd7574f-043a-4fc3-8ab8-bfd55b6a92d8",
   "metadata": {},
   "outputs": [],
   "source": [
    "pu.set_device_name('gpu')"
   ]
  },
  {
   "cell_type": "code",
   "execution_count": 5,
   "id": "bad1a1e0-b35e-4b40-ab06-beae8fbb244a",
   "metadata": {},
   "outputs": [
    {
     "data": {
      "text/html": [
       "<pre style=\"white-space:pre;overflow-x:auto;line-height:normal;font-family:Menlo,'DejaVu Sans Mono',consolas,'Courier New',monospace\"><span style=\"color: #800080; text-decoration-color: #800080; font-weight: bold\">device</span><span style=\"font-weight: bold\">(</span><span style=\"color: #808000; text-decoration-color: #808000\">type</span>=<span style=\"color: #008000; text-decoration-color: #008000\">'cuda'</span>, <span style=\"color: #808000; text-decoration-color: #808000\">index</span>=<span style=\"color: #008080; text-decoration-color: #008080; font-weight: bold\">0</span><span style=\"font-weight: bold\">)</span>\n",
       "</pre>\n"
      ],
      "text/plain": [
       "\u001b[1;35mdevice\u001b[0m\u001b[1m(\u001b[0m\u001b[33mtype\u001b[0m=\u001b[32m'cuda'\u001b[0m, \u001b[33mindex\u001b[0m=\u001b[1;36m0\u001b[0m\u001b[1m)\u001b[0m\n"
      ]
     },
     "metadata": {},
     "output_type": "display_data"
    }
   ],
   "source": [
    "pu.get_device()"
   ]
  },
  {
   "cell_type": "code",
   "execution_count": 6,
   "id": "d1ba7b0b-b5d8-47ec-8995-642b7b21e6d2",
   "metadata": {},
   "outputs": [
    {
     "data": {
      "text/html": [
       "<pre style=\"white-space:pre;overflow-x:auto;line-height:normal;font-family:Menlo,'DejaVu Sans Mono',consolas,'Courier New',monospace\"><span style=\"color: #00ff00; text-decoration-color: #00ff00; font-style: italic\">True</span>\n",
       "</pre>\n"
      ],
      "text/plain": [
       "\u001b[3;92mTrue\u001b[0m\n"
      ]
     },
     "metadata": {},
     "output_type": "display_data"
    }
   ],
   "source": [
    "torch.cuda.is_available()"
   ]
  },
  {
   "cell_type": "code",
   "execution_count": 7,
   "id": "21fa4041-5682-4332-b139-6aca63d05ea0",
   "metadata": {},
   "outputs": [
    {
     "data": {
      "text/html": [
       "<pre style=\"white-space:pre;overflow-x:auto;line-height:normal;font-family:Menlo,'DejaVu Sans Mono',consolas,'Courier New',monospace\"><span style=\"color: #008000; text-decoration-color: #008000\">'1.11.0'</span>\n",
       "</pre>\n"
      ],
      "text/plain": [
       "\u001b[32m'1.11.0'\u001b[0m\n"
      ]
     },
     "metadata": {},
     "output_type": "display_data"
    }
   ],
   "source": [
    "torch.__version__"
   ]
  },
  {
   "cell_type": "markdown",
   "id": "d43c9369-047c-45ea-863c-304319bc63f0",
   "metadata": {},
   "source": [
    "## Evaluación"
   ]
  },
  {
   "cell_type": "code",
   "execution_count": 8,
   "id": "fbcd44ff-b654-4565-b215-31589e10d4c5",
   "metadata": {},
   "outputs": [],
   "source": [
    "def load(name): return pd.read_json(f'../datasets/movie_{name}_embedding.json')\n",
    "def emb_rec(emb, name): return rc.DistanceMatrixRecommender(emb, f'{name}_embedding')"
   ]
  },
  {
   "cell_type": "code",
   "execution_count": 9,
   "id": "9a882d10-9c11-4470-adf7-f3e0dcd79081",
   "metadata": {},
   "outputs": [
    {
     "data": {
      "application/vnd.jupyter.widget-view+json": {
       "model_id": "032efd24b073444cad2c935dff659109",
       "version_major": 2,
       "version_minor": 0
      },
      "text/plain": [
       "Building Distances Matrix:   0%|          | 0/18515 [00:00<?, ?it/s]"
      ]
     },
     "metadata": {},
     "output_type": "display_data"
    },
    {
     "data": {
      "application/vnd.jupyter.widget-view+json": {
       "model_id": "3523897ac9d64e5f95d319a2a050dfc0",
       "version_major": 2,
       "version_minor": 0
      },
      "text/plain": [
       "Building Distances Matrix:   0%|          | 0/18515 [00:00<?, ?it/s]"
      ]
     },
     "metadata": {},
     "output_type": "display_data"
    },
    {
     "data": {
      "application/vnd.jupyter.widget-view+json": {
       "model_id": "825880470f6f4114ad09dd4f0042c051",
       "version_major": 2,
       "version_minor": 0
      },
      "text/plain": [
       "Building Distances Matrix:   0%|          | 0/18515 [00:00<?, ?it/s]"
      ]
     },
     "metadata": {},
     "output_type": "display_data"
    },
    {
     "data": {
      "application/vnd.jupyter.widget-view+json": {
       "model_id": "6b35b3e086d148efaab0d51fe726fa01",
       "version_major": 2,
       "version_minor": 0
      },
      "text/plain": [
       "Building Distances Matrix:   0%|          | 0/18515 [00:00<?, ?it/s]"
      ]
     },
     "metadata": {},
     "output_type": "display_data"
    }
   ],
   "source": [
    "embeddings_by_name   = {name: load(name) for name in ['genres', 'overview', 'tags', 'title']}\n",
    "recommenders_by_name = {name: emb_rec(emb, name) for name, emb in embeddings_by_name.items()}\n",
    "emb_recommenders     = list(recommenders_by_name.values())"
   ]
  },
  {
   "cell_type": "code",
   "execution_count": 10,
   "id": "a159d68f-fe88-4b84-a0f3-b3e9ab679382",
   "metadata": {},
   "outputs": [],
   "source": [
    "item_index = 10"
   ]
  },
  {
   "cell_type": "code",
   "execution_count": 11,
   "id": "ccf98905-1f3f-4d4e-b123-fac0040c6fad",
   "metadata": {},
   "outputs": [],
   "source": [
    "recommender_group = rc.RecommenderGroup(emb_recommenders)"
   ]
  },
  {
   "cell_type": "code",
   "execution_count": 12,
   "id": "28edec6f-2bd3-4bae-adf4-fe3256eaa87a",
   "metadata": {},
   "outputs": [],
   "source": [
    "# recommender_group.recommend(item_index).show()"
   ]
  },
  {
   "cell_type": "code",
   "execution_count": 26,
   "id": "8c021cde-d216-4750-ac1c-9d6c744165d5",
   "metadata": {},
   "outputs": [],
   "source": [
    "recommender = rc.EnsembleWeightedDistanceMatrixRecommender(\n",
    "    emb_recommenders,\n",
    "    weights = { 'tags': 0.3, 'overview': 0.1, 'genres': 0.4, 'title': 0.2}\n",
    ")"
   ]
  },
  {
   "cell_type": "code",
   "execution_count": 27,
   "id": "9887261e-36d4-499d-b303-97c236df3d31",
   "metadata": {
    "tags": []
   },
   "outputs": [
    {
     "name": "stdout",
     "output_type": "stream",
     "text": [
      "\n",
      "Recommender: ['genres', 'overview', 'tags', 'title']\n",
      "Item\n"
     ]
    },
    {
     "data": {
      "text/html": [
       "<table border=\"1\" class=\"dataframe\">\n",
       "  <thead>\n",
       "    <tr style=\"text-align: right;\">\n",
       "      <th></th>\n",
       "      <th>title</th>\n",
       "      <th>image</th>\n",
       "    </tr>\n",
       "  </thead>\n",
       "  <tbody>\n",
       "    <tr>\n",
       "      <th>10</th>\n",
       "      <td>Shrek 2</td>\n",
       "      <td><img src=\"https://m.media-amazon.com/images/M/MV5BMDJhMGRjN2QtNDUxYy00NGM3LThjNGQtMmZiZTRhNjM4YzUxL2ltYWdlL2ltYWdlXkEyXkFqcGdeQXVyMTQxNzMzNDI@._V1_SX300.jpg\" width=\"160\" ></td>\n",
       "    </tr>\n",
       "  </tbody>\n",
       "</table>"
      ]
     },
     "metadata": {},
     "output_type": "display_data"
    },
    {
     "name": "stdout",
     "output_type": "stream",
     "text": [
      "Recommendations\n"
     ]
    },
    {
     "data": {
      "text/html": [
       "<table border=\"1\" class=\"dataframe\">\n",
       "  <thead>\n",
       "    <tr style=\"text-align: right;\">\n",
       "      <th></th>\n",
       "      <th>distance</th>\n",
       "      <th>title</th>\n",
       "      <th>image</th>\n",
       "    </tr>\n",
       "  </thead>\n",
       "  <tbody>\n",
       "    <tr>\n",
       "      <th>0</th>\n",
       "      <td>0.000000</td>\n",
       "      <td>Shrek 2</td>\n",
       "      <td><img src=\"https://m.media-amazon.com/images/M/MV5BMDJhMGRjN2QtNDUxYy00NGM3LThjNGQtMmZiZTRhNjM4YzUxL2ltYWdlL2ltYWdlXkEyXkFqcGdeQXVyMTQxNzMzNDI@._V1_SX300.jpg\" width=\"160\" ></td>\n",
       "    </tr>\n",
       "    <tr>\n",
       "      <th>1</th>\n",
       "      <td>0.003895</td>\n",
       "      <td>Shrek</td>\n",
       "      <td><img src=\"https://m.media-amazon.com/images/M/MV5BOGZhM2FhNTItODAzNi00YjA0LWEyN2UtNjJlYWQzYzU1MDg5L2ltYWdlL2ltYWdlXkEyXkFqcGdeQXVyMTQxNzMzNDI@._V1_SX300.jpg\" width=\"160\" ></td>\n",
       "    </tr>\n",
       "    <tr>\n",
       "      <th>2</th>\n",
       "      <td>0.005857</td>\n",
       "      <td>Wreck-It Ralph</td>\n",
       "      <td><img src=\"https://m.media-amazon.com/images/M/MV5BNzMxNTExOTkyMF5BMl5BanBnXkFtZTcwMzEyNDc0OA@@._V1_SX300.jpg\" width=\"160\" ></td>\n",
       "    </tr>\n",
       "    <tr>\n",
       "      <th>3</th>\n",
       "      <td>0.007540</td>\n",
       "      <td>Cars</td>\n",
       "      <td><img src=\"https://m.media-amazon.com/images/M/MV5BMTg5NzY0MzA2MV5BMl5BanBnXkFtZTYwNDc3NTc2._V1_SX300.jpg\" width=\"160\" ></td>\n",
       "    </tr>\n",
       "    <tr>\n",
       "      <th>4</th>\n",
       "      <td>0.010757</td>\n",
       "      <td>Anastasia</td>\n",
       "      <td><img src=\"https://m.media-amazon.com/images/M/MV5BNGJiNWFlYTMtZTBiZi00ZTVmLWJmZmMtNzEzYzZjNzYzZmRmXkEyXkFqcGdeQXVyNTA4NzY1MzY@._V1_SX300.jpg\" width=\"160\" ></td>\n",
       "    </tr>\n",
       "    <tr>\n",
       "      <th>5</th>\n",
       "      <td>0.010906</td>\n",
       "      <td>Chitty Chitty Bang Bang</td>\n",
       "      <td><img src=\"https://m.media-amazon.com/images/M/MV5BZWU3MTA3MmQtNTA0NS00MTA4LTg4MDgtZWQ4MDc2MTNlNmVkXkEyXkFqcGdeQXVyNjE5MjUyOTM@._V1_SX300.jpg\" width=\"160\" ></td>\n",
       "    </tr>\n",
       "    <tr>\n",
       "      <th>6</th>\n",
       "      <td>0.012568</td>\n",
       "      <td>Enchanted</td>\n",
       "      <td><img src=\"https://m.media-amazon.com/images/M/MV5BMjE4NDQ2Mjc0OF5BMl5BanBnXkFtZTcwNzQ2NDE1MQ@@._V1_SX300.jpg\" width=\"160\" ></td>\n",
       "    </tr>\n",
       "    <tr>\n",
       "      <th>7</th>\n",
       "      <td>0.012947</td>\n",
       "      <td>Boxtrolls, The</td>\n",
       "      <td><img src=\"https://m.media-amazon.com/images/M/MV5BMTQxODA5MDkyNV5BMl5BanBnXkFtZTgwMDMyNjkzMjE@._V1_SX300.jpg\" width=\"160\" ></td>\n",
       "    </tr>\n",
       "    <tr>\n",
       "      <th>8</th>\n",
       "      <td>0.013048</td>\n",
       "      <td>Oblivion Island: Haruka and the Magic Mirror</td>\n",
       "      <td><img src=\"https://m.media-amazon.com/images/M/MV5BMjI5NjI5NjQyMV5BMl5BanBnXkFtZTgwNDQ2OTU4NjE@._V1_SX300.jpg\" width=\"160\" ></td>\n",
       "    </tr>\n",
       "    <tr>\n",
       "      <th>9</th>\n",
       "      <td>0.013841</td>\n",
       "      <td>Young and Prodigious T.S. Spivet, The</td>\n",
       "      <td><img src=\"https://m.media-amazon.com/images/M/MV5BMTk3MDU1MTc5Ml5BMl5BanBnXkFtZTgwNzk2NDY2NjE@._V1_SX300.jpg\" width=\"160\" ></td>\n",
       "    </tr>\n",
       "    <tr>\n",
       "      <th>10</th>\n",
       "      <td>0.014079</td>\n",
       "      <td>Sleeping Beauty</td>\n",
       "      <td><img src=\"https://m.media-amazon.com/images/M/MV5BOTJmZjA3MjMtMWNmZS00YTliLWFhMWUtZDU2NGJhNTlmY2ZkL2ltYWdlL2ltYWdlXkEyXkFqcGdeQXVyMTQxNzMzNDI@._V1_SX300.jpg\" width=\"160\" ></td>\n",
       "    </tr>\n",
       "    <tr>\n",
       "      <th>11</th>\n",
       "      <td>0.014772</td>\n",
       "      <td>Batman: Mask of the Phantasm</td>\n",
       "      <td><img src=\"https://m.media-amazon.com/images/M/MV5BYTRiMWM3MGItNjAxZC00M2E3LThhODgtM2QwOGNmZGU4OWZhXkEyXkFqcGdeQXVyNjExODE1MDc@._V1_SX300.jpg\" width=\"160\" ></td>\n",
       "    </tr>\n",
       "    <tr>\n",
       "      <th>12</th>\n",
       "      <td>0.014828</td>\n",
       "      <td>Smurfs, The</td>\n",
       "      <td><img src=\"https://m.media-amazon.com/images/M/MV5BOTUzNTczYTMtMzdkOC00ODlkLTk1NDMtYWYxMzQyYzI1YmVjXkEyXkFqcGdeQXVyNDQ2MTMzODA@._V1_SX300.jpg\" width=\"160\" ></td>\n",
       "    </tr>\n",
       "    <tr>\n",
       "      <th>13</th>\n",
       "      <td>0.014997</td>\n",
       "      <td>Happily N'Ever After</td>\n",
       "      <td><img src=\"https://m.media-amazon.com/images/M/MV5BNzA3MTA0Mjk1M15BMl5BanBnXkFtZTcwNTE0NTQ0MQ@@._V1_SX300.jpg\" width=\"160\" ></td>\n",
       "    </tr>\n",
       "    <tr>\n",
       "      <th>14</th>\n",
       "      <td>0.015697</td>\n",
       "      <td>Peter Pan</td>\n",
       "      <td><img src=\"https://m.media-amazon.com/images/M/MV5BMTM0ODI2MzA0NV5BMl5BanBnXkFtZTYwNjUzMzg2._V1_SX300.jpg\" width=\"160\" ></td>\n",
       "    </tr>\n",
       "    <tr>\n",
       "      <th>15</th>\n",
       "      <td>0.015699</td>\n",
       "      <td>Watership Down</td>\n",
       "      <td><img src=\"https://m.media-amazon.com/images/M/MV5BMzZiODUwNzktNzBiZi00MDc4LThkMGMtZmE3MTE0M2E1MTM3L2ltYWdlXkEyXkFqcGdeQXVyNTAyODkwOQ@@._V1_SX300.jpg\" width=\"160\" ></td>\n",
       "    </tr>\n",
       "    <tr>\n",
       "      <th>16</th>\n",
       "      <td>0.016301</td>\n",
       "      <td>Creature Comforts</td>\n",
       "      <td><img src=\"https://m.media-amazon.com/images/M/MV5BMTQyMjk1MzI0NF5BMl5BanBnXkFtZTgwMjc2NDkwMzE@._V1_SX300.jpg\" width=\"160\" ></td>\n",
       "    </tr>\n",
       "    <tr>\n",
       "      <th>17</th>\n",
       "      <td>0.016420</td>\n",
       "      <td>The Lego Movie</td>\n",
       "      <td><img src=\"https://m.media-amazon.com/images/M/MV5BMTg4MDk1ODExN15BMl5BanBnXkFtZTgwNzIyNjg3MDE@._V1_SX300.jpg\" width=\"160\" ></td>\n",
       "    </tr>\n",
       "    <tr>\n",
       "      <th>18</th>\n",
       "      <td>0.016485</td>\n",
       "      <td>Seconds</td>\n",
       "      <td><img src=\"https://m.media-amazon.com/images/M/MV5BYmYwMmFjMDYtYTEyYS00NzUwLWIyZTMtNjFjZmVmZjhkY2M1XkEyXkFqcGdeQXVyNjc1NTYyMjg@._V1_SX300.jpg\" width=\"160\" ></td>\n",
       "    </tr>\n",
       "    <tr>\n",
       "      <th>19</th>\n",
       "      <td>0.016847</td>\n",
       "      <td>How to Train Your Dragon 2</td>\n",
       "      <td><img src=\"https://m.media-amazon.com/images/M/MV5BMzMwMTAwODczN15BMl5BanBnXkFtZTgwMDk2NDA4MTE@._V1_SX300.jpg\" width=\"160\" ></td>\n",
       "    </tr>\n",
       "    <tr>\n",
       "      <th>20</th>\n",
       "      <td>0.017057</td>\n",
       "      <td>Big Hero 6</td>\n",
       "      <td><img src=\"https://m.media-amazon.com/images/M/MV5BMDliOTIzNmUtOTllOC00NDU3LWFiNjYtMGM0NDc1YTMxNjYxXkEyXkFqcGdeQXVyNTM3NzExMDQ@._V1_SX300.jpg\" width=\"160\" ></td>\n",
       "    </tr>\n",
       "    <tr>\n",
       "      <th>21</th>\n",
       "      <td>0.017186</td>\n",
       "      <td>Strange Magic</td>\n",
       "      <td><img src=\"https://m.media-amazon.com/images/M/MV5BMjA0NjU3MTU5OF5BMl5BanBnXkFtZTgwMTYyMDQ3MzE@._V1_SX300.jpg\" width=\"160\" ></td>\n",
       "    </tr>\n",
       "    <tr>\n",
       "      <th>22</th>\n",
       "      <td>0.017295</td>\n",
       "      <td>City of Lost Children, The</td>\n",
       "      <td><img src=\"https://m.media-amazon.com/images/M/MV5BYjBlOGFhODEtZThmMS00OTgwLTk0MjAtNDgxNWFhY2JhYTE1XkEyXkFqcGdeQXVyMjUzOTY1NTc@._V1_SX300.jpg\" width=\"160\" ></td>\n",
       "    </tr>\n",
       "    <tr>\n",
       "      <th>23</th>\n",
       "      <td>0.017529</td>\n",
       "      <td>Mirror Mirror</td>\n",
       "      <td><img src=\"https://m.media-amazon.com/images/M/MV5BMjA5Mzk2MDUyM15BMl5BanBnXkFtZTcwODYzOTAyNw@@._V1_SX300.jpg\" width=\"160\" ></td>\n",
       "    </tr>\n",
       "    <tr>\n",
       "      <th>24</th>\n",
       "      <td>0.017718</td>\n",
       "      <td>Shrek the Third</td>\n",
       "      <td><img src=\"https://m.media-amazon.com/images/M/MV5BOTgyMjc3ODk2MV5BMl5BanBnXkFtZTcwMjY0MjEzMw@@._V1_SX300.jpg\" width=\"160\" ></td>\n",
       "    </tr>\n",
       "    <tr>\n",
       "      <th>25</th>\n",
       "      <td>0.017862</td>\n",
       "      <td>Goofy Movie, A</td>\n",
       "      <td><img src=\"https://m.media-amazon.com/images/M/MV5BZDczYjU4MDMtY2RjMy00Y2UyLWE2MmMtZjliYWUwNzQ3YjExXkEyXkFqcGdeQXVyMTQxNzMzNDI@._V1_SX300.jpg\" width=\"160\" ></td>\n",
       "    </tr>\n",
       "    <tr>\n",
       "      <th>26</th>\n",
       "      <td>0.018008</td>\n",
       "      <td>Epic</td>\n",
       "      <td><img src=\"https://m.media-amazon.com/images/M/MV5BMTgyNDYwNzE5NV5BMl5BanBnXkFtZTcwMzUyODM5OA@@._V1_SX300.jpg\" width=\"160\" ></td>\n",
       "    </tr>\n",
       "    <tr>\n",
       "      <th>27</th>\n",
       "      <td>0.018037</td>\n",
       "      <td>Battle For Sevastopol</td>\n",
       "      <td><img src=\"https://m.media-amazon.com/images/M/MV5BNDk1ZGZlMGItYzNhMi00M2VkLTkyOWUtMGQ0ODQxZDg4ZWVkXkEyXkFqcGdeQXVyNDM1ODc2NzE@._V1_SX300.jpg\" width=\"160\" ></td>\n",
       "    </tr>\n",
       "    <tr>\n",
       "      <th>28</th>\n",
       "      <td>0.018041</td>\n",
       "      <td>Stardust</td>\n",
       "      <td><img src=\"https://m.media-amazon.com/images/M/MV5BMjkyMTE1OTYwNF5BMl5BanBnXkFtZTcwMDIxODYzMw@@._V1_SX300.jpg\" width=\"160\" ></td>\n",
       "    </tr>\n",
       "    <tr>\n",
       "      <th>29</th>\n",
       "      <td>0.018205</td>\n",
       "      <td>While You Were Fighting: A Thor Mockumentary</td>\n",
       "      <td><img src=\"https://m.media-amazon.com/images/M/MV5BZmEyODRkYmQtMjM3Yi00ZTkxLWI0NWEtOTJhMzBjNWY5MjJjXkEyXkFqcGdeQXVyNTE1NjY5Mg@@._V1_SX300.jpg\" width=\"160\" ></td>\n",
       "    </tr>\n",
       "    <tr>\n",
       "      <th>30</th>\n",
       "      <td>0.018228</td>\n",
       "      <td>Louise by the Shore</td>\n",
       "      <td><img src=\"https://m.media-amazon.com/images/M/MV5BNTZlM2YwNjgtYjM1MS00MmVjLTgxZWQtN2M3YzdiZGQ0ZjllXkEyXkFqcGdeQXVyNjk3MzAzNg@@._V1_SX300.jpg\" width=\"160\" ></td>\n",
       "    </tr>\n",
       "    <tr>\n",
       "      <th>31</th>\n",
       "      <td>0.018274</td>\n",
       "      <td>Mulan</td>\n",
       "      <td><img src=\"https://m.media-amazon.com/images/M/MV5BODkxNGQ1NWYtNzg0Ny00Yjg3LThmZTItMjE2YjhmZTQ0ODY5XkEyXkFqcGdeQXVyMTQxNzMzNDI@._V1_SX300.jpg\" width=\"160\" ></td>\n",
       "    </tr>\n",
       "    <tr>\n",
       "      <th>32</th>\n",
       "      <td>0.018304</td>\n",
       "      <td>Little Princess, A</td>\n",
       "      <td><img src=\"https://m.media-amazon.com/images/M/MV5BZDQzMGE5ODYtZDdiNC00MzZjLTg2NjAtZTk0ODlkYmY4MTQzXkEyXkFqcGdeQXVyMTQxNzMzNDI@._V1_SX300.jpg\" width=\"160\" ></td>\n",
       "    </tr>\n",
       "    <tr>\n",
       "      <th>33</th>\n",
       "      <td>0.018372</td>\n",
       "      <td>Scanner Darkly, A</td>\n",
       "      <td><img src=\"https://m.media-amazon.com/images/M/MV5BOTc2ZGI2MzEtODlkNC00MGQ4LTlkYjQtMDU0YTg1YTI0NDI1L2ltYWdlXkEyXkFqcGdeQXVyNTAyODkwOQ@@._V1_SX300.jpg\" width=\"160\" ></td>\n",
       "    </tr>\n",
       "    <tr>\n",
       "      <th>34</th>\n",
       "      <td>0.018451</td>\n",
       "      <td>Kiki's Delivery Service</td>\n",
       "      <td><img src=\"https://m.media-amazon.com/images/M/MV5BYTQ1ZTM1ZTgtN2Q2Ny00YjFkLTliNjEtN2I1ZmY5ZTY1OTEzXkEyXkFqcGdeQXVyMTMxODk2OTU@._V1_SX300.jpg\" width=\"160\" ></td>\n",
       "    </tr>\n",
       "    <tr>\n",
       "      <th>35</th>\n",
       "      <td>0.018523</td>\n",
       "      <td>The Secret Life of Pets</td>\n",
       "      <td><img src=\"https://m.media-amazon.com/images/M/MV5BMjIzMzA1OTkzNV5BMl5BanBnXkFtZTgwODE3MjM4NzE@._V1_SX300.jpg\" width=\"160\" ></td>\n",
       "    </tr>\n",
       "    <tr>\n",
       "      <th>36</th>\n",
       "      <td>0.018773</td>\n",
       "      <td>Chronicles of Narnia: The Lion, the Witch and the Wardrobe, The</td>\n",
       "      <td><img src=\"https://m.media-amazon.com/images/M/MV5BMTc0NTUwMTU5OV5BMl5BanBnXkFtZTcwNjAwNzQzMw@@._V1_SX300.jpg\" width=\"160\" ></td>\n",
       "    </tr>\n",
       "    <tr>\n",
       "      <th>37</th>\n",
       "      <td>0.018778</td>\n",
       "      <td>Operation Petticoat</td>\n",
       "      <td><img src=\"https://m.media-amazon.com/images/M/MV5BMzljOWEyZDMtOTUzZS00ZDc5LTkyODgtNDY0ZTAyZmRiNzNiXkEyXkFqcGdeQXVyNzQzNDEyOQ@@._V1_SX300.jpg\" width=\"160\" ></td>\n",
       "    </tr>\n",
       "    <tr>\n",
       "      <th>38</th>\n",
       "      <td>0.018864</td>\n",
       "      <td>Big Parade, The</td>\n",
       "      <td><img src=\"https://m.media-amazon.com/images/M/MV5BNjY2MTA1MjExNV5BMl5BanBnXkFtZTgwNzQ2ODAyMjE@._V1_SX300.jpg\" width=\"160\" ></td>\n",
       "    </tr>\n",
       "    <tr>\n",
       "      <th>39</th>\n",
       "      <td>0.019010</td>\n",
       "      <td>Song of the Sea</td>\n",
       "      <td><img src=\"https://m.media-amazon.com/images/M/MV5BMTQ2MDMwNjEwNV5BMl5BanBnXkFtZTgwOTkxMzI0MzE@._V1_SX300.jpg\" width=\"160\" ></td>\n",
       "    </tr>\n",
       "    <tr>\n",
       "      <th>40</th>\n",
       "      <td>0.019055</td>\n",
       "      <td>Flight of Dragons, The</td>\n",
       "      <td><img src=\"https://m.media-amazon.com/images/M/MV5BMTA5NzczNTU5MjNeQTJeQWpwZ15BbWU4MDE2MTQ3NzYx._V1_SX300.jpg\" width=\"160\" ></td>\n",
       "    </tr>\n",
       "    <tr>\n",
       "      <th>41</th>\n",
       "      <td>0.019068</td>\n",
       "      <td>Shark Tale</td>\n",
       "      <td><img src=\"https://m.media-amazon.com/images/M/MV5BMTMxMjY0NzE2M15BMl5BanBnXkFtZTcwNTc3ODcyMw@@._V1_SX300.jpg\" width=\"160\" ></td>\n",
       "    </tr>\n",
       "    <tr>\n",
       "      <th>42</th>\n",
       "      <td>0.019082</td>\n",
       "      <td>Bon Voyage, Charlie Brown</td>\n",
       "      <td><img src=\"https://m.media-amazon.com/images/M/MV5BYjhhOGY4OGItMDdlZS00ZjBhLWJlNDktOWY3ZGE2OTc0NjNkXkEyXkFqcGdeQXVyMzg1ODEwNQ@@._V1_SX300.jpg\" width=\"160\" ></td>\n",
       "    </tr>\n",
       "    <tr>\n",
       "      <th>43</th>\n",
       "      <td>0.019125</td>\n",
       "      <td>Persepolis</td>\n",
       "      <td><img src=\"https://m.media-amazon.com/images/M/MV5BMGRkZThmYzEtYjQxZC00OWEzLThjYjAtYzFkMjY0NGZkZWI4XkEyXkFqcGdeQXVyNTAyODkwOQ@@._V1_SX300.jpg\" width=\"160\" ></td>\n",
       "    </tr>\n",
       "    <tr>\n",
       "      <th>44</th>\n",
       "      <td>0.019175</td>\n",
       "      <td>NeverEnding Story, The</td>\n",
       "      <td><img src=\"https://m.media-amazon.com/images/M/MV5BM2YwNWExYjItODZmOC00MTRjLWFlYmEtODFmNGI5M2E5NzYxXkEyXkFqcGdeQXVyMTMxODk2OTU@._V1_SX300.jpg\" width=\"160\" ></td>\n",
       "    </tr>\n",
       "    <tr>\n",
       "      <th>45</th>\n",
       "      <td>0.019297</td>\n",
       "      <td>I Know Where I'm Going!</td>\n",
       "      <td><img src=\"https://m.media-amazon.com/images/M/MV5BYTM0OTRiYjktMTNjZi00NzVhLWIzYmQtZDQyYzk4NTE5NzRmXkEyXkFqcGdeQXVyMjI4MjA5MzA@._V1_SX300.jpg\" width=\"160\" ></td>\n",
       "    </tr>\n",
       "    <tr>\n",
       "      <th>46</th>\n",
       "      <td>0.019327</td>\n",
       "      <td>Life and Death of Colonel Blimp, The</td>\n",
       "      <td><img src=\"https://m.media-amazon.com/images/M/MV5BMzg2MzE5YTktNzc3NC00NTI0LTk3OGMtNzQ5OWE4NmJiZGRhXkEyXkFqcGdeQXVyMTk4MDgwNA@@._V1_SX300.jpg\" width=\"160\" ></td>\n",
       "    </tr>\n",
       "    <tr>\n",
       "      <th>47</th>\n",
       "      <td>0.019435</td>\n",
       "      <td>General, The</td>\n",
       "      <td><img src=\"https://m.media-amazon.com/images/M/MV5BYmRiMDFlYjYtOTMwYy00OGY2LWE0Y2QtYzQxOGNhZmUwNTIxXkEyXkFqcGdeQXVyNzkwMjQ5NzM@._V1_SX300.jpg\" width=\"160\" ></td>\n",
       "    </tr>\n",
       "    <tr>\n",
       "      <th>48</th>\n",
       "      <td>0.019461</td>\n",
       "      <td>Black Hole, The</td>\n",
       "      <td><img src=\"https://m.media-amazon.com/images/M/MV5BOGEzN2M5YTItZDRkZS00OWMxLTk3MTktZjZkNzExYWRjYjA5XkEyXkFqcGdeQXVyMjI4MjA5MzA@._V1_SX300.jpg\" width=\"160\" ></td>\n",
       "    </tr>\n",
       "    <tr>\n",
       "      <th>49</th>\n",
       "      <td>0.019926</td>\n",
       "      <td>Zoom</td>\n",
       "      <td><img src=\"https://m.media-amazon.com/images/M/MV5BNzhlM2Y2ZWUtZWJmZi00N2Y1LTg0ZTItZjgzZjA0MGVjOTQ0XkEyXkFqcGdeQXVyMjgyNjk3MzE@._V1_SX300.jpg\" width=\"160\" ></td>\n",
       "    </tr>\n",
       "  </tbody>\n",
       "</table>"
      ]
     },
     "metadata": {},
     "output_type": "display_data"
    }
   ],
   "source": [
    "recommender.recommend(item_index, k=50).show()"
   ]
  }
 ],
 "metadata": {
  "kernelspec": {
   "display_name": "Python 3 (ipykernel)",
   "language": "python",
   "name": "python3"
  },
  "language_info": {
   "codemirror_mode": {
    "name": "ipython",
    "version": 3
   },
   "file_extension": ".py",
   "mimetype": "text/x-python",
   "name": "python",
   "nbconvert_exporter": "python",
   "pygments_lexer": "ipython3",
   "version": "3.10.5"
  },
  "widgets": {
   "application/vnd.jupyter.widget-state+json": {
    "state": {
     "02ce74d1edd746deb79f15c709334464": {
      "model_module": "@jupyter-widgets/controls",
      "model_module_version": "1.5.0",
      "model_name": "ProgressStyleModel",
      "state": {
       "description_width": ""
      }
     },
     "032efd24b073444cad2c935dff659109": {
      "model_module": "@jupyter-widgets/controls",
      "model_module_version": "1.5.0",
      "model_name": "HBoxModel",
      "state": {
       "children": [
        "IPY_MODEL_9cc4fe05268c480cbe5fc9037e73187c",
        "IPY_MODEL_4d3305fb245c449c91745d1a3afad39f",
        "IPY_MODEL_5e215cceb6424c2c8fb8ca140023b8ed"
       ],
       "layout": "IPY_MODEL_7de91aba673e4a83966be43d76f4c5cb"
      }
     },
     "07c52c6b295e4bd695b3557bba1fe173": {
      "model_module": "@jupyter-widgets/base",
      "model_module_version": "1.2.0",
      "model_name": "LayoutModel",
      "state": {}
     },
     "0d8856b95ee64be7b8bf9891678d3f5b": {
      "model_module": "@jupyter-widgets/controls",
      "model_module_version": "1.5.0",
      "model_name": "FloatProgressModel",
      "state": {
       "bar_style": "success",
       "layout": "IPY_MODEL_ec565f2fdcf54bc5893e8a73bfd6e8b9",
       "max": 18515,
       "style": "IPY_MODEL_02ce74d1edd746deb79f15c709334464",
       "value": 18515
      }
     },
     "1acb083996404d10898954908cedd3d6": {
      "model_module": "@jupyter-widgets/base",
      "model_module_version": "1.2.0",
      "model_name": "LayoutModel",
      "state": {}
     },
     "2bd5ac14c41e46eb814c1dda79aebc68": {
      "model_module": "@jupyter-widgets/controls",
      "model_module_version": "1.5.0",
      "model_name": "DescriptionStyleModel",
      "state": {
       "description_width": ""
      }
     },
     "3372a9e4091d4887affc50ef88f5aad0": {
      "model_module": "@jupyter-widgets/controls",
      "model_module_version": "1.5.0",
      "model_name": "DescriptionStyleModel",
      "state": {
       "description_width": ""
      }
     },
     "3523897ac9d64e5f95d319a2a050dfc0": {
      "model_module": "@jupyter-widgets/controls",
      "model_module_version": "1.5.0",
      "model_name": "HBoxModel",
      "state": {
       "children": [
        "IPY_MODEL_ff49bcbb3f684bf2af72bb3d6d2c65da",
        "IPY_MODEL_b4f8f2282de841b99f751263cfa4df25",
        "IPY_MODEL_b3c0fc7c914d464785aa2d87583b3453"
       ],
       "layout": "IPY_MODEL_1acb083996404d10898954908cedd3d6"
      }
     },
     "3cad7bc48fb54827a6207939f36d865d": {
      "model_module": "@jupyter-widgets/base",
      "model_module_version": "1.2.0",
      "model_name": "LayoutModel",
      "state": {}
     },
     "409dadc2ac3e4b838ccd78650c8655d0": {
      "model_module": "@jupyter-widgets/controls",
      "model_module_version": "1.5.0",
      "model_name": "DescriptionStyleModel",
      "state": {
       "description_width": ""
      }
     },
     "448d076aa1104cc8aca7c99c30aeffb6": {
      "model_module": "@jupyter-widgets/controls",
      "model_module_version": "1.5.0",
      "model_name": "HTMLModel",
      "state": {
       "layout": "IPY_MODEL_538b3644bf5b40f5bbb04bce2ca6265a",
       "style": "IPY_MODEL_88ea0984150740f8bb003eca0f204d98",
       "value": "Building Distances Matrix: 100%"
      }
     },
     "4d3305fb245c449c91745d1a3afad39f": {
      "model_module": "@jupyter-widgets/controls",
      "model_module_version": "1.5.0",
      "model_name": "FloatProgressModel",
      "state": {
       "bar_style": "success",
       "layout": "IPY_MODEL_921c22267bc84e0cb31adf440a48fb84",
       "max": 18515,
       "style": "IPY_MODEL_b4de288611324a088ba057d92e5720c5",
       "value": 18515
      }
     },
     "51a7f6643f6e4f57b01ef56e43945e78": {
      "model_module": "@jupyter-widgets/controls",
      "model_module_version": "1.5.0",
      "model_name": "FloatProgressModel",
      "state": {
       "bar_style": "success",
       "layout": "IPY_MODEL_3cad7bc48fb54827a6207939f36d865d",
       "max": 18515,
       "style": "IPY_MODEL_5b594c92486c4f43a720eea0da65ad8b",
       "value": 18515
      }
     },
     "538b3644bf5b40f5bbb04bce2ca6265a": {
      "model_module": "@jupyter-widgets/base",
      "model_module_version": "1.2.0",
      "model_name": "LayoutModel",
      "state": {}
     },
     "540049ec48894234bb625caef76658ae": {
      "model_module": "@jupyter-widgets/controls",
      "model_module_version": "1.5.0",
      "model_name": "DescriptionStyleModel",
      "state": {
       "description_width": ""
      }
     },
     "556ae3658f714d5f928a03ed7f4234ca": {
      "model_module": "@jupyter-widgets/base",
      "model_module_version": "1.2.0",
      "model_name": "LayoutModel",
      "state": {}
     },
     "5b594c92486c4f43a720eea0da65ad8b": {
      "model_module": "@jupyter-widgets/controls",
      "model_module_version": "1.5.0",
      "model_name": "ProgressStyleModel",
      "state": {
       "description_width": ""
      }
     },
     "5e215cceb6424c2c8fb8ca140023b8ed": {
      "model_module": "@jupyter-widgets/controls",
      "model_module_version": "1.5.0",
      "model_name": "HTMLModel",
      "state": {
       "layout": "IPY_MODEL_b3c60a29ba9b42aba8b81d56398aebce",
       "style": "IPY_MODEL_f7e664d132b44192ac7c9f047ad18dd2",
       "value": " 18515/18515 [00:01&lt;00:00, 15342.32it/s]"
      }
     },
     "6b35b3e086d148efaab0d51fe726fa01": {
      "model_module": "@jupyter-widgets/controls",
      "model_module_version": "1.5.0",
      "model_name": "HBoxModel",
      "state": {
       "children": [
        "IPY_MODEL_448d076aa1104cc8aca7c99c30aeffb6",
        "IPY_MODEL_0d8856b95ee64be7b8bf9891678d3f5b",
        "IPY_MODEL_ef0bfd6cdb874deb952be56d396e8fd2"
       ],
       "layout": "IPY_MODEL_556ae3658f714d5f928a03ed7f4234ca"
      }
     },
     "6b738a9b297f439bbd4925e606cfaa8e": {
      "model_module": "@jupyter-widgets/controls",
      "model_module_version": "1.5.0",
      "model_name": "DescriptionStyleModel",
      "state": {
       "description_width": ""
      }
     },
     "6de10ee6fba74e20af21126a439dec85": {
      "model_module": "@jupyter-widgets/base",
      "model_module_version": "1.2.0",
      "model_name": "LayoutModel",
      "state": {}
     },
     "7de91aba673e4a83966be43d76f4c5cb": {
      "model_module": "@jupyter-widgets/base",
      "model_module_version": "1.2.0",
      "model_name": "LayoutModel",
      "state": {}
     },
     "8052fa66e63d44b5a76d4172eed6cf81": {
      "model_module": "@jupyter-widgets/base",
      "model_module_version": "1.2.0",
      "model_name": "LayoutModel",
      "state": {}
     },
     "817c6855c70940d5ac2a19bb02b362fd": {
      "model_module": "@jupyter-widgets/base",
      "model_module_version": "1.2.0",
      "model_name": "LayoutModel",
      "state": {}
     },
     "825880470f6f4114ad09dd4f0042c051": {
      "model_module": "@jupyter-widgets/controls",
      "model_module_version": "1.5.0",
      "model_name": "HBoxModel",
      "state": {
       "children": [
        "IPY_MODEL_f570f640d78847f1ab1bc2c50b7935ec",
        "IPY_MODEL_51a7f6643f6e4f57b01ef56e43945e78",
        "IPY_MODEL_c1c6114585fc4f27a1dcbbc0187b29a9"
       ],
       "layout": "IPY_MODEL_9a6ded7a9b6243b08f40a4d758abaf3f"
      }
     },
     "88ea0984150740f8bb003eca0f204d98": {
      "model_module": "@jupyter-widgets/controls",
      "model_module_version": "1.5.0",
      "model_name": "DescriptionStyleModel",
      "state": {
       "description_width": ""
      }
     },
     "8ec4a3f05b874073b18b9d6bb06f660a": {
      "model_module": "@jupyter-widgets/controls",
      "model_module_version": "1.5.0",
      "model_name": "ProgressStyleModel",
      "state": {
       "description_width": ""
      }
     },
     "921c22267bc84e0cb31adf440a48fb84": {
      "model_module": "@jupyter-widgets/base",
      "model_module_version": "1.2.0",
      "model_name": "LayoutModel",
      "state": {}
     },
     "9a6ded7a9b6243b08f40a4d758abaf3f": {
      "model_module": "@jupyter-widgets/base",
      "model_module_version": "1.2.0",
      "model_name": "LayoutModel",
      "state": {}
     },
     "9cc4fe05268c480cbe5fc9037e73187c": {
      "model_module": "@jupyter-widgets/controls",
      "model_module_version": "1.5.0",
      "model_name": "HTMLModel",
      "state": {
       "layout": "IPY_MODEL_817c6855c70940d5ac2a19bb02b362fd",
       "style": "IPY_MODEL_6b738a9b297f439bbd4925e606cfaa8e",
       "value": "Building Distances Matrix: 100%"
      }
     },
     "a3955a08c4e94cfeb847a5def5f8b0bc": {
      "model_module": "@jupyter-widgets/controls",
      "model_module_version": "1.5.0",
      "model_name": "DescriptionStyleModel",
      "state": {
       "description_width": ""
      }
     },
     "a68fd196afae4ad4918378553cb8efb9": {
      "model_module": "@jupyter-widgets/base",
      "model_module_version": "1.2.0",
      "model_name": "LayoutModel",
      "state": {}
     },
     "b3c0fc7c914d464785aa2d87583b3453": {
      "model_module": "@jupyter-widgets/controls",
      "model_module_version": "1.5.0",
      "model_name": "HTMLModel",
      "state": {
       "layout": "IPY_MODEL_8052fa66e63d44b5a76d4172eed6cf81",
       "style": "IPY_MODEL_2bd5ac14c41e46eb814c1dda79aebc68",
       "value": " 18515/18515 [00:34&lt;00:00, 531.10it/s]"
      }
     },
     "b3c60a29ba9b42aba8b81d56398aebce": {
      "model_module": "@jupyter-widgets/base",
      "model_module_version": "1.2.0",
      "model_name": "LayoutModel",
      "state": {}
     },
     "b4de288611324a088ba057d92e5720c5": {
      "model_module": "@jupyter-widgets/controls",
      "model_module_version": "1.5.0",
      "model_name": "ProgressStyleModel",
      "state": {
       "description_width": ""
      }
     },
     "b4f8f2282de841b99f751263cfa4df25": {
      "model_module": "@jupyter-widgets/controls",
      "model_module_version": "1.5.0",
      "model_name": "FloatProgressModel",
      "state": {
       "bar_style": "success",
       "layout": "IPY_MODEL_a68fd196afae4ad4918378553cb8efb9",
       "max": 18515,
       "style": "IPY_MODEL_8ec4a3f05b874073b18b9d6bb06f660a",
       "value": 18515
      }
     },
     "c1c6114585fc4f27a1dcbbc0187b29a9": {
      "model_module": "@jupyter-widgets/controls",
      "model_module_version": "1.5.0",
      "model_name": "HTMLModel",
      "state": {
       "layout": "IPY_MODEL_07c52c6b295e4bd695b3557bba1fe173",
       "style": "IPY_MODEL_a3955a08c4e94cfeb847a5def5f8b0bc",
       "value": " 18515/18515 [00:34&lt;00:00, 535.25it/s]"
      }
     },
     "ec565f2fdcf54bc5893e8a73bfd6e8b9": {
      "model_module": "@jupyter-widgets/base",
      "model_module_version": "1.2.0",
      "model_name": "LayoutModel",
      "state": {}
     },
     "ef0a5aa24f6e4860a310567c5cf1edca": {
      "model_module": "@jupyter-widgets/base",
      "model_module_version": "1.2.0",
      "model_name": "LayoutModel",
      "state": {}
     },
     "ef0bfd6cdb874deb952be56d396e8fd2": {
      "model_module": "@jupyter-widgets/controls",
      "model_module_version": "1.5.0",
      "model_name": "HTMLModel",
      "state": {
       "layout": "IPY_MODEL_ef0a5aa24f6e4860a310567c5cf1edca",
       "style": "IPY_MODEL_540049ec48894234bb625caef76658ae",
       "value": " 18515/18515 [00:34&lt;00:00, 534.85it/s]"
      }
     },
     "f566ecb0585c42769a784b2583ccbb8d": {
      "model_module": "@jupyter-widgets/base",
      "model_module_version": "1.2.0",
      "model_name": "LayoutModel",
      "state": {}
     },
     "f570f640d78847f1ab1bc2c50b7935ec": {
      "model_module": "@jupyter-widgets/controls",
      "model_module_version": "1.5.0",
      "model_name": "HTMLModel",
      "state": {
       "layout": "IPY_MODEL_6de10ee6fba74e20af21126a439dec85",
       "style": "IPY_MODEL_3372a9e4091d4887affc50ef88f5aad0",
       "value": "Building Distances Matrix: 100%"
      }
     },
     "f7e664d132b44192ac7c9f047ad18dd2": {
      "model_module": "@jupyter-widgets/controls",
      "model_module_version": "1.5.0",
      "model_name": "DescriptionStyleModel",
      "state": {
       "description_width": ""
      }
     },
     "ff49bcbb3f684bf2af72bb3d6d2c65da": {
      "model_module": "@jupyter-widgets/controls",
      "model_module_version": "1.5.0",
      "model_name": "HTMLModel",
      "state": {
       "layout": "IPY_MODEL_f566ecb0585c42769a784b2583ccbb8d",
       "style": "IPY_MODEL_409dadc2ac3e4b838ccd78650c8655d0",
       "value": "Building Distances Matrix: 100%"
      }
     }
    },
    "version_major": 2,
    "version_minor": 0
   }
  }
 },
 "nbformat": 4,
 "nbformat_minor": 5
}
