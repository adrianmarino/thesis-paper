{
 "cells": [
  {
   "cell_type": "markdown",
   "id": "0417277b-47df-4113-a7b3-8f960db06f1d",
   "metadata": {
    "tags": []
   },
   "source": [
    "# Ensemple CB recommender based on Sparse Autoencoder"
   ]
  },
  {
   "cell_type": "code",
   "execution_count": 1,
   "id": "8dde5e70-5b86-460f-8791-20fcb554c378",
   "metadata": {},
   "outputs": [],
   "source": [
    "%load_ext autoreload\n",
    "%autoreload 2"
   ]
  },
  {
   "cell_type": "code",
   "execution_count": 2,
   "id": "f98e7bf4-f41a-43f6-b7b7-a991d00f82de",
   "metadata": {},
   "outputs": [
    {
     "data": {
      "text/html": [
       "<pre style=\"white-space:pre;overflow-x:auto;line-height:normal;font-family:Menlo,'DejaVu Sans Mono',consolas,'Courier New',monospace\"><span style=\"font-weight: bold\">&lt;</span><span style=\"color: #ff00ff; text-decoration-color: #ff00ff; font-weight: bold\">Figure</span><span style=\"color: #000000; text-decoration-color: #000000\"> size 432x288 with </span><span style=\"color: #008080; text-decoration-color: #008080; font-weight: bold\">0</span><span style=\"color: #000000; text-decoration-color: #000000\"> Axes</span><span style=\"font-weight: bold\">&gt;</span>\n",
       "</pre>\n"
      ],
      "text/plain": [
       "\u001b[1m<\u001b[0m\u001b[1;95mFigure\u001b[0m\u001b[39m size 432x288 with \u001b[0m\u001b[1;36m0\u001b[0m\u001b[39m Axes\u001b[0m\u001b[1m>\u001b[0m\n"
      ]
     },
     "metadata": {},
     "output_type": "display_data"
    }
   ],
   "source": [
    "import sys\n",
    "sys.path.append('../lib')\n",
    "\n",
    "import torch\n",
    "import numpy as np\n",
    "import pandas as pd\n",
    "\n",
    "import pytorch_common.util as pu\n",
    "\n",
    "import logging\n",
    "import data as dt\n",
    "\n",
    "import recommender as rc"
   ]
  },
  {
   "cell_type": "markdown",
   "id": "40c1da33-a8da-47c9-b174-0b0885b05b50",
   "metadata": {},
   "source": [
    "## Setup"
   ]
  },
  {
   "cell_type": "code",
   "execution_count": 3,
   "id": "e60a3838-9787-411d-b9f1-8a942321cbb1",
   "metadata": {},
   "outputs": [
    {
     "data": {
      "text/html": [
       "<pre style=\"white-space:pre;overflow-x:auto;line-height:normal;font-family:Menlo,'DejaVu Sans Mono',consolas,'Courier New',monospace\"><span style=\"font-weight: bold\">&lt;</span><span style=\"color: #ff00ff; text-decoration-color: #ff00ff; font-weight: bold\">RootLogger</span><span style=\"color: #000000; text-decoration-color: #000000\"> root </span><span style=\"color: #000000; text-decoration-color: #000000; font-weight: bold\">(</span><span style=\"color: #000000; text-decoration-color: #000000\">INFO</span><span style=\"color: #000000; text-decoration-color: #000000; font-weight: bold\">)</span><span style=\"font-weight: bold\">&gt;</span>\n",
       "</pre>\n"
      ],
      "text/plain": [
       "\u001b[1m<\u001b[0m\u001b[1;95mRootLogger\u001b[0m\u001b[39m root \u001b[0m\u001b[1;39m(\u001b[0m\u001b[39mINFO\u001b[0m\u001b[1;39m)\u001b[0m\u001b[1m>\u001b[0m\n"
      ]
     },
     "metadata": {},
     "output_type": "display_data"
    }
   ],
   "source": [
    "pu.LoggerBuilder().on_console().build()"
   ]
  },
  {
   "cell_type": "code",
   "execution_count": 4,
   "id": "9fd7574f-043a-4fc3-8ab8-bfd55b6a92d8",
   "metadata": {},
   "outputs": [],
   "source": [
    "pu.set_device_name('gpu')"
   ]
  },
  {
   "cell_type": "code",
   "execution_count": 5,
   "id": "bad1a1e0-b35e-4b40-ab06-beae8fbb244a",
   "metadata": {},
   "outputs": [
    {
     "data": {
      "text/html": [
       "<pre style=\"white-space:pre;overflow-x:auto;line-height:normal;font-family:Menlo,'DejaVu Sans Mono',consolas,'Courier New',monospace\"><span style=\"color: #800080; text-decoration-color: #800080; font-weight: bold\">device</span><span style=\"font-weight: bold\">(</span><span style=\"color: #808000; text-decoration-color: #808000\">type</span>=<span style=\"color: #008000; text-decoration-color: #008000\">'cuda'</span>, <span style=\"color: #808000; text-decoration-color: #808000\">index</span>=<span style=\"color: #008080; text-decoration-color: #008080; font-weight: bold\">0</span><span style=\"font-weight: bold\">)</span>\n",
       "</pre>\n"
      ],
      "text/plain": [
       "\u001b[1;35mdevice\u001b[0m\u001b[1m(\u001b[0m\u001b[33mtype\u001b[0m=\u001b[32m'cuda'\u001b[0m, \u001b[33mindex\u001b[0m=\u001b[1;36m0\u001b[0m\u001b[1m)\u001b[0m\n"
      ]
     },
     "metadata": {},
     "output_type": "display_data"
    }
   ],
   "source": [
    "pu.get_device()"
   ]
  },
  {
   "cell_type": "code",
   "execution_count": 6,
   "id": "d1ba7b0b-b5d8-47ec-8995-642b7b21e6d2",
   "metadata": {},
   "outputs": [
    {
     "data": {
      "text/html": [
       "<pre style=\"white-space:pre;overflow-x:auto;line-height:normal;font-family:Menlo,'DejaVu Sans Mono',consolas,'Courier New',monospace\"><span style=\"color: #00ff00; text-decoration-color: #00ff00; font-style: italic\">True</span>\n",
       "</pre>\n"
      ],
      "text/plain": [
       "\u001b[3;92mTrue\u001b[0m\n"
      ]
     },
     "metadata": {},
     "output_type": "display_data"
    }
   ],
   "source": [
    "torch.cuda.is_available()"
   ]
  },
  {
   "cell_type": "code",
   "execution_count": 7,
   "id": "21fa4041-5682-4332-b139-6aca63d05ea0",
   "metadata": {},
   "outputs": [
    {
     "data": {
      "text/html": [
       "<pre style=\"white-space:pre;overflow-x:auto;line-height:normal;font-family:Menlo,'DejaVu Sans Mono',consolas,'Courier New',monospace\"><span style=\"color: #008000; text-decoration-color: #008000\">'1.11.0'</span>\n",
       "</pre>\n"
      ],
      "text/plain": [
       "\u001b[32m'1.11.0'\u001b[0m\n"
      ]
     },
     "metadata": {},
     "output_type": "display_data"
    }
   ],
   "source": [
    "torch.__version__"
   ]
  },
  {
   "cell_type": "markdown",
   "id": "d43c9369-047c-45ea-863c-304319bc63f0",
   "metadata": {},
   "source": [
    "## Evaluación"
   ]
  },
  {
   "cell_type": "code",
   "execution_count": 8,
   "id": "fbcd44ff-b654-4565-b215-31589e10d4c5",
   "metadata": {},
   "outputs": [],
   "source": [
    "def load(name): return pd.read_json(f'../datasets/movie_{name}_embedding.json')\n",
    "def emb_rec(emb, name): return rc.DistanceMatrixRecommender(emb, f'{name}_embedding')"
   ]
  },
  {
   "cell_type": "code",
   "execution_count": 9,
   "id": "9a882d10-9c11-4470-adf7-f3e0dcd79081",
   "metadata": {},
   "outputs": [
    {
     "data": {
      "application/vnd.jupyter.widget-view+json": {
       "model_id": "253cf3cac80a4cb59c1a153d24d36092",
       "version_major": 2,
       "version_minor": 0
      },
      "text/plain": [
       "Building Distances Matrix:   0%|          | 0/18515 [00:00<?, ?it/s]"
      ]
     },
     "metadata": {},
     "output_type": "display_data"
    },
    {
     "data": {
      "application/vnd.jupyter.widget-view+json": {
       "model_id": "d7ef2779c4dd4e1a849aba105d8124b3",
       "version_major": 2,
       "version_minor": 0
      },
      "text/plain": [
       "Building Distances Matrix:   0%|          | 0/18515 [00:00<?, ?it/s]"
      ]
     },
     "metadata": {},
     "output_type": "display_data"
    },
    {
     "data": {
      "application/vnd.jupyter.widget-view+json": {
       "model_id": "3ade4c37eae34e7bb5d9774ba173ebc2",
       "version_major": 2,
       "version_minor": 0
      },
      "text/plain": [
       "Building Distances Matrix:   0%|          | 0/18515 [00:00<?, ?it/s]"
      ]
     },
     "metadata": {},
     "output_type": "display_data"
    }
   ],
   "source": [
    "embeddings_by_name   = {name: load(name) for name in ['genres', 'overview', 'tags']}\n",
    "recommenders_by_name = {name: emb_rec(emb, name) for name, emb in embeddings_by_name.items()}\n",
    "emb_recommenders     = list(recommenders_by_name.values())"
   ]
  },
  {
   "cell_type": "code",
   "execution_count": 10,
   "id": "a159d68f-fe88-4b84-a0f3-b3e9ab679382",
   "metadata": {},
   "outputs": [],
   "source": [
    "item_index = 10"
   ]
  },
  {
   "cell_type": "code",
   "execution_count": 11,
   "id": "ccf98905-1f3f-4d4e-b123-fac0040c6fad",
   "metadata": {},
   "outputs": [],
   "source": [
    "recommender_group = rc.RecommenderGroup(emb_recommenders)"
   ]
  },
  {
   "cell_type": "code",
   "execution_count": 12,
   "id": "28edec6f-2bd3-4bae-adf4-fe3256eaa87a",
   "metadata": {},
   "outputs": [
    {
     "name": "stdout",
     "output_type": "stream",
     "text": [
      "\n",
      "Recommender: genres\n",
      "Item\n"
     ]
    },
    {
     "data": {
      "text/html": [
       "<div>\n",
       "<style scoped>\n",
       "    .dataframe tbody tr th:only-of-type {\n",
       "        vertical-align: middle;\n",
       "    }\n",
       "\n",
       "    .dataframe tbody tr th {\n",
       "        vertical-align: top;\n",
       "    }\n",
       "\n",
       "    .dataframe thead th {\n",
       "        text-align: right;\n",
       "    }\n",
       "</style>\n",
       "<table border=\"1\" class=\"dataframe\">\n",
       "  <thead>\n",
       "    <tr style=\"text-align: right;\">\n",
       "      <th></th>\n",
       "      <th>id</th>\n",
       "      <th>title</th>\n",
       "    </tr>\n",
       "  </thead>\n",
       "  <tbody>\n",
       "    <tr>\n",
       "      <th>10</th>\n",
       "      <td>8360</td>\n",
       "      <td>Shrek 2</td>\n",
       "    </tr>\n",
       "  </tbody>\n",
       "</table>\n",
       "</div>"
      ]
     },
     "metadata": {},
     "output_type": "display_data"
    },
    {
     "name": "stdout",
     "output_type": "stream",
     "text": [
      "Recommendations\n"
     ]
    },
    {
     "data": {
      "text/html": [
       "<div>\n",
       "<style scoped>\n",
       "    .dataframe tbody tr th:only-of-type {\n",
       "        vertical-align: middle;\n",
       "    }\n",
       "\n",
       "    .dataframe tbody tr th {\n",
       "        vertical-align: top;\n",
       "    }\n",
       "\n",
       "    .dataframe thead th {\n",
       "        text-align: right;\n",
       "    }\n",
       "</style>\n",
       "<table border=\"1\" class=\"dataframe\">\n",
       "  <thead>\n",
       "    <tr style=\"text-align: right;\">\n",
       "      <th></th>\n",
       "      <th>index</th>\n",
       "      <th>distance</th>\n",
       "      <th>id</th>\n",
       "      <th>title</th>\n",
       "      <th>genres</th>\n",
       "    </tr>\n",
       "  </thead>\n",
       "  <tbody>\n",
       "    <tr>\n",
       "      <th>0</th>\n",
       "      <td>10</td>\n",
       "      <td>0.000000</td>\n",
       "      <td>8360</td>\n",
       "      <td>Shrek 2</td>\n",
       "      <td>Adventure Animation Children Comedy Musical Ro...</td>\n",
       "    </tr>\n",
       "    <tr>\n",
       "      <th>1</th>\n",
       "      <td>2858</td>\n",
       "      <td>0.000323</td>\n",
       "      <td>1907</td>\n",
       "      <td>Mulan</td>\n",
       "      <td>Adventure Animation Children Comedy Drama Musi...</td>\n",
       "    </tr>\n",
       "    <tr>\n",
       "      <th>2</th>\n",
       "      <td>3208</td>\n",
       "      <td>0.001238</td>\n",
       "      <td>3159</td>\n",
       "      <td>Fantasia 2000</td>\n",
       "      <td>Animation Children Musical IMAX</td>\n",
       "    </tr>\n",
       "    <tr>\n",
       "      <th>3</th>\n",
       "      <td>1411</td>\n",
       "      <td>0.002851</td>\n",
       "      <td>3396</td>\n",
       "      <td>Muppet Movie, The</td>\n",
       "      <td>Adventure Children Comedy Musical</td>\n",
       "    </tr>\n",
       "    <tr>\n",
       "      <th>4</th>\n",
       "      <td>2642</td>\n",
       "      <td>0.002851</td>\n",
       "      <td>107</td>\n",
       "      <td>Muppet Treasure Island</td>\n",
       "      <td>Adventure Children Comedy Musical</td>\n",
       "    </tr>\n",
       "  </tbody>\n",
       "</table>\n",
       "</div>"
      ]
     },
     "metadata": {},
     "output_type": "display_data"
    },
    {
     "name": "stdout",
     "output_type": "stream",
     "text": [
      "\n",
      "Recommender: overview\n",
      "Item\n"
     ]
    },
    {
     "data": {
      "text/html": [
       "<div>\n",
       "<style scoped>\n",
       "    .dataframe tbody tr th:only-of-type {\n",
       "        vertical-align: middle;\n",
       "    }\n",
       "\n",
       "    .dataframe tbody tr th {\n",
       "        vertical-align: top;\n",
       "    }\n",
       "\n",
       "    .dataframe thead th {\n",
       "        text-align: right;\n",
       "    }\n",
       "</style>\n",
       "<table border=\"1\" class=\"dataframe\">\n",
       "  <thead>\n",
       "    <tr style=\"text-align: right;\">\n",
       "      <th></th>\n",
       "      <th>id</th>\n",
       "      <th>title</th>\n",
       "    </tr>\n",
       "  </thead>\n",
       "  <tbody>\n",
       "    <tr>\n",
       "      <th>10</th>\n",
       "      <td>8360</td>\n",
       "      <td>Shrek 2</td>\n",
       "    </tr>\n",
       "  </tbody>\n",
       "</table>\n",
       "</div>"
      ]
     },
     "metadata": {},
     "output_type": "display_data"
    },
    {
     "name": "stdout",
     "output_type": "stream",
     "text": [
      "Recommendations\n"
     ]
    },
    {
     "data": {
      "text/html": [
       "<div>\n",
       "<style scoped>\n",
       "    .dataframe tbody tr th:only-of-type {\n",
       "        vertical-align: middle;\n",
       "    }\n",
       "\n",
       "    .dataframe tbody tr th {\n",
       "        vertical-align: top;\n",
       "    }\n",
       "\n",
       "    .dataframe thead th {\n",
       "        text-align: right;\n",
       "    }\n",
       "</style>\n",
       "<table border=\"1\" class=\"dataframe\">\n",
       "  <thead>\n",
       "    <tr style=\"text-align: right;\">\n",
       "      <th></th>\n",
       "      <th>index</th>\n",
       "      <th>distance</th>\n",
       "      <th>id</th>\n",
       "      <th>title</th>\n",
       "      <th>overview</th>\n",
       "    </tr>\n",
       "  </thead>\n",
       "  <tbody>\n",
       "    <tr>\n",
       "      <th>0</th>\n",
       "      <td>10</td>\n",
       "      <td>0.000000</td>\n",
       "      <td>8360</td>\n",
       "      <td>Shrek 2</td>\n",
       "      <td>Shrek, Fiona and Donkey set off to Far, Far Aw...</td>\n",
       "    </tr>\n",
       "    <tr>\n",
       "      <th>1</th>\n",
       "      <td>1173</td>\n",
       "      <td>0.014001</td>\n",
       "      <td>1663</td>\n",
       "      <td>Stripes</td>\n",
       "      <td>John Winger, an indolent sad sack in his 30s, ...</td>\n",
       "    </tr>\n",
       "    <tr>\n",
       "      <th>2</th>\n",
       "      <td>5521</td>\n",
       "      <td>0.014180</td>\n",
       "      <td>5366</td>\n",
       "      <td>Whore</td>\n",
       "      <td>This melodrama investigates the life of a pros...</td>\n",
       "    </tr>\n",
       "    <tr>\n",
       "      <th>3</th>\n",
       "      <td>11700</td>\n",
       "      <td>0.016830</td>\n",
       "      <td>4567</td>\n",
       "      <td>American Ninja 3: Blood Hunt</td>\n",
       "      <td>Jackson is back, and now he has a new partner,...</td>\n",
       "    </tr>\n",
       "    <tr>\n",
       "      <th>4</th>\n",
       "      <td>6380</td>\n",
       "      <td>0.017629</td>\n",
       "      <td>91483</td>\n",
       "      <td>Bullet to the Head</td>\n",
       "      <td>After watching their respective partners die, ...</td>\n",
       "    </tr>\n",
       "  </tbody>\n",
       "</table>\n",
       "</div>"
      ]
     },
     "metadata": {},
     "output_type": "display_data"
    },
    {
     "name": "stdout",
     "output_type": "stream",
     "text": [
      "\n",
      "Recommender: tags\n",
      "Item\n"
     ]
    },
    {
     "data": {
      "text/html": [
       "<div>\n",
       "<style scoped>\n",
       "    .dataframe tbody tr th:only-of-type {\n",
       "        vertical-align: middle;\n",
       "    }\n",
       "\n",
       "    .dataframe tbody tr th {\n",
       "        vertical-align: top;\n",
       "    }\n",
       "\n",
       "    .dataframe thead th {\n",
       "        text-align: right;\n",
       "    }\n",
       "</style>\n",
       "<table border=\"1\" class=\"dataframe\">\n",
       "  <thead>\n",
       "    <tr style=\"text-align: right;\">\n",
       "      <th></th>\n",
       "      <th>id</th>\n",
       "      <th>title</th>\n",
       "    </tr>\n",
       "  </thead>\n",
       "  <tbody>\n",
       "    <tr>\n",
       "      <th>10</th>\n",
       "      <td>8360</td>\n",
       "      <td>Shrek 2</td>\n",
       "    </tr>\n",
       "  </tbody>\n",
       "</table>\n",
       "</div>"
      ]
     },
     "metadata": {},
     "output_type": "display_data"
    },
    {
     "name": "stdout",
     "output_type": "stream",
     "text": [
      "Recommendations\n"
     ]
    },
    {
     "data": {
      "text/html": [
       "<div>\n",
       "<style scoped>\n",
       "    .dataframe tbody tr th:only-of-type {\n",
       "        vertical-align: middle;\n",
       "    }\n",
       "\n",
       "    .dataframe tbody tr th {\n",
       "        vertical-align: top;\n",
       "    }\n",
       "\n",
       "    .dataframe thead th {\n",
       "        text-align: right;\n",
       "    }\n",
       "</style>\n",
       "<table border=\"1\" class=\"dataframe\">\n",
       "  <thead>\n",
       "    <tr style=\"text-align: right;\">\n",
       "      <th></th>\n",
       "      <th>index</th>\n",
       "      <th>distance</th>\n",
       "      <th>id</th>\n",
       "      <th>title</th>\n",
       "      <th>tags</th>\n",
       "    </tr>\n",
       "  </thead>\n",
       "  <tbody>\n",
       "    <tr>\n",
       "      <th>0</th>\n",
       "      <td>10</td>\n",
       "      <td>0.000000</td>\n",
       "      <td>8360</td>\n",
       "      <td>Shrek 2</td>\n",
       "      <td>(s)vcd 2020-2 relook 4 andrew adamson animatio...</td>\n",
       "    </tr>\n",
       "    <tr>\n",
       "      <th>1</th>\n",
       "      <td>124</td>\n",
       "      <td>0.017794</td>\n",
       "      <td>8784</td>\n",
       "      <td>Garden State</td>\n",
       "      <td>acting actors adventure annoying answering mac...</td>\n",
       "    </tr>\n",
       "    <tr>\n",
       "      <th>2</th>\n",
       "      <td>2416</td>\n",
       "      <td>0.018910</td>\n",
       "      <td>158813</td>\n",
       "      <td>Alice Through the Looking Glass</td>\n",
       "      <td>3d acting adventure alice in wonderland altern...</td>\n",
       "    </tr>\n",
       "    <tr>\n",
       "      <th>3</th>\n",
       "      <td>1830</td>\n",
       "      <td>0.020201</td>\n",
       "      <td>31696</td>\n",
       "      <td>Constantine</td>\n",
       "      <td>action adapted from:comic aftercreditsstinger ...</td>\n",
       "    </tr>\n",
       "    <tr>\n",
       "      <th>4</th>\n",
       "      <td>2266</td>\n",
       "      <td>0.020488</td>\n",
       "      <td>114552</td>\n",
       "      <td>Boxtrolls, The</td>\n",
       "      <td>2015 academy award nomination animated feature...</td>\n",
       "    </tr>\n",
       "  </tbody>\n",
       "</table>\n",
       "</div>"
      ]
     },
     "metadata": {},
     "output_type": "display_data"
    }
   ],
   "source": [
    "recommender_group.recommend(item_index).show()"
   ]
  },
  {
   "cell_type": "code",
   "execution_count": 29,
   "id": "8c021cde-d216-4750-ac1c-9d6c744165d5",
   "metadata": {},
   "outputs": [],
   "source": [
    "recommender = rc.EnsembleWeightedDistanceMatrixRecommender(\n",
    "    emb_recommenders,\n",
    "    weights = { 'tags': 0.25, 'overview': 0.25, 'genres': 0.4}\n",
    ")"
   ]
  },
  {
   "cell_type": "code",
   "execution_count": 30,
   "id": "9887261e-36d4-499d-b303-97c236df3d31",
   "metadata": {
    "tags": []
   },
   "outputs": [
    {
     "name": "stdout",
     "output_type": "stream",
     "text": [
      "\n",
      "Recommender: ['genres', 'overview', 'tags']\n",
      "Item\n"
     ]
    },
    {
     "data": {
      "text/html": [
       "<div>\n",
       "<style scoped>\n",
       "    .dataframe tbody tr th:only-of-type {\n",
       "        vertical-align: middle;\n",
       "    }\n",
       "\n",
       "    .dataframe tbody tr th {\n",
       "        vertical-align: top;\n",
       "    }\n",
       "\n",
       "    .dataframe thead th {\n",
       "        text-align: right;\n",
       "    }\n",
       "</style>\n",
       "<table border=\"1\" class=\"dataframe\">\n",
       "  <thead>\n",
       "    <tr style=\"text-align: right;\">\n",
       "      <th></th>\n",
       "      <th>id</th>\n",
       "      <th>title</th>\n",
       "    </tr>\n",
       "  </thead>\n",
       "  <tbody>\n",
       "    <tr>\n",
       "      <th>10</th>\n",
       "      <td>8360</td>\n",
       "      <td>Shrek 2</td>\n",
       "    </tr>\n",
       "  </tbody>\n",
       "</table>\n",
       "</div>"
      ]
     },
     "metadata": {},
     "output_type": "display_data"
    },
    {
     "name": "stdout",
     "output_type": "stream",
     "text": [
      "Recommendations\n"
     ]
    },
    {
     "data": {
      "text/html": [
       "<div>\n",
       "<style scoped>\n",
       "    .dataframe tbody tr th:only-of-type {\n",
       "        vertical-align: middle;\n",
       "    }\n",
       "\n",
       "    .dataframe tbody tr th {\n",
       "        vertical-align: top;\n",
       "    }\n",
       "\n",
       "    .dataframe thead th {\n",
       "        text-align: right;\n",
       "    }\n",
       "</style>\n",
       "<table border=\"1\" class=\"dataframe\">\n",
       "  <thead>\n",
       "    <tr style=\"text-align: right;\">\n",
       "      <th></th>\n",
       "      <th>distance</th>\n",
       "      <th>title</th>\n",
       "      <th>genres</th>\n",
       "      <th>overview</th>\n",
       "      <th>tags</th>\n",
       "    </tr>\n",
       "  </thead>\n",
       "  <tbody>\n",
       "    <tr>\n",
       "      <th>0</th>\n",
       "      <td>0.000000</td>\n",
       "      <td>Shrek 2</td>\n",
       "      <td>Adventure Animation Children Comedy Musical Ro...</td>\n",
       "      <td>Shrek, Fiona and Donkey set off to Far, Far Aw...</td>\n",
       "      <td>(s)vcd 2020-2 relook 4 andrew adamson animatio...</td>\n",
       "    </tr>\n",
       "    <tr>\n",
       "      <th>1</th>\n",
       "      <td>0.011675</td>\n",
       "      <td>Peter Pan</td>\n",
       "      <td>Action Adventure Children Fantasy</td>\n",
       "      <td>In stifling Edwardian London, Wendy Darling me...</td>\n",
       "      <td>adapted from:book animal:crocodile author:j. m...</td>\n",
       "    </tr>\n",
       "    <tr>\n",
       "      <th>2</th>\n",
       "      <td>0.011875</td>\n",
       "      <td>Secret of NIMH, The</td>\n",
       "      <td>Adventure Animation Children Drama</td>\n",
       "      <td>A widowed field mouse must move her family -- ...</td>\n",
       "      <td>2d animation adapted from:book animated animat...</td>\n",
       "    </tr>\n",
       "    <tr>\n",
       "      <th>3</th>\n",
       "      <td>0.016953</td>\n",
       "      <td>Creature Comforts</td>\n",
       "      <td>Animation Comedy</td>\n",
       "      <td>Interviews with the public are used to put wor...</td>\n",
       "      <td>aardman aardman studios animal movie animation...</td>\n",
       "    </tr>\n",
       "    <tr>\n",
       "      <th>4</th>\n",
       "      <td>0.019066</td>\n",
       "      <td>Flushed Away</td>\n",
       "      <td>Animation Comedy</td>\n",
       "      <td>London high-society mouse, Roddy is flushed do...</td>\n",
       "      <td>31-3-2007 aardman adventure andy serkis animat...</td>\n",
       "    </tr>\n",
       "  </tbody>\n",
       "</table>\n",
       "</div>"
      ]
     },
     "metadata": {},
     "output_type": "display_data"
    }
   ],
   "source": [
    "recommender.recommend(item_index, k=5).show()"
   ]
  },
  {
   "cell_type": "code",
   "execution_count": null,
   "id": "049f0990-37c2-4516-a847-22e376313ea0",
   "metadata": {},
   "outputs": [],
   "source": []
  }
 ],
 "metadata": {
  "kernelspec": {
   "display_name": "Python 3 (ipykernel)",
   "language": "python",
   "name": "python3"
  },
  "language_info": {
   "codemirror_mode": {
    "name": "ipython",
    "version": 3
   },
   "file_extension": ".py",
   "mimetype": "text/x-python",
   "name": "python",
   "nbconvert_exporter": "python",
   "pygments_lexer": "ipython3",
   "version": "3.10.4"
  },
  "widgets": {
   "application/vnd.jupyter.widget-state+json": {
    "state": {
     "04b498096f0749ae826ef4c5927e7953": {
      "model_module": "@jupyter-widgets/base",
      "model_module_version": "1.2.0",
      "model_name": "LayoutModel",
      "state": {}
     },
     "13943d22d34d4e6d911274693ca5ab0b": {
      "model_module": "@jupyter-widgets/controls",
      "model_module_version": "1.5.0",
      "model_name": "FloatProgressModel",
      "state": {
       "bar_style": "success",
       "layout": "IPY_MODEL_34770a6687d74e1cb67d5880305288e5",
       "max": 18515,
       "style": "IPY_MODEL_ed76f63a65bf407b85cf63cfe7b1dc9d",
       "value": 18515
      }
     },
     "1749b3d29395433db34dc23d199d7cd4": {
      "model_module": "@jupyter-widgets/base",
      "model_module_version": "1.2.0",
      "model_name": "LayoutModel",
      "state": {}
     },
     "2469840d3c834995906e588036c88cc4": {
      "model_module": "@jupyter-widgets/controls",
      "model_module_version": "1.5.0",
      "model_name": "DescriptionStyleModel",
      "state": {
       "description_width": ""
      }
     },
     "24e2c8a1662c4060bcc5eb0c6f1327c5": {
      "model_module": "@jupyter-widgets/base",
      "model_module_version": "1.2.0",
      "model_name": "LayoutModel",
      "state": {}
     },
     "253cf3cac80a4cb59c1a153d24d36092": {
      "model_module": "@jupyter-widgets/controls",
      "model_module_version": "1.5.0",
      "model_name": "HBoxModel",
      "state": {
       "children": [
        "IPY_MODEL_e88e06323c964cdba667e7cf8adccd1f",
        "IPY_MODEL_cf085016229848bfa3b69b223bf10649",
        "IPY_MODEL_c8924352ce5e4630803c1620b09f44cb"
       ],
       "layout": "IPY_MODEL_8d1b0f09475c4b43889109a84f012075"
      }
     },
     "25a1d43b175b4023ba3aad41f574ca9a": {
      "model_module": "@jupyter-widgets/controls",
      "model_module_version": "1.5.0",
      "model_name": "HTMLModel",
      "state": {
       "layout": "IPY_MODEL_7eda314093c64694bc720fe588aa878d",
       "style": "IPY_MODEL_daa1047a20b34bffb27e6de8d9e10cb2",
       "value": "Building Distances Matrix: 100%"
      }
     },
     "30c513891ac24f14b74423df5cadafbd": {
      "model_module": "@jupyter-widgets/controls",
      "model_module_version": "1.5.0",
      "model_name": "HTMLModel",
      "state": {
       "layout": "IPY_MODEL_c6334ed2e81649d1bc88dcf3d3c3d895",
       "style": "IPY_MODEL_739d2573dc494fa493c1e9d2cdb7d57a",
       "value": " 18515/18515 [00:34&lt;00:00, 535.19it/s]"
      }
     },
     "34770a6687d74e1cb67d5880305288e5": {
      "model_module": "@jupyter-widgets/base",
      "model_module_version": "1.2.0",
      "model_name": "LayoutModel",
      "state": {}
     },
     "357f7b02bd5a4083b3b770c9d39a701e": {
      "model_module": "@jupyter-widgets/base",
      "model_module_version": "1.2.0",
      "model_name": "LayoutModel",
      "state": {}
     },
     "3640df42b2df4db18e7c2e30f6ef4743": {
      "model_module": "@jupyter-widgets/controls",
      "model_module_version": "1.5.0",
      "model_name": "DescriptionStyleModel",
      "state": {
       "description_width": ""
      }
     },
     "3a0919462b3e4465a73f649152f1dd7c": {
      "model_module": "@jupyter-widgets/controls",
      "model_module_version": "1.5.0",
      "model_name": "DescriptionStyleModel",
      "state": {
       "description_width": ""
      }
     },
     "3ade4c37eae34e7bb5d9774ba173ebc2": {
      "model_module": "@jupyter-widgets/controls",
      "model_module_version": "1.5.0",
      "model_name": "HBoxModel",
      "state": {
       "children": [
        "IPY_MODEL_25a1d43b175b4023ba3aad41f574ca9a",
        "IPY_MODEL_13943d22d34d4e6d911274693ca5ab0b",
        "IPY_MODEL_30c513891ac24f14b74423df5cadafbd"
       ],
       "layout": "IPY_MODEL_d69cf1d50b5c492bb236172cdcd24010"
      }
     },
     "3cf4f1d0cb494e90bf6919686c900168": {
      "model_module": "@jupyter-widgets/controls",
      "model_module_version": "1.5.0",
      "model_name": "HTMLModel",
      "state": {
       "layout": "IPY_MODEL_357f7b02bd5a4083b3b770c9d39a701e",
       "style": "IPY_MODEL_415d4a1340f54588b52c5ba7985b9dd3",
       "value": " 18515/18515 [00:34&lt;00:00, 531.05it/s]"
      }
     },
     "3f8138ae644948c38b42c2ac6fe3515a": {
      "model_module": "@jupyter-widgets/controls",
      "model_module_version": "1.5.0",
      "model_name": "FloatProgressModel",
      "state": {
       "bar_style": "success",
       "layout": "IPY_MODEL_a16197da55484d2bba5ab628ddd9c6cd",
       "max": 18515,
       "style": "IPY_MODEL_e142147e57344de38896b33b81188a0a",
       "value": 18515
      }
     },
     "415d4a1340f54588b52c5ba7985b9dd3": {
      "model_module": "@jupyter-widgets/controls",
      "model_module_version": "1.5.0",
      "model_name": "DescriptionStyleModel",
      "state": {
       "description_width": ""
      }
     },
     "456b83c9db144002b299ade07af647b6": {
      "model_module": "@jupyter-widgets/base",
      "model_module_version": "1.2.0",
      "model_name": "LayoutModel",
      "state": {}
     },
     "48e9312caa544c7ba0c53397fd8481fd": {
      "model_module": "@jupyter-widgets/controls",
      "model_module_version": "1.5.0",
      "model_name": "HTMLModel",
      "state": {
       "layout": "IPY_MODEL_f3e2ecc9315544e29f1e606c2071efa8",
       "style": "IPY_MODEL_6e111cc0c7a94569adbe3b38908fe79e",
       "value": " 18515/18515 [00:34&lt;00:00, 551.13it/s]"
      }
     },
     "54dc4bb2b6d848948066c6e750b718d3": {
      "model_module": "@jupyter-widgets/controls",
      "model_module_version": "1.5.0",
      "model_name": "HBoxModel",
      "state": {
       "children": [
        "IPY_MODEL_e0fa1bbdf1914427b9aa48ed49b75541",
        "IPY_MODEL_af6263b09f8e4c3da2a9a417937b4078",
        "IPY_MODEL_3cf4f1d0cb494e90bf6919686c900168"
       ],
       "layout": "IPY_MODEL_efb2be5551bb4b01a79699d06a4020de"
      }
     },
     "55aed2bb03914b2b901303ba974e1d7b": {
      "model_module": "@jupyter-widgets/controls",
      "model_module_version": "1.5.0",
      "model_name": "HTMLModel",
      "state": {
       "layout": "IPY_MODEL_1749b3d29395433db34dc23d199d7cd4",
       "style": "IPY_MODEL_5d0b4715df0948cd8d47767a1973d8ff",
       "value": " 18515/18515 [00:34&lt;00:00, 528.68it/s]"
      }
     },
     "57e256be357b479e85c5026fb71fc2f0": {
      "model_module": "@jupyter-widgets/controls",
      "model_module_version": "1.5.0",
      "model_name": "HBoxModel",
      "state": {
       "children": [
        "IPY_MODEL_9d472a1733de4129aaeee09ec3138d7f",
        "IPY_MODEL_3f8138ae644948c38b42c2ac6fe3515a",
        "IPY_MODEL_48e9312caa544c7ba0c53397fd8481fd"
       ],
       "layout": "IPY_MODEL_dbfbd75b41e54092a0bbbce56559b577"
      }
     },
     "5d0b4715df0948cd8d47767a1973d8ff": {
      "model_module": "@jupyter-widgets/controls",
      "model_module_version": "1.5.0",
      "model_name": "DescriptionStyleModel",
      "state": {
       "description_width": ""
      }
     },
     "6e111cc0c7a94569adbe3b38908fe79e": {
      "model_module": "@jupyter-widgets/controls",
      "model_module_version": "1.5.0",
      "model_name": "DescriptionStyleModel",
      "state": {
       "description_width": ""
      }
     },
     "739d2573dc494fa493c1e9d2cdb7d57a": {
      "model_module": "@jupyter-widgets/controls",
      "model_module_version": "1.5.0",
      "model_name": "DescriptionStyleModel",
      "state": {
       "description_width": ""
      }
     },
     "79746d88f3db4516932503ae7929eb7e": {
      "model_module": "@jupyter-widgets/controls",
      "model_module_version": "1.5.0",
      "model_name": "ProgressStyleModel",
      "state": {
       "description_width": ""
      }
     },
     "7eda314093c64694bc720fe588aa878d": {
      "model_module": "@jupyter-widgets/base",
      "model_module_version": "1.2.0",
      "model_name": "LayoutModel",
      "state": {}
     },
     "82cca00cb2714cdb8b95f2a4eb4db441": {
      "model_module": "@jupyter-widgets/base",
      "model_module_version": "1.2.0",
      "model_name": "LayoutModel",
      "state": {}
     },
     "8b93c2197586499494181ea5b6a76de0": {
      "model_module": "@jupyter-widgets/base",
      "model_module_version": "1.2.0",
      "model_name": "LayoutModel",
      "state": {}
     },
     "8ccce8cdd9ed4cdfb720743900cc914b": {
      "model_module": "@jupyter-widgets/base",
      "model_module_version": "1.2.0",
      "model_name": "LayoutModel",
      "state": {}
     },
     "8d1b0f09475c4b43889109a84f012075": {
      "model_module": "@jupyter-widgets/base",
      "model_module_version": "1.2.0",
      "model_name": "LayoutModel",
      "state": {}
     },
     "9522a80cc3414430a2263756fede49d8": {
      "model_module": "@jupyter-widgets/controls",
      "model_module_version": "1.5.0",
      "model_name": "HTMLModel",
      "state": {
       "layout": "IPY_MODEL_e8525ab2e3a94cfc90f68b1ef8ccf547",
       "style": "IPY_MODEL_3640df42b2df4db18e7c2e30f6ef4743",
       "value": " 18515/18515 [00:01&lt;00:00, 15493.95it/s]"
      }
     },
     "95eba2a9e67f49e4b8d59cfb238126ba": {
      "model_module": "@jupyter-widgets/controls",
      "model_module_version": "1.5.0",
      "model_name": "ProgressStyleModel",
      "state": {
       "description_width": ""
      }
     },
     "98f81367379144ab9b146d2b376d2eec": {
      "model_module": "@jupyter-widgets/base",
      "model_module_version": "1.2.0",
      "model_name": "LayoutModel",
      "state": {}
     },
     "9aaf3df383084c34825afe050771c408": {
      "model_module": "@jupyter-widgets/controls",
      "model_module_version": "1.5.0",
      "model_name": "ProgressStyleModel",
      "state": {
       "description_width": ""
      }
     },
     "9d472a1733de4129aaeee09ec3138d7f": {
      "model_module": "@jupyter-widgets/controls",
      "model_module_version": "1.5.0",
      "model_name": "HTMLModel",
      "state": {
       "layout": "IPY_MODEL_8b93c2197586499494181ea5b6a76de0",
       "style": "IPY_MODEL_e6c6fc5c70c24832a9ebd6a862cec279",
       "value": "Building Distances Matrix: 100%"
      }
     },
     "a16197da55484d2bba5ab628ddd9c6cd": {
      "model_module": "@jupyter-widgets/base",
      "model_module_version": "1.2.0",
      "model_name": "LayoutModel",
      "state": {}
     },
     "ab078d8138874714976e8fa10020352d": {
      "model_module": "@jupyter-widgets/base",
      "model_module_version": "1.2.0",
      "model_name": "LayoutModel",
      "state": {}
     },
     "af6263b09f8e4c3da2a9a417937b4078": {
      "model_module": "@jupyter-widgets/controls",
      "model_module_version": "1.5.0",
      "model_name": "FloatProgressModel",
      "state": {
       "bar_style": "success",
       "layout": "IPY_MODEL_04b498096f0749ae826ef4c5927e7953",
       "max": 18515,
       "style": "IPY_MODEL_9aaf3df383084c34825afe050771c408",
       "value": 18515
      }
     },
     "ba0e73e11dce44e09d50a111c3304574": {
      "model_module": "@jupyter-widgets/controls",
      "model_module_version": "1.5.0",
      "model_name": "DescriptionStyleModel",
      "state": {
       "description_width": ""
      }
     },
     "ba9b7dea93cf47968c22220683fb2bc6": {
      "model_module": "@jupyter-widgets/base",
      "model_module_version": "1.2.0",
      "model_name": "LayoutModel",
      "state": {}
     },
     "be1508a6073342448f6eeaf4c88b756e": {
      "model_module": "@jupyter-widgets/controls",
      "model_module_version": "1.5.0",
      "model_name": "HTMLModel",
      "state": {
       "layout": "IPY_MODEL_8ccce8cdd9ed4cdfb720743900cc914b",
       "style": "IPY_MODEL_2469840d3c834995906e588036c88cc4",
       "value": "Building Distances Matrix: 100%"
      }
     },
     "c6334ed2e81649d1bc88dcf3d3c3d895": {
      "model_module": "@jupyter-widgets/base",
      "model_module_version": "1.2.0",
      "model_name": "LayoutModel",
      "state": {}
     },
     "c8924352ce5e4630803c1620b09f44cb": {
      "model_module": "@jupyter-widgets/controls",
      "model_module_version": "1.5.0",
      "model_name": "HTMLModel",
      "state": {
       "layout": "IPY_MODEL_98f81367379144ab9b146d2b376d2eec",
       "style": "IPY_MODEL_3a0919462b3e4465a73f649152f1dd7c",
       "value": " 18515/18515 [00:01&lt;00:00, 15810.94it/s]"
      }
     },
     "c9ee08b4f2cc45c5b86bf4d61e582239": {
      "model_module": "@jupyter-widgets/controls",
      "model_module_version": "1.5.0",
      "model_name": "FloatProgressModel",
      "state": {
       "bar_style": "success",
       "layout": "IPY_MODEL_24e2c8a1662c4060bcc5eb0c6f1327c5",
       "max": 18515,
       "style": "IPY_MODEL_95eba2a9e67f49e4b8d59cfb238126ba",
       "value": 18515
      }
     },
     "cd5d3d263d914fe3a6c46fb20712f27b": {
      "model_module": "@jupyter-widgets/controls",
      "model_module_version": "1.5.0",
      "model_name": "DescriptionStyleModel",
      "state": {
       "description_width": ""
      }
     },
     "cf085016229848bfa3b69b223bf10649": {
      "model_module": "@jupyter-widgets/controls",
      "model_module_version": "1.5.0",
      "model_name": "FloatProgressModel",
      "state": {
       "bar_style": "success",
       "layout": "IPY_MODEL_ba9b7dea93cf47968c22220683fb2bc6",
       "max": 18515,
       "style": "IPY_MODEL_dfd8e08efecd4c27bf63039671e2be18",
       "value": 18515
      }
     },
     "d0404677e45a482c95f28d8aecf1f3d6": {
      "model_module": "@jupyter-widgets/controls",
      "model_module_version": "1.5.0",
      "model_name": "HBoxModel",
      "state": {
       "children": [
        "IPY_MODEL_e89802370bd34ee39ff6af79fd71b5a3",
        "IPY_MODEL_d214cadf0aa049f08ff588262ba1388e",
        "IPY_MODEL_9522a80cc3414430a2263756fede49d8"
       ],
       "layout": "IPY_MODEL_ab078d8138874714976e8fa10020352d"
      }
     },
     "d214cadf0aa049f08ff588262ba1388e": {
      "model_module": "@jupyter-widgets/controls",
      "model_module_version": "1.5.0",
      "model_name": "FloatProgressModel",
      "state": {
       "bar_style": "success",
       "layout": "IPY_MODEL_ea847e4b0dfe4153adefaf09437f4c10",
       "max": 18515,
       "style": "IPY_MODEL_79746d88f3db4516932503ae7929eb7e",
       "value": 18515
      }
     },
     "d69cf1d50b5c492bb236172cdcd24010": {
      "model_module": "@jupyter-widgets/base",
      "model_module_version": "1.2.0",
      "model_name": "LayoutModel",
      "state": {}
     },
     "d6e3d90b3d224011905ea04f6a773cbc": {
      "model_module": "@jupyter-widgets/base",
      "model_module_version": "1.2.0",
      "model_name": "LayoutModel",
      "state": {}
     },
     "d7ef2779c4dd4e1a849aba105d8124b3": {
      "model_module": "@jupyter-widgets/controls",
      "model_module_version": "1.5.0",
      "model_name": "HBoxModel",
      "state": {
       "children": [
        "IPY_MODEL_be1508a6073342448f6eeaf4c88b756e",
        "IPY_MODEL_c9ee08b4f2cc45c5b86bf4d61e582239",
        "IPY_MODEL_55aed2bb03914b2b901303ba974e1d7b"
       ],
       "layout": "IPY_MODEL_82cca00cb2714cdb8b95f2a4eb4db441"
      }
     },
     "da42404eb90f4f469e3a0b666b3e37f6": {
      "model_module": "@jupyter-widgets/base",
      "model_module_version": "1.2.0",
      "model_name": "LayoutModel",
      "state": {}
     },
     "daa1047a20b34bffb27e6de8d9e10cb2": {
      "model_module": "@jupyter-widgets/controls",
      "model_module_version": "1.5.0",
      "model_name": "DescriptionStyleModel",
      "state": {
       "description_width": ""
      }
     },
     "dbfbd75b41e54092a0bbbce56559b577": {
      "model_module": "@jupyter-widgets/base",
      "model_module_version": "1.2.0",
      "model_name": "LayoutModel",
      "state": {}
     },
     "dd946b73d43042d79768b65ac58b62ca": {
      "model_module": "@jupyter-widgets/controls",
      "model_module_version": "1.5.0",
      "model_name": "DescriptionStyleModel",
      "state": {
       "description_width": ""
      }
     },
     "dfd8e08efecd4c27bf63039671e2be18": {
      "model_module": "@jupyter-widgets/controls",
      "model_module_version": "1.5.0",
      "model_name": "ProgressStyleModel",
      "state": {
       "description_width": ""
      }
     },
     "e0fa1bbdf1914427b9aa48ed49b75541": {
      "model_module": "@jupyter-widgets/controls",
      "model_module_version": "1.5.0",
      "model_name": "HTMLModel",
      "state": {
       "layout": "IPY_MODEL_da42404eb90f4f469e3a0b666b3e37f6",
       "style": "IPY_MODEL_ba0e73e11dce44e09d50a111c3304574",
       "value": "Building Distances Matrix: 100%"
      }
     },
     "e142147e57344de38896b33b81188a0a": {
      "model_module": "@jupyter-widgets/controls",
      "model_module_version": "1.5.0",
      "model_name": "ProgressStyleModel",
      "state": {
       "description_width": ""
      }
     },
     "e6c6fc5c70c24832a9ebd6a862cec279": {
      "model_module": "@jupyter-widgets/controls",
      "model_module_version": "1.5.0",
      "model_name": "DescriptionStyleModel",
      "state": {
       "description_width": ""
      }
     },
     "e8525ab2e3a94cfc90f68b1ef8ccf547": {
      "model_module": "@jupyter-widgets/base",
      "model_module_version": "1.2.0",
      "model_name": "LayoutModel",
      "state": {}
     },
     "e88e06323c964cdba667e7cf8adccd1f": {
      "model_module": "@jupyter-widgets/controls",
      "model_module_version": "1.5.0",
      "model_name": "HTMLModel",
      "state": {
       "layout": "IPY_MODEL_d6e3d90b3d224011905ea04f6a773cbc",
       "style": "IPY_MODEL_dd946b73d43042d79768b65ac58b62ca",
       "value": "Building Distances Matrix: 100%"
      }
     },
     "e89802370bd34ee39ff6af79fd71b5a3": {
      "model_module": "@jupyter-widgets/controls",
      "model_module_version": "1.5.0",
      "model_name": "HTMLModel",
      "state": {
       "layout": "IPY_MODEL_456b83c9db144002b299ade07af647b6",
       "style": "IPY_MODEL_cd5d3d263d914fe3a6c46fb20712f27b",
       "value": "Building Distances Matrix: 100%"
      }
     },
     "ea847e4b0dfe4153adefaf09437f4c10": {
      "model_module": "@jupyter-widgets/base",
      "model_module_version": "1.2.0",
      "model_name": "LayoutModel",
      "state": {}
     },
     "ed76f63a65bf407b85cf63cfe7b1dc9d": {
      "model_module": "@jupyter-widgets/controls",
      "model_module_version": "1.5.0",
      "model_name": "ProgressStyleModel",
      "state": {
       "description_width": ""
      }
     },
     "efb2be5551bb4b01a79699d06a4020de": {
      "model_module": "@jupyter-widgets/base",
      "model_module_version": "1.2.0",
      "model_name": "LayoutModel",
      "state": {}
     },
     "f3e2ecc9315544e29f1e606c2071efa8": {
      "model_module": "@jupyter-widgets/base",
      "model_module_version": "1.2.0",
      "model_name": "LayoutModel",
      "state": {}
     }
    },
    "version_major": 2,
    "version_minor": 0
   }
  }
 },
 "nbformat": 4,
 "nbformat_minor": 5
}
