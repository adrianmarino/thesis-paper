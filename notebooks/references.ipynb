{
 "cells": [
  {
   "cell_type": "markdown",
   "id": "2bdba9e0-3a81-42dd-982c-545fe333ad4b",
   "metadata": {},
   "source": [
    "# References\n",
    "\n",
    "### Candidate datasets\n",
    "\n",
    "* [10 Open-Source Datasets One Must Know To Build Recommender Systems](https://analyticsindiamag.com/10-open-source-datasets-one-must-know-to-build-recommender-systems/)\n",
    "  * [MovieLens 25M Dataset (CB + CF)](https://grouplens.org/datasets/movielens/25m/)\n",
    "  * [Netflix Prize Dataset](http://academictorrents.com/details/9b13183dc4d60676b773c9e2cd6de5e5542cee9a)\n",
    "  * [Amazon Review Data](https://nijianmo.github.io/amazon/index.html)\n",
    "  * [ Book-Crossing Dataset ](http://www2.informatik.uni-freiburg.de/~cziegler/BX/)\n",
    "  * [Steam Video Games](https://www.kaggle.com/tamber/steam-video-games/data)\n",
    "  * [Retailrocket recommender system dataset](https://academictorrents.com/details/9b13183dc4d60676b773c9e2cd6de5e5542cee9a)\n",
    "* [Recommender Systems and Personalization Datasets](https://cseweb.ucsd.edu/~jmcauley/datasets.html)\n",
    "* [9 Must-Have Datasets for Investigating Recommender Systems](https://www.kdnuggets.com/2016/02/nine-datasets-investigating-recommender-systems.html)\n",
    "* [Public Datasets For Recommender Systems](https://www.kdnuggets.com/2016/02/nine-datasets-investigating-recommender-systems.html)\n",
    "* [themoviedb](https://www.themoviedb.org/)\n",
    "* [Recommender Systems and Personalization Datasets](https://cseweb.ucsd.edu//~jmcauley/datasets.html)\n",
    "* [eCommerce behavior data from multi category store](https://www.kaggle.com/datasets/mkechinov/ecommerce-behavior-data-from-multi-category-store)\n",
    "* [Free datasets with eCommerce behavior data](https://rees46.com/en/datasets)\n",
    "\n",
    "### RecSys 2020 Tutorial: Feature Engineering for Recommender Systems\n",
    "\n",
    "* [Video](https://www.youtube.com/watch?v=uROvhp7cj6Q)\n",
    "* [Notebooks](https://github.com/rapidsai/deeplearning/tree/main/RecSys2020Tutorial)\n",
    "\n",
    "### Models\n",
    "\n",
    "* [Wide & Deep Learning for RecSys with Pytorch](https://www.kaggle.com/code/matanivanov/wide-deep-learning-for-recsys-with-pytorch/notebook)\n",
    "\n",
    "### Hybrid RecSys\n",
    "\n",
    "* [Metadata Embeddings for User and Item Cold-start Recommendations](https://paperswithcode.com/paper/metadata-embeddings-for-user-and-item-cold)\n",
    "* [Modern Recommender Systems](https://towardsdatascience.com/modern-recommender-systems-a0c727609aa8)\n",
    "* [dlrm](https://github.com/facebookresearch/dlrm)\n",
    "* Se puede usar un embendding bag para cada campo de tipo texto con mean. https://pytorch.org/tutorials/beginner/text_sentiment_ngrams_tutorial.html\n",
    "* BERT, para trasnformar campos texto a embeddings: https://towardsdatascience.com/hands-on-content-based-recommender-system-using-python-1d643bf314e4\n",
    "\n",
    "### Ideas\n",
    "\n",
    "* Text cosine similatiry based un embeddings\n",
    "  * Doc2Vec\n",
    "    * [Content Based usand tags](https://towardsdatascience.com/how-to-build-a-simple-movie-recommender-system-with-tags-b9ab5cb3b616)\n",
    "    * [movie-rec-tags](https://github.com/JohnsonKuan/movie-rec-tags) \n",
    "  * BERT\n",
    "    * [Semantic Similarity with BERT](https://keras.io/examples/nlp/semantic_similarity_with_bert/)\n",
    "    * [Recommendation system using BERT embeddings](https://medium.com/analytics-vidhya/recommendation-system-using-bert-embeddings-1d8de5fc3c56)\n",
    "* CF-CF Hybrid models\n",
    "  * [CB-CF_Hybrid_Neural_Recommender_System](https://github.com/rengongzhizang/CB-CF_Hybrid_Neural_Recommender_System)\n",
    "  \n",
    "\n",
    "### Comparación de modelos\n",
    "  \n",
    "* [Sistemas Recomendacion](https://github.com/lab-ml-itba/14_Sistemas_Recomendacion)\n",
    "\n",
    "### Metrics\n",
    "\n",
    "* [How mean Average Precision at k (mAP@k) can be more useful than other evaluation metrics](https://medium.com/@misty.mok/how-mean-average-precision-at-k-map-k-can-be-more-useful-than-other-evaluation-metrics-6881e0ee21a9)\n",
    "* [Precision@k: The Overlooked Metric for Fraud and Lead Scoring Models](https://towardsdatascience.com/precision-k-the-overlooked-metric-for-fraud-and-lead-scoring-models-fabad2893c01)\n",
    "* [Popular evaluation metrics in recommender systems explained](https://medium.com/qloo/popular-evaluation-metrics-in-recommender-systems-explained-324ff2fb427d#:~:text=Precision%20and%20recall%20are%20evaluation,user%20query%20in%20our%20case.)\n",
    "\n",
    "### Extras\n",
    "\n",
    "* [Overview Negative Sampling on Recommendation Systems](https://medium.com/mlearning-ai/overview-negative-sampling-on-recommendation-systems-230a051c6cd7#:~:text=In%20the%20negative%20sampling%20of,interacted%20are%20all%20negative%20examples.)"
   ]
  }
 ],
 "metadata": {
  "kernelspec": {
   "display_name": "Python 3 (ipykernel)",
   "language": "python",
   "name": "python3"
  },
  "language_info": {
   "codemirror_mode": {
    "name": "ipython",
    "version": 3
   },
   "file_extension": ".py",
   "mimetype": "text/x-python",
   "name": "python",
   "nbconvert_exporter": "python",
   "pygments_lexer": "ipython3",
   "version": "3.10.4"
  },
  "widgets": {
   "application/vnd.jupyter.widget-state+json": {
    "state": {},
    "version_major": 2,
    "version_minor": 0
   }
  }
 },
 "nbformat": 4,
 "nbformat_minor": 5
}
