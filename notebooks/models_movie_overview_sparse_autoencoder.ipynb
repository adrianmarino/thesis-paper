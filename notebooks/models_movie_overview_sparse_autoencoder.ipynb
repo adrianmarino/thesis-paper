{
 "cells": [
  {
   "cell_type": "markdown",
   "id": "369fe5f6-b0a9-48f0-a120-631b1e8e846c",
   "metadata": {},
   "source": [
    "Reference: https://github.com/alineberry/my-movie-recommender/blob/master/notebooks/movie_similarity/autoencoder.ipynb"
   ]
  },
  {
   "cell_type": "markdown",
   "id": "0417277b-47df-4113-a7b3-8f960db06f1d",
   "metadata": {
    "tags": []
   },
   "source": [
    "# Models: Movie Overview Sparse Autoencoder"
   ]
  },
  {
   "cell_type": "code",
   "execution_count": 1,
   "id": "8dde5e70-5b86-460f-8791-20fcb554c378",
   "metadata": {},
   "outputs": [],
   "source": [
    "%load_ext autoreload\n",
    "%autoreload 2"
   ]
  },
  {
   "cell_type": "code",
   "execution_count": 2,
   "id": "f98e7bf4-f41a-43f6-b7b7-a991d00f82de",
   "metadata": {},
   "outputs": [
    {
     "data": {
      "text/html": [
       "<pre style=\"white-space:pre;overflow-x:auto;line-height:normal;font-family:Menlo,'DejaVu Sans Mono',consolas,'Courier New',monospace\"><span style=\"font-weight: bold\">&lt;</span><span style=\"color: #ff00ff; text-decoration-color: #ff00ff; font-weight: bold\">Figure</span><span style=\"color: #000000; text-decoration-color: #000000\"> size 432x288 with </span><span style=\"color: #008080; text-decoration-color: #008080; font-weight: bold\">0</span><span style=\"color: #000000; text-decoration-color: #000000\"> Axes</span><span style=\"font-weight: bold\">&gt;</span>\n",
       "</pre>\n"
      ],
      "text/plain": [
       "\u001b[1m<\u001b[0m\u001b[1;95mFigure\u001b[0m\u001b[39m size 432x288 with \u001b[0m\u001b[1;36m0\u001b[0m\u001b[39m Axes\u001b[0m\u001b[1m>\u001b[0m\n"
      ]
     },
     "metadata": {},
     "output_type": "display_data"
    }
   ],
   "source": [
    "import sys\n",
    "sys.path.append('../lib')\n",
    "\n",
    "import numpy as np\n",
    "import pandas as pd\n",
    "from bunch import Bunch\n",
    "\n",
    "import torch\n",
    "from torch.utils.data import DataLoader\n",
    "from torch.optim import Adam\n",
    "\n",
    "import pytorch_common.util as pu\n",
    "from pytorch_common.modules.fn import Fn\n",
    "from pytorch_common.callbacks import SaveBestModel\n",
    "from pytorch_common.callbacks.output import Logger\n",
    "\n",
    "from pytorch_common.util import set_device_name, \\\n",
    "                                get_device, \\\n",
    "                                LoggerBuilder\n",
    "\n",
    "import model as ml\n",
    "import data as dt\n",
    "import data.dataset as ds\n",
    "\n",
    "import data.plot as pl\n",
    "import data as dtjo\n",
    "\n",
    "import logging\n",
    "import random\n",
    "\n",
    "import recommender as rc"
   ]
  },
  {
   "cell_type": "markdown",
   "id": "40c1da33-a8da-47c9-b174-0b0885b05b50",
   "metadata": {},
   "source": [
    "## Setup"
   ]
  },
  {
   "cell_type": "code",
   "execution_count": 3,
   "id": "e60a3838-9787-411d-b9f1-8a942321cbb1",
   "metadata": {},
   "outputs": [
    {
     "data": {
      "text/html": [
       "<pre style=\"white-space:pre;overflow-x:auto;line-height:normal;font-family:Menlo,'DejaVu Sans Mono',consolas,'Courier New',monospace\"><span style=\"font-weight: bold\">&lt;</span><span style=\"color: #ff00ff; text-decoration-color: #ff00ff; font-weight: bold\">RootLogger</span><span style=\"color: #000000; text-decoration-color: #000000\"> root </span><span style=\"color: #000000; text-decoration-color: #000000; font-weight: bold\">(</span><span style=\"color: #000000; text-decoration-color: #000000\">INFO</span><span style=\"color: #000000; text-decoration-color: #000000; font-weight: bold\">)</span><span style=\"font-weight: bold\">&gt;</span>\n",
       "</pre>\n"
      ],
      "text/plain": [
       "\u001b[1m<\u001b[0m\u001b[1;95mRootLogger\u001b[0m\u001b[39m root \u001b[0m\u001b[1;39m(\u001b[0m\u001b[39mINFO\u001b[0m\u001b[1;39m)\u001b[0m\u001b[1m>\u001b[0m\n"
      ]
     },
     "metadata": {},
     "output_type": "display_data"
    }
   ],
   "source": [
    "pu.LoggerBuilder().on_console().build()"
   ]
  },
  {
   "cell_type": "code",
   "execution_count": 4,
   "id": "9fd7574f-043a-4fc3-8ab8-bfd55b6a92d8",
   "metadata": {},
   "outputs": [],
   "source": [
    "pu.set_device_name('gpu')"
   ]
  },
  {
   "cell_type": "code",
   "execution_count": 5,
   "id": "bad1a1e0-b35e-4b40-ab06-beae8fbb244a",
   "metadata": {},
   "outputs": [
    {
     "data": {
      "text/html": [
       "<pre style=\"white-space:pre;overflow-x:auto;line-height:normal;font-family:Menlo,'DejaVu Sans Mono',consolas,'Courier New',monospace\"><span style=\"color: #800080; text-decoration-color: #800080; font-weight: bold\">device</span><span style=\"font-weight: bold\">(</span><span style=\"color: #808000; text-decoration-color: #808000\">type</span>=<span style=\"color: #008000; text-decoration-color: #008000\">'cuda'</span>, <span style=\"color: #808000; text-decoration-color: #808000\">index</span>=<span style=\"color: #008080; text-decoration-color: #008080; font-weight: bold\">0</span><span style=\"font-weight: bold\">)</span>\n",
       "</pre>\n"
      ],
      "text/plain": [
       "\u001b[1;35mdevice\u001b[0m\u001b[1m(\u001b[0m\u001b[33mtype\u001b[0m=\u001b[32m'cuda'\u001b[0m, \u001b[33mindex\u001b[0m=\u001b[1;36m0\u001b[0m\u001b[1m)\u001b[0m\n"
      ]
     },
     "metadata": {},
     "output_type": "display_data"
    }
   ],
   "source": [
    "pu.get_device()"
   ]
  },
  {
   "cell_type": "code",
   "execution_count": 6,
   "id": "f956317d-0e48-4518-a219-51700d272b5b",
   "metadata": {},
   "outputs": [],
   "source": [
    "cpu = torch.device(\"cpu\")\n",
    "gpu = pu.get_device()"
   ]
  },
  {
   "cell_type": "code",
   "execution_count": 7,
   "id": "d1ba7b0b-b5d8-47ec-8995-642b7b21e6d2",
   "metadata": {},
   "outputs": [
    {
     "data": {
      "text/html": [
       "<pre style=\"white-space:pre;overflow-x:auto;line-height:normal;font-family:Menlo,'DejaVu Sans Mono',consolas,'Courier New',monospace\"><span style=\"color: #00ff00; text-decoration-color: #00ff00; font-style: italic\">True</span>\n",
       "</pre>\n"
      ],
      "text/plain": [
       "\u001b[3;92mTrue\u001b[0m\n"
      ]
     },
     "metadata": {},
     "output_type": "display_data"
    }
   ],
   "source": [
    "torch.cuda.is_available()"
   ]
  },
  {
   "cell_type": "code",
   "execution_count": 8,
   "id": "21fa4041-5682-4332-b139-6aca63d05ea0",
   "metadata": {},
   "outputs": [
    {
     "data": {
      "text/html": [
       "<pre style=\"white-space:pre;overflow-x:auto;line-height:normal;font-family:Menlo,'DejaVu Sans Mono',consolas,'Courier New',monospace\"><span style=\"color: #008000; text-decoration-color: #008000\">'1.11.0'</span>\n",
       "</pre>\n"
      ],
      "text/plain": [
       "\u001b[32m'1.11.0'\u001b[0m\n"
      ]
     },
     "metadata": {},
     "output_type": "display_data"
    }
   ],
   "source": [
    "torch.__version__"
   ]
  },
  {
   "cell_type": "code",
   "execution_count": 9,
   "id": "b5fb890c-e080-4efc-9fc1-08921ae2465f",
   "metadata": {},
   "outputs": [],
   "source": [
    "def set_seed(value):\n",
    "    random.seed(value)\n",
    "    np.random.seed(value)\n",
    "    torch.manual_seed(value)"
   ]
  },
  {
   "cell_type": "code",
   "execution_count": 10,
   "id": "72f9d948-5300-4141-8fbc-4423669b2c58",
   "metadata": {},
   "outputs": [],
   "source": [
    "set_seed(42)"
   ]
  },
  {
   "cell_type": "code",
   "execution_count": 11,
   "id": "dc8ad985-d735-403f-a255-32c3eac6568e",
   "metadata": {},
   "outputs": [],
   "source": [
    "FIELD = 'overview'\n",
    "WEIGHTS_PATH   = f'../weights/{FIELD}-tf-idf-sparse-auto-encoder.pt'\n",
    "EMBEDDING_PATH = f'../datasets/movie_{FIELD}_embedding.json'"
   ]
  },
  {
   "cell_type": "markdown",
   "id": "b8334d07-f306-42b4-8ea1-cc27b82eb343",
   "metadata": {},
   "source": [
    "## Carga de dataset"
   ]
  },
  {
   "cell_type": "code",
   "execution_count": 12,
   "id": "c34c660c-4802-498a-81b7-07bed14de07f",
   "metadata": {},
   "outputs": [
    {
     "name": "stdout",
     "output_type": "stream",
     "text": [
      "<class 'pandas.core.frame.DataFrame'>\n",
      "Int64Index: 191540 entries, 0 to 191539\n",
      "Data columns (total 15 columns):\n",
      " #   Column                       Non-Null Count   Dtype         \n",
      "---  ------                       --------------   -----         \n",
      " 0   user_id                      191540 non-null  int64         \n",
      " 1   user_seq                     191540 non-null  int64         \n",
      " 2   user_movie_tags              191540 non-null  object        \n",
      " 3   user_movie_rating            191540 non-null  int64         \n",
      " 4   user_movie_rating_timestamp  191540 non-null  datetime64[ns]\n",
      " 5   user_movie_rating_year       191540 non-null  int64         \n",
      " 6   movie_id                     191540 non-null  int64         \n",
      " 7   movie_seq                    191540 non-null  int64         \n",
      " 8   movie_title                  191540 non-null  string        \n",
      " 9   movie_genres                 191540 non-null  object        \n",
      " 10  movie_for_adults             191540 non-null  bool          \n",
      " 11  movie_original_language      191540 non-null  string        \n",
      " 12  movie_overview               191540 non-null  string        \n",
      " 13  movie_tags                   191540 non-null  object        \n",
      " 14  movie_release_year           191540 non-null  int64         \n",
      "dtypes: bool(1), datetime64[ns](1), int64(7), object(3), string(3)\n",
      "memory usage: 22.1+ MB\n"
     ]
    }
   ],
   "source": [
    "def to_tensor(obs, device, columns): \n",
    "    data = obs[columns]\n",
    "    if type(data) == pd.DataFrame:\n",
    "        data = data.values\n",
    "    return torch.tensor(data).to(device)\n",
    "\n",
    "transform_fn = lambda obs, device: to_tensor(obs, device, [f'movie_{FIELD}'])\n",
    "\n",
    "dataset = ds.MovieLensTMDBDatasetFactory.from_path(\n",
    "    transform        = transform_fn,\n",
    "    target_transform = transform_fn,\n",
    "    device           = cpu,\n",
    "    filter_fn        = lambda df: df[(df['user_movie_rating_year'] >= 2005) & (df['user_movie_rating_year'] <= 2019)]\n",
    ")\n",
    "dataset.info"
   ]
  },
  {
   "cell_type": "markdown",
   "id": "7feb7663-3aba-4e98-8421-bfb69efd5486",
   "metadata": {},
   "source": [
    "Select movies overview and add new curated tokens column:"
   ]
  },
  {
   "cell_type": "code",
   "execution_count": 26,
   "id": "1a181992-3b3a-47e0-8cc0-a4f80485e214",
   "metadata": {},
   "outputs": [
    {
     "name": "stdout",
     "output_type": "stream",
     "text": [
      "<class 'pandas.core.frame.DataFrame'>\n",
      "RangeIndex: 18515 entries, 0 to 18514\n",
      "Data columns (total 5 columns):\n",
      " #   Column              Non-Null Count  Dtype \n",
      "---  ------              --------------  ----- \n",
      " 0   id                  18515 non-null  int64 \n",
      " 1   movie_release_year  18515 non-null  int64 \n",
      " 2   title               18515 non-null  string\n",
      " 3   overview            18515 non-null  string\n",
      " 4   overview_tokens     18515 non-null  object\n",
      "dtypes: int64(2), object(1), string(2)\n",
      "memory usage: 723.4+ KB\n"
     ]
    }
   ],
   "source": [
    "columns = ['movie_id', 'movie_release_year', 'movie_title', f'movie_{FIELD}']\n",
    "\n",
    "movie_data = dataset \\\n",
    "    .data \\\n",
    "    .pipe(dt.select, columns) \\\n",
    "    .pipe(dt.distinct, ['movie_id']) \\\n",
    "    .pipe(dt.rename, {\n",
    "        'movie_id': 'id', \n",
    "        'movie_title': 'title', \n",
    "        f'movie_{FIELD}': FIELD\n",
    "    }) \\\n",
    "    .pipe(dt.tokenize, FIELD) \\\n",
    "    .pipe(dt.reset_index)\n",
    "\n",
    "movie_data.info()"
   ]
  },
  {
   "cell_type": "code",
   "execution_count": 27,
   "id": "3f348b45-ac6d-46b2-9ffb-10e3602af84d",
   "metadata": {},
   "outputs": [
    {
     "data": {
      "text/html": [
       "<div>\n",
       "<style scoped>\n",
       "    .dataframe tbody tr th:only-of-type {\n",
       "        vertical-align: middle;\n",
       "    }\n",
       "\n",
       "    .dataframe tbody tr th {\n",
       "        vertical-align: top;\n",
       "    }\n",
       "\n",
       "    .dataframe thead th {\n",
       "        text-align: right;\n",
       "    }\n",
       "</style>\n",
       "<table border=\"1\" class=\"dataframe\">\n",
       "  <thead>\n",
       "    <tr style=\"text-align: right;\">\n",
       "      <th></th>\n",
       "      <th>id</th>\n",
       "      <th>movie_release_year</th>\n",
       "      <th>title</th>\n",
       "      <th>overview</th>\n",
       "      <th>overview_tokens</th>\n",
       "    </tr>\n",
       "  </thead>\n",
       "  <tbody>\n",
       "    <tr>\n",
       "      <th>0</th>\n",
       "      <td>1</td>\n",
       "      <td>1995</td>\n",
       "      <td>Toy Story</td>\n",
       "      <td>Led by Woody, Andy's toys live happily in his ...</td>\n",
       "      <td>led woody andy toys live happily room andy bir...</td>\n",
       "    </tr>\n",
       "    <tr>\n",
       "      <th>1</th>\n",
       "      <td>2355</td>\n",
       "      <td>1998</td>\n",
       "      <td>Bug's Life, A</td>\n",
       "      <td>On behalf of \"oppressed bugs everywhere,\" an i...</td>\n",
       "      <td>behalf oppressed bugs inventive ant named flik...</td>\n",
       "    </tr>\n",
       "    <tr>\n",
       "      <th>2</th>\n",
       "      <td>3114</td>\n",
       "      <td>1999</td>\n",
       "      <td>Toy Story 2</td>\n",
       "      <td>Andy heads off to Cowboy Camp, leaving his toy...</td>\n",
       "      <td>andy heads cowboy camp leaving toys devices th...</td>\n",
       "    </tr>\n",
       "    <tr>\n",
       "      <th>3</th>\n",
       "      <td>4306</td>\n",
       "      <td>2001</td>\n",
       "      <td>Shrek</td>\n",
       "      <td>It ain't easy bein' green -- especially if you...</td>\n",
       "      <td>ai easy bein green especially likable albeit s...</td>\n",
       "    </tr>\n",
       "    <tr>\n",
       "      <th>4</th>\n",
       "      <td>4886</td>\n",
       "      <td>2001</td>\n",
       "      <td>Monsters, Inc.</td>\n",
       "      <td>James Sullivan and Mike Wazowski are monsters,...</td>\n",
       "      <td>james sullivan mike wazowski monsters earn liv...</td>\n",
       "    </tr>\n",
       "    <tr>\n",
       "      <th>...</th>\n",
       "      <td>...</td>\n",
       "      <td>...</td>\n",
       "      <td>...</td>\n",
       "      <td>...</td>\n",
       "      <td>...</td>\n",
       "    </tr>\n",
       "    <tr>\n",
       "      <th>18510</th>\n",
       "      <td>173173</td>\n",
       "      <td>2017</td>\n",
       "      <td>This Is Not What I Expected</td>\n",
       "      <td>Lu Jin is a handsome, wealthy hotel executive ...</td>\n",
       "      <td>lu jin handsome wealthy hotel executive drive ...</td>\n",
       "    </tr>\n",
       "    <tr>\n",
       "      <th>18511</th>\n",
       "      <td>174399</td>\n",
       "      <td>2012</td>\n",
       "      <td>Daddy's Little Girl</td>\n",
       "      <td>After the police find Derek’s daughter brutall...</td>\n",
       "      <td>police find derek daughter brutally murdered b...</td>\n",
       "    </tr>\n",
       "    <tr>\n",
       "      <th>18512</th>\n",
       "      <td>174443</td>\n",
       "      <td>2016</td>\n",
       "      <td>American Wrestler: The Wizard</td>\n",
       "      <td>In 1980, a teenage boy escapes the unrest in I...</td>\n",
       "      <td>teenage boy escapes unrest iran face hostility...</td>\n",
       "    </tr>\n",
       "    <tr>\n",
       "      <th>18513</th>\n",
       "      <td>174505</td>\n",
       "      <td>2016</td>\n",
       "      <td>Besetment</td>\n",
       "      <td>After struggling to find employment, Amanda ta...</td>\n",
       "      <td>struggling find employment amanda takes hotel ...</td>\n",
       "    </tr>\n",
       "    <tr>\n",
       "      <th>18514</th>\n",
       "      <td>174649</td>\n",
       "      <td>1999</td>\n",
       "      <td>Bullets Over Summer</td>\n",
       "      <td>Plainclothes policemen Brian and Mike use an e...</td>\n",
       "      <td>plainclothes policemen brian mike use elderly ...</td>\n",
       "    </tr>\n",
       "  </tbody>\n",
       "</table>\n",
       "<p>18515 rows × 5 columns</p>\n",
       "</div>"
      ]
     },
     "execution_count": 27,
     "metadata": {},
     "output_type": "execute_result"
    }
   ],
   "source": [
    "movie_data"
   ]
  },
  {
   "cell_type": "code",
   "execution_count": 28,
   "id": "c5569bde-a58d-499a-9dcf-c1cb103975ba",
   "metadata": {},
   "outputs": [
    {
     "data": {
      "text/html": [
       "<pre style=\"white-space:pre;overflow-x:auto;line-height:normal;font-family:Menlo,'DejaVu Sans Mono',consolas,'Courier New',monospace\"><span style=\"font-weight: bold\">(</span><span style=\"color: #008080; text-decoration-color: #008080; font-weight: bold\">18515</span>, <span style=\"color: #008080; text-decoration-color: #008080; font-weight: bold\">23051</span><span style=\"font-weight: bold\">)</span>\n",
       "</pre>\n"
      ],
      "text/plain": [
       "\u001b[1m(\u001b[0m\u001b[1;36m18515\u001b[0m, \u001b[1;36m23051\u001b[0m\u001b[1m)\u001b[0m\n"
      ]
     },
     "metadata": {},
     "output_type": "display_data"
    }
   ],
   "source": [
    "tfidf = movie_data.pipe(dt.tf_idf, f'{FIELD}_tokens')\n",
    "\n",
    "tfidf.shape"
   ]
  },
  {
   "cell_type": "markdown",
   "id": "c81ebd42-69d1-4c70-86bd-21fdf655ea17",
   "metadata": {
    "tags": []
   },
   "source": [
    "## Definicion del modelo"
   ]
  },
  {
   "cell_type": "code",
   "execution_count": 29,
   "id": "5ad15b34-6797-4958-8946-cf7eae65f2a7",
   "metadata": {},
   "outputs": [],
   "source": [
    "def train(auto_encoder, tfidf, params):\n",
    "    train_set = DataLoader(\n",
    "        ds.TfIdfDataset(tfidf), \n",
    "        params.batch_size, \n",
    "        num_workers=params.n_workers, \n",
    "        pin_memory=True,\n",
    "        shuffle=True\n",
    "    )\n",
    "    ml.AutoEncoderTrainer(auto_encoder).fit(\n",
    "        train_set,\n",
    "        loss_fn = ml.MSELossFn(reduction='elementwise_mean'),\n",
    "        epochs  = params.epochs,\n",
    "        encoder_optimizer = Adam(auto_encoder.encoder.parameters(), lr= params.lr),\n",
    "        decoder_optimizer = Adam(auto_encoder.decoder.parameters(), lr= params.lr),\n",
    "        callbacks=[Logger(['time', 'epoch', 'train_loss'])]\n",
    "    )"
   ]
  },
  {
   "cell_type": "markdown",
   "id": "5f73b173-49dd-4995-a80f-51c24d4a10f8",
   "metadata": {},
   "source": [
    "## Entrenamiento"
   ]
  },
  {
   "cell_type": "code",
   "execution_count": 30,
   "id": "3c8f7a42-c105-487c-a353-c7bd7e6ff67e",
   "metadata": {},
   "outputs": [],
   "source": [
    "params = Bunch({\n",
    "    'lr': 0.01,\n",
    "    'epochs': 20,\n",
    "    'n_workers': 24,\n",
    "    'batch_size': 128,\n",
    "    'sequence_size':  tfidf.shape[1],\n",
    "    'intermediate_size': 5000,\n",
    "    'encoded_size': 1000,\n",
    "    'experiment_name': f'{FIELD}-tf-idf-sparse-auto-encoder',\n",
    "    'device': get_device()\n",
    "})"
   ]
  },
  {
   "cell_type": "code",
   "execution_count": 31,
   "id": "3afd9ab4-dd86-4c4e-8a48-a8ae11507336",
   "metadata": {},
   "outputs": [
    {
     "data": {
      "text/html": [
       "<pre style=\"white-space:pre;overflow-x:auto;line-height:normal;font-family:Menlo,'DejaVu Sans Mono',consolas,'Courier New',monospace\"><span style=\"color: #800080; text-decoration-color: #800080; font-weight: bold\">AutoEncoder</span><span style=\"font-weight: bold\">(</span>\n",
       "  <span style=\"font-weight: bold\">(</span>encoder<span style=\"font-weight: bold\">)</span>: <span style=\"color: #800080; text-decoration-color: #800080; font-weight: bold\">Encoder</span><span style=\"font-weight: bold\">(</span>\n",
       "    <span style=\"font-weight: bold\">(</span>mlp<span style=\"font-weight: bold\">)</span>: <span style=\"color: #800080; text-decoration-color: #800080; font-weight: bold\">Sequential</span><span style=\"font-weight: bold\">(</span>\n",
       "      <span style=\"font-weight: bold\">(</span><span style=\"color: #008080; text-decoration-color: #008080; font-weight: bold\">0</span><span style=\"font-weight: bold\">)</span>: <span style=\"color: #800080; text-decoration-color: #800080; font-weight: bold\">Linear</span><span style=\"font-weight: bold\">(</span><span style=\"color: #808000; text-decoration-color: #808000\">in_features</span>=<span style=\"color: #008080; text-decoration-color: #008080; font-weight: bold\">23051</span>, <span style=\"color: #808000; text-decoration-color: #808000\">out_features</span>=<span style=\"color: #008080; text-decoration-color: #008080; font-weight: bold\">5000</span>, <span style=\"color: #808000; text-decoration-color: #808000\">bias</span>=<span style=\"color: #00ff00; text-decoration-color: #00ff00; font-style: italic\">True</span><span style=\"font-weight: bold\">)</span>\n",
       "      <span style=\"font-weight: bold\">(</span><span style=\"color: #008080; text-decoration-color: #008080; font-weight: bold\">1</span><span style=\"font-weight: bold\">)</span>: <span style=\"color: #800080; text-decoration-color: #800080; font-weight: bold\">BatchNorm1d</span><span style=\"font-weight: bold\">(</span><span style=\"color: #008080; text-decoration-color: #008080; font-weight: bold\">5000</span>, <span style=\"color: #808000; text-decoration-color: #808000\">eps</span>=<span style=\"color: #008080; text-decoration-color: #008080; font-weight: bold\">1e-05</span>, <span style=\"color: #808000; text-decoration-color: #808000\">momentum</span>=<span style=\"color: #008080; text-decoration-color: #008080; font-weight: bold\">0.1</span>, <span style=\"color: #808000; text-decoration-color: #808000\">affine</span>=<span style=\"color: #00ff00; text-decoration-color: #00ff00; font-style: italic\">True</span>, <span style=\"color: #808000; text-decoration-color: #808000\">track_running_stats</span>=<span style=\"color: #00ff00; text-decoration-color: #00ff00; font-style: italic\">True</span><span style=\"font-weight: bold\">)</span>\n",
       "      <span style=\"font-weight: bold\">(</span><span style=\"color: #008080; text-decoration-color: #008080; font-weight: bold\">2</span><span style=\"font-weight: bold\">)</span>: <span style=\"color: #800080; text-decoration-color: #800080; font-weight: bold\">ReLU</span><span style=\"font-weight: bold\">(</span><span style=\"color: #808000; text-decoration-color: #808000\">inplace</span>=<span style=\"color: #00ff00; text-decoration-color: #00ff00; font-style: italic\">True</span><span style=\"font-weight: bold\">)</span>\n",
       "      <span style=\"font-weight: bold\">(</span><span style=\"color: #008080; text-decoration-color: #008080; font-weight: bold\">3</span><span style=\"font-weight: bold\">)</span>: <span style=\"color: #800080; text-decoration-color: #800080; font-weight: bold\">Dropout</span><span style=\"font-weight: bold\">(</span><span style=\"color: #808000; text-decoration-color: #808000\">p</span>=<span style=\"color: #008080; text-decoration-color: #008080; font-weight: bold\">0.2</span>, <span style=\"color: #808000; text-decoration-color: #808000\">inplace</span>=<span style=\"color: #ff0000; text-decoration-color: #ff0000; font-style: italic\">False</span><span style=\"font-weight: bold\">)</span>\n",
       "      <span style=\"font-weight: bold\">(</span><span style=\"color: #008080; text-decoration-color: #008080; font-weight: bold\">4</span><span style=\"font-weight: bold\">)</span>: <span style=\"color: #800080; text-decoration-color: #800080; font-weight: bold\">Linear</span><span style=\"font-weight: bold\">(</span><span style=\"color: #808000; text-decoration-color: #808000\">in_features</span>=<span style=\"color: #008080; text-decoration-color: #008080; font-weight: bold\">5000</span>, <span style=\"color: #808000; text-decoration-color: #808000\">out_features</span>=<span style=\"color: #008080; text-decoration-color: #008080; font-weight: bold\">1000</span>, <span style=\"color: #808000; text-decoration-color: #808000\">bias</span>=<span style=\"color: #00ff00; text-decoration-color: #00ff00; font-style: italic\">True</span><span style=\"font-weight: bold\">)</span>\n",
       "      <span style=\"font-weight: bold\">(</span><span style=\"color: #008080; text-decoration-color: #008080; font-weight: bold\">5</span><span style=\"font-weight: bold\">)</span>: <span style=\"color: #800080; text-decoration-color: #800080; font-weight: bold\">BatchNorm1d</span><span style=\"font-weight: bold\">(</span><span style=\"color: #008080; text-decoration-color: #008080; font-weight: bold\">1000</span>, <span style=\"color: #808000; text-decoration-color: #808000\">eps</span>=<span style=\"color: #008080; text-decoration-color: #008080; font-weight: bold\">1e-05</span>, <span style=\"color: #808000; text-decoration-color: #808000\">momentum</span>=<span style=\"color: #008080; text-decoration-color: #008080; font-weight: bold\">0.1</span>, <span style=\"color: #808000; text-decoration-color: #808000\">affine</span>=<span style=\"color: #00ff00; text-decoration-color: #00ff00; font-style: italic\">True</span>, <span style=\"color: #808000; text-decoration-color: #808000\">track_running_stats</span>=<span style=\"color: #00ff00; text-decoration-color: #00ff00; font-style: italic\">True</span><span style=\"font-weight: bold\">)</span>\n",
       "      <span style=\"font-weight: bold\">(</span><span style=\"color: #008080; text-decoration-color: #008080; font-weight: bold\">6</span><span style=\"font-weight: bold\">)</span>: <span style=\"color: #800080; text-decoration-color: #800080; font-weight: bold\">ReLU</span><span style=\"font-weight: bold\">(</span><span style=\"color: #808000; text-decoration-color: #808000\">inplace</span>=<span style=\"color: #00ff00; text-decoration-color: #00ff00; font-style: italic\">True</span><span style=\"font-weight: bold\">)</span>\n",
       "      <span style=\"font-weight: bold\">(</span><span style=\"color: #008080; text-decoration-color: #008080; font-weight: bold\">7</span><span style=\"font-weight: bold\">)</span>: <span style=\"color: #800080; text-decoration-color: #800080; font-weight: bold\">Dropout</span><span style=\"font-weight: bold\">(</span><span style=\"color: #808000; text-decoration-color: #808000\">p</span>=<span style=\"color: #008080; text-decoration-color: #008080; font-weight: bold\">0.2</span>, <span style=\"color: #808000; text-decoration-color: #808000\">inplace</span>=<span style=\"color: #ff0000; text-decoration-color: #ff0000; font-style: italic\">False</span><span style=\"font-weight: bold\">)</span>\n",
       "    <span style=\"font-weight: bold\">)</span>\n",
       "  <span style=\"font-weight: bold\">)</span>\n",
       "  <span style=\"font-weight: bold\">(</span>decoder<span style=\"font-weight: bold\">)</span>: <span style=\"color: #800080; text-decoration-color: #800080; font-weight: bold\">Decoder</span><span style=\"font-weight: bold\">(</span>\n",
       "    <span style=\"font-weight: bold\">(</span>mlp<span style=\"font-weight: bold\">)</span>: <span style=\"color: #800080; text-decoration-color: #800080; font-weight: bold\">Sequential</span><span style=\"font-weight: bold\">(</span>\n",
       "      <span style=\"font-weight: bold\">(</span><span style=\"color: #008080; text-decoration-color: #008080; font-weight: bold\">0</span><span style=\"font-weight: bold\">)</span>: <span style=\"color: #800080; text-decoration-color: #800080; font-weight: bold\">Linear</span><span style=\"font-weight: bold\">(</span><span style=\"color: #808000; text-decoration-color: #808000\">in_features</span>=<span style=\"color: #008080; text-decoration-color: #008080; font-weight: bold\">1000</span>, <span style=\"color: #808000; text-decoration-color: #808000\">out_features</span>=<span style=\"color: #008080; text-decoration-color: #008080; font-weight: bold\">5000</span>, <span style=\"color: #808000; text-decoration-color: #808000\">bias</span>=<span style=\"color: #00ff00; text-decoration-color: #00ff00; font-style: italic\">True</span><span style=\"font-weight: bold\">)</span>\n",
       "      <span style=\"font-weight: bold\">(</span><span style=\"color: #008080; text-decoration-color: #008080; font-weight: bold\">1</span><span style=\"font-weight: bold\">)</span>: <span style=\"color: #800080; text-decoration-color: #800080; font-weight: bold\">BatchNorm1d</span><span style=\"font-weight: bold\">(</span><span style=\"color: #008080; text-decoration-color: #008080; font-weight: bold\">5000</span>, <span style=\"color: #808000; text-decoration-color: #808000\">eps</span>=<span style=\"color: #008080; text-decoration-color: #008080; font-weight: bold\">1e-05</span>, <span style=\"color: #808000; text-decoration-color: #808000\">momentum</span>=<span style=\"color: #008080; text-decoration-color: #008080; font-weight: bold\">0.1</span>, <span style=\"color: #808000; text-decoration-color: #808000\">affine</span>=<span style=\"color: #00ff00; text-decoration-color: #00ff00; font-style: italic\">True</span>, <span style=\"color: #808000; text-decoration-color: #808000\">track_running_stats</span>=<span style=\"color: #00ff00; text-decoration-color: #00ff00; font-style: italic\">True</span><span style=\"font-weight: bold\">)</span>\n",
       "      <span style=\"font-weight: bold\">(</span><span style=\"color: #008080; text-decoration-color: #008080; font-weight: bold\">2</span><span style=\"font-weight: bold\">)</span>: <span style=\"color: #800080; text-decoration-color: #800080; font-weight: bold\">ReLU</span><span style=\"font-weight: bold\">(</span><span style=\"color: #808000; text-decoration-color: #808000\">inplace</span>=<span style=\"color: #00ff00; text-decoration-color: #00ff00; font-style: italic\">True</span><span style=\"font-weight: bold\">)</span>\n",
       "      <span style=\"font-weight: bold\">(</span><span style=\"color: #008080; text-decoration-color: #008080; font-weight: bold\">3</span><span style=\"font-weight: bold\">)</span>: <span style=\"color: #800080; text-decoration-color: #800080; font-weight: bold\">Dropout</span><span style=\"font-weight: bold\">(</span><span style=\"color: #808000; text-decoration-color: #808000\">p</span>=<span style=\"color: #008080; text-decoration-color: #008080; font-weight: bold\">0.2</span>, <span style=\"color: #808000; text-decoration-color: #808000\">inplace</span>=<span style=\"color: #ff0000; text-decoration-color: #ff0000; font-style: italic\">False</span><span style=\"font-weight: bold\">)</span>\n",
       "      <span style=\"font-weight: bold\">(</span><span style=\"color: #008080; text-decoration-color: #008080; font-weight: bold\">4</span><span style=\"font-weight: bold\">)</span>: <span style=\"color: #800080; text-decoration-color: #800080; font-weight: bold\">Linear</span><span style=\"font-weight: bold\">(</span><span style=\"color: #808000; text-decoration-color: #808000\">in_features</span>=<span style=\"color: #008080; text-decoration-color: #008080; font-weight: bold\">5000</span>, <span style=\"color: #808000; text-decoration-color: #808000\">out_features</span>=<span style=\"color: #008080; text-decoration-color: #008080; font-weight: bold\">23051</span>, <span style=\"color: #808000; text-decoration-color: #808000\">bias</span>=<span style=\"color: #00ff00; text-decoration-color: #00ff00; font-style: italic\">True</span><span style=\"font-weight: bold\">)</span>\n",
       "      <span style=\"font-weight: bold\">(</span><span style=\"color: #008080; text-decoration-color: #008080; font-weight: bold\">5</span><span style=\"font-weight: bold\">)</span>: <span style=\"color: #800080; text-decoration-color: #800080; font-weight: bold\">BatchNorm1d</span><span style=\"font-weight: bold\">(</span><span style=\"color: #008080; text-decoration-color: #008080; font-weight: bold\">23051</span>, <span style=\"color: #808000; text-decoration-color: #808000\">eps</span>=<span style=\"color: #008080; text-decoration-color: #008080; font-weight: bold\">1e-05</span>, <span style=\"color: #808000; text-decoration-color: #808000\">momentum</span>=<span style=\"color: #008080; text-decoration-color: #008080; font-weight: bold\">0.1</span>, <span style=\"color: #808000; text-decoration-color: #808000\">affine</span>=<span style=\"color: #00ff00; text-decoration-color: #00ff00; font-style: italic\">True</span>, <span style=\"color: #808000; text-decoration-color: #808000\">track_running_stats</span>=<span style=\"color: #00ff00; text-decoration-color: #00ff00; font-style: italic\">True</span><span style=\"font-weight: bold\">)</span>\n",
       "      <span style=\"font-weight: bold\">(</span><span style=\"color: #008080; text-decoration-color: #008080; font-weight: bold\">6</span><span style=\"font-weight: bold\">)</span>: <span style=\"color: #800080; text-decoration-color: #800080; font-weight: bold\">Sigmoid</span><span style=\"font-weight: bold\">()</span>\n",
       "    <span style=\"font-weight: bold\">)</span>\n",
       "  <span style=\"font-weight: bold\">)</span>\n",
       "<span style=\"font-weight: bold\">)</span>\n",
       "</pre>\n"
      ],
      "text/plain": [
       "\u001b[1;35mAutoEncoder\u001b[0m\u001b[1m(\u001b[0m\n",
       "  \u001b[1m(\u001b[0mencoder\u001b[1m)\u001b[0m: \u001b[1;35mEncoder\u001b[0m\u001b[1m(\u001b[0m\n",
       "    \u001b[1m(\u001b[0mmlp\u001b[1m)\u001b[0m: \u001b[1;35mSequential\u001b[0m\u001b[1m(\u001b[0m\n",
       "      \u001b[1m(\u001b[0m\u001b[1;36m0\u001b[0m\u001b[1m)\u001b[0m: \u001b[1;35mLinear\u001b[0m\u001b[1m(\u001b[0m\u001b[33min_features\u001b[0m=\u001b[1;36m23051\u001b[0m, \u001b[33mout_features\u001b[0m=\u001b[1;36m5000\u001b[0m, \u001b[33mbias\u001b[0m=\u001b[3;92mTrue\u001b[0m\u001b[1m)\u001b[0m\n",
       "      \u001b[1m(\u001b[0m\u001b[1;36m1\u001b[0m\u001b[1m)\u001b[0m: \u001b[1;35mBatchNorm1d\u001b[0m\u001b[1m(\u001b[0m\u001b[1;36m5000\u001b[0m, \u001b[33meps\u001b[0m=\u001b[1;36m1e\u001b[0m\u001b[1;36m-05\u001b[0m, \u001b[33mmomentum\u001b[0m=\u001b[1;36m0\u001b[0m\u001b[1;36m.1\u001b[0m, \u001b[33maffine\u001b[0m=\u001b[3;92mTrue\u001b[0m, \u001b[33mtrack_running_stats\u001b[0m=\u001b[3;92mTrue\u001b[0m\u001b[1m)\u001b[0m\n",
       "      \u001b[1m(\u001b[0m\u001b[1;36m2\u001b[0m\u001b[1m)\u001b[0m: \u001b[1;35mReLU\u001b[0m\u001b[1m(\u001b[0m\u001b[33minplace\u001b[0m=\u001b[3;92mTrue\u001b[0m\u001b[1m)\u001b[0m\n",
       "      \u001b[1m(\u001b[0m\u001b[1;36m3\u001b[0m\u001b[1m)\u001b[0m: \u001b[1;35mDropout\u001b[0m\u001b[1m(\u001b[0m\u001b[33mp\u001b[0m=\u001b[1;36m0\u001b[0m\u001b[1;36m.2\u001b[0m, \u001b[33minplace\u001b[0m=\u001b[3;91mFalse\u001b[0m\u001b[1m)\u001b[0m\n",
       "      \u001b[1m(\u001b[0m\u001b[1;36m4\u001b[0m\u001b[1m)\u001b[0m: \u001b[1;35mLinear\u001b[0m\u001b[1m(\u001b[0m\u001b[33min_features\u001b[0m=\u001b[1;36m5000\u001b[0m, \u001b[33mout_features\u001b[0m=\u001b[1;36m1000\u001b[0m, \u001b[33mbias\u001b[0m=\u001b[3;92mTrue\u001b[0m\u001b[1m)\u001b[0m\n",
       "      \u001b[1m(\u001b[0m\u001b[1;36m5\u001b[0m\u001b[1m)\u001b[0m: \u001b[1;35mBatchNorm1d\u001b[0m\u001b[1m(\u001b[0m\u001b[1;36m1000\u001b[0m, \u001b[33meps\u001b[0m=\u001b[1;36m1e\u001b[0m\u001b[1;36m-05\u001b[0m, \u001b[33mmomentum\u001b[0m=\u001b[1;36m0\u001b[0m\u001b[1;36m.1\u001b[0m, \u001b[33maffine\u001b[0m=\u001b[3;92mTrue\u001b[0m, \u001b[33mtrack_running_stats\u001b[0m=\u001b[3;92mTrue\u001b[0m\u001b[1m)\u001b[0m\n",
       "      \u001b[1m(\u001b[0m\u001b[1;36m6\u001b[0m\u001b[1m)\u001b[0m: \u001b[1;35mReLU\u001b[0m\u001b[1m(\u001b[0m\u001b[33minplace\u001b[0m=\u001b[3;92mTrue\u001b[0m\u001b[1m)\u001b[0m\n",
       "      \u001b[1m(\u001b[0m\u001b[1;36m7\u001b[0m\u001b[1m)\u001b[0m: \u001b[1;35mDropout\u001b[0m\u001b[1m(\u001b[0m\u001b[33mp\u001b[0m=\u001b[1;36m0\u001b[0m\u001b[1;36m.2\u001b[0m, \u001b[33minplace\u001b[0m=\u001b[3;91mFalse\u001b[0m\u001b[1m)\u001b[0m\n",
       "    \u001b[1m)\u001b[0m\n",
       "  \u001b[1m)\u001b[0m\n",
       "  \u001b[1m(\u001b[0mdecoder\u001b[1m)\u001b[0m: \u001b[1;35mDecoder\u001b[0m\u001b[1m(\u001b[0m\n",
       "    \u001b[1m(\u001b[0mmlp\u001b[1m)\u001b[0m: \u001b[1;35mSequential\u001b[0m\u001b[1m(\u001b[0m\n",
       "      \u001b[1m(\u001b[0m\u001b[1;36m0\u001b[0m\u001b[1m)\u001b[0m: \u001b[1;35mLinear\u001b[0m\u001b[1m(\u001b[0m\u001b[33min_features\u001b[0m=\u001b[1;36m1000\u001b[0m, \u001b[33mout_features\u001b[0m=\u001b[1;36m5000\u001b[0m, \u001b[33mbias\u001b[0m=\u001b[3;92mTrue\u001b[0m\u001b[1m)\u001b[0m\n",
       "      \u001b[1m(\u001b[0m\u001b[1;36m1\u001b[0m\u001b[1m)\u001b[0m: \u001b[1;35mBatchNorm1d\u001b[0m\u001b[1m(\u001b[0m\u001b[1;36m5000\u001b[0m, \u001b[33meps\u001b[0m=\u001b[1;36m1e\u001b[0m\u001b[1;36m-05\u001b[0m, \u001b[33mmomentum\u001b[0m=\u001b[1;36m0\u001b[0m\u001b[1;36m.1\u001b[0m, \u001b[33maffine\u001b[0m=\u001b[3;92mTrue\u001b[0m, \u001b[33mtrack_running_stats\u001b[0m=\u001b[3;92mTrue\u001b[0m\u001b[1m)\u001b[0m\n",
       "      \u001b[1m(\u001b[0m\u001b[1;36m2\u001b[0m\u001b[1m)\u001b[0m: \u001b[1;35mReLU\u001b[0m\u001b[1m(\u001b[0m\u001b[33minplace\u001b[0m=\u001b[3;92mTrue\u001b[0m\u001b[1m)\u001b[0m\n",
       "      \u001b[1m(\u001b[0m\u001b[1;36m3\u001b[0m\u001b[1m)\u001b[0m: \u001b[1;35mDropout\u001b[0m\u001b[1m(\u001b[0m\u001b[33mp\u001b[0m=\u001b[1;36m0\u001b[0m\u001b[1;36m.2\u001b[0m, \u001b[33minplace\u001b[0m=\u001b[3;91mFalse\u001b[0m\u001b[1m)\u001b[0m\n",
       "      \u001b[1m(\u001b[0m\u001b[1;36m4\u001b[0m\u001b[1m)\u001b[0m: \u001b[1;35mLinear\u001b[0m\u001b[1m(\u001b[0m\u001b[33min_features\u001b[0m=\u001b[1;36m5000\u001b[0m, \u001b[33mout_features\u001b[0m=\u001b[1;36m23051\u001b[0m, \u001b[33mbias\u001b[0m=\u001b[3;92mTrue\u001b[0m\u001b[1m)\u001b[0m\n",
       "      \u001b[1m(\u001b[0m\u001b[1;36m5\u001b[0m\u001b[1m)\u001b[0m: \u001b[1;35mBatchNorm1d\u001b[0m\u001b[1m(\u001b[0m\u001b[1;36m23051\u001b[0m, \u001b[33meps\u001b[0m=\u001b[1;36m1e\u001b[0m\u001b[1;36m-05\u001b[0m, \u001b[33mmomentum\u001b[0m=\u001b[1;36m0\u001b[0m\u001b[1;36m.1\u001b[0m, \u001b[33maffine\u001b[0m=\u001b[3;92mTrue\u001b[0m, \u001b[33mtrack_running_stats\u001b[0m=\u001b[3;92mTrue\u001b[0m\u001b[1m)\u001b[0m\n",
       "      \u001b[1m(\u001b[0m\u001b[1;36m6\u001b[0m\u001b[1m)\u001b[0m: \u001b[1;35mSigmoid\u001b[0m\u001b[1m(\u001b[0m\u001b[1m)\u001b[0m\n",
       "    \u001b[1m)\u001b[0m\n",
       "  \u001b[1m)\u001b[0m\n",
       "\u001b[1m)\u001b[0m\n"
      ]
     },
     "metadata": {},
     "output_type": "display_data"
    }
   ],
   "source": [
    "auto_encoder = ml.AutoEncoder(\n",
    "    params.sequence_size, \n",
    "    params.intermediate_size, \n",
    "    params.encoded_size\n",
    ").to(get_device())\n",
    "print(auto_encoder)"
   ]
  },
  {
   "cell_type": "code",
   "execution_count": 32,
   "id": "fe8254ad-c0ef-4de3-a91a-a23e8179b5fd",
   "metadata": {},
   "outputs": [
    {
     "name": "stderr",
     "output_type": "stream",
     "text": [
      "2022-07-24 12:38:35,523 - INFO - {'time': '0:00:07.92', 'epoch': 1, 'train_loss': 0.13628351770598313}\n",
      "2022-07-24 12:38:43,368 - INFO - {'time': '0:00:07.84', 'epoch': 2, 'train_loss': 0.04234038751957745}\n",
      "2022-07-24 12:38:51,175 - INFO - {'time': '0:00:07.81', 'epoch': 3, 'train_loss': 0.0235675530700848}\n",
      "2022-07-24 12:38:59,016 - INFO - {'time': '0:00:07.84', 'epoch': 4, 'train_loss': 0.014690781416821069}\n",
      "2022-07-24 12:39:06,873 - INFO - {'time': '0:00:07.86', 'epoch': 5, 'train_loss': 0.006722408661554599}\n",
      "2022-07-24 12:39:14,678 - INFO - {'time': '0:00:07.80', 'epoch': 6, 'train_loss': 0.003975038718560646}\n",
      "2022-07-24 12:39:22,454 - INFO - {'time': '0:00:07.78', 'epoch': 7, 'train_loss': 0.0026282713058051366}\n",
      "2022-07-24 12:39:30,199 - INFO - {'time': '0:00:07.74', 'epoch': 8, 'train_loss': 0.0019257104907441755}\n",
      "2022-07-24 12:39:38,106 - INFO - {'time': '0:00:07.91', 'epoch': 9, 'train_loss': 0.00149213083425601}\n",
      "2022-07-24 12:39:46,018 - INFO - {'time': '0:00:07.91', 'epoch': 10, 'train_loss': 0.0012000911547962961}\n",
      "2022-07-24 12:39:53,884 - INFO - {'time': '0:00:07.87', 'epoch': 11, 'train_loss': 0.0009924169842571277}\n",
      "2022-07-24 12:40:01,751 - INFO - {'time': '0:00:07.87', 'epoch': 12, 'train_loss': 0.0008324059151948012}\n",
      "2022-07-24 12:40:09,481 - INFO - {'time': '0:00:07.73', 'epoch': 13, 'train_loss': 0.0007110743618827185}\n",
      "2022-07-24 12:40:17,393 - INFO - {'time': '0:00:07.91', 'epoch': 14, 'train_loss': 0.0006157730465176805}\n",
      "2022-07-24 12:40:25,184 - INFO - {'time': '0:00:07.79', 'epoch': 15, 'train_loss': 0.0005398216215765168}\n",
      "2022-07-24 12:40:32,966 - INFO - {'time': '0:00:07.78', 'epoch': 16, 'train_loss': 0.00047865457780627084}\n",
      "2022-07-24 12:40:40,760 - INFO - {'time': '0:00:07.79', 'epoch': 17, 'train_loss': 0.0004283202107562202}\n",
      "2022-07-24 12:40:48,552 - INFO - {'time': '0:00:07.79', 'epoch': 18, 'train_loss': 0.0003858797900491105}\n",
      "2022-07-24 12:40:56,366 - INFO - {'time': '0:00:07.81', 'epoch': 19, 'train_loss': 0.00034943510184128735}\n",
      "2022-07-24 12:41:04,177 - INFO - {'time': '0:00:07.81', 'epoch': 20, 'train_loss': 0.0003178508422369587}\n"
     ]
    }
   ],
   "source": [
    "train(auto_encoder, tfidf, params)"
   ]
  },
  {
   "cell_type": "code",
   "execution_count": 33,
   "id": "32dd8738-3f13-4a6b-b86a-f67be13e196c",
   "metadata": {},
   "outputs": [],
   "source": [
    "torch.save(auto_encoder.state_dict(), WEIGHTS_PATH)"
   ]
  },
  {
   "cell_type": "markdown",
   "id": "871776a8-f414-4cc9-9f26-5bb99e018319",
   "metadata": {},
   "source": [
    "## Generacion de embeddings"
   ]
  },
  {
   "cell_type": "code",
   "execution_count": 34,
   "id": "a2d9dd7c-24cf-42b8-9e92-4e7de76044c8",
   "metadata": {},
   "outputs": [
    {
     "data": {
      "text/html": [
       "<pre style=\"white-space:pre;overflow-x:auto;line-height:normal;font-family:Menlo,'DejaVu Sans Mono',consolas,'Courier New',monospace\"><span style=\"color: #800080; text-decoration-color: #800080; font-weight: bold\">torch.Size</span><span style=\"font-weight: bold\">([</span><span style=\"color: #008080; text-decoration-color: #008080; font-weight: bold\">18515</span>, <span style=\"color: #008080; text-decoration-color: #008080; font-weight: bold\">1000</span><span style=\"font-weight: bold\">])</span>\n",
       "</pre>\n"
      ],
      "text/plain": [
       "\u001b[1;35mtorch.Size\u001b[0m\u001b[1m(\u001b[0m\u001b[1m[\u001b[0m\u001b[1;36m18515\u001b[0m, \u001b[1;36m1000\u001b[0m\u001b[1m]\u001b[0m\u001b[1m)\u001b[0m\n"
      ]
     },
     "metadata": {},
     "output_type": "display_data"
    }
   ],
   "source": [
    "embedding = auto_encoder.to(cpu).encode_from_batch(torch.tensor(tfidf.toarray()))\n",
    "embedding.shape"
   ]
  },
  {
   "cell_type": "code",
   "execution_count": 35,
   "id": "38f65cff-be8b-42db-ae06-6ca24b017b98",
   "metadata": {},
   "outputs": [
    {
     "name": "stdout",
     "output_type": "stream",
     "text": [
      "<class 'pandas.core.frame.DataFrame'>\n",
      "RangeIndex: 18515 entries, 0 to 18514\n",
      "Data columns (total 6 columns):\n",
      " #   Column              Non-Null Count  Dtype \n",
      "---  ------              --------------  ----- \n",
      " 0   id                  18515 non-null  int64 \n",
      " 1   movie_release_year  18515 non-null  int64 \n",
      " 2   title               18515 non-null  string\n",
      " 3   overview            18515 non-null  string\n",
      " 4   overview_tokens     18515 non-null  object\n",
      " 5   overview_embedding  18515 non-null  object\n",
      "dtypes: int64(2), object(2), string(2)\n",
      "memory usage: 868.0+ KB\n"
     ]
    }
   ],
   "source": [
    "movie_data = movie_data \\\n",
    "    .pipe(dt.append_emb_vectors, embedding, FIELD)\n",
    "\n",
    "movie_data.to_json(EMBEDDING_PATH)\n",
    "movie_data.info()"
   ]
  },
  {
   "cell_type": "markdown",
   "id": "d43c9369-047c-45ea-863c-304319bc63f0",
   "metadata": {
    "tags": []
   },
   "source": [
    "## Evaluación"
   ]
  },
  {
   "cell_type": "code",
   "execution_count": 36,
   "id": "e0af4c9f-bd12-4915-b8ed-01ab11094b29",
   "metadata": {},
   "outputs": [],
   "source": [
    "df = pd.read_json(EMBEDDING_PATH)"
   ]
  },
  {
   "cell_type": "code",
   "execution_count": 37,
   "id": "97c2fe32-8f7b-4e7b-b2f1-93aadb006737",
   "metadata": {},
   "outputs": [
    {
     "data": {
      "application/vnd.jupyter.widget-view+json": {
       "model_id": "91e1cd106e1941dfa3cd1b99799b8f03",
       "version_major": 2,
       "version_minor": 0
      },
      "text/plain": [
       "Building Distances Matrix:   0%|          | 0/18515 [00:00<?, ?it/s]"
      ]
     },
     "metadata": {},
     "output_type": "display_data"
    }
   ],
   "source": [
    "recommender = rc.DistanceMatrixRecommender(\n",
    "    df,\n",
    "    column  = f'{FIELD}_embedding', \n",
    "    device  = get_device()\n",
    ")"
   ]
  },
  {
   "cell_type": "code",
   "execution_count": 38,
   "id": "a6612f71-c8f0-44ab-9a96-0b2f18deb16b",
   "metadata": {},
   "outputs": [
    {
     "name": "stdout",
     "output_type": "stream",
     "text": [
      "\n",
      "Recommender: overview\n",
      "Item\n"
     ]
    },
    {
     "data": {
      "text/html": [
       "<div>\n",
       "<style scoped>\n",
       "    .dataframe tbody tr th:only-of-type {\n",
       "        vertical-align: middle;\n",
       "    }\n",
       "\n",
       "    .dataframe tbody tr th {\n",
       "        vertical-align: top;\n",
       "    }\n",
       "\n",
       "    .dataframe thead th {\n",
       "        text-align: right;\n",
       "    }\n",
       "</style>\n",
       "<table border=\"1\" class=\"dataframe\">\n",
       "  <thead>\n",
       "    <tr style=\"text-align: right;\">\n",
       "      <th></th>\n",
       "      <th>id</th>\n",
       "      <th>title</th>\n",
       "    </tr>\n",
       "  </thead>\n",
       "  <tbody>\n",
       "    <tr>\n",
       "      <th>0</th>\n",
       "      <td>1</td>\n",
       "      <td>Toy Story</td>\n",
       "    </tr>\n",
       "  </tbody>\n",
       "</table>\n",
       "</div>"
      ]
     },
     "metadata": {},
     "output_type": "display_data"
    },
    {
     "name": "stdout",
     "output_type": "stream",
     "text": [
      "Recommendations\n"
     ]
    },
    {
     "data": {
      "text/html": [
       "<div>\n",
       "<style scoped>\n",
       "    .dataframe tbody tr th:only-of-type {\n",
       "        vertical-align: middle;\n",
       "    }\n",
       "\n",
       "    .dataframe tbody tr th {\n",
       "        vertical-align: top;\n",
       "    }\n",
       "\n",
       "    .dataframe thead th {\n",
       "        text-align: right;\n",
       "    }\n",
       "</style>\n",
       "<table border=\"1\" class=\"dataframe\">\n",
       "  <thead>\n",
       "    <tr style=\"text-align: right;\">\n",
       "      <th></th>\n",
       "      <th>index</th>\n",
       "      <th>distance</th>\n",
       "      <th>id</th>\n",
       "      <th>title</th>\n",
       "      <th>overview</th>\n",
       "    </tr>\n",
       "  </thead>\n",
       "  <tbody>\n",
       "    <tr>\n",
       "      <th>0</th>\n",
       "      <td>0</td>\n",
       "      <td>0.000000</td>\n",
       "      <td>1</td>\n",
       "      <td>Toy Story</td>\n",
       "      <td>Led by Woody, Andy's toys live happily in his ...</td>\n",
       "    </tr>\n",
       "    <tr>\n",
       "      <th>1</th>\n",
       "      <td>11989</td>\n",
       "      <td>0.026161</td>\n",
       "      <td>54341</td>\n",
       "      <td>Wild Tigers I Have Known</td>\n",
       "      <td>A lyrical telling of the coming of age of a 13...</td>\n",
       "    </tr>\n",
       "    <tr>\n",
       "      <th>2</th>\n",
       "      <td>19</td>\n",
       "      <td>0.027491</td>\n",
       "      <td>78499</td>\n",
       "      <td>Toy Story 3</td>\n",
       "      <td>Woody, Buzz, and the rest of Andy's toys haven...</td>\n",
       "    </tr>\n",
       "    <tr>\n",
       "      <th>3</th>\n",
       "      <td>10152</td>\n",
       "      <td>0.028743</td>\n",
       "      <td>5569</td>\n",
       "      <td>Last House on the Left, The</td>\n",
       "      <td>Mari and Phyllis go to the \"big city\" to see t...</td>\n",
       "    </tr>\n",
       "    <tr>\n",
       "      <th>4</th>\n",
       "      <td>1623</td>\n",
       "      <td>0.029026</td>\n",
       "      <td>5785</td>\n",
       "      <td>Jackass: The Movie</td>\n",
       "      <td>Johnny Knoxville and his crazy friends appear ...</td>\n",
       "    </tr>\n",
       "  </tbody>\n",
       "</table>\n",
       "</div>"
      ]
     },
     "metadata": {},
     "output_type": "display_data"
    }
   ],
   "source": [
    "result = recommender.recommend(item_index=0)\n",
    "result.show()"
   ]
  },
  {
   "cell_type": "code",
   "execution_count": null,
   "id": "17a1b0e8-de59-4c79-9e9e-031f63f7db46",
   "metadata": {},
   "outputs": [],
   "source": []
  }
 ],
 "metadata": {
  "kernelspec": {
   "display_name": "Python 3 (ipykernel)",
   "language": "python",
   "name": "python3"
  },
  "language_info": {
   "codemirror_mode": {
    "name": "ipython",
    "version": 3
   },
   "file_extension": ".py",
   "mimetype": "text/x-python",
   "name": "python",
   "nbconvert_exporter": "python",
   "pygments_lexer": "ipython3",
   "version": "3.10.4"
  },
  "widgets": {
   "application/vnd.jupyter.widget-state+json": {
    "state": {
     "01463f992bcd4703918645a277ea03c1": {
      "model_module": "@jupyter-widgets/controls",
      "model_module_version": "1.5.0",
      "model_name": "HTMLModel",
      "state": {
       "layout": "IPY_MODEL_301220a13328478baae2656cc15766f2",
       "style": "IPY_MODEL_bf70b1a5feae4cac92e7158305dc1fb7",
       "value": " 18515/18515 [00:34&lt;00:00, 534.84it/s]"
      }
     },
     "02129bc1bdda491da9a441deb1bf7cdb": {
      "model_module": "@jupyter-widgets/controls",
      "model_module_version": "1.5.0",
      "model_name": "FloatProgressModel",
      "state": {
       "bar_style": "success",
       "layout": "IPY_MODEL_b83ef1ec770849faa26065c095a264db",
       "max": 18515,
       "style": "IPY_MODEL_343d8662979f4080b499e4eaf3727aa7",
       "value": 18515
      }
     },
     "0b52fe5ae2424487994e8ad6e5d47fe7": {
      "model_module": "@jupyter-widgets/base",
      "model_module_version": "1.2.0",
      "model_name": "LayoutModel",
      "state": {}
     },
     "0c55666c27d5471f9fdf134b4189f3bb": {
      "model_module": "@jupyter-widgets/controls",
      "model_module_version": "1.5.0",
      "model_name": "HTMLModel",
      "state": {
       "layout": "IPY_MODEL_d9f0c9023b344a8eb35e5a6022780012",
       "style": "IPY_MODEL_5184d5a2be0a4477aef2fbf1ab66f1c0",
       "value": "Building Distances Matrix: 100%"
      }
     },
     "2220e3db524140dd8d820c008a72fe54": {
      "model_module": "@jupyter-widgets/base",
      "model_module_version": "1.2.0",
      "model_name": "LayoutModel",
      "state": {}
     },
     "23df44271f6148a88035ef71378450f2": {
      "model_module": "@jupyter-widgets/controls",
      "model_module_version": "1.5.0",
      "model_name": "DescriptionStyleModel",
      "state": {
       "description_width": ""
      }
     },
     "296fb77a667246d888b67b3b32a810d2": {
      "model_module": "@jupyter-widgets/controls",
      "model_module_version": "1.5.0",
      "model_name": "DescriptionStyleModel",
      "state": {
       "description_width": ""
      }
     },
     "2b56e4c47c724ca8a95e3a60e9d54ebd": {
      "model_module": "@jupyter-widgets/controls",
      "model_module_version": "1.5.0",
      "model_name": "HBoxModel",
      "state": {
       "children": [
        "IPY_MODEL_0c55666c27d5471f9fdf134b4189f3bb",
        "IPY_MODEL_02129bc1bdda491da9a441deb1bf7cdb",
        "IPY_MODEL_45cd48a7faf9417283755c1b7c56556c"
       ],
       "layout": "IPY_MODEL_36cf7a9e16214a789c0457d13f1abb4f"
      }
     },
     "2ca4503af1f04558911516dc80c7ed4d": {
      "model_module": "@jupyter-widgets/controls",
      "model_module_version": "1.5.0",
      "model_name": "ProgressStyleModel",
      "state": {
       "description_width": ""
      }
     },
     "2d0700def80c4ce2a1435828b70d0c6d": {
      "model_module": "@jupyter-widgets/controls",
      "model_module_version": "1.5.0",
      "model_name": "FloatProgressModel",
      "state": {
       "bar_style": "success",
       "layout": "IPY_MODEL_3eba6d95dab84eabb56255bd08f702fe",
       "max": 18515,
       "style": "IPY_MODEL_2ca4503af1f04558911516dc80c7ed4d",
       "value": 18515
      }
     },
     "301220a13328478baae2656cc15766f2": {
      "model_module": "@jupyter-widgets/base",
      "model_module_version": "1.2.0",
      "model_name": "LayoutModel",
      "state": {}
     },
     "343d8662979f4080b499e4eaf3727aa7": {
      "model_module": "@jupyter-widgets/controls",
      "model_module_version": "1.5.0",
      "model_name": "ProgressStyleModel",
      "state": {
       "description_width": ""
      }
     },
     "36cf7a9e16214a789c0457d13f1abb4f": {
      "model_module": "@jupyter-widgets/base",
      "model_module_version": "1.2.0",
      "model_name": "LayoutModel",
      "state": {}
     },
     "3a9d649725144733bcf7147466c646b2": {
      "model_module": "@jupyter-widgets/base",
      "model_module_version": "1.2.0",
      "model_name": "LayoutModel",
      "state": {}
     },
     "3eba6d95dab84eabb56255bd08f702fe": {
      "model_module": "@jupyter-widgets/base",
      "model_module_version": "1.2.0",
      "model_name": "LayoutModel",
      "state": {}
     },
     "45cd48a7faf9417283755c1b7c56556c": {
      "model_module": "@jupyter-widgets/controls",
      "model_module_version": "1.5.0",
      "model_name": "HTMLModel",
      "state": {
       "layout": "IPY_MODEL_73dcf73541534741aaa50552286cd097",
       "style": "IPY_MODEL_296fb77a667246d888b67b3b32a810d2",
       "value": " 18515/18515 [00:34&lt;00:00, 503.65it/s]"
      }
     },
     "5184d5a2be0a4477aef2fbf1ab66f1c0": {
      "model_module": "@jupyter-widgets/controls",
      "model_module_version": "1.5.0",
      "model_name": "DescriptionStyleModel",
      "state": {
       "description_width": ""
      }
     },
     "67670539939944249d9f5bb59d13b5dd": {
      "model_module": "@jupyter-widgets/base",
      "model_module_version": "1.2.0",
      "model_name": "LayoutModel",
      "state": {}
     },
     "676d30342050473f86cc0eb115d7f1eb": {
      "model_module": "@jupyter-widgets/base",
      "model_module_version": "1.2.0",
      "model_name": "LayoutModel",
      "state": {}
     },
     "6bc60c429d83490b9aa6774f7738f118": {
      "model_module": "@jupyter-widgets/controls",
      "model_module_version": "1.5.0",
      "model_name": "FloatProgressModel",
      "state": {
       "bar_style": "success",
       "layout": "IPY_MODEL_0b52fe5ae2424487994e8ad6e5d47fe7",
       "max": 18515,
       "style": "IPY_MODEL_f73fb8886c284be28ff38a2b82792546",
       "value": 18515
      }
     },
     "73dcf73541534741aaa50552286cd097": {
      "model_module": "@jupyter-widgets/base",
      "model_module_version": "1.2.0",
      "model_name": "LayoutModel",
      "state": {}
     },
     "8dc73878a87a4c1d92b92a5f050c17eb": {
      "model_module": "@jupyter-widgets/controls",
      "model_module_version": "1.5.0",
      "model_name": "DescriptionStyleModel",
      "state": {
       "description_width": ""
      }
     },
     "8f9da6c4adff44a287ea20f1a286feac": {
      "model_module": "@jupyter-widgets/controls",
      "model_module_version": "1.5.0",
      "model_name": "HTMLModel",
      "state": {
       "layout": "IPY_MODEL_676d30342050473f86cc0eb115d7f1eb",
       "style": "IPY_MODEL_8dc73878a87a4c1d92b92a5f050c17eb",
       "value": "Building Distances Matrix: 100%"
      }
     },
     "91e1cd106e1941dfa3cd1b99799b8f03": {
      "model_module": "@jupyter-widgets/controls",
      "model_module_version": "1.5.0",
      "model_name": "HBoxModel",
      "state": {
       "children": [
        "IPY_MODEL_8f9da6c4adff44a287ea20f1a286feac",
        "IPY_MODEL_2d0700def80c4ce2a1435828b70d0c6d",
        "IPY_MODEL_e304fe40717b4c599053b687094965dd"
       ],
       "layout": "IPY_MODEL_3a9d649725144733bcf7147466c646b2"
      }
     },
     "a7364689e2ea4f81bc0a62957fec8231": {
      "model_module": "@jupyter-widgets/controls",
      "model_module_version": "1.5.0",
      "model_name": "HTMLModel",
      "state": {
       "layout": "IPY_MODEL_2220e3db524140dd8d820c008a72fe54",
       "style": "IPY_MODEL_23df44271f6148a88035ef71378450f2",
       "value": "Building Distances Matrix: 100%"
      }
     },
     "b83ef1ec770849faa26065c095a264db": {
      "model_module": "@jupyter-widgets/base",
      "model_module_version": "1.2.0",
      "model_name": "LayoutModel",
      "state": {}
     },
     "bf70b1a5feae4cac92e7158305dc1fb7": {
      "model_module": "@jupyter-widgets/controls",
      "model_module_version": "1.5.0",
      "model_name": "DescriptionStyleModel",
      "state": {
       "description_width": ""
      }
     },
     "c01334bc67de49cd819ad43c8fb46f68": {
      "model_module": "@jupyter-widgets/controls",
      "model_module_version": "1.5.0",
      "model_name": "HBoxModel",
      "state": {
       "children": [
        "IPY_MODEL_a7364689e2ea4f81bc0a62957fec8231",
        "IPY_MODEL_6bc60c429d83490b9aa6774f7738f118",
        "IPY_MODEL_01463f992bcd4703918645a277ea03c1"
       ],
       "layout": "IPY_MODEL_67670539939944249d9f5bb59d13b5dd"
      }
     },
     "c9fb1120a1634d64ba0b0a78e1593b9f": {
      "model_module": "@jupyter-widgets/controls",
      "model_module_version": "1.5.0",
      "model_name": "DescriptionStyleModel",
      "state": {
       "description_width": ""
      }
     },
     "d9f0c9023b344a8eb35e5a6022780012": {
      "model_module": "@jupyter-widgets/base",
      "model_module_version": "1.2.0",
      "model_name": "LayoutModel",
      "state": {}
     },
     "e304fe40717b4c599053b687094965dd": {
      "model_module": "@jupyter-widgets/controls",
      "model_module_version": "1.5.0",
      "model_name": "HTMLModel",
      "state": {
       "layout": "IPY_MODEL_f1328d99a84b433594b830035e629a5a",
       "style": "IPY_MODEL_c9fb1120a1634d64ba0b0a78e1593b9f",
       "value": " 18515/18515 [00:33&lt;00:00, 528.39it/s]"
      }
     },
     "f1328d99a84b433594b830035e629a5a": {
      "model_module": "@jupyter-widgets/base",
      "model_module_version": "1.2.0",
      "model_name": "LayoutModel",
      "state": {}
     },
     "f73fb8886c284be28ff38a2b82792546": {
      "model_module": "@jupyter-widgets/controls",
      "model_module_version": "1.5.0",
      "model_name": "ProgressStyleModel",
      "state": {
       "description_width": ""
      }
     }
    },
    "version_major": 2,
    "version_minor": 0
   }
  }
 },
 "nbformat": 4,
 "nbformat_minor": 5
}
