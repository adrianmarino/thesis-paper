{
 "cells": [
  {
   "cell_type": "markdown",
   "id": "0417277b-47df-4113-a7b3-8f960db06f1d",
   "metadata": {
    "tags": []
   },
   "source": [
    "# Modelos: LLM"
   ]
  },
  {
   "cell_type": "markdown",
   "id": "eef46fb7-b5c8-47e8-b90a-99a1c3027f4b",
   "metadata": {
    "tags": []
   },
   "source": [
    "### Papers\n",
    "\n",
    "* [Chat-REC: Towards Interactive and Explainable\n",
    "LLMs-Augmented Recommender System](https://github.com/adrianmarino/thesis-paper/blob/master/docs/ideas/2303.14524.pdf)\n",
    "* [Large Language Models as Zero-Shot Conversational\n",
    "Recommenders](https://github.com/adrianmarino/thesis-paper/blob/master/docs/ideas/3583780.3614949.pdf)\n",
    "* [Large Language Models are Competitive Near Cold-start\n",
    "Recommenders for Language- and Item-based Preferences](https://github.com/adrianmarino/thesis-paper/blob/master/docs/ideas/3604915.3608845.pdf)\n",
    "\n",
    "### Implementation\n",
    "\n",
    "* [Langchain Quickstart](https://python.langchain.com/docs/integrations/llms/ollama)\n",
    "* [Langchain Ollama](https://python.langchain.com/docs/integrations/llms/ollama)\n",
    "* [Langchain Agents](https://python.langchain.com/docs/modules/agents/)\n",
    "* [Ollama Model File](https://github.com/jmorganca/ollama/blob/main/docs/modelfile.md)"
   ]
  },
  {
   "cell_type": "code",
   "execution_count": null,
   "id": "35e430dd-e279-4258-82a4-6b7a1347304b",
   "metadata": {},
   "outputs": [],
   "source": [
    "%load_ext autoreload\n",
    "%autoreload 2"
   ]
  },
  {
   "cell_type": "code",
   "execution_count": null,
   "id": "834b2f2d-4103-4cf5-880d-10404d8ec7d3",
   "metadata": {},
   "outputs": [],
   "source": [
    "BASE_PATH             = '../../..'\n",
    "LIB_PATH              = f'{BASE_PATH}/lib'\n",
    "DATASET_PATH          = f'{BASE_PATH}/datasets'"
   ]
  },
  {
   "cell_type": "code",
   "execution_count": 6,
   "id": "f98e7bf4-f41a-43f6-b7b7-a991d00f82de",
   "metadata": {},
   "outputs": [],
   "source": [
    "import sys\n",
    "sys.path.append(LIB_PATH)\n",
    "\n",
    "import numpy as np\n",
    "import pandas as pd\n",
    "\n",
    "import util as ut\n",
    "\n",
    "import recommender as rd"
   ]
  },
  {
   "cell_type": "markdown",
   "id": "c2b2aa52-be91-4ff8-b9d6-52b525bec2ca",
   "metadata": {},
   "source": [
    "## Setup"
   ]
  },
  {
   "cell_type": "code",
   "execution_count": 7,
   "id": "3a3e6040-f06b-4cb3-941a-a22d18507bf2",
   "metadata": {
    "tags": []
   },
   "outputs": [],
   "source": [
    "# !sudo systemctl enable ollama\n",
    "# !sudo systemctl restart ollamaff"
   ]
  },
  {
   "cell_type": "markdown",
   "id": "ea31251c-b16e-4162-af8a-a9cef8ecfa4f",
   "metadata": {},
   "source": [
    "## Create model"
   ]
  },
  {
   "cell_type": "markdown",
   "id": "f712184a-5e2e-41ee-bbd9-a1f846f586aa",
   "metadata": {},
   "source": [
    "Model definition:"
   ]
  },
  {
   "cell_type": "code",
   "execution_count": 8,
   "id": "4601105b-c18c-4799-86f7-a64305951985",
   "metadata": {
    "tags": []
   },
   "outputs": [
    {
     "name": "stdout",
     "output_type": "stream",
     "text": [
      "FROM llama2\n",
      "\n",
      "# set the temperature to 1 [higher is more creative, lower is more coherent]\n",
      "PARAMETER temperature 0.3\n",
      "\n",
      "PARAMETER num_gpu 200\n",
      "\n",
      "PARAMETER num_thread 24\n",
      "\n",
      "# set the system message\n",
      "SYSTEM \"\"\"\n",
      "\"\"\""
     ]
    }
   ],
   "source": [
    "! cat ./Modelfile.movie_recommender"
   ]
  },
  {
   "cell_type": "code",
   "execution_count": 9,
   "id": "f5a4fcf2-d3dd-412f-8d5f-d150ae932b8e",
   "metadata": {
    "tags": []
   },
   "outputs": [],
   "source": [
    "# !sudo ollama create default -f ./Modelfile.movie_recommender"
   ]
  },
  {
   "cell_type": "markdown",
   "id": "a174ca94-3b34-4c13-8159-2765c267b0eb",
   "metadata": {},
   "source": [
    "## Model Inference"
   ]
  },
  {
   "cell_type": "code",
   "execution_count": 10,
   "id": "f0dcb73d-6007-4d00-899f-8201bb273610",
   "metadata": {},
   "outputs": [],
   "source": [
    "chat_bot = rd.MovieRecommenderChatBotFactory.create()"
   ]
  },
  {
   "cell_type": "code",
   "execution_count": 11,
   "id": "14156ef5-3c1c-4410-8d52-a0d85aa26ef5",
   "metadata": {},
   "outputs": [
    {
     "name": "stdin",
     "output_type": "stream",
     "text": [
      "\n",
      "----------------------------------\n",
      "¿Que querés que te recomiende hoy?\n",
      "----------------------------------\n",
      "(\\bye or enter to exit)\n",
      "\n",
      " Una película de suspenso\n"
     ]
    },
    {
     "name": "stdout",
     "output_type": "stream",
     "text": [
      "\n",
      "\n",
      "Recomendaciones:\n",
      "\n",
      "1. The Silence of the Lambs (1991, 4.5): Un thriller psicológico que sigue a un equipo de detectives mientras investigan una serie de asesinatos terroríficios. Con interpretación destacada de Jodie Foster y Anthony Hopkins.\n",
      "2. Se7en (1995, 4.3): Un drama policíaco que sigue a dos detectives mientras intentan atrapar a un asesino en serie que está cometiendo crímenes basados en los siete pecados capitales. Con interpretación destacada de Brad Pitt y Morgan Freeman.\n",
      "3. The Prestige (2006, 4.1): Un drama de misterio que sigue a dos magos rivales mientras compiten por el amor de una mujer y por la supremacía en el mundo del ilusionismo. Con interpretación destacada de Hugh Jackman y Christian Bale.\n",
      "4. Memento (2000, 4.5): Un thriller psicológico que sigue a un hombre con amnesia mientras intenta descubrir quién mató a su esposa y cómo está relacionado con él. Con interpretación destacada de Guy Pearce.\n",
      "5. The Girl with the Dragon Tattoo (2011, 4.3): Un thriller de misterio que sigue a un periodista y una hacker mientras investigan el asesinato de una mujer rica y el desaparición de su hija. Con interpretación destacada de Daniel Craig y Rooney Mara.\n",
      "\n",
      "Espero que estas recomendaciones te ayuden a encontrar una película que te guste. Si no tienes información sobre tus gustos, te sugiero ver \"The Silence of the Lambs\" o \"Se7en\", ya que son dos de las mejores películas de suspenso de todos los tiempos.\n",
      "\n"
     ]
    },
    {
     "name": "stdin",
     "output_type": "stream",
     "text": [
      " \n"
     ]
    }
   ],
   "source": [
    "history = chat_bot.start()"
   ]
  },
  {
   "cell_type": "code",
   "execution_count": 12,
   "id": "cbd8f4e9-4657-4195-97b7-ceae23b54e3c",
   "metadata": {},
   "outputs": [
    {
     "data": {
      "text/html": [
       "<pre style=\"white-space:pre;overflow-x:auto;line-height:normal;font-family:Menlo,'DejaVu Sans Mono',consolas,'Courier New',monospace\"><span style=\"font-weight: bold\">{</span>\n",
       "    <span style=\"color: #008000; text-decoration-color: #008000\">\"entries\"</span>: <span style=\"font-weight: bold\">[</span>\n",
       "        <span style=\"font-weight: bold\">{</span>\n",
       "            <span style=\"color: #008000; text-decoration-color: #008000\">\"request\"</span>: <span style=\"color: #008000; text-decoration-color: #008000\">\"Una pel\\u00edcula de suspenso\"</span>,\n",
       "            <span style=\"color: #008000; text-decoration-color: #008000\">\"response\"</span>: <span style=\"color: #008000; text-decoration-color: #008000\">\"Recomendaciones:\\n\\n1. The Silence of the Lambs (1991, 4.5): Un thriller psicol\\u00f3gico </span>\n",
       "<span style=\"color: #008000; text-decoration-color: #008000\">que sigue a un equipo de detectives mientras investigan una serie de asesinatos terror\\u00edficios. Con </span>\n",
       "<span style=\"color: #008000; text-decoration-color: #008000\">interpretaci\\u00f3n destacada de Jodie Foster y Anthony Hopkins.\\n2. Se7en (1995, 4.3): Un drama polic\\u00edaco que</span>\n",
       "<span style=\"color: #008000; text-decoration-color: #008000\">sigue a dos detectives mientras intentan atrapar a un asesino en serie que est\\u00e1 cometiendo cr\\u00edmenes </span>\n",
       "<span style=\"color: #008000; text-decoration-color: #008000\">basados en los siete pecados capitales. Con interpretaci\\u00f3n destacada de Brad Pitt y Morgan Freeman.\\n3. The </span>\n",
       "<span style=\"color: #008000; text-decoration-color: #008000\">Prestige (2006, 4.1): Un drama de misterio que sigue a dos magos rivales mientras compiten por el amor de una mujer</span>\n",
       "<span style=\"color: #008000; text-decoration-color: #008000\">y por la supremac\\u00eda en el mundo del ilusionismo. Con interpretaci\\u00f3n destacada de Hugh Jackman y Christian</span>\n",
       "<span style=\"color: #008000; text-decoration-color: #008000\">Bale.\\n4. Memento (2000, 4.5): Un thriller psicol\\u00f3gico que sigue a un hombre con amnesia mientras intenta </span>\n",
       "<span style=\"color: #008000; text-decoration-color: #008000\">descubrir qui\\u00e9n mat\\u00f3 a su esposa y c\\u00f3mo est\\u00e1 relacionado con \\u00e9l. Con interpretaci\\u00f3n </span>\n",
       "<span style=\"color: #008000; text-decoration-color: #008000\">destacada de Guy Pearce.\\n5. The Girl with the Dragon Tattoo (2011, 4.3): Un thriller de misterio que sigue a un </span>\n",
       "<span style=\"color: #008000; text-decoration-color: #008000\">periodista y una hacker mientras investigan el asesinato de una mujer rica y el desaparici\\u00f3n de su hija. Con </span>\n",
       "<span style=\"color: #008000; text-decoration-color: #008000\">interpretaci\\u00f3n destacada de Daniel Craig y Rooney Mara.\\n\\nEspero que estas recomendaciones te ayuden a </span>\n",
       "<span style=\"color: #008000; text-decoration-color: #008000\">encontrar una pel\\u00edcula que te guste. Si no tienes informaci\\u00f3n sobre tus gustos, te sugiero ver \\\"The </span>\n",
       "<span style=\"color: #008000; text-decoration-color: #008000\">Silence of the Lambs\\\" o \\\"Se7en\\\", ya que son dos de las mejores pel\\u00edculas de suspenso de todos los </span>\n",
       "<span style=\"color: #008000; text-decoration-color: #008000\">tiempos.\"</span>,\n",
       "            <span style=\"color: #008000; text-decoration-color: #008000\">\"data\"</span>: <span style=\"font-weight: bold\">{</span>\n",
       "                <span style=\"color: #008000; text-decoration-color: #008000\">\"recommendations\"</span>: <span style=\"font-weight: bold\">[</span>\n",
       "                    <span style=\"font-weight: bold\">{</span>\n",
       "                        <span style=\"color: #008000; text-decoration-color: #008000\">\"title\"</span>: <span style=\"color: #008000; text-decoration-color: #008000\">\"The silence of the lambs\"</span>,\n",
       "                        <span style=\"color: #008000; text-decoration-color: #008000\">\"rating\"</span>: <span style=\"color: #008080; text-decoration-color: #008080; font-weight: bold\">4.5</span>,\n",
       "                        <span style=\"color: #008000; text-decoration-color: #008000\">\"description\"</span>: <span style=\"color: #008000; text-decoration-color: #008000\">\"Un thriller psicol\\u00f3gico que sigue a un equipo de detectives mientras </span>\n",
       "<span style=\"color: #008000; text-decoration-color: #008000\">investigan una serie de asesinatos terror\\u00edficios. con interpretaci\\u00f3n destacada de jodie foster y anthony </span>\n",
       "<span style=\"color: #008000; text-decoration-color: #008000\">hopkins.\"</span>,\n",
       "                        <span style=\"color: #008000; text-decoration-color: #008000\">\"release\"</span>: <span style=\"color: #008080; text-decoration-color: #008080; font-weight: bold\">1991</span>\n",
       "                    <span style=\"font-weight: bold\">}</span>,\n",
       "                    <span style=\"font-weight: bold\">{</span>\n",
       "                        <span style=\"color: #008000; text-decoration-color: #008000\">\"title\"</span>: <span style=\"color: #008000; text-decoration-color: #008000\">\"Memento\"</span>,\n",
       "                        <span style=\"color: #008000; text-decoration-color: #008000\">\"rating\"</span>: <span style=\"color: #008080; text-decoration-color: #008080; font-weight: bold\">4.5</span>,\n",
       "                        <span style=\"color: #008000; text-decoration-color: #008000\">\"description\"</span>: <span style=\"color: #008000; text-decoration-color: #008000\">\"Un thriller psicol\\u00f3gico que sigue a un hombre con amnesia mientras </span>\n",
       "<span style=\"color: #008000; text-decoration-color: #008000\">intenta descubrir qui\\u00e9n mat\\u00f3 a su esposa y c\\u00f3mo est\\u00e1 relacionado con \\u00e9l. con </span>\n",
       "<span style=\"color: #008000; text-decoration-color: #008000\">interpretaci\\u00f3n destacada de guy pearce.\"</span>,\n",
       "                        <span style=\"color: #008000; text-decoration-color: #008000\">\"release\"</span>: <span style=\"color: #008080; text-decoration-color: #008080; font-weight: bold\">2000</span>\n",
       "                    <span style=\"font-weight: bold\">}</span>,\n",
       "                    <span style=\"font-weight: bold\">{</span>\n",
       "                        <span style=\"color: #008000; text-decoration-color: #008000\">\"title\"</span>: <span style=\"color: #008000; text-decoration-color: #008000\">\"Se7en\"</span>,\n",
       "                        <span style=\"color: #008000; text-decoration-color: #008000\">\"rating\"</span>: <span style=\"color: #008080; text-decoration-color: #008080; font-weight: bold\">4.3</span>,\n",
       "                        <span style=\"color: #008000; text-decoration-color: #008000\">\"description\"</span>: <span style=\"color: #008000; text-decoration-color: #008000\">\"Un drama polic\\u00edaco que sigue a dos detectives mientras intentan </span>\n",
       "<span style=\"color: #008000; text-decoration-color: #008000\">atrapar a un asesino en serie que est\\u00e1 cometiendo cr\\u00edmenes basados en los siete pecados capitales. con </span>\n",
       "<span style=\"color: #008000; text-decoration-color: #008000\">interpretaci\\u00f3n destacada de brad pitt y morgan freeman.\"</span>,\n",
       "                        <span style=\"color: #008000; text-decoration-color: #008000\">\"release\"</span>: <span style=\"color: #008080; text-decoration-color: #008080; font-weight: bold\">1995</span>\n",
       "                    <span style=\"font-weight: bold\">}</span>,\n",
       "                    <span style=\"font-weight: bold\">{</span>\n",
       "                        <span style=\"color: #008000; text-decoration-color: #008000\">\"title\"</span>: <span style=\"color: #008000; text-decoration-color: #008000\">\"The girl with the dragon tattoo\"</span>,\n",
       "                        <span style=\"color: #008000; text-decoration-color: #008000\">\"rating\"</span>: <span style=\"color: #008080; text-decoration-color: #008080; font-weight: bold\">4.3</span>,\n",
       "                        <span style=\"color: #008000; text-decoration-color: #008000\">\"description\"</span>: <span style=\"color: #008000; text-decoration-color: #008000\">\"Un thriller de misterio que sigue a un periodista y una hacker mientras </span>\n",
       "<span style=\"color: #008000; text-decoration-color: #008000\">investigan el asesinato de una mujer rica y el desaparici\\u00f3n de su hija. con interpretaci\\u00f3n destacada de </span>\n",
       "<span style=\"color: #008000; text-decoration-color: #008000\">daniel craig y rooney mara.\\n\\nespero que estas recomendaciones te ayuden a encontrar una pel\\u00edcula que te </span>\n",
       "<span style=\"color: #008000; text-decoration-color: #008000\">guste. si no tienes informaci\\u00f3n sobre tus gustos, te sugiero ver \\\"the silence of the lambs\\\" o \\\"se7en\\\", ya </span>\n",
       "<span style=\"color: #008000; text-decoration-color: #008000\">que son dos de las mejores pel\\u00edculas de suspenso de todos los tiempos\"</span>,\n",
       "                        <span style=\"color: #008000; text-decoration-color: #008000\">\"release\"</span>: <span style=\"color: #008080; text-decoration-color: #008080; font-weight: bold\">2011</span>\n",
       "                    <span style=\"font-weight: bold\">}</span>,\n",
       "                    <span style=\"font-weight: bold\">{</span>\n",
       "                        <span style=\"color: #008000; text-decoration-color: #008000\">\"title\"</span>: <span style=\"color: #008000; text-decoration-color: #008000\">\"The prestige\"</span>,\n",
       "                        <span style=\"color: #008000; text-decoration-color: #008000\">\"rating\"</span>: <span style=\"color: #008080; text-decoration-color: #008080; font-weight: bold\">4.1</span>,\n",
       "                        <span style=\"color: #008000; text-decoration-color: #008000\">\"description\"</span>: <span style=\"color: #008000; text-decoration-color: #008000\">\"Un drama de misterio que sigue a dos magos rivales mientras compiten por el</span>\n",
       "<span style=\"color: #008000; text-decoration-color: #008000\">amor de una mujer y por la supremac\\u00eda en el mundo del ilusionismo. con interpretaci\\u00f3n destacada de hugh </span>\n",
       "<span style=\"color: #008000; text-decoration-color: #008000\">jackman y christian bale.\"</span>,\n",
       "                        <span style=\"color: #008000; text-decoration-color: #008000\">\"release\"</span>: <span style=\"color: #008080; text-decoration-color: #008080; font-weight: bold\">2006</span>\n",
       "                    <span style=\"font-weight: bold\">}</span>\n",
       "                <span style=\"font-weight: bold\">]</span>\n",
       "            <span style=\"font-weight: bold\">}</span>\n",
       "        <span style=\"font-weight: bold\">}</span>\n",
       "    <span style=\"font-weight: bold\">]</span>\n",
       "<span style=\"font-weight: bold\">}</span>\n",
       "</pre>\n"
      ],
      "text/plain": [
       "\u001b[1m{\u001b[0m\n",
       "    \u001b[32m\"entries\"\u001b[0m: \u001b[1m[\u001b[0m\n",
       "        \u001b[1m{\u001b[0m\n",
       "            \u001b[32m\"request\"\u001b[0m: \u001b[32m\"Una pel\\u00edcula de suspenso\"\u001b[0m,\n",
       "            \u001b[32m\"response\"\u001b[0m: \u001b[32m\"Recomendaciones:\\n\\n1. The Silence of the Lambs \u001b[0m\u001b[32m(\u001b[0m\u001b[32m1991, 4.5\u001b[0m\u001b[32m)\u001b[0m\u001b[32m: Un thriller psicol\\u00f3gico \u001b[0m\n",
       "\u001b[32mque sigue a un equipo de detectives mientras investigan una serie de asesinatos terror\\u00edficios. Con \u001b[0m\n",
       "\u001b[32minterpretaci\\u00f3n destacada de Jodie Foster y Anthony Hopkins.\\n2. Se7en \u001b[0m\u001b[32m(\u001b[0m\u001b[32m1995, 4.3\u001b[0m\u001b[32m)\u001b[0m\u001b[32m: Un drama polic\\u00edaco que\u001b[0m\n",
       "\u001b[32msigue a dos detectives mientras intentan atrapar a un asesino en serie que est\\u00e1 cometiendo cr\\u00edmenes \u001b[0m\n",
       "\u001b[32mbasados en los siete pecados capitales. Con interpretaci\\u00f3n destacada de Brad Pitt y Morgan Freeman.\\n3. The \u001b[0m\n",
       "\u001b[32mPrestige \u001b[0m\u001b[32m(\u001b[0m\u001b[32m2006, 4.1\u001b[0m\u001b[32m)\u001b[0m\u001b[32m: Un drama de misterio que sigue a dos magos rivales mientras compiten por el amor de una mujer\u001b[0m\n",
       "\u001b[32my por la supremac\\u00eda en el mundo del ilusionismo. Con interpretaci\\u00f3n destacada de Hugh Jackman y Christian\u001b[0m\n",
       "\u001b[32mBale.\\n4. Memento \u001b[0m\u001b[32m(\u001b[0m\u001b[32m2000, 4.5\u001b[0m\u001b[32m)\u001b[0m\u001b[32m: Un thriller psicol\\u00f3gico que sigue a un hombre con amnesia mientras intenta \u001b[0m\n",
       "\u001b[32mdescubrir qui\\u00e9n mat\\u00f3 a su esposa y c\\u00f3mo est\\u00e1 relacionado con \\u00e9l. Con interpretaci\\u00f3n \u001b[0m\n",
       "\u001b[32mdestacada de Guy Pearce.\\n5. The Girl with the Dragon Tattoo \u001b[0m\u001b[32m(\u001b[0m\u001b[32m2011, 4.3\u001b[0m\u001b[32m)\u001b[0m\u001b[32m: Un thriller de misterio que sigue a un \u001b[0m\n",
       "\u001b[32mperiodista y una hacker mientras investigan el asesinato de una mujer rica y el desaparici\\u00f3n de su hija. Con \u001b[0m\n",
       "\u001b[32minterpretaci\\u00f3n destacada de Daniel Craig y Rooney Mara.\\n\\nEspero que estas recomendaciones te ayuden a \u001b[0m\n",
       "\u001b[32mencontrar una pel\\u00edcula que te guste. Si no tienes informaci\\u00f3n sobre tus gustos, te sugiero ver \\\"The \u001b[0m\n",
       "\u001b[32mSilence of the Lambs\\\" o \\\"Se7en\\\", ya que son dos de las mejores pel\\u00edculas de suspenso de todos los \u001b[0m\n",
       "\u001b[32mtiempos.\"\u001b[0m,\n",
       "            \u001b[32m\"data\"\u001b[0m: \u001b[1m{\u001b[0m\n",
       "                \u001b[32m\"recommendations\"\u001b[0m: \u001b[1m[\u001b[0m\n",
       "                    \u001b[1m{\u001b[0m\n",
       "                        \u001b[32m\"title\"\u001b[0m: \u001b[32m\"The silence of the lambs\"\u001b[0m,\n",
       "                        \u001b[32m\"rating\"\u001b[0m: \u001b[1;36m4.5\u001b[0m,\n",
       "                        \u001b[32m\"description\"\u001b[0m: \u001b[32m\"Un thriller psicol\\u00f3gico que sigue a un equipo de detectives mientras \u001b[0m\n",
       "\u001b[32minvestigan una serie de asesinatos terror\\u00edficios. con interpretaci\\u00f3n destacada de jodie foster y anthony \u001b[0m\n",
       "\u001b[32mhopkins.\"\u001b[0m,\n",
       "                        \u001b[32m\"release\"\u001b[0m: \u001b[1;36m1991\u001b[0m\n",
       "                    \u001b[1m}\u001b[0m,\n",
       "                    \u001b[1m{\u001b[0m\n",
       "                        \u001b[32m\"title\"\u001b[0m: \u001b[32m\"Memento\"\u001b[0m,\n",
       "                        \u001b[32m\"rating\"\u001b[0m: \u001b[1;36m4.5\u001b[0m,\n",
       "                        \u001b[32m\"description\"\u001b[0m: \u001b[32m\"Un thriller psicol\\u00f3gico que sigue a un hombre con amnesia mientras \u001b[0m\n",
       "\u001b[32mintenta descubrir qui\\u00e9n mat\\u00f3 a su esposa y c\\u00f3mo est\\u00e1 relacionado con \\u00e9l. con \u001b[0m\n",
       "\u001b[32minterpretaci\\u00f3n destacada de guy pearce.\"\u001b[0m,\n",
       "                        \u001b[32m\"release\"\u001b[0m: \u001b[1;36m2000\u001b[0m\n",
       "                    \u001b[1m}\u001b[0m,\n",
       "                    \u001b[1m{\u001b[0m\n",
       "                        \u001b[32m\"title\"\u001b[0m: \u001b[32m\"Se7en\"\u001b[0m,\n",
       "                        \u001b[32m\"rating\"\u001b[0m: \u001b[1;36m4.3\u001b[0m,\n",
       "                        \u001b[32m\"description\"\u001b[0m: \u001b[32m\"Un drama polic\\u00edaco que sigue a dos detectives mientras intentan \u001b[0m\n",
       "\u001b[32matrapar a un asesino en serie que est\\u00e1 cometiendo cr\\u00edmenes basados en los siete pecados capitales. con \u001b[0m\n",
       "\u001b[32minterpretaci\\u00f3n destacada de brad pitt y morgan freeman.\"\u001b[0m,\n",
       "                        \u001b[32m\"release\"\u001b[0m: \u001b[1;36m1995\u001b[0m\n",
       "                    \u001b[1m}\u001b[0m,\n",
       "                    \u001b[1m{\u001b[0m\n",
       "                        \u001b[32m\"title\"\u001b[0m: \u001b[32m\"The girl with the dragon tattoo\"\u001b[0m,\n",
       "                        \u001b[32m\"rating\"\u001b[0m: \u001b[1;36m4.3\u001b[0m,\n",
       "                        \u001b[32m\"description\"\u001b[0m: \u001b[32m\"Un thriller de misterio que sigue a un periodista y una hacker mientras \u001b[0m\n",
       "\u001b[32minvestigan el asesinato de una mujer rica y el desaparici\\u00f3n de su hija. con interpretaci\\u00f3n destacada de \u001b[0m\n",
       "\u001b[32mdaniel craig y rooney mara.\\n\\nespero que estas recomendaciones te ayuden a encontrar una pel\\u00edcula que te \u001b[0m\n",
       "\u001b[32mguste. si no tienes informaci\\u00f3n sobre tus gustos, te sugiero ver \\\"the silence of the lambs\\\" o \\\"se7en\\\", ya \u001b[0m\n",
       "\u001b[32mque son dos de las mejores pel\\u00edculas de suspenso de todos los tiempos\"\u001b[0m,\n",
       "                        \u001b[32m\"release\"\u001b[0m: \u001b[1;36m2011\u001b[0m\n",
       "                    \u001b[1m}\u001b[0m,\n",
       "                    \u001b[1m{\u001b[0m\n",
       "                        \u001b[32m\"title\"\u001b[0m: \u001b[32m\"The prestige\"\u001b[0m,\n",
       "                        \u001b[32m\"rating\"\u001b[0m: \u001b[1;36m4.1\u001b[0m,\n",
       "                        \u001b[32m\"description\"\u001b[0m: \u001b[32m\"Un drama de misterio que sigue a dos magos rivales mientras compiten por el\u001b[0m\n",
       "\u001b[32mamor de una mujer y por la supremac\\u00eda en el mundo del ilusionismo. con interpretaci\\u00f3n destacada de hugh \u001b[0m\n",
       "\u001b[32mjackman y christian bale.\"\u001b[0m,\n",
       "                        \u001b[32m\"release\"\u001b[0m: \u001b[1;36m2006\u001b[0m\n",
       "                    \u001b[1m}\u001b[0m\n",
       "                \u001b[1m]\u001b[0m\n",
       "            \u001b[1m}\u001b[0m\n",
       "        \u001b[1m}\u001b[0m\n",
       "    \u001b[1m]\u001b[0m\n",
       "\u001b[1m}\u001b[0m\n"
      ]
     },
     "metadata": {},
     "output_type": "display_data"
    }
   ],
   "source": [
    "print(history)"
   ]
  },
  {
   "cell_type": "code",
   "execution_count": null,
   "id": "3e7a5bc8-6337-4d0c-b805-65f4fcd24911",
   "metadata": {},
   "outputs": [],
   "source": []
  }
 ],
 "metadata": {
  "kernelspec": {
   "display_name": "Python 3 (ipykernel)",
   "language": "python",
   "name": "python3"
  },
  "language_info": {
   "codemirror_mode": {
    "name": "ipython",
    "version": 3
   },
   "file_extension": ".py",
   "mimetype": "text/x-python",
   "name": "python",
   "nbconvert_exporter": "python",
   "pygments_lexer": "ipython3",
   "version": "3.10.13"
  },
  "widgets": {
   "application/vnd.jupyter.widget-state+json": {
    "state": {},
    "version_major": 2,
    "version_minor": 0
   }
  }
 },
 "nbformat": 4,
 "nbformat_minor": 5
}
