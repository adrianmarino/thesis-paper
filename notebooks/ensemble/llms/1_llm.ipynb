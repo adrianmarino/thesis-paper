{
 "cells": [
  {
   "cell_type": "markdown",
   "id": "0417277b-47df-4113-a7b3-8f960db06f1d",
   "metadata": {
    "tags": []
   },
   "source": [
    "# Modelos: LLM"
   ]
  },
  {
   "cell_type": "markdown",
   "id": "eef46fb7-b5c8-47e8-b90a-99a1c3027f4b",
   "metadata": {
    "tags": []
   },
   "source": [
    "### Papers\n",
    "\n",
    "* [Chat-REC: Towards Interactive and Explainable\n",
    "LLMs-Augmented Recommender System](https://github.com/adrianmarino/thesis-paper/blob/master/docs/ideas/2303.14524.pdf)\n",
    "* [Large Language Models as Zero-Shot Conversational\n",
    "Recommenders](https://github.com/adrianmarino/thesis-paper/blob/master/docs/ideas/3583780.3614949.pdf)\n",
    "* [Large Language Models are Competitive Near Cold-start\n",
    "Recommenders for Language- and Item-based Preferences](https://github.com/adrianmarino/thesis-paper/blob/master/docs/ideas/3604915.3608845.pdf)\n",
    "\n",
    "### Implementation\n",
    "\n",
    "* [Langchain Quickstart](https://python.langchain.com/docs/integrations/llms/ollama)\n",
    "* [Langchain Ollama](https://python.langchain.com/docs/integrations/llms/ollama)\n",
    "* [Langchain Agents](https://python.langchain.com/docs/modules/agents/)\n",
    "* [Ollama Model File](https://github.com/jmorganca/ollama/blob/main/docs/modelfile.md)"
   ]
  },
  {
   "cell_type": "code",
   "execution_count": 1,
   "id": "35e430dd-e279-4258-82a4-6b7a1347304b",
   "metadata": {},
   "outputs": [],
   "source": [
    "%load_ext autoreload\n",
    "%autoreload 2"
   ]
  },
  {
   "cell_type": "code",
   "execution_count": 2,
   "id": "834b2f2d-4103-4cf5-880d-10404d8ec7d3",
   "metadata": {},
   "outputs": [],
   "source": [
    "BASE_PATH             = '../../..'\n",
    "LIB_PATH              = f'{BASE_PATH}/lib'\n",
    "DATASET_PATH          = f'{BASE_PATH}/datasets'"
   ]
  },
  {
   "cell_type": "code",
   "execution_count": 4,
   "id": "f98e7bf4-f41a-43f6-b7b7-a991d00f82de",
   "metadata": {},
   "outputs": [],
   "source": [
    "import sys\n",
    "sys.path.append(LIB_PATH)\n",
    "\n",
    "import numpy as np\n",
    "import pandas as pd\n",
    "\n",
    "import util as ut\n",
    "\n",
    "import model as ml"
   ]
  },
  {
   "cell_type": "markdown",
   "id": "c2b2aa52-be91-4ff8-b9d6-52b525bec2ca",
   "metadata": {},
   "source": [
    "## Setup"
   ]
  },
  {
   "cell_type": "code",
   "execution_count": 5,
   "id": "3a3e6040-f06b-4cb3-941a-a22d18507bf2",
   "metadata": {
    "tags": []
   },
   "outputs": [],
   "source": [
    "# !sudo systemctl enable ollama\n",
    "# !sudo systemctl restart ollamaff"
   ]
  },
  {
   "cell_type": "markdown",
   "id": "ea31251c-b16e-4162-af8a-a9cef8ecfa4f",
   "metadata": {},
   "source": [
    "## Create model"
   ]
  },
  {
   "cell_type": "markdown",
   "id": "f712184a-5e2e-41ee-bbd9-a1f846f586aa",
   "metadata": {},
   "source": [
    "Model definition:"
   ]
  },
  {
   "cell_type": "code",
   "execution_count": 6,
   "id": "4601105b-c18c-4799-86f7-a64305951985",
   "metadata": {
    "tags": []
   },
   "outputs": [
    {
     "name": "stdout",
     "output_type": "stream",
     "text": [
      "FROM llama2\n",
      "\n",
      "# set the temperature to 1 [higher is more creative, lower is more coherent]\n",
      "PARAMETER temperature 0.3\n",
      "\n",
      "PARAMETER num_gpu 200\n",
      "\n",
      "PARAMETER num_thread 24\n",
      "\n",
      "# set the system message\n",
      "SYSTEM \"\"\"\n",
      "\"\"\""
     ]
    }
   ],
   "source": [
    "! cat ./Modelfile.movie_recommender"
   ]
  },
  {
   "cell_type": "code",
   "execution_count": 7,
   "id": "f5a4fcf2-d3dd-412f-8d5f-d150ae932b8e",
   "metadata": {
    "tags": []
   },
   "outputs": [],
   "source": [
    "# !sudo ollama create default -f ./Modelfile.movie_recommender"
   ]
  },
  {
   "cell_type": "markdown",
   "id": "a174ca94-3b34-4c13-8159-2765c267b0eb",
   "metadata": {},
   "source": [
    "## Model Inference"
   ]
  },
  {
   "cell_type": "code",
   "execution_count": 16,
   "id": "f0dcb73d-6007-4d00-899f-8201bb273610",
   "metadata": {},
   "outputs": [],
   "source": [
    "chat_bot = ml.MovieRecommenderChatBotFactory.create()"
   ]
  },
  {
   "cell_type": "code",
   "execution_count": 17,
   "id": "14156ef5-3c1c-4410-8d52-a0d85aa26ef5",
   "metadata": {},
   "outputs": [
    {
     "name": "stdin",
     "output_type": "stream",
     "text": [
      "\n",
      "¿Que querés que te recomiende hoy? ('\\bye' para finalizar)\n",
      "\n",
      " accion\n"
     ]
    },
    {
     "name": "stdout",
     "output_type": "stream",
     "text": [
      "\n",
      "\n",
      "Recomendaciones:\n",
      "\n",
      "1. El Laberinto del Fauno (2006, 4.5): Dirigida por Guillermo del Toro, esta película de fantasía y drama es una obra maestra que combina elementos de la literatura y la historia para crear un mundo imaginativo y emocionante.\n",
      "2. La Laurel y Hardy: El gran caco (1930, 4.8): Esta comedia clásica de Stan Laurel y Oliver Hardy es una de las mejores películas de la historia del cine, con diálogos graciosos y situaciones absurdas que aún hoy en día siguen siendo relevantes.\n",
      "3. 12 Angry Men (1957, 4.6): Esta película de drama y suspense es una obra maestra de la dirección de Sidney Lumet, que explora el poder del debate y la discusión para encontrar la verdad. La actuación de los actores es excepcional, y la trama es emocionante desde el principio hasta el final.\n",
      "4. Schindler's List (1993, 4.8): Dirigida por Steven Spielberg, esta película de historia y drama es una obra maestra que narra la historia real de Oskar Schindler, un empresario alemán que salvó a miles de judíos del Holocausto durante la Segunda Guerra Mundial. La actuación de Liam Neeson es excepcional, y la dirección de Spielberg es impresionante.\n",
      "5. Citizen Kane (1941, 4.7): Dirigida por Orson Welles, esta película de drama y suspense es considerada una de las mejores películas de la historia del cine. La actuación de Welles es excepcional, y la dirección es innovadora y emocionante. La trama sigue la vida de un hombre rico y poderoso que lucha por mantener su influencia en el mundo de los negocios y la política."
     ]
    },
    {
     "name": "stdin",
     "output_type": "stream",
     "text": [
      "\n",
      "¿Que querés que te recomiende hoy? ('\\bye' para finalizar)\n",
      "\n",
      " \\bye\n"
     ]
    },
    {
     "data": {
      "text/html": [
       "<pre style=\"white-space:pre;overflow-x:auto;line-height:normal;font-family:Menlo,'DejaVu Sans Mono',consolas,'Courier New',monospace\"><span style=\"font-weight: bold\">[</span>\n",
       "    <span style=\"font-weight: bold\">{</span>\n",
       "        <span style=\"color: #008000; text-decoration-color: #008000\">'recommendations'</span>: <span style=\"font-weight: bold\">[</span>\n",
       "            <span style=\"font-weight: bold\">{</span>\n",
       "                <span style=\"color: #008000; text-decoration-color: #008000\">'position'</span>: <span style=\"color: #008080; text-decoration-color: #008080; font-weight: bold\">1</span>,\n",
       "                <span style=\"color: #008000; text-decoration-color: #008000\">'title'</span>: <span style=\"color: #008000; text-decoration-color: #008000\">'El laberinto del fauno'</span>,\n",
       "                <span style=\"color: #008000; text-decoration-color: #008000\">'release'</span>: <span style=\"color: #008080; text-decoration-color: #008080; font-weight: bold\">2006</span>,\n",
       "                <span style=\"color: #008000; text-decoration-color: #008000\">'rating'</span>: <span style=\"color: #008080; text-decoration-color: #008080; font-weight: bold\">4.5</span>,\n",
       "                <span style=\"color: #008000; text-decoration-color: #008000\">'description'</span>: <span style=\"color: #008000; text-decoration-color: #008000\">'Dirigida por guillermo del toro, esta película de fantasía y drama es una obra </span>\n",
       "<span style=\"color: #008000; text-decoration-color: #008000\">maestra que combina elementos de la literatura y la historia para crear un mundo imaginativo y emocionante.'</span>\n",
       "            <span style=\"font-weight: bold\">}</span>,\n",
       "            <span style=\"font-weight: bold\">{</span>\n",
       "                <span style=\"color: #008000; text-decoration-color: #008000\">'position'</span>: <span style=\"color: #008080; text-decoration-color: #008080; font-weight: bold\">2</span>,\n",
       "                <span style=\"color: #008000; text-decoration-color: #008000\">'title'</span>: <span style=\"color: #008000; text-decoration-color: #008000\">'La laurel y hardy: el gran caco'</span>,\n",
       "                <span style=\"color: #008000; text-decoration-color: #008000\">'release'</span>: <span style=\"color: #008080; text-decoration-color: #008080; font-weight: bold\">1930</span>,\n",
       "                <span style=\"color: #008000; text-decoration-color: #008000\">'rating'</span>: <span style=\"color: #008080; text-decoration-color: #008080; font-weight: bold\">4.8</span>,\n",
       "                <span style=\"color: #008000; text-decoration-color: #008000\">'description'</span>: <span style=\"color: #008000; text-decoration-color: #008000\">'Esta comedia clásica de stan laurel y oliver hardy es una de las mejores películas </span>\n",
       "<span style=\"color: #008000; text-decoration-color: #008000\">de la historia del cine, con diálogos graciosos y situaciones absurdas que aún hoy en día siguen siendo </span>\n",
       "<span style=\"color: #008000; text-decoration-color: #008000\">relevantes.'</span>\n",
       "            <span style=\"font-weight: bold\">}</span>,\n",
       "            <span style=\"font-weight: bold\">{</span>\n",
       "                <span style=\"color: #008000; text-decoration-color: #008000\">'position'</span>: <span style=\"color: #008080; text-decoration-color: #008080; font-weight: bold\">3</span>,\n",
       "                <span style=\"color: #008000; text-decoration-color: #008000\">'title'</span>: <span style=\"color: #008000; text-decoration-color: #008000\">'12 angry men'</span>,\n",
       "                <span style=\"color: #008000; text-decoration-color: #008000\">'release'</span>: <span style=\"color: #008080; text-decoration-color: #008080; font-weight: bold\">1957</span>,\n",
       "                <span style=\"color: #008000; text-decoration-color: #008000\">'rating'</span>: <span style=\"color: #008080; text-decoration-color: #008080; font-weight: bold\">4.6</span>,\n",
       "                <span style=\"color: #008000; text-decoration-color: #008000\">'description'</span>: <span style=\"color: #008000; text-decoration-color: #008000\">'Esta película de drama y suspense es una obra maestra de la dirección de sidney </span>\n",
       "<span style=\"color: #008000; text-decoration-color: #008000\">lumet, que explora el poder del debate y la discusión para encontrar la verdad. la actuación de los actores es </span>\n",
       "<span style=\"color: #008000; text-decoration-color: #008000\">excepcional, y la trama es emocionante desde el principio hasta el final.'</span>\n",
       "            <span style=\"font-weight: bold\">}</span>,\n",
       "            <span style=\"font-weight: bold\">{</span>\n",
       "                <span style=\"color: #008000; text-decoration-color: #008000\">'position'</span>: <span style=\"color: #008080; text-decoration-color: #008080; font-weight: bold\">4</span>,\n",
       "                <span style=\"color: #008000; text-decoration-color: #008000\">'title'</span>: <span style=\"color: #008000; text-decoration-color: #008000\">\"Schindler's list\"</span>,\n",
       "                <span style=\"color: #008000; text-decoration-color: #008000\">'release'</span>: <span style=\"color: #008080; text-decoration-color: #008080; font-weight: bold\">1993</span>,\n",
       "                <span style=\"color: #008000; text-decoration-color: #008000\">'rating'</span>: <span style=\"color: #008080; text-decoration-color: #008080; font-weight: bold\">4.8</span>,\n",
       "                <span style=\"color: #008000; text-decoration-color: #008000\">'description'</span>: <span style=\"color: #008000; text-decoration-color: #008000\">'Dirigida por steven spielberg, esta película de historia y drama es una obra </span>\n",
       "<span style=\"color: #008000; text-decoration-color: #008000\">maestra que narra la historia real de oskar schindler, un empresario alemán que salvó a miles de judíos del </span>\n",
       "<span style=\"color: #008000; text-decoration-color: #008000\">holocausto durante la segunda guerra mundial. la actuación de liam neeson es excepcional, y la dirección de </span>\n",
       "<span style=\"color: #008000; text-decoration-color: #008000\">spielberg es impresionante.'</span>\n",
       "            <span style=\"font-weight: bold\">}</span>,\n",
       "            <span style=\"font-weight: bold\">{</span>\n",
       "                <span style=\"color: #008000; text-decoration-color: #008000\">'position'</span>: <span style=\"color: #008080; text-decoration-color: #008080; font-weight: bold\">5</span>,\n",
       "                <span style=\"color: #008000; text-decoration-color: #008000\">'title'</span>: <span style=\"color: #008000; text-decoration-color: #008000\">'Citizen kane'</span>,\n",
       "                <span style=\"color: #008000; text-decoration-color: #008000\">'release'</span>: <span style=\"color: #008080; text-decoration-color: #008080; font-weight: bold\">1941</span>,\n",
       "                <span style=\"color: #008000; text-decoration-color: #008000\">'rating'</span>: <span style=\"color: #008080; text-decoration-color: #008080; font-weight: bold\">4.7</span>,\n",
       "                <span style=\"color: #008000; text-decoration-color: #008000\">'description'</span>: <span style=\"color: #008000; text-decoration-color: #008000\">'Dirigida por orson welles, esta película de drama y suspense es considerada una de </span>\n",
       "<span style=\"color: #008000; text-decoration-color: #008000\">las mejores películas de la historia del cine. la actuación de welles es excepcional, y la dirección es innovadora </span>\n",
       "<span style=\"color: #008000; text-decoration-color: #008000\">y emocionante. la trama sigue la vida de un hombre rico y poderoso que lucha por mantener su influencia en el mundo</span>\n",
       "<span style=\"color: #008000; text-decoration-color: #008000\">de los negocios y la política'</span>\n",
       "            <span style=\"font-weight: bold\">}</span>\n",
       "        <span style=\"font-weight: bold\">]</span>\n",
       "    <span style=\"font-weight: bold\">}</span>\n",
       "<span style=\"font-weight: bold\">]</span>\n",
       "</pre>\n"
      ],
      "text/plain": [
       "\u001b[1m[\u001b[0m\n",
       "    \u001b[1m{\u001b[0m\n",
       "        \u001b[32m'recommendations'\u001b[0m: \u001b[1m[\u001b[0m\n",
       "            \u001b[1m{\u001b[0m\n",
       "                \u001b[32m'position'\u001b[0m: \u001b[1;36m1\u001b[0m,\n",
       "                \u001b[32m'title'\u001b[0m: \u001b[32m'El laberinto del fauno'\u001b[0m,\n",
       "                \u001b[32m'release'\u001b[0m: \u001b[1;36m2006\u001b[0m,\n",
       "                \u001b[32m'rating'\u001b[0m: \u001b[1;36m4.5\u001b[0m,\n",
       "                \u001b[32m'description'\u001b[0m: \u001b[32m'Dirigida por guillermo del toro, esta película de fantasía y drama es una obra \u001b[0m\n",
       "\u001b[32mmaestra que combina elementos de la literatura y la historia para crear un mundo imaginativo y emocionante.'\u001b[0m\n",
       "            \u001b[1m}\u001b[0m,\n",
       "            \u001b[1m{\u001b[0m\n",
       "                \u001b[32m'position'\u001b[0m: \u001b[1;36m2\u001b[0m,\n",
       "                \u001b[32m'title'\u001b[0m: \u001b[32m'La laurel y hardy: el gran caco'\u001b[0m,\n",
       "                \u001b[32m'release'\u001b[0m: \u001b[1;36m1930\u001b[0m,\n",
       "                \u001b[32m'rating'\u001b[0m: \u001b[1;36m4.8\u001b[0m,\n",
       "                \u001b[32m'description'\u001b[0m: \u001b[32m'Esta comedia clásica de stan laurel y oliver hardy es una de las mejores películas \u001b[0m\n",
       "\u001b[32mde la historia del cine, con diálogos graciosos y situaciones absurdas que aún hoy en día siguen siendo \u001b[0m\n",
       "\u001b[32mrelevantes.'\u001b[0m\n",
       "            \u001b[1m}\u001b[0m,\n",
       "            \u001b[1m{\u001b[0m\n",
       "                \u001b[32m'position'\u001b[0m: \u001b[1;36m3\u001b[0m,\n",
       "                \u001b[32m'title'\u001b[0m: \u001b[32m'12 angry men'\u001b[0m,\n",
       "                \u001b[32m'release'\u001b[0m: \u001b[1;36m1957\u001b[0m,\n",
       "                \u001b[32m'rating'\u001b[0m: \u001b[1;36m4.6\u001b[0m,\n",
       "                \u001b[32m'description'\u001b[0m: \u001b[32m'Esta película de drama y suspense es una obra maestra de la dirección de sidney \u001b[0m\n",
       "\u001b[32mlumet, que explora el poder del debate y la discusión para encontrar la verdad. la actuación de los actores es \u001b[0m\n",
       "\u001b[32mexcepcional, y la trama es emocionante desde el principio hasta el final.'\u001b[0m\n",
       "            \u001b[1m}\u001b[0m,\n",
       "            \u001b[1m{\u001b[0m\n",
       "                \u001b[32m'position'\u001b[0m: \u001b[1;36m4\u001b[0m,\n",
       "                \u001b[32m'title'\u001b[0m: \u001b[32m\"Schindler's list\"\u001b[0m,\n",
       "                \u001b[32m'release'\u001b[0m: \u001b[1;36m1993\u001b[0m,\n",
       "                \u001b[32m'rating'\u001b[0m: \u001b[1;36m4.8\u001b[0m,\n",
       "                \u001b[32m'description'\u001b[0m: \u001b[32m'Dirigida por steven spielberg, esta película de historia y drama es una obra \u001b[0m\n",
       "\u001b[32mmaestra que narra la historia real de oskar schindler, un empresario alemán que salvó a miles de judíos del \u001b[0m\n",
       "\u001b[32mholocausto durante la segunda guerra mundial. la actuación de liam neeson es excepcional, y la dirección de \u001b[0m\n",
       "\u001b[32mspielberg es impresionante.'\u001b[0m\n",
       "            \u001b[1m}\u001b[0m,\n",
       "            \u001b[1m{\u001b[0m\n",
       "                \u001b[32m'position'\u001b[0m: \u001b[1;36m5\u001b[0m,\n",
       "                \u001b[32m'title'\u001b[0m: \u001b[32m'Citizen kane'\u001b[0m,\n",
       "                \u001b[32m'release'\u001b[0m: \u001b[1;36m1941\u001b[0m,\n",
       "                \u001b[32m'rating'\u001b[0m: \u001b[1;36m4.7\u001b[0m,\n",
       "                \u001b[32m'description'\u001b[0m: \u001b[32m'Dirigida por orson welles, esta película de drama y suspense es considerada una de \u001b[0m\n",
       "\u001b[32mlas mejores películas de la historia del cine. la actuación de welles es excepcional, y la dirección es innovadora \u001b[0m\n",
       "\u001b[32my emocionante. la trama sigue la vida de un hombre rico y poderoso que lucha por mantener su influencia en el mundo\u001b[0m\n",
       "\u001b[32mde los negocios y la política'\u001b[0m\n",
       "            \u001b[1m}\u001b[0m\n",
       "        \u001b[1m]\u001b[0m\n",
       "    \u001b[1m}\u001b[0m\n",
       "\u001b[1m]\u001b[0m\n"
      ]
     },
     "metadata": {},
     "output_type": "display_data"
    }
   ],
   "source": [
    "print(chat_bot.start())"
   ]
  },
  {
   "cell_type": "code",
   "execution_count": null,
   "id": "cbd8f4e9-4657-4195-97b7-ceae23b54e3c",
   "metadata": {},
   "outputs": [],
   "source": []
  }
 ],
 "metadata": {
  "kernelspec": {
   "display_name": "Python 3 (ipykernel)",
   "language": "python",
   "name": "python3"
  },
  "language_info": {
   "codemirror_mode": {
    "name": "ipython",
    "version": 3
   },
   "file_extension": ".py",
   "mimetype": "text/x-python",
   "name": "python",
   "nbconvert_exporter": "python",
   "pygments_lexer": "ipython3",
   "version": "3.10.13"
  },
  "widgets": {
   "application/vnd.jupyter.widget-state+json": {
    "state": {},
    "version_major": 2,
    "version_minor": 0
   }
  }
 },
 "nbformat": 4,
 "nbformat_minor": 5
}
