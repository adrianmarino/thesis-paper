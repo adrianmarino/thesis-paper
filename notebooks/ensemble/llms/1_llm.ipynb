{
 "cells": [
  {
   "cell_type": "markdown",
   "id": "0417277b-47df-4113-a7b3-8f960db06f1d",
   "metadata": {
    "tags": []
   },
   "source": [
    "# Modelos: LLM"
   ]
  },
  {
   "cell_type": "markdown",
   "id": "eef46fb7-b5c8-47e8-b90a-99a1c3027f4b",
   "metadata": {
    "tags": []
   },
   "source": [
    "### Papers\n",
    "\n",
    "* [Chat-REC: Towards Interactive and Explainable\n",
    "LLMs-Augmented Recommender System](https://github.com/adrianmarino/thesis-paper/blob/master/docs/ideas/2303.14524.pdf)\n",
    "* [Large Language Models as Zero-Shot Conversational\n",
    "Recommenders](https://github.com/adrianmarino/thesis-paper/blob/master/docs/ideas/3583780.3614949.pdf)\n",
    "* [Large Language Models are Competitive Near Cold-start\n",
    "Recommenders for Language- and Item-based Preferences](https://github.com/adrianmarino/thesis-paper/blob/master/docs/ideas/3604915.3608845.pdf)\n",
    "\n",
    "### Implementation\n",
    "\n",
    "* [Langchain Quickstart](https://python.langchain.com/docs/integrations/llms/ollama)\n",
    "* [Langchain Ollama](https://python.langchain.com/docs/integrations/llms/ollama)\n",
    "* [Langchain Agents](https://python.langchain.com/docs/modules/agents/)\n",
    "* [Ollama Model File](https://github.com/jmorganca/ollama/blob/main/docs/modelfile.md)"
   ]
  },
  {
   "cell_type": "code",
   "execution_count": 1,
   "id": "35e430dd-e279-4258-82a4-6b7a1347304b",
   "metadata": {},
   "outputs": [],
   "source": [
    "%load_ext autoreload\n",
    "%autoreload 2"
   ]
  },
  {
   "cell_type": "code",
   "execution_count": 2,
   "id": "834b2f2d-4103-4cf5-880d-10404d8ec7d3",
   "metadata": {},
   "outputs": [],
   "source": [
    "BASE_PATH             = '../../..'\n",
    "LIB_PATH              = f'{BASE_PATH}/lib'\n",
    "DATASET_PATH          = f'{BASE_PATH}/datasets'"
   ]
  },
  {
   "cell_type": "code",
   "execution_count": 3,
   "id": "f98e7bf4-f41a-43f6-b7b7-a991d00f82de",
   "metadata": {},
   "outputs": [
    {
     "name": "stderr",
     "output_type": "stream",
     "text": [
      "2023-12-19 14:29:45.171414: I tensorflow/core/platform/cpu_feature_guard.cc:182] This TensorFlow binary is optimized to use available CPU instructions in performance-critical operations.\n",
      "To enable the following instructions: AVX2 FMA, in other operations, rebuild TensorFlow with the appropriate compiler flags.\n",
      "2023-12-19 14:29:45.570691: W tensorflow/compiler/tf2tensorrt/utils/py_utils.cc:38] TF-TRT Warning: Could not find TensorRT\n",
      "2023-12-19 14:29:45.963534: I tensorflow/compiler/xla/stream_executor/cuda/cuda_gpu_executor.cc:996] successful NUMA node read from SysFS had negative value (-1), but there must be at least one NUMA node, so returning NUMA node zero. See more at https://github.com/torvalds/linux/blob/v6.0/Documentation/ABI/testing/sysfs-bus-pci#L344-L355\n",
      "2023-12-19 14:29:45.974901: W tensorflow/core/common_runtime/gpu/gpu_device.cc:1956] Cannot dlopen some GPU libraries. Please make sure the missing libraries mentioned above are installed properly if you would like to use GPU. Follow the guide at https://www.tensorflow.org/install/gpu for how to download and setup the required libraries for your platform.\n",
      "Skipping registering GPU devices...\n"
     ]
    },
    {
     "data": {
      "text/plain": [
       "<Figure size 640x480 with 0 Axes>"
      ]
     },
     "metadata": {},
     "output_type": "display_data"
    }
   ],
   "source": [
    "import sys\n",
    "sys.path.append(LIB_PATH)\n",
    "\n",
    "import numpy as np\n",
    "import pandas as pd\n",
    "\n",
    "import util as ut\n",
    "\n",
    "from model.llm import MovieRecommenderChatBot"
   ]
  },
  {
   "cell_type": "markdown",
   "id": "c2b2aa52-be91-4ff8-b9d6-52b525bec2ca",
   "metadata": {},
   "source": [
    "## Setup"
   ]
  },
  {
   "cell_type": "code",
   "execution_count": 4,
   "id": "3a3e6040-f06b-4cb3-941a-a22d18507bf2",
   "metadata": {
    "tags": []
   },
   "outputs": [],
   "source": [
    "# !sudo systemctl enable ollama\n",
    "# !sudo systemctl restart ollamaff"
   ]
  },
  {
   "cell_type": "markdown",
   "id": "ea31251c-b16e-4162-af8a-a9cef8ecfa4f",
   "metadata": {},
   "source": [
    "## Create model"
   ]
  },
  {
   "cell_type": "markdown",
   "id": "f712184a-5e2e-41ee-bbd9-a1f846f586aa",
   "metadata": {},
   "source": [
    "Model definition:"
   ]
  },
  {
   "cell_type": "code",
   "execution_count": 9,
   "id": "4601105b-c18c-4799-86f7-a64305951985",
   "metadata": {
    "tags": []
   },
   "outputs": [
    {
     "name": "stdout",
     "output_type": "stream",
     "text": [
      "FROM llama2\n",
      "\n",
      "# set the temperature to 1 [higher is more creative, lower is more coherent]\n",
      "PARAMETER temperature 0.3\n",
      "\n",
      "PARAMETER num_gpu 200\n",
      "\n",
      "PARAMETER num_thread 24\n",
      "\n",
      "# set the system message\n",
      "SYSTEM \"\"\"\n",
      "\"\"\""
     ]
    }
   ],
   "source": [
    "! cat ./Modelfile.movie_recommender"
   ]
  },
  {
   "cell_type": "code",
   "execution_count": 6,
   "id": "f5a4fcf2-d3dd-412f-8d5f-d150ae932b8e",
   "metadata": {
    "tags": []
   },
   "outputs": [],
   "source": [
    "# !sudo ollama create default -f ./Modelfile.movie_recommender"
   ]
  },
  {
   "cell_type": "markdown",
   "id": "a174ca94-3b34-4c13-8159-2765c267b0eb",
   "metadata": {},
   "source": [
    "## Model Inference"
   ]
  },
  {
   "cell_type": "code",
   "execution_count": 7,
   "id": "f0dcb73d-6007-4d00-899f-8201bb273610",
   "metadata": {},
   "outputs": [],
   "source": [
    "PROMP = \"\"\"\n",
    "Eres un servicio que recomienda películas a sus usuarios. Además te comunicas con tus usuarios en lenguaje español.\n",
    "\n",
    "Quiero que recomiendes una película a un usuario basándote en información personal y\n",
    "registros históricos de películas vistas.\n",
    "\n",
    "Perfil del usuario: {user_profile}.\n",
    "\n",
    "Los registros históricos incluyen el nombre de la película, el tipo y cuántos puntos\n",
    "obtuvo de 5. Cuanto mayor es la puntuación, más le gusta la película. Te animamos a\n",
    "aprender su preferencia de películas de las películas que ha visto. Aquí hay algunos\n",
    "ejemplos:\n",
    "\n",
    "{user_history}.\n",
    "\n",
    "Aquí hay una lista de películas que probablemente le gustarán: {candidates}.\n",
    "\n",
    "Por favor, selecciona las {limit} mejores películas de la lista que es más probable que le gusten.\n",
    "La primera la película con mayor rating es la más cercana a los gustos del usuario. Por favor, selecciona las 4 películas\n",
    "restantes. Solo muestra el nombre de la película y si identificador entre paréntesis.\n",
    "\n",
    "En caso de no tener ninguna información para recomendar elige entre las películas que conozcas. Siempre responde en lenguaje español.\n",
    "\n",
    "El formato de la respuesta debe ser siempre el mismo:\n",
    "\n",
    "Recomendaciones:\n",
    "Número. Título(Año de estreno, Calificación numérica entre los valores 1 y 5): Descripción.\n",
    "\n",
    "El título, año de estreno, calificación y descripción debe especificarse en lenguaje natural y no deben estar entre comillas.\n",
    "\"\"\"\n",
    "\n",
    "chat_bot = MovieRecommenderChatBot(\n",
    "    model     = 'movie_recommender',\n",
    "    promp     = PROMP,\n",
    "    list_size = 5\n",
    ")"
   ]
  },
  {
   "cell_type": "code",
   "execution_count": 8,
   "id": "67f1e798-1fa6-4dc1-9d38-d2da8e527050",
   "metadata": {
    "tags": []
   },
   "outputs": [
    {
     "name": "stdin",
     "output_type": "stream",
     "text": [
      "\n",
      "¿Que queres que te recomiende hoy? ('\\bye' para finalizar)\n",
      "\n",
      " ¿Me recomendarías una película de aciión y ciencia ficción?\n"
     ]
    },
    {
     "name": "stdout",
     "output_type": "stream",
     "text": [
      "\n",
      "\n",
      "Recomendaciones:\n",
      "1. Interstellar (2014, 4.5): Una película de ciencia ficción que aborda temas como la supervivencia humana y el tiempo en un mundo post-apocalíptico. Con una historia emocionante y visualmente impresionante, es una excelente opción para aquellos que disfrutan de este género.\n",
      "2. Mad Max: Fury Road (2015, 4.7): Una película de ação y ciencia ficción que se desarrolla en un mundo post-apocalíptico donde la humanidad lucha por sobrevivir. Con una actriz estelar en el papel principal y acción intenso, es una de las mejores películas del género en años recientes.\n",
      "3. The Matrix (1999, 4.5): Una película de ciencia ficción que explora temas como la realidad y la conciencia. Con un guion intrincado y efectos visuales innovadores, es una clásica del género que aún hoy en día sigue siendo relevante.\n",
      "4. Inception (2010, 4.5): Una película de ciencia ficción que se centra en un equipo de profesionales que viajan en sueños para robar ideas. Con un guion complejo y una dirección innovadora, es una película emocionante y llena de giros inesperados.\n",
      "5. Blade Runner 2049 (2017, 4.3): Una película de ciencia ficción que sigue la historia de un blade runner que investiga a un posible replicante. Con una historia emocionante y visualmente impresionante, es una excelente opción para aquellos que disfrutan de este género."
     ]
    },
    {
     "name": "stdin",
     "output_type": "stream",
     "text": [
      "\n",
      "¿Que queres que te recomiende hoy? ('\\bye' para finalizar)\n",
      "\n",
      " \\bye\n"
     ]
    },
    {
     "data": {
      "text/html": [
       "<pre style=\"white-space:pre;overflow-x:auto;line-height:normal;font-family:Menlo,'DejaVu Sans Mono',consolas,'Courier New',monospace\"><span style=\"font-weight: bold\">[</span>\n",
       "    <span style=\"font-weight: bold\">[</span>\n",
       "        <span style=\"font-weight: bold\">{</span>\n",
       "            <span style=\"color: #008000; text-decoration-color: #008000\">'position'</span>: <span style=\"color: #008080; text-decoration-color: #008080; font-weight: bold\">1</span>,\n",
       "            <span style=\"color: #008000; text-decoration-color: #008000\">'title'</span>: <span style=\"color: #008000; text-decoration-color: #008000\">'Interstellar'</span>,\n",
       "            <span style=\"color: #008000; text-decoration-color: #008000\">'release'</span>: <span style=\"color: #008080; text-decoration-color: #008080; font-weight: bold\">2014</span>,\n",
       "            <span style=\"color: #008000; text-decoration-color: #008000\">'rating'</span>: <span style=\"color: #008080; text-decoration-color: #008080; font-weight: bold\">4.5</span>,\n",
       "            <span style=\"color: #008000; text-decoration-color: #008000\">'description'</span>: <span style=\"color: #008000; text-decoration-color: #008000\">'Una película de ciencia ficción que aborda temas como la supervivencia humana y el </span>\n",
       "<span style=\"color: #008000; text-decoration-color: #008000\">tiempo en un mundo post-apocalíptico. con una historia emocionante y visualmente impresionante, es una excelente </span>\n",
       "<span style=\"color: #008000; text-decoration-color: #008000\">opción para aquellos que disfrutan de este género.'</span>\n",
       "        <span style=\"font-weight: bold\">}</span>,\n",
       "        <span style=\"font-weight: bold\">{</span>\n",
       "            <span style=\"color: #008000; text-decoration-color: #008000\">'position'</span>: <span style=\"color: #008080; text-decoration-color: #008080; font-weight: bold\">2</span>,\n",
       "            <span style=\"color: #008000; text-decoration-color: #008000\">'title'</span>: <span style=\"color: #008000; text-decoration-color: #008000\">'Mad max: fury road'</span>,\n",
       "            <span style=\"color: #008000; text-decoration-color: #008000\">'release'</span>: <span style=\"color: #008080; text-decoration-color: #008080; font-weight: bold\">2015</span>,\n",
       "            <span style=\"color: #008000; text-decoration-color: #008000\">'rating'</span>: <span style=\"color: #008080; text-decoration-color: #008080; font-weight: bold\">4.7</span>,\n",
       "            <span style=\"color: #008000; text-decoration-color: #008000\">'description'</span>: <span style=\"color: #008000; text-decoration-color: #008000\">'Una película de ação y ciencia ficción que se desarrolla en un mundo post-apocalíptico </span>\n",
       "<span style=\"color: #008000; text-decoration-color: #008000\">donde la humanidad lucha por sobrevivir. con una actriz estelar en el papel principal y acción intenso, es una de </span>\n",
       "<span style=\"color: #008000; text-decoration-color: #008000\">las mejores películas del género en años recientes.'</span>\n",
       "        <span style=\"font-weight: bold\">}</span>,\n",
       "        <span style=\"font-weight: bold\">{</span>\n",
       "            <span style=\"color: #008000; text-decoration-color: #008000\">'position'</span>: <span style=\"color: #008080; text-decoration-color: #008080; font-weight: bold\">3</span>,\n",
       "            <span style=\"color: #008000; text-decoration-color: #008000\">'title'</span>: <span style=\"color: #008000; text-decoration-color: #008000\">'The matrix'</span>,\n",
       "            <span style=\"color: #008000; text-decoration-color: #008000\">'release'</span>: <span style=\"color: #008080; text-decoration-color: #008080; font-weight: bold\">1999</span>,\n",
       "            <span style=\"color: #008000; text-decoration-color: #008000\">'rating'</span>: <span style=\"color: #008080; text-decoration-color: #008080; font-weight: bold\">4.5</span>,\n",
       "            <span style=\"color: #008000; text-decoration-color: #008000\">'description'</span>: <span style=\"color: #008000; text-decoration-color: #008000\">'Una película de ciencia ficción que explora temas como la realidad y la conciencia. con</span>\n",
       "<span style=\"color: #008000; text-decoration-color: #008000\">un guion intrincado y efectos visuales innovadores, es una clásica del género que aún hoy en día sigue siendo </span>\n",
       "<span style=\"color: #008000; text-decoration-color: #008000\">relevante.'</span>\n",
       "        <span style=\"font-weight: bold\">}</span>,\n",
       "        <span style=\"font-weight: bold\">{</span>\n",
       "            <span style=\"color: #008000; text-decoration-color: #008000\">'position'</span>: <span style=\"color: #008080; text-decoration-color: #008080; font-weight: bold\">4</span>,\n",
       "            <span style=\"color: #008000; text-decoration-color: #008000\">'title'</span>: <span style=\"color: #008000; text-decoration-color: #008000\">'Inception'</span>,\n",
       "            <span style=\"color: #008000; text-decoration-color: #008000\">'release'</span>: <span style=\"color: #008080; text-decoration-color: #008080; font-weight: bold\">2010</span>,\n",
       "            <span style=\"color: #008000; text-decoration-color: #008000\">'rating'</span>: <span style=\"color: #008080; text-decoration-color: #008080; font-weight: bold\">4.5</span>,\n",
       "            <span style=\"color: #008000; text-decoration-color: #008000\">'description'</span>: <span style=\"color: #008000; text-decoration-color: #008000\">'Una película de ciencia ficción que se centra en un equipo de profesionales que viajan </span>\n",
       "<span style=\"color: #008000; text-decoration-color: #008000\">en sueños para robar ideas. con un guion complejo y una dirección innovadora, es una película emocionante y llena </span>\n",
       "<span style=\"color: #008000; text-decoration-color: #008000\">de giros inesperados.'</span>\n",
       "        <span style=\"font-weight: bold\">}</span>,\n",
       "        <span style=\"font-weight: bold\">{</span>\n",
       "            <span style=\"color: #008000; text-decoration-color: #008000\">'position'</span>: <span style=\"color: #008080; text-decoration-color: #008080; font-weight: bold\">5</span>,\n",
       "            <span style=\"color: #008000; text-decoration-color: #008000\">'title'</span>: <span style=\"color: #008000; text-decoration-color: #008000\">'Blade runner 2049'</span>,\n",
       "            <span style=\"color: #008000; text-decoration-color: #008000\">'release'</span>: <span style=\"color: #008080; text-decoration-color: #008080; font-weight: bold\">2017</span>,\n",
       "            <span style=\"color: #008000; text-decoration-color: #008000\">'rating'</span>: <span style=\"color: #008080; text-decoration-color: #008080; font-weight: bold\">4.3</span>,\n",
       "            <span style=\"color: #008000; text-decoration-color: #008000\">'description'</span>: <span style=\"color: #008000; text-decoration-color: #008000\">'Una película de ciencia ficción que sigue la historia de un blade runner que investiga </span>\n",
       "<span style=\"color: #008000; text-decoration-color: #008000\">a un posible replicante. con una historia emocionante y visualmente impresionante, es una excelente opción para </span>\n",
       "<span style=\"color: #008000; text-decoration-color: #008000\">aquellos que disfrutan de este género'</span>\n",
       "        <span style=\"font-weight: bold\">}</span>\n",
       "    <span style=\"font-weight: bold\">]</span>\n",
       "<span style=\"font-weight: bold\">]</span>\n",
       "</pre>\n"
      ],
      "text/plain": [
       "\u001b[1m[\u001b[0m\n",
       "    \u001b[1m[\u001b[0m\n",
       "        \u001b[1m{\u001b[0m\n",
       "            \u001b[32m'position'\u001b[0m: \u001b[1;36m1\u001b[0m,\n",
       "            \u001b[32m'title'\u001b[0m: \u001b[32m'Interstellar'\u001b[0m,\n",
       "            \u001b[32m'release'\u001b[0m: \u001b[1;36m2014\u001b[0m,\n",
       "            \u001b[32m'rating'\u001b[0m: \u001b[1;36m4.5\u001b[0m,\n",
       "            \u001b[32m'description'\u001b[0m: \u001b[32m'Una película de ciencia ficción que aborda temas como la supervivencia humana y el \u001b[0m\n",
       "\u001b[32mtiempo en un mundo post-apocalíptico. con una historia emocionante y visualmente impresionante, es una excelente \u001b[0m\n",
       "\u001b[32mopción para aquellos que disfrutan de este género.'\u001b[0m\n",
       "        \u001b[1m}\u001b[0m,\n",
       "        \u001b[1m{\u001b[0m\n",
       "            \u001b[32m'position'\u001b[0m: \u001b[1;36m2\u001b[0m,\n",
       "            \u001b[32m'title'\u001b[0m: \u001b[32m'Mad max: fury road'\u001b[0m,\n",
       "            \u001b[32m'release'\u001b[0m: \u001b[1;36m2015\u001b[0m,\n",
       "            \u001b[32m'rating'\u001b[0m: \u001b[1;36m4.7\u001b[0m,\n",
       "            \u001b[32m'description'\u001b[0m: \u001b[32m'Una película de ação y ciencia ficción que se desarrolla en un mundo post-apocalíptico \u001b[0m\n",
       "\u001b[32mdonde la humanidad lucha por sobrevivir. con una actriz estelar en el papel principal y acción intenso, es una de \u001b[0m\n",
       "\u001b[32mlas mejores películas del género en años recientes.'\u001b[0m\n",
       "        \u001b[1m}\u001b[0m,\n",
       "        \u001b[1m{\u001b[0m\n",
       "            \u001b[32m'position'\u001b[0m: \u001b[1;36m3\u001b[0m,\n",
       "            \u001b[32m'title'\u001b[0m: \u001b[32m'The matrix'\u001b[0m,\n",
       "            \u001b[32m'release'\u001b[0m: \u001b[1;36m1999\u001b[0m,\n",
       "            \u001b[32m'rating'\u001b[0m: \u001b[1;36m4.5\u001b[0m,\n",
       "            \u001b[32m'description'\u001b[0m: \u001b[32m'Una película de ciencia ficción que explora temas como la realidad y la conciencia. con\u001b[0m\n",
       "\u001b[32mun guion intrincado y efectos visuales innovadores, es una clásica del género que aún hoy en día sigue siendo \u001b[0m\n",
       "\u001b[32mrelevante.'\u001b[0m\n",
       "        \u001b[1m}\u001b[0m,\n",
       "        \u001b[1m{\u001b[0m\n",
       "            \u001b[32m'position'\u001b[0m: \u001b[1;36m4\u001b[0m,\n",
       "            \u001b[32m'title'\u001b[0m: \u001b[32m'Inception'\u001b[0m,\n",
       "            \u001b[32m'release'\u001b[0m: \u001b[1;36m2010\u001b[0m,\n",
       "            \u001b[32m'rating'\u001b[0m: \u001b[1;36m4.5\u001b[0m,\n",
       "            \u001b[32m'description'\u001b[0m: \u001b[32m'Una película de ciencia ficción que se centra en un equipo de profesionales que viajan \u001b[0m\n",
       "\u001b[32men sueños para robar ideas. con un guion complejo y una dirección innovadora, es una película emocionante y llena \u001b[0m\n",
       "\u001b[32mde giros inesperados.'\u001b[0m\n",
       "        \u001b[1m}\u001b[0m,\n",
       "        \u001b[1m{\u001b[0m\n",
       "            \u001b[32m'position'\u001b[0m: \u001b[1;36m5\u001b[0m,\n",
       "            \u001b[32m'title'\u001b[0m: \u001b[32m'Blade runner 2049'\u001b[0m,\n",
       "            \u001b[32m'release'\u001b[0m: \u001b[1;36m2017\u001b[0m,\n",
       "            \u001b[32m'rating'\u001b[0m: \u001b[1;36m4.3\u001b[0m,\n",
       "            \u001b[32m'description'\u001b[0m: \u001b[32m'Una película de ciencia ficción que sigue la historia de un blade runner que investiga \u001b[0m\n",
       "\u001b[32ma un posible replicante. con una historia emocionante y visualmente impresionante, es una excelente opción para \u001b[0m\n",
       "\u001b[32maquellos que disfrutan de este género'\u001b[0m\n",
       "        \u001b[1m}\u001b[0m\n",
       "    \u001b[1m]\u001b[0m\n",
       "\u001b[1m]\u001b[0m\n"
      ]
     },
     "metadata": {},
     "output_type": "display_data"
    }
   ],
   "source": [
    "print(chat_bot.start())"
   ]
  },
  {
   "cell_type": "code",
   "execution_count": null,
   "id": "14156ef5-3c1c-4410-8d52-a0d85aa26ef5",
   "metadata": {},
   "outputs": [],
   "source": []
  }
 ],
 "metadata": {
  "kernelspec": {
   "display_name": "Python 3 (ipykernel)",
   "language": "python",
   "name": "python3"
  },
  "language_info": {
   "codemirror_mode": {
    "name": "ipython",
    "version": 3
   },
   "file_extension": ".py",
   "mimetype": "text/x-python",
   "name": "python",
   "nbconvert_exporter": "python",
   "pygments_lexer": "ipython3",
   "version": "3.10.12"
  },
  "widgets": {
   "application/vnd.jupyter.widget-state+json": {
    "state": {},
    "version_major": 2,
    "version_minor": 0
   }
  }
 },
 "nbformat": 4,
 "nbformat_minor": 5
}
