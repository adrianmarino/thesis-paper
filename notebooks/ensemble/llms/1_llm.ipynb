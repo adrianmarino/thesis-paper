{
 "cells": [
  {
   "cell_type": "markdown",
   "id": "0417277b-47df-4113-a7b3-8f960db06f1d",
   "metadata": {
    "tags": []
   },
   "source": [
    "# Modelos: LLM"
   ]
  },
  {
   "cell_type": "markdown",
   "id": "eef46fb7-b5c8-47e8-b90a-99a1c3027f4b",
   "metadata": {
    "tags": []
   },
   "source": [
    "### Papers\n",
    "\n",
    "* [Chat-REC: Towards Interactive and Explainable\n",
    "LLMs-Augmented Recommender System](https://github.com/adrianmarino/thesis-paper/blob/master/docs/ideas/2303.14524.pdf)\n",
    "* [Large Language Models as Zero-Shot Conversational\n",
    "Recommenders](https://github.com/adrianmarino/thesis-paper/blob/master/docs/ideas/3583780.3614949.pdf)\n",
    "* [Large Language Models are Competitive Near Cold-start\n",
    "Recommenders for Language- and Item-based Preferences](https://github.com/adrianmarino/thesis-paper/blob/master/docs/ideas/3604915.3608845.pdf)\n",
    "\n",
    "### Implementation\n",
    "\n",
    "* [Langchain Quickstart](https://python.langchain.com/docs/integrations/llms/ollama)\n",
    "* [Langchain Ollama](https://python.langchain.com/docs/integrations/llms/ollama)\n",
    "* [Langchain Agents](https://python.langchain.com/docs/modules/agents/)\n",
    "* [Ollama Model File](https://github.com/jmorganca/ollama/blob/main/docs/modelfile.md)"
   ]
  },
  {
   "cell_type": "code",
   "execution_count": null,
   "id": "35e430dd-e279-4258-82a4-6b7a1347304b",
   "metadata": {},
   "outputs": [],
   "source": [
    "%load_ext autoreload\n",
    "%autoreload 2"
   ]
  },
  {
   "cell_type": "code",
   "execution_count": 2,
   "id": "834b2f2d-4103-4cf5-880d-10404d8ec7d3",
   "metadata": {},
   "outputs": [],
   "source": [
    "BASE_PATH             = '../../..'\n",
    "LIB_PATH              = f'{BASE_PATH}/lib'\n",
    "DATASET_PATH          = f'{BASE_PATH}/datasets'"
   ]
  },
  {
   "cell_type": "code",
   "execution_count": 3,
   "id": "f98e7bf4-f41a-43f6-b7b7-a991d00f82de",
   "metadata": {},
   "outputs": [
    {
     "name": "stderr",
     "output_type": "stream",
     "text": [
      "2023-12-24 17:59:06.778898: I tensorflow/core/platform/cpu_feature_guard.cc:182] This TensorFlow binary is optimized to use available CPU instructions in performance-critical operations.\n",
      "To enable the following instructions: AVX2 FMA, in other operations, rebuild TensorFlow with the appropriate compiler flags.\n",
      "2023-12-24 17:59:07.234052: W tensorflow/compiler/tf2tensorrt/utils/py_utils.cc:38] TF-TRT Warning: Could not find TensorRT\n",
      "2023-12-24 17:59:07.634895: I tensorflow/compiler/xla/stream_executor/cuda/cuda_gpu_executor.cc:996] successful NUMA node read from SysFS had negative value (-1), but there must be at least one NUMA node, so returning NUMA node zero. See more at https://github.com/torvalds/linux/blob/v6.0/Documentation/ABI/testing/sysfs-bus-pci#L344-L355\n",
      "2023-12-24 17:59:07.645299: W tensorflow/core/common_runtime/gpu/gpu_device.cc:1956] Cannot dlopen some GPU libraries. Please make sure the missing libraries mentioned above are installed properly if you would like to use GPU. Follow the guide at https://www.tensorflow.org/install/gpu for how to download and setup the required libraries for your platform.\n",
      "Skipping registering GPU devices...\n"
     ]
    },
    {
     "data": {
      "text/plain": [
       "<Figure size 640x480 with 0 Axes>"
      ]
     },
     "metadata": {},
     "output_type": "display_data"
    }
   ],
   "source": [
    "import sys\n",
    "sys.path.append(LIB_PATH)\n",
    "\n",
    "import numpy as np\n",
    "import pandas as pd\n",
    "\n",
    "import util as ut\n",
    "\n",
    "import recommender as rd"
   ]
  },
  {
   "cell_type": "markdown",
   "id": "c2b2aa52-be91-4ff8-b9d6-52b525bec2ca",
   "metadata": {},
   "source": [
    "## Setup"
   ]
  },
  {
   "cell_type": "code",
   "execution_count": 4,
   "id": "3a3e6040-f06b-4cb3-941a-a22d18507bf2",
   "metadata": {
    "tags": []
   },
   "outputs": [],
   "source": [
    "# !sudo systemctl enable ollama\n",
    "# !sudo systemctl restart ollamaff"
   ]
  },
  {
   "cell_type": "markdown",
   "id": "ea31251c-b16e-4162-af8a-a9cef8ecfa4f",
   "metadata": {},
   "source": [
    "## Create model"
   ]
  },
  {
   "cell_type": "markdown",
   "id": "f712184a-5e2e-41ee-bbd9-a1f846f586aa",
   "metadata": {},
   "source": [
    "Model definition:"
   ]
  },
  {
   "cell_type": "code",
   "execution_count": 5,
   "id": "4601105b-c18c-4799-86f7-a64305951985",
   "metadata": {
    "tags": []
   },
   "outputs": [
    {
     "name": "stdout",
     "output_type": "stream",
     "text": [
      "FROM llama2\n",
      "\n",
      "# set the temperature to 1 [higher is more creative, lower is more coherent]\n",
      "PARAMETER temperature 0.3\n",
      "\n",
      "PARAMETER num_gpu 200\n",
      "\n",
      "PARAMETER num_thread 24\n",
      "\n",
      "# set the system message\n",
      "SYSTEM \"\"\"\n",
      "\"\"\""
     ]
    }
   ],
   "source": [
    "! cat ./Modelfile.movie_recommender"
   ]
  },
  {
   "cell_type": "code",
   "execution_count": 6,
   "id": "f5a4fcf2-d3dd-412f-8d5f-d150ae932b8e",
   "metadata": {
    "tags": []
   },
   "outputs": [],
   "source": [
    "# !sudo ollama create default -f ./Modelfile.movie_recommender"
   ]
  },
  {
   "cell_type": "markdown",
   "id": "a174ca94-3b34-4c13-8159-2765c267b0eb",
   "metadata": {},
   "source": [
    "## Model Inference"
   ]
  },
  {
   "cell_type": "code",
   "execution_count": 7,
   "id": "f0dcb73d-6007-4d00-899f-8201bb273610",
   "metadata": {},
   "outputs": [],
   "source": [
    "chat_bot = rd.MovieRecommenderTextChatBotFactory.create()"
   ]
  },
  {
   "cell_type": "code",
   "execution_count": 8,
   "id": "14156ef5-3c1c-4410-8d52-a0d85aa26ef5",
   "metadata": {},
   "outputs": [
    {
     "name": "stdin",
     "output_type": "stream",
     "text": [
      "\n",
      "-----------------------------------------------\n",
      "Hola Adrian, ¿Que querés que te recomiende hoy?\n",
      "-----------------------------------------------\n",
      "(\\bye or enter to exit)\n",
      "\n",
      " accion\n"
     ]
    },
    {
     "name": "stdout",
     "output_type": "stream",
     "text": [
      "\n",
      "\n",
      "Recomendaciones:\n",
      "\n",
      "1. El Laberinto del Fauno (2006, 4.5): Dirigida por Guillermo del Toro, esta película de fantasía y drama es una ópera prima emocionante que combina elementos de la historia y la mitología. Con un reparto estelar y una cinematografía impresionante, es una experiencia visual y emocionalmente impactante.\n",
      "2. La Laureola (2014, 4.8): Esta película de terror psicológico explora temas como la identidad y la percepción, y cuenta con un reparto excepcional y una trama intrincada que mantiene al espectador pegado a la pantalla hasta el final.\n",
      "3. Roma (2018, 4.7): Dirigida por Alfonso Cuarón, esta película de drama familiar se desarrolla en la Ciudad de México durante la década de 1970 y cuenta con un reparto excepcional y una cinematografía impresionante que transporta al espectador a un mundo realmente vibrante.\n",
      "4. Birdman (2014, 4.6): Esta película de comedia dramática explora temas como la fama y la identidad, y cuenta con un reparto estelar y una dirección innovadora que mantiene al espectador pegado a la pantalla hasta el final.\n",
      "5. The Shawshank Redemption (1994, 4.9): Esta película de drama y suspense es una de las mejores películas de todos los tiempos, con un reparto estelar y una trama emocionante que mantiene al espectador pegado a la pantalla hasta el final.\n",
      "\n",
      "En caso de no tener información sobre el usuario, puedo recomendar estas películas basadas en su preferencia general:\n",
      "\n",
      "1. La Laureola (2014, 4.8): Esta película de terror psicológico es una experiencia visual y emocionalmente impactante que combina elementos de la historia y la mitología.\n",
      "2. Birdman (2014, 4.6): Esta película de comedia dramática explora temas como la fama y la identidad, y cuenta con un reparto estelar y una dirección innovadora.\n",
      "3. El Laberinto del Fauno (2006, 4.5): Dirigida por Guillermo del Toro, esta película de fantasía y drama es una ópera prima emocionante que combina elementos de la historia y la mitología.\n",
      "4. Roma (2018, 4.7): Dirigida por Alfonso Cuarón, esta película de drama familiar se desarrolla en la Ciudad de México durante la década de 1970 y cuenta con un reparto excepcional y una cinematografía impresionante.\n",
      "5. The Shawshank Redemption (1994, 4.9): Esta película de drama y suspense es una de las mejores películas de todos los tiempos, con un reparto estelar y una trama emocionante que mantiene al espectador pegado a la pantalla hasta el final.\n",
      "\n"
     ]
    },
    {
     "name": "stdin",
     "output_type": "stream",
     "text": [
      " \n"
     ]
    }
   ],
   "source": [
    "profile = rd.UserProfile(\n",
    "    name     = 'Adrian',\n",
    "    email    = 'adrianmarino@gmail.com',\n",
    "    metadata = {\n",
    "        'studies'        : 'Engineering',\n",
    "        'age'             : 32,\n",
    "        'genre'           : 'Male',\n",
    "        'nationality'     : 'Argentina',\n",
    "        'work'            : 'Software Engineer',\n",
    "        'prefered_movies' : {\n",
    "            'release': {\n",
    "                'from' : '1970'\n",
    "            },\n",
    "            'geres': [\n",
    "                'thiller', 'suspense', 'science fiction', 'love', 'comedy'\n",
    "            ]\n",
    "        }\n",
    "    }\n",
    ")\n",
    "\n",
    "\n",
    "\n",
    "history = chat_bot.start(profile)"
   ]
  },
  {
   "cell_type": "code",
   "execution_count": 9,
   "id": "cbd8f4e9-4657-4195-97b7-ceae23b54e3c",
   "metadata": {},
   "outputs": [
    {
     "data": {
      "text/html": [
       "<pre style=\"white-space:pre;overflow-x:auto;line-height:normal;font-family:Menlo,'DejaVu Sans Mono',consolas,'Courier New',monospace\"><span style=\"font-weight: bold\">{</span>\n",
       "    <span style=\"color: #008000; text-decoration-color: #008000\">\"entries\"</span>: <span style=\"font-weight: bold\">[</span>\n",
       "        <span style=\"font-weight: bold\">{</span>\n",
       "            <span style=\"color: #008000; text-decoration-color: #008000\">\"request\"</span>: <span style=\"color: #008000; text-decoration-color: #008000\">\"accion\"</span>,\n",
       "            <span style=\"color: #008000; text-decoration-color: #008000\">\"response\"</span>: <span style=\"color: #008000; text-decoration-color: #008000\">\"Recomendaciones:\\n\\n1. El Laberinto del Fauno (2006, 4.5): Dirigida por Guillermo del </span>\n",
       "<span style=\"color: #008000; text-decoration-color: #008000\">Toro, esta pel\\u00edcula de fantas\\u00eda y drama es una \\u00f3pera prima emocionante que combina elementos de la </span>\n",
       "<span style=\"color: #008000; text-decoration-color: #008000\">historia y la mitolog\\u00eda. Con un reparto estelar y una cinematograf\\u00eda impresionante, es una experiencia </span>\n",
       "<span style=\"color: #008000; text-decoration-color: #008000\">visual y emocionalmente impactante.\\n2. La Laureola (2014, 4.8): Esta pel\\u00edcula de terror psicol\\u00f3gico </span>\n",
       "<span style=\"color: #008000; text-decoration-color: #008000\">explora temas como la identidad y la percepci\\u00f3n, y cuenta con un reparto excepcional y una trama intrincada </span>\n",
       "<span style=\"color: #008000; text-decoration-color: #008000\">que mantiene al espectador pegado a la pantalla hasta el final.\\n3. Roma (2018, 4.7): Dirigida por Alfonso </span>\n",
       "<span style=\"color: #008000; text-decoration-color: #008000\">Cuar\\u00f3n, esta pel\\u00edcula de drama familiar se desarrolla en la Ciudad de M\\u00e9xico durante la d\\u00e9cada </span>\n",
       "<span style=\"color: #008000; text-decoration-color: #008000\">de 1970 y cuenta con un reparto excepcional y una cinematograf\\u00eda impresionante que transporta al espectador a </span>\n",
       "<span style=\"color: #008000; text-decoration-color: #008000\">un mundo realmente vibrante.\\n4. Birdman (2014, 4.6): Esta pel\\u00edcula de comedia dram\\u00e1tica explora temas </span>\n",
       "<span style=\"color: #008000; text-decoration-color: #008000\">como la fama y la identidad, y cuenta con un reparto estelar y una direcci\\u00f3n innovadora que mantiene al </span>\n",
       "<span style=\"color: #008000; text-decoration-color: #008000\">espectador pegado a la pantalla hasta el final.\\n5. The Shawshank Redemption (1994, 4.9): Esta pel\\u00edcula de </span>\n",
       "<span style=\"color: #008000; text-decoration-color: #008000\">drama y suspense es una de las mejores pel\\u00edculas de todos los tiempos, con un reparto estelar y una trama </span>\n",
       "<span style=\"color: #008000; text-decoration-color: #008000\">emocionante que mantiene al espectador pegado a la pantalla hasta el final.\\n\\nEn caso de no tener informaci\\u00f3n</span>\n",
       "<span style=\"color: #008000; text-decoration-color: #008000\">sobre el usuario, puedo recomendar estas pel\\u00edculas basadas en su preferencia general:\\n\\n1. La Laureola (2014,</span>\n",
       "<span style=\"color: #008000; text-decoration-color: #008000\">4.8): Esta pel\\u00edcula de terror psicol\\u00f3gico es una experiencia visual y emocionalmente impactante que </span>\n",
       "<span style=\"color: #008000; text-decoration-color: #008000\">combina elementos de la historia y la mitolog\\u00eda.\\n2. Birdman (2014, 4.6): Esta pel\\u00edcula de comedia </span>\n",
       "<span style=\"color: #008000; text-decoration-color: #008000\">dram\\u00e1tica explora temas como la fama y la identidad, y cuenta con un reparto estelar y una direcci\\u00f3n </span>\n",
       "<span style=\"color: #008000; text-decoration-color: #008000\">innovadora.\\n3. El Laberinto del Fauno (2006, 4.5): Dirigida por Guillermo del Toro, esta pel\\u00edcula de </span>\n",
       "<span style=\"color: #008000; text-decoration-color: #008000\">fantas\\u00eda y drama es una \\u00f3pera prima emocionante que combina elementos de la historia y la </span>\n",
       "<span style=\"color: #008000; text-decoration-color: #008000\">mitolog\\u00eda.\\n4. Roma (2018, 4.7): Dirigida por Alfonso Cuar\\u00f3n, esta pel\\u00edcula de drama familiar se </span>\n",
       "<span style=\"color: #008000; text-decoration-color: #008000\">desarrolla en la Ciudad de M\\u00e9xico durante la d\\u00e9cada de 1970 y cuenta con un reparto excepcional y una </span>\n",
       "<span style=\"color: #008000; text-decoration-color: #008000\">cinematograf\\u00eda impresionante.\\n5. The Shawshank Redemption (1994, 4.9): Esta pel\\u00edcula de drama y suspense</span>\n",
       "<span style=\"color: #008000; text-decoration-color: #008000\">es una de las mejores pel\\u00edculas de todos los tiempos, con un reparto estelar y una trama emocionante que </span>\n",
       "<span style=\"color: #008000; text-decoration-color: #008000\">mantiene al espectador pegado a la pantalla hasta el final.\"</span>,\n",
       "            <span style=\"color: #008000; text-decoration-color: #008000\">\"data\"</span>: <span style=\"font-weight: bold\">{</span>\n",
       "                <span style=\"color: #008000; text-decoration-color: #008000\">\"recommendations\"</span>: <span style=\"font-weight: bold\">[</span>\n",
       "                    <span style=\"font-weight: bold\">{</span>\n",
       "                        <span style=\"color: #008000; text-decoration-color: #008000\">\"title\"</span>: <span style=\"color: #008000; text-decoration-color: #008000\">\"The shawshank redemption\"</span>,\n",
       "                        <span style=\"color: #008000; text-decoration-color: #008000\">\"rating\"</span>: <span style=\"color: #008080; text-decoration-color: #008080; font-weight: bold\">4.9</span>,\n",
       "                        <span style=\"color: #008000; text-decoration-color: #008000\">\"description\"</span>: <span style=\"color: #008000; text-decoration-color: #008000\">\"Esta pel\\u00edcula de drama y suspense es una de las mejores pel\\u00edculas</span>\n",
       "<span style=\"color: #008000; text-decoration-color: #008000\">de todos los tiempos, con un reparto estelar y una trama emocionante que mantiene al espectador pegado a la </span>\n",
       "<span style=\"color: #008000; text-decoration-color: #008000\">pantalla hasta el final.\\n\\nen caso de no tener informaci\\u00f3n sobre el usuario, puedo recomendar estas </span>\n",
       "<span style=\"color: #008000; text-decoration-color: #008000\">pel\\u00edculas basadas en su preferencia general:\\n\\n1. la laureola\"</span>,\n",
       "                        <span style=\"color: #008000; text-decoration-color: #008000\">\"release\"</span>: <span style=\"color: #008080; text-decoration-color: #008080; font-weight: bold\">1994</span>\n",
       "                    <span style=\"font-weight: bold\">}</span>,\n",
       "                    <span style=\"font-weight: bold\">{</span>\n",
       "                        <span style=\"color: #008000; text-decoration-color: #008000\">\"title\"</span>: <span style=\"color: #008000; text-decoration-color: #008000\">\"La laureola\"</span>,\n",
       "                        <span style=\"color: #008000; text-decoration-color: #008000\">\"rating\"</span>: <span style=\"color: #008080; text-decoration-color: #008080; font-weight: bold\">4.8</span>,\n",
       "                        <span style=\"color: #008000; text-decoration-color: #008000\">\"description\"</span>: <span style=\"color: #008000; text-decoration-color: #008000\">\"Esta pel\\u00edcula de terror psicol\\u00f3gico explora temas como la </span>\n",
       "<span style=\"color: #008000; text-decoration-color: #008000\">identidad y la percepci\\u00f3n, y cuenta con un reparto excepcional y una trama intrincada que mantiene al </span>\n",
       "<span style=\"color: #008000; text-decoration-color: #008000\">espectador pegado a la pantalla hasta el final.\"</span>,\n",
       "                        <span style=\"color: #008000; text-decoration-color: #008000\">\"release\"</span>: <span style=\"color: #008080; text-decoration-color: #008080; font-weight: bold\">2014</span>\n",
       "                    <span style=\"font-weight: bold\">}</span>,\n",
       "                    <span style=\"font-weight: bold\">{</span>\n",
       "                        <span style=\"color: #008000; text-decoration-color: #008000\">\"title\"</span>: <span style=\"color: #008000; text-decoration-color: #008000\">\"Roma\"</span>,\n",
       "                        <span style=\"color: #008000; text-decoration-color: #008000\">\"rating\"</span>: <span style=\"color: #008080; text-decoration-color: #008080; font-weight: bold\">4.7</span>,\n",
       "                        <span style=\"color: #008000; text-decoration-color: #008000\">\"description\"</span>: <span style=\"color: #008000; text-decoration-color: #008000\">\"Dirigida por alfonso cuar\\u00f3n, esta pel\\u00edcula de drama familiar se </span>\n",
       "<span style=\"color: #008000; text-decoration-color: #008000\">desarrolla en la ciudad de m\\u00e9xico durante la d\\u00e9cada de 1970 y cuenta con un reparto excepcional y una </span>\n",
       "<span style=\"color: #008000; text-decoration-color: #008000\">cinematograf\\u00eda impresionante que transporta al espectador a un mundo realmente vibrante.\"</span>,\n",
       "                        <span style=\"color: #008000; text-decoration-color: #008000\">\"release\"</span>: <span style=\"color: #008080; text-decoration-color: #008080; font-weight: bold\">2018</span>\n",
       "                    <span style=\"font-weight: bold\">}</span>,\n",
       "                    <span style=\"font-weight: bold\">{</span>\n",
       "                        <span style=\"color: #008000; text-decoration-color: #008000\">\"title\"</span>: <span style=\"color: #008000; text-decoration-color: #008000\">\"Birdman\"</span>,\n",
       "                        <span style=\"color: #008000; text-decoration-color: #008000\">\"rating\"</span>: <span style=\"color: #008080; text-decoration-color: #008080; font-weight: bold\">4.6</span>,\n",
       "                        <span style=\"color: #008000; text-decoration-color: #008000\">\"description\"</span>: <span style=\"color: #008000; text-decoration-color: #008000\">\"Esta pel\\u00edcula de comedia dram\\u00e1tica explora temas como la fama y </span>\n",
       "<span style=\"color: #008000; text-decoration-color: #008000\">la identidad, y cuenta con un reparto estelar y una direcci\\u00f3n innovadora que mantiene al espectador pegado a </span>\n",
       "<span style=\"color: #008000; text-decoration-color: #008000\">la pantalla hasta el final.\"</span>,\n",
       "                        <span style=\"color: #008000; text-decoration-color: #008000\">\"release\"</span>: <span style=\"color: #008080; text-decoration-color: #008080; font-weight: bold\">2014</span>\n",
       "                    <span style=\"font-weight: bold\">}</span>,\n",
       "                    <span style=\"font-weight: bold\">{</span>\n",
       "                        <span style=\"color: #008000; text-decoration-color: #008000\">\"title\"</span>: <span style=\"color: #008000; text-decoration-color: #008000\">\"El laberinto del fauno\"</span>,\n",
       "                        <span style=\"color: #008000; text-decoration-color: #008000\">\"rating\"</span>: <span style=\"color: #008080; text-decoration-color: #008080; font-weight: bold\">4.5</span>,\n",
       "                        <span style=\"color: #008000; text-decoration-color: #008000\">\"description\"</span>: <span style=\"color: #008000; text-decoration-color: #008000\">\"Dirigida por guillermo del toro, esta pel\\u00edcula de fantas\\u00eda y </span>\n",
       "<span style=\"color: #008000; text-decoration-color: #008000\">drama es una \\u00f3pera prima emocionante que combina elementos de la historia y la mitolog\\u00eda. con un reparto </span>\n",
       "<span style=\"color: #008000; text-decoration-color: #008000\">estelar y una cinematograf\\u00eda impresionante, es una experiencia visual y emocionalmente impactante.\"</span>,\n",
       "                        <span style=\"color: #008000; text-decoration-color: #008000\">\"release\"</span>: <span style=\"color: #008080; text-decoration-color: #008080; font-weight: bold\">2006</span>\n",
       "                    <span style=\"font-weight: bold\">}</span>\n",
       "                <span style=\"font-weight: bold\">]</span>\n",
       "            <span style=\"font-weight: bold\">}</span>\n",
       "        <span style=\"font-weight: bold\">}</span>\n",
       "    <span style=\"font-weight: bold\">]</span>\n",
       "<span style=\"font-weight: bold\">}</span>\n",
       "</pre>\n"
      ],
      "text/plain": [
       "\u001b[1m{\u001b[0m\n",
       "    \u001b[32m\"entries\"\u001b[0m: \u001b[1m[\u001b[0m\n",
       "        \u001b[1m{\u001b[0m\n",
       "            \u001b[32m\"request\"\u001b[0m: \u001b[32m\"accion\"\u001b[0m,\n",
       "            \u001b[32m\"response\"\u001b[0m: \u001b[32m\"Recomendaciones:\\n\\n1. El Laberinto del Fauno \u001b[0m\u001b[32m(\u001b[0m\u001b[32m2006, 4.5\u001b[0m\u001b[32m)\u001b[0m\u001b[32m: Dirigida por Guillermo del \u001b[0m\n",
       "\u001b[32mToro, esta pel\\u00edcula de fantas\\u00eda y drama es una \\u00f3pera prima emocionante que combina elementos de la \u001b[0m\n",
       "\u001b[32mhistoria y la mitolog\\u00eda. Con un reparto estelar y una cinematograf\\u00eda impresionante, es una experiencia \u001b[0m\n",
       "\u001b[32mvisual y emocionalmente impactante.\\n2. La Laureola \u001b[0m\u001b[32m(\u001b[0m\u001b[32m2014, 4.8\u001b[0m\u001b[32m)\u001b[0m\u001b[32m: Esta pel\\u00edcula de terror psicol\\u00f3gico \u001b[0m\n",
       "\u001b[32mexplora temas como la identidad y la percepci\\u00f3n, y cuenta con un reparto excepcional y una trama intrincada \u001b[0m\n",
       "\u001b[32mque mantiene al espectador pegado a la pantalla hasta el final.\\n3. Roma \u001b[0m\u001b[32m(\u001b[0m\u001b[32m2018, 4.7\u001b[0m\u001b[32m)\u001b[0m\u001b[32m: Dirigida por Alfonso \u001b[0m\n",
       "\u001b[32mCuar\\u00f3n, esta pel\\u00edcula de drama familiar se desarrolla en la Ciudad de M\\u00e9xico durante la d\\u00e9cada \u001b[0m\n",
       "\u001b[32mde 1970 y cuenta con un reparto excepcional y una cinematograf\\u00eda impresionante que transporta al espectador a \u001b[0m\n",
       "\u001b[32mun mundo realmente vibrante.\\n4. Birdman \u001b[0m\u001b[32m(\u001b[0m\u001b[32m2014, 4.6\u001b[0m\u001b[32m)\u001b[0m\u001b[32m: Esta pel\\u00edcula de comedia dram\\u00e1tica explora temas \u001b[0m\n",
       "\u001b[32mcomo la fama y la identidad, y cuenta con un reparto estelar y una direcci\\u00f3n innovadora que mantiene al \u001b[0m\n",
       "\u001b[32mespectador pegado a la pantalla hasta el final.\\n5. The Shawshank Redemption \u001b[0m\u001b[32m(\u001b[0m\u001b[32m1994, 4.9\u001b[0m\u001b[32m)\u001b[0m\u001b[32m: Esta pel\\u00edcula de \u001b[0m\n",
       "\u001b[32mdrama y suspense es una de las mejores pel\\u00edculas de todos los tiempos, con un reparto estelar y una trama \u001b[0m\n",
       "\u001b[32memocionante que mantiene al espectador pegado a la pantalla hasta el final.\\n\\nEn caso de no tener informaci\\u00f3n\u001b[0m\n",
       "\u001b[32msobre el usuario, puedo recomendar estas pel\\u00edculas basadas en su preferencia general:\\n\\n1. La Laureola \u001b[0m\u001b[32m(\u001b[0m\u001b[32m2014,\u001b[0m\n",
       "\u001b[32m4.8\u001b[0m\u001b[32m)\u001b[0m\u001b[32m: Esta pel\\u00edcula de terror psicol\\u00f3gico es una experiencia visual y emocionalmente impactante que \u001b[0m\n",
       "\u001b[32mcombina elementos de la historia y la mitolog\\u00eda.\\n2. Birdman \u001b[0m\u001b[32m(\u001b[0m\u001b[32m2014, 4.6\u001b[0m\u001b[32m)\u001b[0m\u001b[32m: Esta pel\\u00edcula de comedia \u001b[0m\n",
       "\u001b[32mdram\\u00e1tica explora temas como la fama y la identidad, y cuenta con un reparto estelar y una direcci\\u00f3n \u001b[0m\n",
       "\u001b[32minnovadora.\\n3. El Laberinto del Fauno \u001b[0m\u001b[32m(\u001b[0m\u001b[32m2006, 4.5\u001b[0m\u001b[32m)\u001b[0m\u001b[32m: Dirigida por Guillermo del Toro, esta pel\\u00edcula de \u001b[0m\n",
       "\u001b[32mfantas\\u00eda y drama es una \\u00f3pera prima emocionante que combina elementos de la historia y la \u001b[0m\n",
       "\u001b[32mmitolog\\u00eda.\\n4. Roma \u001b[0m\u001b[32m(\u001b[0m\u001b[32m2018, 4.7\u001b[0m\u001b[32m)\u001b[0m\u001b[32m: Dirigida por Alfonso Cuar\\u00f3n, esta pel\\u00edcula de drama familiar se \u001b[0m\n",
       "\u001b[32mdesarrolla en la Ciudad de M\\u00e9xico durante la d\\u00e9cada de 1970 y cuenta con un reparto excepcional y una \u001b[0m\n",
       "\u001b[32mcinematograf\\u00eda impresionante.\\n5. The Shawshank Redemption \u001b[0m\u001b[32m(\u001b[0m\u001b[32m1994, 4.9\u001b[0m\u001b[32m)\u001b[0m\u001b[32m: Esta pel\\u00edcula de drama y suspense\u001b[0m\n",
       "\u001b[32mes una de las mejores pel\\u00edculas de todos los tiempos, con un reparto estelar y una trama emocionante que \u001b[0m\n",
       "\u001b[32mmantiene al espectador pegado a la pantalla hasta el final.\"\u001b[0m,\n",
       "            \u001b[32m\"data\"\u001b[0m: \u001b[1m{\u001b[0m\n",
       "                \u001b[32m\"recommendations\"\u001b[0m: \u001b[1m[\u001b[0m\n",
       "                    \u001b[1m{\u001b[0m\n",
       "                        \u001b[32m\"title\"\u001b[0m: \u001b[32m\"The shawshank redemption\"\u001b[0m,\n",
       "                        \u001b[32m\"rating\"\u001b[0m: \u001b[1;36m4.9\u001b[0m,\n",
       "                        \u001b[32m\"description\"\u001b[0m: \u001b[32m\"Esta pel\\u00edcula de drama y suspense es una de las mejores pel\\u00edculas\u001b[0m\n",
       "\u001b[32mde todos los tiempos, con un reparto estelar y una trama emocionante que mantiene al espectador pegado a la \u001b[0m\n",
       "\u001b[32mpantalla hasta el final.\\n\\nen caso de no tener informaci\\u00f3n sobre el usuario, puedo recomendar estas \u001b[0m\n",
       "\u001b[32mpel\\u00edculas basadas en su preferencia general:\\n\\n1. la laureola\"\u001b[0m,\n",
       "                        \u001b[32m\"release\"\u001b[0m: \u001b[1;36m1994\u001b[0m\n",
       "                    \u001b[1m}\u001b[0m,\n",
       "                    \u001b[1m{\u001b[0m\n",
       "                        \u001b[32m\"title\"\u001b[0m: \u001b[32m\"La laureola\"\u001b[0m,\n",
       "                        \u001b[32m\"rating\"\u001b[0m: \u001b[1;36m4.8\u001b[0m,\n",
       "                        \u001b[32m\"description\"\u001b[0m: \u001b[32m\"Esta pel\\u00edcula de terror psicol\\u00f3gico explora temas como la \u001b[0m\n",
       "\u001b[32midentidad y la percepci\\u00f3n, y cuenta con un reparto excepcional y una trama intrincada que mantiene al \u001b[0m\n",
       "\u001b[32mespectador pegado a la pantalla hasta el final.\"\u001b[0m,\n",
       "                        \u001b[32m\"release\"\u001b[0m: \u001b[1;36m2014\u001b[0m\n",
       "                    \u001b[1m}\u001b[0m,\n",
       "                    \u001b[1m{\u001b[0m\n",
       "                        \u001b[32m\"title\"\u001b[0m: \u001b[32m\"Roma\"\u001b[0m,\n",
       "                        \u001b[32m\"rating\"\u001b[0m: \u001b[1;36m4.7\u001b[0m,\n",
       "                        \u001b[32m\"description\"\u001b[0m: \u001b[32m\"Dirigida por alfonso cuar\\u00f3n, esta pel\\u00edcula de drama familiar se \u001b[0m\n",
       "\u001b[32mdesarrolla en la ciudad de m\\u00e9xico durante la d\\u00e9cada de 1970 y cuenta con un reparto excepcional y una \u001b[0m\n",
       "\u001b[32mcinematograf\\u00eda impresionante que transporta al espectador a un mundo realmente vibrante.\"\u001b[0m,\n",
       "                        \u001b[32m\"release\"\u001b[0m: \u001b[1;36m2018\u001b[0m\n",
       "                    \u001b[1m}\u001b[0m,\n",
       "                    \u001b[1m{\u001b[0m\n",
       "                        \u001b[32m\"title\"\u001b[0m: \u001b[32m\"Birdman\"\u001b[0m,\n",
       "                        \u001b[32m\"rating\"\u001b[0m: \u001b[1;36m4.6\u001b[0m,\n",
       "                        \u001b[32m\"description\"\u001b[0m: \u001b[32m\"Esta pel\\u00edcula de comedia dram\\u00e1tica explora temas como la fama y \u001b[0m\n",
       "\u001b[32mla identidad, y cuenta con un reparto estelar y una direcci\\u00f3n innovadora que mantiene al espectador pegado a \u001b[0m\n",
       "\u001b[32mla pantalla hasta el final.\"\u001b[0m,\n",
       "                        \u001b[32m\"release\"\u001b[0m: \u001b[1;36m2014\u001b[0m\n",
       "                    \u001b[1m}\u001b[0m,\n",
       "                    \u001b[1m{\u001b[0m\n",
       "                        \u001b[32m\"title\"\u001b[0m: \u001b[32m\"El laberinto del fauno\"\u001b[0m,\n",
       "                        \u001b[32m\"rating\"\u001b[0m: \u001b[1;36m4.5\u001b[0m,\n",
       "                        \u001b[32m\"description\"\u001b[0m: \u001b[32m\"Dirigida por guillermo del toro, esta pel\\u00edcula de fantas\\u00eda y \u001b[0m\n",
       "\u001b[32mdrama es una \\u00f3pera prima emocionante que combina elementos de la historia y la mitolog\\u00eda. con un reparto \u001b[0m\n",
       "\u001b[32mestelar y una cinematograf\\u00eda impresionante, es una experiencia visual y emocionalmente impactante.\"\u001b[0m,\n",
       "                        \u001b[32m\"release\"\u001b[0m: \u001b[1;36m2006\u001b[0m\n",
       "                    \u001b[1m}\u001b[0m\n",
       "                \u001b[1m]\u001b[0m\n",
       "            \u001b[1m}\u001b[0m\n",
       "        \u001b[1m}\u001b[0m\n",
       "    \u001b[1m]\u001b[0m\n",
       "\u001b[1m}\u001b[0m\n"
      ]
     },
     "metadata": {},
     "output_type": "display_data"
    }
   ],
   "source": [
    "print(history)"
   ]
  }
 ],
 "metadata": {
  "kernelspec": {
   "display_name": "Python 3 (ipykernel)",
   "language": "python",
   "name": "python3"
  },
  "language_info": {
   "codemirror_mode": {
    "name": "ipython",
    "version": 3
   },
   "file_extension": ".py",
   "mimetype": "text/x-python",
   "name": "python",
   "nbconvert_exporter": "python",
   "pygments_lexer": "ipython3",
   "version": "3.10.13"
  },
  "widgets": {
   "application/vnd.jupyter.widget-state+json": {
    "state": {},
    "version_major": 2,
    "version_minor": 0
   }
  }
 },
 "nbformat": 4,
 "nbformat_minor": 5
}
