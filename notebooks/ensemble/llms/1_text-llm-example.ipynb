{
 "cells": [
  {
   "cell_type": "markdown",
   "id": "0417277b-47df-4113-a7b3-8f960db06f1d",
   "metadata": {
    "tags": []
   },
   "source": [
    "# Modelos: Text LLM"
   ]
  },
  {
   "cell_type": "markdown",
   "id": "eef46fb7-b5c8-47e8-b90a-99a1c3027f4b",
   "metadata": {
    "tags": []
   },
   "source": [
    "### Papers\n",
    "\n",
    "* [Chat-REC: Towards Interactive and Explainable\n",
    "LLMs-Augmented Recommender System](https://github.com/adrianmarino/thesis-paper/blob/master/docs/ideas/2303.14524.pdf)\n",
    "* [Large Language Models as Zero-Shot Conversational\n",
    "Recommenders](https://github.com/adrianmarino/thesis-paper/blob/master/docs/ideas/3583780.3614949.pdf)\n",
    "* [Large Language Models are Competitive Near Cold-start\n",
    "Recommenders for Language- and Item-based Preferences](https://github.com/adrianmarino/thesis-paper/blob/master/docs/ideas/3604915.3608845.pdf)\n",
    "\n",
    "### Implementation\n",
    "\n",
    "* [Langchain Quickstart](https://python.langchain.com/docs/integrations/llms/ollama)\n",
    "* [Langchain Ollama](https://python.langchain.com/docs/integrations/llms/ollama)\n",
    "* [Langchain Agents](https://python.langchain.com/docs/modules/agents/)\n",
    "* [Ollama Model File](https://github.com/jmorganca/ollama/blob/main/docs/modelfile.md)"
   ]
  },
  {
   "cell_type": "code",
   "execution_count": 1,
   "id": "35e430dd-e279-4258-82a4-6b7a1347304b",
   "metadata": {},
   "outputs": [],
   "source": [
    "%load_ext autoreload\n",
    "%autoreload 2"
   ]
  },
  {
   "cell_type": "code",
   "execution_count": 2,
   "id": "834b2f2d-4103-4cf5-880d-10404d8ec7d3",
   "metadata": {},
   "outputs": [],
   "source": [
    "BASE_PATH             = '../../..'\n",
    "LIB_PATH              = f'{BASE_PATH}/lib'\n",
    "DATASET_PATH          = f'{BASE_PATH}/datasets'"
   ]
  },
  {
   "cell_type": "code",
   "execution_count": 3,
   "id": "f98e7bf4-f41a-43f6-b7b7-a991d00f82de",
   "metadata": {},
   "outputs": [
    {
     "name": "stderr",
     "output_type": "stream",
     "text": [
      "2024-01-04 08:29:47.814310: I tensorflow/core/platform/cpu_feature_guard.cc:182] This TensorFlow binary is optimized to use available CPU instructions in performance-critical operations.\n",
      "To enable the following instructions: AVX2 FMA, in other operations, rebuild TensorFlow with the appropriate compiler flags.\n",
      "2024-01-04 08:29:48.275727: W tensorflow/compiler/tf2tensorrt/utils/py_utils.cc:38] TF-TRT Warning: Could not find TensorRT\n",
      "2024-01-04 08:29:48.693275: I tensorflow/compiler/xla/stream_executor/cuda/cuda_gpu_executor.cc:996] successful NUMA node read from SysFS had negative value (-1), but there must be at least one NUMA node, so returning NUMA node zero. See more at https://github.com/torvalds/linux/blob/v6.0/Documentation/ABI/testing/sysfs-bus-pci#L344-L355\n",
      "2024-01-04 08:29:48.706037: W tensorflow/core/common_runtime/gpu/gpu_device.cc:1956] Cannot dlopen some GPU libraries. Please make sure the missing libraries mentioned above are installed properly if you would like to use GPU. Follow the guide at https://www.tensorflow.org/install/gpu for how to download and setup the required libraries for your platform.\n",
      "Skipping registering GPU devices...\n"
     ]
    },
    {
     "data": {
      "text/plain": [
       "<Figure size 640x480 with 0 Axes>"
      ]
     },
     "metadata": {},
     "output_type": "display_data"
    }
   ],
   "source": [
    "import sys\n",
    "sys.path.append(LIB_PATH)\n",
    "\n",
    "import numpy as np\n",
    "import pandas as pd\n",
    "\n",
    "import util as ut\n",
    "\n",
    "import recommender as rd"
   ]
  },
  {
   "cell_type": "markdown",
   "id": "c2b2aa52-be91-4ff8-b9d6-52b525bec2ca",
   "metadata": {},
   "source": [
    "## Setup"
   ]
  },
  {
   "cell_type": "code",
   "execution_count": 4,
   "id": "3a3e6040-f06b-4cb3-941a-a22d18507bf2",
   "metadata": {
    "tags": []
   },
   "outputs": [],
   "source": [
    "# !sudo systemctl enable ollama\n",
    "# !sudo systemctl restart ollamaff"
   ]
  },
  {
   "cell_type": "markdown",
   "id": "ea31251c-b16e-4162-af8a-a9cef8ecfa4f",
   "metadata": {},
   "source": [
    "## Create model"
   ]
  },
  {
   "cell_type": "markdown",
   "id": "f712184a-5e2e-41ee-bbd9-a1f846f586aa",
   "metadata": {},
   "source": [
    "Model definition:"
   ]
  },
  {
   "cell_type": "code",
   "execution_count": 5,
   "id": "4601105b-c18c-4799-86f7-a64305951985",
   "metadata": {
    "tags": []
   },
   "outputs": [
    {
     "name": "stdout",
     "output_type": "stream",
     "text": [
      "cat: ./Modelfile.movie_recommender: No such file or directory\n"
     ]
    }
   ],
   "source": [
    "! cat ./Modelfile.movie_recommender"
   ]
  },
  {
   "cell_type": "code",
   "execution_count": 6,
   "id": "f5a4fcf2-d3dd-412f-8d5f-d150ae932b8e",
   "metadata": {
    "tags": []
   },
   "outputs": [],
   "source": [
    "# !sudo ollama create default -f ./Modelfile.movie_recommender"
   ]
  },
  {
   "cell_type": "markdown",
   "id": "a174ca94-3b34-4c13-8159-2765c267b0eb",
   "metadata": {},
   "source": [
    "## Model Inference"
   ]
  },
  {
   "cell_type": "code",
   "execution_count": 9,
   "id": "f0dcb73d-6007-4d00-899f-8201bb273610",
   "metadata": {},
   "outputs": [],
   "source": [
    "chat_bot = rd.MovieRecommenderChatBotFactory.text()"
   ]
  },
  {
   "cell_type": "code",
   "execution_count": 10,
   "id": "14156ef5-3c1c-4410-8d52-a0d85aa26ef5",
   "metadata": {},
   "outputs": [
    {
     "name": "stdin",
     "output_type": "stream",
     "text": [
      "\n",
      "-----------------------------------------------\n",
      "Hola Adrian, ¿Que querés que te recomiende hoy?\n",
      "-----------------------------------------------\n",
      "(\\bye or enter to exit)\n",
      "\n",
      " accion\n"
     ]
    },
    {
     "name": "stdout",
     "output_type": "stream",
     "text": [
      "\n",
      "\n",
      "Recomendaciones:\n",
      "\n",
      "1. \"El Laberinto del Fauno\" (2006): Dirigida por Guillermo del Toro, esta película fantástica y emocionante combina elementos de terror, aventura y drama. Con una calificación de 4.5/5 estrellas, es probable que le guste.\n",
      "2. \"The Social Network\" (2010): Este filme de biografía y drama está basado en la historia real de cómo se creó Facebook y cómo Mark Zuckerberg se convirtió en el CEO de la empresa. Con una calificación de 4.5/5 estrellas, es probable que le interese a alguien interesado en tecnología y negocios.\n",
      "3. \"The Shawshank Redemption\" (1994): Esta película de drama y suspense está considerada como una de las mejores películas de todos los tiempos. Con una calificación de 4.5/5 estrellas, es probable que le guste a alguien buscando una película emocionante y llena de giros inesperados.\n",
      "4. \"Into the Wild\" (2007): Este documental-drama está basado en la vida del hombre estadounidense Christopher McCandless, quien abandonó todo lo que tenía para vivir en un cabrio en Alaska. Con una calificación de 4.5/5 estrellas, es probable que le guste a alguien interesado en historias de aventuras y superación personal.\n",
      "5. \"Her\" (2013): Dirigida por Spike Jonze, esta película de ciencia ficción y drama sigue la historia de un hombre que se enamora de una inteligencia artificial virtual. Con una calificación de 4.5/5 estrellas, es probable que le guste a alguien interesado en temas de tecnología y relaciones humanas.\n",
      "\n",
      "En caso de no tener información sobre el usuario, puedo recomendar cualquier película que conozco y que sea adecuada para su gusto. ¿Qué prefieres ver?\n",
      "\n"
     ]
    },
    {
     "name": "stdin",
     "output_type": "stream",
     "text": [
      " \\bye\n"
     ]
    }
   ],
   "source": [
    "profile = rd.UserProfile(\n",
    "    name     = 'Adrian',\n",
    "    email    = 'adrianmarino@gmail.com',\n",
    "    metadata = {\n",
    "        'studies'        : 'Engineering',\n",
    "        'age'             : 32,\n",
    "        'genre'           : 'Male',\n",
    "        'nationality'     : 'Argentina',\n",
    "        'work'            : 'Software Engineer',\n",
    "        'prefered_movies' : {\n",
    "            'release': {\n",
    "                'from' : '1970'\n",
    "            },\n",
    "            'geres': [\n",
    "                'thiller', 'suspense', 'science fiction', 'love', 'comedy'\n",
    "            ]\n",
    "        }\n",
    "    }\n",
    ")\n",
    "\n",
    "history = chat_bot.start(profile)"
   ]
  },
  {
   "cell_type": "code",
   "execution_count": 11,
   "id": "cbd8f4e9-4657-4195-97b7-ceae23b54e3c",
   "metadata": {},
   "outputs": [
    {
     "data": {
      "text/html": [
       "<pre style=\"white-space:pre;overflow-x:auto;line-height:normal;font-family:Menlo,'DejaVu Sans Mono',consolas,'Courier New',monospace\"><span style=\"font-weight: bold\">{</span>\n",
       "    <span style=\"color: #008000; text-decoration-color: #008000\">\"entries\"</span>: <span style=\"font-weight: bold\">[</span>\n",
       "        <span style=\"font-weight: bold\">{</span>\n",
       "            <span style=\"color: #008000; text-decoration-color: #008000\">\"request\"</span>: <span style=\"color: #008000; text-decoration-color: #008000\">\"accion\"</span>,\n",
       "            <span style=\"color: #008000; text-decoration-color: #008000\">\"response\"</span>: <span style=\"color: #008000; text-decoration-color: #008000\">\"Recomendaciones:\\n\\n1. \\\"El Laberinto del Fauno\\\" (2006): Dirigida por Guillermo del Toro,</span>\n",
       "<span style=\"color: #008000; text-decoration-color: #008000\">esta pel\\u00edcula fant\\u00e1stica y emocionante combina elementos de terror, aventura y drama. Con una </span>\n",
       "<span style=\"color: #008000; text-decoration-color: #008000\">calificaci\\u00f3n de 4.5/5 estrellas, es probable que le guste.\\n2. \\\"The Social Network\\\" (2010): Este filme de </span>\n",
       "<span style=\"color: #008000; text-decoration-color: #008000\">biograf\\u00eda y drama est\\u00e1 basado en la historia real de c\\u00f3mo se cre\\u00f3 Facebook y c\\u00f3mo Mark </span>\n",
       "<span style=\"color: #008000; text-decoration-color: #008000\">Zuckerberg se convirti\\u00f3 en el CEO de la empresa. Con una calificaci\\u00f3n de 4.5/5 estrellas, es probable que</span>\n",
       "<span style=\"color: #008000; text-decoration-color: #008000\">le interese a alguien interesado en tecnolog\\u00eda y negocios.\\n3. \\\"The Shawshank Redemption\\\" (1994): Esta </span>\n",
       "<span style=\"color: #008000; text-decoration-color: #008000\">pel\\u00edcula de drama y suspense est\\u00e1 considerada como una de las mejores pel\\u00edculas de todos los </span>\n",
       "<span style=\"color: #008000; text-decoration-color: #008000\">tiempos. Con una calificaci\\u00f3n de 4.5/5 estrellas, es probable que le guste a alguien buscando una </span>\n",
       "<span style=\"color: #008000; text-decoration-color: #008000\">pel\\u00edcula emocionante y llena de giros inesperados.\\n4. \\\"Into the Wild\\\" (2007): Este documental-drama </span>\n",
       "<span style=\"color: #008000; text-decoration-color: #008000\">est\\u00e1 basado en la vida del hombre estadounidense Christopher McCandless, quien abandon\\u00f3 todo lo que </span>\n",
       "<span style=\"color: #008000; text-decoration-color: #008000\">ten\\u00eda para vivir en un cabrio en Alaska. Con una calificaci\\u00f3n de 4.5/5 estrellas, es probable que le </span>\n",
       "<span style=\"color: #008000; text-decoration-color: #008000\">guste a alguien interesado en historias de aventuras y superaci\\u00f3n personal.\\n5. \\\"Her\\\" (2013): Dirigida por </span>\n",
       "<span style=\"color: #008000; text-decoration-color: #008000\">Spike Jonze, esta pel\\u00edcula de ciencia ficci\\u00f3n y drama sigue la historia de un hombre que se enamora de </span>\n",
       "<span style=\"color: #008000; text-decoration-color: #008000\">una inteligencia artificial virtual. Con una calificaci\\u00f3n de 4.5/5 estrellas, es probable que le guste a </span>\n",
       "<span style=\"color: #008000; text-decoration-color: #008000\">alguien interesado en temas de tecnolog\\u00eda y relaciones humanas.\\n\\nEn caso de no tener informaci\\u00f3n sobre </span>\n",
       "<span style=\"color: #008000; text-decoration-color: #008000\">el usuario, puedo recomendar cualquier pel\\u00edcula que conozco y que sea adecuada para su gusto. \\u00bfQu\\u00e9 </span>\n",
       "<span style=\"color: #008000; text-decoration-color: #008000\">prefieres ver?\"</span>,\n",
       "            <span style=\"color: #008000; text-decoration-color: #008000\">\"data\"</span>: <span style=\"font-weight: bold\">{</span>\n",
       "                <span style=\"color: #008000; text-decoration-color: #008000\">\"recommendations\"</span>: <span style=\"font-weight: bold\">[</span>\n",
       "                    <span style=\"font-weight: bold\">{</span>\n",
       "                        <span style=\"color: #008000; text-decoration-color: #008000\">\"title\"</span>: <span style=\"color: #008000; text-decoration-color: #008000\">\"El laberinto del fauno\"</span>,\n",
       "                        <span style=\"color: #008000; text-decoration-color: #008000\">\"description\"</span>: <span style=\"color: #008000; text-decoration-color: #008000\">\"Dirigida por guillermo del toro, esta pel\\u00edcula fant\\u00e1stica y </span>\n",
       "<span style=\"color: #008000; text-decoration-color: #008000\">emocionante combina elementos de terror, aventura y drama. con una calificaci\\u00f3n de 4.5/5 estrellas, es </span>\n",
       "<span style=\"color: #008000; text-decoration-color: #008000\">probable que le guste.\"</span>,\n",
       "                        <span style=\"color: #008000; text-decoration-color: #008000\">\"release\"</span>: <span style=\"color: #008080; text-decoration-color: #008080; font-weight: bold\">2006</span>\n",
       "                    <span style=\"font-weight: bold\">}</span>,\n",
       "                    <span style=\"font-weight: bold\">{</span>\n",
       "                        <span style=\"color: #008000; text-decoration-color: #008000\">\"title\"</span>: <span style=\"color: #008000; text-decoration-color: #008000\">\"The social network\"</span>,\n",
       "                        <span style=\"color: #008000; text-decoration-color: #008000\">\"description\"</span>: <span style=\"color: #008000; text-decoration-color: #008000\">\"Este filme de biograf\\u00eda y drama est\\u00e1 basado en la historia real </span>\n",
       "<span style=\"color: #008000; text-decoration-color: #008000\">de c\\u00f3mo se cre\\u00f3 facebook y c\\u00f3mo mark zuckerberg se convirti\\u00f3 en el ceo de la empresa. con una </span>\n",
       "<span style=\"color: #008000; text-decoration-color: #008000\">calificaci\\u00f3n de 4.5/5 estrellas, es probable que le interese a alguien interesado en tecnolog\\u00eda y </span>\n",
       "<span style=\"color: #008000; text-decoration-color: #008000\">negocios.\"</span>,\n",
       "                        <span style=\"color: #008000; text-decoration-color: #008000\">\"release\"</span>: <span style=\"color: #008080; text-decoration-color: #008080; font-weight: bold\">2010</span>\n",
       "                    <span style=\"font-weight: bold\">}</span>,\n",
       "                    <span style=\"font-weight: bold\">{</span>\n",
       "                        <span style=\"color: #008000; text-decoration-color: #008000\">\"title\"</span>: <span style=\"color: #008000; text-decoration-color: #008000\">\"/5 estrellas, es probable que le guste.\\n2. the social network\"</span>,\n",
       "                        <span style=\"color: #008000; text-decoration-color: #008000\">\"description\"</span>: <span style=\"color: #008000; text-decoration-color: #008000\">\"Este filme de biograf\\u00eda y drama est\\u00e1 basado en la historia real </span>\n",
       "<span style=\"color: #008000; text-decoration-color: #008000\">de c\\u00f3mo se cre\\u00f3 facebook y c\\u00f3mo mark zuckerberg se convirti\\u00f3 en el ceo de la empresa. con una </span>\n",
       "<span style=\"color: #008000; text-decoration-color: #008000\">calificaci\\u00f3n de 4.5/5 estrellas, es probable que le interese a alguien interesado en tecnolog\\u00eda y </span>\n",
       "<span style=\"color: #008000; text-decoration-color: #008000\">negocios.\\n3. \\\"the shawshank redemption\\\"\"</span>,\n",
       "                        <span style=\"color: #008000; text-decoration-color: #008000\">\"release\"</span>: <span style=\"color: #008080; text-decoration-color: #008080; font-weight: bold\">2010</span>\n",
       "                    <span style=\"font-weight: bold\">}</span>,\n",
       "                    <span style=\"font-weight: bold\">{</span>\n",
       "                        <span style=\"color: #008000; text-decoration-color: #008000\">\"title\"</span>: <span style=\"color: #008000; text-decoration-color: #008000\">\"Her\"</span>,\n",
       "                        <span style=\"color: #008000; text-decoration-color: #008000\">\"description\"</span>: <span style=\"color: #008000; text-decoration-color: #008000\">\"Dirigida por spike jonze, esta pel\\u00edcula de ciencia ficci\\u00f3n y </span>\n",
       "<span style=\"color: #008000; text-decoration-color: #008000\">drama sigue la historia de un hombre que se enamora de una inteligencia artificial virtual. con una </span>\n",
       "<span style=\"color: #008000; text-decoration-color: #008000\">calificaci\\u00f3n de 4.5/5 estrellas, es probable que le guste a alguien interesado en temas de tecnolog\\u00eda y </span>\n",
       "<span style=\"color: #008000; text-decoration-color: #008000\">relaciones humanas.\\n\\nen caso de no tener informaci\\u00f3n sobre el usuario, puedo recomendar cualquier </span>\n",
       "<span style=\"color: #008000; text-decoration-color: #008000\">pel\\u00edcula que conozco y que sea adecuada para su gusto. \\u00bfqu\\u00e9 prefieres ver\"</span>,\n",
       "                        <span style=\"color: #008000; text-decoration-color: #008000\">\"release\"</span>: <span style=\"color: #008080; text-decoration-color: #008080; font-weight: bold\">2013</span>\n",
       "                    <span style=\"font-weight: bold\">}</span>\n",
       "                <span style=\"font-weight: bold\">]</span>\n",
       "            <span style=\"font-weight: bold\">}</span>\n",
       "        <span style=\"font-weight: bold\">}</span>\n",
       "    <span style=\"font-weight: bold\">]</span>\n",
       "<span style=\"font-weight: bold\">}</span>\n",
       "</pre>\n"
      ],
      "text/plain": [
       "\u001b[1m{\u001b[0m\n",
       "    \u001b[32m\"entries\"\u001b[0m: \u001b[1m[\u001b[0m\n",
       "        \u001b[1m{\u001b[0m\n",
       "            \u001b[32m\"request\"\u001b[0m: \u001b[32m\"accion\"\u001b[0m,\n",
       "            \u001b[32m\"response\"\u001b[0m: \u001b[32m\"Recomendaciones:\\n\\n1. \\\"El Laberinto del Fauno\\\" \u001b[0m\u001b[32m(\u001b[0m\u001b[32m2006\u001b[0m\u001b[32m)\u001b[0m\u001b[32m: Dirigida por Guillermo del Toro,\u001b[0m\n",
       "\u001b[32mesta pel\\u00edcula fant\\u00e1stica y emocionante combina elementos de terror, aventura y drama. Con una \u001b[0m\n",
       "\u001b[32mcalificaci\\u00f3n de 4.5/5 estrellas, es probable que le guste.\\n2. \\\"The Social Network\\\" \u001b[0m\u001b[32m(\u001b[0m\u001b[32m2010\u001b[0m\u001b[32m)\u001b[0m\u001b[32m: Este filme de \u001b[0m\n",
       "\u001b[32mbiograf\\u00eda y drama est\\u00e1 basado en la historia real de c\\u00f3mo se cre\\u00f3 Facebook y c\\u00f3mo Mark \u001b[0m\n",
       "\u001b[32mZuckerberg se convirti\\u00f3 en el CEO de la empresa. Con una calificaci\\u00f3n de 4.5/5 estrellas, es probable que\u001b[0m\n",
       "\u001b[32mle interese a alguien interesado en tecnolog\\u00eda y negocios.\\n3. \\\"The Shawshank Redemption\\\" \u001b[0m\u001b[32m(\u001b[0m\u001b[32m1994\u001b[0m\u001b[32m)\u001b[0m\u001b[32m: Esta \u001b[0m\n",
       "\u001b[32mpel\\u00edcula de drama y suspense est\\u00e1 considerada como una de las mejores pel\\u00edculas de todos los \u001b[0m\n",
       "\u001b[32mtiempos. Con una calificaci\\u00f3n de 4.5/5 estrellas, es probable que le guste a alguien buscando una \u001b[0m\n",
       "\u001b[32mpel\\u00edcula emocionante y llena de giros inesperados.\\n4. \\\"Into the Wild\\\" \u001b[0m\u001b[32m(\u001b[0m\u001b[32m2007\u001b[0m\u001b[32m)\u001b[0m\u001b[32m: Este documental-drama \u001b[0m\n",
       "\u001b[32mest\\u00e1 basado en la vida del hombre estadounidense Christopher McCandless, quien abandon\\u00f3 todo lo que \u001b[0m\n",
       "\u001b[32mten\\u00eda para vivir en un cabrio en Alaska. Con una calificaci\\u00f3n de 4.5/5 estrellas, es probable que le \u001b[0m\n",
       "\u001b[32mguste a alguien interesado en historias de aventuras y superaci\\u00f3n personal.\\n5. \\\"Her\\\" \u001b[0m\u001b[32m(\u001b[0m\u001b[32m2013\u001b[0m\u001b[32m)\u001b[0m\u001b[32m: Dirigida por \u001b[0m\n",
       "\u001b[32mSpike Jonze, esta pel\\u00edcula de ciencia ficci\\u00f3n y drama sigue la historia de un hombre que se enamora de \u001b[0m\n",
       "\u001b[32muna inteligencia artificial virtual. Con una calificaci\\u00f3n de 4.5/5 estrellas, es probable que le guste a \u001b[0m\n",
       "\u001b[32malguien interesado en temas de tecnolog\\u00eda y relaciones humanas.\\n\\nEn caso de no tener informaci\\u00f3n sobre \u001b[0m\n",
       "\u001b[32mel usuario, puedo recomendar cualquier pel\\u00edcula que conozco y que sea adecuada para su gusto. \\u00bfQu\\u00e9 \u001b[0m\n",
       "\u001b[32mprefieres ver?\"\u001b[0m,\n",
       "            \u001b[32m\"data\"\u001b[0m: \u001b[1m{\u001b[0m\n",
       "                \u001b[32m\"recommendations\"\u001b[0m: \u001b[1m[\u001b[0m\n",
       "                    \u001b[1m{\u001b[0m\n",
       "                        \u001b[32m\"title\"\u001b[0m: \u001b[32m\"El laberinto del fauno\"\u001b[0m,\n",
       "                        \u001b[32m\"description\"\u001b[0m: \u001b[32m\"Dirigida por guillermo del toro, esta pel\\u00edcula fant\\u00e1stica y \u001b[0m\n",
       "\u001b[32memocionante combina elementos de terror, aventura y drama. con una calificaci\\u00f3n de 4.5/5 estrellas, es \u001b[0m\n",
       "\u001b[32mprobable que le guste.\"\u001b[0m,\n",
       "                        \u001b[32m\"release\"\u001b[0m: \u001b[1;36m2006\u001b[0m\n",
       "                    \u001b[1m}\u001b[0m,\n",
       "                    \u001b[1m{\u001b[0m\n",
       "                        \u001b[32m\"title\"\u001b[0m: \u001b[32m\"The social network\"\u001b[0m,\n",
       "                        \u001b[32m\"description\"\u001b[0m: \u001b[32m\"Este filme de biograf\\u00eda y drama est\\u00e1 basado en la historia real \u001b[0m\n",
       "\u001b[32mde c\\u00f3mo se cre\\u00f3 facebook y c\\u00f3mo mark zuckerberg se convirti\\u00f3 en el ceo de la empresa. con una \u001b[0m\n",
       "\u001b[32mcalificaci\\u00f3n de 4.5/5 estrellas, es probable que le interese a alguien interesado en tecnolog\\u00eda y \u001b[0m\n",
       "\u001b[32mnegocios.\"\u001b[0m,\n",
       "                        \u001b[32m\"release\"\u001b[0m: \u001b[1;36m2010\u001b[0m\n",
       "                    \u001b[1m}\u001b[0m,\n",
       "                    \u001b[1m{\u001b[0m\n",
       "                        \u001b[32m\"title\"\u001b[0m: \u001b[32m\"/5 estrellas, es probable que le guste.\\n2. the social network\"\u001b[0m,\n",
       "                        \u001b[32m\"description\"\u001b[0m: \u001b[32m\"Este filme de biograf\\u00eda y drama est\\u00e1 basado en la historia real \u001b[0m\n",
       "\u001b[32mde c\\u00f3mo se cre\\u00f3 facebook y c\\u00f3mo mark zuckerberg se convirti\\u00f3 en el ceo de la empresa. con una \u001b[0m\n",
       "\u001b[32mcalificaci\\u00f3n de 4.5/5 estrellas, es probable que le interese a alguien interesado en tecnolog\\u00eda y \u001b[0m\n",
       "\u001b[32mnegocios.\\n3. \\\"the shawshank redemption\\\"\"\u001b[0m,\n",
       "                        \u001b[32m\"release\"\u001b[0m: \u001b[1;36m2010\u001b[0m\n",
       "                    \u001b[1m}\u001b[0m,\n",
       "                    \u001b[1m{\u001b[0m\n",
       "                        \u001b[32m\"title\"\u001b[0m: \u001b[32m\"Her\"\u001b[0m,\n",
       "                        \u001b[32m\"description\"\u001b[0m: \u001b[32m\"Dirigida por spike jonze, esta pel\\u00edcula de ciencia ficci\\u00f3n y \u001b[0m\n",
       "\u001b[32mdrama sigue la historia de un hombre que se enamora de una inteligencia artificial virtual. con una \u001b[0m\n",
       "\u001b[32mcalificaci\\u00f3n de 4.5/5 estrellas, es probable que le guste a alguien interesado en temas de tecnolog\\u00eda y \u001b[0m\n",
       "\u001b[32mrelaciones humanas.\\n\\nen caso de no tener informaci\\u00f3n sobre el usuario, puedo recomendar cualquier \u001b[0m\n",
       "\u001b[32mpel\\u00edcula que conozco y que sea adecuada para su gusto. \\u00bfqu\\u00e9 prefieres ver\"\u001b[0m,\n",
       "                        \u001b[32m\"release\"\u001b[0m: \u001b[1;36m2013\u001b[0m\n",
       "                    \u001b[1m}\u001b[0m\n",
       "                \u001b[1m]\u001b[0m\n",
       "            \u001b[1m}\u001b[0m\n",
       "        \u001b[1m}\u001b[0m\n",
       "    \u001b[1m]\u001b[0m\n",
       "\u001b[1m}\u001b[0m\n"
      ]
     },
     "metadata": {},
     "output_type": "display_data"
    }
   ],
   "source": [
    "print(history)"
   ]
  }
 ],
 "metadata": {
  "kernelspec": {
   "display_name": "Python 3 (ipykernel)",
   "language": "python",
   "name": "python3"
  },
  "language_info": {
   "codemirror_mode": {
    "name": "ipython",
    "version": 3
   },
   "file_extension": ".py",
   "mimetype": "text/x-python",
   "name": "python",
   "nbconvert_exporter": "python",
   "pygments_lexer": "ipython3",
   "version": "3.10.13"
  },
  "widgets": {
   "application/vnd.jupyter.widget-state+json": {
    "state": {},
    "version_major": 2,
    "version_minor": 0
   }
  }
 },
 "nbformat": 4,
 "nbformat_minor": 5
}
