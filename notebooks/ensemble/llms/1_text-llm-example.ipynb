{
 "cells": [
  {
   "cell_type": "markdown",
   "id": "0417277b-47df-4113-a7b3-8f960db06f1d",
   "metadata": {
    "tags": []
   },
   "source": [
    "# Modelos: Text LLM"
   ]
  },
  {
   "cell_type": "markdown",
   "id": "eef46fb7-b5c8-47e8-b90a-99a1c3027f4b",
   "metadata": {
    "tags": []
   },
   "source": [
    "### Papers\n",
    "\n",
    "* [Chat-REC: Towards Interactive and Explainable\n",
    "LLMs-Augmented Recommender System](https://github.com/adrianmarino/thesis-paper/blob/master/docs/ideas/2303.14524.pdf)\n",
    "* [Large Language Models as Zero-Shot Conversational\n",
    "Recommenders](https://github.com/adrianmarino/thesis-paper/blob/master/docs/ideas/3583780.3614949.pdf)\n",
    "* [Large Language Models are Competitive Near Cold-start\n",
    "Recommenders for Language- and Item-based Preferences](https://github.com/adrianmarino/thesis-paper/blob/master/docs/ideas/3604915.3608845.pdf)\n",
    "\n",
    "### Implementation\n",
    "\n",
    "* [Langchain Quickstart](https://python.langchain.com/docs/integrations/llms/ollama)\n",
    "* [Langchain Ollama](https://python.langchain.com/docs/integrations/llms/ollama)\n",
    "* [Langchain Agents](https://python.langchain.com/docs/modules/agents/)\n",
    "* [Ollama Model File](https://github.com/jmorganca/ollama/blob/main/docs/modelfile.md)"
   ]
  },
  {
   "cell_type": "code",
   "execution_count": 1,
   "id": "35e430dd-e279-4258-82a4-6b7a1347304b",
   "metadata": {},
   "outputs": [],
   "source": [
    "%load_ext autoreload\n",
    "%autoreload 2"
   ]
  },
  {
   "cell_type": "code",
   "execution_count": 2,
   "id": "834b2f2d-4103-4cf5-880d-10404d8ec7d3",
   "metadata": {},
   "outputs": [],
   "source": [
    "BASE_PATH             = '../../..'\n",
    "LIB_PATH              = f'{BASE_PATH}/lib'\n",
    "DATASET_PATH          = f'{BASE_PATH}/datasets'"
   ]
  },
  {
   "cell_type": "code",
   "execution_count": 3,
   "id": "f98e7bf4-f41a-43f6-b7b7-a991d00f82de",
   "metadata": {},
   "outputs": [
    {
     "name": "stderr",
     "output_type": "stream",
     "text": [
      "2023-12-31 16:48:52.831321: I tensorflow/core/platform/cpu_feature_guard.cc:182] This TensorFlow binary is optimized to use available CPU instructions in performance-critical operations.\n",
      "To enable the following instructions: AVX2 FMA, in other operations, rebuild TensorFlow with the appropriate compiler flags.\n",
      "2023-12-31 16:48:53.481645: W tensorflow/compiler/tf2tensorrt/utils/py_utils.cc:38] TF-TRT Warning: Could not find TensorRT\n",
      "2023-12-31 16:48:54.149982: I tensorflow/compiler/xla/stream_executor/cuda/cuda_gpu_executor.cc:996] successful NUMA node read from SysFS had negative value (-1), but there must be at least one NUMA node, so returning NUMA node zero. See more at https://github.com/torvalds/linux/blob/v6.0/Documentation/ABI/testing/sysfs-bus-pci#L344-L355\n",
      "2023-12-31 16:48:54.240884: W tensorflow/core/common_runtime/gpu/gpu_device.cc:1956] Cannot dlopen some GPU libraries. Please make sure the missing libraries mentioned above are installed properly if you would like to use GPU. Follow the guide at https://www.tensorflow.org/install/gpu for how to download and setup the required libraries for your platform.\n",
      "Skipping registering GPU devices...\n"
     ]
    },
    {
     "data": {
      "text/plain": [
       "<Figure size 640x480 with 0 Axes>"
      ]
     },
     "metadata": {},
     "output_type": "display_data"
    }
   ],
   "source": [
    "import sys\n",
    "sys.path.append(LIB_PATH)\n",
    "\n",
    "import numpy as np\n",
    "import pandas as pd\n",
    "\n",
    "import util as ut\n",
    "\n",
    "import recommender as rd"
   ]
  },
  {
   "cell_type": "markdown",
   "id": "c2b2aa52-be91-4ff8-b9d6-52b525bec2ca",
   "metadata": {},
   "source": [
    "## Setup"
   ]
  },
  {
   "cell_type": "code",
   "execution_count": 4,
   "id": "3a3e6040-f06b-4cb3-941a-a22d18507bf2",
   "metadata": {
    "tags": []
   },
   "outputs": [],
   "source": [
    "# !sudo systemctl enable ollama\n",
    "# !sudo systemctl restart ollamaff"
   ]
  },
  {
   "cell_type": "markdown",
   "id": "ea31251c-b16e-4162-af8a-a9cef8ecfa4f",
   "metadata": {},
   "source": [
    "## Create model"
   ]
  },
  {
   "cell_type": "markdown",
   "id": "f712184a-5e2e-41ee-bbd9-a1f846f586aa",
   "metadata": {},
   "source": [
    "Model definition:"
   ]
  },
  {
   "cell_type": "code",
   "execution_count": 5,
   "id": "4601105b-c18c-4799-86f7-a64305951985",
   "metadata": {
    "tags": []
   },
   "outputs": [
    {
     "name": "stdout",
     "output_type": "stream",
     "text": [
      "cat: ./Modelfile.movie_recommender: No such file or directory\n"
     ]
    }
   ],
   "source": [
    "! cat ./Modelfile.movie_recommender"
   ]
  },
  {
   "cell_type": "code",
   "execution_count": 6,
   "id": "f5a4fcf2-d3dd-412f-8d5f-d150ae932b8e",
   "metadata": {
    "tags": []
   },
   "outputs": [],
   "source": [
    "# !sudo ollama create default -f ./Modelfile.movie_recommender"
   ]
  },
  {
   "cell_type": "markdown",
   "id": "a174ca94-3b34-4c13-8159-2765c267b0eb",
   "metadata": {},
   "source": [
    "## Model Inference"
   ]
  },
  {
   "cell_type": "code",
   "execution_count": 17,
   "id": "f0dcb73d-6007-4d00-899f-8201bb273610",
   "metadata": {},
   "outputs": [],
   "source": [
    "chat_bot = rd.MovieRecommenderChatBotFactory.text()"
   ]
  },
  {
   "cell_type": "code",
   "execution_count": 18,
   "id": "14156ef5-3c1c-4410-8d52-a0d85aa26ef5",
   "metadata": {},
   "outputs": [
    {
     "name": "stdin",
     "output_type": "stream",
     "text": [
      "\n",
      "-----------------------------------------------\n",
      "Hola Adrian, ¿Que querés que te recomiende hoy?\n",
      "-----------------------------------------------\n",
      "(\\bye or enter to exit)\n",
      "\n",
      " accion\n"
     ]
    },
    {
     "name": "stdout",
     "output_type": "stream",
     "text": [
      "\n",
      "\n",
      "Recomendaciones:\n",
      "\n",
      "1. El Laberinto del Fauno (2006, 4.5): Dirigida por Guillermo del Toro, esta película de fantasía y drama es una obra maestra que combina elementos de la literatura y la historia para crear un mundo imaginario y emocionante.\n",
      "2. La Laja (2017, 4.2): Esta película chilena de terror psicológico es una thriller intenso que sigue a una joven que se siente atrapada en un mundo de terror y suspense.\n",
      "3. Roma (2018, 4.5): Dirigida por Alfonso Cuarón, esta película de drama histórico es una oda a la Ciudad de México de los años 70, con una actuación brillante de Yalitza Aparicio.\n",
      "4. Parque Vue (2019, 4.3): Esta película surcoreana de terror psicológico sigue a un hombre que se siente atrapado en un parque desconocido donde las cosas no son lo que parecen.\n",
      "5. The Lighthouse (2019, 4.6): Dirigida por Robert Eggers, esta película de terror y drama histórico sigue a dos hermanos que trabajan en una luz del faro en el siglo XIX y se encuentran con cosas sobrenaturales.\n",
      "\n",
      "En caso de no tener información para recomendar, puedo elegir entre las películas que conozco y te proporcionaré varias opciones con una descripción breve de cada una. ¿Quieres que te revelee algunas opciones?\n",
      "\n"
     ]
    },
    {
     "name": "stdin",
     "output_type": "stream",
     "text": [
      " \n"
     ]
    }
   ],
   "source": [
    "profile = rd.UserProfile(\n",
    "    name     = 'Adrian',\n",
    "    email    = 'adrianmarino@gmail.com',\n",
    "    metadata = {\n",
    "        'studies'        : 'Engineering',\n",
    "        'age'             : 32,\n",
    "        'genre'           : 'Male',\n",
    "        'nationality'     : 'Argentina',\n",
    "        'work'            : 'Software Engineer',\n",
    "        'prefered_movies' : {\n",
    "            'release': {\n",
    "                'from' : '1970'\n",
    "            },\n",
    "            'geres': [\n",
    "                'thiller', 'suspense', 'science fiction', 'love', 'comedy'\n",
    "            ]\n",
    "        }\n",
    "    }\n",
    ")\n",
    "\n",
    "history = chat_bot.start(profile)"
   ]
  },
  {
   "cell_type": "code",
   "execution_count": 19,
   "id": "cbd8f4e9-4657-4195-97b7-ceae23b54e3c",
   "metadata": {},
   "outputs": [
    {
     "data": {
      "text/html": [
       "<pre style=\"white-space:pre;overflow-x:auto;line-height:normal;font-family:Menlo,'DejaVu Sans Mono',consolas,'Courier New',monospace\"><span style=\"font-weight: bold\">{</span>\n",
       "    <span style=\"color: #008000; text-decoration-color: #008000\">\"entries\"</span>: <span style=\"font-weight: bold\">[</span>\n",
       "        <span style=\"font-weight: bold\">{</span>\n",
       "            <span style=\"color: #008000; text-decoration-color: #008000\">\"request\"</span>: <span style=\"color: #008000; text-decoration-color: #008000\">\"accion\"</span>,\n",
       "            <span style=\"color: #008000; text-decoration-color: #008000\">\"response\"</span>: <span style=\"color: #008000; text-decoration-color: #008000\">\"Recomendaciones:\\n\\n1. El Laberinto del Fauno (2006, 4.5): Dirigida por Guillermo del </span>\n",
       "<span style=\"color: #008000; text-decoration-color: #008000\">Toro, esta pel\\u00edcula de fantas\\u00eda y drama es una obra maestra que combina elementos de la literatura y la </span>\n",
       "<span style=\"color: #008000; text-decoration-color: #008000\">historia para crear un mundo imaginario y emocionante.\\n2. La Laja (2017, 4.2): Esta pel\\u00edcula chilena de </span>\n",
       "<span style=\"color: #008000; text-decoration-color: #008000\">terror psicol\\u00f3gico es una thriller intenso que sigue a una joven que se siente atrapada en un mundo de terror </span>\n",
       "<span style=\"color: #008000; text-decoration-color: #008000\">y suspense.\\n3. Roma (2018, 4.5): Dirigida por Alfonso Cuar\\u00f3n, esta pel\\u00edcula de drama hist\\u00f3rico es </span>\n",
       "<span style=\"color: #008000; text-decoration-color: #008000\">una oda a la Ciudad de M\\u00e9xico de los a\\u00f1os 70, con una actuaci\\u00f3n brillante de Yalitza Aparicio.\\n4. </span>\n",
       "<span style=\"color: #008000; text-decoration-color: #008000\">Parque Vue (2019, 4.3): Esta pel\\u00edcula surcoreana de terror psicol\\u00f3gico sigue a un hombre que se siente </span>\n",
       "<span style=\"color: #008000; text-decoration-color: #008000\">atrapado en un parque desconocido donde las cosas no son lo que parecen.\\n5. The Lighthouse (2019, 4.6): Dirigida </span>\n",
       "<span style=\"color: #008000; text-decoration-color: #008000\">por Robert Eggers, esta pel\\u00edcula de terror y drama hist\\u00f3rico sigue a dos hermanos que trabajan en una luz</span>\n",
       "<span style=\"color: #008000; text-decoration-color: #008000\">del faro en el siglo XIX y se encuentran con cosas sobrenaturales.\\n\\nEn caso de no tener informaci\\u00f3n para </span>\n",
       "<span style=\"color: #008000; text-decoration-color: #008000\">recomendar, puedo elegir entre las pel\\u00edculas que conozco y te proporcionar\\u00e9 varias opciones con una </span>\n",
       "<span style=\"color: #008000; text-decoration-color: #008000\">descripci\\u00f3n breve de cada una. \\u00bfQuieres que te revelee algunas opciones?\"</span>,\n",
       "            <span style=\"color: #008000; text-decoration-color: #008000\">\"data\"</span>: <span style=\"font-weight: bold\">{</span>\n",
       "                <span style=\"color: #008000; text-decoration-color: #008000\">\"recommendations\"</span>: <span style=\"font-weight: bold\">[</span>\n",
       "                    <span style=\"font-weight: bold\">{</span>\n",
       "                        <span style=\"color: #008000; text-decoration-color: #008000\">\"title\"</span>: <span style=\"color: #008000; text-decoration-color: #008000\">\"The lighthouse\"</span>,\n",
       "                        <span style=\"color: #008000; text-decoration-color: #008000\">\"rating\"</span>: <span style=\"color: #008080; text-decoration-color: #008080; font-weight: bold\">4.6</span>,\n",
       "                        <span style=\"color: #008000; text-decoration-color: #008000\">\"description\"</span>: <span style=\"color: #008000; text-decoration-color: #008000\">\"Dirigida por robert eggers, esta pel\\u00edcula de terror y drama </span>\n",
       "<span style=\"color: #008000; text-decoration-color: #008000\">hist\\u00f3rico sigue a dos hermanos que trabajan en una luz del faro en el siglo xix y se encuentran con cosas </span>\n",
       "<span style=\"color: #008000; text-decoration-color: #008000\">sobrenaturales.\\n\\nen caso de no tener informaci\\u00f3n para recomendar, puedo elegir entre las pel\\u00edculas que </span>\n",
       "<span style=\"color: #008000; text-decoration-color: #008000\">conozco y te proporcionar\\u00e9 varias opciones con una descripci\\u00f3n breve de cada una. \\u00bfquieres que te </span>\n",
       "<span style=\"color: #008000; text-decoration-color: #008000\">revelee algunas opciones\"</span>,\n",
       "                        <span style=\"color: #008000; text-decoration-color: #008000\">\"release\"</span>: <span style=\"color: #008080; text-decoration-color: #008080; font-weight: bold\">2019</span>\n",
       "                    <span style=\"font-weight: bold\">}</span>,\n",
       "                    <span style=\"font-weight: bold\">{</span>\n",
       "                        <span style=\"color: #008000; text-decoration-color: #008000\">\"title\"</span>: <span style=\"color: #008000; text-decoration-color: #008000\">\"El laberinto del fauno\"</span>,\n",
       "                        <span style=\"color: #008000; text-decoration-color: #008000\">\"rating\"</span>: <span style=\"color: #008080; text-decoration-color: #008080; font-weight: bold\">4.5</span>,\n",
       "                        <span style=\"color: #008000; text-decoration-color: #008000\">\"description\"</span>: <span style=\"color: #008000; text-decoration-color: #008000\">\"Dirigida por guillermo del toro, esta pel\\u00edcula de fantas\\u00eda y </span>\n",
       "<span style=\"color: #008000; text-decoration-color: #008000\">drama es una obra maestra que combina elementos de la literatura y la historia para crear un mundo imaginario y </span>\n",
       "<span style=\"color: #008000; text-decoration-color: #008000\">emocionante.\"</span>,\n",
       "                        <span style=\"color: #008000; text-decoration-color: #008000\">\"release\"</span>: <span style=\"color: #008080; text-decoration-color: #008080; font-weight: bold\">2006</span>\n",
       "                    <span style=\"font-weight: bold\">}</span>,\n",
       "                    <span style=\"font-weight: bold\">{</span>\n",
       "                        <span style=\"color: #008000; text-decoration-color: #008000\">\"title\"</span>: <span style=\"color: #008000; text-decoration-color: #008000\">\"Roma\"</span>,\n",
       "                        <span style=\"color: #008000; text-decoration-color: #008000\">\"rating\"</span>: <span style=\"color: #008080; text-decoration-color: #008080; font-weight: bold\">4.5</span>,\n",
       "                        <span style=\"color: #008000; text-decoration-color: #008000\">\"description\"</span>: <span style=\"color: #008000; text-decoration-color: #008000\">\"Dirigida por alfonso cuar\\u00f3n, esta pel\\u00edcula de drama </span>\n",
       "<span style=\"color: #008000; text-decoration-color: #008000\">hist\\u00f3rico es una oda a la ciudad de m\\u00e9xico de los a\\u00f1os 70, con una actuaci\\u00f3n brillante de </span>\n",
       "<span style=\"color: #008000; text-decoration-color: #008000\">yalitza aparicio.\"</span>,\n",
       "                        <span style=\"color: #008000; text-decoration-color: #008000\">\"release\"</span>: <span style=\"color: #008080; text-decoration-color: #008080; font-weight: bold\">2018</span>\n",
       "                    <span style=\"font-weight: bold\">}</span>,\n",
       "                    <span style=\"font-weight: bold\">{</span>\n",
       "                        <span style=\"color: #008000; text-decoration-color: #008000\">\"title\"</span>: <span style=\"color: #008000; text-decoration-color: #008000\">\"Parque vue\"</span>,\n",
       "                        <span style=\"color: #008000; text-decoration-color: #008000\">\"rating\"</span>: <span style=\"color: #008080; text-decoration-color: #008080; font-weight: bold\">4.3</span>,\n",
       "                        <span style=\"color: #008000; text-decoration-color: #008000\">\"description\"</span>: <span style=\"color: #008000; text-decoration-color: #008000\">\"Esta pel\\u00edcula surcoreana de terror psicol\\u00f3gico sigue a un hombre </span>\n",
       "<span style=\"color: #008000; text-decoration-color: #008000\">que se siente atrapado en un parque desconocido donde las cosas no son lo que parecen.\"</span>,\n",
       "                        <span style=\"color: #008000; text-decoration-color: #008000\">\"release\"</span>: <span style=\"color: #008080; text-decoration-color: #008080; font-weight: bold\">2019</span>\n",
       "                    <span style=\"font-weight: bold\">}</span>,\n",
       "                    <span style=\"font-weight: bold\">{</span>\n",
       "                        <span style=\"color: #008000; text-decoration-color: #008000\">\"title\"</span>: <span style=\"color: #008000; text-decoration-color: #008000\">\"La laja\"</span>,\n",
       "                        <span style=\"color: #008000; text-decoration-color: #008000\">\"rating\"</span>: <span style=\"color: #008080; text-decoration-color: #008080; font-weight: bold\">4.2</span>,\n",
       "                        <span style=\"color: #008000; text-decoration-color: #008000\">\"description\"</span>: <span style=\"color: #008000; text-decoration-color: #008000\">\"Esta pel\\u00edcula chilena de terror psicol\\u00f3gico es una thriller </span>\n",
       "<span style=\"color: #008000; text-decoration-color: #008000\">intenso que sigue a una joven que se siente atrapada en un mundo de terror y suspense.\"</span>,\n",
       "                        <span style=\"color: #008000; text-decoration-color: #008000\">\"release\"</span>: <span style=\"color: #008080; text-decoration-color: #008080; font-weight: bold\">2017</span>\n",
       "                    <span style=\"font-weight: bold\">}</span>\n",
       "                <span style=\"font-weight: bold\">]</span>\n",
       "            <span style=\"font-weight: bold\">}</span>\n",
       "        <span style=\"font-weight: bold\">}</span>\n",
       "    <span style=\"font-weight: bold\">]</span>\n",
       "<span style=\"font-weight: bold\">}</span>\n",
       "</pre>\n"
      ],
      "text/plain": [
       "\u001b[1m{\u001b[0m\n",
       "    \u001b[32m\"entries\"\u001b[0m: \u001b[1m[\u001b[0m\n",
       "        \u001b[1m{\u001b[0m\n",
       "            \u001b[32m\"request\"\u001b[0m: \u001b[32m\"accion\"\u001b[0m,\n",
       "            \u001b[32m\"response\"\u001b[0m: \u001b[32m\"Recomendaciones:\\n\\n1. El Laberinto del Fauno \u001b[0m\u001b[32m(\u001b[0m\u001b[32m2006, 4.5\u001b[0m\u001b[32m)\u001b[0m\u001b[32m: Dirigida por Guillermo del \u001b[0m\n",
       "\u001b[32mToro, esta pel\\u00edcula de fantas\\u00eda y drama es una obra maestra que combina elementos de la literatura y la \u001b[0m\n",
       "\u001b[32mhistoria para crear un mundo imaginario y emocionante.\\n2. La Laja \u001b[0m\u001b[32m(\u001b[0m\u001b[32m2017, 4.2\u001b[0m\u001b[32m)\u001b[0m\u001b[32m: Esta pel\\u00edcula chilena de \u001b[0m\n",
       "\u001b[32mterror psicol\\u00f3gico es una thriller intenso que sigue a una joven que se siente atrapada en un mundo de terror \u001b[0m\n",
       "\u001b[32my suspense.\\n3. Roma \u001b[0m\u001b[32m(\u001b[0m\u001b[32m2018, 4.5\u001b[0m\u001b[32m)\u001b[0m\u001b[32m: Dirigida por Alfonso Cuar\\u00f3n, esta pel\\u00edcula de drama hist\\u00f3rico es \u001b[0m\n",
       "\u001b[32muna oda a la Ciudad de M\\u00e9xico de los a\\u00f1os 70, con una actuaci\\u00f3n brillante de Yalitza Aparicio.\\n4. \u001b[0m\n",
       "\u001b[32mParque Vue \u001b[0m\u001b[32m(\u001b[0m\u001b[32m2019, 4.3\u001b[0m\u001b[32m)\u001b[0m\u001b[32m: Esta pel\\u00edcula surcoreana de terror psicol\\u00f3gico sigue a un hombre que se siente \u001b[0m\n",
       "\u001b[32matrapado en un parque desconocido donde las cosas no son lo que parecen.\\n5. The Lighthouse \u001b[0m\u001b[32m(\u001b[0m\u001b[32m2019, 4.6\u001b[0m\u001b[32m)\u001b[0m\u001b[32m: Dirigida \u001b[0m\n",
       "\u001b[32mpor Robert Eggers, esta pel\\u00edcula de terror y drama hist\\u00f3rico sigue a dos hermanos que trabajan en una luz\u001b[0m\n",
       "\u001b[32mdel faro en el siglo XIX y se encuentran con cosas sobrenaturales.\\n\\nEn caso de no tener informaci\\u00f3n para \u001b[0m\n",
       "\u001b[32mrecomendar, puedo elegir entre las pel\\u00edculas que conozco y te proporcionar\\u00e9 varias opciones con una \u001b[0m\n",
       "\u001b[32mdescripci\\u00f3n breve de cada una. \\u00bfQuieres que te revelee algunas opciones?\"\u001b[0m,\n",
       "            \u001b[32m\"data\"\u001b[0m: \u001b[1m{\u001b[0m\n",
       "                \u001b[32m\"recommendations\"\u001b[0m: \u001b[1m[\u001b[0m\n",
       "                    \u001b[1m{\u001b[0m\n",
       "                        \u001b[32m\"title\"\u001b[0m: \u001b[32m\"The lighthouse\"\u001b[0m,\n",
       "                        \u001b[32m\"rating\"\u001b[0m: \u001b[1;36m4.6\u001b[0m,\n",
       "                        \u001b[32m\"description\"\u001b[0m: \u001b[32m\"Dirigida por robert eggers, esta pel\\u00edcula de terror y drama \u001b[0m\n",
       "\u001b[32mhist\\u00f3rico sigue a dos hermanos que trabajan en una luz del faro en el siglo xix y se encuentran con cosas \u001b[0m\n",
       "\u001b[32msobrenaturales.\\n\\nen caso de no tener informaci\\u00f3n para recomendar, puedo elegir entre las pel\\u00edculas que \u001b[0m\n",
       "\u001b[32mconozco y te proporcionar\\u00e9 varias opciones con una descripci\\u00f3n breve de cada una. \\u00bfquieres que te \u001b[0m\n",
       "\u001b[32mrevelee algunas opciones\"\u001b[0m,\n",
       "                        \u001b[32m\"release\"\u001b[0m: \u001b[1;36m2019\u001b[0m\n",
       "                    \u001b[1m}\u001b[0m,\n",
       "                    \u001b[1m{\u001b[0m\n",
       "                        \u001b[32m\"title\"\u001b[0m: \u001b[32m\"El laberinto del fauno\"\u001b[0m,\n",
       "                        \u001b[32m\"rating\"\u001b[0m: \u001b[1;36m4.5\u001b[0m,\n",
       "                        \u001b[32m\"description\"\u001b[0m: \u001b[32m\"Dirigida por guillermo del toro, esta pel\\u00edcula de fantas\\u00eda y \u001b[0m\n",
       "\u001b[32mdrama es una obra maestra que combina elementos de la literatura y la historia para crear un mundo imaginario y \u001b[0m\n",
       "\u001b[32memocionante.\"\u001b[0m,\n",
       "                        \u001b[32m\"release\"\u001b[0m: \u001b[1;36m2006\u001b[0m\n",
       "                    \u001b[1m}\u001b[0m,\n",
       "                    \u001b[1m{\u001b[0m\n",
       "                        \u001b[32m\"title\"\u001b[0m: \u001b[32m\"Roma\"\u001b[0m,\n",
       "                        \u001b[32m\"rating\"\u001b[0m: \u001b[1;36m4.5\u001b[0m,\n",
       "                        \u001b[32m\"description\"\u001b[0m: \u001b[32m\"Dirigida por alfonso cuar\\u00f3n, esta pel\\u00edcula de drama \u001b[0m\n",
       "\u001b[32mhist\\u00f3rico es una oda a la ciudad de m\\u00e9xico de los a\\u00f1os 70, con una actuaci\\u00f3n brillante de \u001b[0m\n",
       "\u001b[32myalitza aparicio.\"\u001b[0m,\n",
       "                        \u001b[32m\"release\"\u001b[0m: \u001b[1;36m2018\u001b[0m\n",
       "                    \u001b[1m}\u001b[0m,\n",
       "                    \u001b[1m{\u001b[0m\n",
       "                        \u001b[32m\"title\"\u001b[0m: \u001b[32m\"Parque vue\"\u001b[0m,\n",
       "                        \u001b[32m\"rating\"\u001b[0m: \u001b[1;36m4.3\u001b[0m,\n",
       "                        \u001b[32m\"description\"\u001b[0m: \u001b[32m\"Esta pel\\u00edcula surcoreana de terror psicol\\u00f3gico sigue a un hombre \u001b[0m\n",
       "\u001b[32mque se siente atrapado en un parque desconocido donde las cosas no son lo que parecen.\"\u001b[0m,\n",
       "                        \u001b[32m\"release\"\u001b[0m: \u001b[1;36m2019\u001b[0m\n",
       "                    \u001b[1m}\u001b[0m,\n",
       "                    \u001b[1m{\u001b[0m\n",
       "                        \u001b[32m\"title\"\u001b[0m: \u001b[32m\"La laja\"\u001b[0m,\n",
       "                        \u001b[32m\"rating\"\u001b[0m: \u001b[1;36m4.2\u001b[0m,\n",
       "                        \u001b[32m\"description\"\u001b[0m: \u001b[32m\"Esta pel\\u00edcula chilena de terror psicol\\u00f3gico es una thriller \u001b[0m\n",
       "\u001b[32mintenso que sigue a una joven que se siente atrapada en un mundo de terror y suspense.\"\u001b[0m,\n",
       "                        \u001b[32m\"release\"\u001b[0m: \u001b[1;36m2017\u001b[0m\n",
       "                    \u001b[1m}\u001b[0m\n",
       "                \u001b[1m]\u001b[0m\n",
       "            \u001b[1m}\u001b[0m\n",
       "        \u001b[1m}\u001b[0m\n",
       "    \u001b[1m]\u001b[0m\n",
       "\u001b[1m}\u001b[0m\n"
      ]
     },
     "metadata": {},
     "output_type": "display_data"
    }
   ],
   "source": [
    "print(history)"
   ]
  }
 ],
 "metadata": {
  "kernelspec": {
   "display_name": "Python 3 (ipykernel)",
   "language": "python",
   "name": "python3"
  },
  "language_info": {
   "codemirror_mode": {
    "name": "ipython",
    "version": 3
   },
   "file_extension": ".py",
   "mimetype": "text/x-python",
   "name": "python",
   "nbconvert_exporter": "python",
   "pygments_lexer": "ipython3",
   "version": "3.10.13"
  },
  "widgets": {
   "application/vnd.jupyter.widget-state+json": {
    "state": {},
    "version_major": 2,
    "version_minor": 0
   }
  }
 },
 "nbformat": 4,
 "nbformat_minor": 5
}
