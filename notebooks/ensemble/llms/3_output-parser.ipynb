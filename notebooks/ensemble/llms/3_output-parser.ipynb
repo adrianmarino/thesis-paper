{
 "cells": [
  {
   "cell_type": "markdown",
   "id": "0417277b-47df-4113-a7b3-8f960db06f1d",
   "metadata": {
    "tags": []
   },
   "source": [
    "# Output Parser"
   ]
  },
  {
   "cell_type": "code",
   "execution_count": 1,
   "id": "35e430dd-e279-4258-82a4-6b7a1347304b",
   "metadata": {},
   "outputs": [],
   "source": [
    "%load_ext autoreload\n",
    "%autoreload 2"
   ]
  },
  {
   "cell_type": "code",
   "execution_count": 2,
   "id": "834b2f2d-4103-4cf5-880d-10404d8ec7d3",
   "metadata": {},
   "outputs": [],
   "source": [
    "BASE_PATH             = '../../..'\n",
    "LIB_PATH              = f'{BASE_PATH}/lib'"
   ]
  },
  {
   "cell_type": "code",
   "execution_count": 3,
   "id": "f98e7bf4-f41a-43f6-b7b7-a991d00f82de",
   "metadata": {},
   "outputs": [
    {
     "name": "stderr",
     "output_type": "stream",
     "text": [
      "2024-01-07 17:09:00.944400: I tensorflow/core/platform/cpu_feature_guard.cc:182] This TensorFlow binary is optimized to use available CPU instructions in performance-critical operations.\n",
      "To enable the following instructions: AVX2 FMA, in other operations, rebuild TensorFlow with the appropriate compiler flags.\n",
      "2024-01-07 17:09:01.390663: W tensorflow/compiler/tf2tensorrt/utils/py_utils.cc:38] TF-TRT Warning: Could not find TensorRT\n",
      "2024-01-07 17:09:01.800661: I tensorflow/compiler/xla/stream_executor/cuda/cuda_gpu_executor.cc:996] successful NUMA node read from SysFS had negative value (-1), but there must be at least one NUMA node, so returning NUMA node zero. See more at https://github.com/torvalds/linux/blob/v6.0/Documentation/ABI/testing/sysfs-bus-pci#L344-L355\n",
      "2024-01-07 17:09:01.811345: W tensorflow/core/common_runtime/gpu/gpu_device.cc:1956] Cannot dlopen some GPU libraries. Please make sure the missing libraries mentioned above are installed properly if you would like to use GPU. Follow the guide at https://www.tensorflow.org/install/gpu for how to download and setup the required libraries for your platform.\n",
      "Skipping registering GPU devices...\n"
     ]
    },
    {
     "data": {
      "text/plain": [
       "<Figure size 640x480 with 0 Axes>"
      ]
     },
     "metadata": {},
     "output_type": "display_data"
    }
   ],
   "source": [
    "import sys\n",
    "sys.path.append(LIB_PATH)\n",
    "\n",
    "import numpy as np\n",
    "import pandas as pd\n",
    "\n",
    "import util as ut\n",
    "\n",
    "import recommender as rd"
   ]
  },
  {
   "cell_type": "code",
   "execution_count": 4,
   "id": "ea57f310-e546-4d3d-9535-c4172c1a84e8",
   "metadata": {},
   "outputs": [
    {
     "data": {
      "text/html": [
       "<pre style=\"white-space:pre;overflow-x:auto;line-height:normal;font-family:Menlo,'DejaVu Sans Mono',consolas,'Courier New',monospace\">Based on the user profile and seen movies, here are <span style=\"color: #008080; text-decoration-color: #008080; font-weight: bold\">5</span> candidate movies for Adrian to watch:\n",
       "\n",
       "<span style=\"color: #008080; text-decoration-color: #008080; font-weight: bold\">1</span>. The Legend of Mor'du <span style=\"font-weight: bold\">(</span><span style=\"color: #008080; text-decoration-color: #008080; font-weight: bold\">2012</span><span style=\"font-weight: bold\">)</span>: This animated movie is set in the Scottish Highlands and follows the story of a \n",
       "grumpy dragon who must protect his hoard from a group of brave adventurers. With its 3D animation and exciting \n",
       "plot, this movie is sure to provide an enjoyable viewing experience for Adrian.\n",
       "<span style=\"color: #008080; text-decoration-color: #008080; font-weight: bold\">2</span>. Flatland: The Film <span style=\"font-weight: bold\">(</span><span style=\"color: #008080; text-decoration-color: #008080; font-weight: bold\">2007</span><span style=\"font-weight: bold\">)</span>: This animated movie is based on the classic novella by Edwin A. Abbott and takes \n",
       "place in a two-dimensional world where humans are trapped inside a flat plane. As a 3D enthusiast, Adrian will \n",
       "surely appreciate the visually stunning animation of this film.\n",
       "<span style=\"color: #008080; text-decoration-color: #008080; font-weight: bold\">3</span>. Porco Rosso <span style=\"font-weight: bold\">(</span><span style=\"color: #008080; text-decoration-color: #008080; font-weight: bold\">1992</span><span style=\"font-weight: bold\">)</span>: This animated movie is set in the 1930s and follows the story of a retired World War I \n",
       "fighter pilot who now runs a reconnaissance business in the Mediterranean. With its mix of action, adventure, and \n",
       "humor, this movie will likely appeal to Adrian's taste in movies.\n",
       "<span style=\"color: #008080; text-decoration-color: #008080; font-weight: bold\">4</span>. Emperor's New Groove, The <span style=\"font-weight: bold\">(</span><span style=\"color: #008080; text-decoration-color: #008080; font-weight: bold\">2000</span><span style=\"font-weight: bold\">)</span>: This animated movie follows the story of a spoiled and selfish emperor who is \n",
       "turned into a llama as punishment for his behavior. With its witty humor and fun characters, this movie will likely\n",
       "entertain Adrian.\n",
       "<span style=\"color: #008080; text-decoration-color: #008080; font-weight: bold\">5</span>. Shark Tale <span style=\"font-weight: bold\">(</span><span style=\"color: #008080; text-decoration-color: #008080; font-weight: bold\">2004</span><span style=\"font-weight: bold\">)</span>: This animated movie takes place in a world where fish can talk and tells the story of a fish \n",
       "named Oscar who pretends to be a great white shark to impress his peers. With its catchy music and humorous \n",
       "characters, this movie will likely provide an enjoyable viewing experience for Adrian.\n",
       "</pre>\n"
      ],
      "text/plain": [
       "Based on the user profile and seen movies, here are \u001b[1;36m5\u001b[0m candidate movies for Adrian to watch:\n",
       "\n",
       "\u001b[1;36m1\u001b[0m. The Legend of Mor'du \u001b[1m(\u001b[0m\u001b[1;36m2012\u001b[0m\u001b[1m)\u001b[0m: This animated movie is set in the Scottish Highlands and follows the story of a \n",
       "grumpy dragon who must protect his hoard from a group of brave adventurers. With its 3D animation and exciting \n",
       "plot, this movie is sure to provide an enjoyable viewing experience for Adrian.\n",
       "\u001b[1;36m2\u001b[0m. Flatland: The Film \u001b[1m(\u001b[0m\u001b[1;36m2007\u001b[0m\u001b[1m)\u001b[0m: This animated movie is based on the classic novella by Edwin A. Abbott and takes \n",
       "place in a two-dimensional world where humans are trapped inside a flat plane. As a 3D enthusiast, Adrian will \n",
       "surely appreciate the visually stunning animation of this film.\n",
       "\u001b[1;36m3\u001b[0m. Porco Rosso \u001b[1m(\u001b[0m\u001b[1;36m1992\u001b[0m\u001b[1m)\u001b[0m: This animated movie is set in the 1930s and follows the story of a retired World War I \n",
       "fighter pilot who now runs a reconnaissance business in the Mediterranean. With its mix of action, adventure, and \n",
       "humor, this movie will likely appeal to Adrian's taste in movies.\n",
       "\u001b[1;36m4\u001b[0m. Emperor's New Groove, The \u001b[1m(\u001b[0m\u001b[1;36m2000\u001b[0m\u001b[1m)\u001b[0m: This animated movie follows the story of a spoiled and selfish emperor who is \n",
       "turned into a llama as punishment for his behavior. With its witty humor and fun characters, this movie will likely\n",
       "entertain Adrian.\n",
       "\u001b[1;36m5\u001b[0m. Shark Tale \u001b[1m(\u001b[0m\u001b[1;36m2004\u001b[0m\u001b[1m)\u001b[0m: This animated movie takes place in a world where fish can talk and tells the story of a fish \n",
       "named Oscar who pretends to be a great white shark to impress his peers. With its catchy music and humorous \n",
       "characters, this movie will likely provide an enjoyable viewing experience for Adrian.\n"
      ]
     },
     "metadata": {},
     "output_type": "display_data"
    }
   ],
   "source": [
    "output = \"Based on the user profile and seen movies, here are 5 candidate movies for Adrian to watch:\\n\\n1. The Legend of Mor'du (2012): This animated movie is set in the Scottish Highlands and follows the story of a grumpy dragon who must protect his hoard from a group of brave adventurers. With its 3D animation and exciting plot, this movie is sure to provide an enjoyable viewing experience for Adrian.\\n2. Flatland: The Film (2007): This animated movie is based on the classic novella by Edwin A. Abbott and takes place in a two-dimensional world where humans are trapped inside a flat plane. As a 3D enthusiast, Adrian will surely appreciate the visually stunning animation of this film.\\n3. Porco Rosso (1992): This animated movie is set in the 1930s and follows the story of a retired World War I fighter pilot who now runs a reconnaissance business in the Mediterranean. With its mix of action, adventure, and humor, this movie will likely appeal to Adrian's taste in movies.\\n4. Emperor's New Groove, The (2000): This animated movie follows the story of a spoiled and selfish emperor who is turned into a llama as punishment for his behavior. With its witty humor and fun characters, this movie will likely entertain Adrian.\\n5. Shark Tale (2004): This animated movie takes place in a world where fish can talk and tells the story of a fish named Oscar who pretends to be a great white shark to impress his peers. With its catchy music and humorous characters, this movie will likely provide an enjoyable viewing experience for Adrian.\"\n",
    "print(output)"
   ]
  },
  {
   "cell_type": "code",
   "execution_count": 5,
   "id": "9a726b4f-2020-435c-873e-9c24ee82767f",
   "metadata": {
    "tags": []
   },
   "outputs": [
    {
     "data": {
      "text/html": [
       "<pre style=\"white-space:pre;overflow-x:auto;line-height:normal;font-family:Menlo,'DejaVu Sans Mono',consolas,'Courier New',monospace\"><span style=\"font-weight: bold\">{</span>\n",
       "    <span style=\"color: #008000; text-decoration-color: #008000\">'recommendations'</span>: <span style=\"font-weight: bold\">[</span>\n",
       "        <span style=\"font-weight: bold\">{</span>\n",
       "            <span style=\"color: #008000; text-decoration-color: #008000\">'title'</span>: <span style=\"color: #008000; text-decoration-color: #008000\">\"The legend of mor'du\"</span>,\n",
       "            <span style=\"color: #008000; text-decoration-color: #008000\">'description'</span>: <span style=\"color: #008000; text-decoration-color: #008000\">'This animated movie is set in the scottish highlands and follows the story of a grumpy </span>\n",
       "<span style=\"color: #008000; text-decoration-color: #008000\">dragon who must protect his hoard from a group of brave adventurers. with its 3d animation and exciting plot, this </span>\n",
       "<span style=\"color: #008000; text-decoration-color: #008000\">movie is sure to provide an enjoyable viewing experience for adrian.'</span>,\n",
       "            <span style=\"color: #008000; text-decoration-color: #008000\">'release'</span>: <span style=\"color: #008000; text-decoration-color: #008000\">'2012'</span>\n",
       "        <span style=\"font-weight: bold\">}</span>,\n",
       "        <span style=\"font-weight: bold\">{</span>\n",
       "            <span style=\"color: #008000; text-decoration-color: #008000\">'title'</span>: <span style=\"color: #008000; text-decoration-color: #008000\">'Flatland: the film'</span>,\n",
       "            <span style=\"color: #008000; text-decoration-color: #008000\">'description'</span>: <span style=\"color: #008000; text-decoration-color: #008000\">'This animated movie is based on the classic novella by edwin a. abbott and takes place </span>\n",
       "<span style=\"color: #008000; text-decoration-color: #008000\">in a two-dimensional world where humans are trapped inside a flat plane. as a 3d enthusiast, adrian will surely </span>\n",
       "<span style=\"color: #008000; text-decoration-color: #008000\">appreciate the visually stunning animation of this film.'</span>,\n",
       "            <span style=\"color: #008000; text-decoration-color: #008000\">'release'</span>: <span style=\"color: #008000; text-decoration-color: #008000\">'2007'</span>\n",
       "        <span style=\"font-weight: bold\">}</span>,\n",
       "        <span style=\"font-weight: bold\">{</span>\n",
       "            <span style=\"color: #008000; text-decoration-color: #008000\">'title'</span>: <span style=\"color: #008000; text-decoration-color: #008000\">'Porco rosso'</span>,\n",
       "            <span style=\"color: #008000; text-decoration-color: #008000\">'description'</span>: <span style=\"color: #008000; text-decoration-color: #008000\">\"This animated movie is set in the 1930s and follows the story of a retired world war i </span>\n",
       "<span style=\"color: #008000; text-decoration-color: #008000\">fighter pilot who now runs a reconnaissance business in the mediterranean. with its mix of action, adventure, and </span>\n",
       "<span style=\"color: #008000; text-decoration-color: #008000\">humor, this movie will likely appeal to adrian's taste in movies.\"</span>,\n",
       "            <span style=\"color: #008000; text-decoration-color: #008000\">'release'</span>: <span style=\"color: #008000; text-decoration-color: #008000\">'1992'</span>\n",
       "        <span style=\"font-weight: bold\">}</span>,\n",
       "        <span style=\"font-weight: bold\">{</span>\n",
       "            <span style=\"color: #008000; text-decoration-color: #008000\">'title'</span>: <span style=\"color: #008000; text-decoration-color: #008000\">\"Emperor's new groove, the\"</span>,\n",
       "            <span style=\"color: #008000; text-decoration-color: #008000\">'description'</span>: <span style=\"color: #008000; text-decoration-color: #008000\">'This animated movie follows the story of a spoiled and selfish emperor who is turned </span>\n",
       "<span style=\"color: #008000; text-decoration-color: #008000\">into a llama as punishment for his behavior. with its witty humor and fun characters, this movie will likely </span>\n",
       "<span style=\"color: #008000; text-decoration-color: #008000\">entertain adrian.'</span>,\n",
       "            <span style=\"color: #008000; text-decoration-color: #008000\">'release'</span>: <span style=\"color: #008000; text-decoration-color: #008000\">'2000'</span>\n",
       "        <span style=\"font-weight: bold\">}</span>\n",
       "    <span style=\"font-weight: bold\">]</span>\n",
       "<span style=\"font-weight: bold\">}</span>\n",
       "</pre>\n"
      ],
      "text/plain": [
       "\u001b[1m{\u001b[0m\n",
       "    \u001b[32m'recommendations'\u001b[0m: \u001b[1m[\u001b[0m\n",
       "        \u001b[1m{\u001b[0m\n",
       "            \u001b[32m'title'\u001b[0m: \u001b[32m\"The legend of mor'du\"\u001b[0m,\n",
       "            \u001b[32m'description'\u001b[0m: \u001b[32m'This animated movie is set in the scottish highlands and follows the story of a grumpy \u001b[0m\n",
       "\u001b[32mdragon who must protect his hoard from a group of brave adventurers. with its 3d animation and exciting plot, this \u001b[0m\n",
       "\u001b[32mmovie is sure to provide an enjoyable viewing experience for adrian.'\u001b[0m,\n",
       "            \u001b[32m'release'\u001b[0m: \u001b[32m'2012'\u001b[0m\n",
       "        \u001b[1m}\u001b[0m,\n",
       "        \u001b[1m{\u001b[0m\n",
       "            \u001b[32m'title'\u001b[0m: \u001b[32m'Flatland: the film'\u001b[0m,\n",
       "            \u001b[32m'description'\u001b[0m: \u001b[32m'This animated movie is based on the classic novella by edwin a. abbott and takes place \u001b[0m\n",
       "\u001b[32min a two-dimensional world where humans are trapped inside a flat plane. as a 3d enthusiast, adrian will surely \u001b[0m\n",
       "\u001b[32mappreciate the visually stunning animation of this film.'\u001b[0m,\n",
       "            \u001b[32m'release'\u001b[0m: \u001b[32m'2007'\u001b[0m\n",
       "        \u001b[1m}\u001b[0m,\n",
       "        \u001b[1m{\u001b[0m\n",
       "            \u001b[32m'title'\u001b[0m: \u001b[32m'Porco rosso'\u001b[0m,\n",
       "            \u001b[32m'description'\u001b[0m: \u001b[32m\"This animated movie is set in the 1930s and follows the story of a retired world war i \u001b[0m\n",
       "\u001b[32mfighter pilot who now runs a reconnaissance business in the mediterranean. with its mix of action, adventure, and \u001b[0m\n",
       "\u001b[32mhumor, this movie will likely appeal to adrian's taste in movies.\"\u001b[0m,\n",
       "            \u001b[32m'release'\u001b[0m: \u001b[32m'1992'\u001b[0m\n",
       "        \u001b[1m}\u001b[0m,\n",
       "        \u001b[1m{\u001b[0m\n",
       "            \u001b[32m'title'\u001b[0m: \u001b[32m\"Emperor's new groove, the\"\u001b[0m,\n",
       "            \u001b[32m'description'\u001b[0m: \u001b[32m'This animated movie follows the story of a spoiled and selfish emperor who is turned \u001b[0m\n",
       "\u001b[32minto a llama as punishment for his behavior. with its witty humor and fun characters, this movie will likely \u001b[0m\n",
       "\u001b[32mentertain adrian.'\u001b[0m,\n",
       "            \u001b[32m'release'\u001b[0m: \u001b[32m'2000'\u001b[0m\n",
       "        \u001b[1m}\u001b[0m\n",
       "    \u001b[1m]\u001b[0m\n",
       "\u001b[1m}\u001b[0m\n"
      ]
     },
     "metadata": {},
     "output_type": "display_data"
    }
   ],
   "source": [
    "print(rd.MovieRecommendationsOutputParser(5).parse(output))"
   ]
  },
  {
   "cell_type": "code",
   "execution_count": 6,
   "id": "591d41c8-764a-4123-97a2-26d28f6906bf",
   "metadata": {
    "tags": []
   },
   "outputs": [
    {
     "data": {
      "text/plain": [
       "[\"The Legend of Mor'du (2012): This animated movie is set in the Scottish Highlands and follows the story of a grumpy dragon who must protect his hoard from a group of brave adventurers. With its 3D animation and exciting plot, this movie is sure to provide an enjoyable viewing experience for Adrian.\"]"
      ]
     },
     "execution_count": 6,
     "metadata": {},
     "output_type": "execute_result"
    }
   ],
   "source": [
    "import re\n",
    "idx=0\n",
    "re.findall(f'\\n{idx+1}.\\s*(.*?)\\n{idx+2}.\\s*', output)"
   ]
  },
  {
   "cell_type": "code",
   "execution_count": 7,
   "id": "22134989-7dac-4268-bf12-328b6ea26fd0",
   "metadata": {
    "tags": []
   },
   "outputs": [
    {
     "data": {
      "text/html": [
       "<pre style=\"white-space:pre;overflow-x:auto;line-height:normal;font-family:Menlo,'DejaVu Sans Mono',consolas,'Courier New',monospace\">Based on the user's profile and seen movies, here are <span style=\"color: #008080; text-decoration-color: #008080; font-weight: bold\">5</span> candidate movies that may be of interest:\n",
       "\n",
       "<span style=\"color: #008080; text-decoration-color: #008080; font-weight: bold\">1</span>. <span style=\"font-weight: bold\">(</span><span style=\"color: #008080; text-decoration-color: #008080; font-weight: bold\">2006</span><span style=\"font-weight: bold\">)</span> Flatland: The Film - This animated movie is based on the classic novella by Edwin A. Abbott and explores \n",
       "themes of social hierarchy and conformity.\n",
       "<span style=\"color: #008080; text-decoration-color: #008080; font-weight: bold\">2</span>. <span style=\"font-weight: bold\">(</span><span style=\"color: #008080; text-decoration-color: #008080; font-weight: bold\">2008</span><span style=\"font-weight: bold\">)</span> Wow! A Talking Fish! - This 3D animated movie follows the story of a young boy who befriends a talking \n",
       "fish and goes on a magical adventure.\n",
       "<span style=\"color: #008080; text-decoration-color: #008080; font-weight: bold\">3</span>. <span style=\"font-weight: bold\">(</span><span style=\"color: #008080; text-decoration-color: #008080; font-weight: bold\">2011</span><span style=\"font-weight: bold\">)</span> Meet the Robinsons - This movie is an entertaining and heartwarming tale about a young inventor and his \n",
       "quest to save the world from evil geniuses.\n",
       "<span style=\"color: #008080; text-decoration-color: #008080; font-weight: bold\">4</span>. <span style=\"font-weight: bold\">(</span><span style=\"color: #008080; text-decoration-color: #008080; font-weight: bold\">2016</span><span style=\"font-weight: bold\">)</span> Anastasia: The Movie - This animated feature is based on the classic Disney musical and tells the story \n",
       "of a young woman who discovers she is the long-lost princess of Russia.\n",
       "<span style=\"color: #008080; text-decoration-color: #008080; font-weight: bold\">5</span>. <span style=\"font-weight: bold\">(</span><span style=\"color: #008080; text-decoration-color: #008080; font-weight: bold\">2017</span><span style=\"font-weight: bold\">)</span> Emperor's New Groove, The: The Movie - This animated movie follows the hilarious adventures of a spoiled \n",
       "emperor who is turned into a llama and must learn to be humble.\n",
       "</pre>\n"
      ],
      "text/plain": [
       "Based on the user's profile and seen movies, here are \u001b[1;36m5\u001b[0m candidate movies that may be of interest:\n",
       "\n",
       "\u001b[1;36m1\u001b[0m. \u001b[1m(\u001b[0m\u001b[1;36m2006\u001b[0m\u001b[1m)\u001b[0m Flatland: The Film - This animated movie is based on the classic novella by Edwin A. Abbott and explores \n",
       "themes of social hierarchy and conformity.\n",
       "\u001b[1;36m2\u001b[0m. \u001b[1m(\u001b[0m\u001b[1;36m2008\u001b[0m\u001b[1m)\u001b[0m Wow! A Talking Fish! - This 3D animated movie follows the story of a young boy who befriends a talking \n",
       "fish and goes on a magical adventure.\n",
       "\u001b[1;36m3\u001b[0m. \u001b[1m(\u001b[0m\u001b[1;36m2011\u001b[0m\u001b[1m)\u001b[0m Meet the Robinsons - This movie is an entertaining and heartwarming tale about a young inventor and his \n",
       "quest to save the world from evil geniuses.\n",
       "\u001b[1;36m4\u001b[0m. \u001b[1m(\u001b[0m\u001b[1;36m2016\u001b[0m\u001b[1m)\u001b[0m Anastasia: The Movie - This animated feature is based on the classic Disney musical and tells the story \n",
       "of a young woman who discovers she is the long-lost princess of Russia.\n",
       "\u001b[1;36m5\u001b[0m. \u001b[1m(\u001b[0m\u001b[1;36m2017\u001b[0m\u001b[1m)\u001b[0m Emperor's New Groove, The: The Movie - This animated movie follows the hilarious adventures of a spoiled \n",
       "emperor who is turned into a llama and must learn to be humble.\n"
      ]
     },
     "metadata": {},
     "output_type": "display_data"
    }
   ],
   "source": [
    "output = \"Based on the user's profile and seen movies, here are 5 candidate movies that may be of interest:\\n\\n1. (2006) Flatland: The Film - This animated movie is based on the classic novella by Edwin A. Abbott and explores themes of social hierarchy and conformity.\\n2. (2008) Wow! A Talking Fish! - This 3D animated movie follows the story of a young boy who befriends a talking fish and goes on a magical adventure.\\n3. (2011) Meet the Robinsons - This movie is an entertaining and heartwarming tale about a young inventor and his quest to save the world from evil geniuses.\\n4. (2016) Anastasia: The Movie - This animated feature is based on the classic Disney musical and tells the story of a young woman who discovers she is the long-lost princess of Russia.\\n5. (2017) Emperor's New Groove, The: The Movie - This animated movie follows the hilarious adventures of a spoiled emperor who is turned into a llama and must learn to be humble.\"\n",
    "print(output)"
   ]
  },
  {
   "cell_type": "code",
   "execution_count": 8,
   "id": "abf64cca-9cb9-4d87-b9e3-8a4c8d8c2c1f",
   "metadata": {
    "tags": []
   },
   "outputs": [
    {
     "name": "stderr",
     "output_type": "stream",
     "text": [
      "ERROR:root:Error to parse line: \"(2006) Flatland: The Film - This animated movie is based on the classic novella by Edwin A. Abbott and explores themes of social hierarchy and conformity.\"\n",
      "ERROR:root:Error to parse line: \"(2008) Wow! A Talking Fish! - This 3D animated movie follows the story of a young boy who befriends a talking fish and goes on a magical adventure.\"\n",
      "ERROR:root:Error to parse line: \"(2011) Meet the Robinsons - This movie is an entertaining and heartwarming tale about a young inventor and his quest to save the world from evil geniuses.\"\n",
      "ERROR:root:Error to parse line: \"(2016) Anastasia: The Movie - This animated feature is based on the classic Disney musical and tells the story of a young woman who discovers she is the long-lost princess of Russia.\"\n"
     ]
    },
    {
     "data": {
      "text/html": [
       "<pre style=\"white-space:pre;overflow-x:auto;line-height:normal;font-family:Menlo,'DejaVu Sans Mono',consolas,'Courier New',monospace\"><span style=\"font-weight: bold\">{</span><span style=\"color: #008000; text-decoration-color: #008000\">'recommendations'</span>: <span style=\"font-weight: bold\">[]}</span>\n",
       "</pre>\n"
      ],
      "text/plain": [
       "\u001b[1m{\u001b[0m\u001b[32m'recommendations'\u001b[0m: \u001b[1m[\u001b[0m\u001b[1m]\u001b[0m\u001b[1m}\u001b[0m\n"
      ]
     },
     "metadata": {},
     "output_type": "display_data"
    }
   ],
   "source": [
    "print(rd.MovieRecommendationsOutputParser(5).parse(output))"
   ]
  },
  {
   "cell_type": "code",
   "execution_count": null,
   "id": "8ec6ae04-fc6c-478d-8595-5dc879b4761f",
   "metadata": {},
   "outputs": [],
   "source": []
  }
 ],
 "metadata": {
  "kernelspec": {
   "display_name": "Python 3 (ipykernel)",
   "language": "python",
   "name": "python3"
  },
  "language_info": {
   "codemirror_mode": {
    "name": "ipython",
    "version": 3
   },
   "file_extension": ".py",
   "mimetype": "text/x-python",
   "name": "python",
   "nbconvert_exporter": "python",
   "pygments_lexer": "ipython3",
   "version": "3.10.13"
  },
  "widgets": {
   "application/vnd.jupyter.widget-state+json": {
    "state": {},
    "version_major": 2,
    "version_minor": 0
   }
  }
 },
 "nbformat": 4,
 "nbformat_minor": 5
}
