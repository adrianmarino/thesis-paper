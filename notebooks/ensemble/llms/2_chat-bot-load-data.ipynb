{
 "cells": [
  {
   "cell_type": "markdown",
   "id": "0417277b-47df-4113-a7b3-8f960db06f1d",
   "metadata": {
    "tags": []
   },
   "source": [
    "# Chatbot: Load data"
   ]
  },
  {
   "cell_type": "code",
   "execution_count": 3,
   "id": "35e430dd-e279-4258-82a4-6b7a1347304b",
   "metadata": {},
   "outputs": [
    {
     "name": "stdout",
     "output_type": "stream",
     "text": [
      "The autoreload extension is already loaded. To reload it, use:\n",
      "  %reload_ext autoreload\n"
     ]
    }
   ],
   "source": [
    "%load_ext autoreload\n",
    "%autoreload 2"
   ]
  },
  {
   "cell_type": "code",
   "execution_count": 4,
   "id": "834b2f2d-4103-4cf5-880d-10404d8ec7d3",
   "metadata": {},
   "outputs": [],
   "source": [
    "BASE_PATH             = '../../..'\n",
    "LIB_PATH              = f'{BASE_PATH}/lib'\n",
    "DATASET_PATH          = f'{BASE_PATH}/datasets'"
   ]
  },
  {
   "cell_type": "code",
   "execution_count": 5,
   "id": "f98e7bf4-f41a-43f6-b7b7-a991d00f82de",
   "metadata": {},
   "outputs": [
    {
     "name": "stderr",
     "output_type": "stream",
     "text": [
      "2024-01-04 18:38:38.897092: I tensorflow/core/platform/cpu_feature_guard.cc:182] This TensorFlow binary is optimized to use available CPU instructions in performance-critical operations.\n",
      "To enable the following instructions: AVX2 FMA, in other operations, rebuild TensorFlow with the appropriate compiler flags.\n",
      "2024-01-04 18:38:39.341391: W tensorflow/compiler/tf2tensorrt/utils/py_utils.cc:38] TF-TRT Warning: Could not find TensorRT\n",
      "2024-01-04 18:38:39.770064: I tensorflow/compiler/xla/stream_executor/cuda/cuda_gpu_executor.cc:996] successful NUMA node read from SysFS had negative value (-1), but there must be at least one NUMA node, so returning NUMA node zero. See more at https://github.com/torvalds/linux/blob/v6.0/Documentation/ABI/testing/sysfs-bus-pci#L344-L355\n",
      "2024-01-04 18:38:39.783152: W tensorflow/core/common_runtime/gpu/gpu_device.cc:1956] Cannot dlopen some GPU libraries. Please make sure the missing libraries mentioned above are installed properly if you would like to use GPU. Follow the guide at https://www.tensorflow.org/install/gpu for how to download and setup the required libraries for your platform.\n",
      "Skipping registering GPU devices...\n"
     ]
    },
    {
     "data": {
      "text/plain": [
       "<Figure size 640x480 with 0 Axes>"
      ]
     },
     "metadata": {},
     "output_type": "display_data"
    }
   ],
   "source": [
    "import sys\n",
    "sys.path.append(LIB_PATH)\n",
    "\n",
    "import numpy as np\n",
    "import pandas as pd\n",
    "\n",
    "import util as ut\n",
    "\n",
    "import torch\n",
    "import data as dt\n",
    "import data.dataset as ds\n",
    "import requests\n",
    "import json"
   ]
  },
  {
   "cell_type": "code",
   "execution_count": 6,
   "id": "380097ca-a1ae-4a01-bc4b-94f3e291a9d1",
   "metadata": {
    "tags": []
   },
   "outputs": [],
   "source": [
    "def to_tensor(obs, device, columns): \n",
    "    data = obs[columns]\n",
    "    if type(data) == pd.DataFrame:\n",
    "        data = data.values\n",
    "    return torch.tensor(data).to(device)\n",
    "\n",
    "features_fn = lambda obs, device: to_tensor(obs, device, ['user_seq', 'movie_seq'])\n",
    "target_fn   = lambda obs, device: to_tensor(obs, device, ['user_movie_rating'])"
   ]
  },
  {
   "cell_type": "code",
   "execution_count": 7,
   "id": "16fadfb3-65e3-463b-adb3-568d37d99741",
   "metadata": {
    "tags": []
   },
   "outputs": [],
   "source": [
    "dataset = ds.MovieLensTMDBDatasetFactory.from_path(\n",
    "    path             = DATASET_PATH,\n",
    "    transform        = features_fn,\n",
    "    target_transform = target_fn,\n",
    "    device           = torch.device('cpu'),\n",
    "    filter_fn        = lambda df: df[(df['user_movie_rating_year'] >= 2004)]\n",
    ")"
   ]
  },
  {
   "cell_type": "code",
   "execution_count": 8,
   "id": "5298394f-02a9-41ed-b53e-48fcc87c206e",
   "metadata": {
    "tags": []
   },
   "outputs": [],
   "source": [
    "items = dataset \\\n",
    "    .data[['movie_id', 'movie_title', 'movie_genres', 'movie_overview', 'movie_release_year', 'movie_imdb_id']] \\\n",
    "    .drop_duplicates(subset=['movie_id'])"
   ]
  },
  {
   "cell_type": "code",
   "execution_count": 10,
   "id": "caa2b9a8-0d26-40f5-a77b-f69bc8d48e73",
   "metadata": {
    "tags": []
   },
   "outputs": [],
   "source": [
    "base_url = 'http://nonosoft.ddns.net:8080/api/v1'\n",
    "\n",
    "error_items = []\n",
    "page        = []\n",
    "page_counter = 0\n",
    "for _, row in items.iterrows():\n",
    "    if page_counter < 500:\n",
    "        page.append({\n",
    "            'id'          : str(row['movie_id']),\n",
    "            'title'       : row['movie_title'].strip(),\n",
    "            'description' : row['movie_overview'].strip(),\n",
    "            'genres'      : [g.lower() for g in row['movie_genres']],\n",
    "            'release'     : str(row['movie_release_year']),\n",
    "            'imdb_id'     : str(row['movie_imdb_id'])\n",
    "        })\n",
    "        page_counter += 1\n",
    "    else:\n",
    "        try:\n",
    "            headers =  {\"Content-Type\":\"application/json\"}\n",
    "            response = requests.post(f'{base_url}/items/bulk', data=json.dumps(page), headers=headers)\n",
    "        except Exception as e:\n",
    "            print(e)\n",
    "            error_items.extend(page)\n",
    "        finally:\n",
    "            page_counter = 0\n",
    "            page         = []"
   ]
  },
  {
   "cell_type": "code",
   "execution_count": null,
   "id": "a797ac51-9a3d-4cac-b8b6-61917b142717",
   "metadata": {},
   "outputs": [],
   "source": []
  }
 ],
 "metadata": {
  "kernelspec": {
   "display_name": "Python 3 (ipykernel)",
   "language": "python",
   "name": "python3"
  },
  "language_info": {
   "codemirror_mode": {
    "name": "ipython",
    "version": 3
   },
   "file_extension": ".py",
   "mimetype": "text/x-python",
   "name": "python",
   "nbconvert_exporter": "python",
   "pygments_lexer": "ipython3",
   "version": "3.10.13"
  },
  "widgets": {
   "application/vnd.jupyter.widget-state+json": {
    "state": {},
    "version_major": 2,
    "version_minor": 0
   }
  }
 },
 "nbformat": 4,
 "nbformat_minor": 5
}
