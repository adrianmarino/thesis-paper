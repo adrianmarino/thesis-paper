{
 "cells": [
  {
   "cell_type": "markdown",
   "id": "0417277b-47df-4113-a7b3-8f960db06f1d",
   "metadata": {
    "tags": []
   },
   "source": [
    "# Modelos: LLM"
   ]
  },
  {
   "cell_type": "markdown",
   "id": "eef46fb7-b5c8-47e8-b90a-99a1c3027f4b",
   "metadata": {
    "tags": []
   },
   "source": [
    "### Papers\n",
    "\n",
    "* [Chat-REC: Towards Interactive and Explainable\n",
    "LLMs-Augmented Recommender System](https://github.com/adrianmarino/thesis-paper/blob/master/docs/ideas/2303.14524.pdf)\n",
    "* [Large Language Models as Zero-Shot Conversational\n",
    "Recommenders](https://github.com/adrianmarino/thesis-paper/blob/master/docs/ideas/3583780.3614949.pdf)\n",
    "* [Large Language Models are Competitive Near Cold-start\n",
    "Recommenders for Language- and Item-based Preferences](https://github.com/adrianmarino/thesis-paper/blob/master/docs/ideas/3604915.3608845.pdf)"
   ]
  },
  {
   "cell_type": "code",
   "execution_count": 1,
   "id": "35e430dd-e279-4258-82a4-6b7a1347304b",
   "metadata": {},
   "outputs": [],
   "source": [
    "%load_ext autoreload\n",
    "%autoreload 2"
   ]
  },
  {
   "cell_type": "code",
   "execution_count": 2,
   "id": "834b2f2d-4103-4cf5-880d-10404d8ec7d3",
   "metadata": {},
   "outputs": [],
   "source": [
    "BASE_PATH             = '../..'\n",
    "LIB_PATH              = f'{BASE_PATH}/lib'\n",
    "DATASET_PATH          = f'{BASE_PATH}/datasets'"
   ]
  },
  {
   "cell_type": "code",
   "execution_count": 3,
   "id": "f98e7bf4-f41a-43f6-b7b7-a991d00f82de",
   "metadata": {},
   "outputs": [],
   "source": [
    "import sys\n",
    "sys.path.append(LIB_PATH)\n",
    "\n",
    "import numpy as np\n",
    "import pandas as pd\n",
    "\n",
    "import util as ut\n",
    "\n",
    "from rest.ollama import OllamaApiClient"
   ]
  },
  {
   "cell_type": "markdown",
   "id": "c2b2aa52-be91-4ff8-b9d6-52b525bec2ca",
   "metadata": {},
   "source": [
    "## Setup"
   ]
  },
  {
   "cell_type": "code",
   "execution_count": 4,
   "id": "3a3e6040-f06b-4cb3-941a-a22d18507bf2",
   "metadata": {
    "tags": []
   },
   "outputs": [],
   "source": [
    "# !sudo systemctl enable ollama\n",
    "# !sudo systemctl restart ollama"
   ]
  },
  {
   "cell_type": "markdown",
   "id": "ea31251c-b16e-4162-af8a-a9cef8ecfa4f",
   "metadata": {},
   "source": [
    "## Create model"
   ]
  },
  {
   "cell_type": "markdown",
   "id": "f712184a-5e2e-41ee-bbd9-a1f846f586aa",
   "metadata": {},
   "source": [
    "Promp:"
   ]
  },
  {
   "cell_type": "code",
   "execution_count": 5,
   "id": "4601105b-c18c-4799-86f7-a64305951985",
   "metadata": {
    "tags": []
   },
   "outputs": [
    {
     "name": "stdout",
     "output_type": "stream",
     "text": [
      "FROM llama2\n",
      "\n",
      "# set the temperature to 1 [higher is more creative, lower is more coherent]\n",
      "PARAMETER temperature 0.5\n",
      "\n",
      "# set the system message\n",
      "SYSTEM \"\"\"\n",
      "Eres un asistente virtual que interactura en lenguaje español.\n",
      "\"\"\""
     ]
    }
   ],
   "source": [
    "! cat ./Modelfile"
   ]
  },
  {
   "cell_type": "code",
   "execution_count": 6,
   "id": "f5a4fcf2-d3dd-412f-8d5f-d150ae932b8e",
   "metadata": {
    "tags": []
   },
   "outputs": [],
   "source": [
    "# !sudo ollama create default -f ./Modelfile"
   ]
  },
  {
   "cell_type": "markdown",
   "id": "a174ca94-3b34-4c13-8159-2765c267b0eb",
   "metadata": {},
   "source": [
    "## Model Inference"
   ]
  },
  {
   "cell_type": "code",
   "execution_count": 7,
   "id": "d34c8bd0-0c4c-4c58-8daf-77fa31f3ffba",
   "metadata": {},
   "outputs": [
    {
     "data": {
      "text/plain": [
       "Query:\n",
       "¿Por que el cielos es azul?\n",
       "\n",
       "Response:¡Hola! Me alegra poder responder tus preguntas. ¿Por qué el cielo es azul? Bueno, hay varias teorías al respecto, pero la más aceptada es que el color del cielo es debido a la dispersión de la luz solar en la atmósfera de la Tierra.\n",
       "\n",
       "La luz solar entra en la atmósfera y se divide en sus diferentes colores, como rojo, amarillo, verde y azul. Cuando la luz azul incide en la atmósfera, es dispersada en todas las direcciones, lo que da lugar al cielo azul que vemos. La cantidad de dispersión depende de la longitud de onda de la luz, por lo que el azul es el color que se disperse más fácilmente en la atmósfera.\n",
       "\n",
       "Además, la atmósfera también contiene partículas sólidas y líquidas, como gotas de agua y polvo, que reflejan y dispersan la luz solar, lo que puede dar lugar a un cielo azulado.\n",
       "\n",
       "En resumen, el cielo es azul porque la luz solar se dispersa en la atmósfera de manera diferente dependiendo de su longitud de onda, y porque hay partículas en la atmósfera que reflejan y dispersan la luz solar. ¡Es genial aprender cosas nuevas juntos! ¿Quieres preguntar algo más?"
      ]
     },
     "execution_count": 7,
     "metadata": {},
     "output_type": "execute_result"
    }
   ],
   "source": [
    "def query(msg, model='default'):\n",
    "    return OllamaApiClient(model=model).query(msg)\n",
    "\n",
    "query(\"¿Por que el cielos es azul?\")"
   ]
  },
  {
   "cell_type": "code",
   "execution_count": 8,
   "id": "c81c759f-dd99-4b15-b0cd-3cf7ddf052af",
   "metadata": {
    "tags": []
   },
   "outputs": [
    {
     "data": {
      "text/plain": [
       "Query:\n",
       "Contame un chiste\n",
       "\n",
       "Response:¡Haha, ¡claro! Aquí tienes uno:\n",
       "\n",
       "¿Por qué el gato siempre se come el huevo? ¡Porque es el único animal que sabe que el huevo es para ellas! 😹\n",
       "\n",
       "Espero que te diviertas, ¡si necesitas algo más, no dudes en preguntar!"
      ]
     },
     "execution_count": 8,
     "metadata": {},
     "output_type": "execute_result"
    }
   ],
   "source": [
    "query(\"Contame un chiste\")"
   ]
  },
  {
   "cell_type": "code",
   "execution_count": null,
   "id": "0d8d1f64-8cc4-4e0b-a19c-8306287b0d91",
   "metadata": {},
   "outputs": [],
   "source": []
  }
 ],
 "metadata": {
  "kernelspec": {
   "display_name": "Python 3 (ipykernel)",
   "language": "python",
   "name": "python3"
  },
  "language_info": {
   "codemirror_mode": {
    "name": "ipython",
    "version": 3
   },
   "file_extension": ".py",
   "mimetype": "text/x-python",
   "name": "python",
   "nbconvert_exporter": "python",
   "pygments_lexer": "ipython3",
   "version": "3.10.12"
  },
  "widgets": {
   "application/vnd.jupyter.widget-state+json": {
    "state": {},
    "version_major": 2,
    "version_minor": 0
   }
  }
 },
 "nbformat": 4,
 "nbformat_minor": 5
}
