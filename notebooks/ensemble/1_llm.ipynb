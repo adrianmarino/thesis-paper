{
 "cells": [
  {
   "cell_type": "markdown",
   "id": "0417277b-47df-4113-a7b3-8f960db06f1d",
   "metadata": {
    "tags": []
   },
   "source": [
    "# Modelos: LLM"
   ]
  },
  {
   "cell_type": "markdown",
   "id": "eef46fb7-b5c8-47e8-b90a-99a1c3027f4b",
   "metadata": {
    "tags": []
   },
   "source": [
    "### Papers\n",
    "\n",
    "* [Chat-REC: Towards Interactive and Explainable\n",
    "LLMs-Augmented Recommender System](https://github.com/adrianmarino/thesis-paper/blob/master/docs/ideas/2303.14524.pdf)\n",
    "* [Large Language Models as Zero-Shot Conversational\n",
    "Recommenders](https://github.com/adrianmarino/thesis-paper/blob/master/docs/ideas/3583780.3614949.pdf)\n",
    "* [Large Language Models are Competitive Near Cold-start\n",
    "Recommenders for Language- and Item-based Preferences](https://github.com/adrianmarino/thesis-paper/blob/master/docs/ideas/3604915.3608845.pdf)"
   ]
  },
  {
   "cell_type": "code",
   "execution_count": 4,
   "id": "35e430dd-e279-4258-82a4-6b7a1347304b",
   "metadata": {},
   "outputs": [
    {
     "name": "stdout",
     "output_type": "stream",
     "text": [
      "The autoreload extension is already loaded. To reload it, use:\n",
      "  %reload_ext autoreload\n"
     ]
    }
   ],
   "source": [
    "%load_ext autoreload\n",
    "%autoreload 2"
   ]
  },
  {
   "cell_type": "code",
   "execution_count": 5,
   "id": "834b2f2d-4103-4cf5-880d-10404d8ec7d3",
   "metadata": {},
   "outputs": [],
   "source": [
    "BASE_PATH             = '../..'\n",
    "LIB_PATH              = f'{BASE_PATH}/lib'\n",
    "DATASET_PATH          = f'{BASE_PATH}/datasets'"
   ]
  },
  {
   "cell_type": "code",
   "execution_count": 6,
   "id": "f98e7bf4-f41a-43f6-b7b7-a991d00f82de",
   "metadata": {},
   "outputs": [],
   "source": [
    "import sys\n",
    "sys.path.append(LIB_PATH)\n",
    "\n",
    "import numpy as np\n",
    "import pandas as pd\n",
    "\n",
    "import util as ut\n",
    "\n",
    "from rest.ollama import OllamaApiClient\n",
    "\n",
    "\n",
    "from model.llm import MovieRecommenderOutputParser"
   ]
  },
  {
   "cell_type": "markdown",
   "id": "c2b2aa52-be91-4ff8-b9d6-52b525bec2ca",
   "metadata": {},
   "source": [
    "## Setup"
   ]
  },
  {
   "cell_type": "code",
   "execution_count": 7,
   "id": "3a3e6040-f06b-4cb3-941a-a22d18507bf2",
   "metadata": {
    "tags": []
   },
   "outputs": [],
   "source": [
    "# !sudo systemctl enable ollama\n",
    "# !sudo systemctl restart ollama"
   ]
  },
  {
   "cell_type": "markdown",
   "id": "ea31251c-b16e-4162-af8a-a9cef8ecfa4f",
   "metadata": {},
   "source": [
    "## Create model"
   ]
  },
  {
   "cell_type": "markdown",
   "id": "f712184a-5e2e-41ee-bbd9-a1f846f586aa",
   "metadata": {},
   "source": [
    "Model definition:"
   ]
  },
  {
   "cell_type": "code",
   "execution_count": 8,
   "id": "4601105b-c18c-4799-86f7-a64305951985",
   "metadata": {
    "tags": []
   },
   "outputs": [
    {
     "name": "stdout",
     "output_type": "stream",
     "text": [
      "FROM llama2\n",
      "\n",
      "# set the temperature to 1 [higher is more creative, lower is more coherent]\n",
      "PARAMETER temperature 0.5\n",
      "\n",
      "# set the system message\n",
      "SYSTEM \"\"\"\n",
      "\"\"\""
     ]
    }
   ],
   "source": [
    "! cat ./llms/Modelfile.movie_recommender"
   ]
  },
  {
   "cell_type": "code",
   "execution_count": 9,
   "id": "f5a4fcf2-d3dd-412f-8d5f-d150ae932b8e",
   "metadata": {
    "tags": []
   },
   "outputs": [],
   "source": [
    "# !sudo ollama create default -f ./Modelfile"
   ]
  },
  {
   "cell_type": "markdown",
   "id": "4aecd521-270f-4795-b165-8bc94cd1b0eb",
   "metadata": {},
   "source": [
    "## Promps"
   ]
  },
  {
   "cell_type": "code",
   "execution_count": 10,
   "id": "7ff44ae3-7e83-41d4-a757-73b80f35b569",
   "metadata": {
    "tags": []
   },
   "outputs": [],
   "source": [
    "def promp_build_fn(**kargs):\n",
    "    user_profile = kargs['user_profile'] if 'user_profile' in kargs else 'No existe informacion de su perfil'\n",
    "    \n",
    "    user_history = kargs['user_history'] if 'user_history' in kargs else 'Aun no se registraron peliculas vista'\n",
    "\n",
    "    candidates = kargs['candidates'] if 'candidates' in kargs else 'Aun no se dispone de peliculas cantidatas'\n",
    "\n",
    "    limit = kargs['limit'] if 'limit' in kargs else 5\n",
    "    \n",
    "    query = f'Usuario: {kargs[\"quer\"]}.' if 'query' in kargs else '¿Me recomendarias una pelicula?'\n",
    "\n",
    "    return f\"\"\"\n",
    "Eres un servicio que recomienda películas a sus usuarios. Además te comunicas con tus usuarios en lenguaje español.\n",
    "\n",
    "Quiero que recomiendes una película a un usuario basándote en información personal y \n",
    "registros históricos de películas vistas.\n",
    "\n",
    "Perfil del usuario: {user_profile}.\n",
    "\n",
    "Los registros históricos incluyen el nombre de la película, el tipo y cuántos puntos \n",
    "obtuvo de 5. Cuanto mayor es la puntuación, más le gusta la película. Te animamos a \n",
    "aprender su preferencia de películas de las películas que ha visto. Aquí hay algunos \n",
    "ejemplos:\n",
    "\n",
    "{user_history}.\n",
    "\n",
    "Aquí hay una lista de películas que probablemente le gustarán: {candidates}.\n",
    "\n",
    "Por favor, selecciona las {limit} mejores películas de la lista que es más probable que le gusten.\n",
    "La primera la película con mayor rating es la más cercana a los gustos del usuario. Por favor, selecciona las 4 películas\n",
    "restantes. Solo muestra el nombre de la película y si identificador entre paréntesis.\n",
    "\n",
    "En caso de no tener ninguna información para recomendar elige entre las películas más taquilleras. Siempre responde en lenguaje español.\n",
    "\n",
    "El formato de la respuesta siempre debe especificarse con el siguiente formato:\n",
    "\n",
    "Comienza lista de recommendaciones:\n",
    "Número. Título(Año de estreno, Calificación numérica entre los valores 1 y 5): Descripción.\n",
    "Fin de lista de recommendaciones:\n",
    "\n",
    "El título, año de estreno, calificación y descripción debe especificarse en lenguaje natural y no deben estar entre comillas.\n",
    "\n",
    "{query}\n",
    "\"\"\""
   ]
  },
  {
   "cell_type": "code",
   "execution_count": 11,
   "id": "7d5d5613-74cc-4f27-85af-0aef6621800f",
   "metadata": {
    "tags": []
   },
   "outputs": [],
   "source": [
    "class OllamaAssitant:\n",
    "    def __init__(self, model, promp_build_fn):\n",
    "        self.__api_client     = OllamaApiClient(model=model)\n",
    "        self.__promp_build_fn = promp_build_fn\n",
    "\n",
    "    def recommend(self, **kargs):\n",
    "        promp = self.__promp_build_fn(**kargs)\n",
    "        return self.__api_client.query(promp)"
   ]
  },
  {
   "cell_type": "markdown",
   "id": "a174ca94-3b34-4c13-8159-2765c267b0eb",
   "metadata": {},
   "source": [
    "## Model Inference"
   ]
  },
  {
   "cell_type": "code",
   "execution_count": 12,
   "id": "ab851600-898b-4b4f-9cee-482afa62f079",
   "metadata": {},
   "outputs": [],
   "source": [
    "assistant = OllamaAssitant('movie_recommender', promp_build_fn)"
   ]
  },
  {
   "cell_type": "code",
   "execution_count": 13,
   "id": "ef51a7af-a8b8-432b-a584-cdd6506d6080",
   "metadata": {},
   "outputs": [],
   "source": [
    "result = assistant.recommend(\n",
    " user_profile = 'Tiene 24 años y trabaja como técnico'\n",
    ")"
   ]
  },
  {
   "cell_type": "code",
   "execution_count": 16,
   "id": "3f6a465e-2307-4119-a0b7-4ded85a9c3a6",
   "metadata": {},
   "outputs": [],
   "source": [
    "output = MovieRecommenderOutputParser().parse(result.response)"
   ]
  },
  {
   "cell_type": "code",
   "execution_count": 17,
   "id": "62d22056-bfc9-4501-8a5e-70010ab218b0",
   "metadata": {
    "tags": []
   },
   "outputs": [
    {
     "data": {
      "text/html": [
       "<pre style=\"white-space:pre;overflow-x:auto;line-height:normal;font-family:Menlo,'DejaVu Sans Mono',consolas,'Courier New',monospace\"><span style=\"font-weight: bold\">[</span>\n",
       "    <span style=\"font-weight: bold\">{</span>\n",
       "        <span style=\"color: #008000; text-decoration-color: #008000\">'position'</span>: <span style=\"color: #008080; text-decoration-color: #008080; font-weight: bold\">1</span>,\n",
       "        <span style=\"color: #008000; text-decoration-color: #008000\">'title'</span>: <span style=\"color: #008000; text-decoration-color: #008000\">'El laberinto del fauno'</span>,\n",
       "        <span style=\"color: #008000; text-decoration-color: #008000\">'release'</span>: <span style=\"color: #008080; text-decoration-color: #008080; font-weight: bold\">2006</span>,\n",
       "        <span style=\"color: #008000; text-decoration-color: #008000\">'rating'</span>: <span style=\"color: #008080; text-decoration-color: #008080; font-weight: bold\">4.5</span>,\n",
       "        <span style=\"color: #008000; text-decoration-color: #008000\">'description'</span>: <span style=\"color: #008000; text-decoration-color: #008000\">'Un drama fantástico que combina elementos de terror y aventura para crear una historia </span>\n",
       "<span style=\"color: #008000; text-decoration-color: #008000\">impactante y emocionante. dirigida por guillermo del toro y protagonizada por tim roth, michael lloreda y ivana </span>\n",
       "<span style=\"color: #008000; text-decoration-color: #008000\">baquero.'</span>\n",
       "    <span style=\"font-weight: bold\">}</span>,\n",
       "    <span style=\"font-weight: bold\">{</span>\n",
       "        <span style=\"color: #008000; text-decoration-color: #008000\">'position'</span>: <span style=\"color: #008080; text-decoration-color: #008080; font-weight: bold\">2</span>,\n",
       "        <span style=\"color: #008000; text-decoration-color: #008000\">'title'</span>: <span style=\"color: #008000; text-decoration-color: #008000\">'La la land'</span>,\n",
       "        <span style=\"color: #008000; text-decoration-color: #008000\">'release'</span>: <span style=\"color: #008080; text-decoration-color: #008080; font-weight: bold\">2016</span>,\n",
       "        <span style=\"color: #008000; text-decoration-color: #008000\">'rating'</span>: <span style=\"color: #008080; text-decoration-color: #008080; font-weight: bold\">4.2</span>,\n",
       "        <span style=\"color: #008000; text-decoration-color: #008000\">'description'</span>: <span style=\"color: #008000; text-decoration-color: #008000\">'Una comedia romántica que combina canciones y baile para contar la historia de dos jóvenes </span>\n",
       "<span style=\"color: #008000; text-decoration-color: #008000\">que luchan por alcanzar sus sueños en los ángeles. dirigida por damien chazelle y protagonizada por ryan gosling y </span>\n",
       "<span style=\"color: #008000; text-decoration-color: #008000\">emma stone.'</span>\n",
       "    <span style=\"font-weight: bold\">}</span>,\n",
       "    <span style=\"font-weight: bold\">{</span>\n",
       "        <span style=\"color: #008000; text-decoration-color: #008000\">'position'</span>: <span style=\"color: #008080; text-decoration-color: #008080; font-weight: bold\">3</span>,\n",
       "        <span style=\"color: #008000; text-decoration-color: #008000\">'title'</span>: <span style=\"color: #008000; text-decoration-color: #008000\">'La habitación del tigr'</span>,\n",
       "        <span style=\"color: #008000; text-decoration-color: #008000\">'release'</span>: <span style=\"color: #008080; text-decoration-color: #008080; font-weight: bold\">2017</span>,\n",
       "        <span style=\"color: #008000; text-decoration-color: #008000\">'rating'</span>: <span style=\"color: #008080; text-decoration-color: #008080; font-weight: bold\">4.8</span>,\n",
       "        <span style=\"color: #008000; text-decoration-color: #008000\">'description'</span>: <span style=\"color: #008000; text-decoration-color: #008000\">'Un thriller psicológico que sigue a una joven que investiga la desaparición de su hermano </span>\n",
       "<span style=\"color: #008000; text-decoration-color: #008000\">en un pueblo remoto. dirigida por ari aster y protagonizada por florence pugh y jack reynor.'</span>\n",
       "    <span style=\"font-weight: bold\">}</span>,\n",
       "    <span style=\"font-weight: bold\">{</span>\n",
       "        <span style=\"color: #008000; text-decoration-color: #008000\">'position'</span>: <span style=\"color: #008080; text-decoration-color: #008080; font-weight: bold\">4</span>,\n",
       "        <span style=\"color: #008000; text-decoration-color: #008000\">'title'</span>: <span style=\"color: #008000; text-decoration-color: #008000\">'Roma'</span>,\n",
       "        <span style=\"color: #008000; text-decoration-color: #008000\">'release'</span>: <span style=\"color: #008080; text-decoration-color: #008080; font-weight: bold\">2018</span>,\n",
       "        <span style=\"color: #008000; text-decoration-color: #008000\">'rating'</span>: <span style=\"color: #008080; text-decoration-color: #008080; font-weight: bold\">4.5</span>,\n",
       "        <span style=\"color: #008000; text-decoration-color: #008000\">'description'</span>: <span style=\"color: #008000; text-decoration-color: #008000\">'Una película dramática que cuenta la historia de una mujer que trabaja como niñera en </span>\n",
       "<span style=\"color: #008000; text-decoration-color: #008000\">méxico durante la década de 1970. dirigida por alfonso cuarón y protagonizada por yalitza aparicio.'</span>\n",
       "    <span style=\"font-weight: bold\">}</span>,\n",
       "    <span style=\"font-weight: bold\">{</span>\n",
       "        <span style=\"color: #008000; text-decoration-color: #008000\">'position'</span>: <span style=\"color: #008080; text-decoration-color: #008080; font-weight: bold\">5</span>,\n",
       "        <span style=\"color: #008000; text-decoration-color: #008000\">'title'</span>: <span style=\"color: #008000; text-decoration-color: #008000\">'Hereditary'</span>,\n",
       "        <span style=\"color: #008000; text-decoration-color: #008000\">'release'</span>: <span style=\"color: #008080; text-decoration-color: #008080; font-weight: bold\">2018</span>,\n",
       "        <span style=\"color: #008000; text-decoration-color: #008000\">'rating'</span>: <span style=\"color: #008080; text-decoration-color: #008080; font-weight: bold\">4.3</span>,\n",
       "        <span style=\"color: #008000; text-decoration-color: #008000\">'description'</span>: <span style=\"color: #008000; text-decoration-color: #008000\">'Un thriller psicológico que sigue a una familia después de la muerte de su madre, </span>\n",
       "<span style=\"color: #008000; text-decoration-color: #008000\">descubriendo secretos oscuros y malevolentes. dirigida por ari aster y protagonizada por toni collette, alex wolff </span>\n",
       "<span style=\"color: #008000; text-decoration-color: #008000\">y milly shapiro.'</span>\n",
       "    <span style=\"font-weight: bold\">}</span>\n",
       "<span style=\"font-weight: bold\">]</span>\n",
       "</pre>\n"
      ],
      "text/plain": [
       "\u001b[1m[\u001b[0m\n",
       "    \u001b[1m{\u001b[0m\n",
       "        \u001b[32m'position'\u001b[0m: \u001b[1;36m1\u001b[0m,\n",
       "        \u001b[32m'title'\u001b[0m: \u001b[32m'El laberinto del fauno'\u001b[0m,\n",
       "        \u001b[32m'release'\u001b[0m: \u001b[1;36m2006\u001b[0m,\n",
       "        \u001b[32m'rating'\u001b[0m: \u001b[1;36m4.5\u001b[0m,\n",
       "        \u001b[32m'description'\u001b[0m: \u001b[32m'Un drama fantástico que combina elementos de terror y aventura para crear una historia \u001b[0m\n",
       "\u001b[32mimpactante y emocionante. dirigida por guillermo del toro y protagonizada por tim roth, michael lloreda y ivana \u001b[0m\n",
       "\u001b[32mbaquero.'\u001b[0m\n",
       "    \u001b[1m}\u001b[0m,\n",
       "    \u001b[1m{\u001b[0m\n",
       "        \u001b[32m'position'\u001b[0m: \u001b[1;36m2\u001b[0m,\n",
       "        \u001b[32m'title'\u001b[0m: \u001b[32m'La la land'\u001b[0m,\n",
       "        \u001b[32m'release'\u001b[0m: \u001b[1;36m2016\u001b[0m,\n",
       "        \u001b[32m'rating'\u001b[0m: \u001b[1;36m4.2\u001b[0m,\n",
       "        \u001b[32m'description'\u001b[0m: \u001b[32m'Una comedia romántica que combina canciones y baile para contar la historia de dos jóvenes \u001b[0m\n",
       "\u001b[32mque luchan por alcanzar sus sueños en los ángeles. dirigida por damien chazelle y protagonizada por ryan gosling y \u001b[0m\n",
       "\u001b[32memma stone.'\u001b[0m\n",
       "    \u001b[1m}\u001b[0m,\n",
       "    \u001b[1m{\u001b[0m\n",
       "        \u001b[32m'position'\u001b[0m: \u001b[1;36m3\u001b[0m,\n",
       "        \u001b[32m'title'\u001b[0m: \u001b[32m'La habitación del tigr'\u001b[0m,\n",
       "        \u001b[32m'release'\u001b[0m: \u001b[1;36m2017\u001b[0m,\n",
       "        \u001b[32m'rating'\u001b[0m: \u001b[1;36m4.8\u001b[0m,\n",
       "        \u001b[32m'description'\u001b[0m: \u001b[32m'Un thriller psicológico que sigue a una joven que investiga la desaparición de su hermano \u001b[0m\n",
       "\u001b[32men un pueblo remoto. dirigida por ari aster y protagonizada por florence pugh y jack reynor.'\u001b[0m\n",
       "    \u001b[1m}\u001b[0m,\n",
       "    \u001b[1m{\u001b[0m\n",
       "        \u001b[32m'position'\u001b[0m: \u001b[1;36m4\u001b[0m,\n",
       "        \u001b[32m'title'\u001b[0m: \u001b[32m'Roma'\u001b[0m,\n",
       "        \u001b[32m'release'\u001b[0m: \u001b[1;36m2018\u001b[0m,\n",
       "        \u001b[32m'rating'\u001b[0m: \u001b[1;36m4.5\u001b[0m,\n",
       "        \u001b[32m'description'\u001b[0m: \u001b[32m'Una película dramática que cuenta la historia de una mujer que trabaja como niñera en \u001b[0m\n",
       "\u001b[32mméxico durante la década de 1970. dirigida por alfonso cuarón y protagonizada por yalitza aparicio.'\u001b[0m\n",
       "    \u001b[1m}\u001b[0m,\n",
       "    \u001b[1m{\u001b[0m\n",
       "        \u001b[32m'position'\u001b[0m: \u001b[1;36m5\u001b[0m,\n",
       "        \u001b[32m'title'\u001b[0m: \u001b[32m'Hereditary'\u001b[0m,\n",
       "        \u001b[32m'release'\u001b[0m: \u001b[1;36m2018\u001b[0m,\n",
       "        \u001b[32m'rating'\u001b[0m: \u001b[1;36m4.3\u001b[0m,\n",
       "        \u001b[32m'description'\u001b[0m: \u001b[32m'Un thriller psicológico que sigue a una familia después de la muerte de su madre, \u001b[0m\n",
       "\u001b[32mdescubriendo secretos oscuros y malevolentes. dirigida por ari aster y protagonizada por toni collette, alex wolff \u001b[0m\n",
       "\u001b[32my milly shapiro.'\u001b[0m\n",
       "    \u001b[1m}\u001b[0m\n",
       "\u001b[1m]\u001b[0m\n"
      ]
     },
     "metadata": {},
     "output_type": "display_data"
    }
   ],
   "source": [
    "print(output)"
   ]
  },
  {
   "cell_type": "code",
   "execution_count": null,
   "id": "afcf31b6-6992-4087-91b3-68358e4c3316",
   "metadata": {},
   "outputs": [],
   "source": []
  }
 ],
 "metadata": {
  "kernelspec": {
   "display_name": "Python 3 (ipykernel)",
   "language": "python",
   "name": "python3"
  },
  "language_info": {
   "codemirror_mode": {
    "name": "ipython",
    "version": 3
   },
   "file_extension": ".py",
   "mimetype": "text/x-python",
   "name": "python",
   "nbconvert_exporter": "python",
   "pygments_lexer": "ipython3",
   "version": "3.10.12"
  },
  "widgets": {
   "application/vnd.jupyter.widget-state+json": {
    "state": {},
    "version_major": 2,
    "version_minor": 0
   }
  }
 },
 "nbformat": 4,
 "nbformat_minor": 5
}
