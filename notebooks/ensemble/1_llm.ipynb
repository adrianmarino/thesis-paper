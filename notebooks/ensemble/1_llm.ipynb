{
 "cells": [
  {
   "cell_type": "markdown",
   "id": "0417277b-47df-4113-a7b3-8f960db06f1d",
   "metadata": {
    "tags": []
   },
   "source": [
    "# Modelos: LLM"
   ]
  },
  {
   "cell_type": "code",
   "execution_count": 44,
   "id": "35e430dd-e279-4258-82a4-6b7a1347304b",
   "metadata": {},
   "outputs": [],
   "source": [
    "%load_ext autoreload\n",
    "%autoreload 2"
   ]
  },
  {
   "cell_type": "code",
   "execution_count": 45,
   "id": "834b2f2d-4103-4cf5-880d-10404d8ec7d3",
   "metadata": {},
   "outputs": [],
   "source": [
    "BASE_PATH             = '../..'\n",
    "LIB_PATH              = f'{BASE_PATH}/lib'\n",
    "DATASET_PATH          = f'{BASE_PATH}/datasets'"
   ]
  },
  {
   "cell_type": "code",
   "execution_count": 46,
   "id": "f98e7bf4-f41a-43f6-b7b7-a991d00f82de",
   "metadata": {},
   "outputs": [
    {
     "name": "stderr",
     "output_type": "stream",
     "text": [
      "2023-12-15 21:47:12.033803: I tensorflow/core/platform/cpu_feature_guard.cc:182] This TensorFlow binary is optimized to use available CPU instructions in performance-critical operations.\n",
      "To enable the following instructions: AVX2 FMA, in other operations, rebuild TensorFlow with the appropriate compiler flags.\n",
      "2023-12-15 21:47:12.614355: W tensorflow/compiler/tf2tensorrt/utils/py_utils.cc:38] TF-TRT Warning: Could not find TensorRT\n",
      "2023-12-15 21:47:13.210518: I tensorflow/compiler/xla/stream_executor/cuda/cuda_gpu_executor.cc:996] successful NUMA node read from SysFS had negative value (-1), but there must be at least one NUMA node, so returning NUMA node zero. See more at https://github.com/torvalds/linux/blob/v6.0/Documentation/ABI/testing/sysfs-bus-pci#L344-L355\n",
      "2023-12-15 21:47:13.220865: W tensorflow/core/common_runtime/gpu/gpu_device.cc:1956] Cannot dlopen some GPU libraries. Please make sure the missing libraries mentioned above are installed properly if you would like to use GPU. Follow the guide at https://www.tensorflow.org/install/gpu for how to download and setup the required libraries for your platform.\n",
      "Skipping registering GPU devices...\n"
     ]
    },
    {
     "data": {
      "text/plain": [
       "<Figure size 640x480 with 0 Axes>"
      ]
     },
     "metadata": {},
     "output_type": "display_data"
    }
   ],
   "source": [
    "import sys\n",
    "sys.path.append(LIB_PATH)\n",
    "\n",
    "import torch\n",
    "from torch.nn import Sigmoid, ReLU\n",
    "from torch.optim import SparseAdam, Adam\n",
    "from torch.utils.data import Dataset, DataLoader\n",
    "\n",
    "from torchmetrics import R2Score\n",
    "from torch.nn import MSELoss\n",
    "\n",
    "import pytorch_common.util as pu\n",
    "from pytorch_common.modules.fn import Fn\n",
    "from pytorch_common.callbacks import EarlyStop, \\\n",
    "                                     ReduceLROnPlateau, \\\n",
    "                                     Validation, \\\n",
    "                                     SaveBestModel\n",
    "from pytorch_common.callbacks.output import Logger, \\\n",
    "                                            MetricsPlotter\n",
    "\n",
    "\n",
    "import data as dt\n",
    "import data.dataset as ds\n",
    "\n",
    "import metric as mt\n",
    "import metric.discretizer as dr\n",
    "\n",
    "import numpy as np\n",
    "import pandas as pd\n",
    "\n",
    "import model as ml\n",
    "import data.plot as pl\n",
    "\n",
    "import util as ut\n",
    "\n",
    "\n",
    "from rest.ollama import OllamaApiClient"
   ]
  },
  {
   "cell_type": "markdown",
   "id": "5a27713e-db35-4610-90b7-fefa51d687ab",
   "metadata": {},
   "source": [
    "## Setup"
   ]
  },
  {
   "cell_type": "code",
   "execution_count": 3,
   "id": "a5e62624-4db7-497d-9c42-9af898f007fa",
   "metadata": {},
   "outputs": [
    {
     "data": {
      "text/plain": [
       "<RootLogger root (INFO)>"
      ]
     },
     "execution_count": 3,
     "metadata": {},
     "output_type": "execute_result"
    }
   ],
   "source": [
    "pu.LoggerBuilder().on_console().build()"
   ]
  },
  {
   "cell_type": "code",
   "execution_count": 4,
   "id": "76e2f379-0e6c-44bc-a68f-0f763420fb34",
   "metadata": {
    "tags": []
   },
   "outputs": [
    {
     "data": {
      "text/plain": [
       "'0.3.8'"
      ]
     },
     "execution_count": 4,
     "metadata": {},
     "output_type": "execute_result"
    }
   ],
   "source": [
    "import pytorch_common\n",
    "pytorch_common.__version__"
   ]
  },
  {
   "cell_type": "code",
   "execution_count": 5,
   "id": "2c8c7597-f1d5-4bbf-9966-035547744e9d",
   "metadata": {
    "tags": []
   },
   "outputs": [
    {
     "data": {
      "text/plain": [
       "'2.1.0+cu118'"
      ]
     },
     "execution_count": 5,
     "metadata": {},
     "output_type": "execute_result"
    }
   ],
   "source": [
    "torch.__version__"
   ]
  },
  {
   "cell_type": "code",
   "execution_count": 6,
   "id": "14eb99fa-b368-46f4-96ce-8976b923a858",
   "metadata": {},
   "outputs": [
    {
     "data": {
      "text/plain": [
       "(device(type='cuda', index=0), True)"
      ]
     },
     "execution_count": 6,
     "metadata": {},
     "output_type": "execute_result"
    }
   ],
   "source": [
    "pu.set_device_name('gpu')\n",
    "\n",
    "pu.get_device(), torch.cuda.is_available()"
   ]
  },
  {
   "cell_type": "markdown",
   "id": "ea31251c-b16e-4162-af8a-a9cef8ecfa4f",
   "metadata": {},
   "source": [
    "## Model"
   ]
  },
  {
   "cell_type": "code",
   "execution_count": 71,
   "id": "d34c8bd0-0c4c-4c58-8daf-77fa31f3ffba",
   "metadata": {},
   "outputs": [
    {
     "data": {
      "text/plain": [
       "Query:\n",
       "¿Por que el cielos es azul?\n",
       "\n",
       "Response:\n",
       "¡Hola! *adjusts sunglasses* The sky is blue because of a phenomenon called Rayleigh scattering. When sunlight enters the Earth's atmosphere, it encounters tiny molecules of gases like nitrogen and oxygen. These molecules scatter the light in all directions, but they scatter shorter (blue) wavelengths more than longer (red) wavelengths. This is why the sky appears blue to our eyes! *winks* ¿Quieres más información sobre este tema? 😊"
      ]
     },
     "execution_count": 71,
     "metadata": {},
     "output_type": "execute_result"
    }
   ],
   "source": [
    "def query(msg, model='default'):\n",
    "    return OllamaApiClient(model=model).query(msg)\n",
    "\n",
    "query(\"¿Por que el cielos es azul?\")"
   ]
  },
  {
   "cell_type": "code",
   "execution_count": 72,
   "id": "c81c759f-dd99-4b15-b0cd-3cf7ddf052af",
   "metadata": {
    "tags": []
   },
   "outputs": [
    {
     "data": {
      "text/plain": [
       "Query:\n",
       "Contame un chiste\n",
       "\n",
       "Response:¡Haha, ¡qué buena oportunidad! Aquí tienes un chiste para ti:\n",
       "\n",
       "¿Por qué el abeja se metió en la cocina? ¡Para hacer una torta! 😂\n",
       "\n",
       "Espero que te haya gustado. ¿Quieres más?"
      ]
     },
     "execution_count": 72,
     "metadata": {},
     "output_type": "execute_result"
    }
   ],
   "source": [
    "query(\"Contame un chiste\")"
   ]
  },
  {
   "cell_type": "code",
   "execution_count": null,
   "id": "0d8d1f64-8cc4-4e0b-a19c-8306287b0d91",
   "metadata": {},
   "outputs": [],
   "source": []
  }
 ],
 "metadata": {
  "kernelspec": {
   "display_name": "Python 3 (ipykernel)",
   "language": "python",
   "name": "python3"
  },
  "language_info": {
   "codemirror_mode": {
    "name": "ipython",
    "version": 3
   },
   "file_extension": ".py",
   "mimetype": "text/x-python",
   "name": "python",
   "nbconvert_exporter": "python",
   "pygments_lexer": "ipython3",
   "version": "3.10.12"
  },
  "widgets": {
   "application/vnd.jupyter.widget-state+json": {
    "state": {},
    "version_major": 2,
    "version_minor": 0
   }
  }
 },
 "nbformat": 4,
 "nbformat_minor": 5
}
