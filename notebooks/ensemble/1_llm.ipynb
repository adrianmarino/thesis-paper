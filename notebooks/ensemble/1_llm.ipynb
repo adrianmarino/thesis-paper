{
 "cells": [
  {
   "cell_type": "markdown",
   "id": "0417277b-47df-4113-a7b3-8f960db06f1d",
   "metadata": {
    "tags": []
   },
   "source": [
    "# Modelos: LLM"
   ]
  },
  {
   "cell_type": "markdown",
   "id": "eef46fb7-b5c8-47e8-b90a-99a1c3027f4b",
   "metadata": {
    "tags": []
   },
   "source": [
    "### Papers\n",
    "\n",
    "* [Chat-REC: Towards Interactive and Explainable\n",
    "LLMs-Augmented Recommender System](https://github.com/adrianmarino/thesis-paper/blob/master/docs/ideas/2303.14524.pdf)\n",
    "* [Large Language Models as Zero-Shot Conversational\n",
    "Recommenders](https://github.com/adrianmarino/thesis-paper/blob/master/docs/ideas/3583780.3614949.pdf)\n",
    "* [Large Language Models are Competitive Near Cold-start\n",
    "Recommenders for Language- and Item-based Preferences](https://github.com/adrianmarino/thesis-paper/blob/master/docs/ideas/3604915.3608845.pdf)\n",
    "\n",
    "### Implementation\n",
    "\n",
    "* [Langchain Quickstart](https://python.langchain.com/docs/integrations/llms/ollama)\n",
    "* [Langchain Ollama](https://python.langchain.com/docs/integrations/llms/ollama)"
   ]
  },
  {
   "cell_type": "code",
   "execution_count": 8,
   "id": "35e430dd-e279-4258-82a4-6b7a1347304b",
   "metadata": {},
   "outputs": [
    {
     "name": "stdout",
     "output_type": "stream",
     "text": [
      "The autoreload extension is already loaded. To reload it, use:\n",
      "  %reload_ext autoreload\n"
     ]
    }
   ],
   "source": [
    "%load_ext autoreload\n",
    "%autoreload 2"
   ]
  },
  {
   "cell_type": "code",
   "execution_count": 9,
   "id": "834b2f2d-4103-4cf5-880d-10404d8ec7d3",
   "metadata": {},
   "outputs": [],
   "source": [
    "BASE_PATH             = '../..'\n",
    "LIB_PATH              = f'{BASE_PATH}/lib'\n",
    "DATASET_PATH          = f'{BASE_PATH}/datasets'"
   ]
  },
  {
   "cell_type": "code",
   "execution_count": 10,
   "id": "f98e7bf4-f41a-43f6-b7b7-a991d00f82de",
   "metadata": {},
   "outputs": [],
   "source": [
    "import sys\n",
    "sys.path.append(LIB_PATH)\n",
    "\n",
    "import numpy as np\n",
    "import pandas as pd\n",
    "\n",
    "import util as ut\n",
    "\n",
    "from model.llm import OllamaChatParamsResolver, OllamaChainFactory"
   ]
  },
  {
   "cell_type": "markdown",
   "id": "c2b2aa52-be91-4ff8-b9d6-52b525bec2ca",
   "metadata": {},
   "source": [
    "## Setup"
   ]
  },
  {
   "cell_type": "code",
   "execution_count": 11,
   "id": "3a3e6040-f06b-4cb3-941a-a22d18507bf2",
   "metadata": {
    "tags": []
   },
   "outputs": [],
   "source": [
    "# !sudo systemctl enable ollama\n",
    "# !sudo systemctl restart ollama"
   ]
  },
  {
   "cell_type": "markdown",
   "id": "ea31251c-b16e-4162-af8a-a9cef8ecfa4f",
   "metadata": {},
   "source": [
    "## Create model"
   ]
  },
  {
   "cell_type": "markdown",
   "id": "f712184a-5e2e-41ee-bbd9-a1f846f586aa",
   "metadata": {},
   "source": [
    "Model definition:"
   ]
  },
  {
   "cell_type": "code",
   "execution_count": 12,
   "id": "4601105b-c18c-4799-86f7-a64305951985",
   "metadata": {
    "tags": []
   },
   "outputs": [
    {
     "name": "stdout",
     "output_type": "stream",
     "text": [
      "FROM llama2\n",
      "\n",
      "# set the temperature to 1 [higher is more creative, lower is more coherent]\n",
      "PARAMETER temperature 0.5\n",
      "\n",
      "# set the system message\n",
      "SYSTEM \"\"\"\n",
      "\"\"\""
     ]
    }
   ],
   "source": [
    "! cat ./llms/Modelfile.movie_recommender"
   ]
  },
  {
   "cell_type": "code",
   "execution_count": 13,
   "id": "f5a4fcf2-d3dd-412f-8d5f-d150ae932b8e",
   "metadata": {
    "tags": []
   },
   "outputs": [],
   "source": [
    "# !sudo ollama create default -f ./Modelfile"
   ]
  },
  {
   "cell_type": "markdown",
   "id": "a174ca94-3b34-4c13-8159-2765c267b0eb",
   "metadata": {},
   "source": [
    "## Model Inference"
   ]
  },
  {
   "cell_type": "code",
   "execution_count": 16,
   "id": "50d65383-a59b-4116-86a2-09586f92ae8d",
   "metadata": {
    "tags": []
   },
   "outputs": [
    {
     "name": "stdout",
     "output_type": "stream",
     "text": [
      "Comienza lista de recommendaciones:\n",
      "\n",
      "1. El laberinto del fauno (2006, 4.5): Una película de drama fantástico que aborda temas como la guerra, el dolor y la supervivencia. Dirigida por Guillermo del Toro y con un reparto estelar.\n",
      "2. La La Land (2016, 4.3): Una comedia romántica que combina música, baile y drama para crear una historia emocionante y llena de colores. Dirigida por Damien Chazelle y con un reparto excepcional.\n",
      "3. Coco (2017, 4.5): Una animación musical que combina la cultura mexicana con una historia emocionante y llena de aventuras. Dirigida por Lee Unkrich y con un reparto estelar.\n",
      "4. The Shawshank Redemption (1994, 4.7): Una película de drama que aborda temas como la justicia, la esperanza y la amistad. Dirigida por Frank Darabont y con un reparto excepcional.\n",
      "5. 12 Angry Men (1957, 4.5): Una película de drama que aborda el tema del juicio y la justicia. Dirigida por Sidney Lumet y con un reparto estelar.\n",
      "\n",
      "Fin de lista de recommendaciones:"
     ]
    },
    {
     "data": {
      "text/html": [
       "<pre style=\"white-space:pre;overflow-x:auto;line-height:normal;font-family:Menlo,'DejaVu Sans Mono',consolas,'Courier New',monospace\"><span style=\"font-weight: bold\">[</span>\n",
       "    <span style=\"font-weight: bold\">{</span>\n",
       "        <span style=\"color: #008000; text-decoration-color: #008000\">'position'</span>: <span style=\"color: #008080; text-decoration-color: #008080; font-weight: bold\">1</span>,\n",
       "        <span style=\"color: #008000; text-decoration-color: #008000\">'title'</span>: <span style=\"color: #008000; text-decoration-color: #008000\">'El laberinto del fauno'</span>,\n",
       "        <span style=\"color: #008000; text-decoration-color: #008000\">'release'</span>: <span style=\"color: #008080; text-decoration-color: #008080; font-weight: bold\">2006</span>,\n",
       "        <span style=\"color: #008000; text-decoration-color: #008000\">'rating'</span>: <span style=\"color: #008080; text-decoration-color: #008080; font-weight: bold\">4.5</span>,\n",
       "        <span style=\"color: #008000; text-decoration-color: #008000\">'description'</span>: <span style=\"color: #008000; text-decoration-color: #008000\">'Una película de drama fantástico que aborda temas como la guerra, el dolor y la </span>\n",
       "<span style=\"color: #008000; text-decoration-color: #008000\">supervivencia. dirigida por guillermo del toro y con un reparto estelar.'</span>\n",
       "    <span style=\"font-weight: bold\">}</span>,\n",
       "    <span style=\"font-weight: bold\">{</span>\n",
       "        <span style=\"color: #008000; text-decoration-color: #008000\">'position'</span>: <span style=\"color: #008080; text-decoration-color: #008080; font-weight: bold\">2</span>,\n",
       "        <span style=\"color: #008000; text-decoration-color: #008000\">'title'</span>: <span style=\"color: #008000; text-decoration-color: #008000\">'La la land'</span>,\n",
       "        <span style=\"color: #008000; text-decoration-color: #008000\">'release'</span>: <span style=\"color: #008080; text-decoration-color: #008080; font-weight: bold\">2016</span>,\n",
       "        <span style=\"color: #008000; text-decoration-color: #008000\">'rating'</span>: <span style=\"color: #008080; text-decoration-color: #008080; font-weight: bold\">4.3</span>,\n",
       "        <span style=\"color: #008000; text-decoration-color: #008000\">'description'</span>: <span style=\"color: #008000; text-decoration-color: #008000\">'Una comedia romántica que combina música, baile y drama para crear una historia emocionante</span>\n",
       "<span style=\"color: #008000; text-decoration-color: #008000\">y llena de colores. dirigida por damien chazelle y con un reparto excepcional.'</span>\n",
       "    <span style=\"font-weight: bold\">}</span>,\n",
       "    <span style=\"font-weight: bold\">{</span>\n",
       "        <span style=\"color: #008000; text-decoration-color: #008000\">'position'</span>: <span style=\"color: #008080; text-decoration-color: #008080; font-weight: bold\">3</span>,\n",
       "        <span style=\"color: #008000; text-decoration-color: #008000\">'title'</span>: <span style=\"color: #008000; text-decoration-color: #008000\">'Coco'</span>,\n",
       "        <span style=\"color: #008000; text-decoration-color: #008000\">'release'</span>: <span style=\"color: #008080; text-decoration-color: #008080; font-weight: bold\">2017</span>,\n",
       "        <span style=\"color: #008000; text-decoration-color: #008000\">'rating'</span>: <span style=\"color: #008080; text-decoration-color: #008080; font-weight: bold\">4.5</span>,\n",
       "        <span style=\"color: #008000; text-decoration-color: #008000\">'description'</span>: <span style=\"color: #008000; text-decoration-color: #008000\">'Una animación musical que combina la cultura mexicana con una historia emocionante y llena </span>\n",
       "<span style=\"color: #008000; text-decoration-color: #008000\">de aventuras. dirigida por lee unkrich y con un reparto estelar.'</span>\n",
       "    <span style=\"font-weight: bold\">}</span>,\n",
       "    <span style=\"font-weight: bold\">{</span>\n",
       "        <span style=\"color: #008000; text-decoration-color: #008000\">'position'</span>: <span style=\"color: #008080; text-decoration-color: #008080; font-weight: bold\">4</span>,\n",
       "        <span style=\"color: #008000; text-decoration-color: #008000\">'title'</span>: <span style=\"color: #008000; text-decoration-color: #008000\">'The shawshank redemption'</span>,\n",
       "        <span style=\"color: #008000; text-decoration-color: #008000\">'release'</span>: <span style=\"color: #008080; text-decoration-color: #008080; font-weight: bold\">1994</span>,\n",
       "        <span style=\"color: #008000; text-decoration-color: #008000\">'rating'</span>: <span style=\"color: #008080; text-decoration-color: #008080; font-weight: bold\">4.7</span>,\n",
       "        <span style=\"color: #008000; text-decoration-color: #008000\">'description'</span>: <span style=\"color: #008000; text-decoration-color: #008000\">'Una película de drama que aborda temas como la justicia, la esperanza y la amistad. </span>\n",
       "<span style=\"color: #008000; text-decoration-color: #008000\">dirigida por frank darabont y con un reparto excepcional.'</span>\n",
       "    <span style=\"font-weight: bold\">}</span>,\n",
       "    <span style=\"font-weight: bold\">{</span>\n",
       "        <span style=\"color: #008000; text-decoration-color: #008000\">'position'</span>: <span style=\"color: #008080; text-decoration-color: #008080; font-weight: bold\">5</span>,\n",
       "        <span style=\"color: #008000; text-decoration-color: #008000\">'title'</span>: <span style=\"color: #008000; text-decoration-color: #008000\">'12 angry men'</span>,\n",
       "        <span style=\"color: #008000; text-decoration-color: #008000\">'release'</span>: <span style=\"color: #008080; text-decoration-color: #008080; font-weight: bold\">1957</span>,\n",
       "        <span style=\"color: #008000; text-decoration-color: #008000\">'rating'</span>: <span style=\"color: #008080; text-decoration-color: #008080; font-weight: bold\">4.5</span>,\n",
       "        <span style=\"color: #008000; text-decoration-color: #008000\">'description'</span>: <span style=\"color: #008000; text-decoration-color: #008000\">'Una película de drama que aborda el tema del juicio y la justicia. dirigida por sidney </span>\n",
       "<span style=\"color: #008000; text-decoration-color: #008000\">lumet y con un reparto estelar.'</span>\n",
       "    <span style=\"font-weight: bold\">}</span>\n",
       "<span style=\"font-weight: bold\">]</span>\n",
       "</pre>\n"
      ],
      "text/plain": [
       "\u001b[1m[\u001b[0m\n",
       "    \u001b[1m{\u001b[0m\n",
       "        \u001b[32m'position'\u001b[0m: \u001b[1;36m1\u001b[0m,\n",
       "        \u001b[32m'title'\u001b[0m: \u001b[32m'El laberinto del fauno'\u001b[0m,\n",
       "        \u001b[32m'release'\u001b[0m: \u001b[1;36m2006\u001b[0m,\n",
       "        \u001b[32m'rating'\u001b[0m: \u001b[1;36m4.5\u001b[0m,\n",
       "        \u001b[32m'description'\u001b[0m: \u001b[32m'Una película de drama fantástico que aborda temas como la guerra, el dolor y la \u001b[0m\n",
       "\u001b[32msupervivencia. dirigida por guillermo del toro y con un reparto estelar.'\u001b[0m\n",
       "    \u001b[1m}\u001b[0m,\n",
       "    \u001b[1m{\u001b[0m\n",
       "        \u001b[32m'position'\u001b[0m: \u001b[1;36m2\u001b[0m,\n",
       "        \u001b[32m'title'\u001b[0m: \u001b[32m'La la land'\u001b[0m,\n",
       "        \u001b[32m'release'\u001b[0m: \u001b[1;36m2016\u001b[0m,\n",
       "        \u001b[32m'rating'\u001b[0m: \u001b[1;36m4.3\u001b[0m,\n",
       "        \u001b[32m'description'\u001b[0m: \u001b[32m'Una comedia romántica que combina música, baile y drama para crear una historia emocionante\u001b[0m\n",
       "\u001b[32my llena de colores. dirigida por damien chazelle y con un reparto excepcional.'\u001b[0m\n",
       "    \u001b[1m}\u001b[0m,\n",
       "    \u001b[1m{\u001b[0m\n",
       "        \u001b[32m'position'\u001b[0m: \u001b[1;36m3\u001b[0m,\n",
       "        \u001b[32m'title'\u001b[0m: \u001b[32m'Coco'\u001b[0m,\n",
       "        \u001b[32m'release'\u001b[0m: \u001b[1;36m2017\u001b[0m,\n",
       "        \u001b[32m'rating'\u001b[0m: \u001b[1;36m4.5\u001b[0m,\n",
       "        \u001b[32m'description'\u001b[0m: \u001b[32m'Una animación musical que combina la cultura mexicana con una historia emocionante y llena \u001b[0m\n",
       "\u001b[32mde aventuras. dirigida por lee unkrich y con un reparto estelar.'\u001b[0m\n",
       "    \u001b[1m}\u001b[0m,\n",
       "    \u001b[1m{\u001b[0m\n",
       "        \u001b[32m'position'\u001b[0m: \u001b[1;36m4\u001b[0m,\n",
       "        \u001b[32m'title'\u001b[0m: \u001b[32m'The shawshank redemption'\u001b[0m,\n",
       "        \u001b[32m'release'\u001b[0m: \u001b[1;36m1994\u001b[0m,\n",
       "        \u001b[32m'rating'\u001b[0m: \u001b[1;36m4.7\u001b[0m,\n",
       "        \u001b[32m'description'\u001b[0m: \u001b[32m'Una película de drama que aborda temas como la justicia, la esperanza y la amistad. \u001b[0m\n",
       "\u001b[32mdirigida por frank darabont y con un reparto excepcional.'\u001b[0m\n",
       "    \u001b[1m}\u001b[0m,\n",
       "    \u001b[1m{\u001b[0m\n",
       "        \u001b[32m'position'\u001b[0m: \u001b[1;36m5\u001b[0m,\n",
       "        \u001b[32m'title'\u001b[0m: \u001b[32m'12 angry men'\u001b[0m,\n",
       "        \u001b[32m'release'\u001b[0m: \u001b[1;36m1957\u001b[0m,\n",
       "        \u001b[32m'rating'\u001b[0m: \u001b[1;36m4.5\u001b[0m,\n",
       "        \u001b[32m'description'\u001b[0m: \u001b[32m'Una película de drama que aborda el tema del juicio y la justicia. dirigida por sidney \u001b[0m\n",
       "\u001b[32mlumet y con un reparto estelar.'\u001b[0m\n",
       "    \u001b[1m}\u001b[0m\n",
       "\u001b[1m]\u001b[0m\n"
      ]
     },
     "metadata": {},
     "output_type": "display_data"
    }
   ],
   "source": [
    "chain = OllamaChainFactory().create(model='movie_recommender')\n",
    "\n",
    "params = OllamaChatParamsResolver().resolve()\n",
    "\n",
    "result = chain.invoke(params)\n",
    "\n",
    "\n",
    "print(result)"
   ]
  },
  {
   "cell_type": "code",
   "execution_count": null,
   "id": "f0dcb73d-6007-4d00-899f-8201bb273610",
   "metadata": {},
   "outputs": [],
   "source": []
  }
 ],
 "metadata": {
  "kernelspec": {
   "display_name": "Python 3 (ipykernel)",
   "language": "python",
   "name": "python3"
  },
  "language_info": {
   "codemirror_mode": {
    "name": "ipython",
    "version": 3
   },
   "file_extension": ".py",
   "mimetype": "text/x-python",
   "name": "python",
   "nbconvert_exporter": "python",
   "pygments_lexer": "ipython3",
   "version": "3.10.12"
  },
  "widgets": {
   "application/vnd.jupyter.widget-state+json": {
    "state": {},
    "version_major": 2,
    "version_minor": 0
   }
  }
 },
 "nbformat": 4,
 "nbformat_minor": 5
}
