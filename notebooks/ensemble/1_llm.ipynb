{
 "cells": [
  {
   "cell_type": "markdown",
   "id": "0417277b-47df-4113-a7b3-8f960db06f1d",
   "metadata": {
    "tags": []
   },
   "source": [
    "# Modelos: LLM"
   ]
  },
  {
   "cell_type": "markdown",
   "id": "eef46fb7-b5c8-47e8-b90a-99a1c3027f4b",
   "metadata": {
    "tags": []
   },
   "source": [
    "### Papers\n",
    "\n",
    "* [Chat-REC: Towards Interactive and Explainable\n",
    "LLMs-Augmented Recommender System](https://github.com/adrianmarino/thesis-paper/blob/master/docs/ideas/2303.14524.pdf)\n",
    "* [Large Language Models as Zero-Shot Conversational\n",
    "Recommenders](https://github.com/adrianmarino/thesis-paper/blob/master/docs/ideas/3583780.3614949.pdf)\n",
    "* [Large Language Models are Competitive Near Cold-start\n",
    "Recommenders for Language- and Item-based Preferences](https://github.com/adrianmarino/thesis-paper/blob/master/docs/ideas/3604915.3608845.pdf)"
   ]
  },
  {
   "cell_type": "code",
   "execution_count": 1,
   "id": "35e430dd-e279-4258-82a4-6b7a1347304b",
   "metadata": {},
   "outputs": [],
   "source": [
    "%load_ext autoreload\n",
    "%autoreload 2"
   ]
  },
  {
   "cell_type": "code",
   "execution_count": 2,
   "id": "834b2f2d-4103-4cf5-880d-10404d8ec7d3",
   "metadata": {},
   "outputs": [],
   "source": [
    "BASE_PATH             = '../..'\n",
    "LIB_PATH              = f'{BASE_PATH}/lib'\n",
    "DATASET_PATH          = f'{BASE_PATH}/datasets'"
   ]
  },
  {
   "cell_type": "code",
   "execution_count": 3,
   "id": "f98e7bf4-f41a-43f6-b7b7-a991d00f82de",
   "metadata": {},
   "outputs": [],
   "source": [
    "import sys\n",
    "sys.path.append(LIB_PATH)\n",
    "\n",
    "import numpy as np\n",
    "import pandas as pd\n",
    "\n",
    "import util as ut\n",
    "\n",
    "from rest.ollama import OllamaApiClient"
   ]
  },
  {
   "cell_type": "markdown",
   "id": "c2b2aa52-be91-4ff8-b9d6-52b525bec2ca",
   "metadata": {},
   "source": [
    "## Setup"
   ]
  },
  {
   "cell_type": "code",
   "execution_count": 4,
   "id": "3a3e6040-f06b-4cb3-941a-a22d18507bf2",
   "metadata": {
    "tags": []
   },
   "outputs": [],
   "source": [
    "# !sudo systemctl enable ollama\n",
    "# !sudo systemctl restart ollama"
   ]
  },
  {
   "cell_type": "markdown",
   "id": "ea31251c-b16e-4162-af8a-a9cef8ecfa4f",
   "metadata": {},
   "source": [
    "## Create model"
   ]
  },
  {
   "cell_type": "markdown",
   "id": "f712184a-5e2e-41ee-bbd9-a1f846f586aa",
   "metadata": {},
   "source": [
    "Model definition:"
   ]
  },
  {
   "cell_type": "code",
   "execution_count": 11,
   "id": "4601105b-c18c-4799-86f7-a64305951985",
   "metadata": {
    "tags": []
   },
   "outputs": [
    {
     "name": "stdout",
     "output_type": "stream",
     "text": [
      "FROM llama2\n",
      "\n",
      "# set the temperature to 1 [higher is more creative, lower is more coherent]\n",
      "PARAMETER temperature 0.5\n",
      "\n",
      "# set the system message\n",
      "SYSTEM \"\"\"\n",
      "Eres un asistente que recomienda peliculas a sus usuarios.Ademas interactuas en lenguaje español.\n",
      "\"\"\""
     ]
    }
   ],
   "source": [
    "! cat ./llms/Modelfile.movie_recommender"
   ]
  },
  {
   "cell_type": "code",
   "execution_count": 6,
   "id": "f5a4fcf2-d3dd-412f-8d5f-d150ae932b8e",
   "metadata": {
    "tags": []
   },
   "outputs": [],
   "source": [
    "# !sudo ollama create default -f ./Modelfile"
   ]
  },
  {
   "cell_type": "markdown",
   "id": "4aecd521-270f-4795-b165-8bc94cd1b0eb",
   "metadata": {},
   "source": [
    "## Promps"
   ]
  },
  {
   "cell_type": "code",
   "execution_count": 236,
   "id": "7ff44ae3-7e83-41d4-a757-73b80f35b569",
   "metadata": {
    "tags": []
   },
   "outputs": [],
   "source": [
    "def promp_build_fn(**kargs):\n",
    "    user_profile = kargs['user_profile'] if 'user_profile' in kargs else 'No existe informacion de su perfil'\n",
    "    \n",
    "    user_history = kargs['user_history'] if 'user_history' in kargs else 'Aun no se registraron peliculas vista'\n",
    "\n",
    "    candidates = kargs['candidates'] if 'candidates' in kargs else 'Aun no se dispone de peliculas cantidatas'\n",
    "\n",
    "    limit = kargs['limit'] if 'limit' in kargs else 5\n",
    "    \n",
    "    query = f'Usuario: {kargs[\"quer\"]}.' if 'query' in kargs else '¿Me recomendarias una pelicula?'\n",
    "\n",
    "    return f\"\"\"\n",
    "Eres un servicio que recomienda películas a sus usuarios. Además te comunicas con tus usuarios en lenguaje español.\n",
    "\n",
    "Quiero que recomiendes una película a un usuario basándote en información personal y \n",
    "registros históricos de películas vistas.\n",
    "\n",
    "Perfil del usuario: {user_profile}.\n",
    "\n",
    "Los registros históricos incluyen el nombre de la película, el tipo y cuántos puntos \n",
    "obtuvo de 5. Cuanto mayor es la puntuación, más le gusta la película. Te animamos a \n",
    "aprender su preferencia de películas de las películas que ha visto. Aquí hay algunos \n",
    "ejemplos:\n",
    "\n",
    "{user_history}.\n",
    "\n",
    "Aquí hay una lista de películas que probablemente le gustarán: {candidates}.\n",
    "\n",
    "Por favor, selecciona las {limit} mejores películas de la lista que es más probable que le gusten.\n",
    "La primera la película con mayor rating es la más cercana a los gustos del usuario. Por favor, selecciona las 4 películas\n",
    "restantes. Solo muestra el nombre de la película y si identificador entre paréntesis.\n",
    "\n",
    "En caso de no tener ninguna información para recomendar elige entre las películas más taquilleras. Siempre responde en lenguaje español.\n",
    "\n",
    "El formato de la respuesta siempre deje especificarse con el siguiente formato:\n",
    "\n",
    "\n",
    "Recomendaciones:\n",
    "Número. Título(Año de estreno, Calificación numérica entre los valores 1 y 5): Descripción.\n",
    "\n",
    "\n",
    "El título, año de estreno, calificación y descripción debe especificarse en lenguaje natural y no deben estar entre comillas.\n",
    "\n",
    "{query}\n",
    "\"\"\""
   ]
  },
  {
   "cell_type": "code",
   "execution_count": 237,
   "id": "7d5d5613-74cc-4f27-85af-0aef6621800f",
   "metadata": {
    "tags": []
   },
   "outputs": [],
   "source": [
    "class OllamaAssitant:\n",
    "    def __init__(self, model, promp_build_fn):\n",
    "        self.__api_client     = OllamaApiClient(model=model)\n",
    "        self.__promp_build_fn = promp_build_fn\n",
    "\n",
    "    def recommend(self, **kargs):\n",
    "        promp = self.__promp_build_fn(**kargs)\n",
    "        return self.__api_client.query(promp)"
   ]
  },
  {
   "cell_type": "markdown",
   "id": "a174ca94-3b34-4c13-8159-2765c267b0eb",
   "metadata": {},
   "source": [
    "## Model Inference"
   ]
  },
  {
   "cell_type": "code",
   "execution_count": 238,
   "id": "ab851600-898b-4b4f-9cee-482afa62f079",
   "metadata": {},
   "outputs": [],
   "source": [
    "assistant = OllamaAssitant('movie_recommender', promp_build_fn)"
   ]
  },
  {
   "cell_type": "code",
   "execution_count": 235,
   "id": "ef51a7af-a8b8-432b-a584-cdd6506d6080",
   "metadata": {},
   "outputs": [
    {
     "data": {
      "text/plain": [
       "Query:\n",
       "\n",
       "Eres un servicio que recomienda películas a sus usuarios. Además te comunicas con tus usuarios en lenguaje español.\n",
       "\n",
       "Quiero que recomiendes una película a un usuario basándote en información personal y \n",
       "registros históricos de películas vistas.\n",
       "\n",
       "Perfil del usuario: Tiene 24 años y trabaja como técnico.\n",
       "\n",
       "Los registros históricos incluyen el nombre de la película, el tipo y cuántos puntos \n",
       "obtuvo de 5. Cuanto mayor es la puntuación, más le gusta la película. Te animamos a \n",
       "aprender su preferencia de películas de las películas que ha visto. Aquí hay algunos \n",
       "ejemplos:\n",
       "\n",
       "Aun no se registraron peliculas vista.\n",
       "\n",
       "Aquí hay una lista de películas que probablemente le gustarán: Aun no se dispone de peliculas cantidatas.\n",
       "\n",
       "Por favor, selecciona las 5 mejores películas de la lista que es más probable que le gusten.\n",
       "La primera la película con mayor rating es la más cercana a los gustos del usuario. Por favor, selecciona las 4 películas\n",
       "restantes. Solo muestra el nombre de la película y si identificador entre paréntesis.\n",
       "\n",
       "En caso de no tener ninguna información para recomendar elige entre las películas más taquilleras. Siempre responde en lenguaje español.\n",
       "\n",
       "El formato de la respuesta siempre deje especificarse con el siguiente formato:\n",
       "\n",
       "\n",
       "Recomendaciones:\n",
       "Número. Título(Año de estreno, Calificación numérica entre los valores 1 y 5): Descripción.\n",
       "\n",
       "\n",
       "El título, año de estreno, calificación y descripción debe especificarse en lenguaje natural y no deben estar entre comillas.\n",
       "\n",
       "¿Me recomendarias una pelicula?\n",
       "\n",
       "\n",
       "Response: ¡Hola! Es un placer recomendarle películas basándome en su perfil y en los registros históricos que tengo disponibles.\n",
       "\n",
       "Después de analizar su perfil y las películas que ha visto, he identificado algunas opciones que probablemente le gusten. A continuación, te presento mis recomendaciones:\n",
       "\n",
       "1. Joker (2019, 4.5): Esta película es una adaptación de la historia del personaje de DC Comics, el Joker. Es una película de suspense y drama que ha recibido elogios por su actuación, guion y dirección. Es una opción excelente para aquellos que disfrutan de películas con un tema dark y emocionales.\n",
       "2. Parás (2013, 4.2): Esta película es una comedia de terror que sigue a un grupo de personas que intentan sobrevivir a un apocalíptico infestación de parásitos extraterrestres. Es una opción divertida y emocionante para aquellos que disfrutan de películas de acción y humor black.\n",
       "3. Ex Machina (2014, 4.1): Esta película es un drama de ciencia ficción que sigue a un joven programador que viaja a una isla remota para evaluar el comportamiento de un inteligente robot humanoide. Es una opción interesante para aquellos que disfrutan de películas de ciencia ficción y filosofía.\n",
       "4. Hereditary (2018, 4.0): Esta película es un drama de terror que sigue a una familia después de la muerte de su madre. Es una opción emocionante para aquellos que disfrutan de películas con un tema dark y psicológico.\n",
       "5. La La Land (2016, 4.5): Esta película es una comedia romántica que sigue a dos jóvenes artistas en Los Ángeles. Es una opción divertida y emocionante para aquellos que disfrutan de películas musicales y románticas.\n",
       "\n",
       "Espero que estas recomendaciones te ayuden a encontrar una película que disfrutes. Si prefieres, puedo proporcionarte más opciones basadas en tus gustos y preferencias. ¡Si tienes alguna otra pregunta, no dudes en preguntar!"
      ]
     },
     "execution_count": 235,
     "metadata": {},
     "output_type": "execute_result"
    }
   ],
   "source": [
    "assistant.recommend(\n",
    " user_profile = 'Tiene 24 años y trabaja como técnico'\n",
    ")"
   ]
  },
  {
   "cell_type": "code",
   "execution_count": null,
   "id": "b1666d5f-cb23-48bc-a3dc-44da2e6a0c01",
   "metadata": {},
   "outputs": [],
   "source": []
  }
 ],
 "metadata": {
  "kernelspec": {
   "display_name": "Python 3 (ipykernel)",
   "language": "python",
   "name": "python3"
  },
  "language_info": {
   "codemirror_mode": {
    "name": "ipython",
    "version": 3
   },
   "file_extension": ".py",
   "mimetype": "text/x-python",
   "name": "python",
   "nbconvert_exporter": "python",
   "pygments_lexer": "ipython3",
   "version": "3.10.12"
  },
  "widgets": {
   "application/vnd.jupyter.widget-state+json": {
    "state": {},
    "version_major": 2,
    "version_minor": 0
   }
  }
 },
 "nbformat": 4,
 "nbformat_minor": 5
}
