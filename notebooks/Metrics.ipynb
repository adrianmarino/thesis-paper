{
 "cells": [
  {
   "cell_type": "markdown",
   "id": "071e85be-41dd-487a-a459-a12942f37587",
   "metadata": {},
   "source": [
    "## mAP@K"
   ]
  },
  {
   "cell_type": "markdown",
   "id": "718ce2cf-89d5-45a0-8b53-1706f0d62fbc",
   "metadata": {},
   "source": [
    "[How mean Average Precision at k (mAP@k) can be more useful than other evaluation metrics](https://medium.com/@misty.mok/how-mean-average-precision-at-k-map-k-can-be-more-useful-than-other-evaluation-metrics-6881e0ee21a9)"
   ]
  },
  {
   "cell_type": "code",
   "execution_count": null,
   "id": "3d798fa8-073b-420c-af56-6669d9a44c02",
   "metadata": {},
   "outputs": [],
   "source": []
  }
 ],
 "metadata": {
  "kernelspec": {
   "display_name": "Python 3 (ipykernel)",
   "language": "python",
   "name": "python3"
  },
  "language_info": {
   "codemirror_mode": {
    "name": "ipython",
    "version": 3
   },
   "file_extension": ".py",
   "mimetype": "text/x-python",
   "name": "python",
   "nbconvert_exporter": "python",
   "pygments_lexer": "ipython3",
   "version": "3.10.4"
  }
 },
 "nbformat": 4,
 "nbformat_minor": 5
}
