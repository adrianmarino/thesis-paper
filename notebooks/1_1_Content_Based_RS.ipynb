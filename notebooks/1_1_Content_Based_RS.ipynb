{
 "cells": [
  {
   "cell_type": "code",
   "execution_count": 1,
   "metadata": {
    "tags": []
   },
   "outputs": [],
   "source": [
    "import numpy as np"
   ]
  },
  {
   "cell_type": "markdown",
   "metadata": {},
   "source": [
    "# Content-Based (CB):\n",
    "Asume que tenemos features y que podemos plantear la solución en función de esos features"
   ]
  },
  {
   "cell_type": "markdown",
   "metadata": {},
   "source": [
    "$\\huge Y_{n_mn_u} = X_{n_mn_f} \\theta_{n_un_f}^T$"
   ]
  },
  {
   "cell_type": "markdown",
   "metadata": {},
   "source": [
    "- $n_m$ -> Cantidad de peliculas o items a calificar\n",
    "- $n_u$ -> Cantidad de usuarios\n",
    "- $n_f$ -> Cantidad de features\n",
    "- $Y_{n_mn_u}$ -> Matriz con ratings (Cada usuario j a cada pelicula i)"
   ]
  },
  {
   "cell_type": "markdown",
   "metadata": {},
   "source": [
    "$\\large Y_{n_mn_u} = \\begin{bmatrix}\n",
    "    0.98  &  1.14 & 0.7 & 4.5  \\\\\n",
    "    1.86  & 0.64 & 0.3 & 1.58 \\\\\n",
    "    \\dots \\\\ \n",
    "    1.16  & 2.75 & 0.7 & 4.51\n",
    "\\end{bmatrix}$"
   ]
  },
  {
   "cell_type": "markdown",
   "metadata": {},
   "source": [
    "$\\huge X_{n_mn_f}$"
   ]
  },
  {
   "cell_type": "markdown",
   "metadata": {},
   "source": [
    "Cada vector $X_{n_fi}^T$ contiene en cada elemento el grado de cada feature que contiene la película i'esima\n",
    "\n",
    "Por ejemplo, si los features son [romanticismo, accion, suspenso, terror], una pelicula con vector [0, 0.8, 0.7, 0.1] no tendra romanticismo, tendra alto contenido de acción y suspenso, y una fracción pequeña de terror"
   ]
  },
  {
   "cell_type": "markdown",
   "metadata": {},
   "source": [
    "$\\large X_{n_mn_f} = \\begin{bmatrix}\n",
    "    0  & 0.8 & 0.7 & 0.1 \\\\\n",
    "    0.8  & 0.2 & 0.3 & 0.1 \\\\\n",
    "    \\dots \\\\ \n",
    "    0.1  & 0.8 & 0.7 & 0.9\n",
    "\\end{bmatrix}$"
   ]
  },
  {
   "cell_type": "code",
   "execution_count": 2,
   "metadata": {},
   "outputs": [
    {
     "data": {
      "text/html": [
       "<pre style=\"white-space:pre;overflow-x:auto;line-height:normal;font-family:Menlo,'DejaVu Sans Mono',consolas,'Courier New',monospace\"><span style=\"font-weight: bold\">[[</span><span style=\"color: #008080; text-decoration-color: #008080; font-weight: bold\">0</span>.  <span style=\"color: #008080; text-decoration-color: #008080; font-weight: bold\">0.8</span> <span style=\"color: #008080; text-decoration-color: #008080; font-weight: bold\">0.7</span> <span style=\"color: #008080; text-decoration-color: #008080; font-weight: bold\">0.1</span><span style=\"font-weight: bold\">]</span>\n",
       " <span style=\"font-weight: bold\">[</span><span style=\"color: #008080; text-decoration-color: #008080; font-weight: bold\">0.8</span> <span style=\"color: #008080; text-decoration-color: #008080; font-weight: bold\">0.2</span> <span style=\"color: #008080; text-decoration-color: #008080; font-weight: bold\">0.3</span> <span style=\"color: #008080; text-decoration-color: #008080; font-weight: bold\">0.1</span><span style=\"font-weight: bold\">]</span>\n",
       " <span style=\"font-weight: bold\">[</span><span style=\"color: #008080; text-decoration-color: #008080; font-weight: bold\">0.1</span> <span style=\"color: #008080; text-decoration-color: #008080; font-weight: bold\">0.8</span> <span style=\"color: #008080; text-decoration-color: #008080; font-weight: bold\">0.7</span> <span style=\"color: #008080; text-decoration-color: #008080; font-weight: bold\">0.9</span><span style=\"font-weight: bold\">]]</span>\n",
       "</pre>\n"
      ],
      "text/plain": [
       "\u001b[1m[\u001b[0m\u001b[1m[\u001b[0m\u001b[1;36m0\u001b[0m.  \u001b[1;36m0.8\u001b[0m \u001b[1;36m0.7\u001b[0m \u001b[1;36m0.1\u001b[0m\u001b[1m]\u001b[0m\n",
       " \u001b[1m[\u001b[0m\u001b[1;36m0.8\u001b[0m \u001b[1;36m0.2\u001b[0m \u001b[1;36m0.3\u001b[0m \u001b[1;36m0.1\u001b[0m\u001b[1m]\u001b[0m\n",
       " \u001b[1m[\u001b[0m\u001b[1;36m0.1\u001b[0m \u001b[1;36m0.8\u001b[0m \u001b[1;36m0.7\u001b[0m \u001b[1;36m0.9\u001b[0m\u001b[1m]\u001b[0m\u001b[1m]\u001b[0m\n"
      ]
     },
     "metadata": {},
     "output_type": "display_data"
    },
    {
     "data": {
      "text/html": [
       "<pre style=\"white-space:pre;overflow-x:auto;line-height:normal;font-family:Menlo,'DejaVu Sans Mono',consolas,'Courier New',monospace\"><span style=\"font-weight: bold\">[[</span><span style=\"color: #008080; text-decoration-color: #008080; font-weight: bold\">1.8</span> <span style=\"color: #008080; text-decoration-color: #008080; font-weight: bold\">0</span>.  <span style=\"color: #008080; text-decoration-color: #008080; font-weight: bold\">1.4</span> <span style=\"color: #008080; text-decoration-color: #008080; font-weight: bold\">0</span>. <span style=\"font-weight: bold\">]</span>\n",
       " <span style=\"font-weight: bold\">[</span><span style=\"color: #008080; text-decoration-color: #008080; font-weight: bold\">0.1</span> <span style=\"color: #008080; text-decoration-color: #008080; font-weight: bold\">0.3</span> <span style=\"color: #008080; text-decoration-color: #008080; font-weight: bold\">1</span>.  <span style=\"color: #008080; text-decoration-color: #008080; font-weight: bold\">2</span>. <span style=\"font-weight: bold\">]</span>\n",
       " <span style=\"font-weight: bold\">[</span><span style=\"color: #008080; text-decoration-color: #008080; font-weight: bold\">0.1</span> <span style=\"color: #008080; text-decoration-color: #008080; font-weight: bold\">3</span>.  <span style=\"color: #008080; text-decoration-color: #008080; font-weight: bold\">3</span>.  <span style=\"color: #008080; text-decoration-color: #008080; font-weight: bold\">0</span>. <span style=\"font-weight: bold\">]]</span>\n",
       "</pre>\n"
      ],
      "text/plain": [
       "\u001b[1m[\u001b[0m\u001b[1m[\u001b[0m\u001b[1;36m1.8\u001b[0m \u001b[1;36m0\u001b[0m.  \u001b[1;36m1.4\u001b[0m \u001b[1;36m0\u001b[0m. \u001b[1m]\u001b[0m\n",
       " \u001b[1m[\u001b[0m\u001b[1;36m0.1\u001b[0m \u001b[1;36m0.3\u001b[0m \u001b[1;36m1\u001b[0m.  \u001b[1;36m2\u001b[0m. \u001b[1m]\u001b[0m\n",
       " \u001b[1m[\u001b[0m\u001b[1;36m0.1\u001b[0m \u001b[1;36m3\u001b[0m.  \u001b[1;36m3\u001b[0m.  \u001b[1;36m0\u001b[0m. \u001b[1m]\u001b[0m\u001b[1m]\u001b[0m\n"
      ]
     },
     "metadata": {},
     "output_type": "display_data"
    }
   ],
   "source": [
    "X = np.array([[0, 0.8, 0.7, 0.1], [0.8  , 0.2 , 0.3 , 0.1],[0.1  , 0.8 , 0.7 , 0.9]])\n",
    "T = np.array([[1.8  , 0 , 1.4 , 0], [0.1  , 0.3 , 1 , 2], [0.1  , 3 , 3 , 0]])\n",
    "print(X)\n",
    "print(T)"
   ]
  },
  {
   "cell_type": "code",
   "execution_count": 3,
   "metadata": {},
   "outputs": [
    {
     "data": {
      "text/html": [
       "<pre style=\"white-space:pre;overflow-x:auto;line-height:normal;font-family:Menlo,'DejaVu Sans Mono',consolas,'Courier New',monospace\">\n",
       "<span style=\"color: #800080; text-decoration-color: #800080; font-weight: bold\">array</span><span style=\"font-weight: bold\">([[</span><span style=\"color: #008080; text-decoration-color: #008080; font-weight: bold\">0.98</span>, <span style=\"color: #008080; text-decoration-color: #008080; font-weight: bold\">1.14</span>, <span style=\"color: #008080; text-decoration-color: #008080; font-weight: bold\">4.5</span> <span style=\"font-weight: bold\">]</span>,\n",
       "       <span style=\"font-weight: bold\">[</span><span style=\"color: #008080; text-decoration-color: #008080; font-weight: bold\">1.86</span>, <span style=\"color: #008080; text-decoration-color: #008080; font-weight: bold\">0.64</span>, <span style=\"color: #008080; text-decoration-color: #008080; font-weight: bold\">1.58</span><span style=\"font-weight: bold\">]</span>,\n",
       "       <span style=\"font-weight: bold\">[</span><span style=\"color: #008080; text-decoration-color: #008080; font-weight: bold\">1.16</span>, <span style=\"color: #008080; text-decoration-color: #008080; font-weight: bold\">2.75</span>, <span style=\"color: #008080; text-decoration-color: #008080; font-weight: bold\">4.51</span><span style=\"font-weight: bold\">]])</span>\n",
       "</pre>\n"
      ],
      "text/plain": [
       "\n",
       "\u001b[1;35marray\u001b[0m\u001b[1m(\u001b[0m\u001b[1m[\u001b[0m\u001b[1m[\u001b[0m\u001b[1;36m0.98\u001b[0m, \u001b[1;36m1.14\u001b[0m, \u001b[1;36m4.5\u001b[0m \u001b[1m]\u001b[0m,\n",
       "       \u001b[1m[\u001b[0m\u001b[1;36m1.86\u001b[0m, \u001b[1;36m0.64\u001b[0m, \u001b[1;36m1.58\u001b[0m\u001b[1m]\u001b[0m,\n",
       "       \u001b[1m[\u001b[0m\u001b[1;36m1.16\u001b[0m, \u001b[1;36m2.75\u001b[0m, \u001b[1;36m4.51\u001b[0m\u001b[1m]\u001b[0m\u001b[1m]\u001b[0m\u001b[1m)\u001b[0m\n"
      ]
     },
     "metadata": {},
     "output_type": "display_data"
    }
   ],
   "source": [
    "X.dot(T.T)"
   ]
  },
  {
   "cell_type": "markdown",
   "metadata": {},
   "source": [
    "$\\huge \\theta_{n_un_f}$"
   ]
  },
  {
   "cell_type": "markdown",
   "metadata": {},
   "source": [
    "Cada vetor $\\theta_{n_fj}^T$ contiene en cada elemento la fracción de gusto de cada feature del usuario j'esimo\n",
    "\n",
    "Por ejemplo, si los features son [romanticismo, accion, suspenso, terror], a un usuario con vector [1.8, 0, 1.4, 0] le gustarán mayormente las pelicular románticas con suspenso"
   ]
  },
  {
   "cell_type": "markdown",
   "metadata": {},
   "source": [
    "$\\large \\theta_{n_un_f} = \\begin{bmatrix}\n",
    "    1.8  & 0 & 1.4 & 0 \\\\\n",
    "    0.1  & 0.3 & 1 & 2 \\\\\n",
    "    \\dots \\\\ \n",
    "    0.1  & 3 & 3 & 0\n",
    "\\end{bmatrix}$"
   ]
  },
  {
   "cell_type": "markdown",
   "metadata": {},
   "source": [
    "# Ejemplo"
   ]
  },
  {
   "cell_type": "markdown",
   "metadata": {},
   "source": [
    "$\\huge \\theta_{jn_f}^TX_{in_f}$ producto entre vector de features de pelicula i'esima con vector features de usuario j'esimo"
   ]
  },
  {
   "cell_type": "code",
   "execution_count": 4,
   "metadata": {},
   "outputs": [
    {
     "data": {
      "text/html": [
       "<pre style=\"white-space:pre;overflow-x:auto;line-height:normal;font-family:Menlo,'DejaVu Sans Mono',consolas,'Courier New',monospace\"><span style=\"font-weight: bold\">[[</span><span style=\"color: #008080; text-decoration-color: #008080; font-weight: bold\">0</span>.  <span style=\"color: #008080; text-decoration-color: #008080; font-weight: bold\">0.8</span> <span style=\"color: #008080; text-decoration-color: #008080; font-weight: bold\">0.7</span> <span style=\"color: #008080; text-decoration-color: #008080; font-weight: bold\">0.1</span><span style=\"font-weight: bold\">]]</span> <span style=\"font-weight: bold\">[[</span><span style=\"color: #008080; text-decoration-color: #008080; font-weight: bold\">1.8</span> <span style=\"color: #008080; text-decoration-color: #008080; font-weight: bold\">0</span>.  <span style=\"color: #008080; text-decoration-color: #008080; font-weight: bold\">1.4</span> <span style=\"color: #008080; text-decoration-color: #008080; font-weight: bold\">0</span>. <span style=\"font-weight: bold\">]]</span>\n",
       "</pre>\n"
      ],
      "text/plain": [
       "\u001b[1m[\u001b[0m\u001b[1m[\u001b[0m\u001b[1;36m0\u001b[0m.  \u001b[1;36m0.8\u001b[0m \u001b[1;36m0.7\u001b[0m \u001b[1;36m0.1\u001b[0m\u001b[1m]\u001b[0m\u001b[1m]\u001b[0m \u001b[1m[\u001b[0m\u001b[1m[\u001b[0m\u001b[1;36m1.8\u001b[0m \u001b[1;36m0\u001b[0m.  \u001b[1;36m1.4\u001b[0m \u001b[1;36m0\u001b[0m. \u001b[1m]\u001b[0m\u001b[1m]\u001b[0m\n"
      ]
     },
     "metadata": {},
     "output_type": "display_data"
    },
    {
     "data": {
      "text/html": [
       "<pre style=\"white-space:pre;overflow-x:auto;line-height:normal;font-family:Menlo,'DejaVu Sans Mono',consolas,'Courier New',monospace\"><span style=\"font-weight: bold\">[[</span><span style=\"color: #008080; text-decoration-color: #008080; font-weight: bold\">0.98</span><span style=\"font-weight: bold\">]]</span>\n",
       "</pre>\n"
      ],
      "text/plain": [
       "\u001b[1m[\u001b[0m\u001b[1m[\u001b[0m\u001b[1;36m0.98\u001b[0m\u001b[1m]\u001b[0m\u001b[1m]\u001b[0m\n"
      ]
     },
     "metadata": {},
     "output_type": "display_data"
    },
    {
     "data": {
      "text/html": [
       "<pre style=\"white-space:pre;overflow-x:auto;line-height:normal;font-family:Menlo,'DejaVu Sans Mono',consolas,'Courier New',monospace\">\n",
       "</pre>\n"
      ],
      "text/plain": [
       "\n"
      ]
     },
     "metadata": {},
     "output_type": "display_data"
    },
    {
     "data": {
      "text/html": [
       "<pre style=\"white-space:pre;overflow-x:auto;line-height:normal;font-family:Menlo,'DejaVu Sans Mono',consolas,'Courier New',monospace\"><span style=\"font-weight: bold\">[[</span><span style=\"color: #008080; text-decoration-color: #008080; font-weight: bold\">0</span>.  <span style=\"color: #008080; text-decoration-color: #008080; font-weight: bold\">0.8</span> <span style=\"color: #008080; text-decoration-color: #008080; font-weight: bold\">0.7</span> <span style=\"color: #008080; text-decoration-color: #008080; font-weight: bold\">0.1</span><span style=\"font-weight: bold\">]]</span> <span style=\"font-weight: bold\">[[</span><span style=\"color: #008080; text-decoration-color: #008080; font-weight: bold\">0.1</span> <span style=\"color: #008080; text-decoration-color: #008080; font-weight: bold\">3</span>.  <span style=\"color: #008080; text-decoration-color: #008080; font-weight: bold\">3</span>.  <span style=\"color: #008080; text-decoration-color: #008080; font-weight: bold\">0</span>. <span style=\"font-weight: bold\">]]</span>\n",
       "</pre>\n"
      ],
      "text/plain": [
       "\u001b[1m[\u001b[0m\u001b[1m[\u001b[0m\u001b[1;36m0\u001b[0m.  \u001b[1;36m0.8\u001b[0m \u001b[1;36m0.7\u001b[0m \u001b[1;36m0.1\u001b[0m\u001b[1m]\u001b[0m\u001b[1m]\u001b[0m \u001b[1m[\u001b[0m\u001b[1m[\u001b[0m\u001b[1;36m0.1\u001b[0m \u001b[1;36m3\u001b[0m.  \u001b[1;36m3\u001b[0m.  \u001b[1;36m0\u001b[0m. \u001b[1m]\u001b[0m\u001b[1m]\u001b[0m\n"
      ]
     },
     "metadata": {},
     "output_type": "display_data"
    },
    {
     "data": {
      "text/html": [
       "<pre style=\"white-space:pre;overflow-x:auto;line-height:normal;font-family:Menlo,'DejaVu Sans Mono',consolas,'Courier New',monospace\"><span style=\"font-weight: bold\">[[</span><span style=\"color: #008080; text-decoration-color: #008080; font-weight: bold\">4.5</span><span style=\"font-weight: bold\">]]</span>\n",
       "</pre>\n"
      ],
      "text/plain": [
       "\u001b[1m[\u001b[0m\u001b[1m[\u001b[0m\u001b[1;36m4.5\u001b[0m\u001b[1m]\u001b[0m\u001b[1m]\u001b[0m\n"
      ]
     },
     "metadata": {},
     "output_type": "display_data"
    }
   ],
   "source": [
    "# Pelicula con contenido alto de suspenso y acción\n",
    "Xi = np.array([0, 0.8, 0.7, 0.1]).reshape(-1,1)\n",
    "\n",
    "#Usuario con gustos de romanticismo y acción\n",
    "thetaj = np.array([1.8, 0, 1.4, 0]).reshape(-1,1)\n",
    "print(Xi.T, thetaj.T)\n",
    "print(thetaj.T.dot(Xi))\n",
    "\n",
    "print()\n",
    "#Usuario con gustos de Suspenso y acción\n",
    "thetaj = np.array([0.1, 3, 3, 0]).reshape(-1,1)\n",
    "print(Xi.T, thetaj.T)\n",
    "print(thetaj.T.dot(Xi))"
   ]
  },
  {
   "cell_type": "markdown",
   "metadata": {},
   "source": [
    "# Función de costo"
   ]
  },
  {
   "cell_type": "markdown",
   "metadata": {},
   "source": [
    "$\\huge J = \\huge \\frac{1}{2} \\sum_{j=1}^{n_u} \\sum_{i:r(i,j)=1} (\\theta^{(j)^T}x^{(i)}-y^{(i,j)})^2 + \n",
    "\\frac{\\lambda}{2}\\sum_{j=1}^{n_u} \\sum_{k=1}^{n_f}\\theta_k^{(j)^2}$"
   ]
  },
  {
   "cell_type": "markdown",
   "metadata": {},
   "source": [
    "Solo aprendemos los $\\Theta$, para los $X$ hay que hacer ingeñería de features"
   ]
  }
 ],
 "metadata": {
  "kernelspec": {
   "display_name": "Python 3 (ipykernel)",
   "language": "python",
   "name": "python3"
  },
  "language_info": {
   "codemirror_mode": {
    "name": "ipython",
    "version": 3
   },
   "file_extension": ".py",
   "mimetype": "text/x-python",
   "name": "python",
   "nbconvert_exporter": "python",
   "pygments_lexer": "ipython3",
   "version": "3.10.4"
  },
  "toc": {
   "nav_menu": {},
   "number_sections": true,
   "sideBar": true,
   "skip_h1_title": true,
   "toc_cell": false,
   "toc_position": {},
   "toc_section_display": "block",
   "toc_window_display": false
  },
  "widgets": {
   "application/vnd.jupyter.widget-state+json": {
    "state": {},
    "version_major": 2,
    "version_minor": 0
   }
  }
 },
 "nbformat": 4,
 "nbformat_minor": 4
}
