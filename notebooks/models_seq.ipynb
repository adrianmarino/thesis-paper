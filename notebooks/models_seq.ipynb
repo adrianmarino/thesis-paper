{
 "cells": [
  {
   "cell_type": "markdown",
   "id": "0417277b-47df-4113-a7b3-8f960db06f1d",
   "metadata": {
    "tags": []
   },
   "source": [
    "# Modelos: Seq"
   ]
  },
  {
   "cell_type": "code",
   "execution_count": 1,
   "id": "8dde5e70-5b86-460f-8791-20fcb554c378",
   "metadata": {},
   "outputs": [],
   "source": [
    "%load_ext autoreload\n",
    "%autoreload 2"
   ]
  },
  {
   "cell_type": "code",
   "execution_count": 2,
   "id": "f98e7bf4-f41a-43f6-b7b7-a991d00f82de",
   "metadata": {},
   "outputs": [],
   "source": [
    "import sys\n",
    "sys.path.append('../lib')\n",
    "\n",
    "import math\n",
    "import random\n",
    "from bunch import Bunch\n",
    "import seaborn as sns\n",
    "\n",
    "import numpy as np\n",
    "import pandas as pd\n",
    "\n",
    "import torch\n",
    "from   torch               import nn, Tensor\n",
    "import torch.nn.functional as F\n",
    "from   torch.utils.data    import DataLoader, Subset\n",
    "from   torch.optim         import SparseAdam, Adam\n",
    "\n",
    "import pytorch_common.util as pu\n",
    "from   pytorch_common.modules.fn import Fn\n",
    "from   pytorch_common.callbacks  import (\n",
    "    EarlyStop,\n",
    "    ReduceLROnPlateau,\n",
    "    Validation,\n",
    "    SaveBestModel\n",
    ")\n",
    "from pytorch_common.callbacks.output import Logger, MetricsPlotter\n",
    "from pytorch_common.util import (\n",
    "    set_device_name,\n",
    "    get_device,\n",
    "    LoggerBuilder\n",
    ")\n",
    "\n",
    "import model as ml\n",
    "\n",
    "import util as ut\n",
    "\n",
    "import data.dataset as ds\n",
    "import data.plot as pl\n",
    "import data as dt\n",
    "from data.plot import describe_num_var\n",
    "\n",
    "import metric as mt\n",
    "import metric.discretizer as dr"
   ]
  },
  {
   "cell_type": "markdown",
   "id": "d757391b-ad9f-4047-9b23-e3bd23fbe37b",
   "metadata": {},
   "source": [
    "## Setup"
   ]
  },
  {
   "cell_type": "code",
   "execution_count": 3,
   "id": "e60a3838-9787-411d-b9f1-8a942321cbb1",
   "metadata": {},
   "outputs": [
    {
     "data": {
      "text/html": [
       "<pre style=\"white-space:pre;overflow-x:auto;line-height:normal;font-family:Menlo,'DejaVu Sans Mono',consolas,'Courier New',monospace\"><span style=\"font-weight: bold\">&lt;</span><span style=\"color: #ff00ff; text-decoration-color: #ff00ff; font-weight: bold\">RootLogger</span><span style=\"color: #000000; text-decoration-color: #000000\"> root </span><span style=\"color: #000000; text-decoration-color: #000000; font-weight: bold\">(</span><span style=\"color: #000000; text-decoration-color: #000000\">INFO</span><span style=\"color: #000000; text-decoration-color: #000000; font-weight: bold\">)</span><span style=\"font-weight: bold\">&gt;</span>\n",
       "</pre>\n"
      ],
      "text/plain": [
       "\u001b[1m<\u001b[0m\u001b[1;95mRootLogger\u001b[0m\u001b[39m root \u001b[0m\u001b[1;39m(\u001b[0m\u001b[39mINFO\u001b[0m\u001b[1;39m)\u001b[0m\u001b[1m>\u001b[0m\n"
      ]
     },
     "metadata": {},
     "output_type": "display_data"
    }
   ],
   "source": [
    "pu.LoggerBuilder().on_console().build()"
   ]
  },
  {
   "cell_type": "code",
   "execution_count": 4,
   "id": "9fd7574f-043a-4fc3-8ab8-bfd55b6a92d8",
   "metadata": {},
   "outputs": [],
   "source": [
    "pu.set_device_name('gpu')"
   ]
  },
  {
   "cell_type": "code",
   "execution_count": 5,
   "id": "bad1a1e0-b35e-4b40-ab06-beae8fbb244a",
   "metadata": {},
   "outputs": [
    {
     "data": {
      "text/html": [
       "<pre style=\"white-space:pre;overflow-x:auto;line-height:normal;font-family:Menlo,'DejaVu Sans Mono',consolas,'Courier New',monospace\"><span style=\"color: #800080; text-decoration-color: #800080; font-weight: bold\">device</span><span style=\"font-weight: bold\">(</span><span style=\"color: #808000; text-decoration-color: #808000\">type</span>=<span style=\"color: #008000; text-decoration-color: #008000\">'cuda'</span>, <span style=\"color: #808000; text-decoration-color: #808000\">index</span>=<span style=\"color: #008080; text-decoration-color: #008080; font-weight: bold\">0</span><span style=\"font-weight: bold\">)</span>\n",
       "</pre>\n"
      ],
      "text/plain": [
       "\u001b[1;35mdevice\u001b[0m\u001b[1m(\u001b[0m\u001b[33mtype\u001b[0m=\u001b[32m'cuda'\u001b[0m, \u001b[33mindex\u001b[0m=\u001b[1;36m0\u001b[0m\u001b[1m)\u001b[0m\n"
      ]
     },
     "metadata": {},
     "output_type": "display_data"
    }
   ],
   "source": [
    "pu.get_device()"
   ]
  },
  {
   "cell_type": "code",
   "execution_count": 6,
   "id": "f956317d-0e48-4518-a219-51700d272b5b",
   "metadata": {},
   "outputs": [],
   "source": [
    "cpu = torch.device(\"cpu\")"
   ]
  },
  {
   "cell_type": "code",
   "execution_count": 7,
   "id": "d1ba7b0b-b5d8-47ec-8995-642b7b21e6d2",
   "metadata": {},
   "outputs": [
    {
     "data": {
      "text/html": [
       "<pre style=\"white-space:pre;overflow-x:auto;line-height:normal;font-family:Menlo,'DejaVu Sans Mono',consolas,'Courier New',monospace\"><span style=\"color: #00ff00; text-decoration-color: #00ff00; font-style: italic\">True</span>\n",
       "</pre>\n"
      ],
      "text/plain": [
       "\u001b[3;92mTrue\u001b[0m\n"
      ]
     },
     "metadata": {},
     "output_type": "display_data"
    }
   ],
   "source": [
    "torch.cuda.is_available()"
   ]
  },
  {
   "cell_type": "code",
   "execution_count": 8,
   "id": "21fa4041-5682-4332-b139-6aca63d05ea0",
   "metadata": {},
   "outputs": [
    {
     "data": {
      "text/html": [
       "<pre style=\"white-space:pre;overflow-x:auto;line-height:normal;font-family:Menlo,'DejaVu Sans Mono',consolas,'Courier New',monospace\"><span style=\"color: #008000; text-decoration-color: #008000\">'1.13.1+cu117'</span>\n",
       "</pre>\n"
      ],
      "text/plain": [
       "\u001b[32m'1.13.1+cu117'\u001b[0m\n"
      ]
     },
     "metadata": {},
     "output_type": "display_data"
    }
   ],
   "source": [
    "torch.__version__"
   ]
  },
  {
   "cell_type": "code",
   "execution_count": 9,
   "id": "b5fb890c-e080-4efc-9fc1-08921ae2465f",
   "metadata": {},
   "outputs": [],
   "source": [
    "def set_seed(value):\n",
    "    random.seed(value)\n",
    "    np.random.seed(value)\n",
    "    torch.manual_seed(value)"
   ]
  },
  {
   "cell_type": "code",
   "execution_count": 10,
   "id": "72f9d948-5300-4141-8fbc-4423669b2c58",
   "metadata": {},
   "outputs": [],
   "source": [
    "set_seed(42)"
   ]
  },
  {
   "cell_type": "code",
   "execution_count": 11,
   "id": "e6431bb5-c5d5-4971-99f6-cc9aa519c24b",
   "metadata": {},
   "outputs": [],
   "source": [
    "DATASETS_PATH = '../datasets'"
   ]
  },
  {
   "cell_type": "code",
   "execution_count": 12,
   "id": "28183b50-45e4-4049-8595-5d595be2c1ba",
   "metadata": {},
   "outputs": [],
   "source": [
    "class AccFn(torch.nn.Module):\n",
    "    def __init__(self, device = pu.get_device()):\n",
    "        super().__init__()\n",
    "        self.model_type = 'AccFn'\n",
    "        self.device     = device\n",
    "\n",
    "    def forward(self, y_pred, y_true):\n",
    "        y_pred_probs = F.softmax(y_pred, dim=1)\n",
    "        y_pred_values = torch.argmax(y_pred, axis=1).abs().to(self.device)\n",
    "        y_true_values = y_true.to(self.device)\n",
    "\n",
    "        tp = (y_pred_values == y_true_values).sum().item()\n",
    "\n",
    "        return tp / y_true_values.size(0)"
   ]
  },
  {
   "cell_type": "code",
   "execution_count": 13,
   "id": "32cf85ce-007c-4741-b218-cb4ccd6ea9db",
   "metadata": {},
   "outputs": [
    {
     "data": {
      "text/html": [
       "<pre style=\"white-space:pre;overflow-x:auto;line-height:normal;font-family:Menlo,'DejaVu Sans Mono',consolas,'Courier New',monospace\"><span style=\"color: #008080; text-decoration-color: #008080; font-weight: bold\">0.6666666666666666</span>\n",
       "</pre>\n"
      ],
      "text/plain": [
       "\u001b[1;36m0.6666666666666666\u001b[0m\n"
      ]
     },
     "metadata": {},
     "output_type": "display_data"
    }
   ],
   "source": [
    "y_pred = torch.tensor([\n",
    "    [1.0, 0.0, 0.0],\n",
    "    [0.0, 1.0, 0.0],\n",
    "    [0.1, 0.0, 1.0],\n",
    "])\n",
    "y_true = torch.tensor([0, 1, 0])\n",
    "\n",
    "AccFn()(y_pred, y_true)"
   ]
  },
  {
   "cell_type": "code",
   "execution_count": 14,
   "id": "05426c56-6b24-4ebb-be6d-e998b5c62f7a",
   "metadata": {},
   "outputs": [],
   "source": [
    "import torch\n",
    "import torch.nn.functional as F\n",
    "import pytorch_common.util as ut\n",
    "\n",
    "class CrossEntropyLossFn(torch.nn.Module):\n",
    "    def __init__(self, device = pu.get_device()):\n",
    "        super().__init__()\n",
    "        self.model_type = 'CrossEntropyLossFn'\n",
    "        self.loss       = torch.nn.CrossEntropyLoss().to(device)\n",
    "        self.device     = device\n",
    "\n",
    "    def forward(self, y_pred, y_true):\n",
    "        return self.loss(\n",
    "            y_pred.to(self.device), \n",
    "            y_true.type(torch.LongTensor).to(self.device)\n",
    "        )"
   ]
  },
  {
   "cell_type": "code",
   "execution_count": 15,
   "id": "bc1bf71e-6f1e-4070-a272-4443ba13bba8",
   "metadata": {},
   "outputs": [
    {
     "data": {
      "text/html": [
       "<pre style=\"white-space:pre;overflow-x:auto;line-height:normal;font-family:Menlo,'DejaVu Sans Mono',consolas,'Courier New',monospace\"><span style=\"color: #800080; text-decoration-color: #800080; font-weight: bold\">tensor</span><span style=\"font-weight: bold\">(</span><span style=\"color: #008080; text-decoration-color: #008080; font-weight: bold\">0</span>., <span style=\"color: #808000; text-decoration-color: #808000\">device</span>=<span style=\"color: #008000; text-decoration-color: #008000\">'cuda:0'</span><span style=\"font-weight: bold\">)</span>\n",
       "</pre>\n"
      ],
      "text/plain": [
       "\u001b[1;35mtensor\u001b[0m\u001b[1m(\u001b[0m\u001b[1;36m0\u001b[0m., \u001b[33mdevice\u001b[0m=\u001b[32m'cuda:0'\u001b[0m\u001b[1m)\u001b[0m\n"
      ]
     },
     "metadata": {},
     "output_type": "display_data"
    }
   ],
   "source": [
    "y_pred = torch.tensor([\n",
    "    [20.0, 0.0, 0.0],\n",
    "    [0.0, 20.0, 0.0],\n",
    "    [0.0, 0.0, 20.0],\n",
    "])\n",
    "y_true = torch.tensor([0, 1, 2])\n",
    "\n",
    "CrossEntropyLossFn()(y_pred, y_true)"
   ]
  },
  {
   "cell_type": "markdown",
   "id": "b8334d07-f306-42b4-8ea1-cc27b82eb343",
   "metadata": {},
   "source": [
    "## Carga de dataset"
   ]
  },
  {
   "cell_type": "code",
   "execution_count": 16,
   "id": "c34c660c-4802-498a-81b7-07bed14de07f",
   "metadata": {},
   "outputs": [],
   "source": [
    "def to_tensor(obs, device, columns): \n",
    "    data = obs[columns]\n",
    "    if type(data) == pd.DataFrame:\n",
    "        data = data.values\n",
    "    return torch.tensor(data).to(device)\n",
    "\n",
    "features_fn = lambda obs, device: to_tensor(obs, device, ['user_seq', 'movie_seq'])\n",
    "target_fn   = lambda obs, device: to_tensor(obs, device, ['user_movie_rating'])\n",
    "\n",
    "dataset = ds.MovieLensTMDBDatasetFactory.from_path(\n",
    "    transform        = features_fn,\n",
    "    target_transform = target_fn,\n",
    "    device           = cpu,\n",
    "    filter_fn        = lambda df: df[(df['user_movie_rating_year'] >= 1990) & (df['user_movie_rating_year'] <= 2019)]\n",
    ")"
   ]
  },
  {
   "cell_type": "code",
   "execution_count": 17,
   "id": "d53ab348-74a1-454e-8efc-01b0ecf8c640",
   "metadata": {},
   "outputs": [
    {
     "name": "stderr",
     "output_type": "stream",
     "text": [
      "2023-02-14 15:47:08,568 - INFO - Train: 74.85 % - Test: 8.66 %\n"
     ]
    }
   ],
   "source": [
    "train_set, eval_set = dataset.split_train_eval(split_year=2017)"
   ]
  },
  {
   "cell_type": "markdown",
   "id": "ac39c348-dea0-47b7-8c88-1fa56d8f764d",
   "metadata": {},
   "source": [
    "Se debe For cada usuario extraer la secuencia de peliculas vistas ordenadas por fecha de calificación.\n",
    "Cada pelicula puede reprsentarte por un embedding el cual se peude inferir en el entrenamiento o constrruirse mediando features\n",
    "que definan a la propia pelicula."
   ]
  },
  {
   "cell_type": "code",
   "execution_count": 18,
   "id": "9015533c-1fd9-4172-8361-4fef5d6cb5f7",
   "metadata": {},
   "outputs": [],
   "source": [
    "def find_movies_count_by_user(df):\n",
    "    return pd.DataFrame({\n",
    "       'n_movies': [movie_ids.shape[0] for movie_ids in df.groupby(['user_id']).groups.values()]\n",
    "    })\n",
    "\n",
    "df = find_movies_count_by_user(train_set.data)"
   ]
  },
  {
   "cell_type": "code",
   "execution_count": 19,
   "id": "2fc8721d-7393-4375-b9c1-115ff0fc9415",
   "metadata": {},
   "outputs": [
    {
     "data": {
      "text/html": [
       "<pre style=\"white-space:pre;overflow-x:auto;line-height:normal;font-family:Menlo,'DejaVu Sans Mono',consolas,'Courier New',monospace\"><span style=\"font-weight: bold\">(</span><span style=\"color: #008080; text-decoration-color: #008080; font-weight: bold\">0</span>, <span style=\"color: #008080; text-decoration-color: #008080; font-weight: bold\">16.0</span><span style=\"font-weight: bold\">)</span>\n",
       "</pre>\n"
      ],
      "text/plain": [
       "\u001b[1m(\u001b[0m\u001b[1;36m0\u001b[0m, \u001b[1;36m16.0\u001b[0m\u001b[1m)\u001b[0m\n"
      ]
     },
     "metadata": {},
     "output_type": "display_data"
    }
   ],
   "source": [
    "min_bouund, max_bound = dt.n_iqr_range(df, 'n_movies')\n",
    "min_bouund, max_bound"
   ]
  },
  {
   "cell_type": "code",
   "execution_count": 20,
   "id": "ba9af249-f9d0-4a7d-bc6d-0abe1a60b096",
   "metadata": {},
   "outputs": [
    {
     "data": {
      "image/png": "[encoded data removed]"
     },
     "metadata": {},
     "output_type": "display_data"
    }
   ],
   "source": [
    "min_input_sequence_dim = 5\n",
    "\n",
    "df = df[(df['n_movies'] >= min_input_sequence_dim) & (df['n_movies'] < 16)] \n",
    "describe_num_var(df, 'n_movies')"
   ]
  },
  {
   "cell_type": "code",
   "execution_count": 21,
   "id": "b5e40093-db52-4819-a255-c957f2b9f978",
   "metadata": {},
   "outputs": [],
   "source": [
    "params = Bunch(\n",
    "    epochs               = 60,\n",
    "    feat_seq_len         = min_input_sequence_dim -1,\n",
    "    max_input_seq_len    = int(max_bound),\n",
    "    id_seq_init          = 1,\n",
    "    batch_size           = 2048,\n",
    "    n_workers            = 8,\n",
    "    emb_columns          = ['title', 'genres', 'adults', 'language', 'overview', 'tags', 'year'],\n",
    "    pre_trained_model    = 'all-MiniLM-L6-v2',\n",
    "    n_heads              = 8,\n",
    "    hidden_state_size    = 128,\n",
    "    n_transformer_layers = 1,\n",
    "    dropout              = 0.2,\n",
    "    lr                   = 0.0001,\n",
    "    padding_emb_position = 0,\n",
    "    embedding_dim        = None # 100\n",
    ")"
   ]
  },
  {
   "cell_type": "code",
   "execution_count": 22,
   "id": "41e39537-6cb4-42c9-8a63-d0fd26a85e73",
   "metadata": {},
   "outputs": [
    {
     "name": "stderr",
     "output_type": "stream",
     "text": [
      "2023-02-14 15:47:09,353 - INFO - group movies by user id\n",
      "2023-02-14 15:47:09,354 - INFO - get ordered user movie sequences <= 16\n"
     ]
    },
    {
     "data": {
      "application/vnd.jupyter.widget-view+json": {
       "model_id": "6fd3a0a51c6c4675969f919322ae0ec0",
       "version_major": 2,
       "version_minor": 0
      },
      "text/plain": [
       "Get user movie sequences:   0%|          | 0/149546 [00:00<?, ?it/s]"
      ]
     },
     "metadata": {},
     "output_type": "display_data"
    },
    {
     "name": "stderr",
     "output_type": "stream",
     "text": [
      "2023-02-14 15:48:39,408 - INFO - chunk movie sequences with size=4\n"
     ]
    },
    {
     "data": {
      "application/vnd.jupyter.widget-view+json": {
       "model_id": "aeabbe3b1763422d868e82ba4c42674c",
       "version_major": 2,
       "version_minor": 0
      },
      "text/plain": [
       "Filter complete padded:   0%|          | 0/8753 [00:00<?, ?it/s]"
      ]
     },
     "metadata": {},
     "output_type": "display_data"
    },
    {
     "data": {
      "application/vnd.jupyter.widget-view+json": {
       "model_id": "ca98937a499a44f7b8c3b18136babc26",
       "version_major": 2,
       "version_minor": 0
      },
      "text/plain": [
       "Filter target with more han 20 examples:   0%|          | 0/8753 [00:00<?, ?it/s]"
      ]
     },
     "metadata": {},
     "output_type": "display_data"
    },
    {
     "name": "stderr",
     "output_type": "stream",
     "text": [
      "2023-02-14 15:48:39,567 - INFO - Excluded: 8659\n"
     ]
    }
   ],
   "source": [
    "try:\n",
    "    train_ds = ds.SequenceDataset.load(DATASETS_PATH, 'train')\n",
    "except:\n",
    "    train_ds = ds.MovieSequenceDatasetFactory.create(\n",
    "        train_set,\n",
    "        feat_seq_len      = params.feat_seq_len,\n",
    "        id_seq_init       = params.id_seq_init,\n",
    "        max_movie_seq_len = params.max_input_seq_len,\n",
    "        n_min             = 20\n",
    "    )\n",
    "    train_ds.save(DATASETS_PATH, 'train')\n",
    "    \n",
    "try:\n",
    "    eval_ds = ds.SequenceDataset.load(DATASETS_PATH, 'eval')\n",
    "except:\n",
    "    eval_ds = ds.MovieSequenceDatasetFactory.create(\n",
    "        eval_set,\n",
    "        feat_seq_len      = params.feat_seq_len,\n",
    "        id_seq_init       = params.id_seq_init,\n",
    "        max_movie_seq_len = params.max_input_seq_len,\n",
    "        train_ds          = train_ds\n",
    "    )\n",
    "    eval_ds.save(DATASETS_PATH, 'eval')\n",
    "\n",
    "train_dl = DataLoader(train_ds, params.batch_size, num_workers=params.n_workers, pin_memory=True, shuffle=True)\n",
    "eval_dl  = DataLoader(eval_ds,  params.batch_size, num_workers=params.n_workers, pin_memory=True, shuffle=True)"
   ]
  },
  {
   "cell_type": "code",
   "execution_count": 23,
   "id": "b2f9363e-033b-4004-b4eb-7b26ded40d13",
   "metadata": {},
   "outputs": [],
   "source": [
    "def get_targets_info(ds):\n",
    "    data = {}\n",
    "    for idx, feature in enumerate(ds.features):\n",
    "        key = str(feature.numpy())\n",
    "        if key not in data:\n",
    "            data[key] = set()\n",
    "        data[key].add(ds.targets[idx].item())\n",
    "\n",
    "    data = pd.DataFrame(\n",
    "        [{'seq': k, 'targets': t } for k, t in data.items()]\n",
    "    )\n",
    "\n",
    "    data['n_targets'] = data['targets'].apply(lambda x: len(list(x)))\n",
    "    data['target'] = data['targets'].apply(lambda x: list(x)[0])\n",
    "    return data\n",
    "    \n",
    "    \n",
    "    \n",
    "train_target_info = get_targets_info(train_ds)\n",
    "eval_target_info = get_targets_info(eval_ds)"
   ]
  },
  {
   "cell_type": "code",
   "execution_count": 24,
   "id": "924ca354-638e-47fd-b94f-0213cd28f6f2",
   "metadata": {},
   "outputs": [
    {
     "data": {
      "text/html": [
       "<pre style=\"white-space:pre;overflow-x:auto;line-height:normal;font-family:Menlo,'DejaVu Sans Mono',consolas,'Courier New',monospace\"><span style=\"font-weight: bold\">{</span><span style=\"color: #008080; text-decoration-color: #008080; font-weight: bold\">1</span><span style=\"font-weight: bold\">}</span>\n",
       "</pre>\n"
      ],
      "text/plain": [
       "\u001b[1m{\u001b[0m\u001b[1;36m1\u001b[0m\u001b[1m}\u001b[0m\n"
      ]
     },
     "metadata": {},
     "output_type": "display_data"
    }
   ],
   "source": [
    "set(train_target_info['targets'].apply(lambda x: len(list(x))))"
   ]
  },
  {
   "cell_type": "code",
   "execution_count": 25,
   "id": "ed117977-d84b-473b-9983-185175f85c93",
   "metadata": {},
   "outputs": [
    {
     "data": {
      "text/html": [
       "<div>\n",
       "<style scoped>\n",
       "    .dataframe tbody tr th:only-of-type {\n",
       "        vertical-align: middle;\n",
       "    }\n",
       "\n",
       "    .dataframe tbody tr th {\n",
       "        vertical-align: top;\n",
       "    }\n",
       "\n",
       "    .dataframe thead th {\n",
       "        text-align: right;\n",
       "    }\n",
       "</style>\n",
       "<table border=\"1\" class=\"dataframe\">\n",
       "  <thead>\n",
       "    <tr style=\"text-align: right;\">\n",
       "      <th></th>\n",
       "      <th>seq</th>\n",
       "      <th>n_targets</th>\n",
       "    </tr>\n",
       "  </thead>\n",
       "  <tbody>\n",
       "  </tbody>\n",
       "</table>\n",
       "</div>"
      ]
     },
     "execution_count": 25,
     "metadata": {},
     "output_type": "execute_result"
    }
   ],
   "source": [
    "groups = train_target_info.groupby(['seq'])['n_targets'].sum().reset_index().sort_values(['n_targets'], ascending=False)\n",
    "groups[groups['n_targets'] >= 2]"
   ]
  },
  {
   "cell_type": "code",
   "execution_count": 26,
   "id": "d3c7f349-68a5-4ebf-a374-b36111d69db3",
   "metadata": {},
   "outputs": [
    {
     "data": {
      "text/html": [
       "<div>\n",
       "<style scoped>\n",
       "    .dataframe tbody tr th:only-of-type {\n",
       "        vertical-align: middle;\n",
       "    }\n",
       "\n",
       "    .dataframe tbody tr th {\n",
       "        vertical-align: top;\n",
       "    }\n",
       "\n",
       "    .dataframe thead th {\n",
       "        text-align: right;\n",
       "    }\n",
       "</style>\n",
       "<table border=\"1\" class=\"dataframe\">\n",
       "  <thead>\n",
       "    <tr style=\"text-align: right;\">\n",
       "      <th></th>\n",
       "      <th>seq</th>\n",
       "      <th>n_targets</th>\n",
       "    </tr>\n",
       "  </thead>\n",
       "  <tbody>\n",
       "  </tbody>\n",
       "</table>\n",
       "</div>"
      ]
     },
     "execution_count": 26,
     "metadata": {},
     "output_type": "execute_result"
    }
   ],
   "source": [
    "groups = eval_target_info.groupby(['seq'])['n_targets'].sum().reset_index().sort_values(['n_targets'], ascending=False)\n",
    "groups[groups['n_targets'] >= 2]"
   ]
  },
  {
   "cell_type": "code",
   "execution_count": 27,
   "id": "d28c89e4-4e61-415e-b256-ae8c38f8a606",
   "metadata": {},
   "outputs": [
    {
     "data": {
      "text/html": [
       "<pre style=\"white-space:pre;overflow-x:auto;line-height:normal;font-family:Menlo,'DejaVu Sans Mono',consolas,'Courier New',monospace\"><span style=\"color: #008080; text-decoration-color: #008080; font-weight: bold\">14</span>\n",
       "</pre>\n"
      ],
      "text/plain": [
       "\u001b[1;36m14\u001b[0m\n"
      ]
     },
     "metadata": {},
     "output_type": "display_data"
    },
    {
     "data": {
      "image/png": "[encoded data removed]"
     },
     "metadata": {},
     "output_type": "display_data"
    }
   ],
   "source": [
    "data = pd.DataFrame(\n",
    "    train_ds.targets.numpy(),\n",
    "    columns=['target']\n",
    ")\n",
    "\n",
    "groups = data['target'].value_counts().reset_index()\n",
    "\n",
    "\n",
    "groups = groups[groups['target'] >=1]\n",
    "\n",
    "print(groups.shape[0])\n",
    "\n",
    "data = data[data['target'].isin(groups.index)]\n",
    "\n",
    "sns.histplot(data=data, x='target', bins=100)"
   ]
  },
  {
   "cell_type": "code",
   "execution_count": null,
   "id": "1622f20a-a785-4af0-9af2-8507bd5669f4",
   "metadata": {},
   "outputs": [],
   "source": []
  },
  {
   "cell_type": "code",
   "execution_count": 28,
   "id": "195a7d24-744b-449c-a988-19b582905237",
   "metadata": {},
   "outputs": [
    {
     "data": {
      "text/html": [
       "<pre style=\"white-space:pre;overflow-x:auto;line-height:normal;font-family:Menlo,'DejaVu Sans Mono',consolas,'Courier New',monospace\">\n",
       "<span style=\"font-weight: bold\">(</span><span style=\"color: #800080; text-decoration-color: #800080; font-weight: bold\">array</span><span style=\"font-weight: bold\">([[</span><span style=\"color: #008080; text-decoration-color: #008080; font-weight: bold\">1</span>, <span style=\"color: #008080; text-decoration-color: #008080; font-weight: bold\">2</span>, <span style=\"color: #008080; text-decoration-color: #008080; font-weight: bold\">3</span><span style=\"font-weight: bold\">]</span>,\n",
       "       <span style=\"font-weight: bold\">[</span><span style=\"color: #008080; text-decoration-color: #008080; font-weight: bold\">2</span>, <span style=\"color: #008080; text-decoration-color: #008080; font-weight: bold\">3</span>, <span style=\"color: #008080; text-decoration-color: #008080; font-weight: bold\">4</span><span style=\"font-weight: bold\">]])</span>, <span style=\"color: #800080; text-decoration-color: #800080; font-weight: bold\">array</span><span style=\"font-weight: bold\">([</span><span style=\"color: #008080; text-decoration-color: #008080; font-weight: bold\">4</span>, <span style=\"color: #008080; text-decoration-color: #008080; font-weight: bold\">5</span><span style=\"font-weight: bold\">]))</span>\n",
       "</pre>\n"
      ],
      "text/plain": [
       "\n",
       "\u001b[1m(\u001b[0m\u001b[1;35marray\u001b[0m\u001b[1m(\u001b[0m\u001b[1m[\u001b[0m\u001b[1m[\u001b[0m\u001b[1;36m1\u001b[0m, \u001b[1;36m2\u001b[0m, \u001b[1;36m3\u001b[0m\u001b[1m]\u001b[0m,\n",
       "       \u001b[1m[\u001b[0m\u001b[1;36m2\u001b[0m, \u001b[1;36m3\u001b[0m, \u001b[1;36m4\u001b[0m\u001b[1m]\u001b[0m\u001b[1m]\u001b[0m\u001b[1m)\u001b[0m, \u001b[1;35marray\u001b[0m\u001b[1m(\u001b[0m\u001b[1m[\u001b[0m\u001b[1;36m4\u001b[0m, \u001b[1;36m5\u001b[0m\u001b[1m]\u001b[0m\u001b[1m)\u001b[0m\u001b[1m)\u001b[0m\n"
      ]
     },
     "metadata": {},
     "output_type": "display_data"
    }
   ],
   "source": [
    "sequences = [\n",
    "    [1, 2, 3, 4, 5],\n",
    "        [1]\n",
    "]\n",
    "\n",
    "dt.sequences_to_feats_target(sequences, feat_seq_len=3, padding_value = None)"
   ]
  },
  {
   "cell_type": "code",
   "execution_count": 29,
   "id": "3013f509-afb0-468d-b577-640df9f79333",
   "metadata": {},
   "outputs": [],
   "source": [
    "emb_generator = ds.MovieEmbeddingGenerator(\n",
    "  emb_columns            = params.emb_columns,\n",
    "  pre_trained_model_name = params.pre_trained_model\n",
    ")\n",
    "\n",
    "embedding_weights_df = emb_generator(train_set.data)\n",
    "\n",
    "embedding_weights_df['seq'] = embedding_weights_df['id'].apply(lambda id: train_ds.id_by_seq[id] if id >0 else id)\n",
    "embedding_weights_df = embedding_weights_df.sort_values(['seq'])\n",
    "\n",
    "embedding_weights = np.vstack(embedding_weights_df['embedding'])\n",
    "\n",
    "\n",
    "params.n_classes =  embedding_weights.shape[0] -1"
   ]
  },
  {
   "cell_type": "code",
   "execution_count": 30,
   "id": "3c9642ea-8c46-49c1-9e54-7e77272a161b",
   "metadata": {},
   "outputs": [],
   "source": [
    "batch = next(iter(train_dl))"
   ]
  },
  {
   "cell_type": "markdown",
   "id": "8a906bea-2af3-47a5-83c5-6fd638145588",
   "metadata": {},
   "source": [
    "Classes count = All embeddings minus padding embedding "
   ]
  },
  {
   "cell_type": "markdown",
   "id": "2c2455c3-91ff-4b28-934a-623193c38674",
   "metadata": {},
   "source": [
    "## Model Definition"
   ]
  },
  {
   "cell_type": "code",
   "execution_count": 33,
   "id": "8666f8fa-10a8-47a4-b8bd-391abd82a4f2",
   "metadata": {},
   "outputs": [],
   "source": [
    "model = ml.TransformerClasifier(\n",
    "    embedding_weights,\n",
    "    sequence_size        = params.feat_seq_len,\n",
    "    padding_emb_position = params.padding_emb_position,\n",
    "    nhead                = params.n_heads,\n",
    "    hidden_state_size    = params.hidden_state_size,\n",
    "    n_transformer_layers = params.n_transformer_layers,\n",
    "    dropout              = params.dropout,\n",
    "    n_classes            = params.n_classes\n",
    ").to(pu.get_device())"
   ]
  },
  {
   "cell_type": "markdown",
   "id": "d274b064-38f1-4329-9d22-0678c89f07e2",
   "metadata": {},
   "source": [
    "### Model Training"
   ]
  },
  {
   "cell_type": "code",
   "execution_count": 34,
   "id": "9d7fb3ea-dbd7-4065-aca2-7b66717483a2",
   "metadata": {},
   "outputs": [
    {
     "name": "stderr",
     "output_type": "stream",
     "text": [
      "2023-02-14 15:53:26,433 - INFO - {'time': '0:00:00.57', 'epoch': 1, 'train_loss': 9.961747169494629, 'val_loss': tensor(10.0083, device='cuda:0'), 'val_acc': 0.0}\n",
      "2023-02-14 15:53:26,991 - INFO - {'time': '0:00:00.54', 'epoch': 2, 'train_loss': 9.654837608337402, 'val_loss': tensor(10.0079, device='cuda:0'), 'val_acc': 0.0}\n",
      "2023-02-14 15:53:27,601 - INFO - {'time': '0:00:00.59', 'epoch': 3, 'train_loss': 9.500218391418457, 'val_loss': tensor(10.0077, device='cuda:0'), 'val_acc': 0.0}\n",
      "2023-02-14 15:53:28,178 - INFO - {'time': '0:00:00.56', 'epoch': 4, 'train_loss': 9.16474723815918, 'val_loss': tensor(10.0071, device='cuda:0'), 'val_acc': 0.0}\n",
      "2023-02-14 15:53:28,736 - INFO - {'time': '0:00:00.54', 'epoch': 5, 'train_loss': 8.91798210144043, 'val_loss': tensor(10.0093, device='cuda:0'), 'val_acc': 0.0}\n",
      "2023-02-14 15:53:29,334 - INFO - {'time': '0:00:00.58', 'epoch': 6, 'train_loss': 8.725157737731934, 'val_loss': tensor(10.0091, device='cuda:0'), 'val_acc': 0.0}\n",
      "2023-02-14 15:53:29,897 - INFO - {'time': '0:00:00.54', 'epoch': 7, 'train_loss': 8.548677444458008, 'val_loss': tensor(10.0123, device='cuda:0'), 'val_acc': 0.0}\n",
      "2023-02-14 15:53:30,455 - INFO - {'time': '0:00:00.54', 'epoch': 8, 'train_loss': 8.26579475402832, 'val_loss': tensor(10.0133, device='cuda:0'), 'val_acc': 0.0}\n",
      "2023-02-14 15:53:31,047 - INFO - {'time': '0:00:00.57', 'epoch': 9, 'train_loss': 8.002553939819336, 'val_loss': tensor(10.0180, device='cuda:0'), 'val_acc': 0.0}\n",
      "2023-02-14 15:53:31,599 - INFO - {'time': '0:00:00.53', 'epoch': 10, 'train_loss': 7.796701431274414, 'val_loss': tensor(10.0239, device='cuda:0'), 'val_acc': 0.0}\n",
      "2023-02-14 15:53:32,218 - INFO - {'time': '0:00:00.60', 'epoch': 11, 'train_loss': 7.553849697113037, 'val_loss': tensor(10.0283, device='cuda:0'), 'val_acc': 0.0}\n",
      "2023-02-14 15:53:32,784 - INFO - {'time': '0:00:00.55', 'epoch': 12, 'train_loss': 7.293826580047607, 'val_loss': tensor(10.0330, device='cuda:0'), 'val_acc': 0.0}\n",
      "2023-02-14 15:53:33,355 - INFO - {'time': '0:00:00.55', 'epoch': 13, 'train_loss': 7.1817827224731445, 'val_loss': tensor(10.0430, device='cuda:0'), 'val_acc': 0.0}\n",
      "2023-02-14 15:53:33,979 - INFO - {'time': '0:00:00.60', 'epoch': 14, 'train_loss': 6.784454345703125, 'val_loss': tensor(10.0559, device='cuda:0'), 'val_acc': 0.0}\n",
      "2023-02-14 15:53:34,609 - INFO - {'time': '0:00:00.61', 'epoch': 15, 'train_loss': 6.665599346160889, 'val_loss': tensor(10.0704, device='cuda:0'), 'val_acc': 0.0}\n"
     ]
    },
    {
     "ename": "KeyboardInterrupt",
     "evalue": "",
     "output_type": "error",
     "traceback": [
      "\u001b[0;31m---------------------------------------------------------------------------\u001b[0m",
      "\u001b[0;31mKeyboardInterrupt\u001b[0m                         Traceback (most recent call last)",
      "Cell \u001b[0;32mIn[34], line 1\u001b[0m\n\u001b[0;32m----> 1\u001b[0m \u001b[43mmodel\u001b[49m\u001b[38;5;241;43m.\u001b[39;49m\u001b[43mfit\u001b[49m\u001b[43m(\u001b[49m\n\u001b[1;32m      2\u001b[0m \u001b[43m    \u001b[49m\u001b[43mtrain_dl\u001b[49m\u001b[43m,\u001b[49m\n\u001b[1;32m      3\u001b[0m \u001b[43m    \u001b[49m\u001b[43mepochs\u001b[49m\u001b[43m      \u001b[49m\u001b[38;5;241;43m=\u001b[39;49m\u001b[43m \u001b[49m\u001b[43mparams\u001b[49m\u001b[38;5;241;43m.\u001b[39;49m\u001b[43mepochs\u001b[49m\u001b[43m,\u001b[49m\n\u001b[1;32m      4\u001b[0m \u001b[43m    \u001b[49m\u001b[43mloss_fn\u001b[49m\u001b[43m     \u001b[49m\u001b[38;5;241;43m=\u001b[39;49m\u001b[43m \u001b[49m\u001b[43mCrossEntropyLossFn\u001b[49m\u001b[43m(\u001b[49m\u001b[43m)\u001b[49m\u001b[43m,\u001b[49m\n\u001b[1;32m      5\u001b[0m \u001b[43m    \u001b[49m\u001b[43moptimizer\u001b[49m\u001b[43m   \u001b[49m\u001b[38;5;241;43m=\u001b[39;49m\u001b[43m \u001b[49m\u001b[43mAdam\u001b[49m\u001b[43m(\u001b[49m\n\u001b[1;32m      6\u001b[0m \u001b[43m        \u001b[49m\u001b[43mparams\u001b[49m\u001b[43m \u001b[49m\u001b[38;5;241;43m=\u001b[39;49m\u001b[43m \u001b[49m\u001b[43mmodel\u001b[49m\u001b[38;5;241;43m.\u001b[39;49m\u001b[43mparameters\u001b[49m\u001b[43m(\u001b[49m\u001b[43m)\u001b[49m\u001b[43m,\u001b[49m\n\u001b[1;32m      7\u001b[0m \u001b[43m        \u001b[49m\u001b[43mlr\u001b[49m\u001b[43m     \u001b[49m\u001b[38;5;241;43m=\u001b[39;49m\u001b[43m \u001b[49m\u001b[43mparams\u001b[49m\u001b[38;5;241;43m.\u001b[39;49m\u001b[43mlr\u001b[49m\n\u001b[1;32m      8\u001b[0m \u001b[43m    \u001b[49m\u001b[43m)\u001b[49m\u001b[43m,\u001b[49m\n\u001b[1;32m      9\u001b[0m \u001b[43m    \u001b[49m\u001b[43mcallbacks\u001b[49m\u001b[43m \u001b[49m\u001b[38;5;241;43m=\u001b[39;49m\u001b[43m \u001b[49m\u001b[43m[\u001b[49m\n\u001b[1;32m     10\u001b[0m \u001b[43m        \u001b[49m\u001b[43mValidation\u001b[49m\u001b[43m(\u001b[49m\n\u001b[1;32m     11\u001b[0m \u001b[43m            \u001b[49m\u001b[43meval_dl\u001b[49m\u001b[43m,\u001b[49m\n\u001b[1;32m     12\u001b[0m \u001b[43m            \u001b[49m\u001b[43mmetrics\u001b[49m\u001b[43m \u001b[49m\u001b[38;5;241;43m=\u001b[39;49m\u001b[43m \u001b[49m\u001b[43m{\u001b[49m\u001b[43m \u001b[49m\n\u001b[1;32m     13\u001b[0m \u001b[43m                \u001b[49m\u001b[38;5;124;43m'\u001b[39;49m\u001b[38;5;124;43mval_acc\u001b[39;49m\u001b[38;5;124;43m'\u001b[39;49m\u001b[43m:\u001b[49m\u001b[43m \u001b[49m\u001b[43mAccFn\u001b[49m\u001b[43m(\u001b[49m\u001b[43m)\u001b[49m\u001b[43m,\u001b[49m\n\u001b[1;32m     14\u001b[0m \u001b[43m                \u001b[49m\u001b[38;5;124;43m'\u001b[39;49m\u001b[38;5;124;43mval_loss\u001b[39;49m\u001b[38;5;124;43m'\u001b[39;49m\u001b[43m:\u001b[49m\u001b[43m \u001b[49m\u001b[43mCrossEntropyLossFn\u001b[49m\u001b[43m(\u001b[49m\u001b[43m)\u001b[49m\n\u001b[1;32m     15\u001b[0m \u001b[43m            \u001b[49m\u001b[43m}\u001b[49m\u001b[43m,\u001b[49m\n\u001b[1;32m     16\u001b[0m \u001b[43m            \u001b[49m\u001b[43meach_n_epochs\u001b[49m\u001b[38;5;241;43m=\u001b[39;49m\u001b[38;5;241;43m1\u001b[39;49m\n\u001b[1;32m     17\u001b[0m \u001b[43m        \u001b[49m\u001b[43m)\u001b[49m\u001b[43m,\u001b[49m\n\u001b[1;32m     18\u001b[0m \u001b[43m        \u001b[49m\u001b[43mLogger\u001b[49m\u001b[43m(\u001b[49m\u001b[43m[\u001b[49m\u001b[38;5;124;43m'\u001b[39;49m\u001b[38;5;124;43mtime\u001b[39;49m\u001b[38;5;124;43m'\u001b[39;49m\u001b[43m,\u001b[49m\u001b[43m \u001b[49m\u001b[38;5;124;43m'\u001b[39;49m\u001b[38;5;124;43mepoch\u001b[39;49m\u001b[38;5;124;43m'\u001b[39;49m\u001b[43m,\u001b[49m\u001b[43m \u001b[49m\u001b[38;5;124;43m'\u001b[39;49m\u001b[38;5;124;43mtrain_loss\u001b[39;49m\u001b[38;5;124;43m'\u001b[39;49m\u001b[43m,\u001b[49m\u001b[43m \u001b[49m\u001b[38;5;124;43m'\u001b[39;49m\u001b[38;5;124;43mval_loss\u001b[39;49m\u001b[38;5;124;43m'\u001b[39;49m\u001b[43m,\u001b[49m\u001b[43m \u001b[49m\u001b[38;5;124;43m'\u001b[39;49m\u001b[38;5;124;43mval_acc\u001b[39;49m\u001b[38;5;124;43m'\u001b[39;49m\u001b[43m]\u001b[49m\u001b[43m)\u001b[49m\n\u001b[1;32m     19\u001b[0m \u001b[43m    \u001b[49m\u001b[43m]\u001b[49m\n\u001b[1;32m     20\u001b[0m \u001b[43m)\u001b[49m\n",
      "File \u001b[0;32m~/.conda/envs/thesis/lib/python3.10/site-packages/pytorch_common/modules/fit_mixin.py:40\u001b[0m, in \u001b[0;36mFitMixin.fit\u001b[0;34m(self, data_loader, loss_fn, epochs, optimizer, callbacks, verbose, extra_ctx)\u001b[0m\n\u001b[1;32m     30\u001b[0m callback_manager\u001b[38;5;241m.\u001b[39mon_epoch_start(epoch)\n\u001b[1;32m     32\u001b[0m train_loss \u001b[38;5;241m=\u001b[39m Fn\u001b[38;5;241m.\u001b[39mtrain(\n\u001b[1;32m     33\u001b[0m     \u001b[38;5;28mself\u001b[39m,\n\u001b[1;32m     34\u001b[0m     data_loader,\n\u001b[0;32m   (...)\u001b[0m\n\u001b[1;32m     37\u001b[0m     callback_manager\u001b[38;5;241m.\u001b[39mctx\u001b[38;5;241m.\u001b[39mdevice\n\u001b[1;32m     38\u001b[0m )\n\u001b[0;32m---> 40\u001b[0m \u001b[43mcallback_manager\u001b[49m\u001b[38;5;241;43m.\u001b[39;49m\u001b[43mon_epoch_end\u001b[49m\u001b[43m(\u001b[49m\u001b[43mtrain_loss\u001b[49m\u001b[43m)\u001b[49m\n\u001b[1;32m     42\u001b[0m \u001b[38;5;28;01mif\u001b[39;00m callback_manager\u001b[38;5;241m.\u001b[39mbreak_training():\n\u001b[1;32m     43\u001b[0m     \u001b[38;5;28;01mbreak\u001b[39;00m\n",
      "File \u001b[0;32m~/.conda/envs/thesis/lib/python3.10/site-packages/pytorch_common/callbacks/callback_manager.py:27\u001b[0m, in \u001b[0;36mCallbackManager.on_epoch_end\u001b[0;34m(self, train_loss, val_loss)\u001b[0m\n\u001b[1;32m     25\u001b[0m \u001b[38;5;28mself\u001b[39m\u001b[38;5;241m.\u001b[39mctx\u001b[38;5;241m.\u001b[39mval_loss \u001b[38;5;241m=\u001b[39m val_loss\n\u001b[1;32m     26\u001b[0m \u001b[38;5;28mself\u001b[39m\u001b[38;5;241m.\u001b[39mctx\u001b[38;5;241m.\u001b[39mtime \u001b[38;5;241m=\u001b[39m \u001b[38;5;28mself\u001b[39m\u001b[38;5;241m.\u001b[39mctx\u001b[38;5;241m.\u001b[39mstopwatch\u001b[38;5;241m.\u001b[39mto_str()\n\u001b[0;32m---> 27\u001b[0m \u001b[43mCallback\u001b[49m\u001b[38;5;241;43m.\u001b[39;49m\u001b[43minvoke_on_after_train\u001b[49m\u001b[43m(\u001b[49m\u001b[38;5;28;43mself\u001b[39;49m\u001b[38;5;241;43m.\u001b[39;49m\u001b[43mctx\u001b[49m\u001b[43m,\u001b[49m\u001b[43m \u001b[49m\u001b[38;5;28;43mself\u001b[39;49m\u001b[38;5;241;43m.\u001b[39;49m\u001b[43mcallbacks\u001b[49m\u001b[43m)\u001b[49m\n",
      "File \u001b[0;32m~/.conda/envs/thesis/lib/python3.10/site-packages/pytorch_common/callbacks/callback.py:33\u001b[0m, in \u001b[0;36mCallback.invoke_on_after_train\u001b[0;34m(ctx, callbacks)\u001b[0m\n\u001b[1;32m     31\u001b[0m \u001b[38;5;129m@staticmethod\u001b[39m\n\u001b[1;32m     32\u001b[0m \u001b[38;5;28;01mdef\u001b[39;00m \u001b[38;5;21minvoke_on_after_train\u001b[39m(ctx, callbacks):\n\u001b[0;32m---> 33\u001b[0m     [it\u001b[38;5;241m.\u001b[39mon_after_train(ctx) \u001b[38;5;28;01mfor\u001b[39;00m it \u001b[38;5;129;01min\u001b[39;00m callbacks]\n\u001b[1;32m     34\u001b[0m     \u001b[38;5;28;01mreturn\u001b[39;00m ctx\n",
      "File \u001b[0;32m~/.conda/envs/thesis/lib/python3.10/site-packages/pytorch_common/callbacks/callback.py:33\u001b[0m, in \u001b[0;36m<listcomp>\u001b[0;34m(.0)\u001b[0m\n\u001b[1;32m     31\u001b[0m \u001b[38;5;129m@staticmethod\u001b[39m\n\u001b[1;32m     32\u001b[0m \u001b[38;5;28;01mdef\u001b[39;00m \u001b[38;5;21minvoke_on_after_train\u001b[39m(ctx, callbacks):\n\u001b[0;32m---> 33\u001b[0m     [\u001b[43mit\u001b[49m\u001b[38;5;241;43m.\u001b[39;49m\u001b[43mon_after_train\u001b[49m\u001b[43m(\u001b[49m\u001b[43mctx\u001b[49m\u001b[43m)\u001b[49m \u001b[38;5;28;01mfor\u001b[39;00m it \u001b[38;5;129;01min\u001b[39;00m callbacks]\n\u001b[1;32m     34\u001b[0m     \u001b[38;5;28;01mreturn\u001b[39;00m ctx\n",
      "File \u001b[0;32m~/.conda/envs/thesis/lib/python3.10/site-packages/pytorch_common/callbacks/validation.py:29\u001b[0m, in \u001b[0;36mValidation.on_after_train\u001b[0;34m(self, ctx)\u001b[0m\n\u001b[1;32m     27\u001b[0m \u001b[38;5;28;01mdef\u001b[39;00m \u001b[38;5;21mon_after_train\u001b[39m(\u001b[38;5;28mself\u001b[39m, ctx):\n\u001b[1;32m     28\u001b[0m     \u001b[38;5;28;01mif\u001b[39;00m ctx\u001b[38;5;241m.\u001b[39mepoch \u001b[38;5;241m%\u001b[39m \u001b[38;5;28mself\u001b[39m\u001b[38;5;241m.\u001b[39meach_n_epochs \u001b[38;5;241m==\u001b[39m \u001b[38;5;241m0\u001b[39m:\n\u001b[0;32m---> 29\u001b[0m         y_pred, y_true \u001b[38;5;241m=\u001b[39m \u001b[43mFn\u001b[49m\u001b[38;5;241;43m.\u001b[39;49m\u001b[43mvalidation\u001b[49m\u001b[43m(\u001b[49m\u001b[43mctx\u001b[49m\u001b[38;5;241;43m.\u001b[39;49m\u001b[43mmodel\u001b[49m\u001b[43m,\u001b[49m\u001b[43m \u001b[49m\u001b[38;5;28;43mself\u001b[39;49m\u001b[38;5;241;43m.\u001b[39;49m\u001b[43mdata_loader\u001b[49m\u001b[43m,\u001b[49m\u001b[43m \u001b[49m\u001b[43mctx\u001b[49m\u001b[38;5;241;43m.\u001b[39;49m\u001b[43mdevice\u001b[49m\u001b[43m)\u001b[49m\n\u001b[1;32m     30\u001b[0m         ctx[\u001b[38;5;124m'\u001b[39m\u001b[38;5;124mtime\u001b[39m\u001b[38;5;124m'\u001b[39m] \u001b[38;5;241m=\u001b[39m ctx\u001b[38;5;241m.\u001b[39mstopwatch\u001b[38;5;241m.\u001b[39mto_str()\n\u001b[1;32m     31\u001b[0m         \u001b[38;5;28;01mfor\u001b[39;00m (name, fn) \u001b[38;5;129;01min\u001b[39;00m \u001b[38;5;28mself\u001b[39m\u001b[38;5;241m.\u001b[39mmetrics\u001b[38;5;241m.\u001b[39mitems():\n",
      "File \u001b[0;32m~/.conda/envs/thesis/lib/python3.10/site-packages/pytorch_common/modules/fn.py:35\u001b[0m, in \u001b[0;36mFn.validation\u001b[0;34m(model, data_loader, device)\u001b[0m\n\u001b[1;32m     32\u001b[0m         y_pred\u001b[38;5;241m.\u001b[39mextend(model(features\u001b[38;5;241m.\u001b[39mto(device))\u001b[38;5;241m.\u001b[39mdetach())\n\u001b[1;32m     33\u001b[0m         y_true\u001b[38;5;241m.\u001b[39mextend(target\u001b[38;5;241m.\u001b[39mto(device))\n\u001b[0;32m---> 35\u001b[0m \u001b[38;5;28;01mreturn\u001b[39;00m \u001b[43mtorch\u001b[49m\u001b[38;5;241;43m.\u001b[39;49m\u001b[43mstack\u001b[49m\u001b[43m(\u001b[49m\u001b[43my_pred\u001b[49m\u001b[43m)\u001b[49m\u001b[38;5;241;43m.\u001b[39;49m\u001b[43mcpu\u001b[49m\u001b[43m(\u001b[49m\u001b[43m)\u001b[49m, torch\u001b[38;5;241m.\u001b[39mstack(y_true)\u001b[38;5;241m.\u001b[39mcpu()\n",
      "\u001b[0;31mKeyboardInterrupt\u001b[0m: "
     ]
    }
   ],
   "source": [
    "model.fit(\n",
    "    train_dl,\n",
    "    epochs      = params.epochs,\n",
    "    loss_fn     = CrossEntropyLossFn(),\n",
    "    optimizer   = Adam(\n",
    "        params = model.parameters(),\n",
    "        lr     = params.lr\n",
    "    ),\n",
    "    callbacks = [\n",
    "        Validation(\n",
    "            eval_dl,\n",
    "            metrics = { \n",
    "                'val_acc': AccFn(),\n",
    "                'val_loss': CrossEntropyLossFn()\n",
    "            },\n",
    "            each_n_epochs=1\n",
    "        ),\n",
    "        Logger(['time', 'epoch', 'train_loss', 'val_loss', 'val_acc'])\n",
    "    ]\n",
    ")"
   ]
  },
  {
   "cell_type": "code",
   "execution_count": null,
   "id": "8656fb21-1e1b-4794-a3f0-19c0b09896a8",
   "metadata": {},
   "outputs": [],
   "source": []
  }
 ],
 "metadata": {
  "kernelspec": {
   "display_name": "Python 3 (ipykernel)",
   "language": "python",
   "name": "python3"
  },
  "language_info": {
   "codemirror_mode": {
    "name": "ipython",
    "version": 3
   },
   "file_extension": ".py",
   "mimetype": "text/x-python",
   "name": "python",
   "nbconvert_exporter": "python",
   "pygments_lexer": "ipython3",
   "version": "3.10.9"
  },
  "widgets": {
   "application/vnd.jupyter.widget-state+json": {
    "state": {},
    "version_major": 2,
    "version_minor": 0
   }
  }
 },
 "nbformat": 4,
 "nbformat_minor": 5
}
