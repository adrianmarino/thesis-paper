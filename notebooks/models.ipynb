{
 "cells": [
  {
   "cell_type": "markdown",
   "id": "0417277b-47df-4113-a7b3-8f960db06f1d",
   "metadata": {
    "tags": []
   },
   "source": [
    "# Models"
   ]
  },
  {
   "cell_type": "code",
   "execution_count": 1,
   "id": "8dde5e70-5b86-460f-8791-20fcb554c378",
   "metadata": {},
   "outputs": [],
   "source": [
    "%load_ext autoreload\n",
    "%autoreload 2"
   ]
  },
  {
   "cell_type": "code",
   "execution_count": 109,
   "id": "f98e7bf4-f41a-43f6-b7b7-a991d00f82de",
   "metadata": {},
   "outputs": [],
   "source": [
    "import sys\n",
    "sys.path.append('../lib')\n",
    "\n",
    "import numpy as np\n",
    "import pandas as pd\n",
    "\n",
    "import torch\n",
    "import pytorch_common.util as pu\n",
    "\n",
    "import data as dt\n",
    "import data.plot as pl\n",
    "\n",
    "import model as ml\n",
    "\n",
    "import seaborn as sns\n",
    "import matplotlib.pyplot as plt\n",
    "\n",
    "from sklearn.metrics import mean_squared_error, mean_absolute_error\n",
    "import data.plot as pl\n",
    "\n",
    "import logging"
   ]
  },
  {
   "cell_type": "code",
   "execution_count": 3,
   "id": "e60a3838-9787-411d-b9f1-8a942321cbb1",
   "metadata": {},
   "outputs": [
    {
     "data": {
      "text/html": [
       "<pre style=\"white-space:pre;overflow-x:auto;line-height:normal;font-family:Menlo,'DejaVu Sans Mono',consolas,'Courier New',monospace\"><span style=\"font-weight: bold\">&lt;</span><span style=\"color: #ff00ff; text-decoration-color: #ff00ff; font-weight: bold\">RootLogger</span><span style=\"color: #000000; text-decoration-color: #000000\"> root </span><span style=\"color: #000000; text-decoration-color: #000000; font-weight: bold\">(</span><span style=\"color: #000000; text-decoration-color: #000000\">INFO</span><span style=\"color: #000000; text-decoration-color: #000000; font-weight: bold\">)</span><span style=\"font-weight: bold\">&gt;</span>\n",
       "</pre>\n"
      ],
      "text/plain": [
       "\u001b[1m<\u001b[0m\u001b[1;95mRootLogger\u001b[0m\u001b[39m root \u001b[0m\u001b[1;39m(\u001b[0m\u001b[39mINFO\u001b[0m\u001b[1;39m)\u001b[0m\u001b[1m>\u001b[0m\n"
      ]
     },
     "metadata": {},
     "output_type": "display_data"
    }
   ],
   "source": [
    "pu.LoggerBuilder().on_console().build()"
   ]
  },
  {
   "cell_type": "code",
   "execution_count": 4,
   "id": "9fd7574f-043a-4fc3-8ab8-bfd55b6a92d8",
   "metadata": {},
   "outputs": [],
   "source": [
    "device_name = 'gpu'\n",
    "\n",
    "pu.set_device_name(device_name)\n",
    "pu.set_device_memory(device_name, process_memory_fraction=0.5)"
   ]
  },
  {
   "cell_type": "code",
   "execution_count": 5,
   "id": "bad1a1e0-b35e-4b40-ab06-beae8fbb244a",
   "metadata": {},
   "outputs": [
    {
     "data": {
      "text/html": [
       "<pre style=\"white-space:pre;overflow-x:auto;line-height:normal;font-family:Menlo,'DejaVu Sans Mono',consolas,'Courier New',monospace\"><span style=\"color: #800080; text-decoration-color: #800080; font-weight: bold\">device</span><span style=\"font-weight: bold\">(</span><span style=\"color: #808000; text-decoration-color: #808000\">type</span>=<span style=\"color: #008000; text-decoration-color: #008000\">'cuda'</span>, <span style=\"color: #808000; text-decoration-color: #808000\">index</span>=<span style=\"color: #008080; text-decoration-color: #008080; font-weight: bold\">0</span><span style=\"font-weight: bold\">)</span>\n",
       "</pre>\n"
      ],
      "text/plain": [
       "\u001b[1;35mdevice\u001b[0m\u001b[1m(\u001b[0m\u001b[33mtype\u001b[0m=\u001b[32m'cuda'\u001b[0m, \u001b[33mindex\u001b[0m=\u001b[1;36m0\u001b[0m\u001b[1m)\u001b[0m\n"
      ]
     },
     "metadata": {},
     "output_type": "display_data"
    }
   ],
   "source": [
    "pu.get_device()"
   ]
  },
  {
   "cell_type": "code",
   "execution_count": 6,
   "id": "d1ba7b0b-b5d8-47ec-8995-642b7b21e6d2",
   "metadata": {},
   "outputs": [
    {
     "data": {
      "text/html": [
       "<pre style=\"white-space:pre;overflow-x:auto;line-height:normal;font-family:Menlo,'DejaVu Sans Mono',consolas,'Courier New',monospace\"><span style=\"color: #00ff00; text-decoration-color: #00ff00; font-style: italic\">True</span>\n",
       "</pre>\n"
      ],
      "text/plain": [
       "\u001b[3;92mTrue\u001b[0m\n"
      ]
     },
     "metadata": {},
     "output_type": "display_data"
    }
   ],
   "source": [
    "torch.cuda.is_available()"
   ]
  },
  {
   "cell_type": "code",
   "execution_count": 7,
   "id": "21fa4041-5682-4332-b139-6aca63d05ea0",
   "metadata": {},
   "outputs": [
    {
     "data": {
      "text/html": [
       "<pre style=\"white-space:pre;overflow-x:auto;line-height:normal;font-family:Menlo,'DejaVu Sans Mono',consolas,'Courier New',monospace\"><span style=\"color: #008000; text-decoration-color: #008000\">'1.11.0'</span>\n",
       "</pre>\n"
      ],
      "text/plain": [
       "\u001b[32m'1.11.0'\u001b[0m\n"
      ]
     },
     "metadata": {},
     "output_type": "display_data"
    }
   ],
   "source": [
    "torch.__version__"
   ]
  },
  {
   "cell_type": "markdown",
   "id": "b8334d07-f306-42b4-8ea1-cc27b82eb343",
   "metadata": {},
   "source": [
    "## Carga de dataset"
   ]
  },
  {
   "cell_type": "markdown",
   "id": "e83eec29-6968-40ce-9298-c68c873f8142",
   "metadata": {},
   "source": [
    "1. importamos los archivos de peliculas y ratings preprocesados prebiamente en mongodb:"
   ]
  },
  {
   "cell_type": "code",
   "execution_count": 8,
   "id": "4338f10e-2668-4039-8911-7f43a77deee3",
   "metadata": {},
   "outputs": [],
   "source": [
    "DATASETS_PATH   = '../datasets'\n",
    "\n",
    "movies          = pd.read_json(f'{DATASETS_PATH}/movies.json')\n",
    "interactions    = pd.read_json(f'{DATASETS_PATH}/interactions.json')"
   ]
  },
  {
   "cell_type": "code",
   "execution_count": 9,
   "id": "5b290d3b-63a9-43a9-a8bf-5c95c005abd3",
   "metadata": {},
   "outputs": [
    {
     "data": {
      "text/html": [
       "<pre style=\"white-space:pre;overflow-x:auto;line-height:normal;font-family:Menlo,'DejaVu Sans Mono',consolas,'Courier New',monospace\"><span style=\"color: #008080; text-decoration-color: #008080; font-weight: bold\">210725</span>\n",
       "</pre>\n"
      ],
      "text/plain": [
       "\u001b[1;36m210725\u001b[0m\n"
      ]
     },
     "metadata": {},
     "output_type": "display_data"
    }
   ],
   "source": [
    "len(interactions)"
   ]
  },
  {
   "cell_type": "code",
   "execution_count": 10,
   "id": "3c17b661-1a65-4a64-993e-155679b290d6",
   "metadata": {},
   "outputs": [],
   "source": [
    "import time\n",
    "\n",
    "import numpy as np\n",
    "import torch\n",
    "from matplotlib import pyplot as plt\n",
    "\n",
    "from pykeops.torch import LazyTensor\n",
    "\n",
    "use_cuda = torch.cuda.is_available()\n",
    "dtype    = torch.cuda.FloatTensor if use_cuda else torch.FloatTensor"
   ]
  },
  {
   "cell_type": "code",
   "execution_count": 11,
   "id": "4f327016-df96-4449-bfa3-f935517e45e3",
   "metadata": {},
   "outputs": [],
   "source": [
    "interactions['user_seq'] =  interactions.user_id.apply(dt.Sequencer().get)\n",
    "interactions['movie_seq'] =  interactions.movie_id.apply(dt.Sequencer().get)\n",
    "\n",
    "interactions[['user_seq', 'user_id']].to_json(f'{DATASETS_PATH}/user_seq_id.json')\n",
    "interactions[['movie_seq', 'movie_id']].to_json(f'{DATASETS_PATH}/movie_seq_id.json')"
   ]
  },
  {
   "cell_type": "code",
   "execution_count": 12,
   "id": "a1836ade-3d54-4839-b344-ac39f8d0491b",
   "metadata": {},
   "outputs": [
    {
     "name": "stderr",
     "output_type": "stream",
     "text": [
      "2022-04-27 21:42:50,495 - INFO - Create ratting matrix - computing time: 0:00:09.12\n"
     ]
    },
    {
     "data": {
      "text/html": [
       "<pre style=\"white-space:pre;overflow-x:auto;line-height:normal;font-family:Menlo,'DejaVu Sans Mono',consolas,'Courier New',monospace\"><span style=\"font-weight: bold\">(</span><span style=\"color: #008080; text-decoration-color: #008080; font-weight: bold\">13281</span>, <span style=\"color: #008080; text-decoration-color: #008080; font-weight: bold\">22082</span><span style=\"font-weight: bold\">)</span>\n",
       "</pre>\n"
      ],
      "text/plain": [
       "\u001b[1m(\u001b[0m\u001b[1;36m13281\u001b[0m, \u001b[1;36m22082\u001b[0m\u001b[1m)\u001b[0m\n"
      ]
     },
     "metadata": {},
     "output_type": "display_data"
    }
   ],
   "source": [
    "rm = dt.RatingsMatrix.from_dataframe(interactions, 'user_seq', 'movie_seq', 'rating')\n",
    "rm.shape"
   ]
  },
  {
   "cell_type": "code",
   "execution_count": 13,
   "id": "0181ddff-caab-4309-a376-d0c229a0f6e8",
   "metadata": {},
   "outputs": [
    {
     "data": {
      "text/html": [
       "<pre style=\"white-space:pre;overflow-x:auto;line-height:normal;font-family:Menlo,'DejaVu Sans Mono',consolas,'Courier New',monospace\"><span style=\"font-weight: bold\">&lt;</span><span style=\"color: #ff00ff; text-decoration-color: #ff00ff; font-weight: bold\">Figure</span><span style=\"color: #000000; text-decoration-color: #000000\"> size 72</span><span style=\"color: #008080; text-decoration-color: #008080; font-weight: bold\">0x432</span><span style=\"color: #000000; text-decoration-color: #000000\"> with </span><span style=\"color: #008080; text-decoration-color: #008080; font-weight: bold\">2</span><span style=\"color: #000000; text-decoration-color: #000000\"> Axes</span><span style=\"font-weight: bold\">&gt;</span>\n",
       "</pre>\n"
      ],
      "text/plain": [
       "\u001b[1m<\u001b[0m\u001b[1;95mFigure\u001b[0m\u001b[39m size 72\u001b[0m\u001b[1;36m0x432\u001b[0m\u001b[39m with \u001b[0m\u001b[1;36m2\u001b[0m\u001b[39m Axes\u001b[0m\u001b[1m>\u001b[0m\n"
      ]
     },
     "metadata": {},
     "output_type": "display_data"
    },
    {
     "data": {
      "image/png": "[encoded data removed]"
     },
     "metadata": {},
     "output_type": "display_data"
    }
   ],
   "source": [
    "rm.plot()"
   ]
  },
  {
   "cell_type": "code",
   "execution_count": 116,
   "id": "e2a4abc6-9e31-482f-9f73-e72d109416c7",
   "metadata": {},
   "outputs": [
    {
     "name": "stderr",
     "output_type": "stream",
     "text": [
      "2022-04-27 23:00:05,679 - INFO - distances matrix - computing time: 0:03:04.05\n"
     ]
    }
   ],
   "source": [
    "predictor = ml.KNNUserBasedPredictor(rm, ml.CosineDistance())"
   ]
  },
  {
   "cell_type": "code",
   "execution_count": 118,
   "id": "f4ec18e7-6882-4781-9fd4-a5305a82a52c",
   "metadata": {},
   "outputs": [],
   "source": [
    "def batch_sample(interactions, batch_size):\n",
    "    indexes = torch.randint(0, interactions.shape[0]-1, (batch_size,))\n",
    "    \n",
    "    features_batch = interactions[['user_seq', 'movie_seq']].iloc[indexes, :].values\n",
    "    label_batch    = interactions[['rating']].iloc[indexes, :].values.reshape((-1,))\n",
    "\n",
    "    return features_batch, label_batch"
   ]
  },
  {
   "cell_type": "code",
   "execution_count": 138,
   "id": "af88092f-5abd-40e3-858a-09396a747cae",
   "metadata": {},
   "outputs": [
    {
     "name": "stderr",
     "output_type": "stream",
     "text": [
      "2022-04-27 23:28:22,986 - INFO - computing time: 0:00:01.24\n",
      "2022-04-27 23:28:22,987 - INFO - {'mse': 0.38742273129800536, 'mae': 0.5232496976852417, 'sample': 0}\n",
      "2022-04-27 23:28:24,382 - INFO - computing time: 0:00:01.39\n",
      "2022-04-27 23:28:24,383 - INFO - {'mse': 0.3463905384086729, 'mae': 0.495026159286499, 'sample': 1}\n",
      "2022-04-27 23:28:25,594 - INFO - computing time: 0:00:01.21\n",
      "2022-04-27 23:28:25,595 - INFO - {'mse': 1.0851305887514229, 'mae': 0.8668308973312377, 'sample': 2}\n",
      "2022-04-27 23:28:26,987 - INFO - computing time: 0:00:01.39\n",
      "2022-04-27 23:28:26,988 - INFO - {'mse': 0.6619373918812699, 'mae': 0.6591284275054932, 'sample': 3}\n",
      "2022-04-27 23:28:28,178 - INFO - computing time: 0:00:01.19\n",
      "2022-04-27 23:28:28,178 - INFO - {'mse': 3.1985762753448284, 'mae': 1.3117053031921386, 'sample': 4}\n",
      "2022-04-27 23:28:29,592 - INFO - computing time: 0:00:01.41\n",
      "2022-04-27 23:28:29,593 - INFO - {'mse': 0.3889406208611888, 'mae': 0.5011958360671998, 'sample': 5}\n",
      "2022-04-27 23:28:30,826 - INFO - computing time: 0:00:01.23\n",
      "2022-04-27 23:28:30,827 - INFO - {'mse': 1.6635265109490205, 'mae': 0.9373579025268555, 'sample': 6}\n",
      "2022-04-27 23:28:32,197 - INFO - computing time: 0:00:01.37\n",
      "2022-04-27 23:28:32,197 - INFO - {'mse': 0.4777660492780512, 'mae': 0.5698461294174194, 'sample': 7}\n",
      "2022-04-27 23:28:33,398 - INFO - computing time: 0:00:01.20\n",
      "2022-04-27 23:28:33,398 - INFO - {'mse': 3.692510112609449, 'mae': 1.4025892972946168, 'sample': 8}\n",
      "2022-04-27 23:28:34,799 - INFO - computing time: 0:00:01.40\n",
      "2022-04-27 23:28:34,800 - INFO - {'mse': 3.142790648211951, 'mae': 1.1262011051177978, 'sample': 9}\n",
      "2022-04-27 23:28:36,035 - INFO - computing time: 0:00:01.23\n",
      "2022-04-27 23:28:36,036 - INFO - {'mse': 2.9732443181458335, 'mae': 1.341788649559021, 'sample': 10}\n",
      "2022-04-27 23:28:37,454 - INFO - computing time: 0:00:01.42\n",
      "2022-04-27 23:28:37,455 - INFO - {'mse': 0.7357323496789092, 'mae': 0.7486019849777221, 'sample': 11}\n",
      "2022-04-27 23:28:38,689 - INFO - computing time: 0:00:01.23\n",
      "2022-04-27 23:28:38,690 - INFO - {'mse': 1.0389810201266243, 'mae': 0.7209944009780884, 'sample': 12}\n",
      "2022-04-27 23:28:40,145 - INFO - computing time: 0:00:01.45\n",
      "2022-04-27 23:28:40,146 - INFO - {'mse': 0.5299348004336195, 'mae': 0.5573065042495727, 'sample': 13}\n",
      "2022-04-27 23:28:41,357 - INFO - computing time: 0:00:01.21\n",
      "2022-04-27 23:28:41,358 - INFO - {'mse': 1.1381689810587148, 'mae': 0.9454168081283569, 'sample': 14}\n",
      "2022-04-27 23:28:42,755 - INFO - computing time: 0:00:01.40\n",
      "2022-04-27 23:28:42,756 - INFO - {'mse': 1.18456285817864, 'mae': 0.8711476802825928, 'sample': 15}\n",
      "2022-04-27 23:28:43,939 - INFO - computing time: 0:00:01.18\n",
      "2022-04-27 23:28:43,940 - INFO - {'mse': 1.681067115418108, 'mae': 1.0180443048477172, 'sample': 16}\n",
      "2022-04-27 23:28:45,373 - INFO - computing time: 0:00:01.43\n",
      "2022-04-27 23:28:45,373 - INFO - {'mse': 1.8755593151336314, 'mae': 0.9097920656204224, 'sample': 17}\n",
      "2022-04-27 23:28:46,585 - INFO - computing time: 0:00:01.21\n",
      "2022-04-27 23:28:46,586 - INFO - {'mse': 0.47515587758424543, 'mae': 0.5477281093597413, 'sample': 18}\n",
      "2022-04-27 23:28:48,035 - INFO - computing time: 0:00:01.45\n",
      "2022-04-27 23:28:48,036 - INFO - {'mse': 1.32900167313162, 'mae': 0.8109548091888428, 'sample': 19}\n",
      "2022-04-27 23:28:49,218 - INFO - computing time: 0:00:01.18\n",
      "2022-04-27 23:28:49,218 - INFO - {'mse': 3.194690849361211, 'mae': 1.2567988395690919, 'sample': 20}\n",
      "2022-04-27 23:28:50,778 - INFO - computing time: 0:00:01.56\n",
      "2022-04-27 23:28:50,779 - INFO - {'mse': 0.38449139172657854, 'mae': 0.514749813079834, 'sample': 21}\n",
      "2022-04-27 23:28:51,972 - INFO - computing time: 0:00:01.19\n",
      "2022-04-27 23:28:51,973 - INFO - {'mse': 1.323437099040234, 'mae': 0.7592605113983154, 'sample': 22}\n",
      "2022-04-27 23:28:53,386 - INFO - computing time: 0:00:01.41\n",
      "2022-04-27 23:28:53,387 - INFO - {'mse': 0.5329151212797001, 'mae': 0.6514731884002686, 'sample': 23}\n",
      "2022-04-27 23:28:54,597 - INFO - computing time: 0:00:01.21\n",
      "2022-04-27 23:28:54,597 - INFO - {'mse': 0.8094519860646884, 'mae': 0.7520519614219665, 'sample': 24}\n",
      "2022-04-27 23:28:55,962 - INFO - computing time: 0:00:01.36\n",
      "2022-04-27 23:28:55,962 - INFO - {'mse': 1.4027311449267246, 'mae': 0.9408919811248779, 'sample': 25}\n",
      "2022-04-27 23:28:57,138 - INFO - computing time: 0:00:01.17\n",
      "2022-04-27 23:28:57,138 - INFO - {'mse': 1.1116167092624267, 'mae': 0.7874261140823364, 'sample': 26}\n",
      "2022-04-27 23:28:58,557 - INFO - computing time: 0:00:01.42\n",
      "2022-04-27 23:28:58,558 - INFO - {'mse': 0.9149415083545023, 'mae': 0.6479318618774415, 'sample': 27}\n",
      "2022-04-27 23:28:59,747 - INFO - computing time: 0:00:01.19\n",
      "2022-04-27 23:28:59,748 - INFO - {'mse': 0.39968646754889503, 'mae': 0.4936777114868164, 'sample': 28}\n",
      "2022-04-27 23:29:01,178 - INFO - computing time: 0:00:01.43\n",
      "2022-04-27 23:29:01,178 - INFO - {'mse': 0.2955450871937558, 'mae': 0.4762175798416138, 'sample': 29}\n",
      "2022-04-27 23:29:02,357 - INFO - computing time: 0:00:01.18\n",
      "2022-04-27 23:29:02,357 - INFO - {'mse': 1.1081057428888754, 'mae': 0.7988952398300171, 'sample': 30}\n",
      "2022-04-27 23:29:03,756 - INFO - computing time: 0:00:01.40\n",
      "2022-04-27 23:29:03,756 - INFO - {'mse': 2.437427453284317, 'mae': 1.1742917060852052, 'sample': 31}\n",
      "2022-04-27 23:29:04,942 - INFO - computing time: 0:00:01.18\n",
      "2022-04-27 23:29:04,943 - INFO - {'mse': 0.4853421977962853, 'mae': 0.6032429695129394, 'sample': 32}\n",
      "2022-04-27 23:29:06,311 - INFO - computing time: 0:00:01.37\n",
      "2022-04-27 23:29:06,311 - INFO - {'mse': 1.2655756035116383, 'mae': 0.6425665378570556, 'sample': 33}\n",
      "2022-04-27 23:29:07,514 - INFO - computing time: 0:00:01.20\n",
      "2022-04-27 23:29:07,515 - INFO - {'mse': 0.6083032382669387, 'mae': 0.6630894899368286, 'sample': 34}\n",
      "2022-04-27 23:29:08,880 - INFO - computing time: 0:00:01.36\n",
      "2022-04-27 23:29:08,880 - INFO - {'mse': 0.5773410960110823, 'mae': 0.6043667316436767, 'sample': 35}\n",
      "2022-04-27 23:29:10,094 - INFO - computing time: 0:00:01.21\n",
      "2022-04-27 23:29:10,095 - INFO - {'mse': 1.7596131924028326, 'mae': 0.960538387298584, 'sample': 36}\n",
      "2022-04-27 23:29:11,547 - INFO - computing time: 0:00:01.45\n",
      "2022-04-27 23:29:11,547 - INFO - {'mse': 2.2947961214741897, 'mae': 1.148123073577881, 'sample': 37}\n",
      "2022-04-27 23:29:12,786 - INFO - computing time: 0:00:01.24\n",
      "2022-04-27 23:29:12,787 - INFO - {'mse': 1.4024395388791788, 'mae': 0.7849634885787964, 'sample': 38}\n",
      "2022-04-27 23:29:14,168 - INFO - computing time: 0:00:01.38\n",
      "2022-04-27 23:29:14,169 - INFO - {'mse': 0.7669907964044682, 'mae': 0.7074729919433593, 'sample': 39}\n",
      "2022-04-27 23:29:15,373 - INFO - computing time: 0:00:01.20\n",
      "2022-04-27 23:29:15,373 - INFO - {'mse': 1.7941164847693813, 'mae': 1.0379245281219482, 'sample': 40}\n",
      "2022-04-27 23:29:16,780 - INFO - computing time: 0:00:01.40\n",
      "2022-04-27 23:29:16,781 - INFO - {'mse': 1.6886317819292003, 'mae': 1.0924115180969238, 'sample': 41}\n",
      "2022-04-27 23:29:17,972 - INFO - computing time: 0:00:01.19\n",
      "2022-04-27 23:29:17,973 - INFO - {'mse': 2.7297771317049695, 'mae': 1.3256160974502564, 'sample': 42}\n",
      "2022-04-27 23:29:19,399 - INFO - computing time: 0:00:01.42\n",
      "2022-04-27 23:29:19,400 - INFO - {'mse': 1.8608903545231499, 'mae': 1.0034748315811157, 'sample': 43}\n",
      "2022-04-27 23:29:20,701 - INFO - computing time: 0:00:01.30\n",
      "2022-04-27 23:29:20,702 - INFO - {'mse': 0.5054381137760359, 'mae': 0.505765187740326, 'sample': 44}\n",
      "2022-04-27 23:29:22,090 - INFO - computing time: 0:00:01.39\n",
      "2022-04-27 23:29:22,091 - INFO - {'mse': 1.4733504635956023, 'mae': 0.8601365566253663, 'sample': 45}\n",
      "2022-04-27 23:29:23,297 - INFO - computing time: 0:00:01.20\n",
      "2022-04-27 23:29:23,298 - INFO - {'mse': 1.0570785629382329, 'mae': 0.757267689704895, 'sample': 46}\n",
      "2022-04-27 23:29:24,672 - INFO - computing time: 0:00:01.37\n",
      "2022-04-27 23:29:24,673 - INFO - {'mse': 0.5419033924306745, 'mae': 0.5644242763519287, 'sample': 47}\n",
      "2022-04-27 23:29:25,897 - INFO - computing time: 0:00:01.22\n",
      "2022-04-27 23:29:25,898 - INFO - {'mse': 2.38746747004281, 'mae': 0.9239072561264038, 'sample': 48}\n",
      "2022-04-27 23:29:27,310 - INFO - computing time: 0:00:01.41\n",
      "2022-04-27 23:29:27,310 - INFO - {'mse': 3.44204088605336, 'mae': 1.2010228633880615, 'sample': 49}\n",
      "2022-04-27 23:29:28,485 - INFO - computing time: 0:00:01.17\n",
      "2022-04-27 23:29:28,486 - INFO - {'mse': 1.072261857153687, 'mae': 0.7279519528150559, 'sample': 50}\n",
      "2022-04-27 23:29:29,880 - INFO - computing time: 0:00:01.39\n",
      "2022-04-27 23:29:29,881 - INFO - {'mse': 0.9611160134407684, 'mae': 0.7075690865516663, 'sample': 51}\n",
      "2022-04-27 23:29:31,106 - INFO - computing time: 0:00:01.22\n",
      "2022-04-27 23:29:31,107 - INFO - {'mse': 0.5443724828077677, 'mae': 0.5861586332321167, 'sample': 52}\n",
      "2022-04-27 23:29:32,512 - INFO - computing time: 0:00:01.40\n",
      "2022-04-27 23:29:32,513 - INFO - {'mse': 1.857489591464406, 'mae': 0.8416069269180297, 'sample': 53}\n",
      "2022-04-27 23:29:33,680 - INFO - computing time: 0:00:01.16\n",
      "2022-04-27 23:29:33,680 - INFO - {'mse': 4.181738465198561, 'mae': 1.4415827512741088, 'sample': 54}\n",
      "2022-04-27 23:29:35,070 - INFO - computing time: 0:00:01.39\n",
      "2022-04-27 23:29:35,071 - INFO - {'mse': 2.056496055894479, 'mae': 1.0843127727508546, 'sample': 55}\n",
      "2022-04-27 23:29:36,314 - INFO - computing time: 0:00:01.24\n",
      "2022-04-27 23:29:36,315 - INFO - {'mse': 1.9362662497730583, 'mae': 1.087471032142639, 'sample': 56}\n",
      "2022-04-27 23:29:37,728 - INFO - computing time: 0:00:01.41\n",
      "2022-04-27 23:29:37,728 - INFO - {'mse': 0.5404687154857697, 'mae': 0.6212591171264649, 'sample': 57}\n",
      "2022-04-27 23:29:39,032 - INFO - computing time: 0:00:01.30\n",
      "2022-04-27 23:29:39,032 - INFO - {'mse': 3.0113686209615422, 'mae': 1.3498650312423706, 'sample': 58}\n",
      "2022-04-27 23:29:40,541 - INFO - computing time: 0:00:01.51\n",
      "2022-04-27 23:29:40,542 - INFO - {'mse': 0.1845263175238813, 'mae': 0.3334479570388794, 'sample': 59}\n",
      "2022-04-27 23:29:41,721 - INFO - computing time: 0:00:01.18\n",
      "2022-04-27 23:29:41,722 - INFO - {'mse': 2.0798084224952733, 'mae': 1.0460176944732666, 'sample': 60}\n",
      "2022-04-27 23:29:43,080 - INFO - computing time: 0:00:01.36\n",
      "2022-04-27 23:29:43,081 - INFO - {'mse': 0.4236198624297174, 'mae': 0.49799182415008547, 'sample': 61}\n",
      "2022-04-27 23:29:44,328 - INFO - computing time: 0:00:01.24\n",
      "2022-04-27 23:29:44,329 - INFO - {'mse': 2.432534984864776, 'mae': 1.052006769180298, 'sample': 62}\n",
      "2022-04-27 23:29:45,695 - INFO - computing time: 0:00:01.36\n",
      "2022-04-27 23:29:45,696 - INFO - {'mse': 1.1479722105543093, 'mae': 0.8127865016460418, 'sample': 63}\n",
      "2022-04-27 23:29:46,878 - INFO - computing time: 0:00:01.18\n",
      "2022-04-27 23:29:46,878 - INFO - {'mse': 3.644221959010781, 'mae': 1.155204963684082, 'sample': 64}\n",
      "2022-04-27 23:29:48,274 - INFO - computing time: 0:00:01.39\n",
      "2022-04-27 23:29:48,275 - INFO - {'mse': 0.7493533363124243, 'mae': 0.7173971176147461, 'sample': 65}\n",
      "2022-04-27 23:29:49,476 - INFO - computing time: 0:00:01.20\n",
      "2022-04-27 23:29:49,477 - INFO - {'mse': 4.30857491988458, 'mae': 1.422023320198059, 'sample': 66}\n",
      "2022-04-27 23:29:50,821 - INFO - computing time: 0:00:01.34\n",
      "2022-04-27 23:29:50,822 - INFO - {'mse': 2.7987007435463696, 'mae': 1.330423152446747, 'sample': 67}\n",
      "2022-04-27 23:29:52,006 - INFO - computing time: 0:00:01.18\n",
      "2022-04-27 23:29:52,007 - INFO - {'mse': 0.5946073296324584, 'mae': 0.6072541236877441, 'sample': 68}\n",
      "2022-04-27 23:29:53,385 - INFO - computing time: 0:00:01.38\n",
      "2022-04-27 23:29:53,385 - INFO - {'mse': 4.688797269956052, 'mae': 1.4560928106307984, 'sample': 69}\n",
      "2022-04-27 23:29:54,553 - INFO - computing time: 0:00:01.17\n",
      "2022-04-27 23:29:54,554 - INFO - {'mse': 3.016347999451449, 'mae': 1.2275348424911499, 'sample': 70}\n",
      "2022-04-27 23:29:55,954 - INFO - computing time: 0:00:01.40\n",
      "2022-04-27 23:29:55,955 - INFO - {'mse': 1.0559796697181525, 'mae': 0.6454179048538208, 'sample': 71}\n",
      "2022-04-27 23:29:57,178 - INFO - computing time: 0:00:01.22\n",
      "2022-04-27 23:29:57,179 - INFO - {'mse': 0.31339009284055236, 'mae': 0.4892463684082031, 'sample': 72}\n",
      "2022-04-27 23:29:58,560 - INFO - computing time: 0:00:01.38\n",
      "2022-04-27 23:29:58,561 - INFO - {'mse': 2.1117419820226586, 'mae': 1.2083562850952148, 'sample': 73}\n",
      "2022-04-27 23:29:59,783 - INFO - computing time: 0:00:01.22\n",
      "2022-04-27 23:29:59,784 - INFO - {'mse': 0.4556493828137434, 'mae': 0.6187996149063111, 'sample': 74}\n",
      "2022-04-27 23:30:01,218 - INFO - computing time: 0:00:01.43\n",
      "2022-04-27 23:30:01,219 - INFO - {'mse': 1.6647525303171904, 'mae': 0.8846168756484986, 'sample': 75}\n",
      "2022-04-27 23:30:02,421 - INFO - computing time: 0:00:01.20\n",
      "2022-04-27 23:30:02,422 - INFO - {'mse': 0.34475922258757236, 'mae': 0.47182459831237794, 'sample': 76}\n",
      "2022-04-27 23:30:03,886 - INFO - computing time: 0:00:01.46\n",
      "2022-04-27 23:30:03,887 - INFO - {'mse': 0.8985386971056926, 'mae': 0.7125702619552612, 'sample': 77}\n",
      "2022-04-27 23:30:05,140 - INFO - computing time: 0:00:01.25\n",
      "2022-04-27 23:30:05,140 - INFO - {'mse': 3.1435056007879894, 'mae': 1.21805739402771, 'sample': 78}\n",
      "2022-04-27 23:30:06,531 - INFO - computing time: 0:00:01.39\n",
      "2022-04-27 23:30:06,531 - INFO - {'mse': 0.5351520207250189, 'mae': 0.4883711576461792, 'sample': 79}\n",
      "2022-04-27 23:30:07,706 - INFO - computing time: 0:00:01.17\n",
      "2022-04-27 23:30:07,707 - INFO - {'mse': 0.4666143205538333, 'mae': 0.5784751892089843, 'sample': 80}\n",
      "2022-04-27 23:30:09,105 - INFO - computing time: 0:00:01.40\n",
      "2022-04-27 23:30:09,106 - INFO - {'mse': 0.692095988333557, 'mae': 0.619216513633728, 'sample': 81}\n",
      "2022-04-27 23:30:10,385 - INFO - computing time: 0:00:01.28\n",
      "2022-04-27 23:30:10,385 - INFO - {'mse': 1.7222820778256935, 'mae': 1.072943252325058, 'sample': 82}\n",
      "2022-04-27 23:30:11,759 - INFO - computing time: 0:00:01.37\n",
      "2022-04-27 23:30:11,759 - INFO - {'mse': 0.6170966771077133, 'mae': 0.637800931930542, 'sample': 83}\n",
      "2022-04-27 23:30:12,957 - INFO - computing time: 0:00:01.20\n",
      "2022-04-27 23:30:12,958 - INFO - {'mse': 0.5086257914760495, 'mae': 0.6527589797973633, 'sample': 84}\n",
      "2022-04-27 23:30:14,321 - INFO - computing time: 0:00:01.36\n",
      "2022-04-27 23:30:14,321 - INFO - {'mse': 1.884837952444525, 'mae': 0.9520601749420166, 'sample': 85}\n",
      "2022-04-27 23:30:15,585 - INFO - computing time: 0:00:01.26\n",
      "2022-04-27 23:30:15,586 - INFO - {'mse': 1.4696049784224556, 'mae': 0.9418570041656494, 'sample': 86}\n",
      "2022-04-27 23:30:16,976 - INFO - computing time: 0:00:01.39\n",
      "2022-04-27 23:30:16,977 - INFO - {'mse': 2.5947729238937027, 'mae': 1.2481935739517211, 'sample': 87}\n",
      "2022-04-27 23:30:18,177 - INFO - computing time: 0:00:01.20\n",
      "2022-04-27 23:30:18,178 - INFO - {'mse': 0.735278576225926, 'mae': 0.7327677726745605, 'sample': 88}\n",
      "2022-04-27 23:30:19,592 - INFO - computing time: 0:00:01.41\n",
      "2022-04-27 23:30:19,592 - INFO - {'mse': 0.5660643503803499, 'mae': 0.5871112823486329, 'sample': 89}\n",
      "2022-04-27 23:30:20,822 - INFO - computing time: 0:00:01.23\n",
      "2022-04-27 23:30:20,822 - INFO - {'mse': 0.7849491612878126, 'mae': 0.751593041419983, 'sample': 90}\n",
      "2022-04-27 23:30:22,177 - INFO - computing time: 0:00:01.35\n",
      "2022-04-27 23:30:22,177 - INFO - {'mse': 1.7085907050165645, 'mae': 1.0807122945785523, 'sample': 91}\n",
      "2022-04-27 23:30:23,365 - INFO - computing time: 0:00:01.19\n",
      "2022-04-27 23:30:23,366 - INFO - {'mse': 1.5584596082208293, 'mae': 0.894982123374939, 'sample': 92}\n",
      "2022-04-27 23:30:24,778 - INFO - computing time: 0:00:01.41\n",
      "2022-04-27 23:30:24,778 - INFO - {'mse': 1.61071094002142, 'mae': 0.8249877452850342, 'sample': 93}\n",
      "2022-04-27 23:30:25,981 - INFO - computing time: 0:00:01.20\n",
      "2022-04-27 23:30:25,982 - INFO - {'mse': 0.9158878538019962, 'mae': 0.7526249408721923, 'sample': 94}\n",
      "2022-04-27 23:30:27,392 - INFO - computing time: 0:00:01.41\n",
      "2022-04-27 23:30:27,392 - INFO - {'mse': 0.8875784898612323, 'mae': 0.7193597793579102, 'sample': 95}\n",
      "2022-04-27 23:30:28,618 - INFO - computing time: 0:00:01.22\n",
      "2022-04-27 23:30:28,618 - INFO - {'mse': 0.45751162085821306, 'mae': 0.5851187705993652, 'sample': 96}\n",
      "2022-04-27 23:30:29,984 - INFO - computing time: 0:00:01.36\n",
      "2022-04-27 23:30:29,984 - INFO - {'mse': 2.689399016373784, 'mae': 1.249500322341919, 'sample': 97}\n",
      "2022-04-27 23:30:31,180 - INFO - computing time: 0:00:01.19\n",
      "2022-04-27 23:30:31,180 - INFO - {'mse': 1.059415322761987, 'mae': 0.9140601873397827, 'sample': 98}\n",
      "2022-04-27 23:30:32,557 - INFO - computing time: 0:00:01.37\n",
      "2022-04-27 23:30:32,558 - INFO - {'mse': 1.5844753783268573, 'mae': 1.0400094270706177, 'sample': 99}\n",
      "2022-04-27 23:30:33,759 - INFO - computing time: 0:00:01.20\n",
      "2022-04-27 23:30:33,760 - INFO - {'mse': 1.8632425230282934, 'mae': 1.0283170700073243, 'sample': 100}\n",
      "2022-04-27 23:30:35,116 - INFO - computing time: 0:00:01.35\n",
      "2022-04-27 23:30:35,116 - INFO - {'mse': 0.9567850062692003, 'mae': 0.6944071054458618, 'sample': 101}\n",
      "2022-04-27 23:30:36,396 - INFO - computing time: 0:00:01.28\n",
      "2022-04-27 23:30:36,396 - INFO - {'mse': 1.4387488492684326, 'mae': 0.87243492603302, 'sample': 102}\n",
      "2022-04-27 23:30:37,817 - INFO - computing time: 0:00:01.42\n",
      "2022-04-27 23:30:37,818 - INFO - {'mse': 1.3687227388770737, 'mae': 0.9372752904891968, 'sample': 103}\n",
      "2022-04-27 23:30:39,035 - INFO - computing time: 0:00:01.22\n",
      "2022-04-27 23:30:39,036 - INFO - {'mse': 1.6033124594424748, 'mae': 0.9155872821807861, 'sample': 104}\n",
      "2022-04-27 23:30:40,514 - INFO - computing time: 0:00:01.48\n",
      "2022-04-27 23:30:40,515 - INFO - {'mse': 2.216350380626102, 'mae': 1.0210954666137695, 'sample': 105}\n",
      "2022-04-27 23:30:41,716 - INFO - computing time: 0:00:01.20\n",
      "2022-04-27 23:30:41,717 - INFO - {'mse': 0.8812936122462929, 'mae': 0.7509904861450195, 'sample': 106}\n",
      "2022-04-27 23:30:43,092 - INFO - computing time: 0:00:01.37\n",
      "2022-04-27 23:30:43,093 - INFO - {'mse': 2.17739061025772, 'mae': 1.0752439737319945, 'sample': 107}\n",
      "2022-04-27 23:30:44,349 - INFO - computing time: 0:00:01.25\n",
      "2022-04-27 23:30:44,350 - INFO - {'mse': 1.8252935158544346, 'mae': 0.9428756713867188, 'sample': 108}\n",
      "2022-04-27 23:30:45,753 - INFO - computing time: 0:00:01.40\n",
      "2022-04-27 23:30:45,753 - INFO - {'mse': 2.8836190263197694, 'mae': 1.0235595941543578, 'sample': 109}\n",
      "2022-04-27 23:30:46,947 - INFO - computing time: 0:00:01.19\n",
      "2022-04-27 23:30:46,948 - INFO - {'mse': 1.6355579611501923, 'mae': 0.9070595502853394, 'sample': 110}\n",
      "2022-04-27 23:30:48,314 - INFO - computing time: 0:00:01.36\n",
      "2022-04-27 23:30:48,315 - INFO - {'mse': 0.3781399036987068, 'mae': 0.48900041580200193, 'sample': 111}\n",
      "2022-04-27 23:30:49,545 - INFO - computing time: 0:00:01.23\n",
      "2022-04-27 23:30:49,546 - INFO - {'mse': 3.179618487941923, 'mae': 1.1027160167694092, 'sample': 112}\n",
      "2022-04-27 23:30:50,980 - INFO - computing time: 0:00:01.43\n",
      "2022-04-27 23:30:50,981 - INFO - {'mse': 0.7627428009716197, 'mae': 0.7322000741958619, 'sample': 113}\n",
      "2022-04-27 23:30:52,167 - INFO - computing time: 0:00:01.18\n",
      "2022-04-27 23:30:52,168 - INFO - {'mse': 1.3904842782129208, 'mae': 0.8396996974945068, 'sample': 114}\n",
      "2022-04-27 23:30:53,534 - INFO - computing time: 0:00:01.36\n",
      "2022-04-27 23:30:53,534 - INFO - {'mse': 0.419602230913371, 'mae': 0.5902872681617737, 'sample': 115}\n",
      "2022-04-27 23:30:54,729 - INFO - computing time: 0:00:01.19\n",
      "2022-04-27 23:30:54,730 - INFO - {'mse': 2.4458968576729374, 'mae': 1.1065709590911865, 'sample': 116}\n",
      "2022-04-27 23:30:56,112 - INFO - computing time: 0:00:01.38\n",
      "2022-04-27 23:30:56,113 - INFO - {'mse': 1.5784318831664392, 'mae': 0.8596423387527465, 'sample': 117}\n",
      "2022-04-27 23:30:57,311 - INFO - computing time: 0:00:01.20\n",
      "2022-04-27 23:30:57,312 - INFO - {'mse': 0.3891440978263745, 'mae': 0.49606757164001464, 'sample': 118}\n",
      "2022-04-27 23:30:58,750 - INFO - computing time: 0:00:01.44\n",
      "2022-04-27 23:30:58,750 - INFO - {'mse': 0.7383025969880975, 'mae': 0.7461760759353637, 'sample': 119}\n",
      "2022-04-27 23:30:59,992 - INFO - computing time: 0:00:01.24\n",
      "2022-04-27 23:30:59,993 - INFO - {'mse': 0.4174741287262293, 'mae': 0.5747891664505005, 'sample': 120}\n",
      "2022-04-27 23:31:01,367 - INFO - computing time: 0:00:01.37\n",
      "2022-04-27 23:31:01,367 - INFO - {'mse': 1.10544461765885, 'mae': 0.8190771579742432, 'sample': 121}\n",
      "2022-04-27 23:31:02,614 - INFO - computing time: 0:00:01.24\n",
      "2022-04-27 23:31:02,614 - INFO - {'mse': 2.5710359185511606, 'mae': 1.1792520999908447, 'sample': 122}\n",
      "2022-04-27 23:31:03,978 - INFO - computing time: 0:00:01.36\n",
      "2022-04-27 23:31:03,978 - INFO - {'mse': 1.132759873516619, 'mae': 0.761570954322815, 'sample': 123}\n",
      "2022-04-27 23:31:05,178 - INFO - computing time: 0:00:01.20\n",
      "2022-04-27 23:31:05,178 - INFO - {'mse': 0.9273800477379097, 'mae': 0.7377764463424683, 'sample': 124}\n",
      "2022-04-27 23:31:06,608 - INFO - computing time: 0:00:01.43\n",
      "2022-04-27 23:31:06,609 - INFO - {'mse': 1.9008943413745043, 'mae': 1.109061312675476, 'sample': 125}\n",
      "2022-04-27 23:31:07,912 - INFO - computing time: 0:00:01.30\n",
      "2022-04-27 23:31:07,913 - INFO - {'mse': 1.0770215977600741, 'mae': 0.8169693946838379, 'sample': 126}\n",
      "2022-04-27 23:31:09,314 - INFO - computing time: 0:00:01.40\n",
      "2022-04-27 23:31:09,314 - INFO - {'mse': 2.5785242674195104, 'mae': 1.1828819036483764, 'sample': 127}\n",
      "2022-04-27 23:31:10,617 - INFO - computing time: 0:00:01.30\n",
      "2022-04-27 23:31:10,618 - INFO - {'mse': 1.0955269190540662, 'mae': 0.8048683643341065, 'sample': 128}\n",
      "2022-04-27 23:31:12,006 - INFO - computing time: 0:00:01.39\n",
      "2022-04-27 23:31:12,007 - INFO - {'mse': 0.9813040238104407, 'mae': 0.744316554069519, 'sample': 129}\n",
      "2022-04-27 23:31:13,178 - INFO - computing time: 0:00:01.17\n",
      "2022-04-27 23:31:13,179 - INFO - {'mse': 2.0584032285492753, 'mae': 0.9504669666290283, 'sample': 130}\n",
      "2022-04-27 23:31:14,592 - INFO - computing time: 0:00:01.41\n",
      "2022-04-27 23:31:14,592 - INFO - {'mse': 1.3592506161526672, 'mae': 0.8975127696990967, 'sample': 131}\n",
      "2022-04-27 23:31:15,804 - INFO - computing time: 0:00:01.21\n",
      "2022-04-27 23:31:15,804 - INFO - {'mse': 1.0110123335333867, 'mae': 0.8948739767074585, 'sample': 132}\n",
      "2022-04-27 23:31:17,191 - INFO - computing time: 0:00:01.38\n",
      "2022-04-27 23:31:17,191 - INFO - {'mse': 1.588016715123223, 'mae': 0.956550908088684, 'sample': 133}\n",
      "2022-04-27 23:31:18,403 - INFO - computing time: 0:00:01.21\n",
      "2022-04-27 23:31:18,404 - INFO - {'mse': 0.7094178918341811, 'mae': 0.7500325918197632, 'sample': 134}\n",
      "2022-04-27 23:31:19,789 - INFO - computing time: 0:00:01.38\n",
      "2022-04-27 23:31:19,789 - INFO - {'mse': 4.556369680295285, 'mae': 1.6184411287307738, 'sample': 135}\n",
      "2022-04-27 23:31:20,991 - INFO - computing time: 0:00:01.20\n",
      "2022-04-27 23:31:20,992 - INFO - {'mse': 2.1721599867167414, 'mae': 1.0367690801620484, 'sample': 136}\n",
      "2022-04-27 23:31:22,355 - INFO - computing time: 0:00:01.36\n",
      "2022-04-27 23:31:22,356 - INFO - {'mse': 3.4811200024899733, 'mae': 1.462605929374695, 'sample': 137}\n",
      "2022-04-27 23:31:23,582 - INFO - computing time: 0:00:01.22\n",
      "2022-04-27 23:31:23,582 - INFO - {'mse': 0.9301286178600435, 'mae': 0.8424991130828857, 'sample': 138}\n",
      "2022-04-27 23:31:24,973 - INFO - computing time: 0:00:01.39\n",
      "2022-04-27 23:31:24,973 - INFO - {'mse': 0.7124491765199196, 'mae': 0.61912841796875, 'sample': 139}\n",
      "2022-04-27 23:31:26,208 - INFO - computing time: 0:00:01.23\n",
      "2022-04-27 23:31:26,209 - INFO - {'mse': 0.5045586150614099, 'mae': 0.5632652759552002, 'sample': 140}\n",
      "2022-04-27 23:31:27,584 - INFO - computing time: 0:00:01.37\n",
      "2022-04-27 23:31:27,585 - INFO - {'mse': 0.7120036399822041, 'mae': 0.7604533553123474, 'sample': 141}\n",
      "2022-04-27 23:31:28,806 - INFO - computing time: 0:00:01.22\n",
      "2022-04-27 23:31:28,807 - INFO - {'mse': 1.1212146528770233, 'mae': 0.8584117650985718, 'sample': 142}\n",
      "2022-04-27 23:31:30,166 - INFO - computing time: 0:00:01.36\n",
      "2022-04-27 23:31:30,167 - INFO - {'mse': 0.8521345475276576, 'mae': 0.7989580154418945, 'sample': 143}\n",
      "2022-04-27 23:31:31,337 - INFO - computing time: 0:00:01.17\n",
      "2022-04-27 23:31:31,337 - INFO - {'mse': 4.46117596843937, 'mae': 1.4396196961402894, 'sample': 144}\n",
      "2022-04-27 23:31:32,709 - INFO - computing time: 0:00:01.37\n",
      "2022-04-27 23:31:32,710 - INFO - {'mse': 1.5236502419029818, 'mae': 0.8266607522964478, 'sample': 145}\n",
      "2022-04-27 23:31:33,950 - INFO - computing time: 0:00:01.24\n",
      "2022-04-27 23:31:33,951 - INFO - {'mse': 0.30395820864451933, 'mae': 0.4057753562927246, 'sample': 146}\n",
      "2022-04-27 23:31:35,402 - INFO - computing time: 0:00:01.45\n",
      "2022-04-27 23:31:35,403 - INFO - {'mse': 1.0438293737735151, 'mae': 0.8458714604377746, 'sample': 147}\n",
      "2022-04-27 23:31:36,601 - INFO - computing time: 0:00:01.20\n",
      "2022-04-27 23:31:36,602 - INFO - {'mse': 1.122346389001865, 'mae': 0.9466277360916138, 'sample': 148}\n",
      "2022-04-27 23:31:37,998 - INFO - computing time: 0:00:01.39\n",
      "2022-04-27 23:31:37,999 - INFO - {'mse': 0.7197973352946292, 'mae': 0.5983474254608154, 'sample': 149}\n",
      "2022-04-27 23:31:39,280 - INFO - computing time: 0:00:01.28\n",
      "2022-04-27 23:31:39,280 - INFO - {'mse': 3.3202162313488826, 'mae': 1.4047252416610718, 'sample': 150}\n",
      "2022-04-27 23:31:40,647 - INFO - computing time: 0:00:01.36\n",
      "2022-04-27 23:31:40,647 - INFO - {'mse': 4.85601137361777, 'mae': 1.3699763059616088, 'sample': 151}\n",
      "2022-04-27 23:31:41,835 - INFO - computing time: 0:00:01.19\n",
      "2022-04-27 23:31:41,836 - INFO - {'mse': 2.862698173566963, 'mae': 1.3185080766677857, 'sample': 152}\n",
      "2022-04-27 23:31:43,195 - INFO - computing time: 0:00:01.36\n",
      "2022-04-27 23:31:43,195 - INFO - {'mse': 2.3883724305369016, 'mae': 1.194057559967041, 'sample': 153}\n",
      "2022-04-27 23:31:44,387 - INFO - computing time: 0:00:01.19\n",
      "2022-04-27 23:31:44,388 - INFO - {'mse': 2.4207158506668462, 'mae': 1.0452394247055055, 'sample': 154}\n",
      "2022-04-27 23:31:45,797 - INFO - computing time: 0:00:01.41\n",
      "2022-04-27 23:31:45,797 - INFO - {'mse': 0.6598379058927492, 'mae': 0.6858273267745971, 'sample': 155}\n",
      "2022-04-27 23:31:47,101 - INFO - computing time: 0:00:01.30\n",
      "2022-04-27 23:31:47,102 - INFO - {'mse': 0.2852178234307985, 'mae': 0.4461399555206299, 'sample': 156}\n",
      "2022-04-27 23:31:48,481 - INFO - computing time: 0:00:01.38\n",
      "2022-04-27 23:31:48,481 - INFO - {'mse': 0.4262877852381678, 'mae': 0.5500588655471802, 'sample': 157}\n",
      "2022-04-27 23:31:49,679 - INFO - computing time: 0:00:01.20\n",
      "2022-04-27 23:31:49,680 - INFO - {'mse': 0.9768866780348902, 'mae': 0.8295592069625854, 'sample': 158}\n",
      "2022-04-27 23:31:51,089 - INFO - computing time: 0:00:01.41\n",
      "2022-04-27 23:31:51,090 - INFO - {'mse': 1.6069706609552952, 'mae': 0.9209544420242309, 'sample': 159}\n",
      "2022-04-27 23:31:52,291 - INFO - computing time: 0:00:01.20\n",
      "2022-04-27 23:31:52,292 - INFO - {'mse': 1.0104490684668577, 'mae': 0.8349488735198974, 'sample': 160}\n",
      "2022-04-27 23:31:53,707 - INFO - computing time: 0:00:01.41\n",
      "2022-04-27 23:31:53,708 - INFO - {'mse': 1.309209227624598, 'mae': 0.6182170629501342, 'sample': 161}\n",
      "2022-04-27 23:31:54,930 - INFO - computing time: 0:00:01.22\n",
      "2022-04-27 23:31:54,931 - INFO - {'mse': 1.4080944019660477, 'mae': 0.9752184867858886, 'sample': 162}\n",
      "2022-04-27 23:31:56,308 - INFO - computing time: 0:00:01.38\n",
      "2022-04-27 23:31:56,308 - INFO - {'mse': 3.2687172178638377, 'mae': 1.3030837297439575, 'sample': 163}\n",
      "2022-04-27 23:31:57,496 - INFO - computing time: 0:00:01.19\n",
      "2022-04-27 23:31:57,497 - INFO - {'mse': 1.3763505459455245, 'mae': 0.9870320320129394, 'sample': 164}\n",
      "2022-04-27 23:31:58,866 - INFO - computing time: 0:00:01.37\n",
      "2022-04-27 23:31:58,867 - INFO - {'mse': 3.011381095733685, 'mae': 1.088315987586975, 'sample': 165}\n",
      "2022-04-27 23:32:00,078 - INFO - computing time: 0:00:01.21\n",
      "2022-04-27 23:32:00,079 - INFO - {'mse': 0.8131653513912397, 'mae': 0.6646138668060303, 'sample': 166}\n",
      "2022-04-27 23:32:01,470 - INFO - computing time: 0:00:01.39\n",
      "2022-04-27 23:32:01,471 - INFO - {'mse': 2.01287063169915, 'mae': 0.9295986652374267, 'sample': 167}\n",
      "2022-04-27 23:32:02,664 - INFO - computing time: 0:00:01.19\n",
      "2022-04-27 23:32:02,665 - INFO - {'mse': 0.8419025255889381, 'mae': 0.7411622762680053, 'sample': 168}\n",
      "2022-04-27 23:32:04,054 - INFO - computing time: 0:00:01.39\n",
      "2022-04-27 23:32:04,055 - INFO - {'mse': 1.0216654782049488, 'mae': 0.865542721748352, 'sample': 169}\n",
      "2022-04-27 23:32:05,248 - INFO - computing time: 0:00:01.19\n",
      "2022-04-27 23:32:05,249 - INFO - {'mse': 0.6679273429222861, 'mae': 0.6918779611587524, 'sample': 170}\n",
      "2022-04-27 23:32:06,680 - INFO - computing time: 0:00:01.43\n",
      "2022-04-27 23:32:06,681 - INFO - {'mse': 1.9058709579098831, 'mae': 0.922290849685669, 'sample': 171}\n",
      "2022-04-27 23:32:07,878 - INFO - computing time: 0:00:01.20\n",
      "2022-04-27 23:32:07,879 - INFO - {'mse': 1.0445675778779389, 'mae': 0.8003568887710572, 'sample': 172}\n",
      "2022-04-27 23:32:09,260 - INFO - computing time: 0:00:01.38\n",
      "2022-04-27 23:32:09,260 - INFO - {'mse': 2.1891389898620615, 'mae': 1.0077287435531617, 'sample': 173}\n",
      "2022-04-27 23:32:10,577 - INFO - computing time: 0:00:01.31\n",
      "2022-04-27 23:32:10,577 - INFO - {'mse': 0.6217744879120517, 'mae': 0.6935948610305787, 'sample': 174}\n",
      "2022-04-27 23:32:11,949 - INFO - computing time: 0:00:01.37\n",
      "2022-04-27 23:32:11,949 - INFO - {'mse': 1.1999694584345888, 'mae': 0.6837537288665771, 'sample': 175}\n",
      "2022-04-27 23:32:13,166 - INFO - computing time: 0:00:01.21\n",
      "2022-04-27 23:32:13,167 - INFO - {'mse': 2.456840691636762, 'mae': 1.1161086559295654, 'sample': 176}\n",
      "2022-04-27 23:32:14,539 - INFO - computing time: 0:00:01.37\n",
      "2022-04-27 23:32:14,540 - INFO - {'mse': 1.8361247478580425, 'mae': 0.8498592615127564, 'sample': 177}\n",
      "2022-04-27 23:32:15,726 - INFO - computing time: 0:00:01.18\n",
      "2022-04-27 23:32:15,727 - INFO - {'mse': 1.3949661775508388, 'mae': 0.8835893154144288, 'sample': 178}\n",
      "2022-04-27 23:32:17,126 - INFO - computing time: 0:00:01.40\n",
      "2022-04-27 23:32:17,127 - INFO - {'mse': 0.5730590135916274, 'mae': 0.5119292378425598, 'sample': 179}\n",
      "2022-04-27 23:32:18,355 - INFO - computing time: 0:00:01.23\n",
      "2022-04-27 23:32:18,356 - INFO - {'mse': 2.6964127930898885, 'mae': 1.1574304819107055, 'sample': 180}\n",
      "2022-04-27 23:32:19,748 - INFO - computing time: 0:00:01.39\n",
      "2022-04-27 23:32:19,748 - INFO - {'mse': 0.2793181425689113, 'mae': 0.448609447479248, 'sample': 181}\n",
      "2022-04-27 23:32:20,967 - INFO - computing time: 0:00:01.22\n",
      "2022-04-27 23:32:20,967 - INFO - {'mse': 1.298476933976184, 'mae': 0.8401975870132447, 'sample': 182}\n",
      "2022-04-27 23:32:22,410 - INFO - computing time: 0:00:01.44\n",
      "2022-04-27 23:32:22,411 - INFO - {'mse': 0.742418410381714, 'mae': 0.5903696298599244, 'sample': 183}\n",
      "2022-04-27 23:32:23,637 - INFO - computing time: 0:00:01.22\n",
      "2022-04-27 23:32:23,637 - INFO - {'mse': 1.3816895611301845, 'mae': 0.9030930280685425, 'sample': 184}\n",
      "2022-04-27 23:32:25,044 - INFO - computing time: 0:00:01.41\n",
      "2022-04-27 23:32:25,045 - INFO - {'mse': 0.7208143824901242, 'mae': 0.6769681215286255, 'sample': 185}\n",
      "2022-04-27 23:32:26,242 - INFO - computing time: 0:00:01.19\n",
      "2022-04-27 23:32:26,243 - INFO - {'mse': 0.6730024708456483, 'mae': 0.6471060037612915, 'sample': 186}\n",
      "2022-04-27 23:32:27,649 - INFO - computing time: 0:00:01.40\n",
      "2022-04-27 23:32:27,650 - INFO - {'mse': 1.2175664286976258, 'mae': 0.7170074939727783, 'sample': 187}\n",
      "2022-04-27 23:32:28,848 - INFO - computing time: 0:00:01.20\n",
      "2022-04-27 23:32:28,848 - INFO - {'mse': 2.90925718438931, 'mae': 1.195957851409912, 'sample': 188}\n",
      "2022-04-27 23:32:30,244 - INFO - computing time: 0:00:01.39\n",
      "2022-04-27 23:32:30,244 - INFO - {'mse': 1.100458042469603, 'mae': 0.9173047780990601, 'sample': 189}\n",
      "2022-04-27 23:32:31,476 - INFO - computing time: 0:00:01.23\n",
      "2022-04-27 23:32:31,477 - INFO - {'mse': 0.6534985293588249, 'mae': 0.6411904573440552, 'sample': 190}\n",
      "2022-04-27 23:32:32,844 - INFO - computing time: 0:00:01.37\n",
      "2022-04-27 23:32:32,845 - INFO - {'mse': 0.8216112427371683, 'mae': 0.6813083410263061, 'sample': 191}\n",
      "2022-04-27 23:32:34,037 - INFO - computing time: 0:00:01.19\n",
      "2022-04-27 23:32:34,038 - INFO - {'mse': 0.5600543235692385, 'mae': 0.5950788021087646, 'sample': 192}\n",
      "2022-04-27 23:32:35,556 - INFO - computing time: 0:00:01.52\n",
      "2022-04-27 23:32:35,557 - INFO - {'mse': 1.2468512313856592, 'mae': 0.7592331647872925, 'sample': 193}\n",
      "2022-04-27 23:32:36,757 - INFO - computing time: 0:00:01.20\n",
      "2022-04-27 23:32:36,758 - INFO - {'mse': 0.42520669168447967, 'mae': 0.5158381462097168, 'sample': 194}\n",
      "2022-04-27 23:32:38,122 - INFO - computing time: 0:00:01.36\n",
      "2022-04-27 23:32:38,123 - INFO - {'mse': 1.2207952622017273, 'mae': 0.827533483505249, 'sample': 195}\n",
      "2022-04-27 23:32:39,382 - INFO - computing time: 0:00:01.26\n",
      "2022-04-27 23:32:39,383 - INFO - {'mse': 1.4224477531648518, 'mae': 0.9039183616638183, 'sample': 196}\n",
      "2022-04-27 23:32:40,746 - INFO - computing time: 0:00:01.36\n",
      "2022-04-27 23:32:40,746 - INFO - {'mse': 0.7399316773880628, 'mae': 0.6626214504241943, 'sample': 197}\n",
      "2022-04-27 23:32:41,986 - INFO - computing time: 0:00:01.24\n",
      "2022-04-27 23:32:41,987 - INFO - {'mse': 0.871686449488078, 'mae': 0.6345125436782837, 'sample': 198}\n",
      "2022-04-27 23:32:43,344 - INFO - computing time: 0:00:01.35\n",
      "2022-04-27 23:32:43,345 - INFO - {'mse': 0.6446417561483486, 'mae': 0.695496654510498, 'sample': 199}\n"
     ]
    }
   ],
   "source": [
    "n_samples   = 200\n",
    "n_neighbors = 5000\n",
    "batch_size  = 10\n",
    "\n",
    "metrics_log = []\n",
    "for sample in range(n_samples):\n",
    "    x_batch, y_batch = batch_sample(interactions, batch_size)\n",
    "\n",
    "    summary = predictor.evaluate(\n",
    "        x_batch,\n",
    "        y_batch,\n",
    "        n_neighbors,\n",
    "        metrics_fn = {\n",
    "            'mse': mean_squared_error,\n",
    "            'mae': mean_absolute_error\n",
    "        }\n",
    "    )\n",
    "    summary['sample'] = sample\n",
    "\n",
    "    logging.info(summary)\n",
    "    metrics_log.append(summary)"
   ]
  },
  {
   "cell_type": "code",
   "execution_count": 139,
   "id": "e9d2cbac-9559-43a6-8d99-f8b491ac5d42",
   "metadata": {},
   "outputs": [
    {
     "name": "stdout",
     "output_type": "stream",
     "text": [
      "\n",
      "Range: (0.1845263175238813, 4.85601137361777)\n",
      "\n"
     ]
    },
    {
     "data": {
      "text/html": [
       "<pre style=\"white-space:pre;overflow-x:auto;line-height:normal;font-family:Menlo,'DejaVu Sans Mono',consolas,'Courier New',monospace\"><span style=\"font-weight: bold\">&lt;</span><span style=\"color: #ff00ff; text-decoration-color: #ff00ff; font-weight: bold\">Figure</span><span style=\"color: #000000; text-decoration-color: #000000\"> size 108</span><span style=\"color: #008080; text-decoration-color: #008080; font-weight: bold\">0x288</span><span style=\"color: #000000; text-decoration-color: #000000\"> with </span><span style=\"color: #008080; text-decoration-color: #008080; font-weight: bold\">2</span><span style=\"color: #000000; text-decoration-color: #000000\"> Axes</span><span style=\"font-weight: bold\">&gt;</span>\n",
       "</pre>\n"
      ],
      "text/plain": [
       "\u001b[1m<\u001b[0m\u001b[1;95mFigure\u001b[0m\u001b[39m size 108\u001b[0m\u001b[1;36m0x288\u001b[0m\u001b[39m with \u001b[0m\u001b[1;36m2\u001b[0m\u001b[39m Axes\u001b[0m\u001b[1m>\u001b[0m\n"
      ]
     },
     "metadata": {},
     "output_type": "display_data"
    },
    {
     "data": {
      "image/png": "[encoded data removed]"
     },
     "metadata": {},
     "output_type": "display_data"
    },
    {
     "name": "stdout",
     "output_type": "stream",
     "text": [
      "\n",
      "Metrics:\n",
      "\n"
     ]
    },
    {
     "data": {
      "text/html": [
       "<div>\n",
       "<style scoped>\n",
       "    .dataframe tbody tr th:only-of-type {\n",
       "        vertical-align: middle;\n",
       "    }\n",
       "\n",
       "    .dataframe tbody tr th {\n",
       "        vertical-align: top;\n",
       "    }\n",
       "\n",
       "    .dataframe thead th {\n",
       "        text-align: right;\n",
       "    }\n",
       "</style>\n",
       "<table border=\"1\" class=\"dataframe\">\n",
       "  <thead>\n",
       "    <tr style=\"text-align: right;\">\n",
       "      <th></th>\n",
       "      <th>mse</th>\n",
       "    </tr>\n",
       "  </thead>\n",
       "  <tbody>\n",
       "    <tr>\n",
       "      <th>count</th>\n",
       "      <td>200.000000</td>\n",
       "    </tr>\n",
       "    <tr>\n",
       "      <th>mean</th>\n",
       "      <td>1.460437</td>\n",
       "    </tr>\n",
       "    <tr>\n",
       "      <th>std</th>\n",
       "      <td>0.998643</td>\n",
       "    </tr>\n",
       "    <tr>\n",
       "      <th>min</th>\n",
       "      <td>0.184526</td>\n",
       "    </tr>\n",
       "    <tr>\n",
       "      <th>25%</th>\n",
       "      <td>0.711357</td>\n",
       "    </tr>\n",
       "    <tr>\n",
       "      <th>50%</th>\n",
       "      <td>1.135464</td>\n",
       "    </tr>\n",
       "    <tr>\n",
       "      <th>75%</th>\n",
       "      <td>1.902138</td>\n",
       "    </tr>\n",
       "    <tr>\n",
       "      <th>max</th>\n",
       "      <td>4.856011</td>\n",
       "    </tr>\n",
       "  </tbody>\n",
       "</table>\n",
       "</div>"
      ]
     },
     "metadata": {},
     "output_type": "display_data"
    },
    {
     "name": "stdout",
     "output_type": "stream",
     "text": [
      "\n",
      "Range: (0.3334479570388794, 1.6184411287307738)\n",
      "\n"
     ]
    },
    {
     "data": {
      "text/html": [
       "<pre style=\"white-space:pre;overflow-x:auto;line-height:normal;font-family:Menlo,'DejaVu Sans Mono',consolas,'Courier New',monospace\"><span style=\"font-weight: bold\">&lt;</span><span style=\"color: #ff00ff; text-decoration-color: #ff00ff; font-weight: bold\">Figure</span><span style=\"color: #000000; text-decoration-color: #000000\"> size 108</span><span style=\"color: #008080; text-decoration-color: #008080; font-weight: bold\">0x288</span><span style=\"color: #000000; text-decoration-color: #000000\"> with </span><span style=\"color: #008080; text-decoration-color: #008080; font-weight: bold\">2</span><span style=\"color: #000000; text-decoration-color: #000000\"> Axes</span><span style=\"font-weight: bold\">&gt;</span>\n",
       "</pre>\n"
      ],
      "text/plain": [
       "\u001b[1m<\u001b[0m\u001b[1;95mFigure\u001b[0m\u001b[39m size 108\u001b[0m\u001b[1;36m0x288\u001b[0m\u001b[39m with \u001b[0m\u001b[1;36m2\u001b[0m\u001b[39m Axes\u001b[0m\u001b[1m>\u001b[0m\n"
      ]
     },
     "metadata": {},
     "output_type": "display_data"
    },
    {
     "data": {
      "image/png": "[encoded data removed]"
     },
     "metadata": {},
     "output_type": "display_data"
    },
    {
     "name": "stdout",
     "output_type": "stream",
     "text": [
      "\n",
      "Metrics:\n",
      "\n"
     ]
    },
    {
     "data": {
      "text/html": [
       "<div>\n",
       "<style scoped>\n",
       "    .dataframe tbody tr th:only-of-type {\n",
       "        vertical-align: middle;\n",
       "    }\n",
       "\n",
       "    .dataframe tbody tr th {\n",
       "        vertical-align: top;\n",
       "    }\n",
       "\n",
       "    .dataframe thead th {\n",
       "        text-align: right;\n",
       "    }\n",
       "</style>\n",
       "<table border=\"1\" class=\"dataframe\">\n",
       "  <thead>\n",
       "    <tr style=\"text-align: right;\">\n",
       "      <th></th>\n",
       "      <th>mae</th>\n",
       "    </tr>\n",
       "  </thead>\n",
       "  <tbody>\n",
       "    <tr>\n",
       "      <th>count</th>\n",
       "      <td>200.000000</td>\n",
       "    </tr>\n",
       "    <tr>\n",
       "      <th>mean</th>\n",
       "      <td>0.855318</td>\n",
       "    </tr>\n",
       "    <tr>\n",
       "      <th>std</th>\n",
       "      <td>0.258398</td>\n",
       "    </tr>\n",
       "    <tr>\n",
       "      <th>min</th>\n",
       "      <td>0.333448</td>\n",
       "    </tr>\n",
       "    <tr>\n",
       "      <th>25%</th>\n",
       "      <td>0.652438</td>\n",
       "    </tr>\n",
       "    <tr>\n",
       "      <th>50%</th>\n",
       "      <td>0.827097</td>\n",
       "    </tr>\n",
       "    <tr>\n",
       "      <th>75%</th>\n",
       "      <td>1.024749</td>\n",
       "    </tr>\n",
       "    <tr>\n",
       "      <th>max</th>\n",
       "      <td>1.618441</td>\n",
       "    </tr>\n",
       "  </tbody>\n",
       "</table>\n",
       "</div>"
      ]
     },
     "metadata": {},
     "output_type": "display_data"
    }
   ],
   "source": [
    "metrics = pd.DataFrame(metrics_log)\n",
    "\n",
    "for name in metrics.columns[:2]:\n",
    "    pl.l_flat_size()\n",
    "    pl.describe_num_var(metrics, name, bins=10)"
   ]
  }
 ],
 "metadata": {
  "kernelspec": {
   "display_name": "Python 3 (ipykernel)",
   "language": "python",
   "name": "python3"
  },
  "language_info": {
   "codemirror_mode": {
    "name": "ipython",
    "version": 3
   },
   "file_extension": ".py",
   "mimetype": "text/x-python",
   "name": "python",
   "nbconvert_exporter": "python",
   "pygments_lexer": "ipython3",
   "version": "3.10.4"
  },
  "widgets": {
   "application/vnd.jupyter.widget-state+json": {
    "state": {},
    "version_major": 2,
    "version_minor": 0
   }
  }
 },
 "nbformat": 4,
 "nbformat_minor": 5
}
