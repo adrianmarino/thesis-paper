{
 "cells": [
  {
   "cell_type": "markdown",
   "id": "0417277b-47df-4113-a7b3-8f960db06f1d",
   "metadata": {
    "tags": []
   },
   "source": [
    "# Generalized Matrix Factorization (GMF): Model Loader"
   ]
  },
  {
   "cell_type": "code",
   "execution_count": 1,
   "id": "7cca1e2c-7e8c-4584-8795-b0335a218415",
   "metadata": {},
   "outputs": [],
   "source": [
    "%load_ext autoreload\n",
    "%autoreload 2"
   ]
  },
  {
   "cell_type": "code",
   "execution_count": 2,
   "id": "ec41dd6f-a10c-46d3-b7c5-dfe48749fd35",
   "metadata": {},
   "outputs": [],
   "source": [
    "BASE_PATH = '../..'\n",
    "LIB_PATH  = f'{BASE_PATH}/lib'"
   ]
  },
  {
   "cell_type": "code",
   "execution_count": 3,
   "id": "f98e7bf4-f41a-43f6-b7b7-a991d00f82de",
   "metadata": {},
   "outputs": [
    {
     "name": "stderr",
     "output_type": "stream",
     "text": [
      "2023-08-28 22:33:44.932810: I tensorflow/core/platform/cpu_feature_guard.cc:182] This TensorFlow binary is optimized to use available CPU instructions in performance-critical operations.\n",
      "To enable the following instructions: AVX2 FMA, in other operations, rebuild TensorFlow with the appropriate compiler flags.\n"
     ]
    },
    {
     "data": {
      "text/plain": [
       "<Figure size 640x480 with 0 Axes>"
      ]
     },
     "metadata": {},
     "output_type": "display_data"
    }
   ],
   "source": [
    "import sys\n",
    "sys.path.append(LIB_PATH)\n",
    "\n",
    "import pandas as pd\n",
    "from bunch import Bunch\n",
    "\n",
    "import torch\n",
    "import pytorch_common\n",
    "import pytorch_common.util as pu\n",
    "\n",
    "import model as ml\n",
    "import service as srv\n",
    "\n",
    "import util as ut"
   ]
  },
  {
   "cell_type": "markdown",
   "id": "40c1da33-a8da-47c9-b174-0b0885b05b50",
   "metadata": {},
   "source": [
    "## Setup"
   ]
  },
  {
   "cell_type": "code",
   "execution_count": 4,
   "id": "e60a3838-9787-411d-b9f1-8a942321cbb1",
   "metadata": {},
   "outputs": [
    {
     "data": {
      "text/plain": [
       "<RootLogger root (INFO)>"
      ]
     },
     "execution_count": 4,
     "metadata": {},
     "output_type": "execute_result"
    }
   ],
   "source": [
    "pu.LoggerBuilder().on_console().build()"
   ]
  },
  {
   "cell_type": "code",
   "execution_count": 5,
   "id": "87426f62-314a-4e1e-9f9d-d9bb66bf416e",
   "metadata": {
    "tags": []
   },
   "outputs": [
    {
     "data": {
      "text/plain": [
       "'0.3.2'"
      ]
     },
     "execution_count": 5,
     "metadata": {},
     "output_type": "execute_result"
    }
   ],
   "source": [
    "pytorch_common.__version__"
   ]
  },
  {
   "cell_type": "code",
   "execution_count": 6,
   "id": "e98359cc-eba3-4501-81fe-331341cc3c43",
   "metadata": {
    "tags": []
   },
   "outputs": [
    {
     "data": {
      "text/plain": [
       "'2.0.1+cu118'"
      ]
     },
     "execution_count": 6,
     "metadata": {},
     "output_type": "execute_result"
    }
   ],
   "source": [
    "torch.__version__"
   ]
  },
  {
   "cell_type": "code",
   "execution_count": 7,
   "id": "9fd7574f-043a-4fc3-8ab8-bfd55b6a92d8",
   "metadata": {},
   "outputs": [
    {
     "data": {
      "text/plain": [
       "(device(type='cuda', index=0), True)"
      ]
     },
     "execution_count": 7,
     "metadata": {},
     "output_type": "execute_result"
    }
   ],
   "source": [
    "pu.set_device_name('gpu')\n",
    "pu.get_device(), torch.cuda.is_available()"
   ]
  },
  {
   "cell_type": "code",
   "execution_count": 8,
   "id": "b5fb890c-e080-4efc-9fc1-08921ae2465f",
   "metadata": {},
   "outputs": [],
   "source": [
    "ut.set_seed(42)"
   ]
  },
  {
   "cell_type": "markdown",
   "id": "c81ebd42-69d1-4c70-86bd-21fdf655ea17",
   "metadata": {
    "tags": []
   },
   "source": [
    "## Definicion del modelo"
   ]
  },
  {
   "cell_type": "code",
   "execution_count": 9,
   "id": "12fbdc62-15a2-46e2-9fda-df4fcc940cbb",
   "metadata": {
    "tags": []
   },
   "outputs": [],
   "source": [
    "model_loader = srv.GMFLoader(\n",
    "    weights_path = f'{BASE_PATH}/weights',\n",
    "    metrics_path = f'{BASE_PATH}/metrics/gmf',\n",
    "    tmp_path     = f'{BASE_PATH}/tmp'\n",
    ")\n",
    "\n",
    "service = srv.ModulePredictionService(model_loader)"
   ]
  },
  {
   "cell_type": "code",
   "execution_count": 1,
   "id": "efbb64be-5d34-42fa-b443-0b7af39c5ea9",
   "metadata": {},
   "outputs": [
    {
     "ename": "NameError",
     "evalue": "name 'pd' is not defined",
     "output_type": "error",
     "traceback": [
      "\u001b[0;31m---------------------------------------------------------------------------\u001b[0m",
      "\u001b[0;31mNameError\u001b[0m                                 Traceback (most recent call last)",
      "Cell \u001b[0;32mIn[1], line 1\u001b[0m\n\u001b[0;32m----> 1\u001b[0m dev_set  \u001b[38;5;241m=\u001b[39m \u001b[43mpd\u001b[49m\u001b[38;5;241m.\u001b[39mread_json(\u001b[38;5;124m\"\u001b[39m\u001b[38;5;124m/var/tmp/rec-sys-client/train_interactions.json\u001b[39m\u001b[38;5;124m\"\u001b[39m)\n\u001b[1;32m      2\u001b[0m test_set \u001b[38;5;241m=\u001b[39m pd\u001b[38;5;241m.\u001b[39mread_json(\u001b[38;5;124m\"\u001b[39m\u001b[38;5;124m/var/tmp/rec-sys-client/test_interactions.json\u001b[39m\u001b[38;5;124m\"\u001b[39m)\n",
      "\u001b[0;31mNameError\u001b[0m: name 'pd' is not defined"
     ]
    }
   ],
   "source": [
    "dev_set  = pd.read_json(\"/var/tmp/rec-sys-client/train_interactions.json\")\n",
    "test_set = pd.read_json(\"/var/tmp/rec-sys-client/test_interactions.json\")"
   ]
  },
  {
   "cell_type": "code",
   "execution_count": 11,
   "id": "aa06ca05-033f-4eff-8690-16e8ab78dffa",
   "metadata": {},
   "outputs": [
    {
     "name": "stderr",
     "output_type": "stream",
     "text": [
      "2023-08-28 22:33:45,798 - INFO - Waiting 180 minutes to change interactions.\n"
     ]
    }
   ],
   "source": [
    "test_set = service.predict(dev_set, test_set)"
   ]
  },
  {
   "cell_type": "code",
   "execution_count": 12,
   "id": "7a745cee-cf1b-4c0c-9196-3f7dcee7276e",
   "metadata": {
    "tags": []
   },
   "outputs": [
    {
     "data": {
      "text/html": [
       "<div>\n",
       "<style scoped>\n",
       "    .dataframe tbody tr th:only-of-type {\n",
       "        vertical-align: middle;\n",
       "    }\n",
       "\n",
       "    .dataframe tbody tr th {\n",
       "        vertical-align: top;\n",
       "    }\n",
       "\n",
       "    .dataframe thead th {\n",
       "        text-align: right;\n",
       "    }\n",
       "</style>\n",
       "<table border=\"1\" class=\"dataframe\">\n",
       "  <thead>\n",
       "    <tr style=\"text-align: right;\">\n",
       "      <th></th>\n",
       "      <th>user_seq</th>\n",
       "      <th>item_seq</th>\n",
       "      <th>rating</th>\n",
       "      <th>rating_prediction</th>\n",
       "    </tr>\n",
       "  </thead>\n",
       "  <tbody>\n",
       "    <tr>\n",
       "      <th>0</th>\n",
       "      <td>0</td>\n",
       "      <td>74</td>\n",
       "      <td>0.0</td>\n",
       "      <td>3.191029</td>\n",
       "    </tr>\n",
       "    <tr>\n",
       "      <th>1</th>\n",
       "      <td>0</td>\n",
       "      <td>75</td>\n",
       "      <td>0.0</td>\n",
       "      <td>2.971690</td>\n",
       "    </tr>\n",
       "    <tr>\n",
       "      <th>2</th>\n",
       "      <td>0</td>\n",
       "      <td>76</td>\n",
       "      <td>0.0</td>\n",
       "      <td>3.110729</td>\n",
       "    </tr>\n",
       "    <tr>\n",
       "      <th>3</th>\n",
       "      <td>0</td>\n",
       "      <td>77</td>\n",
       "      <td>0.0</td>\n",
       "      <td>2.738538</td>\n",
       "    </tr>\n",
       "    <tr>\n",
       "      <th>4</th>\n",
       "      <td>0</td>\n",
       "      <td>78</td>\n",
       "      <td>0.0</td>\n",
       "      <td>3.612535</td>\n",
       "    </tr>\n",
       "    <tr>\n",
       "      <th>...</th>\n",
       "      <td>...</td>\n",
       "      <td>...</td>\n",
       "      <td>...</td>\n",
       "      <td>...</td>\n",
       "    </tr>\n",
       "    <tr>\n",
       "      <th>148766</th>\n",
       "      <td>462</td>\n",
       "      <td>391</td>\n",
       "      <td>0.0</td>\n",
       "      <td>2.407444</td>\n",
       "    </tr>\n",
       "    <tr>\n",
       "      <th>148767</th>\n",
       "      <td>462</td>\n",
       "      <td>392</td>\n",
       "      <td>0.0</td>\n",
       "      <td>2.435166</td>\n",
       "    </tr>\n",
       "    <tr>\n",
       "      <th>148768</th>\n",
       "      <td>462</td>\n",
       "      <td>393</td>\n",
       "      <td>0.0</td>\n",
       "      <td>2.480141</td>\n",
       "    </tr>\n",
       "    <tr>\n",
       "      <th>148769</th>\n",
       "      <td>462</td>\n",
       "      <td>394</td>\n",
       "      <td>0.0</td>\n",
       "      <td>2.026296</td>\n",
       "    </tr>\n",
       "    <tr>\n",
       "      <th>148770</th>\n",
       "      <td>462</td>\n",
       "      <td>395</td>\n",
       "      <td>0.0</td>\n",
       "      <td>2.359559</td>\n",
       "    </tr>\n",
       "  </tbody>\n",
       "</table>\n",
       "<p>148771 rows × 4 columns</p>\n",
       "</div>"
      ],
      "text/plain": [
       "        user_seq  item_seq  rating  rating_prediction\n",
       "0              0        74     0.0           3.191029\n",
       "1              0        75     0.0           2.971690\n",
       "2              0        76     0.0           3.110729\n",
       "3              0        77     0.0           2.738538\n",
       "4              0        78     0.0           3.612535\n",
       "...          ...       ...     ...                ...\n",
       "148766       462       391     0.0           2.407444\n",
       "148767       462       392     0.0           2.435166\n",
       "148768       462       393     0.0           2.480141\n",
       "148769       462       394     0.0           2.026296\n",
       "148770       462       395     0.0           2.359559\n",
       "\n",
       "[148771 rows x 4 columns]"
      ]
     },
     "execution_count": 12,
     "metadata": {},
     "output_type": "execute_result"
    }
   ],
   "source": [
    "test_set"
   ]
  }
 ],
 "metadata": {
  "kernelspec": {
   "display_name": "Python 3 (ipykernel)",
   "language": "python",
   "name": "python3"
  },
  "language_info": {
   "codemirror_mode": {
    "name": "ipython",
    "version": 3
   },
   "file_extension": ".py",
   "mimetype": "text/x-python",
   "name": "python",
   "nbconvert_exporter": "python",
   "pygments_lexer": "ipython3",
   "version": "3.10.12"
  },
  "widgets": {
   "application/vnd.jupyter.widget-state+json": {
    "state": {},
    "version_major": 2,
    "version_minor": 0
   }
  }
 },
 "nbformat": 4,
 "nbformat_minor": 5
}
