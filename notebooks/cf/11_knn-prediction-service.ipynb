{
 "cells": [
  {
   "cell_type": "markdown",
   "id": "0417277b-47df-4113-a7b3-8f960db06f1d",
   "metadata": {
    "tags": []
   },
   "source": [
    "# Modelos: KNN"
   ]
  },
  {
   "cell_type": "code",
   "execution_count": 1,
   "id": "6a12f084-19bd-4c99-89fa-c18db9d120a5",
   "metadata": {},
   "outputs": [],
   "source": [
    "%load_ext autoreload\n",
    "%autoreload 2"
   ]
  },
  {
   "cell_type": "code",
   "execution_count": 2,
   "id": "a3003b6d-36ea-4c44-81d6-9067941c5e4c",
   "metadata": {},
   "outputs": [],
   "source": [
    "BASE_PATH                    = '../..'\n",
    "LIB_PATH                     = f'{BASE_PATH}/lib'\n",
    "DATASET_PATH                 = f'{BASE_PATH}/datasets'\n",
    "STACKING_PATH                = f'{DATASET_PATH}/stacking'\n",
    "WEIGHTS_PATH                 = f'{BASE_PATH}/weights'\n",
    "TMP_PATH                     = f'/var/tmp'\n",
    "\n",
    "METRICS_PATH                 = f'{BASE_PATH}/metrics/knn'\n",
    "\n",
    "USER_STACKING_TRAIN_PATH     = f'{STACKING_PATH}/knn_user_train.json'\n",
    "ITEM_STACKING_TRAIN_PATH     = f'{STACKING_PATH}/knn_item_train.json'\n",
    "ENSEMBLE_STACKING_TRAIN_PATH = f'{STACKING_PATH}/knn_ensemble_train.json'\n",
    "\n",
    "USER_STACKING_TEST_PATH      = f'{STACKING_PATH}/knn_user_test.json'\n",
    "ITEM_STACKING_TEST_PATH      = f'{STACKING_PATH}/knn_item_test.json'\n",
    "ENSEMBLE_STACKING_TEST_PATH  = f'{STACKING_PATH}/knn_ensemble_test.json'"
   ]
  },
  {
   "cell_type": "code",
   "execution_count": 7,
   "id": "f98e7bf4-f41a-43f6-b7b7-a991d00f82de",
   "metadata": {},
   "outputs": [],
   "source": [
    "import sys\n",
    "sys.path.append(LIB_PATH)\n",
    "\n",
    "import numpy as np\n",
    "import pandas as pd\n",
    "\n",
    "import torch\n",
    "from torch.utils.data import DataLoader\n",
    "\n",
    "import pytorch_common.util as pu\n",
    "\n",
    "import model as ml\n",
    "import data.dataset as ds\n",
    "\n",
    "import util as ut\n",
    "\n",
    "import random\n",
    "\n",
    "import service as sv"
   ]
  },
  {
   "cell_type": "markdown",
   "id": "41aab727-a707-44f9-a327-a9403d2f6f02",
   "metadata": {},
   "source": [
    "## Setup"
   ]
  },
  {
   "cell_type": "code",
   "execution_count": 8,
   "id": "fd1bf265-9051-44ee-9dee-b32efe563394",
   "metadata": {
    "tags": []
   },
   "outputs": [],
   "source": [
    "ut.mkdir(STACKING_PATH)"
   ]
  },
  {
   "cell_type": "code",
   "execution_count": 9,
   "id": "855225ae-5002-4134-a8ec-43dc18c24784",
   "metadata": {
    "tags": []
   },
   "outputs": [
    {
     "data": {
      "text/plain": [
       "'0.1.2'"
      ]
     },
     "execution_count": 9,
     "metadata": {},
     "output_type": "execute_result"
    }
   ],
   "source": [
    "import pytorch_common\n",
    "pytorch_common.__version__"
   ]
  },
  {
   "cell_type": "code",
   "execution_count": 10,
   "id": "21fa4041-5682-4332-b139-6aca63d05ea0",
   "metadata": {},
   "outputs": [
    {
     "data": {
      "text/plain": [
       "'2.0.1+cu117'"
      ]
     },
     "execution_count": 10,
     "metadata": {},
     "output_type": "execute_result"
    }
   ],
   "source": [
    "torch.__version__"
   ]
  },
  {
   "cell_type": "code",
   "execution_count": 11,
   "id": "e60a3838-9787-411d-b9f1-8a942321cbb1",
   "metadata": {},
   "outputs": [
    {
     "data": {
      "text/plain": [
       "<RootLogger root (INFO)>"
      ]
     },
     "execution_count": 11,
     "metadata": {},
     "output_type": "execute_result"
    }
   ],
   "source": [
    "pu.LoggerBuilder().on_console().build()"
   ]
  },
  {
   "cell_type": "code",
   "execution_count": 12,
   "id": "9fd7574f-043a-4fc3-8ab8-bfd55b6a92d8",
   "metadata": {},
   "outputs": [
    {
     "data": {
      "text/plain": [
       "(device(type='cuda', index=0), True)"
      ]
     },
     "execution_count": 12,
     "metadata": {},
     "output_type": "execute_result"
    }
   ],
   "source": [
    "pu.set_device_name('gpu')\n",
    "\n",
    "pu.get_device(), torch.cuda.is_available()"
   ]
  },
  {
   "cell_type": "code",
   "execution_count": 13,
   "id": "56f8ec09-2f6c-4096-ba45-acd9de0ae3f5",
   "metadata": {
    "tags": []
   },
   "outputs": [],
   "source": [
    "ut.set_seed(42)"
   ]
  },
  {
   "cell_type": "code",
   "execution_count": 14,
   "id": "3d3b19d0-a055-44a0-9ae3-a0b95682d252",
   "metadata": {},
   "outputs": [],
   "source": [
    "TRAIN        = True\n",
    "N_NEIGHTBORS = 1000"
   ]
  },
  {
   "cell_type": "code",
   "execution_count": 15,
   "id": "897ea2ec-975e-4f74-8a1b-b8c6f23caf2e",
   "metadata": {
    "tags": []
   },
   "outputs": [],
   "source": [
    "def build_stacking_df(\n",
    "    predictor,\n",
    "    ds,\n",
    "    n_neighbors = 1000,\n",
    "    batch_size  = 500,\n",
    "    num_workers = 24,\n",
    "    pin_memory  = True\n",
    "):\n",
    "    dl = DataLoader(\n",
    "        ds,\n",
    "        batch_size  = batch_size,\n",
    "        num_workers = num_workers,\n",
    "        pin_memory  = pin_memory\n",
    "    )\n",
    "\n",
    "    return pd.DataFrame({\n",
    "        'user_id'\t : ds.data['user_id'],\n",
    "        'movie_id'   : ds.data['movie_id'],\n",
    "        'rating'     : ds.data['user_movie_rating'],\n",
    "        'prediction' : predictor.predict_dl(dl, n_neighbors).numpy()\n",
    "    })"
   ]
  },
  {
   "cell_type": "code",
   "execution_count": 16,
   "id": "085e4b63-2cac-4a82-a500-f018fc6848ef",
   "metadata": {
    "tags": []
   },
   "outputs": [],
   "source": [
    "def to_tensor(obs, device, columns): \n",
    "    data = obs[columns]\n",
    "    if type(data) == pd.DataFrame:\n",
    "        data = data.values\n",
    "    return torch.tensor(data).to(device)\n",
    "\n",
    "features_fn = lambda obs, device: to_tensor(obs, device, ['user_seq', 'movie_seq'])\n",
    "target_fn   = lambda obs, device: to_tensor(obs, device, ['user_movie_rating'])"
   ]
  },
  {
   "cell_type": "markdown",
   "id": "b8334d07-f306-42b4-8ea1-cc27b82eb343",
   "metadata": {},
   "source": [
    "## Carga de dataset"
   ]
  },
  {
   "cell_type": "code",
   "execution_count": 17,
   "id": "c34c660c-4802-498a-81b7-07bed14de07f",
   "metadata": {},
   "outputs": [
    {
     "name": "stderr",
     "output_type": "stream",
     "text": [
      "2023-05-30 19:01:33,338 - INFO - Train: 79.01 % - Test: 9.78 %\n"
     ]
    },
    {
     "data": {
      "text/plain": [
       "((117188, 18), (14507, 18))"
      ]
     },
     "execution_count": 17,
     "metadata": {},
     "output_type": "execute_result"
    }
   ],
   "source": [
    "dataset = ds.MovieLensTMDBDatasetFactory.from_path(\n",
    "    path             = DATASET_PATH,\n",
    "    transform        = features_fn,\n",
    "    target_transform = target_fn,\n",
    "    device           = torch.device('cpu'),\n",
    "    filter_fn        = lambda df: df[(df['user_movie_rating_year'] >= 2010)]\n",
    ")\n",
    "\n",
    "train_set, test_set, rating_mean_df, rating_std = dataset.train_test_split(split_year=2018)\n",
    "\n",
    "train_set.shape, test_set.shape"
   ]
  },
  {
   "cell_type": "markdown",
   "id": "38ae3c9e-ac90-4e64-98e9-0d99d72c25d5",
   "metadata": {},
   "source": [
    "## Entrenamiento del modelo"
   ]
  },
  {
   "cell_type": "code",
   "execution_count": 22,
   "id": "3892a9bf-7b78-4d35-8908-b516d06fb5eb",
   "metadata": {
    "tags": []
   },
   "outputs": [
    {
     "name": "stderr",
     "output_type": "stream",
     "text": [
      "2023-05-30 19:03:27,324 - INFO - Waiting 179 minutes to change interactions.\n"
     ]
    },
    {
     "data": {
      "application/vnd.jupyter.widget-view+json": {
       "model_id": "2bc4013c83a74f7fa831afea53cf471a",
       "version_major": 2,
       "version_minor": 0
      },
      "text/plain": [
       "KNNUserBasedPredictor prediction:   0%|          | 0/14507 [00:00<?, ?it/s]"
      ]
     },
     "metadata": {},
     "output_type": "display_data"
    }
   ],
   "source": [
    "user_predictor =  sv.KNNPredictionService(\n",
    "    weights_path   = WEIGHTS_PATH,\n",
    "    temp_path      = TMP_PATH,\n",
    "    predictor_name = 'knn_user_based',\n",
    "    user_seq_col   = 'user_seq',\n",
    "    item_seq_col   = 'movie_seq',\n",
    "    rating_col     = 'user_movie_rating',\n",
    "    model_Type     = ml.KNNType.USER_BASED\n",
    ")\n",
    "\n",
    "user_predictor.fit_predict(train_set.data, test_set.data)\n",
    "\n",
    "user_predictor.delete()"
   ]
  },
  {
   "cell_type": "code",
   "execution_count": 23,
   "id": "987c01dd-27ac-4e5d-8c0d-3b70b8ff8e00",
   "metadata": {
    "tags": []
   },
   "outputs": [
    {
     "name": "stderr",
     "output_type": "stream",
     "text": [
      "2023-05-30 19:03:35,317 - INFO - Waiting 179 minutes to change interactions.\n"
     ]
    },
    {
     "data": {
      "application/vnd.jupyter.widget-view+json": {
       "model_id": "ff99cd3ea4cd4c6f8acaab33fd78f285",
       "version_major": 2,
       "version_minor": 0
      },
      "text/plain": [
       "KNNItemBasedPredictor prediction:   0%|          | 0/14507 [00:00<?, ?it/s]"
      ]
     },
     "metadata": {},
     "output_type": "display_data"
    }
   ],
   "source": [
    "item_predictor = sv.KNNPredictionService(\n",
    "    weights_path   = WEIGHTS_PATH,\n",
    "    temp_path      = TMP_PATH,\n",
    "    predictor_name = 'knn_item_based',\n",
    "    user_seq_col   = 'user_seq',\n",
    "    item_seq_col   = 'movie_seq',\n",
    "    rating_col     = 'user_movie_rating',\n",
    "    model_Type     = ml.KNNType.ITEM_BASED\n",
    ")\n",
    "\n",
    "item_predictor.fit_predict(train_set.data, test_set.data)\n",
    "\n",
    "item_predictor.delete()"
   ]
  }
 ],
 "metadata": {
  "kernelspec": {
   "display_name": "Python 3 (ipykernel)",
   "language": "python",
   "name": "python3"
  },
  "language_info": {
   "codemirror_mode": {
    "name": "ipython",
    "version": 3
   },
   "file_extension": ".py",
   "mimetype": "text/x-python",
   "name": "python",
   "nbconvert_exporter": "python",
   "pygments_lexer": "ipython3",
   "version": "3.10.11"
  },
  "widgets": {
   "application/vnd.jupyter.widget-state+json": {
    "state": {
     "109320a02ab841679c40d54290528c69": {
      "model_module": "@jupyter-widgets/controls",
      "model_module_version": "2.0.0",
      "model_name": "HTMLModel",
      "state": {
       "layout": "IPY_MODEL_b73f2320071e4f8c8c4bddd41cbe12c5",
       "style": "IPY_MODEL_4ecc3013909e4635b4d07dee5e724a7d",
       "value": " 14507/14507 [00:06&lt;00:00, 2278.16it/s]"
      }
     },
     "11af228d64434316ace498191e73ef8e": {
      "model_module": "@jupyter-widgets/controls",
      "model_module_version": "2.0.0",
      "model_name": "HTMLStyleModel",
      "state": {
       "description_width": "",
       "font_size": null,
       "text_color": null
      }
     },
     "12f0b124a1a24e83a3bb2a0d9ec53118": {
      "model_module": "@jupyter-widgets/base",
      "model_module_version": "2.0.0",
      "model_name": "LayoutModel",
      "state": {}
     },
     "12f5af6968b04faabbd4d6b7c77f6e20": {
      "model_module": "@jupyter-widgets/base",
      "model_module_version": "2.0.0",
      "model_name": "LayoutModel",
      "state": {}
     },
     "26a8855633e8446cbcc7e5c1e126ff66": {
      "model_module": "@jupyter-widgets/controls",
      "model_module_version": "2.0.0",
      "model_name": "HTMLModel",
      "state": {
       "layout": "IPY_MODEL_5b17ba96135449889a78b6429806d07c",
       "style": "IPY_MODEL_716fb679ee1e486f8e98c54031a72f5c",
       "value": "KNNItemBasedPredictor prediction: 100%"
      }
     },
     "26eb61edf02d414aa07ab1f58c676d8f": {
      "model_module": "@jupyter-widgets/base",
      "model_module_version": "2.0.0",
      "model_name": "LayoutModel",
      "state": {}
     },
     "2bc4013c83a74f7fa831afea53cf471a": {
      "model_module": "@jupyter-widgets/controls",
      "model_module_version": "2.0.0",
      "model_name": "HBoxModel",
      "state": {
       "children": [
        "IPY_MODEL_bdfbc4801c5f4f9e9809de17510d16be",
        "IPY_MODEL_d2a6673ec4e4497c80f5411ff8498985",
        "IPY_MODEL_bd4b550ca2744bc699ad09f9a985251f"
       ],
       "layout": "IPY_MODEL_12f5af6968b04faabbd4d6b7c77f6e20"
      }
     },
     "2be9f6399ffb4d37a5d1368874cefd3f": {
      "model_module": "@jupyter-widgets/base",
      "model_module_version": "2.0.0",
      "model_name": "LayoutModel",
      "state": {}
     },
     "4ecc3013909e4635b4d07dee5e724a7d": {
      "model_module": "@jupyter-widgets/controls",
      "model_module_version": "2.0.0",
      "model_name": "HTMLStyleModel",
      "state": {
       "description_width": "",
       "font_size": null,
       "text_color": null
      }
     },
     "506f6b3c9cda4ac0a94860d698c324a2": {
      "model_module": "@jupyter-widgets/base",
      "model_module_version": "2.0.0",
      "model_name": "LayoutModel",
      "state": {}
     },
     "52f622ca5a89445db920037b8f8bb727": {
      "model_module": "@jupyter-widgets/controls",
      "model_module_version": "2.0.0",
      "model_name": "FloatProgressModel",
      "state": {
       "bar_style": "success",
       "layout": "IPY_MODEL_12f0b124a1a24e83a3bb2a0d9ec53118",
       "max": 14507,
       "style": "IPY_MODEL_a6bbfb768d784b7fa2241c3fa3f5a0b6",
       "value": 14507
      }
     },
     "5b17ba96135449889a78b6429806d07c": {
      "model_module": "@jupyter-widgets/base",
      "model_module_version": "2.0.0",
      "model_name": "LayoutModel",
      "state": {}
     },
     "5e3d391099df4bf09efe292f5509b6f7": {
      "model_module": "@jupyter-widgets/controls",
      "model_module_version": "2.0.0",
      "model_name": "HTMLModel",
      "state": {
       "layout": "IPY_MODEL_666b8b6035d14817baa633f11d4e5052",
       "style": "IPY_MODEL_7c43354be0284c4bbc97f455f6dd4203",
       "value": " 14507/14507 [00:06&lt;00:00, 2282.59it/s]"
      }
     },
     "5f756fea89f14040a4b81aa24ca5cc2b": {
      "model_module": "@jupyter-widgets/controls",
      "model_module_version": "2.0.0",
      "model_name": "ProgressStyleModel",
      "state": {
       "description_width": ""
      }
     },
     "627d40a835c04ba19327ab65c0d8fcba": {
      "model_module": "@jupyter-widgets/controls",
      "model_module_version": "2.0.0",
      "model_name": "HTMLStyleModel",
      "state": {
       "description_width": "",
       "font_size": null,
       "text_color": null
      }
     },
     "666b8b6035d14817baa633f11d4e5052": {
      "model_module": "@jupyter-widgets/base",
      "model_module_version": "2.0.0",
      "model_name": "LayoutModel",
      "state": {}
     },
     "716fb679ee1e486f8e98c54031a72f5c": {
      "model_module": "@jupyter-widgets/controls",
      "model_module_version": "2.0.0",
      "model_name": "HTMLStyleModel",
      "state": {
       "description_width": "",
       "font_size": null,
       "text_color": null
      }
     },
     "73c7818487384253bb3a6cd55af92c2d": {
      "model_module": "@jupyter-widgets/controls",
      "model_module_version": "2.0.0",
      "model_name": "HTMLStyleModel",
      "state": {
       "description_width": "",
       "font_size": null,
       "text_color": null
      }
     },
     "7c43354be0284c4bbc97f455f6dd4203": {
      "model_module": "@jupyter-widgets/controls",
      "model_module_version": "2.0.0",
      "model_name": "HTMLStyleModel",
      "state": {
       "description_width": "",
       "font_size": null,
       "text_color": null
      }
     },
     "87ddcb6b75d544e785cf6aabb7ed16de": {
      "model_module": "@jupyter-widgets/base",
      "model_module_version": "2.0.0",
      "model_name": "LayoutModel",
      "state": {}
     },
     "89ea1e4b1de04b79a2a7f4702ff8033f": {
      "model_module": "@jupyter-widgets/controls",
      "model_module_version": "2.0.0",
      "model_name": "FloatProgressModel",
      "state": {
       "bar_style": "success",
       "layout": "IPY_MODEL_506f6b3c9cda4ac0a94860d698c324a2",
       "max": 14507,
       "style": "IPY_MODEL_910a7e0524a04bbb9d983d47670cc73f",
       "value": 14507
      }
     },
     "8d363d684f2c461483073b06fb6e36d0": {
      "model_module": "@jupyter-widgets/base",
      "model_module_version": "2.0.0",
      "model_name": "LayoutModel",
      "state": {}
     },
     "8d77dd3d911d4701937b9b1c99ed4148": {
      "model_module": "@jupyter-widgets/base",
      "model_module_version": "2.0.0",
      "model_name": "LayoutModel",
      "state": {}
     },
     "8e3960105fe446ce80b21880ea4c8635": {
      "model_module": "@jupyter-widgets/controls",
      "model_module_version": "2.0.0",
      "model_name": "ProgressStyleModel",
      "state": {
       "description_width": ""
      }
     },
     "910a7e0524a04bbb9d983d47670cc73f": {
      "model_module": "@jupyter-widgets/controls",
      "model_module_version": "2.0.0",
      "model_name": "ProgressStyleModel",
      "state": {
       "description_width": ""
      }
     },
     "97b2088c27854b01be81490d817d5699": {
      "model_module": "@jupyter-widgets/controls",
      "model_module_version": "2.0.0",
      "model_name": "HTMLStyleModel",
      "state": {
       "description_width": "",
       "font_size": null,
       "text_color": null
      }
     },
     "a3ce1760e23a49cf8a43e492f03e079a": {
      "model_module": "@jupyter-widgets/base",
      "model_module_version": "2.0.0",
      "model_name": "LayoutModel",
      "state": {}
     },
     "a6bbfb768d784b7fa2241c3fa3f5a0b6": {
      "model_module": "@jupyter-widgets/controls",
      "model_module_version": "2.0.0",
      "model_name": "ProgressStyleModel",
      "state": {
       "description_width": ""
      }
     },
     "b40af179c31347ed8046370d7ae39ae3": {
      "model_module": "@jupyter-widgets/controls",
      "model_module_version": "2.0.0",
      "model_name": "HBoxModel",
      "state": {
       "children": [
        "IPY_MODEL_ca6baa405c584773b774564b2bc49cbd",
        "IPY_MODEL_52f622ca5a89445db920037b8f8bb727",
        "IPY_MODEL_5e3d391099df4bf09efe292f5509b6f7"
       ],
       "layout": "IPY_MODEL_b968c79057f7438087845105113f009f"
      }
     },
     "b73f2320071e4f8c8c4bddd41cbe12c5": {
      "model_module": "@jupyter-widgets/base",
      "model_module_version": "2.0.0",
      "model_name": "LayoutModel",
      "state": {}
     },
     "b968c79057f7438087845105113f009f": {
      "model_module": "@jupyter-widgets/base",
      "model_module_version": "2.0.0",
      "model_name": "LayoutModel",
      "state": {}
     },
     "bb75615bf58a4886aa4313d7a347a25f": {
      "model_module": "@jupyter-widgets/base",
      "model_module_version": "2.0.0",
      "model_name": "LayoutModel",
      "state": {}
     },
     "bc369f81809e450d94b4d841f7c2146b": {
      "model_module": "@jupyter-widgets/controls",
      "model_module_version": "2.0.0",
      "model_name": "FloatProgressModel",
      "state": {
       "bar_style": "success",
       "layout": "IPY_MODEL_bb75615bf58a4886aa4313d7a347a25f",
       "max": 14507,
       "style": "IPY_MODEL_5f756fea89f14040a4b81aa24ca5cc2b",
       "value": 14507
      }
     },
     "bd4b550ca2744bc699ad09f9a985251f": {
      "model_module": "@jupyter-widgets/controls",
      "model_module_version": "2.0.0",
      "model_name": "HTMLModel",
      "state": {
       "layout": "IPY_MODEL_a3ce1760e23a49cf8a43e492f03e079a",
       "style": "IPY_MODEL_97b2088c27854b01be81490d817d5699",
       "value": " 14507/14507 [00:06&lt;00:00, 2406.69it/s]"
      }
     },
     "bdfbc4801c5f4f9e9809de17510d16be": {
      "model_module": "@jupyter-widgets/controls",
      "model_module_version": "2.0.0",
      "model_name": "HTMLModel",
      "state": {
       "layout": "IPY_MODEL_2be9f6399ffb4d37a5d1368874cefd3f",
       "style": "IPY_MODEL_73c7818487384253bb3a6cd55af92c2d",
       "value": "KNNUserBasedPredictor prediction: 100%"
      }
     },
     "ca6baa405c584773b774564b2bc49cbd": {
      "model_module": "@jupyter-widgets/controls",
      "model_module_version": "2.0.0",
      "model_name": "HTMLModel",
      "state": {
       "layout": "IPY_MODEL_87ddcb6b75d544e785cf6aabb7ed16de",
       "style": "IPY_MODEL_627d40a835c04ba19327ab65c0d8fcba",
       "value": "KNNItemBasedPredictor prediction: 100%"
      }
     },
     "cd617be9141c46d7bd45459e76ce48fd": {
      "model_module": "@jupyter-widgets/controls",
      "model_module_version": "2.0.0",
      "model_name": "HTMLStyleModel",
      "state": {
       "description_width": "",
       "font_size": null,
       "text_color": null
      }
     },
     "ce9db35d3dbd464facc1244172f0de57": {
      "model_module": "@jupyter-widgets/controls",
      "model_module_version": "2.0.0",
      "model_name": "HTMLModel",
      "state": {
       "layout": "IPY_MODEL_8d77dd3d911d4701937b9b1c99ed4148",
       "style": "IPY_MODEL_11af228d64434316ace498191e73ef8e",
       "value": "KNNUserBasedPredictor prediction: 100%"
      }
     },
     "d2a6673ec4e4497c80f5411ff8498985": {
      "model_module": "@jupyter-widgets/controls",
      "model_module_version": "2.0.0",
      "model_name": "FloatProgressModel",
      "state": {
       "bar_style": "success",
       "layout": "IPY_MODEL_8d363d684f2c461483073b06fb6e36d0",
       "max": 14507,
       "style": "IPY_MODEL_8e3960105fe446ce80b21880ea4c8635",
       "value": 14507
      }
     },
     "d985ba29d4c2464d89218c4dd5180395": {
      "model_module": "@jupyter-widgets/controls",
      "model_module_version": "2.0.0",
      "model_name": "HTMLModel",
      "state": {
       "layout": "IPY_MODEL_de2653270fc54eecaf1a121683a3331b",
       "style": "IPY_MODEL_cd617be9141c46d7bd45459e76ce48fd",
       "value": " 14507/14507 [00:06&lt;00:00, 2345.56it/s]"
      }
     },
     "de2653270fc54eecaf1a121683a3331b": {
      "model_module": "@jupyter-widgets/base",
      "model_module_version": "2.0.0",
      "model_name": "LayoutModel",
      "state": {}
     },
     "f528b2f8d68e4723962a9542b1be9c9c": {
      "model_module": "@jupyter-widgets/controls",
      "model_module_version": "2.0.0",
      "model_name": "HBoxModel",
      "state": {
       "children": [
        "IPY_MODEL_ce9db35d3dbd464facc1244172f0de57",
        "IPY_MODEL_89ea1e4b1de04b79a2a7f4702ff8033f",
        "IPY_MODEL_d985ba29d4c2464d89218c4dd5180395"
       ],
       "layout": "IPY_MODEL_f9a0db3dde0f4db19c823e15f2f88294"
      }
     },
     "f9a0db3dde0f4db19c823e15f2f88294": {
      "model_module": "@jupyter-widgets/base",
      "model_module_version": "2.0.0",
      "model_name": "LayoutModel",
      "state": {}
     },
     "ff99cd3ea4cd4c6f8acaab33fd78f285": {
      "model_module": "@jupyter-widgets/controls",
      "model_module_version": "2.0.0",
      "model_name": "HBoxModel",
      "state": {
       "children": [
        "IPY_MODEL_26a8855633e8446cbcc7e5c1e126ff66",
        "IPY_MODEL_bc369f81809e450d94b4d841f7c2146b",
        "IPY_MODEL_109320a02ab841679c40d54290528c69"
       ],
       "layout": "IPY_MODEL_26eb61edf02d414aa07ab1f58c676d8f"
      }
     }
    },
    "version_major": 2,
    "version_minor": 0
   }
  }
 },
 "nbformat": 4,
 "nbformat_minor": 5
}
