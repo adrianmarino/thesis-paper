{
 "cells": [
  {
   "cell_type": "markdown",
   "id": "0417277b-47df-4113-a7b3-8f960db06f1d",
   "metadata": {
    "tags": []
   },
   "source": [
    "# Models: Generalized Matrix Factorization (GMF)"
   ]
  },
  {
   "cell_type": "code",
   "execution_count": 1,
   "id": "7cca1e2c-7e8c-4584-8795-b0335a218415",
   "metadata": {},
   "outputs": [],
   "source": [
    "%load_ext autoreload\n",
    "%autoreload 2"
   ]
  },
  {
   "cell_type": "code",
   "execution_count": 2,
   "id": "ec41dd6f-a10c-46d3-b7c5-dfe48749fd35",
   "metadata": {},
   "outputs": [],
   "source": [
    "BASE_PATH             = '../..'\n",
    "LIB_PATH              = f'{BASE_PATH}/lib'\n",
    "DATASET_PATH          = f'{BASE_PATH}/datasets'\n",
    "STACKING_PATH         = f'{DATASET_PATH}/stacking'\n",
    "WEIGHTS_PATH          = f'{BASE_PATH}/weights'\n",
    "\n",
    "METRICS_PATH          = f'{BASE_PATH}/metrics/gmf'\n",
    "STACKING_TRAIN_PATH = f'{STACKING_PATH}/gmf_train.json'\n",
    "STACKING_TEST_PATH  = f'{STACKING_PATH}/gmf_test.json'"
   ]
  },
  {
   "cell_type": "code",
   "execution_count": 3,
   "id": "f98e7bf4-f41a-43f6-b7b7-a991d00f82de",
   "metadata": {},
   "outputs": [
    {
     "name": "stderr",
     "output_type": "stream",
     "text": [
      "2023-08-20 12:21:53.854399: I tensorflow/core/platform/cpu_feature_guard.cc:182] This TensorFlow binary is optimized to use available CPU instructions in performance-critical operations.\n",
      "To enable the following instructions: AVX2 FMA, in other operations, rebuild TensorFlow with the appropriate compiler flags.\n",
      "2023-08-20 12:21:54.251012: W tensorflow/compiler/tf2tensorrt/utils/py_utils.cc:38] TF-TRT Warning: Could not find TensorRT\n",
      "2023-08-20 12:21:54.642144: I tensorflow/compiler/xla/stream_executor/cuda/cuda_gpu_executor.cc:996] successful NUMA node read from SysFS had negative value (-1), but there must be at least one NUMA node, so returning NUMA node zero. See more at https://github.com/torvalds/linux/blob/v6.0/Documentation/ABI/testing/sysfs-bus-pci#L344-L355\n",
      "2023-08-20 12:21:54.652305: W tensorflow/core/common_runtime/gpu/gpu_device.cc:1956] Cannot dlopen some GPU libraries. Please make sure the missing libraries mentioned above are installed properly if you would like to use GPU. Follow the guide at https://www.tensorflow.org/install/gpu for how to download and setup the required libraries for your platform.\n",
      "Skipping registering GPU devices...\n"
     ]
    },
    {
     "data": {
      "text/plain": [
       "<Figure size 640x480 with 0 Axes>"
      ]
     },
     "metadata": {},
     "output_type": "display_data"
    }
   ],
   "source": [
    "import sys\n",
    "sys.path.append(LIB_PATH)\n",
    "\n",
    "import numpy as np\n",
    "import pandas as pd\n",
    "from bunch import Bunch\n",
    "\n",
    "import torch\n",
    "from torch.utils.data import DataLoader, Subset\n",
    "from torch.optim import SparseAdam, Adam\n",
    "from sklearn.metrics import roc_auc_score\n",
    "\n",
    "import pytorch_common.util as pu\n",
    "from pytorch_common.modules.fn import Fn\n",
    "from pytorch_common.callbacks import EarlyStop, \\\n",
    "                                     ReduceLROnPlateau, \\\n",
    "                                     Validation, \\\n",
    "                                     SaveBestModel\n",
    "from pytorch_common.callbacks.output import Logger, \\\n",
    "                                            MetricsPlotter\n",
    "\n",
    "import model as ml\n",
    "import data.dataset as ds\n",
    "\n",
    "import metric as mt\n",
    "import metric.discretizer as dr\n",
    "\n",
    "import data.plot as pl\n",
    "import data as dt\n",
    "\n",
    "import logging\n",
    "import random\n",
    "\n",
    "import util as ut"
   ]
  },
  {
   "cell_type": "markdown",
   "id": "40c1da33-a8da-47c9-b174-0b0885b05b50",
   "metadata": {},
   "source": [
    "## Setup"
   ]
  },
  {
   "cell_type": "code",
   "execution_count": 4,
   "id": "23746eca-2b89-4fca-baab-af810253d8db",
   "metadata": {},
   "outputs": [
    {
     "data": {
      "text/plain": [
       "'../../datasets/stacking'"
      ]
     },
     "execution_count": 4,
     "metadata": {},
     "output_type": "execute_result"
    }
   ],
   "source": [
    "ut.mkdir(STACKING_PATH)"
   ]
  },
  {
   "cell_type": "code",
   "execution_count": 5,
   "id": "e60a3838-9787-411d-b9f1-8a942321cbb1",
   "metadata": {},
   "outputs": [
    {
     "data": {
      "text/plain": [
       "<RootLogger root (INFO)>"
      ]
     },
     "execution_count": 5,
     "metadata": {},
     "output_type": "execute_result"
    }
   ],
   "source": [
    "pu.LoggerBuilder().on_console().build()"
   ]
  },
  {
   "cell_type": "code",
   "execution_count": 6,
   "id": "87426f62-314a-4e1e-9f9d-d9bb66bf416e",
   "metadata": {
    "tags": []
   },
   "outputs": [
    {
     "data": {
      "text/plain": [
       "'0.1.2'"
      ]
     },
     "execution_count": 6,
     "metadata": {},
     "output_type": "execute_result"
    }
   ],
   "source": [
    "import pytorch_common\n",
    "pytorch_common.__version__"
   ]
  },
  {
   "cell_type": "code",
   "execution_count": 7,
   "id": "e98359cc-eba3-4501-81fe-331341cc3c43",
   "metadata": {
    "tags": []
   },
   "outputs": [
    {
     "data": {
      "text/plain": [
       "'2.0.1+cu118'"
      ]
     },
     "execution_count": 7,
     "metadata": {},
     "output_type": "execute_result"
    }
   ],
   "source": [
    "torch.__version__"
   ]
  },
  {
   "cell_type": "code",
   "execution_count": 8,
   "id": "9fd7574f-043a-4fc3-8ab8-bfd55b6a92d8",
   "metadata": {},
   "outputs": [
    {
     "data": {
      "text/plain": [
       "(device(type='cuda', index=0), True)"
      ]
     },
     "execution_count": 8,
     "metadata": {},
     "output_type": "execute_result"
    }
   ],
   "source": [
    "pu.set_device_name('gpu')\n",
    "cpu = torch.device(\"cpu\")\n",
    "\n",
    "pu.get_device(), torch.cuda.is_available()"
   ]
  },
  {
   "cell_type": "code",
   "execution_count": 9,
   "id": "b5fb890c-e080-4efc-9fc1-08921ae2465f",
   "metadata": {},
   "outputs": [],
   "source": [
    "ut.set_seed(42)"
   ]
  },
  {
   "cell_type": "code",
   "execution_count": 10,
   "id": "e8881c6b-28db-48ec-83c5-c4e86fbf9803",
   "metadata": {
    "tags": []
   },
   "outputs": [],
   "source": [
    "TRAIN = True"
   ]
  },
  {
   "cell_type": "code",
   "execution_count": 11,
   "id": "ec947c74-dc56-4aee-bb61-762399cec779",
   "metadata": {},
   "outputs": [],
   "source": [
    "def get_stacking_df(model, ds, dl):\n",
    "    predictions = model.evaluate(dl)\n",
    "    return pd.DataFrame({\n",
    "        'user_id'\t : ds.data['user_id'],\n",
    "        'movie_id'   : ds.data['movie_id'],\n",
    "        'rating'     : predictions[1].flatten().numpy(),\n",
    "        'prediction' : predictions[0].numpy()\n",
    "    })"
   ]
  },
  {
   "cell_type": "code",
   "execution_count": 12,
   "id": "006a3e99-ddb0-40a9-845e-4a3dc08cd56c",
   "metadata": {},
   "outputs": [],
   "source": [
    "def to_dl(train_set, eval_set, test_set, params):\n",
    "    train_dl = DataLoader(train_set, params.batch_size, num_workers=params.n_workers, pin_memory=True, shuffle = True)\n",
    "    eval_dl  = DataLoader(eval_set,  params.batch_size, num_workers=params.n_workers, pin_memory=True)\n",
    "    test_dl  = DataLoader(test_set,  params.batch_size, num_workers=params.n_workers, pin_memory=True)\n",
    "    return train_dl, eval_dl, test_dl"
   ]
  },
  {
   "cell_type": "code",
   "execution_count": 13,
   "id": "d0049f2c-cce3-4656-9b8c-11fecfdeb50c",
   "metadata": {},
   "outputs": [],
   "source": [
    "def to_tensor(obs, device, columns): \n",
    "    data = obs[columns]\n",
    "    if type(data) == pd.DataFrame:\n",
    "        data = data.values\n",
    "    return torch.tensor(data).to(device)\n",
    "\n",
    "features_fn = lambda obs, device: to_tensor(obs, device, ['user_seq', 'movie_seq'])\n",
    "target_fn   = lambda obs, device: to_tensor(obs, device, ['user_movie_rating'])"
   ]
  },
  {
   "cell_type": "markdown",
   "id": "b8334d07-f306-42b4-8ea1-cc27b82eb343",
   "metadata": {},
   "source": [
    "## Carga de dataset"
   ]
  },
  {
   "cell_type": "code",
   "execution_count": 14,
   "id": "c34c660c-4802-498a-81b7-07bed14de07f",
   "metadata": {},
   "outputs": [
    {
     "name": "stderr",
     "output_type": "stream",
     "text": [
      "2023-08-20 12:22:03,613 - INFO - Train: 64.81 % - Test: 8.60 %\n",
      "2023-08-20 12:22:03,693 - INFO - Train: 56.64 % - Test: 27.82 %\n"
     ]
    },
    {
     "data": {
      "text/plain": [
       "((125905, 18), (9460, 18), (4647, 18))"
      ]
     },
     "execution_count": 14,
     "metadata": {},
     "output_type": "execute_result"
    }
   ],
   "source": [
    "dataset = ds.MovieLensTMDBDatasetFactory.from_path(\n",
    "    path             = DATASET_PATH,\n",
    "    transform        = features_fn,\n",
    "    target_transform = target_fn,\n",
    "    device           = torch.device('cpu'),\n",
    "    filter_fn        = lambda df: df[(df['user_movie_rating_year'] >= 2004)]\n",
    ")\n",
    "\n",
    "train_set, eval_test_set, rating_mean_df, rating_std = dataset.train_test_split(split_year=2016)\n",
    "\n",
    "eval_set, test_set, _, _ = eval_test_set.train_test_split(\n",
    "    split_year     = 2018, \n",
    "    rating_mean_df = rating_mean_df, \n",
    "    rating_std     = rating_std\n",
    ")\n",
    "\n",
    "train_set.shape, eval_set.shape, test_set.shape"
   ]
  },
  {
   "cell_type": "markdown",
   "id": "c81ebd42-69d1-4c70-86bd-21fdf655ea17",
   "metadata": {
    "tags": []
   },
   "source": [
    "## Definicion del modelo"
   ]
  },
  {
   "cell_type": "code",
   "execution_count": 15,
   "id": "562a42f0-ed70-4723-b136-fbd3a3e6c9df",
   "metadata": {},
   "outputs": [],
   "source": [
    "params = Bunch({\n",
    "    'lr'             : 0.001,\n",
    "    'lr_factor'      : 0.05,\n",
    "    'lr_patience'    : 3,\n",
    "    'epochs'         : 12,\n",
    "    'embedding_size' : 50,\n",
    "    'n_workers'      : 24,\n",
    "    'batch_size'     : 64,\n",
    "    'n_users'        : len(dataset.features_uniques[0]),\n",
    "    'n_items'        : len(dataset.features_uniques[1])\n",
    "})"
   ]
  },
  {
   "cell_type": "code",
   "execution_count": 16,
   "id": "955b0576-fde1-4b08-ace2-7ea873d3e45c",
   "metadata": {},
   "outputs": [
    {
     "data": {
      "text/plain": [
       "GMF(\n",
       "  (embedding): MultiFeatureEmbedding(\n",
       "    (embedding): Embedding(31625, 50)\n",
       "  )\n",
       "  (dot): BatchDot()\n",
       ")"
      ]
     },
     "execution_count": 16,
     "metadata": {},
     "output_type": "execute_result"
    }
   ],
   "source": [
    "model = ml.GMF(\n",
    "    n_users        = params.n_users,\n",
    "    n_items        = params.n_items,\n",
    "    embedding_size = params.embedding_size\n",
    ").to(pu.get_device())\n",
    "model"
   ]
  },
  {
   "cell_type": "markdown",
   "id": "2c2455c3-91ff-4b28-934a-623193c38674",
   "metadata": {},
   "source": [
    "## Entrenamiento del modelo"
   ]
  },
  {
   "cell_type": "code",
   "execution_count": 17,
   "id": "ddb73a88-f9ff-4009-ad5b-44a7c732a7cd",
   "metadata": {},
   "outputs": [],
   "source": [
    "train_dl, eval_dl, test_dl = to_dl(train_set, eval_set, test_set, params)"
   ]
  },
  {
   "cell_type": "code",
   "execution_count": 18,
   "id": "212d5198-fa03-4129-ba90-1346838b1e0a",
   "metadata": {},
   "outputs": [
    {
     "data": {
      "image/png": "[encoded data removed]",
      "text/plain": [
       "<Figure size 800x550 with 1 Axes>"
      ]
     },
     "metadata": {},
     "output_type": "display_data"
    },
    {
     "name": "stderr",
     "output_type": "stream",
     "text": [
      "2023-08-19 20:00:32,829 - INFO - {'time': '0:00:06.58', 'epoch': 12, 'train_loss': 0.3786613071125334, 'val_loss': 1.0348457098007202, 'lr': 0.001}\n"
     ]
    }
   ],
   "source": [
    "if TRAIN:\n",
    "    result = model.fit(\n",
    "        train_dl,\n",
    "        epochs      = params.epochs,\n",
    "        loss_fn     = ml.MSELossFn(),\n",
    "        optimizer   = Adam(\n",
    "            params       = model.parameters(),\n",
    "            lr           = params.lr\n",
    "        ),\n",
    "        callbacks   = [\n",
    "            Validation(\n",
    "                eval_dl,\n",
    "                metrics       = { 'val_loss': ml.MSELossFn(float_result=True)},\n",
    "                each_n_epochs = 1\n",
    "            ),\n",
    "            ReduceLROnPlateau(metric='val_loss', mode='min', factor=params.lr_factor, patience=params.lr_patience),\n",
    "            MetricsPlotter(metrics=['train_loss', 'val_loss'], plot_each_n_epochs=2),\n",
    "            Logger(['time', 'epoch', 'train_loss', 'val_loss', 'patience', 'lr']),\n",
    "            SaveBestModel(metric='val_loss', path=WEIGHTS_PATH, experiment_name='gfm')\n",
    "        ]\n",
    "    )"
   ]
  },
  {
   "cell_type": "markdown",
   "id": "ed2d8405-04c6-47cf-b460-0ef19e347115",
   "metadata": {},
   "source": [
    "## Stacking dataset\n",
    "\n",
    "Se realiza la prediccion del modelo sobre el conjunto de evaluacion, el cual sera el conjunto de entrenamiento para el meta-modelo del stacking."
   ]
  },
  {
   "cell_type": "code",
   "execution_count": 19,
   "id": "dd3ae0fb-58c0-45a9-ac2c-ebdef069f191",
   "metadata": {
    "tags": []
   },
   "outputs": [],
   "source": [
    "model.load(f'{WEIGHTS_PATH}/2023-04-16_13-10-11--gfm--epoch_9--val_loss_0.9526724815368652')"
   ]
  },
  {
   "cell_type": "markdown",
   "id": "6abf1b66-ceea-4207-b6f5-fa5be428dd0b",
   "metadata": {
    "tags": []
   },
   "source": [
    "2023-04-11_21-04-00--gfm--epoch_13--val_loss_0.957846462726593## Metricas sobre el conjunto de validación"
   ]
  },
  {
   "cell_type": "code",
   "execution_count": 23,
   "id": "7e5976f3-d1c5-4f1d-a058-5c4cdfd3f8d9",
   "metadata": {
    "tags": []
   },
   "outputs": [],
   "source": [
    "ut.save_df(get_stacking_df(model, eval_set, eval_dl), STACKING_TRAIN_PATH)\n",
    "ut.save_df(get_stacking_df(model, test_set, test_dl), STACKING_TEST_PATH)"
   ]
  },
  {
   "cell_type": "markdown",
   "id": "b76b0dec-4701-46de-ba8c-a553f234c18c",
   "metadata": {},
   "source": [
    "### Metricas sobre el conjunto de validación"
   ]
  },
  {
   "cell_type": "code",
   "execution_count": 20,
   "id": "563a5716-5997-4d57-846e-425c019feeb3",
   "metadata": {
    "tags": []
   },
   "outputs": [
    {
     "data": {
      "application/vnd.jupyter.widget-view+json": {
       "model_id": "c546dd4950504626906c43c53231aecb",
       "version_major": 2,
       "version_minor": 0
      },
      "text/plain": [
       "Processing:   0%|          | 0/500 [00:00<?, ?it/s]"
      ]
     },
     "metadata": {},
     "output_type": "display_data"
    }
   ],
   "source": [
    "n_classes = len(dataset.target_uniques)\n",
    "\n",
    "validator = ml.Validator(\n",
    "    n_samples  = 500,\n",
    "    batch_size = 10000,\n",
    "    metrics    = [\n",
    "        mt.RMSE(),\n",
    "        mt.MeanNdcgAtk            (k=5),\n",
    "        mt.MeanAveragePrecisionAtk(k=5, discretizer=dr.between(4, 5)),\n",
    "        mt.MeanUserFBetaScoreAtk  (k=5, n_classes=n_classes, discretizer=dr.between(4, 5)),\n",
    "        mt.MeanUserPrecisionAtk   (k=5, n_classes=n_classes, discretizer=dr.between(4, 5)),\n",
    "        mt.MeanUserRecallAtk      (k=5, n_classes=n_classes, discretizer=dr.between(4, 5))\n",
    "    ],\n",
    "    predictors = [ml.ModulePredictor(model)]\n",
    ")\n",
    "\n",
    "summary = validator.validate(eval_set)\n",
    "summary.save(METRICS_PATH)"
   ]
  },
  {
   "cell_type": "code",
   "execution_count": 21,
   "id": "0bbeb3e5-ca3e-45cd-b4e9-b16a15963969",
   "metadata": {
    "tags": []
   },
   "outputs": [
    {
     "name": "stdout",
     "output_type": "stream",
     "text": [
      "Ordered by mAP@5(4,5):\n"
     ]
    },
    {
     "data": {
      "text/html": [
       "<div>\n",
       "<style scoped>\n",
       "    .dataframe tbody tr th:only-of-type {\n",
       "        vertical-align: middle;\n",
       "    }\n",
       "\n",
       "    .dataframe tbody tr th {\n",
       "        vertical-align: top;\n",
       "    }\n",
       "\n",
       "    .dataframe thead th {\n",
       "        text-align: right;\n",
       "    }\n",
       "</style>\n",
       "<table border=\"1\" class=\"dataframe\">\n",
       "  <thead>\n",
       "    <tr style=\"text-align: right;\">\n",
       "      <th></th>\n",
       "      <th>sample</th>\n",
       "      <th>RMSE</th>\n",
       "      <th>mNDCG@5</th>\n",
       "      <th>mAP@5(4,5)</th>\n",
       "      <th>MeanUserF1.0Score@5(4,5)</th>\n",
       "      <th>Precision@5(4,5)</th>\n",
       "      <th>Recall@5(4,5)</th>\n",
       "    </tr>\n",
       "    <tr>\n",
       "      <th>predictor</th>\n",
       "      <th></th>\n",
       "      <th></th>\n",
       "      <th></th>\n",
       "      <th></th>\n",
       "      <th></th>\n",
       "      <th></th>\n",
       "      <th></th>\n",
       "    </tr>\n",
       "  </thead>\n",
       "  <tbody>\n",
       "    <tr>\n",
       "      <th>GMF</th>\n",
       "      <td>249.5</td>\n",
       "      <td>0.975257</td>\n",
       "      <td>0.959399</td>\n",
       "      <td>0.432598</td>\n",
       "      <td>0.64789</td>\n",
       "      <td>0.646887</td>\n",
       "      <td>0.646339</td>\n",
       "    </tr>\n",
       "  </tbody>\n",
       "</table>\n",
       "</div>"
      ],
      "text/plain": [
       "           sample      RMSE   mNDCG@5  mAP@5(4,5)  MeanUserF1.0Score@5(4,5)  \\\n",
       "predictor                                                                     \n",
       "GMF         249.5  0.975257  0.959399    0.432598                   0.64789   \n",
       "\n",
       "           Precision@5(4,5)  Recall@5(4,5)  \n",
       "predictor                                   \n",
       "GMF                0.646887       0.646339  "
      ]
     },
     "execution_count": 21,
     "metadata": {},
     "output_type": "execute_result"
    }
   ],
   "source": [
    "summary = ml.ValidatorSummary.load(METRICS_PATH)\n",
    "summary.show()"
   ]
  }
 ],
 "metadata": {
  "kernelspec": {
   "display_name": "Python 3 (ipykernel)",
   "language": "python",
   "name": "python3"
  },
  "language_info": {
   "codemirror_mode": {
    "name": "ipython",
    "version": 3
   },
   "file_extension": ".py",
   "mimetype": "text/x-python",
   "name": "python",
   "nbconvert_exporter": "python",
   "pygments_lexer": "ipython3",
   "version": "3.10.12"
  },
  "widgets": {
   "application/vnd.jupyter.widget-state+json": {
    "state": {},
    "version_major": 2,
    "version_minor": 0
   }
  }
 },
 "nbformat": 4,
 "nbformat_minor": 5
}
