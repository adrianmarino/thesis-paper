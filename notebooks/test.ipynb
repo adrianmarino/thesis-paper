{
 "cells": [
  {
   "cell_type": "markdown",
   "id": "0417277b-47df-4113-a7b3-8f960db06f1d",
   "metadata": {
    "tags": []
   },
   "source": [
    "# Modelos: Seq"
   ]
  },
  {
   "cell_type": "code",
   "execution_count": 2,
   "id": "8dde5e70-5b86-460f-8791-20fcb554c378",
   "metadata": {},
   "outputs": [],
   "source": [
    "%load_ext autoreload\n",
    "%autoreload 2"
   ]
  },
  {
   "cell_type": "code",
   "execution_count": 3,
   "id": "f98e7bf4-f41a-43f6-b7b7-a991d00f82de",
   "metadata": {},
   "outputs": [],
   "source": [
    "import sys\n",
    "sys.path.append('../lib')\n",
    "import os\n",
    "\n",
    "import math\n",
    "import random\n",
    "from bunch import Bunch\n",
    "import seaborn as sns\n",
    "import numpy   as np\n",
    "import pandas  as pd\n",
    "\n",
    "import torch\n",
    "from   torch               import nn, Tensor\n",
    "import torch.nn.functional as F\n",
    "from   torch.utils.data    import DataLoader, Subset\n",
    "from   torch.optim         import SparseAdam, Adam\n",
    "\n",
    "import pytorch_common.util as pu\n",
    "from   pytorch_common.modules.fn import Fn\n",
    "from   pytorch_common.callbacks  import (\n",
    "    EarlyStop,\n",
    "    ReduceLROnPlateau,\n",
    "    Validation,\n",
    "    SaveBestModel\n",
    ")\n",
    "from pytorch_common.callbacks.output import Logger, MetricsPlotter\n",
    "from pytorch_common.util import (\n",
    "    set_device_name,\n",
    "    get_device,\n",
    "    LoggerBuilder\n",
    ")\n",
    "\n",
    "import model as ml\n",
    "import util  as ut\n",
    "\n",
    "import data.dataset as ds\n",
    "import data.plot    as pl\n",
    "import data         as dt\n",
    "from data.plot import describe_num_var\n",
    "\n",
    "import metric             as mt\n",
    "import metric.discretizer as dr\n",
    "\n",
    "import torch.multiprocessing"
   ]
  },
  {
   "cell_type": "markdown",
   "id": "d757391b-ad9f-4047-9b23-e3bd23fbe37b",
   "metadata": {},
   "source": [
    "## Setup"
   ]
  },
  {
   "cell_type": "code",
   "execution_count": 4,
   "id": "5fa4397f-d59f-4214-9bca-4ff70bb42d4a",
   "metadata": {},
   "outputs": [],
   "source": [
    "# os.environ['PYTORCH_CUDA_ALLOC_CONF'] = 'max_split_size_mb:512'"
   ]
  },
  {
   "cell_type": "code",
   "execution_count": 5,
   "id": "e60a3838-9787-411d-b9f1-8a942321cbb1",
   "metadata": {},
   "outputs": [
    {
     "data": {
      "text/html": [
       "<pre style=\"white-space:pre;overflow-x:auto;line-height:normal;font-family:Menlo,'DejaVu Sans Mono',consolas,'Courier New',monospace\"><span style=\"font-weight: bold\">&lt;</span><span style=\"color: #ff00ff; text-decoration-color: #ff00ff; font-weight: bold\">RootLogger</span><span style=\"color: #000000; text-decoration-color: #000000\"> root </span><span style=\"color: #000000; text-decoration-color: #000000; font-weight: bold\">(</span><span style=\"color: #000000; text-decoration-color: #000000\">INFO</span><span style=\"color: #000000; text-decoration-color: #000000; font-weight: bold\">)</span><span style=\"font-weight: bold\">&gt;</span>\n",
       "</pre>\n"
      ],
      "text/plain": [
       "\u001b[1m<\u001b[0m\u001b[1;95mRootLogger\u001b[0m\u001b[39m root \u001b[0m\u001b[1;39m(\u001b[0m\u001b[39mINFO\u001b[0m\u001b[1;39m)\u001b[0m\u001b[1m>\u001b[0m\n"
      ]
     },
     "metadata": {},
     "output_type": "display_data"
    }
   ],
   "source": [
    "pu.LoggerBuilder().on_console().build()"
   ]
  },
  {
   "cell_type": "code",
   "execution_count": 6,
   "id": "9fd7574f-043a-4fc3-8ab8-bfd55b6a92d8",
   "metadata": {},
   "outputs": [],
   "source": [
    "pu.set_device_name('gpu')"
   ]
  },
  {
   "cell_type": "code",
   "execution_count": 7,
   "id": "bad1a1e0-b35e-4b40-ab06-beae8fbb244a",
   "metadata": {},
   "outputs": [
    {
     "data": {
      "text/html": [
       "<pre style=\"white-space:pre;overflow-x:auto;line-height:normal;font-family:Menlo,'DejaVu Sans Mono',consolas,'Courier New',monospace\"><span style=\"color: #800080; text-decoration-color: #800080; font-weight: bold\">device</span><span style=\"font-weight: bold\">(</span><span style=\"color: #808000; text-decoration-color: #808000\">type</span>=<span style=\"color: #008000; text-decoration-color: #008000\">'cuda'</span>, <span style=\"color: #808000; text-decoration-color: #808000\">index</span>=<span style=\"color: #008080; text-decoration-color: #008080; font-weight: bold\">0</span><span style=\"font-weight: bold\">)</span>\n",
       "</pre>\n"
      ],
      "text/plain": [
       "\u001b[1;35mdevice\u001b[0m\u001b[1m(\u001b[0m\u001b[33mtype\u001b[0m=\u001b[32m'cuda'\u001b[0m, \u001b[33mindex\u001b[0m=\u001b[1;36m0\u001b[0m\u001b[1m)\u001b[0m\n"
      ]
     },
     "metadata": {},
     "output_type": "display_data"
    }
   ],
   "source": [
    "pu.get_device()"
   ]
  },
  {
   "cell_type": "code",
   "execution_count": 8,
   "id": "f956317d-0e48-4518-a219-51700d272b5b",
   "metadata": {},
   "outputs": [],
   "source": [
    "CPU = torch.device('cpu')"
   ]
  },
  {
   "cell_type": "code",
   "execution_count": 9,
   "id": "d1ba7b0b-b5d8-47ec-8995-642b7b21e6d2",
   "metadata": {},
   "outputs": [
    {
     "data": {
      "text/html": [
       "<pre style=\"white-space:pre;overflow-x:auto;line-height:normal;font-family:Menlo,'DejaVu Sans Mono',consolas,'Courier New',monospace\"><span style=\"color: #00ff00; text-decoration-color: #00ff00; font-style: italic\">True</span>\n",
       "</pre>\n"
      ],
      "text/plain": [
       "\u001b[3;92mTrue\u001b[0m\n"
      ]
     },
     "metadata": {},
     "output_type": "display_data"
    }
   ],
   "source": [
    "torch.cuda.is_available()"
   ]
  },
  {
   "cell_type": "code",
   "execution_count": 10,
   "id": "21fa4041-5682-4332-b139-6aca63d05ea0",
   "metadata": {},
   "outputs": [
    {
     "data": {
      "text/html": [
       "<pre style=\"white-space:pre;overflow-x:auto;line-height:normal;font-family:Menlo,'DejaVu Sans Mono',consolas,'Courier New',monospace\"><span style=\"color: #008000; text-decoration-color: #008000\">'1.13.1+cu117'</span>\n",
       "</pre>\n"
      ],
      "text/plain": [
       "\u001b[32m'1.13.1+cu117'\u001b[0m\n"
      ]
     },
     "metadata": {},
     "output_type": "display_data"
    }
   ],
   "source": [
    "torch.__version__"
   ]
  },
  {
   "cell_type": "code",
   "execution_count": 11,
   "id": "be27f1ec-a10e-489f-ae71-41872f793dcf",
   "metadata": {},
   "outputs": [],
   "source": [
    "torch.multiprocessing.set_sharing_strategy('file_system')"
   ]
  },
  {
   "cell_type": "code",
   "execution_count": 12,
   "id": "b5fb890c-e080-4efc-9fc1-08921ae2465f",
   "metadata": {},
   "outputs": [],
   "source": [
    "def set_seed(value):\n",
    "    random.seed(value)\n",
    "    np.random.seed(value)\n",
    "    torch.manual_seed(value)"
   ]
  },
  {
   "cell_type": "code",
   "execution_count": 13,
   "id": "72f9d948-5300-4141-8fbc-4423669b2c58",
   "metadata": {},
   "outputs": [],
   "source": [
    "set_seed(42)"
   ]
  },
  {
   "cell_type": "code",
   "execution_count": 14,
   "id": "e6431bb5-c5d5-4971-99f6-cc9aa519c24b",
   "metadata": {},
   "outputs": [],
   "source": [
    "DATASETS_PATH = '../datasets'"
   ]
  },
  {
   "cell_type": "code",
   "execution_count": 15,
   "id": "28183b50-45e4-4049-8595-5d595be2c1ba",
   "metadata": {},
   "outputs": [],
   "source": [
    "class AccFn(torch.nn.Module):\n",
    "    def __init__(self, device = CPU):\n",
    "        super().__init__()\n",
    "        self.model_type = 'AccFn'\n",
    "        self.device     = device\n",
    "\n",
    "    def forward(self, y_pred, y_true):\n",
    "        y_pred_probs  = F.softmax(y_pred, dim=1)\n",
    "        y_pred_values = torch.argmax(y_pred, axis=1).abs().to(self.device)\n",
    "        y_true_values = y_true.to(self.device)\n",
    "\n",
    "        tp = (y_pred_values == y_true_values).sum().item()\n",
    "\n",
    "        return tp / y_true_values.size(0)"
   ]
  },
  {
   "cell_type": "code",
   "execution_count": 16,
   "id": "32cf85ce-007c-4741-b218-cb4ccd6ea9db",
   "metadata": {},
   "outputs": [
    {
     "data": {
      "text/html": [
       "<pre style=\"white-space:pre;overflow-x:auto;line-height:normal;font-family:Menlo,'DejaVu Sans Mono',consolas,'Courier New',monospace\"><span style=\"color: #008080; text-decoration-color: #008080; font-weight: bold\">0.6666666666666666</span>\n",
       "</pre>\n"
      ],
      "text/plain": [
       "\u001b[1;36m0.6666666666666666\u001b[0m\n"
      ]
     },
     "metadata": {},
     "output_type": "display_data"
    }
   ],
   "source": [
    "y_pred = torch.tensor([\n",
    "    [1.0, 0.0, 0.0],\n",
    "    [0.0, 1.0, 0.0],\n",
    "    [0.1, 0.0, 1.0],\n",
    "])\n",
    "y_true = torch.tensor([0, 1, 0])\n",
    "\n",
    "AccFn()(y_pred, y_true)"
   ]
  },
  {
   "cell_type": "code",
   "execution_count": 17,
   "id": "05426c56-6b24-4ebb-be6d-e998b5c62f7a",
   "metadata": {},
   "outputs": [],
   "source": [
    "import torch\n",
    "import torch.nn.functional as F\n",
    "import pytorch_common.util as ut\n",
    "\n",
    "class CrossEntropyLossFn(torch.nn.Module):\n",
    "    def __init__(self, device = CPU):\n",
    "        super().__init__()\n",
    "        self.model_type = 'CrossEntropyLossFn'\n",
    "        self.loss       = torch.nn.CrossEntropyLoss().to(device)\n",
    "        self.device     = device\n",
    "\n",
    "    def forward(self, y_pred, y_true):\n",
    "        return self.loss(\n",
    "            y_pred.to(self.device),\n",
    "            y_true.type(torch.LongTensor).to(self.device)\n",
    "        )"
   ]
  },
  {
   "cell_type": "code",
   "execution_count": 18,
   "id": "bc1bf71e-6f1e-4070-a272-4443ba13bba8",
   "metadata": {},
   "outputs": [
    {
     "data": {
      "text/html": [
       "<pre style=\"white-space:pre;overflow-x:auto;line-height:normal;font-family:Menlo,'DejaVu Sans Mono',consolas,'Courier New',monospace\"><span style=\"color: #800080; text-decoration-color: #800080; font-weight: bold\">tensor</span><span style=\"font-weight: bold\">(</span><span style=\"color: #008080; text-decoration-color: #008080; font-weight: bold\">7.3598</span><span style=\"font-weight: bold\">)</span>\n",
       "</pre>\n"
      ],
      "text/plain": [
       "\u001b[1;35mtensor\u001b[0m\u001b[1m(\u001b[0m\u001b[1;36m7.3598\u001b[0m\u001b[1m)\u001b[0m\n"
      ]
     },
     "metadata": {},
     "output_type": "display_data"
    }
   ],
   "source": [
    "y_pred = torch.tensor([\n",
    "    [20.0, 0.0, 20.0], \n",
    "    [20.0, 0.0, 20.0], \n",
    "    [20.0, 0.0, 20.0]\n",
    "])\n",
    "y_true = torch.tensor([0, 1, 2])\n",
    "\n",
    "CrossEntropyLossFn()(y_pred, y_true)"
   ]
  },
  {
   "cell_type": "markdown",
   "id": "b8334d07-f306-42b4-8ea1-cc27b82eb343",
   "metadata": {},
   "source": [
    "## Carga de dataset"
   ]
  },
  {
   "cell_type": "code",
   "execution_count": 20,
   "id": "9b7a000c-0e80-42e7-8ff0-75cabbb08b81",
   "metadata": {},
   "outputs": [],
   "source": [
    "def to_tensor(obs, device, columns): \n",
    "    data = obs[columns]\n",
    "    if type(data) == pd.DataFrame:\n",
    "        data = data.values\n",
    "    return torch.tensor(data).to(device)\n",
    "\n",
    "features_fn = lambda obs, device: to_tensor(obs, device, ['user_seq', 'movie_seq'])\n",
    "target_fn   = lambda obs, device: to_tensor(obs, device, ['user_movie_rating'])\n",
    "\n",
    "dataset = ds.MovieLensTMDBDatasetFactory.from_path(\n",
    "    transform        = features_fn,\n",
    "    target_transform = target_fn,\n",
    "    device           = CPU,\n",
    "    filter_fn        = lambda df: df[(df['user_movie_rating_year'] >= 1990) & (df['user_movie_rating_year'] <= 2019)]\n",
    ")"
   ]
  },
  {
   "cell_type": "code",
   "execution_count": 21,
   "id": "4c151ce1-881d-4a76-909b-e452ca175ce1",
   "metadata": {},
   "outputs": [
    {
     "name": "stderr",
     "output_type": "stream",
     "text": [
      "2023-02-17 12:33:55,124 - INFO - Train: 74.85 % - Test: 8.66 %\n"
     ]
    }
   ],
   "source": [
    "train_set, eval_set = dataset.split_train_eval(split_year=2017)"
   ]
  },
  {
   "cell_type": "code",
   "execution_count": 23,
   "id": "9015533c-1fd9-4172-8361-4fef5d6cb5f7",
   "metadata": {},
   "outputs": [],
   "source": [
    "def find_movies_count_by_user(df):\n",
    "    return pd.DataFrame({\n",
    "       'n_movies': [movie_ids.shape[0] for movie_ids in df.groupby(['user_id']).groups.values()]\n",
    "    })\n",
    "\n",
    "df = find_movies_count_by_user(train_set.data)"
   ]
  },
  {
   "cell_type": "code",
   "execution_count": 24,
   "id": "2fc8721d-7393-4375-b9c1-115ff0fc9415",
   "metadata": {},
   "outputs": [
    {
     "data": {
      "text/html": [
       "<pre style=\"white-space:pre;overflow-x:auto;line-height:normal;font-family:Menlo,'DejaVu Sans Mono',consolas,'Courier New',monospace\"><span style=\"font-weight: bold\">(</span><span style=\"color: #008080; text-decoration-color: #008080; font-weight: bold\">0</span>, <span style=\"color: #008080; text-decoration-color: #008080; font-weight: bold\">16.0</span><span style=\"font-weight: bold\">)</span>\n",
       "</pre>\n"
      ],
      "text/plain": [
       "\u001b[1m(\u001b[0m\u001b[1;36m0\u001b[0m, \u001b[1;36m16.0\u001b[0m\u001b[1m)\u001b[0m\n"
      ]
     },
     "metadata": {},
     "output_type": "display_data"
    }
   ],
   "source": [
    "min_bound, max_bound = dt.n_iqr_range(df, 'n_movies')\n",
    "min_bound, max_bound"
   ]
  },
  {
   "cell_type": "code",
   "execution_count": 25,
   "id": "ac3d2285-3483-436c-988f-5b5317315955",
   "metadata": {},
   "outputs": [
    {
     "data": {
      "image/png": "[encoded data removed]"
     },
     "metadata": {},
     "output_type": "display_data"
    }
   ],
   "source": [
    "describe_num_var(df, 'n_movies')"
   ]
  },
  {
   "cell_type": "code",
   "execution_count": 31,
   "id": "ba9af249-f9d0-4a7d-bc6d-0abe1a60b096",
   "metadata": {},
   "outputs": [
    {
     "data": {
      "image/png": "[encoded data removed]"
     },
     "metadata": {},
     "output_type": "display_data"
    }
   ],
   "source": [
    "min_input_sequence_dim = 5\n",
    "max_input_sequence_dim = 15\n",
    "\n",
    "df = df[(df['n_movies'] >= min_input_sequence_dim) & (df['n_movies'] < max_input_sequence_dim)]\n",
    "\n",
    "describe_num_var(df, 'n_movies')"
   ]
  },
  {
   "cell_type": "code",
   "execution_count": 33,
   "id": "1c2b7e09-505b-4388-8393-5c68d0a833ab",
   "metadata": {},
   "outputs": [
    {
     "data": {
      "text/html": [
       "<pre style=\"white-space:pre;overflow-x:auto;line-height:normal;font-family:Menlo,'DejaVu Sans Mono',consolas,'Courier New',monospace\"><span style=\"color: #008080; text-decoration-color: #008080; font-weight: bold\">15176</span>\n",
       "</pre>\n"
      ],
      "text/plain": [
       "\u001b[1;36m15176\u001b[0m\n"
      ]
     },
     "metadata": {},
     "output_type": "display_data"
    }
   ],
   "source": [
    "n_movies = train_set.data['movie_id'].unique().shape[0]\n",
    "print(n_movies)"
   ]
  },
  {
   "cell_type": "code",
   "execution_count": 34,
   "id": "b5e40093-db52-4819-a255-c957f2b9f978",
   "metadata": {},
   "outputs": [],
   "source": [
    "params = Bunch(\n",
    "    epochs               = 60,\n",
    "    feat_seq_len         = min_input_sequence_dim,\n",
    "    max_input_seq_len    = max_input_sequence_dim,\n",
    "    id_seq_init          = 0,\n",
    "    train_batch_size     = 512,\n",
    "    eval_batch_size      = 16,\n",
    "    n_workers            = 8,\n",
    "    n_heads              = 5,\n",
    "    hidden_state_size    = 64,\n",
    "    n_transformer_layers = 2,\n",
    "    dropout              = 0.2,\n",
    "    lr                   = 0.001,\n",
    "    embedding_dim        = 50,\n",
    "    vocab_size           = n_movies + 1,\n",
    "    n_classes            = n_movies,\n",
    "    mask                 = n_movies\n",
    ")"
   ]
  },
  {
   "cell_type": "code",
   "execution_count": 42,
   "id": "dc3aa234-50c4-4628-bc4a-fca8d97837b6",
   "metadata": {},
   "outputs": [],
   "source": [
    "train_set.data['timestamp'] = train_set.data['user_movie_rating_timestamp']\n",
    "eval_set.data['timestamp']  = eval_set.data['user_movie_rating_timestamp']"
   ]
  },
  {
   "cell_type": "code",
   "execution_count": 43,
   "id": "41e39537-6cb4-42c9-8a63-d0fd26a85e73",
   "metadata": {},
   "outputs": [
    {
     "name": "stderr",
     "output_type": "stream",
     "text": [
      "2023-02-17 13:23:38,977 - INFO - group movies by user id\n",
      "2023-02-17 13:23:38,978 - INFO - get ordered user movie sequences <= 15\n"
     ]
    },
    {
     "data": {
      "application/vnd.jupyter.widget-view+json": {
       "model_id": "acf1789eeb0146bdad04a05d432815ad",
       "version_major": 2,
       "version_minor": 0
      },
      "text/plain": [
       "Get user movie sequences:   0%|          | 0/149546 [00:00<?, ?it/s]"
      ]
     },
     "metadata": {},
     "output_type": "display_data"
    },
    {
     "name": "stderr",
     "output_type": "stream",
     "text": [
      "2023-02-17 13:25:06,499 - INFO - chunk movie sequences with size=5\n"
     ]
    },
    {
     "data": {
      "application/vnd.jupyter.widget-view+json": {
       "model_id": "c1743bf3d73b447493b27a0ebb08809d",
       "version_major": 2,
       "version_minor": 0
      },
      "text/plain": [
       "Filter complete padded:   0%|          | 0/7865 [00:00<?, ?it/s]"
      ]
     },
     "metadata": {},
     "output_type": "display_data"
    },
    {
     "name": "stderr",
     "output_type": "stream",
     "text": [
      "2023-02-17 13:25:06,762 - INFO - group movies by user id\n",
      "2023-02-17 13:25:06,763 - INFO - get ordered user movie sequences <= 15\n"
     ]
    },
    {
     "data": {
      "application/vnd.jupyter.widget-view+json": {
       "model_id": "19258d747e9a4e4494210235ba9cbbbc",
       "version_major": 2,
       "version_minor": 0
      },
      "text/plain": [
       "Get user movie sequences:   0%|          | 0/17300 [00:00<?, ?it/s]"
      ]
     },
     "metadata": {},
     "output_type": "display_data"
    },
    {
     "name": "stderr",
     "output_type": "stream",
     "text": [
      "2023-02-17 13:25:14,748 - INFO - chunk movie sequences with size=5\n"
     ]
    },
    {
     "data": {
      "application/vnd.jupyter.widget-view+json": {
       "model_id": "7552953e93274a84a86693508490d8ee",
       "version_major": 2,
       "version_minor": 0
      },
      "text/plain": [
       "Filter complete padded:   0%|          | 0/999 [00:00<?, ?it/s]"
      ]
     },
     "metadata": {},
     "output_type": "display_data"
    },
    {
     "data": {
      "application/vnd.jupyter.widget-view+json": {
       "model_id": "ffd3ad57ed8941798a6a6ecc785ac569",
       "version_major": 2,
       "version_minor": 0
      },
      "text/plain": [
       "Filter target that not in train:   0%|          | 0/999 [00:00<?, ?it/s]"
      ]
     },
     "metadata": {},
     "output_type": "display_data"
    },
    {
     "name": "stderr",
     "output_type": "stream",
     "text": [
      "2023-02-17 13:25:14,847 - INFO - targets not in train set: 313\n"
     ]
    }
   ],
   "source": [
    "try:\n",
    "    train_ds = ds.SequenceDataset.load(f'{DATASETS_PATH}/train')\n",
    "except:\n",
    "    train_ds = ds.MovieSequenceDatasetFactory.create(\n",
    "        train_set.data,\n",
    "        feat_seq_len      = params.feat_seq_len,\n",
    "        id_seq_init       = params.id_seq_init,\n",
    "        max_movie_seq_len = params.max_input_seq_len,\n",
    "        mask              = params.mask\n",
    "    )\n",
    "    train_ds.save(f'{DATASETS_PATH}/train')\n",
    "    \n",
    "try:\n",
    "    eval_ds = ds.SequenceDataset.load(f'{DATASETS_PATH}/eval')\n",
    "except:\n",
    "    eval_ds = ds.MovieSequenceDatasetFactory.create(\n",
    "        eval_set.data,\n",
    "        feat_seq_len      = params.feat_seq_len,\n",
    "        id_seq_init       = params.id_seq_init,\n",
    "        max_movie_seq_len = params.max_input_seq_len,\n",
    "        train_ds          = train_ds,\n",
    "        mask              = params.mask\n",
    "    )\n",
    "    eval_ds.save(f'{DATASETS_PATH}/eval')\n",
    "\n",
    "\n",
    "train_dl = DataLoader(\n",
    "    train_ds,\n",
    "    params.train_batch_size,\n",
    "    num_workers     = params.n_workers,\n",
    "    pin_memory      = True,\n",
    "    shuffle         = True\n",
    ")\n",
    "eval_dl  = DataLoader(\n",
    "    eval_ds,\n",
    "    params.eval_batch_size,\n",
    "    num_workers     = params.n_workers,\n",
    "    pin_memory      = False,\n",
    "    shuffle         = True,\n",
    "    prefetch_factor = 1\n",
    ")"
   ]
  },
  {
   "cell_type": "markdown",
   "id": "2c2455c3-91ff-4b28-934a-623193c38674",
   "metadata": {
    "tags": []
   },
   "source": [
    "## Model Definition"
   ]
  },
  {
   "cell_type": "code",
   "execution_count": 44,
   "id": "8666f8fa-10a8-47a4-b8bd-391abd82a4f2",
   "metadata": {},
   "outputs": [],
   "source": [
    "model = ml.TransformerClasifier(\n",
    "    embedding_dim        = params.embedding_dim,\n",
    "    vocab_size           = params.vocab_size,\n",
    "    sequence_size        = params.feat_seq_len,\n",
    "    mask_position        = params.mask,\n",
    "    nhead                = params.n_heads,\n",
    "    hidden_state_size    = params.hidden_state_size,\n",
    "    n_transformer_layers = params.n_transformer_layers,\n",
    "    dropout              = params.dropout,\n",
    "    n_classes            = params.n_classes\n",
    ").to(pu.get_device())"
   ]
  },
  {
   "cell_type": "markdown",
   "id": "d274b064-38f1-4329-9d22-0678c89f07e2",
   "metadata": {},
   "source": [
    "### Model Training"
   ]
  },
  {
   "cell_type": "code",
   "execution_count": 45,
   "id": "9d7fb3ea-dbd7-4065-aca2-7b66717483a2",
   "metadata": {},
   "outputs": [
    {
     "name": "stderr",
     "output_type": "stream",
     "text": [
      "2023-02-17 13:26:03,879 - INFO - {'time': '0:00:02.39', 'epoch': 1, 'train_loss': 9.561674535274506, 'val_loss': tensor(9.3427), 'val_acc': 0.0}\n",
      "2023-02-17 13:26:05,178 - INFO - {'time': '0:00:01.27', 'epoch': 2, 'train_loss': 8.882871210575104, 'val_loss': tensor(8.5455), 'val_acc': 0.0}\n",
      "2023-02-17 13:26:06,472 - INFO - {'time': '0:00:01.26', 'epoch': 3, 'train_loss': 8.286432325839996, 'val_loss': tensor(8.1503), 'val_acc': 0.0014577259475218659}\n",
      "2023-02-17 13:26:07,871 - INFO - {'time': '0:00:01.37', 'epoch': 4, 'train_loss': 7.9672525227069855, 'val_loss': tensor(7.9952), 'val_acc': 0.0014577259475218659}\n",
      "2023-02-17 13:26:09,313 - INFO - {'time': '0:00:01.41', 'epoch': 5, 'train_loss': 7.821937739849091, 'val_loss': tensor(7.9388), 'val_acc': 0.0014577259475218659}\n",
      "2023-02-17 13:26:10,680 - INFO - {'time': '0:00:01.34', 'epoch': 6, 'train_loss': 7.7607904970645905, 'val_loss': tensor(7.9220), 'val_acc': 0.0014577259475218659}\n",
      "2023-02-17 13:26:11,983 - INFO - {'time': '0:00:01.27', 'epoch': 7, 'train_loss': 7.731971740722656, 'val_loss': tensor(7.9095), 'val_acc': 0.0014577259475218659}\n",
      "2023-02-17 13:26:13,267 - INFO - {'time': '0:00:01.26', 'epoch': 8, 'train_loss': 7.708744406700134, 'val_loss': tensor(7.8988), 'val_acc': 0.0014577259475218659}\n",
      "2023-02-17 13:26:14,571 - INFO - {'time': '0:00:01.27', 'epoch': 9, 'train_loss': 7.680366009473801, 'val_loss': tensor(7.9044), 'val_acc': 0.0014577259475218659}\n",
      "2023-02-17 13:26:15,868 - INFO - {'time': '0:00:01.27', 'epoch': 10, 'train_loss': 7.644735038280487, 'val_loss': tensor(7.9020), 'val_acc': 0.0014577259475218659}\n",
      "2023-02-17 13:26:17,148 - INFO - {'time': '0:00:01.25', 'epoch': 11, 'train_loss': 7.579967558383942, 'val_loss': tensor(7.9005), 'val_acc': 0.0}\n",
      "2023-02-17 13:26:18,477 - INFO - {'time': '0:00:01.30', 'epoch': 12, 'train_loss': 7.508736044168472, 'val_loss': tensor(7.9235), 'val_acc': 0.0}\n",
      "2023-02-17 13:26:19,782 - INFO - {'time': '0:00:01.28', 'epoch': 13, 'train_loss': 7.416496723890305, 'val_loss': tensor(7.9163), 'val_acc': 0.0}\n",
      "2023-02-17 13:26:21,017 - INFO - {'time': '0:00:01.21', 'epoch': 14, 'train_loss': 7.320530325174332, 'val_loss': tensor(7.9406), 'val_acc': 0.0}\n",
      "2023-02-17 13:26:22,314 - INFO - {'time': '0:00:01.27', 'epoch': 15, 'train_loss': 7.215962201356888, 'val_loss': tensor(7.9489), 'val_acc': 0.0014577259475218659}\n",
      "2023-02-17 13:26:23,686 - INFO - {'time': '0:00:01.34', 'epoch': 16, 'train_loss': 7.104294776916504, 'val_loss': tensor(7.9944), 'val_acc': 0.0014577259475218659}\n",
      "2023-02-17 13:26:25,028 - INFO - {'time': '0:00:01.32', 'epoch': 17, 'train_loss': 6.978847712278366, 'val_loss': tensor(8.0064), 'val_acc': 0.0}\n",
      "2023-02-17 13:26:26,324 - INFO - {'time': '0:00:01.26', 'epoch': 18, 'train_loss': 6.852561175823212, 'val_loss': tensor(8.0519), 'val_acc': 0.0}\n",
      "2023-02-17 13:26:27,620 - INFO - {'time': '0:00:01.26', 'epoch': 19, 'train_loss': 6.726883828639984, 'val_loss': tensor(8.0828), 'val_acc': 0.0}\n",
      "2023-02-17 13:26:28,939 - INFO - {'time': '0:00:01.29', 'epoch': 20, 'train_loss': 6.6003395318984985, 'val_loss': tensor(8.1156), 'val_acc': 0.0}\n",
      "2023-02-17 13:26:30,284 - INFO - {'time': '0:00:01.32', 'epoch': 21, 'train_loss': 6.460170745849609, 'val_loss': tensor(8.1895), 'val_acc': 0.0}\n",
      "2023-02-17 13:26:31,624 - INFO - {'time': '0:00:01.31', 'epoch': 22, 'train_loss': 6.348581224679947, 'val_loss': tensor(8.2250), 'val_acc': 0.0}\n",
      "2023-02-17 13:26:33,016 - INFO - {'time': '0:00:01.36', 'epoch': 23, 'train_loss': 6.22380194067955, 'val_loss': tensor(8.2845), 'val_acc': 0.0}\n",
      "2023-02-17 13:26:34,327 - INFO - {'time': '0:00:01.28', 'epoch': 24, 'train_loss': 6.108056217432022, 'val_loss': tensor(8.3361), 'val_acc': 0.0}\n",
      "2023-02-17 13:26:35,602 - INFO - {'time': '0:00:01.24', 'epoch': 25, 'train_loss': 5.993342995643616, 'val_loss': tensor(8.3899), 'val_acc': 0.0}\n",
      "2023-02-17 13:26:36,841 - INFO - {'time': '0:00:01.21', 'epoch': 26, 'train_loss': 5.869901359081268, 'val_loss': tensor(8.4450), 'val_acc': 0.0}\n",
      "2023-02-17 13:26:38,120 - INFO - {'time': '0:00:01.25', 'epoch': 27, 'train_loss': 5.760763049125671, 'val_loss': tensor(8.5074), 'val_acc': 0.0014577259475218659}\n",
      "2023-02-17 13:26:39,360 - INFO - {'time': '0:00:01.21', 'epoch': 28, 'train_loss': 5.64734011888504, 'val_loss': tensor(8.5610), 'val_acc': 0.0}\n",
      "2023-02-17 13:26:40,646 - INFO - {'time': '0:00:01.25', 'epoch': 29, 'train_loss': 5.526335895061493, 'val_loss': tensor(8.6354), 'val_acc': 0.0014577259475218659}\n",
      "2023-02-17 13:26:41,896 - INFO - {'time': '0:00:01.22', 'epoch': 30, 'train_loss': 5.436911463737488, 'val_loss': tensor(8.7020), 'val_acc': 0.0}\n",
      "2023-02-17 13:26:43,191 - INFO - {'time': '0:00:01.26', 'epoch': 31, 'train_loss': 5.326595157384872, 'val_loss': tensor(8.7801), 'val_acc': 0.0014577259475218659}\n",
      "2023-02-17 13:26:44,461 - INFO - {'time': '0:00:01.24', 'epoch': 32, 'train_loss': 5.209688633680344, 'val_loss': tensor(8.8207), 'val_acc': 0.0014577259475218659}\n",
      "2023-02-17 13:26:45,721 - INFO - {'time': '0:00:01.24', 'epoch': 33, 'train_loss': 5.105956882238388, 'val_loss': tensor(8.9019), 'val_acc': 0.0}\n",
      "2023-02-17 13:26:47,117 - INFO - {'time': '0:00:01.36', 'epoch': 34, 'train_loss': 5.002915978431702, 'val_loss': tensor(8.9623), 'val_acc': 0.0014577259475218659}\n",
      "2023-02-17 13:26:48,449 - INFO - {'time': '0:00:01.30', 'epoch': 35, 'train_loss': 4.907261103391647, 'val_loss': tensor(9.0587), 'val_acc': 0.0014577259475218659}\n",
      "2023-02-17 13:26:49,821 - INFO - {'time': '0:00:01.34', 'epoch': 36, 'train_loss': 4.80192232131958, 'val_loss': tensor(9.1055), 'val_acc': 0.0014577259475218659}\n",
      "2023-02-17 13:26:51,160 - INFO - {'time': '0:00:01.31', 'epoch': 37, 'train_loss': 4.711118817329407, 'val_loss': tensor(9.1878), 'val_acc': 0.0014577259475218659}\n",
      "2023-02-17 13:26:52,463 - INFO - {'time': '0:00:01.27', 'epoch': 38, 'train_loss': 4.602732747793198, 'val_loss': tensor(9.2560), 'val_acc': 0.0014577259475218659}\n",
      "2023-02-17 13:26:53,758 - INFO - {'time': '0:00:01.26', 'epoch': 39, 'train_loss': 4.506198436021805, 'val_loss': tensor(9.3534), 'val_acc': 0.0}\n",
      "2023-02-17 13:26:54,984 - INFO - {'time': '0:00:01.20', 'epoch': 40, 'train_loss': 4.4107179045677185, 'val_loss': tensor(9.4203), 'val_acc': 0.0029154518950437317}\n",
      "2023-02-17 13:26:56,281 - INFO - {'time': '0:00:01.26', 'epoch': 41, 'train_loss': 4.333011567592621, 'val_loss': tensor(9.5176), 'val_acc': 0.0014577259475218659}\n",
      "2023-02-17 13:26:57,618 - INFO - {'time': '0:00:01.30', 'epoch': 42, 'train_loss': 4.2094839215278625, 'val_loss': tensor(9.5783), 'val_acc': 0.0014577259475218659}\n",
      "2023-02-17 13:26:58,889 - INFO - {'time': '0:00:01.24', 'epoch': 43, 'train_loss': 4.132114559412003, 'val_loss': tensor(9.6625), 'val_acc': 0.0014577259475218659}\n",
      "2023-02-17 13:27:00,192 - INFO - {'time': '0:00:01.27', 'epoch': 44, 'train_loss': 4.032589942216873, 'val_loss': tensor(9.7600), 'val_acc': 0.0}\n",
      "2023-02-17 13:27:01,487 - INFO - {'time': '0:00:01.27', 'epoch': 45, 'train_loss': 3.9651095420122147, 'val_loss': tensor(9.8420), 'val_acc': 0.0}\n",
      "2023-02-17 13:27:02,865 - INFO - {'time': '0:00:01.35', 'epoch': 46, 'train_loss': 3.875245377421379, 'val_loss': tensor(9.9036), 'val_acc': 0.0014577259475218659}\n",
      "2023-02-17 13:27:04,155 - INFO - {'time': '0:00:01.26', 'epoch': 47, 'train_loss': 3.7663136273622513, 'val_loss': tensor(10.0028), 'val_acc': 0.0}\n"
     ]
    },
    {
     "ename": "KeyboardInterrupt",
     "evalue": "",
     "output_type": "error",
     "traceback": [
      "\u001b[0;31m---------------------------------------------------------------------------\u001b[0m",
      "\u001b[0;31mKeyboardInterrupt\u001b[0m                         Traceback (most recent call last)",
      "File \u001b[0;32m<timed eval>:1\u001b[0m\n",
      "File \u001b[0;32m~/.conda/envs/thesis/lib/python3.10/site-packages/pytorch_common/modules/fit_mixin.py:32\u001b[0m, in \u001b[0;36mFitMixin.fit\u001b[0;34m(self, data_loader, loss_fn, epochs, optimizer, callbacks, verbose, extra_ctx)\u001b[0m\n\u001b[1;32m     29\u001b[0m \u001b[38;5;28;01mfor\u001b[39;00m epoch \u001b[38;5;129;01min\u001b[39;00m \u001b[38;5;28mrange\u001b[39m(epochs):\n\u001b[1;32m     30\u001b[0m     callback_manager\u001b[38;5;241m.\u001b[39mon_epoch_start(epoch)\n\u001b[0;32m---> 32\u001b[0m     train_loss \u001b[38;5;241m=\u001b[39m \u001b[43mFn\u001b[49m\u001b[38;5;241;43m.\u001b[39;49m\u001b[43mtrain\u001b[49m\u001b[43m(\u001b[49m\n\u001b[1;32m     33\u001b[0m \u001b[43m        \u001b[49m\u001b[38;5;28;43mself\u001b[39;49m\u001b[43m,\u001b[49m\n\u001b[1;32m     34\u001b[0m \u001b[43m        \u001b[49m\u001b[43mdata_loader\u001b[49m\u001b[43m,\u001b[49m\n\u001b[1;32m     35\u001b[0m \u001b[43m        \u001b[49m\u001b[43mloss_fn\u001b[49m\u001b[43m,\u001b[49m\n\u001b[1;32m     36\u001b[0m \u001b[43m        \u001b[49m\u001b[43moptimizer\u001b[49m\u001b[43m,\u001b[49m\n\u001b[1;32m     37\u001b[0m \u001b[43m        \u001b[49m\u001b[43mcallback_manager\u001b[49m\u001b[38;5;241;43m.\u001b[39;49m\u001b[43mctx\u001b[49m\u001b[38;5;241;43m.\u001b[39;49m\u001b[43mdevice\u001b[49m\n\u001b[1;32m     38\u001b[0m \u001b[43m    \u001b[49m\u001b[43m)\u001b[49m\n\u001b[1;32m     40\u001b[0m     callback_manager\u001b[38;5;241m.\u001b[39mon_epoch_end(train_loss)\n\u001b[1;32m     42\u001b[0m     \u001b[38;5;28;01mif\u001b[39;00m callback_manager\u001b[38;5;241m.\u001b[39mbreak_training():\n",
      "File \u001b[0;32m~/.conda/envs/thesis/lib/python3.10/site-packages/pytorch_common/modules/fn.py:15\u001b[0m, in \u001b[0;36mFn.train\u001b[0;34m(model, data_loader, loss_fn, optimizer, device)\u001b[0m\n\u001b[1;32m     12\u001b[0m features, target \u001b[38;5;241m=\u001b[39m features\u001b[38;5;241m.\u001b[39mto(device), target\u001b[38;5;241m.\u001b[39mto(device)\n\u001b[1;32m     13\u001b[0m y \u001b[38;5;241m=\u001b[39m model(features)\n\u001b[0;32m---> 15\u001b[0m \u001b[43mmodel\u001b[49m\u001b[38;5;241;43m.\u001b[39;49m\u001b[43mzero_grad\u001b[49m\u001b[43m(\u001b[49m\u001b[43m)\u001b[49m\n\u001b[1;32m     16\u001b[0m loss \u001b[38;5;241m=\u001b[39m loss_fn(y, target)\n\u001b[1;32m     18\u001b[0m loss\u001b[38;5;241m.\u001b[39mbackward()\n",
      "File \u001b[0;32m~/.local/lib/python3.10/site-packages/torch/nn/modules/module.py:1971\u001b[0m, in \u001b[0;36mModule.zero_grad\u001b[0;34m(self, set_to_none)\u001b[0m\n\u001b[1;32m   1964\u001b[0m \u001b[38;5;28;01mif\u001b[39;00m \u001b[38;5;28mgetattr\u001b[39m(\u001b[38;5;28mself\u001b[39m, \u001b[38;5;124m'\u001b[39m\u001b[38;5;124m_is_replica\u001b[39m\u001b[38;5;124m'\u001b[39m, \u001b[38;5;28;01mFalse\u001b[39;00m):\n\u001b[1;32m   1965\u001b[0m     warnings\u001b[38;5;241m.\u001b[39mwarn(\n\u001b[1;32m   1966\u001b[0m         \u001b[38;5;124m\"\u001b[39m\u001b[38;5;124mCalling .zero_grad() from a module created with nn.DataParallel() has no effect. \u001b[39m\u001b[38;5;124m\"\u001b[39m\n\u001b[1;32m   1967\u001b[0m         \u001b[38;5;124m\"\u001b[39m\u001b[38;5;124mThe parameters are copied (in a differentiable manner) from the original module. \u001b[39m\u001b[38;5;124m\"\u001b[39m\n\u001b[1;32m   1968\u001b[0m         \u001b[38;5;124m\"\u001b[39m\u001b[38;5;124mThis means they are not leaf nodes in autograd and so don\u001b[39m\u001b[38;5;124m'\u001b[39m\u001b[38;5;124mt accumulate gradients. \u001b[39m\u001b[38;5;124m\"\u001b[39m\n\u001b[1;32m   1969\u001b[0m         \u001b[38;5;124m\"\u001b[39m\u001b[38;5;124mIf you need gradients in your forward method, consider using autograd.grad instead.\u001b[39m\u001b[38;5;124m\"\u001b[39m)\n\u001b[0;32m-> 1971\u001b[0m \u001b[38;5;28;01mfor\u001b[39;00m p \u001b[38;5;129;01min\u001b[39;00m \u001b[38;5;28mself\u001b[39m\u001b[38;5;241m.\u001b[39mparameters():\n\u001b[1;32m   1972\u001b[0m     \u001b[38;5;28;01mif\u001b[39;00m p\u001b[38;5;241m.\u001b[39mgrad \u001b[38;5;129;01mis\u001b[39;00m \u001b[38;5;129;01mnot\u001b[39;00m \u001b[38;5;28;01mNone\u001b[39;00m:\n\u001b[1;32m   1973\u001b[0m         \u001b[38;5;28;01mif\u001b[39;00m set_to_none:\n",
      "File \u001b[0;32m~/.local/lib/python3.10/site-packages/torch/nn/modules/module.py:1710\u001b[0m, in \u001b[0;36mModule.parameters\u001b[0;34m(self, recurse)\u001b[0m\n\u001b[1;32m   1688\u001b[0m \u001b[38;5;28;01mdef\u001b[39;00m \u001b[38;5;21mparameters\u001b[39m(\u001b[38;5;28mself\u001b[39m, recurse: \u001b[38;5;28mbool\u001b[39m \u001b[38;5;241m=\u001b[39m \u001b[38;5;28;01mTrue\u001b[39;00m) \u001b[38;5;241m-\u001b[39m\u001b[38;5;241m>\u001b[39m Iterator[Parameter]:\n\u001b[1;32m   1689\u001b[0m \u001b[38;5;250m    \u001b[39m\u001b[38;5;124mr\u001b[39m\u001b[38;5;124;03m\"\"\"Returns an iterator over module parameters.\u001b[39;00m\n\u001b[1;32m   1690\u001b[0m \n\u001b[1;32m   1691\u001b[0m \u001b[38;5;124;03m    This is typically passed to an optimizer.\u001b[39;00m\n\u001b[0;32m   (...)\u001b[0m\n\u001b[1;32m   1708\u001b[0m \n\u001b[1;32m   1709\u001b[0m \u001b[38;5;124;03m    \"\"\"\u001b[39;00m\n\u001b[0;32m-> 1710\u001b[0m     \u001b[38;5;28;01mfor\u001b[39;00m name, param \u001b[38;5;129;01min\u001b[39;00m \u001b[38;5;28mself\u001b[39m\u001b[38;5;241m.\u001b[39mnamed_parameters(recurse\u001b[38;5;241m=\u001b[39mrecurse):\n\u001b[1;32m   1711\u001b[0m         \u001b[38;5;28;01myield\u001b[39;00m param\n",
      "File \u001b[0;32m~/.local/lib/python3.10/site-packages/torch/nn/modules/module.py:1737\u001b[0m, in \u001b[0;36mModule.named_parameters\u001b[0;34m(self, prefix, recurse)\u001b[0m\n\u001b[1;32m   1714\u001b[0m \u001b[38;5;250m\u001b[39m\u001b[38;5;124mr\u001b[39m\u001b[38;5;124;03m\"\"\"Returns an iterator over module parameters, yielding both the\u001b[39;00m\n\u001b[1;32m   1715\u001b[0m \u001b[38;5;124;03mname of the parameter as well as the parameter itself.\u001b[39;00m\n\u001b[1;32m   1716\u001b[0m \n\u001b[0;32m   (...)\u001b[0m\n\u001b[1;32m   1732\u001b[0m \n\u001b[1;32m   1733\u001b[0m \u001b[38;5;124;03m\"\"\"\u001b[39;00m\n\u001b[1;32m   1734\u001b[0m gen \u001b[38;5;241m=\u001b[39m \u001b[38;5;28mself\u001b[39m\u001b[38;5;241m.\u001b[39m_named_members(\n\u001b[1;32m   1735\u001b[0m     \u001b[38;5;28;01mlambda\u001b[39;00m module: module\u001b[38;5;241m.\u001b[39m_parameters\u001b[38;5;241m.\u001b[39mitems(),\n\u001b[1;32m   1736\u001b[0m     prefix\u001b[38;5;241m=\u001b[39mprefix, recurse\u001b[38;5;241m=\u001b[39mrecurse)\n\u001b[0;32m-> 1737\u001b[0m \u001b[38;5;28;01mfor\u001b[39;00m elem \u001b[38;5;129;01min\u001b[39;00m gen:\n\u001b[1;32m   1738\u001b[0m     \u001b[38;5;28;01myield\u001b[39;00m elem\n",
      "File \u001b[0;32m~/.local/lib/python3.10/site-packages/torch/nn/modules/module.py:1679\u001b[0m, in \u001b[0;36mModule._named_members\u001b[0;34m(self, get_members_fn, prefix, recurse)\u001b[0m\n\u001b[1;32m   1677\u001b[0m memo \u001b[38;5;241m=\u001b[39m \u001b[38;5;28mset\u001b[39m()\n\u001b[1;32m   1678\u001b[0m modules \u001b[38;5;241m=\u001b[39m \u001b[38;5;28mself\u001b[39m\u001b[38;5;241m.\u001b[39mnamed_modules(prefix\u001b[38;5;241m=\u001b[39mprefix) \u001b[38;5;28;01mif\u001b[39;00m recurse \u001b[38;5;28;01melse\u001b[39;00m [(prefix, \u001b[38;5;28mself\u001b[39m)]\n\u001b[0;32m-> 1679\u001b[0m \u001b[38;5;28;01mfor\u001b[39;00m module_prefix, module \u001b[38;5;129;01min\u001b[39;00m modules:\n\u001b[1;32m   1680\u001b[0m     members \u001b[38;5;241m=\u001b[39m get_members_fn(module)\n\u001b[1;32m   1681\u001b[0m     \u001b[38;5;28;01mfor\u001b[39;00m k, v \u001b[38;5;129;01min\u001b[39;00m members:\n",
      "File \u001b[0;32m~/.local/lib/python3.10/site-packages/torch/nn/modules/module.py:1886\u001b[0m, in \u001b[0;36mModule.named_modules\u001b[0;34m(self, memo, prefix, remove_duplicate)\u001b[0m\n\u001b[1;32m   1884\u001b[0m \u001b[38;5;28;01myield\u001b[39;00m prefix, \u001b[38;5;28mself\u001b[39m\n\u001b[1;32m   1885\u001b[0m \u001b[38;5;28;01mfor\u001b[39;00m name, module \u001b[38;5;129;01min\u001b[39;00m \u001b[38;5;28mself\u001b[39m\u001b[38;5;241m.\u001b[39m_modules\u001b[38;5;241m.\u001b[39mitems():\n\u001b[0;32m-> 1886\u001b[0m     \u001b[38;5;28;01mif\u001b[39;00m module \u001b[38;5;129;01mis\u001b[39;00m \u001b[38;5;28;01mNone\u001b[39;00m:\n\u001b[1;32m   1887\u001b[0m         \u001b[38;5;28;01mcontinue\u001b[39;00m\n\u001b[1;32m   1888\u001b[0m     submodule_prefix \u001b[38;5;241m=\u001b[39m prefix \u001b[38;5;241m+\u001b[39m (\u001b[38;5;124m'\u001b[39m\u001b[38;5;124m.\u001b[39m\u001b[38;5;124m'\u001b[39m \u001b[38;5;28;01mif\u001b[39;00m prefix \u001b[38;5;28;01melse\u001b[39;00m \u001b[38;5;124m'\u001b[39m\u001b[38;5;124m'\u001b[39m) \u001b[38;5;241m+\u001b[39m name\n",
      "\u001b[0;31mKeyboardInterrupt\u001b[0m: "
     ]
    }
   ],
   "source": [
    "%%time\n",
    "model.fit(\n",
    "    train_dl,\n",
    "    epochs    = params.epochs,\n",
    "    loss_fn   = CrossEntropyLossFn(),\n",
    "    optimizer = Adam(\n",
    "        params  = model.parameters(),\n",
    "        lr      = params.lr\n",
    "    ),\n",
    "    callbacks = [\n",
    "        Validation(\n",
    "            eval_dl,\n",
    "            metrics       = { 'val_acc' : AccFn(), 'val_loss': CrossEntropyLossFn() },\n",
    "            each_n_epochs = 1\n",
    "        ),\n",
    "        Logger(['time', 'epoch', 'train_loss', 'val_loss', 'val_acc'])\n",
    "    ]\n",
    ")"
   ]
  },
  {
   "cell_type": "code",
   "execution_count": null,
   "id": "76a7cf77-a55b-4a07-ac5d-7ce6ce8046e2",
   "metadata": {},
   "outputs": [],
   "source": []
  }
 ],
 "metadata": {
  "kernelspec": {
   "display_name": "Python 3 (ipykernel)",
   "language": "python",
   "name": "python3"
  },
  "language_info": {
   "codemirror_mode": {
    "name": "ipython",
    "version": 3
   },
   "file_extension": ".py",
   "mimetype": "text/x-python",
   "name": "python",
   "nbconvert_exporter": "python",
   "pygments_lexer": "ipython3",
   "version": "3.10.9"
  },
  "widgets": {
   "application/vnd.jupyter.widget-state+json": {
    "state": {},
    "version_major": 2,
    "version_minor": 0
   }
  }
 },
 "nbformat": 4,
 "nbformat_minor": 5
}
