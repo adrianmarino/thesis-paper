{
 "cells": [
  {
   "cell_type": "code",
   "execution_count": 5,
   "id": "a512e4d9-393c-4417-bb6d-b61c179c5279",
   "metadata": {},
   "outputs": [],
   "source": [
    "%%capture output\n",
    "%load_ext autoreload\n",
    "%autoreload 2"
   ]
  },
  {
   "cell_type": "code",
   "execution_count": 6,
   "id": "88850d6f-b150-40ed-94dd-9942524eb9d1",
   "metadata": {},
   "outputs": [],
   "source": [
    "import sys\n",
    "import os\n",
    "\n",
    "BASE_PATH         = '../..'\n",
    "API_PATH          = f'{BASE_PATH}/chat-bot-api'\n",
    "LIB_PATH          = f'{BASE_PATH}/lib'\n",
    "DATASET_PATH      = f'{BASE_PATH}/datasets'\n",
    "METRICS_PATH      = f'{BASE_PATH}/metrics'\n",
    "EVAL_METRICS_PATH = f'{METRICS_PATH}/evaluation-metrics.dt'\n",
    "RUN_EVALUATION    = True\n",
    "\n",
    "os.environ['TMP_PATH']         = f'{BASE_PATH}/tmp'\n",
    "os.environ['DATASET_PATH']     = f'{BASE_PATH}/datasets'\n",
    "os.environ['WEIGHTS_PATH']     = f'{BASE_PATH}/weights'\n",
    "os.environ['METRICS_PATH']     = f'{BASE_PATH}/metrics'\n",
    "\n",
    "sys.path.append(LIB_PATH)\n",
    "sys.path.append(API_PATH)"
   ]
  },
  {
   "cell_type": "code",
   "execution_count": 17,
   "id": "f9882c92-d988-48dd-9624-0c1bdfa1a525",
   "metadata": {},
   "outputs": [],
   "source": [
    "import logging\n",
    "import os\n",
    "import pytorch_common.util as pu\n",
    "import util as ut\n",
    "from app_context import AppContext\n",
    "from services import ItemSimQuery\n",
    "from sentence_transformers import CrossEncoder"
   ]
  },
  {
   "cell_type": "code",
   "execution_count": 8,
   "id": "9f983f66-6751-4f6e-bc6c-a3c1ef217113",
   "metadata": {},
   "outputs": [
    {
     "data": {
      "text/html": [
       "<pre style=\"white-space:pre;overflow-x:auto;line-height:normal;font-family:Menlo,'DejaVu Sans Mono',consolas,'Courier New',monospace\"></pre>\n"
      ],
      "text/plain": []
     },
     "metadata": {},
     "output_type": "display_data"
    },
    {
     "data": {
      "text/plain": [
       "\u001b[1m<\u001b[0m\u001b[1;95mRootLogger\u001b[0m\u001b[39m root \u001b[0m\u001b[1;39m(\u001b[0m\u001b[39mINFO\u001b[0m\u001b[1;39m)\u001b[0m\u001b[1m>\u001b[0m"
      ]
     },
     "execution_count": 8,
     "metadata": {},
     "output_type": "execute_result"
    }
   ],
   "source": [
    "pu.LoggerBuilder().on_console().build()"
   ]
  },
  {
   "cell_type": "code",
   "execution_count": 9,
   "id": "d7a781f2-8a92-4ad0-8827-05878aa38e90",
   "metadata": {},
   "outputs": [
    {
     "name": "stderr",
     "output_type": "stream",
     "text": [
      "2024-07-12 20:35:07,488 - INFO - Load pretrained SentenceTransformer: all-mpnet-base-v2\n",
      "2024-07-12 20:35:09,034 - INFO - Use pytorch device_name: cuda\n",
      "2024-07-12 20:35:09,102 - INFO - Anonymized telemetry enabled. See                     https://docs.trychroma.com/telemetry for more information.\n",
      "2024-07-12 20:35:09,121 - INFO - Anonymized telemetry enabled. See                     https://docs.trychroma.com/telemetry for more information.\n"
     ]
    }
   ],
   "source": [
    "ctx = AppContext()"
   ]
  },
  {
   "cell_type": "code",
   "execution_count": 15,
   "id": "2ecab084-c5a2-4e93-a747-b7c8a4b89473",
   "metadata": {},
   "outputs": [],
   "source": [
    "query = ItemSimQuery() \\\n",
    "  .user_id_eq('adrianmarino@gmail.com') \\\n",
    "  .contains('best marvel movies') \\\n",
    "  .is_seen(False) \\\n",
    "  .limit_eq(3)\n",
    "\n",
    "candidate_items, _ = await ctx.item_service.find_similars_by(query)\n",
    "\n",
    "\n",
    "# 1. Load a pre-trained CrossEncoder model\n",
    "model = CrossEncoder(\"cross-encoder/ms-marco-MiniLM-L-6-v2\")\n",
    "\n",
    "\n",
    "candidate_items\n"
   ]
  },
  {
   "cell_type": "code",
   "execution_count": 21,
   "id": "8f7604d0-6090-4714-a7d6-1ed18f67db08",
   "metadata": {},
   "outputs": [
    {
     "name": "stderr",
     "output_type": "stream",
     "text": [
      "2024-07-12 20:39:32,766 - INFO - Use pytorch device: cuda\n"
     ]
    },
    {
     "data": {
      "application/vnd.jupyter.widget-view+json": {
       "model_id": "b99c20aef6d94bae94bca17f3907151b",
       "version_major": 2,
       "version_minor": 0
      },
      "text/plain": [
       "Batches:   0%|          | 0/1 [00:00<?, ?it/s]"
      ]
     },
     "metadata": {},
     "output_type": "display_data"
    },
    {
     "data": {
      "text/html": [
       "<pre style=\"white-space:pre;overflow-x:auto;line-height:normal;font-family:Menlo,'DejaVu Sans Mono',consolas,'Courier New',monospace\"></pre>\n"
      ],
      "text/plain": []
     },
     "metadata": {},
     "output_type": "display_data"
    },
    {
     "data": {
      "text/plain": [
       "\u001b[1;35marray\u001b[0m\u001b[1m(\u001b[0m\u001b[1m[\u001b[0m \u001b[1;36m8.6071415\u001b[0m, \u001b[1;36m-4.320078\u001b[0m \u001b[1m]\u001b[0m, \u001b[33mdtype\u001b[0m=\u001b[35mfloat32\u001b[0m\u001b[1m)\u001b[0m"
      ]
     },
     "execution_count": 21,
     "metadata": {},
     "output_type": "execute_result"
    }
   ],
   "source": [
    "\n",
    "# 1. Load a pre-trained CrossEncoder model\n",
    "model = CrossEncoder(\"cross-encoder/ms-marco-MiniLM-L-6-v2\")\n",
    "\n",
    "# 2. Predict scores for a pair of sentences\n",
    "scores = model.predict([\n",
    "    (\"How many people live in Berlin?\", \"Berlin had a population of 3,520,031 registered inhabitants in an area of 891.82 square kilometers.\"),\n",
    "    (\"How many people live in Berlin?\", \"Berlin is well known for its museums.\"),\n",
    "])\n",
    "scores"
   ]
  },
  {
   "cell_type": "code",
   "execution_count": null,
   "id": "7b1de072-0162-4b58-ab7e-8e673dab882a",
   "metadata": {},
   "outputs": [],
   "source": []
  }
 ],
 "metadata": {
  "kernelspec": {
   "display_name": "Python 3 (ipykernel)",
   "language": "python",
   "name": "python3"
  },
  "language_info": {
   "codemirror_mode": {
    "name": "ipython",
    "version": 3
   },
   "file_extension": ".py",
   "mimetype": "text/x-python",
   "name": "python",
   "nbconvert_exporter": "python",
   "pygments_lexer": "ipython3",
   "version": "3.11.5"
  },
  "widgets": {
   "application/vnd.jupyter.widget-state+json": {
    "state": {},
    "version_major": 2,
    "version_minor": 0
   }
  }
 },
 "nbformat": 4,
 "nbformat_minor": 5
}
