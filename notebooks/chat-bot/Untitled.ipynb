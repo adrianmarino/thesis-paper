{
 "cells": [
  {
   "cell_type": "code",
   "execution_count": 1,
   "id": "848eb4ee-d367-4cdb-8b65-9b041c3b9993",
   "metadata": {},
   "outputs": [],
   "source": [
    "%%capture output\n",
    "%load_ext autoreload\n",
    "%autoreload 2"
   ]
  },
  {
   "cell_type": "code",
   "execution_count": 2,
   "id": "310f9adf-6298-4821-947f-01719521ac38",
   "metadata": {},
   "outputs": [],
   "source": [
    "import sys\n",
    "import os\n",
    "\n",
    "BASE_PATH         = '../..'\n",
    "LIB_PATH          = f'{BASE_PATH}/lib'\n",
    "sys.path.append(LIB_PATH)\n"
   ]
  },
  {
   "cell_type": "code",
   "execution_count": 3,
   "id": "036ba43f-3ab4-4708-872a-607fc1da83b0",
   "metadata": {},
   "outputs": [],
   "source": [
    "from nltk import sent_tokenize"
   ]
  },
  {
   "cell_type": "code",
   "execution_count": 4,
   "id": "6a600752-b967-4111-affb-e6259b10a01f",
   "metadata": {},
   "outputs": [
    {
     "data": {
      "text/html": [
       "<pre style=\"white-space:pre;overflow-x:auto;line-height:normal;font-family:Menlo,'DejaVu Sans Mono',consolas,'Courier New',monospace\">Paragraphs:  <span style=\"color: #008080; text-decoration-color: #008080; font-weight: bold\">8</span>\n",
       "</pre>\n"
      ],
      "text/plain": [
       "Paragraphs:  \u001b[1;36m8\u001b[0m\n"
      ]
     },
     "metadata": {},
     "output_type": "display_data"
    },
    {
     "data": {
      "text/html": [
       "<pre style=\"white-space:pre;overflow-x:auto;line-height:normal;font-family:Menlo,'DejaVu Sans Mono',consolas,'Courier New',monospace\">Sentences:  <span style=\"color: #008080; text-decoration-color: #008080; font-weight: bold\">38</span>\n",
       "</pre>\n"
      ],
      "text/plain": [
       "Sentences:  \u001b[1;36m38\u001b[0m\n"
      ]
     },
     "metadata": {},
     "output_type": "display_data"
    },
    {
     "data": {
      "text/html": [
       "<pre style=\"white-space:pre;overflow-x:auto;line-height:normal;font-family:Menlo,'DejaVu Sans Mono',consolas,'Courier New',monospace\">Passages:  <span style=\"color: #008080; text-decoration-color: #008080; font-weight: bold\">15</span>\n",
       "</pre>\n"
      ],
      "text/plain": [
       "Passages:  \u001b[1;36m15\u001b[0m\n"
      ]
     },
     "metadata": {},
     "output_type": "display_data"
    }
   ],
   "source": [
    "# As document, we take the first two section from the Wikipedia article about Europe\n",
    "document = \"\"\"Europe is a continent located entirely in the Northern Hemisphere and mostly in the Eastern Hemisphere. It comprises the westernmost part of Eurasia and is bordered by the Arctic Ocean to the north, the Atlantic Ocean to the west, the Mediterranean Sea to the south, and Asia to the east. Europe is commonly considered to be separated from Asia by the watershed of the Ural Mountains, the Ural River, the Caspian Sea, the Greater Caucasus, the Black Sea, and the waterways of the Turkish Straits. Although some of this border is over land, Europe is generally accorded the status of a full continent because of its great physical size and the weight of history and tradition.\n",
    "\n",
    "Europe covers about 10,180,000 square kilometres (3,930,000 sq mi), or 2% of the Earth's surface (6.8% of land area), making it the second smallest continent. Politically, Europe is divided into about fifty sovereign states, of which Russia is the largest and most populous, spanning 39% of the continent and comprising 15% of its population. Europe had a total population of about 741 million (about 11% of the world population) as of 2018. The European climate is largely affected by warm Atlantic currents that temper winters and summers on much of the continent, even at latitudes along which the climate in Asia and North America is severe. Further from the sea, seasonal differences are more noticeable than close to the coast.\n",
    "\n",
    "European culture is the root of Western civilization, which traces its lineage back to ancient Greece and ancient Rome. The fall of the Western Roman Empire in 476 AD and the subsequent Migration Period marked the end of Europe's ancient history and the beginning of the Middle Ages. Renaissance humanism, exploration, art and science led to the modern era. Since the Age of Discovery, started by Portugal and Spain, Europe played a predominant role in global affairs. Between the 16th and 20th centuries, European powers colonized at various times the Americas, almost all of Africa and Oceania, and the majority of Asia.\n",
    "\n",
    "The Age of Enlightenment, the subsequent French Revolution and the Napoleonic Wars shaped the continent culturally, politically and economically from the end of the 17th century until the first half of the 19th century. The Industrial Revolution, which began in Great Britain at the end of the 18th century, gave rise to radical economic, cultural and social change in Western Europe and eventually the wider world. Both world wars took place for the most part in Europe, contributing to a decline in Western European dominance in world affairs by the mid-20th century as the Soviet Union and the United States took prominence. During the Cold War, Europe was divided along the Iron Curtain between NATO in the West and the Warsaw Pact in the East, until the revolutions of 1989 and fall of the Berlin Wall.\n",
    "\n",
    "In 1949, the Council of Europe was founded with the idea of unifying Europe to achieve common goals. Further European integration by some states led to the formation of the European Union (EU), a separate political entity that lies between a confederation and a federation. The EU originated in Western Europe but has been expanding eastward since the fall of the Soviet Union in 1991. The currency of most countries of the European Union, the euro, is the most commonly used among Europeans; and the EU's Schengen Area abolishes border and immigration controls between most of its member states. There exists a political movement favoring the evolution of the European Union into a single federation encompassing much of the continent.\n",
    "\n",
    "In classical Greek mythology, Europa (Ancient Greek: Εὐρώπη, Eurṓpē) was a Phoenician princess. One view is that her name derives from the ancient Greek elements εὐρύς (eurús), \"wide, broad\" and ὤψ (ōps, gen. ὠπός, ōpós) \"eye, face, countenance\", hence their composite Eurṓpē would mean \"wide-gazing\" or \"broad of aspect\". Broad has been an epithet of Earth herself in the reconstructed Proto-Indo-European religion and the poetry devoted to it. An alternative view is that of R.S.P. Beekes who has argued in favor of a Pre-Indo-European origin for the name, explaining that a derivation from ancient Greek eurus would yield a different toponym than Europa. Beekes has located toponyms related to that of Europa in the territory of ancient Greece and localities like that of Europos in ancient Macedonia.\n",
    "\n",
    "There have been attempts to connect Eurṓpē to a Semitic term for \"west\", this being either Akkadian erebu meaning \"to go down, set\" (said of the sun) or Phoenician 'ereb \"evening, west\", which is at the origin of Arabic Maghreb and Hebrew ma'arav. Michael A. Barry finds the mention of the word Ereb on an Assyrian stele with the meaning of \"night, [the country of] sunset\", in opposition to Asu \"[the country of] sunrise\", i.e. Asia. The same naming motive according to \"cartographic convention\" appears in Greek Ἀνατολή (Anatolḗ \"[sun] rise\", \"east\", hence Anatolia). Martin Litchfield West stated that \"phonologically, the match between Europa's name and any form of the Semitic word is very poor\", while Beekes considers a connection to Semitic languages improbable. Next to these hypotheses there is also a Proto-Indo-European root *h1regʷos, meaning \"darkness\", which also produced Greek Erebus.\n",
    "\n",
    "Most major world languages use words derived from Eurṓpē or Europa to refer to the continent. Chinese, for example, uses the word Ōuzhōu (歐洲/欧洲), which is an abbreviation of the transliterated name Ōuluóbā zhōu (歐羅巴洲) (zhōu means \"continent\"); a similar Chinese-derived term Ōshū (欧州) is also sometimes used in Japanese such as in the Japanese name of the European Union, Ōshū Rengō (欧州連合), despite the katakana Yōroppa (ヨーロッパ) being more commonly used. In some Turkic languages, the originally Persian name Frangistan (\"land of the Franks\") is used casually in referring to much of Europe, besides official names such as Avrupa or Evropa.\"\"\"\n",
    "\n",
    "\n",
    "## We split this article into paragraphs and then every paragraph into sentences\n",
    "paragraphs = []\n",
    "for paragraph in document.replace(\"\\r\\n\", \"\\n\").split(\"\\n\\n\"):\n",
    "    if len(paragraph.strip()) > 0:\n",
    "        paragraphs.append(sent_tokenize(paragraph.strip()))\n",
    "\n",
    "\n",
    "# We combine up to 3 sentences into a passage. You can choose smaller or larger values for window_size\n",
    "# Smaller value: Context from other sentences might get lost\n",
    "# Lager values: More context from the paragraph remains, but results are longer\n",
    "window_size = 3\n",
    "passages = []\n",
    "for paragraph in paragraphs:\n",
    "    for start_idx in range(0, len(paragraph), window_size):\n",
    "        end_idx = min(start_idx + window_size, len(paragraph))\n",
    "        passages.append(\" \".join(paragraph[start_idx:end_idx]))\n",
    "\n",
    "print(\"Paragraphs: \", len(paragraphs))\n",
    "print(\"Sentences: \", sum([len(p) for p in paragraphs]))\n",
    "print(\"Passages: \", len(passages))\n",
    "\n",
    "## Some queries we want to search for in the document\n",
    "queries = [\n",
    "    \"How large is Europe?\",\n",
    "    \"Is Europe a continent?\",\n",
    "    \"What is the currency in EU?\",\n",
    "    \"Fall Roman Empire when\",  # We can also search for key word queries\n",
    "    \"Is Europa in the south part of the globe?\",\n",
    "]  # Europe is miss-spelled & the matching sentences does not mention any of the content words"
   ]
  },
  {
   "cell_type": "code",
   "execution_count": 20,
   "id": "06d34e0d-db1e-463e-873b-2d27ea7f2b7f",
   "metadata": {},
   "outputs": [],
   "source": [
    "import data.cross_encoder as ce"
   ]
  },
  {
   "cell_type": "code",
   "execution_count": 21,
   "id": "65e28323-d7d2-4fd7-8a16-c54b0c936119",
   "metadata": {},
   "outputs": [],
   "source": [
    "def compute(queries, passages):\n",
    "    import pandas as pd\n",
    "    \n",
    "    # Configurar pandas para mostrar todo el contenido de las columnas de texto\n",
    "    pd.set_option('display.max_colwidth', None)\n",
    "    \n",
    "    # Si tienes muchas columnas y quieres verlas todas\n",
    "    pd.set_option('display.max_columns', None)\n",
    "    \n",
    "    # Si quieres ver todas las filas\n",
    "    pd.set_option('display.max_rows', None)\n",
    "\n",
    "    ranker = ce.CrossEncoderDocumentRanker()\n",
    "    \n",
    "    results = []\n",
    "    for query in queries:\n",
    "        documents = ranker(query, passages)\n",
    "        results.extend([{'Query': query, 'Score': hit['score'], 'Content': hit['text']} for hit in documents[0:1]]) \n",
    "    \n",
    "    return pd.DataFrame(results)"
   ]
  },
  {
   "cell_type": "code",
   "execution_count": 22,
   "id": "03fa5135-33bf-4265-99eb-ca42ae17dd13",
   "metadata": {},
   "outputs": [
    {
     "name": "stderr",
     "output_type": "stream",
     "text": [
      "[nltk_data] Downloading package punkt to /home/adrian/nltk_data...\n",
      "[nltk_data]   Package punkt is already up-to-date!\n",
      "[nltk_data] Downloading package punkt_tab to /home/adrian/nltk_data...\n",
      "[nltk_data]   Package punkt_tab is already up-to-date!\n"
     ]
    },
    {
     "data": {
      "text/html": [
       "<pre style=\"white-space:pre;overflow-x:auto;line-height:normal;font-family:Menlo,'DejaVu Sans Mono',consolas,'Courier New',monospace\"></pre>\n"
      ],
      "text/plain": []
     },
     "metadata": {},
     "output_type": "display_data"
    },
    {
     "data": {
      "text/html": [
       "<div>\n",
       "<style scoped>\n",
       "    .dataframe tbody tr th:only-of-type {\n",
       "        vertical-align: middle;\n",
       "    }\n",
       "\n",
       "    .dataframe tbody tr th {\n",
       "        vertical-align: top;\n",
       "    }\n",
       "\n",
       "    .dataframe thead th {\n",
       "        text-align: right;\n",
       "    }\n",
       "</style>\n",
       "<table border=\"1\" class=\"dataframe\">\n",
       "  <thead>\n",
       "    <tr style=\"text-align: right;\">\n",
       "      <th></th>\n",
       "      <th>Query</th>\n",
       "      <th>Score</th>\n",
       "      <th>Content</th>\n",
       "    </tr>\n",
       "  </thead>\n",
       "  <tbody>\n",
       "    <tr>\n",
       "      <th>0</th>\n",
       "      <td>How large is Europe?</td>\n",
       "      <td>0.885634</td>\n",
       "      <td>Europe covers about 10,180,000 square kilometres (3,930,000 sq mi), or 2% of the Earth's surface (6.8% of land area), making it the second smallest continent. Politically, Europe is divided into about fifty sovereign states, of which Russia is the largest and most populous, spanning 39% of the continent and comprising 15% of its population. Europe had a total population of about 741 million (about 11% of the world population) as of 2018.</td>\n",
       "    </tr>\n",
       "    <tr>\n",
       "      <th>1</th>\n",
       "      <td>Is Europe a continent?</td>\n",
       "      <td>0.936480</td>\n",
       "      <td>Europe is a continent located entirely in the Northern Hemisphere and mostly in the Eastern Hemisphere. It comprises the westernmost part of Eurasia and is bordered by the Arctic Ocean to the north, the Atlantic Ocean to the west, the Mediterranean Sea to the south, and Asia to the east. Europe is commonly considered to be separated from Asia by the watershed of the Ural Mountains, the Ural River, the Caspian Sea, the Greater Caucasus, the Black Sea, and the waterways of the Turkish Straits.</td>\n",
       "    </tr>\n",
       "    <tr>\n",
       "      <th>2</th>\n",
       "      <td>What is the currency in EU?</td>\n",
       "      <td>0.696438</td>\n",
       "      <td>The currency of most countries of the European Union, the euro, is the most commonly used among Europeans; and the EU's Schengen Area abolishes border and immigration controls between most of its member states. There exists a political movement favoring the evolution of the European Union into a single federation encompassing much of the continent.</td>\n",
       "    </tr>\n",
       "    <tr>\n",
       "      <th>3</th>\n",
       "      <td>Fall Roman Empire when</td>\n",
       "      <td>0.221948</td>\n",
       "      <td>European culture is the root of Western civilization, which traces its lineage back to ancient Greece and ancient Rome. The fall of the Western Roman Empire in 476 AD and the subsequent Migration Period marked the end of Europe's ancient history and the beginning of the Middle Ages. Renaissance humanism, exploration, art and science led to the modern era.</td>\n",
       "    </tr>\n",
       "    <tr>\n",
       "      <th>4</th>\n",
       "      <td>Is Europa in the south part of the globe?</td>\n",
       "      <td>0.427039</td>\n",
       "      <td>Europe is a continent located entirely in the Northern Hemisphere and mostly in the Eastern Hemisphere. It comprises the westernmost part of Eurasia and is bordered by the Arctic Ocean to the north, the Atlantic Ocean to the west, the Mediterranean Sea to the south, and Asia to the east. Europe is commonly considered to be separated from Asia by the watershed of the Ural Mountains, the Ural River, the Caspian Sea, the Greater Caucasus, the Black Sea, and the waterways of the Turkish Straits.</td>\n",
       "    </tr>\n",
       "  </tbody>\n",
       "</table>\n",
       "</div>"
      ],
      "text/plain": [
       "\n",
       "                                       Query     Score  \\\n",
       "\u001b[1;36m0\u001b[0m                       How large is Europe?  \u001b[1;36m0.885634\u001b[0m   \n",
       "\u001b[1;36m1\u001b[0m                     Is Europe a continent?  \u001b[1;36m0.936480\u001b[0m   \n",
       "\u001b[1;36m2\u001b[0m                What is the currency in EU?  \u001b[1;36m0.696438\u001b[0m   \n",
       "\u001b[1;36m3\u001b[0m                     Fall Roman Empire when  \u001b[1;36m0.221948\u001b[0m   \n",
       "\u001b[1;36m4\u001b[0m  Is Europa in the south part of the globe?  \u001b[1;36m0.427039\u001b[0m   \n",
       "\n",
       "                                                                                                                                                                                                                                                                                                                                                                                                                                                                                                            Content\n",
       "\u001b[1;36m0\u001b[0m                                                         Europe covers about \u001b[1;36m10\u001b[0m,\u001b[1;36m180\u001b[0m,\u001b[1;36m000\u001b[0m square kilometres \u001b[1m(\u001b[0m\u001b[1;36m3\u001b[0m,\u001b[1;36m930\u001b[0m,\u001b[1;36m000\u001b[0m sq mi\u001b[1m)\u001b[0m, or \u001b[1;36m2\u001b[0m% of the Earth's surface \u001b[1m(\u001b[0m\u001b[1;36m6.8\u001b[0m% of land area\u001b[1m)\u001b[0m, making it the second smallest continent. Politically, Europe is divided into about fifty sovereign states, of which Russia is the largest and most populous, spanning \u001b[1;36m39\u001b[0m% of the continent and comprising \u001b[1;36m15\u001b[0m% of its population. Europe had a total population of about \u001b[1;36m741\u001b[0m million \u001b[1m(\u001b[0mabout \u001b[1;36m11\u001b[0m% of the world population\u001b[1m)\u001b[0m as of \u001b[1;36m2018\u001b[0m.\n",
       "\u001b[1;36m1\u001b[0m  Europe is a continent located entirely in the Northern Hemisphere and mostly in the Eastern Hemisphere. It comprises the westernmost part of Eurasia and is bordered by the Arctic Ocean to the north, the Atlantic Ocean to the west, the Mediterranean Sea to the south, and Asia to the east. Europe is commonly considered to be separated from Asia by the watershed of the Ural Mountains, the Ural River, the Caspian Sea, the Greater Caucasus, the Black Sea, and the waterways of the Turkish Straits.\n",
       "\u001b[1;36m2\u001b[0m                                                                                                                                                    The currency of most countries of the European Union, the euro, is the most commonly used among Europeans; and the EU's Schengen Area abolishes border and immigration controls between most of its member states. There exists a political movement favoring the evolution of the European Union into a single federation encompassing much of the continent.\n",
       "\u001b[1;36m3\u001b[0m                                                                                                                                             European culture is the root of Western civilization, which traces its lineage back to ancient Greece and ancient Rome. The fall of the Western Roman Empire in \u001b[1;36m476\u001b[0m AD and the subsequent Migration Period marked the end of Europe's ancient history and the beginning of the Middle Ages. Renaissance humanism, exploration, art and science led to the modern era.\n",
       "\u001b[1;36m4\u001b[0m  Europe is a continent located entirely in the Northern Hemisphere and mostly in the Eastern Hemisphere. It comprises the westernmost part of Eurasia and is bordered by the Arctic Ocean to the north, the Atlantic Ocean to the west, the Mediterranean Sea to the south, and Asia to the east. Europe is commonly considered to be separated from Asia by the watershed of the Ural Mountains, the Ural River, the Caspian Sea, the Greater Caucasus, the Black Sea, and the waterways of the Turkish Straits."
      ]
     },
     "execution_count": 22,
     "metadata": {},
     "output_type": "execute_result"
    }
   ],
   "source": [
    "compute(queries, passages)"
   ]
  },
  {
   "cell_type": "code",
   "execution_count": null,
   "id": "f777f788-7571-4cbd-aa36-bffa16238baf",
   "metadata": {},
   "outputs": [],
   "source": []
  }
 ],
 "metadata": {
  "kernelspec": {
   "display_name": "Python 3 (ipykernel)",
   "language": "python",
   "name": "python3"
  },
  "language_info": {
   "codemirror_mode": {
    "name": "ipython",
    "version": 3
   },
   "file_extension": ".py",
   "mimetype": "text/x-python",
   "name": "python",
   "nbconvert_exporter": "python",
   "pygments_lexer": "ipython3",
   "version": "3.11.6"
  },
  "widgets": {
   "application/vnd.jupyter.widget-state+json": {
    "state": {},
    "version_major": 2,
    "version_minor": 0
   }
  }
 },
 "nbformat": 4,
 "nbformat_minor": 5
}
