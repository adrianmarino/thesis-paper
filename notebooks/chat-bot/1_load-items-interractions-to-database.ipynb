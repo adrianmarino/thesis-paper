{
 "cells": [
  {
   "cell_type": "markdown",
   "id": "0417277b-47df-4113-a7b3-8f960db06f1d",
   "metadata": {
    "tags": []
   },
   "source": [
    "# Recommender ChatBot: Build items and interactions data"
   ]
  },
  {
   "cell_type": "code",
   "execution_count": 1,
   "id": "35e430dd-e279-4258-82a4-6b7a1347304b",
   "metadata": {},
   "outputs": [],
   "source": [
    "%load_ext autoreload\n",
    "%autoreload 2"
   ]
  },
  {
   "cell_type": "code",
   "execution_count": 2,
   "id": "834b2f2d-4103-4cf5-880d-10404d8ec7d3",
   "metadata": {},
   "outputs": [],
   "source": [
    "import os\n",
    "\n",
    "BASE_PATH    = '../..'\n",
    "LIB_PATH     = f'{BASE_PATH}/lib'\n",
    "API_PATH     = f'{BASE_PATH}/chat-bot-api'\n",
    "DATASET_PATH = f'{BASE_PATH}/datasets'\n",
    "ITEMS_PATH   = f'{DATASET_PATH}/chatbot-api-movies.json'\n",
    "\n",
    "\n",
    "os.environ['TMP_PATH']               = f'{BASE_PATH}/tmp'\n",
    "os.environ['DATASET_PATH']           = f'{BASE_PATH}/datasets'\n",
    "os.environ['WEIGHTS_PATH']           = f'{BASE_PATH}/weights'\n",
    "os.environ['METRICS_PATH']           = f'{BASE_PATH}/metrics'\n",
    "os.environ['MONGODB_URL']            = 'mongodb://0.0.0.0:27017'\n",
    "os.environ['MONGODB_DATABASE']       = 'chatbot'\n",
    "os.environ['CHROMA_HOST']            = '0.0.0.0'\n",
    "os.environ['CHROMA_PORT']            = '9090'\n",
    "os.environ['TOKENIZERS_PARALLELISM'] = 'false'"
   ]
  },
  {
   "cell_type": "code",
   "execution_count": 5,
   "id": "f98e7bf4-f41a-43f6-b7b7-a991d00f82de",
   "metadata": {},
   "outputs": [],
   "source": [
    "import sys\n",
    "sys.path.append(LIB_PATH)\n",
    "sys.path.append(API_PATH)\n",
    "\n",
    "import pandas as pd\n",
    "\n",
    "import util as ut\n",
    "\n",
    "import torch\n",
    "import data as dt\n",
    "import data.dataset as ds\n",
    "\n",
    "import os\n",
    "\n",
    "from client import RecChatBotV1ApiClient\n",
    "\n",
    "from services import ItemSimQuery\n",
    "\n",
    "from app_context import AppContext\n",
    "\n",
    "import pytorch_common.util as pu\n",
    "from datetime import datetime\n",
    "\n",
    "from rest import TMDBApiClient\n",
    "\n",
    "import logging\n",
    "from dataclasses import dataclass\n",
    "from abc import ABC, abstractmethod\n",
    "from IPython.core.display import HTML"
   ]
  },
  {
   "cell_type": "markdown",
   "id": "79e81931-af14-4688-9925-dd53c93ae7f4",
   "metadata": {},
   "source": [
    "# Setup"
   ]
  },
  {
   "cell_type": "code",
   "execution_count": 6,
   "id": "df26a2e5-ff38-4ff6-ac42-704866d2a325",
   "metadata": {
    "tags": []
   },
   "outputs": [
    {
     "data": {
      "text/html": [
       "<pre style=\"white-space:pre;overflow-x:auto;line-height:normal;font-family:Menlo,'DejaVu Sans Mono',consolas,'Courier New',monospace\"></pre>\n"
      ],
      "text/plain": []
     },
     "metadata": {},
     "output_type": "display_data"
    },
    {
     "data": {
      "text/plain": [
       "\u001b[1m<\u001b[0m\u001b[1;95mRootLogger\u001b[0m\u001b[39m root \u001b[0m\u001b[1;39m(\u001b[0m\u001b[39mINFO\u001b[0m\u001b[1;39m)\u001b[0m\u001b[1m>\u001b[0m"
      ]
     },
     "execution_count": 6,
     "metadata": {},
     "output_type": "execute_result"
    }
   ],
   "source": [
    "pu.LoggerBuilder().on_console().build()"
   ]
  },
  {
   "cell_type": "markdown",
   "id": "3c3181ae-8caf-4d7b-9977-a1512c05441c",
   "metadata": {},
   "source": [
    "# Common Functions and Classes"
   ]
  },
  {
   "cell_type": "code",
   "execution_count": 7,
   "id": "0034a09f-cc01-4c41-aab3-1afb1e110143",
   "metadata": {
    "tags": []
   },
   "outputs": [],
   "source": [
    "def cos_sim(a, b, k=1):\n",
    "    from strsimpy import Cosine\n",
    "    sim = Cosine(k=k)\n",
    "    return 1 - sim.distance(a, b)"
   ]
  },
  {
   "cell_type": "code",
   "execution_count": 8,
   "id": "d2e99f74-9349-4b29-950b-c243f4cb56c7",
   "metadata": {
    "tags": []
   },
   "outputs": [],
   "source": [
    "def is_empty(value):\n",
    "    if value is None: return True\n",
    "    \n",
    "    if type(value) == str and len(value) == 0: return True\n",
    "\n",
    "    if type(value) == list:\n",
    "        if len(value) == 0: return True\n",
    "        if len([True for v in value if is_empty(v)]) == len(value): return True\n",
    "\n",
    "    return False"
   ]
  },
  {
   "cell_type": "code",
   "execution_count": 9,
   "id": "6d9151c9-0f97-4c28-a527-a1222ca6dd18",
   "metadata": {
    "tags": []
   },
   "outputs": [],
   "source": [
    "def items_to_df(models):\n",
    "    return pd.DataFrame([\n",
    "        {\n",
    "            'id'          : model.id,\n",
    "            'title'       : model.title,\n",
    "            'release'     : model.release,\n",
    "            'genres'      : model.genres,\n",
    "            'rating'      : model.rating,\n",
    "            'poster'      : model.poster\n",
    "        }\n",
    "        for model in models\n",
    "    ])\n",
    "\n",
    "\n",
    "def ints_to_df(models):\n",
    "    return pd.DataFrame([\n",
    "        {\n",
    "            'item_id' : model.user_id,\n",
    "            'user_id' : model.item_id,\n",
    "            'rating'  : model.rating\n",
    "        }\n",
    "        for model in models\n",
    "    ])"
   ]
  },
  {
   "cell_type": "code",
   "execution_count": 10,
   "id": "755adbd4-d2c0-4f67-9b17-77c652190ded",
   "metadata": {
    "tags": []
   },
   "outputs": [],
   "source": [
    "async def append_popularity_score(items, interactions):\n",
    "    from sklearn.preprocessing import MinMaxScaler\n",
    "\n",
    "    item_votes = interactions \\\n",
    "        .groupby(['item_id'])['user_id'] \\\n",
    "        .size() \\\n",
    "        .reset_index(name='votes') \\\n",
    "        .rename(columns={'item_id': 'id'})\n",
    "\n",
    "    \n",
    "    item_votes['id'] = item_votes['id'].astype(str)\n",
    "\n",
    "    items = item_votes.merge(items, on='id')\n",
    "    \n",
    "    items['votes_norm']       = items['votes'] / items['votes'].max()\n",
    "    items['popularity_score'] = items['rating'] * items['votes_norm']\n",
    "    items = items.drop(['votes_norm'], axis=1)\n",
    "\n",
    "    return items.sort_values(\n",
    "        by        = ['popularity_score'],\n",
    "        ascending = False\n",
    "    )"
   ]
  },
  {
   "cell_type": "code",
   "execution_count": 11,
   "id": "c743331d-6efa-48aa-ac4a-3771d5af25e2",
   "metadata": {
    "tags": []
   },
   "outputs": [],
   "source": [
    "def to_image_html(path, width=300, alt='Not Found Image'): return F'<img src=\"{path}\" width=\"{width}\" alt={alt} >'\n",
    "\n",
    "def show(df): display(HTML(df.to_html(escape=False)))"
   ]
  },
  {
   "cell_type": "code",
   "execution_count": 12,
   "id": "17761b79-026f-4cc3-be43-e573704a4bca",
   "metadata": {
    "tags": []
   },
   "outputs": [],
   "source": [
    "async def search_items_by_content(\n",
    "    interactions,\n",
    "    content,\n",
    "    min_release      = None,\n",
    "    min_rating       = None,\n",
    "    order_popularity = True,\n",
    "    limit            = 10_000\n",
    "):\n",
    "    items, _ = await ctx.item_service.find_similars_by(\n",
    "        ItemSimQuery() \\\n",
    "            .contains(content) \\\n",
    "            .rating_gte(min_rating) \\\n",
    "            .release_gte(min_release) \\\n",
    "            .limit_eq(limit)\n",
    "    )\n",
    "    \n",
    "    items = items_to_df(items)\n",
    "                \n",
    "    if order_popularity:\n",
    "        items = await append_popularity_score(items, interactions)\n",
    "\n",
    "    items['poster'] = items['poster'].apply(to_image_html)\n",
    "    \n",
    "    return items.reset_index()"
   ]
  },
  {
   "cell_type": "code",
   "execution_count": 13,
   "id": "4797de43-9eb3-4b85-a581-a3b832a66235",
   "metadata": {
    "tags": []
   },
   "outputs": [],
   "source": [
    "import seaborn as sns\n",
    "import matplotlib.pyplot as plt\n",
    "\n",
    "\n",
    "def plot_max_user_interactions_bins(df, figsize=(10, 8)):\n",
    "    plt.figure(figsize=figsize)\n",
    "    sns.barplot(x='n_interactions_bin', y='n_users', data=df)\n",
    "    plt.title('Max user interactions by range')\n",
    "    plt.xlabel('Max user interactions')\n",
    "    plt.ylabel('Users count')\n",
    "    plt.xticks(rotation=45)\n",
    "    plt.show()"
   ]
  },
  {
   "cell_type": "code",
   "execution_count": 14,
   "id": "c80eb9fb-bc95-4884-b925-45d9e4290287",
   "metadata": {
    "tags": []
   },
   "outputs": [],
   "source": [
    "@dataclass(frozen=True)\n",
    "class MovieDataSeeker:\n",
    "    data                   : pd.DataFrame\n",
    "    min_title_sim          : int          = 0.98\n",
    "    min_original_title_sim : int          = 0.98\n",
    "\n",
    "    \n",
    "    def search_many_by(self, title_by_id, fields=[]):\n",
    "        movies = {}\n",
    "        with dt.progress_bar(len(title_by_id), title='Fetching many movies from TMDB') as pb:\n",
    "                \n",
    "            for id, title in title_by_id.items():\n",
    "                movie = self.search_by(id, title, fields)\n",
    "                if movie:\n",
    "                    movies[id] = movie\n",
    "                pb.update()\n",
    "\n",
    "        return movies\n",
    "\n",
    "\n",
    "    def search_by(self, id, title, fields=[]):\n",
    "        movie_data = {}\n",
    "        movies = self.data[id]\n",
    "        if len(movies) > 0:\n",
    "            for movie in movies:\n",
    "                title_sim          = cos_sim(title, movie['title'])\n",
    "                original_title_sim = cos_sim(title, movie['original_title'])\n",
    "\n",
    "                title_eq = movie['title'].strip().lower() == title.strip().lower() or movie['original_title'].strip().lower() == title.strip().lower()\n",
    "                \n",
    "                title_match = title_sim > self.min_title_sim or original_title_sim > self.min_title_sim\n",
    "\n",
    "                if title_eq or title_match:\n",
    "                    logging.debug(f'title sim: {title_sim}, original title sim: {original_title_sim}')\n",
    "\n",
    "                    for field in fields:\n",
    "                        value = movie[field]\n",
    "                        if not is_empty(value):\n",
    "                            movie_data['id'] = id\n",
    "\n",
    "                            if type(movie[field]) == list:\n",
    "                                movie_data[field] = [str(v).lower() for v in movie[field]] \n",
    "                            else:\n",
    "                                movie_data[field] = movie[field]\n",
    "                            \n",
    "                            movie_data['title_sim']          = title_sim\n",
    "                            movie_data['original_title_sim'] = original_title_sim\n",
    "\n",
    "\n",
    "        return movie_data"
   ]
  },
  {
   "cell_type": "code",
   "execution_count": 15,
   "id": "f171ee66-7151-448d-a195-a72a19c12b2f",
   "metadata": {},
   "outputs": [],
   "source": [
    "def resolve_missing_data(movies, row, column, field, missing_codition):\n",
    "    movie_id = row['movie_id']\n",
    "\n",
    "    if movie_id not in movies:\n",
    "        return row[column]\n",
    "\n",
    "    if not missing_codition(row[column]):\n",
    "        return row[column]\n",
    "\n",
    "    if int(movie_id) not in data:\n",
    "        return row[column]\n",
    "    \n",
    "    movie = movies[int(movie_id)]\n",
    "\n",
    "    if movie is None:\n",
    "        return row[column]\n",
    "\n",
    "    if field not in movie:\n",
    "        return row[column]\n",
    "\n",
    "    return movie[field]"
   ]
  },
  {
   "cell_type": "markdown",
   "id": "65786725-d3e4-414b-949d-3dd793a27cfa",
   "metadata": {},
   "source": [
    "# Build datasets\n",
    "\n",
    "## Create and refine Items dataset"
   ]
  },
  {
   "cell_type": "markdown",
   "id": "aae7a0d7-d0df-4c2c-bd57-937cf9184a6f",
   "metadata": {
    "tags": []
   },
   "source": [
    "**Step 1**: Load raw dataset."
   ]
  },
  {
   "cell_type": "code",
   "execution_count": 16,
   "id": "380097ca-a1ae-4a01-bc4b-94f3e291a9d1",
   "metadata": {
    "tags": []
   },
   "outputs": [],
   "source": [
    "def to_tensor(obs, device, columns): \n",
    "    data = obs[columns]\n",
    "    if type(data) == pd.DataFrame:\n",
    "        data = data.values\n",
    "    return torch.tensor(data).to(device)\n",
    "\n",
    "features_fn = lambda obs, device: to_tensor(obs, device, ['user_seq', 'movie_seq'])\n",
    "target_fn   = lambda obs, device: to_tensor(obs, device, ['user_movie_rating'])"
   ]
  },
  {
   "cell_type": "code",
   "execution_count": 17,
   "id": "16fadfb3-65e3-463b-adb3-568d37d99741",
   "metadata": {
    "tags": []
   },
   "outputs": [],
   "source": [
    "dataset = ds.MovieLensTMDBDatasetFactory.from_path(\n",
    "    path             = DATASET_PATH,\n",
    "    transform        = features_fn,\n",
    "    target_transform = target_fn,\n",
    "    device           = torch.device('cpu'),\n",
    "    filter_fn        = lambda df: df[(df['user_movie_rating_year'] >= 2004)]\n",
    ")"
   ]
  },
  {
   "cell_type": "markdown",
   "id": "04dfad54-8f51-43c9-b3bb-b4cb2d98a877",
   "metadata": {
    "tags": []
   },
   "source": [
    "**Step 2**: Build items table."
   ]
  },
  {
   "cell_type": "code",
   "execution_count": 18,
   "id": "5298394f-02a9-41ed-b53e-48fcc87c206e",
   "metadata": {
    "tags": []
   },
   "outputs": [],
   "source": [
    "if not os.path.exists(ITEMS_PATH):\n",
    "    items = dataset \\\n",
    "        .data[['movie_id', 'movie_title', 'movie_genres', 'movie_overview', 'movie_release_year', 'movie_imdb_id', 'user_movie_rating']]\n",
    "\n",
    "    item_mean_rating = items.groupby(['movie_id'])['user_movie_rating'].mean().reset_index()\n",
    "    items = items.drop_duplicates(subset=['movie_id']).drop(columns=['user_movie_rating'])\n",
    "    items[items['movie_title'] == 'Paths of Glory']\n",
    "    items = items.merge(item_mean_rating, on='movie_id')\n",
    "    items"
   ]
  },
  {
   "cell_type": "markdown",
   "id": "4d007964-e26f-4d82-83fb-4ac728598fe4",
   "metadata": {},
   "source": [
    "**Step 3**: Populate items table posters."
   ]
  },
  {
   "cell_type": "code",
   "execution_count": 19,
   "id": "2676bad4-701e-4699-b236-a52990a317c2",
   "metadata": {
    "tags": []
   },
   "outputs": [],
   "source": [
    "if not os.path.exists(ITEMS_PATH):\n",
    "    from rest import TMDBApiClient\n",
    "    import logging\n",
    "\n",
    "    client = TMDBApiClient()\n",
    "\n",
    "    with dt.progress_bar(items.shape[0], title='Processing') as pb:\n",
    "        def resolve_url(title):\n",
    "            return (title, client.find_first_poster_by(title))\n",
    "\n",
    "        params = [[row['movie_title']] for _, row in items.iterrows()]\n",
    "\n",
    "        poster_by_id = ut.ParallelExecutor()(\n",
    "            resolve_url,\n",
    "            params = params,\n",
    "            fallback_result = None\n",
    "        )\n",
    "\n",
    "        poster_by_id = {item[0]: item[1] for item in poster_by_id}"
   ]
  },
  {
   "cell_type": "markdown",
   "id": "5a8913c8-5d8a-49ac-8671-fb656bd04ac8",
   "metadata": {},
   "source": [
    "**Step 4**: Save items table with post urls. (Step 3 process takes a long time)."
   ]
  },
  {
   "cell_type": "code",
   "execution_count": 20,
   "id": "504c42cb-ca64-482b-ad13-616dc4a34dcd",
   "metadata": {
    "tags": []
   },
   "outputs": [],
   "source": [
    "if not os.path.exists(ITEMS_PATH):\n",
    "    items['poster'] = items['movie_title'].apply(lambda title: poster_by_id[title])\n",
    "    ut.save_df(items, f'{DATASET_PATH}/chatbot-api-movies.json')"
   ]
  },
  {
   "cell_type": "markdown",
   "id": "acdacf69-0f79-4e0d-b4c8-cffbfd53e62f",
   "metadata": {},
   "source": [
    "**Step 5**: Reload items table. "
   ]
  },
  {
   "cell_type": "code",
   "execution_count": 21,
   "id": "f3e7834a-c9cf-4564-8b93-e8d96e259492",
   "metadata": {
    "tags": []
   },
   "outputs": [],
   "source": [
    "items = ut.load_df(f'{DATASET_PATH}/chatbot-api-movies.json')"
   ]
  },
  {
   "cell_type": "code",
   "execution_count": 22,
   "id": "ab4bb6c5-0c07-40c6-b039-35b060f84517",
   "metadata": {
    "tags": []
   },
   "outputs": [
    {
     "data": {
      "text/html": [
       "<pre style=\"white-space:pre;overflow-x:auto;line-height:normal;font-family:Menlo,'DejaVu Sans Mono',consolas,'Courier New',monospace\"></pre>\n"
      ],
      "text/plain": []
     },
     "metadata": {},
     "output_type": "display_data"
    },
    {
     "data": {
      "text/html": [
       "<div>\n",
       "<style scoped>\n",
       "    .dataframe tbody tr th:only-of-type {\n",
       "        vertical-align: middle;\n",
       "    }\n",
       "\n",
       "    .dataframe tbody tr th {\n",
       "        vertical-align: top;\n",
       "    }\n",
       "\n",
       "    .dataframe thead th {\n",
       "        text-align: right;\n",
       "    }\n",
       "</style>\n",
       "<table border=\"1\" class=\"dataframe\">\n",
       "  <thead>\n",
       "    <tr style=\"text-align: right;\">\n",
       "      <th></th>\n",
       "      <th>movie_title</th>\n",
       "      <th>poster</th>\n",
       "    </tr>\n",
       "  </thead>\n",
       "  <tbody>\n",
       "    <tr>\n",
       "      <th>0</th>\n",
       "      <td>Toy Story</td>\n",
       "      <td>http://image.tmdb.org/t/p/w500/uXDfjJbdP4ijW5hWSBrPrlKpxab.jpg</td>\n",
       "    </tr>\n",
       "    <tr>\n",
       "      <th>1</th>\n",
       "      <td>Clueless</td>\n",
       "      <td>http://image.tmdb.org/t/p/w500/8AwVTcgpTnmeOs4TdTWqcFDXEsA.jpg</td>\n",
       "    </tr>\n",
       "    <tr>\n",
       "      <th>2</th>\n",
       "      <td>While You Were Sleeping</td>\n",
       "      <td>http://image.tmdb.org/t/p/w500/qNGO3ETcNwlWqK2kNRpbJSJRlos.jpg</td>\n",
       "    </tr>\n",
       "    <tr>\n",
       "      <th>3</th>\n",
       "      <td>Forrest Gump</td>\n",
       "      <td>http://image.tmdb.org/t/p/w500/arw2vcBveWOVZr6pxd9XTd1TdQa.jpg</td>\n",
       "    </tr>\n",
       "    <tr>\n",
       "      <th>4</th>\n",
       "      <td>Pretty Woman</td>\n",
       "      <td>http://image.tmdb.org/t/p/w500/hVHUfT801LQATGd26VPzhorIYza.jpg</td>\n",
       "    </tr>\n",
       "  </tbody>\n",
       "</table>\n",
       "</div>"
      ],
      "text/plain": [
       "\n",
       "                movie_title  \\\n",
       "\u001b[1;36m0\u001b[0m                Toy Story    \n",
       "\u001b[1;36m1\u001b[0m                 Clueless    \n",
       "\u001b[1;36m2\u001b[0m  While You Were Sleeping    \n",
       "\u001b[1;36m3\u001b[0m             Forrest Gump    \n",
       "\u001b[1;36m4\u001b[0m             Pretty Woman    \n",
       "\n",
       "                                                           poster  \n",
       "\u001b[1;36m0\u001b[0m  \u001b[4;94mhttp://image.tmdb.org/t/p/w500/uXDfjJbdP4ijW5hWSBrPrlKpxab.jpg\u001b[0m  \n",
       "\u001b[1;36m1\u001b[0m  \u001b[4;94mhttp://image.tmdb.org/t/p/w500/8AwVTcgpTnmeOs4TdTWqcFDXEsA.jpg\u001b[0m  \n",
       "\u001b[1;36m2\u001b[0m  \u001b[4;94mhttp://image.tmdb.org/t/p/w500/qNGO3ETcNwlWqK2kNRpbJSJRlos.jpg\u001b[0m  \n",
       "\u001b[1;36m3\u001b[0m  \u001b[4;94mhttp://image.tmdb.org/t/p/w500/arw2vcBveWOVZr6pxd9XTd1TdQa.jpg\u001b[0m  \n",
       "\u001b[1;36m4\u001b[0m  \u001b[4;94mhttp://image.tmdb.org/t/p/w500/hVHUfT801LQATGd26VPzhorIYza.jpg\u001b[0m  "
      ]
     },
     "execution_count": 22,
     "metadata": {},
     "output_type": "execute_result"
    }
   ],
   "source": [
    "pd.set_option('display.max_colwidth', None)\n",
    "items[['movie_title', 'poster']].head()"
   ]
  },
  {
   "cell_type": "markdown",
   "id": "9965a0a4-40fc-449a-8062-216597dea6b7",
   "metadata": {},
   "source": [
    "### Populate missing items data using a TMDB API client."
   ]
  },
  {
   "cell_type": "markdown",
   "id": "ae6fcc61-a241-4034-a73d-456e1f4dac2a",
   "metadata": {},
   "source": [
    "**Step 1**: Pull movies data from TMDB API."
   ]
  },
  {
   "cell_type": "code",
   "execution_count": 23,
   "id": "97b8f2fb-2835-43b8-ad46-63444c2a512f",
   "metadata": {
    "tags": []
   },
   "outputs": [],
   "source": [
    "item_title_by_id = ut.to_dict(\n",
    "    items,\n",
    "    key   = 'movie_id',\n",
    "    value = 'movie_title'\n",
    ")\n",
    "\n",
    "item_title_by_id = {id: title.strip() for id, title in item_title_by_id.items()}\n",
    "\n",
    "fields = [\n",
    "     'title',\n",
    "     'original_title', \n",
    "     'poster_url',\n",
    "     'overview', \n",
    "     'genres',\n",
    "     'release_date'\n",
    "]\n",
    "\n",
    "    \n",
    "if not os.path.exists(f'{DATASET_PATH}/tmdb-api-raw-data.dt'):\n",
    "    client = TMDBApiClient()\n",
    "\n",
    "    data = client.parallel_find_many_movies_by(\n",
    "        item_title_by_id,\n",
    "        fields = fields\n",
    "    )\n",
    "    ut.Picket.save(f'{DATASET_PATH}/tmdb-api-raw-data.dt', data)\n",
    "else:\n",
    "    data = ut.Picket.load(f'{DATASET_PATH}/tmdb-api-raw-data.dt')"
   ]
  },
  {
   "cell_type": "code",
   "execution_count": 24,
   "id": "7e46f4d0-9de5-440f-9be8-1319a9ede6a4",
   "metadata": {
    "tags": []
   },
   "outputs": [
    {
     "data": {
      "application/vnd.jupyter.widget-view+json": {
       "model_id": "42e1acbeae224632836711cd56ad4246",
       "version_major": 2,
       "version_minor": 0
      },
      "text/plain": [
       "Fetching many movies from TMDB:   0%|          | 0/18608 [00:00<?, ?it/s]"
      ]
     },
     "metadata": {},
     "output_type": "display_data"
    }
   ],
   "source": [
    "movie_seeker = MovieDataSeeker(data)\n",
    "\n",
    "movies = movie_seeker.search_many_by(\n",
    "    item_title_by_id,\n",
    "    fields = fields\n",
    ")"
   ]
  },
  {
   "cell_type": "markdown",
   "id": "65fa0686-619b-462c-941b-1b33dba0d48d",
   "metadata": {
    "tags": []
   },
   "source": [
    "**Step 2**: Save TMDB movies data (Step 1 process take long time)."
   ]
  },
  {
   "cell_type": "code",
   "execution_count": 25,
   "id": "a7e14749-649d-48b6-8fb8-a55fd18d4d74",
   "metadata": {
    "tags": []
   },
   "outputs": [],
   "source": [
    "ut.Picket.save(f'{DATASET_PATH}/movies.dt', movies)"
   ]
  },
  {
   "cell_type": "code",
   "execution_count": 26,
   "id": "d79aa612-946d-409e-b4fe-e132d5bebd3c",
   "metadata": {
    "tags": []
   },
   "outputs": [],
   "source": [
    "movies = ut.Picket.load(f'{DATASET_PATH}/movies.dt')"
   ]
  },
  {
   "cell_type": "code",
   "execution_count": 27,
   "id": "42efe9e0-be19-4d35-8113-1cd209394848",
   "metadata": {
    "tags": []
   },
   "outputs": [
    {
     "data": {
      "text/html": [
       "<pre style=\"white-space:pre;overflow-x:auto;line-height:normal;font-family:Menlo,'DejaVu Sans Mono',consolas,'Courier New',monospace\"></pre>\n"
      ],
      "text/plain": []
     },
     "metadata": {},
     "output_type": "display_data"
    },
    {
     "data": {
      "text/plain": [
       "\u001b[1m(\u001b[0m\u001b[1;36m16149\u001b[0m, \u001b[1m(\u001b[0m\u001b[1;36m18608\u001b[0m, \u001b[1;36m8\u001b[0m\u001b[1m)\u001b[0m\u001b[1m)\u001b[0m"
      ]
     },
     "execution_count": 27,
     "metadata": {},
     "output_type": "execute_result"
    }
   ],
   "source": [
    "len(movies), items.shape"
   ]
  },
  {
   "cell_type": "markdown",
   "id": "3581cc70-54af-4bae-bd6a-cc57b7be300f",
   "metadata": {},
   "source": [
    "**Step 3**: Populate items with missing overview from movies data."
   ]
  },
  {
   "cell_type": "code",
   "execution_count": 28,
   "id": "e541e505-86a7-4069-a458-4d327387b93e",
   "metadata": {
    "tags": []
   },
   "outputs": [
    {
     "data": {
      "text/html": [
       "<pre style=\"white-space:pre;overflow-x:auto;line-height:normal;font-family:Menlo,'DejaVu Sans Mono',consolas,'Courier New',monospace\"></pre>\n"
      ],
      "text/plain": []
     },
     "metadata": {},
     "output_type": "display_data"
    },
    {
     "data": {
      "text/plain": [
       "\u001b[1m(\u001b[0m\u001b[1;36m127\u001b[0m, \u001b[1;36m8\u001b[0m\u001b[1m)\u001b[0m"
      ]
     },
     "execution_count": 28,
     "metadata": {},
     "output_type": "execute_result"
    }
   ],
   "source": [
    "incomplete_items = items[((items['movie_overview'] == 'No overview found.') | (items['movie_overview'] == ''))]\n",
    "incomplete_items.shape"
   ]
  },
  {
   "cell_type": "code",
   "execution_count": 29,
   "id": "97c0b271-05e3-4a08-aa8f-e6d04b196b8c",
   "metadata": {
    "tags": []
   },
   "outputs": [],
   "source": [
    "overview_missing_codition = lambda value: is_empty(value) or value == 'No overview found.'\n",
    "\n",
    "items['movie_overview'] = items.apply(lambda row: resolve_missing_data(movies, row, column='movie_overview', field='overview', missing_codition=overview_missing_codition), axis=1) "
   ]
  },
  {
   "cell_type": "code",
   "execution_count": 30,
   "id": "ae15bc2e-fdc8-463b-91d2-690a2b4cebee",
   "metadata": {
    "tags": []
   },
   "outputs": [
    {
     "data": {
      "text/html": [
       "<pre style=\"white-space:pre;overflow-x:auto;line-height:normal;font-family:Menlo,'DejaVu Sans Mono',consolas,'Courier New',monospace\"></pre>\n"
      ],
      "text/plain": []
     },
     "metadata": {},
     "output_type": "display_data"
    },
    {
     "data": {
      "text/plain": [
       "\u001b[1m(\u001b[0m\u001b[1;36m31\u001b[0m, \u001b[1;36m8\u001b[0m\u001b[1m)\u001b[0m"
      ]
     },
     "execution_count": 30,
     "metadata": {},
     "output_type": "execute_result"
    }
   ],
   "source": [
    "incomplete_items = items[((items['movie_overview'] == 'No overview found.') | (items['movie_overview'] == ''))]\n",
    "incomplete_items.shape"
   ]
  },
  {
   "cell_type": "markdown",
   "id": "bfdbbcf5-62b3-4d44-a35d-e1e9d5d5bd0a",
   "metadata": {},
   "source": [
    "**Step 4**: Populate items with missing genres from movies data."
   ]
  },
  {
   "cell_type": "code",
   "execution_count": 31,
   "id": "487735ba-d50f-4aef-8b87-1022b59c9f89",
   "metadata": {
    "tags": []
   },
   "outputs": [
    {
     "data": {
      "text/html": [
       "<pre style=\"white-space:pre;overflow-x:auto;line-height:normal;font-family:Menlo,'DejaVu Sans Mono',consolas,'Courier New',monospace\"></pre>\n"
      ],
      "text/plain": []
     },
     "metadata": {},
     "output_type": "display_data"
    },
    {
     "data": {
      "text/plain": [
       "\u001b[1m(\u001b[0m\u001b[1;36m286\u001b[0m, \u001b[1;36m8\u001b[0m\u001b[1m)\u001b[0m"
      ]
     },
     "execution_count": 31,
     "metadata": {},
     "output_type": "execute_result"
    }
   ],
   "source": [
    "incomplete_items = items[items['movie_genres'].apply(lambda x: '(no genres listed)' in x)]\n",
    "incomplete_items.shape"
   ]
  },
  {
   "cell_type": "code",
   "execution_count": 32,
   "id": "8eba71ba-57be-45bb-8807-2502ebb1d3fa",
   "metadata": {
    "tags": []
   },
   "outputs": [],
   "source": [
    "genres_missing_codition = lambda value: len(value) == 1 and value[0].strip() == '(no genres listed)'\n",
    "\n",
    "items['movie_genres'] = items.apply(lambda row: resolve_missing_data(movies, row, column='movie_genres', field='genres', missing_codition=genres_missing_codition), axis=1) "
   ]
  },
  {
   "cell_type": "code",
   "execution_count": 33,
   "id": "e11ddc8c-14be-472e-bb3c-8b9d8264ab7b",
   "metadata": {
    "tags": []
   },
   "outputs": [
    {
     "data": {
      "text/html": [
       "<pre style=\"white-space:pre;overflow-x:auto;line-height:normal;font-family:Menlo,'DejaVu Sans Mono',consolas,'Courier New',monospace\"></pre>\n"
      ],
      "text/plain": []
     },
     "metadata": {},
     "output_type": "display_data"
    },
    {
     "data": {
      "text/plain": [
       "\u001b[1m(\u001b[0m\u001b[1;36m41\u001b[0m, \u001b[1;36m8\u001b[0m\u001b[1m)\u001b[0m"
      ]
     },
     "execution_count": 33,
     "metadata": {},
     "output_type": "execute_result"
    }
   ],
   "source": [
    "incomplete_items = items[items['movie_genres'].apply(lambda x: '(no genres listed)' in x)]\n",
    "incomplete_items.shape"
   ]
  },
  {
   "cell_type": "markdown",
   "id": "152d41ce-3160-4d54-afb8-2ccb0091c8c7",
   "metadata": {},
   "source": [
    "**Step 5**: Populate items with only one genre from movies data."
   ]
  },
  {
   "cell_type": "code",
   "execution_count": 34,
   "id": "4b4d4c27-fec6-40aa-869b-c2209d365b0d",
   "metadata": {
    "tags": []
   },
   "outputs": [
    {
     "data": {
      "text/html": [
       "<pre style=\"white-space:pre;overflow-x:auto;line-height:normal;font-family:Menlo,'DejaVu Sans Mono',consolas,'Courier New',monospace\"></pre>\n"
      ],
      "text/plain": []
     },
     "metadata": {},
     "output_type": "display_data"
    },
    {
     "data": {
      "text/plain": [
       "\u001b[1m(\u001b[0m\u001b[1;36m6581\u001b[0m, \u001b[1;36m8\u001b[0m\u001b[1m)\u001b[0m"
      ]
     },
     "execution_count": 34,
     "metadata": {},
     "output_type": "execute_result"
    }
   ],
   "source": [
    "incomplete_items = items[items['movie_genres'].apply(lambda x: len(x) == 1)]\n",
    "incomplete_items.shape"
   ]
  },
  {
   "cell_type": "code",
   "execution_count": 35,
   "id": "0a28bf6e-bd54-4337-9c04-50caa14939ff",
   "metadata": {
    "tags": []
   },
   "outputs": [],
   "source": [
    "min_genres_missing_codition = lambda value: len(value) == 1\n",
    "\n",
    "items['movie_genres'] = items.apply(lambda row: resolve_missing_data(movies, row, column='movie_genres', field='genres', missing_codition=min_genres_missing_codition), axis=1) "
   ]
  },
  {
   "cell_type": "code",
   "execution_count": 36,
   "id": "1292922e-44d4-4ea2-bcda-576c53a093c1",
   "metadata": {
    "tags": []
   },
   "outputs": [
    {
     "data": {
      "text/html": [
       "<pre style=\"white-space:pre;overflow-x:auto;line-height:normal;font-family:Menlo,'DejaVu Sans Mono',consolas,'Courier New',monospace\"></pre>\n"
      ],
      "text/plain": []
     },
     "metadata": {},
     "output_type": "display_data"
    },
    {
     "data": {
      "text/plain": [
       "\u001b[1m(\u001b[0m\u001b[1;36m4050\u001b[0m, \u001b[1;36m8\u001b[0m\u001b[1m)\u001b[0m"
      ]
     },
     "execution_count": 36,
     "metadata": {},
     "output_type": "execute_result"
    }
   ],
   "source": [
    "incomplete_items = items[items['movie_genres'].apply(lambda x: len(x) == 1)]\n",
    "incomplete_items.shape"
   ]
  },
  {
   "cell_type": "code",
   "execution_count": 37,
   "id": "3174c301-31c0-4545-acc8-fe2b619eae9c",
   "metadata": {},
   "outputs": [],
   "source": [
    "ut.save_df(items, f'{DATASET_PATH}/pre-processed-movies.json')"
   ]
  },
  {
   "cell_type": "code",
   "execution_count": 38,
   "id": "082b3f7b-fa96-49df-bfe8-166509175dfb",
   "metadata": {},
   "outputs": [
    {
     "data": {
      "text/html": [
       "<pre style=\"white-space:pre;overflow-x:auto;line-height:normal;font-family:Menlo,'DejaVu Sans Mono',consolas,'Courier New',monospace\"></pre>\n"
      ],
      "text/plain": []
     },
     "metadata": {},
     "output_type": "display_data"
    },
    {
     "data": {
      "text/html": [
       "<div>\n",
       "<style scoped>\n",
       "    .dataframe tbody tr th:only-of-type {\n",
       "        vertical-align: middle;\n",
       "    }\n",
       "\n",
       "    .dataframe tbody tr th {\n",
       "        vertical-align: top;\n",
       "    }\n",
       "\n",
       "    .dataframe thead th {\n",
       "        text-align: right;\n",
       "    }\n",
       "</style>\n",
       "<table border=\"1\" class=\"dataframe\">\n",
       "  <thead>\n",
       "    <tr style=\"text-align: right;\">\n",
       "      <th></th>\n",
       "      <th>movie_id</th>\n",
       "      <th>movie_title</th>\n",
       "      <th>movie_genres</th>\n",
       "      <th>movie_overview</th>\n",
       "      <th>movie_release_year</th>\n",
       "      <th>movie_imdb_id</th>\n",
       "      <th>user_movie_rating</th>\n",
       "      <th>poster</th>\n",
       "    </tr>\n",
       "  </thead>\n",
       "  <tbody>\n",
       "    <tr>\n",
       "      <th>0</th>\n",
       "      <td>1</td>\n",
       "      <td>Toy Story</td>\n",
       "      <td>[Adventure, Animation, Children, Comedy, Fantasy]</td>\n",
       "      <td>Led by Woody, Andy's toys live happily in his room until Andy's birthday brings Buzz Lightyear onto the scene. Afraid of losing his place in Andy's heart, Woody plots against Buzz. But when circumstances separate Buzz and Woody from their owner, the duo eventually learns to put aside their differences.</td>\n",
       "      <td>1995</td>\n",
       "      <td>114709</td>\n",
       "      <td>3.806931</td>\n",
       "      <td>http://image.tmdb.org/t/p/w500/uXDfjJbdP4ijW5hWSBrPrlKpxab.jpg</td>\n",
       "    </tr>\n",
       "    <tr>\n",
       "      <th>1</th>\n",
       "      <td>39</td>\n",
       "      <td>Clueless</td>\n",
       "      <td>[Comedy, Romance]</td>\n",
       "      <td>Shallow, rich and socially successful Cher is at the top of her Beverly Hills high school's pecking scale. Seeing herself as a matchmaker, Cher first coaxes two teachers into dating each other. Emboldened by her success, she decides to give hopelessly klutzy new student Tai a makeover. When Tai becomes more popular than she is, Cher realizes that her disapproving ex-stepbrother was right about how misguided she was -- and falls for him.</td>\n",
       "      <td>1995</td>\n",
       "      <td>112697</td>\n",
       "      <td>3.506494</td>\n",
       "      <td>http://image.tmdb.org/t/p/w500/8AwVTcgpTnmeOs4TdTWqcFDXEsA.jpg</td>\n",
       "    </tr>\n",
       "    <tr>\n",
       "      <th>2</th>\n",
       "      <td>339</td>\n",
       "      <td>While You Were Sleeping</td>\n",
       "      <td>[Comedy, Romance]</td>\n",
       "      <td>A love story built on a misunderstanding. A transit worker pulls commuter Peter off the tracks after he's mugged. But while he's in a coma, his family mistakenly thinks she's Peter's fiancée, and she doesn't correct them. Things get more complicated when she falls for his brother, who's not quite sure that she's who she claims to be.</td>\n",
       "      <td>1995</td>\n",
       "      <td>114924</td>\n",
       "      <td>3.395349</td>\n",
       "      <td>http://image.tmdb.org/t/p/w500/qNGO3ETcNwlWqK2kNRpbJSJRlos.jpg</td>\n",
       "    </tr>\n",
       "    <tr>\n",
       "      <th>3</th>\n",
       "      <td>356</td>\n",
       "      <td>Forrest Gump</td>\n",
       "      <td>[Comedy, Drama, Romance, War]</td>\n",
       "      <td>A man with a low IQ has accomplished great things in his life and been present during significant historic events - in each case, far exceeding what anyone imagined he could do. Yet, despite all the things he has attained, his one true love eludes him. 'Forrest Gump' is the story of a man who rose above his challenges, and who proved that determination, courage, and love are more important than ability.</td>\n",
       "      <td>1994</td>\n",
       "      <td>109830</td>\n",
       "      <td>4.004702</td>\n",
       "      <td>http://image.tmdb.org/t/p/w500/arw2vcBveWOVZr6pxd9XTd1TdQa.jpg</td>\n",
       "    </tr>\n",
       "    <tr>\n",
       "      <th>4</th>\n",
       "      <td>597</td>\n",
       "      <td>Pretty Woman</td>\n",
       "      <td>[Comedy, Romance]</td>\n",
       "      <td>When millionaire wheeler-dealer Edward Lewis enters a business contract with Hollywood hooker Vivian Ward, he loses his heart in the bargain in this charming romantic comedy. After Edward hires Vivian as his date for a week and gives her a Cinderella makeover, she returns the favor by mellowing the hardnosed tycoon's outlook. Can the poor prostitute and the rich capitalist live happily ever after?</td>\n",
       "      <td>1990</td>\n",
       "      <td>100405</td>\n",
       "      <td>3.281818</td>\n",
       "      <td>http://image.tmdb.org/t/p/w500/hVHUfT801LQATGd26VPzhorIYza.jpg</td>\n",
       "    </tr>\n",
       "    <tr>\n",
       "      <th>...</th>\n",
       "      <td>...</td>\n",
       "      <td>...</td>\n",
       "      <td>...</td>\n",
       "      <td>...</td>\n",
       "      <td>...</td>\n",
       "      <td>...</td>\n",
       "      <td>...</td>\n",
       "      <td>...</td>\n",
       "    </tr>\n",
       "    <tr>\n",
       "      <th>18603</th>\n",
       "      <td>173173</td>\n",
       "      <td>This Is Not What I Expected</td>\n",
       "      <td>[Comedy, Romance]</td>\n",
       "      <td>Lu Jin is a handsome, wealthy hotel executive whose drive for perfection is matched only by his taste for fine cuisine. When he checks into the Rosebud, he's dissatisfied with everything he sees and is ready to take action... until flamboyant female sous chef Gu Shengnan creates the perfectionist what may be a perfect meal. Now, these bitter rivals find themselves brought together in the kitchen in this light-hearted romantic comedy, infused with fun and flavors to create a delicious dish that foodies around the world wouldn't dare to miss.</td>\n",
       "      <td>2017</td>\n",
       "      <td>6772874</td>\n",
       "      <td>3.000000</td>\n",
       "      <td>http://image.tmdb.org/t/p/w500/1WHW2jzZlrTatNRheohpWHdEBuP.jpg</td>\n",
       "    </tr>\n",
       "    <tr>\n",
       "      <th>18604</th>\n",
       "      <td>174399</td>\n",
       "      <td>Daddy's Little Girl</td>\n",
       "      <td>[Horror, Thriller]</td>\n",
       "      <td>After the police find Derek’s daughter brutally murdered on the beach, he vows to make the culprit suffer for his actions, even if that person is ‘part of the family.’  With careful research into the history of torture, Derek prepares himself and his basement for a week of brutal tactics that will make his daughter’s killer feel the pain that he has inflicted upon so many others.  In a time when stranger danger is ever present, a single father learns that it’s the ones you trust most who have to be watched the closest.</td>\n",
       "      <td>2012</td>\n",
       "      <td>2214941</td>\n",
       "      <td>3.000000</td>\n",
       "      <td>http://image.tmdb.org/t/p/w500/e2zef4gFoNsqfUIHVs9b3QrMxSu.jpg</td>\n",
       "    </tr>\n",
       "    <tr>\n",
       "      <th>18605</th>\n",
       "      <td>174443</td>\n",
       "      <td>American Wrestler: The Wizard</td>\n",
       "      <td>[drama]</td>\n",
       "      <td>In 1980, a teenage boy escapes the unrest in Iran only to face more hostility in America, due to the hostage crisis. Determined to fit in, he joins the school's floundering wrestling team.</td>\n",
       "      <td>2016</td>\n",
       "      <td>4303202</td>\n",
       "      <td>4.000000</td>\n",
       "      <td>http://image.tmdb.org/t/p/w500/yxK8NVydY0p4ZymT5HB2JXJ8xPW.jpg</td>\n",
       "    </tr>\n",
       "    <tr>\n",
       "      <th>18606</th>\n",
       "      <td>174505</td>\n",
       "      <td>Besetment</td>\n",
       "      <td>[Horror, Thriller]</td>\n",
       "      <td>After struggling to find employment, Amanda takes a hotel position in a small town where she ends up fighting for her life.</td>\n",
       "      <td>2016</td>\n",
       "      <td>3750238</td>\n",
       "      <td>1.000000</td>\n",
       "      <td>http://image.tmdb.org/t/p/w500/vTOR38A4bAZw8n5hjr8VCeApDh2.jpg</td>\n",
       "    </tr>\n",
       "    <tr>\n",
       "      <th>18607</th>\n",
       "      <td>174649</td>\n",
       "      <td>Bullets Over Summer</td>\n",
       "      <td>[Action, Thriller]</td>\n",
       "      <td>Plainclothes policemen Brian and Mike use an elderly woman's apartment for surveillance, hoping to catch a fugitive gangster. They develop a warm relationship with their hostess, whom they call \"granny.\" Meanwhile, each man develops a romantic relationship: Brian with a strange wandering teenage girl, and Mike with a pregnant woman at the dry cleaning shop. When the gangster returns to his flat, Brian and Mike are forced into an explosive confrontation.</td>\n",
       "      <td>1999</td>\n",
       "      <td>214555</td>\n",
       "      <td>4.000000</td>\n",
       "      <td>http://image.tmdb.org/t/p/w500/50kphvvy0zkMjK1G2visnbPi4TV.jpg</td>\n",
       "    </tr>\n",
       "  </tbody>\n",
       "</table>\n",
       "<p>18608 rows × 8 columns</p>\n",
       "</div>"
      ],
      "text/plain": [
       "\n",
       "       movie_id                     movie_title  \\\n",
       "\u001b[1;36m0\u001b[0m             \u001b[1;36m1\u001b[0m                      Toy Story    \n",
       "\u001b[1;36m1\u001b[0m            \u001b[1;36m39\u001b[0m                       Clueless    \n",
       "\u001b[1;36m2\u001b[0m           \u001b[1;36m339\u001b[0m        While You Were Sleeping    \n",
       "\u001b[1;36m3\u001b[0m           \u001b[1;36m356\u001b[0m                   Forrest Gump    \n",
       "\u001b[1;36m4\u001b[0m           \u001b[1;36m597\u001b[0m                   Pretty Woman    \n",
       "\u001b[33m...\u001b[0m         \u001b[33m...\u001b[0m                             \u001b[33m...\u001b[0m   \n",
       "\u001b[1;36m18603\u001b[0m    \u001b[1;36m173173\u001b[0m    This Is Not What I Expected    \n",
       "\u001b[1;36m18604\u001b[0m    \u001b[1;36m174399\u001b[0m            Daddy's Little Girl    \n",
       "\u001b[1;36m18605\u001b[0m    \u001b[1;36m174443\u001b[0m  American Wrestler: The Wizard    \n",
       "\u001b[1;36m18606\u001b[0m    \u001b[1;36m174505\u001b[0m                      Besetment    \n",
       "\u001b[1;36m18607\u001b[0m    \u001b[1;36m174649\u001b[0m            Bullets Over Summer    \n",
       "\n",
       "                                            movie_genres  \\\n",
       "\u001b[1;36m0\u001b[0m      \u001b[1m[\u001b[0mAdventure, Animation, Children, Comedy, Fantasy\u001b[1m]\u001b[0m   \n",
       "\u001b[1;36m1\u001b[0m                                      \u001b[1m[\u001b[0mComedy, Romance\u001b[1m]\u001b[0m   \n",
       "\u001b[1;36m2\u001b[0m                                      \u001b[1m[\u001b[0mComedy, Romance\u001b[1m]\u001b[0m   \n",
       "\u001b[1;36m3\u001b[0m                          \u001b[1m[\u001b[0mComedy, Drama, Romance, War\u001b[1m]\u001b[0m   \n",
       "\u001b[1;36m4\u001b[0m                                      \u001b[1m[\u001b[0mComedy, Romance\u001b[1m]\u001b[0m   \n",
       "\u001b[33m...\u001b[0m                                                  \u001b[33m...\u001b[0m   \n",
       "\u001b[1;36m18603\u001b[0m                                  \u001b[1m[\u001b[0mComedy, Romance\u001b[1m]\u001b[0m   \n",
       "\u001b[1;36m18604\u001b[0m                                 \u001b[1m[\u001b[0mHorror, Thriller\u001b[1m]\u001b[0m   \n",
       "\u001b[1;36m18605\u001b[0m                                            \u001b[1m[\u001b[0mdrama\u001b[1m]\u001b[0m   \n",
       "\u001b[1;36m18606\u001b[0m                                 \u001b[1m[\u001b[0mHorror, Thriller\u001b[1m]\u001b[0m   \n",
       "\u001b[1;36m18607\u001b[0m                                 \u001b[1m[\u001b[0mAction, Thriller\u001b[1m]\u001b[0m   \n",
       "\n",
       "                                                                                                                                                                                                                                                                                                                                                                                                                                                                                                                                                           movie_overview  \\\n",
       "\u001b[1;36m0\u001b[0m                                                                                                                                                                                                                                                         Led by Woody, Andy's toys live happily in his room until Andy's birthday brings Buzz Lightyear onto the scene. Afraid of losing his place in Andy's heart, Woody plots against Buzz. But when circumstances separate Buzz and Woody from their owner, the duo eventually learns to put aside their differences.\n",
       "\u001b[1;36m1\u001b[0m                                                                                                                Shallow, rich and socially successful Cher is at the top of her Beverly Hills high school's pecking scale. Seeing herself as a matchmaker, Cher first coaxes two teachers into dating each other. Emboldened by her success, she decides to give hopelessly klutzy new student Tai a makeover. When Tai becomes more popular than she is, Cher realizes that her disapproving ex-stepbrother was right about how misguided she was -- and falls for him.\n",
       "\u001b[1;36m2\u001b[0m                                                                                                                                                                                                                         A love story built on a misunderstanding. A transit worker pulls commuter Peter off the tracks after he's mugged. But while he's in a coma, his family mistakenly thinks she's Peter's fiancée, and she doesn't correct them. Things get more complicated when she falls for his brother, who's not quite sure that she's who she claims to be.\n",
       "\u001b[1;36m3\u001b[0m                                                                                                                                                  A man with a low IQ has accomplished great things in his life and been present during significant historic events - in each case, far exceeding what anyone imagined he could do. Yet, despite all the things he has attained, his one true love eludes him. \u001b[32m'Forrest Gump'\u001b[0m is the story of a man who rose above his challenges, and who proved that determination, courage, and love are more important than ability.\n",
       "\u001b[1;36m4\u001b[0m                                                                                                                                                        When millionaire wheeler-dealer Edward Lewis enters a business contract with Hollywood hooker Vivian Ward, he loses his heart in the bargain in this charming romantic comedy. After Edward hires Vivian as his date for a week and gives her a Cinderella makeover, she returns the favor by mellowing the hardnosed tycoon's outlook. Can the poor prostitute and the rich capitalist live happily ever after?\n",
       "\u001b[33m...\u001b[0m                                                                                                                                                                                                                                                                                                                                                                                                                                                                                                                                                                   \u001b[33m...\u001b[0m\n",
       "\u001b[1;36m18603\u001b[0m  Lu Jin is a handsome, wealthy hotel executive whose drive for perfection is matched only by his taste for fine cuisine. When he checks into the Rosebud, he's dissatisfied with everything he sees and is ready to take action\u001b[33m...\u001b[0m until flamboyant female sous chef Gu Shengnan creates the perfectionist what may be a perfect meal. Now, these bitter rivals find themselves brought together in the kitchen in this light-hearted romantic comedy, infused with fun and flavors to create a delicious dish that foodies around the world wouldn't dare to miss.\n",
       "\u001b[1;36m18604\u001b[0m                        After the police find Derek’s daughter brutally murdered on the beach, he vows to make the culprit suffer for his actions, even if that person is ‘part of the family.’  With careful research into the history of torture, Derek prepares himself and his basement for a week of brutal tactics that will make his daughter’s killer feel the pain that he has inflicted upon so many others.  In a time when stranger danger is ever present, a single father learns that it’s the ones you trust most who have to be watched the closest.\n",
       "\u001b[1;36m18605\u001b[0m                                                                                                                                                                                                                                                                                                                                                                        In \u001b[1;36m1980\u001b[0m, a teenage boy escapes the unrest in Iran only to face more hostility in America, due to the hostage crisis. Determined to fit in, he joins the school's floundering wrestling team.\n",
       "\u001b[1;36m18606\u001b[0m                                                                                                                                                                                                                                                                                                                                                                                                                                         After struggling to find employment, Amanda takes a hotel position in a small town where she ends up fighting for her life.\n",
       "\u001b[1;36m18607\u001b[0m                                                                                           Plainclothes policemen Brian and Mike use an elderly woman's apartment for surveillance, hoping to catch a fugitive gangster. They develop a warm relationship with their hostess, whom they call \u001b[32m\"granny.\"\u001b[0m Meanwhile, each man develops a romantic relationship: Brian with a strange wandering teenage girl, and Mike with a pregnant woman at the dry cleaning shop. When the gangster returns to his flat, Brian and Mike are forced into an explosive confrontation.\n",
       "\n",
       "       movie_release_year  movie_imdb_id  user_movie_rating  \\\n",
       "\u001b[1;36m0\u001b[0m                    \u001b[1;36m1995\u001b[0m         \u001b[1;36m114709\u001b[0m           \u001b[1;36m3.806931\u001b[0m   \n",
       "\u001b[1;36m1\u001b[0m                    \u001b[1;36m1995\u001b[0m         \u001b[1;36m112697\u001b[0m           \u001b[1;36m3.506494\u001b[0m   \n",
       "\u001b[1;36m2\u001b[0m                    \u001b[1;36m1995\u001b[0m         \u001b[1;36m114924\u001b[0m           \u001b[1;36m3.395349\u001b[0m   \n",
       "\u001b[1;36m3\u001b[0m                    \u001b[1;36m1994\u001b[0m         \u001b[1;36m109830\u001b[0m           \u001b[1;36m4.004702\u001b[0m   \n",
       "\u001b[1;36m4\u001b[0m                    \u001b[1;36m1990\u001b[0m         \u001b[1;36m100405\u001b[0m           \u001b[1;36m3.281818\u001b[0m   \n",
       "\u001b[33m...\u001b[0m                   \u001b[33m...\u001b[0m            \u001b[33m...\u001b[0m                \u001b[33m...\u001b[0m   \n",
       "\u001b[1;36m18603\u001b[0m                \u001b[1;36m2017\u001b[0m        \u001b[1;36m6772874\u001b[0m           \u001b[1;36m3.000000\u001b[0m   \n",
       "\u001b[1;36m18604\u001b[0m                \u001b[1;36m2012\u001b[0m        \u001b[1;36m2214941\u001b[0m           \u001b[1;36m3.000000\u001b[0m   \n",
       "\u001b[1;36m18605\u001b[0m                \u001b[1;36m2016\u001b[0m        \u001b[1;36m4303202\u001b[0m           \u001b[1;36m4.000000\u001b[0m   \n",
       "\u001b[1;36m18606\u001b[0m                \u001b[1;36m2016\u001b[0m        \u001b[1;36m3750238\u001b[0m           \u001b[1;36m1.000000\u001b[0m   \n",
       "\u001b[1;36m18607\u001b[0m                \u001b[1;36m1999\u001b[0m         \u001b[1;36m214555\u001b[0m           \u001b[1;36m4.000000\u001b[0m   \n",
       "\n",
       "                                                               poster  \n",
       "\u001b[1;36m0\u001b[0m      \u001b[4;94mhttp://image.tmdb.org/t/p/w500/uXDfjJbdP4ijW5hWSBrPrlKpxab.jpg\u001b[0m  \n",
       "\u001b[1;36m1\u001b[0m      \u001b[4;94mhttp://image.tmdb.org/t/p/w500/8AwVTcgpTnmeOs4TdTWqcFDXEsA.jpg\u001b[0m  \n",
       "\u001b[1;36m2\u001b[0m      \u001b[4;94mhttp://image.tmdb.org/t/p/w500/qNGO3ETcNwlWqK2kNRpbJSJRlos.jpg\u001b[0m  \n",
       "\u001b[1;36m3\u001b[0m      \u001b[4;94mhttp://image.tmdb.org/t/p/w500/arw2vcBveWOVZr6pxd9XTd1TdQa.jpg\u001b[0m  \n",
       "\u001b[1;36m4\u001b[0m      \u001b[4;94mhttp://image.tmdb.org/t/p/w500/hVHUfT801LQATGd26VPzhorIYza.jpg\u001b[0m  \n",
       "\u001b[33m...\u001b[0m                                                               \u001b[33m...\u001b[0m  \n",
       "\u001b[1;36m18603\u001b[0m  \u001b[4;94mhttp://image.tmdb.org/t/p/w500/1WHW2jzZlrTatNRheohpWHdEBuP.jpg\u001b[0m  \n",
       "\u001b[1;36m18604\u001b[0m  \u001b[4;94mhttp://image.tmdb.org/t/p/w500/e2zef4gFoNsqfUIHVs9b3QrMxSu.jpg\u001b[0m  \n",
       "\u001b[1;36m18605\u001b[0m  \u001b[4;94mhttp://image.tmdb.org/t/p/w500/yxK8NVydY0p4ZymT5HB2JXJ8xPW.jpg\u001b[0m  \n",
       "\u001b[1;36m18606\u001b[0m  \u001b[4;94mhttp://image.tmdb.org/t/p/w500/vTOR38A4bAZw8n5hjr8VCeApDh2.jpg\u001b[0m  \n",
       "\u001b[1;36m18607\u001b[0m  \u001b[4;94mhttp://image.tmdb.org/t/p/w500/50kphvvy0zkMjK1G2visnbPi4TV.jpg\u001b[0m  \n",
       "\n",
       "\u001b[1m[\u001b[0m\u001b[1;36m18608\u001b[0m rows x \u001b[1;36m8\u001b[0m columns\u001b[1m]\u001b[0m"
      ]
     },
     "execution_count": 38,
     "metadata": {},
     "output_type": "execute_result"
    }
   ],
   "source": [
    "items"
   ]
  },
  {
   "cell_type": "markdown",
   "id": "f824fb9f-22a5-4eaa-96eb-c7dc97fefc7f",
   "metadata": {},
   "source": [
    "## Create interactions dev and test sets"
   ]
  },
  {
   "cell_type": "markdown",
   "id": "32a6b043-3b62-45f9-a117-c9da7681152d",
   "metadata": {
    "tags": []
   },
   "source": [
    "**Step 1**: Select interacctions set columns."
   ]
  },
  {
   "cell_type": "code",
   "execution_count": 39,
   "id": "43f5059e-7e84-4b1c-8370-4c2b8abe1cf7",
   "metadata": {
    "tags": []
   },
   "outputs": [
    {
     "data": {
      "text/html": [
       "<pre style=\"white-space:pre;overflow-x:auto;line-height:normal;font-family:Menlo,'DejaVu Sans Mono',consolas,'Courier New',monospace\"></pre>\n"
      ],
      "text/plain": []
     },
     "metadata": {},
     "output_type": "display_data"
    },
    {
     "data": {
      "text/html": [
       "<div>\n",
       "<style scoped>\n",
       "    .dataframe tbody tr th:only-of-type {\n",
       "        vertical-align: middle;\n",
       "    }\n",
       "\n",
       "    .dataframe tbody tr th {\n",
       "        vertical-align: top;\n",
       "    }\n",
       "\n",
       "    .dataframe thead th {\n",
       "        text-align: right;\n",
       "    }\n",
       "</style>\n",
       "<table border=\"1\" class=\"dataframe\">\n",
       "  <thead>\n",
       "    <tr style=\"text-align: right;\">\n",
       "      <th></th>\n",
       "      <th>user_id</th>\n",
       "      <th>item_id</th>\n",
       "      <th>rating</th>\n",
       "      <th>timestamp</th>\n",
       "    </tr>\n",
       "  </thead>\n",
       "  <tbody>\n",
       "    <tr>\n",
       "      <th>0</th>\n",
       "      <td>100538</td>\n",
       "      <td>1</td>\n",
       "      <td>4</td>\n",
       "      <td>2019-01-01 21:11:09</td>\n",
       "    </tr>\n",
       "    <tr>\n",
       "      <th>1</th>\n",
       "      <td>10231</td>\n",
       "      <td>1</td>\n",
       "      <td>3</td>\n",
       "      <td>2016-09-08 09:06:29</td>\n",
       "    </tr>\n",
       "    <tr>\n",
       "      <th>2</th>\n",
       "      <td>102568</td>\n",
       "      <td>1</td>\n",
       "      <td>5</td>\n",
       "      <td>2017-02-26 16:43:51</td>\n",
       "    </tr>\n",
       "    <tr>\n",
       "      <th>3</th>\n",
       "      <td>102901</td>\n",
       "      <td>1</td>\n",
       "      <td>4</td>\n",
       "      <td>2010-07-05 21:02:57</td>\n",
       "    </tr>\n",
       "    <tr>\n",
       "      <th>4</th>\n",
       "      <td>103371</td>\n",
       "      <td>1</td>\n",
       "      <td>4</td>\n",
       "      <td>2006-03-09 22:29:16</td>\n",
       "    </tr>\n",
       "  </tbody>\n",
       "</table>\n",
       "</div>"
      ],
      "text/plain": [
       "\n",
       "   user_id  item_id  rating           timestamp\n",
       "\u001b[1;36m0\u001b[0m   \u001b[1;36m100538\u001b[0m        \u001b[1;36m1\u001b[0m       \u001b[1;36m4\u001b[0m \u001b[1;36m2019\u001b[0m-\u001b[1;36m01\u001b[0m-\u001b[1;36m01\u001b[0m \u001b[1;92m21:11:09\u001b[0m\n",
       "\u001b[1;36m1\u001b[0m    \u001b[1;36m10231\u001b[0m        \u001b[1;36m1\u001b[0m       \u001b[1;36m3\u001b[0m \u001b[1;36m2016\u001b[0m-\u001b[1;36m09\u001b[0m-\u001b[1;36m08\u001b[0m \u001b[1;92m09:06:29\u001b[0m\n",
       "\u001b[1;36m2\u001b[0m   \u001b[1;36m102568\u001b[0m        \u001b[1;36m1\u001b[0m       \u001b[1;36m5\u001b[0m \u001b[1;36m2017\u001b[0m-\u001b[1;36m02\u001b[0m-\u001b[1;36m26\u001b[0m \u001b[1;92m16:43:51\u001b[0m\n",
       "\u001b[1;36m3\u001b[0m   \u001b[1;36m102901\u001b[0m        \u001b[1;36m1\u001b[0m       \u001b[1;36m4\u001b[0m \u001b[1;36m2010\u001b[0m-\u001b[1;36m07\u001b[0m-\u001b[1;36m05\u001b[0m \u001b[1;92m21:02:57\u001b[0m\n",
       "\u001b[1;36m4\u001b[0m   \u001b[1;36m103371\u001b[0m        \u001b[1;36m1\u001b[0m       \u001b[1;36m4\u001b[0m \u001b[1;36m2006\u001b[0m-\u001b[1;36m03\u001b[0m-\u001b[1;36m09\u001b[0m \u001b[1;92m22:29:16\u001b[0m"
      ]
     },
     "execution_count": 39,
     "metadata": {},
     "output_type": "execute_result"
    }
   ],
   "source": [
    "interactions = dataset \\\n",
    "    .data[['user_id', 'movie_id', 'user_movie_rating', 'user_movie_rating_timestamp']] \\\n",
    "    .rename(columns={\n",
    "        'user_movie_rating'           : 'rating',\n",
    "        'movie_id'                    : 'item_id',\n",
    "        'user_movie_rating_timestamp' : 'timestamp'\n",
    "    })\n",
    "\n",
    "interactions.head()"
   ]
  },
  {
   "cell_type": "markdown",
   "id": "af598138-873b-4c74-a3da-a66b621dddf7",
   "metadata": {},
   "source": [
    "**Step 2**: Typify user with interactions count ranges"
   ]
  },
  {
   "cell_type": "code",
   "execution_count": 40,
   "id": "3621c72f-3c88-4ee2-9f3c-2225c6acdd9c",
   "metadata": {
    "tags": []
   },
   "outputs": [
    {
     "data": {
      "text/html": [
       "<pre style=\"white-space:pre;overflow-x:auto;line-height:normal;font-family:Menlo,'DejaVu Sans Mono',consolas,'Courier New',monospace\"></pre>\n"
      ],
      "text/plain": []
     },
     "metadata": {},
     "output_type": "display_data"
    },
    {
     "data": {
      "text/html": [
       "<div>\n",
       "<style scoped>\n",
       "    .dataframe tbody tr th:only-of-type {\n",
       "        vertical-align: middle;\n",
       "    }\n",
       "\n",
       "    .dataframe tbody tr th {\n",
       "        vertical-align: top;\n",
       "    }\n",
       "\n",
       "    .dataframe thead th {\n",
       "        text-align: right;\n",
       "    }\n",
       "</style>\n",
       "<table border=\"1\" class=\"dataframe\">\n",
       "  <thead>\n",
       "    <tr style=\"text-align: right;\">\n",
       "      <th></th>\n",
       "      <th>user_id</th>\n",
       "      <th>n_interactions</th>\n",
       "    </tr>\n",
       "  </thead>\n",
       "  <tbody>\n",
       "    <tr>\n",
       "      <th>0</th>\n",
       "      <td>3</td>\n",
       "      <td>1</td>\n",
       "    </tr>\n",
       "    <tr>\n",
       "      <th>1</th>\n",
       "      <td>4</td>\n",
       "      <td>6</td>\n",
       "    </tr>\n",
       "    <tr>\n",
       "      <th>2</th>\n",
       "      <td>19</td>\n",
       "      <td>1</td>\n",
       "    </tr>\n",
       "    <tr>\n",
       "      <th>3</th>\n",
       "      <td>43</td>\n",
       "      <td>1</td>\n",
       "    </tr>\n",
       "    <tr>\n",
       "      <th>4</th>\n",
       "      <td>68</td>\n",
       "      <td>1</td>\n",
       "    </tr>\n",
       "    <tr>\n",
       "      <th>...</th>\n",
       "      <td>...</td>\n",
       "      <td>...</td>\n",
       "    </tr>\n",
       "    <tr>\n",
       "      <th>13012</th>\n",
       "      <td>162467</td>\n",
       "      <td>2</td>\n",
       "    </tr>\n",
       "    <tr>\n",
       "      <th>13013</th>\n",
       "      <td>162492</td>\n",
       "      <td>1</td>\n",
       "    </tr>\n",
       "    <tr>\n",
       "      <th>13014</th>\n",
       "      <td>162501</td>\n",
       "      <td>1</td>\n",
       "    </tr>\n",
       "    <tr>\n",
       "      <th>13015</th>\n",
       "      <td>162512</td>\n",
       "      <td>2</td>\n",
       "    </tr>\n",
       "    <tr>\n",
       "      <th>13016</th>\n",
       "      <td>162521</td>\n",
       "      <td>4</td>\n",
       "    </tr>\n",
       "  </tbody>\n",
       "</table>\n",
       "<p>13017 rows × 2 columns</p>\n",
       "</div>"
      ],
      "text/plain": [
       "\n",
       "       user_id  n_interactions\n",
       "\u001b[1;36m0\u001b[0m            \u001b[1;36m3\u001b[0m               \u001b[1;36m1\u001b[0m\n",
       "\u001b[1;36m1\u001b[0m            \u001b[1;36m4\u001b[0m               \u001b[1;36m6\u001b[0m\n",
       "\u001b[1;36m2\u001b[0m           \u001b[1;36m19\u001b[0m               \u001b[1;36m1\u001b[0m\n",
       "\u001b[1;36m3\u001b[0m           \u001b[1;36m43\u001b[0m               \u001b[1;36m1\u001b[0m\n",
       "\u001b[1;36m4\u001b[0m           \u001b[1;36m68\u001b[0m               \u001b[1;36m1\u001b[0m\n",
       "\u001b[33m...\u001b[0m        \u001b[33m...\u001b[0m             \u001b[33m...\u001b[0m\n",
       "\u001b[1;36m13012\u001b[0m   \u001b[1;36m162467\u001b[0m               \u001b[1;36m2\u001b[0m\n",
       "\u001b[1;36m13013\u001b[0m   \u001b[1;36m162492\u001b[0m               \u001b[1;36m1\u001b[0m\n",
       "\u001b[1;36m13014\u001b[0m   \u001b[1;36m162501\u001b[0m               \u001b[1;36m1\u001b[0m\n",
       "\u001b[1;36m13015\u001b[0m   \u001b[1;36m162512\u001b[0m               \u001b[1;36m2\u001b[0m\n",
       "\u001b[1;36m13016\u001b[0m   \u001b[1;36m162521\u001b[0m               \u001b[1;36m4\u001b[0m\n",
       "\n",
       "\u001b[1m[\u001b[0m\u001b[1;36m13017\u001b[0m rows x \u001b[1;36m2\u001b[0m columns\u001b[1m]\u001b[0m"
      ]
     },
     "execution_count": 40,
     "metadata": {},
     "output_type": "execute_result"
    }
   ],
   "source": [
    "user_interactions_count = interactions.groupby(['user_id']).size().reset_index(name='n_interactions')\n",
    "user_interactions_count"
   ]
  },
  {
   "cell_type": "code",
   "execution_count": 41,
   "id": "8985ff10-f478-42f0-a2f8-b154f8d51879",
   "metadata": {
    "tags": []
   },
   "outputs": [
    {
     "data": {
      "text/html": [
       "<pre style=\"white-space:pre;overflow-x:auto;line-height:normal;font-family:Menlo,'DejaVu Sans Mono',consolas,'Courier New',monospace\"></pre>\n"
      ],
      "text/plain": []
     },
     "metadata": {},
     "output_type": "display_data"
    },
    {
     "data": {
      "text/html": [
       "<div>\n",
       "<style scoped>\n",
       "    .dataframe tbody tr th:only-of-type {\n",
       "        vertical-align: middle;\n",
       "    }\n",
       "\n",
       "    .dataframe tbody tr th {\n",
       "        vertical-align: top;\n",
       "    }\n",
       "\n",
       "    .dataframe thead th {\n",
       "        text-align: right;\n",
       "    }\n",
       "</style>\n",
       "<table border=\"1\" class=\"dataframe\">\n",
       "  <thead>\n",
       "    <tr style=\"text-align: right;\">\n",
       "      <th></th>\n",
       "      <th>user_id</th>\n",
       "      <th>n_interactions</th>\n",
       "      <th>n_interactions_bin</th>\n",
       "    </tr>\n",
       "  </thead>\n",
       "  <tbody>\n",
       "    <tr>\n",
       "      <th>0</th>\n",
       "      <td>3</td>\n",
       "      <td>1</td>\n",
       "      <td>0-19</td>\n",
       "    </tr>\n",
       "    <tr>\n",
       "      <th>1</th>\n",
       "      <td>4</td>\n",
       "      <td>6</td>\n",
       "      <td>0-19</td>\n",
       "    </tr>\n",
       "    <tr>\n",
       "      <th>2</th>\n",
       "      <td>19</td>\n",
       "      <td>1</td>\n",
       "      <td>0-19</td>\n",
       "    </tr>\n",
       "    <tr>\n",
       "      <th>3</th>\n",
       "      <td>43</td>\n",
       "      <td>1</td>\n",
       "      <td>0-19</td>\n",
       "    </tr>\n",
       "    <tr>\n",
       "      <th>4</th>\n",
       "      <td>68</td>\n",
       "      <td>1</td>\n",
       "      <td>0-19</td>\n",
       "    </tr>\n",
       "  </tbody>\n",
       "</table>\n",
       "</div>"
      ],
      "text/plain": [
       "\n",
       "   user_id  n_interactions n_interactions_bin\n",
       "\u001b[1;36m0\u001b[0m        \u001b[1;36m3\u001b[0m               \u001b[1;36m1\u001b[0m               \u001b[1;36m0\u001b[0m-\u001b[1;36m19\u001b[0m\n",
       "\u001b[1;36m1\u001b[0m        \u001b[1;36m4\u001b[0m               \u001b[1;36m6\u001b[0m               \u001b[1;36m0\u001b[0m-\u001b[1;36m19\u001b[0m\n",
       "\u001b[1;36m2\u001b[0m       \u001b[1;36m19\u001b[0m               \u001b[1;36m1\u001b[0m               \u001b[1;36m0\u001b[0m-\u001b[1;36m19\u001b[0m\n",
       "\u001b[1;36m3\u001b[0m       \u001b[1;36m43\u001b[0m               \u001b[1;36m1\u001b[0m               \u001b[1;36m0\u001b[0m-\u001b[1;36m19\u001b[0m\n",
       "\u001b[1;36m4\u001b[0m       \u001b[1;36m68\u001b[0m               \u001b[1;36m1\u001b[0m               \u001b[1;36m0\u001b[0m-\u001b[1;36m19\u001b[0m"
      ]
     },
     "execution_count": 41,
     "metadata": {},
     "output_type": "execute_result"
    }
   ],
   "source": [
    "user_interaction_bins = user_interactions_count.pipe(\n",
    "    ut.bins_column,\n",
    "    'n_interactions',\n",
    "    [20, 30, 40, 50, 60, 70, 80, 90, 100, 200]\n",
    ")\n",
    "user_interaction_bins.head()"
   ]
  },
  {
   "cell_type": "markdown",
   "id": "3f0c7c59-f4de-4cc4-b026-d6ea49e0e8c9",
   "metadata": {},
   "source": [
    "**Step 3**: Remove users with less than 20 interactions."
   ]
  },
  {
   "cell_type": "code",
   "execution_count": 42,
   "id": "df0b246b-c5ce-42da-9eab-6d6749b58a29",
   "metadata": {
    "tags": []
   },
   "outputs": [
    {
     "data": {
      "text/html": [
       "<pre style=\"white-space:pre;overflow-x:auto;line-height:normal;font-family:Menlo,'DejaVu Sans Mono',consolas,'Courier New',monospace\"></pre>\n"
      ],
      "text/plain": []
     },
     "metadata": {},
     "output_type": "display_data"
    },
    {
     "data": {
      "text/html": [
       "<div>\n",
       "<style scoped>\n",
       "    .dataframe tbody tr th:only-of-type {\n",
       "        vertical-align: middle;\n",
       "    }\n",
       "\n",
       "    .dataframe tbody tr th {\n",
       "        vertical-align: top;\n",
       "    }\n",
       "\n",
       "    .dataframe thead th {\n",
       "        text-align: right;\n",
       "    }\n",
       "</style>\n",
       "<table border=\"1\" class=\"dataframe\">\n",
       "  <thead>\n",
       "    <tr style=\"text-align: right;\">\n",
       "      <th></th>\n",
       "      <th>user_id</th>\n",
       "      <th>n_interactions</th>\n",
       "      <th>n_interactions_bin</th>\n",
       "    </tr>\n",
       "  </thead>\n",
       "  <tbody>\n",
       "    <tr>\n",
       "      <th>6</th>\n",
       "      <td>91</td>\n",
       "      <td>82</td>\n",
       "      <td>80-89</td>\n",
       "    </tr>\n",
       "    <tr>\n",
       "      <th>26</th>\n",
       "      <td>264</td>\n",
       "      <td>37</td>\n",
       "      <td>30-39</td>\n",
       "    </tr>\n",
       "    <tr>\n",
       "      <th>56</th>\n",
       "      <td>610</td>\n",
       "      <td>39</td>\n",
       "      <td>30-39</td>\n",
       "    </tr>\n",
       "    <tr>\n",
       "      <th>59</th>\n",
       "      <td>647</td>\n",
       "      <td>60</td>\n",
       "      <td>50-59</td>\n",
       "    </tr>\n",
       "    <tr>\n",
       "      <th>61</th>\n",
       "      <td>653</td>\n",
       "      <td>132</td>\n",
       "      <td>100-199</td>\n",
       "    </tr>\n",
       "  </tbody>\n",
       "</table>\n",
       "</div>"
      ],
      "text/plain": [
       "\n",
       "    user_id  n_interactions n_interactions_bin\n",
       "\u001b[1;36m6\u001b[0m        \u001b[1;36m91\u001b[0m              \u001b[1;36m82\u001b[0m              \u001b[1;36m80\u001b[0m-\u001b[1;36m89\u001b[0m\n",
       "\u001b[1;36m26\u001b[0m      \u001b[1;36m264\u001b[0m              \u001b[1;36m37\u001b[0m              \u001b[1;36m30\u001b[0m-\u001b[1;36m39\u001b[0m\n",
       "\u001b[1;36m56\u001b[0m      \u001b[1;36m610\u001b[0m              \u001b[1;36m39\u001b[0m              \u001b[1;36m30\u001b[0m-\u001b[1;36m39\u001b[0m\n",
       "\u001b[1;36m59\u001b[0m      \u001b[1;36m647\u001b[0m              \u001b[1;36m60\u001b[0m              \u001b[1;36m50\u001b[0m-\u001b[1;36m59\u001b[0m\n",
       "\u001b[1;36m61\u001b[0m      \u001b[1;36m653\u001b[0m             \u001b[1;36m132\u001b[0m            \u001b[1;36m100\u001b[0m-\u001b[1;36m199\u001b[0m"
      ]
     },
     "execution_count": 42,
     "metadata": {},
     "output_type": "execute_result"
    }
   ],
   "source": [
    "user_interaction_bins = user_interaction_bins[user_interaction_bins['n_interactions_bin'] != '0-19']\n",
    "user_interaction_bins.head()"
   ]
  },
  {
   "cell_type": "markdown",
   "id": "a9ae2bc4-5033-4988-9f20-9c3df0ce194d",
   "metadata": {},
   "source": [
    "**Step 4**: Count users by max interactions ranges"
   ]
  },
  {
   "cell_type": "code",
   "execution_count": 43,
   "id": "d3be7137-8604-4864-81fc-9b945834616c",
   "metadata": {
    "tags": []
   },
   "outputs": [
    {
     "data": {
      "text/html": [
       "<pre style=\"white-space:pre;overflow-x:auto;line-height:normal;font-family:Menlo,'DejaVu Sans Mono',consolas,'Courier New',monospace\"></pre>\n"
      ],
      "text/plain": []
     },
     "metadata": {},
     "output_type": "display_data"
    },
    {
     "data": {
      "text/html": [
       "<div>\n",
       "<style scoped>\n",
       "    .dataframe tbody tr th:only-of-type {\n",
       "        vertical-align: middle;\n",
       "    }\n",
       "\n",
       "    .dataframe tbody tr th {\n",
       "        vertical-align: top;\n",
       "    }\n",
       "\n",
       "    .dataframe thead th {\n",
       "        text-align: right;\n",
       "    }\n",
       "</style>\n",
       "<table border=\"1\" class=\"dataframe\">\n",
       "  <thead>\n",
       "    <tr style=\"text-align: right;\">\n",
       "      <th></th>\n",
       "      <th>n_interactions_bin</th>\n",
       "      <th>n_users</th>\n",
       "    </tr>\n",
       "  </thead>\n",
       "  <tbody>\n",
       "    <tr>\n",
       "      <th>0</th>\n",
       "      <td>0-19</td>\n",
       "      <td>0</td>\n",
       "    </tr>\n",
       "    <tr>\n",
       "      <th>1</th>\n",
       "      <td>20-29</td>\n",
       "      <td>463</td>\n",
       "    </tr>\n",
       "    <tr>\n",
       "      <th>2</th>\n",
       "      <td>30-39</td>\n",
       "      <td>275</td>\n",
       "    </tr>\n",
       "    <tr>\n",
       "      <th>3</th>\n",
       "      <td>40-49</td>\n",
       "      <td>202</td>\n",
       "    </tr>\n",
       "    <tr>\n",
       "      <th>4</th>\n",
       "      <td>50-59</td>\n",
       "      <td>138</td>\n",
       "    </tr>\n",
       "    <tr>\n",
       "      <th>5</th>\n",
       "      <td>60-69</td>\n",
       "      <td>89</td>\n",
       "    </tr>\n",
       "    <tr>\n",
       "      <th>6</th>\n",
       "      <td>70-79</td>\n",
       "      <td>67</td>\n",
       "    </tr>\n",
       "    <tr>\n",
       "      <th>7</th>\n",
       "      <td>80-89</td>\n",
       "      <td>63</td>\n",
       "    </tr>\n",
       "    <tr>\n",
       "      <th>8</th>\n",
       "      <td>90-99</td>\n",
       "      <td>36</td>\n",
       "    </tr>\n",
       "    <tr>\n",
       "      <th>9</th>\n",
       "      <td>100-199</td>\n",
       "      <td>233</td>\n",
       "    </tr>\n",
       "    <tr>\n",
       "      <th>10</th>\n",
       "      <td>200+</td>\n",
       "      <td>145</td>\n",
       "    </tr>\n",
       "  </tbody>\n",
       "</table>\n",
       "</div>"
      ],
      "text/plain": [
       "\n",
       "   n_interactions_bin  n_users\n",
       "\u001b[1;36m0\u001b[0m                \u001b[1;36m0\u001b[0m-\u001b[1;36m19\u001b[0m        \u001b[1;36m0\u001b[0m\n",
       "\u001b[1;36m1\u001b[0m               \u001b[1;36m20\u001b[0m-\u001b[1;36m29\u001b[0m      \u001b[1;36m463\u001b[0m\n",
       "\u001b[1;36m2\u001b[0m               \u001b[1;36m30\u001b[0m-\u001b[1;36m39\u001b[0m      \u001b[1;36m275\u001b[0m\n",
       "\u001b[1;36m3\u001b[0m               \u001b[1;36m40\u001b[0m-\u001b[1;36m49\u001b[0m      \u001b[1;36m202\u001b[0m\n",
       "\u001b[1;36m4\u001b[0m               \u001b[1;36m50\u001b[0m-\u001b[1;36m59\u001b[0m      \u001b[1;36m138\u001b[0m\n",
       "\u001b[1;36m5\u001b[0m               \u001b[1;36m60\u001b[0m-\u001b[1;36m69\u001b[0m       \u001b[1;36m89\u001b[0m\n",
       "\u001b[1;36m6\u001b[0m               \u001b[1;36m70\u001b[0m-\u001b[1;36m79\u001b[0m       \u001b[1;36m67\u001b[0m\n",
       "\u001b[1;36m7\u001b[0m               \u001b[1;36m80\u001b[0m-\u001b[1;36m89\u001b[0m       \u001b[1;36m63\u001b[0m\n",
       "\u001b[1;36m8\u001b[0m               \u001b[1;36m90\u001b[0m-\u001b[1;36m99\u001b[0m       \u001b[1;36m36\u001b[0m\n",
       "\u001b[1;36m9\u001b[0m             \u001b[1;36m100\u001b[0m-\u001b[1;36m199\u001b[0m      \u001b[1;36m233\u001b[0m\n",
       "\u001b[1;36m10\u001b[0m               \u001b[1;36m200\u001b[0m+      \u001b[1;36m145\u001b[0m"
      ]
     },
     "execution_count": 43,
     "metadata": {},
     "output_type": "execute_result"
    }
   ],
   "source": [
    "max_user_interactions_by_bin = user_interaction_bins \\\n",
    "    .groupby(['n_interactions_bin']) \\\n",
    "    ['user_id'] \\\n",
    "    .count() \\\n",
    "    .reset_index(name='user_id') \\\n",
    "    .rename(columns={'user_id': 'n_users'})\n",
    "max_user_interactions_by_bin"
   ]
  },
  {
   "cell_type": "code",
   "execution_count": 44,
   "id": "dd0ec7bc-2384-4b46-a0c1-becb6d897ab1",
   "metadata": {
    "tags": []
   },
   "outputs": [
    {
     "data": {
      "text/html": [
       "<pre style=\"white-space:pre;overflow-x:auto;line-height:normal;font-family:Menlo,'DejaVu Sans Mono',consolas,'Courier New',monospace\"></pre>\n"
      ],
      "text/plain": []
     },
     "metadata": {},
     "output_type": "display_data"
    },
    {
     "data": {
      "text/plain": [
       "\u001b[1;36m1711\u001b[0m"
      ]
     },
     "execution_count": 44,
     "metadata": {},
     "output_type": "execute_result"
    }
   ],
   "source": [
    "max_user_interactions_by_bin['n_users'].sum()"
   ]
  },
  {
   "cell_type": "code",
   "execution_count": 45,
   "id": "1e3f5da2-7590-4af3-b0a9-3c7d3104c3ac",
   "metadata": {
    "tags": []
   },
   "outputs": [
    {
     "data": {
      "text/html": [
       "<pre style=\"white-space:pre;overflow-x:auto;line-height:normal;font-family:Menlo,'DejaVu Sans Mono',consolas,'Courier New',monospace\"></pre>\n"
      ],
      "text/plain": []
     },
     "metadata": {},
     "output_type": "display_data"
    },
    {
     "data": {
      "image/png": "[encoded data removed]",
      "text/plain": [
       "\u001b[1m<\u001b[0m\u001b[1;95mFigure\u001b[0m\u001b[39m size 150\u001b[0m\u001b[1;36m0x500\u001b[0m\u001b[39m with \u001b[0m\u001b[1;36m1\u001b[0m\u001b[39m Axes\u001b[0m\u001b[1m>\u001b[0m"
      ]
     },
     "metadata": {},
     "output_type": "display_data"
    }
   ],
   "source": [
    "plot_max_user_interactions_bins(max_user_interactions_by_bin, figsize=(15, 5))"
   ]
  },
  {
   "cell_type": "markdown",
   "id": "cf0ed689-a165-4fa9-8810-cb84df4e5f14",
   "metadata": {},
   "source": [
    "**Observations**\n",
    "\n",
    "* We are not interested into users with more that 200 interactions. We consider them outlier users.\n",
    "* Same story with users less than 20 interations. This users get wrong results with collaborative fiilterging models. They are not suitable to buils an interactions test set."
   ]
  },
  {
   "cell_type": "markdown",
   "id": "1d65bf47-d1fa-4a06-af81-f5785a103b18",
   "metadata": {
    "tags": []
   },
   "source": [
    "**Step 5**: Remove ranges with outliers users."
   ]
  },
  {
   "cell_type": "code",
   "execution_count": 46,
   "id": "188a8a3f-489a-4f9d-b803-54fd2fe89e61",
   "metadata": {
    "tags": []
   },
   "outputs": [
    {
     "data": {
      "text/html": [
       "<pre style=\"white-space:pre;overflow-x:auto;line-height:normal;font-family:Menlo,'DejaVu Sans Mono',consolas,'Courier New',monospace\"></pre>\n"
      ],
      "text/plain": []
     },
     "metadata": {},
     "output_type": "display_data"
    },
    {
     "data": {
      "text/plain": [
       "\u001b[1m[\u001b[0m\u001b[32m'20-29'\u001b[0m, \u001b[32m'30-39'\u001b[0m, \u001b[32m'40-49'\u001b[0m, \u001b[32m'50-59'\u001b[0m, \u001b[32m'60-69'\u001b[0m, \u001b[32m'70-79'\u001b[0m, \u001b[32m'80-89'\u001b[0m, \u001b[32m'90-99'\u001b[0m, \u001b[32m'100-199'\u001b[0m\u001b[1m]\u001b[0m"
      ]
     },
     "execution_count": 46,
     "metadata": {},
     "output_type": "execute_result"
    }
   ],
   "source": [
    "selected_bins = max_user_interactions_by_bin['n_interactions_bin'].values[1:-1].tolist()\n",
    "selected_bins"
   ]
  },
  {
   "cell_type": "markdown",
   "id": "3f944777-4f3d-45de-bb0b-aea1d79838de",
   "metadata": {
    "tags": []
   },
   "source": [
    "**Step 5**: Select 15 users from each group to build a interactions test set that represent the average user behavior."
   ]
  },
  {
   "cell_type": "code",
   "execution_count": 47,
   "id": "fb2579f2-8eb3-4993-aaf9-9ce6de25b94b",
   "metadata": {
    "tags": []
   },
   "outputs": [],
   "source": [
    "groups = user_interaction_bins[['n_interactions_bin', 'user_id']] \\\n",
    "    .drop_duplicates() \\\n",
    "    .groupby('n_interactions_bin')"
   ]
  },
  {
   "cell_type": "code",
   "execution_count": 48,
   "id": "2a79d79a-bdc9-4b2a-bffd-7196f48f1fb6",
   "metadata": {
    "tags": []
   },
   "outputs": [
    {
     "data": {
      "text/html": [
       "<pre style=\"white-space:pre;overflow-x:auto;line-height:normal;font-family:Menlo,'DejaVu Sans Mono',consolas,'Courier New',monospace\"></pre>\n"
      ],
      "text/plain": []
     },
     "metadata": {},
     "output_type": "display_data"
    },
    {
     "data": {
      "text/plain": [
       "\u001b[1;36m135\u001b[0m"
      ]
     },
     "execution_count": 48,
     "metadata": {},
     "output_type": "execute_result"
    }
   ],
   "source": [
    "import random \n",
    "\n",
    "users_sample_size = 15\n",
    "test_set_users = []\n",
    "\n",
    "for curr_bin in selected_bins:\n",
    "    group_df = groups.get_group(curr_bin)\n",
    "    user_ids = group_df['user_id'].values.tolist()\n",
    "    test_set_users.extend(random.sample(user_ids, users_sample_size))\n",
    "    \n",
    "len(test_set_users)"
   ]
  },
  {
   "cell_type": "markdown",
   "id": "eb3fe904-1349-4e28-a8e7-1227c9f4c3f6",
   "metadata": {},
   "source": [
    "**Step 6**: Split and save dev and test interactions sets."
   ]
  },
  {
   "cell_type": "code",
   "execution_count": 49,
   "id": "1fb12c15-b0d1-453f-87e5-860a67be848f",
   "metadata": {
    "tags": []
   },
   "outputs": [],
   "source": [
    "split_criterion = interactions['user_id'].isin(test_set_usersu\n",
    "\n",
    "interactions_dev_set  = interactions[~split_criterion]\n",
    "interactions_test_set = interactions[split_criterion]"
   ]
  },
  {
   "cell_type": "code",
   "execution_count": 50,
   "id": "3d6311e3-8dad-4b7d-a392-134927b70e83",
   "metadata": {
    "scrolled": true,
    "tags": []
   },
   "outputs": [
    {
     "data": {
      "text/html": [
       "<pre style=\"white-space:pre;overflow-x:auto;line-height:normal;font-family:Menlo,'DejaVu Sans Mono',consolas,'Courier New',monospace\"></pre>\n"
      ],
      "text/plain": []
     },
     "metadata": {},
     "output_type": "display_data"
    },
    {
     "data": {
      "text/plain": [
       "\u001b[1m(\u001b[0m\u001b[1m(\u001b[0m\u001b[1;36m185096\u001b[0m, \u001b[1;36m4\u001b[0m\u001b[1m)\u001b[0m, \u001b[1m(\u001b[0m\u001b[1;36m9177\u001b[0m, \u001b[1;36m4\u001b[0m\u001b[1m)\u001b[0m\u001b[1m)\u001b[0m"
      ]
     },
     "execution_count": 50,
     "metadata": {},
     "output_type": "execute_result"
    }
   ],
   "source": [
    "interactions_dev_set.shape, interactions_test_set.shape"
   ]
  },
  {
   "cell_type": "code",
   "execution_count": 51,
   "id": "5a757778-bf5e-4f89-b8f8-7392fd2217d0",
   "metadata": {
    "tags": []
   },
   "outputs": [
    {
     "data": {
      "text/html": [
       "<pre style=\"white-space:pre;overflow-x:auto;line-height:normal;font-family:Menlo,'DejaVu Sans Mono',consolas,'Courier New',monospace\"></pre>\n"
      ],
      "text/plain": []
     },
     "metadata": {},
     "output_type": "display_data"
    },
    {
     "data": {
      "text/plain": [
       "\u001b[1m(\u001b[0m\u001b[1;36m0.9527623498890736\u001b[0m, \u001b[1;36m0.04723765011092638\u001b[0m\u001b[1m)\u001b[0m"
      ]
     },
     "execution_count": 51,
     "metadata": {},
     "output_type": "execute_result"
    }
   ],
   "source": [
    "len(interactions_dev_set)/len(interactions), len(interactions_test_set)/len(interactions)"
   ]
  },
  {
   "cell_type": "code",
   "execution_count": 52,
   "id": "8e8e9f98-4326-4aca-8544-66074a52f803",
   "metadata": {
    "tags": []
   },
   "outputs": [],
   "source": [
    "del interactions"
   ]
  },
  {
   "cell_type": "code",
   "execution_count": 53,
   "id": "1f6affa9-f79a-4ea4-a248-ec6eab8adf38",
   "metadata": {
    "tags": []
   },
   "outputs": [],
   "source": [
    "ut.save_df(interactions_dev_set,  f'{DATASET_PATH}/interactions_dev_set.json' )\n",
    "ut.save_df(interactions_test_set, f'{DATASET_PATH}/interactions_test_set.json')"
   ]
  },
  {
   "cell_type": "code",
   "execution_count": 54,
   "id": "5f871873-6f27-4d41-9ede-4197ba0a86db",
   "metadata": {},
   "outputs": [
    {
     "data": {
      "text/html": [
       "<pre style=\"white-space:pre;overflow-x:auto;line-height:normal;font-family:Menlo,'DejaVu Sans Mono',consolas,'Courier New',monospace\"></pre>\n"
      ],
      "text/plain": []
     },
     "metadata": {},
     "output_type": "display_data"
    },
    {
     "data": {
      "text/html": [
       "<div>\n",
       "<style scoped>\n",
       "    .dataframe tbody tr th:only-of-type {\n",
       "        vertical-align: middle;\n",
       "    }\n",
       "\n",
       "    .dataframe tbody tr th {\n",
       "        vertical-align: top;\n",
       "    }\n",
       "\n",
       "    .dataframe thead th {\n",
       "        text-align: right;\n",
       "    }\n",
       "</style>\n",
       "<table border=\"1\" class=\"dataframe\">\n",
       "  <thead>\n",
       "    <tr style=\"text-align: right;\">\n",
       "      <th></th>\n",
       "      <th>user_id</th>\n",
       "      <th>item_id</th>\n",
       "      <th>rating</th>\n",
       "      <th>timestamp</th>\n",
       "    </tr>\n",
       "  </thead>\n",
       "  <tbody>\n",
       "    <tr>\n",
       "      <th>13</th>\n",
       "      <td>110966</td>\n",
       "      <td>1</td>\n",
       "      <td>3</td>\n",
       "      <td>2014-06-20 23:27:25</td>\n",
       "    </tr>\n",
       "    <tr>\n",
       "      <th>45</th>\n",
       "      <td>135920</td>\n",
       "      <td>1</td>\n",
       "      <td>2</td>\n",
       "      <td>2010-08-19 08:44:16</td>\n",
       "    </tr>\n",
       "    <tr>\n",
       "      <th>50</th>\n",
       "      <td>136355</td>\n",
       "      <td>1</td>\n",
       "      <td>3</td>\n",
       "      <td>2015-11-15 10:56:12</td>\n",
       "    </tr>\n",
       "    <tr>\n",
       "      <th>84</th>\n",
       "      <td>21726</td>\n",
       "      <td>1</td>\n",
       "      <td>5</td>\n",
       "      <td>2010-03-15 05:07:55</td>\n",
       "    </tr>\n",
       "    <tr>\n",
       "      <th>97</th>\n",
       "      <td>3164</td>\n",
       "      <td>1</td>\n",
       "      <td>5</td>\n",
       "      <td>2008-10-06 03:36:14</td>\n",
       "    </tr>\n",
       "    <tr>\n",
       "      <th>...</th>\n",
       "      <td>...</td>\n",
       "      <td>...</td>\n",
       "      <td>...</td>\n",
       "      <td>...</td>\n",
       "    </tr>\n",
       "    <tr>\n",
       "      <th>194240</th>\n",
       "      <td>137760</td>\n",
       "      <td>176057</td>\n",
       "      <td>4</td>\n",
       "      <td>2018-10-08 19:33:34</td>\n",
       "    </tr>\n",
       "    <tr>\n",
       "      <th>194248</th>\n",
       "      <td>22779</td>\n",
       "      <td>176121</td>\n",
       "      <td>2</td>\n",
       "      <td>2018-05-15 22:54:09</td>\n",
       "    </tr>\n",
       "    <tr>\n",
       "      <th>194249</th>\n",
       "      <td>22779</td>\n",
       "      <td>176129</td>\n",
       "      <td>4</td>\n",
       "      <td>2018-07-10 02:30:57</td>\n",
       "    </tr>\n",
       "    <tr>\n",
       "      <th>194253</th>\n",
       "      <td>22779</td>\n",
       "      <td>176183</td>\n",
       "      <td>4</td>\n",
       "      <td>2018-05-15 22:47:04</td>\n",
       "    </tr>\n",
       "    <tr>\n",
       "      <th>194254</th>\n",
       "      <td>29507</td>\n",
       "      <td>176211</td>\n",
       "      <td>4</td>\n",
       "      <td>2017-07-31 18:42:42</td>\n",
       "    </tr>\n",
       "  </tbody>\n",
       "</table>\n",
       "<p>9177 rows × 4 columns</p>\n",
       "</div>"
      ],
      "text/plain": [
       "\n",
       "        user_id  item_id  rating           timestamp\n",
       "\u001b[1;36m13\u001b[0m       \u001b[1;36m110966\u001b[0m        \u001b[1;36m1\u001b[0m       \u001b[1;36m3\u001b[0m \u001b[1;36m2014\u001b[0m-\u001b[1;36m06\u001b[0m-\u001b[1;36m20\u001b[0m \u001b[1;92m23:27:25\u001b[0m\n",
       "\u001b[1;36m45\u001b[0m       \u001b[1;36m135920\u001b[0m        \u001b[1;36m1\u001b[0m       \u001b[1;36m2\u001b[0m \u001b[1;36m2010\u001b[0m-\u001b[1;36m08\u001b[0m-\u001b[1;36m19\u001b[0m \u001b[1;92m08:44:16\u001b[0m\n",
       "\u001b[1;36m50\u001b[0m       \u001b[1;36m136355\u001b[0m        \u001b[1;36m1\u001b[0m       \u001b[1;36m3\u001b[0m \u001b[1;36m2015\u001b[0m-\u001b[1;36m11\u001b[0m-\u001b[1;36m15\u001b[0m \u001b[1;92m10:56:12\u001b[0m\n",
       "\u001b[1;36m84\u001b[0m        \u001b[1;36m21726\u001b[0m        \u001b[1;36m1\u001b[0m       \u001b[1;36m5\u001b[0m \u001b[1;36m2010\u001b[0m-\u001b[1;36m03\u001b[0m-\u001b[1;36m15\u001b[0m \u001b[1;92m05:07:55\u001b[0m\n",
       "\u001b[1;36m97\u001b[0m         \u001b[1;36m3164\u001b[0m        \u001b[1;36m1\u001b[0m       \u001b[1;36m5\u001b[0m \u001b[1;36m2008\u001b[0m-\u001b[1;36m10\u001b[0m-\u001b[1;36m06\u001b[0m \u001b[1;92m03:36:14\u001b[0m\n",
       "\u001b[33m...\u001b[0m         \u001b[33m...\u001b[0m      \u001b[33m...\u001b[0m     \u001b[33m...\u001b[0m                 \u001b[33m...\u001b[0m\n",
       "\u001b[1;36m194240\u001b[0m   \u001b[1;36m137760\u001b[0m   \u001b[1;36m176057\u001b[0m       \u001b[1;36m4\u001b[0m \u001b[1;36m2018\u001b[0m-\u001b[1;36m10\u001b[0m-\u001b[1;36m08\u001b[0m \u001b[1;92m19:33:34\u001b[0m\n",
       "\u001b[1;36m194248\u001b[0m    \u001b[1;36m22779\u001b[0m   \u001b[1;36m176121\u001b[0m       \u001b[1;36m2\u001b[0m \u001b[1;36m2018\u001b[0m-\u001b[1;36m05\u001b[0m-\u001b[1;36m15\u001b[0m \u001b[1;92m22:54:09\u001b[0m\n",
       "\u001b[1;36m194249\u001b[0m    \u001b[1;36m22779\u001b[0m   \u001b[1;36m176129\u001b[0m       \u001b[1;36m4\u001b[0m \u001b[1;36m2018\u001b[0m-\u001b[1;36m07\u001b[0m-\u001b[1;36m10\u001b[0m \u001b[1;92m02:30:57\u001b[0m\n",
       "\u001b[1;36m194253\u001b[0m    \u001b[1;36m22779\u001b[0m   \u001b[1;36m176183\u001b[0m       \u001b[1;36m4\u001b[0m \u001b[1;36m2018\u001b[0m-\u001b[1;36m05\u001b[0m-\u001b[1;36m15\u001b[0m \u001b[1;92m22:47:04\u001b[0m\n",
       "\u001b[1;36m194254\u001b[0m    \u001b[1;36m29507\u001b[0m   \u001b[1;36m176211\u001b[0m       \u001b[1;36m4\u001b[0m \u001b[1;36m2017\u001b[0m-\u001b[1;36m07\u001b[0m-\u001b[1;36m31\u001b[0m \u001b[1;92m18:42:42\u001b[0m\n",
       "\n",
       "\u001b[1m[\u001b[0m\u001b[1;36m9177\u001b[0m rows x \u001b[1;36m4\u001b[0m columns\u001b[1m]\u001b[0m"
      ]
     },
     "execution_count": 54,
     "metadata": {},
     "output_type": "execute_result"
    }
   ],
   "source": [
    "interactions_test_set"
   ]
  },
  {
   "cell_type": "markdown",
   "id": "cc2a65d7-8b13-4fe7-a7d5-5cfddaae14e0",
   "metadata": {},
   "source": [
    "# Upload items and interactions to RecChatBotAPI\n",
    "\n",
    "Finally is necessary insert items and interactions into **Recommendations Chatbot API** databases."
   ]
  },
  {
   "cell_type": "code",
   "execution_count": 55,
   "id": "caa2b9a8-0d26-40f5-a77b-f69bc8d48e73",
   "metadata": {
    "tags": []
   },
   "outputs": [],
   "source": [
    "client = RecChatBotV1ApiClient()"
   ]
  },
  {
   "cell_type": "markdown",
   "id": "bfb3b759-4a9f-4991-bdcf-76607a8bc853",
   "metadata": {
    "tags": []
   },
   "source": [
    "**Step 1**: Add items to Charbot API databases"
   ]
  },
  {
   "cell_type": "code",
   "execution_count": 56,
   "id": "c5373702-c195-4463-9a51-f9d06ac6da8d",
   "metadata": {},
   "outputs": [
    {
     "name": "stderr",
     "output_type": "stream",
     "text": [
      "2024-10-06 11:39:19,723 - INFO - Page Size: 1000\n",
      "2024-10-06 11:39:19,723 - INFO - Page Size: 1000\n",
      "2024-10-06 11:39:25,385 - INFO - Page: 1/19, Size: 1000\n",
      "2024-10-06 11:39:25,385 - INFO - Page: 1/19, Size: 1000\n",
      "2024-10-06 11:39:31,511 - INFO - Page: 2/19, Size: 1000\n",
      "2024-10-06 11:39:31,511 - INFO - Page: 2/19, Size: 1000\n",
      "2024-10-06 11:39:37,000 - INFO - Page: 3/19, Size: 1000\n",
      "2024-10-06 11:39:37,000 - INFO - Page: 3/19, Size: 1000\n",
      "2024-10-06 11:39:42,592 - INFO - Page: 4/19, Size: 1000\n",
      "2024-10-06 11:39:42,592 - INFO - Page: 4/19, Size: 1000\n",
      "2024-10-06 11:39:48,029 - INFO - Page: 5/19, Size: 1000\n",
      "2024-10-06 11:39:48,029 - INFO - Page: 5/19, Size: 1000\n",
      "2024-10-06 11:39:53,566 - INFO - Page: 6/19, Size: 1000\n",
      "2024-10-06 11:39:53,566 - INFO - Page: 6/19, Size: 1000\n",
      "2024-10-06 11:39:59,149 - INFO - Page: 7/19, Size: 1000\n",
      "2024-10-06 11:39:59,149 - INFO - Page: 7/19, Size: 1000\n",
      "2024-10-06 11:40:05,344 - INFO - Page: 8/19, Size: 1000\n",
      "2024-10-06 11:40:05,344 - INFO - Page: 8/19, Size: 1000\n",
      "2024-10-06 11:40:10,870 - INFO - Page: 9/19, Size: 1000\n",
      "2024-10-06 11:40:10,870 - INFO - Page: 9/19, Size: 1000\n",
      "2024-10-06 11:40:16,618 - INFO - Page: 10/19, Size: 1000\n",
      "2024-10-06 11:40:16,618 - INFO - Page: 10/19, Size: 1000\n",
      "2024-10-06 11:40:22,345 - INFO - Page: 11/19, Size: 1000\n",
      "2024-10-06 11:40:22,345 - INFO - Page: 11/19, Size: 1000\n",
      "2024-10-06 11:40:27,856 - INFO - Page: 12/19, Size: 1000\n",
      "2024-10-06 11:40:27,856 - INFO - Page: 12/19, Size: 1000\n",
      "2024-10-06 11:40:33,922 - INFO - Page: 13/19, Size: 1000\n",
      "2024-10-06 11:40:33,922 - INFO - Page: 13/19, Size: 1000\n",
      "2024-10-06 11:40:39,573 - INFO - Page: 14/19, Size: 1000\n",
      "2024-10-06 11:40:39,573 - INFO - Page: 14/19, Size: 1000\n",
      "2024-10-06 11:40:45,376 - INFO - Page: 15/19, Size: 1000\n",
      "2024-10-06 11:40:45,376 - INFO - Page: 15/19, Size: 1000\n",
      "2024-10-06 11:40:50,890 - INFO - Page: 16/19, Size: 1000\n",
      "2024-10-06 11:40:50,890 - INFO - Page: 16/19, Size: 1000\n",
      "2024-10-06 11:40:56,497 - INFO - Page: 17/19, Size: 1000\n",
      "2024-10-06 11:40:56,497 - INFO - Page: 17/19, Size: 1000\n",
      "2024-10-06 11:41:02,414 - INFO - Page: 18/19, Size: 1000\n",
      "2024-10-06 11:41:02,414 - INFO - Page: 18/19, Size: 1000\n",
      "2024-10-06 11:41:05,922 - INFO - Page: 19/19, Size: 608\n",
      "2024-10-06 11:41:05,922 - INFO - Page: 19/19, Size: 608\n"
     ]
    },
    {
     "data": {
      "text/html": [
       "<pre style=\"white-space:pre;overflow-x:auto;line-height:normal;font-family:Menlo,'DejaVu Sans Mono',consolas,'Courier New',monospace\"></pre>\n"
      ],
      "text/plain": []
     },
     "metadata": {},
     "output_type": "display_data"
    },
    {
     "data": {
      "text/plain": [
       "\u001b[1m[\u001b[0m\u001b[1m]\u001b[0m"
      ]
     },
     "execution_count": 56,
     "metadata": {},
     "output_type": "execute_result"
    }
   ],
   "source": [
    "client.add_items(items)"
   ]
  },
  {
   "cell_type": "code",
   "execution_count": 57,
   "id": "1f6f5fc0-b73b-40a3-924e-5326854d5c75",
   "metadata": {
    "tags": []
   },
   "outputs": [
    {
     "data": {
      "text/html": [
       "<pre style=\"white-space:pre;overflow-x:auto;line-height:normal;font-family:Menlo,'DejaVu Sans Mono',consolas,'Courier New',monospace\"></pre>\n"
      ],
      "text/plain": []
     },
     "metadata": {},
     "output_type": "display_data"
    },
    {
     "data": {
      "text/plain": [
       "\u001b[1m(\u001b[0m\u001b[1;36m185096\u001b[0m, \u001b[1;36m4\u001b[0m\u001b[1m)\u001b[0m"
      ]
     },
     "execution_count": 57,
     "metadata": {},
     "output_type": "execute_result"
    }
   ],
   "source": [
    "interactions_dev_set.shape"
   ]
  },
  {
   "cell_type": "markdown",
   "id": "ec40df0d-e406-4508-92c7-ff11ae0d3f78",
   "metadata": {},
   "source": [
    "**Step 2**: Add interactions dev set to Charbot API databases (the test set will be used to evalua chatbot API)."
   ]
  },
  {
   "cell_type": "code",
   "execution_count": 58,
   "id": "cebb3a1f-cacf-44af-b8d8-dcd2a98eb878",
   "metadata": {
    "tags": []
   },
   "outputs": [
    {
     "name": "stderr",
     "output_type": "stream",
     "text": [
      "2024-10-06 11:41:05,968 - INFO - Page Size: 5000\n",
      "2024-10-06 11:41:05,968 - INFO - Page Size: 5000\n",
      "2024-10-06 11:41:06,246 - INFO - Page: 1/38, Size: 5000\n",
      "2024-10-06 11:41:06,246 - INFO - Page: 1/38, Size: 5000\n",
      "2024-10-06 11:41:06,476 - INFO - Page: 2/38, Size: 5000\n",
      "2024-10-06 11:41:06,476 - INFO - Page: 2/38, Size: 5000\n",
      "2024-10-06 11:41:06,707 - INFO - Page: 3/38, Size: 5000\n",
      "2024-10-06 11:41:06,707 - INFO - Page: 3/38, Size: 5000\n",
      "2024-10-06 11:41:06,935 - INFO - Page: 4/38, Size: 5000\n",
      "2024-10-06 11:41:06,935 - INFO - Page: 4/38, Size: 5000\n",
      "2024-10-06 11:41:07,170 - INFO - Page: 5/38, Size: 5000\n",
      "2024-10-06 11:41:07,170 - INFO - Page: 5/38, Size: 5000\n",
      "2024-10-06 11:41:07,410 - INFO - Page: 6/38, Size: 5000\n",
      "2024-10-06 11:41:07,410 - INFO - Page: 6/38, Size: 5000\n",
      "2024-10-06 11:41:07,649 - INFO - Page: 7/38, Size: 5000\n",
      "2024-10-06 11:41:07,649 - INFO - Page: 7/38, Size: 5000\n",
      "2024-10-06 11:41:08,056 - INFO - Page: 8/38, Size: 5000\n",
      "2024-10-06 11:41:08,056 - INFO - Page: 8/38, Size: 5000\n",
      "2024-10-06 11:41:08,297 - INFO - Page: 9/38, Size: 5000\n",
      "2024-10-06 11:41:08,297 - INFO - Page: 9/38, Size: 5000\n",
      "2024-10-06 11:41:08,525 - INFO - Page: 10/38, Size: 5000\n",
      "2024-10-06 11:41:08,525 - INFO - Page: 10/38, Size: 5000\n",
      "2024-10-06 11:41:08,767 - INFO - Page: 11/38, Size: 5000\n",
      "2024-10-06 11:41:08,767 - INFO - Page: 11/38, Size: 5000\n",
      "2024-10-06 11:41:09,007 - INFO - Page: 12/38, Size: 5000\n",
      "2024-10-06 11:41:09,007 - INFO - Page: 12/38, Size: 5000\n",
      "2024-10-06 11:41:09,234 - INFO - Page: 13/38, Size: 5000\n",
      "2024-10-06 11:41:09,234 - INFO - Page: 13/38, Size: 5000\n",
      "2024-10-06 11:41:09,489 - INFO - Page: 14/38, Size: 5000\n",
      "2024-10-06 11:41:09,489 - INFO - Page: 14/38, Size: 5000\n",
      "2024-10-06 11:41:09,740 - INFO - Page: 15/38, Size: 5000\n",
      "2024-10-06 11:41:09,740 - INFO - Page: 15/38, Size: 5000\n",
      "2024-10-06 11:41:10,139 - INFO - Page: 16/38, Size: 5000\n",
      "2024-10-06 11:41:10,139 - INFO - Page: 16/38, Size: 5000\n",
      "2024-10-06 11:41:10,388 - INFO - Page: 17/38, Size: 5000\n",
      "2024-10-06 11:41:10,388 - INFO - Page: 17/38, Size: 5000\n",
      "2024-10-06 11:41:10,616 - INFO - Page: 18/38, Size: 5000\n",
      "2024-10-06 11:41:10,616 - INFO - Page: 18/38, Size: 5000\n",
      "2024-10-06 11:41:10,849 - INFO - Page: 19/38, Size: 5000\n",
      "2024-10-06 11:41:10,849 - INFO - Page: 19/38, Size: 5000\n",
      "2024-10-06 11:41:11,078 - INFO - Page: 20/38, Size: 5000\n",
      "2024-10-06 11:41:11,078 - INFO - Page: 20/38, Size: 5000\n",
      "2024-10-06 11:41:11,311 - INFO - Page: 21/38, Size: 5000\n",
      "2024-10-06 11:41:11,311 - INFO - Page: 21/38, Size: 5000\n",
      "2024-10-06 11:41:11,547 - INFO - Page: 22/38, Size: 5000\n",
      "2024-10-06 11:41:11,547 - INFO - Page: 22/38, Size: 5000\n",
      "2024-10-06 11:41:11,776 - INFO - Page: 23/38, Size: 5000\n",
      "2024-10-06 11:41:11,776 - INFO - Page: 23/38, Size: 5000\n",
      "2024-10-06 11:41:12,009 - INFO - Page: 24/38, Size: 5000\n",
      "2024-10-06 11:41:12,009 - INFO - Page: 24/38, Size: 5000\n",
      "2024-10-06 11:41:12,400 - INFO - Page: 25/38, Size: 5000\n",
      "2024-10-06 11:41:12,400 - INFO - Page: 25/38, Size: 5000\n",
      "2024-10-06 11:41:12,635 - INFO - Page: 26/38, Size: 5000\n",
      "2024-10-06 11:41:12,635 - INFO - Page: 26/38, Size: 5000\n",
      "2024-10-06 11:41:12,866 - INFO - Page: 27/38, Size: 5000\n",
      "2024-10-06 11:41:12,866 - INFO - Page: 27/38, Size: 5000\n",
      "2024-10-06 11:41:13,109 - INFO - Page: 28/38, Size: 5000\n",
      "2024-10-06 11:41:13,109 - INFO - Page: 28/38, Size: 5000\n",
      "2024-10-06 11:41:13,347 - INFO - Page: 29/38, Size: 5000\n",
      "2024-10-06 11:41:13,347 - INFO - Page: 29/38, Size: 5000\n",
      "2024-10-06 11:41:13,585 - INFO - Page: 30/38, Size: 5000\n",
      "2024-10-06 11:41:13,585 - INFO - Page: 30/38, Size: 5000\n",
      "2024-10-06 11:41:13,823 - INFO - Page: 31/38, Size: 5000\n",
      "2024-10-06 11:41:13,823 - INFO - Page: 31/38, Size: 5000\n",
      "2024-10-06 11:41:14,236 - INFO - Page: 32/38, Size: 5000\n",
      "2024-10-06 11:41:14,236 - INFO - Page: 32/38, Size: 5000\n",
      "2024-10-06 11:41:14,489 - INFO - Page: 33/38, Size: 5000\n",
      "2024-10-06 11:41:14,489 - INFO - Page: 33/38, Size: 5000\n",
      "2024-10-06 11:41:14,737 - INFO - Page: 34/38, Size: 5000\n",
      "2024-10-06 11:41:14,737 - INFO - Page: 34/38, Size: 5000\n",
      "2024-10-06 11:41:14,978 - INFO - Page: 35/38, Size: 5000\n",
      "2024-10-06 11:41:14,978 - INFO - Page: 35/38, Size: 5000\n",
      "2024-10-06 11:41:15,274 - INFO - Page: 36/38, Size: 5000\n",
      "2024-10-06 11:41:15,274 - INFO - Page: 36/38, Size: 5000\n",
      "2024-10-06 11:41:15,554 - INFO - Page: 37/38, Size: 5000\n",
      "2024-10-06 11:41:15,554 - INFO - Page: 37/38, Size: 5000\n",
      "2024-10-06 11:41:15,584 - INFO - Page: 38/38, Size: 96\n",
      "2024-10-06 11:41:15,584 - INFO - Page: 38/38, Size: 96\n"
     ]
    },
    {
     "data": {
      "text/html": [
       "<pre style=\"white-space:pre;overflow-x:auto;line-height:normal;font-family:Menlo,'DejaVu Sans Mono',consolas,'Courier New',monospace\"></pre>\n"
      ],
      "text/plain": []
     },
     "metadata": {},
     "output_type": "display_data"
    },
    {
     "data": {
      "text/plain": [
       "\u001b[1m[\u001b[0m\u001b[1m]\u001b[0m"
      ]
     },
     "execution_count": 58,
     "metadata": {},
     "output_type": "execute_result"
    }
   ],
   "source": [
    "client.add_interactions(interactions_dev_set)"
   ]
  },
  {
   "cell_type": "code",
   "execution_count": 59,
   "id": "13d5e1d2-bbd9-4ca6-9896-19fd04cebdc7",
   "metadata": {
    "tags": []
   },
   "outputs": [
    {
     "name": "stderr",
     "output_type": "stream",
     "text": [
      "2024-10-06 11:41:22,486 - INFO - Use pytorch device_name: cuda\n",
      "2024-10-06 11:41:22,486 - INFO - Use pytorch device_name: cuda\n",
      "2024-10-06 11:41:22,487 - INFO - Load pretrained SentenceTransformer: all-mpnet-base-v2\n",
      "2024-10-06 11:41:22,487 - INFO - Load pretrained SentenceTransformer: all-mpnet-base-v2\n",
      "2024-10-06 11:41:24,303 - INFO - Anonymized telemetry enabled. See                     https://docs.trychroma.com/telemetry for more information.\n",
      "2024-10-06 11:41:24,303 - INFO - Anonymized telemetry enabled. See                     https://docs.trychroma.com/telemetry for more information.\n",
      "2024-10-06 11:41:24,324 - INFO - Anonymized telemetry enabled. See                     https://docs.trychroma.com/telemetry for more information.\n",
      "2024-10-06 11:41:24,324 - INFO - Anonymized telemetry enabled. See                     https://docs.trychroma.com/telemetry for more information.\n",
      "2024-10-06 11:41:24,331 - INFO - HTTP Request: GET http://0.0.0.0:9090/api/v1/tenants/default_tenant \"HTTP/1.1 200 OK\"\n",
      "2024-10-06 11:41:24,331 - INFO - HTTP Request: GET http://0.0.0.0:9090/api/v1/tenants/default_tenant \"HTTP/1.1 200 OK\"\n",
      "2024-10-06 11:41:24,333 - INFO - HTTP Request: GET http://0.0.0.0:9090/api/v1/databases/default_database?tenant=default_tenant \"HTTP/1.1 200 OK\"\n",
      "2024-10-06 11:41:24,333 - INFO - HTTP Request: GET http://0.0.0.0:9090/api/v1/databases/default_database?tenant=default_tenant \"HTTP/1.1 200 OK\"\n",
      "2024-10-06 11:41:24,337 - INFO - HTTP Request: POST http://0.0.0.0:9090/api/v1/collections?tenant=default_tenant&database=default_database \"HTTP/1.1 200 OK\"\n",
      "2024-10-06 11:41:24,337 - INFO - HTTP Request: POST http://0.0.0.0:9090/api/v1/collections?tenant=default_tenant&database=default_database \"HTTP/1.1 200 OK\"\n",
      "2024-10-06 11:41:24,340 - INFO - HTTP Request: POST http://0.0.0.0:9090/api/v1/collections?tenant=default_tenant&database=default_database \"HTTP/1.1 200 OK\"\n",
      "2024-10-06 11:41:24,340 - INFO - HTTP Request: POST http://0.0.0.0:9090/api/v1/collections?tenant=default_tenant&database=default_database \"HTTP/1.1 200 OK\"\n",
      "2024-10-06 11:41:24,343 - INFO - HTTP Request: POST http://0.0.0.0:9090/api/v1/collections?tenant=default_tenant&database=default_database \"HTTP/1.1 200 OK\"\n",
      "2024-10-06 11:41:24,343 - INFO - HTTP Request: POST http://0.0.0.0:9090/api/v1/collections?tenant=default_tenant&database=default_database \"HTTP/1.1 200 OK\"\n"
     ]
    },
    {
     "data": {
      "text/html": [
       "<pre style=\"white-space:pre;overflow-x:auto;line-height:normal;font-family:Menlo,'DejaVu Sans Mono',consolas,'Courier New',monospace\"></pre>\n"
      ],
      "text/plain": []
     },
     "metadata": {},
     "output_type": "display_data"
    },
    {
     "data": {
      "text/plain": [
       "\u001b[1m(\u001b[0m\u001b[1;36m185096\u001b[0m, \u001b[1;36m3\u001b[0m\u001b[1m)\u001b[0m"
      ]
     },
     "execution_count": 59,
     "metadata": {},
     "output_type": "execute_result"
    }
   ],
   "source": [
    "ctx = AppContext()\n",
    "\n",
    "api_interactions = ints_to_df(await ctx.interaction_service.find_all())\n",
    "api_interactions.shape"
   ]
  },
  {
   "cell_type": "markdown",
   "id": "a3cc9eed-6f9f-43e5-ad03-018ca7884b5c",
   "metadata": {},
   "source": [
    "## Fun users interactions\n",
    "\n",
    "Create artificial users that simulate fans of specific genres to enhance collaborative filtering models and embedding similarity matching."
   ]
  },
  {
   "cell_type": "markdown",
   "id": "1dc218b2-30ff-447e-9f08-8403b7a0df31",
   "metadata": {
    "tags": []
   },
   "source": [
    "**Step 1**: Build prompts to search items by content similarity(via embeddings). "
   ]
  },
  {
   "cell_type": "code",
   "execution_count": 60,
   "id": "6f97a185-40d7-43d5-a1fd-cbb4abafbb70",
   "metadata": {
    "tags": []
   },
   "outputs": [],
   "source": [
    "searchs = [\n",
    "    ('pixar animated movie for children', 200),\n",
    "    ('science fiction, action', 100),\n",
    "    ('war weapons', 70),\n",
    "    ('iron man, x-men, spider man, bat man, flash, avengers, ant-man, hulk, guardians of the galaxy, marvel, green lantern, superman, watchmen, thor, deadpool, wonder woman, strange, justice League, captain america, logans, kick ass, John Wick', 150),\n",
    "    ('sci-fi, action, future', 130),\n",
    "    ('Mission Impossible, spies, bourne identity, 007', 70),\n",
    "    ('comedy movies', 200),\n",
    "    ('horror', 100),\n",
    "    ('thiller, suspense', 150),\n",
    "    ('love, romance', 150),\n",
    "    ('time travel', 100),\n",
    "    ('dead, zombies, post apocalyptic', 100),\n",
    "    ('software', 100),\n",
    "    ('hackers', 100)\n",
    "]"
   ]
  },
  {
   "cell_type": "markdown",
   "id": "f915b585-b0a3-479d-91a6-241d9fe964b2",
   "metadata": {},
   "source": [
    "**Step 2**: Create fun users interactions."
   ]
  },
  {
   "cell_type": "code",
   "execution_count": 61,
   "id": "c1d54899-ffc1-4ed0-bb33-1680e124986f",
   "metadata": {
    "tags": []
   },
   "outputs": [
    {
     "name": "stderr",
     "output_type": "stream",
     "text": [
      "2024-10-06 11:41:34,646 - INFO - HTTP Request: POST http://0.0.0.0:9090/api/v1/collections/69f0a151-a748-415c-bc74-f0b0521e8044/query \"HTTP/1.1 200 OK\"\n",
      "2024-10-06 11:41:34,646 - INFO - HTTP Request: POST http://0.0.0.0:9090/api/v1/collections/69f0a151-a748-415c-bc74-f0b0521e8044/query \"HTTP/1.1 200 OK\"\n",
      "2024-10-06 11:41:34,652 - INFO - HTTP Request: POST http://0.0.0.0:9090/api/v1/collections/69f0a151-a748-415c-bc74-f0b0521e8044/get \"HTTP/1.1 200 OK\"\n",
      "2024-10-06 11:41:34,652 - INFO - HTTP Request: POST http://0.0.0.0:9090/api/v1/collections/69f0a151-a748-415c-bc74-f0b0521e8044/get \"HTTP/1.1 200 OK\"\n",
      "2024-10-06 11:41:34,656 - INFO - HTTP Request: POST http://0.0.0.0:9090/api/v1/collections/69f0a151-a748-415c-bc74-f0b0521e8044/get \"HTTP/1.1 200 OK\"\n",
      "2024-10-06 11:41:34,656 - INFO - HTTP Request: POST http://0.0.0.0:9090/api/v1/collections/69f0a151-a748-415c-bc74-f0b0521e8044/get \"HTTP/1.1 200 OK\"\n",
      "2024-10-06 11:41:34,660 - INFO - HTTP Request: POST http://0.0.0.0:9090/api/v1/collections/69f0a151-a748-415c-bc74-f0b0521e8044/get \"HTTP/1.1 200 OK\"\n",
      "2024-10-06 11:41:34,660 - INFO - HTTP Request: POST http://0.0.0.0:9090/api/v1/collections/69f0a151-a748-415c-bc74-f0b0521e8044/get \"HTTP/1.1 200 OK\"\n",
      "2024-10-06 11:41:34,663 - INFO - HTTP Request: POST http://0.0.0.0:9090/api/v1/collections/69f0a151-a748-415c-bc74-f0b0521e8044/get \"HTTP/1.1 200 OK\"\n",
      "2024-10-06 11:41:34,663 - INFO - HTTP Request: POST http://0.0.0.0:9090/api/v1/collections/69f0a151-a748-415c-bc74-f0b0521e8044/get \"HTTP/1.1 200 OK\"\n",
      "2024-10-06 11:41:34,666 - INFO - HTTP Request: POST http://0.0.0.0:9090/api/v1/collections/69f0a151-a748-415c-bc74-f0b0521e8044/get \"HTTP/1.1 200 OK\"\n",
      "2024-10-06 11:41:34,666 - INFO - HTTP Request: POST http://0.0.0.0:9090/api/v1/collections/69f0a151-a748-415c-bc74-f0b0521e8044/get \"HTTP/1.1 200 OK\"\n",
      "2024-10-06 11:41:34,670 - INFO - HTTP Request: POST http://0.0.0.0:9090/api/v1/collections/69f0a151-a748-415c-bc74-f0b0521e8044/get \"HTTP/1.1 200 OK\"\n",
      "2024-10-06 11:41:34,670 - INFO - HTTP Request: POST http://0.0.0.0:9090/api/v1/collections/69f0a151-a748-415c-bc74-f0b0521e8044/get \"HTTP/1.1 200 OK\"\n",
      "2024-10-06 11:41:34,673 - INFO - HTTP Request: POST http://0.0.0.0:9090/api/v1/collections/69f0a151-a748-415c-bc74-f0b0521e8044/get \"HTTP/1.1 200 OK\"\n",
      "2024-10-06 11:41:34,673 - INFO - HTTP Request: POST http://0.0.0.0:9090/api/v1/collections/69f0a151-a748-415c-bc74-f0b0521e8044/get \"HTTP/1.1 200 OK\"\n"
     ]
    },
    {
     "data": {
      "text/html": [
       "<pre style=\"white-space:pre;overflow-x:auto;line-height:normal;font-family:Menlo,'DejaVu Sans Mono',consolas,'Courier New',monospace\"></pre>\n"
      ],
      "text/plain": []
     },
     "metadata": {},
     "output_type": "display_data"
    },
    {
     "data": {
      "text/html": [
       "<table border=\"1\" class=\"dataframe\">\n",
       "  <thead>\n",
       "    <tr style=\"text-align: right;\">\n",
       "      <th></th>\n",
       "      <th>index</th>\n",
       "      <th>id</th>\n",
       "      <th>title</th>\n",
       "      <th>release</th>\n",
       "      <th>genres</th>\n",
       "      <th>rating</th>\n",
       "      <th>poster</th>\n",
       "    </tr>\n",
       "  </thead>\n",
       "  <tbody>\n",
       "    <tr>\n",
       "      <th>0</th>\n",
       "      <td>0</td>\n",
       "      <td>100745</td>\n",
       "      <td>TPB AFK: The Pirate Bay Away from Keyboard</td>\n",
       "      <td>2013</td>\n",
       "      <td>[documentary, crime]</td>\n",
       "      <td>3.666667</td>\n",
       "      <td><img src=\"http://image.tmdb.org/t/p/w500/3W2PYp6alnzCqhAzGt9Xs4iMkK4.jpg\" width=\"300\" alt=Not Found Image ></td>\n",
       "    </tr>\n",
       "    <tr>\n",
       "      <th>1</th>\n",
       "      <td>1</td>\n",
       "      <td>140860</td>\n",
       "      <td>Hacker</td>\n",
       "      <td>2002</td>\n",
       "      <td>[thriller, action]</td>\n",
       "      <td>4.000000</td>\n",
       "      <td><img src=\"http://image.tmdb.org/t/p/w500/gpYwKrP6s749b5Nzgm2174jKrpf.jpg\" width=\"300\" alt=Not Found Image ></td>\n",
       "    </tr>\n",
       "    <tr>\n",
       "      <th>2</th>\n",
       "      <td>2</td>\n",
       "      <td>151783</td>\n",
       "      <td>Inside The Dark Web</td>\n",
       "      <td>2014</td>\n",
       "      <td>[documentary]</td>\n",
       "      <td>4.000000</td>\n",
       "      <td><img src=\"http://image.tmdb.org/t/p/w500/ILguuyDqXnV3uuAhDk0KDSteAZ.jpg\" width=\"300\" alt=Not Found Image ></td>\n",
       "    </tr>\n",
       "    <tr>\n",
       "      <th>3</th>\n",
       "      <td>3</td>\n",
       "      <td>166755</td>\n",
       "      <td>Hacker</td>\n",
       "      <td>2016</td>\n",
       "      <td>[crime, drama, thriller]</td>\n",
       "      <td>5.000000</td>\n",
       "      <td><img src=\"http://image.tmdb.org/t/p/w500/gpYwKrP6s749b5Nzgm2174jKrpf.jpg\" width=\"300\" alt=Not Found Image ></td>\n",
       "    </tr>\n",
       "    <tr>\n",
       "      <th>4</th>\n",
       "      <td>4</td>\n",
       "      <td>170</td>\n",
       "      <td>Hackers</td>\n",
       "      <td>1995</td>\n",
       "      <td>[action, adventure, crime, thriller]</td>\n",
       "      <td>3.338983</td>\n",
       "      <td><img src=\"http://image.tmdb.org/t/p/w500/r9YuMy9afzIOrumQzIKpKxv711n.jpg\" width=\"300\" alt=Not Found Image ></td>\n",
       "    </tr>\n",
       "    <tr>\n",
       "      <th>5</th>\n",
       "      <td>5</td>\n",
       "      <td>45172</td>\n",
       "      <td>23</td>\n",
       "      <td>1998</td>\n",
       "      <td>[drama, thriller]</td>\n",
       "      <td>3.800000</td>\n",
       "      <td><img src=\"http://image.tmdb.org/t/p/w500/qIG6tsN3aBKzfkRIuUAhD2Vh1SL.jpg\" width=\"300\" alt=Not Found Image ></td>\n",
       "    </tr>\n",
       "    <tr>\n",
       "      <th>6</th>\n",
       "      <td>6</td>\n",
       "      <td>97692</td>\n",
       "      <td>We Are Legion: The Story of the Hacktivists</td>\n",
       "      <td>2012</td>\n",
       "      <td>[documentary]</td>\n",
       "      <td>3.500000</td>\n",
       "      <td><img src=\"http://image.tmdb.org/t/p/w500/6h3KVwIyPCh1pzS4mchjuUBgZ17.jpg\" width=\"300\" alt=Not Found Image ></td>\n",
       "    </tr>\n",
       "  </tbody>\n",
       "</table>"
      ],
      "text/plain": [
       "\u001b[1m<\u001b[0m\u001b[1;95mIPython.core.display.HTML\u001b[0m\u001b[39m object\u001b[0m\u001b[1m>\u001b[0m"
      ]
     },
     "metadata": {},
     "output_type": "display_data"
    }
   ],
   "source": [
    "items = await search_items_by_content(\n",
    "    interactions_dev_set, \n",
    "    content     = 'hackers',\n",
    "    min_rating  = 3, \n",
    "    limit       = 8,\n",
    "    min_release = 1990,\n",
    "    order_popularity = False\n",
    ")\n",
    "\n",
    "show(items)"
   ]
  },
  {
   "cell_type": "code",
   "execution_count": null,
   "id": "8de26810-5927-4f3f-bccc-313a8efd2936",
   "metadata": {
    "tags": []
   },
   "outputs": [],
   "source": [
    "fun_user_interactions = []\n",
    "max_user_id = interactions_dev_set['user_id'].max()\n",
    "\n",
    "for search in searchs:    \n",
    "    items = await search_items_by_content(\n",
    "        interactions_dev_set, \n",
    "        search[0],\n",
    "        min_rating  = 3, \n",
    "        limit       = search[1],\n",
    "        min_release = 1990,\n",
    "        order_popularity = False\n",
    "    )    \n",
    "    \n",
    "    items = items.rename(columns={'id': 'item_id'})\n",
    "    items['rating'] = items['item_id'].apply(lambda x: 4 if random.random() > 0.5 else 5)\n",
    "    items['user_id'] = max_user_id\n",
    "    items = items[['item_id', 'user_id', 'rating']]\n",
    "    \n",
    "    max_user_id +=1\n",
    "    \n",
    "    fun_user_interactions.append(items)\n",
    "\n",
    "fun_user_interactions = pd.concat(fun_user_interactions)\n",
    "fun_user_interactions['timestamp'] = datetime.now()"
   ]
  },
  {
   "cell_type": "code",
   "execution_count": 63,
   "id": "174f5ad1-983f-4f3d-be74-b1b945bcbadf",
   "metadata": {
    "tags": []
   },
   "outputs": [
    {
     "data": {
      "text/html": [
       "<pre style=\"white-space:pre;overflow-x:auto;line-height:normal;font-family:Menlo,'DejaVu Sans Mono',consolas,'Courier New',monospace\"></pre>\n"
      ],
      "text/plain": []
     },
     "metadata": {},
     "output_type": "display_data"
    },
    {
     "data": {
      "text/html": [
       "<div>\n",
       "<style scoped>\n",
       "    .dataframe tbody tr th:only-of-type {\n",
       "        vertical-align: middle;\n",
       "    }\n",
       "\n",
       "    .dataframe tbody tr th {\n",
       "        vertical-align: top;\n",
       "    }\n",
       "\n",
       "    .dataframe thead th {\n",
       "        text-align: right;\n",
       "    }\n",
       "</style>\n",
       "<table border=\"1\" class=\"dataframe\">\n",
       "  <thead>\n",
       "    <tr style=\"text-align: right;\">\n",
       "      <th></th>\n",
       "      <th>item_id</th>\n",
       "      <th>user_id</th>\n",
       "      <th>rating</th>\n",
       "      <th>timestamp</th>\n",
       "    </tr>\n",
       "  </thead>\n",
       "  <tbody>\n",
       "    <tr>\n",
       "      <th>0</th>\n",
       "      <td>1</td>\n",
       "      <td>162521</td>\n",
       "      <td>5</td>\n",
       "      <td>2024-10-06 11:41:47.267308</td>\n",
       "    </tr>\n",
       "    <tr>\n",
       "      <th>1</th>\n",
       "      <td>101262</td>\n",
       "      <td>162521</td>\n",
       "      <td>4</td>\n",
       "      <td>2024-10-06 11:41:47.267308</td>\n",
       "    </tr>\n",
       "    <tr>\n",
       "      <th>2</th>\n",
       "      <td>105468</td>\n",
       "      <td>162521</td>\n",
       "      <td>4</td>\n",
       "      <td>2024-10-06 11:41:47.267308</td>\n",
       "    </tr>\n",
       "    <tr>\n",
       "      <th>3</th>\n",
       "      <td>106022</td>\n",
       "      <td>162521</td>\n",
       "      <td>5</td>\n",
       "      <td>2024-10-06 11:41:47.267308</td>\n",
       "    </tr>\n",
       "    <tr>\n",
       "      <th>4</th>\n",
       "      <td>106423</td>\n",
       "      <td>162521</td>\n",
       "      <td>5</td>\n",
       "      <td>2024-10-06 11:41:47.267308</td>\n",
       "    </tr>\n",
       "    <tr>\n",
       "      <th>...</th>\n",
       "      <td>...</td>\n",
       "      <td>...</td>\n",
       "      <td>...</td>\n",
       "      <td>...</td>\n",
       "    </tr>\n",
       "    <tr>\n",
       "      <th>64</th>\n",
       "      <td>8129</td>\n",
       "      <td>162534</td>\n",
       "      <td>4</td>\n",
       "      <td>2024-10-06 11:41:47.267308</td>\n",
       "    </tr>\n",
       "    <tr>\n",
       "      <th>65</th>\n",
       "      <td>8581</td>\n",
       "      <td>162534</td>\n",
       "      <td>4</td>\n",
       "      <td>2024-10-06 11:41:47.267308</td>\n",
       "    </tr>\n",
       "    <tr>\n",
       "      <th>66</th>\n",
       "      <td>8628</td>\n",
       "      <td>162534</td>\n",
       "      <td>5</td>\n",
       "      <td>2024-10-06 11:41:47.267308</td>\n",
       "    </tr>\n",
       "    <tr>\n",
       "      <th>67</th>\n",
       "      <td>92475</td>\n",
       "      <td>162534</td>\n",
       "      <td>5</td>\n",
       "      <td>2024-10-06 11:41:47.267308</td>\n",
       "    </tr>\n",
       "    <tr>\n",
       "      <th>68</th>\n",
       "      <td>97692</td>\n",
       "      <td>162534</td>\n",
       "      <td>4</td>\n",
       "      <td>2024-10-06 11:41:47.267308</td>\n",
       "    </tr>\n",
       "  </tbody>\n",
       "</table>\n",
       "<p>1158 rows × 4 columns</p>\n",
       "</div>"
      ],
      "text/plain": [
       "\n",
       "   item_id  user_id  rating                  timestamp\n",
       "\u001b[1;36m0\u001b[0m        \u001b[1;36m1\u001b[0m   \u001b[1;36m162521\u001b[0m       \u001b[1;36m5\u001b[0m \u001b[1;36m2024\u001b[0m-\u001b[1;36m10\u001b[0m-\u001b[1;36m06\u001b[0m \u001b[1;92m11:41:47\u001b[0m.\u001b[1;36m267308\u001b[0m\n",
       "\u001b[1;36m1\u001b[0m   \u001b[1;36m101262\u001b[0m   \u001b[1;36m162521\u001b[0m       \u001b[1;36m4\u001b[0m \u001b[1;36m2024\u001b[0m-\u001b[1;36m10\u001b[0m-\u001b[1;36m06\u001b[0m \u001b[1;92m11:41:47\u001b[0m.\u001b[1;36m267308\u001b[0m\n",
       "\u001b[1;36m2\u001b[0m   \u001b[1;36m105468\u001b[0m   \u001b[1;36m162521\u001b[0m       \u001b[1;36m4\u001b[0m \u001b[1;36m2024\u001b[0m-\u001b[1;36m10\u001b[0m-\u001b[1;36m06\u001b[0m \u001b[1;92m11:41:47\u001b[0m.\u001b[1;36m267308\u001b[0m\n",
       "\u001b[1;36m3\u001b[0m   \u001b[1;36m106022\u001b[0m   \u001b[1;36m162521\u001b[0m       \u001b[1;36m5\u001b[0m \u001b[1;36m2024\u001b[0m-\u001b[1;36m10\u001b[0m-\u001b[1;36m06\u001b[0m \u001b[1;92m11:41:47\u001b[0m.\u001b[1;36m267308\u001b[0m\n",
       "\u001b[1;36m4\u001b[0m   \u001b[1;36m106423\u001b[0m   \u001b[1;36m162521\u001b[0m       \u001b[1;36m5\u001b[0m \u001b[1;36m2024\u001b[0m-\u001b[1;36m10\u001b[0m-\u001b[1;36m06\u001b[0m \u001b[1;92m11:41:47\u001b[0m.\u001b[1;36m267308\u001b[0m\n",
       "..     \u001b[33m...\u001b[0m      \u001b[33m...\u001b[0m     \u001b[33m...\u001b[0m                        \u001b[33m...\u001b[0m\n",
       "\u001b[1;36m64\u001b[0m    \u001b[1;36m8129\u001b[0m   \u001b[1;36m162534\u001b[0m       \u001b[1;36m4\u001b[0m \u001b[1;36m2024\u001b[0m-\u001b[1;36m10\u001b[0m-\u001b[1;36m06\u001b[0m \u001b[1;92m11:41:47\u001b[0m.\u001b[1;36m267308\u001b[0m\n",
       "\u001b[1;36m65\u001b[0m    \u001b[1;36m8581\u001b[0m   \u001b[1;36m162534\u001b[0m       \u001b[1;36m4\u001b[0m \u001b[1;36m2024\u001b[0m-\u001b[1;36m10\u001b[0m-\u001b[1;36m06\u001b[0m \u001b[1;92m11:41:47\u001b[0m.\u001b[1;36m267308\u001b[0m\n",
       "\u001b[1;36m66\u001b[0m    \u001b[1;36m8628\u001b[0m   \u001b[1;36m162534\u001b[0m       \u001b[1;36m5\u001b[0m \u001b[1;36m2024\u001b[0m-\u001b[1;36m10\u001b[0m-\u001b[1;36m06\u001b[0m \u001b[1;92m11:41:47\u001b[0m.\u001b[1;36m267308\u001b[0m\n",
       "\u001b[1;36m67\u001b[0m   \u001b[1;36m92475\u001b[0m   \u001b[1;36m162534\u001b[0m       \u001b[1;36m5\u001b[0m \u001b[1;36m2024\u001b[0m-\u001b[1;36m10\u001b[0m-\u001b[1;36m06\u001b[0m \u001b[1;92m11:41:47\u001b[0m.\u001b[1;36m267308\u001b[0m\n",
       "\u001b[1;36m68\u001b[0m   \u001b[1;36m97692\u001b[0m   \u001b[1;36m162534\u001b[0m       \u001b[1;36m4\u001b[0m \u001b[1;36m2024\u001b[0m-\u001b[1;36m10\u001b[0m-\u001b[1;36m06\u001b[0m \u001b[1;92m11:41:47\u001b[0m.\u001b[1;36m267308\u001b[0m\n",
       "\n",
       "\u001b[1m[\u001b[0m\u001b[1;36m1158\u001b[0m rows x \u001b[1;36m4\u001b[0m columns\u001b[1m]\u001b[0m"
      ]
     },
     "execution_count": 63,
     "metadata": {},
     "output_type": "execute_result"
    }
   ],
   "source": [
    "fun_user_interactions"
   ]
  },
  {
   "cell_type": "markdown",
   "id": "e4c34f6b-84dd-4cb4-be1c-b49edee736c3",
   "metadata": {},
   "source": [
    "**Step 3**: Insert fun users interactions."
   ]
  },
  {
   "cell_type": "code",
   "execution_count": 64,
   "id": "a765d099-78ae-4349-8724-3e354ab77d19",
   "metadata": {
    "tags": []
   },
   "outputs": [
    {
     "name": "stderr",
     "output_type": "stream",
     "text": [
      "2024-10-06 11:44:57,836 - INFO - Page Size: 5000\n",
      "2024-10-06 11:44:57,836 - INFO - Page Size: 5000\n",
      "2024-10-06 11:44:57,919 - INFO - Page: 1/1, Size: 1158\n",
      "2024-10-06 11:44:57,919 - INFO - Page: 1/1, Size: 1158\n"
     ]
    },
    {
     "data": {
      "text/html": [
       "<pre style=\"white-space:pre;overflow-x:auto;line-height:normal;font-family:Menlo,'DejaVu Sans Mono',consolas,'Courier New',monospace\"></pre>\n"
      ],
      "text/plain": []
     },
     "metadata": {},
     "output_type": "display_data"
    },
    {
     "data": {
      "text/plain": [
       "\u001b[1m[\u001b[0m\u001b[1m]\u001b[0m"
      ]
     },
     "execution_count": 64,
     "metadata": {},
     "output_type": "execute_result"
    }
   ],
   "source": [
    "client.add_interactions(fun_user_interactions)"
   ]
  },
  {
   "cell_type": "code",
   "execution_count": 65,
   "id": "42bae1d7-a3a0-4a74-b739-8c1588252f46",
   "metadata": {
    "tags": []
   },
   "outputs": [
    {
     "name": "stderr",
     "output_type": "stream",
     "text": [
      "2024-10-06 11:45:01,566 - INFO - Use pytorch device_name: cuda\n",
      "2024-10-06 11:45:01,566 - INFO - Use pytorch device_name: cuda\n",
      "2024-10-06 11:45:01,568 - INFO - Load pretrained SentenceTransformer: all-mpnet-base-v2\n",
      "2024-10-06 11:45:01,568 - INFO - Load pretrained SentenceTransformer: all-mpnet-base-v2\n",
      "2024-10-06 11:45:03,254 - INFO - Anonymized telemetry enabled. See                     https://docs.trychroma.com/telemetry for more information.\n",
      "2024-10-06 11:45:03,254 - INFO - Anonymized telemetry enabled. See                     https://docs.trychroma.com/telemetry for more information.\n",
      "2024-10-06 11:45:03,260 - INFO - Anonymized telemetry enabled. See                     https://docs.trychroma.com/telemetry for more information.\n",
      "2024-10-06 11:45:03,260 - INFO - Anonymized telemetry enabled. See                     https://docs.trychroma.com/telemetry for more information.\n",
      "2024-10-06 11:45:03,267 - INFO - HTTP Request: GET http://0.0.0.0:9090/api/v1/tenants/default_tenant \"HTTP/1.1 200 OK\"\n",
      "2024-10-06 11:45:03,267 - INFO - HTTP Request: GET http://0.0.0.0:9090/api/v1/tenants/default_tenant \"HTTP/1.1 200 OK\"\n",
      "2024-10-06 11:45:03,270 - INFO - HTTP Request: GET http://0.0.0.0:9090/api/v1/databases/default_database?tenant=default_tenant \"HTTP/1.1 200 OK\"\n",
      "2024-10-06 11:45:03,270 - INFO - HTTP Request: GET http://0.0.0.0:9090/api/v1/databases/default_database?tenant=default_tenant \"HTTP/1.1 200 OK\"\n",
      "2024-10-06 11:45:03,273 - INFO - HTTP Request: POST http://0.0.0.0:9090/api/v1/collections?tenant=default_tenant&database=default_database \"HTTP/1.1 200 OK\"\n",
      "2024-10-06 11:45:03,273 - INFO - HTTP Request: POST http://0.0.0.0:9090/api/v1/collections?tenant=default_tenant&database=default_database \"HTTP/1.1 200 OK\"\n",
      "2024-10-06 11:45:03,277 - INFO - HTTP Request: POST http://0.0.0.0:9090/api/v1/collections?tenant=default_tenant&database=default_database \"HTTP/1.1 200 OK\"\n",
      "2024-10-06 11:45:03,277 - INFO - HTTP Request: POST http://0.0.0.0:9090/api/v1/collections?tenant=default_tenant&database=default_database \"HTTP/1.1 200 OK\"\n",
      "2024-10-06 11:45:03,281 - INFO - HTTP Request: POST http://0.0.0.0:9090/api/v1/collections?tenant=default_tenant&database=default_database \"HTTP/1.1 200 OK\"\n",
      "2024-10-06 11:45:03,281 - INFO - HTTP Request: POST http://0.0.0.0:9090/api/v1/collections?tenant=default_tenant&database=default_database \"HTTP/1.1 200 OK\"\n"
     ]
    },
    {
     "data": {
      "text/html": [
       "<pre style=\"white-space:pre;overflow-x:auto;line-height:normal;font-family:Menlo,'DejaVu Sans Mono',consolas,'Courier New',monospace\"></pre>\n"
      ],
      "text/plain": []
     },
     "metadata": {},
     "output_type": "display_data"
    },
    {
     "data": {
      "text/plain": [
       "\u001b[1m(\u001b[0m\u001b[1;36m186254\u001b[0m, \u001b[1;36m3\u001b[0m\u001b[1m)\u001b[0m"
      ]
     },
     "execution_count": 65,
     "metadata": {},
     "output_type": "execute_result"
    }
   ],
   "source": [
    "ctx = AppContext()\n",
    "\n",
    "api_interactions = ints_to_df(await ctx.interaction_service.find_all())\n",
    "api_interactions.shape"
   ]
  },
  {
   "cell_type": "code",
   "execution_count": null,
   "id": "913aa702-3d42-48cd-820b-d5ce608cf4cd",
   "metadata": {},
   "outputs": [],
   "source": []
  }
 ],
 "metadata": {
  "kernelspec": {
   "display_name": "Python 3 (ipykernel)",
   "language": "python",
   "name": "python3"
  },
  "language_info": {
   "codemirror_mode": {
    "name": "ipython",
    "version": 3
   },
   "file_extension": ".py",
   "mimetype": "text/x-python",
   "name": "python",
   "nbconvert_exporter": "python",
   "pygments_lexer": "ipython3",
   "version": "3.11.5"
  },
  "widgets": {
   "application/vnd.jupyter.widget-state+json": {
    "state": {},
    "version_major": 2,
    "version_minor": 0
   }
  }
 },
 "nbformat": 4,
 "nbformat_minor": 5
}
