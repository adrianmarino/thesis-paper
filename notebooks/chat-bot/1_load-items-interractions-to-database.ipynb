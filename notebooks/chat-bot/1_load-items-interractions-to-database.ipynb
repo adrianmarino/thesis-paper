{
 "cells": [
  {
   "cell_type": "markdown",
   "id": "0417277b-47df-4113-a7b3-8f960db06f1d",
   "metadata": {
    "tags": []
   },
   "source": [
    "# Recommender ChatBot: Build items and interactions data"
   ]
  },
  {
   "cell_type": "code",
   "execution_count": 1,
   "id": "35e430dd-e279-4258-82a4-6b7a1347304b",
   "metadata": {},
   "outputs": [],
   "source": [
    "%load_ext autoreload\n",
    "%autoreload 2"
   ]
  },
  {
   "cell_type": "code",
   "execution_count": 2,
   "id": "834b2f2d-4103-4cf5-880d-10404d8ec7d3",
   "metadata": {},
   "outputs": [],
   "source": [
    "import os\n",
    "\n",
    "BASE_PATH    = '../..'\n",
    "LIB_PATH     = f'{BASE_PATH}/lib'\n",
    "API_PATH     = f'{BASE_PATH}/chat-bot-api'\n",
    "DATASET_PATH = f'{BASE_PATH}/datasets'\n",
    "ITEMS_PATH   = f'{DATASET_PATH}/chatbot-api-movies.json'\n",
    "\n",
    "\n",
    "os.environ['TMP_PATH']               = f'{BASE_PATH}/tmp'\n",
    "os.environ['DATASET_PATH']           = f'{BASE_PATH}/datasets'\n",
    "os.environ['WEIGHTS_PATH']           = f'{BASE_PATH}/weights'\n",
    "os.environ['METRICS_PATH']           = f'{BASE_PATH}/metrics'\n",
    "os.environ['MONGODB_URL']            = 'mongodb://0.0.0.0:27017'\n",
    "os.environ['MONGODB_DATABASE']       = 'chatbot'\n",
    "os.environ['CHROMA_HOST']            = '0.0.0.0'\n",
    "os.environ['CHROMA_PORT']            = '9090'\n",
    "os.environ['TOKENIZERS_PARALLELISM'] = 'false'"
   ]
  },
  {
   "cell_type": "code",
   "execution_count": 3,
   "id": "f98e7bf4-f41a-43f6-b7b7-a991d00f82de",
   "metadata": {},
   "outputs": [
    {
     "data": {
      "text/html": [
       "<pre style=\"white-space:pre;overflow-x:auto;line-height:normal;font-family:Menlo,'DejaVu Sans Mono',consolas,'Courier New',monospace\"></pre>\n"
      ],
      "text/plain": []
     },
     "metadata": {},
     "output_type": "display_data"
    },
    {
     "data": {
      "text/plain": [
       "\u001b[1m<\u001b[0m\u001b[1;95mFigure\u001b[0m\u001b[39m size 64\u001b[0m\u001b[1;36m0x480\u001b[0m\u001b[39m with \u001b[0m\u001b[1;36m0\u001b[0m\u001b[39m Axes\u001b[0m\u001b[1m>\u001b[0m"
      ]
     },
     "metadata": {},
     "output_type": "display_data"
    }
   ],
   "source": [
    "import sys\n",
    "sys.path.append(LIB_PATH)\n",
    "sys.path.append(API_PATH)\n",
    "\n",
    "import pandas as pd\n",
    "\n",
    "import util as ut\n",
    "\n",
    "import torch\n",
    "import data as dt\n",
    "import data.dataset as ds\n",
    "\n",
    "import os\n",
    "\n",
    "from client import RecChatBotV1ApiClient\n",
    "\n",
    "from services import ItemSimQuery\n",
    "\n",
    "from app_context import AppContext\n",
    "\n",
    "import pytorch_common.util as pu\n",
    "from datetime import datetime\n",
    "\n",
    "from rest import TMDBApiClient\n",
    "\n",
    "import logging\n",
    "from dataclasses import dataclass\n",
    "from abc import ABC, abstractmethod\n",
    "from IPython.core.display import HTML"
   ]
  },
  {
   "cell_type": "markdown",
   "id": "79e81931-af14-4688-9925-dd53c93ae7f4",
   "metadata": {},
   "source": [
    "# Setup"
   ]
  },
  {
   "cell_type": "code",
   "execution_count": 4,
   "id": "df26a2e5-ff38-4ff6-ac42-704866d2a325",
   "metadata": {
    "tags": []
   },
   "outputs": [
    {
     "data": {
      "text/html": [
       "<pre style=\"white-space:pre;overflow-x:auto;line-height:normal;font-family:Menlo,'DejaVu Sans Mono',consolas,'Courier New',monospace\"></pre>\n"
      ],
      "text/plain": []
     },
     "metadata": {},
     "output_type": "display_data"
    },
    {
     "data": {
      "text/plain": [
       "\u001b[1m<\u001b[0m\u001b[1;95mRootLogger\u001b[0m\u001b[39m root \u001b[0m\u001b[1;39m(\u001b[0m\u001b[39mINFO\u001b[0m\u001b[1;39m)\u001b[0m\u001b[1m>\u001b[0m"
      ]
     },
     "execution_count": 4,
     "metadata": {},
     "output_type": "execute_result"
    }
   ],
   "source": [
    "pu.LoggerBuilder().on_console().build()"
   ]
  },
  {
   "cell_type": "markdown",
   "id": "3c3181ae-8caf-4d7b-9977-a1512c05441c",
   "metadata": {},
   "source": [
    "# Common Functions and Classes"
   ]
  },
  {
   "cell_type": "code",
   "execution_count": 5,
   "id": "0034a09f-cc01-4c41-aab3-1afb1e110143",
   "metadata": {
    "tags": []
   },
   "outputs": [],
   "source": [
    "def cos_sim(a, b, k=1):\n",
    "    from strsimpy import Cosine\n",
    "    sim = Cosine(k=k)\n",
    "    return 1 - sim.distance(a, b)"
   ]
  },
  {
   "cell_type": "code",
   "execution_count": 6,
   "id": "d2e99f74-9349-4b29-950b-c243f4cb56c7",
   "metadata": {
    "tags": []
   },
   "outputs": [],
   "source": [
    "def is_empty(value):\n",
    "    if value is None: return True\n",
    "    \n",
    "    if type(value) == str and len(value) == 0: return True\n",
    "\n",
    "    if type(value) == list:\n",
    "        if len(value) == 0: return True\n",
    "        if len([True for v in value if is_empty(v)]) == len(value): return True\n",
    "\n",
    "    return False"
   ]
  },
  {
   "cell_type": "code",
   "execution_count": 7,
   "id": "6d9151c9-0f97-4c28-a527-a1222ca6dd18",
   "metadata": {
    "tags": []
   },
   "outputs": [],
   "source": [
    "def items_to_df(models):\n",
    "    return pd.DataFrame([\n",
    "        {\n",
    "            'id'          : model.id,\n",
    "            'title'       : model.title,\n",
    "            'release'     : model.release,\n",
    "            'genres'      : model.genres,\n",
    "            'rating'      : model.rating,\n",
    "            'poster'      : model.poster\n",
    "        }\n",
    "        for model in models\n",
    "    ])\n",
    "\n",
    "\n",
    "def ints_to_df(models):\n",
    "    return pd.DataFrame([\n",
    "        {\n",
    "            'item_id' : model.user_id,\n",
    "            'user_id' : model.item_id,\n",
    "            'rating'  : model.rating\n",
    "        }\n",
    "        for model in models\n",
    "    ])"
   ]
  },
  {
   "cell_type": "code",
   "execution_count": 8,
   "id": "755adbd4-d2c0-4f67-9b17-77c652190ded",
   "metadata": {
    "tags": []
   },
   "outputs": [],
   "source": [
    "async def append_popularity_score(items, interactions):\n",
    "    from sklearn.preprocessing import MinMaxScaler\n",
    "\n",
    "    item_votes = interactions \\\n",
    "        .groupby(['item_id'])['user_id'] \\\n",
    "        .size() \\\n",
    "        .reset_index(name='votes') \\\n",
    "        .rename(columns={'item_id': 'id'})\n",
    "\n",
    "    \n",
    "    item_votes['id'] = item_votes['id'].astype(str)\n",
    "\n",
    "    items = item_votes.merge(items, on='id')\n",
    "    \n",
    "    items['votes_norm']       = items['votes'] / items['votes'].max()\n",
    "    items['popularity_score'] = items['rating'] * items['votes_norm']\n",
    "    items = items.drop(['votes_norm'], axis=1)\n",
    "\n",
    "    return items.sort_values(\n",
    "        by        = ['popularity_score'],\n",
    "        ascending = False\n",
    "    )"
   ]
  },
  {
   "cell_type": "code",
   "execution_count": 9,
   "id": "c743331d-6efa-48aa-ac4a-3771d5af25e2",
   "metadata": {
    "tags": []
   },
   "outputs": [],
   "source": [
    "def to_image_html(path, width=300, alt='Not Found Image'): return F'<img src=\"{path}\" width=\"{width}\" alt={alt} >'\n",
    "\n",
    "def show(df): display(HTML(df.to_html(escape=False)))"
   ]
  },
  {
   "cell_type": "code",
   "execution_count": 10,
   "id": "17761b79-026f-4cc3-be43-e573704a4bca",
   "metadata": {
    "tags": []
   },
   "outputs": [],
   "source": [
    "async def search_items_by_content(\n",
    "    interactions,\n",
    "    content,\n",
    "    min_release      = None,\n",
    "    min_rating       = None,\n",
    "    order_popularity = True,\n",
    "    limit            = 10_000\n",
    "):\n",
    "    items, _ = await ctx.item_service.find_similars_by(\n",
    "        ItemSimQuery() \\\n",
    "            .contains(content) \\\n",
    "            .rating_gte(min_rating) \\\n",
    "            .release_gte(min_release) \\\n",
    "            .limit_eq(limit)\n",
    "    )\n",
    "    \n",
    "    items = items_to_df(items)\n",
    "                \n",
    "    if order_popularity:\n",
    "        items = await append_popularity_score(items, interactions)\n",
    "\n",
    "    items['poster'] = items['poster'].apply(to_image_html)\n",
    "    \n",
    "    return items.reset_index()"
   ]
  },
  {
   "cell_type": "code",
   "execution_count": 11,
   "id": "4797de43-9eb3-4b85-a581-a3b832a66235",
   "metadata": {
    "tags": []
   },
   "outputs": [],
   "source": [
    "import seaborn as sns\n",
    "import matplotlib.pyplot as plt\n",
    "\n",
    "\n",
    "def plot_max_user_interactions_bins(df, figsize=(10, 8)):\n",
    "    plt.figure(figsize=figsize)\n",
    "    sns.barplot(x='n_interactions_bin', y='n_users', data=df)\n",
    "    plt.title('Max user interactions by range')\n",
    "    plt.xlabel('Max user interactions')\n",
    "    plt.ylabel('Users count')\n",
    "    plt.xticks(rotation=45)\n",
    "    plt.show()"
   ]
  },
  {
   "cell_type": "code",
   "execution_count": 12,
   "id": "c80eb9fb-bc95-4884-b925-45d9e4290287",
   "metadata": {
    "tags": []
   },
   "outputs": [],
   "source": [
    "@dataclass(frozen=True)\n",
    "class MovieDataSeeker:\n",
    "    data                   : pd.DataFrame\n",
    "    min_title_sim          : int          = 0.98\n",
    "    min_original_title_sim : int          = 0.98\n",
    "\n",
    "    \n",
    "    def search_many_by(self, title_by_id, fields=[]):\n",
    "        movies = {}\n",
    "        with dt.progress_bar(len(title_by_id), title='Fetching many movies from TMDB') as pb:\n",
    "                \n",
    "            for id, title in title_by_id.items():\n",
    "                movie = self.search_by(id, title, fields)\n",
    "                if movie:\n",
    "                    movies[id] = movie\n",
    "                pb.update()\n",
    "\n",
    "        return movies\n",
    "\n",
    "\n",
    "    def search_by(self, id, title, fields=[]):\n",
    "        movie_data = {}\n",
    "        movies = self.data[id]\n",
    "        if len(movies) > 0:\n",
    "            for movie in movies:\n",
    "                title_sim          = cos_sim(title, movie['title'])\n",
    "                original_title_sim = cos_sim(title, movie['original_title'])\n",
    "\n",
    "                title_eq = movie['title'].strip().lower() == title.strip().lower() or movie['original_title'].strip().lower() == title.strip().lower()\n",
    "                \n",
    "                title_match = title_sim > self.min_title_sim or original_title_sim > self.min_title_sim\n",
    "\n",
    "                if title_eq or title_match:\n",
    "                    logging.debug(f'title sim: {title_sim}, original title sim: {original_title_sim}')\n",
    "\n",
    "                    for field in fields:\n",
    "                        value = movie[field]\n",
    "                        if not is_empty(value):\n",
    "                            movie_data['id'] = id\n",
    "\n",
    "                            if type(movie[field]) == list:\n",
    "                                movie_data[field] = [str(v).lower() for v in movie[field]] \n",
    "                            else:\n",
    "                                movie_data[field] = movie[field]\n",
    "                            \n",
    "                            movie_data['title_sim']          = title_sim\n",
    "                            movie_data['original_title_sim'] = original_title_sim\n",
    "\n",
    "\n",
    "        return movie_data"
   ]
  },
  {
   "cell_type": "code",
   "execution_count": 13,
   "id": "f171ee66-7151-448d-a195-a72a19c12b2f",
   "metadata": {},
   "outputs": [],
   "source": [
    "def resolve_missing_data(movies, row, column, field, missing_codition):\n",
    "    movie_id = row['movie_id']\n",
    "\n",
    "    if movie_id not in movies:\n",
    "        return row[column]\n",
    "\n",
    "    if not missing_codition(row[column]):\n",
    "        return row[column]\n",
    "\n",
    "    if int(movie_id) not in data:\n",
    "        return row[column]\n",
    "    \n",
    "    movie = movies[int(movie_id)]\n",
    "\n",
    "    if movie is None:\n",
    "        return row[column]\n",
    "\n",
    "    if field not in movie:\n",
    "        return row[column]\n",
    "\n",
    "    return movie[field]"
   ]
  },
  {
   "cell_type": "markdown",
   "id": "65786725-d3e4-414b-949d-3dd793a27cfa",
   "metadata": {},
   "source": [
    "# Build datasets\n",
    "\n",
    "## Create and refine Items dataset"
   ]
  },
  {
   "cell_type": "markdown",
   "id": "aae7a0d7-d0df-4c2c-bd57-937cf9184a6f",
   "metadata": {
    "tags": []
   },
   "source": [
    "**Step 1**: Load raw dataset."
   ]
  },
  {
   "cell_type": "code",
   "execution_count": 14,
   "id": "380097ca-a1ae-4a01-bc4b-94f3e291a9d1",
   "metadata": {
    "tags": []
   },
   "outputs": [],
   "source": [
    "def to_tensor(obs, device, columns): \n",
    "    data = obs[columns]\n",
    "    if type(data) == pd.DataFrame:\n",
    "        data = data.values\n",
    "    return torch.tensor(data).to(device)\n",
    "\n",
    "features_fn = lambda obs, device: to_tensor(obs, device, ['user_seq', 'movie_seq'])\n",
    "target_fn   = lambda obs, device: to_tensor(obs, device, ['user_movie_rating'])"
   ]
  },
  {
   "cell_type": "code",
   "execution_count": 15,
   "id": "16fadfb3-65e3-463b-adb3-568d37d99741",
   "metadata": {
    "tags": []
   },
   "outputs": [],
   "source": [
    "dataset = ds.MovieLensTMDBDatasetFactory.from_path(\n",
    "    path             = DATASET_PATH,\n",
    "    transform        = features_fn,\n",
    "    target_transform = target_fn,\n",
    "    device           = torch.device('cpu'),\n",
    "    filter_fn        = lambda df: df[(df['user_movie_rating_year'] >= 2004)]\n",
    ")"
   ]
  },
  {
   "cell_type": "markdown",
   "id": "04dfad54-8f51-43c9-b3bb-b4cb2d98a877",
   "metadata": {
    "tags": []
   },
   "source": [
    "**Step 2**: Build items table."
   ]
  },
  {
   "cell_type": "code",
   "execution_count": 16,
   "id": "5298394f-02a9-41ed-b53e-48fcc87c206e",
   "metadata": {
    "tags": []
   },
   "outputs": [],
   "source": [
    "if not os.path.exists(ITEMS_PATH):\n",
    "    items = dataset \\\n",
    "        .data[['movie_id', 'movie_title', 'movie_genres', 'movie_overview', 'movie_release_year', 'movie_imdb_id', 'user_movie_rating']]\n",
    "\n",
    "    item_mean_rating = items.groupby(['movie_id'])['user_movie_rating'].mean().reset_index()\n",
    "    items = items.drop_duplicates(subset=['movie_id']).drop(columns=['user_movie_rating'])\n",
    "    items[items['movie_title'] == 'Paths of Glory']\n",
    "    items = items.merge(item_mean_rating, on='movie_id')\n",
    "    items"
   ]
  },
  {
   "cell_type": "markdown",
   "id": "4d007964-e26f-4d82-83fb-4ac728598fe4",
   "metadata": {},
   "source": [
    "**Step 3**: Populate items table posters."
   ]
  },
  {
   "cell_type": "code",
   "execution_count": 17,
   "id": "2676bad4-701e-4699-b236-a52990a317c2",
   "metadata": {
    "tags": []
   },
   "outputs": [],
   "source": [
    "if not os.path.exists(ITEMS_PATH):\n",
    "    from rest import TMDBApiClient\n",
    "    import logging\n",
    "\n",
    "    client = TMDBApiClient()\n",
    "\n",
    "    with dt.progress_bar(items.shape[0], title='Processing') as pb:\n",
    "        def resolve_url(title):\n",
    "            return (title, client.find_first_poster_by(title))\n",
    "\n",
    "        params = [[row['movie_title']] for _, row in items.iterrows()]\n",
    "\n",
    "        poster_by_id = ut.ParallelExecutor()(\n",
    "            resolve_url,\n",
    "            params = params,\n",
    "            fallback_result = None\n",
    "        )\n",
    "\n",
    "        poster_by_id = {item[0]: item[1] for item in poster_by_id}"
   ]
  },
  {
   "cell_type": "markdown",
   "id": "5a8913c8-5d8a-49ac-8671-fb656bd04ac8",
   "metadata": {},
   "source": [
    "**Step 4**: Save items table with post urls. (Step 3 process takes a long time)."
   ]
  },
  {
   "cell_type": "code",
   "execution_count": 18,
   "id": "504c42cb-ca64-482b-ad13-616dc4a34dcd",
   "metadata": {
    "tags": []
   },
   "outputs": [],
   "source": [
    "if not os.path.exists(ITEMS_PATH):\n",
    "    items['poster'] = items['movie_title'].apply(lambda title: poster_by_id[title])\n",
    "    ut.save_df(items, f'{DATASET_PATH}/chatbot-api-movies.json')"
   ]
  },
  {
   "cell_type": "markdown",
   "id": "acdacf69-0f79-4e0d-b4c8-cffbfd53e62f",
   "metadata": {},
   "source": [
    "**Step 5**: Reload items table. "
   ]
  },
  {
   "cell_type": "code",
   "execution_count": 19,
   "id": "f3e7834a-c9cf-4564-8b93-e8d96e259492",
   "metadata": {
    "tags": []
   },
   "outputs": [],
   "source": [
    "items = ut.load_df(f'{DATASET_PATH}/chatbot-api-movies.json')"
   ]
  },
  {
   "cell_type": "code",
   "execution_count": 20,
   "id": "ab4bb6c5-0c07-40c6-b039-35b060f84517",
   "metadata": {
    "tags": []
   },
   "outputs": [
    {
     "data": {
      "text/html": [
       "<pre style=\"white-space:pre;overflow-x:auto;line-height:normal;font-family:Menlo,'DejaVu Sans Mono',consolas,'Courier New',monospace\"></pre>\n"
      ],
      "text/plain": []
     },
     "metadata": {},
     "output_type": "display_data"
    },
    {
     "data": {
      "text/html": [
       "<div>\n",
       "<style scoped>\n",
       "    .dataframe tbody tr th:only-of-type {\n",
       "        vertical-align: middle;\n",
       "    }\n",
       "\n",
       "    .dataframe tbody tr th {\n",
       "        vertical-align: top;\n",
       "    }\n",
       "\n",
       "    .dataframe thead th {\n",
       "        text-align: right;\n",
       "    }\n",
       "</style>\n",
       "<table border=\"1\" class=\"dataframe\">\n",
       "  <thead>\n",
       "    <tr style=\"text-align: right;\">\n",
       "      <th></th>\n",
       "      <th>movie_title</th>\n",
       "      <th>poster</th>\n",
       "    </tr>\n",
       "  </thead>\n",
       "  <tbody>\n",
       "    <tr>\n",
       "      <th>0</th>\n",
       "      <td>Toy Story</td>\n",
       "      <td>http://image.tmdb.org/t/p/w500/uXDfjJbdP4ijW5hWSBrPrlKpxab.jpg</td>\n",
       "    </tr>\n",
       "    <tr>\n",
       "      <th>1</th>\n",
       "      <td>Clueless</td>\n",
       "      <td>http://image.tmdb.org/t/p/w500/8AwVTcgpTnmeOs4TdTWqcFDXEsA.jpg</td>\n",
       "    </tr>\n",
       "    <tr>\n",
       "      <th>2</th>\n",
       "      <td>While You Were Sleeping</td>\n",
       "      <td>http://image.tmdb.org/t/p/w500/qNGO3ETcNwlWqK2kNRpbJSJRlos.jpg</td>\n",
       "    </tr>\n",
       "    <tr>\n",
       "      <th>3</th>\n",
       "      <td>Forrest Gump</td>\n",
       "      <td>http://image.tmdb.org/t/p/w500/arw2vcBveWOVZr6pxd9XTd1TdQa.jpg</td>\n",
       "    </tr>\n",
       "    <tr>\n",
       "      <th>4</th>\n",
       "      <td>Pretty Woman</td>\n",
       "      <td>http://image.tmdb.org/t/p/w500/hVHUfT801LQATGd26VPzhorIYza.jpg</td>\n",
       "    </tr>\n",
       "  </tbody>\n",
       "</table>\n",
       "</div>"
      ],
      "text/plain": [
       "\n",
       "                movie_title  \\\n",
       "\u001b[1;36m0\u001b[0m                Toy Story    \n",
       "\u001b[1;36m1\u001b[0m                 Clueless    \n",
       "\u001b[1;36m2\u001b[0m  While You Were Sleeping    \n",
       "\u001b[1;36m3\u001b[0m             Forrest Gump    \n",
       "\u001b[1;36m4\u001b[0m             Pretty Woman    \n",
       "\n",
       "                                                           poster  \n",
       "\u001b[1;36m0\u001b[0m  \u001b[4;94mhttp://image.tmdb.org/t/p/w500/uXDfjJbdP4ijW5hWSBrPrlKpxab.jpg\u001b[0m  \n",
       "\u001b[1;36m1\u001b[0m  \u001b[4;94mhttp://image.tmdb.org/t/p/w500/8AwVTcgpTnmeOs4TdTWqcFDXEsA.jpg\u001b[0m  \n",
       "\u001b[1;36m2\u001b[0m  \u001b[4;94mhttp://image.tmdb.org/t/p/w500/qNGO3ETcNwlWqK2kNRpbJSJRlos.jpg\u001b[0m  \n",
       "\u001b[1;36m3\u001b[0m  \u001b[4;94mhttp://image.tmdb.org/t/p/w500/arw2vcBveWOVZr6pxd9XTd1TdQa.jpg\u001b[0m  \n",
       "\u001b[1;36m4\u001b[0m  \u001b[4;94mhttp://image.tmdb.org/t/p/w500/hVHUfT801LQATGd26VPzhorIYza.jpg\u001b[0m  "
      ]
     },
     "execution_count": 20,
     "metadata": {},
     "output_type": "execute_result"
    }
   ],
   "source": [
    "pd.set_option('display.max_colwidth', None)\n",
    "items[['movie_title', 'poster']].head()"
   ]
  },
  {
   "cell_type": "markdown",
   "id": "9965a0a4-40fc-449a-8062-216597dea6b7",
   "metadata": {},
   "source": [
    "### Populate missing items data using a TMDB API client."
   ]
  },
  {
   "cell_type": "markdown",
   "id": "ae6fcc61-a241-4034-a73d-456e1f4dac2a",
   "metadata": {},
   "source": [
    "**Step 1**: Pull movies data from TMDB API."
   ]
  },
  {
   "cell_type": "code",
   "execution_count": 21,
   "id": "97b8f2fb-2835-43b8-ad46-63444c2a512f",
   "metadata": {
    "tags": []
   },
   "outputs": [],
   "source": [
    "item_title_by_id = ut.to_dict(\n",
    "    items,\n",
    "    key   = 'movie_id',\n",
    "    value = 'movie_title'\n",
    ")\n",
    "\n",
    "item_title_by_id = {id: title.strip() for id, title in item_title_by_id.items()}\n",
    "\n",
    "fields = [\n",
    "     'title',\n",
    "     'original_title', \n",
    "     'poster_url',\n",
    "     'overview', \n",
    "     'genres',\n",
    "     'release_date'\n",
    "]\n",
    "\n",
    "    \n",
    "if not os.path.exists(f'{DATASET_PATH}/tmdb-api-raw-data.dt'):\n",
    "    client = TMDBApiClient()\n",
    "\n",
    "    data = client.parallel_find_many_movies_by(\n",
    "        item_title_by_id,\n",
    "        fields = fields\n",
    "    )\n",
    "    ut.Picket.save(f'{DATASET_PATH}/tmdb-api-raw-data.dt', data)\n",
    "else:\n",
    "    data = ut.Picket.load(f'{DATASET_PATH}/tmdb-api-raw-data.dt')"
   ]
  },
  {
   "cell_type": "code",
   "execution_count": 23,
   "id": "7e46f4d0-9de5-440f-9be8-1319a9ede6a4",
   "metadata": {
    "tags": []
   },
   "outputs": [
    {
     "data": {
      "application/vnd.jupyter.widget-view+json": {
       "model_id": "c830849d4c924ffdbc079fbeb5a07319",
       "version_major": 2,
       "version_minor": 0
      },
      "text/plain": [
       "Fetching many movies from TMDB:   0%|          | 0/18608 [00:00<?, ?it/s]"
      ]
     },
     "metadata": {},
     "output_type": "display_data"
    }
   ],
   "source": [
    "movie_seeker = MovieDataSeeker(data)\n",
    "\n",
    "movies = movie_seeker.search_many_by(\n",
    "    item_title_by_id,\n",
    "    fields = fields\n",
    ")"
   ]
  },
  {
   "cell_type": "markdown",
   "id": "65fa0686-619b-462c-941b-1b33dba0d48d",
   "metadata": {
    "tags": []
   },
   "source": [
    "**Step 2**: Save TMDB movies data (Step 1 process take long time)."
   ]
  },
  {
   "cell_type": "code",
   "execution_count": 24,
   "id": "a7e14749-649d-48b6-8fb8-a55fd18d4d74",
   "metadata": {
    "tags": []
   },
   "outputs": [],
   "source": [
    "ut.Picket.save(f'{DATASET_PATH}/movies.dt', movies)"
   ]
  },
  {
   "cell_type": "code",
   "execution_count": 25,
   "id": "d79aa612-946d-409e-b4fe-e132d5bebd3c",
   "metadata": {
    "tags": []
   },
   "outputs": [],
   "source": [
    "movies = ut.Picket.load(f'{DATASET_PATH}/movies.dt')"
   ]
  },
  {
   "cell_type": "code",
   "execution_count": 26,
   "id": "42efe9e0-be19-4d35-8113-1cd209394848",
   "metadata": {
    "tags": []
   },
   "outputs": [
    {
     "data": {
      "text/html": [
       "<pre style=\"white-space:pre;overflow-x:auto;line-height:normal;font-family:Menlo,'DejaVu Sans Mono',consolas,'Courier New',monospace\"></pre>\n"
      ],
      "text/plain": []
     },
     "metadata": {},
     "output_type": "display_data"
    },
    {
     "data": {
      "text/plain": [
       "\u001b[1m(\u001b[0m\u001b[1;36m16149\u001b[0m, \u001b[1m(\u001b[0m\u001b[1;36m18608\u001b[0m, \u001b[1;36m8\u001b[0m\u001b[1m)\u001b[0m\u001b[1m)\u001b[0m"
      ]
     },
     "execution_count": 26,
     "metadata": {},
     "output_type": "execute_result"
    }
   ],
   "source": [
    "len(movies), items.shape"
   ]
  },
  {
   "cell_type": "markdown",
   "id": "3581cc70-54af-4bae-bd6a-cc57b7be300f",
   "metadata": {},
   "source": [
    "**Step 3**: Populate items with missing overview from movies data."
   ]
  },
  {
   "cell_type": "code",
   "execution_count": 27,
   "id": "e541e505-86a7-4069-a458-4d327387b93e",
   "metadata": {
    "tags": []
   },
   "outputs": [
    {
     "data": {
      "text/html": [
       "<pre style=\"white-space:pre;overflow-x:auto;line-height:normal;font-family:Menlo,'DejaVu Sans Mono',consolas,'Courier New',monospace\"></pre>\n"
      ],
      "text/plain": []
     },
     "metadata": {},
     "output_type": "display_data"
    },
    {
     "data": {
      "text/plain": [
       "\u001b[1m(\u001b[0m\u001b[1;36m127\u001b[0m, \u001b[1;36m8\u001b[0m\u001b[1m)\u001b[0m"
      ]
     },
     "execution_count": 27,
     "metadata": {},
     "output_type": "execute_result"
    }
   ],
   "source": [
    "incomplete_items = items[((items['movie_overview'] == 'No overview found.') | (items['movie_overview'] == ''))]\n",
    "incomplete_items.shape"
   ]
  },
  {
   "cell_type": "code",
   "execution_count": 28,
   "id": "97c0b271-05e3-4a08-aa8f-e6d04b196b8c",
   "metadata": {
    "tags": []
   },
   "outputs": [],
   "source": [
    "overview_missing_codition = lambda value: is_empty(value) or value == 'No overview found.'\n",
    "\n",
    "items['movie_overview'] = items.apply(lambda row: resolve_missing_data(movies, row, column='movie_overview', field='overview', missing_codition=overview_missing_codition), axis=1) "
   ]
  },
  {
   "cell_type": "code",
   "execution_count": 29,
   "id": "ae15bc2e-fdc8-463b-91d2-690a2b4cebee",
   "metadata": {
    "tags": []
   },
   "outputs": [
    {
     "data": {
      "text/html": [
       "<pre style=\"white-space:pre;overflow-x:auto;line-height:normal;font-family:Menlo,'DejaVu Sans Mono',consolas,'Courier New',monospace\"></pre>\n"
      ],
      "text/plain": []
     },
     "metadata": {},
     "output_type": "display_data"
    },
    {
     "data": {
      "text/plain": [
       "\u001b[1m(\u001b[0m\u001b[1;36m31\u001b[0m, \u001b[1;36m8\u001b[0m\u001b[1m)\u001b[0m"
      ]
     },
     "execution_count": 29,
     "metadata": {},
     "output_type": "execute_result"
    }
   ],
   "source": [
    "incomplete_items = items[((items['movie_overview'] == 'No overview found.') | (items['movie_overview'] == ''))]\n",
    "incomplete_items.shape"
   ]
  },
  {
   "cell_type": "markdown",
   "id": "bfdbbcf5-62b3-4d44-a35d-e1e9d5d5bd0a",
   "metadata": {},
   "source": [
    "**Step 4**: Populate items withmissing genres from movies data."
   ]
  },
  {
   "cell_type": "code",
   "execution_count": 30,
   "id": "487735ba-d50f-4aef-8b87-1022b59c9f89",
   "metadata": {
    "tags": []
   },
   "outputs": [
    {
     "data": {
      "text/html": [
       "<pre style=\"white-space:pre;overflow-x:auto;line-height:normal;font-family:Menlo,'DejaVu Sans Mono',consolas,'Courier New',monospace\"></pre>\n"
      ],
      "text/plain": []
     },
     "metadata": {},
     "output_type": "display_data"
    },
    {
     "data": {
      "text/plain": [
       "\u001b[1m(\u001b[0m\u001b[1;36m286\u001b[0m, \u001b[1;36m8\u001b[0m\u001b[1m)\u001b[0m"
      ]
     },
     "execution_count": 30,
     "metadata": {},
     "output_type": "execute_result"
    }
   ],
   "source": [
    "incomplete_items = items[items['movie_genres'].apply(lambda x: '(no genres listed)' in x)]\n",
    "incomplete_items.shape"
   ]
  },
  {
   "cell_type": "code",
   "execution_count": 31,
   "id": "8eba71ba-57be-45bb-8807-2502ebb1d3fa",
   "metadata": {
    "tags": []
   },
   "outputs": [],
   "source": [
    "genres_missing_codition = lambda value: len(value) == 1 and value[0].strip() == '(no genres listed)'\n",
    "\n",
    "items['movie_genres'] = items.apply(lambda row: resolve_missing_data(movies, row, column='movie_genres', field='genres', missing_codition=genres_missing_codition), axis=1) "
   ]
  },
  {
   "cell_type": "code",
   "execution_count": 32,
   "id": "e11ddc8c-14be-472e-bb3c-8b9d8264ab7b",
   "metadata": {
    "tags": []
   },
   "outputs": [
    {
     "data": {
      "text/html": [
       "<pre style=\"white-space:pre;overflow-x:auto;line-height:normal;font-family:Menlo,'DejaVu Sans Mono',consolas,'Courier New',monospace\"></pre>\n"
      ],
      "text/plain": []
     },
     "metadata": {},
     "output_type": "display_data"
    },
    {
     "data": {
      "text/plain": [
       "\u001b[1m(\u001b[0m\u001b[1;36m41\u001b[0m, \u001b[1;36m8\u001b[0m\u001b[1m)\u001b[0m"
      ]
     },
     "execution_count": 32,
     "metadata": {},
     "output_type": "execute_result"
    }
   ],
   "source": [
    "incomplete_items = items[items['movie_genres'].apply(lambda x: '(no genres listed)' in x)]\n",
    "incomplete_items.shape"
   ]
  },
  {
   "cell_type": "markdown",
   "id": "152d41ce-3160-4d54-afb8-2ccb0091c8c7",
   "metadata": {},
   "source": [
    "**Step 5**: Populate items with only one genre from movies data."
   ]
  },
  {
   "cell_type": "code",
   "execution_count": 33,
   "id": "4b4d4c27-fec6-40aa-869b-c2209d365b0d",
   "metadata": {
    "tags": []
   },
   "outputs": [
    {
     "data": {
      "text/html": [
       "<pre style=\"white-space:pre;overflow-x:auto;line-height:normal;font-family:Menlo,'DejaVu Sans Mono',consolas,'Courier New',monospace\"></pre>\n"
      ],
      "text/plain": []
     },
     "metadata": {},
     "output_type": "display_data"
    },
    {
     "data": {
      "text/plain": [
       "\u001b[1m(\u001b[0m\u001b[1;36m6581\u001b[0m, \u001b[1;36m8\u001b[0m\u001b[1m)\u001b[0m"
      ]
     },
     "execution_count": 33,
     "metadata": {},
     "output_type": "execute_result"
    }
   ],
   "source": [
    "incomplete_items = items[items['movie_genres'].apply(lambda x: len(x) == 1)]\n",
    "incomplete_items.shape"
   ]
  },
  {
   "cell_type": "code",
   "execution_count": 34,
   "id": "0a28bf6e-bd54-4337-9c04-50caa14939ff",
   "metadata": {
    "tags": []
   },
   "outputs": [],
   "source": [
    "min_genres_missing_codition = lambda value: len(value) == 1\n",
    "\n",
    "items['movie_genres'] = items.apply(lambda row: resolve_missing_data(movies, row, column='movie_genres', field='genres', missing_codition=min_genres_missing_codition), axis=1) "
   ]
  },
  {
   "cell_type": "code",
   "execution_count": 35,
   "id": "1292922e-44d4-4ea2-bcda-576c53a093c1",
   "metadata": {
    "tags": []
   },
   "outputs": [
    {
     "data": {
      "text/html": [
       "<pre style=\"white-space:pre;overflow-x:auto;line-height:normal;font-family:Menlo,'DejaVu Sans Mono',consolas,'Courier New',monospace\"></pre>\n"
      ],
      "text/plain": []
     },
     "metadata": {},
     "output_type": "display_data"
    },
    {
     "data": {
      "text/plain": [
       "\u001b[1m(\u001b[0m\u001b[1;36m4050\u001b[0m, \u001b[1;36m8\u001b[0m\u001b[1m)\u001b[0m"
      ]
     },
     "execution_count": 35,
     "metadata": {},
     "output_type": "execute_result"
    }
   ],
   "source": [
    "incomplete_items = items[items['movie_genres'].apply(lambda x: len(x) == 1)]\n",
    "incomplete_items.shape"
   ]
  },
  {
   "cell_type": "code",
   "execution_count": 38,
   "id": "3174c301-31c0-4545-acc8-fe2b619eae9c",
   "metadata": {},
   "outputs": [],
   "source": [
    "ut.save_df(items, f'{DATASET_PATH}/pre-processed-movies.json')"
   ]
  },
  {
   "cell_type": "markdown",
   "id": "f824fb9f-22a5-4eaa-96eb-c7dc97fefc7f",
   "metadata": {},
   "source": [
    "## Create interactions dev and test sets"
   ]
  },
  {
   "cell_type": "markdown",
   "id": "32a6b043-3b62-45f9-a117-c9da7681152d",
   "metadata": {
    "tags": []
   },
   "source": [
    "**Step 1**: Select interacctions set columns."
   ]
  },
  {
   "cell_type": "code",
   "execution_count": 116,
   "id": "43f5059e-7e84-4b1c-8370-4c2b8abe1cf7",
   "metadata": {
    "tags": []
   },
   "outputs": [
    {
     "data": {
      "text/html": [
       "<div>\n",
       "<style scoped>\n",
       "    .dataframe tbody tr th:only-of-type {\n",
       "        vertical-align: middle;\n",
       "    }\n",
       "\n",
       "    .dataframe tbody tr th {\n",
       "        vertical-align: top;\n",
       "    }\n",
       "\n",
       "    .dataframe thead th {\n",
       "        text-align: right;\n",
       "    }\n",
       "</style>\n",
       "<table border=\"1\" class=\"dataframe\">\n",
       "  <thead>\n",
       "    <tr style=\"text-align: right;\">\n",
       "      <th></th>\n",
       "      <th>user_id</th>\n",
       "      <th>item_id</th>\n",
       "      <th>rating</th>\n",
       "      <th>timestamp</th>\n",
       "    </tr>\n",
       "  </thead>\n",
       "  <tbody>\n",
       "    <tr>\n",
       "      <th>0</th>\n",
       "      <td>100538</td>\n",
       "      <td>1</td>\n",
       "      <td>4</td>\n",
       "      <td>2019-01-01 21:11:09</td>\n",
       "    </tr>\n",
       "    <tr>\n",
       "      <th>496</th>\n",
       "      <td>100538</td>\n",
       "      <td>39</td>\n",
       "      <td>3</td>\n",
       "      <td>2019-01-03 11:58:44</td>\n",
       "    </tr>\n",
       "    <tr>\n",
       "      <th>8785</th>\n",
       "      <td>100538</td>\n",
       "      <td>339</td>\n",
       "      <td>3</td>\n",
       "      <td>2019-01-04 08:18:24</td>\n",
       "    </tr>\n",
       "    <tr>\n",
       "      <th>9194</th>\n",
       "      <td>100538</td>\n",
       "      <td>356</td>\n",
       "      <td>4</td>\n",
       "      <td>2019-01-03 10:37:28</td>\n",
       "    </tr>\n",
       "    <tr>\n",
       "      <th>14189</th>\n",
       "      <td>100538</td>\n",
       "      <td>597</td>\n",
       "      <td>4</td>\n",
       "      <td>2019-01-03 11:55:57</td>\n",
       "    </tr>\n",
       "  </tbody>\n",
       "</table>\n",
       "</div>"
      ],
      "text/plain": [
       "       user_id  item_id  rating           timestamp\n",
       "0       100538        1       4 2019-01-01 21:11:09\n",
       "496     100538       39       3 2019-01-03 11:58:44\n",
       "8785    100538      339       3 2019-01-04 08:18:24\n",
       "9194    100538      356       4 2019-01-03 10:37:28\n",
       "14189   100538      597       4 2019-01-03 11:55:57"
      ]
     },
     "execution_count": 116,
     "metadata": {},
     "output_type": "execute_result"
    }
   ],
   "source": [
    "interactions = dataset \\\n",
    "    .data[['user_id', 'movie_id', 'user_movie_rating', 'user_movie_rating_timestamp']] \\\n",
    "    .rename(columns={\n",
    "        'user_movie_rating'           : 'rating',\n",
    "        'movie_id'                    : 'item_id',\n",
    "        'user_movie_rating_timestamp' : 'timestamp'\n",
    "    })\n",
    "\n",
    "interactions.head()"
   ]
  },
  {
   "cell_type": "markdown",
   "id": "af598138-873b-4c74-a3da-a66b621dddf7",
   "metadata": {},
   "source": [
    "**Step 2**: Typify user with interactions count ranges"
   ]
  },
  {
   "cell_type": "code",
   "execution_count": 117,
   "id": "3621c72f-3c88-4ee2-9f3c-2225c6acdd9c",
   "metadata": {
    "tags": []
   },
   "outputs": [],
   "source": [
    "user_interactions_count = interactions.groupby(['user_id']).size().reset_index(name='n_interactions')\n",
    "# user_interactions_count"
   ]
  },
  {
   "cell_type": "code",
   "execution_count": 121,
   "id": "8985ff10-f478-42f0-a2f8-b154f8d51879",
   "metadata": {
    "tags": []
   },
   "outputs": [
    {
     "data": {
      "text/html": [
       "<div>\n",
       "<style scoped>\n",
       "    .dataframe tbody tr th:only-of-type {\n",
       "        vertical-align: middle;\n",
       "    }\n",
       "\n",
       "    .dataframe tbody tr th {\n",
       "        vertical-align: top;\n",
       "    }\n",
       "\n",
       "    .dataframe thead th {\n",
       "        text-align: right;\n",
       "    }\n",
       "</style>\n",
       "<table border=\"1\" class=\"dataframe\">\n",
       "  <thead>\n",
       "    <tr style=\"text-align: right;\">\n",
       "      <th></th>\n",
       "      <th>user_id</th>\n",
       "      <th>n_interactions</th>\n",
       "      <th>n_interactions_bin</th>\n",
       "    </tr>\n",
       "  </thead>\n",
       "  <tbody>\n",
       "    <tr>\n",
       "      <th>0</th>\n",
       "      <td>3</td>\n",
       "      <td>1</td>\n",
       "      <td>0-19</td>\n",
       "    </tr>\n",
       "    <tr>\n",
       "      <th>1</th>\n",
       "      <td>4</td>\n",
       "      <td>6</td>\n",
       "      <td>0-19</td>\n",
       "    </tr>\n",
       "    <tr>\n",
       "      <th>2</th>\n",
       "      <td>19</td>\n",
       "      <td>1</td>\n",
       "      <td>0-19</td>\n",
       "    </tr>\n",
       "    <tr>\n",
       "      <th>3</th>\n",
       "      <td>43</td>\n",
       "      <td>1</td>\n",
       "      <td>0-19</td>\n",
       "    </tr>\n",
       "    <tr>\n",
       "      <th>4</th>\n",
       "      <td>68</td>\n",
       "      <td>1</td>\n",
       "      <td>0-19</td>\n",
       "    </tr>\n",
       "  </tbody>\n",
       "</table>\n",
       "</div>"
      ],
      "text/plain": [
       "   user_id  n_interactions n_interactions_bin\n",
       "0        3               1               0-19\n",
       "1        4               6               0-19\n",
       "2       19               1               0-19\n",
       "3       43               1               0-19\n",
       "4       68               1               0-19"
      ]
     },
     "execution_count": 121,
     "metadata": {},
     "output_type": "execute_result"
    }
   ],
   "source": [
    "user_interaction_bins = user_interactions_count.pipe(\n",
    "    ut.bins_column,\n",
    "    'n_interactions',\n",
    "    [20, 30, 40, 50, 60, 70, 80, 90, 100, 200]\n",
    ")\n",
    "user_interaction_bins.head()"
   ]
  },
  {
   "cell_type": "markdown",
   "id": "3f0c7c59-f4de-4cc4-b026-d6ea49e0e8c9",
   "metadata": {},
   "source": [
    "**Step 3**: Remove users with less than 20 interactions."
   ]
  },
  {
   "cell_type": "code",
   "execution_count": 123,
   "id": "df0b246b-c5ce-42da-9eab-6d6749b58a29",
   "metadata": {
    "tags": []
   },
   "outputs": [
    {
     "data": {
      "text/html": [
       "<div>\n",
       "<style scoped>\n",
       "    .dataframe tbody tr th:only-of-type {\n",
       "        vertical-align: middle;\n",
       "    }\n",
       "\n",
       "    .dataframe tbody tr th {\n",
       "        vertical-align: top;\n",
       "    }\n",
       "\n",
       "    .dataframe thead th {\n",
       "        text-align: right;\n",
       "    }\n",
       "</style>\n",
       "<table border=\"1\" class=\"dataframe\">\n",
       "  <thead>\n",
       "    <tr style=\"text-align: right;\">\n",
       "      <th></th>\n",
       "      <th>user_id</th>\n",
       "      <th>n_interactions</th>\n",
       "      <th>n_interactions_bin</th>\n",
       "    </tr>\n",
       "  </thead>\n",
       "  <tbody>\n",
       "    <tr>\n",
       "      <th>6</th>\n",
       "      <td>91</td>\n",
       "      <td>82</td>\n",
       "      <td>80-89</td>\n",
       "    </tr>\n",
       "    <tr>\n",
       "      <th>26</th>\n",
       "      <td>264</td>\n",
       "      <td>37</td>\n",
       "      <td>30-39</td>\n",
       "    </tr>\n",
       "    <tr>\n",
       "      <th>56</th>\n",
       "      <td>610</td>\n",
       "      <td>39</td>\n",
       "      <td>30-39</td>\n",
       "    </tr>\n",
       "    <tr>\n",
       "      <th>59</th>\n",
       "      <td>647</td>\n",
       "      <td>60</td>\n",
       "      <td>50-59</td>\n",
       "    </tr>\n",
       "    <tr>\n",
       "      <th>61</th>\n",
       "      <td>653</td>\n",
       "      <td>132</td>\n",
       "      <td>100-199</td>\n",
       "    </tr>\n",
       "  </tbody>\n",
       "</table>\n",
       "</div>"
      ],
      "text/plain": [
       "    user_id  n_interactions n_interactions_bin\n",
       "6        91              82              80-89\n",
       "26      264              37              30-39\n",
       "56      610              39              30-39\n",
       "59      647              60              50-59\n",
       "61      653             132            100-199"
      ]
     },
     "execution_count": 123,
     "metadata": {},
     "output_type": "execute_result"
    }
   ],
   "source": [
    "user_interaction_bins = user_interaction_bins[user_interaction_bins['n_interactions_bin'] != '0-19']\n",
    "user_interaction_bins.head()"
   ]
  },
  {
   "cell_type": "markdown",
   "id": "a9ae2bc4-5033-4988-9f20-9c3df0ce194d",
   "metadata": {},
   "source": [
    "**Step 4**: Count users by max interactions ranges"
   ]
  },
  {
   "cell_type": "code",
   "execution_count": 66,
   "id": "d3be7137-8604-4864-81fc-9b945834616c",
   "metadata": {
    "tags": []
   },
   "outputs": [],
   "source": [
    "max_user_interactions_by_bin = user_interaction_bins \\\n",
    "    .groupby(['n_interactions_bin']) \\\n",
    "    ['user_id'] \\\n",
    "    .count() \\\n",
    "    .reset_index(name='user_id') \\\n",
    "    .rename(columns={'user_id': 'n_users'})\n",
    "# max_user_interactions_by_bin"
   ]
  },
  {
   "cell_type": "code",
   "execution_count": 67,
   "id": "dd0ec7bc-2384-4b46-a0c1-becb6d897ab1",
   "metadata": {
    "tags": []
   },
   "outputs": [],
   "source": [
    "# max_user_interactions_by_bin['user_id'].sum()"
   ]
  },
  {
   "cell_type": "code",
   "execution_count": 68,
   "id": "1e3f5da2-7590-4af3-b0a9-3c7d3104c3ac",
   "metadata": {
    "tags": []
   },
   "outputs": [
    {
     "data": {
      "image/png": "[encoded data removed]",
      "text/plain": [
       "<Figure size 1500x500 with 1 Axes>"
      ]
     },
     "metadata": {},
     "output_type": "display_data"
    }
   ],
   "source": [
    "plot_max_user_interactions_bins(max_user_interactions_by_bin, figsize=(15, 5))"
   ]
  },
  {
   "cell_type": "markdown",
   "id": "cf0ed689-a165-4fa9-8810-cb84df4e5f14",
   "metadata": {},
   "source": [
    "**Observations**\n",
    "\n",
    "* We are not intersted into usr with more that 200 interactions. We consider them outlier users.\n",
    "*  Same story with users les than 20 interations. This users get wrong results with collaborative fiilterging models. They are not suitable to buils an interactions test set."
   ]
  },
  {
   "cell_type": "markdown",
   "id": "1d65bf47-d1fa-4a06-af81-f5785a103b18",
   "metadata": {
    "tags": []
   },
   "source": [
    "**Step 5**: Remove ranges with outliers users."
   ]
  },
  {
   "cell_type": "code",
   "execution_count": 125,
   "id": "188a8a3f-489a-4f9d-b803-54fd2fe89e61",
   "metadata": {
    "tags": []
   },
   "outputs": [
    {
     "data": {
      "text/plain": [
       "['20-29',\n",
       " '30-39',\n",
       " '40-49',\n",
       " '50-59',\n",
       " '60-69',\n",
       " '70-79',\n",
       " '80-89',\n",
       " '90-99',\n",
       " '100-199']"
      ]
     },
     "execution_count": 125,
     "metadata": {},
     "output_type": "execute_result"
    }
   ],
   "source": [
    "selected_bins = max_user_interactions_by_bin['n_interactions_bin'].values[1:-1].tolist()\n",
    "selected_bins"
   ]
  },
  {
   "cell_type": "markdown",
   "id": "3f944777-4f3d-45de-bb0b-aea1d79838de",
   "metadata": {
    "tags": []
   },
   "source": [
    "**Step 5**: Select 15 users from each group to build a interactions test set that represent the average user behavior."
   ]
  },
  {
   "cell_type": "code",
   "execution_count": 70,
   "id": "fb2579f2-8eb3-4993-aaf9-9ce6de25b94b",
   "metadata": {
    "tags": []
   },
   "outputs": [],
   "source": [
    "groups = user_interaction_bins[['n_interactions_bin', 'user_id']] \\\n",
    "    .drop_duplicates() \\\n",
    "    .groupby('n_interactions_bin')"
   ]
  },
  {
   "cell_type": "code",
   "execution_count": 71,
   "id": "2a79d79a-bdc9-4b2a-bffd-7196f48f1fb6",
   "metadata": {
    "tags": []
   },
   "outputs": [
    {
     "data": {
      "text/plain": [
       "150"
      ]
     },
     "execution_count": 71,
     "metadata": {},
     "output_type": "execute_result"
    }
   ],
   "source": [
    "import random \n",
    "\n",
    "users_sample_size = 15\n",
    "test_set_users = []\n",
    "\n",
    "for curr_bin in selected_bins:\n",
    "    group_df = groups.get_group(curr_bin)\n",
    "    user_ids = group_df['user_id'].values.tolist()\n",
    "    test_set_users.extend(random.sample(user_ids, users_sample_size))\n",
    "    \n",
    "len(test_set_users)"
   ]
  },
  {
   "cell_type": "markdown",
   "id": "eb3fe904-1349-4e28-a8e7-1227c9f4c3f6",
   "metadata": {},
   "source": [
    "**Step 6**: Split an save dev an d test interactions sets."
   ]
  },
  {
   "cell_type": "code",
   "execution_count": 72,
   "id": "1fb12c15-b0d1-453f-87e5-860a67be848f",
   "metadata": {
    "tags": []
   },
   "outputs": [],
   "source": [
    "split_criterion = interactions['user_id'].isin(test_set_users)\n",
    "\n",
    "interactions_dev_set  = interactions[~split_criterion]\n",
    "interactions_test_set = interactions[split_criterion]"
   ]
  },
  {
   "cell_type": "code",
   "execution_count": 73,
   "id": "3d6311e3-8dad-4b7d-a392-134927b70e83",
   "metadata": {
    "tags": []
   },
   "outputs": [
    {
     "data": {
      "text/plain": [
       "((179918, 4), (14355, 4))"
      ]
     },
     "execution_count": 73,
     "metadata": {},
     "output_type": "execute_result"
    }
   ],
   "source": [
    "interactions_dev_set.shape, interactions_test_set.shape"
   ]
  },
  {
   "cell_type": "code",
   "execution_count": 74,
   "id": "5a757778-bf5e-4f89-b8f8-7392fd2217d0",
   "metadata": {
    "tags": []
   },
   "outputs": [
    {
     "data": {
      "text/plain": [
       "(0.9261091350831047, 0.0738908649168953)"
      ]
     },
     "execution_count": 74,
     "metadata": {},
     "output_type": "execute_result"
    }
   ],
   "source": [
    "len(interactions_dev_set)/len(interactions), len(interactions_test_set)/len(interactions)"
   ]
  },
  {
   "cell_type": "code",
   "execution_count": 75,
   "id": "8e8e9f98-4326-4aca-8544-66074a52f803",
   "metadata": {
    "tags": []
   },
   "outputs": [],
   "source": [
    "del interactions"
   ]
  },
  {
   "cell_type": "code",
   "execution_count": 109,
   "id": "1f6affa9-f79a-4ea4-a248-ec6eab8adf38",
   "metadata": {
    "tags": []
   },
   "outputs": [],
   "source": [
    "ut.save_df(interactions_dev_set,  f'{DATASET_PATH}/interactions_dev_set.json' )\n",
    "ut.save_df(interactions_test_set, f'{DATASET_PATH}/interactions_test_set.json')"
   ]
  },
  {
   "cell_type": "markdown",
   "id": "cc2a65d7-8b13-4fe7-a7d5-5cfddaae14e0",
   "metadata": {},
   "source": [
    "# Upload items and interactions to RecChatBotAPI\n",
    "\n",
    "Finally is necessary insert items and interactions into **Recommendations Chatbot API** databases."
   ]
  },
  {
   "cell_type": "code",
   "execution_count": 93,
   "id": "caa2b9a8-0d26-40f5-a77b-f69bc8d48e73",
   "metadata": {
    "tags": []
   },
   "outputs": [],
   "source": [
    "client = RecChatBotV1ApiClient()"
   ]
  },
  {
   "cell_type": "markdown",
   "id": "bfb3b759-4a9f-4991-bdcf-76607a8bc853",
   "metadata": {
    "tags": []
   },
   "source": [
    "**Step 1**: Add items to Charbot API databases"
   ]
  },
  {
   "cell_type": "code",
   "execution_count": 198,
   "id": "c5373702-c195-4463-9a51-f9d06ac6da8d",
   "metadata": {},
   "outputs": [
    {
     "name": "stderr",
     "output_type": "stream",
     "text": [
      "2024-02-25 16:55:22,927 - INFO - Page Size: 1000\n",
      "2024-02-25 16:55:32,073 - INFO - Page: 1/19, Size: 1000\n",
      "2024-02-25 16:55:37,674 - INFO - Page: 2/19, Size: 1000\n",
      "2024-02-25 16:55:44,024 - INFO - Page: 3/19, Size: 1000\n",
      "2024-02-25 16:55:49,590 - INFO - Page: 4/19, Size: 1000\n",
      "2024-02-25 16:55:55,104 - INFO - Page: 5/19, Size: 1000\n",
      "2024-02-25 16:56:00,822 - INFO - Page: 6/19, Size: 1000\n",
      "2024-02-25 16:56:06,506 - INFO - Page: 7/19, Size: 1000\n",
      "2024-02-25 16:56:13,517 - INFO - Page: 8/19, Size: 1000\n",
      "2024-02-25 16:56:19,246 - INFO - Page: 9/19, Size: 1000\n",
      "2024-02-25 16:56:25,004 - INFO - Page: 10/19, Size: 1000\n",
      "2024-02-25 16:56:32,249 - INFO - Page: 11/19, Size: 1000\n",
      "2024-02-25 16:56:38,229 - INFO - Page: 12/19, Size: 1000\n",
      "2024-02-25 16:56:44,253 - INFO - Page: 13/19, Size: 1000\n",
      "2024-02-25 16:56:51,213 - INFO - Page: 14/19, Size: 1000\n",
      "2024-02-25 16:56:57,110 - INFO - Page: 15/19, Size: 1000\n",
      "2024-02-25 16:57:02,816 - INFO - Page: 16/19, Size: 1000\n",
      "2024-02-25 16:57:08,655 - INFO - Page: 17/19, Size: 1000\n",
      "2024-02-25 16:57:14,633 - INFO - Page: 18/19, Size: 1000\n",
      "2024-02-25 16:57:18,231 - INFO - Page: 19/19, Size: 608\n"
     ]
    },
    {
     "data": {
      "text/plain": [
       "[]"
      ]
     },
     "execution_count": 198,
     "metadata": {},
     "output_type": "execute_result"
    }
   ],
   "source": [
    "client.add_items(items)"
   ]
  },
  {
   "cell_type": "code",
   "execution_count": 94,
   "id": "1f6f5fc0-b73b-40a3-924e-5326854d5c75",
   "metadata": {
    "tags": []
   },
   "outputs": [
    {
     "data": {
      "text/plain": [
       "(179918, 4)"
      ]
     },
     "execution_count": 94,
     "metadata": {},
     "output_type": "execute_result"
    }
   ],
   "source": [
    "interactions_dev_set.shape"
   ]
  },
  {
   "cell_type": "markdown",
   "id": "ec40df0d-e406-4508-92c7-ff11ae0d3f78",
   "metadata": {},
   "source": [
    "**Step 2**: Add interactions dev set to Charbot API databases (the test set will be used to evalua chatbot API)."
   ]
  },
  {
   "cell_type": "code",
   "execution_count": 95,
   "id": "cebb3a1f-cacf-44af-b8d8-dcd2a98eb878",
   "metadata": {
    "tags": []
   },
   "outputs": [
    {
     "name": "stderr",
     "output_type": "stream",
     "text": [
      "2024-03-16 12:48:01,690 - INFO - Page Size: 5000\n",
      "2024-03-16 12:48:01,967 - INFO - Page: 1/36, Size: 5000\n",
      "2024-03-16 12:48:02,234 - INFO - Page: 2/36, Size: 5000\n",
      "2024-03-16 12:48:02,478 - INFO - Page: 3/36, Size: 5000\n",
      "2024-03-16 12:48:02,727 - INFO - Page: 4/36, Size: 5000\n",
      "2024-03-16 12:48:03,218 - INFO - Page: 5/36, Size: 5000\n",
      "2024-03-16 12:48:03,508 - INFO - Page: 6/36, Size: 5000\n",
      "2024-03-16 12:48:03,750 - INFO - Page: 7/36, Size: 5000\n",
      "2024-03-16 12:48:04,009 - INFO - Page: 8/36, Size: 5000\n",
      "2024-03-16 12:48:04,251 - INFO - Page: 9/36, Size: 5000\n",
      "2024-03-16 12:48:04,493 - INFO - Page: 10/36, Size: 5000\n",
      "2024-03-16 12:48:04,736 - INFO - Page: 11/36, Size: 5000\n",
      "2024-03-16 12:48:04,985 - INFO - Page: 12/36, Size: 5000\n",
      "2024-03-16 12:48:05,222 - INFO - Page: 13/36, Size: 5000\n",
      "2024-03-16 12:48:05,463 - INFO - Page: 14/36, Size: 5000\n",
      "2024-03-16 12:48:05,720 - INFO - Page: 15/36, Size: 5000\n",
      "2024-03-16 12:48:06,130 - INFO - Page: 16/36, Size: 5000\n",
      "2024-03-16 12:48:06,363 - INFO - Page: 17/36, Size: 5000\n",
      "2024-03-16 12:48:06,606 - INFO - Page: 18/36, Size: 5000\n",
      "2024-03-16 12:48:06,857 - INFO - Page: 19/36, Size: 5000\n",
      "2024-03-16 12:48:07,101 - INFO - Page: 20/36, Size: 5000\n",
      "2024-03-16 12:48:07,341 - INFO - Page: 21/36, Size: 5000\n",
      "2024-03-16 12:48:07,594 - INFO - Page: 22/36, Size: 5000\n",
      "2024-03-16 12:48:07,857 - INFO - Page: 23/36, Size: 5000\n",
      "2024-03-16 12:48:08,111 - INFO - Page: 24/36, Size: 5000\n",
      "2024-03-16 12:48:08,346 - INFO - Page: 25/36, Size: 5000\n",
      "2024-03-16 12:48:08,587 - INFO - Page: 26/36, Size: 5000\n",
      "2024-03-16 12:48:08,994 - INFO - Page: 27/36, Size: 5000\n",
      "2024-03-16 12:48:09,248 - INFO - Page: 28/36, Size: 5000\n",
      "2024-03-16 12:48:09,508 - INFO - Page: 29/36, Size: 5000\n",
      "2024-03-16 12:48:09,746 - INFO - Page: 30/36, Size: 5000\n",
      "2024-03-16 12:48:09,989 - INFO - Page: 31/36, Size: 5000\n",
      "2024-03-16 12:48:10,242 - INFO - Page: 32/36, Size: 5000\n",
      "2024-03-16 12:48:10,480 - INFO - Page: 33/36, Size: 5000\n",
      "2024-03-16 12:48:10,732 - INFO - Page: 34/36, Size: 5000\n",
      "2024-03-16 12:48:10,975 - INFO - Page: 35/36, Size: 5000\n",
      "2024-03-16 12:48:11,209 - INFO - Page: 36/36, Size: 4918\n"
     ]
    },
    {
     "data": {
      "text/plain": [
       "[]"
      ]
     },
     "execution_count": 95,
     "metadata": {},
     "output_type": "execute_result"
    }
   ],
   "source": [
    "client.add_interactions(interactions_dev_set)"
   ]
  },
  {
   "cell_type": "code",
   "execution_count": 96,
   "id": "13d5e1d2-bbd9-4ca6-9896-19fd04cebdc7",
   "metadata": {
    "tags": []
   },
   "outputs": [
    {
     "data": {
      "text/plain": [
       "(179918, 3)"
      ]
     },
     "execution_count": 96,
     "metadata": {},
     "output_type": "execute_result"
    }
   ],
   "source": [
    "api_interactions = ints_to_df(await ctx.interaction_service.find_all())\n",
    "api_interactions.shape"
   ]
  },
  {
   "cell_type": "markdown",
   "id": "a3cc9eed-6f9f-43e5-ad03-018ca7884b5c",
   "metadata": {},
   "source": [
    "## Fun users interactions\n",
    "\n",
    "Create artificial users who dimulate to be fans of a particular genre or group of genres. This users improve collaborative filtering models and embeding similarity matching."
   ]
  },
  {
   "cell_type": "markdown",
   "id": "1dc218b2-30ff-447e-9f08-8403b7a0df31",
   "metadata": {
    "tags": []
   },
   "source": [
    "**Step 1**: Build prompts to search items by content similarity(via embeddings). "
   ]
  },
  {
   "cell_type": "code",
   "execution_count": 97,
   "id": "6f97a185-40d7-43d5-a1fd-cbb4abafbb70",
   "metadata": {
    "tags": []
   },
   "outputs": [],
   "source": [
    "searchs = [\n",
    "    ('pixar animated movie for children', 200),\n",
    "    ('science fiction, action', 100),\n",
    "    ('war weapons', 70),\n",
    "    ('iron man, x-men, spider man, bat man, flash, avengers, ant-man, hulk, guardians of the galaxy, marvel, green lantern, superman, watchmen, thor, deadpool, wonder woman, strange, justice League, captain america, logans, kick ass, John Wick', 150),\n",
    "    ('sci-fi, action, future', 130),\n",
    "    ('Mission Impossible, spies, bourne identity, 007', 70),\n",
    "    ('comedy movies', 200),\n",
    "    ('horror', 100),\n",
    "    ('thiller, suspense', 150),\n",
    "    ('love, romance', 150),\n",
    "    ('time travel', 100),\n",
    "    ('dead, zombies, post apocalyptic', 100),\n",
    "    ('software', 100),\n",
    "    ('hackers', 100)\n",
    "]"
   ]
  },
  {
   "cell_type": "markdown",
   "id": "f915b585-b0a3-479d-91a6-241d9fe964b2",
   "metadata": {},
   "source": [
    "**Step 2**: Craete fun users interactions."
   ]
  },
  {
   "cell_type": "code",
   "execution_count": 101,
   "id": "c1d54899-ffc1-4ed0-bb33-1680e124986f",
   "metadata": {
    "tags": []
   },
   "outputs": [],
   "source": [
    "items = await search_items_by_content(\n",
    "    interactions_dev_set, \n",
    "    'hackers',\n",
    "    min_rating  = 3, \n",
    "    limit       = 50,\n",
    "    min_release = 1990,\n",
    "    order_popularity = False\n",
    ")\n",
    "\n",
    "\n",
    "# show(items)"
   ]
  },
  {
   "cell_type": "code",
   "execution_count": 104,
   "id": "8de26810-5927-4f3f-bccc-313a8efd2936",
   "metadata": {
    "tags": []
   },
   "outputs": [],
   "source": [
    "fun_user_interactions = []\n",
    "max_user_id = interactions_dev_set['user_id'].max()\n",
    "\n",
    "for search in searchs:    \n",
    "    items = await search_items_by_content(\n",
    "        interactions_dev_set, \n",
    "        search[0],\n",
    "        min_rating  = 3, \n",
    "        limit       = search[1],\n",
    "        min_release = 1990,\n",
    "        order_popularity = False\n",
    "    )    \n",
    "    \n",
    "    items = items.rename(columns={'id': 'item_id'})\n",
    "    items['rating'] = items['item_id'].apply(lambda x: 4 if random.random() > 0.5 else 5)\n",
    "    items['user_id'] = max_user_id\n",
    "    items = items[['item_id', 'user_id', 'rating']]\n",
    "    \n",
    "    max_user_id +=1\n",
    "    \n",
    "    fun_user_interactions.append(items)\n",
    "\n",
    "fun_user_interactions = pd.concat(fun_user_interactions)\n",
    "fun_user_interactions['timestamp'] = datetime.now()"
   ]
  },
  {
   "cell_type": "code",
   "execution_count": 105,
   "id": "174f5ad1-983f-4f3d-be74-b1b945bcbadf",
   "metadata": {
    "tags": []
   },
   "outputs": [
    {
     "data": {
      "text/html": [
       "<div>\n",
       "<style scoped>\n",
       "    .dataframe tbody tr th:only-of-type {\n",
       "        vertical-align: middle;\n",
       "    }\n",
       "\n",
       "    .dataframe tbody tr th {\n",
       "        vertical-align: top;\n",
       "    }\n",
       "\n",
       "    .dataframe thead th {\n",
       "        text-align: right;\n",
       "    }\n",
       "</style>\n",
       "<table border=\"1\" class=\"dataframe\">\n",
       "  <thead>\n",
       "    <tr style=\"text-align: right;\">\n",
       "      <th></th>\n",
       "      <th>item_id</th>\n",
       "      <th>user_id</th>\n",
       "      <th>rating</th>\n",
       "      <th>timestamp</th>\n",
       "    </tr>\n",
       "  </thead>\n",
       "  <tbody>\n",
       "    <tr>\n",
       "      <th>0</th>\n",
       "      <td>1</td>\n",
       "      <td>162521</td>\n",
       "      <td>4</td>\n",
       "      <td>2024-03-16 12:49:24.645546</td>\n",
       "    </tr>\n",
       "    <tr>\n",
       "      <th>1</th>\n",
       "      <td>101262</td>\n",
       "      <td>162521</td>\n",
       "      <td>4</td>\n",
       "      <td>2024-03-16 12:49:24.645546</td>\n",
       "    </tr>\n",
       "    <tr>\n",
       "      <th>2</th>\n",
       "      <td>105468</td>\n",
       "      <td>162521</td>\n",
       "      <td>4</td>\n",
       "      <td>2024-03-16 12:49:24.645546</td>\n",
       "    </tr>\n",
       "    <tr>\n",
       "      <th>3</th>\n",
       "      <td>106022</td>\n",
       "      <td>162521</td>\n",
       "      <td>5</td>\n",
       "      <td>2024-03-16 12:49:24.645546</td>\n",
       "    </tr>\n",
       "    <tr>\n",
       "      <th>4</th>\n",
       "      <td>106423</td>\n",
       "      <td>162521</td>\n",
       "      <td>5</td>\n",
       "      <td>2024-03-16 12:49:24.645546</td>\n",
       "    </tr>\n",
       "    <tr>\n",
       "      <th>...</th>\n",
       "      <td>...</td>\n",
       "      <td>...</td>\n",
       "      <td>...</td>\n",
       "      <td>...</td>\n",
       "    </tr>\n",
       "    <tr>\n",
       "      <th>65</th>\n",
       "      <td>8628</td>\n",
       "      <td>162534</td>\n",
       "      <td>5</td>\n",
       "      <td>2024-03-16 12:49:24.645546</td>\n",
       "    </tr>\n",
       "    <tr>\n",
       "      <th>66</th>\n",
       "      <td>89337</td>\n",
       "      <td>162534</td>\n",
       "      <td>5</td>\n",
       "      <td>2024-03-16 12:49:24.645546</td>\n",
       "    </tr>\n",
       "    <tr>\n",
       "      <th>67</th>\n",
       "      <td>92475</td>\n",
       "      <td>162534</td>\n",
       "      <td>5</td>\n",
       "      <td>2024-03-16 12:49:24.645546</td>\n",
       "    </tr>\n",
       "    <tr>\n",
       "      <th>68</th>\n",
       "      <td>94130</td>\n",
       "      <td>162534</td>\n",
       "      <td>4</td>\n",
       "      <td>2024-03-16 12:49:24.645546</td>\n",
       "    </tr>\n",
       "    <tr>\n",
       "      <th>69</th>\n",
       "      <td>97692</td>\n",
       "      <td>162534</td>\n",
       "      <td>4</td>\n",
       "      <td>2024-03-16 12:49:24.645546</td>\n",
       "    </tr>\n",
       "  </tbody>\n",
       "</table>\n",
       "<p>1158 rows × 4 columns</p>\n",
       "</div>"
      ],
      "text/plain": [
       "   item_id  user_id  rating                  timestamp\n",
       "0        1   162521       4 2024-03-16 12:49:24.645546\n",
       "1   101262   162521       4 2024-03-16 12:49:24.645546\n",
       "2   105468   162521       4 2024-03-16 12:49:24.645546\n",
       "3   106022   162521       5 2024-03-16 12:49:24.645546\n",
       "4   106423   162521       5 2024-03-16 12:49:24.645546\n",
       "..     ...      ...     ...                        ...\n",
       "65    8628   162534       5 2024-03-16 12:49:24.645546\n",
       "66   89337   162534       5 2024-03-16 12:49:24.645546\n",
       "67   92475   162534       5 2024-03-16 12:49:24.645546\n",
       "68   94130   162534       4 2024-03-16 12:49:24.645546\n",
       "69   97692   162534       4 2024-03-16 12:49:24.645546\n",
       "\n",
       "[1158 rows x 4 columns]"
      ]
     },
     "execution_count": 105,
     "metadata": {},
     "output_type": "execute_result"
    }
   ],
   "source": [
    "fun_user_interactions"
   ]
  },
  {
   "cell_type": "markdown",
   "id": "e4c34f6b-84dd-4cb4-be1c-b49edee736c3",
   "metadata": {},
   "source": [
    "**Step 3**: Insert fun users interactions."
   ]
  },
  {
   "cell_type": "code",
   "execution_count": 106,
   "id": "a765d099-78ae-4349-8724-3e354ab77d19",
   "metadata": {
    "tags": []
   },
   "outputs": [
    {
     "name": "stderr",
     "output_type": "stream",
     "text": [
      "2024-03-16 12:49:24,728 - INFO - Page Size: 5000\n",
      "2024-03-16 12:49:24,817 - INFO - Page: 1/1, Size: 1158\n"
     ]
    },
    {
     "data": {
      "text/plain": [
       "[]"
      ]
     },
     "execution_count": 106,
     "metadata": {},
     "output_type": "execute_result"
    }
   ],
   "source": [
    "client.add_interactions(fun_user_interactions)"
   ]
  },
  {
   "cell_type": "code",
   "execution_count": 107,
   "id": "42bae1d7-a3a0-4a74-b739-8c1588252f46",
   "metadata": {
    "tags": []
   },
   "outputs": [
    {
     "data": {
      "text/plain": [
       "(181076, 3)"
      ]
     },
     "execution_count": 107,
     "metadata": {},
     "output_type": "execute_result"
    }
   ],
   "source": [
    "ctx = AppContext()\n",
    "\n",
    "api_interactions = ints_to_df(await ctx.interaction_service.find_all())\n",
    "api_interactions.shape"
   ]
  }
 ],
 "metadata": {
  "kernelspec": {
   "display_name": "Python 3 (ipykernel)",
   "language": "python",
   "name": "python3"
  },
  "language_info": {
   "codemirror_mode": {
    "name": "ipython",
    "version": 3
   },
   "file_extension": ".py",
   "mimetype": "text/x-python",
   "name": "python",
   "nbconvert_exporter": "python",
   "pygments_lexer": "ipython3",
   "version": "3.11.5"
  },
  "widgets": {
   "application/vnd.jupyter.widget-state+json": {
    "state": {
     "05080f02b814461d80a6f9037f4ba652": {
      "model_module": "@jupyter-widgets/controls",
      "model_module_version": "2.0.0",
      "model_name": "FloatProgressModel",
      "state": {
       "bar_style": "danger",
       "layout": "IPY_MODEL_ac8ae3196b21474ca816d6723827758d",
       "max": 18608,
       "style": "IPY_MODEL_0ffa67e6252342b1921e02669616155d"
      }
     },
     "0ebc8ea834dd493bb69951109fe3881b": {
      "model_module": "@jupyter-widgets/controls",
      "model_module_version": "2.0.0",
      "model_name": "HTMLModel",
      "state": {
       "layout": "IPY_MODEL_385acc131a5049db8e88f418356b4145",
       "style": "IPY_MODEL_cac9296e55eb43fb905b24cf86eba62f",
       "value": "Fetching many movies from TMDB: 100%"
      }
     },
     "0ffa67e6252342b1921e02669616155d": {
      "model_module": "@jupyter-widgets/controls",
      "model_module_version": "2.0.0",
      "model_name": "ProgressStyleModel",
      "state": {
       "description_width": ""
      }
     },
     "385acc131a5049db8e88f418356b4145": {
      "model_module": "@jupyter-widgets/base",
      "model_module_version": "2.0.0",
      "model_name": "LayoutModel",
      "state": {}
     },
     "439ad71dbe064c53921d151c5dceffa4": {
      "model_module": "@jupyter-widgets/controls",
      "model_module_version": "2.0.0",
      "model_name": "HBoxModel",
      "state": {
       "children": [
        "IPY_MODEL_c279db9aabab4f2a8ebe5445cce4664b",
        "IPY_MODEL_05080f02b814461d80a6f9037f4ba652",
        "IPY_MODEL_d6eb4e59449e43d8a9028e2f560c4db2"
       ],
       "layout": "IPY_MODEL_5ec7eb9f320144a0a65fd2291da8e128"
      }
     },
     "4e14a733e702462e962d277b16946865": {
      "model_module": "@jupyter-widgets/base",
      "model_module_version": "2.0.0",
      "model_name": "LayoutModel",
      "state": {}
     },
     "5ec7eb9f320144a0a65fd2291da8e128": {
      "model_module": "@jupyter-widgets/base",
      "model_module_version": "2.0.0",
      "model_name": "LayoutModel",
      "state": {}
     },
     "92486e7b79f74bd19d8f01943797953d": {
      "model_module": "@jupyter-widgets/controls",
      "model_module_version": "2.0.0",
      "model_name": "HTMLStyleModel",
      "state": {
       "description_width": "",
       "font_size": null,
       "text_color": null
      }
     },
     "94d53026980845908e3482a68ccf2e67": {
      "model_module": "@jupyter-widgets/base",
      "model_module_version": "2.0.0",
      "model_name": "LayoutModel",
      "state": {}
     },
     "9faf8168d4024bd5a953d1c65a6a5290": {
      "model_module": "@jupyter-widgets/base",
      "model_module_version": "2.0.0",
      "model_name": "LayoutModel",
      "state": {}
     },
     "ac8ae3196b21474ca816d6723827758d": {
      "model_module": "@jupyter-widgets/base",
      "model_module_version": "2.0.0",
      "model_name": "LayoutModel",
      "state": {}
     },
     "baaffcaff3e2484d8637e5c5725d2780": {
      "model_module": "@jupyter-widgets/controls",
      "model_module_version": "2.0.0",
      "model_name": "HTMLModel",
      "state": {
       "layout": "IPY_MODEL_d7ec9f705f994bc8bacbe25dc29cd857",
       "style": "IPY_MODEL_92486e7b79f74bd19d8f01943797953d",
       "value": " 18608/18608 [00:01&lt;00:00, 11381.49it/s]"
      }
     },
     "bb9edd438b6c400380b7c37561dc30a0": {
      "model_module": "@jupyter-widgets/controls",
      "model_module_version": "2.0.0",
      "model_name": "FloatProgressModel",
      "state": {
       "bar_style": "success",
       "layout": "IPY_MODEL_94d53026980845908e3482a68ccf2e67",
       "max": 18608,
       "style": "IPY_MODEL_d47eb30bce5f410ca5dade12a93cf1d8",
       "value": 18608
      }
     },
     "c279db9aabab4f2a8ebe5445cce4664b": {
      "model_module": "@jupyter-widgets/controls",
      "model_module_version": "2.0.0",
      "model_name": "HTMLModel",
      "state": {
       "layout": "IPY_MODEL_4e14a733e702462e962d277b16946865",
       "style": "IPY_MODEL_fd7e7b5e74f940feacef970abdcabf3c",
       "value": "Fetching many movies from TMDB:   0%"
      }
     },
     "c830849d4c924ffdbc079fbeb5a07319": {
      "model_module": "@jupyter-widgets/controls",
      "model_module_version": "2.0.0",
      "model_name": "HBoxModel",
      "state": {
       "children": [
        "IPY_MODEL_0ebc8ea834dd493bb69951109fe3881b",
        "IPY_MODEL_bb9edd438b6c400380b7c37561dc30a0",
        "IPY_MODEL_baaffcaff3e2484d8637e5c5725d2780"
       ],
       "layout": "IPY_MODEL_9faf8168d4024bd5a953d1c65a6a5290"
      }
     },
     "c9a0daf2918547a4a9ba29d34f6dd987": {
      "model_module": "@jupyter-widgets/base",
      "model_module_version": "2.0.0",
      "model_name": "LayoutModel",
      "state": {}
     },
     "cac2d3a720d14fa7b427b050b66f3a5f": {
      "model_module": "@jupyter-widgets/controls",
      "model_module_version": "2.0.0",
      "model_name": "HTMLStyleModel",
      "state": {
       "description_width": "",
       "font_size": null,
       "text_color": null
      }
     },
     "cac9296e55eb43fb905b24cf86eba62f": {
      "model_module": "@jupyter-widgets/controls",
      "model_module_version": "2.0.0",
      "model_name": "HTMLStyleModel",
      "state": {
       "description_width": "",
       "font_size": null,
       "text_color": null
      }
     },
     "d47eb30bce5f410ca5dade12a93cf1d8": {
      "model_module": "@jupyter-widgets/controls",
      "model_module_version": "2.0.0",
      "model_name": "ProgressStyleModel",
      "state": {
       "description_width": ""
      }
     },
     "d6eb4e59449e43d8a9028e2f560c4db2": {
      "model_module": "@jupyter-widgets/controls",
      "model_module_version": "2.0.0",
      "model_name": "HTMLModel",
      "state": {
       "layout": "IPY_MODEL_c9a0daf2918547a4a9ba29d34f6dd987",
       "style": "IPY_MODEL_cac2d3a720d14fa7b427b050b66f3a5f",
       "value": " 0/18608 [00:00&lt;?, ?it/s]"
      }
     },
     "d7ec9f705f994bc8bacbe25dc29cd857": {
      "model_module": "@jupyter-widgets/base",
      "model_module_version": "2.0.0",
      "model_name": "LayoutModel",
      "state": {}
     },
     "fd7e7b5e74f940feacef970abdcabf3c": {
      "model_module": "@jupyter-widgets/controls",
      "model_module_version": "2.0.0",
      "model_name": "HTMLStyleModel",
      "state": {
       "description_width": "",
       "font_size": null,
       "text_color": null
      }
     }
    },
    "version_major": 2,
    "version_minor": 0
   }
  }
 },
 "nbformat": 4,
 "nbformat_minor": 5
}
