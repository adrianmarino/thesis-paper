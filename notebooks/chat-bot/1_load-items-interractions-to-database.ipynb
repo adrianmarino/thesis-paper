{
 "cells": [
  {
   "cell_type": "markdown",
   "id": "0417277b-47df-4113-a7b3-8f960db06f1d",
   "metadata": {
    "tags": []
   },
   "source": [
    "# Recommender ChatBot: Load items and interactions to API"
   ]
  },
  {
   "cell_type": "code",
   "execution_count": 25,
   "id": "35e430dd-e279-4258-82a4-6b7a1347304b",
   "metadata": {},
   "outputs": [
    {
     "name": "stdout",
     "output_type": "stream",
     "text": [
      "The autoreload extension is already loaded. To reload it, use:\n",
      "  %reload_ext autoreload\n"
     ]
    }
   ],
   "source": [
    "%load_ext autoreload\n",
    "%autoreload 2"
   ]
  },
  {
   "cell_type": "code",
   "execution_count": 26,
   "id": "834b2f2d-4103-4cf5-880d-10404d8ec7d3",
   "metadata": {},
   "outputs": [],
   "source": [
    "BASE_PATH    = '../..'\n",
    "LIB_PATH     = f'{BASE_PATH}/lib'\n",
    "DATASET_PATH = f'{BASE_PATH}/datasets'\n",
    "ITEMS_PATH   = f'{DATASET_PATH}/chatbot-api-movies.json'"
   ]
  },
  {
   "cell_type": "code",
   "execution_count": 27,
   "id": "f98e7bf4-f41a-43f6-b7b7-a991d00f82de",
   "metadata": {},
   "outputs": [],
   "source": [
    "import sys\n",
    "sys.path.append(LIB_PATH)\n",
    "\n",
    "import pandas as pd\n",
    "\n",
    "import util as ut\n",
    "\n",
    "import torch\n",
    "import data as dt\n",
    "import data.dataset as ds\n",
    "\n",
    "import os\n",
    "\n",
    "from rest import RecChatBotV1ApiClient"
   ]
  },
  {
   "cell_type": "markdown",
   "id": "3c3181ae-8caf-4d7b-9977-a1512c05441c",
   "metadata": {},
   "source": [
    "# Common Functions and Classes"
   ]
  },
  {
   "cell_type": "markdown",
   "id": "65786725-d3e4-414b-949d-3dd793a27cfa",
   "metadata": {},
   "source": [
    "# Load Dataset"
   ]
  },
  {
   "cell_type": "code",
   "execution_count": 28,
   "id": "380097ca-a1ae-4a01-bc4b-94f3e291a9d1",
   "metadata": {
    "tags": []
   },
   "outputs": [],
   "source": [
    "def to_tensor(obs, device, columns): \n",
    "    data = obs[columns]\n",
    "    if type(data) == pd.DataFrame:\n",
    "        data = data.values\n",
    "    return torch.tensor(data).to(device)\n",
    "\n",
    "features_fn = lambda obs, device: to_tensor(obs, device, ['user_seq', 'movie_seq'])\n",
    "target_fn   = lambda obs, device: to_tensor(obs, device, ['user_movie_rating'])"
   ]
  },
  {
   "cell_type": "code",
   "execution_count": 29,
   "id": "16fadfb3-65e3-463b-adb3-568d37d99741",
   "metadata": {
    "tags": []
   },
   "outputs": [],
   "source": [
    "dataset = ds.MovieLensTMDBDatasetFactory.from_path(\n",
    "    path             = DATASET_PATH,\n",
    "    transform        = features_fn,\n",
    "    target_transform = target_fn,\n",
    "    device           = torch.device('cpu'),\n",
    "    filter_fn        = lambda df: df[(df['user_movie_rating_year'] >= 2004)]\n",
    ")"
   ]
  },
  {
   "cell_type": "code",
   "execution_count": 32,
   "id": "8bcf461e-9eeb-485d-815f-ed851802205c",
   "metadata": {
    "tags": []
   },
   "outputs": [
    {
     "data": {
      "text/plain": [
       "Index(['user_id', 'user_seq', 'user_movie_tags', 'user_movie_rating',\n",
       "       'user_movie_rating_timestamp', 'user_movie_rating_year', 'movie_id',\n",
       "       'movie_seq', 'movie_title', 'movie_genres', 'movie_for_adults',\n",
       "       'movie_original_language', 'movie_overview', 'movie_tags',\n",
       "       'movie_release_year', 'movie_imdb_id'],\n",
       "      dtype='object')"
      ]
     },
     "execution_count": 32,
     "metadata": {},
     "output_type": "execute_result"
    }
   ],
   "source": [
    "dataset.data.columns"
   ]
  },
  {
   "cell_type": "code",
   "execution_count": 30,
   "id": "5298394f-02a9-41ed-b53e-48fcc87c206e",
   "metadata": {
    "tags": []
   },
   "outputs": [],
   "source": [
    "if not os.path.exists(ITEMS_PATH):\n",
    "    items = dataset \\\n",
    "        .data[['movie_id', 'movie_title', 'movie_genres', 'movie_overview', 'movie_release_year', 'movie_imdb_id', 'user_movie_rating']]\n",
    "\n",
    "    item_mean_rating = items.groupby(['movie_id'])['user_movie_rating'].mean().reset_index()\n",
    "    items = items.drop_duplicates(subset=['movie_id']).drop(columns=['user_movie_rating'])\n",
    "    items[items['movie_title'] == 'Paths of Glory']\n",
    "    items = items.merge(item_mean_rating, on='movie_id')\n",
    "    items"
   ]
  },
  {
   "cell_type": "markdown",
   "id": "4d007964-e26f-4d82-83fb-4ac728598fe4",
   "metadata": {},
   "source": [
    "## Populate items poster"
   ]
  },
  {
   "cell_type": "code",
   "execution_count": 11,
   "id": "2676bad4-701e-4699-b236-a52990a317c2",
   "metadata": {
    "tags": []
   },
   "outputs": [],
   "source": [
    "if not os.path.exists(ITEMS_PATH):\n",
    "    from rest import TMDBApiClient\n",
    "    import logging\n",
    "\n",
    "    client = TMDBApiClient()\n",
    "\n",
    "    with dt.progress_bar(items.shape[0], title='Processing') as pb:\n",
    "        def resolve_url(title):\n",
    "            return (title, client.find_poster_by(title))\n",
    "\n",
    "        params = [[row['movie_title']] for _, row in items.iterrows()]\n",
    "\n",
    "        poster_by_id = ut.ParallelExecutor()(\n",
    "            resolve_url,\n",
    "            params = params,\n",
    "            fallback_result = None\n",
    "        )\n",
    "\n",
    "        poster_by_id = {item[0]: item[1] for item in poster_by_id}"
   ]
  },
  {
   "cell_type": "code",
   "execution_count": 13,
   "id": "504c42cb-ca64-482b-ad13-616dc4a34dcd",
   "metadata": {
    "tags": []
   },
   "outputs": [],
   "source": [
    "if not os.path.exists(ITEMS_PATH):\n",
    "    items['poster'] = items['movie_title'].apply(lambda title: poster_by_id[title])\n",
    "    ut.save_df(items, f'{DATASET_PATH}/chatbot-api-movies.json')"
   ]
  },
  {
   "cell_type": "markdown",
   "id": "acdacf69-0f79-4e0d-b4c8-cffbfd53e62f",
   "metadata": {},
   "source": [
    "## Load builded items"
   ]
  },
  {
   "cell_type": "code",
   "execution_count": 15,
   "id": "f3e7834a-c9cf-4564-8b93-e8d96e259492",
   "metadata": {
    "tags": []
   },
   "outputs": [],
   "source": [
    "items = ut.load_df(f'{DATASET_PATH}/chatbot-api-movies.json')"
   ]
  },
  {
   "cell_type": "code",
   "execution_count": 17,
   "id": "ab4bb6c5-0c07-40c6-b039-35b060f84517",
   "metadata": {
    "tags": []
   },
   "outputs": [
    {
     "data": {
      "text/html": [
       "<div>\n",
       "<style scoped>\n",
       "    .dataframe tbody tr th:only-of-type {\n",
       "        vertical-align: middle;\n",
       "    }\n",
       "\n",
       "    .dataframe tbody tr th {\n",
       "        vertical-align: top;\n",
       "    }\n",
       "\n",
       "    .dataframe thead th {\n",
       "        text-align: right;\n",
       "    }\n",
       "</style>\n",
       "<table border=\"1\" class=\"dataframe\">\n",
       "  <thead>\n",
       "    <tr style=\"text-align: right;\">\n",
       "      <th></th>\n",
       "      <th>movie_title</th>\n",
       "      <th>poster</th>\n",
       "    </tr>\n",
       "  </thead>\n",
       "  <tbody>\n",
       "    <tr>\n",
       "      <th>0</th>\n",
       "      <td>Toy Story</td>\n",
       "      <td>http://image.tmdb.org/t/p/w500/uXDfjJbdP4ijW5hWSBrPrlKpxab.jpg</td>\n",
       "    </tr>\n",
       "    <tr>\n",
       "      <th>1</th>\n",
       "      <td>Clueless</td>\n",
       "      <td>http://image.tmdb.org/t/p/w500/8AwVTcgpTnmeOs4TdTWqcFDXEsA.jpg</td>\n",
       "    </tr>\n",
       "    <tr>\n",
       "      <th>2</th>\n",
       "      <td>While You Were Sleeping</td>\n",
       "      <td>http://image.tmdb.org/t/p/w500/qNGO3ETcNwlWqK2kNRpbJSJRlos.jpg</td>\n",
       "    </tr>\n",
       "    <tr>\n",
       "      <th>3</th>\n",
       "      <td>Forrest Gump</td>\n",
       "      <td>http://image.tmdb.org/t/p/w500/arw2vcBveWOVZr6pxd9XTd1TdQa.jpg</td>\n",
       "    </tr>\n",
       "    <tr>\n",
       "      <th>4</th>\n",
       "      <td>Pretty Woman</td>\n",
       "      <td>http://image.tmdb.org/t/p/w500/hVHUfT801LQATGd26VPzhorIYza.jpg</td>\n",
       "    </tr>\n",
       "  </tbody>\n",
       "</table>\n",
       "</div>"
      ],
      "text/plain": [
       "                movie_title  \\\n",
       "0                Toy Story    \n",
       "1                 Clueless    \n",
       "2  While You Were Sleeping    \n",
       "3             Forrest Gump    \n",
       "4             Pretty Woman    \n",
       "\n",
       "                                                           poster  \n",
       "0  http://image.tmdb.org/t/p/w500/uXDfjJbdP4ijW5hWSBrPrlKpxab.jpg  \n",
       "1  http://image.tmdb.org/t/p/w500/8AwVTcgpTnmeOs4TdTWqcFDXEsA.jpg  \n",
       "2  http://image.tmdb.org/t/p/w500/qNGO3ETcNwlWqK2kNRpbJSJRlos.jpg  \n",
       "3  http://image.tmdb.org/t/p/w500/arw2vcBveWOVZr6pxd9XTd1TdQa.jpg  \n",
       "4  http://image.tmdb.org/t/p/w500/hVHUfT801LQATGd26VPzhorIYza.jpg  "
      ]
     },
     "execution_count": 17,
     "metadata": {},
     "output_type": "execute_result"
    }
   ],
   "source": [
    "pd.set_option('display.max_colwidth', None)\n",
    "items[['movie_title', 'poster']].head()"
   ]
  },
  {
   "cell_type": "code",
   "execution_count": 35,
   "id": "43f5059e-7e84-4b1c-8370-4c2b8abe1cf7",
   "metadata": {
    "tags": []
   },
   "outputs": [
    {
     "data": {
      "text/html": [
       "<div>\n",
       "<style scoped>\n",
       "    .dataframe tbody tr th:only-of-type {\n",
       "        vertical-align: middle;\n",
       "    }\n",
       "\n",
       "    .dataframe tbody tr th {\n",
       "        vertical-align: top;\n",
       "    }\n",
       "\n",
       "    .dataframe thead th {\n",
       "        text-align: right;\n",
       "    }\n",
       "</style>\n",
       "<table border=\"1\" class=\"dataframe\">\n",
       "  <thead>\n",
       "    <tr style=\"text-align: right;\">\n",
       "      <th></th>\n",
       "      <th>user_id</th>\n",
       "      <th>item_id</th>\n",
       "      <th>rating</th>\n",
       "      <th>timestamp</th>\n",
       "    </tr>\n",
       "  </thead>\n",
       "  <tbody>\n",
       "    <tr>\n",
       "      <th>0</th>\n",
       "      <td>100538</td>\n",
       "      <td>1</td>\n",
       "      <td>4</td>\n",
       "      <td>2019-01-01 21:11:09</td>\n",
       "    </tr>\n",
       "    <tr>\n",
       "      <th>1</th>\n",
       "      <td>10231</td>\n",
       "      <td>1</td>\n",
       "      <td>3</td>\n",
       "      <td>2016-09-08 09:06:29</td>\n",
       "    </tr>\n",
       "    <tr>\n",
       "      <th>2</th>\n",
       "      <td>102568</td>\n",
       "      <td>1</td>\n",
       "      <td>5</td>\n",
       "      <td>2017-02-26 16:43:51</td>\n",
       "    </tr>\n",
       "    <tr>\n",
       "      <th>3</th>\n",
       "      <td>102901</td>\n",
       "      <td>1</td>\n",
       "      <td>4</td>\n",
       "      <td>2010-07-05 21:02:57</td>\n",
       "    </tr>\n",
       "    <tr>\n",
       "      <th>4</th>\n",
       "      <td>103371</td>\n",
       "      <td>1</td>\n",
       "      <td>4</td>\n",
       "      <td>2006-03-09 22:29:16</td>\n",
       "    </tr>\n",
       "  </tbody>\n",
       "</table>\n",
       "</div>"
      ],
      "text/plain": [
       "   user_id  item_id  rating           timestamp\n",
       "0   100538        1       4 2019-01-01 21:11:09\n",
       "1    10231        1       3 2016-09-08 09:06:29\n",
       "2   102568        1       5 2017-02-26 16:43:51\n",
       "3   102901        1       4 2010-07-05 21:02:57\n",
       "4   103371        1       4 2006-03-09 22:29:16"
      ]
     },
     "execution_count": 35,
     "metadata": {},
     "output_type": "execute_result"
    }
   ],
   "source": [
    "interactions = dataset \\\n",
    "    .data[['user_id', 'movie_id', 'user_movie_rating', 'user_movie_rating_timestamp']] \\\n",
    "    .rename(columns={\n",
    "        'user_movie_rating'           : 'rating',\n",
    "        'movie_id'                    : 'item_id',\n",
    "        'user_movie_rating_timestamp' : 'timestamp'\n",
    "    })\n",
    "\n",
    "interactions.head()"
   ]
  },
  {
   "cell_type": "markdown",
   "id": "cc2a65d7-8b13-4fe7-a7d5-5cfddaae14e0",
   "metadata": {},
   "source": [
    "## Upload item and interaction to RecChatBotAPI"
   ]
  },
  {
   "cell_type": "code",
   "execution_count": 22,
   "id": "caa2b9a8-0d26-40f5-a77b-f69bc8d48e73",
   "metadata": {
    "tags": []
   },
   "outputs": [],
   "source": [
    "client = RecChatBotV1ApiClient()"
   ]
  },
  {
   "cell_type": "code",
   "execution_count": 23,
   "id": "c5373702-c195-4463-9a51-f9d06ac6da8d",
   "metadata": {},
   "outputs": [
    {
     "data": {
      "text/plain": [
       "[]"
      ]
     },
     "execution_count": 23,
     "metadata": {},
     "output_type": "execute_result"
    }
   ],
   "source": [
    "client.add_items(items)"
   ]
  },
  {
   "cell_type": "code",
   "execution_count": 38,
   "id": "c71db982-80c6-426a-9b0e-246130b455e1",
   "metadata": {
    "tags": []
   },
   "outputs": [
    {
     "data": {
      "text/plain": [
       "[]"
      ]
     },
     "execution_count": 38,
     "metadata": {},
     "output_type": "execute_result"
    }
   ],
   "source": [
    "client.add_interactions(interactions)"
   ]
  }
 ],
 "metadata": {
  "kernelspec": {
   "display_name": "Python 3 (ipykernel)",
   "language": "python",
   "name": "python3"
  },
  "language_info": {
   "codemirror_mode": {
    "name": "ipython",
    "version": 3
   },
   "file_extension": ".py",
   "mimetype": "text/x-python",
   "name": "python",
   "nbconvert_exporter": "python",
   "pygments_lexer": "ipython3",
   "version": "3.10.13"
  },
  "widgets": {
   "application/vnd.jupyter.widget-state+json": {
    "state": {},
    "version_major": 2,
    "version_minor": 0
   }
  }
 },
 "nbformat": 4,
 "nbformat_minor": 5
}
