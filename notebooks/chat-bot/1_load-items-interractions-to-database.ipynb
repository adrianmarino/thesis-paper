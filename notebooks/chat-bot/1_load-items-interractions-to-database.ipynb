{
 "cells": [
  {
   "cell_type": "markdown",
   "id": "0417277b-47df-4113-a7b3-8f960db06f1d",
   "metadata": {
    "tags": []
   },
   "source": [
    "# Recommender ChatBot: Load items and interactions to API"
   ]
  },
  {
   "cell_type": "code",
   "execution_count": 1,
   "id": "35e430dd-e279-4258-82a4-6b7a1347304b",
   "metadata": {},
   "outputs": [],
   "source": [
    "%load_ext autoreload\n",
    "%autoreload 2"
   ]
  },
  {
   "cell_type": "code",
   "execution_count": 2,
   "id": "834b2f2d-4103-4cf5-880d-10404d8ec7d3",
   "metadata": {},
   "outputs": [],
   "source": [
    "import os\n",
    "\n",
    "BASE_PATH    = '../..'\n",
    "LIB_PATH     = f'{BASE_PATH}/lib'\n",
    "API_PATH     = f'{BASE_PATH}/chat-bot-api'\n",
    "DATASET_PATH = f'{BASE_PATH}/datasets'\n",
    "ITEMS_PATH   = f'{DATASET_PATH}/chatbot-api-movies.json'\n",
    "\n",
    "\n",
    "os.environ['TMP_PATH']               = f'{BASE_PATH}/tmp'\n",
    "os.environ['DATASET_PATH']           = f'{BASE_PATH}/datasets'\n",
    "os.environ['WEIGHTS_PATH']           = f'{BASE_PATH}/weights'\n",
    "os.environ['METRICS_PATH']           = f'{BASE_PATH}/metrics'\n",
    "os.environ['MONGODB_URL']            = 'mongodb://0.0.0.0:27017'\n",
    "os.environ['MONGODB_DATABASE']       = 'chatbot'\n",
    "os.environ['CHROMA_HOST']            = '0.0.0.0'\n",
    "os.environ['CHROMA_PORT']            = '9090'\n",
    "os.environ['TOKENIZERS_PARALLELISM'] = 'false'"
   ]
  },
  {
   "cell_type": "code",
   "execution_count": 3,
   "id": "f98e7bf4-f41a-43f6-b7b7-a991d00f82de",
   "metadata": {},
   "outputs": [
    {
     "name": "stderr",
     "output_type": "stream",
     "text": [
      "2024-02-25 16:20:13.550170: I tensorflow/core/platform/cpu_feature_guard.cc:182] This TensorFlow binary is optimized to use available CPU instructions in performance-critical operations.\n",
      "To enable the following instructions: AVX2 FMA, in other operations, rebuild TensorFlow with the appropriate compiler flags.\n",
      "2024-02-25 16:20:13.952378: W tensorflow/compiler/tf2tensorrt/utils/py_utils.cc:38] TF-TRT Warning: Could not find TensorRT\n",
      "2024-02-25 16:20:14.334349: I tensorflow/compiler/xla/stream_executor/cuda/cuda_gpu_executor.cc:996] successful NUMA node read from SysFS had negative value (-1), but there must be at least one NUMA node, so returning NUMA node zero. See more at https://github.com/torvalds/linux/blob/v6.0/Documentation/ABI/testing/sysfs-bus-pci#L344-L355\n",
      "2024-02-25 16:20:14.344792: W tensorflow/core/common_runtime/gpu/gpu_device.cc:1956] Cannot dlopen some GPU libraries. Please make sure the missing libraries mentioned above are installed properly if you would like to use GPU. Follow the guide at https://www.tensorflow.org/install/gpu for how to download and setup the required libraries for your platform.\n",
      "Skipping registering GPU devices...\n"
     ]
    },
    {
     "data": {
      "text/plain": [
       "<Figure size 640x480 with 0 Axes>"
      ]
     },
     "metadata": {},
     "output_type": "display_data"
    }
   ],
   "source": [
    "import sys\n",
    "sys.path.append(LIB_PATH)\n",
    "sys.path.append(API_PATH)\n",
    "\n",
    "import pandas as pd\n",
    "\n",
    "import util as ut\n",
    "\n",
    "import torch\n",
    "import data as dt\n",
    "import data.dataset as ds\n",
    "\n",
    "import os\n",
    "\n",
    "from rest import RecChatBotV1ApiClient\n",
    "\n",
    "from services import ItemSimQuery\n",
    "\n",
    "from app_context import AppContext\n",
    "\n",
    "import pytorch_common.util as pu\n",
    "from datetime import datetime\n",
    "\n",
    "from rest import TMDBApiClient\n",
    "\n",
    "import logging\n",
    "from dataclasses import dataclass\n",
    "from abc import ABC, abstractmethod\n",
    "from IPython.core.display import HTML"
   ]
  },
  {
   "cell_type": "markdown",
   "id": "79e81931-af14-4688-9925-dd53c93ae7f4",
   "metadata": {},
   "source": [
    "# Setup"
   ]
  },
  {
   "cell_type": "code",
   "execution_count": 4,
   "id": "df26a2e5-ff38-4ff6-ac42-704866d2a325",
   "metadata": {
    "tags": []
   },
   "outputs": [
    {
     "data": {
      "text/plain": [
       "<RootLogger root (INFO)>"
      ]
     },
     "execution_count": 4,
     "metadata": {},
     "output_type": "execute_result"
    }
   ],
   "source": [
    "pu.LoggerBuilder().on_console().build()"
   ]
  },
  {
   "cell_type": "markdown",
   "id": "3c3181ae-8caf-4d7b-9977-a1512c05441c",
   "metadata": {},
   "source": [
    "# Common Functions and Classes"
   ]
  },
  {
   "cell_type": "code",
   "execution_count": 43,
   "id": "0034a09f-cc01-4c41-aab3-1afb1e110143",
   "metadata": {
    "tags": []
   },
   "outputs": [],
   "source": [
    "def cos_sim(a, b, k=1):\n",
    "    from strsimpy import Cosine\n",
    "    sim = Cosine(k=k)\n",
    "    return 1 - sim.distance(a, b)"
   ]
  },
  {
   "cell_type": "code",
   "execution_count": 6,
   "id": "d2e99f74-9349-4b29-950b-c243f4cb56c7",
   "metadata": {
    "tags": []
   },
   "outputs": [],
   "source": [
    "def is_empty(value):\n",
    "    if value is None: return True\n",
    "    \n",
    "    if type(value) == str and len(value) == 0: return True\n",
    "\n",
    "    if type(value) == list:\n",
    "        if len(value) == 0: return True\n",
    "        if len([True for v in value if is_empty(v)]) == len(value): return True\n",
    "\n",
    "    return False"
   ]
  },
  {
   "cell_type": "code",
   "execution_count": 7,
   "id": "6d9151c9-0f97-4c28-a527-a1222ca6dd18",
   "metadata": {
    "tags": []
   },
   "outputs": [],
   "source": [
    "def items_to_df(models):\n",
    "    return pd.DataFrame([\n",
    "        {\n",
    "            'id'          : model.id,\n",
    "            'title'       : model.title,\n",
    "            'release'     : model.release,\n",
    "            'genres'      : model.genres,\n",
    "            'rating'      : model.rating,\n",
    "            'poster'      : model.poster\n",
    "        }\n",
    "        for model in models\n",
    "    ])\n",
    "\n",
    "\n",
    "def ints_to_df(models):\n",
    "    return pd.DataFrame([\n",
    "        {\n",
    "            'item_id' : model.user_id,\n",
    "            'user_id' : model.item_id,\n",
    "            'rating'  : model.rating\n",
    "        }\n",
    "        for model in models\n",
    "    ])"
   ]
  },
  {
   "cell_type": "code",
   "execution_count": 8,
   "id": "755adbd4-d2c0-4f67-9b17-77c652190ded",
   "metadata": {
    "tags": []
   },
   "outputs": [],
   "source": [
    "async def append_popularity_score(items, interactions):\n",
    "    from sklearn.preprocessing import MinMaxScaler\n",
    "\n",
    "    item_votes = interactions \\\n",
    "        .groupby(['item_id'])['user_id'] \\\n",
    "        .size() \\\n",
    "        .reset_index(name='votes') \\\n",
    "        .rename(columns={'item_id': 'id'})\n",
    "\n",
    "    \n",
    "    item_votes['id'] = item_votes['id'].astype(str)\n",
    "\n",
    "    items = item_votes.merge(items, on='id')\n",
    "    \n",
    "    items['votes_norm']       = items['votes'] / items['votes'].max()\n",
    "    items['popularity_score'] = items['rating'] * items['votes_norm']\n",
    "    items = items.drop(['votes_norm'], axis=1)\n",
    "\n",
    "    return items.sort_values(\n",
    "        by        = ['popularity_score'],\n",
    "        ascending = False\n",
    "    )"
   ]
  },
  {
   "cell_type": "code",
   "execution_count": 9,
   "id": "c743331d-6efa-48aa-ac4a-3771d5af25e2",
   "metadata": {
    "tags": []
   },
   "outputs": [],
   "source": [
    "def to_image_html(path, width=300, alt='Not Found Image'): return F'<img src=\"{path}\" width=\"{width}\" alt={alt} >'\n",
    "\n",
    "def show(df): display(HTML(df.to_html(escape=False)))"
   ]
  },
  {
   "cell_type": "code",
   "execution_count": 10,
   "id": "17761b79-026f-4cc3-be43-e573704a4bca",
   "metadata": {
    "tags": []
   },
   "outputs": [],
   "source": [
    "async def search_items_by_content(\n",
    "    interactions,\n",
    "    content,\n",
    "    min_release      = None,\n",
    "    min_rating       = None,\n",
    "    order_popularity = True,\n",
    "    limit            = 10_000\n",
    "):\n",
    "    items, _ = await ctx.item_service.find_similars_by(\n",
    "        ItemSimQuery() \\\n",
    "            .contains(content) \\\n",
    "            .rating_gte(min_rating) \\\n",
    "            .release_gte(min_release) \\\n",
    "            .limit_eq(limit)\n",
    "    )\n",
    "    \n",
    "    items = items_to_df(items)\n",
    "                \n",
    "    if order_popularity:\n",
    "        items = await append_popularity_score(items, interactions)\n",
    "\n",
    "    items['poster'] = items['poster'].apply(to_image_html)\n",
    "    \n",
    "    return items.reset_index()"
   ]
  },
  {
   "cell_type": "markdown",
   "id": "65786725-d3e4-414b-949d-3dd793a27cfa",
   "metadata": {},
   "source": [
    "# Load Dataset"
   ]
  },
  {
   "cell_type": "code",
   "execution_count": 11,
   "id": "380097ca-a1ae-4a01-bc4b-94f3e291a9d1",
   "metadata": {
    "tags": []
   },
   "outputs": [],
   "source": [
    "def to_tensor(obs, device, columns): \n",
    "    data = obs[columns]\n",
    "    if type(data) == pd.DataFrame:\n",
    "        data = data.values\n",
    "    return torch.tensor(data).to(device)\n",
    "\n",
    "features_fn = lambda obs, device: to_tensor(obs, device, ['user_seq', 'movie_seq'])\n",
    "target_fn   = lambda obs, device: to_tensor(obs, device, ['user_movie_rating'])"
   ]
  },
  {
   "cell_type": "code",
   "execution_count": 12,
   "id": "16fadfb3-65e3-463b-adb3-568d37d99741",
   "metadata": {
    "tags": []
   },
   "outputs": [],
   "source": [
    "dataset = ds.MovieLensTMDBDatasetFactory.from_path(\n",
    "    path             = DATASET_PATH,\n",
    "    transform        = features_fn,\n",
    "    target_transform = target_fn,\n",
    "    device           = torch.device('cpu'),\n",
    "    filter_fn        = lambda df: df[(df['user_movie_rating_year'] >= 2004)]\n",
    ")"
   ]
  },
  {
   "cell_type": "code",
   "execution_count": 13,
   "id": "5298394f-02a9-41ed-b53e-48fcc87c206e",
   "metadata": {
    "tags": []
   },
   "outputs": [],
   "source": [
    "if not os.path.exists(ITEMS_PATH):\n",
    "    items = dataset \\\n",
    "        .data[['movie_id', 'movie_title', 'movie_genres', 'movie_overview', 'movie_release_year', 'movie_imdb_id', 'user_movie_rating']]\n",
    "\n",
    "    item_mean_rating = items.groupby(['movie_id'])['user_movie_rating'].mean().reset_index()\n",
    "    items = items.drop_duplicates(subset=['movie_id']).drop(columns=['user_movie_rating'])\n",
    "    items[items['movie_title'] == 'Paths of Glory']\n",
    "    items = items.merge(item_mean_rating, on='movie_id')\n",
    "    items"
   ]
  },
  {
   "cell_type": "markdown",
   "id": "4d007964-e26f-4d82-83fb-4ac728598fe4",
   "metadata": {},
   "source": [
    "## Populate items poster"
   ]
  },
  {
   "cell_type": "code",
   "execution_count": 14,
   "id": "2676bad4-701e-4699-b236-a52990a317c2",
   "metadata": {
    "tags": []
   },
   "outputs": [],
   "source": [
    "if not os.path.exists(ITEMS_PATH):\n",
    "    from rest import TMDBApiClient\n",
    "    import logging\n",
    "\n",
    "    client = TMDBApiClient()\n",
    "\n",
    "    with dt.progress_bar(items.shape[0], title='Processing') as pb:\n",
    "        def resolve_url(title):\n",
    "            return (title, client.find_first_poster_by(title))\n",
    "\n",
    "        params = [[row['movie_title']] for _, row in items.iterrows()]\n",
    "\n",
    "        poster_by_id = ut.ParallelExecutor()(\n",
    "            resolve_url,\n",
    "            params = params,\n",
    "            fallback_result = None\n",
    "        )\n",
    "\n",
    "        poster_by_id = {item[0]: item[1] for item in poster_by_id}"
   ]
  },
  {
   "cell_type": "code",
   "execution_count": 15,
   "id": "504c42cb-ca64-482b-ad13-616dc4a34dcd",
   "metadata": {
    "tags": []
   },
   "outputs": [],
   "source": [
    "if not os.path.exists(ITEMS_PATH):\n",
    "    items['poster'] = items['movie_title'].apply(lambda title: poster_by_id[title])\n",
    "    ut.save_df(items, f'{DATASET_PATH}/chatbot-api-movies.json')"
   ]
  },
  {
   "cell_type": "markdown",
   "id": "acdacf69-0f79-4e0d-b4c8-cffbfd53e62f",
   "metadata": {},
   "source": [
    "## Load builded items"
   ]
  },
  {
   "cell_type": "code",
   "execution_count": 177,
   "id": "f3e7834a-c9cf-4564-8b93-e8d96e259492",
   "metadata": {
    "tags": []
   },
   "outputs": [],
   "source": [
    "items = ut.load_df(f'{DATASET_PATH}/chatbot-api-movies.json')"
   ]
  },
  {
   "cell_type": "code",
   "execution_count": 178,
   "id": "ab4bb6c5-0c07-40c6-b039-35b060f84517",
   "metadata": {
    "tags": []
   },
   "outputs": [
    {
     "data": {
      "text/html": [
       "<div>\n",
       "<style scoped>\n",
       "    .dataframe tbody tr th:only-of-type {\n",
       "        vertical-align: middle;\n",
       "    }\n",
       "\n",
       "    .dataframe tbody tr th {\n",
       "        vertical-align: top;\n",
       "    }\n",
       "\n",
       "    .dataframe thead th {\n",
       "        text-align: right;\n",
       "    }\n",
       "</style>\n",
       "<table border=\"1\" class=\"dataframe\">\n",
       "  <thead>\n",
       "    <tr style=\"text-align: right;\">\n",
       "      <th></th>\n",
       "      <th>movie_title</th>\n",
       "      <th>poster</th>\n",
       "    </tr>\n",
       "  </thead>\n",
       "  <tbody>\n",
       "    <tr>\n",
       "      <th>0</th>\n",
       "      <td>Toy Story</td>\n",
       "      <td>http://image.tmdb.org/t/p/w500/uXDfjJbdP4ijW5hWSBrPrlKpxab.jpg</td>\n",
       "    </tr>\n",
       "    <tr>\n",
       "      <th>1</th>\n",
       "      <td>Clueless</td>\n",
       "      <td>http://image.tmdb.org/t/p/w500/8AwVTcgpTnmeOs4TdTWqcFDXEsA.jpg</td>\n",
       "    </tr>\n",
       "    <tr>\n",
       "      <th>2</th>\n",
       "      <td>While You Were Sleeping</td>\n",
       "      <td>http://image.tmdb.org/t/p/w500/qNGO3ETcNwlWqK2kNRpbJSJRlos.jpg</td>\n",
       "    </tr>\n",
       "    <tr>\n",
       "      <th>3</th>\n",
       "      <td>Forrest Gump</td>\n",
       "      <td>http://image.tmdb.org/t/p/w500/arw2vcBveWOVZr6pxd9XTd1TdQa.jpg</td>\n",
       "    </tr>\n",
       "    <tr>\n",
       "      <th>4</th>\n",
       "      <td>Pretty Woman</td>\n",
       "      <td>http://image.tmdb.org/t/p/w500/hVHUfT801LQATGd26VPzhorIYza.jpg</td>\n",
       "    </tr>\n",
       "  </tbody>\n",
       "</table>\n",
       "</div>"
      ],
      "text/plain": [
       "                movie_title  \\\n",
       "0                Toy Story    \n",
       "1                 Clueless    \n",
       "2  While You Were Sleeping    \n",
       "3             Forrest Gump    \n",
       "4             Pretty Woman    \n",
       "\n",
       "                                                           poster  \n",
       "0  http://image.tmdb.org/t/p/w500/uXDfjJbdP4ijW5hWSBrPrlKpxab.jpg  \n",
       "1  http://image.tmdb.org/t/p/w500/8AwVTcgpTnmeOs4TdTWqcFDXEsA.jpg  \n",
       "2  http://image.tmdb.org/t/p/w500/qNGO3ETcNwlWqK2kNRpbJSJRlos.jpg  \n",
       "3  http://image.tmdb.org/t/p/w500/arw2vcBveWOVZr6pxd9XTd1TdQa.jpg  \n",
       "4  http://image.tmdb.org/t/p/w500/hVHUfT801LQATGd26VPzhorIYza.jpg  "
      ]
     },
     "execution_count": 178,
     "metadata": {},
     "output_type": "execute_result"
    }
   ],
   "source": [
    "pd.set_option('display.max_colwidth', None)\n",
    "items[['movie_title', 'poster']].head()"
   ]
  },
  {
   "cell_type": "code",
   "execution_count": 179,
   "id": "43f5059e-7e84-4b1c-8370-4c2b8abe1cf7",
   "metadata": {
    "tags": []
   },
   "outputs": [
    {
     "data": {
      "text/html": [
       "<div>\n",
       "<style scoped>\n",
       "    .dataframe tbody tr th:only-of-type {\n",
       "        vertical-align: middle;\n",
       "    }\n",
       "\n",
       "    .dataframe tbody tr th {\n",
       "        vertical-align: top;\n",
       "    }\n",
       "\n",
       "    .dataframe thead th {\n",
       "        text-align: right;\n",
       "    }\n",
       "</style>\n",
       "<table border=\"1\" class=\"dataframe\">\n",
       "  <thead>\n",
       "    <tr style=\"text-align: right;\">\n",
       "      <th></th>\n",
       "      <th>user_id</th>\n",
       "      <th>item_id</th>\n",
       "      <th>rating</th>\n",
       "      <th>timestamp</th>\n",
       "    </tr>\n",
       "  </thead>\n",
       "  <tbody>\n",
       "    <tr>\n",
       "      <th>0</th>\n",
       "      <td>100538</td>\n",
       "      <td>1</td>\n",
       "      <td>4</td>\n",
       "      <td>2019-01-01 21:11:09</td>\n",
       "    </tr>\n",
       "    <tr>\n",
       "      <th>496</th>\n",
       "      <td>100538</td>\n",
       "      <td>39</td>\n",
       "      <td>3</td>\n",
       "      <td>2019-01-03 11:58:44</td>\n",
       "    </tr>\n",
       "    <tr>\n",
       "      <th>8785</th>\n",
       "      <td>100538</td>\n",
       "      <td>339</td>\n",
       "      <td>3</td>\n",
       "      <td>2019-01-04 08:18:24</td>\n",
       "    </tr>\n",
       "    <tr>\n",
       "      <th>9194</th>\n",
       "      <td>100538</td>\n",
       "      <td>356</td>\n",
       "      <td>4</td>\n",
       "      <td>2019-01-03 10:37:28</td>\n",
       "    </tr>\n",
       "    <tr>\n",
       "      <th>14189</th>\n",
       "      <td>100538</td>\n",
       "      <td>597</td>\n",
       "      <td>4</td>\n",
       "      <td>2019-01-03 11:55:57</td>\n",
       "    </tr>\n",
       "  </tbody>\n",
       "</table>\n",
       "</div>"
      ],
      "text/plain": [
       "       user_id  item_id  rating           timestamp\n",
       "0       100538        1       4 2019-01-01 21:11:09\n",
       "496     100538       39       3 2019-01-03 11:58:44\n",
       "8785    100538      339       3 2019-01-04 08:18:24\n",
       "9194    100538      356       4 2019-01-03 10:37:28\n",
       "14189   100538      597       4 2019-01-03 11:55:57"
      ]
     },
     "execution_count": 179,
     "metadata": {},
     "output_type": "execute_result"
    }
   ],
   "source": [
    "interactions = dataset \\\n",
    "    .data[['user_id', 'movie_id', 'user_movie_rating', 'user_movie_rating_timestamp']] \\\n",
    "    .rename(columns={\n",
    "        'user_movie_rating'           : 'rating',\n",
    "        'movie_id'                    : 'item_id',\n",
    "        'user_movie_rating_timestamp' : 'timestamp'\n",
    "    })\n",
    "\n",
    "interactions.head()"
   ]
  },
  {
   "cell_type": "markdown",
   "id": "ae6fcc61-a241-4034-a73d-456e1f4dac2a",
   "metadata": {},
   "source": [
    "## Populate missing data using TMDB Api"
   ]
  },
  {
   "cell_type": "code",
   "execution_count": 180,
   "id": "c80eb9fb-bc95-4884-b925-45d9e4290287",
   "metadata": {
    "tags": []
   },
   "outputs": [],
   "source": [
    "@dataclass(frozen=True)\n",
    "class MovieDataSeeker:\n",
    "    data                   : pd.DataFrame\n",
    "    min_title_sim          : int          = 0.98\n",
    "    min_original_title_sim : int          = 0.98\n",
    "\n",
    "    \n",
    "    def search_many_by(self, title_by_id, fields=[]):\n",
    "        movies = {}\n",
    "        with dt.progress_bar(len(title_by_id), title='Fetching many movies from TMDB') as pb:\n",
    "                \n",
    "            for id, title in title_by_id.items():\n",
    "                movie = self.search_by(id, title, fields)\n",
    "                if movie:\n",
    "                    movies[id] = movie\n",
    "                pb.update()\n",
    "\n",
    "        return movies\n",
    "\n",
    "\n",
    "    def search_by(self, id, title, fields=[]):\n",
    "        movie_data = {}\n",
    "        movies = self.data[id]\n",
    "        if len(movies) > 0:\n",
    "            for movie in movies:\n",
    "                title_sim          = cos_sim(title, movie['title'])\n",
    "                original_title_sim = cos_sim(title, movie['original_title'])\n",
    "\n",
    "                title_eq = movie['title'].strip().lower() == title.strip().lower() or movie['original_title'].strip().lower() == title.strip().lower()\n",
    "                \n",
    "                title_match = title_sim > self.min_title_sim or original_title_sim > self.min_title_sim\n",
    "\n",
    "                if title_eq or title_match:\n",
    "                    logging.debug(f'title sim: {title_sim}, original title sim: {original_title_sim}')\n",
    "\n",
    "                    for field in fields:\n",
    "                        value = movie[field]\n",
    "                        if not is_empty(value):\n",
    "                            movie_data['id'] = id\n",
    "\n",
    "                            if type(movie[field]) == list:\n",
    "                                movie_data[field] = [str(v).lower() for v in movie[field]] \n",
    "                            else:\n",
    "                                movie_data[field] = movie[field]\n",
    "                            \n",
    "                            movie_data['title_sim']          = title_sim\n",
    "                            movie_data['original_title_sim'] = original_title_sim\n",
    "\n",
    "\n",
    "        return movie_data"
   ]
  },
  {
   "cell_type": "code",
   "execution_count": 181,
   "id": "97b8f2fb-2835-43b8-ad46-63444c2a512f",
   "metadata": {
    "tags": []
   },
   "outputs": [],
   "source": [
    "item_title_by_id = ut.to_dict(\n",
    "    items,\n",
    "    key   = 'movie_id',\n",
    "    value = 'movie_title'\n",
    ")\n",
    "\n",
    "item_title_by_id = {id: title.strip() for id, title in item_title_by_id.items()}\n",
    "\n",
    "fields = [\n",
    "     'title',\n",
    "     'original_title', \n",
    "     'poster_url',\n",
    "     'overview', \n",
    "     'genres',\n",
    "     'release_date'\n",
    "]\n",
    "\n",
    "    \n",
    "if not os.path.exists(f'{DATASET_PATH}/tmdb-api-raw-data.dt'):\n",
    "    client = TMDBApiClient()\n",
    "\n",
    "    data = client.parallel_find_many_movies_by(\n",
    "        item_title_by_id,\n",
    "        fields = fields\n",
    "    )\n",
    "    ut.Picket.save(f'{DATASET_PATH}/tmdb-api-raw-data.dt', data)\n",
    "else:\n",
    "    data = ut.Picket.load(f'{DATASET_PATH}/tmdb-api-raw-data.dt')"
   ]
  },
  {
   "cell_type": "code",
   "execution_count": 182,
   "id": "7e46f4d0-9de5-440f-9be8-1319a9ede6a4",
   "metadata": {
    "tags": []
   },
   "outputs": [
    {
     "data": {
      "application/vnd.jupyter.widget-view+json": {
       "model_id": "3d142e3d349a47c9a529312b4bb37cf7",
       "version_major": 2,
       "version_minor": 0
      },
      "text/plain": [
       "Fetching many movies from TMDB:   0%|          | 0/18608 [00:00<?, ?it/s]"
      ]
     },
     "metadata": {},
     "output_type": "display_data"
    }
   ],
   "source": [
    "movie_seeker = MovieDataSeeker(data)\n",
    "\n",
    "movies = movie_seeker.search_many_by(\n",
    "    item_title_by_id,\n",
    "    fields = fields\n",
    ")"
   ]
  },
  {
   "cell_type": "code",
   "execution_count": 183,
   "id": "a7e14749-649d-48b6-8fb8-a55fd18d4d74",
   "metadata": {
    "tags": []
   },
   "outputs": [],
   "source": [
    "ut.Picket.save(f'{DATASET_PATH}/movies.dt', movies)"
   ]
  },
  {
   "cell_type": "code",
   "execution_count": 184,
   "id": "d79aa612-946d-409e-b4fe-e132d5bebd3c",
   "metadata": {
    "tags": []
   },
   "outputs": [],
   "source": [
    "movies = ut.Picket.load(f'{DATASET_PATH}/movies.dt')"
   ]
  },
  {
   "cell_type": "code",
   "execution_count": 185,
   "id": "42efe9e0-be19-4d35-8113-1cd209394848",
   "metadata": {
    "tags": []
   },
   "outputs": [
    {
     "data": {
      "text/plain": [
       "(16149, (18608, 8))"
      ]
     },
     "execution_count": 185,
     "metadata": {},
     "output_type": "execute_result"
    }
   ],
   "source": [
    "len(movies), items.shape"
   ]
  },
  {
   "cell_type": "code",
   "execution_count": 186,
   "id": "f171ee66-7151-448d-a195-a72a19c12b2f",
   "metadata": {},
   "outputs": [],
   "source": [
    "def resolve_missing_data(movies, row, column, field, missing_codition):\n",
    "    movie_id = row['movie_id']\n",
    "\n",
    "    if movie_id not in movies:\n",
    "        return row[column]\n",
    "\n",
    "    if not missing_codition(row[column]):\n",
    "        return row[column]\n",
    "\n",
    "    if int(movie_id) not in data:\n",
    "        return row[column]\n",
    "    \n",
    "    movie = movies[int(movie_id)]\n",
    "\n",
    "    if movie is None:\n",
    "        return row[column]\n",
    "\n",
    "    if field not in movie:\n",
    "        return row[column]\n",
    "\n",
    "    return movie[field]"
   ]
  },
  {
   "cell_type": "code",
   "execution_count": 187,
   "id": "e541e505-86a7-4069-a458-4d327387b93e",
   "metadata": {
    "tags": []
   },
   "outputs": [
    {
     "data": {
      "text/plain": [
       "(127, 8)"
      ]
     },
     "execution_count": 187,
     "metadata": {},
     "output_type": "execute_result"
    }
   ],
   "source": [
    "incomplete_items = items[((items['movie_overview'] == 'No overview found.') | (items['movie_overview'] == ''))]\n",
    "incomplete_items.shape"
   ]
  },
  {
   "cell_type": "code",
   "execution_count": 188,
   "id": "97c0b271-05e3-4a08-aa8f-e6d04b196b8c",
   "metadata": {
    "tags": []
   },
   "outputs": [],
   "source": [
    "overview_missing_codition = lambda value: is_empty(value) or value == 'No overview found.'\n",
    "\n",
    "items['movie_overview'] = items.apply(lambda row: resolve_missing_data(movies, row, column='movie_overview', field='overview', missing_codition=overview_missing_codition), axis=1) "
   ]
  },
  {
   "cell_type": "code",
   "execution_count": 189,
   "id": "ae15bc2e-fdc8-463b-91d2-690a2b4cebee",
   "metadata": {
    "tags": []
   },
   "outputs": [
    {
     "data": {
      "text/plain": [
       "(31, 8)"
      ]
     },
     "execution_count": 189,
     "metadata": {},
     "output_type": "execute_result"
    }
   ],
   "source": [
    "incomplete_items = items[((items['movie_overview'] == 'No overview found.') | (items['movie_overview'] == ''))]\n",
    "incomplete_items.shape"
   ]
  },
  {
   "cell_type": "code",
   "execution_count": 190,
   "id": "487735ba-d50f-4aef-8b87-1022b59c9f89",
   "metadata": {
    "tags": []
   },
   "outputs": [
    {
     "data": {
      "text/plain": [
       "(286, 8)"
      ]
     },
     "execution_count": 190,
     "metadata": {},
     "output_type": "execute_result"
    }
   ],
   "source": [
    "incomplete_items = items[items['movie_genres'].apply(lambda x: '(no genres listed)' in x)]\n",
    "incomplete_items.shape"
   ]
  },
  {
   "cell_type": "code",
   "execution_count": 191,
   "id": "8eba71ba-57be-45bb-8807-2502ebb1d3fa",
   "metadata": {
    "tags": []
   },
   "outputs": [],
   "source": [
    "genres_missing_codition = lambda value: len(value) == 1 and value[0].strip() == '(no genres listed)'\n",
    "\n",
    "items['movie_genres'] = items.apply(lambda row: resolve_missing_data(movies, row, column='movie_genres', field='genres', missing_codition=genres_missing_codition), axis=1) "
   ]
  },
  {
   "cell_type": "code",
   "execution_count": 192,
   "id": "e11ddc8c-14be-472e-bb3c-8b9d8264ab7b",
   "metadata": {
    "tags": []
   },
   "outputs": [
    {
     "data": {
      "text/plain": [
       "(41, 8)"
      ]
     },
     "execution_count": 192,
     "metadata": {},
     "output_type": "execute_result"
    }
   ],
   "source": [
    "incomplete_items = items[items['movie_genres'].apply(lambda x: '(no genres listed)' in x)]\n",
    "incomplete_items.shape"
   ]
  },
  {
   "cell_type": "code",
   "execution_count": 193,
   "id": "4b4d4c27-fec6-40aa-869b-c2209d365b0d",
   "metadata": {
    "tags": []
   },
   "outputs": [
    {
     "data": {
      "text/plain": [
       "(6581, 8)"
      ]
     },
     "execution_count": 193,
     "metadata": {},
     "output_type": "execute_result"
    }
   ],
   "source": [
    "incomplete_items = items[items['movie_genres'].apply(lambda x: len(x) == 1)]\n",
    "incomplete_items.shape"
   ]
  },
  {
   "cell_type": "code",
   "execution_count": 194,
   "id": "0a28bf6e-bd54-4337-9c04-50caa14939ff",
   "metadata": {
    "tags": []
   },
   "outputs": [],
   "source": [
    "min_genres_missing_codition = lambda value: len(value) == 1\n",
    "\n",
    "items['movie_genres'] = items.apply(lambda row: resolve_missing_data(movies, row, column='movie_genres', field='genres', missing_codition=min_genres_missing_codition), axis=1) "
   ]
  },
  {
   "cell_type": "code",
   "execution_count": 195,
   "id": "1292922e-44d4-4ea2-bcda-576c53a093c1",
   "metadata": {
    "tags": []
   },
   "outputs": [
    {
     "data": {
      "text/plain": [
       "(4050, 8)"
      ]
     },
     "execution_count": 195,
     "metadata": {},
     "output_type": "execute_result"
    }
   ],
   "source": [
    "incomplete_items = items[items['movie_genres'].apply(lambda x: len(x) == 1)]\n",
    "incomplete_items.shape"
   ]
  },
  {
   "cell_type": "markdown",
   "id": "cc2a65d7-8b13-4fe7-a7d5-5cfddaae14e0",
   "metadata": {},
   "source": [
    "## Upload item and interaction to RecChatBotAPI"
   ]
  },
  {
   "cell_type": "code",
   "execution_count": 196,
   "id": "955eaa09-30bb-4e43-8b31-eff348845137",
   "metadata": {
    "tags": []
   },
   "outputs": [
    {
     "name": "stderr",
     "output_type": "stream",
     "text": [
      "2024-02-25 16:55:20,590 - INFO - Load pretrained SentenceTransformer: all-mpnet-base-v2\n",
      "2024-02-25 16:55:21,104 - INFO - Use pytorch device: cuda\n",
      "2024-02-25 16:55:21,105 - INFO - Anonymized telemetry enabled. See                     https://docs.trychroma.com/telemetry for more information.\n",
      "2024-02-25 16:55:21,106 - INFO - Anonymized telemetry enabled. See                     https://docs.trychroma.com/telemetry for more information.\n"
     ]
    }
   ],
   "source": [
    "ctx = AppContext()"
   ]
  },
  {
   "cell_type": "code",
   "execution_count": 197,
   "id": "caa2b9a8-0d26-40f5-a77b-f69bc8d48e73",
   "metadata": {
    "tags": []
   },
   "outputs": [],
   "source": [
    "client = RecChatBotV1ApiClient()"
   ]
  },
  {
   "cell_type": "code",
   "execution_count": 198,
   "id": "c5373702-c195-4463-9a51-f9d06ac6da8d",
   "metadata": {},
   "outputs": [
    {
     "name": "stderr",
     "output_type": "stream",
     "text": [
      "2024-02-25 16:55:22,927 - INFO - Page Size: 1000\n",
      "2024-02-25 16:55:32,073 - INFO - Page: 1/19, Size: 1000\n",
      "2024-02-25 16:55:37,674 - INFO - Page: 2/19, Size: 1000\n",
      "2024-02-25 16:55:44,024 - INFO - Page: 3/19, Size: 1000\n",
      "2024-02-25 16:55:49,590 - INFO - Page: 4/19, Size: 1000\n",
      "2024-02-25 16:55:55,104 - INFO - Page: 5/19, Size: 1000\n",
      "2024-02-25 16:56:00,822 - INFO - Page: 6/19, Size: 1000\n",
      "2024-02-25 16:56:06,506 - INFO - Page: 7/19, Size: 1000\n",
      "2024-02-25 16:56:13,517 - INFO - Page: 8/19, Size: 1000\n",
      "2024-02-25 16:56:19,246 - INFO - Page: 9/19, Size: 1000\n",
      "2024-02-25 16:56:25,004 - INFO - Page: 10/19, Size: 1000\n",
      "2024-02-25 16:56:32,249 - INFO - Page: 11/19, Size: 1000\n",
      "2024-02-25 16:56:38,229 - INFO - Page: 12/19, Size: 1000\n",
      "2024-02-25 16:56:44,253 - INFO - Page: 13/19, Size: 1000\n",
      "2024-02-25 16:56:51,213 - INFO - Page: 14/19, Size: 1000\n",
      "2024-02-25 16:56:57,110 - INFO - Page: 15/19, Size: 1000\n",
      "2024-02-25 16:57:02,816 - INFO - Page: 16/19, Size: 1000\n",
      "2024-02-25 16:57:08,655 - INFO - Page: 17/19, Size: 1000\n",
      "2024-02-25 16:57:14,633 - INFO - Page: 18/19, Size: 1000\n",
      "2024-02-25 16:57:18,231 - INFO - Page: 19/19, Size: 608\n"
     ]
    },
    {
     "data": {
      "text/plain": [
       "[]"
      ]
     },
     "execution_count": 198,
     "metadata": {},
     "output_type": "execute_result"
    }
   ],
   "source": [
    "client.add_items(items)"
   ]
  },
  {
   "cell_type": "code",
   "execution_count": null,
   "id": "1f6f5fc0-b73b-40a3-924e-5326854d5c75",
   "metadata": {
    "tags": []
   },
   "outputs": [],
   "source": [
    "interactions.shape"
   ]
  },
  {
   "cell_type": "code",
   "execution_count": null,
   "id": "cebb3a1f-cacf-44af-b8d8-dcd2a98eb878",
   "metadata": {
    "tags": []
   },
   "outputs": [],
   "source": [
    "client.add_interactions(interactions)"
   ]
  },
  {
   "cell_type": "code",
   "execution_count": null,
   "id": "13d5e1d2-bbd9-4ca6-9896-19fd04cebdc7",
   "metadata": {
    "tags": []
   },
   "outputs": [],
   "source": [
    "api_interactions = ints_to_df(await ctx.interaction_service.find_all())\n",
    "api_interactions.shape"
   ]
  },
  {
   "cell_type": "markdown",
   "id": "a3cc9eed-6f9f-43e5-ad03-018ca7884b5c",
   "metadata": {},
   "source": [
    "## Fun users interactions"
   ]
  },
  {
   "cell_type": "code",
   "execution_count": null,
   "id": "6f97a185-40d7-43d5-a1fd-cbb4abafbb70",
   "metadata": {
    "tags": []
   },
   "outputs": [],
   "source": [
    "searchs = [\n",
    "    ('pixar animated movie for children', 200),\n",
    "    ('science fiction, action', 100),\n",
    "    ('war weapons', 70),\n",
    "    ('iron man, x-men, spider man, bat man, flash, avengers, ant-man, hulk, guardians of the galaxy, marvel, green lantern, superman, watchmen, thor, deadpool, wonder woman, strange, justice League, captain america, logans, kick ass, John Wick', 150),\n",
    "    ('sci-fi, action, future', 130),\n",
    "    ('Mission Impossible, spies, bourne identity, 007', 70),\n",
    "    ('comedy movies', 200),\n",
    "    ('horror', 100),\n",
    "    ('thiller, suspense', 150),\n",
    "    ('love, romance', 150),\n",
    "    ('time travel', 100),\n",
    "    ('dead, zombies, post apocalyptic', 100),\n",
    "    ('software', 100),\n",
    "    ('hackers', 100)\n",
    "]"
   ]
  },
  {
   "cell_type": "code",
   "execution_count": null,
   "id": "c1d54899-ffc1-4ed0-bb33-1680e124986f",
   "metadata": {
    "tags": []
   },
   "outputs": [],
   "source": [
    "items = await search_items_by_content(\n",
    "    interactions, \n",
    "    'hackers',\n",
    "    min_rating  = 3, \n",
    "    limit       = 50,\n",
    "    min_release = 1990,\n",
    "    order_popularity = False\n",
    ")\n",
    "\n",
    "\n",
    "# show(items)"
   ]
  },
  {
   "cell_type": "code",
   "execution_count": null,
   "id": "8de26810-5927-4f3f-bccc-313a8efd2936",
   "metadata": {
    "tags": []
   },
   "outputs": [],
   "source": [
    "fun_user_interactions = []\n",
    "max_user_id = interactions['user_id'].max()\n",
    "\n",
    "for search in searchs:    \n",
    "    items = await search_items_by_content(\n",
    "        interactions, \n",
    "        search[0],\n",
    "        min_rating  = 3, \n",
    "        limit       = search[1],\n",
    "        min_release = 1990,\n",
    "        order_popularity = False\n",
    "    )    \n",
    "    \n",
    "    items = items.rename(columns={'id': 'item_id'})\n",
    "    items['rating'] = items['item_id'].apply(lambda x: 4 if random.random() > 0.5 else 5)\n",
    "    items['user_id'] = max_user_id\n",
    "    items = items[['item_id', 'user_id', 'rating']]\n",
    "    \n",
    "    max_user_id +=1\n",
    "    \n",
    "    fun_user_interactions.append(items)\n",
    "\n",
    "fun_user_interactions = pd.concat(fun_user_interactions)\n",
    "fun_user_interactions['timestamp'] = datetime.now()"
   ]
  },
  {
   "cell_type": "code",
   "execution_count": null,
   "id": "174f5ad1-983f-4f3d-be74-b1b945bcbadf",
   "metadata": {
    "tags": []
   },
   "outputs": [],
   "source": [
    "fun_user_interactions"
   ]
  },
  {
   "cell_type": "code",
   "execution_count": null,
   "id": "a765d099-78ae-4349-8724-3e354ab77d19",
   "metadata": {
    "tags": []
   },
   "outputs": [],
   "source": [
    "client.add_interactions(fun_user_interactions)"
   ]
  },
  {
   "cell_type": "code",
   "execution_count": null,
   "id": "42bae1d7-a3a0-4a74-b739-8c1588252f46",
   "metadata": {
    "tags": []
   },
   "outputs": [],
   "source": [
    "api_interactions = ints_to_df(await ctx.interaction_service.find_all())\n",
    "api_interactions.shape"
   ]
  },
  {
   "cell_type": "code",
   "execution_count": null,
   "id": "813580ba-6fd9-49e3-a372-ac083684415b",
   "metadata": {},
   "outputs": [],
   "source": []
  }
 ],
 "metadata": {
  "kernelspec": {
   "display_name": "Python 3 (ipykernel)",
   "language": "python",
   "name": "python3"
  },
  "language_info": {
   "codemirror_mode": {
    "name": "ipython",
    "version": 3
   },
   "file_extension": ".py",
   "mimetype": "text/x-python",
   "name": "python",
   "nbconvert_exporter": "python",
   "pygments_lexer": "ipython3",
   "version": "3.10.13"
  },
  "widgets": {
   "application/vnd.jupyter.widget-state+json": {
    "state": {
     "0004e266876348e890cba59eeb98f8ba": {
      "model_module": "@jupyter-widgets/controls",
      "model_module_version": "2.0.0",
      "model_name": "ProgressStyleModel",
      "state": {
       "description_width": ""
      }
     },
     "0229097ba8a04bb59e725cec08a427fc": {
      "model_module": "@jupyter-widgets/controls",
      "model_module_version": "2.0.0",
      "model_name": "HTMLModel",
      "state": {
       "layout": "IPY_MODEL_155d037b7a3c40f48c800c20638eb8b0",
       "style": "IPY_MODEL_8ae4a126875345ec8438e051105f4318",
       "value": "Fetching many movies from TMDB: 100%"
      }
     },
     "03895ef8fa254468b185305236202b1d": {
      "model_module": "@jupyter-widgets/controls",
      "model_module_version": "2.0.0",
      "model_name": "HTMLStyleModel",
      "state": {
       "description_width": "",
       "font_size": null,
       "text_color": null
      }
     },
     "0c1ab4cb6ce04bf880db97050c43ef24": {
      "model_module": "@jupyter-widgets/controls",
      "model_module_version": "2.0.0",
      "model_name": "HBoxModel",
      "state": {
       "children": [
        "IPY_MODEL_3f1996873fee4248a0f9a0b9b12347f8",
        "IPY_MODEL_2d327878b8254bb490a00b3bd4ec2eb4",
        "IPY_MODEL_ac7cf4b26448422bb7efa97f03b0e99e"
       ],
       "layout": "IPY_MODEL_86f2f2731b014a88a1dee670b03127fc"
      }
     },
     "0faff01c23df4e0ca26c93672eea989a": {
      "model_module": "@jupyter-widgets/base",
      "model_module_version": "2.0.0",
      "model_name": "LayoutModel",
      "state": {}
     },
     "110dbeb4a12e4c638bf584630b69ae08": {
      "model_module": "@jupyter-widgets/controls",
      "model_module_version": "2.0.0",
      "model_name": "HTMLStyleModel",
      "state": {
       "description_width": "",
       "font_size": null,
       "text_color": null
      }
     },
     "13ff3edd6fb043178da2c2273bb94218": {
      "model_module": "@jupyter-widgets/base",
      "model_module_version": "2.0.0",
      "model_name": "LayoutModel",
      "state": {}
     },
     "155d037b7a3c40f48c800c20638eb8b0": {
      "model_module": "@jupyter-widgets/base",
      "model_module_version": "2.0.0",
      "model_name": "LayoutModel",
      "state": {}
     },
     "1d41a23f4a7a476fa8d94344ddd32ee2": {
      "model_module": "@jupyter-widgets/controls",
      "model_module_version": "2.0.0",
      "model_name": "HTMLStyleModel",
      "state": {
       "description_width": "",
       "font_size": null,
       "text_color": null
      }
     },
     "24f488fc49e54ee38c8e6746be2c3c12": {
      "model_module": "@jupyter-widgets/controls",
      "model_module_version": "2.0.0",
      "model_name": "HTMLStyleModel",
      "state": {
       "description_width": "",
       "font_size": null,
       "text_color": null
      }
     },
     "26b82e2fd32c4eefaaf4bb11e72ce5a3": {
      "model_module": "@jupyter-widgets/base",
      "model_module_version": "2.0.0",
      "model_name": "LayoutModel",
      "state": {}
     },
     "273504ba6d364ddf99834d1212a7bf96": {
      "model_module": "@jupyter-widgets/base",
      "model_module_version": "2.0.0",
      "model_name": "LayoutModel",
      "state": {}
     },
     "2c8859f42d45499192fb4191c9691822": {
      "model_module": "@jupyter-widgets/base",
      "model_module_version": "2.0.0",
      "model_name": "LayoutModel",
      "state": {}
     },
     "2d327878b8254bb490a00b3bd4ec2eb4": {
      "model_module": "@jupyter-widgets/controls",
      "model_module_version": "2.0.0",
      "model_name": "FloatProgressModel",
      "state": {
       "bar_style": "success",
       "layout": "IPY_MODEL_8a9ca46feeb44a78990c686bdc62103c",
       "max": 18608,
       "style": "IPY_MODEL_84646e642342460888e315349e695893",
       "value": 18608
      }
     },
     "31b2acf8f7874834b436715d7c82f0d9": {
      "model_module": "@jupyter-widgets/base",
      "model_module_version": "2.0.0",
      "model_name": "LayoutModel",
      "state": {}
     },
     "3d142e3d349a47c9a529312b4bb37cf7": {
      "model_module": "@jupyter-widgets/controls",
      "model_module_version": "2.0.0",
      "model_name": "HBoxModel",
      "state": {
       "children": [
        "IPY_MODEL_907fec65c5264803b0bb23696d092ca6",
        "IPY_MODEL_a0e4035bb266444490356c4d624dc51c",
        "IPY_MODEL_980abbda8a784b6cbd9a239ce65657d7"
       ],
       "layout": "IPY_MODEL_cb88419fe94447dfba67a84c39a9a514"
      }
     },
     "3dfe2f68e1c94049a2bab9d6aa007283": {
      "model_module": "@jupyter-widgets/controls",
      "model_module_version": "2.0.0",
      "model_name": "HBoxModel",
      "state": {
       "children": [
        "IPY_MODEL_c8f73c8d49da4141b38615387b50a7a3",
        "IPY_MODEL_874de31a8f2f4cbc8cd3427c64490733",
        "IPY_MODEL_52359b31f7744226b2977aa8a8336bde"
       ],
       "layout": "IPY_MODEL_d689c2cee20b4293a21ce9d8e050664c"
      }
     },
     "3e3329bbab3644bcaa99ca73c7823559": {
      "model_module": "@jupyter-widgets/controls",
      "model_module_version": "2.0.0",
      "model_name": "HTMLModel",
      "state": {
       "layout": "IPY_MODEL_4ecfc7357d6b489c8ad10de3cfbde07b",
       "style": "IPY_MODEL_1d41a23f4a7a476fa8d94344ddd32ee2",
       "value": "Fetching many movies from TMDB: 100%"
      }
     },
     "3f1996873fee4248a0f9a0b9b12347f8": {
      "model_module": "@jupyter-widgets/controls",
      "model_module_version": "2.0.0",
      "model_name": "HTMLModel",
      "state": {
       "layout": "IPY_MODEL_dd5c1d4080f1470392025b6082f77d26",
       "style": "IPY_MODEL_f944791c75624efda0ad2cbf20d94599",
       "value": "Fetching many movies from TMDB: 100%"
      }
     },
     "49f44ce42c4849e18d6fbdd9ed65facf": {
      "model_module": "@jupyter-widgets/controls",
      "model_module_version": "2.0.0",
      "model_name": "FloatProgressModel",
      "state": {
       "bar_style": "success",
       "layout": "IPY_MODEL_ff7230a83404494ea2bd5eae583fe570",
       "max": 18608,
       "style": "IPY_MODEL_68295556b1b54b3cb2160c53b1968ab6",
       "value": 18608
      }
     },
     "4ecfc7357d6b489c8ad10de3cfbde07b": {
      "model_module": "@jupyter-widgets/base",
      "model_module_version": "2.0.0",
      "model_name": "LayoutModel",
      "state": {}
     },
     "51f7b4d5674247b9b39b87fdaba90b0f": {
      "model_module": "@jupyter-widgets/base",
      "model_module_version": "2.0.0",
      "model_name": "LayoutModel",
      "state": {}
     },
     "52359b31f7744226b2977aa8a8336bde": {
      "model_module": "@jupyter-widgets/controls",
      "model_module_version": "2.0.0",
      "model_name": "HTMLModel",
      "state": {
       "layout": "IPY_MODEL_bf142d1e0d894774a94b0c5436e2bef6",
       "style": "IPY_MODEL_84b5982a6f0143dfbe1147f69e899cea",
       "value": " 18608/18608 [00:02&lt;00:00, 9290.05it/s]"
      }
     },
     "58228f43c38342e5b5fdc1646e96d128": {
      "model_module": "@jupyter-widgets/controls",
      "model_module_version": "2.0.0",
      "model_name": "HTMLStyleModel",
      "state": {
       "description_width": "",
       "font_size": null,
       "text_color": null
      }
     },
     "593d630b75034ed794cc40f44569279e": {
      "model_module": "@jupyter-widgets/base",
      "model_module_version": "2.0.0",
      "model_name": "LayoutModel",
      "state": {}
     },
     "5a2cfbbffcfb450b8469c3cf20415a7d": {
      "model_module": "@jupyter-widgets/controls",
      "model_module_version": "2.0.0",
      "model_name": "HTMLStyleModel",
      "state": {
       "description_width": "",
       "font_size": null,
       "text_color": null
      }
     },
     "5bc55784c42144988cb2036ce00e800e": {
      "model_module": "@jupyter-widgets/controls",
      "model_module_version": "2.0.0",
      "model_name": "HTMLStyleModel",
      "state": {
       "description_width": "",
       "font_size": null,
       "text_color": null
      }
     },
     "5f3da33c27ae43279c4499568d4a5b24": {
      "model_module": "@jupyter-widgets/base",
      "model_module_version": "2.0.0",
      "model_name": "LayoutModel",
      "state": {}
     },
     "635851fdd359433eb9fa3a1708c6a73f": {
      "model_module": "@jupyter-widgets/base",
      "model_module_version": "2.0.0",
      "model_name": "LayoutModel",
      "state": {}
     },
     "65603976f13e44d799e81289d5fdddb0": {
      "model_module": "@jupyter-widgets/base",
      "model_module_version": "2.0.0",
      "model_name": "LayoutModel",
      "state": {}
     },
     "66d4fee1c4634427b9d48bee6b204a82": {
      "model_module": "@jupyter-widgets/controls",
      "model_module_version": "2.0.0",
      "model_name": "ProgressStyleModel",
      "state": {
       "description_width": ""
      }
     },
     "67286ba9c3f34481b31f33bd6ec216e8": {
      "model_module": "@jupyter-widgets/base",
      "model_module_version": "2.0.0",
      "model_name": "LayoutModel",
      "state": {}
     },
     "68295556b1b54b3cb2160c53b1968ab6": {
      "model_module": "@jupyter-widgets/controls",
      "model_module_version": "2.0.0",
      "model_name": "ProgressStyleModel",
      "state": {
       "description_width": ""
      }
     },
     "7359b55ce07e485b83f17ea69b12fd4c": {
      "model_module": "@jupyter-widgets/controls",
      "model_module_version": "2.0.0",
      "model_name": "HBoxModel",
      "state": {
       "children": [
        "IPY_MODEL_f54606ea5cec4f27aa8a5e0dc29cea03",
        "IPY_MODEL_c9e42ed6e035433587a0fbf2043479be",
        "IPY_MODEL_b783fdae8cf34275909deb25a7f8a70f"
       ],
       "layout": "IPY_MODEL_67286ba9c3f34481b31f33bd6ec216e8"
      }
     },
     "73b0e41b8113408ab43efc60d8834cab": {
      "model_module": "@jupyter-widgets/base",
      "model_module_version": "2.0.0",
      "model_name": "LayoutModel",
      "state": {}
     },
     "75ea7c2871c542bf9ef570b769b451e2": {
      "model_module": "@jupyter-widgets/controls",
      "model_module_version": "2.0.0",
      "model_name": "HTMLStyleModel",
      "state": {
       "description_width": "",
       "font_size": null,
       "text_color": null
      }
     },
     "784fa6fd56ea450189eef8783ade79b6": {
      "model_module": "@jupyter-widgets/controls",
      "model_module_version": "2.0.0",
      "model_name": "HTMLStyleModel",
      "state": {
       "description_width": "",
       "font_size": null,
       "text_color": null
      }
     },
     "7eb1c140471c4d2d8cb72591e8b09915": {
      "model_module": "@jupyter-widgets/base",
      "model_module_version": "2.0.0",
      "model_name": "LayoutModel",
      "state": {}
     },
     "80c2c4a6c7254a9ea7ce5144532ca3e0": {
      "model_module": "@jupyter-widgets/controls",
      "model_module_version": "2.0.0",
      "model_name": "HTMLStyleModel",
      "state": {
       "description_width": "",
       "font_size": null,
       "text_color": null
      }
     },
     "83ae69d6e0dd4ddd9a3a4ae09c38ea66": {
      "model_module": "@jupyter-widgets/base",
      "model_module_version": "2.0.0",
      "model_name": "LayoutModel",
      "state": {}
     },
     "84483b94643849baa27f96c2962ebd58": {
      "model_module": "@jupyter-widgets/base",
      "model_module_version": "2.0.0",
      "model_name": "LayoutModel",
      "state": {}
     },
     "84646e642342460888e315349e695893": {
      "model_module": "@jupyter-widgets/controls",
      "model_module_version": "2.0.0",
      "model_name": "ProgressStyleModel",
      "state": {
       "description_width": ""
      }
     },
     "84b5982a6f0143dfbe1147f69e899cea": {
      "model_module": "@jupyter-widgets/controls",
      "model_module_version": "2.0.0",
      "model_name": "HTMLStyleModel",
      "state": {
       "description_width": "",
       "font_size": null,
       "text_color": null
      }
     },
     "85d7735d889a45c59145d5ec96699f21": {
      "model_module": "@jupyter-widgets/controls",
      "model_module_version": "2.0.0",
      "model_name": "FloatProgressModel",
      "state": {
       "bar_style": "success",
       "layout": "IPY_MODEL_73b0e41b8113408ab43efc60d8834cab",
       "max": 18608,
       "style": "IPY_MODEL_66d4fee1c4634427b9d48bee6b204a82",
       "value": 18608
      }
     },
     "86f2f2731b014a88a1dee670b03127fc": {
      "model_module": "@jupyter-widgets/base",
      "model_module_version": "2.0.0",
      "model_name": "LayoutModel",
      "state": {}
     },
     "874de31a8f2f4cbc8cd3427c64490733": {
      "model_module": "@jupyter-widgets/controls",
      "model_module_version": "2.0.0",
      "model_name": "FloatProgressModel",
      "state": {
       "bar_style": "success",
       "layout": "IPY_MODEL_ca29a70063024dfea4d97e53e7e88d7e",
       "max": 18608,
       "style": "IPY_MODEL_e0064fd525bb48b399a6abf0bf69a314",
       "value": 18608
      }
     },
     "8a9ca46feeb44a78990c686bdc62103c": {
      "model_module": "@jupyter-widgets/base",
      "model_module_version": "2.0.0",
      "model_name": "LayoutModel",
      "state": {}
     },
     "8ae4a126875345ec8438e051105f4318": {
      "model_module": "@jupyter-widgets/controls",
      "model_module_version": "2.0.0",
      "model_name": "HTMLStyleModel",
      "state": {
       "description_width": "",
       "font_size": null,
       "text_color": null
      }
     },
     "8bcab71d4de84174bcde04d60080bed2": {
      "model_module": "@jupyter-widgets/controls",
      "model_module_version": "2.0.0",
      "model_name": "HTMLModel",
      "state": {
       "layout": "IPY_MODEL_0faff01c23df4e0ca26c93672eea989a",
       "style": "IPY_MODEL_5bc55784c42144988cb2036ce00e800e",
       "value": " 18608/18608 [00:02&lt;00:00, 9154.96it/s]"
      }
     },
     "8bec21eb7d2047b5bdf4a905f7fad14b": {
      "model_module": "@jupyter-widgets/controls",
      "model_module_version": "2.0.0",
      "model_name": "HTMLStyleModel",
      "state": {
       "description_width": "",
       "font_size": null,
       "text_color": null
      }
     },
     "907fec65c5264803b0bb23696d092ca6": {
      "model_module": "@jupyter-widgets/controls",
      "model_module_version": "2.0.0",
      "model_name": "HTMLModel",
      "state": {
       "layout": "IPY_MODEL_13ff3edd6fb043178da2c2273bb94218",
       "style": "IPY_MODEL_8bec21eb7d2047b5bdf4a905f7fad14b",
       "value": "Fetching many movies from TMDB: 100%"
      }
     },
     "980abbda8a784b6cbd9a239ce65657d7": {
      "model_module": "@jupyter-widgets/controls",
      "model_module_version": "2.0.0",
      "model_name": "HTMLModel",
      "state": {
       "layout": "IPY_MODEL_f14aaafa3bfa4d7e81b46b9262a5bb15",
       "style": "IPY_MODEL_d097491df54d4909b6695caaf8882235",
       "value": " 18608/18608 [00:02&lt;00:00, 8958.06it/s]"
      }
     },
     "9ddf6b552bb94b4b9703096446d3ab73": {
      "model_module": "@jupyter-widgets/controls",
      "model_module_version": "2.0.0",
      "model_name": "HTMLStyleModel",
      "state": {
       "description_width": "",
       "font_size": null,
       "text_color": null
      }
     },
     "a0e4035bb266444490356c4d624dc51c": {
      "model_module": "@jupyter-widgets/controls",
      "model_module_version": "2.0.0",
      "model_name": "FloatProgressModel",
      "state": {
       "bar_style": "success",
       "layout": "IPY_MODEL_5f3da33c27ae43279c4499568d4a5b24",
       "max": 18608,
       "style": "IPY_MODEL_ab8b6ca2966f4c4899cfa4c6272acde4",
       "value": 18608
      }
     },
     "a1a66d3b97c74d08880ac3559f3886df": {
      "model_module": "@jupyter-widgets/controls",
      "model_module_version": "2.0.0",
      "model_name": "FloatProgressModel",
      "state": {
       "bar_style": "success",
       "layout": "IPY_MODEL_7eb1c140471c4d2d8cb72591e8b09915",
       "max": 18608,
       "style": "IPY_MODEL_0004e266876348e890cba59eeb98f8ba",
       "value": 18608
      }
     },
     "a3fba0a608504173b8b8d59becdb9605": {
      "model_module": "@jupyter-widgets/controls",
      "model_module_version": "2.0.0",
      "model_name": "HTMLModel",
      "state": {
       "layout": "IPY_MODEL_31b2acf8f7874834b436715d7c82f0d9",
       "style": "IPY_MODEL_9ddf6b552bb94b4b9703096446d3ab73",
       "value": " 18608/18608 [00:02&lt;00:00, 7194.84it/s]"
      }
     },
     "ab8b6ca2966f4c4899cfa4c6272acde4": {
      "model_module": "@jupyter-widgets/controls",
      "model_module_version": "2.0.0",
      "model_name": "ProgressStyleModel",
      "state": {
       "description_width": ""
      }
     },
     "ac1b5e60bf944906ba1b6b1b304347d1": {
      "model_module": "@jupyter-widgets/controls",
      "model_module_version": "2.0.0",
      "model_name": "HBoxModel",
      "state": {
       "children": [
        "IPY_MODEL_e601dcef5de24930acdc6be7e005315f",
        "IPY_MODEL_a1a66d3b97c74d08880ac3559f3886df",
        "IPY_MODEL_a3fba0a608504173b8b8d59becdb9605"
       ],
       "layout": "IPY_MODEL_65603976f13e44d799e81289d5fdddb0"
      }
     },
     "ac7cf4b26448422bb7efa97f03b0e99e": {
      "model_module": "@jupyter-widgets/controls",
      "model_module_version": "2.0.0",
      "model_name": "HTMLModel",
      "state": {
       "layout": "IPY_MODEL_b25717ea075041f1846d448d4f740120",
       "style": "IPY_MODEL_784fa6fd56ea450189eef8783ade79b6",
       "value": " 18608/18608 [00:02&lt;00:00, 7528.67it/s]"
      }
     },
     "b25717ea075041f1846d448d4f740120": {
      "model_module": "@jupyter-widgets/base",
      "model_module_version": "2.0.0",
      "model_name": "LayoutModel",
      "state": {}
     },
     "b783fdae8cf34275909deb25a7f8a70f": {
      "model_module": "@jupyter-widgets/controls",
      "model_module_version": "2.0.0",
      "model_name": "HTMLModel",
      "state": {
       "layout": "IPY_MODEL_e77a39afe8504887a22fb68112e3b63d",
       "style": "IPY_MODEL_75ea7c2871c542bf9ef570b769b451e2",
       "value": " 18608/18608 [00:02&lt;00:00, 8980.76it/s]"
      }
     },
     "b8971fe1bcab4135ac66d16f09bb64c7": {
      "model_module": "@jupyter-widgets/controls",
      "model_module_version": "2.0.0",
      "model_name": "HTMLModel",
      "state": {
       "layout": "IPY_MODEL_593d630b75034ed794cc40f44569279e",
       "style": "IPY_MODEL_80c2c4a6c7254a9ea7ce5144532ca3e0",
       "value": " 18608/18608 [00:02&lt;00:00, 8824.76it/s]"
      }
     },
     "b8d611825ce345dcb324db45e36ad392": {
      "model_module": "@jupyter-widgets/controls",
      "model_module_version": "2.0.0",
      "model_name": "ProgressStyleModel",
      "state": {
       "description_width": ""
      }
     },
     "bf142d1e0d894774a94b0c5436e2bef6": {
      "model_module": "@jupyter-widgets/base",
      "model_module_version": "2.0.0",
      "model_name": "LayoutModel",
      "state": {}
     },
     "c7bdede72a2a489184617f4cb0f65afa": {
      "model_module": "@jupyter-widgets/controls",
      "model_module_version": "2.0.0",
      "model_name": "HTMLModel",
      "state": {
       "layout": "IPY_MODEL_2c8859f42d45499192fb4191c9691822",
       "style": "IPY_MODEL_5a2cfbbffcfb450b8469c3cf20415a7d",
       "value": "Fetching many movies from TMDB: 100%"
      }
     },
     "c8f73c8d49da4141b38615387b50a7a3": {
      "model_module": "@jupyter-widgets/controls",
      "model_module_version": "2.0.0",
      "model_name": "HTMLModel",
      "state": {
       "layout": "IPY_MODEL_83ae69d6e0dd4ddd9a3a4ae09c38ea66",
       "style": "IPY_MODEL_24f488fc49e54ee38c8e6746be2c3c12",
       "value": "Fetching many movies from TMDB: 100%"
      }
     },
     "c9e42ed6e035433587a0fbf2043479be": {
      "model_module": "@jupyter-widgets/controls",
      "model_module_version": "2.0.0",
      "model_name": "FloatProgressModel",
      "state": {
       "bar_style": "success",
       "layout": "IPY_MODEL_635851fdd359433eb9fa3a1708c6a73f",
       "max": 18608,
       "style": "IPY_MODEL_b8d611825ce345dcb324db45e36ad392",
       "value": 18608
      }
     },
     "ca29a70063024dfea4d97e53e7e88d7e": {
      "model_module": "@jupyter-widgets/base",
      "model_module_version": "2.0.0",
      "model_name": "LayoutModel",
      "state": {}
     },
     "cb88419fe94447dfba67a84c39a9a514": {
      "model_module": "@jupyter-widgets/base",
      "model_module_version": "2.0.0",
      "model_name": "LayoutModel",
      "state": {}
     },
     "d097491df54d4909b6695caaf8882235": {
      "model_module": "@jupyter-widgets/controls",
      "model_module_version": "2.0.0",
      "model_name": "HTMLStyleModel",
      "state": {
       "description_width": "",
       "font_size": null,
       "text_color": null
      }
     },
     "d6867661d1c94cdaa4ddc58c75a3215e": {
      "model_module": "@jupyter-widgets/controls",
      "model_module_version": "2.0.0",
      "model_name": "ProgressStyleModel",
      "state": {
       "description_width": ""
      }
     },
     "d689c2cee20b4293a21ce9d8e050664c": {
      "model_module": "@jupyter-widgets/base",
      "model_module_version": "2.0.0",
      "model_name": "LayoutModel",
      "state": {}
     },
     "dd5be5706baf47bc98c188ea8754da75": {
      "model_module": "@jupyter-widgets/controls",
      "model_module_version": "2.0.0",
      "model_name": "HBoxModel",
      "state": {
       "children": [
        "IPY_MODEL_3e3329bbab3644bcaa99ca73c7823559",
        "IPY_MODEL_f9da79ee288f4f099005a6dd29cbb56c",
        "IPY_MODEL_b8971fe1bcab4135ac66d16f09bb64c7"
       ],
       "layout": "IPY_MODEL_51f7b4d5674247b9b39b87fdaba90b0f"
      }
     },
     "dd5c1d4080f1470392025b6082f77d26": {
      "model_module": "@jupyter-widgets/base",
      "model_module_version": "2.0.0",
      "model_name": "LayoutModel",
      "state": {}
     },
     "e0064fd525bb48b399a6abf0bf69a314": {
      "model_module": "@jupyter-widgets/controls",
      "model_module_version": "2.0.0",
      "model_name": "ProgressStyleModel",
      "state": {
       "description_width": ""
      }
     },
     "e3c6ce9cc0b945a4818394c87e48869f": {
      "model_module": "@jupyter-widgets/controls",
      "model_module_version": "2.0.0",
      "model_name": "HBoxModel",
      "state": {
       "children": [
        "IPY_MODEL_c7bdede72a2a489184617f4cb0f65afa",
        "IPY_MODEL_49f44ce42c4849e18d6fbdd9ed65facf",
        "IPY_MODEL_8bcab71d4de84174bcde04d60080bed2"
       ],
       "layout": "IPY_MODEL_273504ba6d364ddf99834d1212a7bf96"
      }
     },
     "e56ebf1c7d99469ea64d4b45d20b35a7": {
      "model_module": "@jupyter-widgets/controls",
      "model_module_version": "2.0.0",
      "model_name": "HBoxModel",
      "state": {
       "children": [
        "IPY_MODEL_0229097ba8a04bb59e725cec08a427fc",
        "IPY_MODEL_85d7735d889a45c59145d5ec96699f21",
        "IPY_MODEL_f2a5931f2ad940f385ce4a7ca788693a"
       ],
       "layout": "IPY_MODEL_26b82e2fd32c4eefaaf4bb11e72ce5a3"
      }
     },
     "e601dcef5de24930acdc6be7e005315f": {
      "model_module": "@jupyter-widgets/controls",
      "model_module_version": "2.0.0",
      "model_name": "HTMLModel",
      "state": {
       "layout": "IPY_MODEL_84483b94643849baa27f96c2962ebd58",
       "style": "IPY_MODEL_58228f43c38342e5b5fdc1646e96d128",
       "value": "Fetching many movies from TMDB: 100%"
      }
     },
     "e779568e4aeb450088deec439fa12a5b": {
      "model_module": "@jupyter-widgets/base",
      "model_module_version": "2.0.0",
      "model_name": "LayoutModel",
      "state": {}
     },
     "e77a39afe8504887a22fb68112e3b63d": {
      "model_module": "@jupyter-widgets/base",
      "model_module_version": "2.0.0",
      "model_name": "LayoutModel",
      "state": {}
     },
     "ec095f9e73b9440ca73b142e5e086498": {
      "model_module": "@jupyter-widgets/base",
      "model_module_version": "2.0.0",
      "model_name": "LayoutModel",
      "state": {}
     },
     "f14aaafa3bfa4d7e81b46b9262a5bb15": {
      "model_module": "@jupyter-widgets/base",
      "model_module_version": "2.0.0",
      "model_name": "LayoutModel",
      "state": {}
     },
     "f2a5931f2ad940f385ce4a7ca788693a": {
      "model_module": "@jupyter-widgets/controls",
      "model_module_version": "2.0.0",
      "model_name": "HTMLModel",
      "state": {
       "layout": "IPY_MODEL_e779568e4aeb450088deec439fa12a5b",
       "style": "IPY_MODEL_03895ef8fa254468b185305236202b1d",
       "value": " 18608/18608 [00:02&lt;00:00, 8970.69it/s]"
      }
     },
     "f3ea52a66ce94f7e82ead8d885b3da63": {
      "model_module": "@jupyter-widgets/base",
      "model_module_version": "2.0.0",
      "model_name": "LayoutModel",
      "state": {}
     },
     "f54606ea5cec4f27aa8a5e0dc29cea03": {
      "model_module": "@jupyter-widgets/controls",
      "model_module_version": "2.0.0",
      "model_name": "HTMLModel",
      "state": {
       "layout": "IPY_MODEL_ec095f9e73b9440ca73b142e5e086498",
       "style": "IPY_MODEL_110dbeb4a12e4c638bf584630b69ae08",
       "value": "Fetching many movies from TMDB: 100%"
      }
     },
     "f944791c75624efda0ad2cbf20d94599": {
      "model_module": "@jupyter-widgets/controls",
      "model_module_version": "2.0.0",
      "model_name": "HTMLStyleModel",
      "state": {
       "description_width": "",
       "font_size": null,
       "text_color": null
      }
     },
     "f9da79ee288f4f099005a6dd29cbb56c": {
      "model_module": "@jupyter-widgets/controls",
      "model_module_version": "2.0.0",
      "model_name": "FloatProgressModel",
      "state": {
       "bar_style": "success",
       "layout": "IPY_MODEL_f3ea52a66ce94f7e82ead8d885b3da63",
       "max": 18608,
       "style": "IPY_MODEL_d6867661d1c94cdaa4ddc58c75a3215e",
       "value": 18608
      }
     },
     "ff7230a83404494ea2bd5eae583fe570": {
      "model_module": "@jupyter-widgets/base",
      "model_module_version": "2.0.0",
      "model_name": "LayoutModel",
      "state": {}
     }
    },
    "version_major": 2,
    "version_minor": 0
   }
  }
 },
 "nbformat": 4,
 "nbformat_minor": 5
}
