{
 "cells": [
  {
   "cell_type": "markdown",
   "id": "0417277b-47df-4113-a7b3-8f960db06f1d",
   "metadata": {
    "tags": []
   },
   "source": [
    "# Recommender ChatBot: Load items and interactions to API"
   ]
  },
  {
   "cell_type": "code",
   "execution_count": 1,
   "id": "35e430dd-e279-4258-82a4-6b7a1347304b",
   "metadata": {},
   "outputs": [],
   "source": [
    "%load_ext autoreload\n",
    "%autoreload 2"
   ]
  },
  {
   "cell_type": "code",
   "execution_count": 2,
   "id": "834b2f2d-4103-4cf5-880d-10404d8ec7d3",
   "metadata": {},
   "outputs": [],
   "source": [
    "BASE_PATH    = '../..'\n",
    "LIB_PATH     = f'{BASE_PATH}/lib'\n",
    "DATASET_PATH = f'{BASE_PATH}/datasets'\n",
    "ITEMS_PATH   = f'{DATASET_PATH}/chatbot-api-movies.json'"
   ]
  },
  {
   "cell_type": "code",
   "execution_count": 3,
   "id": "f98e7bf4-f41a-43f6-b7b7-a991d00f82de",
   "metadata": {},
   "outputs": [
    {
     "name": "stderr",
     "output_type": "stream",
     "text": [
      "2024-02-17 23:01:57.529008: I tensorflow/core/platform/cpu_feature_guard.cc:182] This TensorFlow binary is optimized to use available CPU instructions in performance-critical operations.\n",
      "To enable the following instructions: AVX2 FMA, in other operations, rebuild TensorFlow with the appropriate compiler flags.\n",
      "2024-02-17 23:01:57.937725: W tensorflow/compiler/tf2tensorrt/utils/py_utils.cc:38] TF-TRT Warning: Could not find TensorRT\n",
      "2024-02-17 23:01:58.317126: I tensorflow/compiler/xla/stream_executor/cuda/cuda_gpu_executor.cc:996] successful NUMA node read from SysFS had negative value (-1), but there must be at least one NUMA node, so returning NUMA node zero. See more at https://github.com/torvalds/linux/blob/v6.0/Documentation/ABI/testing/sysfs-bus-pci#L344-L355\n",
      "2024-02-17 23:01:58.327752: W tensorflow/core/common_runtime/gpu/gpu_device.cc:1956] Cannot dlopen some GPU libraries. Please make sure the missing libraries mentioned above are installed properly if you would like to use GPU. Follow the guide at https://www.tensorflow.org/install/gpu for how to download and setup the required libraries for your platform.\n",
      "Skipping registering GPU devices...\n"
     ]
    },
    {
     "data": {
      "text/plain": [
       "<Figure size 640x480 with 0 Axes>"
      ]
     },
     "metadata": {},
     "output_type": "display_data"
    }
   ],
   "source": [
    "import sys\n",
    "sys.path.append(LIB_PATH)\n",
    "\n",
    "import pandas as pd\n",
    "\n",
    "import util as ut\n",
    "\n",
    "import torch\n",
    "import data as dt\n",
    "import data.dataset as ds\n",
    "\n",
    "import os\n",
    "\n",
    "from rest import RecChatBotV1ApiClient"
   ]
  },
  {
   "cell_type": "markdown",
   "id": "3c3181ae-8caf-4d7b-9977-a1512c05441c",
   "metadata": {},
   "source": [
    "# Common Functions and Classes"
   ]
  },
  {
   "cell_type": "markdown",
   "id": "65786725-d3e4-414b-949d-3dd793a27cfa",
   "metadata": {},
   "source": [
    "# Load Dataset"
   ]
  },
  {
   "cell_type": "code",
   "execution_count": 4,
   "id": "380097ca-a1ae-4a01-bc4b-94f3e291a9d1",
   "metadata": {
    "tags": []
   },
   "outputs": [],
   "source": [
    "def to_tensor(obs, device, columns): \n",
    "    data = obs[columns]\n",
    "    if type(data) == pd.DataFrame:\n",
    "        data = data.values\n",
    "    return torch.tensor(data).to(device)\n",
    "\n",
    "features_fn = lambda obs, device: to_tensor(obs, device, ['user_seq', 'movie_seq'])\n",
    "target_fn   = lambda obs, device: to_tensor(obs, device, ['user_movie_rating'])"
   ]
  },
  {
   "cell_type": "code",
   "execution_count": 5,
   "id": "16fadfb3-65e3-463b-adb3-568d37d99741",
   "metadata": {
    "tags": []
   },
   "outputs": [],
   "source": [
    "dataset = ds.MovieLensTMDBDatasetFactory.from_path(\n",
    "    path             = DATASET_PATH,\n",
    "    transform        = features_fn,\n",
    "    target_transform = target_fn,\n",
    "    device           = torch.device('cpu'),\n",
    "    filter_fn        = lambda df: df[(df['user_movie_rating_year'] >= 2004)]\n",
    ")"
   ]
  },
  {
   "cell_type": "code",
   "execution_count": 6,
   "id": "8bcf461e-9eeb-485d-815f-ed851802205c",
   "metadata": {
    "tags": []
   },
   "outputs": [
    {
     "data": {
      "text/plain": [
       "Index(['user_id', 'user_seq', 'user_movie_tags', 'user_movie_rating',\n",
       "       'user_movie_rating_timestamp', 'user_movie_rating_year', 'movie_id',\n",
       "       'movie_seq', 'movie_title', 'movie_genres', 'movie_for_adults',\n",
       "       'movie_original_language', 'movie_overview', 'movie_tags',\n",
       "       'movie_release_year', 'movie_imdb_id'],\n",
       "      dtype='object')"
      ]
     },
     "execution_count": 6,
     "metadata": {},
     "output_type": "execute_result"
    }
   ],
   "source": [
    "dataset.data.columns"
   ]
  },
  {
   "cell_type": "code",
   "execution_count": 7,
   "id": "5298394f-02a9-41ed-b53e-48fcc87c206e",
   "metadata": {
    "tags": []
   },
   "outputs": [],
   "source": [
    "if not os.path.exists(ITEMS_PATH):\n",
    "    items = dataset \\\n",
    "        .data[['movie_id', 'movie_title', 'movie_genres', 'movie_overview', 'movie_release_year', 'movie_imdb_id', 'user_movie_rating']]\n",
    "\n",
    "    item_mean_rating = items.groupby(['movie_id'])['user_movie_rating'].mean().reset_index()\n",
    "    items = items.drop_duplicates(subset=['movie_id']).drop(columns=['user_movie_rating'])\n",
    "    items[items['movie_title'] == 'Paths of Glory']\n",
    "    items = items.merge(item_mean_rating, on='movie_id')\n",
    "    items"
   ]
  },
  {
   "cell_type": "markdown",
   "id": "4d007964-e26f-4d82-83fb-4ac728598fe4",
   "metadata": {},
   "source": [
    "## Populate items poster"
   ]
  },
  {
   "cell_type": "code",
   "execution_count": 8,
   "id": "2676bad4-701e-4699-b236-a52990a317c2",
   "metadata": {
    "tags": []
   },
   "outputs": [],
   "source": [
    "if not os.path.exists(ITEMS_PATH):\n",
    "    from rest import TMDBApiClient\n",
    "    import logging\n",
    "\n",
    "    client = TMDBApiClient()\n",
    "\n",
    "    with dt.progress_bar(items.shape[0], title='Processing') as pb:\n",
    "        def resolve_url(title):\n",
    "            return (title, client.find_poster_by(title))\n",
    "\n",
    "        params = [[row['movie_title']] for _, row in items.iterrows()]\n",
    "\n",
    "        poster_by_id = ut.ParallelExecutor()(\n",
    "            resolve_url,\n",
    "            params = params,\n",
    "            fallback_result = None\n",
    "        )\n",
    "\n",
    "        poster_by_id = {item[0]: item[1] for item in poster_by_id}"
   ]
  },
  {
   "cell_type": "code",
   "execution_count": 9,
   "id": "504c42cb-ca64-482b-ad13-616dc4a34dcd",
   "metadata": {
    "tags": []
   },
   "outputs": [],
   "source": [
    "if not os.path.exists(ITEMS_PATH):\n",
    "    items['poster'] = items['movie_title'].apply(lambda title: poster_by_id[title])\n",
    "    ut.save_df(items, f'{DATASET_PATH}/chatbot-api-movies.json')"
   ]
  },
  {
   "cell_type": "markdown",
   "id": "acdacf69-0f79-4e0d-b4c8-cffbfd53e62f",
   "metadata": {},
   "source": [
    "## Load builded items"
   ]
  },
  {
   "cell_type": "code",
   "execution_count": 10,
   "id": "f3e7834a-c9cf-4564-8b93-e8d96e259492",
   "metadata": {
    "tags": []
   },
   "outputs": [],
   "source": [
    "items = ut.load_df(f'{DATASET_PATH}/chatbot-api-movies.json')"
   ]
  },
  {
   "cell_type": "code",
   "execution_count": 11,
   "id": "ab4bb6c5-0c07-40c6-b039-35b060f84517",
   "metadata": {
    "tags": []
   },
   "outputs": [
    {
     "data": {
      "text/html": [
       "<div>\n",
       "<style scoped>\n",
       "    .dataframe tbody tr th:only-of-type {\n",
       "        vertical-align: middle;\n",
       "    }\n",
       "\n",
       "    .dataframe tbody tr th {\n",
       "        vertical-align: top;\n",
       "    }\n",
       "\n",
       "    .dataframe thead th {\n",
       "        text-align: right;\n",
       "    }\n",
       "</style>\n",
       "<table border=\"1\" class=\"dataframe\">\n",
       "  <thead>\n",
       "    <tr style=\"text-align: right;\">\n",
       "      <th></th>\n",
       "      <th>movie_title</th>\n",
       "      <th>poster</th>\n",
       "    </tr>\n",
       "  </thead>\n",
       "  <tbody>\n",
       "    <tr>\n",
       "      <th>0</th>\n",
       "      <td>Toy Story</td>\n",
       "      <td>http://image.tmdb.org/t/p/w500/uXDfjJbdP4ijW5hWSBrPrlKpxab.jpg</td>\n",
       "    </tr>\n",
       "    <tr>\n",
       "      <th>1</th>\n",
       "      <td>Clueless</td>\n",
       "      <td>http://image.tmdb.org/t/p/w500/8AwVTcgpTnmeOs4TdTWqcFDXEsA.jpg</td>\n",
       "    </tr>\n",
       "    <tr>\n",
       "      <th>2</th>\n",
       "      <td>While You Were Sleeping</td>\n",
       "      <td>http://image.tmdb.org/t/p/w500/qNGO3ETcNwlWqK2kNRpbJSJRlos.jpg</td>\n",
       "    </tr>\n",
       "    <tr>\n",
       "      <th>3</th>\n",
       "      <td>Forrest Gump</td>\n",
       "      <td>http://image.tmdb.org/t/p/w500/arw2vcBveWOVZr6pxd9XTd1TdQa.jpg</td>\n",
       "    </tr>\n",
       "    <tr>\n",
       "      <th>4</th>\n",
       "      <td>Pretty Woman</td>\n",
       "      <td>http://image.tmdb.org/t/p/w500/hVHUfT801LQATGd26VPzhorIYza.jpg</td>\n",
       "    </tr>\n",
       "  </tbody>\n",
       "</table>\n",
       "</div>"
      ],
      "text/plain": [
       "                movie_title  \\\n",
       "0                Toy Story    \n",
       "1                 Clueless    \n",
       "2  While You Were Sleeping    \n",
       "3             Forrest Gump    \n",
       "4             Pretty Woman    \n",
       "\n",
       "                                                           poster  \n",
       "0  http://image.tmdb.org/t/p/w500/uXDfjJbdP4ijW5hWSBrPrlKpxab.jpg  \n",
       "1  http://image.tmdb.org/t/p/w500/8AwVTcgpTnmeOs4TdTWqcFDXEsA.jpg  \n",
       "2  http://image.tmdb.org/t/p/w500/qNGO3ETcNwlWqK2kNRpbJSJRlos.jpg  \n",
       "3  http://image.tmdb.org/t/p/w500/arw2vcBveWOVZr6pxd9XTd1TdQa.jpg  \n",
       "4  http://image.tmdb.org/t/p/w500/hVHUfT801LQATGd26VPzhorIYza.jpg  "
      ]
     },
     "execution_count": 11,
     "metadata": {},
     "output_type": "execute_result"
    }
   ],
   "source": [
    "pd.set_option('display.max_colwidth', None)\n",
    "items[['movie_title', 'poster']].head()"
   ]
  },
  {
   "cell_type": "code",
   "execution_count": 12,
   "id": "43f5059e-7e84-4b1c-8370-4c2b8abe1cf7",
   "metadata": {
    "tags": []
   },
   "outputs": [
    {
     "data": {
      "text/html": [
       "<div>\n",
       "<style scoped>\n",
       "    .dataframe tbody tr th:only-of-type {\n",
       "        vertical-align: middle;\n",
       "    }\n",
       "\n",
       "    .dataframe tbody tr th {\n",
       "        vertical-align: top;\n",
       "    }\n",
       "\n",
       "    .dataframe thead th {\n",
       "        text-align: right;\n",
       "    }\n",
       "</style>\n",
       "<table border=\"1\" class=\"dataframe\">\n",
       "  <thead>\n",
       "    <tr style=\"text-align: right;\">\n",
       "      <th></th>\n",
       "      <th>user_id</th>\n",
       "      <th>item_id</th>\n",
       "      <th>rating</th>\n",
       "      <th>timestamp</th>\n",
       "    </tr>\n",
       "  </thead>\n",
       "  <tbody>\n",
       "    <tr>\n",
       "      <th>0</th>\n",
       "      <td>100538</td>\n",
       "      <td>1</td>\n",
       "      <td>4</td>\n",
       "      <td>2019-01-01 21:11:09</td>\n",
       "    </tr>\n",
       "    <tr>\n",
       "      <th>496</th>\n",
       "      <td>100538</td>\n",
       "      <td>39</td>\n",
       "      <td>3</td>\n",
       "      <td>2019-01-03 11:58:44</td>\n",
       "    </tr>\n",
       "    <tr>\n",
       "      <th>8785</th>\n",
       "      <td>100538</td>\n",
       "      <td>339</td>\n",
       "      <td>3</td>\n",
       "      <td>2019-01-04 08:18:24</td>\n",
       "    </tr>\n",
       "    <tr>\n",
       "      <th>9194</th>\n",
       "      <td>100538</td>\n",
       "      <td>356</td>\n",
       "      <td>4</td>\n",
       "      <td>2019-01-03 10:37:28</td>\n",
       "    </tr>\n",
       "    <tr>\n",
       "      <th>14189</th>\n",
       "      <td>100538</td>\n",
       "      <td>597</td>\n",
       "      <td>4</td>\n",
       "      <td>2019-01-03 11:55:57</td>\n",
       "    </tr>\n",
       "  </tbody>\n",
       "</table>\n",
       "</div>"
      ],
      "text/plain": [
       "       user_id  item_id  rating           timestamp\n",
       "0       100538        1       4 2019-01-01 21:11:09\n",
       "496     100538       39       3 2019-01-03 11:58:44\n",
       "8785    100538      339       3 2019-01-04 08:18:24\n",
       "9194    100538      356       4 2019-01-03 10:37:28\n",
       "14189   100538      597       4 2019-01-03 11:55:57"
      ]
     },
     "execution_count": 12,
     "metadata": {},
     "output_type": "execute_result"
    }
   ],
   "source": [
    "interactions = dataset \\\n",
    "    .data[['user_id', 'movie_id', 'user_movie_rating', 'user_movie_rating_timestamp']] \\\n",
    "    .rename(columns={\n",
    "        'user_movie_rating'           : 'rating',\n",
    "        'movie_id'                    : 'item_id',\n",
    "        'user_movie_rating_timestamp' : 'timestamp'\n",
    "    })\n",
    "\n",
    "interactions.head()"
   ]
  },
  {
   "cell_type": "code",
   "execution_count": 137,
   "id": "7f80267b-81f3-434d-9422-ce53e08ce2a0",
   "metadata": {
    "tags": []
   },
   "outputs": [
    {
     "data": {
      "text/plain": [
       "(14, 8)"
      ]
     },
     "execution_count": 137,
     "metadata": {},
     "output_type": "execute_result"
    }
   ],
   "source": [
    "incomplete_items = items[((items['movie_overview'] == 'No overview found.') | (items['movie_overview'] == ''))]\n",
    "incomplete_items.shape"
   ]
  },
  {
   "cell_type": "code",
   "execution_count": 138,
   "id": "54578379-9c8e-4f4d-9c8d-0a2058d0fadf",
   "metadata": {
    "tags": []
   },
   "outputs": [],
   "source": [
    "from rest import TMDBApiClient\n",
    "\n",
    "\n",
    "data = {}\n",
    "for idx, row  in incomplete_items.iterrows():\n",
    "    client = TMDBApiClient()\n",
    "    data[row['movie_id']] = client.find_movies_by(row['movie_title'])"
   ]
  },
  {
   "cell_type": "code",
   "execution_count": 135,
   "id": "c80eb9fb-bc95-4884-b925-45d9e4290287",
   "metadata": {
    "tags": []
   },
   "outputs": [],
   "source": [
    "def resolve_overview(data, row):\n",
    "    if row['movie_id'] in data:\n",
    "        movies = data[row['movie_id']]\n",
    "        if len(movies) > 0:\n",
    "            previous_title_match = False\n",
    "            for movie in movies:\n",
    "                if previous_title_match == False:\n",
    "                    title_match = row['movie_title'].strip().lower() == movie['title'].strip().lower() or row['movie_title'].strip().lower() == movie['original_title'].strip().lower()\n",
    "                \n",
    "                if (title_match or previous_title_match) and len(movie['overview']) > 0:\n",
    "                    return movie['overview']\n",
    "\n",
    "                previous_title_match = title_match\n",
    "                \n",
    "    return row['movie_overview']\n",
    "\n",
    "items['movie_overview'] = items.apply(lambda row: resolve_overview(data, row), axis=1) "
   ]
  },
  {
   "cell_type": "code",
   "execution_count": 136,
   "id": "ae15bc2e-fdc8-463b-91d2-690a2b4cebee",
   "metadata": {
    "tags": []
   },
   "outputs": [
    {
     "data": {
      "text/html": [
       "<div>\n",
       "<style scoped>\n",
       "    .dataframe tbody tr th:only-of-type {\n",
       "        vertical-align: middle;\n",
       "    }\n",
       "\n",
       "    .dataframe tbody tr th {\n",
       "        vertical-align: top;\n",
       "    }\n",
       "\n",
       "    .dataframe thead th {\n",
       "        text-align: right;\n",
       "    }\n",
       "</style>\n",
       "<table border=\"1\" class=\"dataframe\">\n",
       "  <thead>\n",
       "    <tr style=\"text-align: right;\">\n",
       "      <th></th>\n",
       "      <th>movie_id</th>\n",
       "      <th>movie_title</th>\n",
       "      <th>movie_genres</th>\n",
       "      <th>movie_overview</th>\n",
       "      <th>movie_release_year</th>\n",
       "      <th>movie_imdb_id</th>\n",
       "      <th>user_movie_rating</th>\n",
       "      <th>poster</th>\n",
       "    </tr>\n",
       "  </thead>\n",
       "  <tbody>\n",
       "    <tr>\n",
       "      <th>11005</th>\n",
       "      <td>101629</td>\n",
       "      <td>King - Jari Litmanen, The</td>\n",
       "      <td>[Documentary]</td>\n",
       "      <td></td>\n",
       "      <td>2012</td>\n",
       "      <td>2316787</td>\n",
       "      <td>4.0</td>\n",
       "      <td>http://image.tmdb.org/t/p/w500None</td>\n",
       "    </tr>\n",
       "    <tr>\n",
       "      <th>12040</th>\n",
       "      <td>120484</td>\n",
       "      <td>Lille Fridolf and I</td>\n",
       "      <td>[Comedy]</td>\n",
       "      <td></td>\n",
       "      <td>1956</td>\n",
       "      <td>49444</td>\n",
       "      <td>3.0</td>\n",
       "      <td>None</td>\n",
       "    </tr>\n",
       "    <tr>\n",
       "      <th>13033</th>\n",
       "      <td>87063</td>\n",
       "      <td>Bis zum Ellenbogen</td>\n",
       "      <td>[Comedy]</td>\n",
       "      <td></td>\n",
       "      <td>2007</td>\n",
       "      <td>818108</td>\n",
       "      <td>3.0</td>\n",
       "      <td>http://image.tmdb.org/t/p/w500/cGYAVxSL1cQcFgUWE0F80FBe7kM.jpg</td>\n",
       "    </tr>\n",
       "    <tr>\n",
       "      <th>13036</th>\n",
       "      <td>87769</td>\n",
       "      <td>Die Frau des Frisörs</td>\n",
       "      <td>[Drama]</td>\n",
       "      <td></td>\n",
       "      <td>2008</td>\n",
       "      <td>1105294</td>\n",
       "      <td>3.0</td>\n",
       "      <td>http://image.tmdb.org/t/p/w500None</td>\n",
       "    </tr>\n",
       "    <tr>\n",
       "      <th>13039</th>\n",
       "      <td>88053</td>\n",
       "      <td>Hangtime - Kein leichtes Spiel</td>\n",
       "      <td>[Drama]</td>\n",
       "      <td></td>\n",
       "      <td>2009</td>\n",
       "      <td>1288502</td>\n",
       "      <td>3.0</td>\n",
       "      <td>http://image.tmdb.org/t/p/w500/zUmIgRtXLusjodCzxUpYDArfiBX.jpg</td>\n",
       "    </tr>\n",
       "    <tr>\n",
       "      <th>13042</th>\n",
       "      <td>89926</td>\n",
       "      <td>At Any Second</td>\n",
       "      <td>[Drama]</td>\n",
       "      <td></td>\n",
       "      <td>2008</td>\n",
       "      <td>1315582</td>\n",
       "      <td>3.0</td>\n",
       "      <td>None</td>\n",
       "    </tr>\n",
       "    <tr>\n",
       "      <th>13065</th>\n",
       "      <td>110671</td>\n",
       "      <td>Cutlet for Three</td>\n",
       "      <td>[Comedy]</td>\n",
       "      <td></td>\n",
       "      <td>2010</td>\n",
       "      <td>1327702</td>\n",
       "      <td>2.0</td>\n",
       "      <td>None</td>\n",
       "    </tr>\n",
       "    <tr>\n",
       "      <th>13140</th>\n",
       "      <td>113256</td>\n",
       "      <td>New Jean-Claude, The</td>\n",
       "      <td>[Comedy, Romance]</td>\n",
       "      <td></td>\n",
       "      <td>2002</td>\n",
       "      <td>297314</td>\n",
       "      <td>4.0</td>\n",
       "      <td>None</td>\n",
       "    </tr>\n",
       "    <tr>\n",
       "      <th>13148</th>\n",
       "      <td>117535</td>\n",
       "      <td>Dans la peau d'une grande</td>\n",
       "      <td>[Comedy]</td>\n",
       "      <td></td>\n",
       "      <td>2011</td>\n",
       "      <td>1967481</td>\n",
       "      <td>4.0</td>\n",
       "      <td>http://image.tmdb.org/t/p/w500/8Z76AGUhVieAMcPbGSoB5hES9ju.jpg</td>\n",
       "    </tr>\n",
       "    <tr>\n",
       "      <th>13155</th>\n",
       "      <td>130058</td>\n",
       "      <td>Des roses en hiver</td>\n",
       "      <td>[Drama]</td>\n",
       "      <td></td>\n",
       "      <td>2014</td>\n",
       "      <td>3432260</td>\n",
       "      <td>1.0</td>\n",
       "      <td>http://image.tmdb.org/t/p/w500/99Gj5eYOL8s5E52d2fJkkx9wPoL.jpg</td>\n",
       "    </tr>\n",
       "    <tr>\n",
       "      <th>13555</th>\n",
       "      <td>86083</td>\n",
       "      <td>Crazy Class Wakes Up, The</td>\n",
       "      <td>[Comedy]</td>\n",
       "      <td>No overview found.</td>\n",
       "      <td>1976</td>\n",
       "      <td>252490</td>\n",
       "      <td>5.0</td>\n",
       "      <td>None</td>\n",
       "    </tr>\n",
       "    <tr>\n",
       "      <th>13723</th>\n",
       "      <td>126000</td>\n",
       "      <td>Marilyn in Manhattan</td>\n",
       "      <td>[(no genres listed)]</td>\n",
       "      <td></td>\n",
       "      <td>1998</td>\n",
       "      <td>325794</td>\n",
       "      <td>3.0</td>\n",
       "      <td>http://image.tmdb.org/t/p/w500None</td>\n",
       "    </tr>\n",
       "    <tr>\n",
       "      <th>15275</th>\n",
       "      <td>161512</td>\n",
       "      <td>I tromboni di Fra' Diavolo</td>\n",
       "      <td>[(no genres listed)]</td>\n",
       "      <td></td>\n",
       "      <td>1962</td>\n",
       "      <td>55995</td>\n",
       "      <td>3.0</td>\n",
       "      <td>http://image.tmdb.org/t/p/w500/qnHmPxKoeSbNsut7KXHJbQ6rDHX.jpg</td>\n",
       "    </tr>\n",
       "    <tr>\n",
       "      <th>18238</th>\n",
       "      <td>108473</td>\n",
       "      <td>Laterna, ftoheia kai garyfallo</td>\n",
       "      <td>[Comedy, Drama, Romance]</td>\n",
       "      <td></td>\n",
       "      <td>1954</td>\n",
       "      <td>135520</td>\n",
       "      <td>4.0</td>\n",
       "      <td>http://image.tmdb.org/t/p/w500/7lPpNR6ofU7sCvDFfRSB1Wrwcmj.jpg</td>\n",
       "    </tr>\n",
       "  </tbody>\n",
       "</table>\n",
       "</div>"
      ],
      "text/plain": [
       "       movie_id                      movie_title              movie_genres  \\\n",
       "11005    101629       King - Jari Litmanen, The              [Documentary]   \n",
       "12040    120484             Lille Fridolf and I                   [Comedy]   \n",
       "13033     87063              Bis zum Ellenbogen                   [Comedy]   \n",
       "13036     87769            Die Frau des Frisörs                    [Drama]   \n",
       "13039     88053  Hangtime - Kein leichtes Spiel                    [Drama]   \n",
       "13042     89926                   At Any Second                    [Drama]   \n",
       "13065    110671                Cutlet for Three                   [Comedy]   \n",
       "13140    113256            New Jean-Claude, The          [Comedy, Romance]   \n",
       "13148    117535       Dans la peau d'une grande                   [Comedy]   \n",
       "13155    130058              Des roses en hiver                    [Drama]   \n",
       "13555     86083       Crazy Class Wakes Up, The                   [Comedy]   \n",
       "13723    126000            Marilyn in Manhattan       [(no genres listed)]   \n",
       "15275    161512      I tromboni di Fra' Diavolo       [(no genres listed)]   \n",
       "18238    108473  Laterna, ftoheia kai garyfallo   [Comedy, Drama, Romance]   \n",
       "\n",
       "           movie_overview  movie_release_year  movie_imdb_id  \\\n",
       "11005                                    2012        2316787   \n",
       "12040                                    1956          49444   \n",
       "13033                                    2007         818108   \n",
       "13036                                    2008        1105294   \n",
       "13039                                    2009        1288502   \n",
       "13042                                    2008        1315582   \n",
       "13065                                    2010        1327702   \n",
       "13140                                    2002         297314   \n",
       "13148                                    2011        1967481   \n",
       "13155                                    2014        3432260   \n",
       "13555  No overview found.                1976         252490   \n",
       "13723                                    1998         325794   \n",
       "15275                                    1962          55995   \n",
       "18238                                    1954         135520   \n",
       "\n",
       "       user_movie_rating  \\\n",
       "11005                4.0   \n",
       "12040                3.0   \n",
       "13033                3.0   \n",
       "13036                3.0   \n",
       "13039                3.0   \n",
       "13042                3.0   \n",
       "13065                2.0   \n",
       "13140                4.0   \n",
       "13148                4.0   \n",
       "13155                1.0   \n",
       "13555                5.0   \n",
       "13723                3.0   \n",
       "15275                3.0   \n",
       "18238                4.0   \n",
       "\n",
       "                                                               poster  \n",
       "11005                              http://image.tmdb.org/t/p/w500None  \n",
       "12040                                                            None  \n",
       "13033  http://image.tmdb.org/t/p/w500/cGYAVxSL1cQcFgUWE0F80FBe7kM.jpg  \n",
       "13036                              http://image.tmdb.org/t/p/w500None  \n",
       "13039  http://image.tmdb.org/t/p/w500/zUmIgRtXLusjodCzxUpYDArfiBX.jpg  \n",
       "13042                                                            None  \n",
       "13065                                                            None  \n",
       "13140                                                            None  \n",
       "13148  http://image.tmdb.org/t/p/w500/8Z76AGUhVieAMcPbGSoB5hES9ju.jpg  \n",
       "13155  http://image.tmdb.org/t/p/w500/99Gj5eYOL8s5E52d2fJkkx9wPoL.jpg  \n",
       "13555                                                            None  \n",
       "13723                              http://image.tmdb.org/t/p/w500None  \n",
       "15275  http://image.tmdb.org/t/p/w500/qnHmPxKoeSbNsut7KXHJbQ6rDHX.jpg  \n",
       "18238  http://image.tmdb.org/t/p/w500/7lPpNR6ofU7sCvDFfRSB1Wrwcmj.jpg  "
      ]
     },
     "execution_count": 136,
     "metadata": {},
     "output_type": "execute_result"
    }
   ],
   "source": [
    "incomplete_items = items[((items['movie_overview'] == 'No overview found.') | (items['movie_overview'] == ''))]\n",
    "incomplete_items"
   ]
  },
  {
   "cell_type": "markdown",
   "id": "cc2a65d7-8b13-4fe7-a7d5-5cfddaae14e0",
   "metadata": {},
   "source": [
    "## Upload item and interaction to RecChatBotAPI"
   ]
  },
  {
   "cell_type": "code",
   "execution_count": 141,
   "id": "caa2b9a8-0d26-40f5-a77b-f69bc8d48e73",
   "metadata": {
    "tags": []
   },
   "outputs": [],
   "source": [
    "client = RecChatBotV1ApiClient()"
   ]
  },
  {
   "cell_type": "code",
   "execution_count": 142,
   "id": "c5373702-c195-4463-9a51-f9d06ac6da8d",
   "metadata": {},
   "outputs": [
    {
     "data": {
      "text/plain": [
       "[]"
      ]
     },
     "execution_count": 142,
     "metadata": {},
     "output_type": "execute_result"
    }
   ],
   "source": [
    "client.add_items(items)"
   ]
  },
  {
   "cell_type": "code",
   "execution_count": 38,
   "id": "c71db982-80c6-426a-9b0e-246130b455e1",
   "metadata": {
    "tags": []
   },
   "outputs": [
    {
     "data": {
      "text/plain": [
       "[]"
      ]
     },
     "execution_count": 38,
     "metadata": {},
     "output_type": "execute_result"
    }
   ],
   "source": [
    "client.add_interactions(interactions)"
   ]
  }
 ],
 "metadata": {
  "kernelspec": {
   "display_name": "Python 3 (ipykernel)",
   "language": "python",
   "name": "python3"
  },
  "language_info": {
   "codemirror_mode": {
    "name": "ipython",
    "version": 3
   },
   "file_extension": ".py",
   "mimetype": "text/x-python",
   "name": "python",
   "nbconvert_exporter": "python",
   "pygments_lexer": "ipython3",
   "version": "3.10.13"
  },
  "widgets": {
   "application/vnd.jupyter.widget-state+json": {
    "state": {},
    "version_major": 2,
    "version_minor": 0
   }
  }
 },
 "nbformat": 4,
 "nbformat_minor": 5
}
