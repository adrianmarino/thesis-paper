{
 "cells": [
  {
   "cell_type": "markdown",
   "id": "0417277b-47df-4113-a7b3-8f960db06f1d",
   "metadata": {
    "tags": []
   },
   "source": [
    "# Recommender ChatBot: Load items and interactions to API"
   ]
  },
  {
   "cell_type": "code",
   "execution_count": 1,
   "id": "35e430dd-e279-4258-82a4-6b7a1347304b",
   "metadata": {},
   "outputs": [],
   "source": [
    "%load_ext autoreload\n",
    "%autoreload 2"
   ]
  },
  {
   "cell_type": "code",
   "execution_count": 2,
   "id": "834b2f2d-4103-4cf5-880d-10404d8ec7d3",
   "metadata": {},
   "outputs": [],
   "source": [
    "import os\n",
    "\n",
    "BASE_PATH    = '../..'\n",
    "LIB_PATH     = f'{BASE_PATH}/lib'\n",
    "API_PATH     = f'{BASE_PATH}/chat-bot-api'\n",
    "DATASET_PATH = f'{BASE_PATH}/datasets'\n",
    "ITEMS_PATH   = f'{DATASET_PATH}/chatbot-api-movies.json'\n",
    "\n",
    "\n",
    "os.environ['TMP_PATH']               = f'{BASE_PATH}/tmp'\n",
    "os.environ['DATASET_PATH']           = f'{BASE_PATH}/datasets'\n",
    "os.environ['WEIGHTS_PATH']           = f'{BASE_PATH}/weights'\n",
    "os.environ['METRICS_PATH']           = f'{BASE_PATH}/metrics'\n",
    "os.environ['MONGODB_URL']            = 'mongodb://0.0.0.0:27017'\n",
    "os.environ['MONGODB_DATABASE']       = 'chatbot'\n",
    "os.environ['CHROMA_HOST']            = '0.0.0.0'\n",
    "os.environ['CHROMA_PORT']            = '9090'\n",
    "os.environ['TOKENIZERS_PARALLELISM'] = 'false'"
   ]
  },
  {
   "cell_type": "code",
   "execution_count": 208,
   "id": "f98e7bf4-f41a-43f6-b7b7-a991d00f82de",
   "metadata": {},
   "outputs": [],
   "source": [
    "import sys\n",
    "sys.path.append(LIB_PATH)\n",
    "sys.path.append(API_PATH)\n",
    "\n",
    "import pandas as pd\n",
    "\n",
    "import util as ut\n",
    "\n",
    "import torch\n",
    "import data as dt\n",
    "import data.dataset as ds\n",
    "\n",
    "import os\n",
    "\n",
    "from rest import RecChatBotV1ApiClient\n",
    "\n",
    "from services import ItemSimQuery\n",
    "\n",
    "from app_context import AppContext\n",
    "\n",
    "import pytorch_common.util as pu\n",
    "from datetime import datetime"
   ]
  },
  {
   "cell_type": "markdown",
   "id": "79e81931-af14-4688-9925-dd53c93ae7f4",
   "metadata": {},
   "source": [
    "# Setup"
   ]
  },
  {
   "cell_type": "code",
   "execution_count": 4,
   "id": "df26a2e5-ff38-4ff6-ac42-704866d2a325",
   "metadata": {
    "tags": []
   },
   "outputs": [
    {
     "data": {
      "text/plain": [
       "<RootLogger root (INFO)>"
      ]
     },
     "execution_count": 4,
     "metadata": {},
     "output_type": "execute_result"
    }
   ],
   "source": [
    "pu.LoggerBuilder().on_console().build()"
   ]
  },
  {
   "cell_type": "markdown",
   "id": "3c3181ae-8caf-4d7b-9977-a1512c05441c",
   "metadata": {},
   "source": [
    "# Common Functions and Classes"
   ]
  },
  {
   "cell_type": "code",
   "execution_count": 5,
   "id": "c80eb9fb-bc95-4884-b925-45d9e4290287",
   "metadata": {
    "tags": []
   },
   "outputs": [],
   "source": [
    "def fetch_items_data(df, id_col='movie_id', title_col='movie_title'):\n",
    "    from rest import TMDBApiClient\n",
    "\n",
    "    data = {}\n",
    "    for idx, row  in df.iterrows():\n",
    "        client = TMDBApiClient()\n",
    "        data[row[id_col]] = client.find_movies_by(row[title_col])\n",
    "    \n",
    "    return data\n",
    "\n",
    "def resolve_overview(data, row):\n",
    "    if row['movie_id'] in data:\n",
    "        movies = data[row['movie_id']]\n",
    "        if len(movies) > 0:\n",
    "            previous_title_match = False\n",
    "            for movie in movies:\n",
    "                if previous_title_match == False:\n",
    "                    title_match = row['movie_title'].strip().lower() == movie['title'].strip().lower() or row['movie_title'].strip().lower() == movie['original_title'].strip().lower()\n",
    "                \n",
    "                if (title_match or previous_title_match) and len(movie['overview']) > 0:\n",
    "                    return movie['overview']\n",
    "\n",
    "                previous_title_match = title_match\n",
    "                \n",
    "    return row['movie_overview']"
   ]
  },
  {
   "cell_type": "code",
   "execution_count": 6,
   "id": "6d9151c9-0f97-4c28-a527-a1222ca6dd18",
   "metadata": {
    "tags": []
   },
   "outputs": [],
   "source": [
    "def items_to_df(models):\n",
    "    return pd.DataFrame([\n",
    "        {\n",
    "            'id'          : model.id,\n",
    "            'title'       : model.title,\n",
    "            'release'     : model.release,\n",
    "            'genres'      : model.genres,\n",
    "            'rating'      : model.rating,\n",
    "            'poster'      : model.poster\n",
    "        }\n",
    "        for model in models\n",
    "    ])\n",
    "\n",
    "\n",
    "def ints_to_df(models):\n",
    "    return pd.DataFrame([\n",
    "        {\n",
    "            'item_id' : model.user_id,\n",
    "            'user_id' : model.item_id,\n",
    "            'rating'  : model.rating\n",
    "        }\n",
    "        for model in models\n",
    "    ])"
   ]
  },
  {
   "cell_type": "code",
   "execution_count": 129,
   "id": "755adbd4-d2c0-4f67-9b17-77c652190ded",
   "metadata": {
    "tags": []
   },
   "outputs": [],
   "source": [
    "async def append_popularity_score(items, interactions):\n",
    "    from sklearn.preprocessing import MinMaxScaler\n",
    "\n",
    "    item_votes = interactions \\\n",
    "        .groupby(['item_id'])['user_id'] \\\n",
    "        .size() \\\n",
    "        .reset_index(name='votes') \\\n",
    "        .rename(columns={'item_id': 'id'})\n",
    "\n",
    "    \n",
    "    item_votes['id'] = item_votes['id'].astype(str)\n",
    "\n",
    "    items = item_votes.merge(items, on='id')\n",
    "    \n",
    "    items['votes_norm']       = items['votes'] / items['votes'].max()\n",
    "    items['popularity_score'] = items['rating'] * items['votes_norm']\n",
    "    items = items.drop(['votes_norm'], axis=1)\n",
    "\n",
    "    return items.sort_values(\n",
    "        by        = ['popularity_score'],\n",
    "        ascending = False\n",
    "    )"
   ]
  },
  {
   "cell_type": "code",
   "execution_count": 130,
   "id": "c743331d-6efa-48aa-ac4a-3771d5af25e2",
   "metadata": {
    "tags": []
   },
   "outputs": [],
   "source": [
    "from abc import ABC, abstractmethod\n",
    "from IPython.core.display import HTML\n",
    "\n",
    "def to_image_html(path, width=300, alt='Not Found Image'): return F'<img src=\"{path}\" width=\"{width}\" alt={alt} >'\n",
    "\n",
    "def show(df): display(HTML(df.to_html(escape=False)))"
   ]
  },
  {
   "cell_type": "code",
   "execution_count": 131,
   "id": "17761b79-026f-4cc3-be43-e573704a4bca",
   "metadata": {
    "tags": []
   },
   "outputs": [],
   "source": [
    "async def search_items_by_content(\n",
    "    interactions,\n",
    "    content,\n",
    "    min_release      = None,\n",
    "    min_rating       = None,\n",
    "    order_popularity = True,\n",
    "    limit            = 10_000\n",
    "):\n",
    "    items, _ = await ctx.item_service.find_similars_by(\n",
    "        ItemSimQuery() \\\n",
    "            .contains(content) \\\n",
    "            .rating_gte(min_rating) \\\n",
    "            .release_gte(min_release) \\\n",
    "            .limit_eq(limit)\n",
    "    )\n",
    "    \n",
    "    items = items_to_df(items)\n",
    "                \n",
    "    if order_popularity:\n",
    "        items = await append_popularity_score(items, interactions)\n",
    "\n",
    "    items['poster'] = items['poster'].apply(to_image_html)\n",
    "    \n",
    "    return items.reset_index()"
   ]
  },
  {
   "cell_type": "markdown",
   "id": "65786725-d3e4-414b-949d-3dd793a27cfa",
   "metadata": {},
   "source": [
    "# Load Dataset"
   ]
  },
  {
   "cell_type": "code",
   "execution_count": 11,
   "id": "380097ca-a1ae-4a01-bc4b-94f3e291a9d1",
   "metadata": {
    "tags": []
   },
   "outputs": [],
   "source": [
    "def to_tensor(obs, device, columns): \n",
    "    data = obs[columns]\n",
    "    if type(data) == pd.DataFrame:\n",
    "        data = data.values\n",
    "    return torch.tensor(data).to(device)\n",
    "\n",
    "features_fn = lambda obs, device: to_tensor(obs, device, ['user_seq', 'movie_seq'])\n",
    "target_fn   = lambda obs, device: to_tensor(obs, device, ['user_movie_rating'])"
   ]
  },
  {
   "cell_type": "code",
   "execution_count": 12,
   "id": "16fadfb3-65e3-463b-adb3-568d37d99741",
   "metadata": {
    "tags": []
   },
   "outputs": [],
   "source": [
    "dataset = ds.MovieLensTMDBDatasetFactory.from_path(\n",
    "    path             = DATASET_PATH,\n",
    "    transform        = features_fn,\n",
    "    target_transform = target_fn,\n",
    "    device           = torch.device('cpu'),\n",
    "    filter_fn        = lambda df: df[(df['user_movie_rating_year'] >= 2004)]\n",
    ")"
   ]
  },
  {
   "cell_type": "code",
   "execution_count": 14,
   "id": "5298394f-02a9-41ed-b53e-48fcc87c206e",
   "metadata": {
    "tags": []
   },
   "outputs": [],
   "source": [
    "if not os.path.exists(ITEMS_PATH):\n",
    "    items = dataset \\\n",
    "        .data[['movie_id', 'movie_title', 'movie_genres', 'movie_overview', 'movie_release_year', 'movie_imdb_id', 'user_movie_rating']]\n",
    "\n",
    "    item_mean_rating = items.groupby(['movie_id'])['user_movie_rating'].mean().reset_index()\n",
    "    items = items.drop_duplicates(subset=['movie_id']).drop(columns=['user_movie_rating'])\n",
    "    items[items['movie_title'] == 'Paths of Glory']\n",
    "    items = items.merge(item_mean_rating, on='movie_id')\n",
    "    items"
   ]
  },
  {
   "cell_type": "markdown",
   "id": "4d007964-e26f-4d82-83fb-4ac728598fe4",
   "metadata": {},
   "source": [
    "## Populate items poster"
   ]
  },
  {
   "cell_type": "code",
   "execution_count": 15,
   "id": "2676bad4-701e-4699-b236-a52990a317c2",
   "metadata": {
    "tags": []
   },
   "outputs": [],
   "source": [
    "if not os.path.exists(ITEMS_PATH):\n",
    "    from rest import TMDBApiClient\n",
    "    import logging\n",
    "\n",
    "    client = TMDBApiClient()\n",
    "\n",
    "    with dt.progress_bar(items.shape[0], title='Processing') as pb:\n",
    "        def resolve_url(title):\n",
    "            return (title, client.find_poster_by(title))\n",
    "\n",
    "        params = [[row['movie_title']] for _, row in items.iterrows()]\n",
    "\n",
    "        poster_by_id = ut.ParallelExecutor()(\n",
    "            resolve_url,\n",
    "            params = params,\n",
    "            fallback_result = None\n",
    "        )\n",
    "\n",
    "        poster_by_id = {item[0]: item[1] for item in poster_by_id}"
   ]
  },
  {
   "cell_type": "code",
   "execution_count": 16,
   "id": "504c42cb-ca64-482b-ad13-616dc4a34dcd",
   "metadata": {
    "tags": []
   },
   "outputs": [],
   "source": [
    "if not os.path.exists(ITEMS_PATH):\n",
    "    items['poster'] = items['movie_title'].apply(lambda title: poster_by_id[title])\n",
    "    ut.save_df(items, f'{DATASET_PATH}/chatbot-api-movies.json')"
   ]
  },
  {
   "cell_type": "markdown",
   "id": "acdacf69-0f79-4e0d-b4c8-cffbfd53e62f",
   "metadata": {},
   "source": [
    "## Load builded items"
   ]
  },
  {
   "cell_type": "code",
   "execution_count": 17,
   "id": "f3e7834a-c9cf-4564-8b93-e8d96e259492",
   "metadata": {
    "tags": []
   },
   "outputs": [],
   "source": [
    "items = ut.load_df(f'{DATASET_PATH}/chatbot-api-movies.json')"
   ]
  },
  {
   "cell_type": "code",
   "execution_count": 18,
   "id": "ab4bb6c5-0c07-40c6-b039-35b060f84517",
   "metadata": {
    "tags": []
   },
   "outputs": [
    {
     "data": {
      "text/html": [
       "<div>\n",
       "<style scoped>\n",
       "    .dataframe tbody tr th:only-of-type {\n",
       "        vertical-align: middle;\n",
       "    }\n",
       "\n",
       "    .dataframe tbody tr th {\n",
       "        vertical-align: top;\n",
       "    }\n",
       "\n",
       "    .dataframe thead th {\n",
       "        text-align: right;\n",
       "    }\n",
       "</style>\n",
       "<table border=\"1\" class=\"dataframe\">\n",
       "  <thead>\n",
       "    <tr style=\"text-align: right;\">\n",
       "      <th></th>\n",
       "      <th>movie_title</th>\n",
       "      <th>poster</th>\n",
       "    </tr>\n",
       "  </thead>\n",
       "  <tbody>\n",
       "    <tr>\n",
       "      <th>0</th>\n",
       "      <td>Toy Story</td>\n",
       "      <td>http://image.tmdb.org/t/p/w500/uXDfjJbdP4ijW5hWSBrPrlKpxab.jpg</td>\n",
       "    </tr>\n",
       "    <tr>\n",
       "      <th>1</th>\n",
       "      <td>Clueless</td>\n",
       "      <td>http://image.tmdb.org/t/p/w500/8AwVTcgpTnmeOs4TdTWqcFDXEsA.jpg</td>\n",
       "    </tr>\n",
       "    <tr>\n",
       "      <th>2</th>\n",
       "      <td>While You Were Sleeping</td>\n",
       "      <td>http://image.tmdb.org/t/p/w500/qNGO3ETcNwlWqK2kNRpbJSJRlos.jpg</td>\n",
       "    </tr>\n",
       "    <tr>\n",
       "      <th>3</th>\n",
       "      <td>Forrest Gump</td>\n",
       "      <td>http://image.tmdb.org/t/p/w500/arw2vcBveWOVZr6pxd9XTd1TdQa.jpg</td>\n",
       "    </tr>\n",
       "    <tr>\n",
       "      <th>4</th>\n",
       "      <td>Pretty Woman</td>\n",
       "      <td>http://image.tmdb.org/t/p/w500/hVHUfT801LQATGd26VPzhorIYza.jpg</td>\n",
       "    </tr>\n",
       "  </tbody>\n",
       "</table>\n",
       "</div>"
      ],
      "text/plain": [
       "                movie_title  \\\n",
       "0                Toy Story    \n",
       "1                 Clueless    \n",
       "2  While You Were Sleeping    \n",
       "3             Forrest Gump    \n",
       "4             Pretty Woman    \n",
       "\n",
       "                                                           poster  \n",
       "0  http://image.tmdb.org/t/p/w500/uXDfjJbdP4ijW5hWSBrPrlKpxab.jpg  \n",
       "1  http://image.tmdb.org/t/p/w500/8AwVTcgpTnmeOs4TdTWqcFDXEsA.jpg  \n",
       "2  http://image.tmdb.org/t/p/w500/qNGO3ETcNwlWqK2kNRpbJSJRlos.jpg  \n",
       "3  http://image.tmdb.org/t/p/w500/arw2vcBveWOVZr6pxd9XTd1TdQa.jpg  \n",
       "4  http://image.tmdb.org/t/p/w500/hVHUfT801LQATGd26VPzhorIYza.jpg  "
      ]
     },
     "execution_count": 18,
     "metadata": {},
     "output_type": "execute_result"
    }
   ],
   "source": [
    "pd.set_option('display.max_colwidth', None)\n",
    "items[['movie_title', 'poster']].head()"
   ]
  },
  {
   "cell_type": "code",
   "execution_count": 19,
   "id": "43f5059e-7e84-4b1c-8370-4c2b8abe1cf7",
   "metadata": {
    "tags": []
   },
   "outputs": [
    {
     "data": {
      "text/html": [
       "<div>\n",
       "<style scoped>\n",
       "    .dataframe tbody tr th:only-of-type {\n",
       "        vertical-align: middle;\n",
       "    }\n",
       "\n",
       "    .dataframe tbody tr th {\n",
       "        vertical-align: top;\n",
       "    }\n",
       "\n",
       "    .dataframe thead th {\n",
       "        text-align: right;\n",
       "    }\n",
       "</style>\n",
       "<table border=\"1\" class=\"dataframe\">\n",
       "  <thead>\n",
       "    <tr style=\"text-align: right;\">\n",
       "      <th></th>\n",
       "      <th>user_id</th>\n",
       "      <th>item_id</th>\n",
       "      <th>rating</th>\n",
       "      <th>timestamp</th>\n",
       "    </tr>\n",
       "  </thead>\n",
       "  <tbody>\n",
       "    <tr>\n",
       "      <th>0</th>\n",
       "      <td>100538</td>\n",
       "      <td>1</td>\n",
       "      <td>4</td>\n",
       "      <td>2019-01-01 21:11:09</td>\n",
       "    </tr>\n",
       "    <tr>\n",
       "      <th>496</th>\n",
       "      <td>100538</td>\n",
       "      <td>39</td>\n",
       "      <td>3</td>\n",
       "      <td>2019-01-03 11:58:44</td>\n",
       "    </tr>\n",
       "    <tr>\n",
       "      <th>8785</th>\n",
       "      <td>100538</td>\n",
       "      <td>339</td>\n",
       "      <td>3</td>\n",
       "      <td>2019-01-04 08:18:24</td>\n",
       "    </tr>\n",
       "    <tr>\n",
       "      <th>9194</th>\n",
       "      <td>100538</td>\n",
       "      <td>356</td>\n",
       "      <td>4</td>\n",
       "      <td>2019-01-03 10:37:28</td>\n",
       "    </tr>\n",
       "    <tr>\n",
       "      <th>14189</th>\n",
       "      <td>100538</td>\n",
       "      <td>597</td>\n",
       "      <td>4</td>\n",
       "      <td>2019-01-03 11:55:57</td>\n",
       "    </tr>\n",
       "  </tbody>\n",
       "</table>\n",
       "</div>"
      ],
      "text/plain": [
       "       user_id  item_id  rating           timestamp\n",
       "0       100538        1       4 2019-01-01 21:11:09\n",
       "496     100538       39       3 2019-01-03 11:58:44\n",
       "8785    100538      339       3 2019-01-04 08:18:24\n",
       "9194    100538      356       4 2019-01-03 10:37:28\n",
       "14189   100538      597       4 2019-01-03 11:55:57"
      ]
     },
     "execution_count": 19,
     "metadata": {},
     "output_type": "execute_result"
    }
   ],
   "source": [
    "interactions = dataset \\\n",
    "    .data[['user_id', 'movie_id', 'user_movie_rating', 'user_movie_rating_timestamp']] \\\n",
    "    .rename(columns={\n",
    "        'user_movie_rating'           : 'rating',\n",
    "        'movie_id'                    : 'item_id',\n",
    "        'user_movie_rating_timestamp' : 'timestamp'\n",
    "    })\n",
    "\n",
    "interactions.head()"
   ]
  },
  {
   "cell_type": "code",
   "execution_count": 20,
   "id": "7f80267b-81f3-434d-9422-ce53e08ce2a0",
   "metadata": {
    "tags": []
   },
   "outputs": [
    {
     "data": {
      "text/plain": [
       "(127, 8)"
      ]
     },
     "execution_count": 20,
     "metadata": {},
     "output_type": "execute_result"
    }
   ],
   "source": [
    "incomplete_items = items[((items['movie_overview'] == 'No overview found.') | (items['movie_overview'] == ''))]\n",
    "incomplete_items.shape"
   ]
  },
  {
   "cell_type": "code",
   "execution_count": 21,
   "id": "97c0b271-05e3-4a08-aa8f-e6d04b196b8c",
   "metadata": {
    "tags": []
   },
   "outputs": [],
   "source": [
    "data = fetch_items_data(incomplete_items)\n",
    "\n",
    "items['movie_overview'] = items.apply(lambda row: resolve_overview(data, row), axis=1) "
   ]
  },
  {
   "cell_type": "code",
   "execution_count": 22,
   "id": "ae15bc2e-fdc8-463b-91d2-690a2b4cebee",
   "metadata": {
    "tags": []
   },
   "outputs": [
    {
     "data": {
      "text/plain": [
       "(31, 8)"
      ]
     },
     "execution_count": 22,
     "metadata": {},
     "output_type": "execute_result"
    }
   ],
   "source": [
    "incomplete_items = items[((items['movie_overview'] == 'No overview found.') | (items['movie_overview'] == ''))]\n",
    "incomplete_items.shape"
   ]
  },
  {
   "cell_type": "markdown",
   "id": "cc2a65d7-8b13-4fe7-a7d5-5cfddaae14e0",
   "metadata": {},
   "source": [
    "## Upload item and interaction to RecChatBotAPI"
   ]
  },
  {
   "cell_type": "code",
   "execution_count": 23,
   "id": "955eaa09-30bb-4e43-8b31-eff348845137",
   "metadata": {
    "tags": []
   },
   "outputs": [
    {
     "name": "stderr",
     "output_type": "stream",
     "text": [
      "2024-02-18 18:51:09,431 - INFO - Load pretrained SentenceTransformer: all-mpnet-base-v2\n",
      "2024-02-18 18:51:09,982 - INFO - Use pytorch device: cuda\n",
      "2024-02-18 18:51:09,984 - INFO - Anonymized telemetry enabled. See                     https://docs.trychroma.com/telemetry for more information.\n",
      "2024-02-18 18:51:10,003 - INFO - Anonymized telemetry enabled. See                     https://docs.trychroma.com/telemetry for more information.\n"
     ]
    }
   ],
   "source": [
    "ctx = AppContext()"
   ]
  },
  {
   "cell_type": "code",
   "execution_count": 24,
   "id": "caa2b9a8-0d26-40f5-a77b-f69bc8d48e73",
   "metadata": {
    "tags": []
   },
   "outputs": [],
   "source": [
    "client = RecChatBotV1ApiClient()"
   ]
  },
  {
   "cell_type": "code",
   "execution_count": 25,
   "id": "c5373702-c195-4463-9a51-f9d06ac6da8d",
   "metadata": {},
   "outputs": [
    {
     "name": "stderr",
     "output_type": "stream",
     "text": [
      "2024-02-18 18:51:10,081 - INFO - Page Size: 1000\n",
      "2024-02-18 18:51:15,886 - INFO - Page: 1/19, Size: 1000\n",
      "2024-02-18 18:51:21,472 - INFO - Page: 2/19, Size: 1000\n",
      "2024-02-18 18:51:27,154 - INFO - Page: 3/19, Size: 1000\n",
      "2024-02-18 18:51:33,478 - INFO - Page: 4/19, Size: 1000\n",
      "2024-02-18 18:51:39,135 - INFO - Page: 5/19, Size: 1000\n",
      "2024-02-18 18:51:44,942 - INFO - Page: 6/19, Size: 1000\n",
      "2024-02-18 18:51:50,614 - INFO - Page: 7/19, Size: 1000\n",
      "2024-02-18 18:51:56,303 - INFO - Page: 8/19, Size: 1000\n",
      "2024-02-18 18:52:02,727 - INFO - Page: 9/19, Size: 1000\n",
      "2024-02-18 18:52:08,501 - INFO - Page: 10/19, Size: 1000\n",
      "2024-02-18 18:52:14,448 - INFO - Page: 11/19, Size: 1000\n",
      "2024-02-18 18:52:21,250 - INFO - Page: 12/19, Size: 1000\n",
      "2024-02-18 18:52:27,344 - INFO - Page: 13/19, Size: 1000\n",
      "2024-02-18 18:52:33,220 - INFO - Page: 14/19, Size: 1000\n",
      "2024-02-18 18:52:39,905 - INFO - Page: 15/19, Size: 1000\n",
      "2024-02-18 18:52:45,691 - INFO - Page: 16/19, Size: 1000\n",
      "2024-02-18 18:52:51,663 - INFO - Page: 17/19, Size: 1000\n",
      "2024-02-18 18:52:57,620 - INFO - Page: 18/19, Size: 1000\n",
      "2024-02-18 18:53:01,444 - INFO - Page: 19/19, Size: 608\n"
     ]
    },
    {
     "data": {
      "text/plain": [
       "[]"
      ]
     },
     "execution_count": 25,
     "metadata": {},
     "output_type": "execute_result"
    }
   ],
   "source": [
    "client.add_items(items)"
   ]
  },
  {
   "cell_type": "code",
   "execution_count": 26,
   "id": "1f6f5fc0-b73b-40a3-924e-5326854d5c75",
   "metadata": {
    "tags": []
   },
   "outputs": [
    {
     "data": {
      "text/plain": [
       "(194273, 4)"
      ]
     },
     "execution_count": 26,
     "metadata": {},
     "output_type": "execute_result"
    }
   ],
   "source": [
    "interactions.shape"
   ]
  },
  {
   "cell_type": "code",
   "execution_count": 27,
   "id": "cebb3a1f-cacf-44af-b8d8-dcd2a98eb878",
   "metadata": {
    "tags": []
   },
   "outputs": [
    {
     "name": "stderr",
     "output_type": "stream",
     "text": [
      "2024-02-18 18:53:01,506 - INFO - Page Size: 5000\n",
      "2024-02-18 18:53:01,783 - INFO - Page: 1/39, Size: 5000\n",
      "2024-02-18 18:53:02,226 - INFO - Page: 2/39, Size: 5000\n",
      "2024-02-18 18:53:02,500 - INFO - Page: 3/39, Size: 5000\n",
      "2024-02-18 18:53:02,778 - INFO - Page: 4/39, Size: 5000\n",
      "2024-02-18 18:53:03,040 - INFO - Page: 5/39, Size: 5000\n",
      "2024-02-18 18:53:03,316 - INFO - Page: 6/39, Size: 5000\n",
      "2024-02-18 18:53:03,582 - INFO - Page: 7/39, Size: 5000\n",
      "2024-02-18 18:53:03,850 - INFO - Page: 8/39, Size: 5000\n",
      "2024-02-18 18:53:04,138 - INFO - Page: 9/39, Size: 5000\n",
      "2024-02-18 18:53:04,430 - INFO - Page: 10/39, Size: 5000\n",
      "2024-02-18 18:53:04,708 - INFO - Page: 11/39, Size: 5000\n",
      "2024-02-18 18:53:05,155 - INFO - Page: 12/39, Size: 5000\n",
      "2024-02-18 18:53:05,425 - INFO - Page: 13/39, Size: 5000\n",
      "2024-02-18 18:53:05,696 - INFO - Page: 14/39, Size: 5000\n",
      "2024-02-18 18:53:05,957 - INFO - Page: 15/39, Size: 5000\n",
      "2024-02-18 18:53:06,240 - INFO - Page: 16/39, Size: 5000\n",
      "2024-02-18 18:53:06,509 - INFO - Page: 17/39, Size: 5000\n",
      "2024-02-18 18:53:06,777 - INFO - Page: 18/39, Size: 5000\n",
      "2024-02-18 18:53:07,047 - INFO - Page: 19/39, Size: 5000\n",
      "2024-02-18 18:53:07,320 - INFO - Page: 20/39, Size: 5000\n",
      "2024-02-18 18:53:07,589 - INFO - Page: 21/39, Size: 5000\n",
      "2024-02-18 18:53:07,861 - INFO - Page: 22/39, Size: 5000\n",
      "2024-02-18 18:53:08,314 - INFO - Page: 23/39, Size: 5000\n",
      "2024-02-18 18:53:08,595 - INFO - Page: 24/39, Size: 5000\n",
      "2024-02-18 18:53:08,866 - INFO - Page: 25/39, Size: 5000\n",
      "2024-02-18 18:53:09,141 - INFO - Page: 26/39, Size: 5000\n",
      "2024-02-18 18:53:09,429 - INFO - Page: 27/39, Size: 5000\n",
      "2024-02-18 18:53:09,704 - INFO - Page: 28/39, Size: 5000\n",
      "2024-02-18 18:53:09,977 - INFO - Page: 29/39, Size: 5000\n",
      "2024-02-18 18:53:10,266 - INFO - Page: 30/39, Size: 5000\n",
      "2024-02-18 18:53:10,540 - INFO - Page: 31/39, Size: 5000\n",
      "2024-02-18 18:53:10,822 - INFO - Page: 32/39, Size: 5000\n",
      "2024-02-18 18:53:11,128 - INFO - Page: 33/39, Size: 5000\n",
      "2024-02-18 18:53:11,592 - INFO - Page: 34/39, Size: 5000\n",
      "2024-02-18 18:53:11,863 - INFO - Page: 35/39, Size: 5000\n",
      "2024-02-18 18:53:12,148 - INFO - Page: 36/39, Size: 5000\n",
      "2024-02-18 18:53:12,467 - INFO - Page: 37/39, Size: 5000\n",
      "2024-02-18 18:53:12,778 - INFO - Page: 38/39, Size: 5000\n",
      "2024-02-18 18:53:13,021 - INFO - Page: 39/39, Size: 4273\n"
     ]
    },
    {
     "data": {
      "text/plain": [
       "[]"
      ]
     },
     "execution_count": 27,
     "metadata": {},
     "output_type": "execute_result"
    }
   ],
   "source": [
    "client.add_interactions(interactions)"
   ]
  },
  {
   "cell_type": "code",
   "execution_count": 28,
   "id": "13d5e1d2-bbd9-4ca6-9896-19fd04cebdc7",
   "metadata": {
    "tags": []
   },
   "outputs": [
    {
     "data": {
      "text/plain": [
       "(194273, 3)"
      ]
     },
     "execution_count": 28,
     "metadata": {},
     "output_type": "execute_result"
    }
   ],
   "source": [
    "api_interactions = ints_to_df(await ctx.interaction_service.find_all())\n",
    "api_interactions.shape"
   ]
  },
  {
   "cell_type": "markdown",
   "id": "a3cc9eed-6f9f-43e5-ad03-018ca7884b5c",
   "metadata": {},
   "source": [
    "## Fun users interactions"
   ]
  },
  {
   "cell_type": "code",
   "execution_count": 200,
   "id": "6f97a185-40d7-43d5-a1fd-cbb4abafbb70",
   "metadata": {
    "tags": []
   },
   "outputs": [],
   "source": [
    "searchs = [\n",
    "    ('pixar animated movie for children', 200),\n",
    "    ('science fiction, action', 100),\n",
    "    ('war weapons', 70),\n",
    "    ('iron man, x-men, spider man, bat man, flash, avengers, ant-man, hulk, guardians of the galaxy, marvel, green lantern, superman, watchmen, thor, deadpool, wonder woman, strange, justice League, captain america, logans, kick ass, John Wick', 150),\n",
    "    ('sci-fi, action, future', 130),\n",
    "    ('Mission Impossible, spies, bourne identity, 007', 70),\n",
    "    ('comedy movies', 200),\n",
    "    ('horror', 100),\n",
    "    ('thiller, suspense', 150),\n",
    "    ('love, romance', 150),\n",
    "    ('time travel', 100),\n",
    "    ('dead, zombies, post apocalyptic', 100),\n",
    "    ('software', 100),\n",
    "    ('hackers', 100)\n",
    "]"
   ]
  },
  {
   "cell_type": "code",
   "execution_count": 179,
   "id": "c1d54899-ffc1-4ed0-bb33-1680e124986f",
   "metadata": {
    "tags": []
   },
   "outputs": [],
   "source": [
    "items = await search_items_by_content(\n",
    "    interactions, \n",
    "    'hackers',\n",
    "    min_rating  = 3, \n",
    "    limit       = 50,\n",
    "    min_release = 1990,\n",
    "    order_popularity = False\n",
    ")\n",
    "\n",
    "\n",
    "# show(items)"
   ]
  },
  {
   "cell_type": "code",
   "execution_count": 210,
   "id": "8de26810-5927-4f3f-bccc-313a8efd2936",
   "metadata": {
    "tags": []
   },
   "outputs": [],
   "source": [
    "fun_user_interactions = []\n",
    "max_user_id = interactions['user_id'].max()\n",
    "\n",
    "for search in searchs:    \n",
    "    items = await search_items_by_content(\n",
    "        interactions, \n",
    "        search[0],\n",
    "        min_rating  = 3, \n",
    "        limit       = search[1],\n",
    "        min_release = 1990,\n",
    "        order_popularity = False\n",
    "    )    \n",
    "    \n",
    "    items = items.rename(columns={'id': 'item_id'})\n",
    "    items['rating'] = items['item_id'].apply(lambda x: 4 if random.random() > 0.5 else 5)\n",
    "    items['user_id'] = max_user_id\n",
    "    items = items[['item_id', 'user_id', 'rating']]\n",
    "    \n",
    "    max_user_id +=1\n",
    "    \n",
    "    fun_user_interactions.append(items)\n",
    "\n",
    "fun_user_interactions = pd.concat(fun_user_interactions)\n",
    "fun_user_interactions['timestamp'] = datetime.now()"
   ]
  },
  {
   "cell_type": "code",
   "execution_count": 211,
   "id": "174f5ad1-983f-4f3d-be74-b1b945bcbadf",
   "metadata": {
    "tags": []
   },
   "outputs": [
    {
     "data": {
      "text/html": [
       "<div>\n",
       "<style scoped>\n",
       "    .dataframe tbody tr th:only-of-type {\n",
       "        vertical-align: middle;\n",
       "    }\n",
       "\n",
       "    .dataframe tbody tr th {\n",
       "        vertical-align: top;\n",
       "    }\n",
       "\n",
       "    .dataframe thead th {\n",
       "        text-align: right;\n",
       "    }\n",
       "</style>\n",
       "<table border=\"1\" class=\"dataframe\">\n",
       "  <thead>\n",
       "    <tr style=\"text-align: right;\">\n",
       "      <th></th>\n",
       "      <th>item_id</th>\n",
       "      <th>user_id</th>\n",
       "      <th>rating</th>\n",
       "      <th>timestamp</th>\n",
       "    </tr>\n",
       "  </thead>\n",
       "  <tbody>\n",
       "    <tr>\n",
       "      <th>0</th>\n",
       "      <td>1</td>\n",
       "      <td>162521</td>\n",
       "      <td>5</td>\n",
       "      <td>2024-02-18 20:34:01.572898</td>\n",
       "    </tr>\n",
       "    <tr>\n",
       "      <th>1</th>\n",
       "      <td>101262</td>\n",
       "      <td>162521</td>\n",
       "      <td>4</td>\n",
       "      <td>2024-02-18 20:34:01.572898</td>\n",
       "    </tr>\n",
       "    <tr>\n",
       "      <th>2</th>\n",
       "      <td>105468</td>\n",
       "      <td>162521</td>\n",
       "      <td>4</td>\n",
       "      <td>2024-02-18 20:34:01.572898</td>\n",
       "    </tr>\n",
       "    <tr>\n",
       "      <th>3</th>\n",
       "      <td>106022</td>\n",
       "      <td>162521</td>\n",
       "      <td>5</td>\n",
       "      <td>2024-02-18 20:34:01.572898</td>\n",
       "    </tr>\n",
       "    <tr>\n",
       "      <th>4</th>\n",
       "      <td>106423</td>\n",
       "      <td>162521</td>\n",
       "      <td>5</td>\n",
       "      <td>2024-02-18 20:34:01.572898</td>\n",
       "    </tr>\n",
       "    <tr>\n",
       "      <th>...</th>\n",
       "      <td>...</td>\n",
       "      <td>...</td>\n",
       "      <td>...</td>\n",
       "      <td>...</td>\n",
       "    </tr>\n",
       "    <tr>\n",
       "      <th>65</th>\n",
       "      <td>8628</td>\n",
       "      <td>162534</td>\n",
       "      <td>5</td>\n",
       "      <td>2024-02-18 20:34:01.572898</td>\n",
       "    </tr>\n",
       "    <tr>\n",
       "      <th>66</th>\n",
       "      <td>89337</td>\n",
       "      <td>162534</td>\n",
       "      <td>4</td>\n",
       "      <td>2024-02-18 20:34:01.572898</td>\n",
       "    </tr>\n",
       "    <tr>\n",
       "      <th>67</th>\n",
       "      <td>92475</td>\n",
       "      <td>162534</td>\n",
       "      <td>4</td>\n",
       "      <td>2024-02-18 20:34:01.572898</td>\n",
       "    </tr>\n",
       "    <tr>\n",
       "      <th>68</th>\n",
       "      <td>94130</td>\n",
       "      <td>162534</td>\n",
       "      <td>4</td>\n",
       "      <td>2024-02-18 20:34:01.572898</td>\n",
       "    </tr>\n",
       "    <tr>\n",
       "      <th>69</th>\n",
       "      <td>97692</td>\n",
       "      <td>162534</td>\n",
       "      <td>4</td>\n",
       "      <td>2024-02-18 20:34:01.572898</td>\n",
       "    </tr>\n",
       "  </tbody>\n",
       "</table>\n",
       "<p>1158 rows × 4 columns</p>\n",
       "</div>"
      ],
      "text/plain": [
       "   item_id  user_id  rating                  timestamp\n",
       "0        1   162521       5 2024-02-18 20:34:01.572898\n",
       "1   101262   162521       4 2024-02-18 20:34:01.572898\n",
       "2   105468   162521       4 2024-02-18 20:34:01.572898\n",
       "3   106022   162521       5 2024-02-18 20:34:01.572898\n",
       "4   106423   162521       5 2024-02-18 20:34:01.572898\n",
       "..     ...      ...     ...                        ...\n",
       "65    8628   162534       5 2024-02-18 20:34:01.572898\n",
       "66   89337   162534       4 2024-02-18 20:34:01.572898\n",
       "67   92475   162534       4 2024-02-18 20:34:01.572898\n",
       "68   94130   162534       4 2024-02-18 20:34:01.572898\n",
       "69   97692   162534       4 2024-02-18 20:34:01.572898\n",
       "\n",
       "[1158 rows x 4 columns]"
      ]
     },
     "execution_count": 211,
     "metadata": {},
     "output_type": "execute_result"
    }
   ],
   "source": [
    "fun_user_interactions"
   ]
  },
  {
   "cell_type": "code",
   "execution_count": 212,
   "id": "a765d099-78ae-4349-8724-3e354ab77d19",
   "metadata": {
    "tags": []
   },
   "outputs": [
    {
     "name": "stderr",
     "output_type": "stream",
     "text": [
      "2024-02-18 20:34:28,890 - INFO - Page Size: 5000\n",
      "2024-02-18 20:34:28,988 - INFO - Page: 1/1, Size: 1158\n"
     ]
    },
    {
     "data": {
      "text/plain": [
       "[]"
      ]
     },
     "execution_count": 212,
     "metadata": {},
     "output_type": "execute_result"
    }
   ],
   "source": [
    "client.add_interactions(fun_user_interactions)"
   ]
  },
  {
   "cell_type": "code",
   "execution_count": 213,
   "id": "42bae1d7-a3a0-4a74-b739-8c1588252f46",
   "metadata": {
    "tags": []
   },
   "outputs": [
    {
     "data": {
      "text/plain": [
       "(195431, 3)"
      ]
     },
     "execution_count": 213,
     "metadata": {},
     "output_type": "execute_result"
    }
   ],
   "source": [
    "api_interactions = ints_to_df(await ctx.interaction_service.find_all())\n",
    "api_interactions.shape"
   ]
  },
  {
   "cell_type": "code",
   "execution_count": null,
   "id": "813580ba-6fd9-49e3-a372-ac083684415b",
   "metadata": {},
   "outputs": [],
   "source": []
  }
 ],
 "metadata": {
  "kernelspec": {
   "display_name": "Python 3 (ipykernel)",
   "language": "python",
   "name": "python3"
  },
  "language_info": {
   "codemirror_mode": {
    "name": "ipython",
    "version": 3
   },
   "file_extension": ".py",
   "mimetype": "text/x-python",
   "name": "python",
   "nbconvert_exporter": "python",
   "pygments_lexer": "ipython3",
   "version": "3.10.13"
  },
  "widgets": {
   "application/vnd.jupyter.widget-state+json": {
    "state": {},
    "version_major": 2,
    "version_minor": 0
   }
  }
 },
 "nbformat": 4,
 "nbformat_minor": 5
}
