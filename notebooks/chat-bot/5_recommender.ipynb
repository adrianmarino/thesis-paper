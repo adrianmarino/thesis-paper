{
 "cells": [
  {
   "cell_type": "markdown",
   "id": "0417277b-47df-4113-a7b3-8f960db06f1d",
   "metadata": {
    "tags": []
   },
   "source": [
    "# Recommender ChatBot: LLM/Collaborative Filtering recommender ensemble"
   ]
  },
  {
   "cell_type": "code",
   "execution_count": 1,
   "id": "59f0eac0-30e8-4e72-860e-05541c36b82e",
   "metadata": {},
   "outputs": [],
   "source": [
    "%load_ext autoreload\n",
    "%autoreload 2"
   ]
  },
  {
   "cell_type": "code",
   "execution_count": 2,
   "id": "6fe490fd-66c5-4b3f-a327-62aa5d01f21c",
   "metadata": {},
   "outputs": [],
   "source": [
    "import os\n",
    "\n",
    "BASE_PATH    = '../..'\n",
    "API_PATH     = f'{BASE_PATH}/chat-bot-api'\n",
    "LIB_PATH     = f'{BASE_PATH}/lib'\n",
    "\n",
    "\n",
    "os.environ['TMP_PATH']         = f'{BASE_PATH}/tmp'\n",
    "os.environ['DATASET_PATH']     = f'{BASE_PATH}/datasets'\n",
    "os.environ['WEIGHTS_PATH']     = f'{BASE_PATH}/weights'\n",
    "os.environ['METRICS_PATH']     = f'{BASE_PATH}/metrics'\n",
    "os.environ['MONGODB_URL']      = 'mongodb://0.0.0.0:27017'\n",
    "os.environ['MONGODB_DATABASE'] = 'chatbot'\n",
    "os.environ['CHROMA_HOST']      = '0.0.0.0'\n",
    "os.environ['CHROMA_PORT']      = '9090'"
   ]
  },
  {
   "cell_type": "code",
   "execution_count": 3,
   "id": "f98e7bf4-f41a-43f6-b7b7-a991d00f82de",
   "metadata": {},
   "outputs": [
    {
     "name": "stderr",
     "output_type": "stream",
     "text": [
      "2024-02-25 16:57:48.559648: I tensorflow/core/platform/cpu_feature_guard.cc:182] This TensorFlow binary is optimized to use available CPU instructions in performance-critical operations.\n",
      "To enable the following instructions: AVX2 FMA, in other operations, rebuild TensorFlow with the appropriate compiler flags.\n",
      "2024-02-25 16:57:49.030682: W tensorflow/compiler/tf2tensorrt/utils/py_utils.cc:38] TF-TRT Warning: Could not find TensorRT\n",
      "2024-02-25 16:57:49.289283: I tensorflow/compiler/xla/stream_executor/cuda/cuda_gpu_executor.cc:996] successful NUMA node read from SysFS had negative value (-1), but there must be at least one NUMA node, so returning NUMA node zero. See more at https://github.com/torvalds/linux/blob/v6.0/Documentation/ABI/testing/sysfs-bus-pci#L344-L355\n",
      "2024-02-25 16:57:49.298897: W tensorflow/core/common_runtime/gpu/gpu_device.cc:1956] Cannot dlopen some GPU libraries. Please make sure the missing libraries mentioned above are installed properly if you would like to use GPU. Follow the guide at https://www.tensorflow.org/install/gpu for how to download and setup the required libraries for your platform.\n",
      "Skipping registering GPU devices...\n"
     ]
    },
    {
     "data": {
      "text/plain": [
       "<Figure size 640x480 with 0 Axes>"
      ]
     },
     "metadata": {},
     "output_type": "display_data"
    }
   ],
   "source": [
    "import sys\n",
    "sys.path.append(LIB_PATH)\n",
    "sys.path.append(API_PATH)\n",
    "\n",
    "import pytorch_common.util as pu\n",
    "from app_context import AppContext"
   ]
  },
  {
   "cell_type": "markdown",
   "id": "d757391b-ad9f-4047-9b23-e3bd23fbe37b",
   "metadata": {},
   "source": [
    "## Setup"
   ]
  },
  {
   "cell_type": "code",
   "execution_count": 4,
   "id": "efba19c8-6de3-4a6c-b804-658d0aff6bdb",
   "metadata": {},
   "outputs": [
    {
     "data": {
      "text/plain": [
       "<RootLogger root (INFO)>"
      ]
     },
     "execution_count": 4,
     "metadata": {},
     "output_type": "execute_result"
    }
   ],
   "source": [
    "pu.LoggerBuilder().on_console().build()"
   ]
  },
  {
   "cell_type": "code",
   "execution_count": 5,
   "id": "72432e7f-f377-40a6-968e-eeb4aba00c7d",
   "metadata": {},
   "outputs": [
    {
     "name": "stderr",
     "output_type": "stream",
     "text": [
      "2024-02-25 16:57:50,696 - INFO - Load pretrained SentenceTransformer: all-mpnet-base-v2\n",
      "2024-02-25 16:57:51,247 - INFO - Use pytorch device: cuda\n",
      "2024-02-25 16:57:51,249 - INFO - Anonymized telemetry enabled. See                     https://docs.trychroma.com/telemetry for more information.\n",
      "2024-02-25 16:57:51,268 - INFO - Anonymized telemetry enabled. See                     https://docs.trychroma.com/telemetry for more information.\n"
     ]
    }
   ],
   "source": [
    "ctx = AppContext()"
   ]
  },
  {
   "cell_type": "markdown",
   "id": "b8334d07-f306-42b4-8ea1-cc27b82eb343",
   "metadata": {},
   "source": [
    "## Recommender"
   ]
  },
  {
   "cell_type": "code",
   "execution_count": 47,
   "id": "72e99109-2885-4f7b-807f-7444cf33459c",
   "metadata": {
    "tags": []
   },
   "outputs": [
    {
     "name": "stderr",
     "output_type": "stream",
     "text": [
      "2024-02-25 17:11:52,298 - INFO - Found 10 similar users\n",
      "2024-02-25 17:11:52,303 - INFO - Found 451 similar users interactions\n",
      "2024-02-25 17:11:52,303 - INFO - Select 103 similar users interactions (max by user: 10, min rating: 4)\n",
      "2024-02-25 17:11:52,512 - INFO - Found 1500 items by text query\n",
      "2024-02-25 17:11:52,521 - INFO - Select 20 similar user items by text query\n",
      "2024-02-25 17:11:52,522 - INFO - Select 20 similar user unseen items\n",
      "2024-02-25 17:11:52,526 - INFO - 39 movies seen by adrianmarino@gmail.com user\n"
     ]
    }
   ],
   "source": [
    "recommendations = await ctx.database_user_item_filtering_recommender.recommend(\n",
    "    user_id            = \"adrianmarino@gmail.com\",\n",
    "    text_query         = 'I want to see sci-fi movies',\n",
    "    k_sim_users        = 10,\n",
    "    max_items_by_user  = 10,\n",
    "    text_query_limit   = 1500,\n",
    "    min_rating_by_user = 4,\n",
    "    not_seen           = True\n",
    ")"
   ]
  },
  {
   "cell_type": "code",
   "execution_count": 48,
   "id": "afbb105e-9eed-4414-8dfc-14c91ec55560",
   "metadata": {
    "tags": []
   },
   "outputs": [
    {
     "data": {
      "text/html": [
       "<h2>User Seen items</h2>"
      ],
      "text/plain": [
       "<IPython.core.display.HTML object>"
      ]
     },
     "metadata": {},
     "output_type": "display_data"
    },
    {
     "data": {
      "text/html": [
       "<h4><b>Tags:</b> <b>adventure</b>(24), <b>action</b>(21), <b>sci-fi</b>(17), <b>comedy</b>(15), <b>animation</b>(13), <b>children</b>(12), <b>imax</b>(10), <b>fantasy</b>(9), <b>thriller</b>(8), <b>drama</b>(8), <b>mystery</b>(4), <b>crime</b>(2), <b>war</b>(2), <b>romance</b>(1)</h4>"
      ],
      "text/plain": [
       "<IPython.core.display.HTML object>"
      ]
     },
     "metadata": {},
     "output_type": "display_data"
    },
    {
     "data": {
      "text/html": [
       "<table border=\"1\" class=\"dataframe\">\n",
       "  <thead>\n",
       "    <tr style=\"text-align: right;\">\n",
       "      <th></th>\n",
       "      <th>0</th>\n",
       "      <th>1</th>\n",
       "      <th>2</th>\n",
       "      <th>3</th>\n",
       "      <th>4</th>\n",
       "      <th>5</th>\n",
       "      <th>6</th>\n",
       "      <th>7</th>\n",
       "      <th>8</th>\n",
       "      <th>9</th>\n",
       "      <th>10</th>\n",
       "      <th>11</th>\n",
       "      <th>12</th>\n",
       "      <th>13</th>\n",
       "      <th>14</th>\n",
       "      <th>15</th>\n",
       "      <th>16</th>\n",
       "      <th>17</th>\n",
       "      <th>18</th>\n",
       "      <th>19</th>\n",
       "      <th>20</th>\n",
       "      <th>21</th>\n",
       "      <th>22</th>\n",
       "      <th>23</th>\n",
       "      <th>24</th>\n",
       "      <th>25</th>\n",
       "      <th>26</th>\n",
       "      <th>27</th>\n",
       "      <th>28</th>\n",
       "      <th>29</th>\n",
       "      <th>30</th>\n",
       "      <th>31</th>\n",
       "      <th>32</th>\n",
       "      <th>33</th>\n",
       "      <th>34</th>\n",
       "      <th>35</th>\n",
       "      <th>36</th>\n",
       "      <th>37</th>\n",
       "      <th>38</th>\n",
       "    </tr>\n",
       "  </thead>\n",
       "  <tbody>\n",
       "    <tr>\n",
       "      <th>Poster</th>\n",
       "      <td><img src=\"http://image.tmdb.org/t/p/w500/uXDfjJbdP4ijW5hWSBrPrlKpxab.jpg\" width=\"340\" alt=Toy Story ></td>\n",
       "      <td><img src=\"http://image.tmdb.org/t/p/w500/y4MBh0EjBlMuOzv9axM4qJlmhzz.jpg\" width=\"340\" alt=Guardians of the Galaxy 2 ></td>\n",
       "      <td><img src=\"http://image.tmdb.org/t/p/w500/qhPtAc1TKbMPqNvcdXSOn9Bn7hZ.jpg\" width=\"340\" alt=Iron Man 3 ></td>\n",
       "      <td><img src=\"http://image.tmdb.org/t/p/w500/2MFIhZAW0CVlEQrFyqwa4U6zqJP.jpg\" width=\"340\" alt=Toy Story 2 ></td>\n",
       "      <td><img src=\"http://image.tmdb.org/t/p/w500/hlK0e0wAQ3VLuJcsfIYPvb4JVud.jpg\" width=\"340\" alt=Zootopia ></td>\n",
       "      <td><img src=\"http://image.tmdb.org/t/p/w500/tRNlZbgNCNOpLpbPEz5L8G8A0JN.jpg\" width=\"340\" alt=Prestige, The ></td>\n",
       "      <td><img src=\"http://image.tmdb.org/t/p/w500/kAPN02qvX7QTQYtBu9wHN6xQySB.jpg\" width=\"340\" alt=Inside Out ></td>\n",
       "      <td><img src=\"http://image.tmdb.org/t/p/w500/uGBVj3bEbCoZbDjjl9wTxcygko1.jpg\" width=\"340\" alt=Doctor Strange ></td>\n",
       "      <td><img src=\"http://image.tmdb.org/t/p/w500/wFSpyMsp7H0ttERbxY7Trlv8xry.jpg\" width=\"340\" alt=Monsters, Inc. ></td>\n",
       "      <td><img src=\"http://image.tmdb.org/t/p/w500/RYMX2wcKCBAr24UyPD7xwmjaTn.jpg\" width=\"340\" alt=Avengers, The ></td>\n",
       "      <td><img src=\"http://image.tmdb.org/t/p/w500/qJ2tW6WMUDux911r6m7haRef0WH.jpg\" width=\"340\" alt=Dark Knight, The ></td>\n",
       "      <td><img src=\"http://image.tmdb.org/t/p/w500/AbbXspMOwdvwWZgVN0nabZq03Ec.jpg\" width=\"340\" alt=Toy Story 3 ></td>\n",
       "      <td><img src=\"http://image.tmdb.org/t/p/w500/oYuLEt3zVCKq57qu2F8dT7NIa6f.jpg\" width=\"340\" alt=Inception ></td>\n",
       "      <td><img src=\"http://image.tmdb.org/t/p/w500/gEU2QniE6E77NI6lCU6MxlNBvIx.jpg\" width=\"340\" alt=Interstellar ></td>\n",
       "      <td><img src=\"http://image.tmdb.org/t/p/w500/wp6OxE4poJ4G7c0U2ZIXasTSMR7.jpg\" width=\"340\" alt=Thor: The Dark World ></td>\n",
       "      <td><img src=\"http://image.tmdb.org/t/p/w500/k0inzQmt7kATmAGns0wdfjiFxSu.jpg\" width=\"340\" alt=Insomnia ></td>\n",
       "      <td><img src=\"http://image.tmdb.org/t/p/w500/eHuGQ10FUzK1mdOY69wF5pGgEf5.jpg\" width=\"340\" alt=Finding Nemo ></td>\n",
       "      <td><img src=\"http://image.tmdb.org/t/p/w500/vSNxAJTlD0r02V9sPYpOjqDZXUK.jpg\" width=\"340\" alt=Captain America: The First Avenger ></td>\n",
       "      <td><img src=\"http://image.tmdb.org/t/p/w500/yuNs09hvpHVU1cBTCAk9zxsL2oW.jpg\" width=\"340\" alt=Memento ></td>\n",
       "      <td><img src=\"http://image.tmdb.org/t/p/w500/2LqaLgk4Z226KkgPJuiOQ58wvrm.jpg\" width=\"340\" alt=Incredibles, The ></td>\n",
       "      <td><img src=\"http://image.tmdb.org/t/p/w500/t3vaWRPSf6WjDSamIkKDs1iQWna.jpg\" width=\"340\" alt=Ratatouille ></td>\n",
       "      <td><img src=\"http://image.tmdb.org/t/p/w500/fnbjcRDYn6YviCcePDnGdyAkYsB.jpg\" width=\"340\" alt=Logan ></td>\n",
       "      <td><img src=\"http://image.tmdb.org/t/p/w500/jIfkQNARYyERqRAq1p1c8xgePp4.jpg\" width=\"340\" alt=Amazing Spider-Man, The ></td>\n",
       "      <td><img src=\"http://image.tmdb.org/t/p/w500/r2J02Z2OpNTctfOSN1Ydgii51I3.jpg\" width=\"340\" alt=Guardians of the Galaxy ></td>\n",
       "      <td><img src=\"http://image.tmdb.org/t/p/w500/ys0jZr0quHERDUEoCboGQEKPvgQ.jpg\" width=\"340\" alt=Moana ></td>\n",
       "      <td><img src=\"http://image.tmdb.org/t/p/w500/3UVe8NL1E2ZdUZ9EDlKGJY5UzE.jpg\" width=\"340\" alt=Finding Dory ></td>\n",
       "      <td><img src=\"http://image.tmdb.org/t/p/w500/b4Oe15CGLL61Ped0RAS9JpqdmCt.jpg\" width=\"340\" alt=Dunkirk ></td>\n",
       "      <td><img src=\"http://image.tmdb.org/t/p/w500/rAGiXaUfPzY7CDEyNKUofk3Kw2e.jpg\" width=\"340\" alt=Captain America: Civil War ></td>\n",
       "      <td><img src=\"http://image.tmdb.org/t/p/w500/8YxOIPrabqkQCOKKbuxaz9IcqhO.jpg\" width=\"340\" alt=Ant-Man ></td>\n",
       "      <td><img src=\"http://image.tmdb.org/t/p/w500/4ssDuvEDkSArWEdyBl2X5EHvYKU.jpg\" width=\"340\" alt=Avengers: Age of Ultron ></td>\n",
       "      <td><img src=\"http://image.tmdb.org/t/p/w500/snGwr2gag4Fcgx2OGmH9otl6ofW.jpg\" width=\"340\" alt=The Lego Movie ></td>\n",
       "      <td><img src=\"http://image.tmdb.org/t/p/w500/ykUEbfpkf8d0w49pHh0AD2KrT52.jpg\" width=\"340\" alt=Aladdin ></td>\n",
       "      <td><img src=\"http://image.tmdb.org/t/p/w500/tVFRpFw3xTedgPGqxW0AOI8Qhh0.jpg\" width=\"340\" alt=Captain America: The Winter Soldier ></td>\n",
       "      <td><img src=\"http://image.tmdb.org/t/p/w500/dGjoPttcbKR5VWg1jQuNFB247KL.jpg\" width=\"340\" alt=The Amazing Spider-Man 2 ></td>\n",
       "      <td><img src=\"http://image.tmdb.org/t/p/w500/gGEsBPAijhVUFoiNpgZXqRVWJt2.jpg\" width=\"340\" alt=Coco ></td>\n",
       "      <td><img src=\"http://image.tmdb.org/t/p/w500/6WBeq4fCfn7AN0o21W9qNcRF2l9.jpg\" width=\"340\" alt=Iron Man 2 ></td>\n",
       "      <td><img src=\"http://image.tmdb.org/t/p/w500/vpbaStTMt8qqXaEgnOR2EE4DNJk.jpg\" width=\"340\" alt=Up! ></td>\n",
       "      <td><img src=\"http://image.tmdb.org/t/p/w500/78lPtwv72eTNqFW9COBYI0dWDJa.jpg\" width=\"340\" alt=Iron Man ></td>\n",
       "      <td><img src=\"http://image.tmdb.org/t/p/w500/v3bkmfSuhrFEdW6svkMQorFOAl9.jpg\" width=\"340\" alt=Falling Up ></td>\n",
       "    </tr>\n",
       "    <tr>\n",
       "      <th>Genres</th>\n",
       "      <td><ul><li style=\"text-align:left;vertical-align:top;\">Adventure</li><li style=\"text-align:left;vertical-align:top;\">Animation</li><li style=\"text-align:left;vertical-align:top;\">Children</li><li style=\"text-align:left;vertical-align:top;\">Comedy</li><li style=\"text-align:left;vertical-align:top;\">Fantasy</li></ul></td>\n",
       "      <td><ul><li style=\"text-align:left;vertical-align:top;\">Action</li><li style=\"text-align:left;vertical-align:top;\">Adventure</li><li style=\"text-align:left;vertical-align:top;\">Sci-fi</li></ul></td>\n",
       "      <td><ul><li style=\"text-align:left;vertical-align:top;\">Action</li><li style=\"text-align:left;vertical-align:top;\">Sci-fi</li><li style=\"text-align:left;vertical-align:top;\">Thriller</li><li style=\"text-align:left;vertical-align:top;\">Imax</li></ul></td>\n",
       "      <td><ul><li style=\"text-align:left;vertical-align:top;\">Adventure</li><li style=\"text-align:left;vertical-align:top;\">Animation</li><li style=\"text-align:left;vertical-align:top;\">Children</li><li style=\"text-align:left;vertical-align:top;\">Comedy</li><li style=\"text-align:left;vertical-align:top;\">Fantasy</li></ul></td>\n",
       "      <td><ul><li style=\"text-align:left;vertical-align:top;\">Action</li><li style=\"text-align:left;vertical-align:top;\">Adventure</li><li style=\"text-align:left;vertical-align:top;\">Animation</li><li style=\"text-align:left;vertical-align:top;\">Children</li><li style=\"text-align:left;vertical-align:top;\">Comedy</li></ul></td>\n",
       "      <td><ul><li style=\"text-align:left;vertical-align:top;\">Drama</li><li style=\"text-align:left;vertical-align:top;\">Mystery</li><li style=\"text-align:left;vertical-align:top;\">Sci-fi</li><li style=\"text-align:left;vertical-align:top;\">Thriller</li></ul></td>\n",
       "      <td><ul><li style=\"text-align:left;vertical-align:top;\">Adventure</li><li style=\"text-align:left;vertical-align:top;\">Animation</li><li style=\"text-align:left;vertical-align:top;\">Children</li><li style=\"text-align:left;vertical-align:top;\">Comedy</li><li style=\"text-align:left;vertical-align:top;\">Drama</li><li style=\"text-align:left;vertical-align:top;\">Fantasy</li></ul></td>\n",
       "      <td><ul><li style=\"text-align:left;vertical-align:top;\">Action</li><li style=\"text-align:left;vertical-align:top;\">Adventure</li><li style=\"text-align:left;vertical-align:top;\">Sci-fi</li></ul></td>\n",
       "      <td><ul><li style=\"text-align:left;vertical-align:top;\">Adventure</li><li style=\"text-align:left;vertical-align:top;\">Animation</li><li style=\"text-align:left;vertical-align:top;\">Children</li><li style=\"text-align:left;vertical-align:top;\">Comedy</li><li style=\"text-align:left;vertical-align:top;\">Fantasy</li></ul></td>\n",
       "      <td><ul><li style=\"text-align:left;vertical-align:top;\">Action</li><li style=\"text-align:left;vertical-align:top;\">Adventure</li></ul></td>\n",
       "      <td><ul><li style=\"text-align:left;vertical-align:top;\">Action</li><li style=\"text-align:left;vertical-align:top;\">Crime</li><li style=\"text-align:left;vertical-align:top;\">Drama</li><li style=\"text-align:left;vertical-align:top;\">Imax</li></ul></td>\n",
       "      <td><ul><li style=\"text-align:left;vertical-align:top;\">Adventure</li><li style=\"text-align:left;vertical-align:top;\">Animation</li><li style=\"text-align:left;vertical-align:top;\">Children</li><li style=\"text-align:left;vertical-align:top;\">Comedy</li><li style=\"text-align:left;vertical-align:top;\">Fantasy</li><li style=\"text-align:left;vertical-align:top;\">Imax</li></ul></td>\n",
       "      <td><ul><li style=\"text-align:left;vertical-align:top;\">Action</li><li style=\"text-align:left;vertical-align:top;\">Crime</li><li style=\"text-align:left;vertical-align:top;\">Drama</li><li style=\"text-align:left;vertical-align:top;\">Mystery</li><li style=\"text-align:left;vertical-align:top;\">Sci-fi</li><li style=\"text-align:left;vertical-align:top;\">Thriller</li><li style=\"text-align:left;vertical-align:top;\">Imax</li></ul></td>\n",
       "      <td><ul><li style=\"text-align:left;vertical-align:top;\">Sci-fi</li><li style=\"text-align:left;vertical-align:top;\">Imax</li></ul></td>\n",
       "      <td><ul><li style=\"text-align:left;vertical-align:top;\">Action</li><li style=\"text-align:left;vertical-align:top;\">Adventure</li><li style=\"text-align:left;vertical-align:top;\">Fantasy</li><li style=\"text-align:left;vertical-align:top;\">Imax</li></ul></td>\n",
       "      <td><ul><li style=\"text-align:left;vertical-align:top;\">Drama</li><li style=\"text-align:left;vertical-align:top;\">Mystery</li><li style=\"text-align:left;vertical-align:top;\">Thriller</li></ul></td>\n",
       "      <td><ul><li style=\"text-align:left;vertical-align:top;\">Adventure</li><li style=\"text-align:left;vertical-align:top;\">Animation</li><li style=\"text-align:left;vertical-align:top;\">Children</li><li style=\"text-align:left;vertical-align:top;\">Comedy</li></ul></td>\n",
       "      <td><ul><li style=\"text-align:left;vertical-align:top;\">Action</li><li style=\"text-align:left;vertical-align:top;\">Adventure</li><li style=\"text-align:left;vertical-align:top;\">Sci-fi</li><li style=\"text-align:left;vertical-align:top;\">Thriller</li><li style=\"text-align:left;vertical-align:top;\">War</li></ul></td>\n",
       "      <td><ul><li style=\"text-align:left;vertical-align:top;\">Mystery</li><li style=\"text-align:left;vertical-align:top;\">Thriller</li></ul></td>\n",
       "      <td><ul><li style=\"text-align:left;vertical-align:top;\">Action</li><li style=\"text-align:left;vertical-align:top;\">Adventure</li><li style=\"text-align:left;vertical-align:top;\">Animation</li><li style=\"text-align:left;vertical-align:top;\">Children</li><li style=\"text-align:left;vertical-align:top;\">Comedy</li></ul></td>\n",
       "      <td><ul><li style=\"text-align:left;vertical-align:top;\">Animation</li><li style=\"text-align:left;vertical-align:top;\">Children</li><li style=\"text-align:left;vertical-align:top;\">Drama</li></ul></td>\n",
       "      <td><ul><li style=\"text-align:left;vertical-align:top;\">Action</li><li style=\"text-align:left;vertical-align:top;\">Sci-fi</li></ul></td>\n",
       "      <td><ul><li style=\"text-align:left;vertical-align:top;\">Action</li><li style=\"text-align:left;vertical-align:top;\">Adventure</li><li style=\"text-align:left;vertical-align:top;\">Sci-fi</li><li style=\"text-align:left;vertical-align:top;\">Imax</li></ul></td>\n",
       "      <td><ul><li style=\"text-align:left;vertical-align:top;\">Action</li><li style=\"text-align:left;vertical-align:top;\">Adventure</li><li style=\"text-align:left;vertical-align:top;\">Sci-fi</li></ul></td>\n",
       "      <td><ul><li style=\"text-align:left;vertical-align:top;\">Adventure</li><li style=\"text-align:left;vertical-align:top;\">Animation</li><li style=\"text-align:left;vertical-align:top;\">Children</li><li style=\"text-align:left;vertical-align:top;\">Comedy</li><li style=\"text-align:left;vertical-align:top;\">Fantasy</li></ul></td>\n",
       "      <td><ul><li style=\"text-align:left;vertical-align:top;\">Adventure</li><li style=\"text-align:left;vertical-align:top;\">Animation</li><li style=\"text-align:left;vertical-align:top;\">Comedy</li></ul></td>\n",
       "      <td><ul><li style=\"text-align:left;vertical-align:top;\">Drama</li><li style=\"text-align:left;vertical-align:top;\">War</li></ul></td>\n",
       "      <td><ul><li style=\"text-align:left;vertical-align:top;\">Action</li><li style=\"text-align:left;vertical-align:top;\">Sci-fi</li><li style=\"text-align:left;vertical-align:top;\">Thriller</li></ul></td>\n",
       "      <td><ul><li style=\"text-align:left;vertical-align:top;\">Action</li><li style=\"text-align:left;vertical-align:top;\">Adventure</li><li style=\"text-align:left;vertical-align:top;\">Sci-fi</li></ul></td>\n",
       "      <td><ul><li style=\"text-align:left;vertical-align:top;\">Action</li><li style=\"text-align:left;vertical-align:top;\">Adventure</li><li style=\"text-align:left;vertical-align:top;\">Sci-fi</li></ul></td>\n",
       "      <td><ul><li style=\"text-align:left;vertical-align:top;\">Action</li><li style=\"text-align:left;vertical-align:top;\">Adventure</li><li style=\"text-align:left;vertical-align:top;\">Animation</li><li style=\"text-align:left;vertical-align:top;\">Children</li><li style=\"text-align:left;vertical-align:top;\">Comedy</li><li style=\"text-align:left;vertical-align:top;\">Fantasy</li></ul></td>\n",
       "      <td><ul><li style=\"text-align:left;vertical-align:top;\">Adventure</li><li style=\"text-align:left;vertical-align:top;\">Animation</li><li style=\"text-align:left;vertical-align:top;\">Children</li><li style=\"text-align:left;vertical-align:top;\">Comedy</li><li style=\"text-align:left;vertical-align:top;\">Fantasy</li></ul></td>\n",
       "      <td><ul><li style=\"text-align:left;vertical-align:top;\">Action</li><li style=\"text-align:left;vertical-align:top;\">Adventure</li><li style=\"text-align:left;vertical-align:top;\">Sci-fi</li><li style=\"text-align:left;vertical-align:top;\">Imax</li></ul></td>\n",
       "      <td><ul><li style=\"text-align:left;vertical-align:top;\">Action</li><li style=\"text-align:left;vertical-align:top;\">Sci-fi</li><li style=\"text-align:left;vertical-align:top;\">Imax</li></ul></td>\n",
       "      <td><ul><li style=\"text-align:left;vertical-align:top;\">Comedy</li></ul></td>\n",
       "      <td><ul><li style=\"text-align:left;vertical-align:top;\">Action</li><li style=\"text-align:left;vertical-align:top;\">Adventure</li><li style=\"text-align:left;vertical-align:top;\">Sci-fi</li><li style=\"text-align:left;vertical-align:top;\">Thriller</li><li style=\"text-align:left;vertical-align:top;\">Imax</li></ul></td>\n",
       "      <td><ul><li style=\"text-align:left;vertical-align:top;\">Comedy</li></ul></td>\n",
       "      <td><ul><li style=\"text-align:left;vertical-align:top;\">Action</li><li style=\"text-align:left;vertical-align:top;\">Adventure</li><li style=\"text-align:left;vertical-align:top;\">Sci-fi</li></ul></td>\n",
       "      <td><ul><li style=\"text-align:left;vertical-align:top;\">Comedy</li><li style=\"text-align:left;vertical-align:top;\">Drama</li><li style=\"text-align:left;vertical-align:top;\">Romance</li></ul></td>\n",
       "    </tr>\n",
       "    <tr>\n",
       "      <th>Rating</th>\n",
       "      <td>5.0</td>\n",
       "      <td>5.0</td>\n",
       "      <td>5.0</td>\n",
       "      <td>5.0</td>\n",
       "      <td>5.0</td>\n",
       "      <td>5.0</td>\n",
       "      <td>5.0</td>\n",
       "      <td>5.0</td>\n",
       "      <td>5.0</td>\n",
       "      <td>5.0</td>\n",
       "      <td>5.0</td>\n",
       "      <td>5.0</td>\n",
       "      <td>5.0</td>\n",
       "      <td>5.0</td>\n",
       "      <td>5.0</td>\n",
       "      <td>4.0</td>\n",
       "      <td>4.0</td>\n",
       "      <td>4.0</td>\n",
       "      <td>4.0</td>\n",
       "      <td>4.0</td>\n",
       "      <td>4.0</td>\n",
       "      <td>4.0</td>\n",
       "      <td>4.0</td>\n",
       "      <td>4.0</td>\n",
       "      <td>4.0</td>\n",
       "      <td>4.0</td>\n",
       "      <td>4.0</td>\n",
       "      <td>4.0</td>\n",
       "      <td>4.0</td>\n",
       "      <td>4.0</td>\n",
       "      <td>4.0</td>\n",
       "      <td>4.0</td>\n",
       "      <td>4.0</td>\n",
       "      <td>3.0</td>\n",
       "      <td>3.0</td>\n",
       "      <td>3.0</td>\n",
       "      <td>3.0</td>\n",
       "      <td>3.0</td>\n",
       "      <td>2.0</td>\n",
       "    </tr>\n",
       "  </tbody>\n",
       "</table>"
      ],
      "text/plain": [
       "<IPython.core.display.HTML object>"
      ]
     },
     "metadata": {},
     "output_type": "display_data"
    }
   ],
   "source": [
    "recommendations.show_seen()"
   ]
  },
  {
   "cell_type": "code",
   "execution_count": 49,
   "id": "ab1f0c0a-4d68-49c7-bf56-a33c4bb7b41f",
   "metadata": {
    "tags": []
   },
   "outputs": [
    {
     "data": {
      "text/html": [
       "<h2>Recommendations</h2>"
      ],
      "text/plain": [
       "<IPython.core.display.HTML object>"
      ]
     },
     "metadata": {},
     "output_type": "display_data"
    },
    {
     "data": {
      "text/html": [
       "<h4><b>Tags:</b> <b>sci-fi</b>(8), <b>comedy</b>(4), <b>drama</b>(4), <b>action</b>(4), <b>adventure</b>(3), <b>thriller</b>(3), <b>animation</b>(2), <b>children</b>(2), <b>imax</b>(1), <b>horror</b>(1), <b>crime</b>(1)</h4>"
      ],
      "text/plain": [
       "<IPython.core.display.HTML object>"
      ]
     },
     "metadata": {},
     "output_type": "display_data"
    },
    {
     "data": {
      "text/html": [
       "<table border=\"1\" class=\"dataframe\">\n",
       "  <thead>\n",
       "    <tr style=\"text-align: right;\">\n",
       "      <th></th>\n",
       "      <th>0</th>\n",
       "      <th>1</th>\n",
       "      <th>2</th>\n",
       "      <th>3</th>\n",
       "      <th>4</th>\n",
       "      <th>5</th>\n",
       "      <th>6</th>\n",
       "      <th>7</th>\n",
       "      <th>8</th>\n",
       "      <th>9</th>\n",
       "    </tr>\n",
       "  </thead>\n",
       "  <tbody>\n",
       "    <tr>\n",
       "      <th>Poster</th>\n",
       "      <td><img src=\"http://image.tmdb.org/t/p/w500/xp7rAEgkoPUBWk5XZcAai8gDZT1.jpg\" width=\"340\" alt=Kin-Dza-Dza! ></td>\n",
       "      <td><img src=\"http://image.tmdb.org/t/p/w500/fNOH9f1aA7XRTzl1sAOx9iF553Q.jpg\" width=\"340\" alt=Back to the Future ></td>\n",
       "      <td><img src=\"http://image.tmdb.org/t/p/w500/ggcBBYgnwrRAdx2vTthSAZDfrrk.jpg\" width=\"340\" alt=Ghostbusters ></td>\n",
       "      <td><img src=\"http://image.tmdb.org/t/p/w500/V086R82gNgWrotaXZFO4JhdgB1.jpg\" width=\"340\" alt=Man from Earth, The ></td>\n",
       "      <td><img src=\"http://image.tmdb.org/t/p/w500/vpbaStTMt8qqXaEgnOR2EE4DNJk.jpg\" width=\"340\" alt=Up ></td>\n",
       "      <td><img src=\"http://image.tmdb.org/t/p/w500/xjw5trHV7Mwo61P0kCTy8paEkgO.jpg\" width=\"340\" alt=Edge of Tomorrow ></td>\n",
       "      <td><img src=\"http://image.tmdb.org/t/p/w500/tzGY49kseSE9QAKk47uuDGwnSCu.jpg\" width=\"340\" alt=Thing, The ></td>\n",
       "      <td><img src=\"http://image.tmdb.org/t/p/w500/8tZYtuWezp8JbcsvHYO0O46tFbo.jpg\" width=\"340\" alt=Mad Max: Fury Road ></td>\n",
       "      <td><img src=\"http://image.tmdb.org/t/p/w500/eSKr5Fl1MEC7zpAXaLWBWSBjgJq.jpg\" width=\"340\" alt=Gattaca ></td>\n",
       "      <td><img src=\"http://image.tmdb.org/t/p/w500/9lOloREsAhBu0pEtU0BgeR1rHyo.jpg\" width=\"340\" alt=Despicable Me ></td>\n",
       "    </tr>\n",
       "    <tr>\n",
       "      <th>Genres</th>\n",
       "      <td><ul><li style=\"text-align:left;vertical-align:top;\">Comedy</li><li style=\"text-align:left;vertical-align:top;\">Drama</li><li style=\"text-align:left;vertical-align:top;\">Sci-fi</li></ul></td>\n",
       "      <td><ul><li style=\"text-align:left;vertical-align:top;\">Adventure</li><li style=\"text-align:left;vertical-align:top;\">Comedy</li><li style=\"text-align:left;vertical-align:top;\">Sci-fi</li></ul></td>\n",
       "      <td><ul><li style=\"text-align:left;vertical-align:top;\">Action</li><li style=\"text-align:left;vertical-align:top;\">Comedy</li><li style=\"text-align:left;vertical-align:top;\">Sci-fi</li></ul></td>\n",
       "      <td><ul><li style=\"text-align:left;vertical-align:top;\">Drama</li><li style=\"text-align:left;vertical-align:top;\">Sci-fi</li></ul></td>\n",
       "      <td><ul><li style=\"text-align:left;vertical-align:top;\">Adventure</li><li style=\"text-align:left;vertical-align:top;\">Animation</li><li style=\"text-align:left;vertical-align:top;\">Children</li><li style=\"text-align:left;vertical-align:top;\">Drama</li></ul></td>\n",
       "      <td><ul><li style=\"text-align:left;vertical-align:top;\">Action</li><li style=\"text-align:left;vertical-align:top;\">Sci-fi</li><li style=\"text-align:left;vertical-align:top;\">Imax</li></ul></td>\n",
       "      <td><ul><li style=\"text-align:left;vertical-align:top;\">Action</li><li style=\"text-align:left;vertical-align:top;\">Horror</li><li style=\"text-align:left;vertical-align:top;\">Sci-fi</li><li style=\"text-align:left;vertical-align:top;\">Thriller</li></ul></td>\n",
       "      <td><ul><li style=\"text-align:left;vertical-align:top;\">Action</li><li style=\"text-align:left;vertical-align:top;\">Adventure</li><li style=\"text-align:left;vertical-align:top;\">Sci-fi</li><li style=\"text-align:left;vertical-align:top;\">Thriller</li></ul></td>\n",
       "      <td><ul><li style=\"text-align:left;vertical-align:top;\">Drama</li><li style=\"text-align:left;vertical-align:top;\">Sci-fi</li><li style=\"text-align:left;vertical-align:top;\">Thriller</li></ul></td>\n",
       "      <td><ul><li style=\"text-align:left;vertical-align:top;\">Animation</li><li style=\"text-align:left;vertical-align:top;\">Children</li><li style=\"text-align:left;vertical-align:top;\">Comedy</li><li style=\"text-align:left;vertical-align:top;\">Crime</li></ul></td>\n",
       "    </tr>\n",
       "    <tr>\n",
       "      <th>Mean Rating</th>\n",
       "      <td>4.117647</td>\n",
       "      <td>4.101064</td>\n",
       "      <td>3.786517</td>\n",
       "      <td>3.953947</td>\n",
       "      <td>3.995122</td>\n",
       "      <td>4.009524</td>\n",
       "      <td>4.045455</td>\n",
       "      <td>3.862832</td>\n",
       "      <td>3.976636</td>\n",
       "      <td>3.60241</td>\n",
       "    </tr>\n",
       "    <tr>\n",
       "      <th>Predicted Rating</th>\n",
       "      <td>4.75918</td>\n",
       "      <td>4.655716</td>\n",
       "      <td>4.494987</td>\n",
       "      <td>4.472497</td>\n",
       "      <td>4.469231</td>\n",
       "      <td>4.318829</td>\n",
       "      <td>4.299498</td>\n",
       "      <td>4.276339</td>\n",
       "      <td>4.261951</td>\n",
       "      <td>4.201691</td>\n",
       "    </tr>\n",
       "    <tr>\n",
       "      <th>User sim weighted rating score</th>\n",
       "      <td>0.989114</td>\n",
       "      <td>0.985401</td>\n",
       "      <td>0.909822</td>\n",
       "      <td>0.949791</td>\n",
       "      <td>0.959902</td>\n",
       "      <td>0.96314</td>\n",
       "      <td>0.972115</td>\n",
       "      <td>0.928116</td>\n",
       "      <td>0.955241</td>\n",
       "      <td>0.86623</td>\n",
       "    </tr>\n",
       "    <tr>\n",
       "      <th>User sim weighted predicted rating score</th>\n",
       "      <td>0.989114</td>\n",
       "      <td>0.967877</td>\n",
       "      <td>0.934463</td>\n",
       "      <td>0.929531</td>\n",
       "      <td>0.929066</td>\n",
       "      <td>0.897593</td>\n",
       "      <td>0.893892</td>\n",
       "      <td>0.888967</td>\n",
       "      <td>0.885773</td>\n",
       "      <td>0.87414</td>\n",
       "    </tr>\n",
       "    <tr>\n",
       "      <th>User Item Similarity</th>\n",
       "      <td>0.989114</td>\n",
       "      <td>0.989386</td>\n",
       "      <td>0.989386</td>\n",
       "      <td>0.989114</td>\n",
       "      <td>0.98934</td>\n",
       "      <td>0.989112</td>\n",
       "      <td>0.989462</td>\n",
       "      <td>0.98934</td>\n",
       "      <td>0.989114</td>\n",
       "      <td>0.990123</td>\n",
       "    </tr>\n",
       "  </tbody>\n",
       "</table>"
      ],
      "text/plain": [
       "<IPython.core.display.HTML object>"
      ]
     },
     "metadata": {},
     "output_type": "display_data"
    },
    {
     "data": {
      "text/html": [
       "<h5><b>Generated by</b> DatabaseUserItemFilteringRecommender.</h5>"
      ],
      "text/plain": [
       "<IPython.core.display.HTML object>"
      ]
     },
     "metadata": {},
     "output_type": "display_data"
    }
   ],
   "source": [
    "recommendations.show(\n",
    "    sort_by        = ['user_sim_weighted_pred_rating_score'],\n",
    "    k              = 10\n",
    ")"
   ]
  },
  {
   "cell_type": "markdown",
   "id": "c4e55c54-2961-493a-a1b2-e8a7e14f7ba9",
   "metadata": {
    "tags": []
   },
   "source": [
    "### Notes\n",
    "* Movies seen by similar users weighted by user predicted rating.\n",
    "* Ordered by **User sim weighted predicted rating score**.\n",
    "* **User sim weighted predicted rating score** = similar_user_similarity(0..1) * user_predicted_rating (Normalize to 0..1)"
   ]
  },
  {
   "cell_type": "code",
   "execution_count": 50,
   "id": "a5cb1e0a-71cb-48ea-83a9-1cb89bd5dd89",
   "metadata": {
    "tags": []
   },
   "outputs": [
    {
     "data": {
      "text/html": [
       "<h2>Recommendations</h2>"
      ],
      "text/plain": [
       "<IPython.core.display.HTML object>"
      ]
     },
     "metadata": {},
     "output_type": "display_data"
    },
    {
     "data": {
      "text/html": [
       "<h4><b>Tags:</b> <b>sci-fi</b>(9), <b>thriller</b>(5), <b>drama</b>(4), <b>adventure</b>(3), <b>action</b>(3), <b>comedy</b>(2), <b>mystery</b>(2), <b>horror</b>(1), <b>imax</b>(1), <b>animation</b>(1), <b>children</b>(1)</h4>"
      ],
      "text/plain": [
       "<IPython.core.display.HTML object>"
      ]
     },
     "metadata": {},
     "output_type": "display_data"
    },
    {
     "data": {
      "text/html": [
       "<table border=\"1\" class=\"dataframe\">\n",
       "  <thead>\n",
       "    <tr style=\"text-align: right;\">\n",
       "      <th></th>\n",
       "      <th>0</th>\n",
       "      <th>1</th>\n",
       "      <th>2</th>\n",
       "      <th>3</th>\n",
       "      <th>4</th>\n",
       "      <th>5</th>\n",
       "      <th>6</th>\n",
       "      <th>7</th>\n",
       "      <th>8</th>\n",
       "      <th>9</th>\n",
       "    </tr>\n",
       "  </thead>\n",
       "  <tbody>\n",
       "    <tr>\n",
       "      <th>Poster</th>\n",
       "      <td><img src=\"http://image.tmdb.org/t/p/w500/xp7rAEgkoPUBWk5XZcAai8gDZT1.jpg\" width=\"340\" alt=Kin-Dza-Dza! ></td>\n",
       "      <td><img src=\"http://image.tmdb.org/t/p/w500/fNOH9f1aA7XRTzl1sAOx9iF553Q.jpg\" width=\"340\" alt=Back to the Future ></td>\n",
       "      <td><img src=\"http://image.tmdb.org/t/p/w500/tzGY49kseSE9QAKk47uuDGwnSCu.jpg\" width=\"340\" alt=Thing, The ></td>\n",
       "      <td><img src=\"http://image.tmdb.org/t/p/w500/xjw5trHV7Mwo61P0kCTy8paEkgO.jpg\" width=\"340\" alt=Edge of Tomorrow ></td>\n",
       "      <td><img src=\"http://image.tmdb.org/t/p/w500/vpbaStTMt8qqXaEgnOR2EE4DNJk.jpg\" width=\"340\" alt=Up ></td>\n",
       "      <td><img src=\"http://image.tmdb.org/t/p/w500/eSKr5Fl1MEC7zpAXaLWBWSBjgJq.jpg\" width=\"340\" alt=Gattaca ></td>\n",
       "      <td><img src=\"http://image.tmdb.org/t/p/w500/V086R82gNgWrotaXZFO4JhdgB1.jpg\" width=\"340\" alt=Man from Earth, The ></td>\n",
       "      <td><img src=\"http://image.tmdb.org/t/p/w500/gt3iyguaCIw8DpQZI1LIN5TohM2.jpg\" width=\"340\" alt=Twelve Monkeys ></td>\n",
       "      <td><img src=\"http://image.tmdb.org/t/p/w500/tuGlQkqLxnodDSk6mp5c2wvxUEd.jpg\" width=\"340\" alt=District 9 ></td>\n",
       "      <td><img src=\"http://image.tmdb.org/t/p/w500/8tZYtuWezp8JbcsvHYO0O46tFbo.jpg\" width=\"340\" alt=Mad Max: Fury Road ></td>\n",
       "    </tr>\n",
       "    <tr>\n",
       "      <th>Genres</th>\n",
       "      <td><ul><li style=\"text-align:left;vertical-align:top;\">Comedy</li><li style=\"text-align:left;vertical-align:top;\">Drama</li><li style=\"text-align:left;vertical-align:top;\">Sci-fi</li></ul></td>\n",
       "      <td><ul><li style=\"text-align:left;vertical-align:top;\">Adventure</li><li style=\"text-align:left;vertical-align:top;\">Comedy</li><li style=\"text-align:left;vertical-align:top;\">Sci-fi</li></ul></td>\n",
       "      <td><ul><li style=\"text-align:left;vertical-align:top;\">Action</li><li style=\"text-align:left;vertical-align:top;\">Horror</li><li style=\"text-align:left;vertical-align:top;\">Sci-fi</li><li style=\"text-align:left;vertical-align:top;\">Thriller</li></ul></td>\n",
       "      <td><ul><li style=\"text-align:left;vertical-align:top;\">Action</li><li style=\"text-align:left;vertical-align:top;\">Sci-fi</li><li style=\"text-align:left;vertical-align:top;\">Imax</li></ul></td>\n",
       "      <td><ul><li style=\"text-align:left;vertical-align:top;\">Adventure</li><li style=\"text-align:left;vertical-align:top;\">Animation</li><li style=\"text-align:left;vertical-align:top;\">Children</li><li style=\"text-align:left;vertical-align:top;\">Drama</li></ul></td>\n",
       "      <td><ul><li style=\"text-align:left;vertical-align:top;\">Drama</li><li style=\"text-align:left;vertical-align:top;\">Sci-fi</li><li style=\"text-align:left;vertical-align:top;\">Thriller</li></ul></td>\n",
       "      <td><ul><li style=\"text-align:left;vertical-align:top;\">Drama</li><li style=\"text-align:left;vertical-align:top;\">Sci-fi</li></ul></td>\n",
       "      <td><ul><li style=\"text-align:left;vertical-align:top;\">Mystery</li><li style=\"text-align:left;vertical-align:top;\">Sci-fi</li><li style=\"text-align:left;vertical-align:top;\">Thriller</li></ul></td>\n",
       "      <td><ul><li style=\"text-align:left;vertical-align:top;\">Mystery</li><li style=\"text-align:left;vertical-align:top;\">Sci-fi</li><li style=\"text-align:left;vertical-align:top;\">Thriller</li></ul></td>\n",
       "      <td><ul><li style=\"text-align:left;vertical-align:top;\">Action</li><li style=\"text-align:left;vertical-align:top;\">Adventure</li><li style=\"text-align:left;vertical-align:top;\">Sci-fi</li><li style=\"text-align:left;vertical-align:top;\">Thriller</li></ul></td>\n",
       "    </tr>\n",
       "    <tr>\n",
       "      <th>Mean Rating</th>\n",
       "      <td>4.117647</td>\n",
       "      <td>4.101064</td>\n",
       "      <td>4.045455</td>\n",
       "      <td>4.009524</td>\n",
       "      <td>3.995122</td>\n",
       "      <td>3.976636</td>\n",
       "      <td>3.953947</td>\n",
       "      <td>3.941748</td>\n",
       "      <td>3.883268</td>\n",
       "      <td>3.862832</td>\n",
       "    </tr>\n",
       "    <tr>\n",
       "      <th>Predicted Rating</th>\n",
       "      <td>4.75918</td>\n",
       "      <td>4.655716</td>\n",
       "      <td>4.299498</td>\n",
       "      <td>4.318829</td>\n",
       "      <td>4.469231</td>\n",
       "      <td>4.261951</td>\n",
       "      <td>4.472497</td>\n",
       "      <td>4.181332</td>\n",
       "      <td>4.139088</td>\n",
       "      <td>4.276339</td>\n",
       "    </tr>\n",
       "    <tr>\n",
       "      <th>User sim weighted rating score</th>\n",
       "      <td>0.989114</td>\n",
       "      <td>0.985401</td>\n",
       "      <td>0.972115</td>\n",
       "      <td>0.96314</td>\n",
       "      <td>0.959902</td>\n",
       "      <td>0.955241</td>\n",
       "      <td>0.949791</td>\n",
       "      <td>0.947194</td>\n",
       "      <td>0.932925</td>\n",
       "      <td>0.928116</td>\n",
       "    </tr>\n",
       "    <tr>\n",
       "      <th>User sim weighted predicted rating score</th>\n",
       "      <td>0.989114</td>\n",
       "      <td>0.967877</td>\n",
       "      <td>0.893892</td>\n",
       "      <td>0.897593</td>\n",
       "      <td>0.929066</td>\n",
       "      <td>0.885773</td>\n",
       "      <td>0.929531</td>\n",
       "      <td>0.869324</td>\n",
       "      <td>0.860341</td>\n",
       "      <td>0.888967</td>\n",
       "    </tr>\n",
       "    <tr>\n",
       "      <th>User Item Similarity</th>\n",
       "      <td>0.989114</td>\n",
       "      <td>0.989386</td>\n",
       "      <td>0.989462</td>\n",
       "      <td>0.989112</td>\n",
       "      <td>0.98934</td>\n",
       "      <td>0.989114</td>\n",
       "      <td>0.989114</td>\n",
       "      <td>0.989462</td>\n",
       "      <td>0.989232</td>\n",
       "      <td>0.98934</td>\n",
       "    </tr>\n",
       "  </tbody>\n",
       "</table>"
      ],
      "text/plain": [
       "<IPython.core.display.HTML object>"
      ]
     },
     "metadata": {},
     "output_type": "display_data"
    },
    {
     "data": {
      "text/html": [
       "<h5><b>Generated by</b> DatabaseUserItemFilteringRecommender.</h5>"
      ],
      "text/plain": [
       "<IPython.core.display.HTML object>"
      ]
     },
     "metadata": {},
     "output_type": "display_data"
    }
   ],
   "source": [
    "recommendations.show(\n",
    "    sort_by        = ['user_sim_weighted_rating_score'],\n",
    "    k              = 10\n",
    ")"
   ]
  },
  {
   "cell_type": "markdown",
   "id": "23bdf26f-e636-432e-ac46-7531dfa5caeb",
   "metadata": {},
   "source": [
    "### Notes\n",
    "* Movies seen by similar users weighted by movie mean rating.\n",
    "* Ordered by **User sim weighted rating score**.\n",
    "* **User sim weighted rating score** = similar_user_similarity(0..1) * mean_movie_rating (Normalize to 0..1) "
   ]
  },
  {
   "cell_type": "code",
   "execution_count": 51,
   "id": "4c4c8c5c-5bb5-488f-9cc9-0b41472f110a",
   "metadata": {},
   "outputs": [
    {
     "data": {
      "text/html": [
       "<h2>Recommendations</h2>"
      ],
      "text/plain": [
       "<IPython.core.display.HTML object>"
      ]
     },
     "metadata": {},
     "output_type": "display_data"
    },
    {
     "data": {
      "text/html": [
       "<h4><b>Tags:</b> <b>sci-fi</b>(6), <b>action</b>(5), <b>comedy</b>(4), <b>adventure</b>(4), <b>animation</b>(3), <b>thriller</b>(3), <b>children</b>(2), <b>crime</b>(1), <b>fantasy</b>(1), <b>mystery</b>(1), <b>horror</b>(1), <b>drama</b>(1)</h4>"
      ],
      "text/plain": [
       "<IPython.core.display.HTML object>"
      ]
     },
     "metadata": {},
     "output_type": "display_data"
    },
    {
     "data": {
      "text/html": [
       "<table border=\"1\" class=\"dataframe\">\n",
       "  <thead>\n",
       "    <tr style=\"text-align: right;\">\n",
       "      <th></th>\n",
       "      <th>0</th>\n",
       "      <th>1</th>\n",
       "      <th>2</th>\n",
       "      <th>3</th>\n",
       "      <th>4</th>\n",
       "      <th>5</th>\n",
       "      <th>6</th>\n",
       "      <th>7</th>\n",
       "      <th>8</th>\n",
       "      <th>9</th>\n",
       "    </tr>\n",
       "  </thead>\n",
       "  <tbody>\n",
       "    <tr>\n",
       "      <th>Poster</th>\n",
       "      <td><img src=\"http://image.tmdb.org/t/p/w500/9lOloREsAhBu0pEtU0BgeR1rHyo.jpg\" width=\"340\" alt=Despicable Me ></td>\n",
       "      <td><img src=\"http://image.tmdb.org/t/p/w500/rYBaXgvTKFS8iZC7Wr8SMomSauQ.jpg\" width=\"340\" alt=Bee Movie ></td>\n",
       "      <td><img src=\"http://image.tmdb.org/t/p/w500/qwoGfcg6YUS55nUweKGujHE54Wy.jpg\" width=\"340\" alt=Pirates of the Caribbean: Dead Men Tell No Tales ></td>\n",
       "      <td><img src=\"http://image.tmdb.org/t/p/w500/gt3iyguaCIw8DpQZI1LIN5TohM2.jpg\" width=\"340\" alt=Twelve Monkeys ></td>\n",
       "      <td><img src=\"http://image.tmdb.org/t/p/w500/tzGY49kseSE9QAKk47uuDGwnSCu.jpg\" width=\"340\" alt=Thing, The ></td>\n",
       "      <td><img src=\"http://image.tmdb.org/t/p/w500/cxCmv23O7p3hyHwqoktHYkZcGsY.jpg\" width=\"340\" alt=Starship Troopers ></td>\n",
       "      <td><img src=\"http://image.tmdb.org/t/p/w500/ggcBBYgnwrRAdx2vTthSAZDfrrk.jpg\" width=\"340\" alt=Ghostbusters ></td>\n",
       "      <td><img src=\"http://image.tmdb.org/t/p/w500/fNOH9f1aA7XRTzl1sAOx9iF553Q.jpg\" width=\"340\" alt=Back to the Future ></td>\n",
       "      <td><img src=\"http://image.tmdb.org/t/p/w500/8tZYtuWezp8JbcsvHYO0O46tFbo.jpg\" width=\"340\" alt=Mad Max: Fury Road ></td>\n",
       "      <td><img src=\"http://image.tmdb.org/t/p/w500/vpbaStTMt8qqXaEgnOR2EE4DNJk.jpg\" width=\"340\" alt=Up ></td>\n",
       "    </tr>\n",
       "    <tr>\n",
       "      <th>Genres</th>\n",
       "      <td><ul><li style=\"text-align:left;vertical-align:top;\">Animation</li><li style=\"text-align:left;vertical-align:top;\">Children</li><li style=\"text-align:left;vertical-align:top;\">Comedy</li><li style=\"text-align:left;vertical-align:top;\">Crime</li></ul></td>\n",
       "      <td><ul><li style=\"text-align:left;vertical-align:top;\">Animation</li><li style=\"text-align:left;vertical-align:top;\">Comedy</li></ul></td>\n",
       "      <td><ul><li style=\"text-align:left;vertical-align:top;\">Adventure</li><li style=\"text-align:left;vertical-align:top;\">Action</li><li style=\"text-align:left;vertical-align:top;\">Fantasy</li></ul></td>\n",
       "      <td><ul><li style=\"text-align:left;vertical-align:top;\">Mystery</li><li style=\"text-align:left;vertical-align:top;\">Sci-fi</li><li style=\"text-align:left;vertical-align:top;\">Thriller</li></ul></td>\n",
       "      <td><ul><li style=\"text-align:left;vertical-align:top;\">Action</li><li style=\"text-align:left;vertical-align:top;\">Horror</li><li style=\"text-align:left;vertical-align:top;\">Sci-fi</li><li style=\"text-align:left;vertical-align:top;\">Thriller</li></ul></td>\n",
       "      <td><ul><li style=\"text-align:left;vertical-align:top;\">Action</li><li style=\"text-align:left;vertical-align:top;\">Sci-fi</li></ul></td>\n",
       "      <td><ul><li style=\"text-align:left;vertical-align:top;\">Action</li><li style=\"text-align:left;vertical-align:top;\">Comedy</li><li style=\"text-align:left;vertical-align:top;\">Sci-fi</li></ul></td>\n",
       "      <td><ul><li style=\"text-align:left;vertical-align:top;\">Adventure</li><li style=\"text-align:left;vertical-align:top;\">Comedy</li><li style=\"text-align:left;vertical-align:top;\">Sci-fi</li></ul></td>\n",
       "      <td><ul><li style=\"text-align:left;vertical-align:top;\">Action</li><li style=\"text-align:left;vertical-align:top;\">Adventure</li><li style=\"text-align:left;vertical-align:top;\">Sci-fi</li><li style=\"text-align:left;vertical-align:top;\">Thriller</li></ul></td>\n",
       "      <td><ul><li style=\"text-align:left;vertical-align:top;\">Adventure</li><li style=\"text-align:left;vertical-align:top;\">Animation</li><li style=\"text-align:left;vertical-align:top;\">Children</li><li style=\"text-align:left;vertical-align:top;\">Drama</li></ul></td>\n",
       "    </tr>\n",
       "    <tr>\n",
       "      <th>Mean Rating</th>\n",
       "      <td>3.60241</td>\n",
       "      <td>2.85</td>\n",
       "      <td>3.181818</td>\n",
       "      <td>3.941748</td>\n",
       "      <td>4.045455</td>\n",
       "      <td>3.555556</td>\n",
       "      <td>3.786517</td>\n",
       "      <td>4.101064</td>\n",
       "      <td>3.862832</td>\n",
       "      <td>3.995122</td>\n",
       "    </tr>\n",
       "    <tr>\n",
       "      <th>Predicted Rating</th>\n",
       "      <td>4.201691</td>\n",
       "      <td>3.759929</td>\n",
       "      <td>4.19021</td>\n",
       "      <td>4.181332</td>\n",
       "      <td>4.299498</td>\n",
       "      <td>4.124599</td>\n",
       "      <td>4.494987</td>\n",
       "      <td>4.655716</td>\n",
       "      <td>4.276339</td>\n",
       "      <td>4.469231</td>\n",
       "    </tr>\n",
       "    <tr>\n",
       "      <th>User sim weighted rating score</th>\n",
       "      <td>0.86623</td>\n",
       "      <td>0.685307</td>\n",
       "      <td>0.765095</td>\n",
       "      <td>0.947194</td>\n",
       "      <td>0.972115</td>\n",
       "      <td>0.854327</td>\n",
       "      <td>0.909822</td>\n",
       "      <td>0.985401</td>\n",
       "      <td>0.928116</td>\n",
       "      <td>0.959902</td>\n",
       "    </tr>\n",
       "    <tr>\n",
       "      <th>User sim weighted predicted rating score</th>\n",
       "      <td>0.87414</td>\n",
       "      <td>0.782234</td>\n",
       "      <td>0.871752</td>\n",
       "      <td>0.869324</td>\n",
       "      <td>0.893892</td>\n",
       "      <td>0.857463</td>\n",
       "      <td>0.934463</td>\n",
       "      <td>0.967877</td>\n",
       "      <td>0.888967</td>\n",
       "      <td>0.929066</td>\n",
       "    </tr>\n",
       "    <tr>\n",
       "      <th>User Item Similarity</th>\n",
       "      <td>0.990123</td>\n",
       "      <td>0.990123</td>\n",
       "      <td>0.990123</td>\n",
       "      <td>0.989462</td>\n",
       "      <td>0.989462</td>\n",
       "      <td>0.989386</td>\n",
       "      <td>0.989386</td>\n",
       "      <td>0.989386</td>\n",
       "      <td>0.98934</td>\n",
       "      <td>0.98934</td>\n",
       "    </tr>\n",
       "  </tbody>\n",
       "</table>"
      ],
      "text/plain": [
       "<IPython.core.display.HTML object>"
      ]
     },
     "metadata": {},
     "output_type": "display_data"
    },
    {
     "data": {
      "text/html": [
       "<h5><b>Generated by</b> DatabaseUserItemFilteringRecommender.</h5>"
      ],
      "text/plain": [
       "<IPython.core.display.HTML object>"
      ]
     },
     "metadata": {},
     "output_type": "display_data"
    }
   ],
   "source": [
    "recommendations.show(\n",
    "    sort_by        = ['user_item_sim'],\n",
    "    k              = 10\n",
    ")"
   ]
  },
  {
   "cell_type": "markdown",
   "id": "8f640a43-1613-4ae6-82fe-780bfe81fb11",
   "metadata": {
    "tags": []
   },
   "source": [
    "### Notes\n",
    "* Movies seen by similar users.\n",
    "* Ordered by **similar user similarity by movie**.\n",
    "* take movies sample from each similar user, then assign similary and order by similary."
   ]
  },
  {
   "cell_type": "code",
   "execution_count": null,
   "id": "0d174ecd-5aa0-4a77-b9c0-416cc9876189",
   "metadata": {},
   "outputs": [],
   "source": []
  }
 ],
 "metadata": {
  "kernelspec": {
   "display_name": "Python 3 (ipykernel)",
   "language": "python",
   "name": "python3"
  },
  "language_info": {
   "codemirror_mode": {
    "name": "ipython",
    "version": 3
   },
   "file_extension": ".py",
   "mimetype": "text/x-python",
   "name": "python",
   "nbconvert_exporter": "python",
   "pygments_lexer": "ipython3",
   "version": "3.10.13"
  },
  "widgets": {
   "application/vnd.jupyter.widget-state+json": {
    "state": {},
    "version_major": 2,
    "version_minor": 0
   }
  }
 },
 "nbformat": 4,
 "nbformat_minor": 5
}
