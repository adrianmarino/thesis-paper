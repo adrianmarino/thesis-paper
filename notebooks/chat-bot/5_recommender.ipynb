{
 "cells": [
  {
   "cell_type": "markdown",
   "id": "0417277b-47df-4113-a7b3-8f960db06f1d",
   "metadata": {
    "tags": []
   },
   "source": [
    "# Recommender ChatBot: LLM/Collaborative Filtering recommender ensemble"
   ]
  },
  {
   "cell_type": "code",
   "execution_count": 1,
   "id": "59f0eac0-30e8-4e72-860e-05541c36b82e",
   "metadata": {},
   "outputs": [],
   "source": [
    "%load_ext autoreload\n",
    "%autoreload 2"
   ]
  },
  {
   "cell_type": "code",
   "execution_count": 2,
   "id": "6fe490fd-66c5-4b3f-a327-62aa5d01f21c",
   "metadata": {},
   "outputs": [],
   "source": [
    "import os\n",
    "\n",
    "BASE_PATH    = '../..'\n",
    "API_PATH     = f'{BASE_PATH}/chat-bot-api'\n",
    "LIB_PATH     = f'{BASE_PATH}/lib'\n",
    "\n",
    "\n",
    "os.environ['TMP_PATH']         = f'{BASE_PATH}/tmp'\n",
    "os.environ['DATASET_PATH']     = f'{BASE_PATH}/datasets'\n",
    "os.environ['WEIGHTS_PATH']     = f'{BASE_PATH}/weights'\n",
    "os.environ['METRICS_PATH']     = f'{BASE_PATH}/metrics'\n",
    "os.environ['MONGODB_URL']      = 'mongodb://0.0.0.0:27017'\n",
    "os.environ['MONGODB_DATABASE'] = 'chatbot'\n",
    "os.environ['CHROMA_HOST']      = '0.0.0.0'\n",
    "os.environ['CHROMA_PORT']      = '9090'"
   ]
  },
  {
   "cell_type": "code",
   "execution_count": 3,
   "id": "f98e7bf4-f41a-43f6-b7b7-a991d00f82de",
   "metadata": {},
   "outputs": [
    {
     "data": {
      "text/html": [
       "<pre style=\"white-space:pre;overflow-x:auto;line-height:normal;font-family:Menlo,'DejaVu Sans Mono',consolas,'Courier New',monospace\"></pre>\n"
      ],
      "text/plain": []
     },
     "metadata": {},
     "output_type": "display_data"
    },
    {
     "data": {
      "text/plain": [
       "\u001b[1m<\u001b[0m\u001b[1;95mFigure\u001b[0m\u001b[39m size 64\u001b[0m\u001b[1;36m0x480\u001b[0m\u001b[39m with \u001b[0m\u001b[1;36m0\u001b[0m\u001b[39m Axes\u001b[0m\u001b[1m>\u001b[0m"
      ]
     },
     "metadata": {},
     "output_type": "display_data"
    }
   ],
   "source": [
    "import sys\n",
    "sys.path.append(LIB_PATH)\n",
    "sys.path.append(API_PATH)\n",
    "\n",
    "import pytorch_common.util as pu\n",
    "from app_context import AppContext"
   ]
  },
  {
   "cell_type": "markdown",
   "id": "d757391b-ad9f-4047-9b23-e3bd23fbe37b",
   "metadata": {},
   "source": [
    "## Setup"
   ]
  },
  {
   "cell_type": "code",
   "execution_count": 4,
   "id": "efba19c8-6de3-4a6c-b804-658d0aff6bdb",
   "metadata": {},
   "outputs": [
    {
     "data": {
      "text/html": [
       "<pre style=\"white-space:pre;overflow-x:auto;line-height:normal;font-family:Menlo,'DejaVu Sans Mono',consolas,'Courier New',monospace\"></pre>\n"
      ],
      "text/plain": []
     },
     "metadata": {},
     "output_type": "display_data"
    },
    {
     "data": {
      "text/plain": [
       "\u001b[1m<\u001b[0m\u001b[1;95mRootLogger\u001b[0m\u001b[39m root \u001b[0m\u001b[1;39m(\u001b[0m\u001b[39mINFO\u001b[0m\u001b[1;39m)\u001b[0m\u001b[1m>\u001b[0m"
      ]
     },
     "execution_count": 4,
     "metadata": {},
     "output_type": "execute_result"
    }
   ],
   "source": [
    "pu.LoggerBuilder().on_console().build()"
   ]
  },
  {
   "cell_type": "code",
   "execution_count": 5,
   "id": "72432e7f-f377-40a6-968e-eeb4aba00c7d",
   "metadata": {},
   "outputs": [
    {
     "name": "stderr",
     "output_type": "stream",
     "text": [
      "2024-03-23 19:16:39,917 - INFO - Load pretrained SentenceTransformer: all-mpnet-base-v2\n",
      "2024-03-23 19:16:42,660 - INFO - Use pytorch device_name: cuda\n",
      "2024-03-23 19:16:42,730 - INFO - Anonymized telemetry enabled. See                     https://docs.trychroma.com/telemetry for more information.\n",
      "2024-03-23 19:16:42,749 - INFO - Anonymized telemetry enabled. See                     https://docs.trychroma.com/telemetry for more information.\n"
     ]
    }
   ],
   "source": [
    "ctx = AppContext()"
   ]
  },
  {
   "cell_type": "markdown",
   "id": "b8334d07-f306-42b4-8ea1-cc27b82eb343",
   "metadata": {},
   "source": [
    "## Recommender"
   ]
  },
  {
   "cell_type": "code",
   "execution_count": 6,
   "id": "72e99109-2885-4f7b-807f-7444cf33459c",
   "metadata": {
    "tags": []
   },
   "outputs": [
    {
     "name": "stderr",
     "output_type": "stream",
     "text": [
      "2024-03-23 19:16:45,480 - INFO - Found 10 similar users\n",
      "2024-03-23 19:16:45,484 - INFO - Found 451 similar users interactions\n",
      "2024-03-23 19:16:45,484 - INFO - Select 172 similar users interactions (max by user: 50, min rating: 4)\n",
      "2024-03-23 19:16:45,809 - INFO - Found 700 items by text query\n",
      "2024-03-23 19:16:45,816 - INFO - Select 9 similar user items by text query\n",
      "2024-03-23 19:16:45,817 - INFO - Select 9 similar user unseen items\n",
      "2024-03-23 19:16:45,824 - INFO - 0 movies seen by adrianmarino@gmail.com user\n"
     ]
    }
   ],
   "source": [
    "recommendations = await ctx.database_user_item_filtering_recommender.recommend(\n",
    "    user_id            = \"adrianmarino@gmail.com\",\n",
    "    text_query         = \"I want to see sci-fi movies from 90'\",\n",
    "    k_sim_users        = 10,\n",
    "    max_items_by_user  = 50,\n",
    "    text_query_limit   = 700,\n",
    "    min_rating_by_user = 4,\n",
    "    not_seen           = False\n",
    ")"
   ]
  },
  {
   "cell_type": "code",
   "execution_count": 9,
   "id": "afbb105e-9eed-4414-8dfc-14c91ec55560",
   "metadata": {
    "tags": []
   },
   "outputs": [
    {
     "data": {
      "text/html": [
       "<pre style=\"white-space:pre;overflow-x:auto;line-height:normal;font-family:Menlo,'DejaVu Sans Mono',consolas,'Courier New',monospace\"></pre>\n"
      ],
      "text/plain": []
     },
     "metadata": {},
     "output_type": "display_data"
    },
    {
     "data": {
      "text/html": [
       "<h2>User Seen items</h2>"
      ],
      "text/plain": [
       "\u001b[1m<\u001b[0m\u001b[1;95mIPython.core.display.HTML\u001b[0m\u001b[39m object\u001b[0m\u001b[1m>\u001b[0m"
      ]
     },
     "metadata": {},
     "output_type": "display_data"
    },
    {
     "name": "stdout",
     "output_type": "stream",
     "text": [
      "Not Found items!\n"
     ]
    }
   ],
   "source": [
    "recommendations.show_seen()"
   ]
  },
  {
   "cell_type": "code",
   "execution_count": 10,
   "id": "31b00a21-055d-4e8b-9b9a-8da4f941b6b9",
   "metadata": {
    "tags": []
   },
   "outputs": [
    {
     "data": {
      "text/html": [
       "<pre style=\"white-space:pre;overflow-x:auto;line-height:normal;font-family:Menlo,'DejaVu Sans Mono',consolas,'Courier New',monospace\"></pre>\n"
      ],
      "text/plain": []
     },
     "metadata": {},
     "output_type": "display_data"
    },
    {
     "data": {
      "text/plain": [
       "\n",
       "\u001b[1;35marray\u001b[0m\u001b[1m(\u001b[0m\u001b[1m[\u001b[0m\u001b[32m'109487'\u001b[0m, \u001b[32m'1200'\u001b[0m, \u001b[32m'1270'\u001b[0m, \u001b[32m'1371'\u001b[0m, \u001b[32m'164179'\u001b[0m, \u001b[32m'173291'\u001b[0m, \u001b[32m'19'\u001b[0m, \u001b[32m'32'\u001b[0m,\n",
       "       \u001b[32m'79091'\u001b[0m\u001b[1m]\u001b[0m, \u001b[33mdtype\u001b[0m=\u001b[35mobject\u001b[0m\u001b[1m)\u001b[0m"
      ]
     },
     "execution_count": 10,
     "metadata": {},
     "output_type": "execute_result"
    }
   ],
   "source": [
    "recommendations.data['id'].unique()"
   ]
  },
  {
   "cell_type": "code",
   "execution_count": 11,
   "id": "ab1f0c0a-4d68-49c7-bf56-a33c4bb7b41f",
   "metadata": {
    "tags": []
   },
   "outputs": [
    {
     "data": {
      "text/html": [
       "<pre style=\"white-space:pre;overflow-x:auto;line-height:normal;font-family:Menlo,'DejaVu Sans Mono',consolas,'Courier New',monospace\"></pre>\n"
      ],
      "text/plain": []
     },
     "metadata": {},
     "output_type": "display_data"
    },
    {
     "data": {
      "text/html": [
       "<h2>Recommendations</h2>"
      ],
      "text/plain": [
       "\u001b[1m<\u001b[0m\u001b[1;95mIPython.core.display.HTML\u001b[0m\u001b[39m object\u001b[0m\u001b[1m>\u001b[0m"
      ]
     },
     "metadata": {},
     "output_type": "display_data"
    },
    {
     "data": {
      "text/html": [
       "<pre style=\"white-space:pre;overflow-x:auto;line-height:normal;font-family:Menlo,'DejaVu Sans Mono',consolas,'Courier New',monospace\"></pre>\n"
      ],
      "text/plain": []
     },
     "metadata": {},
     "output_type": "display_data"
    },
    {
     "data": {
      "text/html": [
       "<h4><b>Tags:</b> <b>sci-fi</b>(6), <b>adventure</b>(5), <b>comedy</b>(3), <b>action</b>(2), <b>crime</b>(2), <b>horror</b>(1), <b>mystery</b>(1), <b>thriller</b>(1), <b>imax</b>(1), <b>documentary</b>(1), <b>animation</b>(1), <b>children</b>(1)</h4>"
      ],
      "text/plain": [
       "\u001b[1m<\u001b[0m\u001b[1;95mIPython.core.display.HTML\u001b[0m\u001b[39m object\u001b[0m\u001b[1m>\u001b[0m"
      ]
     },
     "metadata": {},
     "output_type": "display_data"
    },
    {
     "data": {
      "text/html": [
       "<pre style=\"white-space:pre;overflow-x:auto;line-height:normal;font-family:Menlo,'DejaVu Sans Mono',consolas,'Courier New',monospace\"></pre>\n"
      ],
      "text/plain": []
     },
     "metadata": {},
     "output_type": "display_data"
    },
    {
     "data": {
      "text/html": [
       "<table border=\"1\" class=\"dataframe\">\n",
       "  <thead>\n",
       "    <tr style=\"text-align: right;\">\n",
       "      <th></th>\n",
       "      <th>0</th>\n",
       "      <th>1</th>\n",
       "      <th>2</th>\n",
       "      <th>3</th>\n",
       "      <th>4</th>\n",
       "      <th>5</th>\n",
       "      <th>6</th>\n",
       "      <th>7</th>\n",
       "      <th>8</th>\n",
       "    </tr>\n",
       "  </thead>\n",
       "  <tbody>\n",
       "    <tr>\n",
       "      <th>Poster</th>\n",
       "      <td><img src=\"http://image.tmdb.org/t/p/w500/fNOH9f1aA7XRTzl1sAOx9iF553Q.jpg\" width=\"340\" alt=Back to the Future ></td>\n",
       "      <td><img src=\"http://image.tmdb.org/t/p/w500/5oq7s5ru4hjp83mi4fWSJ0L7yUA.jpg\" width=\"340\" alt=Aliens ></td>\n",
       "      <td><img src=\"http://image.tmdb.org/t/p/w500/gt3iyguaCIw8DpQZI1LIN5TohM2.jpg\" width=\"340\" alt=Twelve Monkeys ></td>\n",
       "      <td><img src=\"http://image.tmdb.org/t/p/w500/gEU2QniE6E77NI6lCU6MxlNBvIx.jpg\" width=\"340\" alt=Interstellar ></td>\n",
       "      <td><img src=\"http://image.tmdb.org/t/p/w500/x2FJsf1ElAgr63Y3PNPtJrcmpoe.jpg\" width=\"340\" alt=Arrival ></td>\n",
       "      <td><img src=\"http://image.tmdb.org/t/p/w500/wfiAfNwH6CMKxz4vRaW8CPTabtk.jpg\" width=\"340\" alt=Star Trek: The Motion Picture ></td>\n",
       "      <td><img src=\"http://image.tmdb.org/t/p/w500/aCDrPEfvxcPNRynd2uZyXql7aj.jpg\" width=\"340\" alt=Valerian and the City of a Thousand Planets ></td>\n",
       "      <td><img src=\"http://image.tmdb.org/t/p/w500/wcinCf1ov2D6M3P7BBZkzQFOiIb.jpg\" width=\"340\" alt=Ace Ventura: When Nature Calls ></td>\n",
       "      <td><img src=\"http://image.tmdb.org/t/p/w500/9lOloREsAhBu0pEtU0BgeR1rHyo.jpg\" width=\"340\" alt=Despicable Me ></td>\n",
       "    </tr>\n",
       "    <tr>\n",
       "      <th>Genres</th>\n",
       "      <td><ul><li style=\"text-align:left;vertical-align:top;\">Adventure</li><li style=\"text-align:left;vertical-align:top;\">Comedy</li><li style=\"text-align:left;vertical-align:top;\">Sci-fi</li></ul></td>\n",
       "      <td><ul><li style=\"text-align:left;vertical-align:top;\">Action</li><li style=\"text-align:left;vertical-align:top;\">Adventure</li><li style=\"text-align:left;vertical-align:top;\">Horror</li><li style=\"text-align:left;vertical-align:top;\">Sci-fi</li></ul></td>\n",
       "      <td><ul><li style=\"text-align:left;vertical-align:top;\">Mystery</li><li style=\"text-align:left;vertical-align:top;\">Sci-fi</li><li style=\"text-align:left;vertical-align:top;\">Thriller</li></ul></td>\n",
       "      <td><ul><li style=\"text-align:left;vertical-align:top;\">Sci-fi</li><li style=\"text-align:left;vertical-align:top;\">Imax</li></ul></td>\n",
       "      <td><ul><li style=\"text-align:left;vertical-align:top;\">Documentary</li></ul></td>\n",
       "      <td><ul><li style=\"text-align:left;vertical-align:top;\">Adventure</li><li style=\"text-align:left;vertical-align:top;\">Sci-fi</li></ul></td>\n",
       "      <td><ul><li style=\"text-align:left;vertical-align:top;\">Action</li><li style=\"text-align:left;vertical-align:top;\">Adventure</li><li style=\"text-align:left;vertical-align:top;\">Sci-fi</li></ul></td>\n",
       "      <td><ul><li style=\"text-align:left;vertical-align:top;\">Crime</li><li style=\"text-align:left;vertical-align:top;\">Comedy</li><li style=\"text-align:left;vertical-align:top;\">Adventure</li></ul></td>\n",
       "      <td><ul><li style=\"text-align:left;vertical-align:top;\">Animation</li><li style=\"text-align:left;vertical-align:top;\">Children</li><li style=\"text-align:left;vertical-align:top;\">Comedy</li><li style=\"text-align:left;vertical-align:top;\">Crime</li></ul></td>\n",
       "    </tr>\n",
       "    <tr>\n",
       "      <th>Mean Rating</th>\n",
       "      <td>4.101064</td>\n",
       "      <td>3.987578</td>\n",
       "      <td>3.941748</td>\n",
       "      <td>4.062907</td>\n",
       "      <td>4.037037</td>\n",
       "      <td>3.08</td>\n",
       "      <td>3.04918</td>\n",
       "      <td>2.793651</td>\n",
       "      <td>3.60241</td>\n",
       "    </tr>\n",
       "    <tr>\n",
       "      <th>Predicted Rating</th>\n",
       "      <td>0.339101</td>\n",
       "      <td>0.273018</td>\n",
       "      <td>0.266492</td>\n",
       "      <td>0.23275</td>\n",
       "      <td>0.16196</td>\n",
       "      <td>0.0</td>\n",
       "      <td>0.0</td>\n",
       "      <td>0.0</td>\n",
       "      <td>0.0</td>\n",
       "    </tr>\n",
       "    <tr>\n",
       "      <th>User sim weighted rating score</th>\n",
       "      <td>0.989386</td>\n",
       "      <td>0.963156</td>\n",
       "      <td>0.950689</td>\n",
       "      <td>0.981351</td>\n",
       "      <td>0.974665</td>\n",
       "      <td>0.742849</td>\n",
       "      <td>0.736166</td>\n",
       "      <td>0.673971</td>\n",
       "      <td>0.869733</td>\n",
       "    </tr>\n",
       "    <tr>\n",
       "      <th>User sim weighted predicted rating score</th>\n",
       "      <td>0.989386</td>\n",
       "      <td>0.797531</td>\n",
       "      <td>0.777323</td>\n",
       "      <td>0.6799</td>\n",
       "      <td>0.4729</td>\n",
       "      <td>0.0</td>\n",
       "      <td>0.0</td>\n",
       "      <td>0.0</td>\n",
       "      <td>0.0</td>\n",
       "    </tr>\n",
       "    <tr>\n",
       "      <th>User Item Similarity</th>\n",
       "      <td>0.989386</td>\n",
       "      <td>0.990567</td>\n",
       "      <td>0.989114</td>\n",
       "      <td>0.990567</td>\n",
       "      <td>0.990123</td>\n",
       "      <td>0.989114</td>\n",
       "      <td>0.990123</td>\n",
       "      <td>0.989386</td>\n",
       "      <td>0.990123</td>\n",
       "    </tr>\n",
       "  </tbody>\n",
       "</table>"
      ],
      "text/plain": [
       "\u001b[1m<\u001b[0m\u001b[1;95mIPython.core.display.HTML\u001b[0m\u001b[39m object\u001b[0m\u001b[1m>\u001b[0m"
      ]
     },
     "metadata": {},
     "output_type": "display_data"
    },
    {
     "data": {
      "text/html": [
       "<pre style=\"white-space:pre;overflow-x:auto;line-height:normal;font-family:Menlo,'DejaVu Sans Mono',consolas,'Courier New',monospace\"></pre>\n"
      ],
      "text/plain": []
     },
     "metadata": {},
     "output_type": "display_data"
    },
    {
     "data": {
      "text/html": [
       "<h5><b>Generated by</b> DatabaseUserItemFilteringRecommender.</h5>"
      ],
      "text/plain": [
       "\u001b[1m<\u001b[0m\u001b[1;95mIPython.core.display.HTML\u001b[0m\u001b[39m object\u001b[0m\u001b[1m>\u001b[0m"
      ]
     },
     "metadata": {},
     "output_type": "display_data"
    }
   ],
   "source": [
    "recommendations.show(\n",
    "    sort_by        = ['user_sim_weighted_pred_rating_score'],\n",
    "    k              = 10\n",
    ")"
   ]
  },
  {
   "cell_type": "markdown",
   "id": "c4e55c54-2961-493a-a1b2-e8a7e14f7ba9",
   "metadata": {
    "tags": []
   },
   "source": [
    "### Notes\n",
    "* Movies seen by similar users weighted by user predicted rating.\n",
    "* Ordered by **User sim weighted predicted rating score**.\n",
    "* **User sim weighted predicted rating score** = similar_user_similarity(0..1) * user_predicted_rating (Normalize to 0..1)"
   ]
  },
  {
   "cell_type": "code",
   "execution_count": 9,
   "id": "a5cb1e0a-71cb-48ea-83a9-1cb89bd5dd89",
   "metadata": {
    "tags": []
   },
   "outputs": [
    {
     "data": {
      "text/html": [
       "<h2>Recommendations</h2>"
      ],
      "text/plain": [
       "<IPython.core.display.HTML object>"
      ]
     },
     "metadata": {},
     "output_type": "display_data"
    },
    {
     "data": {
      "text/html": [
       "<h4><b>Tags:</b> <b>sci-fi</b>(9), <b>comedy</b>(5), <b>action</b>(5), <b>adventure</b>(4), <b>drama</b>(3), <b>animation</b>(2), <b>thriller</b>(2), <b>children</b>(1), <b>horror</b>(1), <b>mystery</b>(1), <b>romance</b>(1)</h4>"
      ],
      "text/plain": [
       "<IPython.core.display.HTML object>"
      ]
     },
     "metadata": {},
     "output_type": "display_data"
    },
    {
     "data": {
      "text/html": [
       "<table border=\"1\" class=\"dataframe\">\n",
       "  <thead>\n",
       "    <tr style=\"text-align: right;\">\n",
       "      <th></th>\n",
       "      <th>0</th>\n",
       "      <th>1</th>\n",
       "      <th>2</th>\n",
       "      <th>3</th>\n",
       "      <th>4</th>\n",
       "      <th>5</th>\n",
       "      <th>6</th>\n",
       "      <th>7</th>\n",
       "      <th>8</th>\n",
       "      <th>9</th>\n",
       "    </tr>\n",
       "  </thead>\n",
       "  <tbody>\n",
       "    <tr>\n",
       "      <th>Poster</th>\n",
       "      <td><img src=\"http://image.tmdb.org/t/p/w500/xp7rAEgkoPUBWk5XZcAai8gDZT1.jpg\" width=\"340\" alt=Kin-Dza-Dza! ></td>\n",
       "      <td><img src=\"http://image.tmdb.org/t/p/w500/fNOH9f1aA7XRTzl1sAOx9iF553Q.jpg\" width=\"340\" alt=Back to the Future ></td>\n",
       "      <td><img src=\"http://image.tmdb.org/t/p/w500/j4HTorvJdGOuIgGyE56fMCLmcCg.jpg\" width=\"340\" alt=Transformers: The Movie ></td>\n",
       "      <td><img src=\"http://image.tmdb.org/t/p/w500/5oq7s5ru4hjp83mi4fWSJ0L7yUA.jpg\" width=\"340\" alt=Aliens ></td>\n",
       "      <td><img src=\"http://image.tmdb.org/t/p/w500/gt3iyguaCIw8DpQZI1LIN5TohM2.jpg\" width=\"340\" alt=Twelve Monkeys ></td>\n",
       "      <td><img src=\"http://image.tmdb.org/t/p/w500/fPtlCO1yQtnoLHOwKtWz7db6RGU.jpg\" width=\"340\" alt=Fifth Element, The ></td>\n",
       "      <td><img src=\"http://image.tmdb.org/t/p/w500/66A9MqXOyVFCssoloscw79z8Tew.jpg\" width=\"340\" alt=3 Idiots ></td>\n",
       "      <td><img src=\"http://image.tmdb.org/t/p/w500/eDjIG2hAeMU5cxLrd6oiQqdqoZt.jpg\" width=\"340\" alt=Animatrix, The ></td>\n",
       "      <td><img src=\"http://image.tmdb.org/t/p/w500/hzXSE66v6KthZ8nPoLZmsi2G05j.jpg\" width=\"340\" alt=Terminator, The ></td>\n",
       "      <td><img src=\"http://image.tmdb.org/t/p/w500/ggcBBYgnwrRAdx2vTthSAZDfrrk.jpg\" width=\"340\" alt=Ghostbusters ></td>\n",
       "    </tr>\n",
       "    <tr>\n",
       "      <th>Genres</th>\n",
       "      <td><ul><li style=\"text-align:left;vertical-align:top;\">Comedy</li><li style=\"text-align:left;vertical-align:top;\">Drama</li><li style=\"text-align:left;vertical-align:top;\">Sci-fi</li></ul></td>\n",
       "      <td><ul><li style=\"text-align:left;vertical-align:top;\">Adventure</li><li style=\"text-align:left;vertical-align:top;\">Comedy</li><li style=\"text-align:left;vertical-align:top;\">Sci-fi</li></ul></td>\n",
       "      <td><ul><li style=\"text-align:left;vertical-align:top;\">Adventure</li><li style=\"text-align:left;vertical-align:top;\">Animation</li><li style=\"text-align:left;vertical-align:top;\">Children</li><li style=\"text-align:left;vertical-align:top;\">Sci-fi</li></ul></td>\n",
       "      <td><ul><li style=\"text-align:left;vertical-align:top;\">Action</li><li style=\"text-align:left;vertical-align:top;\">Adventure</li><li style=\"text-align:left;vertical-align:top;\">Horror</li><li style=\"text-align:left;vertical-align:top;\">Sci-fi</li></ul></td>\n",
       "      <td><ul><li style=\"text-align:left;vertical-align:top;\">Mystery</li><li style=\"text-align:left;vertical-align:top;\">Sci-fi</li><li style=\"text-align:left;vertical-align:top;\">Thriller</li></ul></td>\n",
       "      <td><ul><li style=\"text-align:left;vertical-align:top;\">Action</li><li style=\"text-align:left;vertical-align:top;\">Adventure</li><li style=\"text-align:left;vertical-align:top;\">Comedy</li><li style=\"text-align:left;vertical-align:top;\">Sci-fi</li></ul></td>\n",
       "      <td><ul><li style=\"text-align:left;vertical-align:top;\">Comedy</li><li style=\"text-align:left;vertical-align:top;\">Drama</li><li style=\"text-align:left;vertical-align:top;\">Romance</li></ul></td>\n",
       "      <td><ul><li style=\"text-align:left;vertical-align:top;\">Action</li><li style=\"text-align:left;vertical-align:top;\">Animation</li><li style=\"text-align:left;vertical-align:top;\">Drama</li><li style=\"text-align:left;vertical-align:top;\">Sci-fi</li></ul></td>\n",
       "      <td><ul><li style=\"text-align:left;vertical-align:top;\">Action</li><li style=\"text-align:left;vertical-align:top;\">Sci-fi</li><li style=\"text-align:left;vertical-align:top;\">Thriller</li></ul></td>\n",
       "      <td><ul><li style=\"text-align:left;vertical-align:top;\">Action</li><li style=\"text-align:left;vertical-align:top;\">Comedy</li><li style=\"text-align:left;vertical-align:top;\">Sci-fi</li></ul></td>\n",
       "    </tr>\n",
       "    <tr>\n",
       "      <th>Mean Rating</th>\n",
       "      <td>4.117647</td>\n",
       "      <td>4.101064</td>\n",
       "      <td>4.0</td>\n",
       "      <td>3.987578</td>\n",
       "      <td>3.941748</td>\n",
       "      <td>3.908297</td>\n",
       "      <td>3.9</td>\n",
       "      <td>3.866667</td>\n",
       "      <td>3.862069</td>\n",
       "      <td>3.786517</td>\n",
       "    </tr>\n",
       "    <tr>\n",
       "      <th>Predicted Rating</th>\n",
       "      <td>4.75918</td>\n",
       "      <td>4.655716</td>\n",
       "      <td>4.531448</td>\n",
       "      <td>4.290807</td>\n",
       "      <td>4.181332</td>\n",
       "      <td>4.438426</td>\n",
       "      <td>4.163946</td>\n",
       "      <td>4.07275</td>\n",
       "      <td>4.366083</td>\n",
       "      <td>4.494987</td>\n",
       "    </tr>\n",
       "    <tr>\n",
       "      <th>User sim weighted rating score</th>\n",
       "      <td>0.989114</td>\n",
       "      <td>0.985401</td>\n",
       "      <td>0.961118</td>\n",
       "      <td>0.959277</td>\n",
       "      <td>0.947194</td>\n",
       "      <td>0.940205</td>\n",
       "      <td>0.937047</td>\n",
       "      <td>0.93019</td>\n",
       "      <td>0.927976</td>\n",
       "      <td>0.909822</td>\n",
       "    </tr>\n",
       "    <tr>\n",
       "      <th>User sim weighted predicted rating score</th>\n",
       "      <td>0.989114</td>\n",
       "      <td>0.967877</td>\n",
       "      <td>0.942042</td>\n",
       "      <td>0.893081</td>\n",
       "      <td>0.869324</td>\n",
       "      <td>0.923806</td>\n",
       "      <td>0.865603</td>\n",
       "      <td>0.847695</td>\n",
       "      <td>0.907665</td>\n",
       "      <td>0.934463</td>\n",
       "    </tr>\n",
       "    <tr>\n",
       "      <th>User Item Similarity</th>\n",
       "      <td>0.989114</td>\n",
       "      <td>0.989386</td>\n",
       "      <td>0.989386</td>\n",
       "      <td>0.990567</td>\n",
       "      <td>0.989462</td>\n",
       "      <td>0.990567</td>\n",
       "      <td>0.98934</td>\n",
       "      <td>0.990567</td>\n",
       "      <td>0.989386</td>\n",
       "      <td>0.989386</td>\n",
       "    </tr>\n",
       "  </tbody>\n",
       "</table>"
      ],
      "text/plain": [
       "<IPython.core.display.HTML object>"
      ]
     },
     "metadata": {},
     "output_type": "display_data"
    },
    {
     "data": {
      "text/html": [
       "<h5><b>Generated by</b> DatabaseUserItemFilteringRecommender.</h5>"
      ],
      "text/plain": [
       "<IPython.core.display.HTML object>"
      ]
     },
     "metadata": {},
     "output_type": "display_data"
    }
   ],
   "source": [
    "recommendations.show(\n",
    "    sort_by        = ['user_sim_weighted_rating_score'],\n",
    "    k              = 10\n",
    ")"
   ]
  },
  {
   "cell_type": "markdown",
   "id": "23bdf26f-e636-432e-ac46-7531dfa5caeb",
   "metadata": {},
   "source": [
    "### Notes\n",
    "* Movies seen by similar users weighted by movie mean rating.\n",
    "* Ordered by **User sim weighted rating score**.\n",
    "* **User sim weighted rating score** = similar_user_similarity(0..1) * mean_movie_rating (Normalize to 0..1) "
   ]
  },
  {
   "cell_type": "code",
   "execution_count": 10,
   "id": "4c4c8c5c-5bb5-488f-9cc9-0b41472f110a",
   "metadata": {},
   "outputs": [
    {
     "data": {
      "text/html": [
       "<h2>Recommendations</h2>"
      ],
      "text/plain": [
       "<IPython.core.display.HTML object>"
      ]
     },
     "metadata": {},
     "output_type": "display_data"
    },
    {
     "data": {
      "text/html": [
       "<h4><b>Tags:</b> <b>sci-fi</b>(8), <b>action</b>(7), <b>adventure</b>(5), <b>comedy</b>(4), <b>drama</b>(2), <b>thriller</b>(2), <b>horror</b>(1), <b>animation</b>(1), <b>war</b>(1), <b>mystery</b>(1), <b>crime</b>(1)</h4>"
      ],
      "text/plain": [
       "<IPython.core.display.HTML object>"
      ]
     },
     "metadata": {},
     "output_type": "display_data"
    },
    {
     "data": {
      "text/html": [
       "<table border=\"1\" class=\"dataframe\">\n",
       "  <thead>\n",
       "    <tr style=\"text-align: right;\">\n",
       "      <th></th>\n",
       "      <th>0</th>\n",
       "      <th>1</th>\n",
       "      <th>2</th>\n",
       "      <th>3</th>\n",
       "      <th>4</th>\n",
       "      <th>5</th>\n",
       "      <th>6</th>\n",
       "      <th>7</th>\n",
       "      <th>8</th>\n",
       "      <th>9</th>\n",
       "    </tr>\n",
       "  </thead>\n",
       "  <tbody>\n",
       "    <tr>\n",
       "      <th>Poster</th>\n",
       "      <td><img src=\"http://image.tmdb.org/t/p/w500/5oq7s5ru4hjp83mi4fWSJ0L7yUA.jpg\" width=\"340\" alt=Aliens ></td>\n",
       "      <td><img src=\"http://image.tmdb.org/t/p/w500/fPtlCO1yQtnoLHOwKtWz7db6RGU.jpg\" width=\"340\" alt=Fifth Element, The ></td>\n",
       "      <td><img src=\"http://image.tmdb.org/t/p/w500/eDjIG2hAeMU5cxLrd6oiQqdqoZt.jpg\" width=\"340\" alt=Animatrix, The ></td>\n",
       "      <td><img src=\"http://image.tmdb.org/t/p/w500/55WJCdayHwoXJwRv3prpqscHt2q.jpg\" width=\"340\" alt=Jarhead ></td>\n",
       "      <td><img src=\"http://image.tmdb.org/t/p/w500/aCDrPEfvxcPNRynd2uZyXql7aj.jpg\" width=\"340\" alt=Valerian and the City of a Thousand Planets ></td>\n",
       "      <td><img src=\"http://image.tmdb.org/t/p/w500/gt3iyguaCIw8DpQZI1LIN5TohM2.jpg\" width=\"340\" alt=Twelve Monkeys ></td>\n",
       "      <td><img src=\"http://image.tmdb.org/t/p/w500/hzXSE66v6KthZ8nPoLZmsi2G05j.jpg\" width=\"340\" alt=Terminator, The ></td>\n",
       "      <td><img src=\"http://image.tmdb.org/t/p/w500/fNOH9f1aA7XRTzl1sAOx9iF553Q.jpg\" width=\"340\" alt=Back to the Future ></td>\n",
       "      <td><img src=\"http://image.tmdb.org/t/p/w500/wcinCf1ov2D6M3P7BBZkzQFOiIb.jpg\" width=\"340\" alt=Ace Ventura: When Nature Calls ></td>\n",
       "      <td><img src=\"http://image.tmdb.org/t/p/w500/ggcBBYgnwrRAdx2vTthSAZDfrrk.jpg\" width=\"340\" alt=Ghostbusters ></td>\n",
       "    </tr>\n",
       "    <tr>\n",
       "      <th>Genres</th>\n",
       "      <td><ul><li style=\"text-align:left;vertical-align:top;\">Action</li><li style=\"text-align:left;vertical-align:top;\">Adventure</li><li style=\"text-align:left;vertical-align:top;\">Horror</li><li style=\"text-align:left;vertical-align:top;\">Sci-fi</li></ul></td>\n",
       "      <td><ul><li style=\"text-align:left;vertical-align:top;\">Action</li><li style=\"text-align:left;vertical-align:top;\">Adventure</li><li style=\"text-align:left;vertical-align:top;\">Comedy</li><li style=\"text-align:left;vertical-align:top;\">Sci-fi</li></ul></td>\n",
       "      <td><ul><li style=\"text-align:left;vertical-align:top;\">Action</li><li style=\"text-align:left;vertical-align:top;\">Animation</li><li style=\"text-align:left;vertical-align:top;\">Drama</li><li style=\"text-align:left;vertical-align:top;\">Sci-fi</li></ul></td>\n",
       "      <td><ul><li style=\"text-align:left;vertical-align:top;\">Action</li><li style=\"text-align:left;vertical-align:top;\">Drama</li><li style=\"text-align:left;vertical-align:top;\">War</li></ul></td>\n",
       "      <td><ul><li style=\"text-align:left;vertical-align:top;\">Action</li><li style=\"text-align:left;vertical-align:top;\">Adventure</li><li style=\"text-align:left;vertical-align:top;\">Sci-fi</li></ul></td>\n",
       "      <td><ul><li style=\"text-align:left;vertical-align:top;\">Mystery</li><li style=\"text-align:left;vertical-align:top;\">Sci-fi</li><li style=\"text-align:left;vertical-align:top;\">Thriller</li></ul></td>\n",
       "      <td><ul><li style=\"text-align:left;vertical-align:top;\">Action</li><li style=\"text-align:left;vertical-align:top;\">Sci-fi</li><li style=\"text-align:left;vertical-align:top;\">Thriller</li></ul></td>\n",
       "      <td><ul><li style=\"text-align:left;vertical-align:top;\">Adventure</li><li style=\"text-align:left;vertical-align:top;\">Comedy</li><li style=\"text-align:left;vertical-align:top;\">Sci-fi</li></ul></td>\n",
       "      <td><ul><li style=\"text-align:left;vertical-align:top;\">Crime</li><li style=\"text-align:left;vertical-align:top;\">Comedy</li><li style=\"text-align:left;vertical-align:top;\">Adventure</li></ul></td>\n",
       "      <td><ul><li style=\"text-align:left;vertical-align:top;\">Action</li><li style=\"text-align:left;vertical-align:top;\">Comedy</li><li style=\"text-align:left;vertical-align:top;\">Sci-fi</li></ul></td>\n",
       "    </tr>\n",
       "    <tr>\n",
       "      <th>Mean Rating</th>\n",
       "      <td>3.987578</td>\n",
       "      <td>3.908297</td>\n",
       "      <td>3.866667</td>\n",
       "      <td>3.446809</td>\n",
       "      <td>3.04918</td>\n",
       "      <td>3.941748</td>\n",
       "      <td>3.862069</td>\n",
       "      <td>4.101064</td>\n",
       "      <td>2.793651</td>\n",
       "      <td>3.786517</td>\n",
       "    </tr>\n",
       "    <tr>\n",
       "      <th>Predicted Rating</th>\n",
       "      <td>4.290807</td>\n",
       "      <td>4.438426</td>\n",
       "      <td>4.07275</td>\n",
       "      <td>3.852608</td>\n",
       "      <td>3.695041</td>\n",
       "      <td>4.181332</td>\n",
       "      <td>4.366083</td>\n",
       "      <td>4.655716</td>\n",
       "      <td>3.25725</td>\n",
       "      <td>4.494987</td>\n",
       "    </tr>\n",
       "    <tr>\n",
       "      <th>User sim weighted rating score</th>\n",
       "      <td>0.959277</td>\n",
       "      <td>0.940205</td>\n",
       "      <td>0.93019</td>\n",
       "      <td>0.829186</td>\n",
       "      <td>0.733201</td>\n",
       "      <td>0.947194</td>\n",
       "      <td>0.927976</td>\n",
       "      <td>0.985401</td>\n",
       "      <td>0.671257</td>\n",
       "      <td>0.909822</td>\n",
       "    </tr>\n",
       "    <tr>\n",
       "      <th>User sim weighted predicted rating score</th>\n",
       "      <td>0.893081</td>\n",
       "      <td>0.923806</td>\n",
       "      <td>0.847695</td>\n",
       "      <td>0.801875</td>\n",
       "      <td>0.768734</td>\n",
       "      <td>0.869324</td>\n",
       "      <td>0.907665</td>\n",
       "      <td>0.967877</td>\n",
       "      <td>0.67715</td>\n",
       "      <td>0.934463</td>\n",
       "    </tr>\n",
       "    <tr>\n",
       "      <th>User Item Similarity</th>\n",
       "      <td>0.990567</td>\n",
       "      <td>0.990567</td>\n",
       "      <td>0.990567</td>\n",
       "      <td>0.990567</td>\n",
       "      <td>0.990123</td>\n",
       "      <td>0.989462</td>\n",
       "      <td>0.989386</td>\n",
       "      <td>0.989386</td>\n",
       "      <td>0.989386</td>\n",
       "      <td>0.989386</td>\n",
       "    </tr>\n",
       "  </tbody>\n",
       "</table>"
      ],
      "text/plain": [
       "<IPython.core.display.HTML object>"
      ]
     },
     "metadata": {},
     "output_type": "display_data"
    },
    {
     "data": {
      "text/html": [
       "<h5><b>Generated by</b> DatabaseUserItemFilteringRecommender.</h5>"
      ],
      "text/plain": [
       "<IPython.core.display.HTML object>"
      ]
     },
     "metadata": {},
     "output_type": "display_data"
    }
   ],
   "source": [
    "recommendations.show(\n",
    "    sort_by        = ['user_item_sim'],\n",
    "    k              = 10\n",
    ")"
   ]
  },
  {
   "cell_type": "markdown",
   "id": "8f640a43-1613-4ae6-82fe-780bfe81fb11",
   "metadata": {
    "tags": []
   },
   "source": [
    "### Notes\n",
    "* Movies seen by similar users.\n",
    "* Ordered by **similar user similarity by movie**.\n",
    "* take movies sample from each similar user, then assign similary and order by similary."
   ]
  },
  {
   "cell_type": "code",
   "execution_count": null,
   "id": "5de12a3b-3247-4b5d-9c61-2a5f0e5d061f",
   "metadata": {},
   "outputs": [],
   "source": []
  }
 ],
 "metadata": {
  "kernelspec": {
   "display_name": "Python 3 (ipykernel)",
   "language": "python",
   "name": "python3"
  },
  "language_info": {
   "codemirror_mode": {
    "name": "ipython",
    "version": 3
   },
   "file_extension": ".py",
   "mimetype": "text/x-python",
   "name": "python",
   "nbconvert_exporter": "python",
   "pygments_lexer": "ipython3",
   "version": "3.11.6"
  },
  "widgets": {
   "application/vnd.jupyter.widget-state+json": {
    "state": {},
    "version_major": 2,
    "version_minor": 0
   }
  }
 },
 "nbformat": 4,
 "nbformat_minor": 5
}
