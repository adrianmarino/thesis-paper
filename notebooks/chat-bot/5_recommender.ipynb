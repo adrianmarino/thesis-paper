{
 "cells": [
  {
   "cell_type": "markdown",
   "id": "0417277b-47df-4113-a7b3-8f960db06f1d",
   "metadata": {
    "tags": []
   },
   "source": [
    "# Recommender ChatBot: Collaborative Filtering recommender using user embeddings from chromadb"
   ]
  },
  {
   "cell_type": "code",
   "execution_count": 3,
   "id": "59f0eac0-30e8-4e72-860e-05541c36b82e",
   "metadata": {},
   "outputs": [],
   "source": [
    "%load_ext autoreload\n",
    "%autoreload 2"
   ]
  },
  {
   "cell_type": "code",
   "execution_count": 1,
   "id": "6fe490fd-66c5-4b3f-a327-62aa5d01f21c",
   "metadata": {},
   "outputs": [],
   "source": [
    "BASE_PATH    = '../..'\n",
    "LIB_PATH     = f'{BASE_PATH}/lib'\n",
    "API_PATH     = f'{BASE_PATH}/chat-bot-api'"
   ]
  },
  {
   "cell_type": "code",
   "execution_count": 2,
   "id": "f98e7bf4-f41a-43f6-b7b7-a991d00f82de",
   "metadata": {},
   "outputs": [
    {
     "name": "stderr",
     "output_type": "stream",
     "text": [
      "2024-02-22 18:46:42.374746: I tensorflow/core/platform/cpu_feature_guard.cc:182] This TensorFlow binary is optimized to use available CPU instructions in performance-critical operations.\n",
      "To enable the following instructions: AVX2 FMA, in other operations, rebuild TensorFlow with the appropriate compiler flags.\n",
      "2024-02-22 18:46:42.784287: W tensorflow/compiler/tf2tensorrt/utils/py_utils.cc:38] TF-TRT Warning: Could not find TensorRT\n",
      "2024-02-22 18:46:43.142345: I tensorflow/compiler/xla/stream_executor/cuda/cuda_gpu_executor.cc:996] successful NUMA node read from SysFS had negative value (-1), but there must be at least one NUMA node, so returning NUMA node zero. See more at https://github.com/torvalds/linux/blob/v6.0/Documentation/ABI/testing/sysfs-bus-pci#L344-L355\n",
      "2024-02-22 18:46:43.153529: W tensorflow/core/common_runtime/gpu/gpu_device.cc:1956] Cannot dlopen some GPU libraries. Please make sure the missing libraries mentioned above are installed properly if you would like to use GPU. Follow the guide at https://www.tensorflow.org/install/gpu for how to download and setup the required libraries for your platform.\n",
      "Skipping registering GPU devices...\n"
     ]
    },
    {
     "data": {
      "text/plain": [
       "<Figure size 640x480 with 0 Axes>"
      ]
     },
     "metadata": {},
     "output_type": "display_data"
    }
   ],
   "source": [
    "import sys\n",
    "sys.path.append(LIB_PATH)\n",
    "sys.path.append(API_PATH)\n",
    "\n",
    "\n",
    "import torch\n",
    "import pytorch_common\n",
    "import pytorch_common.util as pu\n",
    "import util as ut\n",
    "import os\n",
    "import numpy as np\n",
    "import logging\n",
    "\n",
    "import pandas as pd\n",
    "from IPython.core.display import HTML\n",
    "from recommender import RecommenderResult, to_image_html\n",
    "import random"
   ]
  },
  {
   "cell_type": "markdown",
   "id": "d757391b-ad9f-4047-9b23-e3bd23fbe37b",
   "metadata": {},
   "source": [
    "## Setup"
   ]
  },
  {
   "cell_type": "code",
   "execution_count": 4,
   "id": "efba19c8-6de3-4a6c-b804-658d0aff6bdb",
   "metadata": {},
   "outputs": [
    {
     "data": {
      "text/plain": [
       "<RootLogger root (INFO)>"
      ]
     },
     "execution_count": 4,
     "metadata": {},
     "output_type": "execute_result"
    }
   ],
   "source": [
    "pu.LoggerBuilder().on_console().build()"
   ]
  },
  {
   "cell_type": "code",
   "execution_count": 5,
   "id": "019f8153-76f9-45da-8228-f1c22642bd2b",
   "metadata": {
    "tags": []
   },
   "outputs": [
    {
     "data": {
      "text/plain": [
       "'0.3.8'"
      ]
     },
     "execution_count": 5,
     "metadata": {},
     "output_type": "execute_result"
    }
   ],
   "source": [
    "import pytorch_common\n",
    "pytorch_common.__version__"
   ]
  },
  {
   "cell_type": "code",
   "execution_count": 6,
   "id": "471e4f42-bc63-4cf5-a909-84f4db06bc81",
   "metadata": {
    "tags": []
   },
   "outputs": [
    {
     "data": {
      "text/plain": [
       "'2.1.2+cu118'"
      ]
     },
     "execution_count": 6,
     "metadata": {},
     "output_type": "execute_result"
    }
   ],
   "source": [
    "torch.__version__"
   ]
  },
  {
   "cell_type": "code",
   "execution_count": 7,
   "id": "198d1be8-29ba-45e8-8bd2-daf6e1f3d551",
   "metadata": {
    "tags": []
   },
   "outputs": [
    {
     "data": {
      "text/plain": [
       "(device(type='cuda', index=0), True)"
      ]
     },
     "execution_count": 7,
     "metadata": {},
     "output_type": "execute_result"
    }
   ],
   "source": [
    "pu.set_device_name('gpu')\n",
    "\n",
    "pu.get_device(), torch.cuda.is_available()"
   ]
  },
  {
   "cell_type": "code",
   "execution_count": 8,
   "id": "2420aca3-556f-46d7-a1ee-8eb2d2c9281e",
   "metadata": {},
   "outputs": [],
   "source": [
    "ut.set_seed(42)"
   ]
  },
  {
   "cell_type": "code",
   "execution_count": 9,
   "id": "0406bf3d-3aff-4b18-97e6-98b3c9f1284d",
   "metadata": {
    "tags": []
   },
   "outputs": [],
   "source": [
    "os.environ['TMP_PATH']         = f'{BASE_PATH}/tmp'\n",
    "os.environ['DATASET_PATH']     = f'{BASE_PATH}/datasets'\n",
    "os.environ['WEIGHTS_PATH']     = f'{BASE_PATH}/weights'\n",
    "os.environ['METRICS_PATH']     = f'{BASE_PATH}/metrics'\n",
    "os.environ['MONGODB_URL']      = 'mongodb://0.0.0.0:27017'\n",
    "os.environ['MONGODB_DATABASE'] = 'chatbot'\n",
    "os.environ['CHROMA_HOST']      = '0.0.0.0'\n",
    "os.environ['CHROMA_PORT']      = '9090'\n",
    "\n",
    "\n",
    "from app_context import AppContext"
   ]
  },
  {
   "cell_type": "markdown",
   "id": "b8334d07-f306-42b4-8ea1-cc27b82eb343",
   "metadata": {},
   "source": [
    "## Recommender"
   ]
  },
  {
   "cell_type": "code",
   "execution_count": 10,
   "id": "604fe65a-b2a2-41c4-abbd-2425e6736621",
   "metadata": {},
   "outputs": [
    {
     "name": "stderr",
     "output_type": "stream",
     "text": [
      "2024-02-22 18:46:48,354 - INFO - Load pretrained SentenceTransformer: all-mpnet-base-v2\n",
      "2024-02-22 18:46:48,935 - INFO - Use pytorch device: cuda\n",
      "2024-02-22 18:46:48,937 - INFO - Anonymized telemetry enabled. See                     https://docs.trychroma.com/telemetry for more information.\n",
      "2024-02-22 18:46:48,957 - INFO - Anonymized telemetry enabled. See                     https://docs.trychroma.com/telemetry for more information.\n"
     ]
    }
   ],
   "source": [
    "ctx = AppContext()"
   ]
  },
  {
   "cell_type": "code",
   "execution_count": 335,
   "id": "27daf912-b717-464f-a88e-d62cea969f52",
   "metadata": {
    "tags": []
   },
   "outputs": [],
   "source": [
    "class DatabaseUserItemFilteringRecommenderResult(RecommenderResult):\n",
    "    def __init__(\n",
    "        self,\n",
    "        recommender_name,\n",
    "        data,\n",
    "        seen_items\n",
    "    ):\n",
    "        self.__recommender_name = recommender_name\n",
    "        self.__data             = data\n",
    "        self.__seen_items       = seen_items\n",
    "\n",
    "\n",
    "    @property\n",
    "    def data(self): return self.__data\n",
    "\n",
    "    @property\n",
    "    def seen(self): return self.__seen_items\n",
    "\n",
    "    def show(\n",
    "        self, \n",
    "        k              = 5,\n",
    "        sort_by        = ['pred_user_rating', 'user_distance_weighted_rating_score'],\n",
    "        sort_ascending = False,\n",
    "        image_width    = 340,\n",
    "        transpose      = True\n",
    "    ):\n",
    "        display(HTML(f'<h2>Recommender: {self.__recommender_name}</h2>'))\n",
    "      \n",
    "        if self.__data is None:\n",
    "            display(HTML('<h4>Not Found recommendations</h4>'))\n",
    "            return\n",
    "\n",
    "\n",
    "        df = self.__data.sort_values(by=sort_by, ascending=sort_ascending)[:k]\n",
    "\n",
    "        \n",
    "        display(HTML(f'<h4><b>Tags:</b> {self.__as_tags(df, \"genres\")}</h4>'))\n",
    "        \n",
    "        \n",
    "        df['image'] = df.apply(lambda row: to_image_html(row['poster'], width=image_width, alt=row['title']), axis=1)\n",
    "    \n",
    "        if transpose:\n",
    "            df = df[['image', 'genres', 'rating', 'user_sim_weighted_rating_score', 'user_sim_weighted_pred_rating_score', 'pred_user_rating', 'user_item_sim']]\n",
    "\n",
    "            df['genres'] = df['genres'].apply(lambda genres: '<ul>' +  ''.join([F'<li style=\"text-align:left;vertical-align:top;\">{g.capitalize()}</li>' for g in genres]) + '</ul>')\n",
    "            \n",
    "            df = df.rename(columns={\n",
    "                'user_sim_weighted_rating_score' : 'User sim weighted rating score',\n",
    "                'user_sim_weighted_pred_rating_score' : 'User sim weighted predicted rating score',\n",
    "                'pred_user_rating': 'Predicted Rating',\n",
    "                'user_item_sim': 'User Item Similarity',\n",
    "                'norm_mean_rating': 'Norm Mean Rating',\n",
    "                'rating' : 'Mean Rating',\n",
    "                'image'  : 'Poster',\n",
    "                'genres' : 'Genres'\n",
    "            })\n",
    "\n",
    "            df = df.reset_index()\n",
    "            df = df.T.drop(['index'])\n",
    "\n",
    "        else:\n",
    "            df = df[['user_sim_weighted_rating_score', 'user_sim_weighted_pred_rating_score', 'pred_user_rating', 'user_item_sim', 'rating', 'image', 'genres']]\n",
    "            df = df.rename(columns={\n",
    "                'user_sim_weighted_rating_score' : 'User sim weighted rating score',\n",
    "                'user_sim_weighted_pred_rating_score' : 'User sim weighted predicted rating score',\n",
    "                'pred_user_rating': 'Predicted Rating',\n",
    "                'user_item_sim': 'User Item Similarity',\n",
    "                'norm_mean_rating': 'Norm Mean Rating',\n",
    "                'rating' : 'Mean Rating',\n",
    "                'image'  : 'Poster',\n",
    "                'genres' : 'Genres'\n",
    "            }).reset_index()\n",
    "\n",
    "        display(HTML(df.to_html(escape=False)))\n",
    "        \n",
    "\n",
    "    \n",
    "    def __as_tags(self, df, column):\n",
    "        tag_counts =pd.Series(np.concatenate(df[column].apply(np.array).values)).value_counts().to_dict()\n",
    "        return ', '.join([f\"<b>{tag.replace(')', '').replace('(', '')}</b>({count})\" for tag, count in tag_counts.items()])\n",
    "        \n",
    "        \n",
    "    def show_seen(\n",
    "        self,\n",
    "        k              = 1000,\n",
    "        sort_by        = ['rating'],\n",
    "        sort_ascending = False,\n",
    "        image_width    = 340,\n",
    "        transpose      = True\n",
    "    ):\n",
    "        display(HTML(f'<h2>User Seen items</h2>'))\n",
    "\n",
    "        if self.__seen_items is None:\n",
    "            print('Not Found items!')\n",
    "            return\n",
    "        \n",
    "        df = self.__seen_items.sort_values(by=sort_by, ascending=sort_ascending)[:k]\n",
    "\n",
    "        display(HTML(f'<h4><b>Tags:</b> {self.__as_tags(df, \"genres\")}</h4>'))\n",
    "\n",
    "\n",
    "        df['image'] = df.apply(lambda row: to_image_html(row['poster'], width=image_width, alt=row['title']), axis=1)\n",
    "            \n",
    "        if transpose:\n",
    "            df = df[['image', 'genres', 'rating']] \n",
    "            \n",
    "            df['genres'] = df['genres'].apply(lambda genres: '<ul>' +  ''.join([F'<li style=\"text-align:left;vertical-align:top;\">{g.capitalize()}</li>' for g in genres]) + '</ul>')\n",
    "          \n",
    "            df = df.rename(columns={\n",
    "                    'image'  : 'Poster',\n",
    "                    'genres' : 'Genres',\n",
    "                    'rating' : 'Rating',\n",
    "                })\n",
    "            df = df.reset_index()\n",
    "            df = df.T.drop(['index'])\n",
    "            \n",
    "        else:\n",
    "            df = df[['rating', 'image', 'genres']] \n",
    "            df = df.rename(columns={\n",
    "                'rating' : 'Rating',\n",
    "                'image'  : 'Poster',\n",
    "                'genres' : 'Genres'\n",
    "            }).reset_index()\n",
    "        \n",
    "\n",
    "        display(HTML(df.to_html(escape=False)))"
   ]
  },
  {
   "cell_type": "code",
   "execution_count": 336,
   "id": "538cc243-7a82-4273-8d5d-d10c64ac30ba",
   "metadata": {},
   "outputs": [],
   "source": [
    "class DatabaseUserItemFilteringRecommender:\n",
    "    def __init__(\n",
    "        self,\n",
    "        user_emb_repository,\n",
    "        items_repository,\n",
    "        interactions_repository,\n",
    "        pred_interactions_repository\n",
    "    ):\n",
    "        self.__user_emb_repository          = user_emb_repository\n",
    "        self.__items_repository             = items_repository\n",
    "        self.__interactions_repository      = interactions_repository\n",
    "        self.__pred_interactions_repository = pred_interactions_repository\n",
    "\n",
    "\n",
    "    def __users_distance(self, similar_users):\n",
    "        return { similar_users.str_ids[idx]: similar_users.distances[idx] for idx in range(len(similar_users.str_ids)) }            \n",
    "\n",
    "    \n",
    "    \n",
    "    def __select_interactions(self, interactions, percent, max_items_by_user):\n",
    "        interactions_by_user_id = {}\n",
    "        for i in interactions:\n",
    "            if i.user_id not in interactions_by_user_id:                \n",
    "                interactions_by_user_id[i.user_id] = []\n",
    "\n",
    "            inters = interactions_by_user_id[i.user_id]\n",
    "                \n",
    "            if random.random() >= percent and len(inters) < max_items_by_user:\n",
    "                inters.append(i)\n",
    "    \n",
    "        interactions = []\n",
    "        for inters in interactions_by_user_id.values():\n",
    "            interactions.extend(inters)\n",
    "        \n",
    "        return interactions\n",
    "    \n",
    "    \n",
    "    async def recommend(\n",
    "        self,\n",
    "        user_id                        : int  = None,\n",
    "        not_seen                       : bool = True,\n",
    "        k_sim_users                    : int = 5,\n",
    "        random_selection_items_by_user : int = 0.5,\n",
    "        max_items_by_user              : int = 5\n",
    "    ):\n",
    "        similar_users = self.__user_emb_repository.find_similars_by_id(user_id, limit=k_sim_users)\n",
    "        \n",
    "        if similar_users.empty: return []\n",
    "\n",
    "        similar_user_ids = [id for id in similar_users.str_ids if id != user_id]\n",
    "\n",
    "        if len(similar_user_ids) ==0:\n",
    "            logging.warning('Not found similar users')\n",
    "            return []\n",
    "\n",
    "        interactions = await self.__interactions_repository.find_many_by(user_id={'$in': similar_user_ids})\n",
    "        \n",
    "        interactions = self.__select_interactions(\n",
    "            interactions,\n",
    "            percent           = random_selection_items_by_user,\n",
    "            max_items_by_user = max_items_by_user\n",
    "        )\n",
    "    \n",
    "        if len(interactions) ==0:\n",
    "            logging.warning('Not found sumilar users interactions')\n",
    "            return []\n",
    "        \n",
    "        item_ids = np.unique([i.item_id for i in interactions]).tolist()\n",
    "        \n",
    "        if len(item_ids) ==0:\n",
    "            logging.warning('Not found items')\n",
    "            return []\n",
    "\n",
    "        user_interactions = await self.__interactions_repository.find_many_by(user_id=user_id)\n",
    " \n",
    "        if not_seen:\n",
    "            seen_item_ids = [i.item_id for i in user_interactions]\n",
    "            item_ids = [item_id for item_id in item_ids if item_id not in seen_item_ids]\n",
    "\n",
    "        \n",
    "        items = await self.__items_repository.find_many_by(item_id={'$in': item_ids})\n",
    "    \n",
    "        pred_interactions =  await self.__pred_interactions_repository.find_many_by(\n",
    "            user_id=user_id,\n",
    "            item_id={'$in': item_ids}\n",
    "        )\n",
    "        pred_rating_by_item_id = {i.item_id: i.rating for i in pred_interactions}\n",
    "        \n",
    "        \n",
    "        distance_by_user_id = self.__users_distance(similar_users)\n",
    "        \n",
    "        distance_by_item_id = {i.item_id:distance_by_user_id[i.user_id] for i in interactions}\n",
    "        \n",
    "        max_rating      = np.max([item.rating for item in items])\n",
    "        \n",
    "        max_pred_rating = np.max(list(pred_rating_by_item_id.values()))\n",
    "\n",
    "\n",
    "        scored_items  = []\n",
    "        for item in items:\n",
    "            item_sim   = (1 - distance_by_item_id[item.id])\n",
    "\n",
    "            norm_rating = item.rating / max_rating\n",
    "\n",
    "            item_score1  = norm_rating * item_sim\n",
    "            \n",
    "            norm_pred_rating = pred_rating_by_item_id.get(item.id, 0) / max_pred_rating\n",
    "                \n",
    "            item_score2  = norm_pred_rating * item_sim\n",
    "            \n",
    "            scored_items.append((item, item_score1, item_score2, item_sim, norm_rating))\n",
    "\n",
    "    \n",
    "        recommended_items = pd.DataFrame([\n",
    "            {\n",
    "                'id'    : item[0].id,\n",
    "                'user_sim_weighted_rating_score'      : item[1],\n",
    "                'user_sim_weighted_pred_rating_score' : item[2],\n",
    "                'user_item_sim'                       : item[3],\n",
    "                'pred_user_rating'                    : pred_rating_by_item_id.get(item[0].id, 0),\n",
    "                'rating': item[0].rating,\n",
    "                'title' : item[0].title,\n",
    "                'poster': item[0].poster,\n",
    "                'genres': item[0].genres\n",
    "            }\n",
    "            for item in scored_items\n",
    "        ])\n",
    "        \n",
    "        \n",
    "        seen_item_rating_by_id = {i.item_id: i.rating for i in user_interactions}\n",
    "        seen_items = await self.__items_repository.find_many_by(\n",
    "            item_id={'$in': list(seen_item_rating_by_id.keys())}\n",
    "        )\n",
    "   \n",
    "        seen_items = pd.DataFrame([\n",
    "            {\n",
    "                'id'    : item.id,\n",
    "                'rating': seen_item_rating_by_id.get(item.id, 0),\n",
    "                'title' : item.title,\n",
    "                'poster': item.poster,\n",
    "                'genres': item.genres\n",
    "            }\n",
    "            for item in seen_items\n",
    "        ])\n",
    "        \n",
    "        return DatabaseUserItemFilteringRecommenderResult(\n",
    "            self.__class__.__name__,\n",
    "            recommended_items,\n",
    "            seen_items\n",
    "        )"
   ]
  },
  {
   "cell_type": "code",
   "execution_count": 337,
   "id": "72e99109-2885-4f7b-807f-7444cf33459c",
   "metadata": {
    "tags": []
   },
   "outputs": [],
   "source": [
    "recommender = DatabaseUserItemFilteringRecommender(\n",
    "    user_emb_repository          = ctx.users_cf_emb_repository,\n",
    "    items_repository             = ctx.items_repository,\n",
    "    interactions_repository      = ctx.interactions_repository,\n",
    "    pred_interactions_repository = ctx.pred_interactions_repository,\n",
    "\n",
    ")\n",
    "\n",
    "recommendations = await recommender.recommend(\n",
    "    user_id           = \"adrianmarino@gmail.com\",\n",
    "    k_sim_users       = 20,\n",
    "    max_items_by_user = 5\n",
    ")"
   ]
  },
  {
   "cell_type": "code",
   "execution_count": 338,
   "id": "afbb105e-9eed-4414-8dfc-14c91ec55560",
   "metadata": {
    "tags": []
   },
   "outputs": [
    {
     "data": {
      "text/html": [
       "<h2>User Seen items</h2>"
      ],
      "text/plain": [
       "<IPython.core.display.HTML object>"
      ]
     },
     "metadata": {},
     "output_type": "display_data"
    },
    {
     "data": {
      "text/html": [
       "<h4><b>Tags:</b> <b>adventure</b>(24), <b>action</b>(21), <b>sci-fi</b>(17), <b>comedy</b>(15), <b>animation</b>(13), <b>children</b>(12), <b>imax</b>(10), <b>fantasy</b>(9), <b>thriller</b>(8), <b>drama</b>(7), <b>mystery</b>(4), <b>crime</b>(2), <b>war</b>(2), <b>romance</b>(1)</h4>"
      ],
      "text/plain": [
       "<IPython.core.display.HTML object>"
      ]
     },
     "metadata": {},
     "output_type": "display_data"
    },
    {
     "data": {
      "text/html": [
       "<table border=\"1\" class=\"dataframe\">\n",
       "  <thead>\n",
       "    <tr style=\"text-align: right;\">\n",
       "      <th></th>\n",
       "      <th>0</th>\n",
       "      <th>1</th>\n",
       "      <th>2</th>\n",
       "      <th>3</th>\n",
       "      <th>4</th>\n",
       "      <th>5</th>\n",
       "      <th>6</th>\n",
       "      <th>7</th>\n",
       "      <th>8</th>\n",
       "      <th>9</th>\n",
       "      <th>10</th>\n",
       "      <th>11</th>\n",
       "      <th>12</th>\n",
       "      <th>13</th>\n",
       "      <th>14</th>\n",
       "      <th>15</th>\n",
       "      <th>16</th>\n",
       "      <th>17</th>\n",
       "      <th>18</th>\n",
       "      <th>19</th>\n",
       "      <th>20</th>\n",
       "      <th>21</th>\n",
       "      <th>22</th>\n",
       "      <th>23</th>\n",
       "      <th>24</th>\n",
       "      <th>25</th>\n",
       "      <th>26</th>\n",
       "      <th>27</th>\n",
       "      <th>28</th>\n",
       "      <th>29</th>\n",
       "      <th>30</th>\n",
       "      <th>31</th>\n",
       "      <th>32</th>\n",
       "      <th>33</th>\n",
       "      <th>34</th>\n",
       "      <th>35</th>\n",
       "      <th>36</th>\n",
       "      <th>37</th>\n",
       "      <th>38</th>\n",
       "    </tr>\n",
       "  </thead>\n",
       "  <tbody>\n",
       "    <tr>\n",
       "      <th>Poster</th>\n",
       "      <td><img src=\"http://image.tmdb.org/t/p/w500/uXDfjJbdP4ijW5hWSBrPrlKpxab.jpg\" width=\"340\" alt=Toy Story ></td>\n",
       "      <td><img src=\"http://image.tmdb.org/t/p/w500/y4MBh0EjBlMuOzv9axM4qJlmhzz.jpg\" width=\"340\" alt=Guardians of the Galaxy 2 ></td>\n",
       "      <td><img src=\"http://image.tmdb.org/t/p/w500/qhPtAc1TKbMPqNvcdXSOn9Bn7hZ.jpg\" width=\"340\" alt=Iron Man 3 ></td>\n",
       "      <td><img src=\"http://image.tmdb.org/t/p/w500/2MFIhZAW0CVlEQrFyqwa4U6zqJP.jpg\" width=\"340\" alt=Toy Story 2 ></td>\n",
       "      <td><img src=\"http://image.tmdb.org/t/p/w500/hlK0e0wAQ3VLuJcsfIYPvb4JVud.jpg\" width=\"340\" alt=Zootopia ></td>\n",
       "      <td><img src=\"http://image.tmdb.org/t/p/w500/tRNlZbgNCNOpLpbPEz5L8G8A0JN.jpg\" width=\"340\" alt=Prestige, The ></td>\n",
       "      <td><img src=\"http://image.tmdb.org/t/p/w500/kAPN02qvX7QTQYtBu9wHN6xQySB.jpg\" width=\"340\" alt=Inside Out ></td>\n",
       "      <td><img src=\"http://image.tmdb.org/t/p/w500/uGBVj3bEbCoZbDjjl9wTxcygko1.jpg\" width=\"340\" alt=Doctor Strange ></td>\n",
       "      <td><img src=\"http://image.tmdb.org/t/p/w500/wFSpyMsp7H0ttERbxY7Trlv8xry.jpg\" width=\"340\" alt=Monsters, Inc. ></td>\n",
       "      <td><img src=\"http://image.tmdb.org/t/p/w500/RYMX2wcKCBAr24UyPD7xwmjaTn.jpg\" width=\"340\" alt=Avengers, The ></td>\n",
       "      <td><img src=\"http://image.tmdb.org/t/p/w500/qJ2tW6WMUDux911r6m7haRef0WH.jpg\" width=\"340\" alt=Dark Knight, The ></td>\n",
       "      <td><img src=\"http://image.tmdb.org/t/p/w500/AbbXspMOwdvwWZgVN0nabZq03Ec.jpg\" width=\"340\" alt=Toy Story 3 ></td>\n",
       "      <td><img src=\"http://image.tmdb.org/t/p/w500/oYuLEt3zVCKq57qu2F8dT7NIa6f.jpg\" width=\"340\" alt=Inception ></td>\n",
       "      <td><img src=\"http://image.tmdb.org/t/p/w500/gEU2QniE6E77NI6lCU6MxlNBvIx.jpg\" width=\"340\" alt=Interstellar ></td>\n",
       "      <td><img src=\"http://image.tmdb.org/t/p/w500/wp6OxE4poJ4G7c0U2ZIXasTSMR7.jpg\" width=\"340\" alt=Thor: The Dark World ></td>\n",
       "      <td><img src=\"http://image.tmdb.org/t/p/w500/k0inzQmt7kATmAGns0wdfjiFxSu.jpg\" width=\"340\" alt=Insomnia ></td>\n",
       "      <td><img src=\"http://image.tmdb.org/t/p/w500/eHuGQ10FUzK1mdOY69wF5pGgEf5.jpg\" width=\"340\" alt=Finding Nemo ></td>\n",
       "      <td><img src=\"http://image.tmdb.org/t/p/w500/vSNxAJTlD0r02V9sPYpOjqDZXUK.jpg\" width=\"340\" alt=Captain America: The First Avenger ></td>\n",
       "      <td><img src=\"http://image.tmdb.org/t/p/w500/yuNs09hvpHVU1cBTCAk9zxsL2oW.jpg\" width=\"340\" alt=Memento ></td>\n",
       "      <td><img src=\"http://image.tmdb.org/t/p/w500/2LqaLgk4Z226KkgPJuiOQ58wvrm.jpg\" width=\"340\" alt=Incredibles, The ></td>\n",
       "      <td><img src=\"http://image.tmdb.org/t/p/w500/t3vaWRPSf6WjDSamIkKDs1iQWna.jpg\" width=\"340\" alt=Ratatouille ></td>\n",
       "      <td><img src=\"http://image.tmdb.org/t/p/w500/fnbjcRDYn6YviCcePDnGdyAkYsB.jpg\" width=\"340\" alt=Logan ></td>\n",
       "      <td><img src=\"http://image.tmdb.org/t/p/w500/jIfkQNARYyERqRAq1p1c8xgePp4.jpg\" width=\"340\" alt=Amazing Spider-Man, The ></td>\n",
       "      <td><img src=\"http://image.tmdb.org/t/p/w500/r2J02Z2OpNTctfOSN1Ydgii51I3.jpg\" width=\"340\" alt=Guardians of the Galaxy ></td>\n",
       "      <td><img src=\"http://image.tmdb.org/t/p/w500/ys0jZr0quHERDUEoCboGQEKPvgQ.jpg\" width=\"340\" alt=Moana ></td>\n",
       "      <td><img src=\"http://image.tmdb.org/t/p/w500/3UVe8NL1E2ZdUZ9EDlKGJY5UzE.jpg\" width=\"340\" alt=Finding Dory ></td>\n",
       "      <td><img src=\"http://image.tmdb.org/t/p/w500/b4Oe15CGLL61Ped0RAS9JpqdmCt.jpg\" width=\"340\" alt=Dunkirk ></td>\n",
       "      <td><img src=\"http://image.tmdb.org/t/p/w500/rAGiXaUfPzY7CDEyNKUofk3Kw2e.jpg\" width=\"340\" alt=Captain America: Civil War ></td>\n",
       "      <td><img src=\"http://image.tmdb.org/t/p/w500/8YxOIPrabqkQCOKKbuxaz9IcqhO.jpg\" width=\"340\" alt=Ant-Man ></td>\n",
       "      <td><img src=\"http://image.tmdb.org/t/p/w500/4ssDuvEDkSArWEdyBl2X5EHvYKU.jpg\" width=\"340\" alt=Avengers: Age of Ultron ></td>\n",
       "      <td><img src=\"http://image.tmdb.org/t/p/w500/snGwr2gag4Fcgx2OGmH9otl6ofW.jpg\" width=\"340\" alt=The Lego Movie ></td>\n",
       "      <td><img src=\"http://image.tmdb.org/t/p/w500/ykUEbfpkf8d0w49pHh0AD2KrT52.jpg\" width=\"340\" alt=Aladdin ></td>\n",
       "      <td><img src=\"http://image.tmdb.org/t/p/w500/tVFRpFw3xTedgPGqxW0AOI8Qhh0.jpg\" width=\"340\" alt=Captain America: The Winter Soldier ></td>\n",
       "      <td><img src=\"http://image.tmdb.org/t/p/w500/dGjoPttcbKR5VWg1jQuNFB247KL.jpg\" width=\"340\" alt=The Amazing Spider-Man 2 ></td>\n",
       "      <td><img src=\"http://image.tmdb.org/t/p/w500/gGEsBPAijhVUFoiNpgZXqRVWJt2.jpg\" width=\"340\" alt=Coco ></td>\n",
       "      <td><img src=\"http://image.tmdb.org/t/p/w500/6WBeq4fCfn7AN0o21W9qNcRF2l9.jpg\" width=\"340\" alt=Iron Man 2 ></td>\n",
       "      <td><img src=\"http://image.tmdb.org/t/p/w500/vpbaStTMt8qqXaEgnOR2EE4DNJk.jpg\" width=\"340\" alt=Up! ></td>\n",
       "      <td><img src=\"http://image.tmdb.org/t/p/w500/78lPtwv72eTNqFW9COBYI0dWDJa.jpg\" width=\"340\" alt=Iron Man ></td>\n",
       "      <td><img src=\"http://image.tmdb.org/t/p/w500/v3bkmfSuhrFEdW6svkMQorFOAl9.jpg\" width=\"340\" alt=Falling Up ></td>\n",
       "    </tr>\n",
       "    <tr>\n",
       "      <th>Genres</th>\n",
       "      <td><ul><li style=\"text-align:left;vertical-align:top;\">Adventure</li><li style=\"text-align:left;vertical-align:top;\">Animation</li><li style=\"text-align:left;vertical-align:top;\">Children</li><li style=\"text-align:left;vertical-align:top;\">Comedy</li><li style=\"text-align:left;vertical-align:top;\">Fantasy</li></ul></td>\n",
       "      <td><ul><li style=\"text-align:left;vertical-align:top;\">Action</li><li style=\"text-align:left;vertical-align:top;\">Adventure</li><li style=\"text-align:left;vertical-align:top;\">Sci-fi</li></ul></td>\n",
       "      <td><ul><li style=\"text-align:left;vertical-align:top;\">Action</li><li style=\"text-align:left;vertical-align:top;\">Sci-fi</li><li style=\"text-align:left;vertical-align:top;\">Thriller</li><li style=\"text-align:left;vertical-align:top;\">Imax</li></ul></td>\n",
       "      <td><ul><li style=\"text-align:left;vertical-align:top;\">Adventure</li><li style=\"text-align:left;vertical-align:top;\">Animation</li><li style=\"text-align:left;vertical-align:top;\">Children</li><li style=\"text-align:left;vertical-align:top;\">Comedy</li><li style=\"text-align:left;vertical-align:top;\">Fantasy</li></ul></td>\n",
       "      <td><ul><li style=\"text-align:left;vertical-align:top;\">Action</li><li style=\"text-align:left;vertical-align:top;\">Adventure</li><li style=\"text-align:left;vertical-align:top;\">Animation</li><li style=\"text-align:left;vertical-align:top;\">Children</li><li style=\"text-align:left;vertical-align:top;\">Comedy</li></ul></td>\n",
       "      <td><ul><li style=\"text-align:left;vertical-align:top;\">Drama</li><li style=\"text-align:left;vertical-align:top;\">Mystery</li><li style=\"text-align:left;vertical-align:top;\">Sci-fi</li><li style=\"text-align:left;vertical-align:top;\">Thriller</li></ul></td>\n",
       "      <td><ul><li style=\"text-align:left;vertical-align:top;\">Adventure</li><li style=\"text-align:left;vertical-align:top;\">Animation</li><li style=\"text-align:left;vertical-align:top;\">Children</li><li style=\"text-align:left;vertical-align:top;\">Comedy</li><li style=\"text-align:left;vertical-align:top;\">Drama</li><li style=\"text-align:left;vertical-align:top;\">Fantasy</li></ul></td>\n",
       "      <td><ul><li style=\"text-align:left;vertical-align:top;\">Action</li><li style=\"text-align:left;vertical-align:top;\">Adventure</li><li style=\"text-align:left;vertical-align:top;\">Sci-fi</li></ul></td>\n",
       "      <td><ul><li style=\"text-align:left;vertical-align:top;\">Adventure</li><li style=\"text-align:left;vertical-align:top;\">Animation</li><li style=\"text-align:left;vertical-align:top;\">Children</li><li style=\"text-align:left;vertical-align:top;\">Comedy</li><li style=\"text-align:left;vertical-align:top;\">Fantasy</li></ul></td>\n",
       "      <td><ul><li style=\"text-align:left;vertical-align:top;\">Action</li><li style=\"text-align:left;vertical-align:top;\">Adventure</li></ul></td>\n",
       "      <td><ul><li style=\"text-align:left;vertical-align:top;\">Action</li><li style=\"text-align:left;vertical-align:top;\">Crime</li><li style=\"text-align:left;vertical-align:top;\">Drama</li><li style=\"text-align:left;vertical-align:top;\">Imax</li></ul></td>\n",
       "      <td><ul><li style=\"text-align:left;vertical-align:top;\">Adventure</li><li style=\"text-align:left;vertical-align:top;\">Animation</li><li style=\"text-align:left;vertical-align:top;\">Children</li><li style=\"text-align:left;vertical-align:top;\">Comedy</li><li style=\"text-align:left;vertical-align:top;\">Fantasy</li><li style=\"text-align:left;vertical-align:top;\">Imax</li></ul></td>\n",
       "      <td><ul><li style=\"text-align:left;vertical-align:top;\">Action</li><li style=\"text-align:left;vertical-align:top;\">Crime</li><li style=\"text-align:left;vertical-align:top;\">Drama</li><li style=\"text-align:left;vertical-align:top;\">Mystery</li><li style=\"text-align:left;vertical-align:top;\">Sci-fi</li><li style=\"text-align:left;vertical-align:top;\">Thriller</li><li style=\"text-align:left;vertical-align:top;\">Imax</li></ul></td>\n",
       "      <td><ul><li style=\"text-align:left;vertical-align:top;\">Sci-fi</li><li style=\"text-align:left;vertical-align:top;\">Imax</li></ul></td>\n",
       "      <td><ul><li style=\"text-align:left;vertical-align:top;\">Action</li><li style=\"text-align:left;vertical-align:top;\">Adventure</li><li style=\"text-align:left;vertical-align:top;\">Fantasy</li><li style=\"text-align:left;vertical-align:top;\">Imax</li></ul></td>\n",
       "      <td><ul><li style=\"text-align:left;vertical-align:top;\">Drama</li><li style=\"text-align:left;vertical-align:top;\">Mystery</li><li style=\"text-align:left;vertical-align:top;\">Thriller</li></ul></td>\n",
       "      <td><ul><li style=\"text-align:left;vertical-align:top;\">Adventure</li><li style=\"text-align:left;vertical-align:top;\">Animation</li><li style=\"text-align:left;vertical-align:top;\">Children</li><li style=\"text-align:left;vertical-align:top;\">Comedy</li></ul></td>\n",
       "      <td><ul><li style=\"text-align:left;vertical-align:top;\">Action</li><li style=\"text-align:left;vertical-align:top;\">Adventure</li><li style=\"text-align:left;vertical-align:top;\">Sci-fi</li><li style=\"text-align:left;vertical-align:top;\">Thriller</li><li style=\"text-align:left;vertical-align:top;\">War</li></ul></td>\n",
       "      <td><ul><li style=\"text-align:left;vertical-align:top;\">Mystery</li><li style=\"text-align:left;vertical-align:top;\">Thriller</li></ul></td>\n",
       "      <td><ul><li style=\"text-align:left;vertical-align:top;\">Action</li><li style=\"text-align:left;vertical-align:top;\">Adventure</li><li style=\"text-align:left;vertical-align:top;\">Animation</li><li style=\"text-align:left;vertical-align:top;\">Children</li><li style=\"text-align:left;vertical-align:top;\">Comedy</li></ul></td>\n",
       "      <td><ul><li style=\"text-align:left;vertical-align:top;\">Animation</li><li style=\"text-align:left;vertical-align:top;\">Children</li><li style=\"text-align:left;vertical-align:top;\">Drama</li></ul></td>\n",
       "      <td><ul><li style=\"text-align:left;vertical-align:top;\">Action</li><li style=\"text-align:left;vertical-align:top;\">Sci-fi</li></ul></td>\n",
       "      <td><ul><li style=\"text-align:left;vertical-align:top;\">Action</li><li style=\"text-align:left;vertical-align:top;\">Adventure</li><li style=\"text-align:left;vertical-align:top;\">Sci-fi</li><li style=\"text-align:left;vertical-align:top;\">Imax</li></ul></td>\n",
       "      <td><ul><li style=\"text-align:left;vertical-align:top;\">Action</li><li style=\"text-align:left;vertical-align:top;\">Adventure</li><li style=\"text-align:left;vertical-align:top;\">Sci-fi</li></ul></td>\n",
       "      <td><ul><li style=\"text-align:left;vertical-align:top;\">Adventure</li><li style=\"text-align:left;vertical-align:top;\">Animation</li><li style=\"text-align:left;vertical-align:top;\">Children</li><li style=\"text-align:left;vertical-align:top;\">Comedy</li><li style=\"text-align:left;vertical-align:top;\">Fantasy</li></ul></td>\n",
       "      <td><ul><li style=\"text-align:left;vertical-align:top;\">Adventure</li><li style=\"text-align:left;vertical-align:top;\">Animation</li><li style=\"text-align:left;vertical-align:top;\">Comedy</li></ul></td>\n",
       "      <td><ul><li style=\"text-align:left;vertical-align:top;\">War</li></ul></td>\n",
       "      <td><ul><li style=\"text-align:left;vertical-align:top;\">Action</li><li style=\"text-align:left;vertical-align:top;\">Sci-fi</li><li style=\"text-align:left;vertical-align:top;\">Thriller</li></ul></td>\n",
       "      <td><ul><li style=\"text-align:left;vertical-align:top;\">Action</li><li style=\"text-align:left;vertical-align:top;\">Adventure</li><li style=\"text-align:left;vertical-align:top;\">Sci-fi</li></ul></td>\n",
       "      <td><ul><li style=\"text-align:left;vertical-align:top;\">Action</li><li style=\"text-align:left;vertical-align:top;\">Adventure</li><li style=\"text-align:left;vertical-align:top;\">Sci-fi</li></ul></td>\n",
       "      <td><ul><li style=\"text-align:left;vertical-align:top;\">Action</li><li style=\"text-align:left;vertical-align:top;\">Adventure</li><li style=\"text-align:left;vertical-align:top;\">Animation</li><li style=\"text-align:left;vertical-align:top;\">Children</li><li style=\"text-align:left;vertical-align:top;\">Comedy</li><li style=\"text-align:left;vertical-align:top;\">Fantasy</li></ul></td>\n",
       "      <td><ul><li style=\"text-align:left;vertical-align:top;\">Adventure</li><li style=\"text-align:left;vertical-align:top;\">Animation</li><li style=\"text-align:left;vertical-align:top;\">Children</li><li style=\"text-align:left;vertical-align:top;\">Comedy</li><li style=\"text-align:left;vertical-align:top;\">Fantasy</li></ul></td>\n",
       "      <td><ul><li style=\"text-align:left;vertical-align:top;\">Action</li><li style=\"text-align:left;vertical-align:top;\">Adventure</li><li style=\"text-align:left;vertical-align:top;\">Sci-fi</li><li style=\"text-align:left;vertical-align:top;\">Imax</li></ul></td>\n",
       "      <td><ul><li style=\"text-align:left;vertical-align:top;\">Action</li><li style=\"text-align:left;vertical-align:top;\">Sci-fi</li><li style=\"text-align:left;vertical-align:top;\">Imax</li></ul></td>\n",
       "      <td><ul><li style=\"text-align:left;vertical-align:top;\">Comedy</li></ul></td>\n",
       "      <td><ul><li style=\"text-align:left;vertical-align:top;\">Action</li><li style=\"text-align:left;vertical-align:top;\">Adventure</li><li style=\"text-align:left;vertical-align:top;\">Sci-fi</li><li style=\"text-align:left;vertical-align:top;\">Thriller</li><li style=\"text-align:left;vertical-align:top;\">Imax</li></ul></td>\n",
       "      <td><ul><li style=\"text-align:left;vertical-align:top;\">Comedy</li></ul></td>\n",
       "      <td><ul><li style=\"text-align:left;vertical-align:top;\">Action</li><li style=\"text-align:left;vertical-align:top;\">Adventure</li><li style=\"text-align:left;vertical-align:top;\">Sci-fi</li></ul></td>\n",
       "      <td><ul><li style=\"text-align:left;vertical-align:top;\">Comedy</li><li style=\"text-align:left;vertical-align:top;\">Drama</li><li style=\"text-align:left;vertical-align:top;\">Romance</li></ul></td>\n",
       "    </tr>\n",
       "    <tr>\n",
       "      <th>Rating</th>\n",
       "      <td>5.0</td>\n",
       "      <td>5.0</td>\n",
       "      <td>5.0</td>\n",
       "      <td>5.0</td>\n",
       "      <td>5.0</td>\n",
       "      <td>5.0</td>\n",
       "      <td>5.0</td>\n",
       "      <td>5.0</td>\n",
       "      <td>5.0</td>\n",
       "      <td>5.0</td>\n",
       "      <td>5.0</td>\n",
       "      <td>5.0</td>\n",
       "      <td>5.0</td>\n",
       "      <td>5.0</td>\n",
       "      <td>5.0</td>\n",
       "      <td>4.0</td>\n",
       "      <td>4.0</td>\n",
       "      <td>4.0</td>\n",
       "      <td>4.0</td>\n",
       "      <td>4.0</td>\n",
       "      <td>4.0</td>\n",
       "      <td>4.0</td>\n",
       "      <td>4.0</td>\n",
       "      <td>4.0</td>\n",
       "      <td>4.0</td>\n",
       "      <td>4.0</td>\n",
       "      <td>4.0</td>\n",
       "      <td>4.0</td>\n",
       "      <td>4.0</td>\n",
       "      <td>4.0</td>\n",
       "      <td>4.0</td>\n",
       "      <td>4.0</td>\n",
       "      <td>4.0</td>\n",
       "      <td>3.0</td>\n",
       "      <td>3.0</td>\n",
       "      <td>3.0</td>\n",
       "      <td>3.0</td>\n",
       "      <td>3.0</td>\n",
       "      <td>2.0</td>\n",
       "    </tr>\n",
       "  </tbody>\n",
       "</table>"
      ],
      "text/plain": [
       "<IPython.core.display.HTML object>"
      ]
     },
     "metadata": {},
     "output_type": "display_data"
    }
   ],
   "source": [
    "recommendations.show_seen()"
   ]
  },
  {
   "cell_type": "code",
   "execution_count": 339,
   "id": "ab1f0c0a-4d68-49c7-bf56-a33c4bb7b41f",
   "metadata": {
    "tags": []
   },
   "outputs": [
    {
     "data": {
      "text/html": [
       "<h2>Recommender: DatabaseUserItemFilteringRecommender</h2>"
      ],
      "text/plain": [
       "<IPython.core.display.HTML object>"
      ]
     },
     "metadata": {},
     "output_type": "display_data"
    },
    {
     "data": {
      "text/html": [
       "<h4><b>Tags:</b> <b>drama</b>(4), <b>comedy</b>(3), <b>sci-fi</b>(3), <b>adventure</b>(2), <b>fantasy</b>(2), <b>thriller</b>(2), <b>romance</b>(1), <b>animation</b>(1), <b>action</b>(1), <b>crime</b>(1), <b>mystery</b>(1), <b>horror</b>(1)</h4>"
      ],
      "text/plain": [
       "<IPython.core.display.HTML object>"
      ]
     },
     "metadata": {},
     "output_type": "display_data"
    },
    {
     "data": {
      "text/html": [
       "<table border=\"1\" class=\"dataframe\">\n",
       "  <thead>\n",
       "    <tr style=\"text-align: right;\">\n",
       "      <th></th>\n",
       "      <th>0</th>\n",
       "      <th>1</th>\n",
       "      <th>2</th>\n",
       "      <th>3</th>\n",
       "      <th>4</th>\n",
       "      <th>5</th>\n",
       "      <th>6</th>\n",
       "      <th>7</th>\n",
       "      <th>8</th>\n",
       "      <th>9</th>\n",
       "    </tr>\n",
       "  </thead>\n",
       "  <tbody>\n",
       "    <tr>\n",
       "      <th>Poster</th>\n",
       "      <td><img src=\"http://image.tmdb.org/t/p/w500/38oFHqdlf0zpTSpkrEyOwCbqVrx.jpg\" width=\"340\" alt=Itty Bitty Titty Committee ></td>\n",
       "      <td><img src=\"http://image.tmdb.org/t/p/w500/1ZpDVSY15o0TWVj7qbvFf5BU8jE.jpg\" width=\"340\" alt=Patema Inverted ></td>\n",
       "      <td><img src=\"http://image.tmdb.org/t/p/w500/f89U3ADr1oiB1s9GkdPOEpXUk5H.jpg\" width=\"340\" alt=Matrix, The ></td>\n",
       "      <td><img src=\"http://image.tmdb.org/t/p/w500/lSSA64WF0M0BXnjwr2quMh6shCl.jpg\" width=\"340\" alt=Monty Python's Life of Brian ></td>\n",
       "      <td><img src=\"http://image.tmdb.org/t/p/w500/6oom5QYQ2yQTMJIbnvbkBL9cHo6.jpg\" width=\"340\" alt=Lord of the Rings: The Fellowship of the Ring, The ></td>\n",
       "      <td><img src=\"http://image.tmdb.org/t/p/w500/2gDCAgl2iBQNuJuk6p2xtuS1ewg.jpg\" width=\"340\" alt=Dial M for Murder ></td>\n",
       "      <td><img src=\"http://image.tmdb.org/t/p/w500/71IwGRZmEds1yuD2xbaExAofoLS.jpg\" width=\"340\" alt=Pink Flamingos ></td>\n",
       "      <td><img src=\"http://image.tmdb.org/t/p/w500/wcZ21zrOsy0b52AfAF50XpTiv75.jpg\" width=\"340\" alt=Seventh Seal, The ></td>\n",
       "      <td><img src=\"http://image.tmdb.org/t/p/w500/qKnsyaJZLXfiL2JhIJEkpA8C3LU.jpg\" width=\"340\" alt=Short Term 12 ></td>\n",
       "      <td><img src=\"http://image.tmdb.org/t/p/w500/vfrQk5IPloGg1v9Rzbh2Eg3VGyM.jpg\" width=\"340\" alt=Alien ></td>\n",
       "    </tr>\n",
       "    <tr>\n",
       "      <th>Genres</th>\n",
       "      <td><ul><li style=\"text-align:left;vertical-align:top;\">Comedy</li><li style=\"text-align:left;vertical-align:top;\">Drama</li><li style=\"text-align:left;vertical-align:top;\">Romance</li></ul></td>\n",
       "      <td><ul><li style=\"text-align:left;vertical-align:top;\">Adventure</li><li style=\"text-align:left;vertical-align:top;\">Animation</li><li style=\"text-align:left;vertical-align:top;\">Drama</li><li style=\"text-align:left;vertical-align:top;\">Fantasy</li><li style=\"text-align:left;vertical-align:top;\">Sci-fi</li></ul></td>\n",
       "      <td><ul><li style=\"text-align:left;vertical-align:top;\">Action</li><li style=\"text-align:left;vertical-align:top;\">Sci-fi</li><li style=\"text-align:left;vertical-align:top;\">Thriller</li></ul></td>\n",
       "      <td><ul><li style=\"text-align:left;vertical-align:top;\">Comedy</li></ul></td>\n",
       "      <td><ul><li style=\"text-align:left;vertical-align:top;\">Adventure</li><li style=\"text-align:left;vertical-align:top;\">Fantasy</li></ul></td>\n",
       "      <td><ul><li style=\"text-align:left;vertical-align:top;\">Crime</li><li style=\"text-align:left;vertical-align:top;\">Mystery</li><li style=\"text-align:left;vertical-align:top;\">Thriller</li></ul></td>\n",
       "      <td><ul><li style=\"text-align:left;vertical-align:top;\">Comedy</li></ul></td>\n",
       "      <td><ul><li style=\"text-align:left;vertical-align:top;\">Drama</li></ul></td>\n",
       "      <td><ul><li style=\"text-align:left;vertical-align:top;\">Drama</li></ul></td>\n",
       "      <td><ul><li style=\"text-align:left;vertical-align:top;\">Horror</li><li style=\"text-align:left;vertical-align:top;\">Sci-fi</li></ul></td>\n",
       "    </tr>\n",
       "    <tr>\n",
       "      <th>Mean Rating</th>\n",
       "      <td>3.0</td>\n",
       "      <td>4.0</td>\n",
       "      <td>4.272401</td>\n",
       "      <td>4.044776</td>\n",
       "      <td>4.232258</td>\n",
       "      <td>3.971429</td>\n",
       "      <td>3.956522</td>\n",
       "      <td>3.957143</td>\n",
       "      <td>3.97619</td>\n",
       "      <td>4.132479</td>\n",
       "    </tr>\n",
       "    <tr>\n",
       "      <th>User sim weighted rating score</th>\n",
       "      <td>0.593739</td>\n",
       "      <td>0.792099</td>\n",
       "      <td>0.845178</td>\n",
       "      <td>0.799971</td>\n",
       "      <td>0.837065</td>\n",
       "      <td>0.785916</td>\n",
       "      <td>0.782516</td>\n",
       "      <td>0.782337</td>\n",
       "      <td>0.787737</td>\n",
       "      <td>0.817596</td>\n",
       "    </tr>\n",
       "    <tr>\n",
       "      <th>User sim weighted predicted rating score</th>\n",
       "      <td>0.989565</td>\n",
       "      <td>0.950177</td>\n",
       "      <td>0.942475</td>\n",
       "      <td>0.938053</td>\n",
       "      <td>0.899265</td>\n",
       "      <td>0.897509</td>\n",
       "      <td>0.891985</td>\n",
       "      <td>0.888523</td>\n",
       "      <td>0.888106</td>\n",
       "      <td>0.888004</td>\n",
       "    </tr>\n",
       "    <tr>\n",
       "      <th>Predicted Rating</th>\n",
       "      <td>5.031342</td>\n",
       "      <td>4.828352</td>\n",
       "      <td>4.794106</td>\n",
       "      <td>4.772671</td>\n",
       "      <td>4.575248</td>\n",
       "      <td>4.563766</td>\n",
       "      <td>4.538283</td>\n",
       "      <td>4.522411</td>\n",
       "      <td>4.510912</td>\n",
       "      <td>4.516483</td>\n",
       "    </tr>\n",
       "    <tr>\n",
       "      <th>User Item Similarity</th>\n",
       "      <td>0.989565</td>\n",
       "      <td>0.990123</td>\n",
       "      <td>0.989114</td>\n",
       "      <td>0.988894</td>\n",
       "      <td>0.98891</td>\n",
       "      <td>0.989462</td>\n",
       "      <td>0.988894</td>\n",
       "      <td>0.988513</td>\n",
       "      <td>0.990567</td>\n",
       "      <td>0.989232</td>\n",
       "    </tr>\n",
       "  </tbody>\n",
       "</table>"
      ],
      "text/plain": [
       "<IPython.core.display.HTML object>"
      ]
     },
     "metadata": {},
     "output_type": "display_data"
    }
   ],
   "source": [
    "recommendations.show(\n",
    "    sort_by        = ['user_sim_weighted_pred_rating_score'],\n",
    "    k              = 10,\n",
    "    transpose      = True\n",
    ")"
   ]
  },
  {
   "cell_type": "code",
   "execution_count": 340,
   "id": "a5cb1e0a-71cb-48ea-83a9-1cb89bd5dd89",
   "metadata": {
    "tags": []
   },
   "outputs": [
    {
     "data": {
      "text/html": [
       "<h2>Recommender: DatabaseUserItemFilteringRecommender</h2>"
      ],
      "text/plain": [
       "<IPython.core.display.HTML object>"
      ]
     },
     "metadata": {},
     "output_type": "display_data"
    },
    {
     "data": {
      "text/html": [
       "<h4><b>Tags:</b> <b>drama</b>(5), <b>action</b>(3), <b>adventure</b>(3), <b>sci-fi</b>(3), <b>fantasy</b>(2), <b>thriller</b>(2), <b>horror</b>(2), <b>romance</b>(1), <b>crime</b>(1), <b>comedy</b>(1), <b>mystery</b>(1)</h4>"
      ],
      "text/plain": [
       "<IPython.core.display.HTML object>"
      ]
     },
     "metadata": {},
     "output_type": "display_data"
    },
    {
     "data": {
      "text/html": [
       "<table border=\"1\" class=\"dataframe\">\n",
       "  <thead>\n",
       "    <tr style=\"text-align: right;\">\n",
       "      <th></th>\n",
       "      <th>0</th>\n",
       "      <th>1</th>\n",
       "      <th>2</th>\n",
       "      <th>3</th>\n",
       "      <th>4</th>\n",
       "      <th>5</th>\n",
       "      <th>6</th>\n",
       "      <th>7</th>\n",
       "      <th>8</th>\n",
       "      <th>9</th>\n",
       "    </tr>\n",
       "  </thead>\n",
       "  <tbody>\n",
       "    <tr>\n",
       "      <th>Poster</th>\n",
       "      <td><img src=\"http://image.tmdb.org/t/p/w500/aX88jCiChMUUInXGeHjqMpSW10Z.jpg\" width=\"340\" alt=Curse of the Ring ></td>\n",
       "      <td><img src=\"http://image.tmdb.org/t/p/w500/f89U3ADr1oiB1s9GkdPOEpXUk5H.jpg\" width=\"340\" alt=Matrix, The ></td>\n",
       "      <td><img src=\"http://image.tmdb.org/t/p/w500/6oom5QYQ2yQTMJIbnvbkBL9cHo6.jpg\" width=\"340\" alt=Lord of the Rings: The Fellowship of the Ring, The ></td>\n",
       "      <td><img src=\"http://image.tmdb.org/t/p/w500/kffoWJ7FfPRlFFBGixOMbq3blQp.jpg\" width=\"340\" alt=Only Lovers Left Alive ></td>\n",
       "      <td><img src=\"http://image.tmdb.org/t/p/w500/nNAeTmF4CtdSgMDplXTDPOpYzsX.jpg\" width=\"340\" alt=Star Wars: Episode V - The Empire Strikes Back ></td>\n",
       "      <td><img src=\"http://image.tmdb.org/t/p/w500/aKuFiU82s5ISJpGZp7YkIr3kCUd.jpg\" width=\"340\" alt=Goodfellas ></td>\n",
       "      <td><img src=\"http://image.tmdb.org/t/p/w500/vfrQk5IPloGg1v9Rzbh2Eg3VGyM.jpg\" width=\"340\" alt=Alien ></td>\n",
       "      <td><img src=\"http://image.tmdb.org/t/p/w500/3jcbDmRFiQ83drXNOvRDeKHxS0C.jpg\" width=\"340\" alt=One Flew Over the Cuckoo's Nest ></td>\n",
       "      <td><img src=\"http://image.tmdb.org/t/p/w500/7fn624j5lj3xTme2SgiLCeuedmO.jpg\" width=\"340\" alt=Whiplash ></td>\n",
       "      <td><img src=\"http://image.tmdb.org/t/p/w500/xG1GEEQGgExKl0WT5sRo1Arst5D.jpg\" width=\"340\" alt=Arsenic and Old Lace ></td>\n",
       "    </tr>\n",
       "    <tr>\n",
       "      <th>Genres</th>\n",
       "      <td><ul><li style=\"text-align:left;vertical-align:top;\">Action</li><li style=\"text-align:left;vertical-align:top;\">Adventure</li><li style=\"text-align:left;vertical-align:top;\">Drama</li><li style=\"text-align:left;vertical-align:top;\">Fantasy</li></ul></td>\n",
       "      <td><ul><li style=\"text-align:left;vertical-align:top;\">Action</li><li style=\"text-align:left;vertical-align:top;\">Sci-fi</li><li style=\"text-align:left;vertical-align:top;\">Thriller</li></ul></td>\n",
       "      <td><ul><li style=\"text-align:left;vertical-align:top;\">Adventure</li><li style=\"text-align:left;vertical-align:top;\">Fantasy</li></ul></td>\n",
       "      <td><ul><li style=\"text-align:left;vertical-align:top;\">Drama</li><li style=\"text-align:left;vertical-align:top;\">Horror</li><li style=\"text-align:left;vertical-align:top;\">Romance</li></ul></td>\n",
       "      <td><ul><li style=\"text-align:left;vertical-align:top;\">Action</li><li style=\"text-align:left;vertical-align:top;\">Adventure</li><li style=\"text-align:left;vertical-align:top;\">Sci-fi</li></ul></td>\n",
       "      <td><ul><li style=\"text-align:left;vertical-align:top;\">Crime</li><li style=\"text-align:left;vertical-align:top;\">Drama</li></ul></td>\n",
       "      <td><ul><li style=\"text-align:left;vertical-align:top;\">Horror</li><li style=\"text-align:left;vertical-align:top;\">Sci-fi</li></ul></td>\n",
       "      <td><ul><li style=\"text-align:left;vertical-align:top;\">Drama</li></ul></td>\n",
       "      <td><ul><li style=\"text-align:left;vertical-align:top;\">Drama</li></ul></td>\n",
       "      <td><ul><li style=\"text-align:left;vertical-align:top;\">Comedy</li><li style=\"text-align:left;vertical-align:top;\">Mystery</li><li style=\"text-align:left;vertical-align:top;\">Thriller</li></ul></td>\n",
       "    </tr>\n",
       "    <tr>\n",
       "      <th>Mean Rating</th>\n",
       "      <td>5.0</td>\n",
       "      <td>4.272401</td>\n",
       "      <td>4.232258</td>\n",
       "      <td>4.225</td>\n",
       "      <td>4.208738</td>\n",
       "      <td>4.143617</td>\n",
       "      <td>4.132479</td>\n",
       "      <td>4.10929</td>\n",
       "      <td>4.107317</td>\n",
       "      <td>4.068966</td>\n",
       "    </tr>\n",
       "    <tr>\n",
       "      <th>User sim weighted rating score</th>\n",
       "      <td>0.988815</td>\n",
       "      <td>0.845178</td>\n",
       "      <td>0.837065</td>\n",
       "      <td>0.835288</td>\n",
       "      <td>0.832078</td>\n",
       "      <td>0.819533</td>\n",
       "      <td>0.817596</td>\n",
       "      <td>0.812731</td>\n",
       "      <td>0.812145</td>\n",
       "      <td>0.805218</td>\n",
       "    </tr>\n",
       "    <tr>\n",
       "      <th>User sim weighted predicted rating score</th>\n",
       "      <td>0.823705</td>\n",
       "      <td>0.942475</td>\n",
       "      <td>0.899265</td>\n",
       "      <td>0.87747</td>\n",
       "      <td>0.86195</td>\n",
       "      <td>0.87572</td>\n",
       "      <td>0.888004</td>\n",
       "      <td>0.874495</td>\n",
       "      <td>0.829102</td>\n",
       "      <td>0.73315</td>\n",
       "    </tr>\n",
       "    <tr>\n",
       "      <th>Predicted Rating</th>\n",
       "      <td>4.19122</td>\n",
       "      <td>4.794106</td>\n",
       "      <td>4.575248</td>\n",
       "      <td>4.466183</td>\n",
       "      <td>4.387161</td>\n",
       "      <td>4.455455</td>\n",
       "      <td>4.516483</td>\n",
       "      <td>4.449297</td>\n",
       "      <td>4.219355</td>\n",
       "      <td>3.728013</td>\n",
       "    </tr>\n",
       "    <tr>\n",
       "      <th>User Item Similarity</th>\n",
       "      <td>0.988815</td>\n",
       "      <td>0.989114</td>\n",
       "      <td>0.98891</td>\n",
       "      <td>0.988506</td>\n",
       "      <td>0.988513</td>\n",
       "      <td>0.98891</td>\n",
       "      <td>0.989232</td>\n",
       "      <td>0.988894</td>\n",
       "      <td>0.988657</td>\n",
       "      <td>0.989462</td>\n",
       "    </tr>\n",
       "  </tbody>\n",
       "</table>"
      ],
      "text/plain": [
       "<IPython.core.display.HTML object>"
      ]
     },
     "metadata": {},
     "output_type": "display_data"
    }
   ],
   "source": [
    "recommendations.show(\n",
    "    sort_by        = ['user_sim_weighted_rating_score'],\n",
    "    k              = 10\n",
    ")"
   ]
  },
  {
   "cell_type": "code",
   "execution_count": 341,
   "id": "4c4c8c5c-5bb5-488f-9cc9-0b41472f110a",
   "metadata": {},
   "outputs": [
    {
     "data": {
      "text/html": [
       "<h2>Recommender: DatabaseUserItemFilteringRecommender</h2>"
      ],
      "text/plain": [
       "<IPython.core.display.HTML object>"
      ]
     },
     "metadata": {},
     "output_type": "display_data"
    },
    {
     "data": {
      "text/html": [
       "<h4><b>Tags:</b> <b>drama</b>(7), <b>comedy</b>(3), <b>sci-fi</b>(3), <b>crime</b>(2), <b>adventure</b>(2), <b>action</b>(2), <b>romance</b>(1), <b>animation</b>(1), <b>fantasy</b>(1), <b>no genres listed</b>(1), <b>imax</b>(1)</h4>"
      ],
      "text/plain": [
       "<IPython.core.display.HTML object>"
      ]
     },
     "metadata": {},
     "output_type": "display_data"
    },
    {
     "data": {
      "text/html": [
       "<table border=\"1\" class=\"dataframe\">\n",
       "  <thead>\n",
       "    <tr style=\"text-align: right;\">\n",
       "      <th></th>\n",
       "      <th>0</th>\n",
       "      <th>1</th>\n",
       "      <th>2</th>\n",
       "      <th>3</th>\n",
       "      <th>4</th>\n",
       "      <th>5</th>\n",
       "      <th>6</th>\n",
       "      <th>7</th>\n",
       "      <th>8</th>\n",
       "      <th>9</th>\n",
       "    </tr>\n",
       "  </thead>\n",
       "  <tbody>\n",
       "    <tr>\n",
       "      <th>Poster</th>\n",
       "      <td><img src=\"http://image.tmdb.org/t/p/w500/vY5j2xQzMGWmxBuhQo0HfA4Lxqb.jpg\" width=\"340\" alt=Place Beyond the Pines, The ></td>\n",
       "      <td><img src=\"http://image.tmdb.org/t/p/w500/qKnsyaJZLXfiL2JhIJEkpA8C3LU.jpg\" width=\"340\" alt=Short Term 12 ></td>\n",
       "      <td><img src=\"http://image.tmdb.org/t/p/w500/nNxK3pC3DMpPpWKMvo2p3liREVT.jpg\" width=\"340\" alt=Inside Llewyn Davis ></td>\n",
       "      <td><img src=\"http://image.tmdb.org/t/p/w500/rHUg2AuIuLSIYMYFgavVwqt1jtc.jpg\" width=\"340\" alt=Birdman: Or ></td>\n",
       "      <td><img src=\"http://image.tmdb.org/t/p/w500/lNqSlpZAti3qdcxnquek7cNd3uF.jpg\" width=\"340\" alt=Her ></td>\n",
       "      <td><img src=\"http://image.tmdb.org/t/p/w500/1ZpDVSY15o0TWVj7qbvFf5BU8jE.jpg\" width=\"340\" alt=Patema Inverted ></td>\n",
       "      <td><img src=\"http://image.tmdb.org/t/p/w500/qwoGfcg6YUS55nUweKGujHE54Wy.jpg\" width=\"340\" alt=Pirates of the Caribbean: Dead Men Tell No Tales ></td>\n",
       "      <td><img src=\"http://image.tmdb.org/t/p/w500/hQDEvfqoYD33JnMWKccVDeWOkVG.jpg\" width=\"340\" alt=Ashby ></td>\n",
       "      <td><img src=\"http://image.tmdb.org/t/p/w500/xjw5trHV7Mwo61P0kCTy8paEkgO.jpg\" width=\"340\" alt=Edge of Tomorrow ></td>\n",
       "      <td><img src=\"http://image.tmdb.org/t/p/w500/17i5YPTfHOjXoieArpATWGRhLj1.jpg\" width=\"340\" alt=Kingsman: The Secret Service ></td>\n",
       "    </tr>\n",
       "    <tr>\n",
       "      <th>Genres</th>\n",
       "      <td><ul><li style=\"text-align:left;vertical-align:top;\">Crime</li><li style=\"text-align:left;vertical-align:top;\">Drama</li></ul></td>\n",
       "      <td><ul><li style=\"text-align:left;vertical-align:top;\">Drama</li></ul></td>\n",
       "      <td><ul><li style=\"text-align:left;vertical-align:top;\">Drama</li></ul></td>\n",
       "      <td><ul><li style=\"text-align:left;vertical-align:top;\">Comedy</li><li style=\"text-align:left;vertical-align:top;\">Drama</li></ul></td>\n",
       "      <td><ul><li style=\"text-align:left;vertical-align:top;\">Drama</li><li style=\"text-align:left;vertical-align:top;\">Romance</li><li style=\"text-align:left;vertical-align:top;\">Sci-fi</li></ul></td>\n",
       "      <td><ul><li style=\"text-align:left;vertical-align:top;\">Adventure</li><li style=\"text-align:left;vertical-align:top;\">Animation</li><li style=\"text-align:left;vertical-align:top;\">Drama</li><li style=\"text-align:left;vertical-align:top;\">Fantasy</li><li style=\"text-align:left;vertical-align:top;\">Sci-fi</li></ul></td>\n",
       "      <td><ul><li style=\"text-align:left;vertical-align:top;\">(no genres listed)</li></ul></td>\n",
       "      <td><ul><li style=\"text-align:left;vertical-align:top;\">Comedy</li><li style=\"text-align:left;vertical-align:top;\">Drama</li></ul></td>\n",
       "      <td><ul><li style=\"text-align:left;vertical-align:top;\">Action</li><li style=\"text-align:left;vertical-align:top;\">Sci-fi</li><li style=\"text-align:left;vertical-align:top;\">Imax</li></ul></td>\n",
       "      <td><ul><li style=\"text-align:left;vertical-align:top;\">Action</li><li style=\"text-align:left;vertical-align:top;\">Adventure</li><li style=\"text-align:left;vertical-align:top;\">Comedy</li><li style=\"text-align:left;vertical-align:top;\">Crime</li></ul></td>\n",
       "    </tr>\n",
       "    <tr>\n",
       "      <th>Mean Rating</th>\n",
       "      <td>3.555556</td>\n",
       "      <td>3.97619</td>\n",
       "      <td>3.6</td>\n",
       "      <td>3.811688</td>\n",
       "      <td>3.902439</td>\n",
       "      <td>4.0</td>\n",
       "      <td>3.181818</td>\n",
       "      <td>3.333333</td>\n",
       "      <td>4.009524</td>\n",
       "      <td>3.650685</td>\n",
       "    </tr>\n",
       "    <tr>\n",
       "      <th>User sim weighted rating score</th>\n",
       "      <td>0.704403</td>\n",
       "      <td>0.787737</td>\n",
       "      <td>0.713208</td>\n",
       "      <td>0.755147</td>\n",
       "      <td>0.773126</td>\n",
       "      <td>0.792099</td>\n",
       "      <td>0.630078</td>\n",
       "      <td>0.660082</td>\n",
       "      <td>0.793984</td>\n",
       "      <td>0.722926</td>\n",
       "    </tr>\n",
       "    <tr>\n",
       "      <th>User sim weighted predicted rating score</th>\n",
       "      <td>0.7934</td>\n",
       "      <td>0.888106</td>\n",
       "      <td>0.731931</td>\n",
       "      <td>0.798283</td>\n",
       "      <td>0.84091</td>\n",
       "      <td>0.950177</td>\n",
       "      <td>0.824596</td>\n",
       "      <td>0.747846</td>\n",
       "      <td>0.849907</td>\n",
       "      <td>0.754244</td>\n",
       "    </tr>\n",
       "    <tr>\n",
       "      <th>Predicted Rating</th>\n",
       "      <td>4.029877</td>\n",
       "      <td>4.510912</td>\n",
       "      <td>3.717661</td>\n",
       "      <td>4.054683</td>\n",
       "      <td>4.271195</td>\n",
       "      <td>4.828352</td>\n",
       "      <td>4.19021</td>\n",
       "      <td>3.800201</td>\n",
       "      <td>4.318829</td>\n",
       "      <td>3.832714</td>\n",
       "    </tr>\n",
       "    <tr>\n",
       "      <th>User Item Similarity</th>\n",
       "      <td>0.990567</td>\n",
       "      <td>0.990567</td>\n",
       "      <td>0.990567</td>\n",
       "      <td>0.990567</td>\n",
       "      <td>0.990567</td>\n",
       "      <td>0.990123</td>\n",
       "      <td>0.990123</td>\n",
       "      <td>0.990123</td>\n",
       "      <td>0.990123</td>\n",
       "      <td>0.990123</td>\n",
       "    </tr>\n",
       "  </tbody>\n",
       "</table>"
      ],
      "text/plain": [
       "<IPython.core.display.HTML object>"
      ]
     },
     "metadata": {},
     "output_type": "display_data"
    }
   ],
   "source": [
    "recommendations.show(\n",
    "    sort_by        = ['user_item_sim'],\n",
    "    k              = 10\n",
    ")"
   ]
  }
 ],
 "metadata": {
  "kernelspec": {
   "display_name": "Python 3 (ipykernel)",
   "language": "python",
   "name": "python3"
  },
  "language_info": {
   "codemirror_mode": {
    "name": "ipython",
    "version": 3
   },
   "file_extension": ".py",
   "mimetype": "text/x-python",
   "name": "python",
   "nbconvert_exporter": "python",
   "pygments_lexer": "ipython3",
   "version": "3.10.13"
  },
  "widgets": {
   "application/vnd.jupyter.widget-state+json": {
    "state": {},
    "version_major": 2,
    "version_minor": 0
   }
  }
 },
 "nbformat": 4,
 "nbformat_minor": 5
}
