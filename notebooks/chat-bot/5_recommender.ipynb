{
 "cells": [
  {
   "cell_type": "markdown",
   "id": "0417277b-47df-4113-a7b3-8f960db06f1d",
   "metadata": {
    "tags": []
   },
   "source": [
    "# Recommender ChatBot: Collaborative Filtering recommender using user embeddings from chromadb"
   ]
  },
  {
   "cell_type": "code",
   "execution_count": 1,
   "id": "59f0eac0-30e8-4e72-860e-05541c36b82e",
   "metadata": {},
   "outputs": [],
   "source": [
    "%load_ext autoreload\n",
    "%autoreload 2"
   ]
  },
  {
   "cell_type": "code",
   "execution_count": 2,
   "id": "6fe490fd-66c5-4b3f-a327-62aa5d01f21c",
   "metadata": {},
   "outputs": [],
   "source": [
    "import os\n",
    "\n",
    "BASE_PATH    = '../..'\n",
    "API_PATH     = f'{BASE_PATH}/chat-bot-api'\n",
    "LIB_PATH     = f'{BASE_PATH}/lib'\n",
    "\n",
    "\n",
    "os.environ['TMP_PATH']         = f'{BASE_PATH}/tmp'\n",
    "os.environ['DATASET_PATH']     = f'{BASE_PATH}/datasets'\n",
    "os.environ['WEIGHTS_PATH']     = f'{BASE_PATH}/weights'\n",
    "os.environ['METRICS_PATH']     = f'{BASE_PATH}/metrics'\n",
    "os.environ['MONGODB_URL']      = 'mongodb://0.0.0.0:27017'\n",
    "os.environ['MONGODB_DATABASE'] = 'chatbot'\n",
    "os.environ['CHROMA_HOST']      = '0.0.0.0'\n",
    "os.environ['CHROMA_PORT']      = '9090'"
   ]
  },
  {
   "cell_type": "code",
   "execution_count": 3,
   "id": "f98e7bf4-f41a-43f6-b7b7-a991d00f82de",
   "metadata": {},
   "outputs": [
    {
     "name": "stderr",
     "output_type": "stream",
     "text": [
      "2024-02-24 17:57:17.360600: I tensorflow/core/platform/cpu_feature_guard.cc:182] This TensorFlow binary is optimized to use available CPU instructions in performance-critical operations.\n",
      "To enable the following instructions: AVX2 FMA, in other operations, rebuild TensorFlow with the appropriate compiler flags.\n",
      "2024-02-24 17:57:17.813149: W tensorflow/compiler/tf2tensorrt/utils/py_utils.cc:38] TF-TRT Warning: Could not find TensorRT\n",
      "2024-02-24 17:57:18.087334: I tensorflow/compiler/xla/stream_executor/cuda/cuda_gpu_executor.cc:996] successful NUMA node read from SysFS had negative value (-1), but there must be at least one NUMA node, so returning NUMA node zero. See more at https://github.com/torvalds/linux/blob/v6.0/Documentation/ABI/testing/sysfs-bus-pci#L344-L355\n",
      "2024-02-24 17:57:18.098481: W tensorflow/core/common_runtime/gpu/gpu_device.cc:1956] Cannot dlopen some GPU libraries. Please make sure the missing libraries mentioned above are installed properly if you would like to use GPU. Follow the guide at https://www.tensorflow.org/install/gpu for how to download and setup the required libraries for your platform.\n",
      "Skipping registering GPU devices...\n"
     ]
    },
    {
     "data": {
      "text/plain": [
       "<Figure size 640x480 with 0 Axes>"
      ]
     },
     "metadata": {},
     "output_type": "display_data"
    }
   ],
   "source": [
    "import sys\n",
    "sys.path.append(LIB_PATH)\n",
    "sys.path.append(API_PATH)\n",
    "\n",
    "import pytorch_common.util as pu\n",
    "from app_context import AppContext"
   ]
  },
  {
   "cell_type": "markdown",
   "id": "d757391b-ad9f-4047-9b23-e3bd23fbe37b",
   "metadata": {},
   "source": [
    "## Setup"
   ]
  },
  {
   "cell_type": "code",
   "execution_count": 4,
   "id": "efba19c8-6de3-4a6c-b804-658d0aff6bdb",
   "metadata": {},
   "outputs": [
    {
     "data": {
      "text/plain": [
       "<RootLogger root (INFO)>"
      ]
     },
     "execution_count": 4,
     "metadata": {},
     "output_type": "execute_result"
    }
   ],
   "source": [
    "pu.LoggerBuilder().on_console().build()"
   ]
  },
  {
   "cell_type": "code",
   "execution_count": 5,
   "id": "72432e7f-f377-40a6-968e-eeb4aba00c7d",
   "metadata": {},
   "outputs": [
    {
     "name": "stderr",
     "output_type": "stream",
     "text": [
      "2024-02-24 17:57:19,505 - INFO - Load pretrained SentenceTransformer: all-mpnet-base-v2\n",
      "2024-02-24 17:57:20,066 - INFO - Use pytorch device: cuda\n",
      "2024-02-24 17:57:20,069 - INFO - Anonymized telemetry enabled. See                     https://docs.trychroma.com/telemetry for more information.\n",
      "2024-02-24 17:57:20,091 - INFO - Anonymized telemetry enabled. See                     https://docs.trychroma.com/telemetry for more information.\n"
     ]
    }
   ],
   "source": [
    "ctx = AppContext()"
   ]
  },
  {
   "cell_type": "markdown",
   "id": "b8334d07-f306-42b4-8ea1-cc27b82eb343",
   "metadata": {},
   "source": [
    "## Recommender"
   ]
  },
  {
   "cell_type": "code",
   "execution_count": 157,
   "id": "72e99109-2885-4f7b-807f-7444cf33459c",
   "metadata": {
    "tags": []
   },
   "outputs": [
    {
     "name": "stderr",
     "output_type": "stream",
     "text": [
      "2024-02-24 18:31:56,112 - INFO - Found 10 similar users\n",
      "2024-02-24 18:31:56,116 - INFO - Found 449 similar users interactions\n",
      "2024-02-24 18:31:56,116 - INFO - Select 134 similar users interactions\n",
      "2024-02-24 18:31:56,364 - INFO - Found 1500 items by text query\n",
      "2024-02-24 18:31:56,374 - INFO - Select 31 similar user items by text query\n",
      "2024-02-24 18:31:56,377 - INFO - Select 31 similar user unseen items\n"
     ]
    }
   ],
   "source": [
    "recommendations = await ctx.database_user_item_filtering_recommender.recommend(\n",
    "    user_id            = \"adrianmarino@gmail.com\",\n",
    "    text_query         = 'I want to see sci-fi movies',\n",
    "    k_sim_users        = 10,\n",
    "    max_items_by_user  = 20,\n",
    "    text_query_limit   = 1500,\n",
    "    min_rating_by_user = 4,\n",
    "    not_seen           = True\n",
    ")"
   ]
  },
  {
   "cell_type": "code",
   "execution_count": 158,
   "id": "afbb105e-9eed-4414-8dfc-14c91ec55560",
   "metadata": {
    "tags": []
   },
   "outputs": [
    {
     "data": {
      "text/html": [
       "<h2>User Seen items</h2>"
      ],
      "text/plain": [
       "<IPython.core.display.HTML object>"
      ]
     },
     "metadata": {},
     "output_type": "display_data"
    },
    {
     "name": "stdout",
     "output_type": "stream",
     "text": [
      "Not Found items!\n"
     ]
    }
   ],
   "source": [
    "recommendations.show_seen()"
   ]
  },
  {
   "cell_type": "code",
   "execution_count": 159,
   "id": "ab1f0c0a-4d68-49c7-bf56-a33c4bb7b41f",
   "metadata": {
    "tags": []
   },
   "outputs": [
    {
     "data": {
      "text/html": [
       "<h2>Recommendations</h2>"
      ],
      "text/plain": [
       "<IPython.core.display.HTML object>"
      ]
     },
     "metadata": {},
     "output_type": "display_data"
    },
    {
     "data": {
      "text/html": [
       "<h4><b>Tags:</b> <b>sci-fi</b>(8), <b>adventure</b>(5), <b>comedy</b>(4), <b>drama</b>(4), <b>action</b>(4), <b>animation</b>(2), <b>children</b>(2), <b>romance</b>(1), <b>western</b>(1), <b>thriller</b>(1)</h4>"
      ],
      "text/plain": [
       "<IPython.core.display.HTML object>"
      ]
     },
     "metadata": {},
     "output_type": "display_data"
    },
    {
     "data": {
      "text/html": [
       "<table border=\"1\" class=\"dataframe\">\n",
       "  <thead>\n",
       "    <tr style=\"text-align: right;\">\n",
       "      <th></th>\n",
       "      <th>0</th>\n",
       "      <th>1</th>\n",
       "      <th>2</th>\n",
       "      <th>3</th>\n",
       "      <th>4</th>\n",
       "      <th>5</th>\n",
       "      <th>6</th>\n",
       "      <th>7</th>\n",
       "      <th>8</th>\n",
       "      <th>9</th>\n",
       "    </tr>\n",
       "  </thead>\n",
       "  <tbody>\n",
       "    <tr>\n",
       "      <th>Poster</th>\n",
       "      <td><img src=\"http://image.tmdb.org/t/p/w500/xp7rAEgkoPUBWk5XZcAai8gDZT1.jpg\" width=\"340\" alt=Kin-Dza-Dza! ></td>\n",
       "      <td><img src=\"http://image.tmdb.org/t/p/w500/fNOH9f1aA7XRTzl1sAOx9iF553Q.jpg\" width=\"340\" alt=Back to the Future ></td>\n",
       "      <td><img src=\"http://image.tmdb.org/t/p/w500/ggcBBYgnwrRAdx2vTthSAZDfrrk.jpg\" width=\"340\" alt=Ghostbusters ></td>\n",
       "      <td><img src=\"http://image.tmdb.org/t/p/w500/V086R82gNgWrotaXZFO4JhdgB1.jpg\" width=\"340\" alt=Man from Earth, The ></td>\n",
       "      <td><img src=\"http://image.tmdb.org/t/p/w500/vpbaStTMt8qqXaEgnOR2EE4DNJk.jpg\" width=\"340\" alt=Up ></td>\n",
       "      <td><img src=\"http://image.tmdb.org/t/p/w500/fPtlCO1yQtnoLHOwKtWz7db6RGU.jpg\" width=\"340\" alt=Fifth Element, The ></td>\n",
       "      <td><img src=\"http://image.tmdb.org/t/p/w500/hbhFnRzzg6ZDmm8YAmxBnQpQIPh.jpg\" width=\"340\" alt=WALL·E ></td>\n",
       "      <td><img src=\"http://image.tmdb.org/t/p/w500/nNAeTmF4CtdSgMDplXTDPOpYzsX.jpg\" width=\"340\" alt=Star Wars: Episode V - The Empire Strikes Back ></td>\n",
       "      <td><img src=\"http://image.tmdb.org/t/p/w500/7oWY8VDWW7thTzWh3OKYRkWUlD5.jpg\" width=\"340\" alt=Django Unchained ></td>\n",
       "      <td><img src=\"http://image.tmdb.org/t/p/w500/5IMr0L4BoONvN5i9kyVd0zGww3L.jpg\" width=\"340\" alt=Sphere ></td>\n",
       "    </tr>\n",
       "    <tr>\n",
       "      <th>Genres</th>\n",
       "      <td><ul><li style=\"text-align:left;vertical-align:top;\">Comedy</li><li style=\"text-align:left;vertical-align:top;\">Drama</li><li style=\"text-align:left;vertical-align:top;\">Sci-fi</li></ul></td>\n",
       "      <td><ul><li style=\"text-align:left;vertical-align:top;\">Adventure</li><li style=\"text-align:left;vertical-align:top;\">Comedy</li><li style=\"text-align:left;vertical-align:top;\">Sci-fi</li></ul></td>\n",
       "      <td><ul><li style=\"text-align:left;vertical-align:top;\">Action</li><li style=\"text-align:left;vertical-align:top;\">Comedy</li><li style=\"text-align:left;vertical-align:top;\">Sci-fi</li></ul></td>\n",
       "      <td><ul><li style=\"text-align:left;vertical-align:top;\">Drama</li><li style=\"text-align:left;vertical-align:top;\">Sci-fi</li></ul></td>\n",
       "      <td><ul><li style=\"text-align:left;vertical-align:top;\">Adventure</li><li style=\"text-align:left;vertical-align:top;\">Animation</li><li style=\"text-align:left;vertical-align:top;\">Children</li><li style=\"text-align:left;vertical-align:top;\">Drama</li></ul></td>\n",
       "      <td><ul><li style=\"text-align:left;vertical-align:top;\">Action</li><li style=\"text-align:left;vertical-align:top;\">Adventure</li><li style=\"text-align:left;vertical-align:top;\">Comedy</li><li style=\"text-align:left;vertical-align:top;\">Sci-fi</li></ul></td>\n",
       "      <td><ul><li style=\"text-align:left;vertical-align:top;\">Adventure</li><li style=\"text-align:left;vertical-align:top;\">Animation</li><li style=\"text-align:left;vertical-align:top;\">Children</li><li style=\"text-align:left;vertical-align:top;\">Romance</li><li style=\"text-align:left;vertical-align:top;\">Sci-fi</li></ul></td>\n",
       "      <td><ul><li style=\"text-align:left;vertical-align:top;\">Action</li><li style=\"text-align:left;vertical-align:top;\">Adventure</li><li style=\"text-align:left;vertical-align:top;\">Sci-fi</li></ul></td>\n",
       "      <td><ul><li style=\"text-align:left;vertical-align:top;\">Action</li><li style=\"text-align:left;vertical-align:top;\">Drama</li><li style=\"text-align:left;vertical-align:top;\">Western</li></ul></td>\n",
       "      <td><ul><li style=\"text-align:left;vertical-align:top;\">Sci-fi</li><li style=\"text-align:left;vertical-align:top;\">Thriller</li></ul></td>\n",
       "    </tr>\n",
       "    <tr>\n",
       "      <th>Mean Rating</th>\n",
       "      <td>4.117647</td>\n",
       "      <td>4.101064</td>\n",
       "      <td>3.786517</td>\n",
       "      <td>3.953947</td>\n",
       "      <td>3.995122</td>\n",
       "      <td>3.908297</td>\n",
       "      <td>4.114754</td>\n",
       "      <td>4.208738</td>\n",
       "      <td>3.960526</td>\n",
       "      <td>3.185185</td>\n",
       "    </tr>\n",
       "    <tr>\n",
       "      <th>Predicted Rating</th>\n",
       "      <td>4.75918</td>\n",
       "      <td>4.655716</td>\n",
       "      <td>4.494987</td>\n",
       "      <td>4.472497</td>\n",
       "      <td>4.469231</td>\n",
       "      <td>4.438426</td>\n",
       "      <td>4.423465</td>\n",
       "      <td>4.387161</td>\n",
       "      <td>4.349764</td>\n",
       "      <td>4.32298</td>\n",
       "    </tr>\n",
       "    <tr>\n",
       "      <th>User sim weighted rating score</th>\n",
       "      <td>0.967706</td>\n",
       "      <td>0.964074</td>\n",
       "      <td>0.89013</td>\n",
       "      <td>0.92949</td>\n",
       "      <td>0.939126</td>\n",
       "      <td>0.919856</td>\n",
       "      <td>0.967026</td>\n",
       "      <td>0.98891</td>\n",
       "      <td>0.931108</td>\n",
       "      <td>0.74877</td>\n",
       "    </tr>\n",
       "    <tr>\n",
       "      <th>User sim weighted predicted rating score</th>\n",
       "      <td>0.989114</td>\n",
       "      <td>0.967877</td>\n",
       "      <td>0.934463</td>\n",
       "      <td>0.929787</td>\n",
       "      <td>0.929066</td>\n",
       "      <td>0.923806</td>\n",
       "      <td>0.919341</td>\n",
       "      <td>0.911609</td>\n",
       "      <td>0.904342</td>\n",
       "      <td>0.898704</td>\n",
       "    </tr>\n",
       "    <tr>\n",
       "      <th>User Item Similarity</th>\n",
       "      <td>0.989114</td>\n",
       "      <td>0.989386</td>\n",
       "      <td>0.989386</td>\n",
       "      <td>0.989386</td>\n",
       "      <td>0.98934</td>\n",
       "      <td>0.990567</td>\n",
       "      <td>0.989114</td>\n",
       "      <td>0.98891</td>\n",
       "      <td>0.989462</td>\n",
       "      <td>0.989386</td>\n",
       "    </tr>\n",
       "  </tbody>\n",
       "</table>"
      ],
      "text/plain": [
       "<IPython.core.display.HTML object>"
      ]
     },
     "metadata": {},
     "output_type": "display_data"
    },
    {
     "data": {
      "text/html": [
       "<h5><b>Generated by</b> DatabaseUserItemFilteringRecommender.</h5>"
      ],
      "text/plain": [
       "<IPython.core.display.HTML object>"
      ]
     },
     "metadata": {},
     "output_type": "display_data"
    }
   ],
   "source": [
    "recommendations.show(\n",
    "    sort_by        = ['user_sim_weighted_pred_rating_score'],\n",
    "    k              = 10\n",
    ")"
   ]
  },
  {
   "cell_type": "markdown",
   "id": "c4e55c54-2961-493a-a1b2-e8a7e14f7ba9",
   "metadata": {
    "tags": []
   },
   "source": [
    "### Notes\n",
    "* Movies seen by similar users weighted by user predicted rating.\n",
    "* Ordered by **User sim weighted predicted rating score**.\n",
    "* **User sim weighted predicted rating score** = similar_user_similarity(0..1) * user_predicted_rating (Normalize to 0..1)"
   ]
  },
  {
   "cell_type": "code",
   "execution_count": 160,
   "id": "a5cb1e0a-71cb-48ea-83a9-1cb89bd5dd89",
   "metadata": {
    "tags": []
   },
   "outputs": [
    {
     "data": {
      "text/html": [
       "<h2>Recommendations</h2>"
      ],
      "text/plain": [
       "<IPython.core.display.HTML object>"
      ]
     },
     "metadata": {},
     "output_type": "display_data"
    },
    {
     "data": {
      "text/html": [
       "<h4><b>Tags:</b> <b>sci-fi</b>(8), <b>drama</b>(5), <b>action</b>(4), <b>adventure</b>(4), <b>thriller</b>(4), <b>comedy</b>(2), <b>animation</b>(2), <b>children</b>(2), <b>romance</b>(1), <b>imax</b>(1), <b>horror</b>(1), <b>western</b>(1)</h4>"
      ],
      "text/plain": [
       "<IPython.core.display.HTML object>"
      ]
     },
     "metadata": {},
     "output_type": "display_data"
    },
    {
     "data": {
      "text/html": [
       "<table border=\"1\" class=\"dataframe\">\n",
       "  <thead>\n",
       "    <tr style=\"text-align: right;\">\n",
       "      <th></th>\n",
       "      <th>0</th>\n",
       "      <th>1</th>\n",
       "      <th>2</th>\n",
       "      <th>3</th>\n",
       "      <th>4</th>\n",
       "      <th>5</th>\n",
       "      <th>6</th>\n",
       "      <th>7</th>\n",
       "      <th>8</th>\n",
       "      <th>9</th>\n",
       "    </tr>\n",
       "  </thead>\n",
       "  <tbody>\n",
       "    <tr>\n",
       "      <th>Poster</th>\n",
       "      <td><img src=\"http://image.tmdb.org/t/p/w500/nNAeTmF4CtdSgMDplXTDPOpYzsX.jpg\" width=\"340\" alt=Star Wars: Episode V - The Empire Strikes Back ></td>\n",
       "      <td><img src=\"http://image.tmdb.org/t/p/w500/xp7rAEgkoPUBWk5XZcAai8gDZT1.jpg\" width=\"340\" alt=Kin-Dza-Dza! ></td>\n",
       "      <td><img src=\"http://image.tmdb.org/t/p/w500/hbhFnRzzg6ZDmm8YAmxBnQpQIPh.jpg\" width=\"340\" alt=WALL·E ></td>\n",
       "      <td><img src=\"http://image.tmdb.org/t/p/w500/fNOH9f1aA7XRTzl1sAOx9iF553Q.jpg\" width=\"340\" alt=Back to the Future ></td>\n",
       "      <td><img src=\"http://image.tmdb.org/t/p/w500/1avD1JeaRiJX5M4ahPdZPypGoGN.jpg\" width=\"340\" alt=V for Vendetta ></td>\n",
       "      <td><img src=\"http://image.tmdb.org/t/p/w500/tzGY49kseSE9QAKk47uuDGwnSCu.jpg\" width=\"340\" alt=Thing, The ></td>\n",
       "      <td><img src=\"http://image.tmdb.org/t/p/w500/vpbaStTMt8qqXaEgnOR2EE4DNJk.jpg\" width=\"340\" alt=Up ></td>\n",
       "      <td><img src=\"http://image.tmdb.org/t/p/w500/eSKr5Fl1MEC7zpAXaLWBWSBjgJq.jpg\" width=\"340\" alt=Gattaca ></td>\n",
       "      <td><img src=\"http://image.tmdb.org/t/p/w500/dmJW8IAKHKxFNiUnoDR7JfsK7Rp.jpg\" width=\"340\" alt=Ex Machina ></td>\n",
       "      <td><img src=\"http://image.tmdb.org/t/p/w500/7oWY8VDWW7thTzWh3OKYRkWUlD5.jpg\" width=\"340\" alt=Django Unchained ></td>\n",
       "    </tr>\n",
       "    <tr>\n",
       "      <th>Genres</th>\n",
       "      <td><ul><li style=\"text-align:left;vertical-align:top;\">Action</li><li style=\"text-align:left;vertical-align:top;\">Adventure</li><li style=\"text-align:left;vertical-align:top;\">Sci-fi</li></ul></td>\n",
       "      <td><ul><li style=\"text-align:left;vertical-align:top;\">Comedy</li><li style=\"text-align:left;vertical-align:top;\">Drama</li><li style=\"text-align:left;vertical-align:top;\">Sci-fi</li></ul></td>\n",
       "      <td><ul><li style=\"text-align:left;vertical-align:top;\">Adventure</li><li style=\"text-align:left;vertical-align:top;\">Animation</li><li style=\"text-align:left;vertical-align:top;\">Children</li><li style=\"text-align:left;vertical-align:top;\">Romance</li><li style=\"text-align:left;vertical-align:top;\">Sci-fi</li></ul></td>\n",
       "      <td><ul><li style=\"text-align:left;vertical-align:top;\">Adventure</li><li style=\"text-align:left;vertical-align:top;\">Comedy</li><li style=\"text-align:left;vertical-align:top;\">Sci-fi</li></ul></td>\n",
       "      <td><ul><li style=\"text-align:left;vertical-align:top;\">Action</li><li style=\"text-align:left;vertical-align:top;\">Sci-fi</li><li style=\"text-align:left;vertical-align:top;\">Thriller</li><li style=\"text-align:left;vertical-align:top;\">Imax</li></ul></td>\n",
       "      <td><ul><li style=\"text-align:left;vertical-align:top;\">Action</li><li style=\"text-align:left;vertical-align:top;\">Horror</li><li style=\"text-align:left;vertical-align:top;\">Sci-fi</li><li style=\"text-align:left;vertical-align:top;\">Thriller</li></ul></td>\n",
       "      <td><ul><li style=\"text-align:left;vertical-align:top;\">Adventure</li><li style=\"text-align:left;vertical-align:top;\">Animation</li><li style=\"text-align:left;vertical-align:top;\">Children</li><li style=\"text-align:left;vertical-align:top;\">Drama</li></ul></td>\n",
       "      <td><ul><li style=\"text-align:left;vertical-align:top;\">Drama</li><li style=\"text-align:left;vertical-align:top;\">Sci-fi</li><li style=\"text-align:left;vertical-align:top;\">Thriller</li></ul></td>\n",
       "      <td><ul><li style=\"text-align:left;vertical-align:top;\">Drama</li><li style=\"text-align:left;vertical-align:top;\">Sci-fi</li><li style=\"text-align:left;vertical-align:top;\">Thriller</li></ul></td>\n",
       "      <td><ul><li style=\"text-align:left;vertical-align:top;\">Action</li><li style=\"text-align:left;vertical-align:top;\">Drama</li><li style=\"text-align:left;vertical-align:top;\">Western</li></ul></td>\n",
       "    </tr>\n",
       "    <tr>\n",
       "      <th>Mean Rating</th>\n",
       "      <td>4.208738</td>\n",
       "      <td>4.117647</td>\n",
       "      <td>4.114754</td>\n",
       "      <td>4.101064</td>\n",
       "      <td>4.089855</td>\n",
       "      <td>4.045455</td>\n",
       "      <td>3.995122</td>\n",
       "      <td>3.976636</td>\n",
       "      <td>3.960526</td>\n",
       "      <td>3.960526</td>\n",
       "    </tr>\n",
       "    <tr>\n",
       "      <th>Predicted Rating</th>\n",
       "      <td>4.387161</td>\n",
       "      <td>4.75918</td>\n",
       "      <td>4.423465</td>\n",
       "      <td>4.655716</td>\n",
       "      <td>4.305705</td>\n",
       "      <td>4.299498</td>\n",
       "      <td>4.469231</td>\n",
       "      <td>4.261951</td>\n",
       "      <td>4.251078</td>\n",
       "      <td>4.349764</td>\n",
       "    </tr>\n",
       "    <tr>\n",
       "      <th>User sim weighted rating score</th>\n",
       "      <td>0.98891</td>\n",
       "      <td>0.967706</td>\n",
       "      <td>0.967026</td>\n",
       "      <td>0.964074</td>\n",
       "      <td>0.961174</td>\n",
       "      <td>0.951075</td>\n",
       "      <td>0.939126</td>\n",
       "      <td>0.934566</td>\n",
       "      <td>0.932148</td>\n",
       "      <td>0.931108</td>\n",
       "    </tr>\n",
       "    <tr>\n",
       "      <th>User sim weighted predicted rating score</th>\n",
       "      <td>0.911609</td>\n",
       "      <td>0.989114</td>\n",
       "      <td>0.919341</td>\n",
       "      <td>0.967877</td>\n",
       "      <td>0.894867</td>\n",
       "      <td>0.893892</td>\n",
       "      <td>0.929066</td>\n",
       "      <td>0.885773</td>\n",
       "      <td>0.884812</td>\n",
       "      <td>0.904342</td>\n",
       "    </tr>\n",
       "    <tr>\n",
       "      <th>User Item Similarity</th>\n",
       "      <td>0.98891</td>\n",
       "      <td>0.989114</td>\n",
       "      <td>0.989114</td>\n",
       "      <td>0.989386</td>\n",
       "      <td>0.989114</td>\n",
       "      <td>0.989462</td>\n",
       "      <td>0.98934</td>\n",
       "      <td>0.989114</td>\n",
       "      <td>0.990567</td>\n",
       "      <td>0.989462</td>\n",
       "    </tr>\n",
       "  </tbody>\n",
       "</table>"
      ],
      "text/plain": [
       "<IPython.core.display.HTML object>"
      ]
     },
     "metadata": {},
     "output_type": "display_data"
    },
    {
     "data": {
      "text/html": [
       "<h5><b>Generated by</b> DatabaseUserItemFilteringRecommender.</h5>"
      ],
      "text/plain": [
       "<IPython.core.display.HTML object>"
      ]
     },
     "metadata": {},
     "output_type": "display_data"
    }
   ],
   "source": [
    "recommendations.show(\n",
    "    sort_by        = ['user_sim_weighted_rating_score'],\n",
    "    k              = 10\n",
    ")"
   ]
  },
  {
   "cell_type": "markdown",
   "id": "23bdf26f-e636-432e-ac46-7531dfa5caeb",
   "metadata": {},
   "source": [
    "### Notes\n",
    "* Movies seen by similar users weighted by movie mean rating.\n",
    "* Ordered by **User sim weighted rating score**.\n",
    "* **User sim weighted rating score** = similar_user_similarity(0..1) * mean_movie_rating (Normalize to 0..1) "
   ]
  },
  {
   "cell_type": "code",
   "execution_count": 161,
   "id": "4c4c8c5c-5bb5-488f-9cc9-0b41472f110a",
   "metadata": {},
   "outputs": [
    {
     "data": {
      "text/html": [
       "<h2>Recommendations</h2>"
      ],
      "text/plain": [
       "<IPython.core.display.HTML object>"
      ]
     },
     "metadata": {},
     "output_type": "display_data"
    },
    {
     "data": {
      "text/html": [
       "<h4><b>Tags:</b> <b>sci-fi</b>(6), <b>action</b>(5), <b>drama</b>(4), <b>thriller</b>(4), <b>adventure</b>(3), <b>horror</b>(3), <b>mystery</b>(2), <b>comedy</b>(2), <b>crime</b>(1), <b>western</b>(1), <b>fantasy</b>(1)</h4>"
      ],
      "text/plain": [
       "<IPython.core.display.HTML object>"
      ]
     },
     "metadata": {},
     "output_type": "display_data"
    },
    {
     "data": {
      "text/html": [
       "<table border=\"1\" class=\"dataframe\">\n",
       "  <thead>\n",
       "    <tr style=\"text-align: right;\">\n",
       "      <th></th>\n",
       "      <th>0</th>\n",
       "      <th>1</th>\n",
       "      <th>2</th>\n",
       "      <th>3</th>\n",
       "      <th>4</th>\n",
       "      <th>5</th>\n",
       "      <th>6</th>\n",
       "      <th>7</th>\n",
       "      <th>8</th>\n",
       "      <th>9</th>\n",
       "    </tr>\n",
       "  </thead>\n",
       "  <tbody>\n",
       "    <tr>\n",
       "      <th>Poster</th>\n",
       "      <td><img src=\"http://image.tmdb.org/t/p/w500/dmJW8IAKHKxFNiUnoDR7JfsK7Rp.jpg\" width=\"340\" alt=Ex Machina ></td>\n",
       "      <td><img src=\"http://image.tmdb.org/t/p/w500/lz8vNyXeidqqOdJW9ZjnDAMb5Vr.jpg\" width=\"340\" alt=Sicario ></td>\n",
       "      <td><img src=\"http://image.tmdb.org/t/p/w500/fPtlCO1yQtnoLHOwKtWz7db6RGU.jpg\" width=\"340\" alt=Fifth Element, The ></td>\n",
       "      <td><img src=\"http://image.tmdb.org/t/p/w500/oY7ZLUftMCTku7lQVrKdLS4skuv.jpg\" width=\"340\" alt=Saw VII 3D - The Final Chapter ></td>\n",
       "      <td><img src=\"http://image.tmdb.org/t/p/w500/7oWY8VDWW7thTzWh3OKYRkWUlD5.jpg\" width=\"340\" alt=Django Unchained ></td>\n",
       "      <td><img src=\"http://image.tmdb.org/t/p/w500/xsgTuAtR2zSH8Umg3jWZcZjlDpe.jpg\" width=\"340\" alt=Army of Darkness ></td>\n",
       "      <td><img src=\"http://image.tmdb.org/t/p/w500/tzGY49kseSE9QAKk47uuDGwnSCu.jpg\" width=\"340\" alt=Thing, The ></td>\n",
       "      <td><img src=\"http://image.tmdb.org/t/p/w500/5IMr0L4BoONvN5i9kyVd0zGww3L.jpg\" width=\"340\" alt=Sphere ></td>\n",
       "      <td><img src=\"http://image.tmdb.org/t/p/w500/V086R82gNgWrotaXZFO4JhdgB1.jpg\" width=\"340\" alt=Man from Earth, The ></td>\n",
       "      <td><img src=\"http://image.tmdb.org/t/p/w500/2mtQwJKVKQrZgTz49Dizb25eOQQ.jpg\" width=\"340\" alt=X-Men ></td>\n",
       "    </tr>\n",
       "    <tr>\n",
       "      <th>Genres</th>\n",
       "      <td><ul><li style=\"text-align:left;vertical-align:top;\">Drama</li><li style=\"text-align:left;vertical-align:top;\">Sci-fi</li><li style=\"text-align:left;vertical-align:top;\">Thriller</li></ul></td>\n",
       "      <td><ul><li style=\"text-align:left;vertical-align:top;\">Crime</li><li style=\"text-align:left;vertical-align:top;\">Drama</li><li style=\"text-align:left;vertical-align:top;\">Mystery</li></ul></td>\n",
       "      <td><ul><li style=\"text-align:left;vertical-align:top;\">Action</li><li style=\"text-align:left;vertical-align:top;\">Adventure</li><li style=\"text-align:left;vertical-align:top;\">Comedy</li><li style=\"text-align:left;vertical-align:top;\">Sci-fi</li></ul></td>\n",
       "      <td><ul><li style=\"text-align:left;vertical-align:top;\">Horror</li><li style=\"text-align:left;vertical-align:top;\">Mystery</li><li style=\"text-align:left;vertical-align:top;\">Thriller</li></ul></td>\n",
       "      <td><ul><li style=\"text-align:left;vertical-align:top;\">Action</li><li style=\"text-align:left;vertical-align:top;\">Drama</li><li style=\"text-align:left;vertical-align:top;\">Western</li></ul></td>\n",
       "      <td><ul><li style=\"text-align:left;vertical-align:top;\">Action</li><li style=\"text-align:left;vertical-align:top;\">Adventure</li><li style=\"text-align:left;vertical-align:top;\">Comedy</li><li style=\"text-align:left;vertical-align:top;\">Fantasy</li><li style=\"text-align:left;vertical-align:top;\">Horror</li></ul></td>\n",
       "      <td><ul><li style=\"text-align:left;vertical-align:top;\">Action</li><li style=\"text-align:left;vertical-align:top;\">Horror</li><li style=\"text-align:left;vertical-align:top;\">Sci-fi</li><li style=\"text-align:left;vertical-align:top;\">Thriller</li></ul></td>\n",
       "      <td><ul><li style=\"text-align:left;vertical-align:top;\">Sci-fi</li><li style=\"text-align:left;vertical-align:top;\">Thriller</li></ul></td>\n",
       "      <td><ul><li style=\"text-align:left;vertical-align:top;\">Drama</li><li style=\"text-align:left;vertical-align:top;\">Sci-fi</li></ul></td>\n",
       "      <td><ul><li style=\"text-align:left;vertical-align:top;\">Action</li><li style=\"text-align:left;vertical-align:top;\">Adventure</li><li style=\"text-align:left;vertical-align:top;\">Sci-fi</li></ul></td>\n",
       "    </tr>\n",
       "    <tr>\n",
       "      <th>Mean Rating</th>\n",
       "      <td>3.960526</td>\n",
       "      <td>3.876404</td>\n",
       "      <td>3.908297</td>\n",
       "      <td>2.875</td>\n",
       "      <td>3.960526</td>\n",
       "      <td>3.934211</td>\n",
       "      <td>4.045455</td>\n",
       "      <td>3.185185</td>\n",
       "      <td>3.953947</td>\n",
       "      <td>3.487603</td>\n",
       "    </tr>\n",
       "    <tr>\n",
       "      <th>Predicted Rating</th>\n",
       "      <td>4.251078</td>\n",
       "      <td>4.219775</td>\n",
       "      <td>4.438426</td>\n",
       "      <td>3.568155</td>\n",
       "      <td>4.349764</td>\n",
       "      <td>4.157475</td>\n",
       "      <td>4.299498</td>\n",
       "      <td>4.32298</td>\n",
       "      <td>4.472497</td>\n",
       "      <td>3.946019</td>\n",
       "    </tr>\n",
       "    <tr>\n",
       "      <th>User sim weighted rating score</th>\n",
       "      <td>0.932148</td>\n",
       "      <td>0.912349</td>\n",
       "      <td>0.919856</td>\n",
       "      <td>0.675975</td>\n",
       "      <td>0.931108</td>\n",
       "      <td>0.924922</td>\n",
       "      <td>0.951075</td>\n",
       "      <td>0.74877</td>\n",
       "      <td>0.92949</td>\n",
       "      <td>0.819862</td>\n",
       "    </tr>\n",
       "    <tr>\n",
       "      <th>User sim weighted predicted rating score</th>\n",
       "      <td>0.884812</td>\n",
       "      <td>0.878297</td>\n",
       "      <td>0.923806</td>\n",
       "      <td>0.741918</td>\n",
       "      <td>0.904342</td>\n",
       "      <td>0.864364</td>\n",
       "      <td>0.893892</td>\n",
       "      <td>0.898704</td>\n",
       "      <td>0.929787</td>\n",
       "      <td>0.820338</td>\n",
       "    </tr>\n",
       "    <tr>\n",
       "      <th>User Item Similarity</th>\n",
       "      <td>0.990567</td>\n",
       "      <td>0.990567</td>\n",
       "      <td>0.990567</td>\n",
       "      <td>0.989565</td>\n",
       "      <td>0.989462</td>\n",
       "      <td>0.989462</td>\n",
       "      <td>0.989462</td>\n",
       "      <td>0.989386</td>\n",
       "      <td>0.989386</td>\n",
       "      <td>0.989386</td>\n",
       "    </tr>\n",
       "  </tbody>\n",
       "</table>"
      ],
      "text/plain": [
       "<IPython.core.display.HTML object>"
      ]
     },
     "metadata": {},
     "output_type": "display_data"
    },
    {
     "data": {
      "text/html": [
       "<h5><b>Generated by</b> DatabaseUserItemFilteringRecommender.</h5>"
      ],
      "text/plain": [
       "<IPython.core.display.HTML object>"
      ]
     },
     "metadata": {},
     "output_type": "display_data"
    }
   ],
   "source": [
    "recommendations.show(\n",
    "    sort_by        = ['user_item_sim'],\n",
    "    k              = 10\n",
    ")"
   ]
  },
  {
   "cell_type": "markdown",
   "id": "8f640a43-1613-4ae6-82fe-780bfe81fb11",
   "metadata": {
    "tags": []
   },
   "source": [
    "### Notes\n",
    "* Movies seen by similar users.\n",
    "* Ordered by **similar user similarity by movie**.\n",
    "* take movies sample from each similar user, then assign similary and order by similary."
   ]
  },
  {
   "cell_type": "code",
   "execution_count": null,
   "id": "53ecf49d-7f92-4f15-8e0e-60dfa93e892c",
   "metadata": {},
   "outputs": [],
   "source": []
  }
 ],
 "metadata": {
  "kernelspec": {
   "display_name": "Python 3 (ipykernel)",
   "language": "python",
   "name": "python3"
  },
  "language_info": {
   "codemirror_mode": {
    "name": "ipython",
    "version": 3
   },
   "file_extension": ".py",
   "mimetype": "text/x-python",
   "name": "python",
   "nbconvert_exporter": "python",
   "pygments_lexer": "ipython3",
   "version": "3.10.13"
  },
  "widgets": {
   "application/vnd.jupyter.widget-state+json": {
    "state": {},
    "version_major": 2,
    "version_minor": 0
   }
  }
 },
 "nbformat": 4,
 "nbformat_minor": 5
}
