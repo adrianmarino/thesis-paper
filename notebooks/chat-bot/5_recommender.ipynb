{
 "cells": [
  {
   "cell_type": "markdown",
   "id": "0417277b-47df-4113-a7b3-8f960db06f1d",
   "metadata": {
    "tags": []
   },
   "source": [
    "# Recommender ChatBot: Collaborative Filtering recommender using user embeddings from chromadb"
   ]
  },
  {
   "cell_type": "code",
   "execution_count": 1,
   "id": "59f0eac0-30e8-4e72-860e-05541c36b82e",
   "metadata": {},
   "outputs": [],
   "source": [
    "%load_ext autoreload\n",
    "%autoreload 2"
   ]
  },
  {
   "cell_type": "code",
   "execution_count": 2,
   "id": "6fe490fd-66c5-4b3f-a327-62aa5d01f21c",
   "metadata": {},
   "outputs": [],
   "source": [
    "BASE_PATH    = '../..'\n",
    "LIB_PATH     = f'{BASE_PATH}/lib'\n",
    "API_PATH     = f'{BASE_PATH}/chat-bot-api'"
   ]
  },
  {
   "cell_type": "code",
   "execution_count": 4,
   "id": "f98e7bf4-f41a-43f6-b7b7-a991d00f82de",
   "metadata": {},
   "outputs": [
    {
     "name": "stderr",
     "output_type": "stream",
     "text": [
      "2024-02-23 19:57:55.345249: I tensorflow/core/platform/cpu_feature_guard.cc:182] This TensorFlow binary is optimized to use available CPU instructions in performance-critical operations.\n",
      "To enable the following instructions: AVX2 FMA, in other operations, rebuild TensorFlow with the appropriate compiler flags.\n",
      "2024-02-23 19:57:55.748909: W tensorflow/compiler/tf2tensorrt/utils/py_utils.cc:38] TF-TRT Warning: Could not find TensorRT\n",
      "2024-02-23 19:57:56.102220: I tensorflow/compiler/xla/stream_executor/cuda/cuda_gpu_executor.cc:996] successful NUMA node read from SysFS had negative value (-1), but there must be at least one NUMA node, so returning NUMA node zero. See more at https://github.com/torvalds/linux/blob/v6.0/Documentation/ABI/testing/sysfs-bus-pci#L344-L355\n",
      "2024-02-23 19:57:56.112846: W tensorflow/core/common_runtime/gpu/gpu_device.cc:1956] Cannot dlopen some GPU libraries. Please make sure the missing libraries mentioned above are installed properly if you would like to use GPU. Follow the guide at https://www.tensorflow.org/install/gpu for how to download and setup the required libraries for your platform.\n",
      "Skipping registering GPU devices...\n"
     ]
    },
    {
     "data": {
      "text/plain": [
       "<Figure size 640x480 with 0 Axes>"
      ]
     },
     "metadata": {},
     "output_type": "display_data"
    }
   ],
   "source": [
    "import sys\n",
    "sys.path.append(LIB_PATH)\n",
    "sys.path.append(API_PATH)\n",
    "\n",
    "\n",
    "import torch\n",
    "import pytorch_common\n",
    "import pytorch_common.util as pu\n",
    "import util as ut\n",
    "import os\n",
    "import numpy as np\n",
    "import logging\n",
    "import pandas as pd\n",
    "from recommender import DatabaseUserItemFilteringRecommender"
   ]
  },
  {
   "cell_type": "markdown",
   "id": "d757391b-ad9f-4047-9b23-e3bd23fbe37b",
   "metadata": {},
   "source": [
    "## Setup"
   ]
  },
  {
   "cell_type": "code",
   "execution_count": 5,
   "id": "efba19c8-6de3-4a6c-b804-658d0aff6bdb",
   "metadata": {},
   "outputs": [
    {
     "data": {
      "text/plain": [
       "<RootLogger root (INFO)>"
      ]
     },
     "execution_count": 5,
     "metadata": {},
     "output_type": "execute_result"
    }
   ],
   "source": [
    "pu.LoggerBuilder().on_console().build()"
   ]
  },
  {
   "cell_type": "code",
   "execution_count": 6,
   "id": "019f8153-76f9-45da-8228-f1c22642bd2b",
   "metadata": {
    "tags": []
   },
   "outputs": [
    {
     "data": {
      "text/plain": [
       "'0.3.8'"
      ]
     },
     "execution_count": 6,
     "metadata": {},
     "output_type": "execute_result"
    }
   ],
   "source": [
    "import pytorch_common\n",
    "pytorch_common.__version__"
   ]
  },
  {
   "cell_type": "code",
   "execution_count": 7,
   "id": "471e4f42-bc63-4cf5-a909-84f4db06bc81",
   "metadata": {
    "tags": []
   },
   "outputs": [
    {
     "data": {
      "text/plain": [
       "'2.1.2+cu118'"
      ]
     },
     "execution_count": 7,
     "metadata": {},
     "output_type": "execute_result"
    }
   ],
   "source": [
    "torch.__version__"
   ]
  },
  {
   "cell_type": "code",
   "execution_count": 8,
   "id": "198d1be8-29ba-45e8-8bd2-daf6e1f3d551",
   "metadata": {
    "tags": []
   },
   "outputs": [
    {
     "data": {
      "text/plain": [
       "(device(type='cuda', index=0), True)"
      ]
     },
     "execution_count": 8,
     "metadata": {},
     "output_type": "execute_result"
    }
   ],
   "source": [
    "pu.set_device_name('gpu')\n",
    "\n",
    "pu.get_device(), torch.cuda.is_available()"
   ]
  },
  {
   "cell_type": "code",
   "execution_count": 9,
   "id": "2420aca3-556f-46d7-a1ee-8eb2d2c9281e",
   "metadata": {},
   "outputs": [],
   "source": [
    "ut.set_seed(42)"
   ]
  },
  {
   "cell_type": "code",
   "execution_count": 10,
   "id": "0406bf3d-3aff-4b18-97e6-98b3c9f1284d",
   "metadata": {
    "tags": []
   },
   "outputs": [],
   "source": [
    "os.environ['TMP_PATH']         = f'{BASE_PATH}/tmp'\n",
    "os.environ['DATASET_PATH']     = f'{BASE_PATH}/datasets'\n",
    "os.environ['WEIGHTS_PATH']     = f'{BASE_PATH}/weights'\n",
    "os.environ['METRICS_PATH']     = f'{BASE_PATH}/metrics'\n",
    "os.environ['MONGODB_URL']      = 'mongodb://0.0.0.0:27017'\n",
    "os.environ['MONGODB_DATABASE'] = 'chatbot'\n",
    "os.environ['CHROMA_HOST']      = '0.0.0.0'\n",
    "os.environ['CHROMA_PORT']      = '9090'\n",
    "\n",
    "\n",
    "from app_context import AppContext"
   ]
  },
  {
   "cell_type": "markdown",
   "id": "b8334d07-f306-42b4-8ea1-cc27b82eb343",
   "metadata": {},
   "source": [
    "## Recommender"
   ]
  },
  {
   "cell_type": "code",
   "execution_count": 11,
   "id": "604fe65a-b2a2-41c4-abbd-2425e6736621",
   "metadata": {},
   "outputs": [
    {
     "name": "stderr",
     "output_type": "stream",
     "text": [
      "2024-02-23 19:58:02,624 - INFO - Load pretrained SentenceTransformer: all-mpnet-base-v2\n",
      "2024-02-23 19:58:03,184 - INFO - Use pytorch device: cuda\n",
      "2024-02-23 19:58:03,186 - INFO - Anonymized telemetry enabled. See                     https://docs.trychroma.com/telemetry for more information.\n",
      "2024-02-23 19:58:03,205 - INFO - Anonymized telemetry enabled. See                     https://docs.trychroma.com/telemetry for more information.\n"
     ]
    }
   ],
   "source": [
    "ctx = AppContext()"
   ]
  },
  {
   "cell_type": "code",
   "execution_count": 14,
   "id": "72e99109-2885-4f7b-807f-7444cf33459c",
   "metadata": {
    "tags": []
   },
   "outputs": [],
   "source": [
    "recommender = DatabaseUserItemFilteringRecommender(\n",
    "    user_emb_repository          = ctx.users_cf_emb_repository,\n",
    "    items_repository             = ctx.items_repository,\n",
    "    interactions_repository      = ctx.interactions_repository,\n",
    "    pred_interactions_repository = ctx.pred_interactions_repository,\n",
    "\n",
    ")\n",
    "\n",
    "recommendations = await recommender.recommend(\n",
    "    user_id           = \"adrianmarino@gmail.com\",\n",
    "    k_sim_users       = 20,\n",
    "    max_items_by_user = 5,\n",
    "    not_seen          = True\n",
    ")"
   ]
  },
  {
   "cell_type": "code",
   "execution_count": 15,
   "id": "afbb105e-9eed-4414-8dfc-14c91ec55560",
   "metadata": {
    "tags": []
   },
   "outputs": [
    {
     "data": {
      "text/html": [
       "<h2>User Seen items</h2>"
      ],
      "text/plain": [
       "<IPython.core.display.HTML object>"
      ]
     },
     "metadata": {},
     "output_type": "display_data"
    },
    {
     "name": "stdout",
     "output_type": "stream",
     "text": [
      "Not Found items!\n"
     ]
    }
   ],
   "source": [
    "recommendations.show_seen()"
   ]
  },
  {
   "cell_type": "code",
   "execution_count": 16,
   "id": "ab1f0c0a-4d68-49c7-bf56-a33c4bb7b41f",
   "metadata": {
    "tags": []
   },
   "outputs": [
    {
     "data": {
      "text/html": [
       "<h2>Recommendations</h2>"
      ],
      "text/plain": [
       "<IPython.core.display.HTML object>"
      ]
     },
     "metadata": {},
     "output_type": "display_data"
    },
    {
     "data": {
      "text/html": [
       "<h4><b>Tags:</b> <b>action</b>(2), <b>sci-fi</b>(2), <b>thriller</b>(2), <b>comedy</b>(2), <b>adventure</b>(2), <b>crime</b>(1), <b>mystery</b>(1), <b>animation</b>(1), <b>drama</b>(1), <b>fantasy</b>(1)</h4>"
      ],
      "text/plain": [
       "<IPython.core.display.HTML object>"
      ]
     },
     "metadata": {},
     "output_type": "display_data"
    },
    {
     "data": {
      "text/html": [
       "<table border=\"1\" class=\"dataframe\">\n",
       "  <thead>\n",
       "    <tr style=\"text-align: right;\">\n",
       "      <th></th>\n",
       "      <th>0</th>\n",
       "      <th>1</th>\n",
       "      <th>2</th>\n",
       "      <th>3</th>\n",
       "      <th>4</th>\n",
       "    </tr>\n",
       "  </thead>\n",
       "  <tbody>\n",
       "    <tr>\n",
       "      <th>Poster</th>\n",
       "      <td><img src=\"http://image.tmdb.org/t/p/w500/f89U3ADr1oiB1s9GkdPOEpXUk5H.jpg\" width=\"340\" alt=Matrix, The ></td>\n",
       "      <td><img src=\"http://image.tmdb.org/t/p/w500/lSSA64WF0M0BXnjwr2quMh6shCl.jpg\" width=\"340\" alt=Monty Python's Life of Brian ></td>\n",
       "      <td><img src=\"http://image.tmdb.org/t/p/w500/fNOH9f1aA7XRTzl1sAOx9iF553Q.jpg\" width=\"340\" alt=Back to the Future ></td>\n",
       "      <td><img src=\"http://image.tmdb.org/t/p/w500/2gDCAgl2iBQNuJuk6p2xtuS1ewg.jpg\" width=\"340\" alt=Dial M for Murder ></td>\n",
       "      <td><img src=\"http://image.tmdb.org/t/p/w500/cMYCDADoLKLbB83g4WnJegaZimC.jpg\" width=\"340\" alt=Princess Mononoke ></td>\n",
       "    </tr>\n",
       "    <tr>\n",
       "      <th>Genres</th>\n",
       "      <td><ul><li style=\"text-align:left;vertical-align:top;\">Action</li><li style=\"text-align:left;vertical-align:top;\">Sci-fi</li><li style=\"text-align:left;vertical-align:top;\">Thriller</li></ul></td>\n",
       "      <td><ul><li style=\"text-align:left;vertical-align:top;\">Comedy</li></ul></td>\n",
       "      <td><ul><li style=\"text-align:left;vertical-align:top;\">Adventure</li><li style=\"text-align:left;vertical-align:top;\">Comedy</li><li style=\"text-align:left;vertical-align:top;\">Sci-fi</li></ul></td>\n",
       "      <td><ul><li style=\"text-align:left;vertical-align:top;\">Crime</li><li style=\"text-align:left;vertical-align:top;\">Mystery</li><li style=\"text-align:left;vertical-align:top;\">Thriller</li></ul></td>\n",
       "      <td><ul><li style=\"text-align:left;vertical-align:top;\">Action</li><li style=\"text-align:left;vertical-align:top;\">Adventure</li><li style=\"text-align:left;vertical-align:top;\">Animation</li><li style=\"text-align:left;vertical-align:top;\">Drama</li><li style=\"text-align:left;vertical-align:top;\">Fantasy</li></ul></td>\n",
       "    </tr>\n",
       "    <tr>\n",
       "      <th>Mean Rating</th>\n",
       "      <td>4.272401</td>\n",
       "      <td>4.044776</td>\n",
       "      <td>4.101064</td>\n",
       "      <td>3.971429</td>\n",
       "      <td>4.217687</td>\n",
       "    </tr>\n",
       "    <tr>\n",
       "      <th>Predicted Rating</th>\n",
       "      <td>4.794106</td>\n",
       "      <td>4.772671</td>\n",
       "      <td>4.655716</td>\n",
       "      <td>4.563766</td>\n",
       "      <td>4.526951</td>\n",
       "    </tr>\n",
       "    <tr>\n",
       "      <th>User sim weighted rating score</th>\n",
       "      <td>0.84528</td>\n",
       "      <td>0.799971</td>\n",
       "      <td>0.810956</td>\n",
       "      <td>0.785916</td>\n",
       "      <td>0.834125</td>\n",
       "    </tr>\n",
       "    <tr>\n",
       "      <th>User sim weighted predicted rating score</th>\n",
       "      <td>0.989232</td>\n",
       "      <td>0.984473</td>\n",
       "      <td>0.960174</td>\n",
       "      <td>0.941922</td>\n",
       "      <td>0.933737</td>\n",
       "    </tr>\n",
       "    <tr>\n",
       "      <th>User Item Similarity</th>\n",
       "      <td>0.989232</td>\n",
       "      <td>0.988894</td>\n",
       "      <td>0.988715</td>\n",
       "      <td>0.989462</td>\n",
       "      <td>0.988841</td>\n",
       "    </tr>\n",
       "  </tbody>\n",
       "</table>"
      ],
      "text/plain": [
       "<IPython.core.display.HTML object>"
      ]
     },
     "metadata": {},
     "output_type": "display_data"
    },
    {
     "data": {
      "text/html": [
       "<h5><b>Generated by</b> DatabaseUserItemFilteringRecommender.</h5>"
      ],
      "text/plain": [
       "<IPython.core.display.HTML object>"
      ]
     },
     "metadata": {},
     "output_type": "display_data"
    }
   ],
   "source": [
    "recommendations.show(\n",
    "    sort_by        = ['user_sim_weighted_pred_rating_score'],\n",
    "    k              = 5\n",
    ")"
   ]
  },
  {
   "cell_type": "markdown",
   "id": "c4e55c54-2961-493a-a1b2-e8a7e14f7ba9",
   "metadata": {
    "tags": []
   },
   "source": [
    "### Notes\n",
    "* Movies seen by similar users weighted by user predicted rating.\n",
    "* Ordered by **User sim weighted predicted rating score**.\n",
    "* **User sim weighted predicted rating score** = similar_user_similarity(0..1) * user_predicted_rating (Normalize to 0..1)"
   ]
  },
  {
   "cell_type": "code",
   "execution_count": 17,
   "id": "a5cb1e0a-71cb-48ea-83a9-1cb89bd5dd89",
   "metadata": {
    "tags": []
   },
   "outputs": [
    {
     "data": {
      "text/html": [
       "<h2>Recommendations</h2>"
      ],
      "text/plain": [
       "<IPython.core.display.HTML object>"
      ]
     },
     "metadata": {},
     "output_type": "display_data"
    },
    {
     "data": {
      "text/html": [
       "<h4><b>Tags:</b> <b>action</b>(4), <b>adventure</b>(3), <b>drama</b>(3), <b>fantasy</b>(2), <b>sci-fi</b>(2), <b>thriller</b>(1), <b>animation</b>(1)</h4>"
      ],
      "text/plain": [
       "<IPython.core.display.HTML object>"
      ]
     },
     "metadata": {},
     "output_type": "display_data"
    },
    {
     "data": {
      "text/html": [
       "<table border=\"1\" class=\"dataframe\">\n",
       "  <thead>\n",
       "    <tr style=\"text-align: right;\">\n",
       "      <th></th>\n",
       "      <th>0</th>\n",
       "      <th>1</th>\n",
       "      <th>2</th>\n",
       "      <th>3</th>\n",
       "      <th>4</th>\n",
       "    </tr>\n",
       "  </thead>\n",
       "  <tbody>\n",
       "    <tr>\n",
       "      <th>Poster</th>\n",
       "      <td><img src=\"http://image.tmdb.org/t/p/w500/aX88jCiChMUUInXGeHjqMpSW10Z.jpg\" width=\"340\" alt=Curse of the Ring ></td>\n",
       "      <td><img src=\"http://image.tmdb.org/t/p/w500/ow3wq89wM8qd5X7hWKxiRfsFf9C.jpg\" width=\"340\" alt=12 Angry Men ></td>\n",
       "      <td><img src=\"http://image.tmdb.org/t/p/w500/f89U3ADr1oiB1s9GkdPOEpXUk5H.jpg\" width=\"340\" alt=Matrix, The ></td>\n",
       "      <td><img src=\"http://image.tmdb.org/t/p/w500/cMYCDADoLKLbB83g4WnJegaZimC.jpg\" width=\"340\" alt=Princess Mononoke ></td>\n",
       "      <td><img src=\"http://image.tmdb.org/t/p/w500/nNAeTmF4CtdSgMDplXTDPOpYzsX.jpg\" width=\"340\" alt=Star Wars: Episode V - The Empire Strikes Back ></td>\n",
       "    </tr>\n",
       "    <tr>\n",
       "      <th>Genres</th>\n",
       "      <td><ul><li style=\"text-align:left;vertical-align:top;\">Action</li><li style=\"text-align:left;vertical-align:top;\">Adventure</li><li style=\"text-align:left;vertical-align:top;\">Drama</li><li style=\"text-align:left;vertical-align:top;\">Fantasy</li></ul></td>\n",
       "      <td><ul><li style=\"text-align:left;vertical-align:top;\">Drama</li></ul></td>\n",
       "      <td><ul><li style=\"text-align:left;vertical-align:top;\">Action</li><li style=\"text-align:left;vertical-align:top;\">Sci-fi</li><li style=\"text-align:left;vertical-align:top;\">Thriller</li></ul></td>\n",
       "      <td><ul><li style=\"text-align:left;vertical-align:top;\">Action</li><li style=\"text-align:left;vertical-align:top;\">Adventure</li><li style=\"text-align:left;vertical-align:top;\">Animation</li><li style=\"text-align:left;vertical-align:top;\">Drama</li><li style=\"text-align:left;vertical-align:top;\">Fantasy</li></ul></td>\n",
       "      <td><ul><li style=\"text-align:left;vertical-align:top;\">Action</li><li style=\"text-align:left;vertical-align:top;\">Adventure</li><li style=\"text-align:left;vertical-align:top;\">Sci-fi</li></ul></td>\n",
       "    </tr>\n",
       "    <tr>\n",
       "      <th>Mean Rating</th>\n",
       "      <td>5.0</td>\n",
       "      <td>4.310345</td>\n",
       "      <td>4.272401</td>\n",
       "      <td>4.217687</td>\n",
       "      <td>4.208738</td>\n",
       "    </tr>\n",
       "    <tr>\n",
       "      <th>Predicted Rating</th>\n",
       "      <td>4.19122</td>\n",
       "      <td>4.462064</td>\n",
       "      <td>4.794106</td>\n",
       "      <td>4.526951</td>\n",
       "      <td>4.387161</td>\n",
       "    </tr>\n",
       "    <tr>\n",
       "      <th>User sim weighted rating score</th>\n",
       "      <td>0.988815</td>\n",
       "      <td>0.852166</td>\n",
       "      <td>0.84528</td>\n",
       "      <td>0.834125</td>\n",
       "      <td>0.832355</td>\n",
       "    </tr>\n",
       "    <tr>\n",
       "      <th>User sim weighted predicted rating score</th>\n",
       "      <td>0.864466</td>\n",
       "      <td>0.920048</td>\n",
       "      <td>0.989232</td>\n",
       "      <td>0.933737</td>\n",
       "      <td>0.904904</td>\n",
       "    </tr>\n",
       "    <tr>\n",
       "      <th>User Item Similarity</th>\n",
       "      <td>0.988815</td>\n",
       "      <td>0.988513</td>\n",
       "      <td>0.989232</td>\n",
       "      <td>0.988841</td>\n",
       "      <td>0.988841</td>\n",
       "    </tr>\n",
       "  </tbody>\n",
       "</table>"
      ],
      "text/plain": [
       "<IPython.core.display.HTML object>"
      ]
     },
     "metadata": {},
     "output_type": "display_data"
    },
    {
     "data": {
      "text/html": [
       "<h5><b>Generated by</b> DatabaseUserItemFilteringRecommender.</h5>"
      ],
      "text/plain": [
       "<IPython.core.display.HTML object>"
      ]
     },
     "metadata": {},
     "output_type": "display_data"
    }
   ],
   "source": [
    "recommendations.show(\n",
    "    sort_by        = ['user_sim_weighted_rating_score'],\n",
    "    k              = 5\n",
    ")"
   ]
  },
  {
   "cell_type": "markdown",
   "id": "23bdf26f-e636-432e-ac46-7531dfa5caeb",
   "metadata": {},
   "source": [
    "### Notes\n",
    "* Movies seen by similar users weighted by movie mean rating.\n",
    "* Ordered by **User sim weighted rating score**.\n",
    "* **User sim weighted rating score** = similar_user_similarity(0..1) * mean_movie_rating (Normalize to 0..1) "
   ]
  },
  {
   "cell_type": "code",
   "execution_count": 18,
   "id": "4c4c8c5c-5bb5-488f-9cc9-0b41472f110a",
   "metadata": {},
   "outputs": [
    {
     "data": {
      "text/html": [
       "<h2>Recommendations</h2>"
      ],
      "text/plain": [
       "<IPython.core.display.HTML object>"
      ]
     },
     "metadata": {},
     "output_type": "display_data"
    },
    {
     "data": {
      "text/html": [
       "<h4><b>Tags:</b> <b>drama</b>(4), <b>mystery</b>(1), <b>thriller</b>(1), <b>romance</b>(1), <b>sci-fi</b>(1), <b>animation</b>(1), <b>children</b>(1), <b>fantasy</b>(1), <b>musical</b>(1)</h4>"
      ],
      "text/plain": [
       "<IPython.core.display.HTML object>"
      ]
     },
     "metadata": {},
     "output_type": "display_data"
    },
    {
     "data": {
      "text/html": [
       "<table border=\"1\" class=\"dataframe\">\n",
       "  <thead>\n",
       "    <tr style=\"text-align: right;\">\n",
       "      <th></th>\n",
       "      <th>0</th>\n",
       "      <th>1</th>\n",
       "      <th>2</th>\n",
       "      <th>3</th>\n",
       "      <th>4</th>\n",
       "    </tr>\n",
       "  </thead>\n",
       "  <tbody>\n",
       "    <tr>\n",
       "      <th>Poster</th>\n",
       "      <td><img src=\"http://image.tmdb.org/t/p/w500/k1LDxbfSu7mCVhWf6byLAfFk1Pm.jpg\" width=\"340\" alt=Prisoners ></td>\n",
       "      <td><img src=\"http://image.tmdb.org/t/p/w500/qKnsyaJZLXfiL2JhIJEkpA8C3LU.jpg\" width=\"340\" alt=Short Term 12 ></td>\n",
       "      <td><img src=\"http://image.tmdb.org/t/p/w500/xdANQijuNrJaw1HA61rDccME4Tm.jpg\" width=\"340\" alt=12 Years a Slave ></td>\n",
       "      <td><img src=\"http://image.tmdb.org/t/p/w500/lNqSlpZAti3qdcxnquek7cNd3uF.jpg\" width=\"340\" alt=Her ></td>\n",
       "      <td><img src=\"http://image.tmdb.org/t/p/w500/vjCdrK8gGRFnyuZb1j9BzgN2RaY.jpg\" width=\"340\" alt=Strange Magic ></td>\n",
       "    </tr>\n",
       "    <tr>\n",
       "      <th>Genres</th>\n",
       "      <td><ul><li style=\"text-align:left;vertical-align:top;\">Drama</li><li style=\"text-align:left;vertical-align:top;\">Mystery</li><li style=\"text-align:left;vertical-align:top;\">Thriller</li></ul></td>\n",
       "      <td><ul><li style=\"text-align:left;vertical-align:top;\">Drama</li></ul></td>\n",
       "      <td><ul><li style=\"text-align:left;vertical-align:top;\">Drama</li></ul></td>\n",
       "      <td><ul><li style=\"text-align:left;vertical-align:top;\">Drama</li><li style=\"text-align:left;vertical-align:top;\">Romance</li><li style=\"text-align:left;vertical-align:top;\">Sci-fi</li></ul></td>\n",
       "      <td><ul><li style=\"text-align:left;vertical-align:top;\">Animation</li><li style=\"text-align:left;vertical-align:top;\">Children</li><li style=\"text-align:left;vertical-align:top;\">Fantasy</li><li style=\"text-align:left;vertical-align:top;\">Musical</li></ul></td>\n",
       "    </tr>\n",
       "    <tr>\n",
       "      <th>Mean Rating</th>\n",
       "      <td>4.025</td>\n",
       "      <td>3.97619</td>\n",
       "      <td>3.741379</td>\n",
       "      <td>3.902439</td>\n",
       "      <td>3.571429</td>\n",
       "    </tr>\n",
       "    <tr>\n",
       "      <th>Predicted Rating</th>\n",
       "      <td>4.216056</td>\n",
       "      <td>4.510912</td>\n",
       "      <td>3.891275</td>\n",
       "      <td>4.271195</td>\n",
       "      <td>3.814456</td>\n",
       "    </tr>\n",
       "    <tr>\n",
       "      <th>User sim weighted rating score</th>\n",
       "      <td>0.797407</td>\n",
       "      <td>0.787737</td>\n",
       "      <td>0.741218</td>\n",
       "      <td>0.773126</td>\n",
       "      <td>0.707231</td>\n",
       "    </tr>\n",
       "    <tr>\n",
       "      <th>User sim weighted predicted rating score</th>\n",
       "      <td>0.87113</td>\n",
       "      <td>0.932053</td>\n",
       "      <td>0.804023</td>\n",
       "      <td>0.882522</td>\n",
       "      <td>0.787797</td>\n",
       "    </tr>\n",
       "    <tr>\n",
       "      <th>User Item Similarity</th>\n",
       "      <td>0.990567</td>\n",
       "      <td>0.990567</td>\n",
       "      <td>0.990567</td>\n",
       "      <td>0.990567</td>\n",
       "      <td>0.990123</td>\n",
       "    </tr>\n",
       "  </tbody>\n",
       "</table>"
      ],
      "text/plain": [
       "<IPython.core.display.HTML object>"
      ]
     },
     "metadata": {},
     "output_type": "display_data"
    },
    {
     "data": {
      "text/html": [
       "<h5><b>Generated by</b> DatabaseUserItemFilteringRecommender.</h5>"
      ],
      "text/plain": [
       "<IPython.core.display.HTML object>"
      ]
     },
     "metadata": {},
     "output_type": "display_data"
    }
   ],
   "source": [
    "recommendations.show(\n",
    "    sort_by        = ['user_item_sim'],\n",
    "    k              = 5\n",
    ")"
   ]
  },
  {
   "cell_type": "markdown",
   "id": "8f640a43-1613-4ae6-82fe-780bfe81fb11",
   "metadata": {
    "tags": []
   },
   "source": [
    "### Notes\n",
    "* Movies seen by similar users.\n",
    "* Ordered by **similar user similarity by movie**.\n",
    "* take movies sample from each similar user, then assign similary and order by similary."
   ]
  }
 ],
 "metadata": {
  "kernelspec": {
   "display_name": "Python 3 (ipykernel)",
   "language": "python",
   "name": "python3"
  },
  "language_info": {
   "codemirror_mode": {
    "name": "ipython",
    "version": 3
   },
   "file_extension": ".py",
   "mimetype": "text/x-python",
   "name": "python",
   "nbconvert_exporter": "python",
   "pygments_lexer": "ipython3",
   "version": "3.10.13"
  },
  "widgets": {
   "application/vnd.jupyter.widget-state+json": {
    "state": {},
    "version_major": 2,
    "version_minor": 0
   }
  }
 },
 "nbformat": 4,
 "nbformat_minor": 5
}
