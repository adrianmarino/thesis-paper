{
 "cells": [
  {
   "cell_type": "markdown",
   "id": "0417277b-47df-4113-a7b3-8f960db06f1d",
   "metadata": {
    "tags": []
   },
   "source": [
    "# Recommender ChatBot: Collaborative Filtering recommender using user embeddings from chromadb"
   ]
  },
  {
   "cell_type": "code",
   "execution_count": 1,
   "id": "59f0eac0-30e8-4e72-860e-05541c36b82e",
   "metadata": {},
   "outputs": [],
   "source": [
    "%load_ext autoreload\n",
    "%autoreload 2"
   ]
  },
  {
   "cell_type": "code",
   "execution_count": 2,
   "id": "6fe490fd-66c5-4b3f-a327-62aa5d01f21c",
   "metadata": {},
   "outputs": [],
   "source": [
    "BASE_PATH    = '../..'\n",
    "LIB_PATH     = f'{BASE_PATH}/lib'\n",
    "API_PATH     = f'{BASE_PATH}/chat-bot-api'"
   ]
  },
  {
   "cell_type": "code",
   "execution_count": 3,
   "id": "f98e7bf4-f41a-43f6-b7b7-a991d00f82de",
   "metadata": {},
   "outputs": [
    {
     "name": "stderr",
     "output_type": "stream",
     "text": [
      "2024-02-22 19:56:21.751240: I tensorflow/core/platform/cpu_feature_guard.cc:182] This TensorFlow binary is optimized to use available CPU instructions in performance-critical operations.\n",
      "To enable the following instructions: AVX2 FMA, in other operations, rebuild TensorFlow with the appropriate compiler flags.\n",
      "2024-02-22 19:56:22.153477: W tensorflow/compiler/tf2tensorrt/utils/py_utils.cc:38] TF-TRT Warning: Could not find TensorRT\n",
      "2024-02-22 19:56:22.517541: I tensorflow/compiler/xla/stream_executor/cuda/cuda_gpu_executor.cc:996] successful NUMA node read from SysFS had negative value (-1), but there must be at least one NUMA node, so returning NUMA node zero. See more at https://github.com/torvalds/linux/blob/v6.0/Documentation/ABI/testing/sysfs-bus-pci#L344-L355\n",
      "2024-02-22 19:56:22.528614: W tensorflow/core/common_runtime/gpu/gpu_device.cc:1956] Cannot dlopen some GPU libraries. Please make sure the missing libraries mentioned above are installed properly if you would like to use GPU. Follow the guide at https://www.tensorflow.org/install/gpu for how to download and setup the required libraries for your platform.\n",
      "Skipping registering GPU devices...\n"
     ]
    },
    {
     "data": {
      "text/plain": [
       "<Figure size 640x480 with 0 Axes>"
      ]
     },
     "metadata": {},
     "output_type": "display_data"
    }
   ],
   "source": [
    "import sys\n",
    "sys.path.append(LIB_PATH)\n",
    "sys.path.append(API_PATH)\n",
    "\n",
    "\n",
    "import torch\n",
    "import pytorch_common\n",
    "import pytorch_common.util as pu\n",
    "import util as ut\n",
    "import os\n",
    "import numpy as np\n",
    "import logging\n",
    "\n",
    "import pandas as pd\n",
    "from IPython.core.display import HTML\n",
    "from recommender import RecommenderResult, to_image_html\n",
    "import random"
   ]
  },
  {
   "cell_type": "markdown",
   "id": "d757391b-ad9f-4047-9b23-e3bd23fbe37b",
   "metadata": {},
   "source": [
    "## Setup"
   ]
  },
  {
   "cell_type": "code",
   "execution_count": 4,
   "id": "efba19c8-6de3-4a6c-b804-658d0aff6bdb",
   "metadata": {},
   "outputs": [
    {
     "data": {
      "text/plain": [
       "<RootLogger root (INFO)>"
      ]
     },
     "execution_count": 4,
     "metadata": {},
     "output_type": "execute_result"
    }
   ],
   "source": [
    "pu.LoggerBuilder().on_console().build()"
   ]
  },
  {
   "cell_type": "code",
   "execution_count": 5,
   "id": "019f8153-76f9-45da-8228-f1c22642bd2b",
   "metadata": {
    "tags": []
   },
   "outputs": [
    {
     "data": {
      "text/plain": [
       "'0.3.8'"
      ]
     },
     "execution_count": 5,
     "metadata": {},
     "output_type": "execute_result"
    }
   ],
   "source": [
    "import pytorch_common\n",
    "pytorch_common.__version__"
   ]
  },
  {
   "cell_type": "code",
   "execution_count": 6,
   "id": "471e4f42-bc63-4cf5-a909-84f4db06bc81",
   "metadata": {
    "tags": []
   },
   "outputs": [
    {
     "data": {
      "text/plain": [
       "'2.1.2+cu118'"
      ]
     },
     "execution_count": 6,
     "metadata": {},
     "output_type": "execute_result"
    }
   ],
   "source": [
    "torch.__version__"
   ]
  },
  {
   "cell_type": "code",
   "execution_count": 7,
   "id": "198d1be8-29ba-45e8-8bd2-daf6e1f3d551",
   "metadata": {
    "tags": []
   },
   "outputs": [
    {
     "data": {
      "text/plain": [
       "(device(type='cuda', index=0), True)"
      ]
     },
     "execution_count": 7,
     "metadata": {},
     "output_type": "execute_result"
    }
   ],
   "source": [
    "pu.set_device_name('gpu')\n",
    "\n",
    "pu.get_device(), torch.cuda.is_available()"
   ]
  },
  {
   "cell_type": "code",
   "execution_count": 8,
   "id": "2420aca3-556f-46d7-a1ee-8eb2d2c9281e",
   "metadata": {},
   "outputs": [],
   "source": [
    "ut.set_seed(42)"
   ]
  },
  {
   "cell_type": "code",
   "execution_count": 9,
   "id": "0406bf3d-3aff-4b18-97e6-98b3c9f1284d",
   "metadata": {
    "tags": []
   },
   "outputs": [],
   "source": [
    "os.environ['TMP_PATH']         = f'{BASE_PATH}/tmp'\n",
    "os.environ['DATASET_PATH']     = f'{BASE_PATH}/datasets'\n",
    "os.environ['WEIGHTS_PATH']     = f'{BASE_PATH}/weights'\n",
    "os.environ['METRICS_PATH']     = f'{BASE_PATH}/metrics'\n",
    "os.environ['MONGODB_URL']      = 'mongodb://0.0.0.0:27017'\n",
    "os.environ['MONGODB_DATABASE'] = 'chatbot'\n",
    "os.environ['CHROMA_HOST']      = '0.0.0.0'\n",
    "os.environ['CHROMA_PORT']      = '9090'\n",
    "\n",
    "\n",
    "from app_context import AppContext"
   ]
  },
  {
   "cell_type": "markdown",
   "id": "b8334d07-f306-42b4-8ea1-cc27b82eb343",
   "metadata": {},
   "source": [
    "## Recommender"
   ]
  },
  {
   "cell_type": "code",
   "execution_count": 10,
   "id": "604fe65a-b2a2-41c4-abbd-2425e6736621",
   "metadata": {},
   "outputs": [
    {
     "name": "stderr",
     "output_type": "stream",
     "text": [
      "2024-02-22 19:56:24,237 - INFO - Load pretrained SentenceTransformer: all-mpnet-base-v2\n",
      "2024-02-22 19:56:24,800 - INFO - Use pytorch device: cuda\n",
      "2024-02-22 19:56:24,802 - INFO - Anonymized telemetry enabled. See                     https://docs.trychroma.com/telemetry for more information.\n",
      "2024-02-22 19:56:24,827 - INFO - Anonymized telemetry enabled. See                     https://docs.trychroma.com/telemetry for more information.\n"
     ]
    }
   ],
   "source": [
    "ctx = AppContext()"
   ]
  },
  {
   "cell_type": "code",
   "execution_count": 96,
   "id": "27daf912-b717-464f-a88e-d62cea969f52",
   "metadata": {
    "tags": []
   },
   "outputs": [],
   "source": [
    "class DatabaseUserItemFilteringRecommenderResult(RecommenderResult):\n",
    "    def __init__(\n",
    "        self,\n",
    "        recommender_name,\n",
    "        data,\n",
    "        seen_items\n",
    "    ):\n",
    "        self.__recommender_name = recommender_name\n",
    "        self.__data             = data\n",
    "        self.__seen_items       = seen_items\n",
    "\n",
    "\n",
    "    @property\n",
    "    def data(self): return self.__data\n",
    "\n",
    "    @property\n",
    "    def seen(self): return self.__seen_items\n",
    "\n",
    "    def show(\n",
    "        self, \n",
    "        k              = 5,\n",
    "        sort_by        = ['pred_user_rating', 'user_distance_weighted_rating_score'],\n",
    "        sort_ascending = False,\n",
    "        image_width    = 340,\n",
    "        transpose      = True\n",
    "    ):\n",
    "        display(HTML(f'<h2>Recommendations</h2>'))\n",
    "      \n",
    "        if self.__data is None:\n",
    "            display(HTML('<h4>Not Found recommendations</h4>'))\n",
    "            return\n",
    "\n",
    "\n",
    "        df = self.__data.sort_values(by=sort_by, ascending=sort_ascending)[:k]\n",
    "\n",
    "        \n",
    "        display(HTML(f'<h4><b>Tags:</b> {self.__as_tags(df, \"genres\")}</h4>'))\n",
    "        \n",
    "        \n",
    "        df['image'] = df.apply(lambda row: to_image_html(row['poster'], width=image_width, alt=row['title']), axis=1)\n",
    "    \n",
    "        if transpose:\n",
    "            df = df[[\n",
    "                'image',\n",
    "                'genres',\n",
    "                'rating',\n",
    "                'pred_user_rating',\n",
    "                'user_sim_weighted_rating_score',\n",
    "                'user_sim_weighted_pred_rating_score', \n",
    "                'user_item_sim'\n",
    "            ]]\n",
    "\n",
    "            df['genres'] = df['genres'].apply(lambda genres: '<ul>' +  ''.join([F'<li style=\"text-align:left;vertical-align:top;\">{g.capitalize()}</li>' for g in genres]) + '</ul>')\n",
    "            \n",
    "            df = df.rename(columns={\n",
    "                'user_sim_weighted_rating_score' : 'User sim weighted rating score',\n",
    "                'user_sim_weighted_pred_rating_score' : 'User sim weighted predicted rating score',\n",
    "                'user_item_sim': 'User Item Similarity',\n",
    "                'pred_user_rating': 'Predicted Rating',\n",
    "                'rating' : 'Mean Rating',\n",
    "                'image'  : 'Poster',\n",
    "                'genres' : 'Genres'\n",
    "            })\n",
    "\n",
    "            df = df.reset_index()\n",
    "            df = df.T.drop(['index'])\n",
    "\n",
    "        else:\n",
    "            df = df[['user_sim_weighted_rating_score', 'user_sim_weighted_pred_rating_score', 'pred_user_rating', 'user_item_sim', 'rating', 'image', 'genres']]\n",
    "            df = df.rename(columns={\n",
    "                'user_sim_weighted_rating_score' : 'User sim weighted rating score',\n",
    "                'user_sim_weighted_pred_rating_score' : 'User sim weighted predicted rating score',\n",
    "                'pred_user_rating': 'Predicted Rating',\n",
    "                'user_item_sim': 'User Item Similarity',\n",
    "                'rating' : 'Mean Rating',\n",
    "                'image'  : 'Poster',\n",
    "                'genres' : 'Genres'\n",
    "            }).reset_index()\n",
    "\n",
    "        display(HTML(df.to_html(escape=False)))\n",
    "        display(HTML(f'<h5><b>Generated by</b> {self.__recommender_name}.</h5>'))\n",
    "\n",
    "    \n",
    "    def __as_tags(self, df, column):\n",
    "        tag_counts =pd.Series(np.concatenate(df[column].apply(np.array).values)).value_counts().to_dict()\n",
    "        return ', '.join([f\"<b>{tag.replace(')', '').replace('(', '')}</b>({count})\" for tag, count in tag_counts.items()])\n",
    "        \n",
    "        \n",
    "    def show_seen(\n",
    "        self,\n",
    "        k              = 1000,\n",
    "        sort_by        = ['rating'],\n",
    "        sort_ascending = False,\n",
    "        image_width    = 340,\n",
    "        transpose      = True\n",
    "    ):\n",
    "        display(HTML(f'<h2>User Seen items</h2>'))\n",
    "\n",
    "        if self.__seen_items is None:\n",
    "            print('Not Found items!')\n",
    "            return\n",
    "        \n",
    "        df = self.__seen_items.sort_values(by=sort_by, ascending=sort_ascending)[:k]\n",
    "\n",
    "        display(HTML(f'<h4><b>Tags:</b> {self.__as_tags(df, \"genres\")}</h4>'))\n",
    "\n",
    "\n",
    "        df['image'] = df.apply(lambda row: to_image_html(row['poster'], width=image_width, alt=row['title']), axis=1)\n",
    "            \n",
    "        if transpose:\n",
    "            df = df[['image', 'genres', 'rating']] \n",
    "            \n",
    "            df['genres'] = df['genres'].apply(lambda genres: '<ul>' +  ''.join([F'<li style=\"text-align:left;vertical-align:top;\">{g.capitalize()}</li>' for g in genres]) + '</ul>')\n",
    "          \n",
    "            df = df.rename(columns={\n",
    "                    'image'  : 'Poster',\n",
    "                    'genres' : 'Genres',\n",
    "                    'rating' : 'Rating',\n",
    "                })\n",
    "            df = df.reset_index()\n",
    "            df = df.T.drop(['index'])\n",
    "            \n",
    "        else:\n",
    "            df = df[['rating', 'image', 'genres']] \n",
    "            df = df.rename(columns={\n",
    "                'rating' : 'Rating',\n",
    "                'image'  : 'Poster',\n",
    "                'genres' : 'Genres'\n",
    "            }).reset_index()\n",
    "        \n",
    "\n",
    "        display(HTML(df.to_html(escape=False)))"
   ]
  },
  {
   "cell_type": "code",
   "execution_count": 97,
   "id": "538cc243-7a82-4273-8d5d-d10c64ac30ba",
   "metadata": {},
   "outputs": [],
   "source": [
    "class DatabaseUserItemFilteringRecommender:\n",
    "    def __init__(\n",
    "        self,\n",
    "        user_emb_repository,\n",
    "        items_repository,\n",
    "        interactions_repository,\n",
    "        pred_interactions_repository\n",
    "    ):\n",
    "        self.__user_emb_repository          = user_emb_repository\n",
    "        self.__items_repository             = items_repository\n",
    "        self.__interactions_repository      = interactions_repository\n",
    "        self.__pred_interactions_repository = pred_interactions_repository\n",
    "\n",
    "\n",
    "    def __users_distance(self, similar_users):\n",
    "        return { similar_users.str_ids[idx]: similar_users.distances[idx] for idx in range(len(similar_users.str_ids)) }            \n",
    "\n",
    "    \n",
    "    \n",
    "    def __select_interactions(self, interactions, percent, max_items_by_user):\n",
    "        interactions_by_user_id = {}\n",
    "        for i in interactions:\n",
    "            if i.user_id not in interactions_by_user_id:                \n",
    "                interactions_by_user_id[i.user_id] = []\n",
    "\n",
    "            inters = interactions_by_user_id[i.user_id]\n",
    "                \n",
    "            if random.random() >= percent and len(inters) < max_items_by_user:\n",
    "                inters.append(i)\n",
    "    \n",
    "        interactions = []\n",
    "        for inters in interactions_by_user_id.values():\n",
    "            interactions.extend(inters)\n",
    "        \n",
    "        return interactions\n",
    "    \n",
    "    \n",
    "    async def recommend(\n",
    "        self,\n",
    "        user_id                        : int  = None,\n",
    "        not_seen                       : bool = True,\n",
    "        k_sim_users                    : int = 5,\n",
    "        random_selection_items_by_user : int = 0.5,\n",
    "        max_items_by_user              : int = 5\n",
    "    ):\n",
    "        similar_users = self.__user_emb_repository.find_similars_by_id(user_id, limit=k_sim_users)\n",
    "        \n",
    "        if similar_users.empty: return []\n",
    "\n",
    "        similar_user_ids = [id for id in similar_users.str_ids if id != user_id]\n",
    "\n",
    "        if len(similar_user_ids) ==0:\n",
    "            logging.warning('Not found similar users')\n",
    "            return []\n",
    "\n",
    "        interactions = await self.__interactions_repository.find_many_by(user_id={'$in': similar_user_ids})\n",
    "        \n",
    "        interactions = self.__select_interactions(\n",
    "            interactions,\n",
    "            percent           = random_selection_items_by_user,\n",
    "            max_items_by_user = max_items_by_user\n",
    "        )\n",
    "    \n",
    "        if len(interactions) ==0:\n",
    "            logging.warning('Not found sumilar users interactions')\n",
    "            return []\n",
    "        \n",
    "        item_ids = np.unique([i.item_id for i in interactions]).tolist()\n",
    "        \n",
    "        if len(item_ids) ==0:\n",
    "            logging.warning('Not found items')\n",
    "            return []\n",
    "\n",
    "        user_interactions = await self.__interactions_repository.find_many_by(user_id=user_id)\n",
    " \n",
    "        if not_seen:\n",
    "            seen_item_ids = [i.item_id for i in user_interactions]\n",
    "            item_ids = [item_id for item_id in item_ids if item_id not in seen_item_ids]\n",
    "\n",
    "        \n",
    "        items = await self.__items_repository.find_many_by(item_id={'$in': item_ids})\n",
    "    \n",
    "        pred_interactions =  await self.__pred_interactions_repository.find_many_by(\n",
    "            user_id=user_id,\n",
    "            item_id={'$in': item_ids}\n",
    "        )\n",
    "        pred_rating_by_item_id = {i.item_id: i.rating for i in pred_interactions}\n",
    "        \n",
    "        \n",
    "        distance_by_user_id = self.__users_distance(similar_users)\n",
    "        \n",
    "        distance_by_item_id = {i.item_id:distance_by_user_id[i.user_id] for i in interactions}\n",
    "        \n",
    "        max_rating      = np.max([item.rating for item in items])\n",
    "        \n",
    "        max_pred_rating = np.max(list(pred_rating_by_item_id.values()))\n",
    "\n",
    "\n",
    "        scored_items  = []\n",
    "        for item in items:\n",
    "            item_sim   = (1 - distance_by_item_id[item.id])\n",
    "\n",
    "            norm_rating = item.rating / max_rating\n",
    "\n",
    "            item_score1  = norm_rating * item_sim\n",
    "            \n",
    "            norm_pred_rating = pred_rating_by_item_id.get(item.id, 0) / max_pred_rating\n",
    "                \n",
    "            item_score2  = norm_pred_rating * item_sim\n",
    "            \n",
    "            scored_items.append((item, item_score1, item_score2, item_sim, norm_rating))\n",
    "\n",
    "    \n",
    "        recommended_items = pd.DataFrame([\n",
    "            {\n",
    "                'id'    : item[0].id,\n",
    "                'user_sim_weighted_rating_score'      : item[1],\n",
    "                'user_sim_weighted_pred_rating_score' : item[2],\n",
    "                'user_item_sim'                       : item[3],\n",
    "                'pred_user_rating'                    : pred_rating_by_item_id.get(item[0].id, 0),\n",
    "                'rating': item[0].rating,\n",
    "                'title' : item[0].title,\n",
    "                'poster': item[0].poster,\n",
    "                'genres': item[0].genres\n",
    "            }\n",
    "            for item in scored_items\n",
    "        ])\n",
    "        \n",
    "        \n",
    "        seen_item_rating_by_id = {i.item_id: i.rating for i in user_interactions}\n",
    "        seen_items = await self.__items_repository.find_many_by(\n",
    "            item_id={'$in': list(seen_item_rating_by_id.keys())}\n",
    "        )\n",
    "   \n",
    "        seen_items = pd.DataFrame([\n",
    "            {\n",
    "                'id'    : item.id,\n",
    "                'rating': seen_item_rating_by_id.get(item.id, 0),\n",
    "                'title' : item.title,\n",
    "                'poster': item.poster,\n",
    "                'genres': item.genres\n",
    "            }\n",
    "            for item in seen_items\n",
    "        ])\n",
    "        \n",
    "        return DatabaseUserItemFilteringRecommenderResult(\n",
    "            self.__class__.__name__,\n",
    "            recommended_items,\n",
    "            seen_items\n",
    "        )"
   ]
  },
  {
   "cell_type": "code",
   "execution_count": 98,
   "id": "72e99109-2885-4f7b-807f-7444cf33459c",
   "metadata": {
    "tags": []
   },
   "outputs": [],
   "source": [
    "recommender = DatabaseUserItemFilteringRecommender(\n",
    "    user_emb_repository          = ctx.users_cf_emb_repository,\n",
    "    items_repository             = ctx.items_repository,\n",
    "    interactions_repository      = ctx.interactions_repository,\n",
    "    pred_interactions_repository = ctx.pred_interactions_repository,\n",
    "\n",
    ")\n",
    "\n",
    "recommendations = await recommender.recommend(\n",
    "    user_id           = \"adrianmarino@gmail.com\",\n",
    "    k_sim_users       = 20,\n",
    "    max_items_by_user = 5,\n",
    "    not_seen          = True\n",
    ")"
   ]
  },
  {
   "cell_type": "code",
   "execution_count": 99,
   "id": "afbb105e-9eed-4414-8dfc-14c91ec55560",
   "metadata": {
    "tags": []
   },
   "outputs": [
    {
     "data": {
      "text/html": [
       "<h2>User Seen items</h2>"
      ],
      "text/plain": [
       "<IPython.core.display.HTML object>"
      ]
     },
     "metadata": {},
     "output_type": "display_data"
    },
    {
     "data": {
      "text/html": [
       "<h4><b>Tags:</b> <b>adventure</b>(24), <b>action</b>(21), <b>sci-fi</b>(17), <b>comedy</b>(15), <b>animation</b>(13), <b>children</b>(12), <b>imax</b>(10), <b>fantasy</b>(9), <b>thriller</b>(8), <b>drama</b>(7), <b>mystery</b>(4), <b>crime</b>(2), <b>war</b>(2), <b>romance</b>(1)</h4>"
      ],
      "text/plain": [
       "<IPython.core.display.HTML object>"
      ]
     },
     "metadata": {},
     "output_type": "display_data"
    },
    {
     "data": {
      "text/html": [
       "<table border=\"1\" class=\"dataframe\">\n",
       "  <thead>\n",
       "    <tr style=\"text-align: right;\">\n",
       "      <th></th>\n",
       "      <th>0</th>\n",
       "      <th>1</th>\n",
       "      <th>2</th>\n",
       "      <th>3</th>\n",
       "      <th>4</th>\n",
       "      <th>5</th>\n",
       "      <th>6</th>\n",
       "      <th>7</th>\n",
       "      <th>8</th>\n",
       "      <th>9</th>\n",
       "      <th>10</th>\n",
       "      <th>11</th>\n",
       "      <th>12</th>\n",
       "      <th>13</th>\n",
       "      <th>14</th>\n",
       "      <th>15</th>\n",
       "      <th>16</th>\n",
       "      <th>17</th>\n",
       "      <th>18</th>\n",
       "      <th>19</th>\n",
       "      <th>20</th>\n",
       "      <th>21</th>\n",
       "      <th>22</th>\n",
       "      <th>23</th>\n",
       "      <th>24</th>\n",
       "      <th>25</th>\n",
       "      <th>26</th>\n",
       "      <th>27</th>\n",
       "      <th>28</th>\n",
       "      <th>29</th>\n",
       "      <th>30</th>\n",
       "      <th>31</th>\n",
       "      <th>32</th>\n",
       "      <th>33</th>\n",
       "      <th>34</th>\n",
       "      <th>35</th>\n",
       "      <th>36</th>\n",
       "      <th>37</th>\n",
       "      <th>38</th>\n",
       "    </tr>\n",
       "  </thead>\n",
       "  <tbody>\n",
       "    <tr>\n",
       "      <th>Poster</th>\n",
       "      <td><img src=\"http://image.tmdb.org/t/p/w500/uXDfjJbdP4ijW5hWSBrPrlKpxab.jpg\" width=\"340\" alt=Toy Story ></td>\n",
       "      <td><img src=\"http://image.tmdb.org/t/p/w500/y4MBh0EjBlMuOzv9axM4qJlmhzz.jpg\" width=\"340\" alt=Guardians of the Galaxy 2 ></td>\n",
       "      <td><img src=\"http://image.tmdb.org/t/p/w500/qhPtAc1TKbMPqNvcdXSOn9Bn7hZ.jpg\" width=\"340\" alt=Iron Man 3 ></td>\n",
       "      <td><img src=\"http://image.tmdb.org/t/p/w500/2MFIhZAW0CVlEQrFyqwa4U6zqJP.jpg\" width=\"340\" alt=Toy Story 2 ></td>\n",
       "      <td><img src=\"http://image.tmdb.org/t/p/w500/hlK0e0wAQ3VLuJcsfIYPvb4JVud.jpg\" width=\"340\" alt=Zootopia ></td>\n",
       "      <td><img src=\"http://image.tmdb.org/t/p/w500/tRNlZbgNCNOpLpbPEz5L8G8A0JN.jpg\" width=\"340\" alt=Prestige, The ></td>\n",
       "      <td><img src=\"http://image.tmdb.org/t/p/w500/kAPN02qvX7QTQYtBu9wHN6xQySB.jpg\" width=\"340\" alt=Inside Out ></td>\n",
       "      <td><img src=\"http://image.tmdb.org/t/p/w500/uGBVj3bEbCoZbDjjl9wTxcygko1.jpg\" width=\"340\" alt=Doctor Strange ></td>\n",
       "      <td><img src=\"http://image.tmdb.org/t/p/w500/wFSpyMsp7H0ttERbxY7Trlv8xry.jpg\" width=\"340\" alt=Monsters, Inc. ></td>\n",
       "      <td><img src=\"http://image.tmdb.org/t/p/w500/RYMX2wcKCBAr24UyPD7xwmjaTn.jpg\" width=\"340\" alt=Avengers, The ></td>\n",
       "      <td><img src=\"http://image.tmdb.org/t/p/w500/qJ2tW6WMUDux911r6m7haRef0WH.jpg\" width=\"340\" alt=Dark Knight, The ></td>\n",
       "      <td><img src=\"http://image.tmdb.org/t/p/w500/AbbXspMOwdvwWZgVN0nabZq03Ec.jpg\" width=\"340\" alt=Toy Story 3 ></td>\n",
       "      <td><img src=\"http://image.tmdb.org/t/p/w500/oYuLEt3zVCKq57qu2F8dT7NIa6f.jpg\" width=\"340\" alt=Inception ></td>\n",
       "      <td><img src=\"http://image.tmdb.org/t/p/w500/gEU2QniE6E77NI6lCU6MxlNBvIx.jpg\" width=\"340\" alt=Interstellar ></td>\n",
       "      <td><img src=\"http://image.tmdb.org/t/p/w500/wp6OxE4poJ4G7c0U2ZIXasTSMR7.jpg\" width=\"340\" alt=Thor: The Dark World ></td>\n",
       "      <td><img src=\"http://image.tmdb.org/t/p/w500/k0inzQmt7kATmAGns0wdfjiFxSu.jpg\" width=\"340\" alt=Insomnia ></td>\n",
       "      <td><img src=\"http://image.tmdb.org/t/p/w500/eHuGQ10FUzK1mdOY69wF5pGgEf5.jpg\" width=\"340\" alt=Finding Nemo ></td>\n",
       "      <td><img src=\"http://image.tmdb.org/t/p/w500/vSNxAJTlD0r02V9sPYpOjqDZXUK.jpg\" width=\"340\" alt=Captain America: The First Avenger ></td>\n",
       "      <td><img src=\"http://image.tmdb.org/t/p/w500/yuNs09hvpHVU1cBTCAk9zxsL2oW.jpg\" width=\"340\" alt=Memento ></td>\n",
       "      <td><img src=\"http://image.tmdb.org/t/p/w500/2LqaLgk4Z226KkgPJuiOQ58wvrm.jpg\" width=\"340\" alt=Incredibles, The ></td>\n",
       "      <td><img src=\"http://image.tmdb.org/t/p/w500/t3vaWRPSf6WjDSamIkKDs1iQWna.jpg\" width=\"340\" alt=Ratatouille ></td>\n",
       "      <td><img src=\"http://image.tmdb.org/t/p/w500/fnbjcRDYn6YviCcePDnGdyAkYsB.jpg\" width=\"340\" alt=Logan ></td>\n",
       "      <td><img src=\"http://image.tmdb.org/t/p/w500/jIfkQNARYyERqRAq1p1c8xgePp4.jpg\" width=\"340\" alt=Amazing Spider-Man, The ></td>\n",
       "      <td><img src=\"http://image.tmdb.org/t/p/w500/r2J02Z2OpNTctfOSN1Ydgii51I3.jpg\" width=\"340\" alt=Guardians of the Galaxy ></td>\n",
       "      <td><img src=\"http://image.tmdb.org/t/p/w500/ys0jZr0quHERDUEoCboGQEKPvgQ.jpg\" width=\"340\" alt=Moana ></td>\n",
       "      <td><img src=\"http://image.tmdb.org/t/p/w500/3UVe8NL1E2ZdUZ9EDlKGJY5UzE.jpg\" width=\"340\" alt=Finding Dory ></td>\n",
       "      <td><img src=\"http://image.tmdb.org/t/p/w500/b4Oe15CGLL61Ped0RAS9JpqdmCt.jpg\" width=\"340\" alt=Dunkirk ></td>\n",
       "      <td><img src=\"http://image.tmdb.org/t/p/w500/rAGiXaUfPzY7CDEyNKUofk3Kw2e.jpg\" width=\"340\" alt=Captain America: Civil War ></td>\n",
       "      <td><img src=\"http://image.tmdb.org/t/p/w500/8YxOIPrabqkQCOKKbuxaz9IcqhO.jpg\" width=\"340\" alt=Ant-Man ></td>\n",
       "      <td><img src=\"http://image.tmdb.org/t/p/w500/4ssDuvEDkSArWEdyBl2X5EHvYKU.jpg\" width=\"340\" alt=Avengers: Age of Ultron ></td>\n",
       "      <td><img src=\"http://image.tmdb.org/t/p/w500/snGwr2gag4Fcgx2OGmH9otl6ofW.jpg\" width=\"340\" alt=The Lego Movie ></td>\n",
       "      <td><img src=\"http://image.tmdb.org/t/p/w500/ykUEbfpkf8d0w49pHh0AD2KrT52.jpg\" width=\"340\" alt=Aladdin ></td>\n",
       "      <td><img src=\"http://image.tmdb.org/t/p/w500/tVFRpFw3xTedgPGqxW0AOI8Qhh0.jpg\" width=\"340\" alt=Captain America: The Winter Soldier ></td>\n",
       "      <td><img src=\"http://image.tmdb.org/t/p/w500/dGjoPttcbKR5VWg1jQuNFB247KL.jpg\" width=\"340\" alt=The Amazing Spider-Man 2 ></td>\n",
       "      <td><img src=\"http://image.tmdb.org/t/p/w500/gGEsBPAijhVUFoiNpgZXqRVWJt2.jpg\" width=\"340\" alt=Coco ></td>\n",
       "      <td><img src=\"http://image.tmdb.org/t/p/w500/6WBeq4fCfn7AN0o21W9qNcRF2l9.jpg\" width=\"340\" alt=Iron Man 2 ></td>\n",
       "      <td><img src=\"http://image.tmdb.org/t/p/w500/vpbaStTMt8qqXaEgnOR2EE4DNJk.jpg\" width=\"340\" alt=Up! ></td>\n",
       "      <td><img src=\"http://image.tmdb.org/t/p/w500/78lPtwv72eTNqFW9COBYI0dWDJa.jpg\" width=\"340\" alt=Iron Man ></td>\n",
       "      <td><img src=\"http://image.tmdb.org/t/p/w500/v3bkmfSuhrFEdW6svkMQorFOAl9.jpg\" width=\"340\" alt=Falling Up ></td>\n",
       "    </tr>\n",
       "    <tr>\n",
       "      <th>Genres</th>\n",
       "      <td><ul><li style=\"text-align:left;vertical-align:top;\">Adventure</li><li style=\"text-align:left;vertical-align:top;\">Animation</li><li style=\"text-align:left;vertical-align:top;\">Children</li><li style=\"text-align:left;vertical-align:top;\">Comedy</li><li style=\"text-align:left;vertical-align:top;\">Fantasy</li></ul></td>\n",
       "      <td><ul><li style=\"text-align:left;vertical-align:top;\">Action</li><li style=\"text-align:left;vertical-align:top;\">Adventure</li><li style=\"text-align:left;vertical-align:top;\">Sci-fi</li></ul></td>\n",
       "      <td><ul><li style=\"text-align:left;vertical-align:top;\">Action</li><li style=\"text-align:left;vertical-align:top;\">Sci-fi</li><li style=\"text-align:left;vertical-align:top;\">Thriller</li><li style=\"text-align:left;vertical-align:top;\">Imax</li></ul></td>\n",
       "      <td><ul><li style=\"text-align:left;vertical-align:top;\">Adventure</li><li style=\"text-align:left;vertical-align:top;\">Animation</li><li style=\"text-align:left;vertical-align:top;\">Children</li><li style=\"text-align:left;vertical-align:top;\">Comedy</li><li style=\"text-align:left;vertical-align:top;\">Fantasy</li></ul></td>\n",
       "      <td><ul><li style=\"text-align:left;vertical-align:top;\">Action</li><li style=\"text-align:left;vertical-align:top;\">Adventure</li><li style=\"text-align:left;vertical-align:top;\">Animation</li><li style=\"text-align:left;vertical-align:top;\">Children</li><li style=\"text-align:left;vertical-align:top;\">Comedy</li></ul></td>\n",
       "      <td><ul><li style=\"text-align:left;vertical-align:top;\">Drama</li><li style=\"text-align:left;vertical-align:top;\">Mystery</li><li style=\"text-align:left;vertical-align:top;\">Sci-fi</li><li style=\"text-align:left;vertical-align:top;\">Thriller</li></ul></td>\n",
       "      <td><ul><li style=\"text-align:left;vertical-align:top;\">Adventure</li><li style=\"text-align:left;vertical-align:top;\">Animation</li><li style=\"text-align:left;vertical-align:top;\">Children</li><li style=\"text-align:left;vertical-align:top;\">Comedy</li><li style=\"text-align:left;vertical-align:top;\">Drama</li><li style=\"text-align:left;vertical-align:top;\">Fantasy</li></ul></td>\n",
       "      <td><ul><li style=\"text-align:left;vertical-align:top;\">Action</li><li style=\"text-align:left;vertical-align:top;\">Adventure</li><li style=\"text-align:left;vertical-align:top;\">Sci-fi</li></ul></td>\n",
       "      <td><ul><li style=\"text-align:left;vertical-align:top;\">Adventure</li><li style=\"text-align:left;vertical-align:top;\">Animation</li><li style=\"text-align:left;vertical-align:top;\">Children</li><li style=\"text-align:left;vertical-align:top;\">Comedy</li><li style=\"text-align:left;vertical-align:top;\">Fantasy</li></ul></td>\n",
       "      <td><ul><li style=\"text-align:left;vertical-align:top;\">Action</li><li style=\"text-align:left;vertical-align:top;\">Adventure</li></ul></td>\n",
       "      <td><ul><li style=\"text-align:left;vertical-align:top;\">Action</li><li style=\"text-align:left;vertical-align:top;\">Crime</li><li style=\"text-align:left;vertical-align:top;\">Drama</li><li style=\"text-align:left;vertical-align:top;\">Imax</li></ul></td>\n",
       "      <td><ul><li style=\"text-align:left;vertical-align:top;\">Adventure</li><li style=\"text-align:left;vertical-align:top;\">Animation</li><li style=\"text-align:left;vertical-align:top;\">Children</li><li style=\"text-align:left;vertical-align:top;\">Comedy</li><li style=\"text-align:left;vertical-align:top;\">Fantasy</li><li style=\"text-align:left;vertical-align:top;\">Imax</li></ul></td>\n",
       "      <td><ul><li style=\"text-align:left;vertical-align:top;\">Action</li><li style=\"text-align:left;vertical-align:top;\">Crime</li><li style=\"text-align:left;vertical-align:top;\">Drama</li><li style=\"text-align:left;vertical-align:top;\">Mystery</li><li style=\"text-align:left;vertical-align:top;\">Sci-fi</li><li style=\"text-align:left;vertical-align:top;\">Thriller</li><li style=\"text-align:left;vertical-align:top;\">Imax</li></ul></td>\n",
       "      <td><ul><li style=\"text-align:left;vertical-align:top;\">Sci-fi</li><li style=\"text-align:left;vertical-align:top;\">Imax</li></ul></td>\n",
       "      <td><ul><li style=\"text-align:left;vertical-align:top;\">Action</li><li style=\"text-align:left;vertical-align:top;\">Adventure</li><li style=\"text-align:left;vertical-align:top;\">Fantasy</li><li style=\"text-align:left;vertical-align:top;\">Imax</li></ul></td>\n",
       "      <td><ul><li style=\"text-align:left;vertical-align:top;\">Drama</li><li style=\"text-align:left;vertical-align:top;\">Mystery</li><li style=\"text-align:left;vertical-align:top;\">Thriller</li></ul></td>\n",
       "      <td><ul><li style=\"text-align:left;vertical-align:top;\">Adventure</li><li style=\"text-align:left;vertical-align:top;\">Animation</li><li style=\"text-align:left;vertical-align:top;\">Children</li><li style=\"text-align:left;vertical-align:top;\">Comedy</li></ul></td>\n",
       "      <td><ul><li style=\"text-align:left;vertical-align:top;\">Action</li><li style=\"text-align:left;vertical-align:top;\">Adventure</li><li style=\"text-align:left;vertical-align:top;\">Sci-fi</li><li style=\"text-align:left;vertical-align:top;\">Thriller</li><li style=\"text-align:left;vertical-align:top;\">War</li></ul></td>\n",
       "      <td><ul><li style=\"text-align:left;vertical-align:top;\">Mystery</li><li style=\"text-align:left;vertical-align:top;\">Thriller</li></ul></td>\n",
       "      <td><ul><li style=\"text-align:left;vertical-align:top;\">Action</li><li style=\"text-align:left;vertical-align:top;\">Adventure</li><li style=\"text-align:left;vertical-align:top;\">Animation</li><li style=\"text-align:left;vertical-align:top;\">Children</li><li style=\"text-align:left;vertical-align:top;\">Comedy</li></ul></td>\n",
       "      <td><ul><li style=\"text-align:left;vertical-align:top;\">Animation</li><li style=\"text-align:left;vertical-align:top;\">Children</li><li style=\"text-align:left;vertical-align:top;\">Drama</li></ul></td>\n",
       "      <td><ul><li style=\"text-align:left;vertical-align:top;\">Action</li><li style=\"text-align:left;vertical-align:top;\">Sci-fi</li></ul></td>\n",
       "      <td><ul><li style=\"text-align:left;vertical-align:top;\">Action</li><li style=\"text-align:left;vertical-align:top;\">Adventure</li><li style=\"text-align:left;vertical-align:top;\">Sci-fi</li><li style=\"text-align:left;vertical-align:top;\">Imax</li></ul></td>\n",
       "      <td><ul><li style=\"text-align:left;vertical-align:top;\">Action</li><li style=\"text-align:left;vertical-align:top;\">Adventure</li><li style=\"text-align:left;vertical-align:top;\">Sci-fi</li></ul></td>\n",
       "      <td><ul><li style=\"text-align:left;vertical-align:top;\">Adventure</li><li style=\"text-align:left;vertical-align:top;\">Animation</li><li style=\"text-align:left;vertical-align:top;\">Children</li><li style=\"text-align:left;vertical-align:top;\">Comedy</li><li style=\"text-align:left;vertical-align:top;\">Fantasy</li></ul></td>\n",
       "      <td><ul><li style=\"text-align:left;vertical-align:top;\">Adventure</li><li style=\"text-align:left;vertical-align:top;\">Animation</li><li style=\"text-align:left;vertical-align:top;\">Comedy</li></ul></td>\n",
       "      <td><ul><li style=\"text-align:left;vertical-align:top;\">War</li></ul></td>\n",
       "      <td><ul><li style=\"text-align:left;vertical-align:top;\">Action</li><li style=\"text-align:left;vertical-align:top;\">Sci-fi</li><li style=\"text-align:left;vertical-align:top;\">Thriller</li></ul></td>\n",
       "      <td><ul><li style=\"text-align:left;vertical-align:top;\">Action</li><li style=\"text-align:left;vertical-align:top;\">Adventure</li><li style=\"text-align:left;vertical-align:top;\">Sci-fi</li></ul></td>\n",
       "      <td><ul><li style=\"text-align:left;vertical-align:top;\">Action</li><li style=\"text-align:left;vertical-align:top;\">Adventure</li><li style=\"text-align:left;vertical-align:top;\">Sci-fi</li></ul></td>\n",
       "      <td><ul><li style=\"text-align:left;vertical-align:top;\">Action</li><li style=\"text-align:left;vertical-align:top;\">Adventure</li><li style=\"text-align:left;vertical-align:top;\">Animation</li><li style=\"text-align:left;vertical-align:top;\">Children</li><li style=\"text-align:left;vertical-align:top;\">Comedy</li><li style=\"text-align:left;vertical-align:top;\">Fantasy</li></ul></td>\n",
       "      <td><ul><li style=\"text-align:left;vertical-align:top;\">Adventure</li><li style=\"text-align:left;vertical-align:top;\">Animation</li><li style=\"text-align:left;vertical-align:top;\">Children</li><li style=\"text-align:left;vertical-align:top;\">Comedy</li><li style=\"text-align:left;vertical-align:top;\">Fantasy</li></ul></td>\n",
       "      <td><ul><li style=\"text-align:left;vertical-align:top;\">Action</li><li style=\"text-align:left;vertical-align:top;\">Adventure</li><li style=\"text-align:left;vertical-align:top;\">Sci-fi</li><li style=\"text-align:left;vertical-align:top;\">Imax</li></ul></td>\n",
       "      <td><ul><li style=\"text-align:left;vertical-align:top;\">Action</li><li style=\"text-align:left;vertical-align:top;\">Sci-fi</li><li style=\"text-align:left;vertical-align:top;\">Imax</li></ul></td>\n",
       "      <td><ul><li style=\"text-align:left;vertical-align:top;\">Comedy</li></ul></td>\n",
       "      <td><ul><li style=\"text-align:left;vertical-align:top;\">Action</li><li style=\"text-align:left;vertical-align:top;\">Adventure</li><li style=\"text-align:left;vertical-align:top;\">Sci-fi</li><li style=\"text-align:left;vertical-align:top;\">Thriller</li><li style=\"text-align:left;vertical-align:top;\">Imax</li></ul></td>\n",
       "      <td><ul><li style=\"text-align:left;vertical-align:top;\">Comedy</li></ul></td>\n",
       "      <td><ul><li style=\"text-align:left;vertical-align:top;\">Action</li><li style=\"text-align:left;vertical-align:top;\">Adventure</li><li style=\"text-align:left;vertical-align:top;\">Sci-fi</li></ul></td>\n",
       "      <td><ul><li style=\"text-align:left;vertical-align:top;\">Comedy</li><li style=\"text-align:left;vertical-align:top;\">Drama</li><li style=\"text-align:left;vertical-align:top;\">Romance</li></ul></td>\n",
       "    </tr>\n",
       "    <tr>\n",
       "      <th>Rating</th>\n",
       "      <td>5.0</td>\n",
       "      <td>5.0</td>\n",
       "      <td>5.0</td>\n",
       "      <td>5.0</td>\n",
       "      <td>5.0</td>\n",
       "      <td>5.0</td>\n",
       "      <td>5.0</td>\n",
       "      <td>5.0</td>\n",
       "      <td>5.0</td>\n",
       "      <td>5.0</td>\n",
       "      <td>5.0</td>\n",
       "      <td>5.0</td>\n",
       "      <td>5.0</td>\n",
       "      <td>5.0</td>\n",
       "      <td>5.0</td>\n",
       "      <td>4.0</td>\n",
       "      <td>4.0</td>\n",
       "      <td>4.0</td>\n",
       "      <td>4.0</td>\n",
       "      <td>4.0</td>\n",
       "      <td>4.0</td>\n",
       "      <td>4.0</td>\n",
       "      <td>4.0</td>\n",
       "      <td>4.0</td>\n",
       "      <td>4.0</td>\n",
       "      <td>4.0</td>\n",
       "      <td>4.0</td>\n",
       "      <td>4.0</td>\n",
       "      <td>4.0</td>\n",
       "      <td>4.0</td>\n",
       "      <td>4.0</td>\n",
       "      <td>4.0</td>\n",
       "      <td>4.0</td>\n",
       "      <td>3.0</td>\n",
       "      <td>3.0</td>\n",
       "      <td>3.0</td>\n",
       "      <td>3.0</td>\n",
       "      <td>3.0</td>\n",
       "      <td>2.0</td>\n",
       "    </tr>\n",
       "  </tbody>\n",
       "</table>"
      ],
      "text/plain": [
       "<IPython.core.display.HTML object>"
      ]
     },
     "metadata": {},
     "output_type": "display_data"
    }
   ],
   "source": [
    "recommendations.show_seen()"
   ]
  },
  {
   "cell_type": "code",
   "execution_count": 100,
   "id": "ab1f0c0a-4d68-49c7-bf56-a33c4bb7b41f",
   "metadata": {
    "tags": []
   },
   "outputs": [
    {
     "data": {
      "text/html": [
       "<h2>Recommendations</h2>"
      ],
      "text/plain": [
       "<IPython.core.display.HTML object>"
      ]
     },
     "metadata": {},
     "output_type": "display_data"
    },
    {
     "data": {
      "text/html": [
       "<h4><b>Tags:</b> <b>drama</b>(4), <b>sci-fi</b>(4), <b>comedy</b>(4), <b>action</b>(3), <b>war</b>(2), <b>thriller</b>(2), <b>adventure</b>(2), <b>horror</b>(2), <b>animation</b>(1), <b>fantasy</b>(1), <b>romance</b>(1)</h4>"
      ],
      "text/plain": [
       "<IPython.core.display.HTML object>"
      ]
     },
     "metadata": {},
     "output_type": "display_data"
    },
    {
     "data": {
      "text/html": [
       "<table border=\"1\" class=\"dataframe\">\n",
       "  <thead>\n",
       "    <tr style=\"text-align: right;\">\n",
       "      <th></th>\n",
       "      <th>0</th>\n",
       "      <th>1</th>\n",
       "      <th>2</th>\n",
       "      <th>3</th>\n",
       "      <th>4</th>\n",
       "      <th>5</th>\n",
       "      <th>6</th>\n",
       "      <th>7</th>\n",
       "      <th>8</th>\n",
       "      <th>9</th>\n",
       "    </tr>\n",
       "  </thead>\n",
       "  <tbody>\n",
       "    <tr>\n",
       "      <th>Poster</th>\n",
       "      <td><img src=\"http://image.tmdb.org/t/p/w500/jcStBvbQt78tPeId5hC7a9jcDOK.jpg\" width=\"340\" alt=Hacksaw Ridge ></td>\n",
       "      <td><img src=\"http://image.tmdb.org/t/p/w500/f89U3ADr1oiB1s9GkdPOEpXUk5H.jpg\" width=\"340\" alt=Matrix, The ></td>\n",
       "      <td><img src=\"http://image.tmdb.org/t/p/w500/lSSA64WF0M0BXnjwr2quMh6shCl.jpg\" width=\"340\" alt=Monty Python's Life of Brian ></td>\n",
       "      <td><img src=\"http://image.tmdb.org/t/p/w500/fNOH9f1aA7XRTzl1sAOx9iF553Q.jpg\" width=\"340\" alt=Back to the Future ></td>\n",
       "      <td><img src=\"http://image.tmdb.org/t/p/w500/cMYCDADoLKLbB83g4WnJegaZimC.jpg\" width=\"340\" alt=Princess Mononoke ></td>\n",
       "      <td><img src=\"http://image.tmdb.org/t/p/w500/vfrQk5IPloGg1v9Rzbh2Eg3VGyM.jpg\" width=\"340\" alt=Alien ></td>\n",
       "      <td><img src=\"http://image.tmdb.org/t/p/w500/oR3tbNzJMJmCKS5O5fanU9yxIOk.jpg\" width=\"340\" alt=Who Am I ></td>\n",
       "      <td><img src=\"http://image.tmdb.org/t/p/w500/ggcBBYgnwrRAdx2vTthSAZDfrrk.jpg\" width=\"340\" alt=Ghostbusters ></td>\n",
       "      <td><img src=\"http://image.tmdb.org/t/p/w500/4TE8gM826e1OU62AErJ5LS4F1os.jpg\" width=\"340\" alt=Only Old Men Are Going to Battle ></td>\n",
       "      <td><img src=\"http://image.tmdb.org/t/p/w500/kffoWJ7FfPRlFFBGixOMbq3blQp.jpg\" width=\"340\" alt=Only Lovers Left Alive ></td>\n",
       "    </tr>\n",
       "    <tr>\n",
       "      <th>Genres</th>\n",
       "      <td><ul><li style=\"text-align:left;vertical-align:top;\">Drama</li><li style=\"text-align:left;vertical-align:top;\">War</li></ul></td>\n",
       "      <td><ul><li style=\"text-align:left;vertical-align:top;\">Action</li><li style=\"text-align:left;vertical-align:top;\">Sci-fi</li><li style=\"text-align:left;vertical-align:top;\">Thriller</li></ul></td>\n",
       "      <td><ul><li style=\"text-align:left;vertical-align:top;\">Comedy</li></ul></td>\n",
       "      <td><ul><li style=\"text-align:left;vertical-align:top;\">Adventure</li><li style=\"text-align:left;vertical-align:top;\">Comedy</li><li style=\"text-align:left;vertical-align:top;\">Sci-fi</li></ul></td>\n",
       "      <td><ul><li style=\"text-align:left;vertical-align:top;\">Action</li><li style=\"text-align:left;vertical-align:top;\">Adventure</li><li style=\"text-align:left;vertical-align:top;\">Animation</li><li style=\"text-align:left;vertical-align:top;\">Drama</li><li style=\"text-align:left;vertical-align:top;\">Fantasy</li></ul></td>\n",
       "      <td><ul><li style=\"text-align:left;vertical-align:top;\">Horror</li><li style=\"text-align:left;vertical-align:top;\">Sci-fi</li></ul></td>\n",
       "      <td><ul><li style=\"text-align:left;vertical-align:top;\">Thriller</li></ul></td>\n",
       "      <td><ul><li style=\"text-align:left;vertical-align:top;\">Action</li><li style=\"text-align:left;vertical-align:top;\">Comedy</li><li style=\"text-align:left;vertical-align:top;\">Sci-fi</li></ul></td>\n",
       "      <td><ul><li style=\"text-align:left;vertical-align:top;\">Comedy</li><li style=\"text-align:left;vertical-align:top;\">Drama</li><li style=\"text-align:left;vertical-align:top;\">War</li></ul></td>\n",
       "      <td><ul><li style=\"text-align:left;vertical-align:top;\">Drama</li><li style=\"text-align:left;vertical-align:top;\">Horror</li><li style=\"text-align:left;vertical-align:top;\">Romance</li></ul></td>\n",
       "    </tr>\n",
       "    <tr>\n",
       "      <th>Mean Rating</th>\n",
       "      <td>3.864865</td>\n",
       "      <td>4.272401</td>\n",
       "      <td>4.044776</td>\n",
       "      <td>4.101064</td>\n",
       "      <td>4.217687</td>\n",
       "      <td>4.132479</td>\n",
       "      <td>3.964286</td>\n",
       "      <td>3.786517</td>\n",
       "      <td>4.25</td>\n",
       "      <td>4.225</td>\n",
       "    </tr>\n",
       "    <tr>\n",
       "      <th>Predicted Rating</th>\n",
       "      <td>4.854262</td>\n",
       "      <td>4.794106</td>\n",
       "      <td>4.772671</td>\n",
       "      <td>4.655716</td>\n",
       "      <td>4.526951</td>\n",
       "      <td>4.516483</td>\n",
       "      <td>4.507064</td>\n",
       "      <td>4.494987</td>\n",
       "      <td>4.484792</td>\n",
       "      <td>4.466183</td>\n",
       "    </tr>\n",
       "    <tr>\n",
       "      <th>User sim weighted rating score</th>\n",
       "      <td>0.850376</td>\n",
       "      <td>0.939087</td>\n",
       "      <td>0.888857</td>\n",
       "      <td>0.901674</td>\n",
       "      <td>0.926805</td>\n",
       "      <td>0.90844</td>\n",
       "      <td>0.871099</td>\n",
       "      <td>0.831952</td>\n",
       "      <td>0.933881</td>\n",
       "      <td>0.928098</td>\n",
       "    </tr>\n",
       "    <tr>\n",
       "      <th>User sim weighted predicted rating score</th>\n",
       "      <td>0.990123</td>\n",
       "      <td>0.976856</td>\n",
       "      <td>0.972273</td>\n",
       "      <td>0.948918</td>\n",
       "      <td>0.922166</td>\n",
       "      <td>0.920398</td>\n",
       "      <td>0.918091</td>\n",
       "      <td>0.915537</td>\n",
       "      <td>0.913554</td>\n",
       "      <td>0.909479</td>\n",
       "    </tr>\n",
       "    <tr>\n",
       "      <th>User Item Similarity</th>\n",
       "      <td>0.990123</td>\n",
       "      <td>0.989114</td>\n",
       "      <td>0.988894</td>\n",
       "      <td>0.989386</td>\n",
       "      <td>0.988841</td>\n",
       "      <td>0.989232</td>\n",
       "      <td>0.988815</td>\n",
       "      <td>0.988715</td>\n",
       "      <td>0.988815</td>\n",
       "      <td>0.988506</td>\n",
       "    </tr>\n",
       "  </tbody>\n",
       "</table>"
      ],
      "text/plain": [
       "<IPython.core.display.HTML object>"
      ]
     },
     "metadata": {},
     "output_type": "display_data"
    },
    {
     "data": {
      "text/html": [
       "<h5><b>Generated by</b> DatabaseUserItemFilteringRecommender.</h5>"
      ],
      "text/plain": [
       "<IPython.core.display.HTML object>"
      ]
     },
     "metadata": {},
     "output_type": "display_data"
    }
   ],
   "source": [
    "recommendations.show(\n",
    "    sort_by        = ['user_sim_weighted_pred_rating_score'],\n",
    "    k              = 10\n",
    ")"
   ]
  },
  {
   "cell_type": "markdown",
   "id": "c4e55c54-2961-493a-a1b2-e8a7e14f7ba9",
   "metadata": {
    "tags": []
   },
   "source": [
    "### Notes\n",
    "* Movies seen by similar users weighted by user predicted rating.\n",
    "* Ordered by **User sim weighted predicted rating score**.\n",
    "* **User sim weighted predicted rating score** = similar_user_similarity(0..1) * user_predicted_rating (Normalize to 0..1)"
   ]
  },
  {
   "cell_type": "code",
   "execution_count": 101,
   "id": "a5cb1e0a-71cb-48ea-83a9-1cb89bd5dd89",
   "metadata": {
    "tags": []
   },
   "outputs": [
    {
     "data": {
      "text/html": [
       "<h2>Recommendations</h2>"
      ],
      "text/plain": [
       "<IPython.core.display.HTML object>"
      ]
     },
     "metadata": {},
     "output_type": "display_data"
    },
    {
     "data": {
      "text/html": [
       "<h4><b>Tags:</b> <b>drama</b>(6), <b>comedy</b>(3), <b>action</b>(3), <b>sci-fi</b>(3), <b>romance</b>(2), <b>horror</b>(2), <b>adventure</b>(2), <b>thriller</b>(1), <b>war</b>(1), <b>animation</b>(1), <b>fantasy</b>(1), <b>crime</b>(1)</h4>"
      ],
      "text/plain": [
       "<IPython.core.display.HTML object>"
      ]
     },
     "metadata": {},
     "output_type": "display_data"
    },
    {
     "data": {
      "text/html": [
       "<table border=\"1\" class=\"dataframe\">\n",
       "  <thead>\n",
       "    <tr style=\"text-align: right;\">\n",
       "      <th></th>\n",
       "      <th>0</th>\n",
       "      <th>1</th>\n",
       "      <th>2</th>\n",
       "      <th>3</th>\n",
       "      <th>4</th>\n",
       "      <th>5</th>\n",
       "      <th>6</th>\n",
       "      <th>7</th>\n",
       "      <th>8</th>\n",
       "      <th>9</th>\n",
       "    </tr>\n",
       "  </thead>\n",
       "  <tbody>\n",
       "    <tr>\n",
       "      <th>Poster</th>\n",
       "      <td><img src=\"http://image.tmdb.org/t/p/w500/iFMyZw1DTGvZ8hPa0eTseSFiRT1.jpg\" width=\"340\" alt=Bangalore Days ></td>\n",
       "      <td><img src=\"http://image.tmdb.org/t/p/w500/ow3wq89wM8qd5X7hWKxiRfsFf9C.jpg\" width=\"340\" alt=12 Angry Men ></td>\n",
       "      <td><img src=\"http://image.tmdb.org/t/p/w500/f89U3ADr1oiB1s9GkdPOEpXUk5H.jpg\" width=\"340\" alt=Matrix, The ></td>\n",
       "      <td><img src=\"http://image.tmdb.org/t/p/w500/vnUzbdtqkudKSBgX0KGivfpdYNB.jpg\" width=\"340\" alt=George Carlin: Jammin' in New York ></td>\n",
       "      <td><img src=\"http://image.tmdb.org/t/p/w500/4TE8gM826e1OU62AErJ5LS4F1os.jpg\" width=\"340\" alt=Only Old Men Are Going to Battle ></td>\n",
       "      <td><img src=\"http://image.tmdb.org/t/p/w500/kffoWJ7FfPRlFFBGixOMbq3blQp.jpg\" width=\"340\" alt=Only Lovers Left Alive ></td>\n",
       "      <td><img src=\"http://image.tmdb.org/t/p/w500/cMYCDADoLKLbB83g4WnJegaZimC.jpg\" width=\"340\" alt=Princess Mononoke ></td>\n",
       "      <td><img src=\"http://image.tmdb.org/t/p/w500/nNAeTmF4CtdSgMDplXTDPOpYzsX.jpg\" width=\"340\" alt=Star Wars: Episode V - The Empire Strikes Back ></td>\n",
       "      <td><img src=\"http://image.tmdb.org/t/p/w500/aKuFiU82s5ISJpGZp7YkIr3kCUd.jpg\" width=\"340\" alt=Goodfellas ></td>\n",
       "      <td><img src=\"http://image.tmdb.org/t/p/w500/vfrQk5IPloGg1v9Rzbh2Eg3VGyM.jpg\" width=\"340\" alt=Alien ></td>\n",
       "    </tr>\n",
       "    <tr>\n",
       "      <th>Genres</th>\n",
       "      <td><ul><li style=\"text-align:left;vertical-align:top;\">Comedy</li><li style=\"text-align:left;vertical-align:top;\">Drama</li><li style=\"text-align:left;vertical-align:top;\">Romance</li></ul></td>\n",
       "      <td><ul><li style=\"text-align:left;vertical-align:top;\">Drama</li></ul></td>\n",
       "      <td><ul><li style=\"text-align:left;vertical-align:top;\">Action</li><li style=\"text-align:left;vertical-align:top;\">Sci-fi</li><li style=\"text-align:left;vertical-align:top;\">Thriller</li></ul></td>\n",
       "      <td><ul><li style=\"text-align:left;vertical-align:top;\">Comedy</li></ul></td>\n",
       "      <td><ul><li style=\"text-align:left;vertical-align:top;\">Comedy</li><li style=\"text-align:left;vertical-align:top;\">Drama</li><li style=\"text-align:left;vertical-align:top;\">War</li></ul></td>\n",
       "      <td><ul><li style=\"text-align:left;vertical-align:top;\">Drama</li><li style=\"text-align:left;vertical-align:top;\">Horror</li><li style=\"text-align:left;vertical-align:top;\">Romance</li></ul></td>\n",
       "      <td><ul><li style=\"text-align:left;vertical-align:top;\">Action</li><li style=\"text-align:left;vertical-align:top;\">Adventure</li><li style=\"text-align:left;vertical-align:top;\">Animation</li><li style=\"text-align:left;vertical-align:top;\">Drama</li><li style=\"text-align:left;vertical-align:top;\">Fantasy</li></ul></td>\n",
       "      <td><ul><li style=\"text-align:left;vertical-align:top;\">Action</li><li style=\"text-align:left;vertical-align:top;\">Adventure</li><li style=\"text-align:left;vertical-align:top;\">Sci-fi</li></ul></td>\n",
       "      <td><ul><li style=\"text-align:left;vertical-align:top;\">Crime</li><li style=\"text-align:left;vertical-align:top;\">Drama</li></ul></td>\n",
       "      <td><ul><li style=\"text-align:left;vertical-align:top;\">Horror</li><li style=\"text-align:left;vertical-align:top;\">Sci-fi</li></ul></td>\n",
       "    </tr>\n",
       "    <tr>\n",
       "      <th>Mean Rating</th>\n",
       "      <td>4.5</td>\n",
       "      <td>4.310345</td>\n",
       "      <td>4.272401</td>\n",
       "      <td>4.25</td>\n",
       "      <td>4.25</td>\n",
       "      <td>4.225</td>\n",
       "      <td>4.217687</td>\n",
       "      <td>4.208738</td>\n",
       "      <td>4.143617</td>\n",
       "      <td>4.132479</td>\n",
       "    </tr>\n",
       "    <tr>\n",
       "      <th>Predicted Rating</th>\n",
       "      <td>4.365303</td>\n",
       "      <td>4.462064</td>\n",
       "      <td>4.794106</td>\n",
       "      <td>4.009136</td>\n",
       "      <td>4.484792</td>\n",
       "      <td>4.466183</td>\n",
       "      <td>4.526951</td>\n",
       "      <td>4.387161</td>\n",
       "      <td>4.455455</td>\n",
       "      <td>4.516483</td>\n",
       "    </tr>\n",
       "    <tr>\n",
       "      <th>User sim weighted rating score</th>\n",
       "      <td>0.98934</td>\n",
       "      <td>0.946852</td>\n",
       "      <td>0.939087</td>\n",
       "      <td>0.934492</td>\n",
       "      <td>0.933881</td>\n",
       "      <td>0.928098</td>\n",
       "      <td>0.926805</td>\n",
       "      <td>0.924532</td>\n",
       "      <td>0.910592</td>\n",
       "      <td>0.90844</td>\n",
       "    </tr>\n",
       "    <tr>\n",
       "      <th>User sim weighted predicted rating score</th>\n",
       "      <td>0.889686</td>\n",
       "      <td>0.908647</td>\n",
       "      <td>0.976856</td>\n",
       "      <td>0.817197</td>\n",
       "      <td>0.913554</td>\n",
       "      <td>0.909479</td>\n",
       "      <td>0.922166</td>\n",
       "      <td>0.893394</td>\n",
       "      <td>0.907665</td>\n",
       "      <td>0.920398</td>\n",
       "    </tr>\n",
       "    <tr>\n",
       "      <th>User Item Similarity</th>\n",
       "      <td>0.98934</td>\n",
       "      <td>0.988513</td>\n",
       "      <td>0.989114</td>\n",
       "      <td>0.989462</td>\n",
       "      <td>0.988815</td>\n",
       "      <td>0.988506</td>\n",
       "      <td>0.988841</td>\n",
       "      <td>0.988513</td>\n",
       "      <td>0.98891</td>\n",
       "      <td>0.989232</td>\n",
       "    </tr>\n",
       "  </tbody>\n",
       "</table>"
      ],
      "text/plain": [
       "<IPython.core.display.HTML object>"
      ]
     },
     "metadata": {},
     "output_type": "display_data"
    },
    {
     "data": {
      "text/html": [
       "<h5><b>Generated by</b> DatabaseUserItemFilteringRecommender.</h5>"
      ],
      "text/plain": [
       "<IPython.core.display.HTML object>"
      ]
     },
     "metadata": {},
     "output_type": "display_data"
    }
   ],
   "source": [
    "recommendations.show(\n",
    "    sort_by        = ['user_sim_weighted_rating_score'],\n",
    "    k              = 10\n",
    ")"
   ]
  },
  {
   "cell_type": "markdown",
   "id": "23bdf26f-e636-432e-ac46-7531dfa5caeb",
   "metadata": {},
   "source": [
    "### Notes\n",
    "* Movies seen by similar users weighted by movie mean rating.\n",
    "* Ordered by **User sim weighted rating score**.\n",
    "* **User sim weighted rating score** = similar_user_similarity(0..1) * mean_movie_rating (Normalize to 0..1) "
   ]
  },
  {
   "cell_type": "code",
   "execution_count": 102,
   "id": "4c4c8c5c-5bb5-488f-9cc9-0b41472f110a",
   "metadata": {},
   "outputs": [
    {
     "data": {
      "text/html": [
       "<h2>Recommendations</h2>"
      ],
      "text/plain": [
       "<IPython.core.display.HTML object>"
      ]
     },
     "metadata": {},
     "output_type": "display_data"
    },
    {
     "data": {
      "text/html": [
       "<h4><b>Tags:</b> <b>drama</b>(6), <b>comedy</b>(3), <b>crime</b>(2), <b>thriller</b>(2), <b>sci-fi</b>(2), <b>action</b>(2), <b>mystery</b>(1), <b>adventure</b>(1), <b>imax</b>(1), <b>war</b>(1)</h4>"
      ],
      "text/plain": [
       "<IPython.core.display.HTML object>"
      ]
     },
     "metadata": {},
     "output_type": "display_data"
    },
    {
     "data": {
      "text/html": [
       "<table border=\"1\" class=\"dataframe\">\n",
       "  <thead>\n",
       "    <tr style=\"text-align: right;\">\n",
       "      <th></th>\n",
       "      <th>0</th>\n",
       "      <th>1</th>\n",
       "      <th>2</th>\n",
       "      <th>3</th>\n",
       "      <th>4</th>\n",
       "      <th>5</th>\n",
       "      <th>6</th>\n",
       "      <th>7</th>\n",
       "      <th>8</th>\n",
       "      <th>9</th>\n",
       "    </tr>\n",
       "  </thead>\n",
       "  <tbody>\n",
       "    <tr>\n",
       "      <th>Poster</th>\n",
       "      <td><img src=\"http://image.tmdb.org/t/p/w500/vY5j2xQzMGWmxBuhQo0HfA4Lxqb.jpg\" width=\"340\" alt=Place Beyond the Pines, The ></td>\n",
       "      <td><img src=\"http://image.tmdb.org/t/p/w500/k1LDxbfSu7mCVhWf6byLAfFk1Pm.jpg\" width=\"340\" alt=Prisoners ></td>\n",
       "      <td><img src=\"http://image.tmdb.org/t/p/w500/q0itEsso2drJXqH9kfdidxIT5dF.jpg\" width=\"340\" alt=Blue Ruin ></td>\n",
       "      <td><img src=\"http://image.tmdb.org/t/p/w500/eWdyYQreja6JGCzqHWXpWHDrrPo.jpg\" width=\"340\" alt=Grand Budapest Hotel, The ></td>\n",
       "      <td><img src=\"http://image.tmdb.org/t/p/w500/x2FJsf1ElAgr63Y3PNPtJrcmpoe.jpg\" width=\"340\" alt=Arrival ></td>\n",
       "      <td><img src=\"http://image.tmdb.org/t/p/w500/17i5YPTfHOjXoieArpATWGRhLj1.jpg\" width=\"340\" alt=Kingsman: The Secret Service ></td>\n",
       "      <td><img src=\"http://image.tmdb.org/t/p/w500/xjw5trHV7Mwo61P0kCTy8paEkgO.jpg\" width=\"340\" alt=Edge of Tomorrow ></td>\n",
       "      <td><img src=\"http://image.tmdb.org/t/p/w500/jcStBvbQt78tPeId5hC7a9jcDOK.jpg\" width=\"340\" alt=Hacksaw Ridge ></td>\n",
       "      <td><img src=\"http://image.tmdb.org/t/p/w500/hQDEvfqoYD33JnMWKccVDeWOkVG.jpg\" width=\"340\" alt=Ashby ></td>\n",
       "      <td><img src=\"http://image.tmdb.org/t/p/w500/tBbTEaWGPLcdHODYaYJxIcZhCcw.jpg\" width=\"340\" alt=Boys Don't Cry ></td>\n",
       "    </tr>\n",
       "    <tr>\n",
       "      <th>Genres</th>\n",
       "      <td><ul><li style=\"text-align:left;vertical-align:top;\">Crime</li><li style=\"text-align:left;vertical-align:top;\">Drama</li></ul></td>\n",
       "      <td><ul><li style=\"text-align:left;vertical-align:top;\">Drama</li><li style=\"text-align:left;vertical-align:top;\">Mystery</li><li style=\"text-align:left;vertical-align:top;\">Thriller</li></ul></td>\n",
       "      <td><ul><li style=\"text-align:left;vertical-align:top;\">Thriller</li></ul></td>\n",
       "      <td><ul><li style=\"text-align:left;vertical-align:top;\">Comedy</li><li style=\"text-align:left;vertical-align:top;\">Drama</li></ul></td>\n",
       "      <td><ul><li style=\"text-align:left;vertical-align:top;\">Sci-fi</li></ul></td>\n",
       "      <td><ul><li style=\"text-align:left;vertical-align:top;\">Action</li><li style=\"text-align:left;vertical-align:top;\">Adventure</li><li style=\"text-align:left;vertical-align:top;\">Comedy</li><li style=\"text-align:left;vertical-align:top;\">Crime</li></ul></td>\n",
       "      <td><ul><li style=\"text-align:left;vertical-align:top;\">Action</li><li style=\"text-align:left;vertical-align:top;\">Sci-fi</li><li style=\"text-align:left;vertical-align:top;\">Imax</li></ul></td>\n",
       "      <td><ul><li style=\"text-align:left;vertical-align:top;\">Drama</li><li style=\"text-align:left;vertical-align:top;\">War</li></ul></td>\n",
       "      <td><ul><li style=\"text-align:left;vertical-align:top;\">Comedy</li><li style=\"text-align:left;vertical-align:top;\">Drama</li></ul></td>\n",
       "      <td><ul><li style=\"text-align:left;vertical-align:top;\">Drama</li></ul></td>\n",
       "    </tr>\n",
       "    <tr>\n",
       "      <th>Mean Rating</th>\n",
       "      <td>3.555556</td>\n",
       "      <td>4.025</td>\n",
       "      <td>3.857143</td>\n",
       "      <td>4.119658</td>\n",
       "      <td>4.037037</td>\n",
       "      <td>3.650685</td>\n",
       "      <td>4.009524</td>\n",
       "      <td>3.864865</td>\n",
       "      <td>3.333333</td>\n",
       "      <td>3.772727</td>\n",
       "    </tr>\n",
       "    <tr>\n",
       "      <th>Predicted Rating</th>\n",
       "      <td>4.029877</td>\n",
       "      <td>4.216056</td>\n",
       "      <td>3.970502</td>\n",
       "      <td>4.372216</td>\n",
       "      <td>4.248519</td>\n",
       "      <td>3.832714</td>\n",
       "      <td>4.318829</td>\n",
       "      <td>4.854262</td>\n",
       "      <td>3.800201</td>\n",
       "      <td>4.229575</td>\n",
       "    </tr>\n",
       "    <tr>\n",
       "      <th>User sim weighted rating score</th>\n",
       "      <td>0.78267</td>\n",
       "      <td>0.886007</td>\n",
       "      <td>0.849058</td>\n",
       "      <td>0.906844</td>\n",
       "      <td>0.888259</td>\n",
       "      <td>0.803251</td>\n",
       "      <td>0.882205</td>\n",
       "      <td>0.850376</td>\n",
       "      <td>0.733425</td>\n",
       "      <td>0.829636</td>\n",
       "    </tr>\n",
       "    <tr>\n",
       "      <th>User sim weighted predicted rating score</th>\n",
       "      <td>0.822342</td>\n",
       "      <td>0.860334</td>\n",
       "      <td>0.810226</td>\n",
       "      <td>0.8922</td>\n",
       "      <td>0.86657</td>\n",
       "      <td>0.781758</td>\n",
       "      <td>0.880911</td>\n",
       "      <td>0.990123</td>\n",
       "      <td>0.775126</td>\n",
       "      <td>0.86222</td>\n",
       "    </tr>\n",
       "    <tr>\n",
       "      <th>User Item Similarity</th>\n",
       "      <td>0.990567</td>\n",
       "      <td>0.990567</td>\n",
       "      <td>0.990567</td>\n",
       "      <td>0.990567</td>\n",
       "      <td>0.990123</td>\n",
       "      <td>0.990123</td>\n",
       "      <td>0.990123</td>\n",
       "      <td>0.990123</td>\n",
       "      <td>0.990123</td>\n",
       "      <td>0.989565</td>\n",
       "    </tr>\n",
       "  </tbody>\n",
       "</table>"
      ],
      "text/plain": [
       "<IPython.core.display.HTML object>"
      ]
     },
     "metadata": {},
     "output_type": "display_data"
    },
    {
     "data": {
      "text/html": [
       "<h5><b>Generated by</b> DatabaseUserItemFilteringRecommender.</h5>"
      ],
      "text/plain": [
       "<IPython.core.display.HTML object>"
      ]
     },
     "metadata": {},
     "output_type": "display_data"
    }
   ],
   "source": [
    "recommendations.show(\n",
    "    sort_by        = ['user_item_sim'],\n",
    "    k              = 10\n",
    ")"
   ]
  },
  {
   "cell_type": "markdown",
   "id": "8f640a43-1613-4ae6-82fe-780bfe81fb11",
   "metadata": {
    "tags": []
   },
   "source": [
    "### Notes\n",
    "* Movies seen by similar users.\n",
    "* Ordered by **similar user similarity by movie**.\n",
    "* take movies sample from each similar user, then assign similary and order by similary."
   ]
  }
 ],
 "metadata": {
  "kernelspec": {
   "display_name": "Python 3 (ipykernel)",
   "language": "python",
   "name": "python3"
  },
  "language_info": {
   "codemirror_mode": {
    "name": "ipython",
    "version": 3
   },
   "file_extension": ".py",
   "mimetype": "text/x-python",
   "name": "python",
   "nbconvert_exporter": "python",
   "pygments_lexer": "ipython3",
   "version": "3.10.13"
  },
  "widgets": {
   "application/vnd.jupyter.widget-state+json": {
    "state": {},
    "version_major": 2,
    "version_minor": 0
   }
  }
 },
 "nbformat": 4,
 "nbformat_minor": 5
}
