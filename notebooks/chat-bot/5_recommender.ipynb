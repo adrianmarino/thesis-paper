{
 "cells": [
  {
   "cell_type": "markdown",
   "id": "0417277b-47df-4113-a7b3-8f960db06f1d",
   "metadata": {
    "tags": []
   },
   "source": [
    "# Recommender ChatBot: Collaborative Filtering recommender using user embeddings from chromadb"
   ]
  },
  {
   "cell_type": "code",
   "execution_count": 1,
   "id": "59f0eac0-30e8-4e72-860e-05541c36b82e",
   "metadata": {},
   "outputs": [],
   "source": [
    "%load_ext autoreload\n",
    "%autoreload 2"
   ]
  },
  {
   "cell_type": "code",
   "execution_count": 2,
   "id": "6fe490fd-66c5-4b3f-a327-62aa5d01f21c",
   "metadata": {},
   "outputs": [],
   "source": [
    "BASE_PATH    = '../..'\n",
    "LIB_PATH     = f'{BASE_PATH}/lib'\n",
    "API_PATH     = f'{BASE_PATH}/chat-bot-api'"
   ]
  },
  {
   "cell_type": "code",
   "execution_count": 3,
   "id": "f98e7bf4-f41a-43f6-b7b7-a991d00f82de",
   "metadata": {},
   "outputs": [],
   "source": [
    "import sys\n",
    "sys.path.append(LIB_PATH)\n",
    "sys.path.append(API_PATH)\n",
    "\n",
    "\n",
    "import torch\n",
    "import pytorch_common\n",
    "import pytorch_common.util as pu\n",
    "import util as ut\n",
    "import os\n",
    "import numpy as np\n",
    "import logging"
   ]
  },
  {
   "cell_type": "markdown",
   "id": "d757391b-ad9f-4047-9b23-e3bd23fbe37b",
   "metadata": {},
   "source": [
    "## Setup"
   ]
  },
  {
   "cell_type": "code",
   "execution_count": 4,
   "id": "efba19c8-6de3-4a6c-b804-658d0aff6bdb",
   "metadata": {},
   "outputs": [
    {
     "data": {
      "text/plain": [
       "<RootLogger root (INFO)>"
      ]
     },
     "execution_count": 4,
     "metadata": {},
     "output_type": "execute_result"
    }
   ],
   "source": [
    "pu.LoggerBuilder().on_console().build()"
   ]
  },
  {
   "cell_type": "code",
   "execution_count": 5,
   "id": "019f8153-76f9-45da-8228-f1c22642bd2b",
   "metadata": {
    "tags": []
   },
   "outputs": [
    {
     "data": {
      "text/plain": [
       "'0.3.8'"
      ]
     },
     "execution_count": 5,
     "metadata": {},
     "output_type": "execute_result"
    }
   ],
   "source": [
    "import pytorch_common\n",
    "pytorch_common.__version__"
   ]
  },
  {
   "cell_type": "code",
   "execution_count": 6,
   "id": "471e4f42-bc63-4cf5-a909-84f4db06bc81",
   "metadata": {
    "tags": []
   },
   "outputs": [
    {
     "data": {
      "text/plain": [
       "'2.1.2+cu118'"
      ]
     },
     "execution_count": 6,
     "metadata": {},
     "output_type": "execute_result"
    }
   ],
   "source": [
    "torch.__version__"
   ]
  },
  {
   "cell_type": "code",
   "execution_count": 7,
   "id": "198d1be8-29ba-45e8-8bd2-daf6e1f3d551",
   "metadata": {
    "tags": []
   },
   "outputs": [
    {
     "data": {
      "text/plain": [
       "(device(type='cuda', index=0), True)"
      ]
     },
     "execution_count": 7,
     "metadata": {},
     "output_type": "execute_result"
    }
   ],
   "source": [
    "pu.set_device_name('gpu')\n",
    "\n",
    "pu.get_device(), torch.cuda.is_available()"
   ]
  },
  {
   "cell_type": "code",
   "execution_count": 8,
   "id": "2420aca3-556f-46d7-a1ee-8eb2d2c9281e",
   "metadata": {},
   "outputs": [],
   "source": [
    "ut.set_seed(42)"
   ]
  },
  {
   "cell_type": "code",
   "execution_count": 9,
   "id": "0406bf3d-3aff-4b18-97e6-98b3c9f1284d",
   "metadata": {
    "tags": []
   },
   "outputs": [
    {
     "name": "stderr",
     "output_type": "stream",
     "text": [
      "2024-02-07 20:51:34.367960: I tensorflow/core/platform/cpu_feature_guard.cc:182] This TensorFlow binary is optimized to use available CPU instructions in performance-critical operations.\n",
      "To enable the following instructions: AVX2 FMA, in other operations, rebuild TensorFlow with the appropriate compiler flags.\n",
      "2024-02-07 20:51:34.880330: W tensorflow/compiler/tf2tensorrt/utils/py_utils.cc:38] TF-TRT Warning: Could not find TensorRT\n",
      "2024-02-07 20:51:35.151907: I tensorflow/compiler/xla/stream_executor/cuda/cuda_gpu_executor.cc:996] successful NUMA node read from SysFS had negative value (-1), but there must be at least one NUMA node, so returning NUMA node zero. See more at https://github.com/torvalds/linux/blob/v6.0/Documentation/ABI/testing/sysfs-bus-pci#L344-L355\n",
      "2024-02-07 20:51:35.163035: W tensorflow/core/common_runtime/gpu/gpu_device.cc:1956] Cannot dlopen some GPU libraries. Please make sure the missing libraries mentioned above are installed properly if you would like to use GPU. Follow the guide at https://www.tensorflow.org/install/gpu for how to download and setup the required libraries for your platform.\n",
      "Skipping registering GPU devices...\n",
      "2024-02-07 20:51:35,733 - INFO - Anonymized telemetry enabled. See                     https://docs.trychroma.com/telemetry for more information.\n"
     ]
    },
    {
     "data": {
      "text/plain": [
       "<Figure size 640x480 with 0 Axes>"
      ]
     },
     "metadata": {},
     "output_type": "display_data"
    }
   ],
   "source": [
    "os.environ['TMP_PATH']         = f'{BASE_PATH}/tmp'\n",
    "os.environ['DATASET_PATH']     = f'{BASE_PATH}/datasets'\n",
    "os.environ['WEIGHTS_PATH']     = f'{BASE_PATH}/weights'\n",
    "os.environ['METRICS_PATH']     = f'{BASE_PATH}/metrics'\n",
    "os.environ['MONGODB_URL']      = 'mongodb://0.0.0.0:27017'\n",
    "os.environ['MONGODB_DATABASE'] = 'chatbot'\n",
    "os.environ['CHROMA_HOST']      = '0.0.0.0'\n",
    "os.environ['CHROMA_PORT']      = '9090'\n",
    "\n",
    "\n",
    "from app_context import AppContext"
   ]
  },
  {
   "cell_type": "markdown",
   "id": "b8334d07-f306-42b4-8ea1-cc27b82eb343",
   "metadata": {},
   "source": [
    "## Recommender"
   ]
  },
  {
   "cell_type": "code",
   "execution_count": 10,
   "id": "604fe65a-b2a2-41c4-abbd-2425e6736621",
   "metadata": {},
   "outputs": [
    {
     "name": "stderr",
     "output_type": "stream",
     "text": [
      "2024-02-07 20:51:38,660 - INFO - Load pretrained SentenceTransformer: all-mpnet-base-v2\n",
      "2024-02-07 20:51:39,209 - INFO - Use pytorch device: cuda\n",
      "2024-02-07 20:51:39,212 - INFO - Anonymized telemetry enabled. See                     https://docs.trychroma.com/telemetry for more information.\n",
      "2024-02-07 20:51:39,231 - INFO - Anonymized telemetry enabled. See                     https://docs.trychroma.com/telemetry for more information.\n"
     ]
    }
   ],
   "source": [
    "ctx = AppContext()"
   ]
  },
  {
   "cell_type": "code",
   "execution_count": 15,
   "id": "538cc243-7a82-4273-8d5d-d10c64ac30ba",
   "metadata": {},
   "outputs": [],
   "source": [
    "class DatabaseUserItemFilteringRecommender:\n",
    "    def __init__(\n",
    "        self,\n",
    "        user_emb_repository,\n",
    "        items_repository,\n",
    "        interactions_repository,\n",
    "        k_sim_users = 10\n",
    "    ):\n",
    "        self.__user_emb_repository     = user_emb_repository\n",
    "        self.__items_repository        = items_repository\n",
    "        self.__interactions_repository = interactions_repository\n",
    "        self.__k_sim_users             = k_sim_users\n",
    "\n",
    "        \n",
    "    def __score(self, df, similar_users_result):\n",
    "        user_distances = {id: similar_users_result.distances[idx] for idx, id in enumerate(similar_users_result.ids)}\n",
    "\n",
    "        recommendations = df.copy()\n",
    "        recommendations['score'] = recommendations[self.__user_id_col] \\\n",
    "            .apply(lambda r:  (1 - user_distances[r]))  * df[self.__rating_col]\n",
    "\n",
    "        recommendations = ut.year_to_decade(recommendations, self.__release_year_col, 'decade')\n",
    "\n",
    "        return recommendations \\\n",
    "            .groupby([self.__item_id_col, 'decade'])['score'] \\\n",
    "            .mean() \\\n",
    "            .reset_index() \\\n",
    "            .sort_values(['decade', 'score'], ascending=False)\n",
    "\n",
    "\n",
    "    def __users_similarity(self, similar_users):\n",
    "        user_sim = {}\n",
    "        max_distance = np.max(similar_users.distances)\n",
    "        for idx in range(len(similar_users.str_ids)):\n",
    "            user_sim[similar_users.str_ids[idx]] = 1 - (similar_users.distances[idx]/max_distance)\n",
    "        return user_sim\n",
    "\n",
    "\n",
    "    async def recommend(\n",
    "        self,\n",
    "        user_id: int = None,\n",
    "        k      : int = 100\n",
    "    ):\n",
    "        similar_users = self.__user_emb_repository.find_similars_by_id(user_id, limit=self.__k_sim_users)\n",
    "        \n",
    "        if similar_users.empty: return []\n",
    "\n",
    "        similar_user_ids = [id for id in similar_users.str_ids if id != user_id]\n",
    "\n",
    "        if len(similar_user_ids) ==0:\n",
    "            logging.warning('Not found similar users')\n",
    "            return []\n",
    "\n",
    "        interactions = await self.__interactions_repository.find_many_by(user_id={'$in': similar_user_ids})\n",
    "        \n",
    "        if len(interactions) ==0:\n",
    "            logging.warning('Not found sumilar users interactions')\n",
    "            return []\n",
    "        \n",
    "        item_ids = np.unique([i.item_id for i in interactions]).tolist()\n",
    "        \n",
    "        if len(item_ids) ==0:\n",
    "            logging.warning('Not found items')\n",
    "            return []\n",
    "\n",
    "        items = await self.__items_repository.find_many_by(item_id={'$in': item_ids})\n",
    "\n",
    "        \n",
    "        sim_by_user_id = self.__users_similarity(similar_users)\n",
    "        \n",
    "        sim_by_item_id = {i.item_id:sim_by_user_id[i.user_id] for i in interactions}\n",
    "        \n",
    "        max_rating     = np.max([item.rating for item in items])\n",
    "\n",
    "        scored_items = []\n",
    "        for item in items:\n",
    "            rating_score = item.rating / max_rating\n",
    "            item_score = rating_score * (sim_by_item_id[item.id] * 0.5)\n",
    "            scored_items.append((item_score, item))\n",
    "\n",
    "        ordered_items = sorted(scored_items, key=lambda x: x[0], reverse=True)\n",
    "\n",
    "        return [{'id': item[1].id, 'score': item[0], 'rating': item[1].rating, 'title': item[1].title, 'poster': item[1].poster} for item in scored_items[:k]]"
   ]
  },
  {
   "cell_type": "code",
   "execution_count": 16,
   "id": "df6d479d-1c60-41e8-9a2b-c076d4ebcd82",
   "metadata": {
    "tags": []
   },
   "outputs": [],
   "source": [
    "recommender = DatabaseUserItemFilteringRecommender(\n",
    "    user_emb_repository     = ctx.users_cf_emb_repository,\n",
    "    items_repository        = ctx.items_repository,\n",
    "    interactions_repository = ctx.interactions_repository,\n",
    ")"
   ]
  },
  {
   "cell_type": "code",
   "execution_count": 17,
   "id": "72e99109-2885-4f7b-807f-7444cf33459c",
   "metadata": {
    "tags": []
   },
   "outputs": [
    {
     "data": {
      "text/plain": [
       "[{'id': '102481',\n",
       "  'score': 0.07789426138198585,\n",
       "  'rating': 3.125,\n",
       "  'title': 'Internship, The',\n",
       "  'poster': 'http://image.tmdb.org/t/p/w500/qX3AuVJrx8flXjYnzeFUJtPfg4o.jpg'},\n",
       " {'id': '140110',\n",
       "  'score': 0.09568430559390534,\n",
       "  'rating': 3.8387096774,\n",
       "  'title': 'The Intern',\n",
       "  'poster': 'http://image.tmdb.org/t/p/w500/9UoAC9tu8kIyRy8AcJnGhnH0gOH.jpg'},\n",
       " {'id': '1887',\n",
       "  'score': 0.003264470426713309,\n",
       "  'rating': 3.5,\n",
       "  'title': 'Almost Heroes',\n",
       "  'poster': 'http://image.tmdb.org/t/p/w500/qO1cfr4UxcwQ858Nxp470QNS3v8.jpg'},\n",
       " {'id': '3355',\n",
       "  'score': 0.0,\n",
       "  'rating': 3.2272727273,\n",
       "  'title': 'Ninth Gate, The',\n",
       "  'poster': 'http://image.tmdb.org/t/p/w500/iFDtmA8Bg9zE4NcsjcmGfqFN01H.jpg'},\n",
       " {'id': '49272',\n",
       "  'score': 0.09616417244937328,\n",
       "  'rating': 3.7933333333,\n",
       "  'title': 'Casino Royale',\n",
       "  'poster': 'http://image.tmdb.org/t/p/w500/lMrxYKKhd4lqRzwUHAy5gcx9PSO.jpg'},\n",
       " {'id': '55768',\n",
       "  'score': 0.0722498835192765,\n",
       "  'rating': 2.85,\n",
       "  'title': 'Bee Movie',\n",
       "  'poster': 'http://image.tmdb.org/t/p/w500/rYBaXgvTKFS8iZC7Wr8SMomSauQ.jpg'},\n",
       " {'id': '7011',\n",
       "  'score': 0.01129097793846443,\n",
       "  'rating': 3.7142857143,\n",
       "  'title': 'Bullfighter, The',\n",
       "  'poster': 'http://image.tmdb.org/t/p/w500/wm1V8RD85xYCgGD2FEB48yp6Qvb.jpg'},\n",
       " {'id': '78893',\n",
       "  'score': 0.027896798156424995,\n",
       "  'rating': 1.8157894737,\n",
       "  'title': 'Last Airbender, The',\n",
       "  'poster': 'http://image.tmdb.org/t/p/w500/zgwRTYWEEPivTwjB9S03HtmMcbM.jpg'},\n",
       " {'id': '88',\n",
       "  'score': 0.0027981175086114075,\n",
       "  'rating': 3.0,\n",
       "  'title': 'Black Sheep',\n",
       "  'poster': 'http://image.tmdb.org/t/p/w500/b6Spp82Tg8rv4YUSHGWFqFbgp0q.jpg'},\n",
       " {'id': '93598',\n",
       "  'score': 0.00026984480612129015,\n",
       "  'rating': 3.4,\n",
       "  'title': 'Snowtown',\n",
       "  'poster': 'http://image.tmdb.org/t/p/w500/3Vg3FleDGEX72uipj7fwG3fJRcu.jpg'}]"
      ]
     },
     "execution_count": 17,
     "metadata": {},
     "output_type": "execute_result"
    }
   ],
   "source": [
    "await recommender.recommend(user_id=\"adrianmarino@gmail.com\")"
   ]
  }
 ],
 "metadata": {
  "kernelspec": {
   "display_name": "Python 3 (ipykernel)",
   "language": "python",
   "name": "python3"
  },
  "language_info": {
   "codemirror_mode": {
    "name": "ipython",
    "version": 3
   },
   "file_extension": ".py",
   "mimetype": "text/x-python",
   "name": "python",
   "nbconvert_exporter": "python",
   "pygments_lexer": "ipython3",
   "version": "3.10.13"
  },
  "widgets": {
   "application/vnd.jupyter.widget-state+json": {
    "state": {},
    "version_major": 2,
    "version_minor": 0
   }
  }
 },
 "nbformat": 4,
 "nbformat_minor": 5
}
