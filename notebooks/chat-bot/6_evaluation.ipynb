{
 "cells": [
  {
   "cell_type": "markdown",
   "id": "0417277b-47df-4113-a7b3-8f960db06f1d",
   "metadata": {
    "tags": []
   },
   "source": [
    "# Recommender ChatBot: Evaluation"
   ]
  },
  {
   "cell_type": "code",
   "execution_count": 19,
   "id": "59f0eac0-30e8-4e72-860e-05541c36b82e",
   "metadata": {},
   "outputs": [],
   "source": [
    "%%capture output\n",
    "%load_ext autoreload\n",
    "%autoreload 2"
   ]
  },
  {
   "cell_type": "code",
   "execution_count": 20,
   "id": "6fe490fd-66c5-4b3f-a327-62aa5d01f21c",
   "metadata": {},
   "outputs": [],
   "source": [
    "import os\n",
    "\n",
    "BASE_PATH    = '../..'\n",
    "API_PATH     = f'{BASE_PATH}/chat-bot-api'\n",
    "LIB_PATH     = f'{BASE_PATH}/lib'\n",
    "DATASET_PATH = f'{BASE_PATH}/datasets'\n",
    "METRICS_PATH = f'{BASE_PATH}/metrics'\n",
    "EVAL_METRICS_PATH = f'{METRICS_PATH}/evaluation-metrics.dt'\n",
    "\n",
    "os.environ['TMP_PATH']         = f'{BASE_PATH}/tmp'\n",
    "os.environ['DATASET_PATH']     = f'{BASE_PATH}/datasets'\n",
    "os.environ['WEIGHTS_PATH']     = f'{BASE_PATH}/weights'\n",
    "os.environ['METRICS_PATH']     = f'{BASE_PATH}/metrics'"
   ]
  },
  {
   "cell_type": "code",
   "execution_count": 21,
   "id": "7d8995d5-fcda-4001-b18d-a08574e40362",
   "metadata": {},
   "outputs": [],
   "source": [
    "import sys\n",
    "sys.path.append(LIB_PATH)\n",
    "sys.path.append(API_PATH)\n",
    "\n",
    "import pytorch_common.util as pu\n",
    "\n",
    "import client\n",
    "import os\n",
    "\n",
    "BASE_PATH    = '../..'\n",
    "API_PATH     = f'{BASE_PATH}/chat-bot-api'\n",
    "LIB_PATH     = f'{BASE_PATH}/lib'\n",
    "DATASET_PATH = f'{BASE_PATH}/datasets'\n",
    "\n",
    "os.environ['TMP_PATH']         = f'{BASE_PATH}/tmp'\n",
    "os.environ['DATASET_PATH']     = f'{BASE_PATH}/datasets'\n",
    "os.environ['WEIGHTS_PATH']     = f'{BASE_PATH}/weights'\n",
    "os.environ['METRICS_PATH']     = f'{BASE_PATH}/metrics'\n",
    "\n",
    "import util as ut\n",
    "from faker import Faker\n",
    "\n",
    "import pandas as pd\n",
    "import numpy as np\n",
    "\n",
    "import logging\n",
    "\n",
    "import metric as mt\n",
    "from statistics import mean\n",
    "\n",
    "import numpy as np"
   ]
  },
  {
   "cell_type": "markdown",
   "id": "f22994c9-24c7-4ae7-a8c0-88dcbaf178fe",
   "metadata": {},
   "source": [
    "# Common Functions and Classes"
   ]
  },
  {
   "cell_type": "code",
   "execution_count": 22,
   "id": "60a29d8e-1743-4cc1-a3a7-f217e39fccc4",
   "metadata": {},
   "outputs": [],
   "source": [
    "def genres_count(interactions_test_set, items, user_id):\n",
    "    df = interactions_test_set[interactions_test_set['user_id'] == user_id]\n",
    "\n",
    "    item_ids = df['item_id'].unique()\n",
    "    \n",
    "    genres = []\n",
    "    for item_id in item_ids:\n",
    "        genres.extend(items[items['movie_id'] == item_id]['movie_genres'].tolist()[0])\n",
    "\n",
    "    return pd.Series(genres).value_counts().reset_index(name='count')\n",
    "\n",
    "\n",
    "\n",
    "def releases(interactions_test_set, items, user_id):\n",
    "    df = interactions_test_set[interactions_test_set['user_id'] == user_id]\n",
    "\n",
    "    return np.sort(items[items['movie_id'].isin(df['item_id'].unique())]['movie_release_year'].unique())"
   ]
  },
  {
   "cell_type": "code",
   "execution_count": 23,
   "id": "4a9d20e2-476f-4fea-8be7-6dfd13b6e65d",
   "metadata": {},
   "outputs": [],
   "source": [
    "def create_fake_profiles(interactions_test_set, items):\n",
    "    fake = Faker()\n",
    "\n",
    "    to_email = lambda name: name.lower().replace(' ', '.') + '@gmail.com'\n",
    "\n",
    "    user_ids = interactions_test_set['user_id'].unique()\n",
    "\n",
    "    profiles = []\n",
    "    emails   = []\n",
    "    profile_user_ids = []\n",
    "    for user_id in user_ids:        \n",
    "        while True:\n",
    "            name  = fake.name()\n",
    "            email = to_email(name)\n",
    "            if email not in emails:\n",
    "                break\n",
    "\n",
    "        profile_user_ids.append(user_id)\n",
    "        emails.append(email)\n",
    "\n",
    "        genres_count_df = genres_count(interactions_test_set, items, user_id=user_id)\n",
    "        genres = genres_count_df[genres_count_df['count'] >= 10]['index'].tolist()\n",
    "    \n",
    "        release = str(releases(interactions_test_set, items, user_id=user_id)[0])\n",
    "    \n",
    "        profiles.append(client.UserProfileDto(\n",
    "            name             = name,\n",
    "            email            = email,\n",
    "            preferred_from   = release,\n",
    "            preferred_genres = genres\n",
    "        ))\n",
    "\n",
    "    logging.debug(f'Profiles: {len(profiles)}')\n",
    "    logging.debug(f'Users: {len(user_ids)}')\n",
    "    \n",
    "    return profiles, profile_user_ids"
   ]
  },
  {
   "cell_type": "code",
   "execution_count": 24,
   "id": "b95a83d9-ee71-492d-acf2-8d7d7c43083f",
   "metadata": {},
   "outputs": [],
   "source": [
    "def reset_env(\n",
    "    api_client,\n",
    "    interactions_test_set,\n",
    "    items\n",
    "):\n",
    "    for profile in api_client.profiles():\n",
    "        api_client.remove_interactions_by_user_id(profile.email)\n",
    "        api_client.delete_profile(profile.email)\n",
    "\n",
    "    profiles, user_ids = create_fake_profiles(interactions_test_set, items)\n",
    "\n",
    "    [api_client.add_profile(profile) for profile in profiles]\n",
    "\n",
    "    return profiles, user_ids"
   ]
  },
  {
   "cell_type": "code",
   "execution_count": 25,
   "id": "d74231b9-d4de-407c-8afd-1149775ab283",
   "metadata": {},
   "outputs": [],
   "source": [
    "class RecQueryBuilder:\n",
    "    def __init__(self, settings):\n",
    "        self.settings = settings\n",
    "\n",
    "    def user(self, value):\n",
    "        self.user_id = value\n",
    "        return self\n",
    "\n",
    "    def prompt(self, value):\n",
    "        self.prompt = value\n",
    "        return self\n",
    "\n",
    "    def build(self):\n",
    "        return {\n",
    "            'message': {\n",
    "                'author': self.user_id,\n",
    "                'content': self.prompt\n",
    "            },\n",
    "            'settings': self.settings\n",
    "        }"
   ]
  },
  {
   "cell_type": "code",
   "execution_count": 26,
   "id": "11180d4a-1ffb-4827-b673-6890b6f8f9d0",
   "metadata": {},
   "outputs": [],
   "source": [
    "import seaborn as sns\n",
    "import matplotlib.pyplot as plt\n",
    "import numpy as np\n",
    "from scipy.ndimage import gaussian_filter1d\n",
    "import warnings\n",
    "warnings.filterwarnings(\"ignore\", category=FutureWarning)\n",
    "\n",
    "def smooth_lineplot(\n",
    "    x, \n",
    "    y,\n",
    "    smooth_level              = 0.7,\n",
    "    confidence_interval_alpha = 0.15,\n",
    "    label                     = ''\n",
    "):\n",
    "    y_smooth = gaussian_filter1d(\n",
    "        y,\n",
    "        sigma = smooth_level\n",
    "    )\n",
    "\n",
    "    error = np.abs(y_smooth - y)\n",
    "\n",
    "    sns.lineplot(\n",
    "        x     = x,\n",
    "        y     = y_smooth,\n",
    "        label = label\n",
    "    )\n",
    "    plt.fill_between(\n",
    "        x, \n",
    "        y_smooth - error, \n",
    "        y_smooth + error, \n",
    "        alpha = confidence_interval_alpha\n",
    "    )"
   ]
  },
  {
   "cell_type": "code",
   "execution_count": 27,
   "id": "812f13c4-9e61-4454-be38-a496286fba05",
   "metadata": {},
   "outputs": [],
   "source": [
    "def plot_ndcg_sessions(ndcgs_by_sessions_size):\n",
    "    plt.figure(figsize=(15,8))\n",
    "\n",
    "    for size, ndcgs in sorted(ndcgs_by_sessions_size.items()):\n",
    "        smooth_lineplot(\n",
    "            x                         = list(range(1, len(ndcgs)+1)),\n",
    "            y                         = ndcgs,\n",
    "            label                     = f'{size} Session steps',\n",
    "            smooth_level              = 0.8\n",
    "        )\n",
    "    \n",
    "    plt.xlabel(\"Session\")\n",
    "    plt.ylabel(\"NDGC\")\n",
    "    plt.title(\"NDGC by session step\")\n",
    "    plt.legend()\n",
    "    plt.show()"
   ]
  },
  {
   "cell_type": "code",
   "execution_count": null,
   "id": "32f1de93-1249-4213-8730-409c40ffe69f",
   "metadata": {},
   "outputs": [],
   "source": [
    "\n",
    "recomendation_size = 5\n",
    "max_patience       = 5\n",
    "plot_interval      = 10\n",
    "\n",
    "\n",
    "class EvaluationState:    \n",
    "    \n",
    "    @staticmethod\n",
    "    def load():\n",
    "        return ut.Picket.load(EVAL_METRICS_PATH)\n",
    "\n",
    "    \n",
    "    @staticmethod\n",
    "    def create(\n",
    "        recomendation_size = 5,\n",
    "        max_patience       = 5,\n",
    "        plot_interval      = 10\n",
    "    ):\n",
    "        if not os.path.exists(EVAL_METRICS_PATH):\n",
    "            api_client.verbose_off\n",
    "            profiles, user_ids  = reset_env(api_client, interactions_test_set, items)\n",
    "            api_client.verbose_on\n",
    "            return EvaluationState(\n",
    "                recomendation_size,\n",
    "                max_patience,\n",
    "                plot_interval,            \n",
    "                profiles, \n",
    "                user_ids, \n",
    "                profiles_by_user_id\n",
    "            )\n",
    "        else:\n",
    "            return EvaluationState.load()\n",
    "\n",
    "\n",
    "    def __init__(\n",
    "        self,\n",
    "        recomendation_size,\n",
    "        max_patience,\n",
    "        plot_interval,\n",
    "        profiles,\n",
    "        user_ids,\n",
    "        profiles_by_user_id\n",
    "    ):\n",
    "        self.recomendation_size  = recomendation_size\n",
    "        self.max_patience        = max_patience\n",
    "        self.plot_interval       = plot_interval\n",
    "        self.metrics_by_user_id  = { u: p for p, u in zip(profiles, user_ids) }\n",
    "        self.profiles            =  profiles\n",
    "        self.profiles_by_user_id = profiles_by_user_id\n",
    "\n",
    "    \n",
    "    def save(self):\n",
    "        ut.Picket.save(EVAL_METRICS_PATH, self)\n",
    "\n",
    "\n",
    "    def find_profile_by_user_id(self, user_id):\n",
    "        return self.profiles_by_user_id[user_id]\n",
    "\n",
    "    \n",
    "    def plot_metrics(self):\n",
    "        ndcg_groups = {}\n",
    "\n",
    "        for user_id, sessions in self.metrics_by_user_id.items():\n",
    "            values = [session['votes_ndgc'] for session in sessions]\n",
    "        \n",
    "            if len(values) < 3:\n",
    "                continue\n",
    "\n",
    "            if len(values) in ndcg_groups:\n",
    "                ndcg_groups[len(values)] = np.vstack((ndcg_groups[len(values)], values))\n",
    "            else:\n",
    "                ndcg_groups[len(values)] = np.array(values)\n",
    "        \n",
    "        \n",
    "        ndcgs_by_sessions_size = {size: np.mean(matrix, axis=0) for size, matrix in ndcg_groups.items() if len(matrix.shape) > 1 }\n",
    "        plot_ndcg_sessions(ndcgs_by_sessions_size)"
   ]
  },
  {
   "cell_type": "markdown",
   "id": "d757391b-ad9f-4047-9b23-e3bd23fbe37b",
   "metadata": {},
   "source": [
    "## Setup"
   ]
  },
  {
   "cell_type": "code",
   "execution_count": 11,
   "id": "efba19c8-6de3-4a6c-b804-658d0aff6bdb",
   "metadata": {},
   "outputs": [
    {
     "data": {
      "text/html": [
       "<pre style=\"white-space:pre;overflow-x:auto;line-height:normal;font-family:Menlo,'DejaVu Sans Mono',consolas,'Courier New',monospace\"></pre>\n"
      ],
      "text/plain": []
     },
     "metadata": {},
     "output_type": "display_data"
    },
    {
     "data": {
      "text/plain": [
       "\u001b[1m<\u001b[0m\u001b[1;95mRootLogger\u001b[0m\u001b[39m root \u001b[0m\u001b[1;39m(\u001b[0m\u001b[39mINFO\u001b[0m\u001b[1;39m)\u001b[0m\u001b[1m>\u001b[0m"
      ]
     },
     "execution_count": 11,
     "metadata": {},
     "output_type": "execute_result"
    }
   ],
   "source": [
    "def on_file(file_path, format='%(asctime)s - %(levelname)s - %(message)s'):\n",
    "    handler = logging.FileHandler(file_path)\n",
    "    handler.setFormatter(logging.Formatter(format))\n",
    "    return handler\n",
    "\n",
    "pu.LoggerBuilder() \\\n",
    "    .handler(on_file('./evaluation.log'))\\\n",
    "    .on_console() \\\n",
    "    .build()"
   ]
  },
  {
   "cell_type": "markdown",
   "id": "9e7f2032-7e01-4865-8d9e-4ed7d7264862",
   "metadata": {},
   "source": [
    "**Step 1**: Load interactions test set."
   ]
  },
  {
   "cell_type": "code",
   "execution_count": 12,
   "id": "c9b027c9-06a0-4037-b467-90547e73e9c9",
   "metadata": {
    "tags": []
   },
   "outputs": [],
   "source": [
    "interactions_test_set = ut.load_df(f'{DATASET_PATH}/interactions_test_set.json')"
   ]
  },
  {
   "cell_type": "code",
   "execution_count": 13,
   "id": "e6f574f8-4b82-43b8-9992-c2ea23429d6b",
   "metadata": {},
   "outputs": [],
   "source": [
    "items = ut.load_df(f'{DATASET_PATH}/pre-processed-movies.json')"
   ]
  },
  {
   "cell_type": "markdown",
   "id": "d9b0f0bc-c8e0-45f8-b5e6-57d23f94aa0c",
   "metadata": {
    "tags": []
   },
   "source": [
    "**Step 2**: Create **Recommendation Chatbot API** client."
   ]
  },
  {
   "cell_type": "code",
   "execution_count": 14,
   "id": "72432e7f-f377-40a6-968e-eeb4aba00c7d",
   "metadata": {},
   "outputs": [],
   "source": [
    "api_client = client.RecChatBotV1ApiClient()"
   ]
  },
  {
   "cell_type": "code",
   "execution_count": 15,
   "id": "eec83bac-ecd4-4787-b76a-8f8c6ac5511a",
   "metadata": {},
   "outputs": [
    {
     "name": "stderr",
     "output_type": "stream",
     "text": [
      "2024-03-30 09:31:42,073 - INFO - GET http://nonosoft.ddns.net:8080/api/v1/health\n"
     ]
    },
    {
     "data": {
      "text/html": [
       "<pre style=\"white-space:pre;overflow-x:auto;line-height:normal;font-family:Menlo,'DejaVu Sans Mono',consolas,'Courier New',monospace\"></pre>\n"
      ],
      "text/plain": []
     },
     "metadata": {},
     "output_type": "display_data"
    },
    {
     "data": {
      "text/plain": [
       "\n",
       "\u001b[1m{\u001b[0m\n",
       "    \u001b[32m'chatbot_api'\u001b[0m: \u001b[3;92mTrue\u001b[0m,\n",
       "    \u001b[32m'ollama_api'\u001b[0m: \u001b[3;92mTrue\u001b[0m,\n",
       "    \u001b[32m'airflow'\u001b[0m: \u001b[1m{\u001b[0m\u001b[32m'metadatabase'\u001b[0m: \u001b[3;92mTrue\u001b[0m, \u001b[32m'scheduler'\u001b[0m: \u001b[3;92mTrue\u001b[0m\u001b[1m}\u001b[0m,\n",
       "    \u001b[32m'mongo_database'\u001b[0m: \u001b[3;92mTrue\u001b[0m,\n",
       "    \u001b[32m'choma_database'\u001b[0m: \u001b[3;92mTrue\u001b[0m\n",
       "\u001b[1m}\u001b[0m"
      ]
     },
     "execution_count": 15,
     "metadata": {},
     "output_type": "execute_result"
    }
   ],
   "source": [
    "api_client.health"
   ]
  },
  {
   "cell_type": "markdown",
   "id": "bea9453e-1d68-44f7-a88f-82debef4b2e9",
   "metadata": {
    "tags": []
   },
   "source": [
    "**Step 3**: Create profiles for test users."
   ]
  },
  {
   "cell_type": "code",
   "execution_count": 16,
   "id": "906f4a46-da53-46a3-9943-258ab2e0a4b5",
   "metadata": {},
   "outputs": [],
   "source": [
    "hyper_params = {\n",
    "    'llm'                                   : 'llama2-7b-chat',\n",
    "    'retry'                                 : 2,\n",
    "    'plain'                                 : False,\n",
    "    'include_metadata'                      : True,\n",
    "    'rag': {\n",
    "        'shuffle'                           : False,\n",
    "        'candidates_limit'                  : 100,\n",
    "        'llm_response_limit'                : 100,\n",
    "        'recommendations_limit'             : 10,\n",
    "        'similar_items_augmentation_limit'  : 10,\n",
    "        'not_seen'                          : True\n",
    "    },\n",
    "    'collaborative_filtering': {\n",
    "        'shuffle'                           : False,\n",
    "        'candidates_limit'                  : 50,\n",
    "        'llm_response_limit'                : 50,\n",
    "        'recommendations_limit'             : 10,\n",
    "        'similar_items_augmentation_limit'  : 5,\n",
    "        'text_query_limit'                  : 5000,\n",
    "        'k_sim_users'                       : 10,\n",
    "        'random_selection_items_by_user'    : 0.5,\n",
    "        'max_items_by_user'                 : 10,\n",
    "        'min_rating_by_user'                : 3.5,\n",
    "        'not_seen'                          : True\n",
    "    }\n",
    "}"
   ]
  },
  {
   "cell_type": "code",
   "execution_count": null,
   "id": "9d49b598-9ce4-4b80-a4ca-363679e22027",
   "metadata": {},
   "outputs": [],
   "source": [
    "recomendation_size = 5\n",
    "max_patience       = 5\n",
    "plot_interval      = 10\n",
    "evaluation_state   = EvaluationState.create()\n",
    " \n",
    "interactions_test_set      = interactions_test_set.sort_values(by=['timestamp'])\n",
    "interactions_by_user_id_df = interactions_test_set.groupby(['user_id'])"
   ]
  },
  {
   "cell_type": "code",
   "execution_count": null,
   "id": "3a57b670-7a2a-479f-9bd8-73a8a1358146",
   "metadata": {},
   "outputs": [],
   "source": [
    "def sample(df, size): return df.sample(frac = 1).head(size)\n",
    "\n",
    "def is_in(df1, left_col, df2, right_col): return df1[df1[left_col].isin(df2[right_col])]\n",
    "\n",
    "def is_remaining(df, api_client, profile):\n",
    "    user_voted_item_ids       = [int(i.item_id) for i in api_client.interactions_by_user(profile.email)]\n",
    "    return df[~df['item_id'].isin(user_voted_item_ids)]\n",
    "\n",
    "def n_items(df): return len(rdf[\"item_id\"].unique())\n",
    "\n",
    "def make_request(\n",
    "    api_client,\n",
    "    hyper_params,\n",
    "    log_prefix,\n",
    "    profile,\n",
    "    remaining_items_sample\n",
    "):\n",
    "        prompt = f'I want to see {ut.str_join(remaining_items_sample['movie_title'].values.tolist())}'\n",
    "\n",
    "        logging.info(f'{log_prefix}Found {len(remaining_items_sample)} items({remaining_interactions_df.pipe(n_items)} remaining). ')\n",
    "        logging.info(f'{log_prefix}Promp: {prompt}')\n",
    "\n",
    "        return api_client.recommendations(\n",
    "            RecQueryBuilder(hyper_params) \\\n",
    "                .user(profile.email) \\\n",
    "                .prompt(prompt) \\\n",
    "                .build() \n",
    "        )"
   ]
  },
  {
   "cell_type": "code",
   "execution_count": null,
   "id": "3f424dc5-3df1-47e7-a77e-35eb3bad1ad2",
   "metadata": {
    "scrolled": true
   },
   "outputs": [],
   "source": [
    "from IPython.display import clear_output\n",
    "\n",
    "times = 1\n",
    "api_client.verbose_off\n",
    "for user_id in interactions_by_user_id_df.groups.keys():\n",
    "    if  user_id in evaluation_state['metrics_by_user_id']:\n",
    "        continue\n",
    "\n",
    "    profile          = evaluation_state.find_profile_by_user_id(user_id)\n",
    "    interactions_df  = interactions_by_user_id_df.get_group((user_id,))\n",
    "\n",
    "    patience         = 0\n",
    "    log_prefix       = f'{profile.email} - '\n",
    "    logging.info(f'{log_prefix}Begin to register eval metrics.')\n",
    "\n",
    "    while True:\n",
    "        remaining_interactions_df = interactions_df.pipe(is_remaining, api_client, profile)\n",
    "\n",
    "        remaining_interactions_sample_df   = remaining_interactions_df.pipe(sample, recomendation_size)    \n",
    "        if len(remaining_interactions_sample_df) <= 1:\n",
    "            break\n",
    "\n",
    "        remaining_items_sample = items.pipe(is_in, 'movie_id', remaining_interactions_sample_df, 'item_id')\n",
    "\n",
    "        try:\n",
    "            result = make_request(\n",
    "                api_client,\n",
    "                hyper_params,\n",
    "                log_prefix,\n",
    "                profile,\n",
    "                remaining_items_sample\n",
    "            )\n",
    "        except client.NotFoundException as err:\n",
    "            logging.info(f'{log_prefix}End process. Retrain CF models to continue evaluation.')\n",
    "            break\n",
    "        \n",
    "        except Exception as err:\n",
    "            logging.error(err)\n",
    "            continue\n",
    "    \n",
    "        rating_by_item_id = remaining_items_sample.pipe(ut.to_dict, 'movie_id', 'user_movie_rating')\n",
    "        \n",
    "        result_eval_items = list(filter(lambda x: int(x.id) in rating_by_item_id.keys(), result.items))\n",
    "    \n",
    "        logging.info(f'{log_prefix}Found {len(result_eval_items)} results...')\n",
    " \n",
    "        if len(result_eval_items) <= 1: \n",
    "            if patience >= max_patience:\n",
    "                logging.warning(f'{log_prefix}End process. {max_patience} max retries reached.')\n",
    "                break\n",
    "\n",
    "            patience += 1\n",
    "            logging.warning(f'{log_prefix}Found {len(result_eval_items)} results. Patience: {patience}/{max_patience}.')\n",
    "            continue\n",
    "        else:\n",
    "            patience = 0\n",
    "            \n",
    "    \n",
    "        mean_user_rating = mean(rating_by_item_id.values())\n",
    "            \n",
    "        metric_item_ids = []\n",
    "        metric_votes    = []\n",
    "        for result_eval_item in result_eval_items:        \n",
    "            item_id = int(result_eval_item.id)\n",
    "            metric_item_ids.append(item_id)\n",
    "    \n",
    "            rating = rating_by_item_id[item_id]\n",
    "            metric_votes.append(rating)\n",
    "                \n",
    "            result_eval_item.vote(rating)\n",
    "    \n",
    "    \n",
    "        if user_id not in evaluation_state['metrics_by_user_id']:\n",
    "            evaluation_state['metrics_by_user_id'][user_id] = []\n",
    "\n",
    "        sessions = evaluation_state['metrics_by_user_id'].get(user_id)\n",
    "\n",
    "        sessions.append({\n",
    "            'items': metric_item_ids,\n",
    "            'votes': metric_votes,\n",
    "            'votes_ndgc': mt.ndcg(metric_votes)\n",
    "        })\n",
    "\n",
    "        logging.info(f'{log_prefix}Session eval metrics registered successfully...')\n",
    "\n",
    "    evaluation_state.save()\n",
    "    clear_output(wait=True)\n",
    "\n",
    "    if times % plot_interval == 0:\n",
    "        evaluation_state.plot_metrics()\n",
    "\n",
    "    times += 1\n",
    "\n",
    "api_client.verbose_on"
   ]
  },
  {
   "cell_type": "code",
   "execution_count": 30,
   "id": "70133c42-0003-4c52-9a0a-4c5574ea8c23",
   "metadata": {},
   "outputs": [],
   "source": [
    "evaluation_state = ut.Picket.load(EVAL_METRICS_PATH)"
   ]
  },
  {
   "cell_type": "code",
   "execution_count": 29,
   "id": "c46316b2-76fe-47ca-a05f-86728b37c7a7",
   "metadata": {
    "scrolled": true
   },
   "outputs": [
    {
     "data": {
      "text/html": [
       "<pre style=\"white-space:pre;overflow-x:auto;line-height:normal;font-family:Menlo,'DejaVu Sans Mono',consolas,'Courier New',monospace\"></pre>\n"
      ],
      "text/plain": []
     },
     "metadata": {},
     "output_type": "display_data"
    },
    {
     "data": {
      "image/png": "[encoded data removed]",
      "text/plain": [
       "\u001b[1m<\u001b[0m\u001b[1;95mFigure\u001b[0m\u001b[39m size 150\u001b[0m\u001b[1;36m0x800\u001b[0m\u001b[39m with \u001b[0m\u001b[1;36m1\u001b[0m\u001b[39m Axes\u001b[0m\u001b[1m>\u001b[0m"
      ]
     },
     "metadata": {},
     "output_type": "display_data"
    }
   ],
   "source": [
    "plot_metrics(evaluation_state)"
   ]
  },
  {
   "cell_type": "markdown",
   "id": "f318d961-f5e7-477e-b7ae-3f83ca0ae4ae",
   "metadata": {},
   "source": [
    "https://colab.research.google.com/drive/1ySN-gbMt6-5OeXCnp8-NorrmfJ24jw2y"
   ]
  },
  {
   "cell_type": "code",
   "execution_count": 33,
   "id": "27193d70-2cfa-4d3a-8a23-8e6b4ad3f852",
   "metadata": {},
   "outputs": [],
   "source": [
    "# evaluation_state"
   ]
  },
  {
   "cell_type": "code",
   "execution_count": 38,
   "id": "07ad0992-5aed-47fd-8ca4-a49f54725c9a",
   "metadata": {},
   "outputs": [
    {
     "data": {
      "text/html": [
       "<pre style=\"white-space:pre;overflow-x:auto;line-height:normal;font-family:Menlo,'DejaVu Sans Mono',consolas,'Courier New',monospace\"></pre>\n"
      ],
      "text/plain": []
     },
     "metadata": {},
     "output_type": "display_data"
    },
    {
     "data": {
      "text/plain": [
       "\n",
       "\u001b[1m[\u001b[0m\n",
       "    \u001b[1m{\u001b[0m\u001b[32m'items'\u001b[0m: \u001b[1m[\u001b[0m\u001b[1;36m115569\u001b[0m, \u001b[1;36m26471\u001b[0m, \u001b[1;36m31672\u001b[0m\u001b[1m]\u001b[0m, \u001b[32m'votes'\u001b[0m: \u001b[1m[\u001b[0m\u001b[1;36m3.95\u001b[0m, \u001b[1;36m3.5\u001b[0m, \u001b[1;36m3.0\u001b[0m\u001b[1m]\u001b[0m, \u001b[32m'votes_ndgc'\u001b[0m: \u001b[1;36m1.0\u001b[0m\u001b[1m}\u001b[0m,\n",
       "    \u001b[1m{\u001b[0m\u001b[32m'items'\u001b[0m: \u001b[1m[\u001b[0m\u001b[1;36m1269\u001b[0m, \u001b[1;36m55269\u001b[0m, \u001b[1;36m7924\u001b[0m\u001b[1m]\u001b[0m, \u001b[32m'votes'\u001b[0m: \u001b[1m[\u001b[0m\u001b[1;36m4.0689655172\u001b[0m, \u001b[1;36m3.7195121951\u001b[0m, \u001b[1;36m3.7\u001b[0m\u001b[1m]\u001b[0m, \u001b[32m'votes_ndgc'\u001b[0m: \u001b[1;36m1.0\u001b[0m\u001b[1m}\u001b[0m,\n",
       "    \u001b[1m{\u001b[0m\u001b[32m'items'\u001b[0m: \u001b[1m[\u001b[0m\u001b[1;36m2932\u001b[0m, \u001b[1;36m71108\u001b[0m\u001b[1m]\u001b[0m, \u001b[32m'votes'\u001b[0m: \u001b[1m[\u001b[0m\u001b[1;36m3.5238095238\u001b[0m, \u001b[1;36m3.36\u001b[0m\u001b[1m]\u001b[0m, \u001b[32m'votes_ndgc'\u001b[0m: \u001b[1;36m1.0\u001b[0m\u001b[1m}\u001b[0m,\n",
       "    \u001b[1m{\u001b[0m\n",
       "        \u001b[32m'items'\u001b[0m: \u001b[1m[\u001b[0m\u001b[1;36m4102\u001b[0m, \u001b[1;36m46441\u001b[0m, \u001b[1;36m72276\u001b[0m\u001b[1m]\u001b[0m,\n",
       "        \u001b[32m'votes'\u001b[0m: \u001b[1m[\u001b[0m\u001b[1;36m3.8333333333\u001b[0m, \u001b[1;36m1.0\u001b[0m, \u001b[1;36m2.0\u001b[0m\u001b[1m]\u001b[0m,\n",
       "        \u001b[32m'votes_ndgc'\u001b[0m: \u001b[1;36m0.9765995994588288\u001b[0m\n",
       "    \u001b[1m}\u001b[0m,\n",
       "    \u001b[1m{\u001b[0m\u001b[32m'items'\u001b[0m: \u001b[1m[\u001b[0m\u001b[1;36m6539\u001b[0m, \u001b[1;36m43376\u001b[0m\u001b[1m]\u001b[0m, \u001b[32m'votes'\u001b[0m: \u001b[1m[\u001b[0m\u001b[1;36m3.8622047244\u001b[0m, \u001b[1;36m3.7727272727\u001b[0m\u001b[1m]\u001b[0m, \u001b[32m'votes_ndgc'\u001b[0m: \u001b[1;36m1.0\u001b[0m\u001b[1m}\u001b[0m,\n",
       "    \u001b[1m{\u001b[0m\n",
       "        \u001b[32m'items'\u001b[0m: \u001b[1m[\u001b[0m\u001b[1;36m27803\u001b[0m, \u001b[1;36m128606\u001b[0m, \u001b[1;36m8694\u001b[0m, \u001b[1;36m64280\u001b[0m\u001b[1m]\u001b[0m,\n",
       "        \u001b[32m'votes'\u001b[0m: \u001b[1m[\u001b[0m\u001b[1;36m3.71875\u001b[0m, \u001b[1;36m3.5\u001b[0m, \u001b[1;36m3.0\u001b[0m, \u001b[1;36m4.0\u001b[0m\u001b[1m]\u001b[0m,\n",
       "        \u001b[32m'votes_ndgc'\u001b[0m: \u001b[1;36m0.9745865243693221\u001b[0m\n",
       "    \u001b[1m}\u001b[0m\n",
       "\u001b[1m]\u001b[0m"
      ]
     },
     "execution_count": 38,
     "metadata": {},
     "output_type": "execute_result"
    }
   ],
   "source": [
    "evaluation_state['metrics_by_user_id'][3503]"
   ]
  },
  {
   "cell_type": "code",
   "execution_count": 34,
   "id": "d081eb3d-440c-4c1c-b377-4fbb21259911",
   "metadata": {},
   "outputs": [
    {
     "data": {
      "text/html": [
       "<pre style=\"white-space:pre;overflow-x:auto;line-height:normal;font-family:Menlo,'DejaVu Sans Mono',consolas,'Courier New',monospace\">Mean Reciprocal Rank: <span style=\"color: #008080; text-decoration-color: #008080; font-weight: bold\">0.39</span>\n",
       "</pre>\n"
      ],
      "text/plain": [
       "Mean Reciprocal Rank: \u001b[1;36m0.39\u001b[0m\n"
      ]
     },
     "metadata": {},
     "output_type": "display_data"
    }
   ],
   "source": [
    "def mean_reciprocal_rank(recommended_items_list, relevant_items_list):\n",
    "    if len(recommended_items_list) != len(relevant_items_list):\n",
    "        raise ValueError(\"The length of recommended_items_list and relevant_items_list must be the same.\")\n",
    "\n",
    "    reciprocal_ranks = []\n",
    "\n",
    "    # Iterate through the lists of recommended items and relevant items for each user\n",
    "    for recommended_items, relevant_items in zip(recommended_items_list, relevant_items_list):\n",
    "        # Find the reciprocal rank for each user\n",
    "        for rank, item in enumerate(recommended_items, start=1):\n",
    "            if item in relevant_items:\n",
    "                reciprocal_ranks.append(1 / rank)\n",
    "                break\n",
    "        else:\n",
    "            reciprocal_ranks.append(0)\n",
    "\n",
    "    # Calculate the mean reciprocal rank\n",
    "    mrr = sum(reciprocal_ranks) / len(reciprocal_ranks)\n",
    "    return mrr\n",
    "\n",
    "# Example usage\n",
    "recommended_items_list = [\n",
    "    [1, 3, 5, 7, 9],\n",
    "    [2, 4, 6, 8],\n",
    "    [11, 12, 13, 14, 15, 16, 17]\n",
    "]\n",
    "\n",
    "relevant_items_list = [\n",
    "    [2, 3, 5, 7, 11],\n",
    "    [1, 4, 6, 8, 9],\n",
    "    [16, 17, 18, 19, 20]\n",
    "]\n",
    "\n",
    "mrr = mean_reciprocal_rank(recommended_items_list, relevant_items_list)\n",
    "print(f\"Mean Reciprocal Rank: {mrr:.2f}\")"
   ]
  },
  {
   "cell_type": "code",
   "execution_count": null,
   "id": "3b0cbf34-3ce8-4ee8-aad9-203edecb9774",
   "metadata": {},
   "outputs": [],
   "source": []
  }
 ],
 "metadata": {
  "kernelspec": {
   "display_name": "Python 3 (ipykernel)",
   "language": "python",
   "name": "python3"
  },
  "language_info": {
   "codemirror_mode": {
    "name": "ipython",
    "version": 3
   },
   "file_extension": ".py",
   "mimetype": "text/x-python",
   "name": "python",
   "nbconvert_exporter": "python",
   "pygments_lexer": "ipython3",
   "version": "3.11.5"
  },
  "widgets": {
   "application/vnd.jupyter.widget-state+json": {
    "state": {},
    "version_major": 2,
    "version_minor": 0
   }
  }
 },
 "nbformat": 4,
 "nbformat_minor": 5
}
