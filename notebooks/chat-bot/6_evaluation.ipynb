{
 "cells": [
  {
   "cell_type": "markdown",
   "id": "0417277b-47df-4113-a7b3-8f960db06f1d",
   "metadata": {
    "tags": []
   },
   "source": [
    "# Recommender ChatBot: Evaluation"
   ]
  },
  {
   "cell_type": "code",
   "execution_count": 1,
   "id": "59f0eac0-30e8-4e72-860e-05541c36b82e",
   "metadata": {},
   "outputs": [],
   "source": [
    "%load_ext autoreload\n",
    "%autoreload 2"
   ]
  },
  {
   "cell_type": "code",
   "execution_count": 2,
   "id": "6fe490fd-66c5-4b3f-a327-62aa5d01f21c",
   "metadata": {},
   "outputs": [],
   "source": [
    "import os\n",
    "\n",
    "BASE_PATH    = '../..'\n",
    "API_PATH     = f'{BASE_PATH}/chat-bot-api'\n",
    "LIB_PATH     = f'{BASE_PATH}/lib'\n",
    "DATASET_PATH = f'{BASE_PATH}/datasets'\n",
    "\n",
    "os.environ['TMP_PATH']         = f'{BASE_PATH}/tmp'\n",
    "os.environ['DATASET_PATH']     = f'{BASE_PATH}/datasets'\n",
    "os.environ['WEIGHTS_PATH']     = f'{BASE_PATH}/weights'\n",
    "os.environ['METRICS_PATH']     = f'{BASE_PATH}/metrics'"
   ]
  },
  {
   "cell_type": "code",
   "execution_count": 3,
   "id": "7d8995d5-fcda-4001-b18d-a08574e40362",
   "metadata": {},
   "outputs": [],
   "source": [
    "import sys\n",
    "sys.path.append(LIB_PATH)\n",
    "sys.path.append(API_PATH)\n",
    "\n",
    "import pytorch_common.util as pu\n",
    "\n",
    "import client\n",
    "\n",
    "import util as ut\n",
    "from faker import Faker"
   ]
  },
  {
   "cell_type": "markdown",
   "id": "f22994c9-24c7-4ae7-a8c0-88dcbaf178fe",
   "metadata": {},
   "source": [
    "# Common Functions and Classes"
   ]
  },
  {
   "cell_type": "code",
   "execution_count": 4,
   "id": "60a29d8e-1743-4cc1-a3a7-f217e39fccc4",
   "metadata": {},
   "outputs": [],
   "source": [
    "import pandas as pd\n",
    "import numpy as np\n",
    "\n",
    "def genres_count(interactions_test_set, items, user_id):\n",
    "    df = interactions_test_set[interactions_test_set['user_id'] == user_id]\n",
    "\n",
    "    item_ids = df['item_id'].unique()\n",
    "    \n",
    "    genres = []\n",
    "    for item_id in item_ids:\n",
    "        genres.extend(items[items['movie_id'] == item_id]['movie_genres'].tolist()[0])\n",
    "\n",
    "    return pd.Series(genres).value_counts().reset_index(name='count')\n",
    "\n",
    "\n",
    "\n",
    "def releases(interactions_test_set, items, user_id):\n",
    "    df = interactions_test_set[interactions_test_set['user_id'] == user_id]\n",
    "\n",
    "    return np.sort(items[items['movie_id'].isin(df['item_id'].unique())]['movie_release_year'].unique())"
   ]
  },
  {
   "cell_type": "markdown",
   "id": "d757391b-ad9f-4047-9b23-e3bd23fbe37b",
   "metadata": {},
   "source": [
    "## Setup"
   ]
  },
  {
   "cell_type": "code",
   "execution_count": 5,
   "id": "efba19c8-6de3-4a6c-b804-658d0aff6bdb",
   "metadata": {},
   "outputs": [
    {
     "data": {
      "text/html": [
       "<pre style=\"white-space:pre;overflow-x:auto;line-height:normal;font-family:Menlo,'DejaVu Sans Mono',consolas,'Courier New',monospace\"></pre>\n"
      ],
      "text/plain": []
     },
     "metadata": {},
     "output_type": "display_data"
    },
    {
     "data": {
      "text/plain": [
       "\u001b[1m<\u001b[0m\u001b[1;95mRootLogger\u001b[0m\u001b[39m root \u001b[0m\u001b[1;39m(\u001b[0m\u001b[39mINFO\u001b[0m\u001b[1;39m)\u001b[0m\u001b[1m>\u001b[0m"
      ]
     },
     "execution_count": 5,
     "metadata": {},
     "output_type": "execute_result"
    }
   ],
   "source": [
    "pu.LoggerBuilder().on_console().build()"
   ]
  },
  {
   "cell_type": "markdown",
   "id": "9e7f2032-7e01-4865-8d9e-4ed7d7264862",
   "metadata": {},
   "source": [
    "**Step 1**: Load interactions test set."
   ]
  },
  {
   "cell_type": "code",
   "execution_count": 6,
   "id": "c9b027c9-06a0-4037-b467-90547e73e9c9",
   "metadata": {
    "tags": []
   },
   "outputs": [],
   "source": [
    "interactions_test_set = ut.load_df(f'{DATASET_PATH}/interactions_test_set.json')"
   ]
  },
  {
   "cell_type": "code",
   "execution_count": 7,
   "id": "e6f574f8-4b82-43b8-9992-c2ea23429d6b",
   "metadata": {},
   "outputs": [],
   "source": [
    "items = ut.load_df(f'{DATASET_PATH}/pre-processed-movies.json')"
   ]
  },
  {
   "cell_type": "markdown",
   "id": "d9b0f0bc-c8e0-45f8-b5e6-57d23f94aa0c",
   "metadata": {
    "tags": []
   },
   "source": [
    "**Step 2**: Create **Recommendation Chatbot API** client."
   ]
  },
  {
   "cell_type": "code",
   "execution_count": 8,
   "id": "72432e7f-f377-40a6-968e-eeb4aba00c7d",
   "metadata": {},
   "outputs": [],
   "source": [
    "api_client = client.RecChatBotV1ApiClient()"
   ]
  },
  {
   "cell_type": "code",
   "execution_count": 14,
   "id": "eec83bac-ecd4-4787-b76a-8f8c6ac5511a",
   "metadata": {},
   "outputs": [
    {
     "name": "stderr",
     "output_type": "stream",
     "text": [
      "2024-03-18 21:23:16,852 - INFO - GET http://nonosoft.ddns.net:8080/api/v1/health\n"
     ]
    },
    {
     "data": {
      "text/html": [
       "<pre style=\"white-space:pre;overflow-x:auto;line-height:normal;font-family:Menlo,'DejaVu Sans Mono',consolas,'Courier New',monospace\"></pre>\n"
      ],
      "text/plain": []
     },
     "metadata": {},
     "output_type": "display_data"
    },
    {
     "data": {
      "text/plain": [
       "\n",
       "\u001b[1m{\u001b[0m\n",
       "    \u001b[32m'chatbot_api'\u001b[0m: \u001b[3;92mTrue\u001b[0m,\n",
       "    \u001b[32m'ollama_api'\u001b[0m: \u001b[3;92mTrue\u001b[0m,\n",
       "    \u001b[32m'airflow'\u001b[0m: \u001b[1m{\u001b[0m\u001b[32m'metadatabase'\u001b[0m: \u001b[3;92mTrue\u001b[0m, \u001b[32m'scheduler'\u001b[0m: \u001b[3;92mTrue\u001b[0m\u001b[1m}\u001b[0m,\n",
       "    \u001b[32m'mongo_database'\u001b[0m: \u001b[3;92mTrue\u001b[0m,\n",
       "    \u001b[32m'choma_database'\u001b[0m: \u001b[3;92mTrue\u001b[0m\n",
       "\u001b[1m}\u001b[0m"
      ]
     },
     "execution_count": 14,
     "metadata": {},
     "output_type": "execute_result"
    }
   ],
   "source": [
    "api_client.health"
   ]
  },
  {
   "cell_type": "markdown",
   "id": "bea9453e-1d68-44f7-a88f-82debef4b2e9",
   "metadata": {
    "tags": []
   },
   "source": [
    "**Step 3**: Create profiles for test users."
   ]
  },
  {
   "cell_type": "code",
   "execution_count": 10,
   "id": "f4698066-1e45-4751-bf2c-5600c2fab259",
   "metadata": {
    "tags": []
   },
   "outputs": [],
   "source": [
    "fake = Faker()\n",
    "\n",
    "to_email = lambda name: name.lower().replace(' ', '.') + '@gmail.com'\n",
    "\n",
    "user_ids = interactions_test_set['user_id'].unique()\n",
    "\n",
    "profiles = []\n",
    "\n",
    "for user_id in user_ids:\n",
    "    name  = fake.name()\n",
    "    email  = to_email(name)\n",
    "    genres_count_df = genres_count(interactions_test_set, items, user_id=user_id)\n",
    "    genres = genres_count_df[genres_count_df['count'] >= 10]['index'].tolist()\n",
    "\n",
    "    release = str(releases(interactions_test_set, items, user_id=user_id)[0])\n",
    "    \n",
    "    profile = client.UserProfileDto(\n",
    "        name             = name,\n",
    "        email            = to_email(name),\n",
    "        preferred_from   = release,\n",
    "        preferred_genres = genres\n",
    "    )\n",
    "\n",
    "    profiles.append(profile)"
   ]
  },
  {
   "cell_type": "code",
   "execution_count": 12,
   "id": "b50b84b0-6297-4fb7-9d06-c44cd0043db6",
   "metadata": {},
   "outputs": [
    {
     "name": "stderr",
     "output_type": "stream",
     "text": [
      "2024-03-18 20:34:57,309 - INFO - DELETE http://nonosoft.ddns.net:8080/api/v1/interactions/users/david.tran@gmail.com\n",
      "2024-03-18 20:34:57,368 - INFO - DELETE http://nonosoft.ddns.net:8080/api/v1/interactions/users/charles.williams@gmail.com\n",
      "2024-03-18 20:34:57,395 - INFO - DELETE http://nonosoft.ddns.net:8080/api/v1/interactions/users/marissa.spencer@gmail.com\n",
      "2024-03-18 20:34:57,417 - INFO - DELETE http://nonosoft.ddns.net:8080/api/v1/interactions/users/pamela.knox@gmail.com\n",
      "2024-03-18 20:34:57,440 - INFO - DELETE http://nonosoft.ddns.net:8080/api/v1/interactions/users/sabrina.diaz@gmail.com\n",
      "2024-03-18 20:34:57,463 - INFO - DELETE http://nonosoft.ddns.net:8080/api/v1/interactions/users/george.knight@gmail.com\n",
      "2024-03-18 20:34:57,485 - INFO - DELETE http://nonosoft.ddns.net:8080/api/v1/interactions/users/latoya.snow@gmail.com\n",
      "2024-03-18 20:34:57,508 - INFO - DELETE http://nonosoft.ddns.net:8080/api/v1/interactions/users/veronica.taylor@gmail.com\n",
      "2024-03-18 20:34:57,530 - INFO - DELETE http://nonosoft.ddns.net:8080/api/v1/interactions/users/jeremy.rice@gmail.com\n",
      "2024-03-18 20:34:57,553 - INFO - DELETE http://nonosoft.ddns.net:8080/api/v1/interactions/users/elizabeth.allen@gmail.com\n",
      "2024-03-18 20:34:57,575 - INFO - DELETE http://nonosoft.ddns.net:8080/api/v1/interactions/users/erica.roberts@gmail.com\n",
      "2024-03-18 20:34:57,598 - INFO - DELETE http://nonosoft.ddns.net:8080/api/v1/interactions/users/brianna.erickson@gmail.com\n",
      "2024-03-18 20:34:57,619 - INFO - DELETE http://nonosoft.ddns.net:8080/api/v1/interactions/users/amber.ford@gmail.com\n",
      "2024-03-18 20:34:57,641 - INFO - DELETE http://nonosoft.ddns.net:8080/api/v1/interactions/users/brian.garza@gmail.com\n",
      "2024-03-18 20:34:57,663 - INFO - DELETE http://nonosoft.ddns.net:8080/api/v1/interactions/users/courtney.lewis@gmail.com\n",
      "2024-03-18 20:34:57,686 - INFO - DELETE http://nonosoft.ddns.net:8080/api/v1/interactions/users/christopher.moore@gmail.com\n",
      "2024-03-18 20:34:57,708 - INFO - DELETE http://nonosoft.ddns.net:8080/api/v1/interactions/users/alexander.king@gmail.com\n",
      "2024-03-18 20:34:57,729 - INFO - DELETE http://nonosoft.ddns.net:8080/api/v1/interactions/users/katherine.richmond@gmail.com\n",
      "2024-03-18 20:34:57,752 - INFO - DELETE http://nonosoft.ddns.net:8080/api/v1/interactions/users/amanda.williamson@gmail.com\n",
      "2024-03-18 20:34:57,774 - INFO - DELETE http://nonosoft.ddns.net:8080/api/v1/interactions/users/matthew.mitchell@gmail.com\n",
      "2024-03-18 20:34:57,797 - INFO - DELETE http://nonosoft.ddns.net:8080/api/v1/interactions/users/michelle.bryant@gmail.com\n",
      "2024-03-18 20:34:57,822 - INFO - DELETE http://nonosoft.ddns.net:8080/api/v1/interactions/users/cheryl.ellis@gmail.com\n",
      "2024-03-18 20:34:57,843 - INFO - DELETE http://nonosoft.ddns.net:8080/api/v1/interactions/users/anne.ramos@gmail.com\n",
      "2024-03-18 20:34:57,866 - INFO - DELETE http://nonosoft.ddns.net:8080/api/v1/interactions/users/michael.frey@gmail.com\n",
      "2024-03-18 20:34:57,889 - INFO - DELETE http://nonosoft.ddns.net:8080/api/v1/interactions/users/ann.powers@gmail.com\n",
      "2024-03-18 20:34:57,910 - INFO - DELETE http://nonosoft.ddns.net:8080/api/v1/interactions/users/douglas.ray@gmail.com\n",
      "2024-03-18 20:34:57,933 - INFO - DELETE http://nonosoft.ddns.net:8080/api/v1/interactions/users/lisa.kim@gmail.com\n",
      "2024-03-18 20:34:57,958 - INFO - DELETE http://nonosoft.ddns.net:8080/api/v1/interactions/users/laura.villanueva@gmail.com\n",
      "2024-03-18 20:34:57,981 - INFO - DELETE http://nonosoft.ddns.net:8080/api/v1/interactions/users/amy.powell@gmail.com\n",
      "2024-03-18 20:34:58,002 - INFO - DELETE http://nonosoft.ddns.net:8080/api/v1/interactions/users/melissa.johnson@gmail.com\n",
      "2024-03-18 20:34:58,024 - INFO - DELETE http://nonosoft.ddns.net:8080/api/v1/interactions/users/ashley.clayton@gmail.com\n",
      "2024-03-18 20:34:58,048 - INFO - DELETE http://nonosoft.ddns.net:8080/api/v1/interactions/users/theresa.boone@gmail.com\n",
      "2024-03-18 20:34:58,070 - INFO - DELETE http://nonosoft.ddns.net:8080/api/v1/interactions/users/kristin.raymond.dds@gmail.com\n",
      "2024-03-18 20:34:58,092 - INFO - DELETE http://nonosoft.ddns.net:8080/api/v1/interactions/users/jared.roberts@gmail.com\n",
      "2024-03-18 20:34:58,114 - INFO - DELETE http://nonosoft.ddns.net:8080/api/v1/interactions/users/cynthia.fuentes@gmail.com\n",
      "2024-03-18 20:34:58,137 - INFO - DELETE http://nonosoft.ddns.net:8080/api/v1/interactions/users/rebecca.ritter@gmail.com\n",
      "2024-03-18 20:34:58,159 - INFO - DELETE http://nonosoft.ddns.net:8080/api/v1/interactions/users/jared.white@gmail.com\n",
      "2024-03-18 20:34:58,180 - INFO - DELETE http://nonosoft.ddns.net:8080/api/v1/interactions/users/laura.lynn@gmail.com\n",
      "2024-03-18 20:34:58,206 - INFO - DELETE http://nonosoft.ddns.net:8080/api/v1/interactions/users/doris.pena@gmail.com\n",
      "2024-03-18 20:34:58,229 - INFO - DELETE http://nonosoft.ddns.net:8080/api/v1/interactions/users/sean.jackson@gmail.com\n",
      "2024-03-18 20:34:58,250 - INFO - DELETE http://nonosoft.ddns.net:8080/api/v1/interactions/users/dawn.perez@gmail.com\n",
      "2024-03-18 20:34:58,273 - INFO - DELETE http://nonosoft.ddns.net:8080/api/v1/interactions/users/wayne.parks@gmail.com\n",
      "2024-03-18 20:34:58,296 - INFO - DELETE http://nonosoft.ddns.net:8080/api/v1/interactions/users/kimberly.martin@gmail.com\n",
      "2024-03-18 20:34:58,319 - INFO - DELETE http://nonosoft.ddns.net:8080/api/v1/interactions/users/patricia.washington@gmail.com\n",
      "2024-03-18 20:34:58,340 - INFO - DELETE http://nonosoft.ddns.net:8080/api/v1/interactions/users/amanda.payne@gmail.com\n",
      "2024-03-18 20:34:58,362 - INFO - DELETE http://nonosoft.ddns.net:8080/api/v1/interactions/users/christine.macias@gmail.com\n",
      "2024-03-18 20:34:58,396 - INFO - DELETE http://nonosoft.ddns.net:8080/api/v1/interactions/users/april.cohen@gmail.com\n",
      "2024-03-18 20:34:58,419 - INFO - DELETE http://nonosoft.ddns.net:8080/api/v1/interactions/users/brandi.murphy@gmail.com\n",
      "2024-03-18 20:34:58,440 - INFO - DELETE http://nonosoft.ddns.net:8080/api/v1/interactions/users/stephen.villegas@gmail.com\n",
      "2024-03-18 20:34:58,462 - INFO - DELETE http://nonosoft.ddns.net:8080/api/v1/interactions/users/amanda.baker@gmail.com\n",
      "2024-03-18 20:34:58,485 - INFO - DELETE http://nonosoft.ddns.net:8080/api/v1/interactions/users/jeffrey.armstrong@gmail.com\n",
      "2024-03-18 20:34:58,507 - INFO - DELETE http://nonosoft.ddns.net:8080/api/v1/interactions/users/joshua.roman@gmail.com\n",
      "2024-03-18 20:34:58,530 - INFO - DELETE http://nonosoft.ddns.net:8080/api/v1/interactions/users/john.smith@gmail.com\n",
      "2024-03-18 20:34:58,554 - INFO - DELETE http://nonosoft.ddns.net:8080/api/v1/interactions/users/dana.johnson@gmail.com\n",
      "2024-03-18 20:34:58,579 - INFO - DELETE http://nonosoft.ddns.net:8080/api/v1/interactions/users/eric.ward@gmail.com\n",
      "2024-03-18 20:34:58,601 - INFO - DELETE http://nonosoft.ddns.net:8080/api/v1/interactions/users/nicholas.barnett@gmail.com\n",
      "2024-03-18 20:34:58,622 - INFO - DELETE http://nonosoft.ddns.net:8080/api/v1/interactions/users/john.gonzalez@gmail.com\n",
      "2024-03-18 20:34:58,644 - INFO - DELETE http://nonosoft.ddns.net:8080/api/v1/interactions/users/thomas.jones@gmail.com\n",
      "2024-03-18 20:34:58,668 - INFO - DELETE http://nonosoft.ddns.net:8080/api/v1/interactions/users/caroline.davidson@gmail.com\n",
      "2024-03-18 20:34:58,691 - INFO - DELETE http://nonosoft.ddns.net:8080/api/v1/interactions/users/jenna.clark@gmail.com\n",
      "2024-03-18 20:34:58,714 - INFO - DELETE http://nonosoft.ddns.net:8080/api/v1/interactions/users/brian.mills@gmail.com\n",
      "2024-03-18 20:34:58,736 - INFO - DELETE http://nonosoft.ddns.net:8080/api/v1/interactions/users/michael.santos@gmail.com\n",
      "2024-03-18 20:34:58,758 - INFO - DELETE http://nonosoft.ddns.net:8080/api/v1/interactions/users/parker.shaw@gmail.com\n",
      "2024-03-18 20:34:58,785 - INFO - DELETE http://nonosoft.ddns.net:8080/api/v1/interactions/users/katherine.johnson@gmail.com\n",
      "2024-03-18 20:34:58,807 - INFO - DELETE http://nonosoft.ddns.net:8080/api/v1/interactions/users/kayla.morgan@gmail.com\n",
      "2024-03-18 20:34:58,830 - INFO - DELETE http://nonosoft.ddns.net:8080/api/v1/interactions/users/regina.morrison@gmail.com\n",
      "2024-03-18 20:34:58,857 - INFO - DELETE http://nonosoft.ddns.net:8080/api/v1/interactions/users/ryan.santos@gmail.com\n",
      "2024-03-18 20:34:58,881 - INFO - DELETE http://nonosoft.ddns.net:8080/api/v1/interactions/users/angela.black@gmail.com\n",
      "2024-03-18 20:34:58,903 - INFO - DELETE http://nonosoft.ddns.net:8080/api/v1/interactions/users/laura.white@gmail.com\n",
      "2024-03-18 20:34:58,924 - INFO - DELETE http://nonosoft.ddns.net:8080/api/v1/interactions/users/valerie.bishop@gmail.com\n",
      "2024-03-18 20:34:58,945 - INFO - DELETE http://nonosoft.ddns.net:8080/api/v1/interactions/users/christine.johnson@gmail.com\n",
      "2024-03-18 20:34:58,967 - INFO - DELETE http://nonosoft.ddns.net:8080/api/v1/interactions/users/thomas.garcia@gmail.com\n",
      "2024-03-18 20:34:58,988 - INFO - DELETE http://nonosoft.ddns.net:8080/api/v1/interactions/users/angela.carroll@gmail.com\n",
      "2024-03-18 20:34:59,016 - INFO - DELETE http://nonosoft.ddns.net:8080/api/v1/interactions/users/thomas.short@gmail.com\n",
      "2024-03-18 20:34:59,037 - INFO - DELETE http://nonosoft.ddns.net:8080/api/v1/interactions/users/jack.williams@gmail.com\n",
      "2024-03-18 20:34:59,060 - INFO - DELETE http://nonosoft.ddns.net:8080/api/v1/interactions/users/leonard.wong@gmail.com\n",
      "2024-03-18 20:34:59,082 - INFO - DELETE http://nonosoft.ddns.net:8080/api/v1/interactions/users/benjamin.schmidt@gmail.com\n",
      "2024-03-18 20:34:59,105 - INFO - DELETE http://nonosoft.ddns.net:8080/api/v1/interactions/users/kimberly.walsh@gmail.com\n",
      "2024-03-18 20:34:59,126 - INFO - DELETE http://nonosoft.ddns.net:8080/api/v1/interactions/users/samantha.martinez@gmail.com\n",
      "2024-03-18 20:34:59,149 - INFO - DELETE http://nonosoft.ddns.net:8080/api/v1/interactions/users/alison.nelson@gmail.com\n",
      "2024-03-18 20:34:59,173 - INFO - DELETE http://nonosoft.ddns.net:8080/api/v1/interactions/users/patrick.sullivan@gmail.com\n",
      "2024-03-18 20:34:59,196 - INFO - DELETE http://nonosoft.ddns.net:8080/api/v1/interactions/users/audrey.jackson@gmail.com\n",
      "2024-03-18 20:34:59,226 - INFO - DELETE http://nonosoft.ddns.net:8080/api/v1/interactions/users/thomas.crawford@gmail.com\n",
      "2024-03-18 20:34:59,253 - INFO - DELETE http://nonosoft.ddns.net:8080/api/v1/interactions/users/lisa.lowe@gmail.com\n",
      "2024-03-18 20:34:59,277 - INFO - DELETE http://nonosoft.ddns.net:8080/api/v1/interactions/users/leslie.daniel@gmail.com\n",
      "2024-03-18 20:34:59,299 - INFO - DELETE http://nonosoft.ddns.net:8080/api/v1/interactions/users/susan.harris@gmail.com\n",
      "2024-03-18 20:34:59,327 - INFO - DELETE http://nonosoft.ddns.net:8080/api/v1/interactions/users/richard.cole@gmail.com\n",
      "2024-03-18 20:34:59,358 - INFO - DELETE http://nonosoft.ddns.net:8080/api/v1/interactions/users/michael.gilmore@gmail.com\n",
      "2024-03-18 20:34:59,378 - INFO - DELETE http://nonosoft.ddns.net:8080/api/v1/interactions/users/douglas.grant@gmail.com\n",
      "2024-03-18 20:34:59,413 - INFO - DELETE http://nonosoft.ddns.net:8080/api/v1/interactions/users/brandy.brown@gmail.com\n",
      "2024-03-18 20:34:59,431 - INFO - DELETE http://nonosoft.ddns.net:8080/api/v1/interactions/users/michael.jones@gmail.com\n",
      "2024-03-18 20:34:59,454 - INFO - DELETE http://nonosoft.ddns.net:8080/api/v1/interactions/users/bryan.hinton@gmail.com\n",
      "2024-03-18 20:34:59,479 - INFO - DELETE http://nonosoft.ddns.net:8080/api/v1/interactions/users/john.mcclure@gmail.com\n",
      "2024-03-18 20:34:59,505 - INFO - DELETE http://nonosoft.ddns.net:8080/api/v1/interactions/users/amanda.wallace@gmail.com\n",
      "2024-03-18 20:34:59,527 - INFO - DELETE http://nonosoft.ddns.net:8080/api/v1/interactions/users/sue.thompson@gmail.com\n",
      "2024-03-18 20:34:59,548 - INFO - DELETE http://nonosoft.ddns.net:8080/api/v1/interactions/users/nancy.herring@gmail.com\n",
      "2024-03-18 20:34:59,570 - INFO - DELETE http://nonosoft.ddns.net:8080/api/v1/interactions/users/brandi.peters@gmail.com\n",
      "2024-03-18 20:34:59,594 - INFO - DELETE http://nonosoft.ddns.net:8080/api/v1/interactions/users/jessica.hutchinson@gmail.com\n",
      "2024-03-18 20:34:59,617 - INFO - DELETE http://nonosoft.ddns.net:8080/api/v1/interactions/users/nicholas.johnson@gmail.com\n",
      "2024-03-18 20:34:59,642 - INFO - DELETE http://nonosoft.ddns.net:8080/api/v1/interactions/users/hailey.bishop.dds@gmail.com\n",
      "2024-03-18 20:34:59,668 - INFO - DELETE http://nonosoft.ddns.net:8080/api/v1/interactions/users/richard.griffith@gmail.com\n",
      "2024-03-18 20:34:59,691 - INFO - DELETE http://nonosoft.ddns.net:8080/api/v1/interactions/users/amber.hughes@gmail.com\n",
      "2024-03-18 20:34:59,714 - INFO - DELETE http://nonosoft.ddns.net:8080/api/v1/interactions/users/gary.flores@gmail.com\n",
      "2024-03-18 20:34:59,735 - INFO - DELETE http://nonosoft.ddns.net:8080/api/v1/interactions/users/margaret.heath@gmail.com\n",
      "2024-03-18 20:34:59,757 - INFO - DELETE http://nonosoft.ddns.net:8080/api/v1/interactions/users/mark.james@gmail.com\n",
      "2024-03-18 20:34:59,781 - INFO - DELETE http://nonosoft.ddns.net:8080/api/v1/interactions/users/gabriel.jackson@gmail.com\n",
      "2024-03-18 20:34:59,803 - INFO - DELETE http://nonosoft.ddns.net:8080/api/v1/interactions/users/mathew.bailey@gmail.com\n",
      "2024-03-18 20:34:59,825 - INFO - DELETE http://nonosoft.ddns.net:8080/api/v1/interactions/users/jason.dunlap.dds@gmail.com\n",
      "2024-03-18 20:34:59,849 - INFO - DELETE http://nonosoft.ddns.net:8080/api/v1/interactions/users/william.jimenez@gmail.com\n",
      "2024-03-18 20:34:59,871 - INFO - DELETE http://nonosoft.ddns.net:8080/api/v1/interactions/users/heather.boyer@gmail.com\n",
      "2024-03-18 20:34:59,893 - INFO - DELETE http://nonosoft.ddns.net:8080/api/v1/interactions/users/david.george@gmail.com\n",
      "2024-03-18 20:34:59,915 - INFO - DELETE http://nonosoft.ddns.net:8080/api/v1/interactions/users/julie.mcpherson@gmail.com\n",
      "2024-03-18 20:34:59,935 - INFO - DELETE http://nonosoft.ddns.net:8080/api/v1/interactions/users/lindsay.everett@gmail.com\n",
      "2024-03-18 20:34:59,958 - INFO - DELETE http://nonosoft.ddns.net:8080/api/v1/interactions/users/alexander.barnett@gmail.com\n",
      "2024-03-18 20:34:59,981 - INFO - DELETE http://nonosoft.ddns.net:8080/api/v1/interactions/users/teresa.horne@gmail.com\n",
      "2024-03-18 20:35:00,004 - INFO - DELETE http://nonosoft.ddns.net:8080/api/v1/interactions/users/christian.thomas@gmail.com\n",
      "2024-03-18 20:35:00,026 - INFO - DELETE http://nonosoft.ddns.net:8080/api/v1/interactions/users/erik.mason@gmail.com\n",
      "2024-03-18 20:35:00,047 - INFO - DELETE http://nonosoft.ddns.net:8080/api/v1/interactions/users/james.smith@gmail.com\n",
      "2024-03-18 20:35:00,069 - INFO - DELETE http://nonosoft.ddns.net:8080/api/v1/interactions/users/dr..douglas.sims@gmail.com\n",
      "2024-03-18 20:35:00,094 - INFO - DELETE http://nonosoft.ddns.net:8080/api/v1/interactions/users/alyssa.dawson@gmail.com\n",
      "2024-03-18 20:35:00,117 - INFO - DELETE http://nonosoft.ddns.net:8080/api/v1/interactions/users/mary.cunningham@gmail.com\n",
      "2024-03-18 20:35:00,139 - INFO - DELETE http://nonosoft.ddns.net:8080/api/v1/interactions/users/bobby.rojas@gmail.com\n",
      "2024-03-18 20:35:00,162 - INFO - DELETE http://nonosoft.ddns.net:8080/api/v1/interactions/users/april.brown@gmail.com\n",
      "2024-03-18 20:35:00,184 - INFO - DELETE http://nonosoft.ddns.net:8080/api/v1/interactions/users/maria.greene@gmail.com\n",
      "2024-03-18 20:35:00,207 - INFO - DELETE http://nonosoft.ddns.net:8080/api/v1/interactions/users/ryan.odonnell@gmail.com\n",
      "2024-03-18 20:35:00,229 - INFO - DELETE http://nonosoft.ddns.net:8080/api/v1/interactions/users/jennifer.anderson@gmail.com\n",
      "2024-03-18 20:35:00,250 - INFO - DELETE http://nonosoft.ddns.net:8080/api/v1/interactions/users/kathy.hernandez@gmail.com\n",
      "2024-03-18 20:35:00,274 - INFO - DELETE http://nonosoft.ddns.net:8080/api/v1/interactions/users/ronald.marshall@gmail.com\n",
      "2024-03-18 20:35:00,295 - INFO - DELETE http://nonosoft.ddns.net:8080/api/v1/interactions/users/jaime.hamilton.dvm@gmail.com\n",
      "2024-03-18 20:35:00,320 - INFO - DELETE http://nonosoft.ddns.net:8080/api/v1/interactions/users/denise.norman@gmail.com\n",
      "2024-03-18 20:35:00,343 - INFO - DELETE http://nonosoft.ddns.net:8080/api/v1/interactions/users/mark.mason@gmail.com\n",
      "2024-03-18 20:35:00,364 - INFO - DELETE http://nonosoft.ddns.net:8080/api/v1/interactions/users/jacob.hall@gmail.com\n",
      "2024-03-18 20:35:00,389 - INFO - DELETE http://nonosoft.ddns.net:8080/api/v1/interactions/users/brenda.jones@gmail.com\n",
      "2024-03-18 20:35:00,423 - INFO - DELETE http://nonosoft.ddns.net:8080/api/v1/interactions/users/gary.cochran@gmail.com\n",
      "2024-03-18 20:35:00,447 - INFO - DELETE http://nonosoft.ddns.net:8080/api/v1/interactions/users/nathan.hill@gmail.com\n",
      "2024-03-18 20:35:00,468 - INFO - DELETE http://nonosoft.ddns.net:8080/api/v1/interactions/users/audrey.morrison@gmail.com\n",
      "2024-03-18 20:35:00,492 - INFO - DELETE http://nonosoft.ddns.net:8080/api/v1/interactions/users/ashley.garcia@gmail.com\n",
      "2024-03-18 20:35:00,515 - INFO - DELETE http://nonosoft.ddns.net:8080/api/v1/interactions/users/zachary.jackson@gmail.com\n",
      "2024-03-18 20:35:00,537 - INFO - DELETE http://nonosoft.ddns.net:8080/api/v1/interactions/users/gabriel.pearson@gmail.com\n",
      "2024-03-18 20:35:00,561 - INFO - DELETE http://nonosoft.ddns.net:8080/api/v1/interactions/users/terri.goodman@gmail.com\n",
      "2024-03-18 20:35:00,584 - INFO - DELETE http://nonosoft.ddns.net:8080/api/v1/interactions/users/cheryl.schwartz@gmail.com\n",
      "2024-03-18 20:35:00,605 - INFO - DELETE http://nonosoft.ddns.net:8080/api/v1/interactions/users/emily.carter@gmail.com\n",
      "2024-03-18 20:35:00,628 - INFO - DELETE http://nonosoft.ddns.net:8080/api/v1/interactions/users/kayla.knox@gmail.com\n",
      "2024-03-18 20:35:00,651 - INFO - DELETE http://nonosoft.ddns.net:8080/api/v1/interactions/users/brian.jackson@gmail.com\n",
      "2024-03-18 20:35:00,675 - INFO - DELETE http://nonosoft.ddns.net:8080/api/v1/interactions/users/karen.crawford@gmail.com\n",
      "2024-03-18 20:35:00,698 - INFO - DELETE http://nonosoft.ddns.net:8080/api/v1/interactions/users/shannon.jacobson@gmail.com\n",
      "2024-03-18 20:35:00,725 - INFO - DELETE http://nonosoft.ddns.net:8080/api/v1/interactions/users/david.parker@gmail.com\n",
      "2024-03-18 20:35:00,747 - INFO - DELETE http://nonosoft.ddns.net:8080/api/v1/interactions/users/sarah.silva@gmail.com\n",
      "2024-03-18 20:35:00,769 - INFO - DELETE http://nonosoft.ddns.net:8080/api/v1/interactions/users/leslie.horton@gmail.com\n",
      "2024-03-18 20:35:00,792 - INFO - DELETE http://nonosoft.ddns.net:8080/api/v1/interactions/users/karen.davis@gmail.com\n"
     ]
    }
   ],
   "source": [
    "for profile in profiles:\n",
    "    api_client.remove_interactions_by_user_id(profile.email)"
   ]
  },
  {
   "cell_type": "code",
   "execution_count": 13,
   "id": "7a4dcf6a-6b98-4d52-8bb6-82066ab92ebc",
   "metadata": {},
   "outputs": [
    {
     "name": "stderr",
     "output_type": "stream",
     "text": [
      "2024-03-18 20:35:02,672 - INFO - POST http://nonosoft.ddns.net:8080/api/v1/profiles\n",
      "2024-03-18 20:35:02,700 - INFO - POST http://nonosoft.ddns.net:8080/api/v1/profiles\n",
      "2024-03-18 20:35:02,726 - INFO - POST http://nonosoft.ddns.net:8080/api/v1/profiles\n",
      "2024-03-18 20:35:02,749 - INFO - POST http://nonosoft.ddns.net:8080/api/v1/profiles\n",
      "2024-03-18 20:35:02,771 - INFO - POST http://nonosoft.ddns.net:8080/api/v1/profiles\n",
      "2024-03-18 20:35:02,795 - INFO - POST http://nonosoft.ddns.net:8080/api/v1/profiles\n",
      "2024-03-18 20:35:02,817 - INFO - POST http://nonosoft.ddns.net:8080/api/v1/profiles\n",
      "2024-03-18 20:35:02,841 - INFO - POST http://nonosoft.ddns.net:8080/api/v1/profiles\n",
      "2024-03-18 20:35:02,864 - INFO - POST http://nonosoft.ddns.net:8080/api/v1/profiles\n",
      "2024-03-18 20:35:02,884 - INFO - POST http://nonosoft.ddns.net:8080/api/v1/profiles\n",
      "2024-03-18 20:35:02,907 - INFO - POST http://nonosoft.ddns.net:8080/api/v1/profiles\n",
      "2024-03-18 20:35:02,929 - INFO - POST http://nonosoft.ddns.net:8080/api/v1/profiles\n",
      "2024-03-18 20:35:02,953 - INFO - POST http://nonosoft.ddns.net:8080/api/v1/profiles\n",
      "2024-03-18 20:35:02,975 - INFO - POST http://nonosoft.ddns.net:8080/api/v1/profiles\n",
      "2024-03-18 20:35:02,997 - INFO - POST http://nonosoft.ddns.net:8080/api/v1/profiles\n",
      "2024-03-18 20:35:03,024 - INFO - POST http://nonosoft.ddns.net:8080/api/v1/profiles\n",
      "2024-03-18 20:35:03,046 - INFO - POST http://nonosoft.ddns.net:8080/api/v1/profiles\n",
      "2024-03-18 20:35:03,069 - INFO - POST http://nonosoft.ddns.net:8080/api/v1/profiles\n",
      "2024-03-18 20:35:03,091 - INFO - POST http://nonosoft.ddns.net:8080/api/v1/profiles\n",
      "2024-03-18 20:35:03,114 - INFO - POST http://nonosoft.ddns.net:8080/api/v1/profiles\n",
      "2024-03-18 20:35:03,134 - INFO - POST http://nonosoft.ddns.net:8080/api/v1/profiles\n",
      "2024-03-18 20:35:03,159 - INFO - POST http://nonosoft.ddns.net:8080/api/v1/profiles\n",
      "2024-03-18 20:35:03,183 - INFO - POST http://nonosoft.ddns.net:8080/api/v1/profiles\n",
      "2024-03-18 20:35:03,206 - INFO - POST http://nonosoft.ddns.net:8080/api/v1/profiles\n",
      "2024-03-18 20:35:03,229 - INFO - POST http://nonosoft.ddns.net:8080/api/v1/profiles\n",
      "2024-03-18 20:35:03,253 - INFO - POST http://nonosoft.ddns.net:8080/api/v1/profiles\n",
      "2024-03-18 20:35:03,276 - INFO - POST http://nonosoft.ddns.net:8080/api/v1/profiles\n",
      "2024-03-18 20:35:03,300 - INFO - POST http://nonosoft.ddns.net:8080/api/v1/profiles\n",
      "2024-03-18 20:35:03,323 - INFO - POST http://nonosoft.ddns.net:8080/api/v1/profiles\n",
      "2024-03-18 20:35:03,350 - INFO - POST http://nonosoft.ddns.net:8080/api/v1/profiles\n",
      "2024-03-18 20:35:03,372 - INFO - POST http://nonosoft.ddns.net:8080/api/v1/profiles\n",
      "2024-03-18 20:35:03,394 - INFO - POST http://nonosoft.ddns.net:8080/api/v1/profiles\n",
      "2024-03-18 20:35:03,416 - INFO - POST http://nonosoft.ddns.net:8080/api/v1/profiles\n",
      "2024-03-18 20:35:03,449 - INFO - POST http://nonosoft.ddns.net:8080/api/v1/profiles\n",
      "2024-03-18 20:35:03,471 - INFO - POST http://nonosoft.ddns.net:8080/api/v1/profiles\n",
      "2024-03-18 20:35:03,494 - INFO - POST http://nonosoft.ddns.net:8080/api/v1/profiles\n",
      "2024-03-18 20:35:03,516 - INFO - POST http://nonosoft.ddns.net:8080/api/v1/profiles\n",
      "2024-03-18 20:35:03,540 - INFO - POST http://nonosoft.ddns.net:8080/api/v1/profiles\n",
      "2024-03-18 20:35:03,561 - INFO - POST http://nonosoft.ddns.net:8080/api/v1/profiles\n",
      "2024-03-18 20:35:03,584 - INFO - POST http://nonosoft.ddns.net:8080/api/v1/profiles\n",
      "2024-03-18 20:35:03,609 - INFO - POST http://nonosoft.ddns.net:8080/api/v1/profiles\n",
      "2024-03-18 20:35:03,631 - INFO - POST http://nonosoft.ddns.net:8080/api/v1/profiles\n",
      "2024-03-18 20:35:03,670 - INFO - POST http://nonosoft.ddns.net:8080/api/v1/profiles\n",
      "2024-03-18 20:35:03,703 - INFO - POST http://nonosoft.ddns.net:8080/api/v1/profiles\n",
      "2024-03-18 20:35:03,726 - INFO - POST http://nonosoft.ddns.net:8080/api/v1/profiles\n",
      "2024-03-18 20:35:03,747 - INFO - POST http://nonosoft.ddns.net:8080/api/v1/profiles\n",
      "2024-03-18 20:35:03,770 - INFO - POST http://nonosoft.ddns.net:8080/api/v1/profiles\n",
      "2024-03-18 20:35:03,793 - INFO - POST http://nonosoft.ddns.net:8080/api/v1/profiles\n",
      "2024-03-18 20:35:03,821 - INFO - POST http://nonosoft.ddns.net:8080/api/v1/profiles\n",
      "2024-03-18 20:35:03,843 - INFO - POST http://nonosoft.ddns.net:8080/api/v1/profiles\n",
      "2024-03-18 20:35:03,866 - INFO - POST http://nonosoft.ddns.net:8080/api/v1/profiles\n",
      "2024-03-18 20:35:03,889 - INFO - POST http://nonosoft.ddns.net:8080/api/v1/profiles\n",
      "2024-03-18 20:35:03,914 - INFO - POST http://nonosoft.ddns.net:8080/api/v1/profiles\n",
      "2024-03-18 20:35:03,938 - INFO - POST http://nonosoft.ddns.net:8080/api/v1/profiles\n",
      "2024-03-18 20:35:03,960 - INFO - POST http://nonosoft.ddns.net:8080/api/v1/profiles\n",
      "2024-03-18 20:35:03,983 - INFO - POST http://nonosoft.ddns.net:8080/api/v1/profiles\n",
      "2024-03-18 20:35:04,006 - INFO - POST http://nonosoft.ddns.net:8080/api/v1/profiles\n",
      "2024-03-18 20:35:04,027 - INFO - POST http://nonosoft.ddns.net:8080/api/v1/profiles\n",
      "2024-03-18 20:35:04,048 - INFO - POST http://nonosoft.ddns.net:8080/api/v1/profiles\n",
      "2024-03-18 20:35:04,072 - INFO - POST http://nonosoft.ddns.net:8080/api/v1/profiles\n",
      "2024-03-18 20:35:04,095 - INFO - POST http://nonosoft.ddns.net:8080/api/v1/profiles\n",
      "2024-03-18 20:35:04,121 - INFO - POST http://nonosoft.ddns.net:8080/api/v1/profiles\n",
      "2024-03-18 20:35:04,146 - INFO - POST http://nonosoft.ddns.net:8080/api/v1/profiles\n",
      "2024-03-18 20:35:04,168 - INFO - POST http://nonosoft.ddns.net:8080/api/v1/profiles\n",
      "2024-03-18 20:35:04,191 - INFO - POST http://nonosoft.ddns.net:8080/api/v1/profiles\n",
      "2024-03-18 20:35:04,214 - INFO - POST http://nonosoft.ddns.net:8080/api/v1/profiles\n",
      "2024-03-18 20:35:04,238 - INFO - POST http://nonosoft.ddns.net:8080/api/v1/profiles\n",
      "2024-03-18 20:35:04,261 - INFO - POST http://nonosoft.ddns.net:8080/api/v1/profiles\n",
      "2024-03-18 20:35:04,284 - INFO - POST http://nonosoft.ddns.net:8080/api/v1/profiles\n",
      "2024-03-18 20:35:04,309 - INFO - POST http://nonosoft.ddns.net:8080/api/v1/profiles\n",
      "2024-03-18 20:35:04,331 - INFO - POST http://nonosoft.ddns.net:8080/api/v1/profiles\n",
      "2024-03-18 20:35:04,359 - INFO - POST http://nonosoft.ddns.net:8080/api/v1/profiles\n",
      "2024-03-18 20:35:04,385 - INFO - POST http://nonosoft.ddns.net:8080/api/v1/profiles\n",
      "2024-03-18 20:35:04,408 - INFO - POST http://nonosoft.ddns.net:8080/api/v1/profiles\n",
      "2024-03-18 20:35:04,431 - INFO - POST http://nonosoft.ddns.net:8080/api/v1/profiles\n",
      "2024-03-18 20:35:04,465 - INFO - POST http://nonosoft.ddns.net:8080/api/v1/profiles\n",
      "2024-03-18 20:35:04,490 - INFO - POST http://nonosoft.ddns.net:8080/api/v1/profiles\n",
      "2024-03-18 20:35:04,515 - INFO - POST http://nonosoft.ddns.net:8080/api/v1/profiles\n",
      "2024-03-18 20:35:04,541 - INFO - POST http://nonosoft.ddns.net:8080/api/v1/profiles\n",
      "2024-03-18 20:35:04,565 - INFO - POST http://nonosoft.ddns.net:8080/api/v1/profiles\n",
      "2024-03-18 20:35:04,588 - INFO - POST http://nonosoft.ddns.net:8080/api/v1/profiles\n",
      "2024-03-18 20:35:04,614 - INFO - POST http://nonosoft.ddns.net:8080/api/v1/profiles\n",
      "2024-03-18 20:35:04,638 - INFO - POST http://nonosoft.ddns.net:8080/api/v1/profiles\n",
      "2024-03-18 20:35:04,663 - INFO - POST http://nonosoft.ddns.net:8080/api/v1/profiles\n",
      "2024-03-18 20:35:04,685 - INFO - POST http://nonosoft.ddns.net:8080/api/v1/profiles\n",
      "2024-03-18 20:35:04,708 - INFO - POST http://nonosoft.ddns.net:8080/api/v1/profiles\n",
      "2024-03-18 20:35:04,737 - INFO - POST http://nonosoft.ddns.net:8080/api/v1/profiles\n",
      "2024-03-18 20:35:04,760 - INFO - POST http://nonosoft.ddns.net:8080/api/v1/profiles\n",
      "2024-03-18 20:35:04,787 - INFO - POST http://nonosoft.ddns.net:8080/api/v1/profiles\n",
      "2024-03-18 20:35:04,812 - INFO - POST http://nonosoft.ddns.net:8080/api/v1/profiles\n",
      "2024-03-18 20:35:04,838 - INFO - POST http://nonosoft.ddns.net:8080/api/v1/profiles\n",
      "2024-03-18 20:35:04,865 - INFO - POST http://nonosoft.ddns.net:8080/api/v1/profiles\n",
      "2024-03-18 20:35:04,889 - INFO - POST http://nonosoft.ddns.net:8080/api/v1/profiles\n",
      "2024-03-18 20:35:04,912 - INFO - POST http://nonosoft.ddns.net:8080/api/v1/profiles\n",
      "2024-03-18 20:35:04,937 - INFO - POST http://nonosoft.ddns.net:8080/api/v1/profiles\n",
      "2024-03-18 20:35:04,962 - INFO - POST http://nonosoft.ddns.net:8080/api/v1/profiles\n",
      "2024-03-18 20:35:04,986 - INFO - POST http://nonosoft.ddns.net:8080/api/v1/profiles\n",
      "2024-03-18 20:35:05,009 - INFO - POST http://nonosoft.ddns.net:8080/api/v1/profiles\n",
      "2024-03-18 20:35:05,037 - INFO - POST http://nonosoft.ddns.net:8080/api/v1/profiles\n",
      "2024-03-18 20:35:05,061 - INFO - POST http://nonosoft.ddns.net:8080/api/v1/profiles\n",
      "2024-03-18 20:35:05,085 - INFO - POST http://nonosoft.ddns.net:8080/api/v1/profiles\n",
      "2024-03-18 20:35:05,109 - INFO - POST http://nonosoft.ddns.net:8080/api/v1/profiles\n",
      "2024-03-18 20:35:05,132 - INFO - POST http://nonosoft.ddns.net:8080/api/v1/profiles\n",
      "2024-03-18 20:35:05,154 - INFO - POST http://nonosoft.ddns.net:8080/api/v1/profiles\n",
      "2024-03-18 20:35:05,177 - INFO - POST http://nonosoft.ddns.net:8080/api/v1/profiles\n",
      "2024-03-18 20:35:05,201 - INFO - POST http://nonosoft.ddns.net:8080/api/v1/profiles\n",
      "2024-03-18 20:35:05,225 - INFO - POST http://nonosoft.ddns.net:8080/api/v1/profiles\n",
      "2024-03-18 20:35:05,249 - INFO - POST http://nonosoft.ddns.net:8080/api/v1/profiles\n",
      "2024-03-18 20:35:05,274 - INFO - POST http://nonosoft.ddns.net:8080/api/v1/profiles\n",
      "2024-03-18 20:35:05,298 - INFO - POST http://nonosoft.ddns.net:8080/api/v1/profiles\n",
      "2024-03-18 20:35:05,323 - INFO - POST http://nonosoft.ddns.net:8080/api/v1/profiles\n",
      "2024-03-18 20:35:05,347 - INFO - POST http://nonosoft.ddns.net:8080/api/v1/profiles\n",
      "2024-03-18 20:35:05,373 - INFO - POST http://nonosoft.ddns.net:8080/api/v1/profiles\n",
      "2024-03-18 20:35:05,399 - INFO - POST http://nonosoft.ddns.net:8080/api/v1/profiles\n",
      "2024-03-18 20:35:05,422 - INFO - POST http://nonosoft.ddns.net:8080/api/v1/profiles\n",
      "2024-03-18 20:35:05,446 - INFO - POST http://nonosoft.ddns.net:8080/api/v1/profiles\n",
      "2024-03-18 20:35:05,472 - INFO - POST http://nonosoft.ddns.net:8080/api/v1/profiles\n",
      "2024-03-18 20:35:05,495 - INFO - POST http://nonosoft.ddns.net:8080/api/v1/profiles\n",
      "2024-03-18 20:35:05,519 - INFO - POST http://nonosoft.ddns.net:8080/api/v1/profiles\n",
      "2024-03-18 20:35:05,542 - INFO - POST http://nonosoft.ddns.net:8080/api/v1/profiles\n",
      "2024-03-18 20:35:05,565 - INFO - POST http://nonosoft.ddns.net:8080/api/v1/profiles\n",
      "2024-03-18 20:35:05,589 - INFO - POST http://nonosoft.ddns.net:8080/api/v1/profiles\n",
      "2024-03-18 20:35:05,612 - INFO - POST http://nonosoft.ddns.net:8080/api/v1/profiles\n",
      "2024-03-18 20:35:05,636 - INFO - POST http://nonosoft.ddns.net:8080/api/v1/profiles\n",
      "2024-03-18 20:35:05,659 - INFO - POST http://nonosoft.ddns.net:8080/api/v1/profiles\n",
      "2024-03-18 20:35:05,683 - INFO - POST http://nonosoft.ddns.net:8080/api/v1/profiles\n",
      "2024-03-18 20:35:05,706 - INFO - POST http://nonosoft.ddns.net:8080/api/v1/profiles\n",
      "2024-03-18 20:35:05,730 - INFO - POST http://nonosoft.ddns.net:8080/api/v1/profiles\n",
      "2024-03-18 20:35:05,752 - INFO - POST http://nonosoft.ddns.net:8080/api/v1/profiles\n",
      "2024-03-18 20:35:05,776 - INFO - POST http://nonosoft.ddns.net:8080/api/v1/profiles\n",
      "2024-03-18 20:35:05,799 - INFO - POST http://nonosoft.ddns.net:8080/api/v1/profiles\n",
      "2024-03-18 20:35:05,821 - INFO - POST http://nonosoft.ddns.net:8080/api/v1/profiles\n",
      "2024-03-18 20:35:05,845 - INFO - POST http://nonosoft.ddns.net:8080/api/v1/profiles\n",
      "2024-03-18 20:35:05,869 - INFO - POST http://nonosoft.ddns.net:8080/api/v1/profiles\n",
      "2024-03-18 20:35:05,892 - INFO - POST http://nonosoft.ddns.net:8080/api/v1/profiles\n",
      "2024-03-18 20:35:05,916 - INFO - POST http://nonosoft.ddns.net:8080/api/v1/profiles\n",
      "2024-03-18 20:35:05,940 - INFO - POST http://nonosoft.ddns.net:8080/api/v1/profiles\n",
      "2024-03-18 20:35:05,962 - INFO - POST http://nonosoft.ddns.net:8080/api/v1/profiles\n",
      "2024-03-18 20:35:05,984 - INFO - POST http://nonosoft.ddns.net:8080/api/v1/profiles\n",
      "2024-03-18 20:35:06,011 - INFO - POST http://nonosoft.ddns.net:8080/api/v1/profiles\n",
      "2024-03-18 20:35:06,033 - INFO - POST http://nonosoft.ddns.net:8080/api/v1/profiles\n",
      "2024-03-18 20:35:06,057 - INFO - POST http://nonosoft.ddns.net:8080/api/v1/profiles\n",
      "2024-03-18 20:35:06,081 - INFO - POST http://nonosoft.ddns.net:8080/api/v1/profiles\n",
      "2024-03-18 20:35:06,105 - INFO - POST http://nonosoft.ddns.net:8080/api/v1/profiles\n",
      "2024-03-18 20:35:06,130 - INFO - POST http://nonosoft.ddns.net:8080/api/v1/profiles\n",
      "2024-03-18 20:35:06,156 - INFO - POST http://nonosoft.ddns.net:8080/api/v1/profiles\n",
      "2024-03-18 20:35:06,183 - INFO - POST http://nonosoft.ddns.net:8080/api/v1/profiles\n",
      "2024-03-18 20:35:06,207 - INFO - POST http://nonosoft.ddns.net:8080/api/v1/profiles\n",
      "2024-03-18 20:35:06,231 - INFO - POST http://nonosoft.ddns.net:8080/api/v1/profiles\n",
      "2024-03-18 20:35:06,256 - INFO - POST http://nonosoft.ddns.net:8080/api/v1/profiles\n"
     ]
    }
   ],
   "source": [
    "for profile in profiles:\n",
    "    api_client.add_profile(profile)"
   ]
  },
  {
   "cell_type": "code",
   "execution_count": 14,
   "id": "d1f88657-5cac-4616-b340-49900213e265",
   "metadata": {
    "tags": []
   },
   "outputs": [
    {
     "name": "stdout",
     "output_type": "stream",
     "text": [
      "CPU times: user 3 µs, sys: 1e+03 ns, total: 4 µs\n",
      "Wall time: 5.96 µs\n"
     ]
    }
   ],
   "source": [
    "%%time\n",
    "\n",
    "query = {\n",
    "    \"message\": {\n",
    "        \"author\": profiles[0].email,\n",
    "        \"content\": \"I want see marvel movies\"\n",
    "    },\n",
    "    \"settings\": {\n",
    "        \"llm\"                                   : \"llama2-7b-chat\",\n",
    "        \"retry\"                                 : 2,\n",
    "        \"plain\"                                 : False,\n",
    "        \"include_metadata\"                      : True,\n",
    "        \"rag\": {\n",
    "            \"shuffle\"                           : True,\n",
    "            \"candidates_limit\"                  : 50,\n",
    "            \"llm_response_limit\"                : 50,\n",
    "            \"recommendations_limit\"             : 5,\n",
    "            \"similar_items_augmentation_limit\"  : 5,\n",
    "            \"not_seen\": True\n",
    "        },\n",
    "        \"collaborative_filtering\": {\n",
    "            \"shuffle\"                           : False,\n",
    "            \"candidates_limit\"                  : 50,\n",
    "            \"llm_response_limit\"                : 50,\n",
    "            \"recommendations_limit\"             : 5,\n",
    "            \"similar_items_augmentation_limit\"  : 5,\n",
    "            \"text_query_limit\"                  : 5000,\n",
    "            \"k_sim_users\"                       : 10,\n",
    "            \"random_selection_items_by_user\"    : 0.5,\n",
    "            \"max_items_by_user\"                 : 10,\n",
    "            \"min_rating_by_user\"                : 3.5,\n",
    "            \"not_seen\"                          : True\n",
    "        }\n",
    "    }\n",
    "}"
   ]
  },
  {
   "cell_type": "code",
   "execution_count": 15,
   "id": "1bcf8a92-186c-4fb9-9e71-9aed1b49a5fd",
   "metadata": {
    "tags": []
   },
   "outputs": [
    {
     "name": "stderr",
     "output_type": "stream",
     "text": [
      "2024-03-18 20:35:13,710 - INFO - POST http://nonosoft.ddns.net:8080/api/v1/recommendations\n"
     ]
    },
    {
     "data": {
      "text/html": [
       "<pre style=\"white-space:pre;overflow-x:auto;line-height:normal;font-family:Menlo,'DejaVu Sans Mono',consolas,'Courier New',monospace\"></pre>\n"
      ],
      "text/plain": []
     },
     "metadata": {},
     "output_type": "display_data"
    },
    {
     "data": {
      "text/plain": [
       "\n",
       "\u001b[1m[\u001b[0m\n",
       "    \n",
       "\u001b[1m(\u001b[0m\n",
       "    Id         : \u001b[1;36m102125\u001b[0m\n",
       "    Title      : Iron Man \u001b[1;36m3\u001b[0m\n",
       "    Release    : \u001b[1;36m2013\u001b[0m\n",
       "    Genres     : \u001b[1m[\u001b[0m\u001b[32m'action'\u001b[0m, \u001b[32m'sci-fi'\u001b[0m, \u001b[32m'thriller'\u001b[0m, \u001b[32m'imax'\u001b[0m\u001b[1m]\u001b[0m\n",
       "    Rating     : \u001b[1;36m3.2736842105\u001b[0m\n",
       "    Poster     : \u001b[4;94mhttp://image.tmdb.org/t/p/w500/qhPtAc1TKbMPqNvcdXSOn9Bn7hZ.jpg\u001b[0m\n",
       "    Description: Action-packed superhero movie with great performances from robert downey jr. and gwyneth paltrow.\n",
       "\u001b[1m)\u001b[0m\n",
       ",\n",
       "    \n",
       "\u001b[1m(\u001b[0m\n",
       "    Id         : \u001b[1;36m59315\u001b[0m\n",
       "    Title      : Iron Man\n",
       "    Release    : \u001b[1;36m2013\u001b[0m\n",
       "    Genres     : \u001b[1m[\u001b[0m\u001b[32m'action'\u001b[0m, \u001b[32m'adventure'\u001b[0m, \u001b[32m'sci-fi'\u001b[0m\u001b[1m]\u001b[0m\n",
       "    Rating     : \u001b[1;36m3.8469387755\u001b[0m\n",
       "    Poster     : \u001b[4;94mhttp://image.tmdb.org/t/p/w500/78lPtwv72eTNqFW9COBYI0dWDJa.jpg\u001b[0m\n",
       "    Description: Action-packed superhero movie with great performances from robert downey jr. and gwyneth paltrow.\n",
       "\u001b[1m)\u001b[0m\n",
       ",\n",
       "    \n",
       "\u001b[1m(\u001b[0m\n",
       "    Id         : \u001b[1;36m77561\u001b[0m\n",
       "    Title      : Iron Man \u001b[1;36m2\u001b[0m\n",
       "    Release    : \u001b[1;36m2013\u001b[0m\n",
       "    Genres     : \u001b[1m[\u001b[0m\u001b[32m'action'\u001b[0m, \u001b[32m'adventure'\u001b[0m, \u001b[32m'sci-fi'\u001b[0m, \u001b[32m'thriller'\u001b[0m, \u001b[32m'imax'\u001b[0m\u001b[1m]\u001b[0m\n",
       "    Rating     : \u001b[1;36m3.4307692308\u001b[0m\n",
       "    Poster     : \u001b[4;94mhttp://image.tmdb.org/t/p/w500/6WBeq4fCfn7AN0o21W9qNcRF2l9.jpg\u001b[0m\n",
       "    Description: Action-packed superhero movie with great performances from robert downey jr. and gwyneth paltrow.\n",
       "\u001b[1m)\u001b[0m\n",
       ",\n",
       "    \n",
       "\u001b[1m(\u001b[0m\n",
       "    Id         : \u001b[1;36m110102\u001b[0m\n",
       "    Title      : Captain America: The Winter Soldier\n",
       "    Release    : \u001b[1;36m2014\u001b[0m\n",
       "    Genres     : \u001b[1m[\u001b[0m\u001b[32m'action'\u001b[0m, \u001b[32m'adventure'\u001b[0m, \u001b[32m'sci-fi'\u001b[0m, \u001b[32m'imax'\u001b[0m\u001b[1m]\u001b[0m\n",
       "    Rating     : \u001b[1;36m3.641025641\u001b[0m\n",
       "    Poster     : \u001b[4;94mhttp://image.tmdb.org/t/p/w500/tVFRpFw3xTedgPGqxW0AOI8Qhh0.jpg\u001b[0m\n",
       "    Description: Exciting and thought-provoking marvel movie that explores themes of loyalty and betrayal.\n",
       "\u001b[1m)\u001b[0m\n",
       ",\n",
       "    \n",
       "\u001b[1m(\u001b[0m\n",
       "    Id         : \u001b[1;36m112852\u001b[0m\n",
       "    Title      : Guardians of the Galaxy\n",
       "    Release    : \u001b[1;36m2014\u001b[0m\n",
       "    Genres     : \u001b[1m[\u001b[0m\u001b[32m'action'\u001b[0m, \u001b[32m'adventure'\u001b[0m, \u001b[32m'sci-fi'\u001b[0m\u001b[1m]\u001b[0m\n",
       "    Rating     : \u001b[1;36m3.7108433735\u001b[0m\n",
       "    Poster     : \u001b[4;94mhttp://image.tmdb.org/t/p/w500/r2J02Z2OpNTctfOSN1Ydgii51I3.jpg\u001b[0m\n",
       "    Description: Fun and quirky space adventure with a great soundtrack and lovable characters.\n",
       "\u001b[1m)\u001b[0m\n",
       "\n",
       "\u001b[1m]\u001b[0m"
      ]
     },
     "execution_count": 15,
     "metadata": {},
     "output_type": "execute_result"
    }
   ],
   "source": [
    "result = api_client.recommendations(query)\n",
    "result.items"
   ]
  },
  {
   "cell_type": "code",
   "execution_count": 16,
   "id": "c5a8fb37-2b8b-4c50-8ffd-a70fc5d22522",
   "metadata": {
    "tags": []
   },
   "outputs": [
    {
     "name": "stderr",
     "output_type": "stream",
     "text": [
      "2024-03-18 20:35:29,309 - INFO - GET http://nonosoft.ddns.net:8080/api/v1/interactions/make/david.tran@gmail.com/102125/5\n",
      "2024-03-18 20:35:29,338 - INFO - 204\n"
     ]
    },
    {
     "data": {
      "text/html": [
       "<pre style=\"white-space:pre;overflow-x:auto;line-height:normal;font-family:Menlo,'DejaVu Sans Mono',consolas,'Courier New',monospace\"></pre>\n"
      ],
      "text/plain": []
     },
     "metadata": {},
     "output_type": "display_data"
    },
    {
     "data": {
      "text/plain": [
       "\u001b[1m[\u001b[0m\u001b[1m]\u001b[0m"
      ]
     },
     "execution_count": 16,
     "metadata": {},
     "output_type": "execute_result"
    }
   ],
   "source": [
    "result.items[0].vote(5)\n",
    "api_client.interactions_by_user(user_id)"
   ]
  },
  {
   "cell_type": "code",
   "execution_count": 17,
   "id": "5ef577ed-53fb-40b2-ad26-bdec16f2095d",
   "metadata": {
    "tags": []
   },
   "outputs": [
    {
     "name": "stderr",
     "output_type": "stream",
     "text": [
      "2024-03-18 20:35:29,377 - INFO - POST http://nonosoft.ddns.net:8080/api/v1/recommendations\n"
     ]
    },
    {
     "data": {
      "text/html": [
       "<pre style=\"white-space:pre;overflow-x:auto;line-height:normal;font-family:Menlo,'DejaVu Sans Mono',consolas,'Courier New',monospace\"></pre>\n"
      ],
      "text/plain": []
     },
     "metadata": {},
     "output_type": "display_data"
    },
    {
     "data": {
      "text/plain": [
       "\n",
       "\u001b[1m[\u001b[0m\n",
       "    \n",
       "\u001b[1m(\u001b[0m\n",
       "    Id         : \u001b[1;36m2153\u001b[0m\n",
       "    Title      : Avengers, The\n",
       "    Release    : \u001b[1;36m2012\u001b[0m\n",
       "    Genres     : \u001b[1m[\u001b[0m\u001b[32m'action'\u001b[0m, \u001b[32m'adventure'\u001b[0m\u001b[1m]\u001b[0m\n",
       "    Rating     : \u001b[1;36m1.7777777778\u001b[0m\n",
       "    Poster     : \u001b[4;94mhttp://image.tmdb.org/t/p/w500/RYMX2wcKCBAr24UyPD7xwmjaTn.jpg\u001b[0m\n",
       "    Description: An action-packed superhero movie featuring iron man, captain america, thor, and other marvel characters.\n",
       "\u001b[1m)\u001b[0m\n",
       ",\n",
       "    \n",
       "\u001b[1m(\u001b[0m\n",
       "    Id         : \u001b[1;36m112852\u001b[0m\n",
       "    Title      : Guardians of the Galaxy\n",
       "    Release    : \u001b[1;36m2014\u001b[0m\n",
       "    Genres     : \u001b[1m[\u001b[0m\u001b[32m'action'\u001b[0m, \u001b[32m'adventure'\u001b[0m, \u001b[32m'sci-fi'\u001b[0m\u001b[1m]\u001b[0m\n",
       "    Rating     : \u001b[1;36m3.7108433735\u001b[0m\n",
       "    Poster     : \u001b[4;94mhttp://image.tmdb.org/t/p/w500/r2J02Z2OpNTctfOSN1Ydgii51I3.jpg\u001b[0m\n",
       "    Description: A fun and quirky space adventure with a diverse group of heroes, including star-lord, gamora, drax, rocket, and groot.\n",
       "\u001b[1m)\u001b[0m\n",
       ",\n",
       "    \n",
       "\u001b[1m(\u001b[0m\n",
       "    Id         : \u001b[1;36m122918\u001b[0m\n",
       "    Title      : Guardians of the Galaxy \u001b[1;36m2\u001b[0m\n",
       "    Release    : \u001b[1;36m2014\u001b[0m\n",
       "    Genres     : \u001b[1m[\u001b[0m\u001b[32m'action'\u001b[0m, \u001b[32m'adventure'\u001b[0m, \u001b[32m'sci-fi'\u001b[0m\u001b[1m]\u001b[0m\n",
       "    Rating     : \u001b[1;36m3.4367816092\u001b[0m\n",
       "    Poster     : \u001b[4;94mhttp://image.tmdb.org/t/p/w500/y4MBh0EjBlMuOzv9axM4qJlmhzz.jpg\u001b[0m\n",
       "    Description: A fun and quirky space adventure with a diverse group of heroes, including star-lord, gamora, drax, rocket, and groot.\n",
       "\u001b[1m)\u001b[0m\n",
       ",\n",
       "    \n",
       "\u001b[1m(\u001b[0m\n",
       "    Id         : \u001b[1;36m122920\u001b[0m\n",
       "    Title      : Captain America: Civil War\n",
       "    Release    : \u001b[1;36m2016\u001b[0m\n",
       "    Genres     : \u001b[1m[\u001b[0m\u001b[32m'action'\u001b[0m, \u001b[32m'sci-fi'\u001b[0m, \u001b[32m'thriller'\u001b[0m\u001b[1m]\u001b[0m\n",
       "    Rating     : \u001b[1;36m3.320754717\u001b[0m\n",
       "    Poster     : \u001b[4;94mhttp://image.tmdb.org/t/p/w500/rAGiXaUfPzY7CDEyNKUofk3Kw2e.jpg\u001b[0m\n",
       "    Description: An intense and thought-provoking movie that explores the moral dilemmas of superheroes and their role in society.\n",
       "\u001b[1m)\u001b[0m\n",
       ",\n",
       "    \n",
       "\u001b[1m(\u001b[0m\n",
       "    Id         : \u001b[1;36m122922\u001b[0m\n",
       "    Title      : Doctor Strange\n",
       "    Release    : \u001b[1;36m2016\u001b[0m\n",
       "    Genres     : \u001b[1m[\u001b[0m\u001b[32m'action'\u001b[0m, \u001b[32m'adventure'\u001b[0m, \u001b[32m'sci-fi'\u001b[0m\u001b[1m]\u001b[0m\n",
       "    Rating     : \u001b[1;36m3.5116279070000003\u001b[0m\n",
       "    Poster     : \u001b[4;94mhttp://image.tmdb.org/t/p/w500/uGBVj3bEbCoZbDjjl9wTxcygko1.jpg\u001b[0m\n",
       "    Description: A mind-bending adventure that introduces the sorcerer supreme and his journey through alternate dimensions and time.\n",
       "\u001b[1m)\u001b[0m\n",
       "\n",
       "\u001b[1m]\u001b[0m"
      ]
     },
     "execution_count": 17,
     "metadata": {},
     "output_type": "execute_result"
    }
   ],
   "source": [
    "result = api_client.recommendations(query)\n",
    "result.items"
   ]
  },
  {
   "cell_type": "code",
   "execution_count": null,
   "id": "89253835-6247-41c4-a7ae-70e8ca1177a1",
   "metadata": {},
   "outputs": [],
   "source": []
  }
 ],
 "metadata": {
  "kernelspec": {
   "display_name": "Python 3 (ipykernel)",
   "language": "python",
   "name": "python3"
  },
  "language_info": {
   "codemirror_mode": {
    "name": "ipython",
    "version": 3
   },
   "file_extension": ".py",
   "mimetype": "text/x-python",
   "name": "python",
   "nbconvert_exporter": "python",
   "pygments_lexer": "ipython3",
   "version": "3.11.5"
  },
  "widgets": {
   "application/vnd.jupyter.widget-state+json": {
    "state": {},
    "version_major": 2,
    "version_minor": 0
   }
  }
 },
 "nbformat": 4,
 "nbformat_minor": 5
}
