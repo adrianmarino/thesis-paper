{
 "cells": [
  {
   "cell_type": "markdown",
   "id": "0417277b-47df-4113-a7b3-8f960db06f1d",
   "metadata": {
    "tags": []
   },
   "source": [
    "# Recommender ChatBot: Evaluation"
   ]
  },
  {
   "cell_type": "code",
   "execution_count": 1,
   "id": "59f0eac0-30e8-4e72-860e-05541c36b82e",
   "metadata": {},
   "outputs": [],
   "source": [
    "%load_ext autoreload\n",
    "%autoreload 2"
   ]
  },
  {
   "cell_type": "code",
   "execution_count": 2,
   "id": "6fe490fd-66c5-4b3f-a327-62aa5d01f21c",
   "metadata": {},
   "outputs": [],
   "source": [
    "import os\n",
    "\n",
    "BASE_PATH    = '../..'\n",
    "API_PATH     = f'{BASE_PATH}/chat-bot-api'\n",
    "LIB_PATH     = f'{BASE_PATH}/lib'\n",
    "\n",
    "\n",
    "os.environ['TMP_PATH']         = f'{BASE_PATH}/tmp'\n",
    "os.environ['DATASET_PATH']     = f'{BASE_PATH}/datasets'\n",
    "os.environ['WEIGHTS_PATH']     = f'{BASE_PATH}/weights'\n",
    "os.environ['METRICS_PATH']     = f'{BASE_PATH}/metrics'"
   ]
  },
  {
   "cell_type": "code",
   "execution_count": 3,
   "id": "f98e7bf4-f41a-43f6-b7b7-a991d00f82de",
   "metadata": {},
   "outputs": [],
   "source": [
    "import sys\n",
    "sys.path.append(LIB_PATH)\n",
    "sys.path.append(API_PATH)\n",
    "\n",
    "import pytorch_common.util as pu\n",
    "\n",
    "import client"
   ]
  },
  {
   "cell_type": "markdown",
   "id": "d757391b-ad9f-4047-9b23-e3bd23fbe37b",
   "metadata": {},
   "source": [
    "## Setup"
   ]
  },
  {
   "cell_type": "code",
   "execution_count": 4,
   "id": "efba19c8-6de3-4a6c-b804-658d0aff6bdb",
   "metadata": {},
   "outputs": [
    {
     "data": {
      "text/plain": [
       "<RootLogger root (INFO)>"
      ]
     },
     "execution_count": 4,
     "metadata": {},
     "output_type": "execute_result"
    }
   ],
   "source": [
    "pu.LoggerBuilder().on_console().build()"
   ]
  },
  {
   "cell_type": "code",
   "execution_count": 5,
   "id": "72432e7f-f377-40a6-968e-eeb4aba00c7d",
   "metadata": {},
   "outputs": [],
   "source": [
    "api_client = client.RecChatBotV1ApiClient()"
   ]
  },
  {
   "cell_type": "code",
   "execution_count": 6,
   "id": "7254b701-94d0-4de0-8f8d-1d614446624f",
   "metadata": {
    "tags": []
   },
   "outputs": [],
   "source": [
    "user_id = \"adrianmarino@gmail.com\""
   ]
  },
  {
   "cell_type": "code",
   "execution_count": 7,
   "id": "71c31273-8fdb-4d3b-98ce-a7de80bad85b",
   "metadata": {
    "tags": []
   },
   "outputs": [
    {
     "name": "stderr",
     "output_type": "stream",
     "text": [
      "2024-03-16 09:44:55,834 - INFO - DELETE http://nonosoft.ddns.net:8080/api/v1/interactions/users/adrianmarino@gmail.com\n"
     ]
    }
   ],
   "source": [
    "api_client.remove_interactions_by_user_id(user_id)"
   ]
  },
  {
   "cell_type": "code",
   "execution_count": 8,
   "id": "237f0342-fe31-49f7-a92d-f9b14830a976",
   "metadata": {
    "tags": []
   },
   "outputs": [
    {
     "data": {
      "text/plain": [
       "[]"
      ]
     },
     "execution_count": 8,
     "metadata": {},
     "output_type": "execute_result"
    }
   ],
   "source": [
    "api_client.interactions_by_user(user_id)"
   ]
  },
  {
   "cell_type": "code",
   "execution_count": 9,
   "id": "d1f88657-5cac-4616-b340-49900213e265",
   "metadata": {
    "tags": []
   },
   "outputs": [
    {
     "name": "stdout",
     "output_type": "stream",
     "text": [
      "CPU times: user 3 µs, sys: 0 ns, total: 3 µs\n",
      "Wall time: 4.53 µs\n"
     ]
    }
   ],
   "source": [
    "%%time\n",
    "\n",
    "query = {\n",
    "    \"message\": {\n",
    "        \"author\": \"adrianmarino@gmail.com\",\n",
    "        \"content\": \"I want see marvel movies\"\n",
    "    },\n",
    "    \"settings\": {\n",
    "        \"llm\"                                   : \"llama2-7b-chat\",\n",
    "        \"retry\"                                 : 2,\n",
    "        \"plain\"                                 : False,\n",
    "        \"include_metadata\"                      : True,\n",
    "        \"rag\": {\n",
    "            \"shuffle\"                           : True,\n",
    "            \"candidates_limit\"                  : 50,\n",
    "            \"llm_response_limit\"                : 50,\n",
    "            \"recommendations_limit\"             : 5,\n",
    "            \"similar_items_augmentation_limit\"  : 5,\n",
    "            \"not_seen\": True\n",
    "        },\n",
    "        \"collaborative_filtering\": {\n",
    "            \"shuffle\"                           : False,\n",
    "            \"candidates_limit\"                  : 50,\n",
    "            \"llm_response_limit\"                : 50,\n",
    "            \"recommendations_limit\"             : 5,\n",
    "            \"similar_items_augmentation_limit\"  : 5,\n",
    "            \"text_query_limit\"                  : 5000,\n",
    "            \"k_sim_users\"                       : 10,\n",
    "            \"random_selection_items_by_user\"    : 0.5,\n",
    "            \"max_items_by_user\"                 : 10,\n",
    "            \"min_rating_by_user\"                : 3.5,\n",
    "            \"not_seen\"                          : True\n",
    "        }\n",
    "    }\n",
    "}"
   ]
  },
  {
   "cell_type": "code",
   "execution_count": 10,
   "id": "1bcf8a92-186c-4fb9-9e71-9aed1b49a5fd",
   "metadata": {
    "tags": []
   },
   "outputs": [
    {
     "name": "stderr",
     "output_type": "stream",
     "text": [
      "2024-03-16 09:44:56,574 - INFO - POST http://nonosoft.ddns.net:8080/api/v1/recommendations\n"
     ]
    },
    {
     "data": {
      "text/plain": [
       "[\n",
       " (\n",
       "     Id         : 102125\n",
       "     Title      : Iron Man 3\n",
       "     Release    : 2013\n",
       "     Genres     : ['action', 'sci-fi', 'thriller', 'imax']\n",
       "     Rating     : 3.2736842105\n",
       "     Poster     : http://image.tmdb.org/t/p/w500/qhPtAc1TKbMPqNvcdXSOn9Bn7hZ.jpg\n",
       "     Description: Action-packed superhero movie with a great performance by robert downey jr.\n",
       " ),\n",
       " \n",
       " (\n",
       "     Id         : 59315\n",
       "     Title      : Iron Man\n",
       "     Release    : 2013\n",
       "     Genres     : ['action', 'adventure', 'sci-fi']\n",
       "     Rating     : 3.8469387755\n",
       "     Poster     : http://image.tmdb.org/t/p/w500/78lPtwv72eTNqFW9COBYI0dWDJa.jpg\n",
       "     Description: Action-packed superhero movie with a great performance by robert downey jr.\n",
       " ),\n",
       " \n",
       " (\n",
       "     Id         : 77561\n",
       "     Title      : Iron Man 2\n",
       "     Release    : 2013\n",
       "     Genres     : ['action', 'adventure', 'sci-fi', 'thriller', 'imax']\n",
       "     Rating     : 3.4307692308\n",
       "     Poster     : http://image.tmdb.org/t/p/w500/6WBeq4fCfn7AN0o21W9qNcRF2l9.jpg\n",
       "     Description: Action-packed superhero movie with a great performance by robert downey jr.\n",
       " ),\n",
       " \n",
       " (\n",
       "     Id         : 110102\n",
       "     Title      : Captain America: The Winter Soldier\n",
       "     Release    : 2014\n",
       "     Genres     : ['action', 'adventure', 'sci-fi', 'imax']\n",
       "     Rating     : 3.641025641\n",
       "     Poster     : http://image.tmdb.org/t/p/w500/tVFRpFw3xTedgPGqxW0AOI8Qhh0.jpg\n",
       "     Description: Exciting and thought-provoking marvel movie with chris evans in the lead role.\n",
       " ),\n",
       " \n",
       " (\n",
       "     Id         : 112852\n",
       "     Title      : Guardians of the Galaxy\n",
       "     Release    : 2014\n",
       "     Genres     : ['action', 'adventure', 'sci-fi']\n",
       "     Rating     : 3.7108433735\n",
       "     Poster     : http://image.tmdb.org/t/p/w500/r2J02Z2OpNTctfOSN1Ydgii51I3.jpg\n",
       "     Description: Fun and visually stunning space adventure with a great soundtrack.\n",
       " )]"
      ]
     },
     "execution_count": 10,
     "metadata": {},
     "output_type": "execute_result"
    }
   ],
   "source": [
    "result = api_client.recommendations(query)\n",
    "result.items"
   ]
  },
  {
   "cell_type": "code",
   "execution_count": 11,
   "id": "c5a8fb37-2b8b-4c50-8ffd-a70fc5d22522",
   "metadata": {
    "tags": []
   },
   "outputs": [
    {
     "name": "stderr",
     "output_type": "stream",
     "text": [
      "2024-03-16 09:45:11,034 - INFO - GET http://nonosoft.ddns.net:8080/api/v1/interactions/make/adrianmarino@gmail.com/102125/5\n",
      "2024-03-16 09:45:11,059 - INFO - 204\n"
     ]
    },
    {
     "data": {
      "text/plain": [
       "[{'user_id': 'adrianmarino@gmail.com',\n",
       "  'item_id': '102125',\n",
       "  'rating': 5.0,\n",
       "  'timestamp': '2024-03-16 09:33:10'}]"
      ]
     },
     "execution_count": 11,
     "metadata": {},
     "output_type": "execute_result"
    }
   ],
   "source": [
    "result.items[0].vote(5)\n",
    "api_client.interactions_by_user(user_id)"
   ]
  },
  {
   "cell_type": "code",
   "execution_count": 12,
   "id": "5ef577ed-53fb-40b2-ad26-bdec16f2095d",
   "metadata": {
    "tags": []
   },
   "outputs": [
    {
     "name": "stderr",
     "output_type": "stream",
     "text": [
      "2024-03-16 09:45:11,091 - INFO - POST http://nonosoft.ddns.net:8080/api/v1/recommendations\n"
     ]
    },
    {
     "data": {
      "text/plain": [
       "[\n",
       " (\n",
       "     Id         : 2571\n",
       "     Title      : Matrix, The\n",
       "     Release    : 1999\n",
       "     Genres     : ['action', 'sci-fi', 'thriller']\n",
       "     Rating     : 4.2724014337\n",
       "     Poster     : http://image.tmdb.org/t/p/w500/f89U3ADr1oiB1s9GkdPOEpXUk5H.jpg\n",
       "     Description: A classic science fiction movie with mind-bending special effects and a thought-provoking storyline.\n",
       " ),\n",
       " \n",
       " (\n",
       "     Id         : 79132\n",
       "     Title      : Inception\n",
       "     Release    : 2010\n",
       "     Genres     : ['action', 'crime', 'drama', 'mystery', 'sci-fi', 'thriller', 'imax']\n",
       "     Rating     : 4.2242833052\n",
       "     Poster     : http://image.tmdb.org/t/p/w500/oYuLEt3zVCKq57qu2F8dT7NIa6f.jpg\n",
       "     Description: A mind-bending action movie that explores the concept of shared dreaming, featuring a talented cast led by leonardo dicaprio.\n",
       " ),\n",
       " \n",
       " (\n",
       "     Id         : 109487\n",
       "     Title      : Interstellar\n",
       "     Release    : 2014\n",
       "     Genres     : ['sci-fi', 'imax']\n",
       "     Rating     : 4.0629067245\n",
       "     Poster     : http://image.tmdb.org/t/p/w500/gEU2QniE6E77NI6lCU6MxlNBvIx.jpg\n",
       "     Description: A visually stunning and thought-provoking sci-fi movie that delves into the mysteries of space and time.\n",
       " ),\n",
       " \n",
       " (\n",
       "     Id         : 115713\n",
       "     Title      : Ex Machina\n",
       "     Release    : 2014\n",
       "     Genres     : ['drama', 'sci-fi', 'thriller']\n",
       "     Rating     : 3.9605263158\n",
       "     Poster     : http://image.tmdb.org/t/p/w500/dmJW8IAKHKxFNiUnoDR7JfsK7Rp.jpg\n",
       "     Description: A psychological sci-fi thriller that explores the ethics of artificial intelligence, featuring a standout performance by alicia vikander.\n",
       " ),\n",
       " \n",
       " (\n",
       "     Id         : 1240\n",
       "     Title      : Terminator, The\n",
       "     Release    : 1984\n",
       "     Genres     : ['action', 'sci-fi', 'thriller']\n",
       "     Rating     : 3.8620689655\n",
       "     Poster     : http://image.tmdb.org/t/p/w500/hzXSE66v6KthZ8nPoLZmsi2G05j.jpg\n",
       "     Description: A classic sci-fi action movie that introduced the world to arnold schwarzenegger as a cyborg assassin sent back in time to kill the future leader of the human resistance.\n",
       " )]"
      ]
     },
     "execution_count": 12,
     "metadata": {},
     "output_type": "execute_result"
    }
   ],
   "source": [
    "result = api_client.recommendations(query)\n",
    "result.items"
   ]
  },
  {
   "cell_type": "code",
   "execution_count": null,
   "id": "89253835-6247-41c4-a7ae-70e8ca1177a1",
   "metadata": {},
   "outputs": [],
   "source": []
  }
 ],
 "metadata": {
  "kernelspec": {
   "display_name": "Python 3 (ipykernel)",
   "language": "python",
   "name": "python3"
  },
  "language_info": {
   "codemirror_mode": {
    "name": "ipython",
    "version": 3
   },
   "file_extension": ".py",
   "mimetype": "text/x-python",
   "name": "python",
   "nbconvert_exporter": "python",
   "pygments_lexer": "ipython3",
   "version": "3.10.13"
  },
  "widgets": {
   "application/vnd.jupyter.widget-state+json": {
    "state": {},
    "version_major": 2,
    "version_minor": 0
   }
  }
 },
 "nbformat": 4,
 "nbformat_minor": 5
}
