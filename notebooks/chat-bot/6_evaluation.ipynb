{
 "cells": [
  {
   "cell_type": "markdown",
   "id": "0417277b-47df-4113-a7b3-8f960db06f1d",
   "metadata": {
    "tags": []
   },
   "source": [
    "# Recommender ChatBot: Evaluation"
   ]
  },
  {
   "cell_type": "code",
   "execution_count": 1,
   "id": "59f0eac0-30e8-4e72-860e-05541c36b82e",
   "metadata": {},
   "outputs": [],
   "source": [
    "%load_ext autoreload\n",
    "%autoreload 2"
   ]
  },
  {
   "cell_type": "code",
   "execution_count": 2,
   "id": "6fe490fd-66c5-4b3f-a327-62aa5d01f21c",
   "metadata": {},
   "outputs": [],
   "source": [
    "import os\n",
    "\n",
    "BASE_PATH    = '../..'\n",
    "API_PATH     = f'{BASE_PATH}/chat-bot-api'\n",
    "LIB_PATH     = f'{BASE_PATH}/lib'\n",
    "\n",
    "\n",
    "os.environ['TMP_PATH']         = f'{BASE_PATH}/tmp'\n",
    "os.environ['DATASET_PATH']     = f'{BASE_PATH}/datasets'\n",
    "os.environ['WEIGHTS_PATH']     = f'{BASE_PATH}/weights'\n",
    "os.environ['METRICS_PATH']     = f'{BASE_PATH}/metrics'"
   ]
  },
  {
   "cell_type": "code",
   "execution_count": 3,
   "id": "f98e7bf4-f41a-43f6-b7b7-a991d00f82de",
   "metadata": {},
   "outputs": [],
   "source": [
    "import sys\n",
    "sys.path.append(LIB_PATH)\n",
    "sys.path.append(API_PATH)\n",
    "\n",
    "import pytorch_common.util as pu\n",
    "\n",
    "\n",
    "import client"
   ]
  },
  {
   "cell_type": "markdown",
   "id": "d757391b-ad9f-4047-9b23-e3bd23fbe37b",
   "metadata": {},
   "source": [
    "## Setup"
   ]
  },
  {
   "cell_type": "code",
   "execution_count": 4,
   "id": "efba19c8-6de3-4a6c-b804-658d0aff6bdb",
   "metadata": {},
   "outputs": [
    {
     "data": {
      "text/plain": [
       "<RootLogger root (INFO)>"
      ]
     },
     "execution_count": 4,
     "metadata": {},
     "output_type": "execute_result"
    }
   ],
   "source": [
    "pu.LoggerBuilder().on_console().build()"
   ]
  },
  {
   "cell_type": "code",
   "execution_count": 5,
   "id": "72432e7f-f377-40a6-968e-eeb4aba00c7d",
   "metadata": {},
   "outputs": [],
   "source": [
    "api_client = client.RecChatBotV1ApiClient()"
   ]
  },
  {
   "cell_type": "code",
   "execution_count": 10,
   "id": "7254b701-94d0-4de0-8f8d-1d614446624f",
   "metadata": {
    "tags": []
   },
   "outputs": [],
   "source": [
    "user_id = \"adrianmarino@gmail.com\""
   ]
  },
  {
   "cell_type": "code",
   "execution_count": 11,
   "id": "71c31273-8fdb-4d3b-98ce-a7de80bad85b",
   "metadata": {
    "tags": []
   },
   "outputs": [
    {
     "name": "stderr",
     "output_type": "stream",
     "text": [
      "2024-03-13 22:29:12,142 - INFO - DELETE http://nonosoft.ddns.net:8080/api/v1/interactions/users/adrianmarino@gmail.com\n"
     ]
    }
   ],
   "source": [
    "api_client.remove_interactions_by_user_id(user_id)"
   ]
  },
  {
   "cell_type": "code",
   "execution_count": 12,
   "id": "d1f88657-5cac-4616-b340-49900213e265",
   "metadata": {
    "tags": []
   },
   "outputs": [
    {
     "name": "stderr",
     "output_type": "stream",
     "text": [
      "2024-03-13 22:30:39,429 - INFO - POST http://nonosoft.ddns.net:8080/api/v1/recommendations\n"
     ]
    },
    {
     "name": "stdout",
     "output_type": "stream",
     "text": [
      "CPU times: user 2.95 ms, sys: 0 ns, total: 2.95 ms\n",
      "Wall time: 11.5 s\n"
     ]
    }
   ],
   "source": [
    "%%time\n",
    "\n",
    "query = {\n",
    "    \"message\": {\n",
    "        \"author\": \"adrianmarino@gmail.com\",\n",
    "        \"content\": \"I want see marvel movies\"\n",
    "    },\n",
    "    \"settings\": {\n",
    "        \"llm\"                                   : \"llama2-7b-chat\",\n",
    "        \"retry\"                                 : 2,\n",
    "        \"plain\"                                 : False,\n",
    "        \"include_metadata\"                      : True,\n",
    "        \"rag\": {\n",
    "            \"shuffle\"                           : True,\n",
    "            \"candidates_limit\"                  : 50,\n",
    "            \"llm_response_limit\"                : 50,\n",
    "            \"recommendations_limit\"             : 5,\n",
    "            \"similar_items_augmentation_limit\"  : 5,\n",
    "            \"not_seen\": True\n",
    "        },\n",
    "        \"collaborative_filtering\": {\n",
    "            \"shuffle\"                           : False,\n",
    "            \"candidates_limit\"                  : 50,\n",
    "            \"llm_response_limit\"                : 50,\n",
    "            \"recommendations_limit\"             : 5,\n",
    "            \"similar_items_augmentation_limit\"  : 5,\n",
    "            \"text_query_limit\"                  : 5000,\n",
    "            \"k_sim_users\"                       : 10,\n",
    "            \"random_selection_items_by_user\"    : 0.5,\n",
    "            \"max_items_by_user\"                 : 10,\n",
    "            \"min_rating_by_user\"                : 3.5,\n",
    "            \"not_seen\"                          : True\n",
    "        }\n",
    "    }\n",
    "}\n",
    "\n",
    "recommendations = api_client.recommendations(query)"
   ]
  },
  {
   "cell_type": "code",
   "execution_count": 18,
   "id": "1bcf8a92-186c-4fb9-9e71-9aed1b49a5fd",
   "metadata": {
    "tags": []
   },
   "outputs": [
    {
     "data": {
      "text/plain": [
       "5"
      ]
     },
     "execution_count": 18,
     "metadata": {},
     "output_type": "execute_result"
    }
   ],
   "source": [
    "len(recommendations['items'])"
   ]
  },
  {
   "cell_type": "code",
   "execution_count": null,
   "id": "5dc03f65-242c-47e1-9758-3c56fdbfd0b3",
   "metadata": {},
   "outputs": [],
   "source": []
  }
 ],
 "metadata": {
  "kernelspec": {
   "display_name": "Python 3 (ipykernel)",
   "language": "python",
   "name": "python3"
  },
  "language_info": {
   "codemirror_mode": {
    "name": "ipython",
    "version": 3
   },
   "file_extension": ".py",
   "mimetype": "text/x-python",
   "name": "python",
   "nbconvert_exporter": "python",
   "pygments_lexer": "ipython3",
   "version": "3.10.13"
  },
  "widgets": {
   "application/vnd.jupyter.widget-state+json": {
    "state": {},
    "version_major": 2,
    "version_minor": 0
   }
  }
 },
 "nbformat": 4,
 "nbformat_minor": 5
}
