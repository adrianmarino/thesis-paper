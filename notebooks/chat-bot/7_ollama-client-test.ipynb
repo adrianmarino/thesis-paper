{
 "cells": [
  {
   "cell_type": "markdown",
   "id": "0417277b-47df-4113-a7b3-8f960db06f1d",
   "metadata": {
    "tags": []
   },
   "source": [
    "# Ollama: Custom Rest client"
   ]
  },
  {
   "cell_type": "code",
   "execution_count": 1,
   "id": "59f0eac0-30e8-4e72-860e-05541c36b82e",
   "metadata": {},
   "outputs": [],
   "source": [
    "%%capture output\n",
    "%load_ext autoreload\n",
    "%autoreload 2"
   ]
  },
  {
   "cell_type": "code",
   "execution_count": 2,
   "id": "6fe490fd-66c5-4b3f-a327-62aa5d01f21c",
   "metadata": {},
   "outputs": [],
   "source": [
    "import sys\n",
    "import os\n",
    "\n",
    "BASE_PATH         = '../..'\n",
    "API_PATH          = f'{BASE_PATH}/chat-bot-api'\n",
    "LIB_PATH          = f'{BASE_PATH}/lib'\n",
    "\n",
    "sys.path.append(LIB_PATH)\n",
    "sys.path.append(API_PATH)"
   ]
  },
  {
   "cell_type": "code",
   "execution_count": 36,
   "id": "8cc2f05a-3a90-41f5-ab71-c1703819d259",
   "metadata": {},
   "outputs": [],
   "source": [
    "from rest.ollama import OllamaApiClient\n",
    "from recommender.chatbot.movie import MovieRecommendationsOutputParser, MovieRecommenderChatBotFactory"
   ]
  },
  {
   "cell_type": "markdown",
   "id": "d757391b-ad9f-4047-9b23-e3bd23fbe37b",
   "metadata": {},
   "source": [
    "## Setup"
   ]
  },
  {
   "cell_type": "code",
   "execution_count": 3,
   "id": "20b8526d-411c-4e83-a7ee-8fca0ec0bfe8",
   "metadata": {},
   "outputs": [],
   "source": [
    "user_profile = \"\"\"\n",
    "User profile:\n",
    "- Name: Adrian\n",
    "- Genre: Male\n",
    "- Age: 32\n",
    "- Nationality: Argentina\n",
    "- Studies: Engineering\n",
    "- Work: Software Engineer\n",
    "- Movie preferences:\n",
    "  - Released from 1970\n",
    "  - Genres: thiller, suspense, science fiction, love, comedy\n",
    "\"\"\"\n",
    "\n",
    "candidates = \"\"\"\n",
    "Candidate movies (with rating):\n",
    "- Iron Man 3: 3.3\n",
    "- Star Trek Into Darkness: 3.5\n",
    "- Man of Steel: 3.1\n",
    "- Despicable Me 2: 3.4\n",
    "- Wolverine, The: 2.8\n",
    "- Kick-Ass 2: 3.0\n",
    "- Thor: The Dark World: 3.1\n",
    "- The Lego Movie: 3.6\n",
    "- Captain America: The Winter Soldier: 3.6\n",
    "- The Amazing Spider-Man 2: 2.9\n",
    "- X-Men: Days of Future Past: 3.6\n",
    "- Mission: Impossible - Rogue Nation: 3.4\n",
    "- Guardians of the Galaxy: 3.7\n",
    "- Crippled Avengers: 2.5\n",
    "- Penguins of Madagascar: 3.4\n",
    "- Star Wars: Episode V - The Empire Strikes Back: 4.2\n",
    "- Star Wars: Episode VII - The Force Awakens: 3.2\n",
    "- Avengers: Age of Ultron: 3.3\n",
    "- Ant-Man: 3.4\n",
    "- Fantastic Four: 1.8\n",
    "- Guardians of the Galaxy 2: 3.4\n",
    "- Captain America: Civil War: 3.3\n",
    "- Doctor Strange: 3.5\n",
    "- X-Men: Apocalypse: 2.9\n",
    "- Marvel One-Shot: Item 47: 3.0\n",
    "- Furious 7: 3.1\n",
    "- Ghost in the Shell: Stand Alone Complex - The Laughing Man: 4.0\n",
    "- Absolutely Anything: 3.3\n",
    "- Next Avengers: Heroes of Tomorrow: 5.0\n",
    "- Iron Man & Captain America: Heroes United: 3.0\n",
    "- Batman v Superman: Dawn of Justice: 2.6\n",
    "- Star Trek: The Motion Picture: 3.1\n",
    "- Iron Man & Hulk: Heroes United: 3.0\n",
    "- Wonder Woman: 2.0\n",
    "- Captain Fantastic: 3.8\n",
    "- Now You See Me 2: 3.5\n",
    "- LEGO DC Comics Super Heroes: Batman: Be-Leaguered: 2.0\n",
    "- While You Were Fighting: A Thor Mockumentary: 3.8\n",
    "- Marvel One-Shot: All Hail the King: 3.0\n",
    "- Marvel One-Shot: The Consultant: 2.3\n",
    "- Rogue One: A Star Wars Story: 3.5\n",
    "- Superheroes: A Never-Ending Battle: 4.0\n",
    "- xXx: Return of Xander Cage: 3.4\n",
    "- The Lego Batman Movie: 3.9\n",
    "- Marvel One-Shot: Agent Carter: 4.0\n",
    "- Marvel One-Shot: A Funny Thing Happened on the Way to Thor's Hammer: 4.0\n",
    "- Logan: 3.8\n",
    "- Kong: Skull Island: 3.1\n",
    "- Despicable Me 3: 2.7\n",
    "- Paragraph 78: Film One: 3.0\n",
    "- X-Files: Fight the Future, The: 3.4\n",
    "- Avengers, The: 1.8\n",
    "- Comic Book Confidential: 4.0\n",
    "- Captain America: 2.0\n",
    "- Austin Powers: The Spy Who Shagged Me: 2.8\n",
    "- Mystery Men: 2.9\n",
    "- Fantastic Four: 2.5\n",
    "- Sky High: 2.9\n",
    "- Starman: 3.7\n",
    "- X-Men: 3.5\n",
    "- Supergirl: 2.2\n",
    "- Demolition Man: 3.3\n",
    "- X-Men: The Last Stand: 3.0\n",
    "- Punisher, The: 2.4\n",
    "- Superman Returns: 2.7\n",
    "- Blankman: 2.0\n",
    "- Spider-Man 3: 2.7\n",
    "- Fantastic Four: Rise of the Silver Surfer: 2.2\n",
    "- Spider-Man: 3.4\n",
    "- Men in Black II: 2.7\n",
    "- Superhero Movie: 2.8\n",
    "- Iron Man: 3.8\n",
    "- Incredible Hulk, The: 3.1\n",
    "- Hancock: 3.2\n",
    "- Watchmen: 3.7\n",
    "- Cowboy Bebop: The Movie: 3.9\n",
    "- X2: X-Men United: 3.6\n",
    "- Punisher: War Zone: 2.8\n",
    "- Comic Book Villains: 1.0\n",
    "- Mystery Science Theater 3000: The Movie: 4.1\n",
    "- X-Men Origins: Wolverine: 3.0\n",
    "- Star Trek: 3.8\n",
    "- Fanboys: 2.8\n",
    "- Avatar: 3.7\n",
    "- Phantom, The: 3.1\n",
    "- Iron Man 2: 3.4\n",
    "- Despicable Me: 3.6\n",
    "- Green Hornet, The: 2.7\n",
    "- Thor: 3.1\n",
    "- Spider-Man 2: 3.5\n",
    "- X-Men: First Class: 3.5\n",
    "- Captain America: The First Avenger: 3.2\n",
    "- Incredibles, The: 3.8\n",
    "- Avengers, The: 3.6\n",
    "- Superheroes: 4.0\n",
    "- Mission: Impossible - Ghost Protocol: 3.6\n",
    "- Comic-Con Episode IV: A Fan's Hope: 2.0\n",
    "- Men in Black III: 3.2\n",
    "- Amazing Spider-Man, The: 3.1\n",
    "- Rise of the Guardians: 3.7\n",
    "\"\"\""
   ]
  },
  {
   "cell_type": "code",
   "execution_count": 41,
   "id": "5c0fbcb9-fd51-4799-83c4-5d14632d8324",
   "metadata": {},
   "outputs": [
    {
     "data": {
      "text/html": [
       "<pre style=\"white-space:pre;overflow-x:auto;line-height:normal;font-family:Menlo,'DejaVu Sans Mono',consolas,'Courier New',monospace\"></pre>\n"
      ],
      "text/plain": []
     },
     "metadata": {},
     "output_type": "display_data"
    },
    {
     "data": {
      "text/plain": [
       "\n",
       "\u001b[1m[\u001b[0m\n",
       "    \u001b[32m'gemma:7b'\u001b[0m,\n",
       "    \u001b[32m'gemma-7b:latest'\u001b[0m,\n",
       "    \u001b[32m'llama2:7b-chat'\u001b[0m,\n",
       "    \u001b[32m'llama2-7b-chat:latest'\u001b[0m,\n",
       "    \u001b[32m'llama3:instruct'\u001b[0m,\n",
       "    \u001b[32m'llama3-8b-instruct:latest'\u001b[0m,\n",
       "    \u001b[32m'llama3-rec:latest'\u001b[0m,\n",
       "    \u001b[32m'mistral:instruct'\u001b[0m,\n",
       "    \u001b[32m'mistral:latest'\u001b[0m,\n",
       "    \u001b[32m'mistral-instruct:latest'\u001b[0m,\n",
       "    \u001b[32m'mixtral:latest'\u001b[0m\n",
       "\u001b[1m]\u001b[0m"
      ]
     },
     "execution_count": 41,
     "metadata": {},
     "output_type": "execute_result"
    }
   ],
   "source": [
    "OllamaApiClient().models()"
   ]
  },
  {
   "cell_type": "code",
   "execution_count": 57,
   "id": "ab220acf-11ef-4ab5-9993-1d34cec9534f",
   "metadata": {},
   "outputs": [
    {
     "name": "stdout",
     "output_type": "stream",
     "text": [
      "CPU times: user 14.3 ms, sys: 3.63 ms, total: 17.9 ms\n",
      "Wall time: 4.72 s\n"
     ]
    },
    {
     "data": {
      "text/html": [
       "<pre style=\"white-space:pre;overflow-x:auto;line-height:normal;font-family:Menlo,'DejaVu Sans Mono',consolas,'Courier New',monospace\"></pre>\n"
      ],
      "text/plain": []
     },
     "metadata": {},
     "output_type": "display_data"
    },
    {
     "data": {
      "text/plain": [
       "\n",
       "\u001b[1m[\u001b[0m\n",
       "    \u001b[1m{\u001b[0m\n",
       "        \u001b[32m'number'\u001b[0m: \u001b[1;36m1\u001b[0m,\n",
       "        \u001b[32m'title'\u001b[0m: \u001b[32m'Star wars: episode v - the empire strikes back'\u001b[0m,\n",
       "        \u001b[32m'description'\u001b[0m: \u001b[32m'A classic space opera film that explores the complexities of friendship and loyalty as luke skywalker trains with yoda to confront darth vader.'\u001b[0m,\n",
       "        \u001b[32m'release'\u001b[0m: \u001b[32m'1980'\u001b[0m\n",
       "    \u001b[1m}\u001b[0m,\n",
       "    \u001b[1m{\u001b[0m\n",
       "        \u001b[32m'number'\u001b[0m: \u001b[1;36m2\u001b[0m,\n",
       "        \u001b[32m'title'\u001b[0m: \u001b[32m'Cowboy bebop: the movie'\u001b[0m,\n",
       "        \u001b[32m'description'\u001b[0m: \u001b[32m'An animated sci-fi film set in a futuristic world where bounty hunters navigate the galaxy, exploring themes of identity and purpose.'\u001b[0m,\n",
       "        \u001b[32m'release'\u001b[0m: \u001b[32m'2001'\u001b[0m\n",
       "    \u001b[1m}\u001b[0m,\n",
       "    \u001b[1m{\u001b[0m\n",
       "        \u001b[32m'number'\u001b[0m: \u001b[1;36m3\u001b[0m,\n",
       "        \u001b[32m'title'\u001b[0m: \u001b[32m'Watchmen'\u001b[0m,\n",
       "        \u001b[32m'description'\u001b[0m: \u001b[32m'A superhero deconstruction film that delves into the complexities of heroism, morality, and the consequences of vigilantism.'\u001b[0m,\n",
       "        \u001b[32m'release'\u001b[0m: \u001b[32m'2009'\u001b[0m\n",
       "    \u001b[1m}\u001b[0m,\n",
       "    \u001b[1m{\u001b[0m\n",
       "        \u001b[32m'number'\u001b[0m: \u001b[1;36m4\u001b[0m,\n",
       "        \u001b[32m'title'\u001b[0m: \u001b[32m'Incredibles, the'\u001b[0m,\n",
       "        \u001b[32m'description'\u001b[0m: \u001b[32m'An animated superhero film that explores the challenges of balancing family life with superpowers, featuring a lovable but flawed superhero family.'\u001b[0m,\n",
       "        \u001b[32m'release'\u001b[0m: \u001b[32m'2004'\u001b[0m\n",
       "    \u001b[1m}\u001b[0m,\n",
       "    \u001b[1m{\u001b[0m\n",
       "        \u001b[32m'number'\u001b[0m: \u001b[1;36m5\u001b[0m,\n",
       "        \u001b[32m'title'\u001b[0m: \u001b[32m'Star trek: the motion picture'\u001b[0m,\n",
       "        \u001b[32m'description'\u001b[0m: \u001b[32m'A classic sci-fi film that reimagines the star trek universe, exploring themes of friendship, duty, and the power of human ingenuity.'\u001b[0m,\n",
       "        \u001b[32m'release'\u001b[0m: \u001b[32m'1979'\u001b[0m\n",
       "    \u001b[1m}\u001b[0m\n",
       "\u001b[1m]\u001b[0m"
      ]
     },
     "execution_count": 57,
     "metadata": {},
     "output_type": "execute_result"
    }
   ],
   "source": [
    "%%time\n",
    "\n",
    "PROMPT = \"\"\"\n",
    "{user_profile}\n",
    "\n",
    "{user_history}\n",
    "\n",
    "{candidates}\n",
    "\n",
    "Recommend {limit} movies from candidate movies list, based on user profile and seen movies.\n",
    "Return only one list of recommendations with next format:\n",
    "\n",
    "Number. Title (Release year): Synopsis.\n",
    "\"\"\"\n",
    "\n",
    "charbot_client = MovieRecommenderChatBotFactory.create(\n",
    "    prompt = PROMPT,\n",
    "    model  = 'llama3-rec:latest'\n",
    ")\n",
    "\n",
    "result = charbot_client(\n",
    "    user_profile = user_profile, \n",
    "    candidates   = candidates,\n",
    "    limit        = 10\n",
    ")\n",
    "\n",
    "result.metadata['recommendations']"
   ]
  },
  {
   "cell_type": "code",
   "execution_count": 59,
   "id": "cc1d226a-0dda-4ae6-852b-8a1f3e796867",
   "metadata": {},
   "outputs": [
    {
     "data": {
      "text/html": [
       "<pre style=\"white-space:pre;overflow-x:auto;line-height:normal;font-family:Menlo,'DejaVu Sans Mono',consolas,'Courier New',monospace\"></pre>\n"
      ],
      "text/plain": []
     },
     "metadata": {},
     "output_type": "display_data"
    },
    {
     "data": {
      "text/plain": [
       "\n",
       "\u001b[1m[\u001b[0m\n",
       "    \u001b[32m'__annotations__'\u001b[0m,\n",
       "    \u001b[32m'__class__'\u001b[0m,\n",
       "    \u001b[32m'__delattr__'\u001b[0m,\n",
       "    \u001b[32m'__dict__'\u001b[0m,\n",
       "    \u001b[32m'__dir__'\u001b[0m,\n",
       "    \u001b[32m'__doc__'\u001b[0m,\n",
       "    \u001b[32m'__eq__'\u001b[0m,\n",
       "    \u001b[32m'__format__'\u001b[0m,\n",
       "    \u001b[32m'__ge__'\u001b[0m,\n",
       "    \u001b[32m'__getattribute__'\u001b[0m,\n",
       "    \u001b[32m'__getstate__'\u001b[0m,\n",
       "    \u001b[32m'__gt__'\u001b[0m,\n",
       "    \u001b[32m'__hash__'\u001b[0m,\n",
       "    \u001b[32m'__init__'\u001b[0m,\n",
       "    \u001b[32m'__init_subclass__'\u001b[0m,\n",
       "    \u001b[32m'__le__'\u001b[0m,\n",
       "    \u001b[32m'__lt__'\u001b[0m,\n",
       "    \u001b[32m'__module__'\u001b[0m,\n",
       "    \u001b[32m'__ne__'\u001b[0m,\n",
       "    \u001b[32m'__new__'\u001b[0m,\n",
       "    \u001b[32m'__reduce__'\u001b[0m,\n",
       "    \u001b[32m'__reduce_ex__'\u001b[0m,\n",
       "    \u001b[32m'__repr__'\u001b[0m,\n",
       "    \u001b[32m'__setattr__'\u001b[0m,\n",
       "    \u001b[32m'__sizeof__'\u001b[0m,\n",
       "    \u001b[32m'__str__'\u001b[0m,\n",
       "    \u001b[32m'__subclasshook__'\u001b[0m,\n",
       "    \u001b[32m'__weakref__'\u001b[0m,\n",
       "    \u001b[32m'content'\u001b[0m,\n",
       "    \u001b[32m'metadata'\u001b[0m\n",
       "\u001b[1m]\u001b[0m"
      ]
     },
     "execution_count": 59,
     "metadata": {},
     "output_type": "execute_result"
    }
   ],
   "source": [
    "dir(result)"
   ]
  },
  {
   "cell_type": "code",
   "execution_count": null,
   "id": "aac5b7d0-5ea3-4d30-943e-21c207194712",
   "metadata": {},
   "outputs": [],
   "source": []
  }
 ],
 "metadata": {
  "kernelspec": {
   "display_name": "Python 3 (ipykernel)",
   "language": "python",
   "name": "python3"
  },
  "language_info": {
   "codemirror_mode": {
    "name": "ipython",
    "version": 3
   },
   "file_extension": ".py",
   "mimetype": "text/x-python",
   "name": "python",
   "nbconvert_exporter": "python",
   "pygments_lexer": "ipython3",
   "version": "3.11.5"
  },
  "widgets": {
   "application/vnd.jupyter.widget-state+json": {
    "state": {},
    "version_major": 2,
    "version_minor": 0
   }
  }
 },
 "nbformat": 4,
 "nbformat_minor": 5
}
