{
 "cells": [
  {
   "cell_type": "markdown",
   "id": "0417277b-47df-4113-a7b3-8f960db06f1d",
   "metadata": {
    "tags": []
   },
   "source": [
    "# Recommendation Chatbot API: Evaluation\n",
    "\n",
    "Usign **llama3-rec:latest** LLM."
   ]
  },
  {
   "cell_type": "code",
   "execution_count": 1,
   "id": "59f0eac0-30e8-4e72-860e-05541c36b82e",
   "metadata": {},
   "outputs": [],
   "source": [
    "%%capture output\n",
    "%load_ext autoreload\n",
    "%autoreload 2"
   ]
  },
  {
   "cell_type": "code",
   "execution_count": 2,
   "id": "6fe490fd-66c5-4b3f-a327-62aa5d01f21c",
   "metadata": {},
   "outputs": [],
   "source": [
    "import sys\n",
    "import os\n",
    "\n",
    "BASE_PATH         = '../..'\n",
    "API_PATH          = f'{BASE_PATH}/chat-bot-api'\n",
    "LIB_PATH          = f'{BASE_PATH}/lib'\n",
    "DATASET_PATH      = f'{BASE_PATH}/datasets'\n",
    "METRICS_PATH      = f'{BASE_PATH}/metrics'\n",
    "EVAL_METRICS_PATH = f'{METRICS_PATH}/evaluation-metrics.dt'\n",
    "RUN_EVALUATION    = True\n",
    "\n",
    "os.environ['TMP_PATH']         = f'{BASE_PATH}/tmp'\n",
    "os.environ['DATASET_PATH']     = f'{BASE_PATH}/datasets'\n",
    "os.environ['WEIGHTS_PATH']     = f'{BASE_PATH}/weights'\n",
    "os.environ['METRICS_PATH']     = f'{BASE_PATH}/metrics'\n",
    "\n",
    "sys.path.append(LIB_PATH)\n",
    "sys.path.append(API_PATH)"
   ]
  },
  {
   "cell_type": "code",
   "execution_count": 3,
   "id": "618ff780-b45b-4339-b047-52c349c1d621",
   "metadata": {},
   "outputs": [
    {
     "data": {
      "text/html": [
       "<pre style=\"white-space:pre;overflow-x:auto;line-height:normal;font-family:Menlo,'DejaVu Sans Mono',consolas,'Courier New',monospace\"></pre>\n"
      ],
      "text/plain": []
     },
     "metadata": {},
     "output_type": "display_data"
    },
    {
     "data": {
      "text/plain": [
       "\u001b[1m<\u001b[0m\u001b[1;95mFigure\u001b[0m\u001b[39m size 64\u001b[0m\u001b[1;36m0x480\u001b[0m\u001b[39m with \u001b[0m\u001b[1;36m0\u001b[0m\u001b[39m Axes\u001b[0m\u001b[1m>\u001b[0m"
      ]
     },
     "metadata": {},
     "output_type": "display_data"
    }
   ],
   "source": [
    "import logging\n",
    "import os\n",
    "import pytorch_common.util as pu\n",
    "import util as ut\n",
    "from client import RecChatBotV1ApiClient\n",
    "from models import EvaluationStateFactory, EvaluationState, ModelEvaluator"
   ]
  },
  {
   "cell_type": "markdown",
   "id": "d757391b-ad9f-4047-9b23-e3bd23fbe37b",
   "metadata": {},
   "source": [
    "## Setup"
   ]
  },
  {
   "cell_type": "code",
   "execution_count": 4,
   "id": "efba19c8-6de3-4a6c-b804-658d0aff6bdb",
   "metadata": {},
   "outputs": [
    {
     "data": {
      "text/html": [
       "<pre style=\"white-space:pre;overflow-x:auto;line-height:normal;font-family:Menlo,'DejaVu Sans Mono',consolas,'Courier New',monospace\"></pre>\n"
      ],
      "text/plain": []
     },
     "metadata": {},
     "output_type": "display_data"
    },
    {
     "data": {
      "text/plain": [
       "\u001b[1m<\u001b[0m\u001b[1;95mRootLogger\u001b[0m\u001b[39m root \u001b[0m\u001b[1;39m(\u001b[0m\u001b[39mINFO\u001b[0m\u001b[1;39m)\u001b[0m\u001b[1m>\u001b[0m"
      ]
     },
     "execution_count": 4,
     "metadata": {},
     "output_type": "execute_result"
    }
   ],
   "source": [
    "def on_file(file_path, format='%(asctime)s - %(levelname)s - %(message)s'):\n",
    "    handler = logging.FileHandler(file_path)\n",
    "    handler.setFormatter(logging.Formatter(format))\n",
    "    return handler\n",
    "\n",
    "\n",
    "pu.LoggerBuilder() \\\n",
    "    .handler(on_file('./evaluation.log'))\\\n",
    "    .on_console() \\\n",
    "    .build()"
   ]
  },
  {
   "cell_type": "markdown",
   "id": "9e7f2032-7e01-4865-8d9e-4ed7d7264862",
   "metadata": {},
   "source": [
    "**Step 1**: Load interactions test set and items data."
   ]
  },
  {
   "cell_type": "code",
   "execution_count": 5,
   "id": "c9b027c9-06a0-4037-b467-90547e73e9c9",
   "metadata": {
    "tags": []
   },
   "outputs": [],
   "source": [
    "interactions_test_set = ut.load_df(f'{DATASET_PATH}/interactions_test_set.json')\n",
    "items                 = ut.load_df(f'{DATASET_PATH}/pre-processed-movies.json')"
   ]
  },
  {
   "cell_type": "markdown",
   "id": "bea9453e-1d68-44f7-a88f-82debef4b2e9",
   "metadata": {
    "tags": []
   },
   "source": [
    "**Step 2**: Create evaluation state. \n",
    "\n",
    "* **EvaluationState** creates user profiles into **Chatbot API** from evaluation interactions.\n",
    "* Register each user session data required to perform al evaluation metrics.\n",
    "* Contains all data required to manage the evalauton process, like model hperparams, plot interval, etc.."
   ]
  },
  {
   "cell_type": "code",
   "execution_count": 7,
   "id": "9d49b598-9ce4-4b80-a4ca-363679e22027",
   "metadata": {},
   "outputs": [
    {
     "name": "stderr",
     "output_type": "stream",
     "text": [
      "2024-06-21 15:10:01,950 - INFO - loading...\n"
     ]
    }
   ],
   "source": [
    "if os.path.exists(EVAL_METRICS_PATH):\n",
    "    logging.info('loading...')\n",
    "    evaluation_state = EvaluationState.load(EVAL_METRICS_PATH)\n",
    "    \n",
    "    evaluation_state.max_patience= {\n",
    "        20  : 5,\n",
    "        100 : 6,\n",
    "        200 : 7\n",
    "    }\n",
    "else:\n",
    "    logging.info('creating...')\n",
    "    evaluation_state = EvaluationStateFactory.create(\n",
    "        api_client            = RecChatBotV1ApiClient(),\n",
    "        interactions_test_set = interactions_test_set,\n",
    "        items                 = items,\n",
    "        recommendation_size   = 5,\n",
    "        path                  = EVAL_METRICS_PATH,\n",
    "        max_patience          = {\n",
    "        20  : 5,\n",
    "        100 : 6,\n",
    "        200 : 7\n",
    "        },\n",
    "        plot_interval         = 5,\n",
    "        hyper_params          = {\n",
    "            'llm'                                   : 'llama3:instruct',\n",
    "                                                    # llama3:instruct\n",
    "                                                    # llama2:7b-chat\n",
    "                                                    # mistral:instruct\n",
    "            'retry'                                 : 1,\n",
    "            'plain'                                 : False,\n",
    "            'include_metadata'                      : True,\n",
    "            'rag': {\n",
    "                'shuffle'                           : False,\n",
    "                'candidates_limit'                  : 100,\n",
    "                'llm_response_limit'                : 100,\n",
    "                'recommendations_limit'             : 10,\n",
    "                'similar_items_augmentation_limit'  : 1,\n",
    "                'not_seen'                          : True\n",
    "            },\n",
    "            'collaborative_filtering': {\n",
    "                'shuffle'                           : False,\n",
    "                'candidates_limit'                  : 50,\n",
    "                'llm_response_limit'                : 50,\n",
    "                'recommendations_limit'             : 10,\n",
    "                'similar_items_augmentation_limit'  : 2,\n",
    "                'text_query_limit'                  : 5000,\n",
    "                'k_sim_users'                       : 10,\n",
    "                'random_selection_items_by_user'    : 0.5,\n",
    "                'max_items_by_user'                 : 10,\n",
    "                'min_rating_by_user'                : 3.5,\n",
    "                'not_seen'                          : True,\n",
    "                'rank_criterion'                    : 'user_sim_weighted_pred_rating_score'\n",
    "                                                    # user_sim_weighted_rating_score\n",
    "                                                    # user_item_sim\n",
    "                                                    # pred_user_rating\n",
    "            }\n",
    "        },\n",
    "        verbose = True\n",
    "    )"
   ]
  },
  {
   "cell_type": "markdown",
   "id": "574dd339-0656-4db5-97c5-e50def25b22a",
   "metadata": {},
   "source": [
    "**Step 3**: Perform chatbot API evaluation process.\n",
    "* Simulate user interaciton with API.\n",
    "* A user requests movie recommendations that previously has rated.\n",
    "* It process register recomemndations with result rating and user rating.\n",
    "* It data is user to perform all metrics."
   ]
  },
  {
   "cell_type": "code",
   "execution_count": 8,
   "id": "3f424dc5-3df1-47e7-a77e-35eb3bad1ad2",
   "metadata": {
    "scrolled": true
   },
   "outputs": [
    {
     "name": "stderr",
     "output_type": "stream",
     "text": [
      "2024-06-21 15:10:06,804 - INFO - GET http://nonosoft.ddns.net:8080/api/v1/items?email=&seen=True&content=&all=True&limit=5&hide_emb=True&release=1950&genres=\n"
     ]
    }
   ],
   "source": [
    "evaluator = ModelEvaluator(\n",
    "    evaluation_state      = evaluation_state, \n",
    "    interactions_test_set = interactions_test_set,\n",
    "    items                 = items,\n",
    "    path                  = EVAL_METRICS_PATH,\n",
    "    api_client            = RecChatBotV1ApiClient()\n",
    ")"
   ]
  },
  {
   "cell_type": "code",
   "execution_count": null,
   "id": "be045903-8def-42ed-9d8e-d91f491044b9",
   "metadata": {},
   "outputs": [
    {
     "name": "stderr",
     "output_type": "stream",
     "text": [
      "2024-06-21 15:10:09,770 - INFO - 1/135 - kenneth.holland@gmail.com - Begin user evaluation.\n",
      "2024-06-21 15:10:09,802 - INFO - 1/135 - kenneth.holland@gmail.com - Sample: 5 - Remaining: 34/60.\n",
      "2024-06-21 15:10:25,878 - INFO - 1/135 - kenneth.holland@gmail.com - Response time: 0:00:16.08\n",
      "2024-06-21 15:10:25,878 - INFO - 1/135 - kenneth.holland@gmail.com - Not found relevant items into list of 10 recommendations - Patience: 1/6.\n",
      "2024-06-21 15:10:25,913 - INFO - 1/135 - kenneth.holland@gmail.com - Sample: 5 - Remaining: 34/60.\n",
      "2024-06-21 15:10:38,710 - INFO - 1/135 - kenneth.holland@gmail.com - Response time: 0:00:12.80\n",
      "2024-06-21 15:10:38,711 - INFO - 1/135 - kenneth.holland@gmail.com - Not found relevant items into list of 10 recommendations - Patience: 2/6.\n",
      "2024-06-21 15:10:38,736 - INFO - 1/135 - kenneth.holland@gmail.com - Sample: 5 - Remaining: 34/60.\n",
      "2024-06-21 15:11:02,811 - ERROR - 1/135 - kenneth.holland@gmail.com - Api client error. Detail: <Response [500]>\n",
      "2024-06-21 15:11:02,837 - INFO - 1/135 - kenneth.holland@gmail.com - Sample: 5 - Remaining: 34/60.\n",
      "2024-06-21 15:11:12,394 - INFO - 1/135 - kenneth.holland@gmail.com - Response time: 0:00:09.56\n",
      "2024-06-21 15:11:12,395 - INFO - 1/135 - kenneth.holland@gmail.com - Not found relevant items into list of 10 recommendations - Patience: 3/6.\n",
      "2024-06-21 15:11:12,419 - INFO - 1/135 - kenneth.holland@gmail.com - Sample: 5 - Remaining: 34/60.\n",
      "2024-06-21 15:11:26,568 - INFO - 1/135 - kenneth.holland@gmail.com - Response time: 0:00:14.15\n",
      "2024-06-21 15:11:26,569 - INFO - 1/135 - kenneth.holland@gmail.com - Not found relevant items into list of 10 recommendations - Patience: 4/6.\n",
      "2024-06-21 15:11:26,595 - INFO - 1/135 - kenneth.holland@gmail.com - Sample: 5 - Remaining: 34/60.\n",
      "2024-06-21 15:11:35,406 - INFO - 1/135 - kenneth.holland@gmail.com - Response time: 0:00:08.81\n",
      "2024-06-21 15:11:35,406 - INFO - 1/135 - kenneth.holland@gmail.com - Not found relevant items into list of 10 recommendations - Patience: 5/6.\n",
      "2024-06-21 15:11:35,432 - INFO - 1/135 - kenneth.holland@gmail.com - Sample: 5 - Remaining: 34/60.\n",
      "2024-06-21 15:11:58,076 - INFO - 1/135 - kenneth.holland@gmail.com - Response time: 0:00:22.64\n",
      "2024-06-21 15:11:58,076 - INFO - 1/135 - kenneth.holland@gmail.com - Not found relevant items into list of 10 recommendations - Patience: 6/6.\n",
      "2024-06-21 15:11:58,102 - INFO - 1/135 - kenneth.holland@gmail.com - Sample: 5 - Remaining: 34/60.\n",
      "2024-06-21 15:12:06,719 - INFO - 1/135 - kenneth.holland@gmail.com - Response time: 0:00:08.62\n",
      "2024-06-21 15:12:06,720 - WARNING - 1/135 - kenneth.holland@gmail.com - End user evaluation. 6 max retries reached.\n",
      "2024-06-21 15:12:06,722 - INFO - State saved into ../../metrics/evaluation-metrics.dt\n",
      "2024-06-21 15:12:06,722 - INFO - 2/135 - jacob.snyder@gmail.com - Begin user evaluation.\n",
      "2024-06-21 15:12:06,748 - INFO - 2/135 - jacob.snyder@gmail.com - Sample: 5 - Remaining: 37/68.\n",
      "2024-06-21 15:12:28,198 - INFO - 2/135 - jacob.snyder@gmail.com - Response time: 0:00:21.45\n",
      "2024-06-21 15:12:28,199 - INFO - 2/135 - jacob.snyder@gmail.com - Not found relevant items into list of 10 recommendations - Patience: 1/6.\n",
      "2024-06-21 15:12:28,225 - INFO - 2/135 - jacob.snyder@gmail.com - Sample: 5 - Remaining: 37/68.\n",
      "2024-06-21 15:12:54,122 - INFO - 2/135 - jacob.snyder@gmail.com - Response time: 0:00:25.90\n",
      "2024-06-21 15:12:54,123 - INFO - 2/135 - jacob.snyder@gmail.com - Not found relevant items into list of 10 recommendations - Patience: 2/6.\n",
      "2024-06-21 15:12:54,147 - INFO - 2/135 - jacob.snyder@gmail.com - Sample: 5 - Remaining: 37/68.\n",
      "2024-06-21 15:13:05,145 - INFO - 2/135 - jacob.snyder@gmail.com - Response time: 0:00:11.00\n",
      "2024-06-21 15:13:05,146 - INFO - 2/135 - jacob.snyder@gmail.com - Not found relevant items into list of 10 recommendations - Patience: 3/6.\n",
      "2024-06-21 15:13:05,173 - INFO - 2/135 - jacob.snyder@gmail.com - Sample: 5 - Remaining: 37/68.\n",
      "2024-06-21 15:13:28,141 - INFO - 2/135 - jacob.snyder@gmail.com - Response time: 0:00:22.97\n",
      "2024-06-21 15:13:28,142 - INFO - 2/135 - jacob.snyder@gmail.com - Not found relevant items into list of 10 recommendations - Patience: 4/6.\n",
      "2024-06-21 15:13:28,169 - INFO - 2/135 - jacob.snyder@gmail.com - Sample: 5 - Remaining: 37/68.\n",
      "2024-06-21 15:13:49,304 - INFO - 2/135 - jacob.snyder@gmail.com - Response time: 0:00:21.13\n",
      "2024-06-21 15:13:49,304 - INFO - 2/135 - jacob.snyder@gmail.com - Not found relevant items into list of 10 recommendations - Patience: 5/6.\n",
      "2024-06-21 15:14:10,576 - INFO - 2/135 - jacob.snyder@gmail.com - Sample: 5 - Remaining: 37/68.\n",
      "2024-06-21 15:14:21,674 - INFO - 2/135 - jacob.snyder@gmail.com - Response time: 0:00:11.10\n",
      "2024-06-21 15:14:21,675 - INFO - 2/135 - jacob.snyder@gmail.com - Not found relevant items into list of 10 recommendations - Patience: 6/6.\n",
      "2024-06-21 15:14:35,823 - INFO - 2/135 - jacob.snyder@gmail.com - Sample: 5 - Remaining: 37/68.\n",
      "2024-06-21 15:16:08,139 - INFO - 2/135 - jacob.snyder@gmail.com - Response time: 0:01:32.32\n",
      "2024-06-21 15:16:08,140 - WARNING - 2/135 - jacob.snyder@gmail.com - End user evaluation. 6 max retries reached.\n",
      "2024-06-21 15:16:08,142 - INFO - State saved into ../../metrics/evaluation-metrics.dt\n",
      "2024-06-21 15:16:08,142 - INFO - 3/135 - george.castro@gmail.com - Begin user evaluation.\n",
      "2024-06-21 15:16:26,049 - INFO - 3/135 - george.castro@gmail.com - Sample: 5 - Remaining: 20/68.\n",
      "2024-06-21 15:17:14,027 - INFO - 3/135 - george.castro@gmail.com - Response time: 0:00:47.98\n",
      "2024-06-21 15:17:14,028 - INFO - 3/135 - george.castro@gmail.com - Not found relevant items into list of 10 recommendations - Patience: 1/5.\n",
      "2024-06-21 15:17:32,479 - INFO - 3/135 - george.castro@gmail.com - Sample: 5 - Remaining: 20/68.\n",
      "2024-06-21 15:17:50,622 - INFO - 3/135 - george.castro@gmail.com - Response time: 0:00:18.14\n",
      "2024-06-21 15:17:50,622 - INFO - 3/135 - george.castro@gmail.com - Not found relevant items into list of 10 recommendations - Patience: 2/5.\n",
      "2024-06-21 15:17:50,648 - INFO - 3/135 - george.castro@gmail.com - Sample: 5 - Remaining: 20/68.\n",
      "2024-06-21 15:18:12,044 - INFO - 3/135 - george.castro@gmail.com - Response time: 0:00:21.40\n",
      "2024-06-21 15:18:12,045 - INFO - 3/135 - george.castro@gmail.com - Not found relevant items into list of 10 recommendations - Patience: 3/5.\n",
      "2024-06-21 15:18:21,052 - INFO - 3/135 - george.castro@gmail.com - Sample: 5 - Remaining: 20/68.\n",
      "2024-06-21 15:18:57,295 - INFO - 3/135 - george.castro@gmail.com - Response time: 0:00:36.24\n",
      "2024-06-21 15:18:57,295 - INFO - 3/135 - george.castro@gmail.com - Not found relevant items into list of 10 recommendations - Patience: 4/5.\n"
     ]
    }
   ],
   "source": [
    "if RUN_EVALUATION:\n",
    "    evaluator.run()"
   ]
  },
  {
   "cell_type": "code",
   "execution_count": null,
   "id": "968952c8-c985-435b-ac79-a679382f6fb0",
   "metadata": {},
   "outputs": [],
   "source": [
    "evaluator.plot()"
   ]
  },
  {
   "cell_type": "markdown",
   "id": "3243f41a-a623-450e-b66d-bc94a4616a13",
   "metadata": {},
   "source": [
    "Pendientes:\n",
    "* Comparar el numero de sessiones por paso para cada modelo."
   ]
  }
 ],
 "metadata": {
  "kernelspec": {
   "display_name": "Python 3 (ipykernel)",
   "language": "python",
   "name": "python3"
  },
  "language_info": {
   "codemirror_mode": {
    "name": "ipython",
    "version": 3
   },
   "file_extension": ".py",
   "mimetype": "text/x-python",
   "name": "python",
   "nbconvert_exporter": "python",
   "pygments_lexer": "ipython3",
   "version": "3.11.5"
  },
  "widgets": {
   "application/vnd.jupyter.widget-state+json": {
    "state": {},
    "version_major": 2,
    "version_minor": 0
   }
  }
 },
 "nbformat": 4,
 "nbformat_minor": 5
}
