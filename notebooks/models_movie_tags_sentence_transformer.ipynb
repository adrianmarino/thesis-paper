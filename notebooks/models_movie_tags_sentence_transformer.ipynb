{
 "cells": [
  {
   "cell_type": "markdown",
   "id": "0417277b-47df-4113-a7b3-8f960db06f1d",
   "metadata": {
    "tags": []
   },
   "source": [
    "# Models: Movie Tags Sentence Transformer"
   ]
  },
  {
   "cell_type": "code",
   "execution_count": 1,
   "id": "8dde5e70-5b86-460f-8791-20fcb554c378",
   "metadata": {},
   "outputs": [],
   "source": [
    "%load_ext autoreload\n",
    "%autoreload 2"
   ]
  },
  {
   "cell_type": "code",
   "execution_count": 2,
   "id": "f98e7bf4-f41a-43f6-b7b7-a991d00f82de",
   "metadata": {},
   "outputs": [
    {
     "data": {
      "text/html": [
       "<pre style=\"white-space:pre;overflow-x:auto;line-height:normal;font-family:Menlo,'DejaVu Sans Mono',consolas,'Courier New',monospace\"><span style=\"font-weight: bold\">&lt;</span><span style=\"color: #ff00ff; text-decoration-color: #ff00ff; font-weight: bold\">Figure</span><span style=\"color: #000000; text-decoration-color: #000000\"> size 432x288 with </span><span style=\"color: #008080; text-decoration-color: #008080; font-weight: bold\">0</span><span style=\"color: #000000; text-decoration-color: #000000\"> Axes</span><span style=\"font-weight: bold\">&gt;</span>\n",
       "</pre>\n"
      ],
      "text/plain": [
       "\u001b[1m<\u001b[0m\u001b[1;95mFigure\u001b[0m\u001b[39m size 432x288 with \u001b[0m\u001b[1;36m0\u001b[0m\u001b[39m Axes\u001b[0m\u001b[1m>\u001b[0m\n"
      ]
     },
     "metadata": {},
     "output_type": "display_data"
    }
   ],
   "source": [
    "import sys\n",
    "sys.path.append('../lib')\n",
    "\n",
    "import numpy as np\n",
    "import pandas as pd\n",
    "import torch\n",
    "\n",
    "import pytorch_common.util as pu\n",
    "from pytorch_common.util import set_device_name, \\\n",
    "                                get_device, \\\n",
    "                                LoggerBuilder\n",
    "\n",
    "import model as ml\n",
    "import data as dt\n",
    "import data.dataset as ds\n",
    "\n",
    "import data.plot as pl\n",
    "import data as dt\n",
    "\n",
    "import random\n",
    "\n",
    "import recommender as rc"
   ]
  },
  {
   "cell_type": "markdown",
   "id": "40c1da33-a8da-47c9-b174-0b0885b05b50",
   "metadata": {},
   "source": [
    "## Setup"
   ]
  },
  {
   "cell_type": "code",
   "execution_count": 3,
   "id": "e60a3838-9787-411d-b9f1-8a942321cbb1",
   "metadata": {},
   "outputs": [
    {
     "data": {
      "text/html": [
       "<pre style=\"white-space:pre;overflow-x:auto;line-height:normal;font-family:Menlo,'DejaVu Sans Mono',consolas,'Courier New',monospace\"><span style=\"font-weight: bold\">&lt;</span><span style=\"color: #ff00ff; text-decoration-color: #ff00ff; font-weight: bold\">RootLogger</span><span style=\"color: #000000; text-decoration-color: #000000\"> root </span><span style=\"color: #000000; text-decoration-color: #000000; font-weight: bold\">(</span><span style=\"color: #000000; text-decoration-color: #000000\">INFO</span><span style=\"color: #000000; text-decoration-color: #000000; font-weight: bold\">)</span><span style=\"font-weight: bold\">&gt;</span>\n",
       "</pre>\n"
      ],
      "text/plain": [
       "\u001b[1m<\u001b[0m\u001b[1;95mRootLogger\u001b[0m\u001b[39m root \u001b[0m\u001b[1;39m(\u001b[0m\u001b[39mINFO\u001b[0m\u001b[1;39m)\u001b[0m\u001b[1m>\u001b[0m\n"
      ]
     },
     "metadata": {},
     "output_type": "display_data"
    }
   ],
   "source": [
    "pu.LoggerBuilder().on_console().build()"
   ]
  },
  {
   "cell_type": "code",
   "execution_count": 4,
   "id": "9fd7574f-043a-4fc3-8ab8-bfd55b6a92d8",
   "metadata": {},
   "outputs": [],
   "source": [
    "pu.set_device_name('gpu')"
   ]
  },
  {
   "cell_type": "code",
   "execution_count": 5,
   "id": "bad1a1e0-b35e-4b40-ab06-beae8fbb244a",
   "metadata": {},
   "outputs": [
    {
     "data": {
      "text/html": [
       "<pre style=\"white-space:pre;overflow-x:auto;line-height:normal;font-family:Menlo,'DejaVu Sans Mono',consolas,'Courier New',monospace\"><span style=\"color: #800080; text-decoration-color: #800080; font-weight: bold\">device</span><span style=\"font-weight: bold\">(</span><span style=\"color: #808000; text-decoration-color: #808000\">type</span>=<span style=\"color: #008000; text-decoration-color: #008000\">'cuda'</span>, <span style=\"color: #808000; text-decoration-color: #808000\">index</span>=<span style=\"color: #008080; text-decoration-color: #008080; font-weight: bold\">0</span><span style=\"font-weight: bold\">)</span>\n",
       "</pre>\n"
      ],
      "text/plain": [
       "\u001b[1;35mdevice\u001b[0m\u001b[1m(\u001b[0m\u001b[33mtype\u001b[0m=\u001b[32m'cuda'\u001b[0m, \u001b[33mindex\u001b[0m=\u001b[1;36m0\u001b[0m\u001b[1m)\u001b[0m\n"
      ]
     },
     "metadata": {},
     "output_type": "display_data"
    }
   ],
   "source": [
    "pu.get_device()"
   ]
  },
  {
   "cell_type": "code",
   "execution_count": 6,
   "id": "f956317d-0e48-4518-a219-51700d272b5b",
   "metadata": {},
   "outputs": [],
   "source": [
    "cpu = torch.device(\"cpu\")\n",
    "gpu = pu.get_device()"
   ]
  },
  {
   "cell_type": "code",
   "execution_count": 7,
   "id": "d1ba7b0b-b5d8-47ec-8995-642b7b21e6d2",
   "metadata": {},
   "outputs": [
    {
     "data": {
      "text/html": [
       "<pre style=\"white-space:pre;overflow-x:auto;line-height:normal;font-family:Menlo,'DejaVu Sans Mono',consolas,'Courier New',monospace\"><span style=\"color: #00ff00; text-decoration-color: #00ff00; font-style: italic\">True</span>\n",
       "</pre>\n"
      ],
      "text/plain": [
       "\u001b[3;92mTrue\u001b[0m\n"
      ]
     },
     "metadata": {},
     "output_type": "display_data"
    }
   ],
   "source": [
    "torch.cuda.is_available()"
   ]
  },
  {
   "cell_type": "code",
   "execution_count": 8,
   "id": "21fa4041-5682-4332-b139-6aca63d05ea0",
   "metadata": {},
   "outputs": [
    {
     "data": {
      "text/html": [
       "<pre style=\"white-space:pre;overflow-x:auto;line-height:normal;font-family:Menlo,'DejaVu Sans Mono',consolas,'Courier New',monospace\"><span style=\"color: #008000; text-decoration-color: #008000\">'1.11.0'</span>\n",
       "</pre>\n"
      ],
      "text/plain": [
       "\u001b[32m'1.11.0'\u001b[0m\n"
      ]
     },
     "metadata": {},
     "output_type": "display_data"
    }
   ],
   "source": [
    "torch.__version__"
   ]
  },
  {
   "cell_type": "code",
   "execution_count": 9,
   "id": "b5fb890c-e080-4efc-9fc1-08921ae2465f",
   "metadata": {},
   "outputs": [],
   "source": [
    "def set_seed(value):\n",
    "    random.seed(value)\n",
    "    np.random.seed(value)\n",
    "    torch.manual_seed(value)"
   ]
  },
  {
   "cell_type": "code",
   "execution_count": 10,
   "id": "72f9d948-5300-4141-8fbc-4423669b2c58",
   "metadata": {},
   "outputs": [],
   "source": [
    "set_seed(42)"
   ]
  },
  {
   "cell_type": "code",
   "execution_count": 11,
   "id": "dc8ad985-d735-403f-a255-32c3eac6568e",
   "metadata": {},
   "outputs": [],
   "source": [
    "FIELD = 'tags'\n",
    "EMBEDDING_PATH = f'../datasets/movie_{FIELD}_embedding_bert.json'"
   ]
  },
  {
   "cell_type": "markdown",
   "id": "b8334d07-f306-42b4-8ea1-cc27b82eb343",
   "metadata": {},
   "source": [
    "## Carga de dataset"
   ]
  },
  {
   "cell_type": "code",
   "execution_count": 12,
   "id": "c34c660c-4802-498a-81b7-07bed14de07f",
   "metadata": {},
   "outputs": [
    {
     "name": "stdout",
     "output_type": "stream",
     "text": [
      "<class 'pandas.core.frame.DataFrame'>\n",
      "Int64Index: 191540 entries, 0 to 191539\n",
      "Data columns (total 15 columns):\n",
      " #   Column                       Non-Null Count   Dtype         \n",
      "---  ------                       --------------   -----         \n",
      " 0   user_id                      191540 non-null  int64         \n",
      " 1   user_seq                     191540 non-null  int64         \n",
      " 2   user_movie_tags              191540 non-null  object        \n",
      " 3   user_movie_rating            191540 non-null  int64         \n",
      " 4   user_movie_rating_timestamp  191540 non-null  datetime64[ns]\n",
      " 5   user_movie_rating_year       191540 non-null  int64         \n",
      " 6   movie_id                     191540 non-null  int64         \n",
      " 7   movie_seq                    191540 non-null  int64         \n",
      " 8   movie_title                  191540 non-null  string        \n",
      " 9   movie_genres                 191540 non-null  object        \n",
      " 10  movie_for_adults             191540 non-null  bool          \n",
      " 11  movie_original_language      191540 non-null  string        \n",
      " 12  movie_overview               191540 non-null  string        \n",
      " 13  movie_tags                   191540 non-null  object        \n",
      " 14  movie_release_year           191540 non-null  int64         \n",
      "dtypes: bool(1), datetime64[ns](1), int64(7), object(3), string(3)\n",
      "memory usage: 22.1+ MB\n"
     ]
    }
   ],
   "source": [
    "def to_tensor(obs, device, columns): \n",
    "    data = obs[columns]\n",
    "    if type(data) == pd.DataFrame:\n",
    "        data = data.values\n",
    "    return torch.tensor(data).to(device)\n",
    "\n",
    "transform_fn = lambda obs, device: to_tensor(obs, device, [f'movie_{FIELD}'])\n",
    "\n",
    "dataset = ds.MovieLensTMDBDatasetFactory.from_path(\n",
    "    transform        = transform_fn,\n",
    "    target_transform = transform_fn,\n",
    "    device           = cpu,\n",
    "    filter_fn        = lambda df: df[(df['user_movie_rating_year'] >= 2005) & (df['user_movie_rating_year'] <= 2019)]\n",
    ")\n",
    "dataset.info"
   ]
  },
  {
   "cell_type": "markdown",
   "id": "7feb7663-3aba-4e98-8421-bfb69efd5486",
   "metadata": {},
   "source": [
    "Select movies overview and add new curated tokens column:"
   ]
  },
  {
   "cell_type": "code",
   "execution_count": 14,
   "id": "1a181992-3b3a-47e0-8cc0-a4f80485e214",
   "metadata": {},
   "outputs": [
    {
     "name": "stdout",
     "output_type": "stream",
     "text": [
      "<class 'pandas.core.frame.DataFrame'>\n",
      "RangeIndex: 18515 entries, 0 to 18514\n",
      "Data columns (total 5 columns):\n",
      " #   Column              Non-Null Count  Dtype \n",
      "---  ------              --------------  ----- \n",
      " 0   id                  18515 non-null  int64 \n",
      " 1   movie_release_year  18515 non-null  int64 \n",
      " 2   title               18515 non-null  string\n",
      " 3   tags                18515 non-null  object\n",
      " 4   tags_tokens         18515 non-null  object\n",
      "dtypes: int64(2), object(2), string(1)\n",
      "memory usage: 723.4+ KB\n"
     ]
    }
   ],
   "source": [
    "columns = ['movie_id', 'movie_release_year', 'movie_title', f'movie_{FIELD}']\n",
    "\n",
    "movie_data = dataset \\\n",
    "    .data \\\n",
    "    .pipe(dt.select, columns) \\\n",
    "    .pipe(dt.distinct, ['movie_id']) \\\n",
    "    .pipe(dt.rename, {\n",
    "        'movie_id': 'id', \n",
    "        'movie_title': 'title', \n",
    "        f'movie_{FIELD}': FIELD\n",
    "    }) \\\n",
    "    .pipe(dt.join_str_list, FIELD) \\\n",
    "    .pipe(dt.tokenize, FIELD) \\\n",
    "    .pipe(dt.reset_index)\n",
    "\n",
    "movie_data.info()"
   ]
  },
  {
   "cell_type": "code",
   "execution_count": 17,
   "id": "71404e43-6634-4c7a-a5b8-45154a12f191",
   "metadata": {},
   "outputs": [
    {
     "data": {
      "text/html": [
       "<div>\n",
       "<style scoped>\n",
       "    .dataframe tbody tr th:only-of-type {\n",
       "        vertical-align: middle;\n",
       "    }\n",
       "\n",
       "    .dataframe tbody tr th {\n",
       "        vertical-align: top;\n",
       "    }\n",
       "\n",
       "    .dataframe thead th {\n",
       "        text-align: right;\n",
       "    }\n",
       "</style>\n",
       "<table border=\"1\" class=\"dataframe\">\n",
       "  <thead>\n",
       "    <tr style=\"text-align: right;\">\n",
       "      <th></th>\n",
       "      <th>id</th>\n",
       "      <th>movie_release_year</th>\n",
       "      <th>title</th>\n",
       "      <th>tags</th>\n",
       "      <th>tags_tokens</th>\n",
       "    </tr>\n",
       "  </thead>\n",
       "  <tbody>\n",
       "    <tr>\n",
       "      <th>0</th>\n",
       "      <td>1</td>\n",
       "      <td>1995</td>\n",
       "      <td>Toy Story</td>\n",
       "      <td>2009 reissue in stereoscopic 3-d 3d 55 movies ...</td>\n",
       "      <td>reissue stereoscopic d 3d movies kid entertain...</td>\n",
       "    </tr>\n",
       "    <tr>\n",
       "      <th>1</th>\n",
       "      <td>2355</td>\n",
       "      <td>1998</td>\n",
       "      <td>Bug's Life, A</td>\n",
       "      <td>acting animated animation ant ant-hill ants av...</td>\n",
       "      <td>acting animated animation ant ant hill ants av...</td>\n",
       "    </tr>\n",
       "    <tr>\n",
       "      <th>2</th>\n",
       "      <td>3114</td>\n",
       "      <td>1999</td>\n",
       "      <td>Toy Story 2</td>\n",
       "      <td>2009 reissue in stereoscopic 3-d 3d abandonmen...</td>\n",
       "      <td>reissue stereoscopic d 3d abandonment airplane...</td>\n",
       "    </tr>\n",
       "    <tr>\n",
       "      <th>3</th>\n",
       "      <td>4306</td>\n",
       "      <td>2001</td>\n",
       "      <td>Shrek</td>\n",
       "      <td>3 adventure almost favorite andrew adamson ani...</td>\n",
       "      <td>adventure favorite andrew adamson animated ani...</td>\n",
       "    </tr>\n",
       "    <tr>\n",
       "      <th>4</th>\n",
       "      <td>4886</td>\n",
       "      <td>2001</td>\n",
       "      <td>Monsters, Inc.</td>\n",
       "      <td>3 andrew stanton animated animation bechdel te...</td>\n",
       "      <td>andrew stanton animated animation bechdel test...</td>\n",
       "    </tr>\n",
       "  </tbody>\n",
       "</table>\n",
       "</div>"
      ]
     },
     "execution_count": 17,
     "metadata": {},
     "output_type": "execute_result"
    }
   ],
   "source": [
    "movie_data.head()"
   ]
  },
  {
   "cell_type": "markdown",
   "id": "c81ebd42-69d1-4c70-86bd-21fdf655ea17",
   "metadata": {
    "tags": []
   },
   "source": [
    "## Definicion del modelo"
   ]
  },
  {
   "cell_type": "code",
   "execution_count": 18,
   "id": "1fd7ac7d-5405-4c31-b948-025d498aab74",
   "metadata": {},
   "outputs": [
    {
     "name": "stderr",
     "output_type": "stream",
     "text": [
      "2022-07-25 22:22:36,824 - INFO - Load pretrained SentenceTransformer: all-mpnet-base-v2\n",
      "2022-07-25 22:22:37,402 - INFO - Use pytorch device: cuda\n"
     ]
    }
   ],
   "source": [
    "from sentence_transformers import SentenceTransformer\n",
    "\n",
    "# 'all-MiniLM-L6-v2'\n",
    "# 'bert-base-nli-mean-tokens'\n",
    "\n",
    "sbert_model = SentenceTransformer('all-mpnet-base-v2')"
   ]
  },
  {
   "cell_type": "markdown",
   "id": "5f73b173-49dd-4995-a80f-51c24d4a10f8",
   "metadata": {},
   "source": [
    "## Generacion de embeddings"
   ]
  },
  {
   "cell_type": "code",
   "execution_count": 19,
   "id": "38f65cff-be8b-42db-ae06-6ca24b017b98",
   "metadata": {},
   "outputs": [
    {
     "data": {
      "application/vnd.jupyter.widget-view+json": {
       "model_id": "18f69e99507f4d80a273590c637074a3",
       "version_major": 2,
       "version_minor": 0
      },
      "text/plain": [
       "Batches:   0%|          | 0/579 [00:00<?, ?it/s]"
      ]
     },
     "metadata": {},
     "output_type": "display_data"
    },
    {
     "name": "stdout",
     "output_type": "stream",
     "text": [
      "<class 'pandas.core.frame.DataFrame'>\n",
      "RangeIndex: 18515 entries, 0 to 18514\n",
      "Data columns (total 6 columns):\n",
      " #   Column              Non-Null Count  Dtype \n",
      "---  ------              --------------  ----- \n",
      " 0   id                  18515 non-null  int64 \n",
      " 1   movie_release_year  18515 non-null  int64 \n",
      " 2   title               18515 non-null  string\n",
      " 3   tags                18515 non-null  object\n",
      " 4   tags_tokens         18515 non-null  object\n",
      " 5   tags_embedding      18515 non-null  object\n",
      "dtypes: int64(2), object(3), string(1)\n",
      "memory usage: 868.0+ KB\n"
     ]
    }
   ],
   "source": [
    "embeddings = sbert_model.encode(movie_data[[FIELD]].values.reshape(-1))\n",
    "\n",
    "movie_data = movie_data \\\n",
    "    .pipe(dt.append_emb_vectors, embeddings, FIELD)\n",
    "\n",
    "movie_data.to_json(EMBEDDING_PATH)\n",
    "movie_data.info()"
   ]
  },
  {
   "cell_type": "markdown",
   "id": "d43c9369-047c-45ea-863c-304319bc63f0",
   "metadata": {
    "tags": []
   },
   "source": [
    "## Evaluación"
   ]
  },
  {
   "cell_type": "code",
   "execution_count": 20,
   "id": "1e04ad95-6bb9-4949-a86b-27db881d26bf",
   "metadata": {},
   "outputs": [
    {
     "data": {
      "text/html": [
       "<pre style=\"white-space:pre;overflow-x:auto;line-height:normal;font-family:Menlo,'DejaVu Sans Mono',consolas,'Courier New',monospace\"><span style=\"color: #008000; text-decoration-color: #008000\">'tags'</span>\n",
       "</pre>\n"
      ],
      "text/plain": [
       "\u001b[32m'tags'\u001b[0m\n"
      ]
     },
     "metadata": {},
     "output_type": "display_data"
    }
   ],
   "source": [
    "FIELD"
   ]
  },
  {
   "cell_type": "code",
   "execution_count": 21,
   "id": "3d504a7a-a784-40ca-9f27-f640cbfcd45c",
   "metadata": {},
   "outputs": [
    {
     "data": {
      "text/html": [
       "<pre style=\"white-space:pre;overflow-x:auto;line-height:normal;font-family:Menlo,'DejaVu Sans Mono',consolas,'Courier New',monospace\"><span style=\"color: #008000; text-decoration-color: #008000\">'../datasets/movie_tags_embedding_bert.json'</span>\n",
       "</pre>\n"
      ],
      "text/plain": [
       "\u001b[32m'../datasets/movie_tags_embedding_bert.json'\u001b[0m\n"
      ]
     },
     "metadata": {},
     "output_type": "display_data"
    }
   ],
   "source": [
    "EMBEDDING_PATH"
   ]
  },
  {
   "cell_type": "code",
   "execution_count": 22,
   "id": "97c2fe32-8f7b-4e7b-b2f1-93aadb006737",
   "metadata": {},
   "outputs": [
    {
     "data": {
      "application/vnd.jupyter.widget-view+json": {
       "model_id": "76b7db5fec674c1d906ea5ebb7ef072b",
       "version_major": 2,
       "version_minor": 0
      },
      "text/plain": [
       "Building Distances Matrix:   0%|          | 0/18515 [00:00<?, ?it/s]"
      ]
     },
     "metadata": {},
     "output_type": "display_data"
    }
   ],
   "source": [
    "recommender = rc.DistanceMatrixRecommender(\n",
    "    df      = pd.read_json(EMBEDDING_PATH),\n",
    "    column  = f'{FIELD}_embedding', \n",
    "    device  = get_device()\n",
    ")"
   ]
  },
  {
   "cell_type": "code",
   "execution_count": 23,
   "id": "a6612f71-c8f0-44ab-9a96-0b2f18deb16b",
   "metadata": {},
   "outputs": [
    {
     "name": "stdout",
     "output_type": "stream",
     "text": [
      "\n",
      "Recommender: tags\n",
      "Item\n"
     ]
    },
    {
     "data": {
      "text/html": [
       "<div>\n",
       "<style scoped>\n",
       "    .dataframe tbody tr th:only-of-type {\n",
       "        vertical-align: middle;\n",
       "    }\n",
       "\n",
       "    .dataframe tbody tr th {\n",
       "        vertical-align: top;\n",
       "    }\n",
       "\n",
       "    .dataframe thead th {\n",
       "        text-align: right;\n",
       "    }\n",
       "</style>\n",
       "<table border=\"1\" class=\"dataframe\">\n",
       "  <thead>\n",
       "    <tr style=\"text-align: right;\">\n",
       "      <th></th>\n",
       "      <th>id</th>\n",
       "      <th>title</th>\n",
       "    </tr>\n",
       "  </thead>\n",
       "  <tbody>\n",
       "    <tr>\n",
       "      <th>0</th>\n",
       "      <td>1</td>\n",
       "      <td>Toy Story</td>\n",
       "    </tr>\n",
       "  </tbody>\n",
       "</table>\n",
       "</div>"
      ]
     },
     "metadata": {},
     "output_type": "display_data"
    },
    {
     "name": "stdout",
     "output_type": "stream",
     "text": [
      "Recommendations\n"
     ]
    },
    {
     "data": {
      "text/html": [
       "<div>\n",
       "<style scoped>\n",
       "    .dataframe tbody tr th:only-of-type {\n",
       "        vertical-align: middle;\n",
       "    }\n",
       "\n",
       "    .dataframe tbody tr th {\n",
       "        vertical-align: top;\n",
       "    }\n",
       "\n",
       "    .dataframe thead th {\n",
       "        text-align: right;\n",
       "    }\n",
       "</style>\n",
       "<table border=\"1\" class=\"dataframe\">\n",
       "  <thead>\n",
       "    <tr style=\"text-align: right;\">\n",
       "      <th></th>\n",
       "      <th>index</th>\n",
       "      <th>distance</th>\n",
       "      <th>id</th>\n",
       "      <th>title</th>\n",
       "      <th>tags</th>\n",
       "    </tr>\n",
       "  </thead>\n",
       "  <tbody>\n",
       "    <tr>\n",
       "      <th>0</th>\n",
       "      <td>0</td>\n",
       "      <td>0.000000</td>\n",
       "      <td>1</td>\n",
       "      <td>Toy Story</td>\n",
       "      <td>2009 reissue in stereoscopic 3-d 3d 55 movies ...</td>\n",
       "    </tr>\n",
       "    <tr>\n",
       "      <th>1</th>\n",
       "      <td>2</td>\n",
       "      <td>0.134306</td>\n",
       "      <td>3114</td>\n",
       "      <td>Toy Story 2</td>\n",
       "      <td>2009 reissue in stereoscopic 3-d 3d abandonmen...</td>\n",
       "    </tr>\n",
       "    <tr>\n",
       "      <th>2</th>\n",
       "      <td>4</td>\n",
       "      <td>0.166468</td>\n",
       "      <td>4886</td>\n",
       "      <td>Monsters, Inc.</td>\n",
       "      <td>3 andrew stanton animated animation bechdel te...</td>\n",
       "    </tr>\n",
       "    <tr>\n",
       "      <th>3</th>\n",
       "      <td>566</td>\n",
       "      <td>0.166835</td>\n",
       "      <td>6377</td>\n",
       "      <td>Finding Nemo</td>\n",
       "      <td>55 movies every kid should see--entertainment ...</td>\n",
       "    </tr>\n",
       "    <tr>\n",
       "      <th>4</th>\n",
       "      <td>2854</td>\n",
       "      <td>0.172565</td>\n",
       "      <td>596</td>\n",
       "      <td>Pinocchio</td>\n",
       "      <td>(s)vcd 2d animation 55 movies every kid should...</td>\n",
       "    </tr>\n",
       "    <tr>\n",
       "      <th>5</th>\n",
       "      <td>25</td>\n",
       "      <td>0.176772</td>\n",
       "      <td>108932</td>\n",
       "      <td>The Lego Movie</td>\n",
       "      <td>55 movies every kid should see--entertainment ...</td>\n",
       "    </tr>\n",
       "    <tr>\n",
       "      <th>6</th>\n",
       "      <td>16</td>\n",
       "      <td>0.187256</td>\n",
       "      <td>60069</td>\n",
       "      <td>WALL·E</td>\n",
       "      <td>55 movies every kid should see--entertainment ...</td>\n",
       "    </tr>\n",
       "    <tr>\n",
       "      <th>7</th>\n",
       "      <td>2516</td>\n",
       "      <td>0.187810</td>\n",
       "      <td>364</td>\n",
       "      <td>Lion King, The</td>\n",
       "      <td>2d animation 55 movies every kid should see--e...</td>\n",
       "    </tr>\n",
       "    <tr>\n",
       "      <th>8</th>\n",
       "      <td>2037</td>\n",
       "      <td>0.195428</td>\n",
       "      <td>72226</td>\n",
       "      <td>Fantastic Mr. Fox</td>\n",
       "      <td>55 movies every kid should see--entertainment ...</td>\n",
       "    </tr>\n",
       "    <tr>\n",
       "      <th>9</th>\n",
       "      <td>1368</td>\n",
       "      <td>0.203766</td>\n",
       "      <td>2987</td>\n",
       "      <td>Who Framed Roger Rabbit?</td>\n",
       "      <td>*reps* 2d animation 55 movies every kid should...</td>\n",
       "    </tr>\n",
       "    <tr>\n",
       "      <th>10</th>\n",
       "      <td>163</td>\n",
       "      <td>0.215183</td>\n",
       "      <td>480</td>\n",
       "      <td>Jurassic Park</td>\n",
       "      <td>55 movies every kid should see--entertainment ...</td>\n",
       "    </tr>\n",
       "    <tr>\n",
       "      <th>11</th>\n",
       "      <td>2496</td>\n",
       "      <td>0.217152</td>\n",
       "      <td>76093</td>\n",
       "      <td>How to Train Your Dragon</td>\n",
       "      <td>3d 55 movies every kid should see--entertainme...</td>\n",
       "    </tr>\n",
       "    <tr>\n",
       "      <th>12</th>\n",
       "      <td>1411</td>\n",
       "      <td>0.221264</td>\n",
       "      <td>3396</td>\n",
       "      <td>Muppet Movie, The</td>\n",
       "      <td>55 movies every kid should see--entertainment ...</td>\n",
       "    </tr>\n",
       "    <tr>\n",
       "      <th>13</th>\n",
       "      <td>17</td>\n",
       "      <td>0.232344</td>\n",
       "      <td>68954</td>\n",
       "      <td>Up</td>\n",
       "      <td>3d animation adult problems adventure age diff...</td>\n",
       "    </tr>\n",
       "    <tr>\n",
       "      <th>14</th>\n",
       "      <td>61</td>\n",
       "      <td>0.237261</td>\n",
       "      <td>1097</td>\n",
       "      <td>E.T. the Extra-Terrestrial</td>\n",
       "      <td>100 greatest movies 55 movies every kid should...</td>\n",
       "    </tr>\n",
       "    <tr>\n",
       "      <th>15</th>\n",
       "      <td>19</td>\n",
       "      <td>0.245184</td>\n",
       "      <td>78499</td>\n",
       "      <td>Toy Story 3</td>\n",
       "      <td>action adventure alive toys animation animação...</td>\n",
       "    </tr>\n",
       "    <tr>\n",
       "      <th>16</th>\n",
       "      <td>3605</td>\n",
       "      <td>0.245707</td>\n",
       "      <td>2398</td>\n",
       "      <td>Miracle on 34th Street</td>\n",
       "      <td>55 movies every kid should see--entertainment ...</td>\n",
       "    </tr>\n",
       "    <tr>\n",
       "      <th>17</th>\n",
       "      <td>675</td>\n",
       "      <td>0.250003</td>\n",
       "      <td>1721</td>\n",
       "      <td>Titanic</td>\n",
       "      <td>3d 55 movies every kid should see--entertainme...</td>\n",
       "    </tr>\n",
       "    <tr>\n",
       "      <th>18</th>\n",
       "      <td>3</td>\n",
       "      <td>0.252349</td>\n",
       "      <td>4306</td>\n",
       "      <td>Shrek</td>\n",
       "      <td>3 adventure almost favorite andrew adamson ani...</td>\n",
       "    </tr>\n",
       "    <tr>\n",
       "      <th>19</th>\n",
       "      <td>693</td>\n",
       "      <td>0.253652</td>\n",
       "      <td>2291</td>\n",
       "      <td>Edward Scissorhands</td>\n",
       "      <td>55 movies every kid should see--entertainment ...</td>\n",
       "    </tr>\n",
       "    <tr>\n",
       "      <th>20</th>\n",
       "      <td>1071</td>\n",
       "      <td>0.258186</td>\n",
       "      <td>586</td>\n",
       "      <td>Home Alone</td>\n",
       "      <td>55 movies every kid should see--entertainment ...</td>\n",
       "    </tr>\n",
       "    <tr>\n",
       "      <th>21</th>\n",
       "      <td>2860</td>\n",
       "      <td>0.258279</td>\n",
       "      <td>2081</td>\n",
       "      <td>Little Mermaid, The</td>\n",
       "      <td>2d animation 55 movies every kid should see--e...</td>\n",
       "    </tr>\n",
       "    <tr>\n",
       "      <th>22</th>\n",
       "      <td>3680</td>\n",
       "      <td>0.264105</td>\n",
       "      <td>34072</td>\n",
       "      <td>March of the Penguins</td>\n",
       "      <td>55 movies every kid should see--entertainment ...</td>\n",
       "    </tr>\n",
       "    <tr>\n",
       "      <th>23</th>\n",
       "      <td>1910</td>\n",
       "      <td>0.266468</td>\n",
       "      <td>52287</td>\n",
       "      <td>Meet the Robinsons</td>\n",
       "      <td>3d adam west adoption alternate universe angel...</td>\n",
       "    </tr>\n",
       "    <tr>\n",
       "      <th>24</th>\n",
       "      <td>242</td>\n",
       "      <td>0.267489</td>\n",
       "      <td>6539</td>\n",
       "      <td>Pirates of the Caribbean: The Curse of the Bla...</td>\n",
       "      <td>2 55 movies every kid should see--entertainmen...</td>\n",
       "    </tr>\n",
       "    <tr>\n",
       "      <th>25</th>\n",
       "      <td>20</td>\n",
       "      <td>0.273402</td>\n",
       "      <td>81564</td>\n",
       "      <td>Megamind</td>\n",
       "      <td>11/10 3d animated animation anti hero anti-her...</td>\n",
       "    </tr>\n",
       "    <tr>\n",
       "      <th>26</th>\n",
       "      <td>2955</td>\n",
       "      <td>0.273625</td>\n",
       "      <td>79091</td>\n",
       "      <td>Despicable Me</td>\n",
       "      <td>3d adoption adoptive father animation annemari...</td>\n",
       "    </tr>\n",
       "    <tr>\n",
       "      <th>27</th>\n",
       "      <td>185</td>\n",
       "      <td>0.276400</td>\n",
       "      <td>1270</td>\n",
       "      <td>Back to the Future</td>\n",
       "      <td>1950's 1950s 1955 1980's 1980s 1985 55 movies ...</td>\n",
       "    </tr>\n",
       "    <tr>\n",
       "      <th>28</th>\n",
       "      <td>1128</td>\n",
       "      <td>0.278614</td>\n",
       "      <td>1282</td>\n",
       "      <td>Fantasia</td>\n",
       "      <td>100 greatest movies 2d animation 70mm afi #58 ...</td>\n",
       "    </tr>\n",
       "    <tr>\n",
       "      <th>29</th>\n",
       "      <td>7</td>\n",
       "      <td>0.280642</td>\n",
       "      <td>5218</td>\n",
       "      <td>Ice Age</td>\n",
       "      <td>a very good moive animals animated animation a...</td>\n",
       "    </tr>\n",
       "    <tr>\n",
       "      <th>30</th>\n",
       "      <td>340</td>\n",
       "      <td>0.282081</td>\n",
       "      <td>89745</td>\n",
       "      <td>Avengers, The</td>\n",
       "      <td>55 movies every kid should see--entertainment ...</td>\n",
       "    </tr>\n",
       "    <tr>\n",
       "      <th>31</th>\n",
       "      <td>5</td>\n",
       "      <td>0.284933</td>\n",
       "      <td>4896</td>\n",
       "      <td>Harry Potter and the Sorcerer's Stone</td>\n",
       "      <td>55 movies every kid should see--entertainment ...</td>\n",
       "    </tr>\n",
       "    <tr>\n",
       "      <th>32</th>\n",
       "      <td>2344</td>\n",
       "      <td>0.287375</td>\n",
       "      <td>136016</td>\n",
       "      <td>The Good Dinosaur</td>\n",
       "      <td>adventure alternate history animation bd-video...</td>\n",
       "    </tr>\n",
       "    <tr>\n",
       "      <th>33</th>\n",
       "      <td>117</td>\n",
       "      <td>0.291132</td>\n",
       "      <td>6936</td>\n",
       "      <td>Elf</td>\n",
       "      <td>55 movies every kid should see--entertainment ...</td>\n",
       "    </tr>\n",
       "    <tr>\n",
       "      <th>34</th>\n",
       "      <td>2859</td>\n",
       "      <td>0.294393</td>\n",
       "      <td>2080</td>\n",
       "      <td>Lady and the Tramp</td>\n",
       "      <td>(s)vcd 2d animation 50s animals animated class...</td>\n",
       "    </tr>\n",
       "    <tr>\n",
       "      <th>35</th>\n",
       "      <td>2878</td>\n",
       "      <td>0.295494</td>\n",
       "      <td>34</td>\n",
       "      <td>Babe</td>\n",
       "      <td>55 movies every kid should see--entertainment ...</td>\n",
       "    </tr>\n",
       "    <tr>\n",
       "      <th>36</th>\n",
       "      <td>2019</td>\n",
       "      <td>0.301111</td>\n",
       "      <td>69644</td>\n",
       "      <td>Ice Age: Dawn of the Dinosaurs</td>\n",
       "      <td>2d characters 3d animation bill hader birth br...</td>\n",
       "    </tr>\n",
       "    <tr>\n",
       "      <th>37</th>\n",
       "      <td>2343</td>\n",
       "      <td>0.302331</td>\n",
       "      <td>135887</td>\n",
       "      <td>Minions</td>\n",
       "      <td>2015 3d adventure aftercreditsstinger animated...</td>\n",
       "    </tr>\n",
       "    <tr>\n",
       "      <th>38</th>\n",
       "      <td>2958</td>\n",
       "      <td>0.302762</td>\n",
       "      <td>103335</td>\n",
       "      <td>Despicable Me 2</td>\n",
       "      <td>2014 animation anti-hero bakery bd-video benja...</td>\n",
       "    </tr>\n",
       "    <tr>\n",
       "      <th>39</th>\n",
       "      <td>6</td>\n",
       "      <td>0.306874</td>\n",
       "      <td>4993</td>\n",
       "      <td>Lord of the Rings: The Fellowship of the Ring,...</td>\n",
       "      <td>1.5 55 movies every kid should see--entertainm...</td>\n",
       "    </tr>\n",
       "    <tr>\n",
       "      <th>40</th>\n",
       "      <td>4274</td>\n",
       "      <td>0.308476</td>\n",
       "      <td>40339</td>\n",
       "      <td>Chicken Little</td>\n",
       "      <td>3d acorn alien alien invasion aliens animal an...</td>\n",
       "    </tr>\n",
       "    <tr>\n",
       "      <th>41</th>\n",
       "      <td>1928</td>\n",
       "      <td>0.308594</td>\n",
       "      <td>53996</td>\n",
       "      <td>Transformers</td>\n",
       "      <td>27-12-2007 80s nostalgia action adapted from:c...</td>\n",
       "    </tr>\n",
       "    <tr>\n",
       "      <th>42</th>\n",
       "      <td>2718</td>\n",
       "      <td>0.311310</td>\n",
       "      <td>26662</td>\n",
       "      <td>Kiki's Delivery Service</td>\n",
       "      <td>13-year-old adventure airplane airships animat...</td>\n",
       "    </tr>\n",
       "    <tr>\n",
       "      <th>43</th>\n",
       "      <td>66</td>\n",
       "      <td>0.311383</td>\n",
       "      <td>1278</td>\n",
       "      <td>Young Frankenstein</td>\n",
       "      <td>55 movies every kid should see--entertainment ...</td>\n",
       "    </tr>\n",
       "    <tr>\n",
       "      <th>44</th>\n",
       "      <td>74</td>\n",
       "      <td>0.313129</td>\n",
       "      <td>1947</td>\n",
       "      <td>West Side Story</td>\n",
       "      <td>55 movies every kid should see--entertainment ...</td>\n",
       "    </tr>\n",
       "    <tr>\n",
       "      <th>45</th>\n",
       "      <td>10</td>\n",
       "      <td>0.314640</td>\n",
       "      <td>8360</td>\n",
       "      <td>Shrek 2</td>\n",
       "      <td>(s)vcd 2020-2 relook 4 andrew adamson animatio...</td>\n",
       "    </tr>\n",
       "    <tr>\n",
       "      <th>46</th>\n",
       "      <td>2772</td>\n",
       "      <td>0.314831</td>\n",
       "      <td>81847</td>\n",
       "      <td>Tangled</td>\n",
       "      <td>3d adapted from:book alan menken animal sideki...</td>\n",
       "    </tr>\n",
       "    <tr>\n",
       "      <th>47</th>\n",
       "      <td>200</td>\n",
       "      <td>0.320211</td>\n",
       "      <td>2011</td>\n",
       "      <td>Back to the Future Part II</td>\n",
       "      <td>1950s 1955 1980s 1985 2010s 2015 7.1-filmaffin...</td>\n",
       "    </tr>\n",
       "    <tr>\n",
       "      <th>48</th>\n",
       "      <td>2733</td>\n",
       "      <td>0.327110</td>\n",
       "      <td>45517</td>\n",
       "      <td>Cars</td>\n",
       "      <td>actually funny aftercreditsstinger animation a...</td>\n",
       "    </tr>\n",
       "    <tr>\n",
       "      <th>49</th>\n",
       "      <td>2655</td>\n",
       "      <td>0.327550</td>\n",
       "      <td>1029</td>\n",
       "      <td>Dumbo</td>\n",
       "      <td>affection animals animated animated classic an...</td>\n",
       "    </tr>\n",
       "  </tbody>\n",
       "</table>\n",
       "</div>"
      ]
     },
     "metadata": {},
     "output_type": "display_data"
    }
   ],
   "source": [
    "result = recommender.recommend(item_index=0, k=50)\n",
    "result.show()"
   ]
  },
  {
   "cell_type": "code",
   "execution_count": null,
   "id": "dc58bee8-7a9b-4adf-8ef3-5f5c33f05f24",
   "metadata": {},
   "outputs": [],
   "source": []
  }
 ],
 "metadata": {
  "kernelspec": {
   "display_name": "Python 3 (ipykernel)",
   "language": "python",
   "name": "python3"
  },
  "language_info": {
   "codemirror_mode": {
    "name": "ipython",
    "version": 3
   },
   "file_extension": ".py",
   "mimetype": "text/x-python",
   "name": "python",
   "nbconvert_exporter": "python",
   "pygments_lexer": "ipython3",
   "version": "3.10.4"
  },
  "widgets": {
   "application/vnd.jupyter.widget-state+json": {
    "state": {
     "02384d7cf20d446e8f1c313d80f93620": {
      "model_module": "@jupyter-widgets/controls",
      "model_module_version": "1.5.0",
      "model_name": "FloatProgressModel",
      "state": {
       "bar_style": "success",
       "layout": "IPY_MODEL_5bd49943091545de99a2147e03ae2164",
       "max": 18515,
       "style": "IPY_MODEL_8394f20d64af4e3dadf7a72e17795a45",
       "value": 18515
      }
     },
     "18f69e99507f4d80a273590c637074a3": {
      "model_module": "@jupyter-widgets/controls",
      "model_module_version": "1.5.0",
      "model_name": "HBoxModel",
      "state": {
       "children": [
        "IPY_MODEL_970e5064f43c48248b8a0fd50e7659ef",
        "IPY_MODEL_e46599bfb0e042ea9beac78a17bd2639",
        "IPY_MODEL_bbf335c7629e41c690d9875261130626"
       ],
       "layout": "IPY_MODEL_f97f9674be2440f2853e8d69694bc8b6"
      }
     },
     "27d762a2e47946268f50d07daa4e31fa": {
      "model_module": "@jupyter-widgets/base",
      "model_module_version": "1.2.0",
      "model_name": "LayoutModel",
      "state": {}
     },
     "30ed7fc77965403096cdb53eb7147f3b": {
      "model_module": "@jupyter-widgets/base",
      "model_module_version": "1.2.0",
      "model_name": "LayoutModel",
      "state": {}
     },
     "397b6a33fd0e47a3ad609789985087cc": {
      "model_module": "@jupyter-widgets/controls",
      "model_module_version": "1.5.0",
      "model_name": "HTMLModel",
      "state": {
       "layout": "IPY_MODEL_9d43a4a7af884bb78f1a7de42f9ef2e0",
       "style": "IPY_MODEL_d6f5e2923305457cbb78e4d7f5340a4c",
       "value": "Building Distances Matrix: 100%"
      }
     },
     "5bd49943091545de99a2147e03ae2164": {
      "model_module": "@jupyter-widgets/base",
      "model_module_version": "1.2.0",
      "model_name": "LayoutModel",
      "state": {}
     },
     "5d3877439ee24ca58a7ecbd1a4afdbc9": {
      "model_module": "@jupyter-widgets/controls",
      "model_module_version": "1.5.0",
      "model_name": "HTMLModel",
      "state": {
       "layout": "IPY_MODEL_9eb4f50eac9c48b39915dd332d8807ba",
       "style": "IPY_MODEL_d253d9ccf91f4fada7aa83868bef35e0",
       "value": " 18515/18515 [00:26&lt;00:00, 692.54it/s]"
      }
     },
     "62d4a4a766a240bf9ababe1ed9c43c13": {
      "model_module": "@jupyter-widgets/base",
      "model_module_version": "1.2.0",
      "model_name": "LayoutModel",
      "state": {}
     },
     "76b7db5fec674c1d906ea5ebb7ef072b": {
      "model_module": "@jupyter-widgets/controls",
      "model_module_version": "1.5.0",
      "model_name": "HBoxModel",
      "state": {
       "children": [
        "IPY_MODEL_397b6a33fd0e47a3ad609789985087cc",
        "IPY_MODEL_02384d7cf20d446e8f1c313d80f93620",
        "IPY_MODEL_5d3877439ee24ca58a7ecbd1a4afdbc9"
       ],
       "layout": "IPY_MODEL_30ed7fc77965403096cdb53eb7147f3b"
      }
     },
     "8394f20d64af4e3dadf7a72e17795a45": {
      "model_module": "@jupyter-widgets/controls",
      "model_module_version": "1.5.0",
      "model_name": "ProgressStyleModel",
      "state": {
       "description_width": ""
      }
     },
     "90093a82e59045609b90365ceb08502b": {
      "model_module": "@jupyter-widgets/controls",
      "model_module_version": "1.5.0",
      "model_name": "DescriptionStyleModel",
      "state": {
       "description_width": ""
      }
     },
     "965b74f7fa4a43b8a99d39c1f6afe54e": {
      "model_module": "@jupyter-widgets/controls",
      "model_module_version": "1.5.0",
      "model_name": "DescriptionStyleModel",
      "state": {
       "description_width": ""
      }
     },
     "970e5064f43c48248b8a0fd50e7659ef": {
      "model_module": "@jupyter-widgets/controls",
      "model_module_version": "1.5.0",
      "model_name": "HTMLModel",
      "state": {
       "layout": "IPY_MODEL_27d762a2e47946268f50d07daa4e31fa",
       "style": "IPY_MODEL_965b74f7fa4a43b8a99d39c1f6afe54e",
       "value": "Batches: 100%"
      }
     },
     "9d43a4a7af884bb78f1a7de42f9ef2e0": {
      "model_module": "@jupyter-widgets/base",
      "model_module_version": "1.2.0",
      "model_name": "LayoutModel",
      "state": {}
     },
     "9eb4f50eac9c48b39915dd332d8807ba": {
      "model_module": "@jupyter-widgets/base",
      "model_module_version": "1.2.0",
      "model_name": "LayoutModel",
      "state": {}
     },
     "9efd50a3e40a43f987eaa085ecabff81": {
      "model_module": "@jupyter-widgets/base",
      "model_module_version": "1.2.0",
      "model_name": "LayoutModel",
      "state": {}
     },
     "bbf335c7629e41c690d9875261130626": {
      "model_module": "@jupyter-widgets/controls",
      "model_module_version": "1.5.0",
      "model_name": "HTMLModel",
      "state": {
       "layout": "IPY_MODEL_62d4a4a766a240bf9ababe1ed9c43c13",
       "style": "IPY_MODEL_90093a82e59045609b90365ceb08502b",
       "value": " 579/579 [00:13&lt;00:00, 138.28it/s]"
      }
     },
     "d253d9ccf91f4fada7aa83868bef35e0": {
      "model_module": "@jupyter-widgets/controls",
      "model_module_version": "1.5.0",
      "model_name": "DescriptionStyleModel",
      "state": {
       "description_width": ""
      }
     },
     "d6f5e2923305457cbb78e4d7f5340a4c": {
      "model_module": "@jupyter-widgets/controls",
      "model_module_version": "1.5.0",
      "model_name": "DescriptionStyleModel",
      "state": {
       "description_width": ""
      }
     },
     "e141412a0f8c486791e2e176a197afb3": {
      "model_module": "@jupyter-widgets/controls",
      "model_module_version": "1.5.0",
      "model_name": "ProgressStyleModel",
      "state": {
       "description_width": ""
      }
     },
     "e46599bfb0e042ea9beac78a17bd2639": {
      "model_module": "@jupyter-widgets/controls",
      "model_module_version": "1.5.0",
      "model_name": "FloatProgressModel",
      "state": {
       "bar_style": "success",
       "layout": "IPY_MODEL_9efd50a3e40a43f987eaa085ecabff81",
       "max": 579,
       "style": "IPY_MODEL_e141412a0f8c486791e2e176a197afb3",
       "value": 579
      }
     },
     "f97f9674be2440f2853e8d69694bc8b6": {
      "model_module": "@jupyter-widgets/base",
      "model_module_version": "1.2.0",
      "model_name": "LayoutModel",
      "state": {}
     }
    },
    "version_major": 2,
    "version_minor": 0
   }
  }
 },
 "nbformat": 4,
 "nbformat_minor": 5
}
