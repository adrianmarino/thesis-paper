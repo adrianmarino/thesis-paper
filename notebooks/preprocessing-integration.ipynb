{
 "cells": [
  {
   "cell_type": "code",
   "execution_count": 3,
   "id": "ac8cd4ad-1634-4880-8dc3-ea2b6e0f3225",
   "metadata": {},
   "outputs": [
    {
     "name": "stdout",
     "output_type": "stream",
     "text": [
      "The autoreload extension is already loaded. To reload it, use:\n",
      "  %reload_ext autoreload\n"
     ]
    }
   ],
   "source": [
    "%load_ext autoreload\n",
    "%autoreload 2"
   ]
  },
  {
   "cell_type": "code",
   "execution_count": 4,
   "id": "f98e7bf4-f41a-43f6-b7b7-a991d00f82de",
   "metadata": {},
   "outputs": [],
   "source": [
    "import sys\n",
    "sys.path.append('../src')\n",
    "\n",
    "from database.mongo import Mongo\n",
    "from pytorch_common.util import LoggerBuilder"
   ]
  },
  {
   "cell_type": "code",
   "execution_count": 5,
   "id": "e60a3838-9787-411d-b9f1-8a942321cbb1",
   "metadata": {},
   "outputs": [
    {
     "data": {
      "text/html": [
       "<pre style=\"white-space:pre;overflow-x:auto;line-height:normal;font-family:Menlo,'DejaVu Sans Mono',consolas,'Courier New',monospace\"><span style=\"font-weight: bold\">&lt;</span><span style=\"color: #ff00ff; text-decoration-color: #ff00ff; font-weight: bold\">RootLogger</span><span style=\"color: #000000; text-decoration-color: #000000\"> root </span><span style=\"color: #000000; text-decoration-color: #000000; font-weight: bold\">(</span><span style=\"color: #000000; text-decoration-color: #000000\">INFO</span><span style=\"color: #000000; text-decoration-color: #000000; font-weight: bold\">)</span><span style=\"font-weight: bold\">&gt;</span>\n",
       "</pre>\n"
      ],
      "text/plain": [
       "\u001b[1m<\u001b[0m\u001b[1;95mRootLogger\u001b[0m\u001b[39m root \u001b[0m\u001b[1;39m(\u001b[0m\u001b[39mINFO\u001b[0m\u001b[1;39m)\u001b[0m\u001b[1m>\u001b[0m\n"
      ]
     },
     "metadata": {},
     "output_type": "display_data"
    }
   ],
   "source": [
    "LoggerBuilder().on_console().build()"
   ]
  },
  {
   "cell_type": "markdown",
   "id": "e83eec29-6968-40ce-9298-c68c873f8142",
   "metadata": {},
   "source": [
    "1. Import data to **movies** mongodb database:"
   ]
  },
  {
   "cell_type": "code",
   "execution_count": 6,
   "id": "24a63539-92bb-483f-b8ad-0461e1f9d32e",
   "metadata": {},
   "outputs": [],
   "source": [
    "DATASETS_PATH   = '../datasets'\n",
    "MOVIE_LENS_PATH = f'{DATASETS_PATH}/ml-25m'\n",
    "TMDB_PATH       = f'{DATASETS_PATH}/tmdb'"
   ]
  },
  {
   "cell_type": "code",
   "execution_count": 9,
   "id": "2be7c711-09b2-4d2f-a632-3aeffc5fbbb8",
   "metadata": {},
   "outputs": [],
   "source": [
    "MOVIE_LENS_FILES = [ f'{MOVIE_LENS_PATH}/{f}' for f in [ \n",
    "    'ratings.csv',\n",
    "    'movies.csv',\n",
    "    'links.csv',\n",
    "    'tags.csv'\n",
    "]]\n",
    "TMDB_FILES = [ f'{TMDB_PATH}/movies_metadata.csv']"
   ]
  },
  {
   "cell_type": "code",
   "execution_count": null,
   "id": "9b0f8794-d2a2-4b71-bb70-d138f54f849d",
   "metadata": {},
   "outputs": [],
   "source": [
    "Mongo.import_csv(database = 'movies', TMDB_FILES)"
   ]
  },
  {
   "cell_type": "code",
   "execution_count": 15,
   "id": "be14dfe7-52b4-4e69-bfc9-0469f0f1df7e",
   "metadata": {},
   "outputs": [
    {
     "name": "stderr",
     "output_type": "stream",
     "text": [
      "2022-04-15 13:41:08,469 - ERROR - b'2022-04-15T13:41:07.070-0300\\tconnected to: mongodb://localhost/\\n2022-04-15T13:41:08.466-0300\\t45466 document(s) imported successfully. 0 document(s) failed to import.\\n'\n"
     ]
    }
   ],
   "source": [
    "Mongo.import_csv(database = 'movies', file_paths = TMDB_FILES)"
   ]
  },
  {
   "cell_type": "markdown",
   "id": "3ce2b499-cf36-41a5-9cd5-eb21a5d500a3",
   "metadata": {},
   "source": [
    "2. Transform imdb id to number:"
   ]
  },
  {
   "cell_type": "code",
   "execution_count": null,
   "id": "af627063-fcad-4644-8811-b1014a79db26",
   "metadata": {},
   "outputs": [],
   "source": [
    "db.getCollection('movies_metadata').aggregate([\n",
    "    {\n",
    "        $match: { \n",
    "            $and: [\n",
    "                { imdb_id: { $ne: \"\" } },\n",
    "                { imdb_id: { $ne: 0 } }\n",
    "            ]\n",
    "        }\n",
    "    },\n",
    "    {\n",
    "        $addFields: {\n",
    "            imdb_id: {$toLong: [ { $arrayElemAt: [ { $split: [\"$imdb_id\", \"tt\"]}, 1 ] }] }\n",
    "        }\n",
    "    },\n",
    "    { $out: \"movies_metadata_v2\" }\n",
    "]);"
   ]
  },
  {
   "cell_type": "markdown",
   "id": "d3aea264-dbbb-4a45-8f2b-dcbb55a7ded6",
   "metadata": {},
   "source": [
    "3.  Add indexes to both links and movies_metadata_v2 collections:"
   ]
  },
  {
   "cell_type": "code",
   "execution_count": null,
   "id": "ceb6c687-546a-4f7c-a149-b41fb8fe939a",
   "metadata": {},
   "outputs": [],
   "source": [
    "db.getCollection('links').createIndex(\n",
    "    { 'movieId': 1 }, \n",
    "    { unique: true, name: 'movieId_unique_index' }\n",
    ")\n",
    "\n",
    "db.getCollection('movies_metadata_v2').createIndex(\n",
    "    { 'imdb_id': 1 }, \n",
    "    { unique: false, name: 'imdb_id_multiple_index' }\n",
    ")"
   ]
  },
  {
   "cell_type": "markdown",
   "id": "e47e53d7-a692-4e71-941f-ae370f549091",
   "metadata": {},
   "source": [
    "4. Add imdb features to movies collection:"
   ]
  },
  {
   "cell_type": "code",
   "execution_count": null,
   "id": "93e5cca1-676c-4747-8ef3-e01ddec96d88",
   "metadata": {},
   "outputs": [],
   "source": [
    "db.getCollection('movies').aggregate([\n",
    "    {\n",
    "        $lookup:\n",
    "          {\n",
    "            from: \"links\",\n",
    "            foreignField: \"movieId\",\n",
    "            localField: \"movieId\", \n",
    "            as: \"links\"\n",
    "          }\n",
    "     },\n",
    "     { $match: { links: { $exists: true, $not: {$size: 0} } } },\n",
    "     { \n",
    "        $project: { \n",
    "            id: \"$movieId\",\n",
    "            tmdb_id: { \"$arrayElemAt\": [\"$links.tmdbId\", 0] },\n",
    "            imdb_id: { \"$arrayElemAt\": [\"$links.imdbId\", 0] },\n",
    "            title: { $arrayElemAt: [ {$split:[\"$title\",\"(\"]} ,  0 ] },\n",
    "            release_year: { $arrayElemAt: [ {$split:[\"$title\",\"(\"]} ,  1 ] },\n",
    "            genres: { $split: [ \"$genres\", \"|\" ] }\n",
    "        } \n",
    "    }, \n",
    "    {\n",
    "        $lookup:\n",
    "          {\n",
    "            from: \"movies_metadata_v2\",\n",
    "            foreignField: \"imdb_id\",\n",
    "            localField: \"imdb_id\", \n",
    "            as: \"movies_metadata\"\n",
    "          }\n",
    "     },\n",
    "     { $match: {  movies_metadata: { $exists: true, $not: {$size: 0} } } },\n",
    "     { \n",
    "        $project: { \n",
    "            id: 1,\n",
    "            tmdb_id: 1,\n",
    "            imdb_id: 1,\n",
    "            title: 1,\n",
    "            genres: 1,\n",
    "            for_adults: { \"$arrayElemAt\": [\"$movies_metadata.adult\", 0] },\n",
    "            budget: { \"$arrayElemAt\": [\"$movies_metadata.budget\", 0] },\n",
    "            original_language: { \"$arrayElemAt\": [\"$movies_metadata.original_language\", 0] },\n",
    "            overview: { \"$arrayElemAt\": [\"$movies_metadata.overview\", 0] },\n",
    "            poster: { \"$arrayElemAt\": [\"$movies_metadata.poster_path\", 0] },\n",
    "            release: { \"$arrayElemAt\": [\"$movies_metadata.release_date\", 0] },\n",
    "            popularity: { \"$arrayElemAt\": [\"$movies_metadata.popularity\", 0] },\n",
    "            vote_mean: { \"$arrayElemAt\": [\"$movies_metadata.vote_average\", 0] },\n",
    "            vote_count: { \"$arrayElemAt\": [\"$movies_metadata.vote_count\", 0] }\n",
    "        }\n",
    "    },\n",
    "    { $out: \"movies_v2\" }\n",
    "]);"
   ]
  },
  {
   "cell_type": "markdown",
   "id": "93d992ac-6abb-440f-9e23-b3d7c0f6567e",
   "metadata": {},
   "source": [
    "5. Group tags per used, movie pair:"
   ]
  },
  {
   "cell_type": "code",
   "execution_count": null,
   "id": "897f5a31-ec3e-4965-b2c3-05d6280101b1",
   "metadata": {},
   "outputs": [],
   "source": [
    "db.getCollection('tags').aggregate(\n",
    "    [\n",
    "        { \n",
    "            $group: {\n",
    "                _id: {\n",
    "                    user_id: \"$userId\",\n",
    "                    movie_id: \"$movieId\"\n",
    "                },\n",
    "                tags: { $push: { $toLower: \"$tag\" } }\n",
    "            }\n",
    "        },\n",
    "        {\n",
    "          $project: {\n",
    "            _id: 0,\n",
    "            user_id: \"$_id.user_id\",\n",
    "            movie_id: \"$_id.movie_id\",\n",
    "            user_movie_id: { $concat: [ { $toString: \"$_id.user_id\" } , \"_\", { $toString:\"$_id.movie_id\"} ] },\n",
    "            tags: 1\n",
    "          }  \n",
    "        },\n",
    "        { $out: \"tags_v2\" }\n",
    "    ]\n",
    ");"
   ]
  },
  {
   "cell_type": "markdown",
   "id": "0ba04258-0320-406b-8799-54c50d5eb664",
   "metadata": {},
   "source": [
    "6. Create used_movie_id into new tags_v2 collection:"
   ]
  },
  {
   "cell_type": "code",
   "execution_count": null,
   "id": "9733db1c-ce4a-4e91-b55e-1b4e9b43ced8",
   "metadata": {},
   "outputs": [],
   "source": [
    "db.getCollection('tags_v2').createIndex(\n",
    "    { 'user_movie_id': 1 }, \n",
    "    { unique: true, name: 'id_unique_index' }\n",
    ")"
   ]
  },
  {
   "cell_type": "markdown",
   "id": "f947b031-dd28-4dc8-b1c5-da85cbcb71de",
   "metadata": {},
   "source": [
    "7. Add used_movie_id fields into new ratings_v2 collection and also create a unique index:"
   ]
  },
  {
   "cell_type": "code",
   "execution_count": null,
   "id": "d3e73812-976b-4409-8cf1-a2ab784f6518",
   "metadata": {},
   "outputs": [],
   "source": [
    "db.getCollection('ratings').aggregate([\n",
    "        {\n",
    "          $project: {\n",
    "            user_id: \"$userId\",\n",
    "            movie_id: \"$movieId\",\n",
    "            user_movie_id: { $concat: [ { $toString: \"$userId\" } , \"_\", { $toString:\"$movieId\"} ] },\n",
    "            rating: 1,\n",
    "            timestamp: 1\n",
    "          }  \n",
    "        },\n",
    "        { $out: \"ratings_v2\" }\n",
    "    ]\n",
    ");"
   ]
  },
  {
   "cell_type": "code",
   "execution_count": null,
   "id": "5ff2dfd8-f48e-45f9-9bea-f59fc0d4a07a",
   "metadata": {},
   "outputs": [],
   "source": [
    "db.getCollection('ratings_v2').createIndex(\n",
    "    { 'user_movie_id': 1 }, \n",
    "    { unique: true, name: 'id_unique_index' }\n",
    ")"
   ]
  },
  {
   "cell_type": "markdown",
   "id": "e090b841-df31-4acb-a476-863a0c3fbe37",
   "metadata": {},
   "source": [
    "8. Join ratting_v2 and tags_v2 collections by user_movie_id into a new ratings_tags_v1 collection:"
   ]
  },
  {
   "cell_type": "code",
   "execution_count": null,
   "id": "d516ddd8-d43e-4ed0-a7fe-41f7514e6d66",
   "metadata": {},
   "outputs": [],
   "source": [
    "db.getCollection('ratings_v2').aggregate([\n",
    "    {\n",
    "        $lookup:\n",
    "          {\n",
    "            from: \"tags_v2\",\n",
    "            foreignField: \"user_movie_id\",\n",
    "            localField: \"user_movie_id\", \n",
    "            as: \"tags_v2\"\n",
    "          }\n",
    "     },\n",
    "     { $match: { tags_v2: { $exists: true, $not: {$size: 0} } } },\n",
    "     { \n",
    "        $project: { \n",
    "            user_id: 1,\n",
    "            movie_id: 1,\n",
    "            rating: 1,\n",
    "            timestamp: 1,\n",
    "            tags: \"$tags_v2.tags\"\n",
    "        }\n",
    "    },\n",
    "    {\n",
    "        $addFields: {  \n",
    "            _id: { $concat: [ { $toString: \"$user_id\" } , \"_\", { $toString:\"$movie_id\"} ] },            \n",
    "            tags: {\n",
    "                \"$reduce\": {\n",
    "                    \"input\": \"$tags\",\n",
    "                    \"initialValue\": [],\n",
    "                    \"in\": { \"$setUnion\": [ \"$$value\", \"$$this\" ] }\n",
    "                }\n",
    "            }\n",
    "        }\n",
    "    },\n",
    "    { $out: \"ratings_tags_v1\" }\n",
    "]);"
   ]
  },
  {
   "cell_type": "markdown",
   "id": "122e4cee-7115-4858-923c-45c0e0a40704",
   "metadata": {},
   "source": [
    "9. Add tags field into movie_v2 collections:"
   ]
  },
  {
   "cell_type": "code",
   "execution_count": null,
   "id": "771a743d-d0c5-447b-91a1-1883ee1e129e",
   "metadata": {},
   "outputs": [],
   "source": [
    "db.getCollection('movies_v2').createIndex(\n",
    "    { 'id': 1 }, \n",
    "    { unique: true, name: 'id_unique_index' }\n",
    ")\n",
    "db.getCollection('tags_v2').createIndex(\n",
    "    { 'movie_id': 1 }, \n",
    "    { unique: true, name: 'id_unique_index' }\n",
    ")"
   ]
  },
  {
   "cell_type": "code",
   "execution_count": null,
   "id": "70a246ca-b4d5-4442-ae5c-40183214a655",
   "metadata": {},
   "outputs": [],
   "source": [
    "db.getCollection('movies_v2').aggregate([\n",
    "    {\n",
    "        $lookup:\n",
    "          {\n",
    "            from: \"tags_v2\",\n",
    "            foreignField: \"movie_id\",\n",
    "            localField: \"id\",\n",
    "            as: \"tags_v2\"\n",
    "          }\n",
    "    },\n",
    "    { $match: { tags_v2: { $exists: true, $not: {$size: 0} } } },\n",
    "    { \n",
    "        $addFields: { \n",
    "            tags: {\n",
    "                \"$reduce\": {\n",
    "                    \"input\": \"$tags_v2.tags\",\n",
    "                    \"initialValue\": [],\n",
    "                    \"in\": { \"$setUnion\": [ \"$$value\", \"$$this\" ] }\n",
    "                }\n",
    "            }\n",
    "        }\n",
    "    },\n",
    "    { $unset: [\"tags_v2\"] },\n",
    "    { $addFields: {  _id: \"$id\" } },\n",
    "    { $unset: [\"id\"] },\n",
    "    { $out: \"movies_v3\" }\n",
    "]);"
   ]
  },
  {
   "cell_type": "markdown",
   "id": "c37343ba-a719-4992-b145-febda7616dd4",
   "metadata": {},
   "source": [
    "10. Export datasets"
   ]
  },
  {
   "cell_type": "code",
   "execution_count": null,
   "id": "d56c0ce2-3ed4-4e63-9019-76f2ed54bca9",
   "metadata": {},
   "outputs": [],
   "source": [
    "Mongo.export_to_json(database='movies', path=DATASETS_PATH, collections=['movies_v3'])"
   ]
  },
  {
   "cell_type": "code",
   "execution_count": 10,
   "id": "9ee87762-4b54-455a-a3cb-f6d689107593",
   "metadata": {},
   "outputs": [
    {
     "name": "stderr",
     "output_type": "stream",
     "text": [
      "2022-04-16 11:21:33,739 - ERROR - b'2022-04-16T11:21:31.332-0300\\tconnected to: mongodb://localhost/\\n2022-04-16T11:21:32.333-0300\\t[##########..............]  movies.ratings_tags_v1  88000/210725  (41.8%)\\n2022-04-16T11:21:33.333-0300\\t[####################....]  movies.ratings_tags_v1  176000/210725  (83.5%)\\n2022-04-16T11:21:33.737-0300\\t[########################]  movies.ratings_tags_v1  210725/210725  (100.0%)\\n2022-04-16T11:21:33.737-0300\\texported 210725 records\\n'\n"
     ]
    }
   ],
   "source": [
    "Mongo.export_to_json(database='movies', path=DATASETS_PATH, collections=['ratings_tags_v1'])"
   ]
  },
  {
   "cell_type": "code",
   "execution_count": null,
   "id": "d8cf6c7f-1b1a-4e2d-83ad-74bc0190dcae",
   "metadata": {},
   "outputs": [],
   "source": []
  }
 ],
 "metadata": {
  "kernelspec": {
   "display_name": "Python 3 (ipykernel)",
   "language": "python",
   "name": "python3"
  },
  "language_info": {
   "codemirror_mode": {
    "name": "ipython",
    "version": 3
   },
   "file_extension": ".py",
   "mimetype": "text/x-python",
   "name": "python",
   "nbconvert_exporter": "python",
   "pygments_lexer": "ipython3",
   "version": "3.8.13"
  },
  "widgets": {
   "application/vnd.jupyter.widget-state+json": {
    "state": {},
    "version_major": 2,
    "version_minor": 0
   }
  }
 },
 "nbformat": 4,
 "nbformat_minor": 5
}
