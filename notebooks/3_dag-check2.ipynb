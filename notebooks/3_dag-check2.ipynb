{
 "cells": [
  {
   "cell_type": "markdown",
   "id": "0417277b-47df-4113-a7b3-8f960db06f1d",
   "metadata": {
    "tags": []
   },
   "source": [
    "# DAG: Thesis-Recommenders-Upgrade\n",
    "\n",
    "Analisis de resultados de cada tarea que constrituye el dag _Thesis-Recommenders-Upgrade_."
   ]
  },
  {
   "cell_type": "code",
   "execution_count": 1,
   "id": "ea1cf0bb-c3dc-4e84-b81f-91804a3bf354",
   "metadata": {},
   "outputs": [],
   "source": [
    "%load_ext autoreload\n",
    "%autoreload 2"
   ]
  },
  {
   "cell_type": "code",
   "execution_count": 2,
   "id": "f95e704b-f560-4573-a28c-b7e4cf244f99",
   "metadata": {},
   "outputs": [],
   "source": [
    "BASE_PATH = '../'\n",
    "LIB_PATH  = f'{BASE_PATH}/rec-sys-client-lib/src'\n",
    "DATA_PATH ='/var/tmp/rec-sys-client'"
   ]
  },
  {
   "cell_type": "code",
   "execution_count": 3,
   "id": "f98e7bf4-f41a-43f6-b7b7-a991d00f82de",
   "metadata": {},
   "outputs": [],
   "source": [
    "import sys\n",
    "sys.path.append(LIB_PATH)\n",
    "\n",
    "from pytorch_common.util import LoggerBuilder\n",
    "\n",
    "import numpy as np\n",
    "import pandas as pd\n",
    "\n",
    "import seaborn as sns\n",
    "import matplotlib.pyplot as plt\n",
    "\n",
    "from bunch import Bunch\n",
    "\n",
    "from recsys import DomainContext"
   ]
  },
  {
   "cell_type": "code",
   "execution_count": 4,
   "id": "e60a3838-9787-411d-b9f1-8a942321cbb1",
   "metadata": {},
   "outputs": [
    {
     "data": {
      "text/plain": [
       "<RootLogger root (INFO)>"
      ]
     },
     "execution_count": 4,
     "metadata": {},
     "output_type": "execute_result"
    }
   ],
   "source": [
    "LoggerBuilder().on_console().build()"
   ]
  },
  {
   "cell_type": "code",
   "execution_count": 5,
   "id": "669512fb-8f1d-40f7-8f05-209487030d62",
   "metadata": {},
   "outputs": [
    {
     "name": "stderr",
     "output_type": "stream",
     "text": [
      "2023-08-15 19:52:09,325 - INFO - Load pretrained SentenceTransformer: all-MiniLM-L6-v2\n"
     ]
    },
    {
     "name": "stdout",
     "output_type": "stream",
     "text": [
      "{'temp_path': '/var/tmp/rec-sys-client', 'weights_path': '/home/adrian/development/personal/maestria/thesis-paper/rec-sys-client-lib/weights', 'api': {'host': 'http://recsys.ddns.net:8000', 'token': 'e3ff025094fe0ee474501bbeda0a2a44e80230c1'}}\n"
     ]
    },
    {
     "name": "stderr",
     "output_type": "stream",
     "text": [
      "2023-08-15 19:52:09,512 - INFO - Use pytorch device: cuda\n",
      "2023-08-15 19:52:09,512 - INFO - Load pretrained SentenceTransformer: all-MiniLM-L12-v2\n",
      "2023-08-15 19:52:09,712 - INFO - Use pytorch device: cuda\n",
      "2023-08-15 19:52:09,712 - INFO - Load pretrained SentenceTransformer: multi-qa-mpnet-base-dot-v1\n",
      "2023-08-15 19:52:10,295 - INFO - Use pytorch device: cuda\n",
      "2023-08-15 19:52:10,296 - INFO - Load pretrained SentenceTransformer: all-mpnet-base-v2\n",
      "2023-08-15 19:52:10,863 - INFO - Use pytorch device: cuda\n"
     ]
    }
   ],
   "source": [
    "ctx = DomainContext(cfg_path = f'{BASE_PATH}/rec-sys-client-lib/config.yml')"
   ]
  },
  {
   "cell_type": "code",
   "execution_count": 8,
   "id": "b1aea7de-6e6a-4ac8-a6b1-a26d7708c8fb",
   "metadata": {
    "tags": []
   },
   "outputs": [
    {
     "name": "stderr",
     "output_type": "stream",
     "text": [
      "2023-08-15 19:52:31,646 - INFO - HTTP Request: GET http://recsys.ddns.net:8000/api/similarity-matrix/?offset=0&limit=100000&name=&type=&description=&version= \"HTTP/1.1 200 OK\"\n",
      "2023-08-15 19:52:31,650 - INFO - Page 2/1 - Similarity_matrix 12/12\n",
      "2023-08-15 19:52:31,650 - INFO - 12 Total Similarity_matrix \n"
     ]
    },
    {
     "data": {
      "text/plain": [
       "[{\n",
       "     \"id\": 51,\n",
       "     \"name\": \"NMF-user-to-user\",\n",
       "     \"type\": \"SimilarityMatrixType.USER_TO_USER\",\n",
       "     \"description\": \"NMF-user-to-user\",\n",
       "     \"version\": 69\n",
       " },\n",
       " {\n",
       "     \"id\": 52,\n",
       "     \"name\": \"SVD-user-to-user\",\n",
       "     \"type\": \"SimilarityMatrixType.USER_TO_USER\",\n",
       "     \"description\": \"SVD-user-to-user\",\n",
       "     \"version\": 56\n",
       " },\n",
       " {\n",
       "     \"id\": 53,\n",
       "     \"name\": \"NMF-item-to-item\",\n",
       "     \"type\": \"SimilarityMatrixType.ITEM_TO_ITEM\",\n",
       "     \"description\": \"NMF-item-to-item\",\n",
       "     \"version\": 68\n",
       " },\n",
       " {\n",
       "     \"id\": 54,\n",
       "     \"name\": \"SVD-item-to-item\",\n",
       "     \"type\": \"SimilarityMatrixType.ITEM_TO_ITEM\",\n",
       "     \"description\": \"SVD-item-to-item\",\n",
       "     \"version\": 56\n",
       " },\n",
       " {\n",
       "     \"id\": 55,\n",
       "     \"name\": \"all-MiniLM-L6-v2-item-to-item\",\n",
       "     \"type\": \"SimilarityMatrixType.ITEM_TO_ITEM\",\n",
       "     \"description\": \"all-MiniLM-L6-v2-item-to-item\",\n",
       "     \"version\": 0\n",
       " },\n",
       " {\n",
       "     \"id\": 56,\n",
       "     \"name\": \"all-MiniLM-L12-v2-item-to-item\",\n",
       "     \"type\": \"SimilarityMatrixType.ITEM_TO_ITEM\",\n",
       "     \"description\": \"all-MiniLM-L12-v2-item-to-item\",\n",
       "     \"version\": 1\n",
       " },\n",
       " {\n",
       "     \"id\": 57,\n",
       "     \"name\": \"multi-qa-mpnet-base-dot-v1-item-to-item\",\n",
       "     \"type\": \"SimilarityMatrixType.ITEM_TO_ITEM\",\n",
       "     \"description\": \"multi-qa-mpnet-base-dot-v1-item-to-item\",\n",
       "     \"version\": 1\n",
       " },\n",
       " {\n",
       "     \"id\": 58,\n",
       "     \"name\": \"all-mpnet-base-v2-item-to-item\",\n",
       "     \"type\": \"SimilarityMatrixType.ITEM_TO_ITEM\",\n",
       "     \"description\": \"all-mpnet-base-v2-item-to-item\",\n",
       "     \"version\": 1\n",
       " },\n",
       " {\n",
       "     \"id\": 59,\n",
       "     \"name\": \"knn_item_based-user-to-user\",\n",
       "     \"type\": \"SimilarityMatrixType.USER_TO_USER\",\n",
       "     \"description\": \"knn_item_based-user-to-user\",\n",
       "     \"version\": 2\n",
       " },\n",
       " {\n",
       "     \"id\": 60,\n",
       "     \"name\": \"knn_item_based-item-to-item\",\n",
       "     \"type\": \"SimilarityMatrixType.ITEM_TO_ITEM\",\n",
       "     \"description\": \"knn_item_based-item-to-item\",\n",
       "     \"version\": 2\n",
       " },\n",
       " {\n",
       "     \"id\": 61,\n",
       "     \"name\": \"knn_user_based-user-to-user\",\n",
       "     \"type\": \"SimilarityMatrixType.USER_TO_USER\",\n",
       "     \"description\": \"knn_user_based-user-to-user\",\n",
       "     \"version\": 2\n",
       " },\n",
       " {\n",
       "     \"id\": 62,\n",
       "     \"name\": \"knn_user_based-item-to-item\",\n",
       "     \"type\": \"SimilarityMatrixType.ITEM_TO_ITEM\",\n",
       "     \"description\": \"knn_user_based-item-to-item\",\n",
       "     \"version\": 2\n",
       " }]"
      ]
     },
     "execution_count": 8,
     "metadata": {},
     "output_type": "execute_result"
    }
   ],
   "source": [
    "ctx.similarity_matrix_repository.find()"
   ]
  },
  {
   "cell_type": "code",
   "execution_count": 6,
   "id": "a4a02080-1fe4-4b38-a9c6-2f4aba25147b",
   "metadata": {
    "tags": []
   },
   "outputs": [
    {
     "data": {
      "text/plain": [
       "['add_many', 'find', 'remove']"
      ]
     },
     "execution_count": 6,
     "metadata": {},
     "output_type": "execute_result"
    }
   ],
   "source": [
    "ctx.similarity_cell_repository.describe"
   ]
  },
  {
   "cell_type": "code",
   "execution_count": 7,
   "id": "6e9bf93c-f92a-410b-9a2e-60edbef75ae7",
   "metadata": {
    "tags": []
   },
   "outputs": [
    {
     "name": "stdout",
     "output_type": "stream",
     "text": [
      "Help on method find in module recsys.repository.entity_repository:\n",
      "\n",
      "find(query={}, page_size=100000) method of recsys.repository.similarity_cell_repository.SimilarityCellRepository instance\n",
      "    Allows to query entities by ani entity field.\n",
      "    \n",
      "    Args:\n",
      "        query (dict, optional): A dict of field_name: value pairs. Defaults to {}.\n",
      "        page_size (int, optional): Page size. Defaults to 100000.\n",
      "    \n",
      "    Returns:\n",
      "        a dict list: A lost of dict. Each dist represent an entity or model like an interaction, a similar matrix, etc...\n",
      "\n"
     ]
    }
   ],
   "source": [
    "help(ctx.similarity_cell_repository.find)"
   ]
  },
  {
   "cell_type": "code",
   "execution_count": 37,
   "id": "85fc3949-86cb-4315-9674-6362737eeb91",
   "metadata": {
    "tags": []
   },
   "outputs": [
    {
     "name": "stderr",
     "output_type": "stream",
     "text": [
      "2023-08-15 20:03:16,339 - INFO - HTTP Request: GET http://recsys.ddns.net:8000/api/similarity-matrix-cells/?offset=0&limit=100000&row=&column=&matrix=61 \"HTTP/1.1 200 OK\"\n",
      "2023-08-15 20:03:17,478 - INFO - Page 1/2 - Similarity_cells 100000/107415\n",
      "2023-08-15 20:03:18,051 - INFO - HTTP Request: GET http://recsys.ddns.net:8000/api/similarity-matrix-cells/?offset=100000&limit=100000&row=&column=&matrix=61 \"HTTP/1.1 200 OK\"\n",
      "2023-08-15 20:03:18,144 - INFO - Page 2/2 - Similarity_cells 107415/107415\n",
      "2023-08-15 20:03:18,145 - INFO - 107415 Total Similarity_cells \n"
     ]
    }
   ],
   "source": [
    "rows = ctx.similarity_cell_repository.find(query={'matrix':'61'})"
   ]
  },
  {
   "cell_type": "code",
   "execution_count": 46,
   "id": "fe1a47b6-5617-448b-bc7b-08e8abab2762",
   "metadata": {
    "tags": []
   },
   "outputs": [
    {
     "name": "stderr",
     "output_type": "stream",
     "text": [
      "2023-08-15 20:05:51,021 - INFO - HTTP Request: GET http://recsys.ddns.net:8000/api/users/?offset=0&limit=100000&username=&email= \"HTTP/1.1 200 OK\"\n",
      "2023-08-15 20:05:51,022 - INFO - Page 2/1 - Users 4/4\n",
      "2023-08-15 20:05:51,022 - INFO - 4 Total Users \n"
     ]
    },
    {
     "data": {
      "text/plain": [
       "[{\n",
       "     \"id\": 1,\n",
       "     \"username\": \"adrian\",\n",
       "     \"email\": \"adrianmarino1@gmail.com\"\n",
       " },\n",
       " {\n",
       "     \"id\": 5000,\n",
       "     \"username\": \"adrian.marino\",\n",
       "     \"email\": \"adrian.marino@pedidosya.com\"\n",
       " },\n",
       " {\n",
       "     \"id\": 5001,\n",
       "     \"username\": \"Lionel5000\",\n",
       "     \"email\": \"leonardogrosso@gmail.com\"\n",
       " },\n",
       " {\n",
       "     \"id\": 5002,\n",
       "     \"username\": \"adrianmarino\",\n",
       "     \"email\": \"adrianmarino@gmail.com\"\n",
       " }]"
      ]
     },
     "execution_count": 46,
     "metadata": {},
     "output_type": "execute_result"
    }
   ],
   "source": [
    "ctx.user_repository.find()"
   ]
  },
  {
   "cell_type": "code",
   "execution_count": 61,
   "id": "61941fb9-21ee-42a2-9b8b-e8fa38b6b000",
   "metadata": {
    "tags": []
   },
   "outputs": [
    {
     "data": {
      "text/html": [
       "<div>\n",
       "<style scoped>\n",
       "    .dataframe tbody tr th:only-of-type {\n",
       "        vertical-align: middle;\n",
       "    }\n",
       "\n",
       "    .dataframe tbody tr th {\n",
       "        vertical-align: top;\n",
       "    }\n",
       "\n",
       "    .dataframe thead th {\n",
       "        text-align: right;\n",
       "    }\n",
       "</style>\n",
       "<table border=\"1\" class=\"dataframe\">\n",
       "  <thead>\n",
       "    <tr style=\"text-align: right;\">\n",
       "      <th></th>\n",
       "      <th>user_a</th>\n",
       "      <th>user_b</th>\n",
       "      <th>distance</th>\n",
       "    </tr>\n",
       "  </thead>\n",
       "  <tbody>\n",
       "    <tr>\n",
       "      <th>0</th>\n",
       "      <td>4</td>\n",
       "      <td>290</td>\n",
       "      <td>0.959354</td>\n",
       "    </tr>\n",
       "    <tr>\n",
       "      <th>1</th>\n",
       "      <td>4</td>\n",
       "      <td>156</td>\n",
       "      <td>0.955594</td>\n",
       "    </tr>\n",
       "    <tr>\n",
       "      <th>2</th>\n",
       "      <td>4</td>\n",
       "      <td>202</td>\n",
       "      <td>0.954636</td>\n",
       "    </tr>\n",
       "    <tr>\n",
       "      <th>3</th>\n",
       "      <td>4</td>\n",
       "      <td>57</td>\n",
       "      <td>0.954088</td>\n",
       "    </tr>\n",
       "    <tr>\n",
       "      <th>4</th>\n",
       "      <td>4</td>\n",
       "      <td>221</td>\n",
       "      <td>0.954016</td>\n",
       "    </tr>\n",
       "    <tr>\n",
       "      <th>...</th>\n",
       "      <td>...</td>\n",
       "      <td>...</td>\n",
       "      <td>...</td>\n",
       "    </tr>\n",
       "    <tr>\n",
       "      <th>107410</th>\n",
       "      <td>584</td>\n",
       "      <td>1</td>\n",
       "      <td>0.431800</td>\n",
       "    </tr>\n",
       "    <tr>\n",
       "      <th>107411</th>\n",
       "      <td>14</td>\n",
       "      <td>1</td>\n",
       "      <td>0.431654</td>\n",
       "    </tr>\n",
       "    <tr>\n",
       "      <th>107412</th>\n",
       "      <td>94</td>\n",
       "      <td>1</td>\n",
       "      <td>0.430807</td>\n",
       "    </tr>\n",
       "    <tr>\n",
       "      <th>107413</th>\n",
       "      <td>353</td>\n",
       "      <td>1</td>\n",
       "      <td>0.427067</td>\n",
       "    </tr>\n",
       "    <tr>\n",
       "      <th>107414</th>\n",
       "      <td>136</td>\n",
       "      <td>1</td>\n",
       "      <td>0.419144</td>\n",
       "    </tr>\n",
       "  </tbody>\n",
       "</table>\n",
       "<p>107415 rows × 3 columns</p>\n",
       "</div>"
      ],
      "text/plain": [
       "        user_a  user_b  distance\n",
       "0            4     290  0.959354\n",
       "1            4     156  0.955594\n",
       "2            4     202  0.954636\n",
       "3            4      57  0.954088\n",
       "4            4     221  0.954016\n",
       "...        ...     ...       ...\n",
       "107410     584       1  0.431800\n",
       "107411      14       1  0.431654\n",
       "107412      94       1  0.430807\n",
       "107413     353       1  0.427067\n",
       "107414     136       1  0.419144\n",
       "\n",
       "[107415 rows x 3 columns]"
      ]
     },
     "execution_count": 61,
     "metadata": {},
     "output_type": "execute_result"
    }
   ],
   "source": [
    "df = pd.DataFrame(rows)\n",
    "distances = df[['row', 'column', 'value']].rename(columns={'row': 'user_a', 'column': 'user_b', 'value':'distance'})\n",
    "distances"
   ]
  },
  {
   "cell_type": "code",
   "execution_count": 62,
   "id": "f0574807-2eb3-458b-b2c7-f317bdb462fe",
   "metadata": {
    "tags": []
   },
   "outputs": [
    {
     "data": {
      "text/html": [
       "<div>\n",
       "<style scoped>\n",
       "    .dataframe tbody tr th:only-of-type {\n",
       "        vertical-align: middle;\n",
       "    }\n",
       "\n",
       "    .dataframe tbody tr th {\n",
       "        vertical-align: top;\n",
       "    }\n",
       "\n",
       "    .dataframe thead th {\n",
       "        text-align: right;\n",
       "    }\n",
       "</style>\n",
       "<table border=\"1\" class=\"dataframe\">\n",
       "  <thead>\n",
       "    <tr style=\"text-align: right;\">\n",
       "      <th></th>\n",
       "      <th>user_a</th>\n",
       "      <th>user_b</th>\n",
       "      <th>distance</th>\n",
       "    </tr>\n",
       "  </thead>\n",
       "  <tbody>\n",
       "    <tr>\n",
       "      <th>106952</th>\n",
       "      <td>5000</td>\n",
       "      <td>1</td>\n",
       "      <td>0.956274</td>\n",
       "    </tr>\n",
       "    <tr>\n",
       "      <th>107029</th>\n",
       "      <td>5000</td>\n",
       "      <td>1</td>\n",
       "      <td>0.956274</td>\n",
       "    </tr>\n",
       "  </tbody>\n",
       "</table>\n",
       "</div>"
      ],
      "text/plain": [
       "        user_a  user_b  distance\n",
       "106952    5000       1  0.956274\n",
       "107029    5000       1  0.956274"
      ]
     },
     "execution_count": 62,
     "metadata": {},
     "output_type": "execute_result"
    }
   ],
   "source": [
    "distances[distances.user_a == 5000]"
   ]
  },
  {
   "cell_type": "code",
   "execution_count": 79,
   "id": "0220e25f-2a9c-4cd7-8885-d21919e9694b",
   "metadata": {
    "tags": []
   },
   "outputs": [
    {
     "data": {
      "text/plain": [
       "array([136,  94, 353,  14, 121, 102, 584, 126, 142, 485, 604, 379, 321,\n",
       "       498, 134, 447, 468, 130,  99, 242, 536,  46, 181, 107, 588,   8,\n",
       "       386,  43,   6, 512, 411, 530,  56, 609, 109, 458, 174, 179, 374,\n",
       "        58, 373, 446, 436, 602, 395, 541, 444, 470, 170, 347])"
      ]
     },
     "execution_count": 79,
     "metadata": {},
     "output_type": "execute_result"
    }
   ],
   "source": [
    "top_50_most_similar_user_ids = distances[(distances.user_b == 5000) & (distances.distance > 0)] \\\n",
    "    .sort_values(by=['distance']) \\\n",
    "    .head(50)['user_a'] \\\n",
    "    .values\n",
    "\n",
    "top_50_most_similar_user_ids"
   ]
  },
  {
   "cell_type": "code",
   "execution_count": null,
   "id": "5542a915-0dce-424e-9161-26fed2c8a1d7",
   "metadata": {},
   "outputs": [],
   "source": []
  }
 ],
 "metadata": {
  "kernelspec": {
   "display_name": "Python 3 (ipykernel)",
   "language": "python",
   "name": "python3"
  },
  "language_info": {
   "codemirror_mode": {
    "name": "ipython",
    "version": 3
   },
   "file_extension": ".py",
   "mimetype": "text/x-python",
   "name": "python",
   "nbconvert_exporter": "python",
   "pygments_lexer": "ipython3",
   "version": "3.10.11"
  },
  "widgets": {
   "application/vnd.jupyter.widget-state+json": {
    "state": {},
    "version_major": 2,
    "version_minor": 0
   }
  }
 },
 "nbformat": 4,
 "nbformat_minor": 5
}
