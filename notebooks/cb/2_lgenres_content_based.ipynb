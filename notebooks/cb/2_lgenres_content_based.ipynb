{
 "cells": [
  {
   "cell_type": "markdown",
   "id": "0417277b-47df-4113-a7b3-8f960db06f1d",
   "metadata": {
    "tags": []
   },
   "source": [
    "# Model: Genres content based"
   ]
  },
  {
   "cell_type": "code",
   "execution_count": 1,
   "id": "1472139d-d9eb-4fa7-afb2-068a3b576097",
   "metadata": {},
   "outputs": [],
   "source": [
    "%load_ext autoreload\n",
    "%autoreload 2"
   ]
  },
  {
   "cell_type": "code",
   "execution_count": 2,
   "id": "debaaf15-519b-42c8-ba7b-b430074b43ec",
   "metadata": {},
   "outputs": [],
   "source": [
    "BASE_PATH             = '../..'\n",
    "LIB_PATH              = f'{BASE_PATH}/lib'\n",
    "DATASET_PATH          = f'{BASE_PATH}/datasets'"
   ]
  },
  {
   "cell_type": "code",
   "execution_count": 3,
   "id": "f98e7bf4-f41a-43f6-b7b7-a991d00f82de",
   "metadata": {},
   "outputs": [
    {
     "name": "stderr",
     "output_type": "stream",
     "text": [
      "2023-10-21 14:25:22.897153: I tensorflow/core/platform/cpu_feature_guard.cc:182] This TensorFlow binary is optimized to use available CPU instructions in performance-critical operations.\n",
      "To enable the following instructions: AVX2 FMA, in other operations, rebuild TensorFlow with the appropriate compiler flags.\n",
      "2023-10-21 14:25:23.311305: W tensorflow/compiler/tf2tensorrt/utils/py_utils.cc:38] TF-TRT Warning: Could not find TensorRT\n",
      "2023-10-21 14:25:23.737425: I tensorflow/compiler/xla/stream_executor/cuda/cuda_gpu_executor.cc:996] successful NUMA node read from SysFS had negative value (-1), but there must be at least one NUMA node, so returning NUMA node zero. See more at https://github.com/torvalds/linux/blob/v6.0/Documentation/ABI/testing/sysfs-bus-pci#L344-L355\n",
      "2023-10-21 14:25:23.750805: W tensorflow/core/common_runtime/gpu/gpu_device.cc:1956] Cannot dlopen some GPU libraries. Please make sure the missing libraries mentioned above are installed properly if you would like to use GPU. Follow the guide at https://www.tensorflow.org/install/gpu for how to download and setup the required libraries for your platform.\n",
      "Skipping registering GPU devices...\n"
     ]
    },
    {
     "data": {
      "text/plain": [
       "<Figure size 640x480 with 0 Axes>"
      ]
     },
     "metadata": {},
     "output_type": "display_data"
    }
   ],
   "source": [
    "import sys\n",
    "sys.path.append(LIB_PATH)\n",
    "\n",
    "import numpy as np\n",
    "import pandas as pd\n",
    "\n",
    "import data.dataset as ds\n",
    "\n",
    "import util as ut\n",
    "\n",
    "import recommender as rc\n",
    "\n",
    "from database.chromadb import RepositoryFactory\n",
    "\n",
    "import pytorch_common.util as pu"
   ]
  },
  {
   "cell_type": "markdown",
   "id": "40c1da33-a8da-47c9-b174-0b0885b05b50",
   "metadata": {},
   "source": [
    "## Setup"
   ]
  },
  {
   "cell_type": "code",
   "execution_count": 4,
   "id": "f279af58-f4c5-4ea9-bbb2-d72e59ebdca8",
   "metadata": {
    "tags": []
   },
   "outputs": [],
   "source": [
    "pd.set_option('max_colwidth', 400)"
   ]
  },
  {
   "cell_type": "code",
   "execution_count": 5,
   "id": "e60a3838-9787-411d-b9f1-8a942321cbb1",
   "metadata": {},
   "outputs": [
    {
     "data": {
      "text/plain": [
       "<RootLogger root (INFO)>"
      ]
     },
     "execution_count": 5,
     "metadata": {},
     "output_type": "execute_result"
    }
   ],
   "source": [
    "pu.LoggerBuilder().on_console().build()"
   ]
  },
  {
   "cell_type": "markdown",
   "id": "b8334d07-f306-42b4-8ea1-cc27b82eb343",
   "metadata": {},
   "source": [
    "## Carga de dataset"
   ]
  },
  {
   "cell_type": "code",
   "execution_count": 6,
   "id": "c34c660c-4802-498a-81b7-07bed14de07f",
   "metadata": {},
   "outputs": [],
   "source": [
    "dataset = ds.MovieLensTMDBDatasetFactory.from_path(\n",
    "    DATASET_PATH,\n",
    "    filter_fn = lambda df: df.query('user_movie_rating_year >= 2004')\n",
    ")"
   ]
  },
  {
   "cell_type": "code",
   "execution_count": 7,
   "id": "6da99acb-184d-4589-b4bd-59def68ed830",
   "metadata": {
    "tags": []
   },
   "outputs": [],
   "source": [
    "import logging\n",
    "\n",
    "class ListTypeColumnContenBasedRecommender:\n",
    "    def __init__(\n",
    "        self,\n",
    "        user_id_col  = 'user_id',\n",
    "        item_id_col  = 'movie_id',\n",
    "        emb_col      = 'movie_genres',\n",
    "        exclude      = ['(no genres listed)']\n",
    "    ):\n",
    "        self.__user_id_col      = user_id_col\n",
    "        self.__item_id_col      = item_id_col\n",
    "        self.__exclude          = exclude\n",
    "        self.__source_emb_col   = emb_col\n",
    "        self.__item_features_df = None\n",
    "\n",
    "\n",
    "    def fit(self, df):\n",
    "        self.__user_features_df = ut.embedding_from_list_col(df,   self.__user_id_col, self.__source_emb_col, self.__exclude, as_list=False)\n",
    "        logging.info(f'User profiles fitted...{self.__user_features_df.shape}')\n",
    "        \n",
    "        if self.__item_features_df is None:\n",
    "            self.__item_features_df = ut.get_one_hot_from_list_col(df, self.__item_id_col, self.__source_emb_col, self.__exclude, as_list=False)\n",
    "            self.__target_emb_col   = list(set(self.__item_features_df.columns) - set([self.__item_id_col]))\n",
    "            logging.info(f'Item profiles fitted...{self.__item_features_df.shape}')\n",
    "\n",
    "        return self\n",
    "\n",
    "\n",
    "    def __user_emb(self, user_id):\n",
    "        return self.__user_features_df[self.__user_features_df[self.__user_id_col] == user_id]\n",
    "\n",
    "    \n",
    "    def __score(self, result_df, user_id, sort):\n",
    "        result_df['score'] = result_df[self.__target_emb_col].sum(axis=1)\n",
    "        result_df = result_df[[self.__item_id_col, 'score']]\n",
    "        result_df.insert(0, self.__user_id_col, user_id)\n",
    "        result_df = result_df[result_df['score'] > 0]\n",
    "        return result_df.sort_values(['score'], ascending=False) if sort else result_df\n",
    "\n",
    "\n",
    "    def recommend(self, user_id, k=10):\n",
    "        user_emb = self.__user_emb(user_id)\n",
    "\n",
    "        if user_emb.shape[0] == 0:\n",
    "            logging.warning(f'Not found user profile for {user_id} user id.')\n",
    "            return pd.DataFrame(columns=[self.__user_id_col, self.__item_id_col, 'score'])\n",
    "\n",
    "        result_df = self.__item_features_df.copy()\n",
    "        for c in self.__target_emb_col:\n",
    "            result_df[c] = result_df[c].apply(lambda x: x *user_emb[c].values[0] )\n",
    "\n",
    "        result_df = self.__score(result_df, user_id, k is not None)\n",
    "\n",
    "        return result_df.head(k) if k else result_df"
   ]
  },
  {
   "cell_type": "code",
   "execution_count": 8,
   "id": "b6a6acee-8b90-441b-af3e-ccfe0d2d6461",
   "metadata": {
    "tags": []
   },
   "outputs": [
    {
     "name": "stderr",
     "output_type": "stream",
     "text": [
      "2023-10-21 14:25:51,524 - INFO - User profiles fitted...(13000, 20)\n",
      "2023-10-21 14:25:57,177 - INFO - Item profiles fitted...(18608, 20)\n"
     ]
    },
    {
     "data": {
      "text/plain": [
       "<__main__.ListTypeColumnContenBasedRecommender at 0x7f63a8686ef0>"
      ]
     },
     "execution_count": 8,
     "metadata": {},
     "output_type": "execute_result"
    }
   ],
   "source": [
    "model = ListTypeColumnContenBasedRecommender(\n",
    "    user_id_col  = 'user_id',\n",
    "    item_id_col  = 'movie_id',\n",
    "    emb_col      = 'movie_genres',\n",
    "    exclude      = ['(no genres listed)']\n",
    ")\n",
    "\n",
    "model.fit(dataset.data)"
   ]
  },
  {
   "cell_type": "code",
   "execution_count": 11,
   "id": "f2d08acc-5536-4ace-a3a3-94e071372b5d",
   "metadata": {
    "tags": []
   },
   "outputs": [
    {
     "data": {
      "text/html": [
       "<div>\n",
       "<style scoped>\n",
       "    .dataframe tbody tr th:only-of-type {\n",
       "        vertical-align: middle;\n",
       "    }\n",
       "\n",
       "    .dataframe tbody tr th {\n",
       "        vertical-align: top;\n",
       "    }\n",
       "\n",
       "    .dataframe thead th {\n",
       "        text-align: right;\n",
       "    }\n",
       "</style>\n",
       "<table border=\"1\" class=\"dataframe\">\n",
       "  <thead>\n",
       "    <tr style=\"text-align: right;\">\n",
       "      <th></th>\n",
       "      <th>user_id</th>\n",
       "      <th>movie_id</th>\n",
       "      <th>score</th>\n",
       "    </tr>\n",
       "  </thead>\n",
       "  <tbody>\n",
       "    <tr>\n",
       "      <th>104132</th>\n",
       "      <td>62199</td>\n",
       "      <td>81132</td>\n",
       "      <td>0.761548</td>\n",
       "    </tr>\n",
       "    <tr>\n",
       "      <th>160430</th>\n",
       "      <td>62199</td>\n",
       "      <td>83266</td>\n",
       "      <td>0.704128</td>\n",
       "    </tr>\n",
       "    <tr>\n",
       "      <th>154303</th>\n",
       "      <td>62199</td>\n",
       "      <td>4719</td>\n",
       "      <td>0.700035</td>\n",
       "    </tr>\n",
       "    <tr>\n",
       "      <th>166424</th>\n",
       "      <td>62199</td>\n",
       "      <td>64645</td>\n",
       "      <td>0.680505</td>\n",
       "    </tr>\n",
       "    <tr>\n",
       "      <th>165050</th>\n",
       "      <td>62199</td>\n",
       "      <td>4956</td>\n",
       "      <td>0.675126</td>\n",
       "    </tr>\n",
       "    <tr>\n",
       "      <th>179047</th>\n",
       "      <td>62199</td>\n",
       "      <td>27781</td>\n",
       "      <td>0.665068</td>\n",
       "    </tr>\n",
       "    <tr>\n",
       "      <th>69006</th>\n",
       "      <td>62199</td>\n",
       "      <td>7235</td>\n",
       "      <td>0.661560</td>\n",
       "    </tr>\n",
       "    <tr>\n",
       "      <th>185795</th>\n",
       "      <td>62199</td>\n",
       "      <td>117646</td>\n",
       "      <td>0.649164</td>\n",
       "    </tr>\n",
       "    <tr>\n",
       "      <th>166782</th>\n",
       "      <td>62199</td>\n",
       "      <td>6902</td>\n",
       "      <td>0.629634</td>\n",
       "    </tr>\n",
       "    <tr>\n",
       "      <th>141348</th>\n",
       "      <td>62199</td>\n",
       "      <td>27344</td>\n",
       "      <td>0.629166</td>\n",
       "    </tr>\n",
       "  </tbody>\n",
       "</table>\n",
       "</div>"
      ],
      "text/plain": [
       "        user_id  movie_id     score\n",
       "104132    62199     81132  0.761548\n",
       "160430    62199     83266  0.704128\n",
       "154303    62199      4719  0.700035\n",
       "166424    62199     64645  0.680505\n",
       "165050    62199      4956  0.675126\n",
       "179047    62199     27781  0.665068\n",
       "69006     62199      7235  0.661560\n",
       "185795    62199    117646  0.649164\n",
       "166782    62199      6902  0.629634\n",
       "141348    62199     27344  0.629166"
      ]
     },
     "execution_count": 11,
     "metadata": {},
     "output_type": "execute_result"
    }
   ],
   "source": [
    "model.recommend(user_id=62199)"
   ]
  },
  {
   "cell_type": "code",
   "execution_count": 12,
   "id": "ec4d191b-b34b-4eb5-98ab-9815c58558d8",
   "metadata": {
    "tags": []
   },
   "outputs": [],
   "source": [
    "def concat_user_recs(users_rec):\n",
    "    result = {}\n",
    "    \n",
    "    for user_rec in users_rec:\n",
    "        for key in user_rec.keys():\n",
    "            if key in result:\n",
    "                result[key].extend(user_rec[key])\n",
    "            else:\n",
    "                result[key] = user_rec[key]\n",
    "\n",
    "    return result"
   ]
  },
  {
   "cell_type": "code",
   "execution_count": 13,
   "id": "f6b9a555-851c-4324-8751-e4743bc6993f",
   "metadata": {
    "tags": []
   },
   "outputs": [],
   "source": [
    "def rec_fn(user_id):\n",
    "    return model.recommend(user_id, k=None).to_dict('list')"
   ]
  },
  {
   "cell_type": "code",
   "execution_count": 14,
   "id": "24eb521d-24e9-42cb-8529-e775000dfd5f",
   "metadata": {
    "tags": []
   },
   "outputs": [
    {
     "name": "stderr",
     "output_type": "stream",
     "text": [
      "2023-10-21 14:35:16,192 - WARNING - Not found user profile for 147952 user id.\n",
      "2023-10-21 14:35:16,653 - WARNING - Not found user profile for 125514 user id.\n",
      "2023-10-21 14:35:23,836 - WARNING - Not found user profile for 24853 user id.\n",
      "2023-10-21 14:35:23,839 - WARNING - Not found user profile for 30621 user id.\n",
      "2023-10-21 14:35:26,349 - WARNING - Not found user profile for 25288 user id.\n",
      "2023-10-21 14:35:50,041 - WARNING - Not found user profile for 77724 user id.\n",
      "2023-10-21 14:35:51,871 - WARNING - Not found user profile for 78448 user id.\n",
      "2023-10-21 14:36:00,984 - WARNING - Not found user profile for 60916 user id.\n",
      "2023-10-21 14:36:05,386 - WARNING - Not found user profile for 109610 user id.\n",
      "2023-10-21 14:36:06,222 - WARNING - Not found user profile for 10955 user id.\n",
      "2023-10-21 14:36:06,225 - WARNING - Not found user profile for 99575 user id.\n",
      "2023-10-21 14:36:11,901 - WARNING - Not found user profile for 85941 user id.\n",
      "2023-10-21 14:36:19,731 - WARNING - Not found user profile for 128100 user id.\n",
      "2023-10-21 14:36:20,988 - WARNING - Not found user profile for 65679 user id.\n",
      "2023-10-21 14:36:42,084 - WARNING - Not found user profile for 92420 user id.\n",
      "2023-10-21 14:37:13,050 - WARNING - Not found user profile for 18231 user id.\n",
      "2023-10-21 14:37:37,036 - WARNING - Not found user profile for 68976 user id.\n",
      "2023-10-21 14:37:46,259 - INFO - 0:11:14.71\n"
     ]
    }
   ],
   "source": [
    "parallel = ut.ParallelExecutor()\n",
    "\n",
    "result = parallel(\n",
    "    rec_fn, \n",
    "    params          = [[u] for u in dataset.data.user_id.unique()],\n",
    "    fallback_result = {}\n",
    ")"
   ]
  },
  {
   "cell_type": "code",
   "execution_count": 15,
   "id": "84a20ee8-4d38-4698-a9ee-1f8e626545fd",
   "metadata": {},
   "outputs": [
    {
     "data": {
      "text/html": [
       "<div>\n",
       "<style scoped>\n",
       "    .dataframe tbody tr th:only-of-type {\n",
       "        vertical-align: middle;\n",
       "    }\n",
       "\n",
       "    .dataframe tbody tr th {\n",
       "        vertical-align: top;\n",
       "    }\n",
       "\n",
       "    .dataframe thead th {\n",
       "        text-align: right;\n",
       "    }\n",
       "</style>\n",
       "<table border=\"1\" class=\"dataframe\">\n",
       "  <thead>\n",
       "    <tr style=\"text-align: right;\">\n",
       "      <th></th>\n",
       "      <th>user_id</th>\n",
       "      <th>movie_id</th>\n",
       "      <th>score</th>\n",
       "    </tr>\n",
       "  </thead>\n",
       "  <tbody>\n",
       "    <tr>\n",
       "      <th>0</th>\n",
       "      <td>791</td>\n",
       "      <td>1</td>\n",
       "      <td>0.731343</td>\n",
       "    </tr>\n",
       "    <tr>\n",
       "      <th>1</th>\n",
       "      <td>791</td>\n",
       "      <td>2355</td>\n",
       "      <td>0.604478</td>\n",
       "    </tr>\n",
       "    <tr>\n",
       "      <th>2</th>\n",
       "      <td>791</td>\n",
       "      <td>3114</td>\n",
       "      <td>0.731343</td>\n",
       "    </tr>\n",
       "    <tr>\n",
       "      <th>3</th>\n",
       "      <td>791</td>\n",
       "      <td>4306</td>\n",
       "      <td>0.768657</td>\n",
       "    </tr>\n",
       "    <tr>\n",
       "      <th>4</th>\n",
       "      <td>791</td>\n",
       "      <td>4886</td>\n",
       "      <td>0.731343</td>\n",
       "    </tr>\n",
       "    <tr>\n",
       "      <th>...</th>\n",
       "      <td>...</td>\n",
       "      <td>...</td>\n",
       "      <td>...</td>\n",
       "    </tr>\n",
       "    <tr>\n",
       "      <th>157227159</th>\n",
       "      <td>74712</td>\n",
       "      <td>171917</td>\n",
       "      <td>0.500000</td>\n",
       "    </tr>\n",
       "    <tr>\n",
       "      <th>157227160</th>\n",
       "      <td>74712</td>\n",
       "      <td>167360</td>\n",
       "      <td>0.500000</td>\n",
       "    </tr>\n",
       "    <tr>\n",
       "      <th>157227161</th>\n",
       "      <td>74712</td>\n",
       "      <td>174399</td>\n",
       "      <td>0.500000</td>\n",
       "    </tr>\n",
       "    <tr>\n",
       "      <th>157227162</th>\n",
       "      <td>74712</td>\n",
       "      <td>174505</td>\n",
       "      <td>0.500000</td>\n",
       "    </tr>\n",
       "    <tr>\n",
       "      <th>157227163</th>\n",
       "      <td>74712</td>\n",
       "      <td>174649</td>\n",
       "      <td>1.000000</td>\n",
       "    </tr>\n",
       "  </tbody>\n",
       "</table>\n",
       "<p>157227164 rows × 3 columns</p>\n",
       "</div>"
      ],
      "text/plain": [
       "           user_id  movie_id     score\n",
       "0              791         1  0.731343\n",
       "1              791      2355  0.604478\n",
       "2              791      3114  0.731343\n",
       "3              791      4306  0.768657\n",
       "4              791      4886  0.731343\n",
       "...            ...       ...       ...\n",
       "157227159    74712    171917  0.500000\n",
       "157227160    74712    167360  0.500000\n",
       "157227161    74712    174399  0.500000\n",
       "157227162    74712    174505  0.500000\n",
       "157227163    74712    174649  1.000000\n",
       "\n",
       "[157227164 rows x 3 columns]"
      ]
     },
     "execution_count": 15,
     "metadata": {},
     "output_type": "execute_result"
    }
   ],
   "source": [
    "result_df = pd.DataFrame.from_dict(concat_user_recs(result))\n",
    "result_df"
   ]
  },
  {
   "cell_type": "code",
   "execution_count": 16,
   "id": "666a0831-de19-4c01-809f-4fef26b83f85",
   "metadata": {
    "tags": []
   },
   "outputs": [],
   "source": [
    "ut.save_df(result_df, f'{DATASET_PATH}/cb-genre-result.json')"
   ]
  },
  {
   "cell_type": "code",
   "execution_count": null,
   "id": "0f97ad59-8099-42a0-8acd-7942c06cf0d1",
   "metadata": {},
   "outputs": [],
   "source": []
  }
 ],
 "metadata": {
  "kernelspec": {
   "display_name": "Python 3 (ipykernel)",
   "language": "python",
   "name": "python3"
  },
  "language_info": {
   "codemirror_mode": {
    "name": "ipython",
    "version": 3
   },
   "file_extension": ".py",
   "mimetype": "text/x-python",
   "name": "python",
   "nbconvert_exporter": "python",
   "pygments_lexer": "ipython3",
   "version": "3.10.12"
  },
  "widgets": {
   "application/vnd.jupyter.widget-state+json": {
    "state": {},
    "version_major": 2,
    "version_minor": 0
   }
  }
 },
 "nbformat": 4,
 "nbformat_minor": 5
}
