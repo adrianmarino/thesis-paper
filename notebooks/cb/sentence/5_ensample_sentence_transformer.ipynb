{
 "cells": [
  {
   "cell_type": "markdown",
   "id": "0417277b-47df-4113-a7b3-8f960db06f1d",
   "metadata": {
    "tags": []
   },
   "source": [
    "# Ensemple CB recommender based on Sentence Transformers"
   ]
  },
  {
   "cell_type": "code",
   "execution_count": 1,
   "id": "f6d757cd-805f-4956-a6f7-d098237a10de",
   "metadata": {
    "tags": []
   },
   "outputs": [],
   "source": [
    "%load_ext autoreload\n",
    "%autoreload 2"
   ]
  },
  {
   "cell_type": "code",
   "execution_count": 2,
   "id": "3c05351e-a588-40cc-8279-dde46563994f",
   "metadata": {
    "tags": []
   },
   "outputs": [],
   "source": [
    "BASE_PATH        = '../../..'\n",
    "LIB_PATH         = f'{BASE_PATH}/lib'\n",
    "DATASET_PATH     = f'{BASE_PATH}/datasets'"
   ]
  },
  {
   "cell_type": "code",
   "execution_count": 3,
   "id": "f98e7bf4-f41a-43f6-b7b7-a991d00f82de",
   "metadata": {
    "tags": []
   },
   "outputs": [
    {
     "name": "stderr",
     "output_type": "stream",
     "text": [
      "2023-10-08 12:57:27.813431: I tensorflow/core/platform/cpu_feature_guard.cc:182] This TensorFlow binary is optimized to use available CPU instructions in performance-critical operations.\n",
      "To enable the following instructions: AVX2 FMA, in other operations, rebuild TensorFlow with the appropriate compiler flags.\n",
      "2023-10-08 12:57:28.200939: W tensorflow/compiler/tf2tensorrt/utils/py_utils.cc:38] TF-TRT Warning: Could not find TensorRT\n",
      "2023-10-08 12:57:28.593847: I tensorflow/compiler/xla/stream_executor/cuda/cuda_gpu_executor.cc:996] successful NUMA node read from SysFS had negative value (-1), but there must be at least one NUMA node, so returning NUMA node zero. See more at https://github.com/torvalds/linux/blob/v6.0/Documentation/ABI/testing/sysfs-bus-pci#L344-L355\n",
      "2023-10-08 12:57:28.605040: W tensorflow/core/common_runtime/gpu/gpu_device.cc:1956] Cannot dlopen some GPU libraries. Please make sure the missing libraries mentioned above are installed properly if you would like to use GPU. Follow the guide at https://www.tensorflow.org/install/gpu for how to download and setup the required libraries for your platform.\n",
      "Skipping registering GPU devices...\n"
     ]
    },
    {
     "data": {
      "text/plain": [
       "<Figure size 640x480 with 0 Axes>"
      ]
     },
     "metadata": {},
     "output_type": "display_data"
    }
   ],
   "source": [
    "import sys\n",
    "sys.path.append(LIB_PATH)\n",
    "\n",
    "import torch\n",
    "import pytorch_common.util as pu\n",
    "from pytorch_common.util import set_device_name, \\\n",
    "                                get_device, \\\n",
    "                                LoggerBuilder\n",
    "\n",
    "import data as dt\n",
    "import data.dataset as ds\n",
    "\n",
    "import util as ut\n",
    "\n",
    "from sentence_transformers import SentenceTransformer\n",
    "\n",
    "import recommender as rc"
   ]
  },
  {
   "cell_type": "markdown",
   "id": "40c1da33-a8da-47c9-b174-0b0885b05b50",
   "metadata": {},
   "source": [
    "## Setup"
   ]
  },
  {
   "cell_type": "code",
   "execution_count": 4,
   "id": "e60a3838-9787-411d-b9f1-8a942321cbb1",
   "metadata": {
    "tags": []
   },
   "outputs": [
    {
     "data": {
      "text/plain": [
       "<RootLogger root (INFO)>"
      ]
     },
     "execution_count": 4,
     "metadata": {},
     "output_type": "execute_result"
    }
   ],
   "source": [
    "pu.LoggerBuilder().on_console().build()"
   ]
  },
  {
   "cell_type": "code",
   "execution_count": 5,
   "id": "9fd7574f-043a-4fc3-8ab8-bfd55b6a92d8",
   "metadata": {
    "tags": []
   },
   "outputs": [
    {
     "data": {
      "text/plain": [
       "(device(type='cuda', index=0),\n",
       " True,\n",
       " '2.0.1+cu118',\n",
       " ['sm_37', 'sm_50', 'sm_60', 'sm_70', 'sm_75', 'sm_80', 'sm_86', 'sm_90'])"
      ]
     },
     "execution_count": 5,
     "metadata": {},
     "output_type": "execute_result"
    }
   ],
   "source": [
    "pu.set_device_name('gpu')\n",
    "\n",
    "pu.get_device(), torch.cuda.is_available(), torch.__version__, torch.cuda.get_arch_list()"
   ]
  },
  {
   "cell_type": "code",
   "execution_count": 6,
   "id": "67bdad0a-d4c4-4daf-8612-3a2ff815bcbf",
   "metadata": {
    "tags": []
   },
   "outputs": [
    {
     "name": "stderr",
     "output_type": "stream",
     "text": [
      "2023-10-08 12:57:29,264 - INFO - Cfg:\n",
      "\n",
      "embedding_col: title_embedding\n",
      "file_path: ../../../datasets/title-all-roberta-large-v1.json\n",
      "metadata_cols:\n",
      "- title\n",
      "- release_year\n",
      "- imdb_id\n",
      "- title_tokens\n",
      "name: title-all-roberta-large-v1\n",
      "\n",
      "2023-10-08 12:57:29,264 - INFO - Cfg:\n",
      "\n",
      "embedding_col: tags_embedding\n",
      "file_path: ../../../datasets/tags-all-roberta-large-v1.json\n",
      "metadata_cols:\n",
      "- tags\n",
      "- release_year\n",
      "- imdb_id\n",
      "- tags_tokens\n",
      "- title\n",
      "name: tags-all-roberta-large-v1\n",
      "\n",
      "2023-10-08 12:57:29,265 - INFO - Cfg:\n",
      "\n",
      "embedding_col: genres_embedding\n",
      "file_path: ../../../datasets/genres-all-roberta-large-v1.json\n",
      "metadata_cols:\n",
      "- genres\n",
      "- release_year\n",
      "- imdb_id\n",
      "- genres_tokens\n",
      "- title\n",
      "name: genres-all-roberta-large-v1\n",
      "\n",
      "2023-10-08 12:57:29,266 - INFO - Cfg:\n",
      "\n",
      "embedding_col: overview_embedding\n",
      "file_path: ../../../datasets/overview-all-mpnet-base-v2.json\n",
      "metadata_cols:\n",
      "- overview\n",
      "- release_year\n",
      "- imdb_id\n",
      "- overview_tokens\n",
      "- title\n",
      "name: overview-all-mpnet-base-v2\n",
      "\n"
     ]
    }
   ],
   "source": [
    "TITLE_REC_SYS_CFG    = rc.item_rec_sys_cfg(DATASET_PATH, 'title',    'all-roberta-large-v1')\n",
    "TAGS_REC_SYS_CFG     = rc.item_rec_sys_cfg(DATASET_PATH, 'tags',     'all-roberta-large-v1')\n",
    "GENRES_REC_SYS_CFG   = rc.item_rec_sys_cfg(DATASET_PATH, 'genres',   'all-roberta-large-v1')\n",
    "OVERVIEW_REC_SYS_CFG = rc.item_rec_sys_cfg(DATASET_PATH, 'overview', 'all-mpnet-base-v2')"
   ]
  },
  {
   "cell_type": "markdown",
   "id": "d43c9369-047c-45ea-863c-304319bc63f0",
   "metadata": {},
   "source": [
    "## Evaluación"
   ]
  },
  {
   "cell_type": "code",
   "execution_count": 7,
   "id": "5035ae74-f1fd-4eb2-b989-99b6957de0f4",
   "metadata": {
    "tags": []
   },
   "outputs": [
    {
     "data": {
      "application/vnd.jupyter.widget-view+json": {
       "model_id": "ab0ab2d9b71f4bc5a118f10822e224f4",
       "version_major": 2,
       "version_minor": 0
      },
      "text/plain": [
       "Insert Embeddings:   0%|          | 0/18703 [00:00<?, ?it/s]"
      ]
     },
     "metadata": {},
     "output_type": "display_data"
    },
    {
     "data": {
      "application/vnd.jupyter.widget-view+json": {
       "model_id": "26bb1104a92d4378944132e579c43603",
       "version_major": 2,
       "version_minor": 0
      },
      "text/plain": [
       "Insert Embeddings:   0%|          | 0/18703 [00:00<?, ?it/s]"
      ]
     },
     "metadata": {},
     "output_type": "display_data"
    },
    {
     "data": {
      "application/vnd.jupyter.widget-view+json": {
       "model_id": "27c6ab0e1ffc47b0b5bb5f69e9608fda",
       "version_major": 2,
       "version_minor": 0
      },
      "text/plain": [
       "Insert Embeddings:   0%|          | 0/18703 [00:00<?, ?it/s]"
      ]
     },
     "metadata": {},
     "output_type": "display_data"
    },
    {
     "data": {
      "application/vnd.jupyter.widget-view+json": {
       "model_id": "b000479c9f1842b79623fab5f4307c1c",
       "version_major": 2,
       "version_minor": 0
      },
      "text/plain": [
       "Insert Embeddings:   0%|          | 0/18703 [00:00<?, ?it/s]"
      ]
     },
     "metadata": {},
     "output_type": "display_data"
    }
   ],
   "source": [
    "builder = rc.SimilarItemRecommenderBuilder(\n",
    "    DATASET_PATH, \n",
    "    [\n",
    "        TITLE_REC_SYS_CFG, \n",
    "        TAGS_REC_SYS_CFG,\n",
    "        GENRES_REC_SYS_CFG,\n",
    "        OVERVIEW_REC_SYS_CFG\n",
    "    ]\n",
    ")"
   ]
  },
  {
   "cell_type": "code",
   "execution_count": 8,
   "id": "09a16458-9c13-404d-a0af-36510483fde5",
   "metadata": {
    "tags": []
   },
   "outputs": [
    {
     "data": {
      "text/plain": [
       "{\n",
       "    \"distances\": [\n",
       "        0.0,\n",
       "        0.1203928217291832,\n",
       "        0.15256161987781525\n",
       "    ],\n",
       "    \"documents\": [],\n",
       "    \"embeddings\": [],\n",
       "    \"ids\": [\n",
       "        \"1\",\n",
       "        \"3114\",\n",
       "        \"78499\"\n",
       "    ],\n",
       "    \"metadatas\": [\n",
       "        {\n",
       "            \"imdb_id\": 114709,\n",
       "            \"release_year\": 1995,\n",
       "            \"title\": \"Toy Story\",\n",
       "            \"title_tokens\": \"toy story\"\n",
       "        },\n",
       "        {\n",
       "            \"imdb_id\": 120363,\n",
       "            \"release_year\": 1999,\n",
       "            \"title\": \"Toy Story 2\",\n",
       "            \"title_tokens\": \"toy story\"\n",
       "        },\n",
       "        {\n",
       "            \"imdb_id\": 435761,\n",
       "            \"release_year\": 2010,\n",
       "            \"title\": \"Toy Story 3\",\n",
       "            \"title_tokens\": \"toy story\"\n",
       "        }\n",
       "    ]\n",
       "}"
      ]
     },
     "execution_count": 8,
     "metadata": {},
     "output_type": "execute_result"
    }
   ],
   "source": [
    "title_repo = builder.repositories[TITLE_REC_SYS_CFG.name]\n",
    "\n",
    "result = title_repo.search_by_ids([1])\n",
    "toy_story_emb = result.embeddings[0]\n",
    "\n",
    "title_repo.search_sims(embs=[toy_story_emb], limit=3)"
   ]
  },
  {
   "cell_type": "code",
   "execution_count": 9,
   "id": "5ae08ca9-e38e-4b9e-9c1e-be3d0486a1db",
   "metadata": {
    "tags": []
   },
   "outputs": [],
   "source": [
    "user_ids = builder.repositories.dataset.users_id_from_movie_id(movie_id=1) "
   ]
  },
  {
   "cell_type": "code",
   "execution_count": 10,
   "id": "aaccada2-833d-4b98-9184-500818994d40",
   "metadata": {
    "tags": []
   },
   "outputs": [
    {
     "name": "stderr",
     "output_type": "stream",
     "text": [
      "2023-10-08 12:58:42,124 - INFO - Found 5 items by ids: Int64Index([ 27296,   5243,  29250,  78269,  71225,  17421,  60141,   5104,\n",
      "              4593,  26910,   7714,  21709,  24015,  55610, 116237, 157415,\n",
      "             67973,  61042,  61300, 141780],\n",
      "           dtype='int64').\n",
      "2023-10-08 12:58:42,125 - INFO - Found 3 similar to 7714 item.\n",
      "2023-10-08 12:58:42,126 - INFO - Found 3 similar to 60141 item.\n",
      "2023-10-08 12:58:42,127 - INFO - Found 3 similar to 5243 item.\n",
      "2023-10-08 12:58:42,128 - INFO - Found 3 similar to 4593 item.\n",
      "2023-10-08 12:58:42,129 - INFO - Found 3 similar to 5104 item.\n"
     ]
    },
    {
     "name": "stdout",
     "output_type": "stream",
     "text": [
      "\n",
      "Item Recommender: overview-all-mpnet-base-v2\n",
      "\n"
     ]
    },
    {
     "data": {
      "text/html": [
       "<table border=\"1\" class=\"dataframe\">\n",
       "  <thead>\n",
       "    <tr style=\"text-align: right;\">\n",
       "      <th></th>\n",
       "      <th>Similarity</th>\n",
       "      <th>Rating</th>\n",
       "      <th>.</th>\n",
       "      <th>Recommended Movies</th>\n",
       "      <th>..</th>\n",
       "      <th>Already seen movies</th>\n",
       "      <th>Rating</th>\n",
       "    </tr>\n",
       "  </thead>\n",
       "  <tbody>\n",
       "    <tr>\n",
       "      <th>0</th>\n",
       "      <td>0.40</td>\n",
       "      <td>3.6</td>\n",
       "      <td>We Recommend ==></td>\n",
       "      <td><img src=\"https://m.media-amazon.com/images/M/MV5BNzQ1MDU2ZWUtMmYzOS00ZWExLTk4M2QtNzE5MTFkZTNmZTJhXkEyXkFqcGdeQXVyMTMxODk2OTU@._V1_SX300.jpg\" width=\"300\" ></td>\n",
       "      <td>==> Because You Saw ==></td>\n",
       "      <td><img src=\"https://m.media-amazon.com/images/M/MV5BYTc5MjU3MTYtYTI0Yi00MDA1LTgzOTAtZGRiY2MxNTVhYTJkXkEyXkFqcGdeQXVyNjE5MjUyOTM@._V1_SX300.jpg\" width=\"300\" ></td>\n",
       "      <td>4.0</td>\n",
       "    </tr>\n",
       "    <tr>\n",
       "      <th>1</th>\n",
       "      <td>0.12</td>\n",
       "      <td>2.0</td>\n",
       "      <td>We Recommend ==></td>\n",
       "      <td><img src=\"https://m.media-amazon.com/images/M/MV5BZTVjZGIyNGYtOTlmMi00NmFjLThmYTgtZGIzMGE3ZGQ0ODA4XkEyXkFqcGdeQXVyNjU0NTI0Nw@@._V1_SX300.jpg\" width=\"300\" ></td>\n",
       "      <td>==> Because You Saw ==></td>\n",
       "      <td><img src=\"https://m.media-amazon.com/images/M/MV5BYTc5MjU3MTYtYTI0Yi00MDA1LTgzOTAtZGRiY2MxNTVhYTJkXkEyXkFqcGdeQXVyNjE5MjUyOTM@._V1_SX300.jpg\" width=\"300\" ></td>\n",
       "      <td>4.0</td>\n",
       "    </tr>\n",
       "    <tr>\n",
       "      <th>8</th>\n",
       "      <td>0.49</td>\n",
       "      <td>3.7</td>\n",
       "      <td>We Recommend ==></td>\n",
       "      <td><img src=\"https://m.media-amazon.com/images/M/MV5BNGQzZGQxZTctMzE2Mi00OGFiLTg2ZjQtZTAwYzMyMjExN2JiXkEyXkFqcGdeQXVyMjUzOTY1NTc@._V1_SX300.jpg\" width=\"300\" ></td>\n",
       "      <td>==> Because You Saw ==></td>\n",
       "      <td><img src=\"https://m.media-amazon.com/images/M/MV5BY2FiODVhZDItZjk0NS00MTM0LWFkZWYtYTdlZjIwY2Q0ZjJkXkEyXkFqcGdeQXVyMTA0MjU0Ng@@._V1_SX300.jpg\" width=\"300\" ></td>\n",
       "      <td>4.0</td>\n",
       "    </tr>\n",
       "    <tr>\n",
       "      <th>9</th>\n",
       "      <td>0.44</td>\n",
       "      <td>3.0</td>\n",
       "      <td>We Recommend ==></td>\n",
       "      <td><img src=\"https://m.media-amazon.com/images/M/MV5BMjU2MGEyMGItZWQ3MS00MzljLWIyMTQtZDAzZjY5NmVlZGUyXkEyXkFqcGdeQXVyMDI2NDg0NQ@@._V1_SX300.jpg\" width=\"300\" ></td>\n",
       "      <td>==> Because You Saw ==></td>\n",
       "      <td><img src=\"https://m.media-amazon.com/images/M/MV5BY2FiODVhZDItZjk0NS00MTM0LWFkZWYtYTdlZjIwY2Q0ZjJkXkEyXkFqcGdeQXVyMTA0MjU0Ng@@._V1_SX300.jpg\" width=\"300\" ></td>\n",
       "      <td>4.0</td>\n",
       "    </tr>\n",
       "    <tr>\n",
       "      <th>2</th>\n",
       "      <td>0.26</td>\n",
       "      <td>3.1</td>\n",
       "      <td>We Recommend ==></td>\n",
       "      <td><img src=\"https://m.media-amazon.com/images/M/MV5BMmM0YjY5YjctYzljMy00ODcxLWI3ZDItMmE1MGU5YTI5MzI3XkEyXkFqcGdeQXVyMjA0MzYwMDY@._V1_SX300.jpg\" width=\"300\" ></td>\n",
       "      <td>==> Because You Saw ==></td>\n",
       "      <td><img src=\"https://m.media-amazon.com/images/M/MV5BMTg5MjIwMzgwNF5BMl5BanBnXkFtZTcwOTg3NzI3Mg@@._V1_SX300.jpg\" width=\"300\" ></td>\n",
       "      <td>3.7</td>\n",
       "    </tr>\n",
       "  </tbody>\n",
       "</table>"
      ],
      "text/plain": [
       "<IPython.core.display.HTML object>"
      ]
     },
     "metadata": {},
     "output_type": "display_data"
    }
   ],
   "source": [
    "builder \\\n",
    "    .user_item_recommender(\n",
    "        OVERVIEW_REC_SYS_CFG.name,\n",
    "        n_top_rated_user_items=20,\n",
    "        n_sim_items=3\n",
    "    ) \\\n",
    "    .recommend(user_id=user_ids[130]) \\\n",
    "    .show()"
   ]
  },
  {
   "cell_type": "code",
   "execution_count": 11,
   "id": "4a2d75b7-3be7-4d5a-bfcf-3dcd12e854ea",
   "metadata": {
    "tags": []
   },
   "outputs": [
    {
     "name": "stderr",
     "output_type": "stream",
     "text": [
      "2023-10-08 12:58:42,690 - INFO - Found 4 items by ids: Int64Index([27296, 5243, 29250, 78269, 71225, 17421, 60141, 5104, 4593, 26910], dtype='int64').\n",
      "2023-10-08 12:58:42,691 - INFO - Found 3 similar to 60141 item.\n",
      "2023-10-08 12:58:42,692 - INFO - Found 3 similar to 5243 item.\n",
      "2023-10-08 12:58:42,693 - INFO - Found 3 similar to 4593 item.\n",
      "2023-10-08 12:58:42,694 - INFO - Found 3 similar to 5104 item.\n"
     ]
    },
    {
     "name": "stdout",
     "output_type": "stream",
     "text": [
      "\n",
      "Item Recommender: title-all-roberta-large-v1\n",
      "\n"
     ]
    },
    {
     "data": {
      "text/html": [
       "<table border=\"1\" class=\"dataframe\">\n",
       "  <thead>\n",
       "    <tr style=\"text-align: right;\">\n",
       "      <th></th>\n",
       "      <th>Similarity</th>\n",
       "      <th>Rating</th>\n",
       "      <th>.</th>\n",
       "      <th>Recommended Movies</th>\n",
       "      <th>..</th>\n",
       "      <th>Already seen movies</th>\n",
       "      <th>Rating</th>\n",
       "    </tr>\n",
       "  </thead>\n",
       "  <tbody>\n",
       "    <tr>\n",
       "      <th>6</th>\n",
       "      <td>0.38</td>\n",
       "      <td>3.0</td>\n",
       "      <td>We Recommend ==></td>\n",
       "      <td><img src=\"https://m.media-amazon.com/images/M/MV5BNjUxODc5Mjk1OV5BMl5BanBnXkFtZTcwNDE0NTExOA@@._V1_SX300.jpg\" width=\"300\" ></td>\n",
       "      <td>==> Because You Saw ==></td>\n",
       "      <td><img src=\"https://m.media-amazon.com/images/M/MV5BY2FiODVhZDItZjk0NS00MTM0LWFkZWYtYTdlZjIwY2Q0ZjJkXkEyXkFqcGdeQXVyMTA0MjU0Ng@@._V1_SX300.jpg\" width=\"300\" ></td>\n",
       "      <td>4.0</td>\n",
       "    </tr>\n",
       "    <tr>\n",
       "      <th>7</th>\n",
       "      <td>0.27</td>\n",
       "      <td>2.5</td>\n",
       "      <td>We Recommend ==></td>\n",
       "      <td><img src=\"https://m.media-amazon.com/images/M/MV5BYTYyMWYzMWQtNTc5Yi00MDdlLTk0ZDAtYTM4ZTU5NDJhN2I3XkEyXkFqcGdeQXVyNzQzNzQxNzI@._V1_SX300.jpg\" width=\"300\" ></td>\n",
       "      <td>==> Because You Saw ==></td>\n",
       "      <td><img src=\"https://m.media-amazon.com/images/M/MV5BY2FiODVhZDItZjk0NS00MTM0LWFkZWYtYTdlZjIwY2Q0ZjJkXkEyXkFqcGdeQXVyMTA0MjU0Ng@@._V1_SX300.jpg\" width=\"300\" ></td>\n",
       "      <td>4.0</td>\n",
       "    </tr>\n",
       "    <tr>\n",
       "      <th>0</th>\n",
       "      <td>0.37</td>\n",
       "      <td>4.0</td>\n",
       "      <td>We Recommend ==></td>\n",
       "      <td><img src=\"https://m.media-amazon.com/images/M/MV5BOWViNGI0MjUtNDljMy00MGY2LWJkNTUtYjRhZDZmY2ZmOWFmXkEyXkFqcGdeQXVyMTUzMDUzNTI3._V1_SX300.jpg\" width=\"300\" ></td>\n",
       "      <td>==> Because You Saw ==></td>\n",
       "      <td><img src=\"https://m.media-amazon.com/images/M/MV5BMTg5MjIwMzgwNF5BMl5BanBnXkFtZTcwOTg3NzI3Mg@@._V1_SX300.jpg\" width=\"300\" ></td>\n",
       "      <td>3.7</td>\n",
       "    </tr>\n",
       "    <tr>\n",
       "      <th>1</th>\n",
       "      <td>0.26</td>\n",
       "      <td>2.7</td>\n",
       "      <td>We Recommend ==></td>\n",
       "      <td><img src=\"https://m.media-amazon.com/images/M/MV5BYWYyZjk5OGEtZTFhNS00OTg0LWJjNWEtYjlkOTQ1MjM1N2ZkXkEyXkFqcGdeQXVyMDI2NDg0NQ@@._V1_SX300.jpg\" width=\"300\" ></td>\n",
       "      <td>==> Because You Saw ==></td>\n",
       "      <td><img src=\"https://m.media-amazon.com/images/M/MV5BMTg5MjIwMzgwNF5BMl5BanBnXkFtZTcwOTg3NzI3Mg@@._V1_SX300.jpg\" width=\"300\" ></td>\n",
       "      <td>3.7</td>\n",
       "    </tr>\n",
       "    <tr>\n",
       "      <th>4</th>\n",
       "      <td>0.49</td>\n",
       "      <td>3.2</td>\n",
       "      <td>We Recommend ==></td>\n",
       "      <td><img src=\"https://m.media-amazon.com/images/M/MV5BNGU2MmY2NWYtYTc1Yy00NzgzLTkwODMtYTQwYTA5MmJiZGM2XkEyXkFqcGdeQXVyNzc5MjA3OA@@._V1_SX300.jpg\" width=\"300\" ></td>\n",
       "      <td>==> Because You Saw ==></td>\n",
       "      <td><img src=\"https://m.media-amazon.com/images/M/MV5BNThiZmU5YjktZDY2Yy00MGQ4LWI0YjgtODdkMDgwNDA5ZjhkXkEyXkFqcGdeQXVyMTUzMDUzNTI3._V1_SX300.jpg\" width=\"300\" ></td>\n",
       "      <td>3.0</td>\n",
       "    </tr>\n",
       "  </tbody>\n",
       "</table>"
      ],
      "text/plain": [
       "<IPython.core.display.HTML object>"
      ]
     },
     "metadata": {},
     "output_type": "display_data"
    }
   ],
   "source": [
    "builder \\\n",
    "    .user_item_recommender(TITLE_REC_SYS_CFG.name) \\\n",
    "    .recommend(user_id=user_ids[130]) \\\n",
    "    .show()"
   ]
  },
  {
   "cell_type": "code",
   "execution_count": 12,
   "id": "727e8bc2-5eab-4502-8097-70e2fcc91cec",
   "metadata": {
    "tags": []
   },
   "outputs": [
    {
     "name": "stderr",
     "output_type": "stream",
     "text": [
      "2023-10-08 12:58:43,274 - INFO - Found 4 items by ids: Int64Index([27296, 5243, 29250, 78269, 71225, 17421, 60141, 5104, 4593, 26910], dtype='int64').\n",
      "2023-10-08 12:58:43,275 - INFO - Found 3 similar to 60141 item.\n",
      "2023-10-08 12:58:43,276 - INFO - Found 3 similar to 5243 item.\n",
      "2023-10-08 12:58:43,276 - INFO - Found 3 similar to 4593 item.\n",
      "2023-10-08 12:58:43,277 - INFO - Found 3 similar to 5104 item.\n"
     ]
    },
    {
     "name": "stdout",
     "output_type": "stream",
     "text": [
      "\n",
      "Item Recommender: genres-all-roberta-large-v1\n",
      "\n"
     ]
    },
    {
     "data": {
      "text/html": [
       "<table border=\"1\" class=\"dataframe\">\n",
       "  <thead>\n",
       "    <tr style=\"text-align: right;\">\n",
       "      <th></th>\n",
       "      <th>Similarity</th>\n",
       "      <th>Rating</th>\n",
       "      <th>.</th>\n",
       "      <th>Recommended Movies</th>\n",
       "      <th>..</th>\n",
       "      <th>Already seen movies</th>\n",
       "      <th>Rating</th>\n",
       "    </tr>\n",
       "  </thead>\n",
       "  <tbody>\n",
       "    <tr>\n",
       "      <th>9</th>\n",
       "      <td>1.00</td>\n",
       "      <td>2.5</td>\n",
       "      <td>We Recommend ==></td>\n",
       "      <td><img src=\"https://m.media-amazon.com/images/M/MV5BYjk4NTVhNjYtYWQwZC00NTI4LTgzZWYtYjNmZmEwODkzZDNhXkEyXkFqcGdeQXVyMTY5Nzc4MDY@._V1_SX300.jpg\" width=\"300\" ></td>\n",
       "      <td>==> Because You Saw ==></td>\n",
       "      <td><img src=\"https://m.media-amazon.com/images/M/MV5BY2FiODVhZDItZjk0NS00MTM0LWFkZWYtYTdlZjIwY2Q0ZjJkXkEyXkFqcGdeQXVyMTA0MjU0Ng@@._V1_SX300.jpg\" width=\"300\" ></td>\n",
       "      <td>4.0</td>\n",
       "    </tr>\n",
       "    <tr>\n",
       "      <th>10</th>\n",
       "      <td>1.00</td>\n",
       "      <td>3.7</td>\n",
       "      <td>We Recommend ==></td>\n",
       "      <td><img src=\"https://m.media-amazon.com/images/M/MV5BZGI1NzBhZGEtNzM0OC00MjI1LTlkYzUtZjM0N2ExNmY3M2JhXkEyXkFqcGdeQXVyMTU3NDU4MDg2._V1_SX300.jpg\" width=\"300\" ></td>\n",
       "      <td>==> Because You Saw ==></td>\n",
       "      <td><img src=\"https://m.media-amazon.com/images/M/MV5BY2FiODVhZDItZjk0NS00MTM0LWFkZWYtYTdlZjIwY2Q0ZjJkXkEyXkFqcGdeQXVyMTA0MjU0Ng@@._V1_SX300.jpg\" width=\"300\" ></td>\n",
       "      <td>4.0</td>\n",
       "    </tr>\n",
       "    <tr>\n",
       "      <th>11</th>\n",
       "      <td>1.00</td>\n",
       "      <td>3.9</td>\n",
       "      <td>We Recommend ==></td>\n",
       "      <td><img src=\"https://m.media-amazon.com/images/M/MV5BMTk3NDY2MDg0MF5BMl5BanBnXkFtZTYwODcwODc4._V1_SX300.jpg\" width=\"300\" ></td>\n",
       "      <td>==> Because You Saw ==></td>\n",
       "      <td><img src=\"https://m.media-amazon.com/images/M/MV5BY2FiODVhZDItZjk0NS00MTM0LWFkZWYtYTdlZjIwY2Q0ZjJkXkEyXkFqcGdeQXVyMTA0MjU0Ng@@._V1_SX300.jpg\" width=\"300\" ></td>\n",
       "      <td>4.0</td>\n",
       "    </tr>\n",
       "    <tr>\n",
       "      <th>0</th>\n",
       "      <td>0.16</td>\n",
       "      <td>3.4</td>\n",
       "      <td>We Recommend ==></td>\n",
       "      <td><img src=\"https://m.media-amazon.com/images/M/MV5BMjE2MjQ5OTE0MF5BMl5BanBnXkFtZTcwMjE1NTcyMQ@@._V1_SX300.jpg\" width=\"300\" ></td>\n",
       "      <td>==> Because You Saw ==></td>\n",
       "      <td><img src=\"https://m.media-amazon.com/images/M/MV5BMTg5MjIwMzgwNF5BMl5BanBnXkFtZTcwOTg3NzI3Mg@@._V1_SX300.jpg\" width=\"300\" ></td>\n",
       "      <td>3.7</td>\n",
       "    </tr>\n",
       "    <tr>\n",
       "      <th>1</th>\n",
       "      <td>0.16</td>\n",
       "      <td>4.0</td>\n",
       "      <td>We Recommend ==></td>\n",
       "      <td><img src=\"https://m.media-amazon.com/images/M/MV5BYWY4ODM1NmItMDFiNS00YjUxLWJiNjQtZDI1ZjJmYzJmZWMyL2ltYWdlL2ltYWdlXkEyXkFqcGdeQXVyNjMxMjkwMjI@._V1_SX300.jpg\" width=\"300\" ></td>\n",
       "      <td>==> Because You Saw ==></td>\n",
       "      <td><img src=\"https://m.media-amazon.com/images/M/MV5BMTg5MjIwMzgwNF5BMl5BanBnXkFtZTcwOTg3NzI3Mg@@._V1_SX300.jpg\" width=\"300\" ></td>\n",
       "      <td>3.7</td>\n",
       "    </tr>\n",
       "  </tbody>\n",
       "</table>"
      ],
      "text/plain": [
       "<IPython.core.display.HTML object>"
      ]
     },
     "metadata": {},
     "output_type": "display_data"
    }
   ],
   "source": [
    "builder \\\n",
    "    .user_item_recommender(GENRES_REC_SYS_CFG.name) \\\n",
    "    .recommend(user_id=user_ids[130]) \\\n",
    "    .show()"
   ]
  },
  {
   "cell_type": "code",
   "execution_count": 13,
   "id": "6796c885-750d-4b3f-b38f-3f6bdab40be0",
   "metadata": {
    "tags": []
   },
   "outputs": [
    {
     "name": "stderr",
     "output_type": "stream",
     "text": [
      "2023-10-08 12:58:43,790 - INFO - Found 4 items by ids: Int64Index([27296, 5243, 29250, 78269, 71225, 17421, 60141, 5104, 4593, 26910], dtype='int64').\n",
      "2023-10-08 12:58:43,791 - INFO - Found 3 similar to 60141 item.\n",
      "2023-10-08 12:58:43,792 - INFO - Found 3 similar to 5243 item.\n",
      "2023-10-08 12:58:43,793 - INFO - Found 3 similar to 4593 item.\n",
      "2023-10-08 12:58:43,794 - INFO - Found 3 similar to 5104 item.\n"
     ]
    },
    {
     "name": "stdout",
     "output_type": "stream",
     "text": [
      "\n",
      "Item Recommender: tags-all-roberta-large-v1\n",
      "\n"
     ]
    },
    {
     "data": {
      "text/html": [
       "<table border=\"1\" class=\"dataframe\">\n",
       "  <thead>\n",
       "    <tr style=\"text-align: right;\">\n",
       "      <th></th>\n",
       "      <th>Similarity</th>\n",
       "      <th>Rating</th>\n",
       "      <th>.</th>\n",
       "      <th>Recommended Movies</th>\n",
       "      <th>..</th>\n",
       "      <th>Already seen movies</th>\n",
       "      <th>Rating</th>\n",
       "    </tr>\n",
       "  </thead>\n",
       "  <tbody>\n",
       "    <tr>\n",
       "      <th>6</th>\n",
       "      <td>-0.04</td>\n",
       "      <td>3.0</td>\n",
       "      <td>We Recommend ==></td>\n",
       "      <td><img src=\"https://m.media-amazon.com/images/M/MV5BNjAxZjBhMTQtMjk2Zi00YmJhLWIzMDQtNWU2NjllYTBkMzZkXkEyXkFqcGdeQXVyMTg2NTc4MzA@._V1_SX300.jpg\" width=\"300\" ></td>\n",
       "      <td>==> Because You Saw ==></td>\n",
       "      <td><img src=\"https://m.media-amazon.com/images/M/MV5BY2FiODVhZDItZjk0NS00MTM0LWFkZWYtYTdlZjIwY2Q0ZjJkXkEyXkFqcGdeQXVyMTA0MjU0Ng@@._V1_SX300.jpg\" width=\"300\" ></td>\n",
       "      <td>4.0</td>\n",
       "    </tr>\n",
       "    <tr>\n",
       "      <th>7</th>\n",
       "      <td>-0.08</td>\n",
       "      <td>3.0</td>\n",
       "      <td>We Recommend ==></td>\n",
       "      <td><img src=\"https://m.media-amazon.com/images/M/MV5BNTQ2MjgwMzY1M15BMl5BanBnXkFtZTcwNTg2NzY3MQ@@._V1_SX300.jpg\" width=\"300\" ></td>\n",
       "      <td>==> Because You Saw ==></td>\n",
       "      <td><img src=\"https://m.media-amazon.com/images/M/MV5BY2FiODVhZDItZjk0NS00MTM0LWFkZWYtYTdlZjIwY2Q0ZjJkXkEyXkFqcGdeQXVyMTA0MjU0Ng@@._V1_SX300.jpg\" width=\"300\" ></td>\n",
       "      <td>4.0</td>\n",
       "    </tr>\n",
       "    <tr>\n",
       "      <th>0</th>\n",
       "      <td>0.41</td>\n",
       "      <td>1.5</td>\n",
       "      <td>We Recommend ==></td>\n",
       "      <td><img src=\"https://m.media-amazon.com/images/M/MV5BMDRhNmRmMzgtZjE1ZS00MzM1LWJhOGQtYTZhNTk4ZWM2MDM1XkEyXkFqcGdeQXVyMjUzOTY1NTc@._V1_SX300.jpg\" width=\"300\" ></td>\n",
       "      <td>==> Because You Saw ==></td>\n",
       "      <td><img src=\"https://m.media-amazon.com/images/M/MV5BMTg5MjIwMzgwNF5BMl5BanBnXkFtZTcwOTg3NzI3Mg@@._V1_SX300.jpg\" width=\"300\" ></td>\n",
       "      <td>3.7</td>\n",
       "    </tr>\n",
       "    <tr>\n",
       "      <th>1</th>\n",
       "      <td>0.41</td>\n",
       "      <td>3.0</td>\n",
       "      <td>We Recommend ==></td>\n",
       "      <td><img src=\"https://m.media-amazon.com/images/M/MV5BYjU2YzY5NDEtM2M3NC00NGM0LTg3MmItNWQ1OWY2ZmNkZTU0XkEyXkFqcGdeQXVyNTIzOTk5ODM@._V1_SX300.jpg\" width=\"300\" ></td>\n",
       "      <td>==> Because You Saw ==></td>\n",
       "      <td><img src=\"https://m.media-amazon.com/images/M/MV5BMTg5MjIwMzgwNF5BMl5BanBnXkFtZTcwOTg3NzI3Mg@@._V1_SX300.jpg\" width=\"300\" ></td>\n",
       "      <td>3.7</td>\n",
       "    </tr>\n",
       "    <tr>\n",
       "      <th>4</th>\n",
       "      <td>0.01</td>\n",
       "      <td>2.7</td>\n",
       "      <td>We Recommend ==></td>\n",
       "      <td><img src=\"https://m.media-amazon.com/images/M/MV5BYTc3YzQ1MzEtNWM0OS00MWYyLTg3OTEtZmMzYWE1MjYwMWU3XkEyXkFqcGdeQXVyMjUzOTY1NTc@._V1_SX300.jpg\" width=\"300\" ></td>\n",
       "      <td>==> Because You Saw ==></td>\n",
       "      <td><img src=\"https://m.media-amazon.com/images/M/MV5BNThiZmU5YjktZDY2Yy00MGQ4LWI0YjgtODdkMDgwNDA5ZjhkXkEyXkFqcGdeQXVyMTUzMDUzNTI3._V1_SX300.jpg\" width=\"300\" ></td>\n",
       "      <td>3.0</td>\n",
       "    </tr>\n",
       "  </tbody>\n",
       "</table>"
      ],
      "text/plain": [
       "<IPython.core.display.HTML object>"
      ]
     },
     "metadata": {},
     "output_type": "display_data"
    }
   ],
   "source": [
    "builder \\\n",
    "    .user_item_recommender(TAGS_REC_SYS_CFG.name) \\\n",
    "    .recommend(user_id=user_ids[130]) \\\n",
    "    .show()"
   ]
  },
  {
   "cell_type": "code",
   "execution_count": 15,
   "id": "82b0b1e7-313a-4ad3-a685-162fb9c387de",
   "metadata": {
    "tags": []
   },
   "outputs": [
    {
     "name": "stderr",
     "output_type": "stream",
     "text": [
      "2023-10-08 12:59:20,172 - INFO - Found 4 items by ids: Int64Index([27296, 5243, 29250, 78269, 71225, 17421, 60141, 5104, 4593, 26910], dtype='int64').\n",
      "2023-10-08 12:59:20,173 - INFO - Found 3 similar to 60141 item.\n",
      "2023-10-08 12:59:20,174 - INFO - Found 3 similar to 5243 item.\n",
      "2023-10-08 12:59:20,175 - INFO - Found 3 similar to 4593 item.\n",
      "2023-10-08 12:59:20,176 - INFO - Found 3 similar to 5104 item.\n",
      "2023-10-08 12:59:20,180 - INFO - Found 4 items by ids: Int64Index([27296, 5243, 29250, 78269, 71225, 17421, 60141, 5104, 4593, 26910], dtype='int64').\n",
      "2023-10-08 12:59:20,181 - INFO - Found 3 similar to 60141 item.\n",
      "2023-10-08 12:59:20,182 - INFO - Found 3 similar to 5243 item.\n",
      "2023-10-08 12:59:20,182 - INFO - Found 3 similar to 4593 item.\n",
      "2023-10-08 12:59:20,183 - INFO - Found 3 similar to 5104 item.\n",
      "2023-10-08 12:59:20,187 - INFO - Found 4 items by ids: Int64Index([27296, 5243, 29250, 78269, 71225, 17421, 60141, 5104, 4593, 26910], dtype='int64').\n",
      "2023-10-08 12:59:20,188 - INFO - Found 3 similar to 60141 item.\n",
      "2023-10-08 12:59:20,189 - INFO - Found 3 similar to 5243 item.\n",
      "2023-10-08 12:59:20,190 - INFO - Found 3 similar to 4593 item.\n",
      "2023-10-08 12:59:20,191 - INFO - Found 3 similar to 5104 item.\n"
     ]
    },
    {
     "name": "stdout",
     "output_type": "stream",
     "text": [
      "\n",
      "Recommender: Ensemble of overview-all-mpnet-base-v2, title-all-roberta-large-v1, genres-all-roberta-large-v1.\n",
      "\n"
     ]
    },
    {
     "data": {
      "text/html": [
       "<table border=\"1\" class=\"dataframe\">\n",
       "  <thead>\n",
       "    <tr style=\"text-align: right;\">\n",
       "      <th></th>\n",
       "      <th>Rating</th>\n",
       "      <th>Recommended Movies</th>\n",
       "      <th>Similarity</th>\n",
       "    </tr>\n",
       "  </thead>\n",
       "  <tbody>\n",
       "    <tr>\n",
       "      <th>10</th>\n",
       "      <td>4.0</td>\n",
       "      <td><img src=\"https://m.media-amazon.com/images/M/MV5BOWViNGI0MjUtNDljMy00MGY2LWJkNTUtYjRhZDZmY2ZmOWFmXkEyXkFqcGdeQXVyMTUzMDUzNTI3._V1_SX300.jpg\" width=\"300\" ></td>\n",
       "      <td>0.47</td>\n",
       "    </tr>\n",
       "    <tr>\n",
       "      <th>14</th>\n",
       "      <td>4.0</td>\n",
       "      <td><img src=\"https://m.media-amazon.com/images/M/MV5BYWY4ODM1NmItMDFiNS00YjUxLWJiNjQtZDI1ZjJmYzJmZWMyL2ltYWdlL2ltYWdlXkEyXkFqcGdeQXVyNjMxMjkwMjI@._V1_SX300.jpg\" width=\"300\" ></td>\n",
       "      <td>0.46</td>\n",
       "    </tr>\n",
       "    <tr>\n",
       "      <th>9</th>\n",
       "      <td>3.9</td>\n",
       "      <td><img src=\"https://m.media-amazon.com/images/M/MV5BMTk3NDY2MDg0MF5BMl5BanBnXkFtZTYwODcwODc4._V1_SX300.jpg\" width=\"300\" ></td>\n",
       "      <td>1.30</td>\n",
       "    </tr>\n",
       "    <tr>\n",
       "      <th>7</th>\n",
       "      <td>3.8</td>\n",
       "      <td><img src=\"https://m.media-amazon.com/images/M/MV5BMTQ1ODQ4MDg0OV5BMl5BanBnXkFtZTcwOTk5NDQ0MQ@@._V1_SX300.jpg\" width=\"300\" ></td>\n",
       "      <td>0.67</td>\n",
       "    </tr>\n",
       "    <tr>\n",
       "      <th>2</th>\n",
       "      <td>3.7</td>\n",
       "      <td><img src=\"https://m.media-amazon.com/images/M/MV5BNGQzZGQxZTctMzE2Mi00OGFiLTg2ZjQtZTAwYzMyMjExN2JiXkEyXkFqcGdeQXVyMjUzOTY1NTc@._V1_SX300.jpg\" width=\"300\" ></td>\n",
       "      <td>1.09</td>\n",
       "    </tr>\n",
       "    <tr>\n",
       "      <th>8</th>\n",
       "      <td>3.7</td>\n",
       "      <td><img src=\"https://m.media-amazon.com/images/M/MV5BZGI1NzBhZGEtNzM0OC00MjI1LTlkYzUtZjM0N2ExNmY3M2JhXkEyXkFqcGdeQXVyMTU3NDU4MDg2._V1_SX300.jpg\" width=\"300\" ></td>\n",
       "      <td>1.30</td>\n",
       "    </tr>\n",
       "    <tr>\n",
       "      <th>5</th>\n",
       "      <td>3.4</td>\n",
       "      <td><img src=\"https://m.media-amazon.com/images/M/MV5BMjE2MjQ5OTE0MF5BMl5BanBnXkFtZTcwMjE1NTcyMQ@@._V1_SX300.jpg\" width=\"300\" ></td>\n",
       "      <td>0.46</td>\n",
       "    </tr>\n",
       "    <tr>\n",
       "      <th>1</th>\n",
       "      <td>3.2</td>\n",
       "      <td><img src=\"https://m.media-amazon.com/images/M/MV5BNGU2MmY2NWYtYTc1Yy00NzgzLTkwODMtYTQwYTA5MmJiZGM2XkEyXkFqcGdeQXVyNzc5MjA3OA@@._V1_SX300.jpg\" width=\"300\" ></td>\n",
       "      <td>0.59</td>\n",
       "    </tr>\n",
       "    <tr>\n",
       "      <th>0</th>\n",
       "      <td>3.1</td>\n",
       "      <td><img src=\"https://m.media-amazon.com/images/M/MV5BMmM0YjY5YjctYzljMy00ODcxLWI3ZDItMmE1MGU5YTI5MzI3XkEyXkFqcGdeQXVyMjA0MzYwMDY@._V1_SX300.jpg\" width=\"300\" ></td>\n",
       "      <td>0.86</td>\n",
       "    </tr>\n",
       "    <tr>\n",
       "      <th>11</th>\n",
       "      <td>3.0</td>\n",
       "      <td><img src=\"https://m.media-amazon.com/images/M/MV5BNjUxODc5Mjk1OV5BMl5BanBnXkFtZTcwNDE0NTExOA@@._V1_SX300.jpg\" width=\"300\" ></td>\n",
       "      <td>0.48</td>\n",
       "    </tr>\n",
       "  </tbody>\n",
       "</table>"
      ],
      "text/plain": [
       "<IPython.core.display.HTML object>"
      ]
     },
     "metadata": {},
     "output_type": "display_data"
    }
   ],
   "source": [
    "rc.UserSimilarItemEnsembleRecommender(\n",
    "    recommenders=[\n",
    "        builder.user_item_recommender(\n",
    "            OVERVIEW_REC_SYS_CFG.name,\n",
    "            n_top_rated_user_items=10,\n",
    "            n_sim_items=3\n",
    "        ),\n",
    "        builder.user_item_recommender(\n",
    "            TITLE_REC_SYS_CFG.name,\n",
    "            n_top_rated_user_items=10,\n",
    "            n_sim_items=3\n",
    "        ),\n",
    "        builder.user_item_recommender(\n",
    "            GENRES_REC_SYS_CFG.name,\n",
    "            n_top_rated_user_items=10,\n",
    "            n_sim_items=3\n",
    "        )\n",
    "    ],\n",
    "    weights = [0.6, 0.1, 0.3],\n",
    "    recommender_k = 5\n",
    ") \\\n",
    " .recommend(user_id=user_ids[130], k=10) \\\n",
    " .show()"
   ]
  }
 ],
 "metadata": {
  "kernelspec": {
   "display_name": "Python 3 (ipykernel)",
   "language": "python",
   "name": "python3"
  },
  "language_info": {
   "codemirror_mode": {
    "name": "ipython",
    "version": 3
   },
   "file_extension": ".py",
   "mimetype": "text/x-python",
   "name": "python",
   "nbconvert_exporter": "python",
   "pygments_lexer": "ipython3",
   "version": "3.10.12"
  },
  "widgets": {
   "application/vnd.jupyter.widget-state+json": {
    "state": {
     "070224b0e57f4fa8853bd90f70bda7da": {
      "model_module": "@jupyter-widgets/base",
      "model_module_version": "2.0.0",
      "model_name": "LayoutModel",
      "state": {}
     },
     "0b2c7bcd58834cd68f710a7f63a22975": {
      "model_module": "@jupyter-widgets/controls",
      "model_module_version": "2.0.0",
      "model_name": "HTMLModel",
      "state": {
       "layout": "IPY_MODEL_24d0c8c45b5443caa02f831654472ef9",
       "style": "IPY_MODEL_e3bb1b0b82954d73b8c3211ad0737506",
       "value": " 18703/18703 [00:17&lt;00:00, 854.87it/s]"
      }
     },
     "10a7fcd2be274a458b27447f3162adfc": {
      "model_module": "@jupyter-widgets/controls",
      "model_module_version": "2.0.0",
      "model_name": "HTMLModel",
      "state": {
       "layout": "IPY_MODEL_de5b2de4559645619e716cb210b8a543",
       "style": "IPY_MODEL_95460abb6ad94e29b5c37030cf2df8c1",
       "value": " 18703/18703 [00:15&lt;00:00, 1090.28it/s]"
      }
     },
     "19077611cbae40f5b74f3806f3a53fc1": {
      "model_module": "@jupyter-widgets/controls",
      "model_module_version": "2.0.0",
      "model_name": "ProgressStyleModel",
      "state": {
       "description_width": ""
      }
     },
     "1cf8d4ab7c184cdeb782945fe61bb7fb": {
      "model_module": "@jupyter-widgets/base",
      "model_module_version": "2.0.0",
      "model_name": "LayoutModel",
      "state": {}
     },
     "24d0c8c45b5443caa02f831654472ef9": {
      "model_module": "@jupyter-widgets/base",
      "model_module_version": "2.0.0",
      "model_name": "LayoutModel",
      "state": {}
     },
     "26bb1104a92d4378944132e579c43603": {
      "model_module": "@jupyter-widgets/controls",
      "model_module_version": "2.0.0",
      "model_name": "HBoxModel",
      "state": {
       "children": [
        "IPY_MODEL_53b8651386644a23a365f28848ee3d91",
        "IPY_MODEL_42dde0fc60da416793b2640bb37c6bec",
        "IPY_MODEL_10a7fcd2be274a458b27447f3162adfc"
       ],
       "layout": "IPY_MODEL_290b95c19cca478bae8aed9d58ec8472"
      }
     },
     "27c6ab0e1ffc47b0b5bb5f69e9608fda": {
      "model_module": "@jupyter-widgets/controls",
      "model_module_version": "2.0.0",
      "model_name": "HBoxModel",
      "state": {
       "children": [
        "IPY_MODEL_7e737bd1c2b24e65a49d414a5cc09adb",
        "IPY_MODEL_f2defccab91a4c15aed09aed923e1420",
        "IPY_MODEL_0b2c7bcd58834cd68f710a7f63a22975"
       ],
       "layout": "IPY_MODEL_53ba30c19380403e90a421d8f8b64e2f"
      }
     },
     "290b95c19cca478bae8aed9d58ec8472": {
      "model_module": "@jupyter-widgets/base",
      "model_module_version": "2.0.0",
      "model_name": "LayoutModel",
      "state": {}
     },
     "325465c40f6a443b8c3324d1db1503c0": {
      "model_module": "@jupyter-widgets/controls",
      "model_module_version": "2.0.0",
      "model_name": "HTMLStyleModel",
      "state": {
       "description_width": "",
       "font_size": null,
       "text_color": null
      }
     },
     "36968a746101449294cfe8e061ad0a49": {
      "model_module": "@jupyter-widgets/base",
      "model_module_version": "2.0.0",
      "model_name": "LayoutModel",
      "state": {}
     },
     "38b4bb58aa9e40a4a302c39e38265457": {
      "model_module": "@jupyter-widgets/base",
      "model_module_version": "2.0.0",
      "model_name": "LayoutModel",
      "state": {}
     },
     "42dde0fc60da416793b2640bb37c6bec": {
      "model_module": "@jupyter-widgets/controls",
      "model_module_version": "2.0.0",
      "model_name": "FloatProgressModel",
      "state": {
       "bar_style": "success",
       "layout": "IPY_MODEL_f9e055b60add4b779678fbe656183cd1",
       "max": 18703,
       "style": "IPY_MODEL_484e165372414aaabbd0e5e95ee93b0c",
       "value": 18703
      }
     },
     "45516e20628343ebbb5601952bb7bb27": {
      "model_module": "@jupyter-widgets/controls",
      "model_module_version": "2.0.0",
      "model_name": "HTMLStyleModel",
      "state": {
       "description_width": "",
       "font_size": null,
       "text_color": null
      }
     },
     "484e165372414aaabbd0e5e95ee93b0c": {
      "model_module": "@jupyter-widgets/controls",
      "model_module_version": "2.0.0",
      "model_name": "ProgressStyleModel",
      "state": {
       "description_width": ""
      }
     },
     "4c53941f5a094193a648495f72f4f4db": {
      "model_module": "@jupyter-widgets/controls",
      "model_module_version": "2.0.0",
      "model_name": "HTMLModel",
      "state": {
       "layout": "IPY_MODEL_6f2324bbf66a4ded865684ba1d5df693",
       "style": "IPY_MODEL_89229ceff1194a87b0fd561d408c71cc",
       "value": "Insert Embeddings: 100%"
      }
     },
     "53b8651386644a23a365f28848ee3d91": {
      "model_module": "@jupyter-widgets/controls",
      "model_module_version": "2.0.0",
      "model_name": "HTMLModel",
      "state": {
       "layout": "IPY_MODEL_61a44bec36394e6283c55418120252f3",
       "style": "IPY_MODEL_ff540025c9fa45cc80194abb22538d6d",
       "value": "Insert Embeddings: 100%"
      }
     },
     "53ba30c19380403e90a421d8f8b64e2f": {
      "model_module": "@jupyter-widgets/base",
      "model_module_version": "2.0.0",
      "model_name": "LayoutModel",
      "state": {}
     },
     "5a6a928bd7bd440d936decc3e5d2d9bc": {
      "model_module": "@jupyter-widgets/base",
      "model_module_version": "2.0.0",
      "model_name": "LayoutModel",
      "state": {}
     },
     "5bd839d7234f41bd90bc0f3579c71011": {
      "model_module": "@jupyter-widgets/base",
      "model_module_version": "2.0.0",
      "model_name": "LayoutModel",
      "state": {}
     },
     "61a44bec36394e6283c55418120252f3": {
      "model_module": "@jupyter-widgets/base",
      "model_module_version": "2.0.0",
      "model_name": "LayoutModel",
      "state": {}
     },
     "6f2324bbf66a4ded865684ba1d5df693": {
      "model_module": "@jupyter-widgets/base",
      "model_module_version": "2.0.0",
      "model_name": "LayoutModel",
      "state": {}
     },
     "70bc1c59536140518a2bbb8f1290974b": {
      "model_module": "@jupyter-widgets/controls",
      "model_module_version": "2.0.0",
      "model_name": "HTMLStyleModel",
      "state": {
       "description_width": "",
       "font_size": null,
       "text_color": null
      }
     },
     "7bfe7ed86504482bac5ea3edb467d8c2": {
      "model_module": "@jupyter-widgets/controls",
      "model_module_version": "2.0.0",
      "model_name": "ProgressStyleModel",
      "state": {
       "description_width": ""
      }
     },
     "7e737bd1c2b24e65a49d414a5cc09adb": {
      "model_module": "@jupyter-widgets/controls",
      "model_module_version": "2.0.0",
      "model_name": "HTMLModel",
      "state": {
       "layout": "IPY_MODEL_5a6a928bd7bd440d936decc3e5d2d9bc",
       "style": "IPY_MODEL_45516e20628343ebbb5601952bb7bb27",
       "value": "Insert Embeddings: 100%"
      }
     },
     "8625daba684f476bad002c499e538d53": {
      "model_module": "@jupyter-widgets/base",
      "model_module_version": "2.0.0",
      "model_name": "LayoutModel",
      "state": {}
     },
     "89229ceff1194a87b0fd561d408c71cc": {
      "model_module": "@jupyter-widgets/controls",
      "model_module_version": "2.0.0",
      "model_name": "HTMLStyleModel",
      "state": {
       "description_width": "",
       "font_size": null,
       "text_color": null
      }
     },
     "95460abb6ad94e29b5c37030cf2df8c1": {
      "model_module": "@jupyter-widgets/controls",
      "model_module_version": "2.0.0",
      "model_name": "HTMLStyleModel",
      "state": {
       "description_width": "",
       "font_size": null,
       "text_color": null
      }
     },
     "9ed82ef4882c4efa87ca13d185a5140f": {
      "model_module": "@jupyter-widgets/controls",
      "model_module_version": "2.0.0",
      "model_name": "FloatProgressModel",
      "state": {
       "bar_style": "success",
       "layout": "IPY_MODEL_1cf8d4ab7c184cdeb782945fe61bb7fb",
       "max": 18703,
       "style": "IPY_MODEL_7bfe7ed86504482bac5ea3edb467d8c2",
       "value": 18703
      }
     },
     "ab0ab2d9b71f4bc5a118f10822e224f4": {
      "model_module": "@jupyter-widgets/controls",
      "model_module_version": "2.0.0",
      "model_name": "HBoxModel",
      "state": {
       "children": [
        "IPY_MODEL_4c53941f5a094193a648495f72f4f4db",
        "IPY_MODEL_9ed82ef4882c4efa87ca13d185a5140f",
        "IPY_MODEL_f189bc0ba33f479da183fef3f66129cd"
       ],
       "layout": "IPY_MODEL_070224b0e57f4fa8853bd90f70bda7da"
      }
     },
     "b000479c9f1842b79623fab5f4307c1c": {
      "model_module": "@jupyter-widgets/controls",
      "model_module_version": "2.0.0",
      "model_name": "HBoxModel",
      "state": {
       "children": [
        "IPY_MODEL_dd139bb9c09c4c64943ad4dd4c53b211",
        "IPY_MODEL_fbd0a8fc67204ffc82a9346e3815e3a1",
        "IPY_MODEL_c3daaa93c1d34195823665110ccec394"
       ],
       "layout": "IPY_MODEL_cdf9a22368b2470ea00d52e293e111a6"
      }
     },
     "bc0de5b4a9614db39d1b8e0d693aef6a": {
      "model_module": "@jupyter-widgets/controls",
      "model_module_version": "2.0.0",
      "model_name": "ProgressStyleModel",
      "state": {
       "description_width": ""
      }
     },
     "be7a65c1a30e4045b5170af21216cf9b": {
      "model_module": "@jupyter-widgets/controls",
      "model_module_version": "2.0.0",
      "model_name": "HTMLStyleModel",
      "state": {
       "description_width": "",
       "font_size": null,
       "text_color": null
      }
     },
     "c3daaa93c1d34195823665110ccec394": {
      "model_module": "@jupyter-widgets/controls",
      "model_module_version": "2.0.0",
      "model_name": "HTMLModel",
      "state": {
       "layout": "IPY_MODEL_8625daba684f476bad002c499e538d53",
       "style": "IPY_MODEL_be7a65c1a30e4045b5170af21216cf9b",
       "value": " 18703/18703 [00:16&lt;00:00, 1019.02it/s]"
      }
     },
     "cdf9a22368b2470ea00d52e293e111a6": {
      "model_module": "@jupyter-widgets/base",
      "model_module_version": "2.0.0",
      "model_name": "LayoutModel",
      "state": {}
     },
     "d31e343a37c44a8890e60dfa2ae699b1": {
      "model_module": "@jupyter-widgets/base",
      "model_module_version": "2.0.0",
      "model_name": "LayoutModel",
      "state": {}
     },
     "dd139bb9c09c4c64943ad4dd4c53b211": {
      "model_module": "@jupyter-widgets/controls",
      "model_module_version": "2.0.0",
      "model_name": "HTMLModel",
      "state": {
       "layout": "IPY_MODEL_d31e343a37c44a8890e60dfa2ae699b1",
       "style": "IPY_MODEL_325465c40f6a443b8c3324d1db1503c0",
       "value": "Insert Embeddings: 100%"
      }
     },
     "de5b2de4559645619e716cb210b8a543": {
      "model_module": "@jupyter-widgets/base",
      "model_module_version": "2.0.0",
      "model_name": "LayoutModel",
      "state": {}
     },
     "e3bb1b0b82954d73b8c3211ad0737506": {
      "model_module": "@jupyter-widgets/controls",
      "model_module_version": "2.0.0",
      "model_name": "HTMLStyleModel",
      "state": {
       "description_width": "",
       "font_size": null,
       "text_color": null
      }
     },
     "f189bc0ba33f479da183fef3f66129cd": {
      "model_module": "@jupyter-widgets/controls",
      "model_module_version": "2.0.0",
      "model_name": "HTMLModel",
      "state": {
       "layout": "IPY_MODEL_36968a746101449294cfe8e061ad0a49",
       "style": "IPY_MODEL_70bc1c59536140518a2bbb8f1290974b",
       "value": " 18703/18703 [00:15&lt;00:00, 1036.53it/s]"
      }
     },
     "f2defccab91a4c15aed09aed923e1420": {
      "model_module": "@jupyter-widgets/controls",
      "model_module_version": "2.0.0",
      "model_name": "FloatProgressModel",
      "state": {
       "bar_style": "success",
       "layout": "IPY_MODEL_38b4bb58aa9e40a4a302c39e38265457",
       "max": 18703,
       "style": "IPY_MODEL_bc0de5b4a9614db39d1b8e0d693aef6a",
       "value": 18703
      }
     },
     "f9e055b60add4b779678fbe656183cd1": {
      "model_module": "@jupyter-widgets/base",
      "model_module_version": "2.0.0",
      "model_name": "LayoutModel",
      "state": {}
     },
     "fbd0a8fc67204ffc82a9346e3815e3a1": {
      "model_module": "@jupyter-widgets/controls",
      "model_module_version": "2.0.0",
      "model_name": "FloatProgressModel",
      "state": {
       "bar_style": "success",
       "layout": "IPY_MODEL_5bd839d7234f41bd90bc0f3579c71011",
       "max": 18703,
       "style": "IPY_MODEL_19077611cbae40f5b74f3806f3a53fc1",
       "value": 18703
      }
     },
     "ff540025c9fa45cc80194abb22538d6d": {
      "model_module": "@jupyter-widgets/controls",
      "model_module_version": "2.0.0",
      "model_name": "HTMLStyleModel",
      "state": {
       "description_width": "",
       "font_size": null,
       "text_color": null
      }
     }
    },
    "version_major": 2,
    "version_minor": 0
   }
  }
 },
 "nbformat": 4,
 "nbformat_minor": 5
}
