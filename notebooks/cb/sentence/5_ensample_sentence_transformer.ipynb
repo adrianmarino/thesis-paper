{
 "cells": [
  {
   "cell_type": "markdown",
   "id": "0417277b-47df-4113-a7b3-8f960db06f1d",
   "metadata": {
    "tags": []
   },
   "source": [
    "# Ensemple CB recommender based on Sentence Transformers"
   ]
  },
  {
   "cell_type": "code",
   "execution_count": 1,
   "id": "f6d757cd-805f-4956-a6f7-d098237a10de",
   "metadata": {
    "tags": []
   },
   "outputs": [],
   "source": [
    "%load_ext autoreload\n",
    "%autoreload 2"
   ]
  },
  {
   "cell_type": "code",
   "execution_count": 2,
   "id": "3c05351e-a588-40cc-8279-dde46563994f",
   "metadata": {
    "tags": []
   },
   "outputs": [],
   "source": [
    "BASE_PATH        = '../../..'\n",
    "LIB_PATH         = f'{BASE_PATH}/lib'\n",
    "DATASET_PATH     = f'{BASE_PATH}/datasets'"
   ]
  },
  {
   "cell_type": "code",
   "execution_count": 4,
   "id": "f98e7bf4-f41a-43f6-b7b7-a991d00f82de",
   "metadata": {
    "tags": []
   },
   "outputs": [],
   "source": [
    "import sys\n",
    "sys.path.append(LIB_PATH)\n",
    "\n",
    "import torch\n",
    "import numpy as np\n",
    "import pandas as pd\n",
    "\n",
    "import pytorch_common.util as pu\n",
    "\n",
    "import logging\n",
    "import data as dt\n",
    "import data.dataset as ds\n",
    "\n",
    "from recommender import ItemRecommenderBuilder, item_rec_sys_cfg"
   ]
  },
  {
   "cell_type": "markdown",
   "id": "40c1da33-a8da-47c9-b174-0b0885b05b50",
   "metadata": {},
   "source": [
    "## Setup"
   ]
  },
  {
   "cell_type": "code",
   "execution_count": 5,
   "id": "e60a3838-9787-411d-b9f1-8a942321cbb1",
   "metadata": {
    "tags": []
   },
   "outputs": [
    {
     "data": {
      "text/plain": [
       "<RootLogger root (INFO)>"
      ]
     },
     "execution_count": 5,
     "metadata": {},
     "output_type": "execute_result"
    }
   ],
   "source": [
    "pu.LoggerBuilder().on_console().build()"
   ]
  },
  {
   "cell_type": "code",
   "execution_count": 6,
   "id": "9fd7574f-043a-4fc3-8ab8-bfd55b6a92d8",
   "metadata": {
    "tags": []
   },
   "outputs": [
    {
     "data": {
      "text/plain": [
       "(device(type='cuda', index=0),\n",
       " True,\n",
       " '1.11.0',\n",
       " ['sm_37',\n",
       "  'sm_50',\n",
       "  'sm_60',\n",
       "  'sm_61',\n",
       "  'sm_70',\n",
       "  'sm_75',\n",
       "  'sm_80',\n",
       "  'sm_86',\n",
       "  'compute_37'])"
      ]
     },
     "execution_count": 6,
     "metadata": {},
     "output_type": "execute_result"
    }
   ],
   "source": [
    "pu.set_device_name('gpu')\n",
    "\n",
    "pu.get_device(), torch.cuda.is_available(), torch.__version__, torch.cuda.get_arch_list()"
   ]
  },
  {
   "cell_type": "code",
   "execution_count": 7,
   "id": "67bdad0a-d4c4-4daf-8612-3a2ff815bcbf",
   "metadata": {
    "tags": []
   },
   "outputs": [],
   "source": [
    "TITLE_REC_SYS_CFG    = item_rec_sys_cfg(DATASET_PATH, 'title',    'all-roberta-large-v1')\n",
    "TAGS_REC_SYS_CFG     = item_rec_sys_cfg(DATASET_PATH, 'tags',     'all-roberta-large-v1')\n",
    "GENRES_REC_SYS_CFG   = item_rec_sys_cfg(DATASET_PATH, 'genres',   'all-roberta-large-v1')\n",
    "OVERVIEW_REC_SYS_CFG = item_rec_sys_cfg(DATASET_PATH, 'overview', 'all-mpnet-base-v2')"
   ]
  },
  {
   "cell_type": "markdown",
   "id": "d43c9369-047c-45ea-863c-304319bc63f0",
   "metadata": {},
   "source": [
    "## Evaluación"
   ]
  },
  {
   "cell_type": "code",
   "execution_count": 8,
   "id": "5035ae74-f1fd-4eb2-b989-99b6957de0f4",
   "metadata": {
    "tags": []
   },
   "outputs": [
    {
     "name": "stderr",
     "output_type": "stream",
     "text": [
      "2023-05-03 22:47:56,142 - WARNING - No embedding_function provided, using default embedding function: SentenceTransformerEmbeddingFunction\n",
      "2023-05-03 22:47:56,329 - INFO - Load pretrained SentenceTransformer: all-MiniLM-L6-v2\n",
      "2023-05-03 22:47:56,496 - INFO - Use pytorch device: cuda\n",
      "2023-05-03 22:48:28,985 - WARNING - No embedding_function provided, using default embedding function: SentenceTransformerEmbeddingFunction\n",
      "2023-05-03 22:48:28,985 - INFO - Load pretrained SentenceTransformer: all-MiniLM-L6-v2\n",
      "2023-05-03 22:48:29,101 - INFO - Use pytorch device: cuda\n",
      "2023-05-03 22:49:01,615 - WARNING - No embedding_function provided, using default embedding function: SentenceTransformerEmbeddingFunction\n",
      "2023-05-03 22:49:01,615 - INFO - Load pretrained SentenceTransformer: all-MiniLM-L6-v2\n",
      "2023-05-03 22:49:01,733 - INFO - Use pytorch device: cuda\n",
      "2023-05-03 22:49:35,019 - WARNING - No embedding_function provided, using default embedding function: SentenceTransformerEmbeddingFunction\n",
      "2023-05-03 22:49:35,020 - INFO - Load pretrained SentenceTransformer: all-MiniLM-L6-v2\n",
      "2023-05-03 22:49:35,136 - INFO - Use pytorch device: cuda\n"
     ]
    }
   ],
   "source": [
    "builder = ItemRecommenderBuilder(\n",
    "    DATASET_PATH, \n",
    "    [TITLE_REC_SYS_CFG, TAGS_REC_SYS_CFG, GENRES_REC_SYS_CFG, OVERVIEW_REC_SYS_CFG]\n",
    ")"
   ]
  },
  {
   "cell_type": "code",
   "execution_count": 9,
   "id": "09a16458-9c13-404d-a0af-36510483fde5",
   "metadata": {
    "tags": []
   },
   "outputs": [
    {
     "data": {
      "text/plain": [
       "{'ids': [['1', '3114', '78499']],\n",
       " 'embeddings': None,\n",
       " 'documents': None,\n",
       " 'metadatas': [[{'title': 'Toy Story',\n",
       "    'release_year': 1995,\n",
       "    'imdb_id': 114709,\n",
       "    'title_tokens': 'toy story'},\n",
       "   {'title': 'Toy Story 2',\n",
       "    'release_year': 1999,\n",
       "    'imdb_id': 120363,\n",
       "    'title_tokens': 'toy story'},\n",
       "   {'title': 'Toy Story 3',\n",
       "    'release_year': 2010,\n",
       "    'imdb_id': 435761,\n",
       "    'title_tokens': 'toy story'}]],\n",
       " 'distances': [[0.0, 0.12047415971755981, 0.1525389850139618]]}"
      ]
     },
     "execution_count": 9,
     "metadata": {},
     "output_type": "execute_result"
    }
   ],
   "source": [
    "title_repo = builder.repositories[TITLE_REC_SYS_CFG.name]\n",
    "\n",
    "result = title_repo.search_by_ids([1])\n",
    "toy_story_emb = result['embeddings'][0]\n",
    "\n",
    "title_repo.search_sims(embs=[toy_story_emb], limit=3)"
   ]
  },
  {
   "cell_type": "code",
   "execution_count": 10,
   "id": "5ae08ca9-e38e-4b9e-9c1e-be3d0486a1db",
   "metadata": {
    "tags": []
   },
   "outputs": [],
   "source": [
    "user_ids = builder.repositories.dataset.users_id_from_movie_id(movie_id=1) "
   ]
  },
  {
   "cell_type": "code",
   "execution_count": 11,
   "id": "aaccada2-833d-4b98-9184-500818994d40",
   "metadata": {
    "tags": []
   },
   "outputs": [
    {
     "data": {
      "text/html": [
       "<table border=\"1\" class=\"dataframe\">\n",
       "  <thead>\n",
       "    <tr style=\"text-align: right;\">\n",
       "      <th></th>\n",
       "      <th>Similarity</th>\n",
       "      <th>Rating</th>\n",
       "      <th>.</th>\n",
       "      <th>Recommended Movies</th>\n",
       "      <th>..</th>\n",
       "      <th>Already seen movies</th>\n",
       "      <th>Rating</th>\n",
       "    </tr>\n",
       "  </thead>\n",
       "  <tbody>\n",
       "    <tr>\n",
       "      <th>0</th>\n",
       "      <td>0.35</td>\n",
       "      <td>3.0</td>\n",
       "      <td>We Recommend ==></td>\n",
       "      <td><img src=\"https://m.media-amazon.com/images/M/MV5BMTUxNDc0MTQzMV5BMl5BanBnXkFtZTgwNTMwNzQ4NDE@._V1_SX300.jpg\" width=\"300\" ></td>\n",
       "      <td>==> Because You Saw ==></td>\n",
       "      <td><img src=\"https://m.media-amazon.com/images/M/MV5BYjhlMGYxNmMtOWFmMi00Y2M2LWE5NWYtZTdlMDRlMGEzMDA3XkEyXkFqcGdeQXVyMTQxNzMzNDI@._V1_SX300.jpg\" width=\"300\" ></td>\n",
       "      <td>3.5</td>\n",
       "    </tr>\n",
       "    <tr>\n",
       "      <th>1</th>\n",
       "      <td>0.26</td>\n",
       "      <td>4.1</td>\n",
       "      <td>We Recommend ==></td>\n",
       "      <td><img src=\"https://m.media-amazon.com/images/M/MV5BZmU0M2Y1OGUtZjIxNi00ZjBkLTg1MjgtOWIyNThiZWIwYjRiXkEyXkFqcGdeQXVyMTQxNzMzNDI@._V1_SX300.jpg\" width=\"300\" ></td>\n",
       "      <td>==> Because You Saw ==></td>\n",
       "      <td><img src=\"https://m.media-amazon.com/images/M/MV5BYjhlMGYxNmMtOWFmMi00Y2M2LWE5NWYtZTdlMDRlMGEzMDA3XkEyXkFqcGdeQXVyMTQxNzMzNDI@._V1_SX300.jpg\" width=\"300\" ></td>\n",
       "      <td>3.5</td>\n",
       "    </tr>\n",
       "    <tr>\n",
       "      <th>2</th>\n",
       "      <td>0.34</td>\n",
       "      <td>4.5</td>\n",
       "      <td>We Recommend ==></td>\n",
       "      <td><img src=\"https://m.media-amazon.com/images/M/MV5BODMzYmI3MjgtNDY4MS00YzVjLTg0MDctYzVlZDM2MmRlMmZjXkEyXkFqcGdeQXVyMjQ1NjEyNzE@._V1_SX300.jpg\" width=\"300\" ></td>\n",
       "      <td>==> Because You Saw ==></td>\n",
       "      <td><img src=\"https://m.media-amazon.com/images/M/MV5BZjI3ZmFmNGItZjkwOC00OGU5LWFkZjctNWRkZmM4OWY5Yzk5XkEyXkFqcGdeQXVyMTA4NjE0NjEy._V1_SX300.jpg\" width=\"300\" ></td>\n",
       "      <td>3.0</td>\n",
       "    </tr>\n",
       "    <tr>\n",
       "      <th>3</th>\n",
       "      <td>0.29</td>\n",
       "      <td>3.0</td>\n",
       "      <td>We Recommend ==></td>\n",
       "      <td><img src=\"https://m.media-amazon.com/images/M/MV5BYzczODBlNmQtNjJmYS00Y2Y3LWEwMTEtYWE2ODBkNjYxNDM0XkEyXkFqcGdeQXVyNjQ2MjQ5NzM@._V1_SX300.jpg\" width=\"300\" ></td>\n",
       "      <td>==> Because You Saw ==></td>\n",
       "      <td><img src=\"https://m.media-amazon.com/images/M/MV5BZjI3ZmFmNGItZjkwOC00OGU5LWFkZjctNWRkZmM4OWY5Yzk5XkEyXkFqcGdeQXVyMTA4NjE0NjEy._V1_SX300.jpg\" width=\"300\" ></td>\n",
       "      <td>3.0</td>\n",
       "    </tr>\n",
       "    <tr>\n",
       "      <th>4</th>\n",
       "      <td>0.39</td>\n",
       "      <td>2.6</td>\n",
       "      <td>We Recommend ==></td>\n",
       "      <td><img src=\"https://m.media-amazon.com/images/M/MV5BMTEwNTU3NzM2NDJeQTJeQWpwZ15BbWU2MDY2ODcyNw@@._V1_SX300.jpg\" width=\"300\" ></td>\n",
       "      <td>==> Because You Saw ==></td>\n",
       "      <td><img src=\"https://m.media-amazon.com/images/M/MV5BMmNjY2NmZjktZTFjZS00ODUzLWE3ZjQtZjk5N2Q2NDJlZjEwXkEyXkFqcGdeQXVyMTY5Nzc4MDY@._V1_SX300.jpg\" width=\"300\" ></td>\n",
       "      <td>1.0</td>\n",
       "    </tr>\n",
       "  </tbody>\n",
       "</table>"
      ],
      "text/plain": [
       "<IPython.core.display.HTML object>"
      ]
     },
     "metadata": {},
     "output_type": "display_data"
    }
   ],
   "source": [
    "builder \\\n",
    "    .personalized_item_recommender(\n",
    "        OVERVIEW_REC_SYS_CFG.name,\n",
    "        n_top_rated_user_items=20,\n",
    "        n_sim_items=3\n",
    "    ) \\\n",
    "    .recommend(user_id=user_ids[130]) \\\n",
    "    .show()"
   ]
  },
  {
   "cell_type": "code",
   "execution_count": 12,
   "id": "4a2d75b7-3be7-4d5a-bfcf-3dcd12e854ea",
   "metadata": {
    "tags": []
   },
   "outputs": [
    {
     "data": {
      "text/html": [
       "<table border=\"1\" class=\"dataframe\">\n",
       "  <thead>\n",
       "    <tr style=\"text-align: right;\">\n",
       "      <th></th>\n",
       "      <th>Similarity</th>\n",
       "      <th>Rating</th>\n",
       "      <th>.</th>\n",
       "      <th>Recommended Movies</th>\n",
       "      <th>..</th>\n",
       "      <th>Already seen movies</th>\n",
       "      <th>Rating</th>\n",
       "    </tr>\n",
       "  </thead>\n",
       "  <tbody>\n",
       "    <tr>\n",
       "      <th>0</th>\n",
       "      <td>0.87</td>\n",
       "      <td>3.6</td>\n",
       "      <td>We Recommend ==></td>\n",
       "      <td><img src=\"https://m.media-amazon.com/images/M/MV5BZTMxMGM5MjItNDJhNy00MWI2LWJlZWMtOWFhMjI5ZTQwMWM3XkEyXkFqcGdeQXVyMTQxNzMzNDI@._V1_SX300.jpg\" width=\"300\" ></td>\n",
       "      <td>==> Because You Saw ==></td>\n",
       "      <td><img src=\"https://m.media-amazon.com/images/M/MV5BYjhlMGYxNmMtOWFmMi00Y2M2LWE5NWYtZTdlMDRlMGEzMDA3XkEyXkFqcGdeQXVyMTQxNzMzNDI@._V1_SX300.jpg\" width=\"300\" ></td>\n",
       "      <td>3.5</td>\n",
       "    </tr>\n",
       "    <tr>\n",
       "      <th>1</th>\n",
       "      <td>0.56</td>\n",
       "      <td>4.1</td>\n",
       "      <td>We Recommend ==></td>\n",
       "      <td><img src=\"https://m.media-amazon.com/images/M/MV5BZmU0M2Y1OGUtZjIxNi00ZjBkLTg1MjgtOWIyNThiZWIwYjRiXkEyXkFqcGdeQXVyMTQxNzMzNDI@._V1_SX300.jpg\" width=\"300\" ></td>\n",
       "      <td>==> Because You Saw ==></td>\n",
       "      <td><img src=\"https://m.media-amazon.com/images/M/MV5BYjhlMGYxNmMtOWFmMi00Y2M2LWE5NWYtZTdlMDRlMGEzMDA3XkEyXkFqcGdeQXVyMTQxNzMzNDI@._V1_SX300.jpg\" width=\"300\" ></td>\n",
       "      <td>3.5</td>\n",
       "    </tr>\n",
       "    <tr>\n",
       "      <th>2</th>\n",
       "      <td>0.63</td>\n",
       "      <td>3.0</td>\n",
       "      <td>We Recommend ==></td>\n",
       "      <td><img src=\"https://m.media-amazon.com/images/M/MV5BNzBmNWNkYTAtYTNhZi00ZjAxLTkzNGQtODk1OTkwZDRmMTJmL2ltYWdlL2ltYWdlXkEyXkFqcGdeQXVyNjc1NTYyMjg@._V1_SX300.jpg\" width=\"300\" ></td>\n",
       "      <td>==> Because You Saw ==></td>\n",
       "      <td><img src=\"https://m.media-amazon.com/images/M/MV5BZjI3ZmFmNGItZjkwOC00OGU5LWFkZjctNWRkZmM4OWY5Yzk5XkEyXkFqcGdeQXVyMTA4NjE0NjEy._V1_SX300.jpg\" width=\"300\" ></td>\n",
       "      <td>3.0</td>\n",
       "    </tr>\n",
       "    <tr>\n",
       "      <th>3</th>\n",
       "      <td>0.48</td>\n",
       "      <td>3.3</td>\n",
       "      <td>We Recommend ==></td>\n",
       "      <td><img src=\"https://m.media-amazon.com/images/M/MV5BZWMwNTk5ZTgtOGU3OC00MGFlLTk4MWItN2Y0YTUwMGJjN2Q2XkEyXkFqcGdeQXVyODM3NzY4NzY@._V1_SX300.jpg\" width=\"300\" ></td>\n",
       "      <td>==> Because You Saw ==></td>\n",
       "      <td><img src=\"https://m.media-amazon.com/images/M/MV5BZjI3ZmFmNGItZjkwOC00OGU5LWFkZjctNWRkZmM4OWY5Yzk5XkEyXkFqcGdeQXVyMTA4NjE0NjEy._V1_SX300.jpg\" width=\"300\" ></td>\n",
       "      <td>3.0</td>\n",
       "    </tr>\n",
       "  </tbody>\n",
       "</table>"
      ],
      "text/plain": [
       "<IPython.core.display.HTML object>"
      ]
     },
     "metadata": {},
     "output_type": "display_data"
    }
   ],
   "source": [
    "builder \\\n",
    "    .personalized_item_recommender(TITLE_REC_SYS_CFG.name) \\\n",
    "    .recommend(user_id=user_ids[130]) \\\n",
    "    .show()"
   ]
  },
  {
   "cell_type": "code",
   "execution_count": 13,
   "id": "727e8bc2-5eab-4502-8097-70e2fcc91cec",
   "metadata": {
    "tags": []
   },
   "outputs": [
    {
     "data": {
      "text/html": [
       "<table border=\"1\" class=\"dataframe\">\n",
       "  <thead>\n",
       "    <tr style=\"text-align: right;\">\n",
       "      <th></th>\n",
       "      <th>Similarity</th>\n",
       "      <th>Rating</th>\n",
       "      <th>.</th>\n",
       "      <th>Recommended Movies</th>\n",
       "      <th>..</th>\n",
       "      <th>Already seen movies</th>\n",
       "      <th>Rating</th>\n",
       "    </tr>\n",
       "  </thead>\n",
       "  <tbody>\n",
       "    <tr>\n",
       "      <th>0</th>\n",
       "      <td>0.92</td>\n",
       "      <td>2.0</td>\n",
       "      <td>We Recommend ==></td>\n",
       "      <td><img src=\"https://m.media-amazon.com/images/M/MV5BYmYyMTc4YjItMGNhNC00OWQwLWJhMWUtNTdjZDgxMDI5MjE2L2ltYWdlXkEyXkFqcGdeQXVyMTQxNzMzNDI@._V1_SX300.jpg\" width=\"300\" ></td>\n",
       "      <td>==> Because You Saw ==></td>\n",
       "      <td><img src=\"https://m.media-amazon.com/images/M/MV5BYjhlMGYxNmMtOWFmMi00Y2M2LWE5NWYtZTdlMDRlMGEzMDA3XkEyXkFqcGdeQXVyMTQxNzMzNDI@._V1_SX300.jpg\" width=\"300\" ></td>\n",
       "      <td>3.5</td>\n",
       "    </tr>\n",
       "    <tr>\n",
       "      <th>1</th>\n",
       "      <td>0.91</td>\n",
       "      <td>2.5</td>\n",
       "      <td>We Recommend ==></td>\n",
       "      <td><img src=\"https://m.media-amazon.com/images/M/MV5BMjc0N2RjOTItOGUwMi00NTYzLWExMGUtYzlmYTVjOTQ3ZGJhXkEyXkFqcGdeQXVyNzMzMjU5NDY@._V1_SX300.jpg\" width=\"300\" ></td>\n",
       "      <td>==> Because You Saw ==></td>\n",
       "      <td><img src=\"https://m.media-amazon.com/images/M/MV5BYjhlMGYxNmMtOWFmMi00Y2M2LWE5NWYtZTdlMDRlMGEzMDA3XkEyXkFqcGdeQXVyMTQxNzMzNDI@._V1_SX300.jpg\" width=\"300\" ></td>\n",
       "      <td>3.5</td>\n",
       "    </tr>\n",
       "  </tbody>\n",
       "</table>"
      ],
      "text/plain": [
       "<IPython.core.display.HTML object>"
      ]
     },
     "metadata": {},
     "output_type": "display_data"
    }
   ],
   "source": [
    "builder \\\n",
    "    .personalized_item_recommender(GENRES_REC_SYS_CFG.name) \\\n",
    "    .recommend(user_id=user_ids[130]) \\\n",
    "    .show()"
   ]
  },
  {
   "cell_type": "code",
   "execution_count": 14,
   "id": "6796c885-750d-4b3f-b38f-3f6bdab40be0",
   "metadata": {
    "tags": []
   },
   "outputs": [
    {
     "data": {
      "text/html": [
       "<table border=\"1\" class=\"dataframe\">\n",
       "  <thead>\n",
       "    <tr style=\"text-align: right;\">\n",
       "      <th></th>\n",
       "      <th>Similarity</th>\n",
       "      <th>Rating</th>\n",
       "      <th>.</th>\n",
       "      <th>Recommended Movies</th>\n",
       "      <th>..</th>\n",
       "      <th>Already seen movies</th>\n",
       "      <th>Rating</th>\n",
       "    </tr>\n",
       "  </thead>\n",
       "  <tbody>\n",
       "    <tr>\n",
       "      <th>0</th>\n",
       "      <td>0.49</td>\n",
       "      <td>3.6</td>\n",
       "      <td>We Recommend ==></td>\n",
       "      <td><img src=\"https://m.media-amazon.com/images/M/MV5BZTMxMGM5MjItNDJhNy00MWI2LWJlZWMtOWFhMjI5ZTQwMWM3XkEyXkFqcGdeQXVyMTQxNzMzNDI@._V1_SX300.jpg\" width=\"300\" ></td>\n",
       "      <td>==> Because You Saw ==></td>\n",
       "      <td><img src=\"https://m.media-amazon.com/images/M/MV5BYjhlMGYxNmMtOWFmMi00Y2M2LWE5NWYtZTdlMDRlMGEzMDA3XkEyXkFqcGdeQXVyMTQxNzMzNDI@._V1_SX300.jpg\" width=\"300\" ></td>\n",
       "      <td>3.5</td>\n",
       "    </tr>\n",
       "    <tr>\n",
       "      <th>1</th>\n",
       "      <td>0.46</td>\n",
       "      <td>3.2</td>\n",
       "      <td>We Recommend ==></td>\n",
       "      <td><img src=\"https://m.media-amazon.com/images/M/MV5BYzg5YmUyNGMtMThiNS00MjA2LTgwZDctNDlhM2RkZDNmZmRkXkEyXkFqcGdeQXVyNDk3NzU2MTQ@._V1_SX300.jpg\" width=\"300\" ></td>\n",
       "      <td>==> Because You Saw ==></td>\n",
       "      <td><img src=\"https://m.media-amazon.com/images/M/MV5BYjhlMGYxNmMtOWFmMi00Y2M2LWE5NWYtZTdlMDRlMGEzMDA3XkEyXkFqcGdeQXVyMTQxNzMzNDI@._V1_SX300.jpg\" width=\"300\" ></td>\n",
       "      <td>3.5</td>\n",
       "    </tr>\n",
       "    <tr>\n",
       "      <th>2</th>\n",
       "      <td>0.12</td>\n",
       "      <td>3.0</td>\n",
       "      <td>We Recommend ==></td>\n",
       "      <td><img src=\"https://m.media-amazon.com/images/M/MV5BOTM0ZWM1ZTQtYjM2Yi00MGU2LTgyNjAtOWMwZjdlNGY0MmFhXkEyXkFqcGdeQXVyNTk1MTk0MDI@._V1_SX300.jpg\" width=\"300\" ></td>\n",
       "      <td>==> Because You Saw ==></td>\n",
       "      <td><img src=\"https://m.media-amazon.com/images/M/MV5BZjI3ZmFmNGItZjkwOC00OGU5LWFkZjctNWRkZmM4OWY5Yzk5XkEyXkFqcGdeQXVyMTA4NjE0NjEy._V1_SX300.jpg\" width=\"300\" ></td>\n",
       "      <td>3.0</td>\n",
       "    </tr>\n",
       "    <tr>\n",
       "      <th>3</th>\n",
       "      <td>0.09</td>\n",
       "      <td>3.0</td>\n",
       "      <td>We Recommend ==></td>\n",
       "      <td><img src=\"https://m.media-amazon.com/images/M/MV5BY2EzOTZkMzQtMTE0NC00ZGI0LWJiOTctODRmNGI1YjcyMGU3XkEyXkFqcGdeQXVyODkxNTMxOTM@._V1_SX300.jpg\" width=\"300\" ></td>\n",
       "      <td>==> Because You Saw ==></td>\n",
       "      <td><img src=\"https://m.media-amazon.com/images/M/MV5BZjI3ZmFmNGItZjkwOC00OGU5LWFkZjctNWRkZmM4OWY5Yzk5XkEyXkFqcGdeQXVyMTA4NjE0NjEy._V1_SX300.jpg\" width=\"300\" ></td>\n",
       "      <td>3.0</td>\n",
       "    </tr>\n",
       "  </tbody>\n",
       "</table>"
      ],
      "text/plain": [
       "<IPython.core.display.HTML object>"
      ]
     },
     "metadata": {},
     "output_type": "display_data"
    }
   ],
   "source": [
    "builder \\\n",
    "    .personalized_item_recommender(TAGS_REC_SYS_CFG.name) \\\n",
    "    .recommend(user_id=user_ids[130]) \\\n",
    "    .show()"
   ]
  },
  {
   "cell_type": "code",
   "execution_count": 15,
   "id": "82b0b1e7-313a-4ad3-a685-162fb9c387de",
   "metadata": {
    "tags": []
   },
   "outputs": [
    {
     "data": {
      "text/html": [
       "<table border=\"1\" class=\"dataframe\">\n",
       "  <thead>\n",
       "    <tr style=\"text-align: right;\">\n",
       "      <th></th>\n",
       "      <th>Rating</th>\n",
       "      <th>Recommended Movies</th>\n",
       "      <th>Similarity</th>\n",
       "    </tr>\n",
       "  </thead>\n",
       "  <tbody>\n",
       "    <tr>\n",
       "      <th>6</th>\n",
       "      <td>4.5</td>\n",
       "      <td><img src=\"https://m.media-amazon.com/images/M/MV5BODMzYmI3MjgtNDY4MS00YzVjLTg0MDctYzVlZDM2MmRlMmZjXkEyXkFqcGdeQXVyMjQ1NjEyNzE@._V1_SX300.jpg\" width=\"300\" ></td>\n",
       "      <td>0.94</td>\n",
       "    </tr>\n",
       "    <tr>\n",
       "      <th>0</th>\n",
       "      <td>4.1</td>\n",
       "      <td><img src=\"https://m.media-amazon.com/images/M/MV5BZmU0M2Y1OGUtZjIxNi00ZjBkLTg1MjgtOWIyNThiZWIwYjRiXkEyXkFqcGdeQXVyMTQxNzMzNDI@._V1_SX300.jpg\" width=\"300\" ></td>\n",
       "      <td>0.76</td>\n",
       "    </tr>\n",
       "    <tr>\n",
       "      <th>1</th>\n",
       "      <td>3.6</td>\n",
       "      <td><img src=\"https://m.media-amazon.com/images/M/MV5BZTMxMGM5MjItNDJhNy00MWI2LWJlZWMtOWFhMjI5ZTQwMWM3XkEyXkFqcGdeQXVyMTQxNzMzNDI@._V1_SX300.jpg\" width=\"300\" ></td>\n",
       "      <td>0.97</td>\n",
       "    </tr>\n",
       "    <tr>\n",
       "      <th>4</th>\n",
       "      <td>3.3</td>\n",
       "      <td><img src=\"https://m.media-amazon.com/images/M/MV5BZWMwNTk5ZTgtOGU3OC00MGFlLTk4MWItN2Y0YTUwMGJjN2Q2XkEyXkFqcGdeQXVyODM3NzY4NzY@._V1_SX300.jpg\" width=\"300\" ></td>\n",
       "      <td>0.58</td>\n",
       "    </tr>\n",
       "    <tr>\n",
       "      <th>5</th>\n",
       "      <td>3.0</td>\n",
       "      <td><img src=\"https://m.media-amazon.com/images/M/MV5BNzBmNWNkYTAtYTNhZi00ZjAxLTkzNGQtODk1OTkwZDRmMTJmL2ltYWdlL2ltYWdlXkEyXkFqcGdeQXVyNjc1NTYyMjg@._V1_SX300.jpg\" width=\"300\" ></td>\n",
       "      <td>0.73</td>\n",
       "    </tr>\n",
       "    <tr>\n",
       "      <th>7</th>\n",
       "      <td>3.0</td>\n",
       "      <td><img src=\"https://m.media-amazon.com/images/M/MV5BYzczODBlNmQtNjJmYS00Y2Y3LWEwMTEtYWE2ODBkNjYxNDM0XkEyXkFqcGdeQXVyNjQ2MjQ5NzM@._V1_SX300.jpg\" width=\"300\" ></td>\n",
       "      <td>0.89</td>\n",
       "    </tr>\n",
       "    <tr>\n",
       "      <th>8</th>\n",
       "      <td>3.0</td>\n",
       "      <td><img src=\"https://m.media-amazon.com/images/M/MV5BMTUxNDc0MTQzMV5BMl5BanBnXkFtZTgwNTMwNzQ4NDE@._V1_SX300.jpg\" width=\"300\" ></td>\n",
       "      <td>0.95</td>\n",
       "    </tr>\n",
       "    <tr>\n",
       "      <th>3</th>\n",
       "      <td>2.5</td>\n",
       "      <td><img src=\"https://m.media-amazon.com/images/M/MV5BMjc0N2RjOTItOGUwMi00NTYzLWExMGUtYzlmYTVjOTQ3ZGJhXkEyXkFqcGdeQXVyNzMzMjU5NDY@._V1_SX300.jpg\" width=\"300\" ></td>\n",
       "      <td>1.21</td>\n",
       "    </tr>\n",
       "    <tr>\n",
       "      <th>2</th>\n",
       "      <td>2.0</td>\n",
       "      <td><img src=\"https://m.media-amazon.com/images/M/MV5BYmYyMTc4YjItMGNhNC00OWQwLWJhMWUtNTdjZDgxMDI5MjE2L2ltYWdlXkEyXkFqcGdeQXVyMTQxNzMzNDI@._V1_SX300.jpg\" width=\"300\" ></td>\n",
       "      <td>1.22</td>\n",
       "    </tr>\n",
       "  </tbody>\n",
       "</table>"
      ],
      "text/plain": [
       "<IPython.core.display.HTML object>"
      ]
     },
     "metadata": {},
     "output_type": "display_data"
    }
   ],
   "source": [
    "rc.PersonalizedItemEmbDBEnsembleRecommender(\n",
    "    recommenders=[\n",
    "        builder.personalized_item_recommender(\n",
    "            OVERVIEW_REC_SYS_CFG.name,\n",
    "            n_top_rated_user_items=10,\n",
    "            n_sim_items=3\n",
    "        ),\n",
    "        builder.personalized_item_recommender(\n",
    "            TITLE_REC_SYS_CFG.name,\n",
    "            n_top_rated_user_items=10,\n",
    "            n_sim_items=3\n",
    "        ),\n",
    "        builder.personalized_item_recommender(\n",
    "            GENRES_REC_SYS_CFG.name,\n",
    "            n_top_rated_user_items=10,\n",
    "            n_sim_items=3\n",
    "        )\n",
    "    ],\n",
    "    weights = [0.6, 0.1, 0.3],\n",
    "    recommender_k = 5\n",
    ") \\\n",
    " .recommend(user_id=user_ids[130], k=10) \\\n",
    " .show()"
   ]
  },
  {
   "cell_type": "code",
   "execution_count": null,
   "id": "6ebf4acd-0d50-4dc2-b671-f723c4e6497f",
   "metadata": {},
   "outputs": [],
   "source": []
  }
 ],
 "metadata": {
  "kernelspec": {
   "display_name": "Python 3 (ipykernel)",
   "language": "python",
   "name": "python3"
  },
  "language_info": {
   "codemirror_mode": {
    "name": "ipython",
    "version": 3
   },
   "file_extension": ".py",
   "mimetype": "text/x-python",
   "name": "python",
   "nbconvert_exporter": "python",
   "pygments_lexer": "ipython3",
   "version": "3.10.11"
  },
  "widgets": {
   "application/vnd.jupyter.widget-state+json": {
    "state": {},
    "version_major": 2,
    "version_minor": 0
   }
  }
 },
 "nbformat": 4,
 "nbformat_minor": 5
}
