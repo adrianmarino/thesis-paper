{
 "cells": [
  {
   "cell_type": "markdown",
   "id": "0417277b-47df-4113-a7b3-8f960db06f1d",
   "metadata": {
    "tags": []
   },
   "source": [
    "# Models: Movie Genres Sentence Transformer"
   ]
  },
  {
   "cell_type": "code",
   "execution_count": 1,
   "id": "8dde5e70-5b86-460f-8791-20fcb554c378",
   "metadata": {},
   "outputs": [],
   "source": [
    "%load_ext autoreload\n",
    "%autoreload 2"
   ]
  },
  {
   "cell_type": "code",
   "execution_count": 1,
   "id": "aacb8820-254b-492f-8a62-3bd707eaf26d",
   "metadata": {
    "tags": []
   },
   "outputs": [],
   "source": [
    "BASE_PATH        = '../../..'\n",
    "LIB_PATH         = f'{BASE_PATH}/lib'\n",
    "DATASET_PATH     = f'{BASE_PATH}/datasets'\n",
    "MODEL            = 'all-roberta-large-v1'\n",
    "FIELD            = 'genres'"
   ]
  },
  {
   "cell_type": "code",
   "execution_count": 2,
   "id": "f98e7bf4-f41a-43f6-b7b7-a991d00f82de",
   "metadata": {},
   "outputs": [
    {
     "name": "stderr",
     "output_type": "stream",
     "text": [
      "2023-10-08 12:51:19.467473: I tensorflow/core/platform/cpu_feature_guard.cc:182] This TensorFlow binary is optimized to use available CPU instructions in performance-critical operations.\n",
      "To enable the following instructions: AVX2 FMA, in other operations, rebuild TensorFlow with the appropriate compiler flags.\n",
      "2023-10-08 12:51:20.004206: W tensorflow/compiler/tf2tensorrt/utils/py_utils.cc:38] TF-TRT Warning: Could not find TensorRT\n",
      "2023-10-08 12:51:20.585729: I tensorflow/compiler/xla/stream_executor/cuda/cuda_gpu_executor.cc:996] successful NUMA node read from SysFS had negative value (-1), but there must be at least one NUMA node, so returning NUMA node zero. See more at https://github.com/torvalds/linux/blob/v6.0/Documentation/ABI/testing/sysfs-bus-pci#L344-L355\n",
      "2023-10-08 12:51:20.596959: W tensorflow/core/common_runtime/gpu/gpu_device.cc:1956] Cannot dlopen some GPU libraries. Please make sure the missing libraries mentioned above are installed properly if you would like to use GPU. Follow the guide at https://www.tensorflow.org/install/gpu for how to download and setup the required libraries for your platform.\n",
      "Skipping registering GPU devices...\n"
     ]
    },
    {
     "data": {
      "text/plain": [
       "<Figure size 640x480 with 0 Axes>"
      ]
     },
     "metadata": {},
     "output_type": "display_data"
    }
   ],
   "source": [
    "import sys\n",
    "sys.path.append(LIB_PATH)\n",
    "\n",
    "import torch\n",
    "import pytorch_common.util as pu\n",
    "from pytorch_common.util import set_device_name, \\\n",
    "                                get_device, \\\n",
    "                                LoggerBuilder\n",
    "\n",
    "import data as dt\n",
    "import data.dataset as ds\n",
    "\n",
    "import util as ut\n",
    "\n",
    "from sentence_transformers import SentenceTransformer\n",
    "\n",
    "import recommender as rc"
   ]
  },
  {
   "cell_type": "markdown",
   "id": "40c1da33-a8da-47c9-b174-0b0885b05b50",
   "metadata": {},
   "source": [
    "## Setup"
   ]
  },
  {
   "cell_type": "code",
   "execution_count": 3,
   "id": "e60a3838-9787-411d-b9f1-8a942321cbb1",
   "metadata": {},
   "outputs": [
    {
     "data": {
      "text/plain": [
       "<RootLogger root (INFO)>"
      ]
     },
     "execution_count": 3,
     "metadata": {},
     "output_type": "execute_result"
    }
   ],
   "source": [
    "pu.LoggerBuilder().on_console().build()"
   ]
  },
  {
   "cell_type": "code",
   "execution_count": 4,
   "id": "9fd7574f-043a-4fc3-8ab8-bfd55b6a92d8",
   "metadata": {},
   "outputs": [
    {
     "data": {
      "text/plain": [
       "(device(type='cuda', index=0),\n",
       " True,\n",
       " '2.0.1+cu118',\n",
       " ['sm_37', 'sm_50', 'sm_60', 'sm_70', 'sm_75', 'sm_80', 'sm_86', 'sm_90'])"
      ]
     },
     "execution_count": 4,
     "metadata": {},
     "output_type": "execute_result"
    }
   ],
   "source": [
    "pu.set_device_name('gpu')\n",
    "\n",
    "pu.get_device(), torch.cuda.is_available(), torch.__version__, torch.cuda.get_arch_list()"
   ]
  },
  {
   "cell_type": "code",
   "execution_count": 5,
   "id": "72f9d948-5300-4141-8fbc-4423669b2c58",
   "metadata": {},
   "outputs": [],
   "source": [
    "ut.set_seed(42)"
   ]
  },
  {
   "cell_type": "code",
   "execution_count": 6,
   "id": "7e5a444f-1eb1-44c7-8ce4-446687e0775b",
   "metadata": {},
   "outputs": [
    {
     "name": "stderr",
     "output_type": "stream",
     "text": [
      "2023-10-08 12:51:22,243 - INFO - Cfg:\n",
      "\n",
      "embedding_col: genres_embedding\n",
      "file_path: ../../../datasets/genres-all-roberta-large-v1.json\n",
      "metadata_cols:\n",
      "- genres\n",
      "- release_year\n",
      "- imdb_id\n",
      "- genres_tokens\n",
      "- title\n",
      "name: genres-all-roberta-large-v1\n",
      "\n"
     ]
    }
   ],
   "source": [
    "REC_SYS_CFG = rc.item_rec_sys_cfg(DATASET_PATH, FIELD, MODEL)"
   ]
  },
  {
   "cell_type": "markdown",
   "id": "c81ebd42-69d1-4c70-86bd-21fdf655ea17",
   "metadata": {
    "tags": []
   },
   "source": [
    "## Preprocesamiento"
   ]
  },
  {
   "cell_type": "code",
   "execution_count": 7,
   "id": "1fd7ac7d-5405-4c31-b948-025d498aab74",
   "metadata": {},
   "outputs": [],
   "source": [
    "dataset = ds.MovieLensTMDBDataLoader.df_from_path(DATASET_PATH)\n",
    "\n",
    "columns = ['movie_id', 'movie_release_year', 'movie_imdb_id', 'movie_title', f'movie_{FIELD}']\n",
    "\n",
    "movie_data = dataset \\\n",
    "    .pipe(dt.select, columns) \\\n",
    "    .pipe(dt.distinct, ['movie_id']) \\\n",
    "    .pipe(dt.rename, {\n",
    "        'movie_id': 'id', \n",
    "        'movie_title': 'title',\n",
    "        'movie_imdb_id': 'imdb_id',  \n",
    "        'movie_release_year': 'release_year',\n",
    "        f'movie_{FIELD}': FIELD\n",
    "    }) \\\n",
    "    .pipe(dt.join_str_list, FIELD) \\\n",
    "    .pipe(dt.tokenize, FIELD) \\\n",
    "    .pipe(dt.reset_index)"
   ]
  },
  {
   "cell_type": "markdown",
   "id": "5f73b173-49dd-4995-a80f-51c24d4a10f8",
   "metadata": {},
   "source": [
    "## Generacion de embeddings"
   ]
  },
  {
   "cell_type": "code",
   "execution_count": 8,
   "id": "38f65cff-be8b-42db-ae06-6ca24b017b98",
   "metadata": {},
   "outputs": [
    {
     "name": "stderr",
     "output_type": "stream",
     "text": [
      "2023-10-08 12:51:25,566 - INFO - Load pretrained SentenceTransformer: all-roberta-large-v1\n",
      "2023-10-08 12:51:27,865 - INFO - Use pytorch device: cuda\n"
     ]
    },
    {
     "data": {
      "application/vnd.jupyter.widget-view+json": {
       "model_id": "5392c667d8694feea5ea4bbfd67cf410",
       "version_major": 2,
       "version_minor": 0
      },
      "text/plain": [
       "Batches:   0%|          | 0/585 [00:00<?, ?it/s]"
      ]
     },
     "metadata": {},
     "output_type": "display_data"
    }
   ],
   "source": [
    "model = SentenceTransformer(MODEL)\n",
    "\n",
    "embeddings = model.encode(movie_data[[FIELD]].values.reshape(-1))\n",
    "\n",
    "movie_data = movie_data \\\n",
    "    .pipe(dt.append_emb_vectors, embeddings, FIELD)\n",
    "\n",
    "movie_data.to_json(REC_SYS_CFG.file_path)\n",
    "\n",
    "del model"
   ]
  },
  {
   "cell_type": "markdown",
   "id": "d43c9369-047c-45ea-863c-304319bc63f0",
   "metadata": {
    "tags": []
   },
   "source": [
    "## Evaluación"
   ]
  },
  {
   "cell_type": "code",
   "execution_count": 9,
   "id": "76458db2-8822-4016-a400-b5adc206d3eb",
   "metadata": {
    "tags": []
   },
   "outputs": [
    {
     "data": {
      "application/vnd.jupyter.widget-view+json": {
       "model_id": "23c6d3e1eab948a0b47776496f6ccd05",
       "version_major": 2,
       "version_minor": 0
      },
      "text/plain": [
       "Insert Embeddings:   0%|          | 0/18703 [00:00<?, ?it/s]"
      ]
     },
     "metadata": {},
     "output_type": "display_data"
    }
   ],
   "source": [
    "builder = rc.SimilarItemRecommenderBuilder(DATASET_PATH, [REC_SYS_CFG])"
   ]
  },
  {
   "cell_type": "code",
   "execution_count": 10,
   "id": "a6612f71-c8f0-44ab-9a96-0b2f18deb16b",
   "metadata": {},
   "outputs": [
    {
     "name": "stderr",
     "output_type": "stream",
     "text": [
      "2023-10-08 12:51:58,484 - INFO - Found 1 items by ids: [1].\n",
      "2023-10-08 12:51:58,486 - INFO - Found 10 similar to 1 item.\n"
     ]
    },
    {
     "name": "stdout",
     "output_type": "stream",
     "text": [
      "\n",
      "Item Recommender: genres-all-roberta-large-v1\n",
      "\n"
     ]
    },
    {
     "data": {
      "text/html": [
       "<table border=\"1\" class=\"dataframe\">\n",
       "  <thead>\n",
       "    <tr style=\"text-align: right;\">\n",
       "      <th></th>\n",
       "      <th>Similarity</th>\n",
       "      <th>Rating</th>\n",
       "      <th>.</th>\n",
       "      <th>Recommended Movies</th>\n",
       "      <th>..</th>\n",
       "      <th>Already seen movies</th>\n",
       "      <th>Rating</th>\n",
       "    </tr>\n",
       "  </thead>\n",
       "  <tbody>\n",
       "    <tr>\n",
       "      <th>0</th>\n",
       "      <td>1.0</td>\n",
       "      <td>3.7</td>\n",
       "      <td>We Recommend ==></td>\n",
       "      <td><img src=\"https://m.media-amazon.com/images/M/MV5BMWM5ZDcxMTYtNTEyNS00MDRkLWI3YTItNThmMGExMWY4NDIwXkEyXkFqcGdeQXVyNjUwNzk3NDc@._V1_SX300.jpg\" width=\"300\" ></td>\n",
       "      <td>==> Because You Saw ==></td>\n",
       "      <td><img src=\"https://m.media-amazon.com/images/M/MV5BMDU2ZWJlMjktMTRhMy00ZTA5LWEzNDgtYmNmZTEwZTViZWJkXkEyXkFqcGdeQXVyNDQ2OTk4MzI@._V1_SX300.jpg\" width=\"300\" ></td>\n",
       "      <td>3.8</td>\n",
       "    </tr>\n",
       "    <tr>\n",
       "      <th>1</th>\n",
       "      <td>1.0</td>\n",
       "      <td>3.9</td>\n",
       "      <td>We Recommend ==></td>\n",
       "      <td><img src=\"https://m.media-amazon.com/images/M/MV5BMTY1NTI0ODUyOF5BMl5BanBnXkFtZTgwNTEyNjQ0MDE@._V1_SX300.jpg\" width=\"300\" ></td>\n",
       "      <td>==> Because You Saw ==></td>\n",
       "      <td><img src=\"https://m.media-amazon.com/images/M/MV5BMDU2ZWJlMjktMTRhMy00ZTA5LWEzNDgtYmNmZTEwZTViZWJkXkEyXkFqcGdeQXVyNDQ2OTk4MzI@._V1_SX300.jpg\" width=\"300\" ></td>\n",
       "      <td>3.8</td>\n",
       "    </tr>\n",
       "    <tr>\n",
       "      <th>2</th>\n",
       "      <td>1.0</td>\n",
       "      <td>3.3</td>\n",
       "      <td>We Recommend ==></td>\n",
       "      <td><img src=\"https://m.media-amazon.com/images/M/MV5BMTc5MTg2NjQ4MV5BMl5BanBnXkFtZTgwNzcxOTY5NjE@._V1_SX300.jpg\" width=\"300\" ></td>\n",
       "      <td>==> Because You Saw ==></td>\n",
       "      <td><img src=\"https://m.media-amazon.com/images/M/MV5BMDU2ZWJlMjktMTRhMy00ZTA5LWEzNDgtYmNmZTEwZTViZWJkXkEyXkFqcGdeQXVyNDQ2OTk4MzI@._V1_SX300.jpg\" width=\"300\" ></td>\n",
       "      <td>3.8</td>\n",
       "    </tr>\n",
       "    <tr>\n",
       "      <th>3</th>\n",
       "      <td>1.0</td>\n",
       "      <td>3.7</td>\n",
       "      <td>We Recommend ==></td>\n",
       "      <td><img src=\"https://m.media-amazon.com/images/M/MV5BMjI4MzU5NTExNF5BMl5BanBnXkFtZTgwNzY1MTEwMDI@._V1_SX300.jpg\" width=\"300\" ></td>\n",
       "      <td>==> Because You Saw ==></td>\n",
       "      <td><img src=\"https://m.media-amazon.com/images/M/MV5BMDU2ZWJlMjktMTRhMy00ZTA5LWEzNDgtYmNmZTEwZTViZWJkXkEyXkFqcGdeQXVyNDQ2OTk4MzI@._V1_SX300.jpg\" width=\"300\" ></td>\n",
       "      <td>3.8</td>\n",
       "    </tr>\n",
       "    <tr>\n",
       "      <th>4</th>\n",
       "      <td>1.0</td>\n",
       "      <td>3.8</td>\n",
       "      <td>We Recommend ==></td>\n",
       "      <td><img src=\"https://m.media-amazon.com/images/M/MV5BMjFkMzk2OWUtNjFmZC00ZTJhLTlkNGYtYjc2YWNkNmJmNzczXkEyXkFqcGdeQXVyMTQxNzMzNDI@._V1_SX300.jpg\" width=\"300\" ></td>\n",
       "      <td>==> Because You Saw ==></td>\n",
       "      <td><img src=\"https://m.media-amazon.com/images/M/MV5BMDU2ZWJlMjktMTRhMy00ZTA5LWEzNDgtYmNmZTEwZTViZWJkXkEyXkFqcGdeQXVyNDQ2OTk4MzI@._V1_SX300.jpg\" width=\"300\" ></td>\n",
       "      <td>3.8</td>\n",
       "    </tr>\n",
       "    <tr>\n",
       "      <th>5</th>\n",
       "      <td>1.0</td>\n",
       "      <td>1.5</td>\n",
       "      <td>We Recommend ==></td>\n",
       "      <td><img src=\"https://m.media-amazon.com/images/M/MV5BMTQ5ODgzNjQ3OF5BMl5BanBnXkFtZTcwNTYyMTQzMQ@@._V1_SX300.jpg\" width=\"300\" ></td>\n",
       "      <td>==> Because You Saw ==></td>\n",
       "      <td><img src=\"https://m.media-amazon.com/images/M/MV5BMDU2ZWJlMjktMTRhMy00ZTA5LWEzNDgtYmNmZTEwZTViZWJkXkEyXkFqcGdeQXVyNDQ2OTk4MzI@._V1_SX300.jpg\" width=\"300\" ></td>\n",
       "      <td>3.8</td>\n",
       "    </tr>\n",
       "    <tr>\n",
       "      <th>6</th>\n",
       "      <td>1.0</td>\n",
       "      <td>2.5</td>\n",
       "      <td>We Recommend ==></td>\n",
       "      <td><img src=\"https://m.media-amazon.com/images/M/MV5BMTg0MTc5MTc1MV5BMl5BanBnXkFtZTcwNjgwNDE4MQ@@._V1_SX300.jpg\" width=\"300\" ></td>\n",
       "      <td>==> Because You Saw ==></td>\n",
       "      <td><img src=\"https://m.media-amazon.com/images/M/MV5BMDU2ZWJlMjktMTRhMy00ZTA5LWEzNDgtYmNmZTEwZTViZWJkXkEyXkFqcGdeQXVyNDQ2OTk4MzI@._V1_SX300.jpg\" width=\"300\" ></td>\n",
       "      <td>3.8</td>\n",
       "    </tr>\n",
       "    <tr>\n",
       "      <th>7</th>\n",
       "      <td>1.0</td>\n",
       "      <td>3.2</td>\n",
       "      <td>We Recommend ==></td>\n",
       "      <td><img src=\"https://m.media-amazon.com/images/M/MV5BMTA4NTgwMjM5MzheQTJeQWpwZ15BbWU3MDg2ODA1ODk@._V1_SX300.jpg\" width=\"300\" ></td>\n",
       "      <td>==> Because You Saw ==></td>\n",
       "      <td><img src=\"https://m.media-amazon.com/images/M/MV5BMDU2ZWJlMjktMTRhMy00ZTA5LWEzNDgtYmNmZTEwZTViZWJkXkEyXkFqcGdeQXVyNDQ2OTk4MzI@._V1_SX300.jpg\" width=\"300\" ></td>\n",
       "      <td>3.8</td>\n",
       "    </tr>\n",
       "    <tr>\n",
       "      <th>8</th>\n",
       "      <td>1.0</td>\n",
       "      <td>3.0</td>\n",
       "      <td>We Recommend ==></td>\n",
       "      <td><img src=\"https://m.media-amazon.com/images/M/MV5BM2U2N2M3M2EtMzQxYi00Mjk0LTlhNzItZDA5MDgxZDU2YmFjXkEyXkFqcGdeQXVyNjExODE1MDc@._V1_SX300.jpg\" width=\"300\" ></td>\n",
       "      <td>==> Because You Saw ==></td>\n",
       "      <td><img src=\"https://m.media-amazon.com/images/M/MV5BMDU2ZWJlMjktMTRhMy00ZTA5LWEzNDgtYmNmZTEwZTViZWJkXkEyXkFqcGdeQXVyNDQ2OTk4MzI@._V1_SX300.jpg\" width=\"300\" ></td>\n",
       "      <td>3.8</td>\n",
       "    </tr>\n",
       "    <tr>\n",
       "      <th>9</th>\n",
       "      <td>1.0</td>\n",
       "      <td>3.0</td>\n",
       "      <td>We Recommend ==></td>\n",
       "      <td><img src=\"https://m.media-amazon.com/images/M/MV5BMTk1NzY0MTY3M15BMl5BanBnXkFtZTgwMjkzMDgwMjE@._V1_SX300.jpg\" width=\"300\" ></td>\n",
       "      <td>==> Because You Saw ==></td>\n",
       "      <td><img src=\"https://m.media-amazon.com/images/M/MV5BMDU2ZWJlMjktMTRhMy00ZTA5LWEzNDgtYmNmZTEwZTViZWJkXkEyXkFqcGdeQXVyNDQ2OTk4MzI@._V1_SX300.jpg\" width=\"300\" ></td>\n",
       "      <td>3.8</td>\n",
       "    </tr>\n",
       "  </tbody>\n",
       "</table>"
      ],
      "text/plain": [
       "<IPython.core.display.HTML object>"
      ]
     },
     "metadata": {},
     "output_type": "display_data"
    }
   ],
   "source": [
    "builder.item_recommender(REC_SYS_CFG.name, n_sim_items = 10) \\\n",
    "    .recommend(item_id=1, k=10) \\\n",
    "    .show()"
   ]
  }
 ],
 "metadata": {
  "kernelspec": {
   "display_name": "Python 3 (ipykernel)",
   "language": "python",
   "name": "python3"
  },
  "language_info": {
   "codemirror_mode": {
    "name": "ipython",
    "version": 3
   },
   "file_extension": ".py",
   "mimetype": "text/x-python",
   "name": "python",
   "nbconvert_exporter": "python",
   "pygments_lexer": "ipython3",
   "version": "3.10.12"
  },
  "widgets": {
   "application/vnd.jupyter.widget-state+json": {
    "state": {
     "0a8b30f3b5ba4e3c911eaf22d007ba67": {
      "model_module": "@jupyter-widgets/controls",
      "model_module_version": "2.0.0",
      "model_name": "ProgressStyleModel",
      "state": {
       "description_width": ""
      }
     },
     "23c6d3e1eab948a0b47776496f6ccd05": {
      "model_module": "@jupyter-widgets/controls",
      "model_module_version": "2.0.0",
      "model_name": "HBoxModel",
      "state": {
       "children": [
        "IPY_MODEL_ceb77e0fd9684d51baa9939751cfa5af",
        "IPY_MODEL_6e7bb7e6f0ac42a3aed20fadcf67344f",
        "IPY_MODEL_c06e1c14711f43268a6afafab5fe28a8"
       ],
       "layout": "IPY_MODEL_4ae6d57aad454ab280ec4fa29dcb16cd"
      }
     },
     "4ae6d57aad454ab280ec4fa29dcb16cd": {
      "model_module": "@jupyter-widgets/base",
      "model_module_version": "2.0.0",
      "model_name": "LayoutModel",
      "state": {}
     },
     "4cff02bab20d403e8a5d548747462824": {
      "model_module": "@jupyter-widgets/base",
      "model_module_version": "2.0.0",
      "model_name": "LayoutModel",
      "state": {}
     },
     "50855956074b4075ac448c385d4a9594": {
      "model_module": "@jupyter-widgets/base",
      "model_module_version": "2.0.0",
      "model_name": "LayoutModel",
      "state": {}
     },
     "5392c667d8694feea5ea4bbfd67cf410": {
      "model_module": "@jupyter-widgets/controls",
      "model_module_version": "2.0.0",
      "model_name": "HBoxModel",
      "state": {
       "children": [
        "IPY_MODEL_cceaf3ba83754657a9bdfa33114340ec",
        "IPY_MODEL_80092120d58e4addb1e5dc3fb121c2e8",
        "IPY_MODEL_fe7533a077854fad9d8084ebc7c82a67"
       ],
       "layout": "IPY_MODEL_60d857ca71fc45048c20288ec4756e8a"
      }
     },
     "60d857ca71fc45048c20288ec4756e8a": {
      "model_module": "@jupyter-widgets/base",
      "model_module_version": "2.0.0",
      "model_name": "LayoutModel",
      "state": {}
     },
     "66070decea5946eb8818b9cf8e74bad6": {
      "model_module": "@jupyter-widgets/base",
      "model_module_version": "2.0.0",
      "model_name": "LayoutModel",
      "state": {}
     },
     "6e7bb7e6f0ac42a3aed20fadcf67344f": {
      "model_module": "@jupyter-widgets/controls",
      "model_module_version": "2.0.0",
      "model_name": "FloatProgressModel",
      "state": {
       "bar_style": "success",
       "layout": "IPY_MODEL_b638d1c7e6794c55812d03a8b7f85da6",
       "max": 18703,
       "style": "IPY_MODEL_0a8b30f3b5ba4e3c911eaf22d007ba67",
       "value": 18703
      }
     },
     "80092120d58e4addb1e5dc3fb121c2e8": {
      "model_module": "@jupyter-widgets/controls",
      "model_module_version": "2.0.0",
      "model_name": "FloatProgressModel",
      "state": {
       "bar_style": "success",
       "layout": "IPY_MODEL_50855956074b4075ac448c385d4a9594",
       "max": 585,
       "style": "IPY_MODEL_85175ad855cb41e89454bd88bc198891",
       "value": 585
      }
     },
     "85175ad855cb41e89454bd88bc198891": {
      "model_module": "@jupyter-widgets/controls",
      "model_module_version": "2.0.0",
      "model_name": "ProgressStyleModel",
      "state": {
       "description_width": ""
      }
     },
     "889981f7fb49406781b76a30df872827": {
      "model_module": "@jupyter-widgets/controls",
      "model_module_version": "2.0.0",
      "model_name": "HTMLStyleModel",
      "state": {
       "description_width": "",
       "font_size": null,
       "text_color": null
      }
     },
     "898c4c4a37df4df6b41a986cb925dfc3": {
      "model_module": "@jupyter-widgets/controls",
      "model_module_version": "2.0.0",
      "model_name": "HTMLStyleModel",
      "state": {
       "description_width": "",
       "font_size": null,
       "text_color": null
      }
     },
     "8c3ce6be5e054f6aaa023f14f8dafafc": {
      "model_module": "@jupyter-widgets/controls",
      "model_module_version": "2.0.0",
      "model_name": "HTMLStyleModel",
      "state": {
       "description_width": "",
       "font_size": null,
       "text_color": null
      }
     },
     "939aae9f0eeb4c5384fd700ebe3ba5f7": {
      "model_module": "@jupyter-widgets/base",
      "model_module_version": "2.0.0",
      "model_name": "LayoutModel",
      "state": {}
     },
     "9eddfbcee5ec4e7c8406a4a2d2321c45": {
      "model_module": "@jupyter-widgets/base",
      "model_module_version": "2.0.0",
      "model_name": "LayoutModel",
      "state": {}
     },
     "b638d1c7e6794c55812d03a8b7f85da6": {
      "model_module": "@jupyter-widgets/base",
      "model_module_version": "2.0.0",
      "model_name": "LayoutModel",
      "state": {}
     },
     "c06e1c14711f43268a6afafab5fe28a8": {
      "model_module": "@jupyter-widgets/controls",
      "model_module_version": "2.0.0",
      "model_name": "HTMLModel",
      "state": {
       "layout": "IPY_MODEL_939aae9f0eeb4c5384fd700ebe3ba5f7",
       "style": "IPY_MODEL_898c4c4a37df4df6b41a986cb925dfc3",
       "value": " 18703/18703 [00:17&lt;00:00, 895.93it/s]"
      }
     },
     "cceaf3ba83754657a9bdfa33114340ec": {
      "model_module": "@jupyter-widgets/controls",
      "model_module_version": "2.0.0",
      "model_name": "HTMLModel",
      "state": {
       "layout": "IPY_MODEL_9eddfbcee5ec4e7c8406a4a2d2321c45",
       "style": "IPY_MODEL_d1c241672f75489b958b2a932cc4b721",
       "value": "Batches: 100%"
      }
     },
     "ceb77e0fd9684d51baa9939751cfa5af": {
      "model_module": "@jupyter-widgets/controls",
      "model_module_version": "2.0.0",
      "model_name": "HTMLModel",
      "state": {
       "layout": "IPY_MODEL_66070decea5946eb8818b9cf8e74bad6",
       "style": "IPY_MODEL_889981f7fb49406781b76a30df872827",
       "value": "Insert Embeddings: 100%"
      }
     },
     "d1c241672f75489b958b2a932cc4b721": {
      "model_module": "@jupyter-widgets/controls",
      "model_module_version": "2.0.0",
      "model_name": "HTMLStyleModel",
      "state": {
       "description_width": "",
       "font_size": null,
       "text_color": null
      }
     },
     "fe7533a077854fad9d8084ebc7c82a67": {
      "model_module": "@jupyter-widgets/controls",
      "model_module_version": "2.0.0",
      "model_name": "HTMLModel",
      "state": {
       "layout": "IPY_MODEL_4cff02bab20d403e8a5d548747462824",
       "style": "IPY_MODEL_8c3ce6be5e054f6aaa023f14f8dafafc",
       "value": " 585/585 [00:08&lt;00:00, 95.92it/s]"
      }
     }
    },
    "version_major": 2,
    "version_minor": 0
   }
  }
 },
 "nbformat": 4,
 "nbformat_minor": 5
}
