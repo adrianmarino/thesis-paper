{
 "cells": [
  {
   "cell_type": "markdown",
   "id": "0417277b-47df-4113-a7b3-8f960db06f1d",
   "metadata": {
    "tags": []
   },
   "source": [
    "# Models: Movie Overview Sentence Transformer"
   ]
  },
  {
   "cell_type": "code",
   "execution_count": 1,
   "id": "8dde5e70-5b86-460f-8791-20fcb554c378",
   "metadata": {},
   "outputs": [],
   "source": [
    "%load_ext autoreload\n",
    "%autoreload 2"
   ]
  },
  {
   "cell_type": "code",
   "execution_count": 2,
   "id": "aacb8820-254b-492f-8a62-3bd707eaf26d",
   "metadata": {
    "tags": []
   },
   "outputs": [],
   "source": [
    "BASE_PATH        = '../../..'\n",
    "LIB_PATH         = f'{BASE_PATH}/lib'\n",
    "DATASET_PATH     = f'{BASE_PATH}/datasets'\n",
    "MODEL            = 'all-mpnet-base-v2'\n",
    "FIELD            = 'overview'"
   ]
  },
  {
   "cell_type": "code",
   "execution_count": 3,
   "id": "f98e7bf4-f41a-43f6-b7b7-a991d00f82de",
   "metadata": {},
   "outputs": [
    {
     "name": "stderr",
     "output_type": "stream",
     "text": [
      "2023-05-04 15:08:04.543763: I tensorflow/core/platform/cpu_feature_guard.cc:182] This TensorFlow binary is optimized to use available CPU instructions in performance-critical operations.\n",
      "To enable the following instructions: AVX2 FMA, in other operations, rebuild TensorFlow with the appropriate compiler flags.\n",
      "Using embedded DuckDB without persistence: data will be transient\n"
     ]
    },
    {
     "data": {
      "text/plain": [
       "<Figure size 640x480 with 0 Axes>"
      ]
     },
     "metadata": {},
     "output_type": "display_data"
    }
   ],
   "source": [
    "import sys\n",
    "sys.path.append(LIB_PATH)\n",
    "\n",
    "import torch\n",
    "import pytorch_common.util as pu\n",
    "from pytorch_common.util import set_device_name, \\\n",
    "                                get_device, \\\n",
    "                                LoggerBuilder\n",
    "\n",
    "import data as dt\n",
    "import data.dataset as ds\n",
    "\n",
    "import util as ut\n",
    "\n",
    "from sentence_transformers import SentenceTransformer\n",
    "\n",
    "from recommender import ItemRecommenderBuilder, item_rec_sys_cfg"
   ]
  },
  {
   "cell_type": "markdown",
   "id": "40c1da33-a8da-47c9-b174-0b0885b05b50",
   "metadata": {},
   "source": [
    "## Setup"
   ]
  },
  {
   "cell_type": "code",
   "execution_count": 4,
   "id": "e60a3838-9787-411d-b9f1-8a942321cbb1",
   "metadata": {},
   "outputs": [
    {
     "data": {
      "text/plain": [
       "<RootLogger root (INFO)>"
      ]
     },
     "execution_count": 4,
     "metadata": {},
     "output_type": "execute_result"
    }
   ],
   "source": [
    "pu.LoggerBuilder().on_console().build()"
   ]
  },
  {
   "cell_type": "code",
   "execution_count": 5,
   "id": "9fd7574f-043a-4fc3-8ab8-bfd55b6a92d8",
   "metadata": {},
   "outputs": [
    {
     "data": {
      "text/plain": [
       "(device(type='cuda', index=0),\n",
       " True,\n",
       " '1.11.0',\n",
       " ['sm_37',\n",
       "  'sm_50',\n",
       "  'sm_60',\n",
       "  'sm_61',\n",
       "  'sm_70',\n",
       "  'sm_75',\n",
       "  'sm_80',\n",
       "  'sm_86',\n",
       "  'compute_37'])"
      ]
     },
     "execution_count": 5,
     "metadata": {},
     "output_type": "execute_result"
    }
   ],
   "source": [
    "pu.set_device_name('gpu')\n",
    "\n",
    "pu.get_device(), torch.cuda.is_available(), torch.__version__, torch.cuda.get_arch_list()"
   ]
  },
  {
   "cell_type": "code",
   "execution_count": 6,
   "id": "72f9d948-5300-4141-8fbc-4423669b2c58",
   "metadata": {},
   "outputs": [],
   "source": [
    "ut.set_seed(42)"
   ]
  },
  {
   "cell_type": "code",
   "execution_count": 7,
   "id": "7e5a444f-1eb1-44c7-8ce4-446687e0775b",
   "metadata": {},
   "outputs": [
    {
     "name": "stderr",
     "output_type": "stream",
     "text": [
      "2023-05-04 15:08:05,153 - INFO - Cfg:\n",
      "\n",
      "embedding_col: overview_embedding\n",
      "file_path: ../../../datasets/overview-all-mpnet-base-v2.json\n",
      "metadata_cols:\n",
      "- overview\n",
      "- release_year\n",
      "- imdb_id\n",
      "- overview_tokens\n",
      "- title\n",
      "name: overview-all-mpnet-base-v2\n",
      "\n"
     ]
    }
   ],
   "source": [
    "REC_SYS_CFG = item_rec_sys_cfg(DATASET_PATH, FIELD, MODEL)"
   ]
  },
  {
   "cell_type": "markdown",
   "id": "c81ebd42-69d1-4c70-86bd-21fdf655ea17",
   "metadata": {
    "tags": []
   },
   "source": [
    "## Preprocesamiento"
   ]
  },
  {
   "cell_type": "code",
   "execution_count": 8,
   "id": "1fd7ac7d-5405-4c31-b948-025d498aab74",
   "metadata": {},
   "outputs": [],
   "source": [
    "dataset = ds.MovieLensTMDBDataLoader.df_from_path(DATASET_PATH)\n",
    "\n",
    "columns = ['movie_id', 'movie_release_year',  'movie_imdb_id', 'movie_title', f'movie_{FIELD}']\n",
    "\n",
    "movie_data = dataset \\\n",
    "    .pipe(dt.select, columns) \\\n",
    "    .pipe(dt.distinct, ['movie_id']) \\\n",
    "    .pipe(dt.rename, {\n",
    "        'movie_id': 'id', \n",
    "        'movie_title': 'title',\n",
    "        'movie_imdb_id': 'imdb_id',  \n",
    "        'movie_release_year': 'release_year',\n",
    "        f'movie_{FIELD}': FIELD\n",
    "    }) \\\n",
    "    .pipe(dt.tokenize, FIELD) \\\n",
    "    .pipe(dt.reset_index)"
   ]
  },
  {
   "cell_type": "markdown",
   "id": "5f73b173-49dd-4995-a80f-51c24d4a10f8",
   "metadata": {},
   "source": [
    "## Generacion de embeddings"
   ]
  },
  {
   "cell_type": "code",
   "execution_count": 9,
   "id": "38f65cff-be8b-42db-ae06-6ca24b017b98",
   "metadata": {},
   "outputs": [
    {
     "name": "stderr",
     "output_type": "stream",
     "text": [
      "2023-05-04 15:08:08,506 - INFO - Load pretrained SentenceTransformer: all-mpnet-base-v2\n",
      "2023-05-04 15:08:09,411 - INFO - Use pytorch device: cuda\n"
     ]
    },
    {
     "data": {
      "application/json": {
       "ascii": false,
       "bar_format": null,
       "colour": null,
       "elapsed": 0.003206968307495117,
       "initial": 0,
       "n": 0,
       "ncols": null,
       "nrows": 40,
       "postfix": null,
       "prefix": "Batches",
       "rate": null,
       "total": 551,
       "unit": "it",
       "unit_divisor": 1000,
       "unit_scale": false
      },
      "application/vnd.jupyter.widget-view+json": {
       "model_id": "411f81247aa448d3b9c9289c07c59c76",
       "version_major": 2,
       "version_minor": 0
      },
      "text/plain": [
       "Batches:   0%|          | 0/551 [00:00<?, ?it/s]"
      ]
     },
     "metadata": {},
     "output_type": "display_data"
    }
   ],
   "source": [
    "model = SentenceTransformer(MODEL)\n",
    "\n",
    "embeddings = model.encode(movie_data[[FIELD]].values.reshape(-1))\n",
    "\n",
    "movie_data = movie_data \\\n",
    "    .pipe(dt.append_emb_vectors, embeddings, FIELD)\n",
    "\n",
    "movie_data.to_json(REC_SYS_CFG.file_path)\n",
    "\n",
    "del model"
   ]
  },
  {
   "cell_type": "markdown",
   "id": "d43c9369-047c-45ea-863c-304319bc63f0",
   "metadata": {
    "tags": []
   },
   "source": [
    "## Evaluación"
   ]
  },
  {
   "cell_type": "code",
   "execution_count": null,
   "id": "76458db2-8822-4016-a400-b5adc206d3eb",
   "metadata": {
    "tags": []
   },
   "outputs": [
    {
     "name": "stderr",
     "output_type": "stream",
     "text": [
      "2023-05-04 15:08:30,323 - WARNING - No embedding_function provided, using default embedding function: SentenceTransformerEmbeddingFunction\n",
      "2023-05-04 15:08:30,324 - INFO - Load pretrained SentenceTransformer: all-MiniLM-L6-v2\n",
      "2023-05-04 15:08:30,442 - INFO - Use pytorch device: cuda\n"
     ]
    }
   ],
   "source": [
    "builder = ItemRecommenderBuilder(DATASET_PATH, [REC_SYS_CFG])"
   ]
  },
  {
   "cell_type": "code",
   "execution_count": 12,
   "id": "a6612f71-c8f0-44ab-9a96-0b2f18deb16b",
   "metadata": {},
   "outputs": [
    {
     "name": "stderr",
     "output_type": "stream",
     "text": [
      "2023-05-04 15:09:00,346 - INFO - Found 1 items by ids: [1].\n",
      "2023-05-04 15:09:00,349 - INFO - Found 10 similar to 1 item.\n"
     ]
    },
    {
     "name": "stdout",
     "output_type": "stream",
     "text": [
      "Item Recommender: overview-all-mpnet-base-v2\n",
      "\n"
     ]
    },
    {
     "data": {
      "text/html": [
       "<table border=\"1\" class=\"dataframe\">\n",
       "  <thead>\n",
       "    <tr style=\"text-align: right;\">\n",
       "      <th></th>\n",
       "      <th>Similarity</th>\n",
       "      <th>Rating</th>\n",
       "      <th>.</th>\n",
       "      <th>Recommended Movies</th>\n",
       "      <th>..</th>\n",
       "      <th>Already seen movies</th>\n",
       "      <th>Rating</th>\n",
       "    </tr>\n",
       "  </thead>\n",
       "  <tbody>\n",
       "    <tr>\n",
       "      <th>0</th>\n",
       "      <td>0.67</td>\n",
       "      <td>3.9</td>\n",
       "      <td>We Recommend ==></td>\n",
       "      <td><img src=\"https://m.media-amazon.com/images/M/MV5BMTgxOTY4Mjc0MF5BMl5BanBnXkFtZTcwNTA4MDQyMw@@._V1_SX300.jpg\" width=\"300\" ></td>\n",
       "      <td>==> Because You Saw ==></td>\n",
       "      <td><img src=\"https://m.media-amazon.com/images/M/MV5BMDU2ZWJlMjktMTRhMy00ZTA5LWEzNDgtYmNmZTEwZTViZWJkXkEyXkFqcGdeQXVyNDQ2OTk4MzI@._V1_SX300.jpg\" width=\"300\" ></td>\n",
       "      <td>3.7</td>\n",
       "    </tr>\n",
       "    <tr>\n",
       "      <th>1</th>\n",
       "      <td>0.63</td>\n",
       "      <td>3.6</td>\n",
       "      <td>We Recommend ==></td>\n",
       "      <td><img src=\"https://m.media-amazon.com/images/M/MV5BMWM5ZDcxMTYtNTEyNS00MDRkLWI3YTItNThmMGExMWY4NDIwXkEyXkFqcGdeQXVyNjUwNzk3NDc@._V1_SX300.jpg\" width=\"300\" ></td>\n",
       "      <td>==> Because You Saw ==></td>\n",
       "      <td><img src=\"https://m.media-amazon.com/images/M/MV5BMDU2ZWJlMjktMTRhMy00ZTA5LWEzNDgtYmNmZTEwZTViZWJkXkEyXkFqcGdeQXVyNDQ2OTk4MzI@._V1_SX300.jpg\" width=\"300\" ></td>\n",
       "      <td>3.7</td>\n",
       "    </tr>\n",
       "    <tr>\n",
       "      <th>2</th>\n",
       "      <td>-0.04</td>\n",
       "      <td>2.6</td>\n",
       "      <td>We Recommend ==></td>\n",
       "      <td><img src=\"https://m.media-amazon.com/images/M/MV5BOTRjYWVhNjAtMjIwOC00NjU3LTliZTAtMjczMmEwMzQ5Y2Y3XkEyXkFqcGdeQXVyMjQwNTU1NTc@._V1_SX300.jpg\" width=\"300\" ></td>\n",
       "      <td>==> Because You Saw ==></td>\n",
       "      <td><img src=\"https://m.media-amazon.com/images/M/MV5BMDU2ZWJlMjktMTRhMy00ZTA5LWEzNDgtYmNmZTEwZTViZWJkXkEyXkFqcGdeQXVyNDQ2OTk4MzI@._V1_SX300.jpg\" width=\"300\" ></td>\n",
       "      <td>3.7</td>\n",
       "    </tr>\n",
       "    <tr>\n",
       "      <th>3</th>\n",
       "      <td>-0.04</td>\n",
       "      <td>3.4</td>\n",
       "      <td>We Recommend ==></td>\n",
       "      <td><img src=\"https://m.media-amazon.com/images/M/MV5BMzUxNzkzMzQtYjIxZC00NzU0LThkYTQtZjNhNTljMTA1MDA1L2ltYWdlL2ltYWdlXkEyXkFqcGdeQXVyMTMxODk2OTU@._V1_SX300.jpg\" width=\"300\" ></td>\n",
       "      <td>==> Because You Saw ==></td>\n",
       "      <td><img src=\"https://m.media-amazon.com/images/M/MV5BMDU2ZWJlMjktMTRhMy00ZTA5LWEzNDgtYmNmZTEwZTViZWJkXkEyXkFqcGdeQXVyNDQ2OTk4MzI@._V1_SX300.jpg\" width=\"300\" ></td>\n",
       "      <td>3.7</td>\n",
       "    </tr>\n",
       "    <tr>\n",
       "      <th>4</th>\n",
       "      <td>-0.05</td>\n",
       "      <td>3.6</td>\n",
       "      <td>We Recommend ==></td>\n",
       "      <td><img src=\"https://m.media-amazon.com/images/M/MV5BMTU4Mzk3ODIyOF5BMl5BanBnXkFtZTgwODgyNzk2NjE@._V1_SX300.jpg\" width=\"300\" ></td>\n",
       "      <td>==> Because You Saw ==></td>\n",
       "      <td><img src=\"https://m.media-amazon.com/images/M/MV5BMDU2ZWJlMjktMTRhMy00ZTA5LWEzNDgtYmNmZTEwZTViZWJkXkEyXkFqcGdeQXVyNDQ2OTk4MzI@._V1_SX300.jpg\" width=\"300\" ></td>\n",
       "      <td>3.7</td>\n",
       "    </tr>\n",
       "    <tr>\n",
       "      <th>5</th>\n",
       "      <td>-0.06</td>\n",
       "      <td>3.0</td>\n",
       "      <td>We Recommend ==></td>\n",
       "      <td><img src=\"https://m.media-amazon.com/images/M/MV5BMTk1NzY0MTY3M15BMl5BanBnXkFtZTgwMjkzMDgwMjE@._V1_SX300.jpg\" width=\"300\" ></td>\n",
       "      <td>==> Because You Saw ==></td>\n",
       "      <td><img src=\"https://m.media-amazon.com/images/M/MV5BMDU2ZWJlMjktMTRhMy00ZTA5LWEzNDgtYmNmZTEwZTViZWJkXkEyXkFqcGdeQXVyNDQ2OTk4MzI@._V1_SX300.jpg\" width=\"300\" ></td>\n",
       "      <td>3.7</td>\n",
       "    </tr>\n",
       "    <tr>\n",
       "      <th>6</th>\n",
       "      <td>-0.07</td>\n",
       "      <td>3.8</td>\n",
       "      <td>We Recommend ==></td>\n",
       "      <td><img src=\"https://m.media-amazon.com/images/M/MV5BMTc3ODA1NTI0MV5BMl5BanBnXkFtZTcwOTE4OTUzOQ@@._V1_SX300.jpg\" width=\"300\" ></td>\n",
       "      <td>==> Because You Saw ==></td>\n",
       "      <td><img src=\"https://m.media-amazon.com/images/M/MV5BMDU2ZWJlMjktMTRhMy00ZTA5LWEzNDgtYmNmZTEwZTViZWJkXkEyXkFqcGdeQXVyNDQ2OTk4MzI@._V1_SX300.jpg\" width=\"300\" ></td>\n",
       "      <td>3.7</td>\n",
       "    </tr>\n",
       "    <tr>\n",
       "      <th>7</th>\n",
       "      <td>-0.10</td>\n",
       "      <td>4.0</td>\n",
       "      <td>We Recommend ==></td>\n",
       "      <td><img src=\"https://m.media-amazon.com/images/M/MV5BYTZkY2JjMDItYzEwMS00MjVlLTlhYjktMmI5YjYzMjdmZGMxXkEyXkFqcGdeQXVyNDIwODAwNzg@._V1_SX300.jpg\" width=\"300\" ></td>\n",
       "      <td>==> Because You Saw ==></td>\n",
       "      <td><img src=\"https://m.media-amazon.com/images/M/MV5BMDU2ZWJlMjktMTRhMy00ZTA5LWEzNDgtYmNmZTEwZTViZWJkXkEyXkFqcGdeQXVyNDQ2OTk4MzI@._V1_SX300.jpg\" width=\"300\" ></td>\n",
       "      <td>3.7</td>\n",
       "    </tr>\n",
       "    <tr>\n",
       "      <th>8</th>\n",
       "      <td>-0.10</td>\n",
       "      <td>3.0</td>\n",
       "      <td>We Recommend ==></td>\n",
       "      <td><img src=\"https://m.media-amazon.com/images/M/MV5BMGM5Zjg0MzktYmZmZC00OWU5LTgzZDQtODM1NjdjMGE4ZDVlXkEyXkFqcGdeQXVyMTQxNzMzNDI@._V1_SX300.jpg\" width=\"300\" ></td>\n",
       "      <td>==> Because You Saw ==></td>\n",
       "      <td><img src=\"https://m.media-amazon.com/images/M/MV5BMDU2ZWJlMjktMTRhMy00ZTA5LWEzNDgtYmNmZTEwZTViZWJkXkEyXkFqcGdeQXVyNDQ2OTk4MzI@._V1_SX300.jpg\" width=\"300\" ></td>\n",
       "      <td>3.7</td>\n",
       "    </tr>\n",
       "  </tbody>\n",
       "</table>"
      ],
      "text/plain": [
       "<IPython.core.display.HTML object>"
      ]
     },
     "metadata": {},
     "output_type": "display_data"
    }
   ],
   "source": [
    "builder.item_recommender(REC_SYS_CFG.name, n_sim_items = 10) \\\n",
    "    .recommend(item_id=1, k=10) \\\n",
    "    .show()"
   ]
  },
  {
   "cell_type": "code",
   "execution_count": null,
   "id": "7d33b809-330c-42e2-bc4a-1e93b42bd5e8",
   "metadata": {},
   "outputs": [],
   "source": []
  }
 ],
 "metadata": {
  "kernelspec": {
   "display_name": "Python 3 (ipykernel)",
   "language": "python",
   "name": "python3"
  },
  "language_info": {
   "codemirror_mode": {
    "name": "ipython",
    "version": 3
   },
   "file_extension": ".py",
   "mimetype": "text/x-python",
   "name": "python",
   "nbconvert_exporter": "python",
   "pygments_lexer": "ipython3",
   "version": "3.10.11"
  },
  "widgets": {
   "application/vnd.jupyter.widget-state+json": {
    "state": {
     "0dd0526de6c6438f8916d654758138a6": {
      "model_module": "@jupyter-widgets/controls",
      "model_module_version": "2.0.0",
      "model_name": "FloatProgressModel",
      "state": {
       "bar_style": "success",
       "layout": "IPY_MODEL_3da2dd82456e4e288240c9e51fa63a1c",
       "max": 551,
       "style": "IPY_MODEL_ec136ef906344a04b87697f4e2458b28",
       "value": 551
      }
     },
     "24cd8e3ba4b94e67a5bd590a0973ede5": {
      "model_module": "@jupyter-widgets/controls",
      "model_module_version": "2.0.0",
      "model_name": "HTMLModel",
      "state": {
       "layout": "IPY_MODEL_91d1056cc639489cb4432ce4abbedd92",
       "style": "IPY_MODEL_ba9d3d7295e04407a7104b7c4af420a0",
       "value": " 551/551 [00:18&lt;00:00, 84.66it/s]"
      }
     },
     "2c77d4b341054ee2873ed8349739e15c": {
      "model_module": "@jupyter-widgets/controls",
      "model_module_version": "2.0.0",
      "model_name": "HTMLModel",
      "state": {
       "layout": "IPY_MODEL_6c35ed30c2ef43a09480fc86fd4868cd",
       "style": "IPY_MODEL_cef3d4efcc2d4eb684c48bfd11686b6f",
       "value": "Batches: 100%"
      }
     },
     "3da2dd82456e4e288240c9e51fa63a1c": {
      "model_module": "@jupyter-widgets/base",
      "model_module_version": "2.0.0",
      "model_name": "LayoutModel",
      "state": {}
     },
     "411f81247aa448d3b9c9289c07c59c76": {
      "model_module": "@jupyter-widgets/controls",
      "model_module_version": "2.0.0",
      "model_name": "HBoxModel",
      "state": {
       "children": [
        "IPY_MODEL_2c77d4b341054ee2873ed8349739e15c",
        "IPY_MODEL_0dd0526de6c6438f8916d654758138a6",
        "IPY_MODEL_24cd8e3ba4b94e67a5bd590a0973ede5"
       ],
       "layout": "IPY_MODEL_f0bc2bf68f6045dc81205404f3d7902c"
      }
     },
     "6c35ed30c2ef43a09480fc86fd4868cd": {
      "model_module": "@jupyter-widgets/base",
      "model_module_version": "2.0.0",
      "model_name": "LayoutModel",
      "state": {}
     },
     "91d1056cc639489cb4432ce4abbedd92": {
      "model_module": "@jupyter-widgets/base",
      "model_module_version": "2.0.0",
      "model_name": "LayoutModel",
      "state": {}
     },
     "ba9d3d7295e04407a7104b7c4af420a0": {
      "model_module": "@jupyter-widgets/controls",
      "model_module_version": "2.0.0",
      "model_name": "HTMLStyleModel",
      "state": {
       "description_width": "",
       "font_size": null,
       "text_color": null
      }
     },
     "cef3d4efcc2d4eb684c48bfd11686b6f": {
      "model_module": "@jupyter-widgets/controls",
      "model_module_version": "2.0.0",
      "model_name": "HTMLStyleModel",
      "state": {
       "description_width": "",
       "font_size": null,
       "text_color": null
      }
     },
     "ec136ef906344a04b87697f4e2458b28": {
      "model_module": "@jupyter-widgets/controls",
      "model_module_version": "2.0.0",
      "model_name": "ProgressStyleModel",
      "state": {
       "description_width": ""
      }
     },
     "f0bc2bf68f6045dc81205404f3d7902c": {
      "model_module": "@jupyter-widgets/base",
      "model_module_version": "2.0.0",
      "model_name": "LayoutModel",
      "state": {}
     }
    },
    "version_major": 2,
    "version_minor": 0
   }
  }
 },
 "nbformat": 4,
 "nbformat_minor": 5
}
