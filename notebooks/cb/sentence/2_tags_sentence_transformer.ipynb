{
 "cells": [
  {
   "cell_type": "markdown",
   "id": "0417277b-47df-4113-a7b3-8f960db06f1d",
   "metadata": {
    "tags": []
   },
   "source": [
    "# Models: Movie Tags Sentence Transformer"
   ]
  },
  {
   "cell_type": "code",
   "execution_count": 1,
   "id": "8dde5e70-5b86-460f-8791-20fcb554c378",
   "metadata": {},
   "outputs": [],
   "source": [
    "%load_ext autoreload\n",
    "%autoreload 2\n",
    "BASE_PATH='../../..'"
   ]
  },
  {
   "cell_type": "code",
   "execution_count": 2,
   "id": "64bcd5e3-d556-4f6a-92c8-b84d41f5d954",
   "metadata": {},
   "outputs": [],
   "source": [
    "BASE_PATH        = '../../..'\n",
    "LIB_PATH         = f'{BASE_PATH}/lib'\n",
    "DATASET_PATH     = f'{BASE_PATH}/datasets'\n",
    "FIELD            = 'tags'\n",
    "EMBEDDING_PATH   = f'{BASE_PATH}/datasets/movie_{FIELD}_embedding_bert.json'\n",
    "COLLECTION_NAMES = [FIELD]"
   ]
  },
  {
   "cell_type": "code",
   "execution_count": 3,
   "id": "f98e7bf4-f41a-43f6-b7b7-a991d00f82de",
   "metadata": {},
   "outputs": [
    {
     "name": "stderr",
     "output_type": "stream",
     "text": [
      "2023-05-02 20:07:48.683323: I tensorflow/core/platform/cpu_feature_guard.cc:182] This TensorFlow binary is optimized to use available CPU instructions in performance-critical operations.\n",
      "To enable the following instructions: AVX2 FMA, in other operations, rebuild TensorFlow with the appropriate compiler flags.\n"
     ]
    },
    {
     "data": {
      "text/plain": [
       "<Figure size 640x480 with 0 Axes>"
      ]
     },
     "metadata": {},
     "output_type": "display_data"
    }
   ],
   "source": [
    "import sys\n",
    "sys.path.append(LIB_PATH)\n",
    "\n",
    "import numpy as np\n",
    "import pandas as pd\n",
    "import torch\n",
    "\n",
    "import pytorch_common.util as pu\n",
    "from pytorch_common.util import set_device_name, \\\n",
    "                                get_device, \\\n",
    "                                LoggerBuilder\n",
    "\n",
    "import model as ml\n",
    "import data as dt\n",
    "import data.dataset as ds\n",
    "\n",
    "import data.plot as pl\n",
    "import data as dt\n",
    "\n",
    "import util as ut\n",
    "\n",
    "from context import AppContextFactory\n",
    "\n",
    "from sentence_transformers import SentenceTransformer"
   ]
  },
  {
   "cell_type": "markdown",
   "id": "40c1da33-a8da-47c9-b174-0b0885b05b50",
   "metadata": {},
   "source": [
    "## Setup"
   ]
  },
  {
   "cell_type": "code",
   "execution_count": 4,
   "id": "e60a3838-9787-411d-b9f1-8a942321cbb1",
   "metadata": {},
   "outputs": [
    {
     "data": {
      "text/plain": [
       "<RootLogger root (INFO)>"
      ]
     },
     "execution_count": 4,
     "metadata": {},
     "output_type": "execute_result"
    }
   ],
   "source": [
    "pu.LoggerBuilder().on_console().build()"
   ]
  },
  {
   "cell_type": "code",
   "execution_count": 5,
   "id": "9fd7574f-043a-4fc3-8ab8-bfd55b6a92d8",
   "metadata": {},
   "outputs": [
    {
     "data": {
      "text/plain": [
       "(device(type='cuda', index=0), True, '1.11.0')"
      ]
     },
     "execution_count": 5,
     "metadata": {},
     "output_type": "execute_result"
    }
   ],
   "source": [
    "pu.set_device_name('gpu')\n",
    "\n",
    "pu.get_device(), torch.cuda.is_available(), torch.__version__, torch.cuda.get_arch_list()"
   ]
  },
  {
   "cell_type": "code",
   "execution_count": 6,
   "id": "72f9d948-5300-4141-8fbc-4423669b2c58",
   "metadata": {},
   "outputs": [],
   "source": [
    "ut.set_seed(42)"
   ]
  },
  {
   "cell_type": "markdown",
   "id": "b8334d07-f306-42b4-8ea1-cc27b82eb343",
   "metadata": {},
   "source": [
    "## Carga de dataset"
   ]
  },
  {
   "cell_type": "code",
   "execution_count": 7,
   "id": "c34c660c-4802-498a-81b7-07bed14de07f",
   "metadata": {},
   "outputs": [],
   "source": [
    "dataset = ds.MovieLensTMDBDataLoader.df_from_path(DATASET_PATH)"
   ]
  },
  {
   "cell_type": "markdown",
   "id": "7feb7663-3aba-4e98-8421-bfb69efd5486",
   "metadata": {},
   "source": [
    "Select movies overview and add new curated tokens column:"
   ]
  },
  {
   "cell_type": "code",
   "execution_count": 8,
   "id": "1a181992-3b3a-47e0-8cc0-a4f80485e214",
   "metadata": {},
   "outputs": [
    {
     "name": "stdout",
     "output_type": "stream",
     "text": [
      "<class 'pandas.core.frame.DataFrame'>\n",
      "RangeIndex: 17611 entries, 0 to 17610\n",
      "Data columns (total 6 columns):\n",
      " #   Column        Non-Null Count  Dtype \n",
      "---  ------        --------------  ----- \n",
      " 0   id            17611 non-null  int64 \n",
      " 1   release_year  17611 non-null  int64 \n",
      " 2   imdb_id       17611 non-null  int64 \n",
      " 3   title         17611 non-null  string\n",
      " 4   tags          17611 non-null  object\n",
      " 5   tags_tokens   17611 non-null  object\n",
      "dtypes: int64(3), object(2), string(1)\n",
      "memory usage: 825.6+ KB\n"
     ]
    }
   ],
   "source": [
    "columns = ['movie_id', 'movie_release_year', 'movie_imdb_id', 'movie_title', f'movie_{FIELD}']\n",
    "\n",
    "movie_data = dataset \\\n",
    "    .pipe(dt.select, columns) \\\n",
    "    .pipe(dt.distinct, ['movie_id']) \\\n",
    "    .pipe(dt.rename, {\n",
    "        'movie_id': 'id', \n",
    "        'movie_title': 'title',\n",
    "        'movie_imdb_id': 'imdb_id',  \n",
    "        'movie_release_year': 'release_year',\n",
    "        f'movie_{FIELD}': FIELD\n",
    "    }) \\\n",
    "    .pipe(dt.join_str_list, FIELD) \\\n",
    "    .pipe(dt.tokenize, FIELD) \\\n",
    "    .pipe(dt.reset_index)\n",
    "\n",
    "movie_data.info()"
   ]
  },
  {
   "cell_type": "markdown",
   "id": "c81ebd42-69d1-4c70-86bd-21fdf655ea17",
   "metadata": {
    "tags": []
   },
   "source": [
    "## Definicion del modelo"
   ]
  },
  {
   "cell_type": "code",
   "execution_count": 9,
   "id": "1fd7ac7d-5405-4c31-b948-025d498aab74",
   "metadata": {},
   "outputs": [
    {
     "name": "stderr",
     "output_type": "stream",
     "text": [
      "2023-05-02 20:07:51,845 - INFO - Load pretrained SentenceTransformer: all-roberta-large-v1\n",
      "2023-05-02 20:07:53,743 - INFO - Use pytorch device: cuda\n"
     ]
    }
   ],
   "source": [
    "model = SentenceTransformer('all-roberta-large-v1')"
   ]
  },
  {
   "cell_type": "markdown",
   "id": "5f73b173-49dd-4995-a80f-51c24d4a10f8",
   "metadata": {},
   "source": [
    "## Generacion de embeddings"
   ]
  },
  {
   "cell_type": "code",
   "execution_count": 11,
   "id": "38f65cff-be8b-42db-ae06-6ca24b017b98",
   "metadata": {},
   "outputs": [
    {
     "data": {
      "application/json": {
       "ascii": false,
       "bar_format": null,
       "colour": null,
       "elapsed": 0.0032231807708740234,
       "initial": 0,
       "n": 0,
       "ncols": null,
       "nrows": 40,
       "postfix": null,
       "prefix": "Batches",
       "rate": null,
       "total": 551,
       "unit": "it",
       "unit_divisor": 1000,
       "unit_scale": false
      },
      "application/vnd.jupyter.widget-view+json": {
       "model_id": "cee0cd70aa944737b1613052b46bd6f3",
       "version_major": 2,
       "version_minor": 0
      },
      "text/plain": [
       "Batches:   0%|          | 0/551 [00:00<?, ?it/s]"
      ]
     },
     "metadata": {},
     "output_type": "display_data"
    }
   ],
   "source": [
    "embeddings = model.encode(movie_data[[FIELD]].values.reshape(-1))\n",
    "\n",
    "movie_data = movie_data \\\n",
    "    .pipe(dt.append_emb_vectors, embeddings, FIELD)\n",
    "\n",
    "movie_data.to_json(EMBEDDING_PATH)\n",
    "\n",
    "del model"
   ]
  },
  {
   "cell_type": "markdown",
   "id": "d43c9369-047c-45ea-863c-304319bc63f0",
   "metadata": {
    "tags": []
   },
   "source": [
    "## Evaluación"
   ]
  },
  {
   "cell_type": "code",
   "execution_count": 12,
   "id": "1e04ad95-6bb9-4949-a86b-27db881d26bf",
   "metadata": {},
   "outputs": [
    {
     "name": "stderr",
     "output_type": "stream",
     "text": [
      "2023-05-02 20:08:47,061 - INFO - Anonymized telemetry enabled. See https://docs.trychroma.com/telemetry for more information.\n",
      "2023-05-02 20:08:47,062 - INFO - Running Chroma using direct local API.\n",
      "2023-05-02 20:08:47,069 - WARNING - Using embedded DuckDB without persistence: data will be transient\n",
      "2023-05-02 20:08:47,073 - INFO - Successfully imported ClickHouse Connect C data optimizations\n",
      "2023-05-02 20:08:47,073 - INFO - Successfully import ClickHouse Connect C/Numpy optimizations\n",
      "2023-05-02 20:08:47,076 - INFO - Using python library for writing JSON byte strings\n",
      "2023-05-02 20:08:48,002 - WARNING - No embedding_function provided, using default embedding function: SentenceTransformerEmbeddingFunction\n",
      "2023-05-02 20:08:48,003 - INFO - Load pretrained SentenceTransformer: all-MiniLM-L6-v2\n",
      "2023-05-02 20:08:48,132 - INFO - Use pytorch device: cuda\n"
     ]
    }
   ],
   "source": [
    "ctx = AppContextFactory(DATASET_PATH, COLLECTION_NAMES)"
   ]
  },
  {
   "cell_type": "code",
   "execution_count": 13,
   "id": "abd0eefb-5010-4b2d-8af5-379ee9c0bb50",
   "metadata": {
    "tags": []
   },
   "outputs": [
    {
     "data": {
      "text/html": [
       "<table border=\"1\" class=\"dataframe\">\n",
       "  <thead>\n",
       "    <tr style=\"text-align: right;\">\n",
       "      <th></th>\n",
       "      <th>Similarity</th>\n",
       "      <th>Rating</th>\n",
       "      <th>.</th>\n",
       "      <th>Recommended Movies</th>\n",
       "      <th>..</th>\n",
       "      <th>Already seen movies</th>\n",
       "      <th>Rating</th>\n",
       "    </tr>\n",
       "  </thead>\n",
       "  <tbody>\n",
       "    <tr>\n",
       "      <th>0</th>\n",
       "      <td>0.65</td>\n",
       "      <td>3.7</td>\n",
       "      <td>We Recommend ==></td>\n",
       "      <td><img src=\"https://m.media-amazon.com/images/M/MV5BZjMxYzBiNjUtZDliNC00MDAyLTg3N2QtOWNjNmNhZGQzNDg5XkEyXkFqcGdeQXVyNjE2MjQwNjc@._V1_SX300.jpg\" width=\"300\" ></td>\n",
       "      <td>==> Because You Saw ==></td>\n",
       "      <td><img src=\"https://m.media-amazon.com/images/M/MV5BMDU2ZWJlMjktMTRhMy00ZTA5LWEzNDgtYmNmZTEwZTViZWJkXkEyXkFqcGdeQXVyNDQ2OTk4MzI@._V1_SX300.jpg\" width=\"300\" ></td>\n",
       "      <td>3.7</td>\n",
       "    </tr>\n",
       "    <tr>\n",
       "      <th>1</th>\n",
       "      <td>0.59</td>\n",
       "      <td>4.0</td>\n",
       "      <td>We Recommend ==></td>\n",
       "      <td><img src=\"https://m.media-amazon.com/images/M/MV5BMjExMTg5OTU0NF5BMl5BanBnXkFtZTcwMjMxMzMzMw@@._V1_SX300.jpg\" width=\"300\" ></td>\n",
       "      <td>==> Because You Saw ==></td>\n",
       "      <td><img src=\"https://m.media-amazon.com/images/M/MV5BMDU2ZWJlMjktMTRhMy00ZTA5LWEzNDgtYmNmZTEwZTViZWJkXkEyXkFqcGdeQXVyNDQ2OTk4MzI@._V1_SX300.jpg\" width=\"300\" ></td>\n",
       "      <td>3.7</td>\n",
       "    </tr>\n",
       "    <tr>\n",
       "      <th>2</th>\n",
       "      <td>0.58</td>\n",
       "      <td>3.9</td>\n",
       "      <td>We Recommend ==></td>\n",
       "      <td><img src=\"https://m.media-amazon.com/images/M/MV5BYjBkM2RjMzItM2M3Ni00N2NjLWE3NzMtMGY4MzE4MDAzMTRiXkEyXkFqcGdeQXVyNDUzOTQ5MjY@._V1_SX300.jpg\" width=\"300\" ></td>\n",
       "      <td>==> Because You Saw ==></td>\n",
       "      <td><img src=\"https://m.media-amazon.com/images/M/MV5BMDU2ZWJlMjktMTRhMy00ZTA5LWEzNDgtYmNmZTEwZTViZWJkXkEyXkFqcGdeQXVyNDQ2OTk4MzI@._V1_SX300.jpg\" width=\"300\" ></td>\n",
       "      <td>3.7</td>\n",
       "    </tr>\n",
       "    <tr>\n",
       "      <th>3</th>\n",
       "      <td>0.55</td>\n",
       "      <td>3.9</td>\n",
       "      <td>We Recommend ==></td>\n",
       "      <td><img src=\"https://m.media-amazon.com/images/M/MV5BOGUwYTU4NGEtNDM4MS00NDRjLTkwNmQtOTkwMWMyMjhmMjdlXkEyXkFqcGdeQXVyMTMxODk2OTU@._V1_SX300.jpg\" width=\"300\" ></td>\n",
       "      <td>==> Because You Saw ==></td>\n",
       "      <td><img src=\"https://m.media-amazon.com/images/M/MV5BMDU2ZWJlMjktMTRhMy00ZTA5LWEzNDgtYmNmZTEwZTViZWJkXkEyXkFqcGdeQXVyNDQ2OTk4MzI@._V1_SX300.jpg\" width=\"300\" ></td>\n",
       "      <td>3.7</td>\n",
       "    </tr>\n",
       "    <tr>\n",
       "      <th>4</th>\n",
       "      <td>0.53</td>\n",
       "      <td>3.5</td>\n",
       "      <td>We Recommend ==></td>\n",
       "      <td><img src=\"https://m.media-amazon.com/images/M/MV5BMTg4MDk1ODExN15BMl5BanBnXkFtZTgwNzIyNjg3MDE@._V1_SX300.jpg\" width=\"300\" ></td>\n",
       "      <td>==> Because You Saw ==></td>\n",
       "      <td><img src=\"https://m.media-amazon.com/images/M/MV5BMDU2ZWJlMjktMTRhMy00ZTA5LWEzNDgtYmNmZTEwZTViZWJkXkEyXkFqcGdeQXVyNDQ2OTk4MzI@._V1_SX300.jpg\" width=\"300\" ></td>\n",
       "      <td>3.7</td>\n",
       "    </tr>\n",
       "    <tr>\n",
       "      <th>5</th>\n",
       "      <td>0.52</td>\n",
       "      <td>3.9</td>\n",
       "      <td>We Recommend ==></td>\n",
       "      <td><img src=\"https://m.media-amazon.com/images/M/MV5BMTgxOTY4Mjc0MF5BMl5BanBnXkFtZTcwNTA4MDQyMw@@._V1_SX300.jpg\" width=\"300\" ></td>\n",
       "      <td>==> Because You Saw ==></td>\n",
       "      <td><img src=\"https://m.media-amazon.com/images/M/MV5BMDU2ZWJlMjktMTRhMy00ZTA5LWEzNDgtYmNmZTEwZTViZWJkXkEyXkFqcGdeQXVyNDQ2OTk4MzI@._V1_SX300.jpg\" width=\"300\" ></td>\n",
       "      <td>3.7</td>\n",
       "    </tr>\n",
       "    <tr>\n",
       "      <th>6</th>\n",
       "      <td>0.50</td>\n",
       "      <td>3.8</td>\n",
       "      <td>We Recommend ==></td>\n",
       "      <td><img src=\"https://m.media-amazon.com/images/M/MV5BNGYyZGM5MGMtYTY2Ni00M2Y1LWIzNjQtYWUzM2VlNGVhMDNhXkEyXkFqcGdeQXVyMTMxODk2OTU@._V1_SX300.jpg\" width=\"300\" ></td>\n",
       "      <td>==> Because You Saw ==></td>\n",
       "      <td><img src=\"https://m.media-amazon.com/images/M/MV5BMDU2ZWJlMjktMTRhMy00ZTA5LWEzNDgtYmNmZTEwZTViZWJkXkEyXkFqcGdeQXVyNDQ2OTk4MzI@._V1_SX300.jpg\" width=\"300\" ></td>\n",
       "      <td>3.7</td>\n",
       "    </tr>\n",
       "    <tr>\n",
       "      <th>7</th>\n",
       "      <td>0.49</td>\n",
       "      <td>3.9</td>\n",
       "      <td>We Recommend ==></td>\n",
       "      <td><img src=\"https://m.media-amazon.com/images/M/MV5BYTYxNGMyZTYtMjE3MS00MzNjLWFjNmYtMDk3N2FmM2JiM2M1XkEyXkFqcGdeQXVyNjY5NDU4NzI@._V1_SX300.jpg\" width=\"300\" ></td>\n",
       "      <td>==> Because You Saw ==></td>\n",
       "      <td><img src=\"https://m.media-amazon.com/images/M/MV5BMDU2ZWJlMjktMTRhMy00ZTA5LWEzNDgtYmNmZTEwZTViZWJkXkEyXkFqcGdeQXVyNDQ2OTk4MzI@._V1_SX300.jpg\" width=\"300\" ></td>\n",
       "      <td>3.7</td>\n",
       "    </tr>\n",
       "    <tr>\n",
       "      <th>8</th>\n",
       "      <td>0.48</td>\n",
       "      <td>4.0</td>\n",
       "      <td>We Recommend ==></td>\n",
       "      <td><img src=\"https://m.media-amazon.com/images/M/MV5BMjA5NDQyMjc2NF5BMl5BanBnXkFtZTcwMjg5ODcyMw@@._V1_SX300.jpg\" width=\"300\" ></td>\n",
       "      <td>==> Because You Saw ==></td>\n",
       "      <td><img src=\"https://m.media-amazon.com/images/M/MV5BMDU2ZWJlMjktMTRhMy00ZTA5LWEzNDgtYmNmZTEwZTViZWJkXkEyXkFqcGdeQXVyNDQ2OTk4MzI@._V1_SX300.jpg\" width=\"300\" ></td>\n",
       "      <td>3.7</td>\n",
       "    </tr>\n",
       "  </tbody>\n",
       "</table>"
      ],
      "text/plain": [
       "<IPython.core.display.HTML object>"
      ]
     },
     "metadata": {},
     "output_type": "display_data"
    }
   ],
   "source": [
    "ctx.tag_item_recommender(n_sim_items=10) \\\n",
    "    .recommend(item_id=1, k=10) \\\n",
    "    .show()"
   ]
  }
 ],
 "metadata": {
  "kernelspec": {
   "display_name": "Python 3 (ipykernel)",
   "language": "python",
   "name": "python3"
  },
  "language_info": {
   "codemirror_mode": {
    "name": "ipython",
    "version": 3
   },
   "file_extension": ".py",
   "mimetype": "text/x-python",
   "name": "python",
   "nbconvert_exporter": "python",
   "pygments_lexer": "ipython3",
   "version": "3.10.11"
  },
  "widgets": {
   "application/vnd.jupyter.widget-state+json": {
    "state": {},
    "version_major": 2,
    "version_minor": 0
   }
  }
 },
 "nbformat": 4,
 "nbformat_minor": 5
}
