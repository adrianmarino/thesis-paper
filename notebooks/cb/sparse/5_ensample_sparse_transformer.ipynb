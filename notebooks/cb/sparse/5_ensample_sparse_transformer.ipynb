{
 "cells": [
  {
   "cell_type": "markdown",
   "id": "0417277b-47df-4113-a7b3-8f960db06f1d",
   "metadata": {
    "tags": []
   },
   "source": [
    "# Ensemple CB recommender based on Sparse Transformers"
   ]
  },
  {
   "cell_type": "code",
   "execution_count": 1,
   "id": "f6d757cd-805f-4956-a6f7-d098237a10de",
   "metadata": {
    "tags": []
   },
   "outputs": [],
   "source": [
    "%load_ext autoreload\n",
    "%autoreload 2"
   ]
  },
  {
   "cell_type": "code",
   "execution_count": 2,
   "id": "3c05351e-a588-40cc-8279-dde46563994f",
   "metadata": {
    "tags": []
   },
   "outputs": [],
   "source": [
    "BASE_PATH        = '../../..'\n",
    "LIB_PATH         = f'{BASE_PATH}/lib'\n",
    "DATASET_PATH     = f'{BASE_PATH}/datasets'"
   ]
  },
  {
   "cell_type": "code",
   "execution_count": 3,
   "id": "f98e7bf4-f41a-43f6-b7b7-a991d00f82de",
   "metadata": {
    "tags": []
   },
   "outputs": [
    {
     "name": "stderr",
     "output_type": "stream",
     "text": [
      "2023-05-05 18:32:40.259112: I tensorflow/core/platform/cpu_feature_guard.cc:182] This TensorFlow binary is optimized to use available CPU instructions in performance-critical operations.\n",
      "To enable the following instructions: AVX2 FMA, in other operations, rebuild TensorFlow with the appropriate compiler flags.\n",
      "Using embedded DuckDB without persistence: data will be transient\n"
     ]
    },
    {
     "data": {
      "text/plain": [
       "<Figure size 640x480 with 0 Axes>"
      ]
     },
     "metadata": {},
     "output_type": "display_data"
    }
   ],
   "source": [
    "import sys\n",
    "sys.path.append(LIB_PATH)\n",
    "\n",
    "import torch\n",
    "import pytorch_common.util as pu\n",
    "from pytorch_common.util import set_device_name, \\\n",
    "                                get_device, \\\n",
    "                                LoggerBuilder\n",
    "\n",
    "import data as dt\n",
    "import data.dataset as ds\n",
    "\n",
    "import util as ut\n",
    "\n",
    "from sentence_transformers import SentenceTransformer\n",
    "\n",
    "from recommender import ItemRecommenderBuilder, item_rec_sys_cfg, PersonalizedItemEmbDBEnsembleRecommender"
   ]
  },
  {
   "cell_type": "markdown",
   "id": "40c1da33-a8da-47c9-b174-0b0885b05b50",
   "metadata": {},
   "source": [
    "## Setup"
   ]
  },
  {
   "cell_type": "code",
   "execution_count": 4,
   "id": "e60a3838-9787-411d-b9f1-8a942321cbb1",
   "metadata": {
    "tags": []
   },
   "outputs": [
    {
     "data": {
      "text/plain": [
       "<RootLogger root (INFO)>"
      ]
     },
     "execution_count": 4,
     "metadata": {},
     "output_type": "execute_result"
    }
   ],
   "source": [
    "pu.LoggerBuilder().on_console().build()"
   ]
  },
  {
   "cell_type": "code",
   "execution_count": 5,
   "id": "9fd7574f-043a-4fc3-8ab8-bfd55b6a92d8",
   "metadata": {
    "tags": []
   },
   "outputs": [
    {
     "data": {
      "text/plain": [
       "(device(type='cuda', index=0),\n",
       " True,\n",
       " '1.11.0',\n",
       " ['sm_37',\n",
       "  'sm_50',\n",
       "  'sm_60',\n",
       "  'sm_61',\n",
       "  'sm_70',\n",
       "  'sm_75',\n",
       "  'sm_80',\n",
       "  'sm_86',\n",
       "  'compute_37'])"
      ]
     },
     "execution_count": 5,
     "metadata": {},
     "output_type": "execute_result"
    }
   ],
   "source": [
    "pu.set_device_name('gpu')\n",
    "\n",
    "pu.get_device(), torch.cuda.is_available(), torch.__version__, torch.cuda.get_arch_list()"
   ]
  },
  {
   "cell_type": "code",
   "execution_count": 16,
   "id": "67bdad0a-d4c4-4daf-8612-3a2ff815bcbf",
   "metadata": {
    "tags": []
   },
   "outputs": [
    {
     "name": "stderr",
     "output_type": "stream",
     "text": [
      "2023-05-05 18:35:02,922 - INFO - Cfg:\n",
      "\n",
      "embedding_col: title_embedding\n",
      "file_path: ../../../datasets/title-tf-idf-sparse-auto-encoder.json\n",
      "metadata_cols:\n",
      "- title\n",
      "- release_year\n",
      "- imdb_id\n",
      "- title_tokens\n",
      "name: title-tf-idf-sparse-auto-encoder\n",
      "\n",
      "2023-05-05 18:35:02,923 - INFO - Cfg:\n",
      "\n",
      "embedding_col: tags_embedding\n",
      "file_path: ../../../datasets/tags-tf-idf-sparse-auto-encoder.json\n",
      "metadata_cols:\n",
      "- tags\n",
      "- release_year\n",
      "- imdb_id\n",
      "- tags_tokens\n",
      "- title\n",
      "name: tags-tf-idf-sparse-auto-encoder\n",
      "\n",
      "2023-05-05 18:35:02,924 - INFO - Cfg:\n",
      "\n",
      "embedding_col: genres_embedding\n",
      "file_path: ../../../datasets/genres-tf-idf-sparse-auto-encoder.json\n",
      "metadata_cols:\n",
      "- genres\n",
      "- release_year\n",
      "- imdb_id\n",
      "- genres_tokens\n",
      "- title\n",
      "name: genres-tf-idf-sparse-auto-encoder\n",
      "\n"
     ]
    }
   ],
   "source": [
    "TITLE_REC_SYS_CFG    = item_rec_sys_cfg(DATASET_PATH, 'title',    'tf-idf-sparse-auto-encoder')\n",
    "TAGS_REC_SYS_CFG     = item_rec_sys_cfg(DATASET_PATH, 'tags',     'tf-idf-sparse-auto-encoder')\n",
    "GENRES_REC_SYS_CFG   = item_rec_sys_cfg(DATASET_PATH, 'genres',   'tf-idf-sparse-auto-encoder')"
   ]
  },
  {
   "cell_type": "markdown",
   "id": "d43c9369-047c-45ea-863c-304319bc63f0",
   "metadata": {},
   "source": [
    "## Evaluación"
   ]
  },
  {
   "cell_type": "code",
   "execution_count": 8,
   "id": "5035ae74-f1fd-4eb2-b989-99b6957de0f4",
   "metadata": {
    "tags": []
   },
   "outputs": [
    {
     "name": "stderr",
     "output_type": "stream",
     "text": [
      "2023-05-05 18:34:15,258 - INFO - collection with name title-tf-idf-sparse-auto-encoder already exists, returning existing collection\n",
      "2023-05-05 18:34:15,258 - WARNING - No embedding_function provided, using default embedding function: SentenceTransformerEmbeddingFunction\n",
      "2023-05-05 18:34:15,258 - INFO - Load pretrained SentenceTransformer: all-MiniLM-L6-v2\n",
      "2023-05-05 18:34:15,369 - INFO - Use pytorch device: cuda\n",
      "2023-05-05 18:34:21,122 - INFO - collection with name tags-tf-idf-sparse-auto-encoder already exists, returning existing collection\n",
      "2023-05-05 18:34:21,123 - WARNING - No embedding_function provided, using default embedding function: SentenceTransformerEmbeddingFunction\n",
      "2023-05-05 18:34:21,123 - INFO - Load pretrained SentenceTransformer: all-MiniLM-L6-v2\n",
      "2023-05-05 18:34:21,239 - INFO - Use pytorch device: cuda\n",
      "2023-05-05 18:34:26,228 - INFO - collection with name genres-tf-idf-sparse-auto-encoder already exists, returning existing collection\n",
      "2023-05-05 18:34:26,229 - WARNING - No embedding_function provided, using default embedding function: SentenceTransformerEmbeddingFunction\n",
      "2023-05-05 18:34:26,229 - INFO - Load pretrained SentenceTransformer: all-MiniLM-L6-v2\n",
      "2023-05-05 18:34:26,352 - INFO - Use pytorch device: cuda\n",
      "2023-05-05 18:34:31,284 - WARNING - No embedding_function provided, using default embedding function: SentenceTransformerEmbeddingFunction\n",
      "2023-05-05 18:34:31,285 - INFO - Load pretrained SentenceTransformer: all-MiniLM-L6-v2\n",
      "2023-05-05 18:34:31,402 - INFO - Use pytorch device: cuda\n"
     ]
    }
   ],
   "source": [
    "builder = ItemRecommenderBuilder(\n",
    "    DATASET_PATH, \n",
    "    [\n",
    "        TITLE_REC_SYS_CFG, \n",
    "        TAGS_REC_SYS_CFG,\n",
    "        GENRES_REC_SYS_CFG\n",
    "    ]\n",
    ")"
   ]
  },
  {
   "cell_type": "code",
   "execution_count": 9,
   "id": "09a16458-9c13-404d-a0af-36510483fde5",
   "metadata": {
    "tags": []
   },
   "outputs": [
    {
     "data": {
      "text/plain": [
       "{'ids': [['3114', '1', '78499']],\n",
       " 'embeddings': None,\n",
       " 'documents': None,\n",
       " 'metadatas': [[{'title': 'Toy Story 2',\n",
       "    'release_year': 1999,\n",
       "    'imdb_id': 120363,\n",
       "    'title_tokens': 'toy story'},\n",
       "   {'title': 'Toy Story',\n",
       "    'release_year': 1995,\n",
       "    'imdb_id': 114709,\n",
       "    'title_tokens': 'toy story'},\n",
       "   {'title': 'Toy Story 3',\n",
       "    'release_year': 2010,\n",
       "    'imdb_id': 435761,\n",
       "    'title_tokens': 'toy story'}]],\n",
       " 'distances': [[0.0, 0.0, 0.0]]}"
      ]
     },
     "execution_count": 9,
     "metadata": {},
     "output_type": "execute_result"
    }
   ],
   "source": [
    "title_repo = builder.repositories[TITLE_REC_SYS_CFG.name]\n",
    "\n",
    "result = title_repo.search_by_ids([1])\n",
    "toy_story_emb = result['embeddings'][0]\n",
    "\n",
    "title_repo.search_sims(embs=[toy_story_emb], limit=3)"
   ]
  },
  {
   "cell_type": "code",
   "execution_count": 10,
   "id": "5ae08ca9-e38e-4b9e-9c1e-be3d0486a1db",
   "metadata": {
    "tags": []
   },
   "outputs": [],
   "source": [
    "user_ids = builder.repositories.dataset.users_id_from_movie_id(movie_id=1) "
   ]
  },
  {
   "cell_type": "code",
   "execution_count": 24,
   "id": "4a2d75b7-3be7-4d5a-bfcf-3dcd12e854ea",
   "metadata": {
    "tags": []
   },
   "outputs": [
    {
     "name": "stderr",
     "output_type": "stream",
     "text": [
      "2023-05-05 18:37:57,532 - INFO - Found 4 items by ids: Int64Index([131258, 14972, 20240, 15438, 9685, 2012, 14137, 26780, 15275,\n",
      "            128359],\n",
      "           dtype='int64').\n",
      "2023-05-05 18:37:57,537 - INFO - Found 3 similar to 2012 item.\n",
      "2023-05-05 18:37:57,542 - INFO - Found 3 similar to 131258 item.\n",
      "2023-05-05 18:37:57,547 - INFO - Found 3 similar to 2012 item.\n",
      "2023-05-05 18:37:57,551 - INFO - Found 3 similar to 131258 item.\n"
     ]
    },
    {
     "name": "stdout",
     "output_type": "stream",
     "text": [
      "\n",
      "Item Recommender: title-tf-idf-sparse-auto-encoder\n",
      "\n"
     ]
    },
    {
     "data": {
      "text/html": [
       "<table border=\"1\" class=\"dataframe\">\n",
       "  <thead>\n",
       "    <tr style=\"text-align: right;\">\n",
       "      <th></th>\n",
       "      <th>Similarity</th>\n",
       "      <th>Rating</th>\n",
       "      <th>.</th>\n",
       "      <th>Recommended Movies</th>\n",
       "      <th>..</th>\n",
       "      <th>Already seen movies</th>\n",
       "      <th>Rating</th>\n",
       "    </tr>\n",
       "  </thead>\n",
       "  <tbody>\n",
       "    <tr>\n",
       "      <th>0</th>\n",
       "      <td>-1.05</td>\n",
       "      <td>4.1</td>\n",
       "      <td>We Recommend ==></td>\n",
       "      <td><img src=\"https://m.media-amazon.com/images/M/MV5BZmU0M2Y1OGUtZjIxNi00ZjBkLTg1MjgtOWIyNThiZWIwYjRiXkEyXkFqcGdeQXVyMTQxNzMzNDI@._V1_SX300.jpg\" width=\"300\" ></td>\n",
       "      <td>==> Because You Saw ==></td>\n",
       "      <td><img src=\"https://m.media-amazon.com/images/M/MV5BYjhlMGYxNmMtOWFmMi00Y2M2LWE5NWYtZTdlMDRlMGEzMDA3XkEyXkFqcGdeQXVyMTQxNzMzNDI@._V1_SX300.jpg\" width=\"300\" ></td>\n",
       "      <td>3.5</td>\n",
       "    </tr>\n",
       "    <tr>\n",
       "      <th>3</th>\n",
       "      <td>-1.05</td>\n",
       "      <td>4.1</td>\n",
       "      <td>We Recommend ==></td>\n",
       "      <td><img src=\"https://m.media-amazon.com/images/M/MV5BZmU0M2Y1OGUtZjIxNi00ZjBkLTg1MjgtOWIyNThiZWIwYjRiXkEyXkFqcGdeQXVyMTQxNzMzNDI@._V1_SX300.jpg\" width=\"300\" ></td>\n",
       "      <td>==> Because You Saw ==></td>\n",
       "      <td><img src=\"https://m.media-amazon.com/images/M/MV5BYjhlMGYxNmMtOWFmMi00Y2M2LWE5NWYtZTdlMDRlMGEzMDA3XkEyXkFqcGdeQXVyMTQxNzMzNDI@._V1_SX300.jpg\" width=\"300\" ></td>\n",
       "      <td>3.5</td>\n",
       "    </tr>\n",
       "    <tr>\n",
       "      <th>1</th>\n",
       "      <td>1.00</td>\n",
       "      <td>3.3</td>\n",
       "      <td>We Recommend ==></td>\n",
       "      <td><img src=\"https://m.media-amazon.com/images/M/MV5BZWMwNTk5ZTgtOGU3OC00MGFlLTk4MWItN2Y0YTUwMGJjN2Q2XkEyXkFqcGdeQXVyODM3NzY4NzY@._V1_SX300.jpg\" width=\"300\" ></td>\n",
       "      <td>==> Because You Saw ==></td>\n",
       "      <td><img src=\"https://m.media-amazon.com/images/M/MV5BZjI3ZmFmNGItZjkwOC00OGU5LWFkZjctNWRkZmM4OWY5Yzk5XkEyXkFqcGdeQXVyMTA4NjE0NjEy._V1_SX300.jpg\" width=\"300\" ></td>\n",
       "      <td>3.0</td>\n",
       "    </tr>\n",
       "    <tr>\n",
       "      <th>2</th>\n",
       "      <td>1.00</td>\n",
       "      <td>3.3</td>\n",
       "      <td>We Recommend ==></td>\n",
       "      <td><img src=\"https://m.media-amazon.com/images/M/MV5BZWMwNTk5ZTgtOGU3OC00MGFlLTk4MWItN2Y0YTUwMGJjN2Q2XkEyXkFqcGdeQXVyODM3NzY4NzY@._V1_SX300.jpg\" width=\"300\" ></td>\n",
       "      <td>==> Because You Saw ==></td>\n",
       "      <td><img src=\"https://m.media-amazon.com/images/M/MV5BZjI3ZmFmNGItZjkwOC00OGU5LWFkZjctNWRkZmM4OWY5Yzk5XkEyXkFqcGdeQXVyMTA4NjE0NjEy._V1_SX300.jpg\" width=\"300\" ></td>\n",
       "      <td>3.0</td>\n",
       "    </tr>\n",
       "    <tr>\n",
       "      <th>4</th>\n",
       "      <td>1.00</td>\n",
       "      <td>3.3</td>\n",
       "      <td>We Recommend ==></td>\n",
       "      <td><img src=\"https://m.media-amazon.com/images/M/MV5BZWMwNTk5ZTgtOGU3OC00MGFlLTk4MWItN2Y0YTUwMGJjN2Q2XkEyXkFqcGdeQXVyODM3NzY4NzY@._V1_SX300.jpg\" width=\"300\" ></td>\n",
       "      <td>==> Because You Saw ==></td>\n",
       "      <td><img src=\"https://m.media-amazon.com/images/M/MV5BZjI3ZmFmNGItZjkwOC00OGU5LWFkZjctNWRkZmM4OWY5Yzk5XkEyXkFqcGdeQXVyMTA4NjE0NjEy._V1_SX300.jpg\" width=\"300\" ></td>\n",
       "      <td>3.0</td>\n",
       "    </tr>\n",
       "  </tbody>\n",
       "</table>"
      ],
      "text/plain": [
       "<IPython.core.display.HTML object>"
      ]
     },
     "metadata": {},
     "output_type": "display_data"
    }
   ],
   "source": [
    "builder \\\n",
    "    .personalized_item_recommender(TITLE_REC_SYS_CFG.name) \\\n",
    "    .recommend(user_id=user_ids[130]) \\\n",
    "    .show()"
   ]
  },
  {
   "cell_type": "code",
   "execution_count": 25,
   "id": "727e8bc2-5eab-4502-8097-70e2fcc91cec",
   "metadata": {
    "tags": []
   },
   "outputs": [
    {
     "name": "stderr",
     "output_type": "stream",
     "text": [
      "2023-05-05 18:38:02,148 - INFO - Found 2 items by ids: Int64Index([131258, 14972, 20240, 15438, 9685, 2012, 14137, 26780, 15275,\n",
      "            128359],\n",
      "           dtype='int64').\n",
      "2023-05-05 18:38:02,156 - INFO - Found 3 similar to 2012 item.\n",
      "2023-05-05 18:38:02,162 - INFO - Found 3 similar to 131258 item.\n"
     ]
    },
    {
     "name": "stdout",
     "output_type": "stream",
     "text": [
      "\n",
      "Item Recommender: genres-tf-idf-sparse-auto-encoder\n",
      "\n"
     ]
    },
    {
     "data": {
      "text/html": [
       "<table border=\"1\" class=\"dataframe\">\n",
       "  <thead>\n",
       "    <tr style=\"text-align: right;\">\n",
       "      <th></th>\n",
       "      <th>Similarity</th>\n",
       "      <th>Rating</th>\n",
       "      <th>.</th>\n",
       "      <th>Recommended Movies</th>\n",
       "      <th>..</th>\n",
       "      <th>Already seen movies</th>\n",
       "      <th>Rating</th>\n",
       "    </tr>\n",
       "  </thead>\n",
       "  <tbody>\n",
       "    <tr>\n",
       "      <th>0</th>\n",
       "      <td>0.54</td>\n",
       "      <td>3.3</td>\n",
       "      <td>We Recommend ==></td>\n",
       "      <td><img src=\"https://m.media-amazon.com/images/M/MV5BMWQ4MzI2ZDQtYjk3MS00ODdjLTkwN2QtOTBjYzIwM2RmNzgyXkEyXkFqcGdeQXVyMTQxNzMzNDI@._V1_SX300.jpg\" width=\"300\" ></td>\n",
       "      <td>==> Because You Saw ==></td>\n",
       "      <td><img src=\"https://m.media-amazon.com/images/M/MV5BYjhlMGYxNmMtOWFmMi00Y2M2LWE5NWYtZTdlMDRlMGEzMDA3XkEyXkFqcGdeQXVyMTQxNzMzNDI@._V1_SX300.jpg\" width=\"300\" ></td>\n",
       "      <td>3.5</td>\n",
       "    </tr>\n",
       "    <tr>\n",
       "      <th>1</th>\n",
       "      <td>0.42</td>\n",
       "      <td>2.5</td>\n",
       "      <td>We Recommend ==></td>\n",
       "      <td><img src=\"https://m.media-amazon.com/images/M/MV5BMjc0N2RjOTItOGUwMi00NTYzLWExMGUtYzlmYTVjOTQ3ZGJhXkEyXkFqcGdeQXVyNzMzMjU5NDY@._V1_SX300.jpg\" width=\"300\" ></td>\n",
       "      <td>==> Because You Saw ==></td>\n",
       "      <td><img src=\"https://m.media-amazon.com/images/M/MV5BYjhlMGYxNmMtOWFmMi00Y2M2LWE5NWYtZTdlMDRlMGEzMDA3XkEyXkFqcGdeQXVyMTQxNzMzNDI@._V1_SX300.jpg\" width=\"300\" ></td>\n",
       "      <td>3.5</td>\n",
       "    </tr>\n",
       "    <tr>\n",
       "      <th>2</th>\n",
       "      <td>0.86</td>\n",
       "      <td>4.2</td>\n",
       "      <td>We Recommend ==></td>\n",
       "      <td><img src=\"https://m.media-amazon.com/images/M/MV5BYTU2OWY4MzAtN2MwZS00N2MxLWFjOGEtODgxYTdkYmQ1MmFiXkEyXkFqcGdeQXVyMjA0MzYwMDY@._V1_SX300.jpg\" width=\"300\" ></td>\n",
       "      <td>==> Because You Saw ==></td>\n",
       "      <td><img src=\"https://m.media-amazon.com/images/M/MV5BZjI3ZmFmNGItZjkwOC00OGU5LWFkZjctNWRkZmM4OWY5Yzk5XkEyXkFqcGdeQXVyMTA4NjE0NjEy._V1_SX300.jpg\" width=\"300\" ></td>\n",
       "      <td>3.0</td>\n",
       "    </tr>\n",
       "    <tr>\n",
       "      <th>3</th>\n",
       "      <td>0.86</td>\n",
       "      <td>1.0</td>\n",
       "      <td>We Recommend ==></td>\n",
       "      <td><img src=\"https://m.media-amazon.com/images/M/MV5BN2ZmZTYwNTgtOTE0Zi00YzU0LWI0MmUtMDIxMGE4MjYwZDdhXkEyXkFqcGdeQXVyNjA5MTAzODY@._V1_SX300.jpg\" width=\"300\" ></td>\n",
       "      <td>==> Because You Saw ==></td>\n",
       "      <td><img src=\"https://m.media-amazon.com/images/M/MV5BZjI3ZmFmNGItZjkwOC00OGU5LWFkZjctNWRkZmM4OWY5Yzk5XkEyXkFqcGdeQXVyMTA4NjE0NjEy._V1_SX300.jpg\" width=\"300\" ></td>\n",
       "      <td>3.0</td>\n",
       "    </tr>\n",
       "    <tr>\n",
       "      <th>4</th>\n",
       "      <td>0.86</td>\n",
       "      <td>3.0</td>\n",
       "      <td>We Recommend ==></td>\n",
       "      <td><img src=\"https://m.media-amazon.com/images/M/MV5BZjFlNzQzYjQtNzc2ZS00MmYyLThlYjYtMGJiNDdjMDU0OGFjXkEyXkFqcGdeQXVyMjUxODE0MDY@._V1_SX300.jpg\" width=\"300\" ></td>\n",
       "      <td>==> Because You Saw ==></td>\n",
       "      <td><img src=\"https://m.media-amazon.com/images/M/MV5BZjI3ZmFmNGItZjkwOC00OGU5LWFkZjctNWRkZmM4OWY5Yzk5XkEyXkFqcGdeQXVyMTA4NjE0NjEy._V1_SX300.jpg\" width=\"300\" ></td>\n",
       "      <td>3.0</td>\n",
       "    </tr>\n",
       "  </tbody>\n",
       "</table>"
      ],
      "text/plain": [
       "<IPython.core.display.HTML object>"
      ]
     },
     "metadata": {},
     "output_type": "display_data"
    }
   ],
   "source": [
    "builder \\\n",
    "    .personalized_item_recommender(GENRES_REC_SYS_CFG.name) \\\n",
    "    .recommend(user_id=user_ids[130]) \\\n",
    "    .show()"
   ]
  },
  {
   "cell_type": "code",
   "execution_count": 26,
   "id": "82b0b1e7-313a-4ad3-a685-162fb9c387de",
   "metadata": {
    "tags": []
   },
   "outputs": [
    {
     "name": "stderr",
     "output_type": "stream",
     "text": [
      "2023-05-05 18:38:19,432 - INFO - Found 4 items by ids: Int64Index([131258, 14972, 20240, 15438, 9685, 2012, 14137, 26780, 15275,\n",
      "            128359],\n",
      "           dtype='int64').\n",
      "2023-05-05 18:38:19,439 - INFO - Found 3 similar to 2012 item.\n",
      "2023-05-05 18:38:19,444 - INFO - Found 3 similar to 131258 item.\n",
      "2023-05-05 18:38:19,449 - INFO - Found 3 similar to 2012 item.\n",
      "2023-05-05 18:38:19,453 - INFO - Found 3 similar to 131258 item.\n",
      "2023-05-05 18:38:19,458 - INFO - Found 2 items by ids: Int64Index([131258, 14972, 20240, 15438, 9685, 2012, 14137, 26780, 15275,\n",
      "            128359],\n",
      "           dtype='int64').\n",
      "2023-05-05 18:38:19,462 - INFO - Found 3 similar to 2012 item.\n",
      "2023-05-05 18:38:19,466 - INFO - Found 3 similar to 131258 item.\n"
     ]
    },
    {
     "name": "stdout",
     "output_type": "stream",
     "text": [
      "\n",
      "Item Recommender: Ensemble of title-tf-idf-sparse-auto-encoder, genres-tf-idf-sparse-auto-encoder.\n",
      "\n"
     ]
    },
    {
     "data": {
      "text/html": [
       "<table border=\"1\" class=\"dataframe\">\n",
       "  <thead>\n",
       "    <tr style=\"text-align: right;\">\n",
       "      <th></th>\n",
       "      <th>Rating</th>\n",
       "      <th>Recommended Movies</th>\n",
       "      <th>Similarity</th>\n",
       "    </tr>\n",
       "  </thead>\n",
       "  <tbody>\n",
       "    <tr>\n",
       "      <th>1</th>\n",
       "      <td>4.2</td>\n",
       "      <td><img src=\"https://m.media-amazon.com/images/M/MV5BYTU2OWY4MzAtN2MwZS00N2MxLWFjOGEtODgxYTdkYmQ1MmFiXkEyXkFqcGdeQXVyMjA0MzYwMDY@._V1_SX300.jpg\" width=\"300\" ></td>\n",
       "      <td>1.16</td>\n",
       "    </tr>\n",
       "    <tr>\n",
       "      <th>3</th>\n",
       "      <td>3.3</td>\n",
       "      <td><img src=\"https://m.media-amazon.com/images/M/MV5BZWMwNTk5ZTgtOGU3OC00MGFlLTk4MWItN2Y0YTUwMGJjN2Q2XkEyXkFqcGdeQXVyODM3NzY4NzY@._V1_SX300.jpg\" width=\"300\" ></td>\n",
       "      <td>1.70</td>\n",
       "    </tr>\n",
       "    <tr>\n",
       "      <th>4</th>\n",
       "      <td>3.3</td>\n",
       "      <td><img src=\"https://m.media-amazon.com/images/M/MV5BMWQ4MzI2ZDQtYjk3MS00ODdjLTkwN2QtOTBjYzIwM2RmNzgyXkEyXkFqcGdeQXVyMTQxNzMzNDI@._V1_SX300.jpg\" width=\"300\" ></td>\n",
       "      <td>0.84</td>\n",
       "    </tr>\n",
       "    <tr>\n",
       "      <th>5</th>\n",
       "      <td>3.0</td>\n",
       "      <td><img src=\"https://m.media-amazon.com/images/M/MV5BZjFlNzQzYjQtNzc2ZS00MmYyLThlYjYtMGJiNDdjMDU0OGFjXkEyXkFqcGdeQXVyMjUxODE0MDY@._V1_SX300.jpg\" width=\"300\" ></td>\n",
       "      <td>1.16</td>\n",
       "    </tr>\n",
       "    <tr>\n",
       "      <th>0</th>\n",
       "      <td>2.5</td>\n",
       "      <td><img src=\"https://m.media-amazon.com/images/M/MV5BMjc0N2RjOTItOGUwMi00NTYzLWExMGUtYzlmYTVjOTQ3ZGJhXkEyXkFqcGdeQXVyNzMzMjU5NDY@._V1_SX300.jpg\" width=\"300\" ></td>\n",
       "      <td>0.72</td>\n",
       "    </tr>\n",
       "    <tr>\n",
       "      <th>2</th>\n",
       "      <td>1.0</td>\n",
       "      <td><img src=\"https://m.media-amazon.com/images/M/MV5BN2ZmZTYwNTgtOTE0Zi00YzU0LWI0MmUtMDIxMGE4MjYwZDdhXkEyXkFqcGdeQXVyNjA5MTAzODY@._V1_SX300.jpg\" width=\"300\" ></td>\n",
       "      <td>1.16</td>\n",
       "    </tr>\n",
       "  </tbody>\n",
       "</table>"
      ],
      "text/plain": [
       "<IPython.core.display.HTML object>"
      ]
     },
     "metadata": {},
     "output_type": "display_data"
    }
   ],
   "source": [
    "PersonalizedItemEmbDBEnsembleRecommender(\n",
    "    recommenders=[\n",
    "        builder.personalized_item_recommender(\n",
    "            TITLE_REC_SYS_CFG.name,\n",
    "            n_top_rated_user_items=10,\n",
    "            n_sim_items=3\n",
    "        ),\n",
    "        builder.personalized_item_recommender(\n",
    "            GENRES_REC_SYS_CFG.name,\n",
    "            n_top_rated_user_items=10,\n",
    "            n_sim_items=3\n",
    "        )\n",
    "    ],\n",
    "    weights = [0.7, 0.3],\n",
    "    recommender_k = 5\n",
    ") \\\n",
    " .recommend(user_id=user_ids[130], k=10) \\\n",
    " .show()"
   ]
  },
  {
   "cell_type": "code",
   "execution_count": null,
   "id": "4024754f-8209-4017-924c-ea5263ec0ec7",
   "metadata": {},
   "outputs": [],
   "source": []
  }
 ],
 "metadata": {
  "kernelspec": {
   "display_name": "Python 3 (ipykernel)",
   "language": "python",
   "name": "python3"
  },
  "language_info": {
   "codemirror_mode": {
    "name": "ipython",
    "version": 3
   },
   "file_extension": ".py",
   "mimetype": "text/x-python",
   "name": "python",
   "nbconvert_exporter": "python",
   "pygments_lexer": "ipython3",
   "version": "3.10.11"
  },
  "widgets": {
   "application/vnd.jupyter.widget-state+json": {
    "state": {},
    "version_major": 2,
    "version_minor": 0
   }
  }
 },
 "nbformat": 4,
 "nbformat_minor": 5
}
