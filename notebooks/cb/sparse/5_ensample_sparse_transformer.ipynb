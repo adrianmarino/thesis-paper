{
 "cells": [
  {
   "cell_type": "markdown",
   "id": "0417277b-47df-4113-a7b3-8f960db06f1d",
   "metadata": {
    "tags": []
   },
   "source": [
    "# Ensemple CB recommender based on Sparse Transformers"
   ]
  },
  {
   "cell_type": "code",
   "execution_count": 1,
   "id": "f6d757cd-805f-4956-a6f7-d098237a10de",
   "metadata": {
    "tags": []
   },
   "outputs": [],
   "source": [
    "%load_ext autoreload\n",
    "%autoreload 2"
   ]
  },
  {
   "cell_type": "code",
   "execution_count": 2,
   "id": "3c05351e-a588-40cc-8279-dde46563994f",
   "metadata": {
    "tags": []
   },
   "outputs": [],
   "source": [
    "BASE_PATH        = '../../..'\n",
    "LIB_PATH         = f'{BASE_PATH}/lib'\n",
    "DATASET_PATH     = f'{BASE_PATH}/datasets'"
   ]
  },
  {
   "cell_type": "code",
   "execution_count": 3,
   "id": "f98e7bf4-f41a-43f6-b7b7-a991d00f82de",
   "metadata": {
    "tags": []
   },
   "outputs": [
    {
     "name": "stderr",
     "output_type": "stream",
     "text": [
      "2023-10-08 13:04:08.677079: I tensorflow/core/platform/cpu_feature_guard.cc:182] This TensorFlow binary is optimized to use available CPU instructions in performance-critical operations.\n",
      "To enable the following instructions: AVX2 FMA, in other operations, rebuild TensorFlow with the appropriate compiler flags.\n",
      "2023-10-08 13:04:09.198119: W tensorflow/compiler/tf2tensorrt/utils/py_utils.cc:38] TF-TRT Warning: Could not find TensorRT\n",
      "2023-10-08 13:04:09.770266: I tensorflow/compiler/xla/stream_executor/cuda/cuda_gpu_executor.cc:996] successful NUMA node read from SysFS had negative value (-1), but there must be at least one NUMA node, so returning NUMA node zero. See more at https://github.com/torvalds/linux/blob/v6.0/Documentation/ABI/testing/sysfs-bus-pci#L344-L355\n",
      "2023-10-08 13:04:09.781675: W tensorflow/core/common_runtime/gpu/gpu_device.cc:1956] Cannot dlopen some GPU libraries. Please make sure the missing libraries mentioned above are installed properly if you would like to use GPU. Follow the guide at https://www.tensorflow.org/install/gpu for how to download and setup the required libraries for your platform.\n",
      "Skipping registering GPU devices...\n"
     ]
    },
    {
     "data": {
      "text/plain": [
       "<Figure size 640x480 with 0 Axes>"
      ]
     },
     "metadata": {},
     "output_type": "display_data"
    }
   ],
   "source": [
    "import sys\n",
    "sys.path.append(LIB_PATH)\n",
    "\n",
    "import torch\n",
    "import pytorch_common.util as pu\n",
    "from pytorch_common.util import set_device_name, \\\n",
    "                                get_device, \\\n",
    "                                LoggerBuilder\n",
    "\n",
    "import data as dt\n",
    "import data.dataset as ds\n",
    "\n",
    "import util as ut\n",
    "\n",
    "from sentence_transformers import SentenceTransformer\n",
    "\n",
    "import recommender as rc"
   ]
  },
  {
   "cell_type": "markdown",
   "id": "40c1da33-a8da-47c9-b174-0b0885b05b50",
   "metadata": {},
   "source": [
    "## Setup"
   ]
  },
  {
   "cell_type": "code",
   "execution_count": 4,
   "id": "e60a3838-9787-411d-b9f1-8a942321cbb1",
   "metadata": {
    "tags": []
   },
   "outputs": [
    {
     "data": {
      "text/plain": [
       "<RootLogger root (INFO)>"
      ]
     },
     "execution_count": 4,
     "metadata": {},
     "output_type": "execute_result"
    }
   ],
   "source": [
    "pu.LoggerBuilder().on_console().build()"
   ]
  },
  {
   "cell_type": "code",
   "execution_count": 5,
   "id": "9fd7574f-043a-4fc3-8ab8-bfd55b6a92d8",
   "metadata": {
    "tags": []
   },
   "outputs": [
    {
     "data": {
      "text/plain": [
       "(device(type='cuda', index=0),\n",
       " True,\n",
       " '2.0.1+cu118',\n",
       " ['sm_37', 'sm_50', 'sm_60', 'sm_70', 'sm_75', 'sm_80', 'sm_86', 'sm_90'])"
      ]
     },
     "execution_count": 5,
     "metadata": {},
     "output_type": "execute_result"
    }
   ],
   "source": [
    "pu.set_device_name('gpu')\n",
    "\n",
    "pu.get_device(), torch.cuda.is_available(), torch.__version__, torch.cuda.get_arch_list()"
   ]
  },
  {
   "cell_type": "code",
   "execution_count": 6,
   "id": "67bdad0a-d4c4-4daf-8612-3a2ff815bcbf",
   "metadata": {
    "tags": []
   },
   "outputs": [
    {
     "name": "stderr",
     "output_type": "stream",
     "text": [
      "2023-10-08 13:04:10,593 - INFO - Cfg:\n",
      "\n",
      "embedding_col: title_embedding\n",
      "file_path: ../../../datasets/title-tf-idf-sparse-auto-encoder.json\n",
      "metadata_cols:\n",
      "- title\n",
      "- release_year\n",
      "- imdb_id\n",
      "- title_tokens\n",
      "name: title-tf-idf-sparse-auto-encoder\n",
      "\n",
      "2023-10-08 13:04:10,593 - INFO - Cfg:\n",
      "\n",
      "embedding_col: tags_embedding\n",
      "file_path: ../../../datasets/tags-tf-idf-sparse-auto-encoder.json\n",
      "metadata_cols:\n",
      "- tags\n",
      "- release_year\n",
      "- imdb_id\n",
      "- tags_tokens\n",
      "- title\n",
      "name: tags-tf-idf-sparse-auto-encoder\n",
      "\n",
      "2023-10-08 13:04:10,594 - INFO - Cfg:\n",
      "\n",
      "embedding_col: genres_embedding\n",
      "file_path: ../../../datasets/genres-tf-idf-sparse-auto-encoder.json\n",
      "metadata_cols:\n",
      "- genres\n",
      "- release_year\n",
      "- imdb_id\n",
      "- genres_tokens\n",
      "- title\n",
      "name: genres-tf-idf-sparse-auto-encoder\n",
      "\n"
     ]
    }
   ],
   "source": [
    "TITLE_REC_SYS_CFG    = rc.item_rec_sys_cfg(DATASET_PATH, 'title',    'tf-idf-sparse-auto-encoder')\n",
    "TAGS_REC_SYS_CFG     = rc.item_rec_sys_cfg(DATASET_PATH, 'tags',     'tf-idf-sparse-auto-encoder')\n",
    "GENRES_REC_SYS_CFG   = rc.item_rec_sys_cfg(DATASET_PATH, 'genres',   'tf-idf-sparse-auto-encoder')"
   ]
  },
  {
   "cell_type": "markdown",
   "id": "d43c9369-047c-45ea-863c-304319bc63f0",
   "metadata": {},
   "source": [
    "## Evaluación"
   ]
  },
  {
   "cell_type": "code",
   "execution_count": 7,
   "id": "5035ae74-f1fd-4eb2-b989-99b6957de0f4",
   "metadata": {
    "tags": []
   },
   "outputs": [
    {
     "data": {
      "application/vnd.jupyter.widget-view+json": {
       "model_id": "82382424a995418dab92cf4e69ce8127",
       "version_major": 2,
       "version_minor": 0
      },
      "text/plain": [
       "Insert Embeddings:   0%|          | 0/17611 [00:00<?, ?it/s]"
      ]
     },
     "metadata": {},
     "output_type": "display_data"
    },
    {
     "data": {
      "application/vnd.jupyter.widget-view+json": {
       "model_id": "51b0d3570176478cab8e4eb367776851",
       "version_major": 2,
       "version_minor": 0
      },
      "text/plain": [
       "Insert Embeddings:   0%|          | 0/17611 [00:00<?, ?it/s]"
      ]
     },
     "metadata": {},
     "output_type": "display_data"
    },
    {
     "data": {
      "application/vnd.jupyter.widget-view+json": {
       "model_id": "dc52091430e245509985bb6a9e30a397",
       "version_major": 2,
       "version_minor": 0
      },
      "text/plain": [
       "Insert Embeddings:   0%|          | 0/17611 [00:00<?, ?it/s]"
      ]
     },
     "metadata": {},
     "output_type": "display_data"
    }
   ],
   "source": [
    "builder = rc.SimilarItemRecommenderBuilder(\n",
    "    DATASET_PATH, \n",
    "    [\n",
    "        TITLE_REC_SYS_CFG, \n",
    "        TAGS_REC_SYS_CFG,\n",
    "        GENRES_REC_SYS_CFG\n",
    "    ]\n",
    ")"
   ]
  },
  {
   "cell_type": "code",
   "execution_count": 9,
   "id": "09a16458-9c13-404d-a0af-36510483fde5",
   "metadata": {
    "tags": []
   },
   "outputs": [
    {
     "data": {
      "text/plain": [
       "{\n",
       "    \"distances\": [\n",
       "        0.0,\n",
       "        0.0,\n",
       "        0.0\n",
       "    ],\n",
       "    \"documents\": [],\n",
       "    \"embeddings\": [],\n",
       "    \"ids\": [\n",
       "        \"1\",\n",
       "        \"3114\",\n",
       "        \"78499\"\n",
       "    ],\n",
       "    \"metadatas\": [\n",
       "        {\n",
       "            \"imdb_id\": 114709,\n",
       "            \"release_year\": 1995,\n",
       "            \"title\": \"Toy Story\",\n",
       "            \"title_tokens\": \"toy story\"\n",
       "        },\n",
       "        {\n",
       "            \"imdb_id\": 120363,\n",
       "            \"release_year\": 1999,\n",
       "            \"title\": \"Toy Story 2\",\n",
       "            \"title_tokens\": \"toy story\"\n",
       "        },\n",
       "        {\n",
       "            \"imdb_id\": 435761,\n",
       "            \"release_year\": 2010,\n",
       "            \"title\": \"Toy Story 3\",\n",
       "            \"title_tokens\": \"toy story\"\n",
       "        }\n",
       "    ]\n",
       "}"
      ]
     },
     "execution_count": 9,
     "metadata": {},
     "output_type": "execute_result"
    }
   ],
   "source": [
    "title_repo = builder.repositories[TITLE_REC_SYS_CFG.name]\n",
    "\n",
    "result = title_repo.search_by_ids([1])\n",
    "toy_story_emb = result.embeddings[0]\n",
    "\n",
    "title_repo.search_sims(embs=[toy_story_emb], limit=3)"
   ]
  },
  {
   "cell_type": "code",
   "execution_count": 10,
   "id": "5ae08ca9-e38e-4b9e-9c1e-be3d0486a1db",
   "metadata": {
    "tags": []
   },
   "outputs": [],
   "source": [
    "user_ids = builder.repositories.dataset.users_id_from_movie_id(movie_id=1) "
   ]
  },
  {
   "cell_type": "code",
   "execution_count": 11,
   "id": "4a2d75b7-3be7-4d5a-bfcf-3dcd12e854ea",
   "metadata": {
    "tags": []
   },
   "outputs": [
    {
     "name": "stderr",
     "output_type": "stream",
     "text": [
      "2023-10-08 13:04:45,602 - INFO - Found 3 items by ids: Int64Index([27296, 5243, 29250, 78269, 71225, 17421, 60141, 5104, 4593, 26910], dtype='int64').\n",
      "2023-10-08 13:04:45,603 - INFO - Found 3 similar to 60141 item.\n",
      "2023-10-08 13:04:45,604 - INFO - Found 3 similar to 5243 item.\n",
      "2023-10-08 13:04:45,605 - INFO - Found 3 similar to 4593 item.\n"
     ]
    },
    {
     "name": "stdout",
     "output_type": "stream",
     "text": [
      "\n",
      "Item Recommender: title-tf-idf-sparse-auto-encoder\n",
      "\n"
     ]
    },
    {
     "data": {
      "text/html": [
       "<table border=\"1\" class=\"dataframe\">\n",
       "  <thead>\n",
       "    <tr style=\"text-align: right;\">\n",
       "      <th></th>\n",
       "      <th>Similarity</th>\n",
       "      <th>Rating</th>\n",
       "      <th>.</th>\n",
       "      <th>Recommended Movies</th>\n",
       "      <th>..</th>\n",
       "      <th>Already seen movies</th>\n",
       "      <th>Rating</th>\n",
       "    </tr>\n",
       "  </thead>\n",
       "  <tbody>\n",
       "    <tr>\n",
       "      <th>0</th>\n",
       "      <td>0.61</td>\n",
       "      <td>4.0</td>\n",
       "      <td>We Recommend ==></td>\n",
       "      <td><img src=\"https://m.media-amazon.com/images/M/MV5BZmFhOTRiODctMjVjOS00ZGIyLWFmM2YtYzhkNDM5NGFkYzcyXkEyXkFqcGdeQXVyMzY0MTE3NzU@._V1_SX300.jpg\" width=\"300\" ></td>\n",
       "      <td>==> Because You Saw ==></td>\n",
       "      <td><img src=\"https://m.media-amazon.com/images/M/MV5BMTg5MjIwMzgwNF5BMl5BanBnXkFtZTcwOTg3NzI3Mg@@._V1_SX300.jpg\" width=\"300\" ></td>\n",
       "      <td>3.7</td>\n",
       "    </tr>\n",
       "    <tr>\n",
       "      <th>1</th>\n",
       "      <td>0.37</td>\n",
       "      <td>3.0</td>\n",
       "      <td>We Recommend ==></td>\n",
       "      <td><img src=\"https://m.media-amazon.com/images/M/MV5BN2QzNmQ0MzUtNGY5NS00ODVhLWFhMTgtYjM4MmVmNGFlNjFhXkEyXkFqcGdeQXVyMTA0MjU0Ng@@._V1_SX300.jpg\" width=\"300\" ></td>\n",
       "      <td>==> Because You Saw ==></td>\n",
       "      <td><img src=\"https://m.media-amazon.com/images/M/MV5BMTg5MjIwMzgwNF5BMl5BanBnXkFtZTcwOTg3NzI3Mg@@._V1_SX300.jpg\" width=\"300\" ></td>\n",
       "      <td>3.7</td>\n",
       "    </tr>\n",
       "    <tr>\n",
       "      <th>4</th>\n",
       "      <td>0.69</td>\n",
       "      <td>4.0</td>\n",
       "      <td>We Recommend ==></td>\n",
       "      <td><img src=\"https://m.media-amazon.com/images/M/MV5BYjkyOGZkZjItOGJiMy00MWZkLWIzNGYtYjdiMGQ2ZjVjZDdhXkEyXkFqcGdeQXVyMzY1MzQyOTY@._V1_SX300.jpg\" width=\"300\" ></td>\n",
       "      <td>==> Because You Saw ==></td>\n",
       "      <td><img src=\"https://m.media-amazon.com/images/M/MV5BNThiZmU5YjktZDY2Yy00MGQ4LWI0YjgtODdkMDgwNDA5ZjhkXkEyXkFqcGdeQXVyMTUzMDUzNTI3._V1_SX300.jpg\" width=\"300\" ></td>\n",
       "      <td>3.0</td>\n",
       "    </tr>\n",
       "    <tr>\n",
       "      <th>5</th>\n",
       "      <td>0.69</td>\n",
       "      <td>1.0</td>\n",
       "      <td>We Recommend ==></td>\n",
       "      <td><img src=\"https://m.media-amazon.com/images/M/MV5BMTIxOTA0NDQ4N15BMl5BanBnXkFtZTcwNDcxNTAzMQ@@._V1_SX300.jpg\" width=\"300\" ></td>\n",
       "      <td>==> Because You Saw ==></td>\n",
       "      <td><img src=\"https://m.media-amazon.com/images/M/MV5BNThiZmU5YjktZDY2Yy00MGQ4LWI0YjgtODdkMDgwNDA5ZjhkXkEyXkFqcGdeQXVyMTUzMDUzNTI3._V1_SX300.jpg\" width=\"300\" ></td>\n",
       "      <td>3.0</td>\n",
       "    </tr>\n",
       "    <tr>\n",
       "      <th>2</th>\n",
       "      <td>0.97</td>\n",
       "      <td>3.8</td>\n",
       "      <td>We Recommend ==></td>\n",
       "      <td><img src=\"https://m.media-amazon.com/images/M/MV5BNGFmNmQ4YTUtZjMzYS00MWMzLTg2MjktNDVlNTZkMmFkYTY2XkEyXkFqcGdeQXVyNjk1Njg5NTA@._V1_SX300.jpg\" width=\"300\" ></td>\n",
       "      <td>==> Because You Saw ==></td>\n",
       "      <td><img src=\"https://m.media-amazon.com/images/M/MV5BODc1ZGQyYTEtMjM1ZS00MDFiLTk3MDYtZmNiZDJhNzcyNTVhXkEyXkFqcGdeQXVyNzc5MjA3OA@@._V1_SX300.jpg\" width=\"300\" ></td>\n",
       "      <td>2.8</td>\n",
       "    </tr>\n",
       "  </tbody>\n",
       "</table>"
      ],
      "text/plain": [
       "<IPython.core.display.HTML object>"
      ]
     },
     "metadata": {},
     "output_type": "display_data"
    }
   ],
   "source": [
    "builder \\\n",
    "    .user_item_recommender(TITLE_REC_SYS_CFG.name) \\\n",
    "    .recommend(user_id=user_ids[130]) \\\n",
    "    .show()"
   ]
  },
  {
   "cell_type": "code",
   "execution_count": 12,
   "id": "727e8bc2-5eab-4502-8097-70e2fcc91cec",
   "metadata": {
    "tags": []
   },
   "outputs": [
    {
     "name": "stderr",
     "output_type": "stream",
     "text": [
      "2023-10-08 13:04:48,164 - INFO - Found 3 items by ids: Int64Index([27296, 5243, 29250, 78269, 71225, 17421, 60141, 5104, 4593, 26910], dtype='int64').\n",
      "2023-10-08 13:04:48,165 - INFO - Found 3 similar to 60141 item.\n",
      "2023-10-08 13:04:48,166 - INFO - Found 3 similar to 5243 item.\n",
      "2023-10-08 13:04:48,166 - INFO - Found 3 similar to 4593 item.\n"
     ]
    },
    {
     "name": "stdout",
     "output_type": "stream",
     "text": [
      "\n",
      "Item Recommender: genres-tf-idf-sparse-auto-encoder\n",
      "\n"
     ]
    },
    {
     "data": {
      "text/html": [
       "<table border=\"1\" class=\"dataframe\">\n",
       "  <thead>\n",
       "    <tr style=\"text-align: right;\">\n",
       "      <th></th>\n",
       "      <th>Similarity</th>\n",
       "      <th>Rating</th>\n",
       "      <th>.</th>\n",
       "      <th>Recommended Movies</th>\n",
       "      <th>..</th>\n",
       "      <th>Already seen movies</th>\n",
       "      <th>Rating</th>\n",
       "    </tr>\n",
       "  </thead>\n",
       "  <tbody>\n",
       "    <tr>\n",
       "      <th>0</th>\n",
       "      <td>1.0</td>\n",
       "      <td>2.8</td>\n",
       "      <td>We Recommend ==></td>\n",
       "      <td><img src=\"https://m.media-amazon.com/images/M/MV5BMzMzZDU1MTEtMDMzYy00MDhkLTg5MGMtYjFkNzYyMTc3YmU0XkEyXkFqcGdeQXVyMTQxNzMzNDI@._V1_SX300.jpg\" width=\"300\" ></td>\n",
       "      <td>==> Because You Saw ==></td>\n",
       "      <td><img src=\"https://m.media-amazon.com/images/M/MV5BMTg5MjIwMzgwNF5BMl5BanBnXkFtZTcwOTg3NzI3Mg@@._V1_SX300.jpg\" width=\"300\" ></td>\n",
       "      <td>3.7</td>\n",
       "    </tr>\n",
       "    <tr>\n",
       "      <th>1</th>\n",
       "      <td>1.0</td>\n",
       "      <td>4.0</td>\n",
       "      <td>We Recommend ==></td>\n",
       "      <td><img src=\"https://m.media-amazon.com/images/M/MV5BMTQyMjQ4MzI4OV5BMl5BanBnXkFtZTcwNzM1MTIwNA@@._V1_SX300.jpg\" width=\"300\" ></td>\n",
       "      <td>==> Because You Saw ==></td>\n",
       "      <td><img src=\"https://m.media-amazon.com/images/M/MV5BMTg5MjIwMzgwNF5BMl5BanBnXkFtZTcwOTg3NzI3Mg@@._V1_SX300.jpg\" width=\"300\" ></td>\n",
       "      <td>3.7</td>\n",
       "    </tr>\n",
       "    <tr>\n",
       "      <th>2</th>\n",
       "      <td>1.0</td>\n",
       "      <td>2.0</td>\n",
       "      <td>We Recommend ==></td>\n",
       "      <td><img src=\"https://m.media-amazon.com/images/M/MV5BNmM1ZjAzODMtMjQ3NS00NmQ4LWI4OWMtYzk4ZWM4MGY2ZDcxXkEyXkFqcGdeQXVyNjc4ODQwNzg@._V1_SX300.jpg\" width=\"300\" ></td>\n",
       "      <td>==> Because You Saw ==></td>\n",
       "      <td><img src=\"https://m.media-amazon.com/images/M/MV5BMTg5MjIwMzgwNF5BMl5BanBnXkFtZTcwOTg3NzI3Mg@@._V1_SX300.jpg\" width=\"300\" ></td>\n",
       "      <td>3.7</td>\n",
       "    </tr>\n",
       "    <tr>\n",
       "      <th>6</th>\n",
       "      <td>1.0</td>\n",
       "      <td>2.0</td>\n",
       "      <td>We Recommend ==></td>\n",
       "      <td><img src=\"https://m.media-amazon.com/images/M/MV5BMGU0ODhmODEtZTJlOC00YjA3LThhYWItZjQ0Mzk3NDNhNzIwXkEyXkFqcGdeQXVyMTQxNzMzNDI@._V1_SX300.jpg\" width=\"300\" ></td>\n",
       "      <td>==> Because You Saw ==></td>\n",
       "      <td><img src=\"https://m.media-amazon.com/images/M/MV5BNThiZmU5YjktZDY2Yy00MGQ4LWI0YjgtODdkMDgwNDA5ZjhkXkEyXkFqcGdeQXVyMTUzMDUzNTI3._V1_SX300.jpg\" width=\"300\" ></td>\n",
       "      <td>3.0</td>\n",
       "    </tr>\n",
       "    <tr>\n",
       "      <th>7</th>\n",
       "      <td>1.0</td>\n",
       "      <td>3.0</td>\n",
       "      <td>We Recommend ==></td>\n",
       "      <td><img src=\"https://m.media-amazon.com/images/M/MV5BMjE0NzkzNDI3Ml5BMl5BanBnXkFtZTcwNjA0NzQzNA@@._V1_SX300.jpg\" width=\"300\" ></td>\n",
       "      <td>==> Because You Saw ==></td>\n",
       "      <td><img src=\"https://m.media-amazon.com/images/M/MV5BNThiZmU5YjktZDY2Yy00MGQ4LWI0YjgtODdkMDgwNDA5ZjhkXkEyXkFqcGdeQXVyMTUzMDUzNTI3._V1_SX300.jpg\" width=\"300\" ></td>\n",
       "      <td>3.0</td>\n",
       "    </tr>\n",
       "  </tbody>\n",
       "</table>"
      ],
      "text/plain": [
       "<IPython.core.display.HTML object>"
      ]
     },
     "metadata": {},
     "output_type": "display_data"
    }
   ],
   "source": [
    "builder \\\n",
    "    .user_item_recommender(GENRES_REC_SYS_CFG.name) \\\n",
    "    .recommend(user_id=user_ids[130]) \\\n",
    "    .show()"
   ]
  },
  {
   "cell_type": "code",
   "execution_count": 13,
   "id": "82b0b1e7-313a-4ad3-a685-162fb9c387de",
   "metadata": {
    "tags": []
   },
   "outputs": [
    {
     "name": "stderr",
     "output_type": "stream",
     "text": [
      "2023-10-08 13:04:50,334 - INFO - Found 3 items by ids: Int64Index([27296, 5243, 29250, 78269, 71225, 17421, 60141, 5104, 4593, 26910], dtype='int64').\n",
      "2023-10-08 13:04:50,335 - INFO - Found 3 similar to 60141 item.\n",
      "2023-10-08 13:04:50,336 - INFO - Found 3 similar to 5243 item.\n",
      "2023-10-08 13:04:50,336 - INFO - Found 3 similar to 4593 item.\n",
      "2023-10-08 13:04:50,340 - INFO - Found 3 items by ids: Int64Index([27296, 5243, 29250, 78269, 71225, 17421, 60141, 5104, 4593, 26910], dtype='int64').\n",
      "2023-10-08 13:04:50,341 - INFO - Found 3 similar to 60141 item.\n",
      "2023-10-08 13:04:50,341 - INFO - Found 3 similar to 5243 item.\n",
      "2023-10-08 13:04:50,342 - INFO - Found 3 similar to 4593 item.\n"
     ]
    },
    {
     "name": "stdout",
     "output_type": "stream",
     "text": [
      "\n",
      "Recommender: Ensemble of title-tf-idf-sparse-auto-encoder, genres-tf-idf-sparse-auto-encoder.\n",
      "\n"
     ]
    },
    {
     "data": {
      "text/html": [
       "<table border=\"1\" class=\"dataframe\">\n",
       "  <thead>\n",
       "    <tr style=\"text-align: right;\">\n",
       "      <th></th>\n",
       "      <th>Rating</th>\n",
       "      <th>Recommended Movies</th>\n",
       "      <th>Similarity</th>\n",
       "    </tr>\n",
       "  </thead>\n",
       "  <tbody>\n",
       "    <tr>\n",
       "      <th>6</th>\n",
       "      <td>4.0</td>\n",
       "      <td><img src=\"https://m.media-amazon.com/images/M/MV5BYjkyOGZkZjItOGJiMy00MWZkLWIzNGYtYjdiMGQ2ZjVjZDdhXkEyXkFqcGdeQXVyMzY1MzQyOTY@._V1_SX300.jpg\" width=\"300\" ></td>\n",
       "      <td>1.39</td>\n",
       "    </tr>\n",
       "    <tr>\n",
       "      <th>7</th>\n",
       "      <td>4.0</td>\n",
       "      <td><img src=\"https://m.media-amazon.com/images/M/MV5BZmFhOTRiODctMjVjOS00ZGIyLWFmM2YtYzhkNDM5NGFkYzcyXkEyXkFqcGdeQXVyMzY0MTE3NzU@._V1_SX300.jpg\" width=\"300\" ></td>\n",
       "      <td>1.31</td>\n",
       "    </tr>\n",
       "    <tr>\n",
       "      <th>9</th>\n",
       "      <td>4.0</td>\n",
       "      <td><img src=\"https://m.media-amazon.com/images/M/MV5BMTQyMjQ4MzI4OV5BMl5BanBnXkFtZTcwNzM1MTIwNA@@._V1_SX300.jpg\" width=\"300\" ></td>\n",
       "      <td>1.30</td>\n",
       "    </tr>\n",
       "    <tr>\n",
       "      <th>3</th>\n",
       "      <td>3.8</td>\n",
       "      <td><img src=\"https://m.media-amazon.com/images/M/MV5BNGFmNmQ4YTUtZjMzYS00MWMzLTg2MjktNDVlNTZkMmFkYTY2XkEyXkFqcGdeQXVyNjk1Njg5NTA@._V1_SX300.jpg\" width=\"300\" ></td>\n",
       "      <td>1.67</td>\n",
       "    </tr>\n",
       "    <tr>\n",
       "      <th>2</th>\n",
       "      <td>3.0</td>\n",
       "      <td><img src=\"https://m.media-amazon.com/images/M/MV5BMjE0NzkzNDI3Ml5BMl5BanBnXkFtZTcwNjA0NzQzNA@@._V1_SX300.jpg\" width=\"300\" ></td>\n",
       "      <td>1.30</td>\n",
       "    </tr>\n",
       "    <tr>\n",
       "      <th>4</th>\n",
       "      <td>3.0</td>\n",
       "      <td><img src=\"https://m.media-amazon.com/images/M/MV5BN2QzNmQ0MzUtNGY5NS00ODVhLWFhMTgtYjM4MmVmNGFlNjFhXkEyXkFqcGdeQXVyMTA0MjU0Ng@@._V1_SX300.jpg\" width=\"300\" ></td>\n",
       "      <td>1.07</td>\n",
       "    </tr>\n",
       "    <tr>\n",
       "      <th>5</th>\n",
       "      <td>2.8</td>\n",
       "      <td><img src=\"https://m.media-amazon.com/images/M/MV5BMzMzZDU1MTEtMDMzYy00MDhkLTg5MGMtYjFkNzYyMTc3YmU0XkEyXkFqcGdeQXVyMTQxNzMzNDI@._V1_SX300.jpg\" width=\"300\" ></td>\n",
       "      <td>1.30</td>\n",
       "    </tr>\n",
       "    <tr>\n",
       "      <th>0</th>\n",
       "      <td>2.0</td>\n",
       "      <td><img src=\"https://m.media-amazon.com/images/M/MV5BNmM1ZjAzODMtMjQ3NS00NmQ4LWI4OWMtYzk4ZWM4MGY2ZDcxXkEyXkFqcGdeQXVyNjc4ODQwNzg@._V1_SX300.jpg\" width=\"300\" ></td>\n",
       "      <td>1.30</td>\n",
       "    </tr>\n",
       "    <tr>\n",
       "      <th>1</th>\n",
       "      <td>2.0</td>\n",
       "      <td><img src=\"https://m.media-amazon.com/images/M/MV5BMGU0ODhmODEtZTJlOC00YjA3LThhYWItZjQ0Mzk3NDNhNzIwXkEyXkFqcGdeQXVyMTQxNzMzNDI@._V1_SX300.jpg\" width=\"300\" ></td>\n",
       "      <td>1.30</td>\n",
       "    </tr>\n",
       "    <tr>\n",
       "      <th>8</th>\n",
       "      <td>1.0</td>\n",
       "      <td><img src=\"https://m.media-amazon.com/images/M/MV5BMTIxOTA0NDQ4N15BMl5BanBnXkFtZTcwNDcxNTAzMQ@@._V1_SX300.jpg\" width=\"300\" ></td>\n",
       "      <td>1.39</td>\n",
       "    </tr>\n",
       "  </tbody>\n",
       "</table>"
      ],
      "text/plain": [
       "<IPython.core.display.HTML object>"
      ]
     },
     "metadata": {},
     "output_type": "display_data"
    }
   ],
   "source": [
    "rc.UserSimilarItemEnsembleRecommender(\n",
    "    recommenders=[\n",
    "        builder.user_item_recommender(\n",
    "            TITLE_REC_SYS_CFG.name,\n",
    "            n_top_rated_user_items=10,\n",
    "            n_sim_items=3\n",
    "        ),\n",
    "        builder.user_item_recommender(\n",
    "            GENRES_REC_SYS_CFG.name,\n",
    "            n_top_rated_user_items=10,\n",
    "            n_sim_items=3\n",
    "        )\n",
    "    ],\n",
    "    weights = [0.7, 0.3],\n",
    "    recommender_k = 5\n",
    ") \\\n",
    " .recommend(user_id=user_ids[130], k=10) \\\n",
    " .show()"
   ]
  }
 ],
 "metadata": {
  "kernelspec": {
   "display_name": "Python 3 (ipykernel)",
   "language": "python",
   "name": "python3"
  },
  "language_info": {
   "codemirror_mode": {
    "name": "ipython",
    "version": 3
   },
   "file_extension": ".py",
   "mimetype": "text/x-python",
   "name": "python",
   "nbconvert_exporter": "python",
   "pygments_lexer": "ipython3",
   "version": "3.10.12"
  },
  "widgets": {
   "application/vnd.jupyter.widget-state+json": {
    "state": {
     "19e290af6d82423eb940d5311c1d2606": {
      "model_module": "@jupyter-widgets/controls",
      "model_module_version": "2.0.0",
      "model_name": "HTMLModel",
      "state": {
       "layout": "IPY_MODEL_6093a4a141614e28a8320394f762e477",
       "style": "IPY_MODEL_a3ba6c98a45c461d8536854a771c0e9b",
       "value": "Insert Embeddings: 100%"
      }
     },
     "2127b6a12cbc472a952244cf88ec3698": {
      "model_module": "@jupyter-widgets/controls",
      "model_module_version": "2.0.0",
      "model_name": "HTMLStyleModel",
      "state": {
       "description_width": "",
       "font_size": null,
       "text_color": null
      }
     },
     "2b1886633c1d418ea4d16238bfbad3ea": {
      "model_module": "@jupyter-widgets/controls",
      "model_module_version": "2.0.0",
      "model_name": "ProgressStyleModel",
      "state": {
       "description_width": ""
      }
     },
     "3160f12e564d4e76b9676039d9c9dcb8": {
      "model_module": "@jupyter-widgets/controls",
      "model_module_version": "2.0.0",
      "model_name": "ProgressStyleModel",
      "state": {
       "description_width": ""
      }
     },
     "34050f688773452cb24aaed346d57cfa": {
      "model_module": "@jupyter-widgets/controls",
      "model_module_version": "2.0.0",
      "model_name": "FloatProgressModel",
      "state": {
       "bar_style": "success",
       "layout": "IPY_MODEL_b3c3c8bea0dc4f8da94697e8c1a89978",
       "max": 17611,
       "style": "IPY_MODEL_2b1886633c1d418ea4d16238bfbad3ea",
       "value": 17611
      }
     },
     "39e525ad621344c2b3d42abce07331d5": {
      "model_module": "@jupyter-widgets/controls",
      "model_module_version": "2.0.0",
      "model_name": "HTMLModel",
      "state": {
       "layout": "IPY_MODEL_a29019115e574753ac434e057750b79c",
       "style": "IPY_MODEL_2127b6a12cbc472a952244cf88ec3698",
       "value": " 17611/17611 [00:06&lt;00:00, 2462.54it/s]"
      }
     },
     "3ff5bf4ee6824996ac318f158b21dd85": {
      "model_module": "@jupyter-widgets/controls",
      "model_module_version": "2.0.0",
      "model_name": "ProgressStyleModel",
      "state": {
       "description_width": ""
      }
     },
     "51b0d3570176478cab8e4eb367776851": {
      "model_module": "@jupyter-widgets/controls",
      "model_module_version": "2.0.0",
      "model_name": "HBoxModel",
      "state": {
       "children": [
        "IPY_MODEL_ea46839883d04abfb72d914956303a8d",
        "IPY_MODEL_34050f688773452cb24aaed346d57cfa",
        "IPY_MODEL_903561c357d642e9a827efa3fcafd8c6"
       ],
       "layout": "IPY_MODEL_74deb69c81584ea6bdcedcebad5d03ee"
      }
     },
     "53fcb51ccf204f4dbed8e2c7d7b3ffb1": {
      "model_module": "@jupyter-widgets/controls",
      "model_module_version": "2.0.0",
      "model_name": "HTMLStyleModel",
      "state": {
       "description_width": "",
       "font_size": null,
       "text_color": null
      }
     },
     "6093a4a141614e28a8320394f762e477": {
      "model_module": "@jupyter-widgets/base",
      "model_module_version": "2.0.0",
      "model_name": "LayoutModel",
      "state": {}
     },
     "611130914fbf4c0ea32cc0a78b31514c": {
      "model_module": "@jupyter-widgets/base",
      "model_module_version": "2.0.0",
      "model_name": "LayoutModel",
      "state": {}
     },
     "7090551e3d0d4fddb85ff1037eb94975": {
      "model_module": "@jupyter-widgets/base",
      "model_module_version": "2.0.0",
      "model_name": "LayoutModel",
      "state": {}
     },
     "74deb69c81584ea6bdcedcebad5d03ee": {
      "model_module": "@jupyter-widgets/base",
      "model_module_version": "2.0.0",
      "model_name": "LayoutModel",
      "state": {}
     },
     "76a10abfd569457f99239aac4d5b63cc": {
      "model_module": "@jupyter-widgets/controls",
      "model_module_version": "2.0.0",
      "model_name": "FloatProgressModel",
      "state": {
       "bar_style": "success",
       "layout": "IPY_MODEL_81d3784c8f1d4c74ad5bf468d635624b",
       "max": 17611,
       "style": "IPY_MODEL_3ff5bf4ee6824996ac318f158b21dd85",
       "value": 17611
      }
     },
     "81d3784c8f1d4c74ad5bf468d635624b": {
      "model_module": "@jupyter-widgets/base",
      "model_module_version": "2.0.0",
      "model_name": "LayoutModel",
      "state": {}
     },
     "82382424a995418dab92cf4e69ce8127": {
      "model_module": "@jupyter-widgets/controls",
      "model_module_version": "2.0.0",
      "model_name": "HBoxModel",
      "state": {
       "children": [
        "IPY_MODEL_19e290af6d82423eb940d5311c1d2606",
        "IPY_MODEL_8d55b51f0e9c42b48c9172408462cff3",
        "IPY_MODEL_39e525ad621344c2b3d42abce07331d5"
       ],
       "layout": "IPY_MODEL_fed1288ab18b434b90a72573a4ed6873"
      }
     },
     "8d55b51f0e9c42b48c9172408462cff3": {
      "model_module": "@jupyter-widgets/controls",
      "model_module_version": "2.0.0",
      "model_name": "FloatProgressModel",
      "state": {
       "bar_style": "success",
       "layout": "IPY_MODEL_92fc4a1c568547f1a999acb583b8e8b6",
       "max": 17611,
       "style": "IPY_MODEL_3160f12e564d4e76b9676039d9c9dcb8",
       "value": 17611
      }
     },
     "8d5a5c7c14774f9b80cb6b3c59d23a2f": {
      "model_module": "@jupyter-widgets/controls",
      "model_module_version": "2.0.0",
      "model_name": "HTMLModel",
      "state": {
       "layout": "IPY_MODEL_611130914fbf4c0ea32cc0a78b31514c",
       "style": "IPY_MODEL_53fcb51ccf204f4dbed8e2c7d7b3ffb1",
       "value": " 17611/17611 [00:07&lt;00:00, 2513.74it/s]"
      }
     },
     "903561c357d642e9a827efa3fcafd8c6": {
      "model_module": "@jupyter-widgets/controls",
      "model_module_version": "2.0.0",
      "model_name": "HTMLModel",
      "state": {
       "layout": "IPY_MODEL_7090551e3d0d4fddb85ff1037eb94975",
       "style": "IPY_MODEL_e5d420d8781b48d586bb65107b2c01f6",
       "value": " 17611/17611 [00:06&lt;00:00, 2509.59it/s]"
      }
     },
     "92fc4a1c568547f1a999acb583b8e8b6": {
      "model_module": "@jupyter-widgets/base",
      "model_module_version": "2.0.0",
      "model_name": "LayoutModel",
      "state": {}
     },
     "a29019115e574753ac434e057750b79c": {
      "model_module": "@jupyter-widgets/base",
      "model_module_version": "2.0.0",
      "model_name": "LayoutModel",
      "state": {}
     },
     "a3ba6c98a45c461d8536854a771c0e9b": {
      "model_module": "@jupyter-widgets/controls",
      "model_module_version": "2.0.0",
      "model_name": "HTMLStyleModel",
      "state": {
       "description_width": "",
       "font_size": null,
       "text_color": null
      }
     },
     "a436c952ab884ded8b7acf476e37f580": {
      "model_module": "@jupyter-widgets/base",
      "model_module_version": "2.0.0",
      "model_name": "LayoutModel",
      "state": {}
     },
     "b3c3c8bea0dc4f8da94697e8c1a89978": {
      "model_module": "@jupyter-widgets/base",
      "model_module_version": "2.0.0",
      "model_name": "LayoutModel",
      "state": {}
     },
     "bfc7f686502445e9954840126333ebcb": {
      "model_module": "@jupyter-widgets/controls",
      "model_module_version": "2.0.0",
      "model_name": "HTMLStyleModel",
      "state": {
       "description_width": "",
       "font_size": null,
       "text_color": null
      }
     },
     "ce4daeae82864a35b0862208ec4ac180": {
      "model_module": "@jupyter-widgets/controls",
      "model_module_version": "2.0.0",
      "model_name": "HTMLModel",
      "state": {
       "layout": "IPY_MODEL_d373f5b93d7440e4a2df618601559c2f",
       "style": "IPY_MODEL_f0366a5f15a94255a91c20be94b09bbd",
       "value": "Insert Embeddings: 100%"
      }
     },
     "d373f5b93d7440e4a2df618601559c2f": {
      "model_module": "@jupyter-widgets/base",
      "model_module_version": "2.0.0",
      "model_name": "LayoutModel",
      "state": {}
     },
     "dc52091430e245509985bb6a9e30a397": {
      "model_module": "@jupyter-widgets/controls",
      "model_module_version": "2.0.0",
      "model_name": "HBoxModel",
      "state": {
       "children": [
        "IPY_MODEL_ce4daeae82864a35b0862208ec4ac180",
        "IPY_MODEL_76a10abfd569457f99239aac4d5b63cc",
        "IPY_MODEL_8d5a5c7c14774f9b80cb6b3c59d23a2f"
       ],
       "layout": "IPY_MODEL_de8c6f53a12d43eebcf6e9ae6f89ffc8"
      }
     },
     "de8c6f53a12d43eebcf6e9ae6f89ffc8": {
      "model_module": "@jupyter-widgets/base",
      "model_module_version": "2.0.0",
      "model_name": "LayoutModel",
      "state": {}
     },
     "e5d420d8781b48d586bb65107b2c01f6": {
      "model_module": "@jupyter-widgets/controls",
      "model_module_version": "2.0.0",
      "model_name": "HTMLStyleModel",
      "state": {
       "description_width": "",
       "font_size": null,
       "text_color": null
      }
     },
     "ea46839883d04abfb72d914956303a8d": {
      "model_module": "@jupyter-widgets/controls",
      "model_module_version": "2.0.0",
      "model_name": "HTMLModel",
      "state": {
       "layout": "IPY_MODEL_a436c952ab884ded8b7acf476e37f580",
       "style": "IPY_MODEL_bfc7f686502445e9954840126333ebcb",
       "value": "Insert Embeddings: 100%"
      }
     },
     "f0366a5f15a94255a91c20be94b09bbd": {
      "model_module": "@jupyter-widgets/controls",
      "model_module_version": "2.0.0",
      "model_name": "HTMLStyleModel",
      "state": {
       "description_width": "",
       "font_size": null,
       "text_color": null
      }
     },
     "fed1288ab18b434b90a72573a4ed6873": {
      "model_module": "@jupyter-widgets/base",
      "model_module_version": "2.0.0",
      "model_name": "LayoutModel",
      "state": {}
     }
    },
    "version_major": 2,
    "version_minor": 0
   }
  }
 },
 "nbformat": 4,
 "nbformat_minor": 5
}
