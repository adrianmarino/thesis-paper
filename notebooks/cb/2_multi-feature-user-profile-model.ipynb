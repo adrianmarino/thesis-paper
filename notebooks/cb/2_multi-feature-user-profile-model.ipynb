{
 "cells": [
  {
   "cell_type": "markdown",
   "id": "0417277b-47df-4113-a7b3-8f960db06f1d",
   "metadata": {
    "tags": []
   },
   "source": [
    "# Multi-feature user profile content based model\n"
   ]
  },
  {
   "cell_type": "code",
   "execution_count": 1,
   "id": "1472139d-d9eb-4fa7-afb2-068a3b576097",
   "metadata": {},
   "outputs": [],
   "source": [
    "%load_ext autoreload\n",
    "%autoreload 2"
   ]
  },
  {
   "cell_type": "code",
   "execution_count": 2,
   "id": "debaaf15-519b-42c8-ba7b-b430074b43ec",
   "metadata": {},
   "outputs": [],
   "source": [
    "BASE_PATH             = '../..'\n",
    "LIB_PATH              = f'{BASE_PATH}/lib'\n",
    "DATASET_PATH          = f'{BASE_PATH}/datasets'"
   ]
  },
  {
   "cell_type": "code",
   "execution_count": 3,
   "id": "f98e7bf4-f41a-43f6-b7b7-a991d00f82de",
   "metadata": {},
   "outputs": [
    {
     "name": "stderr",
     "output_type": "stream",
     "text": [
      "2023-10-23 22:29:00.933984: I tensorflow/core/platform/cpu_feature_guard.cc:182] This TensorFlow binary is optimized to use available CPU instructions in performance-critical operations.\n",
      "To enable the following instructions: AVX2 FMA, in other operations, rebuild TensorFlow with the appropriate compiler flags.\n",
      "2023-10-23 22:29:01.324217: W tensorflow/compiler/tf2tensorrt/utils/py_utils.cc:38] TF-TRT Warning: Could not find TensorRT\n",
      "2023-10-23 22:29:01.712516: I tensorflow/compiler/xla/stream_executor/cuda/cuda_gpu_executor.cc:996] successful NUMA node read from SysFS had negative value (-1), but there must be at least one NUMA node, so returning NUMA node zero. See more at https://github.com/torvalds/linux/blob/v6.0/Documentation/ABI/testing/sysfs-bus-pci#L344-L355\n",
      "2023-10-23 22:29:01.722836: W tensorflow/core/common_runtime/gpu/gpu_device.cc:1956] Cannot dlopen some GPU libraries. Please make sure the missing libraries mentioned above are installed properly if you would like to use GPU. Follow the guide at https://www.tensorflow.org/install/gpu for how to download and setup the required libraries for your platform.\n",
      "Skipping registering GPU devices...\n"
     ]
    },
    {
     "data": {
      "text/plain": [
       "<Figure size 640x480 with 0 Axes>"
      ]
     },
     "metadata": {},
     "output_type": "display_data"
    }
   ],
   "source": [
    "import sys\n",
    "sys.path.append(LIB_PATH)\n",
    "\n",
    "import numpy as np\n",
    "import pandas as pd\n",
    "\n",
    "import data.dataset as ds\n",
    "\n",
    "import util as ut\n",
    "\n",
    "import recommender as rc\n",
    "\n",
    "from database.chromadb import RepositoryFactory\n",
    "\n",
    "import pytorch_common.util as pu"
   ]
  },
  {
   "cell_type": "markdown",
   "id": "40c1da33-a8da-47c9-b174-0b0885b05b50",
   "metadata": {},
   "source": [
    "## Setup"
   ]
  },
  {
   "cell_type": "code",
   "execution_count": 4,
   "id": "f279af58-f4c5-4ea9-bbb2-d72e59ebdca8",
   "metadata": {
    "tags": []
   },
   "outputs": [],
   "source": [
    "pd.set_option('max_colwidth', 2000)"
   ]
  },
  {
   "cell_type": "code",
   "execution_count": 5,
   "id": "e60a3838-9787-411d-b9f1-8a942321cbb1",
   "metadata": {},
   "outputs": [
    {
     "data": {
      "text/plain": [
       "<RootLogger root (INFO)>"
      ]
     },
     "execution_count": 5,
     "metadata": {},
     "output_type": "execute_result"
    }
   ],
   "source": [
    "pu.LoggerBuilder().on_console().build()"
   ]
  },
  {
   "cell_type": "markdown",
   "id": "b8334d07-f306-42b4-8ea1-cc27b82eb343",
   "metadata": {},
   "source": [
    "## Carga de dataset"
   ]
  },
  {
   "cell_type": "code",
   "execution_count": 6,
   "id": "c34c660c-4802-498a-81b7-07bed14de07f",
   "metadata": {},
   "outputs": [],
   "source": [
    "dataset = ds.MovieLensTMDBDatasetFactory.from_path(\n",
    "    DATASET_PATH,\n",
    "    filter_fn = lambda df: df.query('user_movie_rating_year >= 2004')\n",
    ")\n",
    "\n",
    "ds = dataset.data.rename(\n",
    "    columns={\n",
    "        'user_movie_rating'       : 'rating',\n",
    "        'movie_genres'            : 'genres', \n",
    "        'movie_for_adults'        : 'adults',\n",
    "        'movie_original_language' : 'language',\n",
    "        'movie_release_year'      : 'year',\n",
    "        'movie_tags'              : 'tags'\n",
    "    }\n",
    ")"
   ]
  },
  {
   "cell_type": "code",
   "execution_count": 7,
   "id": "5a01fb35-46a3-4b00-a591-321770bd3e0c",
   "metadata": {
    "tags": []
   },
   "outputs": [
    {
     "data": {
      "text/plain": [
       "<recommender.user.content_based.multi_feature_user_profile_recommender.MultiFeatureUserProfileRecommender at 0x7f72307a67a0>"
      ]
     },
     "execution_count": 7,
     "metadata": {},
     "output_type": "execute_result"
    }
   ],
   "source": [
    "model = rc.MultiFeatureUserProfileRecommender(\n",
    "    user_id_col  = 'user_id',\n",
    "    item_id_col  = 'movie_id',\n",
    "    emb_cols     = [ 'genres', 'adults', 'language', 'year' ],\n",
    "    col_bucket   = { 'year': 10 }\n",
    ")\n",
    "\n",
    "model.fit(ds)"
   ]
  },
  {
   "cell_type": "code",
   "execution_count": 9,
   "id": "aefe7cff-7a1d-41b9-a3ea-62bbeea45cdd",
   "metadata": {
    "tags": []
   },
   "outputs": [
    {
     "data": {
      "text/html": [
       "<div>\n",
       "<style scoped>\n",
       "    .dataframe tbody tr th:only-of-type {\n",
       "        vertical-align: middle;\n",
       "    }\n",
       "\n",
       "    .dataframe tbody tr th {\n",
       "        vertical-align: top;\n",
       "    }\n",
       "\n",
       "    .dataframe thead th {\n",
       "        text-align: right;\n",
       "    }\n",
       "</style>\n",
       "<table border=\"1\" class=\"dataframe\">\n",
       "  <thead>\n",
       "    <tr style=\"text-align: right;\">\n",
       "      <th></th>\n",
       "      <th>user_id</th>\n",
       "      <th>language_ku</th>\n",
       "      <th>language_ta</th>\n",
       "      <th>language_sq</th>\n",
       "      <th>language_fa</th>\n",
       "      <th>genres_film-noir</th>\n",
       "      <th>genres_mystery</th>\n",
       "      <th>language_lv</th>\n",
       "      <th>year_1990</th>\n",
       "      <th>language_uk</th>\n",
       "      <th>...</th>\n",
       "      <th>language_de</th>\n",
       "      <th>language_sr</th>\n",
       "      <th>genres_crime</th>\n",
       "      <th>language_id</th>\n",
       "      <th>language_pl</th>\n",
       "      <th>language_ab</th>\n",
       "      <th>year_2000</th>\n",
       "      <th>language_el</th>\n",
       "      <th>language_mr</th>\n",
       "      <th>genres_musical</th>\n",
       "    </tr>\n",
       "  </thead>\n",
       "  <tbody>\n",
       "    <tr>\n",
       "      <th>520</th>\n",
       "      <td>6550</td>\n",
       "      <td>0.0</td>\n",
       "      <td>0.0</td>\n",
       "      <td>0.0</td>\n",
       "      <td>0.0</td>\n",
       "      <td>0.000642</td>\n",
       "      <td>0.013951</td>\n",
       "      <td>0.0</td>\n",
       "      <td>0.036622</td>\n",
       "      <td>0.0</td>\n",
       "      <td>...</td>\n",
       "      <td>0.000642</td>\n",
       "      <td>0.0</td>\n",
       "      <td>0.020652</td>\n",
       "      <td>0.000092</td>\n",
       "      <td>0.0</td>\n",
       "      <td>0.0</td>\n",
       "      <td>0.049656</td>\n",
       "      <td>0.0</td>\n",
       "      <td>0.0</td>\n",
       "      <td>0.003121</td>\n",
       "    </tr>\n",
       "  </tbody>\n",
       "</table>\n",
       "<p>1 rows × 102 columns</p>\n",
       "</div>"
      ],
      "text/plain": [
       "     user_id  language_ku  language_ta  language_sq  language_fa  \\\n",
       "520     6550          0.0          0.0          0.0          0.0   \n",
       "\n",
       "     genres_film-noir  genres_mystery  language_lv  year_1990  language_uk  \\\n",
       "520          0.000642        0.013951          0.0   0.036622          0.0   \n",
       "\n",
       "     ...  language_de  language_sr  genres_crime  language_id  language_pl  \\\n",
       "520  ...     0.000642          0.0      0.020652     0.000092          0.0   \n",
       "\n",
       "     language_ab  year_2000  language_el  language_mr  genres_musical  \n",
       "520          0.0   0.049656          0.0          0.0        0.003121  \n",
       "\n",
       "[1 rows x 102 columns]"
      ]
     },
     "execution_count": 9,
     "metadata": {},
     "output_type": "execute_result"
    }
   ],
   "source": [
    "model.user_profile.query('user_id == 6550')"
   ]
  },
  {
   "cell_type": "code",
   "execution_count": 11,
   "id": "0f97ad59-8099-42a0-8acd-7942c06cf0d1",
   "metadata": {},
   "outputs": [
    {
     "name": "stderr",
     "output_type": "stream",
     "text": [
      "2023-10-23 22:29:39,292 - INFO - 0:00:03.16\n"
     ]
    },
    {
     "data": {
      "text/html": [
       "<div>\n",
       "<style scoped>\n",
       "    .dataframe tbody tr th:only-of-type {\n",
       "        vertical-align: middle;\n",
       "    }\n",
       "\n",
       "    .dataframe tbody tr th {\n",
       "        vertical-align: top;\n",
       "    }\n",
       "\n",
       "    .dataframe thead th {\n",
       "        text-align: right;\n",
       "    }\n",
       "</style>\n",
       "<table border=\"1\" class=\"dataframe\">\n",
       "  <thead>\n",
       "    <tr style=\"text-align: right;\">\n",
       "      <th></th>\n",
       "      <th>user_id</th>\n",
       "      <th>movie_id</th>\n",
       "      <th>score</th>\n",
       "    </tr>\n",
       "  </thead>\n",
       "  <tbody>\n",
       "    <tr>\n",
       "      <th>0</th>\n",
       "      <td>6550</td>\n",
       "      <td>81132</td>\n",
       "      <td>0.727490</td>\n",
       "    </tr>\n",
       "    <tr>\n",
       "      <th>1</th>\n",
       "      <td>6550</td>\n",
       "      <td>43932</td>\n",
       "      <td>0.688481</td>\n",
       "    </tr>\n",
       "    <tr>\n",
       "      <th>2</th>\n",
       "      <td>6550</td>\n",
       "      <td>6902</td>\n",
       "      <td>0.685544</td>\n",
       "    </tr>\n",
       "    <tr>\n",
       "      <th>3</th>\n",
       "      <td>6550</td>\n",
       "      <td>117646</td>\n",
       "      <td>0.675447</td>\n",
       "    </tr>\n",
       "    <tr>\n",
       "      <th>4</th>\n",
       "      <td>6550</td>\n",
       "      <td>72165</td>\n",
       "      <td>0.667279</td>\n",
       "    </tr>\n",
       "    <tr>\n",
       "      <th>5</th>\n",
       "      <td>6550</td>\n",
       "      <td>4719</td>\n",
       "      <td>0.663791</td>\n",
       "    </tr>\n",
       "    <tr>\n",
       "      <th>6</th>\n",
       "      <td>6550</td>\n",
       "      <td>164226</td>\n",
       "      <td>0.662322</td>\n",
       "    </tr>\n",
       "    <tr>\n",
       "      <th>7</th>\n",
       "      <td>6550</td>\n",
       "      <td>164185</td>\n",
       "      <td>0.659110</td>\n",
       "    </tr>\n",
       "    <tr>\n",
       "      <th>8</th>\n",
       "      <td>6550</td>\n",
       "      <td>2617</td>\n",
       "      <td>0.654245</td>\n",
       "    </tr>\n",
       "    <tr>\n",
       "      <th>9</th>\n",
       "      <td>6550</td>\n",
       "      <td>4956</td>\n",
       "      <td>0.653052</td>\n",
       "    </tr>\n",
       "  </tbody>\n",
       "</table>\n",
       "</div>"
      ],
      "text/plain": [
       "   user_id  movie_id     score\n",
       "0     6550     81132  0.727490\n",
       "1     6550     43932  0.688481\n",
       "2     6550      6902  0.685544\n",
       "3     6550    117646  0.675447\n",
       "4     6550     72165  0.667279\n",
       "5     6550      4719  0.663791\n",
       "6     6550    164226  0.662322\n",
       "7     6550    164185  0.659110\n",
       "8     6550      2617  0.654245\n",
       "9     6550      4956  0.653052"
      ]
     },
     "execution_count": 11,
     "metadata": {},
     "output_type": "execute_result"
    }
   ],
   "source": [
    "model.recommend_all([6550])"
   ]
  }
 ],
 "metadata": {
  "kernelspec": {
   "display_name": "Python 3 (ipykernel)",
   "language": "python",
   "name": "python3"
  },
  "language_info": {
   "codemirror_mode": {
    "name": "ipython",
    "version": 3
   },
   "file_extension": ".py",
   "mimetype": "text/x-python",
   "name": "python",
   "nbconvert_exporter": "python",
   "pygments_lexer": "ipython3",
   "version": "3.10.12"
  },
  "widgets": {
   "application/vnd.jupyter.widget-state+json": {
    "state": {},
    "version_major": 2,
    "version_minor": 0
   }
  }
 },
 "nbformat": 4,
 "nbformat_minor": 5
}
