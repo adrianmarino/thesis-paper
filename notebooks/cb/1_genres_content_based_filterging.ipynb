{
 "cells": [
  {
   "cell_type": "markdown",
   "id": "0417277b-47df-4113-a7b3-8f960db06f1d",
   "metadata": {
    "tags": []
   },
   "source": [
    "# Models: Genres content based filtering"
   ]
  },
  {
   "cell_type": "code",
   "execution_count": 1,
   "id": "1472139d-d9eb-4fa7-afb2-068a3b576097",
   "metadata": {},
   "outputs": [],
   "source": [
    "%load_ext autoreload\n",
    "%autoreload 2"
   ]
  },
  {
   "cell_type": "code",
   "execution_count": 2,
   "id": "debaaf15-519b-42c8-ba7b-b430074b43ec",
   "metadata": {},
   "outputs": [],
   "source": [
    "BASE_PATH             = '../..'\n",
    "LIB_PATH              = f'{BASE_PATH}/lib'\n",
    "DATASET_PATH          = f'{BASE_PATH}/datasets'"
   ]
  },
  {
   "cell_type": "code",
   "execution_count": 3,
   "id": "f98e7bf4-f41a-43f6-b7b7-a991d00f82de",
   "metadata": {},
   "outputs": [
    {
     "name": "stderr",
     "output_type": "stream",
     "text": [
      "2023-10-07 17:11:36.147379: I tensorflow/core/platform/cpu_feature_guard.cc:182] This TensorFlow binary is optimized to use available CPU instructions in performance-critical operations.\n",
      "To enable the following instructions: AVX2 FMA, in other operations, rebuild TensorFlow with the appropriate compiler flags.\n",
      "2023-10-07 17:11:36.571161: W tensorflow/compiler/tf2tensorrt/utils/py_utils.cc:38] TF-TRT Warning: Could not find TensorRT\n",
      "2023-10-07 17:11:37.032403: I tensorflow/compiler/xla/stream_executor/cuda/cuda_gpu_executor.cc:996] successful NUMA node read from SysFS had negative value (-1), but there must be at least one NUMA node, so returning NUMA node zero. See more at https://github.com/torvalds/linux/blob/v6.0/Documentation/ABI/testing/sysfs-bus-pci#L344-L355\n",
      "2023-10-07 17:11:37.043336: W tensorflow/core/common_runtime/gpu/gpu_device.cc:1956] Cannot dlopen some GPU libraries. Please make sure the missing libraries mentioned above are installed properly if you would like to use GPU. Follow the guide at https://www.tensorflow.org/install/gpu for how to download and setup the required libraries for your platform.\n",
      "Skipping registering GPU devices...\n"
     ]
    },
    {
     "data": {
      "text/plain": [
       "<Figure size 640x480 with 0 Axes>"
      ]
     },
     "metadata": {},
     "output_type": "display_data"
    }
   ],
   "source": [
    "import sys\n",
    "sys.path.append(LIB_PATH)\n",
    "\n",
    "import numpy as np\n",
    "import pandas as pd\n",
    "\n",
    "import data.dataset as ds\n",
    "\n",
    "import util as ut\n",
    "\n",
    "import recommender as rc\n",
    "\n",
    "from database.chromadb import RepositoryFactory\n",
    "\n",
    "import pytorch_common.util as pu"
   ]
  },
  {
   "cell_type": "markdown",
   "id": "40c1da33-a8da-47c9-b174-0b0885b05b50",
   "metadata": {},
   "source": [
    "## Setup"
   ]
  },
  {
   "cell_type": "code",
   "execution_count": 5,
   "id": "e60a3838-9787-411d-b9f1-8a942321cbb1",
   "metadata": {},
   "outputs": [
    {
     "data": {
      "text/plain": [
       "<RootLogger root (INFO)>"
      ]
     },
     "execution_count": 5,
     "metadata": {},
     "output_type": "execute_result"
    }
   ],
   "source": [
    "pu.LoggerBuilder().on_console().build()"
   ]
  },
  {
   "cell_type": "markdown",
   "id": "b8334d07-f306-42b4-8ea1-cc27b82eb343",
   "metadata": {},
   "source": [
    "## Carga de dataset"
   ]
  },
  {
   "cell_type": "code",
   "execution_count": 10,
   "id": "c34c660c-4802-498a-81b7-07bed14de07f",
   "metadata": {},
   "outputs": [],
   "source": [
    "dataset = ds.MovieLensTMDBDatasetFactory.from_path(\n",
    "    DATASET_PATH,\n",
    "    filter_fn = lambda df: df.query('user_movie_rating_year >= 2004')\n",
    ")"
   ]
  },
  {
   "cell_type": "code",
   "execution_count": 11,
   "id": "27ce6fe8-36c3-4797-9827-ecaf807c050b",
   "metadata": {
    "tags": []
   },
   "outputs": [
    {
     "data": {
      "text/html": [
       "<div>\n",
       "<style scoped>\n",
       "    .dataframe tbody tr th:only-of-type {\n",
       "        vertical-align: middle;\n",
       "    }\n",
       "\n",
       "    .dataframe tbody tr th {\n",
       "        vertical-align: top;\n",
       "    }\n",
       "\n",
       "    .dataframe thead th {\n",
       "        text-align: right;\n",
       "    }\n",
       "</style>\n",
       "<table border=\"1\" class=\"dataframe\">\n",
       "  <thead>\n",
       "    <tr style=\"text-align: right;\">\n",
       "      <th></th>\n",
       "      <th>user_id</th>\n",
       "      <th>movie_id</th>\n",
       "    </tr>\n",
       "  </thead>\n",
       "  <tbody>\n",
       "    <tr>\n",
       "      <th>5019</th>\n",
       "      <td>62199</td>\n",
       "      <td>3688</td>\n",
       "    </tr>\n",
       "    <tr>\n",
       "      <th>520</th>\n",
       "      <td>6550</td>\n",
       "      <td>1935</td>\n",
       "    </tr>\n",
       "    <tr>\n",
       "      <th>5653</th>\n",
       "      <td>70092</td>\n",
       "      <td>1745</td>\n",
       "    </tr>\n",
       "  </tbody>\n",
       "</table>\n",
       "</div>"
      ],
      "text/plain": [
       "      user_id  movie_id\n",
       "5019    62199      3688\n",
       "520      6550      1935\n",
       "5653    70092      1745"
      ]
     },
     "execution_count": 11,
     "metadata": {},
     "output_type": "execute_result"
    }
   ],
   "source": [
    "dataset.data.groupby(['user_id'])['movie_id'] \\\n",
    "            .count() \\\n",
    "            .reset_index() \\\n",
    "            .sort_values('movie_id', ascending=False).head(3)"
   ]
  },
  {
   "cell_type": "code",
   "execution_count": 12,
   "id": "04a7f5fc-6d49-4515-839a-ced5c0b8ca0e",
   "metadata": {
    "tags": []
   },
   "outputs": [],
   "source": [
    "df = ut.embedding_from_list_col(\n",
    "    dataset.data, \n",
    "    'user_id', \n",
    "    'movie_genres', \n",
    "    exclude=['(no genres listed)']\n",
    ")"
   ]
  },
  {
   "cell_type": "code",
   "execution_count": 13,
   "id": "6df72674-b81d-43b6-a740-6f08502f2d1e",
   "metadata": {
    "tags": []
   },
   "outputs": [],
   "source": [
    "ut.save_df(df, f'{DATASET_PATH}/user-genre-freq-embedding.json')"
   ]
  },
  {
   "cell_type": "code",
   "execution_count": 14,
   "id": "75de63ae-b638-40a0-8600-8a9c01f60366",
   "metadata": {},
   "outputs": [
    {
     "data": {
      "application/vnd.jupyter.widget-view+json": {
       "model_id": "36f481fdbd444590bbf941aa2e2d7195",
       "version_major": 2,
       "version_minor": 0
      },
      "text/plain": [
       "Insert Embeddings:   0%|          | 0/13017 [00:00<?, ?it/s]"
      ]
     },
     "metadata": {},
     "output_type": "display_data"
    },
    {
     "name": "stderr",
     "output_type": "stream",
     "text": [
      "2023-10-07 17:11:46,820 - WARNING - Expected each value in the embedding to be a int or float, got [[None, None, None, None, None, None, None, None, None, None, None, None, None, None, None, None, None, None, None]]. EmbId: 10955\n",
      "2023-10-07 17:11:47,006 - WARNING - Expected each value in the embedding to be a int or float, got [[None, None, None, None, None, None, None, None, None, None, None, None, None, None, None, None, None, None, None]]. EmbId: 18231\n",
      "2023-10-07 17:11:47,183 - WARNING - Expected each value in the embedding to be a int or float, got [[None, None, None, None, None, None, None, None, None, None, None, None, None, None, None, None, None, None, None]]. EmbId: 24853\n",
      "2023-10-07 17:11:47,197 - WARNING - Expected each value in the embedding to be a int or float, got [[None, None, None, None, None, None, None, None, None, None, None, None, None, None, None, None, None, None, None]]. EmbId: 25288\n",
      "2023-10-07 17:11:47,346 - WARNING - Expected each value in the embedding to be a int or float, got [[None, None, None, None, None, None, None, None, None, None, None, None, None, None, None, None, None, None, None]]. EmbId: 30621\n",
      "2023-10-07 17:11:48,199 - WARNING - Expected each value in the embedding to be a int or float, got [[None, None, None, None, None, None, None, None, None, None, None, None, None, None, None, None, None, None, None]]. EmbId: 60916\n",
      "2023-10-07 17:11:48,332 - WARNING - Expected each value in the embedding to be a int or float, got [[None, None, None, None, None, None, None, None, None, None, None, None, None, None, None, None, None, None, None]]. EmbId: 65679\n",
      "2023-10-07 17:11:48,432 - WARNING - Expected each value in the embedding to be a int or float, got [[None, None, None, None, None, None, None, None, None, None, None, None, None, None, None, None, None, None, None]]. EmbId: 68976\n",
      "2023-10-07 17:11:48,663 - WARNING - Expected each value in the embedding to be a int or float, got [[None, None, None, None, None, None, None, None, None, None, None, None, None, None, None, None, None, None, None]]. EmbId: 77724\n",
      "2023-10-07 17:11:48,686 - WARNING - Expected each value in the embedding to be a int or float, got [[None, None, None, None, None, None, None, None, None, None, None, None, None, None, None, None, None, None, None]]. EmbId: 78448\n",
      "2023-10-07 17:11:48,897 - WARNING - Expected each value in the embedding to be a int or float, got [[None, None, None, None, None, None, None, None, None, None, None, None, None, None, None, None, None, None, None]]. EmbId: 85941\n",
      "2023-10-07 17:11:49,075 - WARNING - Expected each value in the embedding to be a int or float, got [[None, None, None, None, None, None, None, None, None, None, None, None, None, None, None, None, None, None, None]]. EmbId: 92420\n",
      "2023-10-07 17:11:49,295 - WARNING - Expected each value in the embedding to be a int or float, got [[None, None, None, None, None, None, None, None, None, None, None, None, None, None, None, None, None, None, None]]. EmbId: 99575\n",
      "2023-10-07 17:11:49,589 - WARNING - Expected each value in the embedding to be a int or float, got [[None, None, None, None, None, None, None, None, None, None, None, None, None, None, None, None, None, None, None]]. EmbId: 109610\n",
      "2023-10-07 17:11:50,048 - WARNING - Expected each value in the embedding to be a int or float, got [[None, None, None, None, None, None, None, None, None, None, None, None, None, None, None, None, None, None, None]]. EmbId: 125514\n",
      "2023-10-07 17:11:50,120 - WARNING - Expected each value in the embedding to be a int or float, got [[None, None, None, None, None, None, None, None, None, None, None, None, None, None, None, None, None, None, None]]. EmbId: 128100\n",
      "2023-10-07 17:11:50,695 - WARNING - Expected each value in the embedding to be a int or float, got [[None, None, None, None, None, None, None, None, None, None, None, None, None, None, None, None, None, None, None]]. EmbId: 147952\n"
     ]
    }
   ],
   "source": [
    "repository = RepositoryFactory().create(\n",
    "    name          = 'user-genre-freq-embedding',\n",
    "    file_path     = f'{DATASET_PATH}/user-genre-freq-embedding.json',\n",
    "    metadata_cols = ['user_id'],\n",
    "    embedding_col = 'movie_genres_embedding',\n",
    "    id_col        = 'user_id'\n",
    ")\n"
   ]
  },
  {
   "cell_type": "code",
   "execution_count": 15,
   "id": "615b4c6f-14c1-468a-89ae-5c4b3ab0a7b6",
   "metadata": {
    "tags": []
   },
   "outputs": [],
   "source": [
    "recommender = rc.EmbCBFilteringRecommender('genres', repository, dataset)"
   ]
  },
  {
   "cell_type": "code",
   "execution_count": 16,
   "id": "f904d6b2-82e6-462d-b788-b2173d59d9f2",
   "metadata": {
    "tags": []
   },
   "outputs": [
    {
     "name": "stdout",
     "output_type": "stream",
     "text": [
      "\n",
      "Recommender: genres-cb-recommender\n",
      "\n"
     ]
    },
    {
     "data": {
      "text/html": [
       "<table border=\"1\" class=\"dataframe\">\n",
       "  <thead>\n",
       "    <tr style=\"text-align: right;\">\n",
       "      <th></th>\n",
       "      <th>Rating</th>\n",
       "      <th>Movies</th>\n",
       "      <th>movie_genres</th>\n",
       "      <th>movie_release_year</th>\n",
       "    </tr>\n",
       "  </thead>\n",
       "  <tbody>\n",
       "    <tr>\n",
       "      <th>0</th>\n",
       "      <td>5.0</td>\n",
       "      <td><img src=\"https://m.media-amazon.com/images/M/MV5BYzc5MTU4N2EtYTkyMi00NjdhLTg3NWEtMTY4OTEyMzJhZTAzXkEyXkFqcGdeQXVyNjc1NTYyMjg@._V1_SX300.jpg\" width=\"300\" ></td>\n",
       "      <td>[Action, Sci-Fi]</td>\n",
       "      <td>2017</td>\n",
       "    </tr>\n",
       "    <tr>\n",
       "      <th>93</th>\n",
       "      <td>5.0</td>\n",
       "      <td><img src=\"https://m.media-amazon.com/images/M/MV5BNDUzZjIxODUtNzM1MC00YjM1LTllYzItMzc3NTBhZDI4MmU5XkEyXkFqcGdeQXVyMjMwNjYyMzE@._V1_SX300.jpg\" width=\"300\" ></td>\n",
       "      <td>[Comedy]</td>\n",
       "      <td>2014</td>\n",
       "    </tr>\n",
       "    <tr>\n",
       "      <th>98</th>\n",
       "      <td>5.0</td>\n",
       "      <td><img src=\"https://m.media-amazon.com/images/M/MV5BYzhjNzI0NWEtMzEyYy00OGViLThhMjctMWQxNGQ3Y2IzOTY4XkEyXkFqcGdeQXVyNjAwNDUxODI@._V1_SX300.jpg\" width=\"300\" ></td>\n",
       "      <td>[Adventure, Animation, Drama]</td>\n",
       "      <td>2014</td>\n",
       "    </tr>\n",
       "    <tr>\n",
       "      <th>117</th>\n",
       "      <td>5.0</td>\n",
       "      <td><img src=\"https://m.media-amazon.com/images/M/MV5BMWZiNjE2OWItMTkwNy00ZWQzLWI0NTgtMWE0NjNiYTljN2Q1XkEyXkFqcGdeQXVyNzAwMjYxMzA@._V1_SX300.jpg\" width=\"300\" ></td>\n",
       "      <td>[Action, Adventure, Thriller, IMAX]</td>\n",
       "      <td>2012</td>\n",
       "    </tr>\n",
       "    <tr>\n",
       "      <th>222</th>\n",
       "      <td>5.0</td>\n",
       "      <td><img src=\"https://m.media-amazon.com/images/M/MV5BMTM3NjQyODI3M15BMl5BanBnXkFtZTcwMDM4NjM0OA@@._V1_SX300.jpg\" width=\"300\" ></td>\n",
       "      <td>[Animation, Children, Comedy]</td>\n",
       "      <td>2012</td>\n",
       "    </tr>\n",
       "  </tbody>\n",
       "</table>"
      ],
      "text/plain": [
       "<IPython.core.display.HTML object>"
      ]
     },
     "metadata": {},
     "output_type": "display_data"
    }
   ],
   "source": [
    "recommender.recommend(6550).show()"
   ]
  },
  {
   "cell_type": "code",
   "execution_count": 17,
   "id": "14b33485-6f4e-4e45-abd0-fc275a468a36",
   "metadata": {
    "tags": []
   },
   "outputs": [
    {
     "name": "stdout",
     "output_type": "stream",
     "text": [
      "\n",
      "Recommender: genres-cb-recommender\n",
      "\n"
     ]
    },
    {
     "data": {
      "text/html": [
       "<table border=\"1\" class=\"dataframe\">\n",
       "  <thead>\n",
       "    <tr style=\"text-align: right;\">\n",
       "      <th></th>\n",
       "      <th>Rating</th>\n",
       "      <th>Movies</th>\n",
       "      <th>movie_genres</th>\n",
       "      <th>movie_release_year</th>\n",
       "    </tr>\n",
       "  </thead>\n",
       "  <tbody>\n",
       "    <tr>\n",
       "      <th>0</th>\n",
       "      <td>5.0</td>\n",
       "      <td><img src=\"https://m.media-amazon.com/images/M/MV5BM2Y1ZTI0NzktYzU3MS00YmE1LThkY2EtMDc0NGYxNTNlZDA5XkEyXkFqcGdeQXVyNTAyODkwOQ@@._V1_SX300.jpg\" width=\"300\" ></td>\n",
       "      <td>[Action, Drama, War]</td>\n",
       "      <td>1967</td>\n",
       "    </tr>\n",
       "    <tr>\n",
       "      <th>20</th>\n",
       "      <td>5.0</td>\n",
       "      <td><img src=\"https://m.media-amazon.com/images/M/MV5BNjYwOWI3NGEtMmYzMS00M2ZlLWFlNTItMjlmZWMwOTE2MDQyXkEyXkFqcGdeQXVyNDkzNTM2ODg@._V1_SX300.jpg\" width=\"300\" ></td>\n",
       "      <td>[Comedy, Drama]</td>\n",
       "      <td>1967</td>\n",
       "    </tr>\n",
       "    <tr>\n",
       "      <th>23</th>\n",
       "      <td>5.0</td>\n",
       "      <td><img src=\"https://m.media-amazon.com/images/M/MV5BZThiZjAzZjgtNDU3MC00YThhLThjYWUtZGRkYjc2ZWZlOTVjXkEyXkFqcGdeQXVyNTA4NzY1MzY@._V1_SX300.jpg\" width=\"300\" ></td>\n",
       "      <td>[Action, Adventure]</td>\n",
       "      <td>1961</td>\n",
       "    </tr>\n",
       "    <tr>\n",
       "      <th>65</th>\n",
       "      <td>5.0</td>\n",
       "      <td><img src=\"https://m.media-amazon.com/images/M/MV5BOTdhNmUxZmQtNmMwNC00MzE3LWE1MTUtZDgxZTYwYjEzZjcwXkEyXkFqcGdeQXVyNTA1NjYyMDk@._V1_SX300.jpg\" width=\"300\" ></td>\n",
       "      <td>[Drama]</td>\n",
       "      <td>1957</td>\n",
       "    </tr>\n",
       "    <tr>\n",
       "      <th>76</th>\n",
       "      <td>5.0</td>\n",
       "      <td><img src=\"https://m.media-amazon.com/images/M/MV5BYTQyZGM5OTUtZjVlMy00MDgyLWE0YjYtZDYwYTgxMmMyZDIxXkEyXkFqcGdeQXVyNzYxODE3NTQ@._V1_SX300.jpg\" width=\"300\" ></td>\n",
       "      <td>[Drama]</td>\n",
       "      <td>1952</td>\n",
       "    </tr>\n",
       "  </tbody>\n",
       "</table>"
      ],
      "text/plain": [
       "<IPython.core.display.HTML object>"
      ]
     },
     "metadata": {},
     "output_type": "display_data"
    }
   ],
   "source": [
    "recommender.recommend(62199).show()"
   ]
  },
  {
   "cell_type": "code",
   "execution_count": 18,
   "id": "494b3695-1aef-45ac-b09b-b5d07df28c44",
   "metadata": {
    "tags": []
   },
   "outputs": [
    {
     "name": "stdout",
     "output_type": "stream",
     "text": [
      "\n",
      "Recommender: genres-cb-recommender\n",
      "\n"
     ]
    },
    {
     "data": {
      "text/html": [
       "<table border=\"1\" class=\"dataframe\">\n",
       "  <thead>\n",
       "    <tr style=\"text-align: right;\">\n",
       "      <th></th>\n",
       "      <th>Rating</th>\n",
       "      <th>Movies</th>\n",
       "      <th>movie_genres</th>\n",
       "      <th>movie_release_year</th>\n",
       "    </tr>\n",
       "  </thead>\n",
       "  <tbody>\n",
       "    <tr>\n",
       "      <th>0</th>\n",
       "      <td>5.0</td>\n",
       "      <td><img src=\"https://m.media-amazon.com/images/M/MV5BZGQ0NmI1N2EtYzdkYy00NzFmLThlYTMtOWViYjQyOGQ2OWVlXkEyXkFqcGdeQXVyMTQxNzMzNDI@._V1_SX300.jpg\" width=\"300\" ></td>\n",
       "      <td>[Comedy, Documentary]</td>\n",
       "      <td>2005</td>\n",
       "    </tr>\n",
       "    <tr>\n",
       "      <th>26</th>\n",
       "      <td>5.0</td>\n",
       "      <td><img src=\"https://m.media-amazon.com/images/M/MV5BMTQ3OTEyMDExNV5BMl5BanBnXkFtZTcwMDA0MzAwMQ@@._V1_SX300.jpg\" width=\"300\" ></td>\n",
       "      <td>[Documentary]</td>\n",
       "      <td>2003</td>\n",
       "    </tr>\n",
       "    <tr>\n",
       "      <th>29</th>\n",
       "      <td>5.0</td>\n",
       "      <td><img src=\"https://m.media-amazon.com/images/M/MV5BMzE0ZTljZWItMTE3Mi00ZmEzLTg0OTktYWQ5MGY3YTQzMjZmXkEyXkFqcGdeQXVyMjUzOTY1NTc@._V1_SX300.jpg\" width=\"300\" ></td>\n",
       "      <td>[Drama, Fantasy, Romance]</td>\n",
       "      <td>1987</td>\n",
       "    </tr>\n",
       "    <tr>\n",
       "      <th>62</th>\n",
       "      <td>5.0</td>\n",
       "      <td><img src=\"https://m.media-amazon.com/images/M/MV5BMmU1NGYwZWYtOWExNi00ZTEyLTgwMmUtM2ZlMDVjNWM4YjVlXkEyXkFqcGdeQXVyMjUzOTY1NTc@._V1_SX300.jpg\" width=\"300\" ></td>\n",
       "      <td>[Drama, War]</td>\n",
       "      <td>1985</td>\n",
       "    </tr>\n",
       "    <tr>\n",
       "      <th>99</th>\n",
       "      <td>5.0</td>\n",
       "      <td><img src=\"https://m.media-amazon.com/images/M/MV5BZmQzMDE5ZWQtOTU3ZS00ZjdhLWI0OTctZDNkODk4YThmOTRhL2ltYWdlXkEyXkFqcGdeQXVyNjc1NTYyMjg@._V1_SX300.jpg\" width=\"300\" ></td>\n",
       "      <td>[Drama, Fantasy, Mystery]</td>\n",
       "      <td>1982</td>\n",
       "    </tr>\n",
       "  </tbody>\n",
       "</table>"
      ],
      "text/plain": [
       "<IPython.core.display.HTML object>"
      ]
     },
     "metadata": {},
     "output_type": "display_data"
    }
   ],
   "source": [
    "recommender.recommend(70092).show()"
   ]
  }
 ],
 "metadata": {
  "kernelspec": {
   "display_name": "Python 3 (ipykernel)",
   "language": "python",
   "name": "python3"
  },
  "language_info": {
   "codemirror_mode": {
    "name": "ipython",
    "version": 3
   },
   "file_extension": ".py",
   "mimetype": "text/x-python",
   "name": "python",
   "nbconvert_exporter": "python",
   "pygments_lexer": "ipython3",
   "version": "3.10.12"
  },
  "widgets": {
   "application/vnd.jupyter.widget-state+json": {
    "state": {
     "0fd759dcc8d24b858a9bf9c20bd7d184": {
      "model_module": "@jupyter-widgets/controls",
      "model_module_version": "2.0.0",
      "model_name": "FloatProgressModel",
      "state": {
       "bar_style": "success",
       "layout": "IPY_MODEL_f4a5ded0912c49eba1fffddc7be42fc5",
       "max": 13017,
       "style": "IPY_MODEL_4a20d28096c54072bc9389d8e9e037d7",
       "value": 13017
      }
     },
     "145255a23ce64d99a68e60d1b9a0e43e": {
      "model_module": "@jupyter-widgets/controls",
      "model_module_version": "2.0.0",
      "model_name": "HTMLStyleModel",
      "state": {
       "description_width": "",
       "font_size": null,
       "text_color": null
      }
     },
     "3220e94a8d7046bf8d0be8721747362c": {
      "model_module": "@jupyter-widgets/controls",
      "model_module_version": "2.0.0",
      "model_name": "HTMLStyleModel",
      "state": {
       "description_width": "",
       "font_size": null,
       "text_color": null
      }
     },
     "36f481fdbd444590bbf941aa2e2d7195": {
      "model_module": "@jupyter-widgets/controls",
      "model_module_version": "2.0.0",
      "model_name": "HBoxModel",
      "state": {
       "children": [
        "IPY_MODEL_7cc8899c290747048cf0f1775319463e",
        "IPY_MODEL_0fd759dcc8d24b858a9bf9c20bd7d184",
        "IPY_MODEL_c5cbe3d4a4d44336be5b34bb4063440b"
       ],
       "layout": "IPY_MODEL_8ad169fed44f4b9eb3644641dc1ce73b"
      }
     },
     "4a20d28096c54072bc9389d8e9e037d7": {
      "model_module": "@jupyter-widgets/controls",
      "model_module_version": "2.0.0",
      "model_name": "ProgressStyleModel",
      "state": {
       "description_width": ""
      }
     },
     "799c78c8f2a34e51a0cb592d29c5f27e": {
      "model_module": "@jupyter-widgets/base",
      "model_module_version": "2.0.0",
      "model_name": "LayoutModel",
      "state": {}
     },
     "7cc8899c290747048cf0f1775319463e": {
      "model_module": "@jupyter-widgets/controls",
      "model_module_version": "2.0.0",
      "model_name": "HTMLModel",
      "state": {
       "layout": "IPY_MODEL_799c78c8f2a34e51a0cb592d29c5f27e",
       "style": "IPY_MODEL_145255a23ce64d99a68e60d1b9a0e43e",
       "value": "Insert Embeddings: 100%"
      }
     },
     "8ad169fed44f4b9eb3644641dc1ce73b": {
      "model_module": "@jupyter-widgets/base",
      "model_module_version": "2.0.0",
      "model_name": "LayoutModel",
      "state": {}
     },
     "c5cbe3d4a4d44336be5b34bb4063440b": {
      "model_module": "@jupyter-widgets/controls",
      "model_module_version": "2.0.0",
      "model_name": "HTMLModel",
      "state": {
       "layout": "IPY_MODEL_cfc17b0da2884357a0b37969409df0ac",
       "style": "IPY_MODEL_3220e94a8d7046bf8d0be8721747362c",
       "value": " 13017/13017 [00:04&lt;00:00, 2842.58it/s]"
      }
     },
     "cfc17b0da2884357a0b37969409df0ac": {
      "model_module": "@jupyter-widgets/base",
      "model_module_version": "2.0.0",
      "model_name": "LayoutModel",
      "state": {}
     },
     "f4a5ded0912c49eba1fffddc7be42fc5": {
      "model_module": "@jupyter-widgets/base",
      "model_module_version": "2.0.0",
      "model_name": "LayoutModel",
      "state": {}
     }
    },
    "version_major": 2,
    "version_minor": 0
   }
  }
 },
 "nbformat": 4,
 "nbformat_minor": 5
}
