{
 "cells": [
  {
   "cell_type": "markdown",
   "id": "0417277b-47df-4113-a7b3-8f960db06f1d",
   "metadata": {
    "tags": []
   },
   "source": [
    "# Models: Genres content based filtering"
   ]
  },
  {
   "cell_type": "code",
   "execution_count": 1,
   "id": "1472139d-d9eb-4fa7-afb2-068a3b576097",
   "metadata": {},
   "outputs": [],
   "source": [
    "%load_ext autoreload\n",
    "%autoreload 2"
   ]
  },
  {
   "cell_type": "code",
   "execution_count": 2,
   "id": "debaaf15-519b-42c8-ba7b-b430074b43ec",
   "metadata": {},
   "outputs": [],
   "source": [
    "BASE_PATH             = '../..'\n",
    "LIB_PATH              = f'{BASE_PATH}/lib'\n",
    "DATASET_PATH          = f'{BASE_PATH}/datasets'"
   ]
  },
  {
   "cell_type": "code",
   "execution_count": 3,
   "id": "f98e7bf4-f41a-43f6-b7b7-a991d00f82de",
   "metadata": {},
   "outputs": [
    {
     "name": "stderr",
     "output_type": "stream",
     "text": [
      "2023-10-07 22:27:07.072931: I tensorflow/core/platform/cpu_feature_guard.cc:182] This TensorFlow binary is optimized to use available CPU instructions in performance-critical operations.\n",
      "To enable the following instructions: AVX2 FMA, in other operations, rebuild TensorFlow with the appropriate compiler flags.\n",
      "2023-10-07 22:27:07.585193: W tensorflow/compiler/tf2tensorrt/utils/py_utils.cc:38] TF-TRT Warning: Could not find TensorRT\n",
      "2023-10-07 22:27:08.154772: I tensorflow/compiler/xla/stream_executor/cuda/cuda_gpu_executor.cc:996] successful NUMA node read from SysFS had negative value (-1), but there must be at least one NUMA node, so returning NUMA node zero. See more at https://github.com/torvalds/linux/blob/v6.0/Documentation/ABI/testing/sysfs-bus-pci#L344-L355\n",
      "2023-10-07 22:27:08.167226: W tensorflow/core/common_runtime/gpu/gpu_device.cc:1956] Cannot dlopen some GPU libraries. Please make sure the missing libraries mentioned above are installed properly if you would like to use GPU. Follow the guide at https://www.tensorflow.org/install/gpu for how to download and setup the required libraries for your platform.\n",
      "Skipping registering GPU devices...\n"
     ]
    },
    {
     "data": {
      "text/plain": [
       "<Figure size 640x480 with 0 Axes>"
      ]
     },
     "metadata": {},
     "output_type": "display_data"
    }
   ],
   "source": [
    "import sys\n",
    "sys.path.append(LIB_PATH)\n",
    "\n",
    "import numpy as np\n",
    "import pandas as pd\n",
    "\n",
    "import data.dataset as ds\n",
    "\n",
    "import util as ut\n",
    "\n",
    "import recommender as rc\n",
    "\n",
    "from database.chromadb import RepositoryFactory\n",
    "\n",
    "import pytorch_common.util as pu"
   ]
  },
  {
   "cell_type": "markdown",
   "id": "40c1da33-a8da-47c9-b174-0b0885b05b50",
   "metadata": {},
   "source": [
    "## Setup"
   ]
  },
  {
   "cell_type": "code",
   "execution_count": 4,
   "id": "e60a3838-9787-411d-b9f1-8a942321cbb1",
   "metadata": {},
   "outputs": [
    {
     "data": {
      "text/plain": [
       "<RootLogger root (INFO)>"
      ]
     },
     "execution_count": 4,
     "metadata": {},
     "output_type": "execute_result"
    }
   ],
   "source": [
    "pu.LoggerBuilder().on_console().build()"
   ]
  },
  {
   "cell_type": "markdown",
   "id": "b8334d07-f306-42b4-8ea1-cc27b82eb343",
   "metadata": {},
   "source": [
    "## Carga de dataset"
   ]
  },
  {
   "cell_type": "code",
   "execution_count": 5,
   "id": "c34c660c-4802-498a-81b7-07bed14de07f",
   "metadata": {},
   "outputs": [],
   "source": [
    "dataset = ds.MovieLensTMDBDatasetFactory.from_path(\n",
    "    DATASET_PATH,\n",
    "    filter_fn = lambda df: df.query('user_movie_rating_year >= 2004')\n",
    ")"
   ]
  },
  {
   "cell_type": "code",
   "execution_count": 6,
   "id": "27ce6fe8-36c3-4797-9827-ecaf807c050b",
   "metadata": {
    "tags": []
   },
   "outputs": [
    {
     "data": {
      "text/html": [
       "<div>\n",
       "<style scoped>\n",
       "    .dataframe tbody tr th:only-of-type {\n",
       "        vertical-align: middle;\n",
       "    }\n",
       "\n",
       "    .dataframe tbody tr th {\n",
       "        vertical-align: top;\n",
       "    }\n",
       "\n",
       "    .dataframe thead th {\n",
       "        text-align: right;\n",
       "    }\n",
       "</style>\n",
       "<table border=\"1\" class=\"dataframe\">\n",
       "  <thead>\n",
       "    <tr style=\"text-align: right;\">\n",
       "      <th></th>\n",
       "      <th>user_id</th>\n",
       "      <th>movie_id</th>\n",
       "    </tr>\n",
       "  </thead>\n",
       "  <tbody>\n",
       "    <tr>\n",
       "      <th>5019</th>\n",
       "      <td>62199</td>\n",
       "      <td>3688</td>\n",
       "    </tr>\n",
       "    <tr>\n",
       "      <th>520</th>\n",
       "      <td>6550</td>\n",
       "      <td>1935</td>\n",
       "    </tr>\n",
       "    <tr>\n",
       "      <th>5653</th>\n",
       "      <td>70092</td>\n",
       "      <td>1745</td>\n",
       "    </tr>\n",
       "  </tbody>\n",
       "</table>\n",
       "</div>"
      ],
      "text/plain": [
       "      user_id  movie_id\n",
       "5019    62199      3688\n",
       "520      6550      1935\n",
       "5653    70092      1745"
      ]
     },
     "execution_count": 6,
     "metadata": {},
     "output_type": "execute_result"
    }
   ],
   "source": [
    "dataset.data.groupby(['user_id'])['movie_id'] \\\n",
    "            .count() \\\n",
    "            .reset_index() \\\n",
    "            .sort_values('movie_id', ascending=False).head(3)"
   ]
  },
  {
   "cell_type": "code",
   "execution_count": 7,
   "id": "679e2193-e4e4-4afa-abc3-2250a4ce55f8",
   "metadata": {
    "tags": []
   },
   "outputs": [
    {
     "data": {
      "text/html": [
       "<div>\n",
       "<style scoped>\n",
       "    .dataframe tbody tr th:only-of-type {\n",
       "        vertical-align: middle;\n",
       "    }\n",
       "\n",
       "    .dataframe tbody tr th {\n",
       "        vertical-align: top;\n",
       "    }\n",
       "\n",
       "    .dataframe thead th {\n",
       "        text-align: right;\n",
       "    }\n",
       "</style>\n",
       "<table border=\"1\" class=\"dataframe\">\n",
       "  <thead>\n",
       "    <tr style=\"text-align: right;\">\n",
       "      <th></th>\n",
       "      <th>user_id</th>\n",
       "      <th>user_seq</th>\n",
       "      <th>user_movie_tags</th>\n",
       "      <th>user_movie_rating</th>\n",
       "      <th>user_movie_rating_timestamp</th>\n",
       "      <th>user_movie_rating_year</th>\n",
       "      <th>movie_id</th>\n",
       "      <th>movie_seq</th>\n",
       "      <th>movie_title</th>\n",
       "      <th>movie_genres</th>\n",
       "      <th>movie_for_adults</th>\n",
       "      <th>movie_original_language</th>\n",
       "      <th>movie_overview</th>\n",
       "      <th>movie_tags</th>\n",
       "      <th>movie_release_year</th>\n",
       "      <th>movie_imdb_id</th>\n",
       "    </tr>\n",
       "  </thead>\n",
       "  <tbody>\n",
       "    <tr>\n",
       "      <th>194219</th>\n",
       "      <td>10955</td>\n",
       "      <td>12837</td>\n",
       "      <td>[salman khan]</td>\n",
       "      <td>1</td>\n",
       "      <td>2016-05-06 21:24:11</td>\n",
       "      <td>2016</td>\n",
       "      <td>146400</td>\n",
       "      <td>18555</td>\n",
       "      <td>Har Dil Jo Pyar Karega...</td>\n",
       "      <td>[(no genres listed)]</td>\n",
       "      <td>True</td>\n",
       "      <td>hi</td>\n",
       "      <td>Raj is a struggling singer with big dreams, wh...</td>\n",
       "      <td>[salman khan]</td>\n",
       "      <td>2000</td>\n",
       "      <td>250415</td>\n",
       "    </tr>\n",
       "  </tbody>\n",
       "</table>\n",
       "</div>"
      ],
      "text/plain": [
       "        user_id  user_seq user_movie_tags  user_movie_rating  \\\n",
       "194219    10955     12837   [salman khan]                  1   \n",
       "\n",
       "       user_movie_rating_timestamp  user_movie_rating_year  movie_id  \\\n",
       "194219         2016-05-06 21:24:11                    2016    146400   \n",
       "\n",
       "        movie_seq                 movie_title          movie_genres  \\\n",
       "194219      18555  Har Dil Jo Pyar Karega...   [(no genres listed)]   \n",
       "\n",
       "        movie_for_adults movie_original_language  \\\n",
       "194219              True                      hi   \n",
       "\n",
       "                                           movie_overview     movie_tags  \\\n",
       "194219  Raj is a struggling singer with big dreams, wh...  [salman khan]   \n",
       "\n",
       "        movie_release_year  movie_imdb_id  \n",
       "194219                2000         250415  "
      ]
     },
     "execution_count": 7,
     "metadata": {},
     "output_type": "execute_result"
    }
   ],
   "source": [
    "dataset.data[dataset.data.user_id == 10955]"
   ]
  },
  {
   "cell_type": "code",
   "execution_count": 8,
   "id": "db882c52-d1ba-4cca-bb0f-8144672ea2d1",
   "metadata": {
    "tags": []
   },
   "outputs": [
    {
     "data": {
      "text/html": [
       "<div>\n",
       "<style scoped>\n",
       "    .dataframe tbody tr th:only-of-type {\n",
       "        vertical-align: middle;\n",
       "    }\n",
       "\n",
       "    .dataframe tbody tr th {\n",
       "        vertical-align: top;\n",
       "    }\n",
       "\n",
       "    .dataframe thead th {\n",
       "        text-align: right;\n",
       "    }\n",
       "</style>\n",
       "<table border=\"1\" class=\"dataframe\">\n",
       "  <thead>\n",
       "    <tr style=\"text-align: right;\">\n",
       "      <th></th>\n",
       "      <th>user_id</th>\n",
       "      <th>user_seq</th>\n",
       "      <th>user_movie_tags</th>\n",
       "      <th>user_movie_rating</th>\n",
       "      <th>user_movie_rating_timestamp</th>\n",
       "      <th>user_movie_rating_year</th>\n",
       "      <th>movie_id</th>\n",
       "      <th>movie_seq</th>\n",
       "      <th>movie_title</th>\n",
       "      <th>movie_genres</th>\n",
       "      <th>movie_for_adults</th>\n",
       "      <th>movie_original_language</th>\n",
       "      <th>movie_overview</th>\n",
       "      <th>movie_tags</th>\n",
       "      <th>movie_release_year</th>\n",
       "      <th>movie_imdb_id</th>\n",
       "    </tr>\n",
       "  </thead>\n",
       "  <tbody>\n",
       "    <tr>\n",
       "      <th>194157</th>\n",
       "      <td>24853</td>\n",
       "      <td>12667</td>\n",
       "      <td>[bizarre, drama, good photography, indie, young]</td>\n",
       "      <td>5</td>\n",
       "      <td>2016-04-03 19:09:38</td>\n",
       "      <td>2016</td>\n",
       "      <td>128727</td>\n",
       "      <td>18495</td>\n",
       "      <td>Bizarre</td>\n",
       "      <td>[(no genres listed)]</td>\n",
       "      <td>True</td>\n",
       "      <td>en</td>\n",
       "      <td>Maurice, a reticent young homeless man, someho...</td>\n",
       "      <td>[bizarre, drama, good photography, indie, young]</td>\n",
       "      <td>2015</td>\n",
       "      <td>3904272</td>\n",
       "    </tr>\n",
       "  </tbody>\n",
       "</table>\n",
       "</div>"
      ],
      "text/plain": [
       "        user_id  user_seq                                   user_movie_tags  \\\n",
       "194157    24853     12667  [bizarre, drama, good photography, indie, young]   \n",
       "\n",
       "        user_movie_rating user_movie_rating_timestamp  user_movie_rating_year  \\\n",
       "194157                  5         2016-04-03 19:09:38                    2016   \n",
       "\n",
       "        movie_id  movie_seq movie_title          movie_genres  \\\n",
       "194157    128727      18495    Bizarre   [(no genres listed)]   \n",
       "\n",
       "        movie_for_adults movie_original_language  \\\n",
       "194157              True                      en   \n",
       "\n",
       "                                           movie_overview  \\\n",
       "194157  Maurice, a reticent young homeless man, someho...   \n",
       "\n",
       "                                              movie_tags  movie_release_year  \\\n",
       "194157  [bizarre, drama, good photography, indie, young]                2015   \n",
       "\n",
       "        movie_imdb_id  \n",
       "194157        3904272  "
      ]
     },
     "execution_count": 8,
     "metadata": {},
     "output_type": "execute_result"
    }
   ],
   "source": [
    "dataset.data[dataset.data.user_id == 24853]"
   ]
  },
  {
   "cell_type": "code",
   "execution_count": 9,
   "id": "04a7f5fc-6d49-4515-839a-ced5c0b8ca0e",
   "metadata": {
    "tags": []
   },
   "outputs": [],
   "source": [
    "df = ut.embedding_from_list_col(\n",
    "    dataset.data, \n",
    "    'user_id', \n",
    "    'movie_genres', \n",
    "    exclude=['(no genres listed)']\n",
    ")"
   ]
  },
  {
   "cell_type": "code",
   "execution_count": 10,
   "id": "6df72674-b81d-43b6-a740-6f08502f2d1e",
   "metadata": {
    "tags": []
   },
   "outputs": [],
   "source": [
    "ut.save_df(df, f'{DATASET_PATH}/user-genre-freq-embedding.json')"
   ]
  },
  {
   "cell_type": "code",
   "execution_count": 11,
   "id": "75de63ae-b638-40a0-8600-8a9c01f60366",
   "metadata": {},
   "outputs": [
    {
     "data": {
      "application/vnd.jupyter.widget-view+json": {
       "model_id": "6fa038a8bfc04f92991157291503278f",
       "version_major": 2,
       "version_minor": 0
      },
      "text/plain": [
       "Insert Embeddings:   0%|          | 0/13000 [00:00<?, ?it/s]"
      ]
     },
     "metadata": {},
     "output_type": "display_data"
    }
   ],
   "source": [
    "repository = RepositoryFactory().create(\n",
    "    name          = 'user-genre-freq-embedding',\n",
    "    file_path     = f'{DATASET_PATH}/user-genre-freq-embedding.json',\n",
    "    metadata_cols = ['user_id'],\n",
    "    embedding_col = 'movie_genres_embedding',\n",
    "    id_col        = 'user_id'\n",
    ")\n"
   ]
  },
  {
   "cell_type": "code",
   "execution_count": 12,
   "id": "615b4c6f-14c1-468a-89ae-5c4b3ab0a7b6",
   "metadata": {
    "tags": []
   },
   "outputs": [],
   "source": [
    "recommender = rc.EmbCBFilteringRecommender('genres', repository, dataset)"
   ]
  },
  {
   "cell_type": "code",
   "execution_count": 13,
   "id": "f904d6b2-82e6-462d-b788-b2173d59d9f2",
   "metadata": {
    "tags": []
   },
   "outputs": [
    {
     "name": "stdout",
     "output_type": "stream",
     "text": [
      "\n",
      "Recommender: genres-cb-recommender\n",
      "\n"
     ]
    },
    {
     "data": {
      "text/html": [
       "<table border=\"1\" class=\"dataframe\">\n",
       "  <thead>\n",
       "    <tr style=\"text-align: right;\">\n",
       "      <th></th>\n",
       "      <th>Rating</th>\n",
       "      <th>Movies</th>\n",
       "      <th>movie_genres</th>\n",
       "      <th>movie_release_year</th>\n",
       "    </tr>\n",
       "  </thead>\n",
       "  <tbody>\n",
       "    <tr>\n",
       "      <th>0</th>\n",
       "      <td>5.0</td>\n",
       "      <td><img src=\"https://m.media-amazon.com/images/M/MV5BZWM2MTcyMDgtZTZkNS00NTg5LWIwNzEtMmY1Y2I1MTZjYTE0XkEyXkFqcGdeQXVyMTMxODk2OTU@._V1_SX300.jpg\" width=\"300\" ></td>\n",
       "      <td>[Action]</td>\n",
       "      <td>2010</td>\n",
       "    </tr>\n",
       "    <tr>\n",
       "      <th>16</th>\n",
       "      <td>5.0</td>\n",
       "      <td><img src=\"https://m.media-amazon.com/images/M/MV5BMTM3NDQ1MjE2OF5BMl5BanBnXkFtZTcwNDIxNTk2Mw@@._V1_SX300.jpg\" width=\"300\" ></td>\n",
       "      <td>[Drama, Romance, Sci-Fi]</td>\n",
       "      <td>2010</td>\n",
       "    </tr>\n",
       "    <tr>\n",
       "      <th>79</th>\n",
       "      <td>5.0</td>\n",
       "      <td><img src=\"https://m.media-amazon.com/images/M/MV5BMTg5MTc5MTM3Ml5BMl5BanBnXkFtZTcwMDI2NzgwNA@@._V1_SX300.jpg\" width=\"300\" ></td>\n",
       "      <td>[Drama]</td>\n",
       "      <td>2010</td>\n",
       "    </tr>\n",
       "    <tr>\n",
       "      <th>101</th>\n",
       "      <td>5.0</td>\n",
       "      <td><img src=\"https://m.media-amazon.com/images/M/MV5BMTY0MTc3MzMzNV5BMl5BanBnXkFtZTcwNDE4MjE0NA@@._V1_SX300.jpg\" width=\"300\" ></td>\n",
       "      <td>[Action, Drama, Mystery, Sci-Fi, Thriller]</td>\n",
       "      <td>2011</td>\n",
       "    </tr>\n",
       "    <tr>\n",
       "      <th>274</th>\n",
       "      <td>5.0</td>\n",
       "      <td><img src=\"https://m.media-amazon.com/images/M/MV5BMTczNDk4NTQ0OV5BMl5BanBnXkFtZTcwNDAxMDgxNw@@._V1_SX300.jpg\" width=\"300\" ></td>\n",
       "      <td>[Drama, Thriller]</td>\n",
       "      <td>2011</td>\n",
       "    </tr>\n",
       "    <tr>\n",
       "      <th>369</th>\n",
       "      <td>5.0</td>\n",
       "      <td><img src=\"https://m.media-amazon.com/images/M/MV5BY2UyNDM1ZmUtM2E4Mi00ZDEzLWFhMTEtOGVlYjQ2NDZiYjg3XkEyXkFqcGdeQXVyNzI1NzMxNzM@._V1_SX300.jpg\" width=\"300\" ></td>\n",
       "      <td>[Action, Crime]</td>\n",
       "      <td>2011</td>\n",
       "    </tr>\n",
       "    <tr>\n",
       "      <th>414</th>\n",
       "      <td>5.0</td>\n",
       "      <td><img src=\"https://m.media-amazon.com/images/M/MV5BMWZiNjE2OWItMTkwNy00ZWQzLWI0NTgtMWE0NjNiYTljN2Q1XkEyXkFqcGdeQXVyNzAwMjYxMzA@._V1_SX300.jpg\" width=\"300\" ></td>\n",
       "      <td>[Action, Adventure, Thriller, IMAX]</td>\n",
       "      <td>2012</td>\n",
       "    </tr>\n",
       "    <tr>\n",
       "      <th>519</th>\n",
       "      <td>5.0</td>\n",
       "      <td><img src=\"https://m.media-amazon.com/images/M/MV5BMTM3NjQyODI3M15BMl5BanBnXkFtZTcwMDM4NjM0OA@@._V1_SX300.jpg\" width=\"300\" ></td>\n",
       "      <td>[Animation, Children, Comedy]</td>\n",
       "      <td>2012</td>\n",
       "    </tr>\n",
       "    <tr>\n",
       "      <th>541</th>\n",
       "      <td>5.0</td>\n",
       "      <td><img src=\"https://m.media-amazon.com/images/M/MV5BODAwNDI5NjIwN15BMl5BanBnXkFtZTcwNjc4ODc2OA@@._V1_SX300.jpg\" width=\"300\" ></td>\n",
       "      <td>[Drama]</td>\n",
       "      <td>2012</td>\n",
       "    </tr>\n",
       "    <tr>\n",
       "      <th>551</th>\n",
       "      <td>5.0</td>\n",
       "      <td><img src=\"https://m.media-amazon.com/images/M/MV5BNDUzZjIxODUtNzM1MC00YjM1LTllYzItMzc3NTBhZDI4MmU5XkEyXkFqcGdeQXVyMjMwNjYyMzE@._V1_SX300.jpg\" width=\"300\" ></td>\n",
       "      <td>[Comedy]</td>\n",
       "      <td>2014</td>\n",
       "    </tr>\n",
       "  </tbody>\n",
       "</table>"
      ],
      "text/plain": [
       "<IPython.core.display.HTML object>"
      ]
     },
     "metadata": {},
     "output_type": "display_data"
    }
   ],
   "source": [
    "recommender.recommend(6550).show()"
   ]
  },
  {
   "cell_type": "code",
   "execution_count": 14,
   "id": "14b33485-6f4e-4e45-abd0-fc275a468a36",
   "metadata": {
    "tags": []
   },
   "outputs": [
    {
     "name": "stdout",
     "output_type": "stream",
     "text": [
      "\n",
      "Recommender: genres-cb-recommender\n",
      "\n"
     ]
    },
    {
     "data": {
      "text/html": [
       "<table border=\"1\" class=\"dataframe\">\n",
       "  <thead>\n",
       "    <tr style=\"text-align: right;\">\n",
       "      <th></th>\n",
       "      <th>Rating</th>\n",
       "      <th>Movies</th>\n",
       "      <th>movie_genres</th>\n",
       "      <th>movie_release_year</th>\n",
       "    </tr>\n",
       "  </thead>\n",
       "  <tbody>\n",
       "    <tr>\n",
       "      <th>0</th>\n",
       "      <td>4.985932</td>\n",
       "      <td><img src=\"https://m.media-amazon.com/images/M/MV5BMjEwNDQ3MzYyOV5BMl5BanBnXkFtZTgwNDE0ODM3MDE@._V1_SX300.jpg\" width=\"300\" ></td>\n",
       "      <td>[Drama]</td>\n",
       "      <td>2014</td>\n",
       "    </tr>\n",
       "    <tr>\n",
       "      <th>12</th>\n",
       "      <td>4.985932</td>\n",
       "      <td><img src=\"https://m.media-amazon.com/images/M/MV5BMTU5MjMyODcxMF5BMl5BanBnXkFtZTgwMzIwMDM2NDE@._V1_SX300.jpg\" width=\"300\" ></td>\n",
       "      <td>[Comedy, Drama, War]</td>\n",
       "      <td>2015</td>\n",
       "    </tr>\n",
       "    <tr>\n",
       "      <th>17</th>\n",
       "      <td>4.983177</td>\n",
       "      <td><img src=\"https://m.media-amazon.com/images/M/MV5BM2Y0YjBiNjAtZjMwZS00ZGY4LWE0MWItMGE5MWI3ZWRmODAyXkEyXkFqcGdeQXVyMjM5NDU5ODY@._V1_SX300.jpg\" width=\"300\" ></td>\n",
       "      <td>[Animation, Comedy, Drama, Fantasy, Sci-Fi]</td>\n",
       "      <td>2012</td>\n",
       "    </tr>\n",
       "    <tr>\n",
       "      <th>32</th>\n",
       "      <td>4.983177</td>\n",
       "      <td><img src=\"https://m.media-amazon.com/images/M/MV5BYzhjNzI0NWEtMzEyYy00OGViLThhMjctMWQxNGQ3Y2IzOTY4XkEyXkFqcGdeQXVyNjAwNDUxODI@._V1_SX300.jpg\" width=\"300\" ></td>\n",
       "      <td>[Adventure, Animation, Drama]</td>\n",
       "      <td>2014</td>\n",
       "    </tr>\n",
       "    <tr>\n",
       "      <th>51</th>\n",
       "      <td>4.980317</td>\n",
       "      <td><img src=\"https://m.media-amazon.com/images/M/MV5BMGFkNTZiMzAtNWYxYi00ZDc1LTk5NTMtYzVjNmVmMWY3ZWVhXkEyXkFqcGdeQXVyMzE2ODIxNA@@._V1_SX300.jpg\" width=\"300\" ></td>\n",
       "      <td>[Comedy]</td>\n",
       "      <td>2011</td>\n",
       "    </tr>\n",
       "    <tr>\n",
       "      <th>52</th>\n",
       "      <td>4.980317</td>\n",
       "      <td><img src=\"https://m.media-amazon.com/images/M/MV5BNjg3MTgxNjA2NV5BMl5BanBnXkFtZTgwOTczNDY5NjE@._V1_SX300.jpg\" width=\"300\" ></td>\n",
       "      <td>[Drama, War]</td>\n",
       "      <td>2015</td>\n",
       "    </tr>\n",
       "    <tr>\n",
       "      <th>53</th>\n",
       "      <td>4.236666</td>\n",
       "      <td><img src=\"https://m.media-amazon.com/images/M/MV5BMTUxNzc0OTIxMV5BMl5BanBnXkFtZTgwNDI3NzU2NDE@._V1_SX300.jpg\" width=\"300\" ></td>\n",
       "      <td>[Drama, Sci-Fi, Thriller]</td>\n",
       "      <td>2015</td>\n",
       "    </tr>\n",
       "    <tr>\n",
       "      <th>357</th>\n",
       "      <td>4.000000</td>\n",
       "      <td><img src=\"https://m.media-amazon.com/images/M/MV5BMTc1MjgxNDU5OV5BMl5BanBnXkFtZTgwMTcwMzQ4MDE@._V1_SX300.jpg\" width=\"300\" ></td>\n",
       "      <td>[Documentary]</td>\n",
       "      <td>2013</td>\n",
       "    </tr>\n",
       "    <tr>\n",
       "      <th>365</th>\n",
       "      <td>4.000000</td>\n",
       "      <td><img src=\"https://m.media-amazon.com/images/M/MV5BMTc3MjQ1MjE2M15BMl5BanBnXkFtZTgwNTMzNjE4MTE@._V1_SX300.jpg\" width=\"300\" ></td>\n",
       "      <td>[Comedy, Drama]</td>\n",
       "      <td>2014</td>\n",
       "    </tr>\n",
       "    <tr>\n",
       "      <th>393</th>\n",
       "      <td>4.000000</td>\n",
       "      <td><img src=\"https://m.media-amazon.com/images/M/MV5BMTUxNzg3Mzc3NV5BMl5BanBnXkFtZTgwMDI2ODIwNzE@._V1_SX300.jpg\" width=\"300\" ></td>\n",
       "      <td>[Documentary, Western]</td>\n",
       "      <td>2015</td>\n",
       "    </tr>\n",
       "  </tbody>\n",
       "</table>"
      ],
      "text/plain": [
       "<IPython.core.display.HTML object>"
      ]
     },
     "metadata": {},
     "output_type": "display_data"
    }
   ],
   "source": [
    "recommender.recommend(62199).show()"
   ]
  },
  {
   "cell_type": "code",
   "execution_count": 15,
   "id": "494b3695-1aef-45ac-b09b-b5d07df28c44",
   "metadata": {
    "tags": []
   },
   "outputs": [
    {
     "name": "stdout",
     "output_type": "stream",
     "text": [
      "\n",
      "Recommender: genres-cb-recommender\n",
      "\n"
     ]
    },
    {
     "data": {
      "text/html": [
       "<table border=\"1\" class=\"dataframe\">\n",
       "  <thead>\n",
       "    <tr style=\"text-align: right;\">\n",
       "      <th></th>\n",
       "      <th>Rating</th>\n",
       "      <th>Movies</th>\n",
       "      <th>movie_genres</th>\n",
       "      <th>movie_release_year</th>\n",
       "    </tr>\n",
       "  </thead>\n",
       "  <tbody>\n",
       "    <tr>\n",
       "      <th>0</th>\n",
       "      <td>4.982299</td>\n",
       "      <td><img src=\"https://m.media-amazon.com/images/M/MV5BNjk3MGZhMjEtOTM4NC00NzE2LTk2NzctZDc4YTUwN2E3NDhhXkEyXkFqcGdeQXVyNDc2NjEyMw@@._V1_SX300.jpg\" width=\"300\" ></td>\n",
       "      <td>[Action, Adventure, Sci-Fi]</td>\n",
       "      <td>2014</td>\n",
       "    </tr>\n",
       "    <tr>\n",
       "      <th>72</th>\n",
       "      <td>4.982299</td>\n",
       "      <td><img src=\"https://m.media-amazon.com/images/M/MV5BMDliOTIzNmUtOTllOC00NDU3LWFiNjYtMGM0NDc1YTMxNjYxXkEyXkFqcGdeQXVyNTM3NzExMDQ@._V1_SX300.jpg\" width=\"300\" ></td>\n",
       "      <td>[Action, Animation, Comedy]</td>\n",
       "      <td>2014</td>\n",
       "    </tr>\n",
       "    <tr>\n",
       "      <th>190</th>\n",
       "      <td>4.979830</td>\n",
       "      <td><img src=\"https://m.media-amazon.com/images/M/MV5BMjEwNDQ3MzYyOV5BMl5BanBnXkFtZTgwNDE0ODM3MDE@._V1_SX300.jpg\" width=\"300\" ></td>\n",
       "      <td>[Drama]</td>\n",
       "      <td>2014</td>\n",
       "    </tr>\n",
       "    <tr>\n",
       "      <th>202</th>\n",
       "      <td>4.979830</td>\n",
       "      <td><img src=\"https://m.media-amazon.com/images/M/MV5BMTU5MjMyODcxMF5BMl5BanBnXkFtZTgwMzIwMDM2NDE@._V1_SX300.jpg\" width=\"300\" ></td>\n",
       "      <td>[Comedy, Drama, War]</td>\n",
       "      <td>2015</td>\n",
       "    </tr>\n",
       "    <tr>\n",
       "      <th>207</th>\n",
       "      <td>4.979760</td>\n",
       "      <td><img src=\"https://m.media-amazon.com/images/M/MV5BNzMxNTExOTkyMF5BMl5BanBnXkFtZTcwMzEyNDc0OA@@._V1_SX300.jpg\" width=\"300\" ></td>\n",
       "      <td>[Animation, Comedy]</td>\n",
       "      <td>2012</td>\n",
       "    </tr>\n",
       "    <tr>\n",
       "      <th>289</th>\n",
       "      <td>4.979760</td>\n",
       "      <td><img src=\"https://m.media-amazon.com/images/M/MV5BMTYwMTA4MzgyNF5BMl5BanBnXkFtZTgwMjEyMjE0MDE@._V1_SX300.jpg\" width=\"300\" ></td>\n",
       "      <td>[Drama]</td>\n",
       "      <td>2013</td>\n",
       "    </tr>\n",
       "    <tr>\n",
       "      <th>364</th>\n",
       "      <td>4.979412</td>\n",
       "      <td><img src=\"https://m.media-amazon.com/images/M/MV5BMGVmMWNiMDktYjQ0Mi00MWIxLTk0N2UtN2ZlYTdkN2IzNDNlXkEyXkFqcGdeQXVyODE5NzE3OTE@._V1_SX300.jpg\" width=\"300\" ></td>\n",
       "      <td>[Action, Adventure, Drama, Fantasy, Mystery, IMAX]</td>\n",
       "      <td>2011</td>\n",
       "    </tr>\n",
       "    <tr>\n",
       "      <th>435</th>\n",
       "      <td>4.977702</td>\n",
       "      <td><img src=\"https://m.media-amazon.com/images/M/MV5BMWE3MGYzZjktY2Q5Mi00Y2NiLWIyYWUtMmIyNzA3YmZlMGFhXkEyXkFqcGdeQXVyMTMxODk2OTU@._V1_SX300.jpg\" width=\"300\" ></td>\n",
       "      <td>[Drama, Mystery, War]</td>\n",
       "      <td>2010</td>\n",
       "    </tr>\n",
       "    <tr>\n",
       "      <th>472</th>\n",
       "      <td>4.977702</td>\n",
       "      <td><img src=\"https://m.media-amazon.com/images/M/MV5BMTA5NzQzODUxOTheQTJeQWpwZ15BbWU3MDIwODg1MDc@._V1_SX300.jpg\" width=\"300\" ></td>\n",
       "      <td>[Documentary]</td>\n",
       "      <td>2011</td>\n",
       "    </tr>\n",
       "    <tr>\n",
       "      <th>504</th>\n",
       "      <td>4.977702</td>\n",
       "      <td><img src=\"https://m.media-amazon.com/images/M/MV5BMTU5NzAyMzk1MF5BMl5BanBnXkFtZTgwODE3NjQyNTE@._V1_SX300.jpg\" width=\"300\" ></td>\n",
       "      <td>[Adventure, Comedy, Documentary, Mystery]</td>\n",
       "      <td>2014</td>\n",
       "    </tr>\n",
       "  </tbody>\n",
       "</table>"
      ],
      "text/plain": [
       "<IPython.core.display.HTML object>"
      ]
     },
     "metadata": {},
     "output_type": "display_data"
    }
   ],
   "source": [
    "recommender.recommend(70092).show()"
   ]
  },
  {
   "cell_type": "code",
   "execution_count": null,
   "id": "90b3fd85-cb28-4f5f-acef-b2d659d15023",
   "metadata": {},
   "outputs": [],
   "source": []
  }
 ],
 "metadata": {
  "kernelspec": {
   "display_name": "Python 3 (ipykernel)",
   "language": "python",
   "name": "python3"
  },
  "language_info": {
   "codemirror_mode": {
    "name": "ipython",
    "version": 3
   },
   "file_extension": ".py",
   "mimetype": "text/x-python",
   "name": "python",
   "nbconvert_exporter": "python",
   "pygments_lexer": "ipython3",
   "version": "3.10.12"
  },
  "widgets": {
   "application/vnd.jupyter.widget-state+json": {
    "state": {
     "0523424cd08f4830b23bff5b953f9316": {
      "model_module": "@jupyter-widgets/controls",
      "model_module_version": "2.0.0",
      "model_name": "HTMLModel",
      "state": {
       "layout": "IPY_MODEL_fa3d4a6bebb84ee4af0743052af31589",
       "style": "IPY_MODEL_3dd88f6759b74e28aa6bd1fcef626a4c",
       "value": " 13000/13000 [00:04&lt;00:00, 2900.79it/s]"
      }
     },
     "068d1509ba044fdb9721659000b66514": {
      "model_module": "@jupyter-widgets/controls",
      "model_module_version": "2.0.0",
      "model_name": "HTMLStyleModel",
      "state": {
       "description_width": "",
       "font_size": null,
       "text_color": null
      }
     },
     "3dd88f6759b74e28aa6bd1fcef626a4c": {
      "model_module": "@jupyter-widgets/controls",
      "model_module_version": "2.0.0",
      "model_name": "HTMLStyleModel",
      "state": {
       "description_width": "",
       "font_size": null,
       "text_color": null
      }
     },
     "6fa038a8bfc04f92991157291503278f": {
      "model_module": "@jupyter-widgets/controls",
      "model_module_version": "2.0.0",
      "model_name": "HBoxModel",
      "state": {
       "children": [
        "IPY_MODEL_bf58f344e6ed44d6bb953ba655099371",
        "IPY_MODEL_d9409907a18b440abcb8a6dbba1d8450",
        "IPY_MODEL_0523424cd08f4830b23bff5b953f9316"
       ],
       "layout": "IPY_MODEL_7ae88637ed6848039ea1577e947f2e94"
      }
     },
     "7ae88637ed6848039ea1577e947f2e94": {
      "model_module": "@jupyter-widgets/base",
      "model_module_version": "2.0.0",
      "model_name": "LayoutModel",
      "state": {}
     },
     "bf58f344e6ed44d6bb953ba655099371": {
      "model_module": "@jupyter-widgets/controls",
      "model_module_version": "2.0.0",
      "model_name": "HTMLModel",
      "state": {
       "layout": "IPY_MODEL_c3626e3acf4e41f89f1b6f23efedfe53",
       "style": "IPY_MODEL_068d1509ba044fdb9721659000b66514",
       "value": "Insert Embeddings: 100%"
      }
     },
     "c3626e3acf4e41f89f1b6f23efedfe53": {
      "model_module": "@jupyter-widgets/base",
      "model_module_version": "2.0.0",
      "model_name": "LayoutModel",
      "state": {}
     },
     "c874e81883c74650888e278e0830e4b6": {
      "model_module": "@jupyter-widgets/base",
      "model_module_version": "2.0.0",
      "model_name": "LayoutModel",
      "state": {}
     },
     "d9409907a18b440abcb8a6dbba1d8450": {
      "model_module": "@jupyter-widgets/controls",
      "model_module_version": "2.0.0",
      "model_name": "FloatProgressModel",
      "state": {
       "bar_style": "success",
       "layout": "IPY_MODEL_c874e81883c74650888e278e0830e4b6",
       "max": 13000,
       "style": "IPY_MODEL_e6fb97b779974ec094b8b59e0483327f",
       "value": 13000
      }
     },
     "e6fb97b779974ec094b8b59e0483327f": {
      "model_module": "@jupyter-widgets/controls",
      "model_module_version": "2.0.0",
      "model_name": "ProgressStyleModel",
      "state": {
       "description_width": ""
      }
     },
     "fa3d4a6bebb84ee4af0743052af31589": {
      "model_module": "@jupyter-widgets/base",
      "model_module_version": "2.0.0",
      "model_name": "LayoutModel",
      "state": {}
     }
    },
    "version_major": 2,
    "version_minor": 0
   }
  }
 },
 "nbformat": 4,
 "nbformat_minor": 5
}
